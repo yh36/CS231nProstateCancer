{
 "cells": [
  {
   "cell_type": "markdown",
   "metadata": {},
   "source": [
    "# Please Create Your Own Copy"
   ]
  },
  {
   "cell_type": "code",
   "execution_count": 1,
   "metadata": {},
   "outputs": [],
   "source": [
    "import pandas as pd\n",
    "\n",
    "# https://docs.python.org/3/library/os.path.html\n",
    "import os\n",
    "# https://scikit-image.org/docs/0.7.0/api/skimage.io.html\n",
    "import skimage.io\n",
    "# https://docs.opencv.org/2.4/modules/imgproc/doc/geometric_transformations.html#resize\n",
    "import cv2\n",
    "\n",
    "from PIL import Image\n",
    "\n",
    "# https://github.com/albumentations-team/albumentations\n",
    "#import albumentations"
   ]
  },
  {
   "cell_type": "code",
   "execution_count": 2,
   "metadata": {},
   "outputs": [],
   "source": [
    "CONVERT = False\n",
    "# Paths\n",
    "BASE_PATH = '/project/data'\n",
    "\n",
    "image_dir = f'{BASE_PATH}/train_images'\n",
    "mask_dir = f'{BASE_PATH}/train_label_masks'"
   ]
  },
  {
   "cell_type": "code",
   "execution_count": 3,
   "metadata": {},
   "outputs": [],
   "source": [
    "# Load train dataframes\n",
    "train_df = pd.read_csv(f'{BASE_PATH}/train.csv')"
   ]
  },
  {
   "cell_type": "code",
   "execution_count": 4,
   "metadata": {},
   "outputs": [
    {
     "name": "stdout",
     "output_type": "stream",
     "text": [
      "['0+0' '4+4' '3+3' '4+3' 'negative' '4+5' '3+4' '5+4' '5+5' '5+3' '3+5']\n",
      "[0]\n"
     ]
    }
   ],
   "source": [
    "# Unify the gleason score notations from two providers\n",
    "gleasons = train_df.gleason_score.unique()\n",
    "print(gleasons)\n",
    "print(train_df[train_df.gleason_score=='negative'].isup_grade.unique())\n",
    "# Change 'negative' to '0+0'\n",
    "train_df['gleason_score'] = train_df['gleason_score'].apply(lambda score: '0+0' if score == 'negative' else score)"
   ]
  },
  {
   "cell_type": "code",
   "execution_count": 5,
   "metadata": {},
   "outputs": [
    {
     "name": "stdout",
     "output_type": "stream",
     "text": [
      "gleason 0+0 maps to ISUP [0]\n",
      "gleason 4+4 maps to ISUP [4]\n",
      "gleason 3+3 maps to ISUP [1]\n",
      "gleason 4+3 maps to ISUP [3 2]\n",
      "gleason negative maps to ISUP []\n",
      "gleason 4+5 maps to ISUP [5]\n",
      "gleason 3+4 maps to ISUP [2]\n",
      "gleason 5+4 maps to ISUP [5]\n",
      "gleason 5+5 maps to ISUP [5]\n",
      "gleason 5+3 maps to ISUP [4]\n",
      "gleason 3+5 maps to ISUP [4]\n",
      "Drop mislabeled entries Int64Index([7273], dtype='int64')\n"
     ]
    }
   ],
   "source": [
    "# Check & correct the gleason-ISUP mapping\n",
    "for gleason_score in gleasons:\n",
    "    print(f'gleason {gleason_score} maps to ISUP {train_df[train_df.gleason_score==gleason_score].isup_grade.unique()}')\n",
    "mislabel = train_df[(train_df.gleason_score=='4+3') & (train_df.isup_grade==2)].index\n",
    "print(f'Drop mislabeled entries {mislabel}')\n",
    "train_df.drop(mislabel, inplace=True)"
   ]
  },
  {
   "cell_type": "code",
   "execution_count": 6,
   "metadata": {},
   "outputs": [
    {
     "name": "stdout",
     "output_type": "stream",
     "text": [
      "gleason 0+0 has 2892 samples\n",
      "gleason 4+4 has 1126 samples\n",
      "gleason 3+3 has 2666 samples\n",
      "gleason 4+3 has 1242 samples\n",
      "gleason negative has 0 samples\n",
      "gleason 4+5 has 849 samples\n",
      "gleason 3+4 has 1342 samples\n",
      "gleason 5+4 has 248 samples\n",
      "gleason 5+5 has 127 samples\n",
      "gleason 5+3 has 43 samples\n",
      "gleason 3+5 has 80 samples\n"
     ]
    }
   ],
   "source": [
    "# Number of each gleason_score\n",
    "for gleason_score in gleasons:\n",
    "    print(f'gleason {gleason_score} has {len(train_df[train_df.gleason_score==gleason_score])} samples')\n",
    "\n",
    "# Random choose 200 images from each gleason score\n",
    "# https://note.nkmk.me/en/python-pandas-sample/\n",
    "gleason_dict = {}\n",
    "for gleason_score in gleasons:\n",
    "    sample_num = min(200, len(train_df[train_df.gleason_score == gleason_score]))\n",
    "    gleason_dict[gleason_score] = train_df[train_df.gleason_score == gleason_score].sample(n=sample_num).index"
   ]
  },
  {
   "cell_type": "code",
   "execution_count": 7,
   "metadata": {},
   "outputs": [
    {
     "name": "stdout",
     "output_type": "stream",
     "text": [
      "0\n",
      "4\n",
      "1\n",
      "3\n",
      "5\n",
      "2\n"
     ]
    }
   ],
   "source": [
    "isup_grades = train_df.isup_grade.unique()\n",
    "isup_df = {}\n",
    "for grade in isup_grades:\n",
    "    print(grade)\n",
    "    isup_df[grade] = train_df[train_df.isup_grade==grade]\n",
    "    \n",
    "# https://pythonhealthcare.org/2018/12/22/112-splitting-data-set-into-training-and-test-sets-using-pandas-dataframes-methods/\n",
    "isup_train = {}\n",
    "isup_test = {}\n",
    "for grade in isup_grades:\n",
    "    df = isup_df[grade].copy()\n",
    "    isup_train[grade] = df.sample(frac=0.8, random_state=10)\n",
    "    isup_test[grade] = df.drop(isup_train[grade].index)"
   ]
  },
  {
   "cell_type": "code",
   "execution_count": 8,
   "metadata": {},
   "outputs": [],
   "source": [
    "def png_convert(save_path, img_id):\n",
    "    #img_id = img_df.image_id\n",
    "    img_path = os.path.join(image_dir, f'{img_id}.tiff')\n",
    "    img_data = skimage.io.MultiImage(img_path)\n",
    "    #for img in img_sample:\n",
    "    #    print(img.shape)\n",
    "    if len(img_data) == 0:\n",
    "        print(img_id)\n",
    "        return\n",
    "    img_png = cv2.resize(img_data[-1], (512, 512))\n",
    "    cv2.imwrite(f'{save_path}/{img_id}.png', img_png)"
   ]
  },
  {
   "cell_type": "raw",
   "metadata": {},
   "source": [
    "tmp_path = os.path.join(image_dir, 'bbfc17c7ac58d38b5eaaf72c53ece10d.tiff')\n",
    "tmp_img = skimage.io.MultiImage(tmp_path)\n",
    "print(len(tmp_img))"
   ]
  },
  {
   "cell_type": "code",
   "execution_count": 9,
   "metadata": {},
   "outputs": [],
   "source": [
    "if CONVERT:\n",
    "    # Convert the train dataset\n",
    "    # There exist an empty image inside train dataframes\n",
    "    for grade in isup_grades:\n",
    "        print(grade)\n",
    "        for img_id in isup_train[grade].image_id:\n",
    "            png_convert('yi_data/train_512_512_3', img_id)\n",
    "    # Convert the train dataset\n",
    "    for grade in isup_grades:\n",
    "        print(grade)\n",
    "        for img_id in isup_test[grade].image_id:\n",
    "            png_convert('yi_data/test_512_512_3', img_id)"
   ]
  },
  {
   "cell_type": "code",
   "execution_count": 12,
   "metadata": {},
   "outputs": [],
   "source": [
    "# Drop that empty iamge from training dataset\n",
    "train_df[train_df.image_id == 'bbfc17c7ac58d38b5eaaf72c53ece10d'].index\n",
    "isup_train[0] = isup_train[0].drop(7758)\n",
    "\n",
    "if CONVERT:\n",
    "    # Save split to CSV files\n",
    "    my_train_df = []\n",
    "    my_test_df = []\n",
    "    for grade in isup_grades:\n",
    "        my_train_df.append(isup_train[grade])\n",
    "        my_test_df.append(isup_test[grade])\n",
    "    #print(my_train_df)\n",
    "    pd.concat(my_train_df).to_csv('yi_data/train_512.csv', index=False)\n",
    "    pd.concat(my_test_df).to_csv('yi_data/test_512.csv', index=False)"
   ]
  },
  {
   "cell_type": "raw",
   "metadata": {},
   "source": [
    "# Convert randomly choosed gleason samples to 512x512 PNG\n",
    "for gleason_score in gleasons:\n",
    "    for idx in gleason_dict[gleason_score]:\n",
    "        png_convert(train_df.loc[idx])"
   ]
  },
  {
   "cell_type": "raw",
   "metadata": {},
   "source": [
    "from platform import python_version\n",
    "\n",
    "print(python_version())"
   ]
  }
 ],
 "metadata": {
  "kernelspec": {
   "display_name": "Python 3",
   "language": "python",
   "name": "python3"
  },
  "language_info": {
   "codemirror_mode": {
    "name": "ipython",
    "version": 3
   },
   "file_extension": ".py",
   "mimetype": "text/x-python",
   "name": "python",
   "nbconvert_exporter": "python",
   "pygments_lexer": "ipython3",
   "version": "3.7.4"
  }
 },
 "nbformat": 4,
 "nbformat_minor": 4
}
