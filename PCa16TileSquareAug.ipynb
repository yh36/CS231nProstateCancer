{
 "cells": [
  {
   "cell_type": "code",
   "execution_count": 1,
   "metadata": {},
   "outputs": [],
   "source": [
    "import os\n",
    "import glob\n",
    "import cv2\n",
    "import time\n",
    "import copy\n",
    "import pickle  # Log dictionary data\n",
    "import numpy as np # linear algebra\n",
    "import pandas as pd # data processing, CSV file I/O (e.g. pd.read_csv)\n",
    "import matplotlib.pyplot as plt\n",
    "import seaborn as sn\n",
    "\n",
    "import torch\n",
    "import torch.nn as nn\n",
    "import torch.optim as optim\n",
    "import torch.nn.functional as F # stateless functions\n",
    "import torchvision.transforms as T\n",
    "import torchvision.models as models\n",
    "\n",
    "import multiprocessing\n",
    "# We must import this explicitly, it is not imported by the top-level\n",
    "# multiprocessing module.\n",
    "import multiprocessing.pool\n",
    "\n",
    "from sklearn.model_selection import StratifiedKFold, train_test_split\n",
    "from sklearn.metrics import cohen_kappa_score,confusion_matrix\n",
    "from tqdm.auto import tqdm\n",
    "from torch.utils.data import Dataset, DataLoader, WeightedRandomSampler\n",
    "from datetime import datetime\n",
    "from multiprocessing import Manager\n",
    "from PIL import Image"
   ]
  },
  {
   "cell_type": "code",
   "execution_count": 2,
   "metadata": {},
   "outputs": [],
   "source": [
    "class CFG:\n",
    "    batch_size = 16\n",
    "    debug = False\n",
    "    device = torch.device('cuda')\n",
    "    dtype = torch.float32\n",
    "    epochs = 12\n",
    "    lr = 1e-4\n",
    "    model_name = 'resnet'\n",
    "    num_classes = 6\n",
    "    nworkers = 1\n",
    "    nfolds = 4\n",
    "    seed = 524\n",
    "    test_split = 516\n",
    "    TRAIN = '../yi_data/panda-16x128x128-tiles-data/train/'\n",
    "    LABELS = '../data/train.csv'"
   ]
  },
  {
   "cell_type": "markdown",
   "metadata": {},
   "source": [
    "# Split Data"
   ]
  },
  {
   "cell_type": "code",
   "execution_count": 3,
   "metadata": {},
   "outputs": [
    {
     "data": {
      "text/html": [
       "<div>\n",
       "<style scoped>\n",
       "    .dataframe tbody tr th:only-of-type {\n",
       "        vertical-align: middle;\n",
       "    }\n",
       "\n",
       "    .dataframe tbody tr th {\n",
       "        vertical-align: top;\n",
       "    }\n",
       "\n",
       "    .dataframe thead th {\n",
       "        text-align: right;\n",
       "    }\n",
       "</style>\n",
       "<table border=\"1\" class=\"dataframe\">\n",
       "  <thead>\n",
       "    <tr style=\"text-align: right;\">\n",
       "      <th></th>\n",
       "      <th>image_id</th>\n",
       "      <th>data_provider</th>\n",
       "      <th>isup_grade</th>\n",
       "      <th>gleason_score</th>\n",
       "      <th>split</th>\n",
       "    </tr>\n",
       "  </thead>\n",
       "  <tbody>\n",
       "    <tr>\n",
       "      <th>0</th>\n",
       "      <td>89ce8e0a494db9c7ddc68dbf58729c68</td>\n",
       "      <td>radboud</td>\n",
       "      <td>1</td>\n",
       "      <td>3+3</td>\n",
       "      <td>0</td>\n",
       "    </tr>\n",
       "    <tr>\n",
       "      <th>1</th>\n",
       "      <td>ef9c72d529806d9ba341476d4c159838</td>\n",
       "      <td>radboud</td>\n",
       "      <td>5</td>\n",
       "      <td>5+4</td>\n",
       "      <td>2</td>\n",
       "    </tr>\n",
       "    <tr>\n",
       "      <th>2</th>\n",
       "      <td>139e1e89bca7897799f80da93adcd3c7</td>\n",
       "      <td>karolinska</td>\n",
       "      <td>0</td>\n",
       "      <td>0+0</td>\n",
       "      <td>1</td>\n",
       "    </tr>\n",
       "    <tr>\n",
       "      <th>3</th>\n",
       "      <td>0abc61a1bc7abe47b9e44a9f69979eb0</td>\n",
       "      <td>karolinska</td>\n",
       "      <td>2</td>\n",
       "      <td>3+4</td>\n",
       "      <td>3</td>\n",
       "    </tr>\n",
       "    <tr>\n",
       "      <th>4</th>\n",
       "      <td>fe7812f20a38495743cf7bf7f811c108</td>\n",
       "      <td>karolinska</td>\n",
       "      <td>1</td>\n",
       "      <td>3+3</td>\n",
       "      <td>1</td>\n",
       "    </tr>\n",
       "  </tbody>\n",
       "</table>\n",
       "</div>"
      ],
      "text/plain": [
       "                           image_id data_provider  isup_grade gleason_score  \\\n",
       "0  89ce8e0a494db9c7ddc68dbf58729c68       radboud           1           3+3   \n",
       "1  ef9c72d529806d9ba341476d4c159838       radboud           5           5+4   \n",
       "2  139e1e89bca7897799f80da93adcd3c7    karolinska           0           0+0   \n",
       "3  0abc61a1bc7abe47b9e44a9f69979eb0    karolinska           2           3+4   \n",
       "4  fe7812f20a38495743cf7bf7f811c108    karolinska           1           3+3   \n",
       "\n",
       "   split  \n",
       "0      0  \n",
       "1      2  \n",
       "2      1  \n",
       "3      3  \n",
       "4      1  "
      ]
     },
     "execution_count": 3,
     "metadata": {},
     "output_type": "execute_result"
    }
   ],
   "source": [
    "train = pd.read_csv(CFG.LABELS).set_index('image_id')\n",
    "files = sorted(set([p[:32] for p in os.listdir(CFG.TRAIN)]))\n",
    "train = train.loc[files].reset_index()\n",
    "\n",
    "train, test = train_test_split(train, test_size=CFG.test_split, random_state=CFG.seed)\n",
    "train = train.reset_index(drop=True)\n",
    "test = test.reset_index(drop=True)\n",
    "\n",
    "if CFG.debug:\n",
    "    df = train.sample(n=50, random_state=CFG.seed).copy()\n",
    "else:\n",
    "    df = train.copy()\n",
    "\n",
    "# Generate train/validation sets containing the same distribution of isup_grade\n",
    "splits = StratifiedKFold(n_splits=CFG.nfolds, random_state=CFG.seed, shuffle=True)\n",
    "splits = list(splits.split(df,df.isup_grade))\n",
    "# Assign split index to training samples\n",
    "folds_splits = np.zeros(len(df)).astype(np.int)\n",
    "for i in range(CFG.nfolds):\n",
    "    folds_splits[splits[i][1]] = i\n",
    "df['split'] = folds_splits\n",
    "df.head()"
   ]
  },
  {
   "cell_type": "code",
   "execution_count": 4,
   "metadata": {},
   "outputs": [],
   "source": [
    "# https://www.kaggle.com/yasufuminakama/panda-se-resnext50-regression-baseline\n",
    "class TrainDataset(Dataset):\n",
    "    \"\"\"Prostate Cancer Biopsy Dataset\"\"\"\n",
    "    \n",
    "    def __init__(self, df, labels, transform=None):\n",
    "        \"\"\"\n",
    "        Args:\n",
    "            csv_file (string): Path to the csv file\n",
    "            root_dir (string): Path to the directory with all images\n",
    "            transform (callable, optional): Optional transform to be applied on an image sample\n",
    "        \"\"\"\n",
    "        # Shuffle dataframes with fixed seed; otherwise, validation set only get cancerous samples\n",
    "        self.df = df\n",
    "        self.labels = labels\n",
    "        self.transform = transform\n",
    "        # For weighted sampler\n",
    "        class_counts = [len(labels[labels==g]) for g in range(CFG.num_classes)]\n",
    "        self.num_samples = sum(class_counts)\n",
    "        class_weights = [self.num_samples/class_counts[i] for i in range(len(class_counts))]\n",
    "        self.weights = [class_weights[labels[i]] for i in range(self.num_samples)]\n",
    "        \n",
    "    def __len__(self):\n",
    "        return len(self.df)\n",
    "    \n",
    "    def __getitem__(self, idx):\n",
    "        #worker = torch.utils.data.get_worker_info()\n",
    "        #worker_id = worker.id if worker is not None else -1\n",
    "        #start = time.time()\n",
    "        # https://stackoverflow.com/questions/33369832/read-multiple-images-on-a-folder-in-opencv-python\n",
    "        img_fns = [fn for fn in glob.glob(f\"{CFG.TRAIN}/{self.df['image_id'][idx]}_*.png\")]\n",
    "        imgs = [cv2.imread(fn) for fn in img_fns]\n",
    "        # (D,W,H)\n",
    "        img = cv2.hconcat([cv2.vconcat([imgs[0], imgs[1], imgs[2], imgs[3]]),\n",
    "                           cv2.vconcat([imgs[4], imgs[5], imgs[6], imgs[7]]),\n",
    "                           cv2.vconcat([imgs[8], imgs[9], imgs[10], imgs[11]]),\n",
    "                           cv2.vconcat([imgs[12], imgs[13], imgs[14], imgs[15]])])\n",
    "        img = Image.fromarray(img)\n",
    "        \n",
    "        if self.transform:\n",
    "            img = self.transform(img)\n",
    "            \n",
    "        label = self.labels[idx]\n",
    "        #end = time.time()\n",
    "        return img, label"
   ]
  },
  {
   "cell_type": "markdown",
   "metadata": {},
   "source": [
    "## Transforms"
   ]
  },
  {
   "cell_type": "code",
   "execution_count": 5,
   "metadata": {},
   "outputs": [],
   "source": [
    "def get_transforms(phase):\n",
    "    assert phase in {'train', 'val'}\n",
    "    \n",
    "    if phase == 'train':\n",
    "        return T.Compose([\n",
    "            T.RandomHorizontalFlip(),\n",
    "            T.RandomVerticalFlip(),\n",
    "            T.RandomRotation(15, fill=255),\n",
    "            T.ToTensor(),\n",
    "            T.Normalize(\n",
    "                mean=[0.8776, 0.8186, 0.9090],\n",
    "                std=[0.1659, 0.2507, 0.1357],\n",
    "            ),\n",
    "        ])\n",
    "    else:\n",
    "        return T.Compose([\n",
    "            T.ToTensor(),\n",
    "            T.Normalize(\n",
    "                mean=[0.8776, 0.8186, 0.9090],\n",
    "                std=[0.1659, 0.2507, 0.1357],\n",
    "            ),\n",
    "        ])"
   ]
  },
  {
   "cell_type": "code",
   "execution_count": 6,
   "metadata": {},
   "outputs": [],
   "source": [
    "# Use fold idx as validation set\n",
    "def data_loader(fold_idx):\n",
    "    train_idx = df[df['split'] != fold_idx].index\n",
    "    val_idx = df[df['split'] == fold_idx].index\n",
    "\n",
    "    train_dataset = TrainDataset(df.loc[train_idx].reset_index(drop=True),\n",
    "                                 df.loc[train_idx].reset_index(drop=True)['isup_grade'],\n",
    "                                 transform = get_transforms(phase='train'))\n",
    "    val_dataset = TrainDataset(df.loc[val_idx].reset_index(drop=True),\n",
    "                               df.loc[val_idx].reset_index(drop=True)['isup_grade'],\n",
    "                               transform = get_transforms(phase='val'))\n",
    "    \n",
    "    train_sampler = WeightedRandomSampler(weights=train_dataset.weights, num_samples=train_dataset.num_samples)\n",
    "    train_loader = DataLoader(train_dataset, batch_size=CFG.batch_size, sampler=train_sampler, num_workers=CFG.nworkers)\n",
    "    val_loader = DataLoader(val_dataset, batch_size=CFG.batch_size, shuffle=False, num_workers=CFG.nworkers)\n",
    "    return train_loader, val_loader"
   ]
  },
  {
   "cell_type": "code",
   "execution_count": 7,
   "metadata": {},
   "outputs": [],
   "source": [
    "def train_model(model, fold, dataloaders, criterion, optimizer, scheduler, num_epochs=25):\n",
    "    since = time.time()\n",
    "    \n",
    "    # Send the model to GPU/CPU\n",
    "    model = model.to(device=CFG.device)\n",
    "    \n",
    "    train_acc_history = []\n",
    "    val_acc_history = []\n",
    "    loss_history = []\n",
    "    \n",
    "    best_model_wts = copy.deepcopy(model.state_dict())\n",
    "    best_acc = 0.0\n",
    "    \n",
    "    for epoch in range(num_epochs):\n",
    "        \n",
    "        # Each epoch has a training and validation phase\n",
    "        for phase in ['train', 'val']:\n",
    "            if phase == 'train':\n",
    "                model.train()   # Set model to training phase\n",
    "            else:\n",
    "                # Skip evaluation for test dataset except for the last epoch\n",
    "                if (len(dataloaders[phase].dataset) != CFG.test_split) or (num_epochs == epoch+1):\n",
    "                    model.eval()    # Set model to evaluate phase\n",
    "                else:\n",
    "                    continue\n",
    "            \n",
    "            avg_loss = 0.0\n",
    "            running_corrects = 0\n",
    "            \n",
    "            print(' ', end='', flush=True)  # To workaround tqdm issue in multiprocess\n",
    "            for inputs, labels in tqdm(dataloaders[phase],\n",
    "                                       desc='[{}] {}/{}({:5s})'.format(fold, epoch+1,num_epochs,phase)):\n",
    "                inputs = inputs.to(device=CFG.device, dtype=CFG.dtype)\n",
    "                labels = labels.to(device=CFG.device, dtype=torch.long)\n",
    "                #print(labels)\n",
    "                \n",
    "                # Zero the parameter gradients\n",
    "                optimizer.zero_grad()\n",
    "                \n",
    "                # Forward, track history if only in training\n",
    "                with torch.set_grad_enabled(phase == 'train'):\n",
    "                    outputs = model(inputs)\n",
    "                    loss = criterion(outputs, labels)\n",
    "                    \n",
    "                    pred = torch.argmax(outputs, 1)\n",
    "\n",
    "                    # Backward + optimize only if in training phase\n",
    "                    if phase == 'train':\n",
    "                        loss.backward()\n",
    "                        optimizer.step()\n",
    "                    \n",
    "                # Statistics\n",
    "                avg_loss += loss.item()*(inputs.size(0)/len(dataloaders[phase].dataset))  # len(dataloaders[phase].dataset) not len(dataloaders[phase])\n",
    "                running_corrects += torch.sum(pred == labels)\n",
    "            \n",
    "            # End of epoch\n",
    "            with torch.no_grad():\n",
    "                epoch_acc = running_corrects.double() / len(dataloaders[phase].dataset)\n",
    "\n",
    "                if phase == 'val':\n",
    "                    val_acc_history.append(epoch_acc)\n",
    "                    # deep copy the model\n",
    "                    if epoch_acc > best_acc:\n",
    "                        best_acc = epoch_acc\n",
    "                        best_model_wts = copy.deepcopy(model.state_dict())\n",
    "                    # Apply lr_scheduler\n",
    "                    if scheduler is not None:\n",
    "                        scheduler.step(avg_loss)\n",
    "                else:\n",
    "                    train_acc_history.append(epoch_acc)\n",
    "                    loss_history.append(avg_loss)\n",
    "                print('[{}] {} Loss: {:4f} Acc: {:4f}'.format(fold, phase, avg_loss, epoch_acc))\n",
    "    \n",
    "    time_elapsed = time.time() - since\n",
    "    print('[{}] Training complete in {:.0f}m {:0f}s'.format(fold, time_elapsed//60, time_elapsed%60))\n",
    "    print('[{}] Best val Acc: {:4f}'.format(fold, best_acc))\n",
    "    print()\n",
    "    \n",
    "    model.load_state_dict(best_model_wts)\n",
    "                      \n",
    "    return model, loss_history, train_acc_history, val_acc_history"
   ]
  },
  {
   "cell_type": "code",
   "execution_count": 8,
   "metadata": {},
   "outputs": [],
   "source": [
    "\"\"\"Multiprocessing\n",
    "\"\"\"\n",
    "class NoDaemonProcess(multiprocessing.Process):\n",
    "    # make 'daemon' attribute always return False\n",
    "    def _get_daemon(self):\n",
    "        return False\n",
    "    def _set_daemon(self, value):\n",
    "        pass\n",
    "    daemon = property(_get_daemon, _set_daemon)\n",
    "\n",
    "# We sub-class multiprocessing.pool.Pool instead of multiprocessing.Pool\n",
    "# because the latter is only a wrapper function, not a proper class.\n",
    "class MyPool(multiprocessing.pool.Pool):\n",
    "    Process = NoDaemonProcess\n",
    "\n",
    "def train_fn(fold):\n",
    "    model_ft = initialize_model(CFG.model_name, CFG.num_classes, use_pretrained=True)\n",
    "    \"\"\"\n",
    "    optimizer = optim.SGD(model_ft.parameters(),\n",
    "                          lr=CFG.lr,\n",
    "                          momentum=.9,\n",
    "                          nesterov=True)\n",
    "    \"\"\"\n",
    "    optimizer = optim.Adam(model_ft.parameters(),\n",
    "                           lr=CFG.lr)\n",
    "    scheduler = optim.lr_scheduler.ReduceLROnPlateau(optimizer, mode='min', factor=0.1, patience=2, verbose=True, eps=1e-06)\n",
    "    #print(f'### FOLD: {fold} ###', flush=True)\n",
    "    loader_train, loader_val = data_loader(fold)\n",
    "    best_model, loss_history, train_acc_history, val_acc_history = train_model(model_ft, fold, {'train': loader_train, 'val': loader_val}, F.cross_entropy, optimizer, scheduler, CFG.epochs)\n",
    "\n",
    "    return best_model, loss_history, train_acc_history, val_acc_history\n",
    "\n",
    "def progressor(fold):\n",
    "    best_model, loss_history, train_acc_history, val_acc_history = train_fn(fold)\n",
    "    return {f'best_mode_{fold}': best_model,\n",
    "            f'loss_history_{fold}': loss_history,\n",
    "            f'train_acc_history_{fold}': train_acc_history,\n",
    "            f'val_acc_history_{fold}': val_acc_history}"
   ]
  },
  {
   "cell_type": "markdown",
   "metadata": {},
   "source": [
    "## Resnet18\n",
    "log: resnet_06_01_2020_13_11.pkl"
   ]
  },
  {
   "cell_type": "code",
   "execution_count": 9,
   "metadata": {},
   "outputs": [],
   "source": [
    "def set_parameter_requires_grad(model, feature_extracting):\n",
    "    if feature_extracting:\n",
    "        for param in model.parameters():\n",
    "            param.requires_grad = False\n",
    "            \n",
    "\n",
    "def initialize_model(model_name, num_classes, feature_extract=False, use_pretrained=False):\n",
    "    \"\"\"\n",
    "    Params:\n",
    "        feature_extract\n",
    "            True - fine tunning\n",
    "            False - fix the model\n",
    "    \"\"\"\n",
    "    model_ft = None\n",
    "    \n",
    "    if model_name == 'alexnet':\n",
    "        \"\"\"AlexNet\n",
    "        \"\"\"\n",
    "        model_ft = models.alexnet(pretrained=use_pretrained)\n",
    "        set_parameter_requires_grad(model_ft, feature_extract)\n",
    "        num_ftrs = model_ft.classifier[6].in_features\n",
    "        model_ft.classifier[6] = nn.Linear(num_ftrs, num_classes)\n",
    "    elif model_name == 'resnet':\n",
    "        \"\"\"Resnet\n",
    "        \"\"\"\n",
    "        model_ft = models.resnet18(pretrained=use_pretrained)\n",
    "        set_parameter_requires_grad(model_ft, feature_extract)\n",
    "        num_ftrs = model_ft.fc.in_features\n",
    "        model_ft.fc = nn.Linear(num_ftrs, num_classes)\n",
    "    \n",
    "    return model_ft"
   ]
  },
  {
   "cell_type": "code",
   "execution_count": 10,
   "metadata": {
    "scrolled": true
   },
   "outputs": [
    {
     "name": "stdout",
     "output_type": "stream",
     "text": [
      "  "
     ]
    },
    {
     "data": {
      "application/vnd.jupyter.widget-view+json": {
       "model_id": "ee6a3855de734cb9b736aecb8e870eea",
       "version_major": 2,
       "version_minor": 0
      },
      "text/plain": [
       "HBox(children=(FloatProgress(value=0.0, description='[0] 1/12(train)', max=469.0, style=ProgressStyle(descript…"
      ]
     },
     "metadata": {},
     "output_type": "display_data"
    },
    {
     "name": "stdout",
     "output_type": "stream",
     "text": [
      "  "
     ]
    },
    {
     "data": {
      "application/vnd.jupyter.widget-view+json": {
       "model_id": "fb0afd3d9c984f65af589c8b053d47e0",
       "version_major": 2,
       "version_minor": 0
      },
      "text/plain": [
       "HBox(children=(FloatProgress(value=0.0, description='[2] 1/12(train)', max=469.0, style=ProgressStyle(descript…"
      ]
     },
     "metadata": {},
     "output_type": "display_data"
    },
    {
     "data": {
      "application/vnd.jupyter.widget-view+json": {
       "model_id": "edf740b7b75749559e79058ada8a62fe",
       "version_major": 2,
       "version_minor": 0
      },
      "text/plain": [
       "HBox(children=(FloatProgress(value=0.0, description='[3] 1/12(train)', max=469.0, style=ProgressStyle(descript…"
      ]
     },
     "metadata": {},
     "output_type": "display_data"
    },
    {
     "data": {
      "application/vnd.jupyter.widget-view+json": {
       "model_id": "14dcdadc596f4e3bb0a25e68e48505d2",
       "version_major": 2,
       "version_minor": 0
      },
      "text/plain": [
       "HBox(children=(FloatProgress(value=0.0, description='[1] 1/12(train)', max=469.0, style=ProgressStyle(descript…"
      ]
     },
     "metadata": {},
     "output_type": "display_data"
    },
    {
     "name": "stdout",
     "output_type": "stream",
     "text": [
      "\n",
      "[0] train Loss: 1.418241 Acc: 0.424133\n",
      " "
     ]
    },
    {
     "data": {
      "application/vnd.jupyter.widget-view+json": {
       "model_id": "38906680b03d4495b158e1b2893b780f",
       "version_major": 2,
       "version_minor": 0
      },
      "text/plain": [
       "HBox(children=(FloatProgress(value=0.0, description='[0] 1/12(val  )', max=157.0, style=ProgressStyle(descript…"
      ]
     },
     "metadata": {},
     "output_type": "display_data"
    },
    {
     "name": "stdout",
     "output_type": "stream",
     "text": [
      "\n",
      "[1] train Loss: 1.430029 Acc: 0.405733\n",
      " "
     ]
    },
    {
     "data": {
      "application/vnd.jupyter.widget-view+json": {
       "model_id": "fe379640a7cf48829c271fe6fe1bb7dc",
       "version_major": 2,
       "version_minor": 0
      },
      "text/plain": [
       "HBox(children=(FloatProgress(value=0.0, description='[1] 1/12(val  )', max=157.0, style=ProgressStyle(descript…"
      ]
     },
     "metadata": {},
     "output_type": "display_data"
    },
    {
     "name": "stdout",
     "output_type": "stream",
     "text": [
      "\n",
      "[2] train Loss: 1.435485 Acc: 0.410533\n",
      " "
     ]
    },
    {
     "data": {
      "application/vnd.jupyter.widget-view+json": {
       "model_id": "18c16c38b35645b2af07f89009d7e367",
       "version_major": 2,
       "version_minor": 0
      },
      "text/plain": [
       "HBox(children=(FloatProgress(value=0.0, description='[2] 1/12(val  )', max=157.0, style=ProgressStyle(descript…"
      ]
     },
     "metadata": {},
     "output_type": "display_data"
    },
    {
     "name": "stdout",
     "output_type": "stream",
     "text": [
      "\n",
      "[3] train Loss: 1.425638 Acc: 0.414667\n",
      " "
     ]
    },
    {
     "data": {
      "application/vnd.jupyter.widget-view+json": {
       "model_id": "ff9a2e192a7445eab5f1ce9a4c8b7077",
       "version_major": 2,
       "version_minor": 0
      },
      "text/plain": [
       "HBox(children=(FloatProgress(value=0.0, description='[3] 1/12(val  )', max=157.0, style=ProgressStyle(descript…"
      ]
     },
     "metadata": {},
     "output_type": "display_data"
    },
    {
     "name": "stdout",
     "output_type": "stream",
     "text": [
      "\n",
      "[1] val Loss: 1.248337 Acc: 0.512000\n",
      " \n",
      "[2] val Loss: 1.245579 Acc: 0.490800\n",
      " "
     ]
    },
    {
     "data": {
      "application/vnd.jupyter.widget-view+json": {
       "model_id": "a379ab2877f64935b9dd10ea286fc415",
       "version_major": 2,
       "version_minor": 0
      },
      "text/plain": [
       "HBox(children=(FloatProgress(value=0.0, description='[1] 2/12(train)', max=469.0, style=ProgressStyle(descript…"
      ]
     },
     "metadata": {},
     "output_type": "display_data"
    },
    {
     "data": {
      "application/vnd.jupyter.widget-view+json": {
       "model_id": "90fecb31f2fb45b68a963690ee904585",
       "version_major": 2,
       "version_minor": 0
      },
      "text/plain": [
       "HBox(children=(FloatProgress(value=0.0, description='[2] 2/12(train)', max=469.0, style=ProgressStyle(descript…"
      ]
     },
     "metadata": {},
     "output_type": "display_data"
    },
    {
     "name": "stdout",
     "output_type": "stream",
     "text": [
      "\n",
      "[0] val Loss: 1.232799 Acc: 0.508800\n",
      " "
     ]
    },
    {
     "data": {
      "application/vnd.jupyter.widget-view+json": {
       "model_id": "98d9297aebb049829b196a2899369eaf",
       "version_major": 2,
       "version_minor": 0
      },
      "text/plain": [
       "HBox(children=(FloatProgress(value=0.0, description='[0] 2/12(train)', max=469.0, style=ProgressStyle(descript…"
      ]
     },
     "metadata": {},
     "output_type": "display_data"
    },
    {
     "name": "stdout",
     "output_type": "stream",
     "text": [
      "\n",
      "[3] val Loss: 1.462078 Acc: 0.408400\n",
      " "
     ]
    },
    {
     "data": {
      "application/vnd.jupyter.widget-view+json": {
       "model_id": "b36e26ad396b4c8f980e3917a642387a",
       "version_major": 2,
       "version_minor": 0
      },
      "text/plain": [
       "HBox(children=(FloatProgress(value=0.0, description='[3] 2/12(train)', max=469.0, style=ProgressStyle(descript…"
      ]
     },
     "metadata": {},
     "output_type": "display_data"
    },
    {
     "name": "stdout",
     "output_type": "stream",
     "text": [
      "\n",
      "[0] train Loss: 1.282845 Acc: 0.481867\n",
      " "
     ]
    },
    {
     "data": {
      "application/vnd.jupyter.widget-view+json": {
       "model_id": "eaf138db692e4d509defb31ed4803e87",
       "version_major": 2,
       "version_minor": 0
      },
      "text/plain": [
       "HBox(children=(FloatProgress(value=0.0, description='[0] 2/12(val  )', max=157.0, style=ProgressStyle(descript…"
      ]
     },
     "metadata": {},
     "output_type": "display_data"
    },
    {
     "name": "stdout",
     "output_type": "stream",
     "text": [
      "\n",
      "[1] train Loss: 1.277802 Acc: 0.483733\n",
      " "
     ]
    },
    {
     "data": {
      "application/vnd.jupyter.widget-view+json": {
       "model_id": "277b8c3dd0f64cd58eb7441b288d229e",
       "version_major": 2,
       "version_minor": 0
      },
      "text/plain": [
       "HBox(children=(FloatProgress(value=0.0, description='[1] 2/12(val  )', max=157.0, style=ProgressStyle(descript…"
      ]
     },
     "metadata": {},
     "output_type": "display_data"
    },
    {
     "name": "stdout",
     "output_type": "stream",
     "text": [
      "\n",
      "[2] train Loss: 1.289896 Acc: 0.484267\n",
      " "
     ]
    },
    {
     "data": {
      "application/vnd.jupyter.widget-view+json": {
       "model_id": "4afc48b61b44482b9f39b706f6e306a1",
       "version_major": 2,
       "version_minor": 0
      },
      "text/plain": [
       "HBox(children=(FloatProgress(value=0.0, description='[2] 2/12(val  )', max=157.0, style=ProgressStyle(descript…"
      ]
     },
     "metadata": {},
     "output_type": "display_data"
    },
    {
     "name": "stdout",
     "output_type": "stream",
     "text": [
      "\n",
      "[3] train Loss: 1.280848 Acc: 0.485333\n",
      " "
     ]
    },
    {
     "data": {
      "application/vnd.jupyter.widget-view+json": {
       "model_id": "0fd0148e6c1d44da913a9a9b96e09aa5",
       "version_major": 2,
       "version_minor": 0
      },
      "text/plain": [
       "HBox(children=(FloatProgress(value=0.0, description='[3] 2/12(val  )', max=157.0, style=ProgressStyle(descript…"
      ]
     },
     "metadata": {},
     "output_type": "display_data"
    },
    {
     "name": "stdout",
     "output_type": "stream",
     "text": [
      "\n",
      "[0] val Loss: 1.546893 Acc: 0.392800\n",
      " "
     ]
    },
    {
     "data": {
      "application/vnd.jupyter.widget-view+json": {
       "model_id": "c2bc2b4e8de548eeb2006fb7069b86c2",
       "version_major": 2,
       "version_minor": 0
      },
      "text/plain": [
       "HBox(children=(FloatProgress(value=0.0, description='[0] 3/12(train)', max=469.0, style=ProgressStyle(descript…"
      ]
     },
     "metadata": {},
     "output_type": "display_data"
    },
    {
     "name": "stdout",
     "output_type": "stream",
     "text": [
      "\n",
      "[1] val Loss: 1.296753 Acc: 0.481600\n",
      " "
     ]
    },
    {
     "data": {
      "application/vnd.jupyter.widget-view+json": {
       "model_id": "808ed08a23d045d5849f58ac840d233b",
       "version_major": 2,
       "version_minor": 0
      },
      "text/plain": [
       "HBox(children=(FloatProgress(value=0.0, description='[1] 3/12(train)', max=469.0, style=ProgressStyle(descript…"
      ]
     },
     "metadata": {},
     "output_type": "display_data"
    },
    {
     "name": "stdout",
     "output_type": "stream",
     "text": [
      "\n",
      "[2] val Loss: 1.239004 Acc: 0.504400\n",
      " "
     ]
    },
    {
     "data": {
      "application/vnd.jupyter.widget-view+json": {
       "model_id": "8f1b3e6539ac4a82ab2e83ee6f5596d7",
       "version_major": 2,
       "version_minor": 0
      },
      "text/plain": [
       "HBox(children=(FloatProgress(value=0.0, description='[2] 3/12(train)', max=469.0, style=ProgressStyle(descript…"
      ]
     },
     "metadata": {},
     "output_type": "display_data"
    },
    {
     "name": "stdout",
     "output_type": "stream",
     "text": [
      "\n",
      "[3] val Loss: 1.191321 Acc: 0.536400\n",
      " "
     ]
    },
    {
     "data": {
      "application/vnd.jupyter.widget-view+json": {
       "model_id": "1ace20fc0b6a411d849bc71c4b2859fd",
       "version_major": 2,
       "version_minor": 0
      },
      "text/plain": [
       "HBox(children=(FloatProgress(value=0.0, description='[3] 3/12(train)', max=469.0, style=ProgressStyle(descript…"
      ]
     },
     "metadata": {},
     "output_type": "display_data"
    },
    {
     "name": "stdout",
     "output_type": "stream",
     "text": [
      "\n",
      "[0] train Loss: 1.215737 Acc: 0.509067\n",
      " "
     ]
    },
    {
     "data": {
      "application/vnd.jupyter.widget-view+json": {
       "model_id": "7fa0eca897624d74bf13d5cfa4586231",
       "version_major": 2,
       "version_minor": 0
      },
      "text/plain": [
       "HBox(children=(FloatProgress(value=0.0, description='[0] 3/12(val  )', max=157.0, style=ProgressStyle(descript…"
      ]
     },
     "metadata": {},
     "output_type": "display_data"
    },
    {
     "name": "stdout",
     "output_type": "stream",
     "text": [
      "\n",
      "[3] train Loss: 1.214030 Acc: 0.507733\n",
      " "
     ]
    },
    {
     "data": {
      "application/vnd.jupyter.widget-view+json": {
       "model_id": "0239f624822244f2b66ce44c2585c4dd",
       "version_major": 2,
       "version_minor": 0
      },
      "text/plain": [
       "HBox(children=(FloatProgress(value=0.0, description='[3] 3/12(val  )', max=157.0, style=ProgressStyle(descript…"
      ]
     },
     "metadata": {},
     "output_type": "display_data"
    },
    {
     "name": "stdout",
     "output_type": "stream",
     "text": [
      "\n",
      "[1] train Loss: 1.223679 Acc: 0.509733\n",
      " "
     ]
    },
    {
     "data": {
      "application/vnd.jupyter.widget-view+json": {
       "model_id": "c2224e8f49fe406d9f3e7b2f8b518d5e",
       "version_major": 2,
       "version_minor": 0
      },
      "text/plain": [
       "HBox(children=(FloatProgress(value=0.0, description='[1] 3/12(val  )', max=157.0, style=ProgressStyle(descript…"
      ]
     },
     "metadata": {},
     "output_type": "display_data"
    },
    {
     "name": "stdout",
     "output_type": "stream",
     "text": [
      "\n",
      "[2] train Loss: 1.225289 Acc: 0.504933\n",
      " "
     ]
    },
    {
     "data": {
      "application/vnd.jupyter.widget-view+json": {
       "model_id": "e95a2a2ee132462ca47946a530e35528",
       "version_major": 2,
       "version_minor": 0
      },
      "text/plain": [
       "HBox(children=(FloatProgress(value=0.0, description='[2] 3/12(val  )', max=157.0, style=ProgressStyle(descript…"
      ]
     },
     "metadata": {},
     "output_type": "display_data"
    },
    {
     "name": "stdout",
     "output_type": "stream",
     "text": [
      "\n",
      "[0] val Loss: 1.228263 Acc: 0.519200\n",
      " "
     ]
    },
    {
     "data": {
      "application/vnd.jupyter.widget-view+json": {
       "model_id": "b37ddbbe8e904d429194d6946c549135",
       "version_major": 2,
       "version_minor": 0
      },
      "text/plain": [
       "HBox(children=(FloatProgress(value=0.0, description='[0] 4/12(train)', max=469.0, style=ProgressStyle(descript…"
      ]
     },
     "metadata": {},
     "output_type": "display_data"
    },
    {
     "name": "stdout",
     "output_type": "stream",
     "text": [
      "\n",
      "[3] val Loss: 1.320089 Acc: 0.508800\n",
      " "
     ]
    },
    {
     "data": {
      "application/vnd.jupyter.widget-view+json": {
       "model_id": "34cd3a484f3d404b98db96e043d63362",
       "version_major": 2,
       "version_minor": 0
      },
      "text/plain": [
       "HBox(children=(FloatProgress(value=0.0, description='[3] 4/12(train)', max=469.0, style=ProgressStyle(descript…"
      ]
     },
     "metadata": {},
     "output_type": "display_data"
    },
    {
     "name": "stdout",
     "output_type": "stream",
     "text": [
      "\n",
      "[2] val Loss: 1.218872 Acc: 0.526800\n",
      " "
     ]
    },
    {
     "data": {
      "application/vnd.jupyter.widget-view+json": {
       "model_id": "3a46eec9f5ef4e6793ac4410081be7e8",
       "version_major": 2,
       "version_minor": 0
      },
      "text/plain": [
       "HBox(children=(FloatProgress(value=0.0, description='[2] 4/12(train)', max=469.0, style=ProgressStyle(descript…"
      ]
     },
     "metadata": {},
     "output_type": "display_data"
    },
    {
     "name": "stdout",
     "output_type": "stream",
     "text": [
      "\n",
      "[1] val Loss: 1.270450 Acc: 0.492000\n",
      " "
     ]
    },
    {
     "data": {
      "application/vnd.jupyter.widget-view+json": {
       "model_id": "bcf3f129e8b442eb99319081c288912d",
       "version_major": 2,
       "version_minor": 0
      },
      "text/plain": [
       "HBox(children=(FloatProgress(value=0.0, description='[1] 4/12(train)', max=469.0, style=ProgressStyle(descript…"
      ]
     },
     "metadata": {},
     "output_type": "display_data"
    },
    {
     "name": "stdout",
     "output_type": "stream",
     "text": [
      "\n",
      "[0] train Loss: 1.197335 Acc: 0.521867\n",
      " "
     ]
    },
    {
     "data": {
      "application/vnd.jupyter.widget-view+json": {
       "model_id": "f27941c2cd5c44868ad76e0c6f255e98",
       "version_major": 2,
       "version_minor": 0
      },
      "text/plain": [
       "HBox(children=(FloatProgress(value=0.0, description='[0] 4/12(val  )', max=157.0, style=ProgressStyle(descript…"
      ]
     },
     "metadata": {},
     "output_type": "display_data"
    },
    {
     "name": "stdout",
     "output_type": "stream",
     "text": [
      "\n",
      "[1] train Loss: 1.184704 Acc: 0.524800\n",
      " "
     ]
    },
    {
     "data": {
      "application/vnd.jupyter.widget-view+json": {
       "model_id": "565dfc1cb32248469482134f7bd39044",
       "version_major": 2,
       "version_minor": 0
      },
      "text/plain": [
       "HBox(children=(FloatProgress(value=0.0, description='[1] 4/12(val  )', max=157.0, style=ProgressStyle(descript…"
      ]
     },
     "metadata": {},
     "output_type": "display_data"
    },
    {
     "name": "stdout",
     "output_type": "stream",
     "text": [
      "\n",
      "[2] train Loss: 1.170872 Acc: 0.535467\n",
      " "
     ]
    },
    {
     "data": {
      "application/vnd.jupyter.widget-view+json": {
       "model_id": "74af153f2bff45fcb6bfe597627af3bd",
       "version_major": 2,
       "version_minor": 0
      },
      "text/plain": [
       "HBox(children=(FloatProgress(value=0.0, description='[2] 4/12(val  )', max=157.0, style=ProgressStyle(descript…"
      ]
     },
     "metadata": {},
     "output_type": "display_data"
    },
    {
     "name": "stdout",
     "output_type": "stream",
     "text": [
      "\n",
      "[3] train Loss: 1.165032 Acc: 0.533467\n",
      " "
     ]
    },
    {
     "data": {
      "application/vnd.jupyter.widget-view+json": {
       "model_id": "31461dc7b2894be3a506cda2cdcdce8b",
       "version_major": 2,
       "version_minor": 0
      },
      "text/plain": [
       "HBox(children=(FloatProgress(value=0.0, description='[3] 4/12(val  )', max=157.0, style=ProgressStyle(descript…"
      ]
     },
     "metadata": {},
     "output_type": "display_data"
    },
    {
     "name": "stdout",
     "output_type": "stream",
     "text": [
      "\n",
      "[0] val Loss: 1.350557 Acc: 0.488000\n",
      " "
     ]
    },
    {
     "data": {
      "application/vnd.jupyter.widget-view+json": {
       "model_id": "e339a89686e4432eb38d9a1634a69843",
       "version_major": 2,
       "version_minor": 0
      },
      "text/plain": [
       "HBox(children=(FloatProgress(value=0.0, description='[0] 5/12(train)', max=469.0, style=ProgressStyle(descript…"
      ]
     },
     "metadata": {},
     "output_type": "display_data"
    },
    {
     "name": "stdout",
     "output_type": "stream",
     "text": [
      "\n",
      "Epoch     4: reducing learning rate of group 0 to 1.0000e-05.\n",
      "[1] val Loss: 1.306970 Acc: 0.462800\n",
      " "
     ]
    },
    {
     "data": {
      "application/vnd.jupyter.widget-view+json": {
       "model_id": "8d030fa0d333496589b4c93f42050aa1",
       "version_major": 2,
       "version_minor": 0
      },
      "text/plain": [
       "HBox(children=(FloatProgress(value=0.0, description='[1] 5/12(train)', max=469.0, style=ProgressStyle(descript…"
      ]
     },
     "metadata": {},
     "output_type": "display_data"
    },
    {
     "name": "stdout",
     "output_type": "stream",
     "text": [
      "\n",
      "[2] val Loss: 1.192547 Acc: 0.536000\n",
      " "
     ]
    },
    {
     "data": {
      "application/vnd.jupyter.widget-view+json": {
       "model_id": "0120329beba14f798906b981f02bede3",
       "version_major": 2,
       "version_minor": 0
      },
      "text/plain": [
       "HBox(children=(FloatProgress(value=0.0, description='[2] 5/12(train)', max=469.0, style=ProgressStyle(descript…"
      ]
     },
     "metadata": {},
     "output_type": "display_data"
    },
    {
     "name": "stdout",
     "output_type": "stream",
     "text": [
      "\n",
      "[3] val Loss: 1.303577 Acc: 0.480400\n",
      " "
     ]
    },
    {
     "data": {
      "application/vnd.jupyter.widget-view+json": {
       "model_id": "9e371e3e7de74ec7bd4d78f722054eee",
       "version_major": 2,
       "version_minor": 0
      },
      "text/plain": [
       "HBox(children=(FloatProgress(value=0.0, description='[3] 5/12(train)', max=469.0, style=ProgressStyle(descript…"
      ]
     },
     "metadata": {},
     "output_type": "display_data"
    },
    {
     "name": "stdout",
     "output_type": "stream",
     "text": [
      "\n",
      "[0] train Loss: 1.129353 Acc: 0.546267\n",
      " "
     ]
    },
    {
     "data": {
      "application/vnd.jupyter.widget-view+json": {
       "model_id": "73a04d9c53814159a7c10c8e8a66ff67",
       "version_major": 2,
       "version_minor": 0
      },
      "text/plain": [
       "HBox(children=(FloatProgress(value=0.0, description='[0] 5/12(val  )', max=157.0, style=ProgressStyle(descript…"
      ]
     },
     "metadata": {},
     "output_type": "display_data"
    },
    {
     "name": "stdout",
     "output_type": "stream",
     "text": [
      "\n",
      "[1] train Loss: 1.073719 Acc: 0.577467\n",
      " "
     ]
    },
    {
     "data": {
      "application/vnd.jupyter.widget-view+json": {
       "model_id": "b485ed7ceca442d08b87f09dcd8a69dd",
       "version_major": 2,
       "version_minor": 0
      },
      "text/plain": [
       "HBox(children=(FloatProgress(value=0.0, description='[1] 5/12(val  )', max=157.0, style=ProgressStyle(descript…"
      ]
     },
     "metadata": {},
     "output_type": "display_data"
    },
    {
     "name": "stdout",
     "output_type": "stream",
     "text": [
      "\n",
      "[3] train Loss: 1.119499 Acc: 0.555067\n",
      " "
     ]
    },
    {
     "data": {
      "application/vnd.jupyter.widget-view+json": {
       "model_id": "dfb1ea774a054ee880a17e6215fa6684",
       "version_major": 2,
       "version_minor": 0
      },
      "text/plain": [
       "HBox(children=(FloatProgress(value=0.0, description='[3] 5/12(val  )', max=157.0, style=ProgressStyle(descript…"
      ]
     },
     "metadata": {},
     "output_type": "display_data"
    },
    {
     "name": "stdout",
     "output_type": "stream",
     "text": [
      "\n",
      "[2] train Loss: 1.120360 Acc: 0.555067\n",
      " "
     ]
    },
    {
     "data": {
      "application/vnd.jupyter.widget-view+json": {
       "model_id": "ac04e6473bd24fc498aff38abedc6630",
       "version_major": 2,
       "version_minor": 0
      },
      "text/plain": [
       "HBox(children=(FloatProgress(value=0.0, description='[2] 5/12(val  )', max=157.0, style=ProgressStyle(descript…"
      ]
     },
     "metadata": {},
     "output_type": "display_data"
    },
    {
     "name": "stdout",
     "output_type": "stream",
     "text": [
      "\n",
      "[0] val Loss: 1.129413 Acc: 0.559600\n",
      " "
     ]
    },
    {
     "data": {
      "application/vnd.jupyter.widget-view+json": {
       "model_id": "f84b9fbda4c24bfc938d3ef3491e26ec",
       "version_major": 2,
       "version_minor": 0
      },
      "text/plain": [
       "HBox(children=(FloatProgress(value=0.0, description='[0] 6/12(train)', max=469.0, style=ProgressStyle(descript…"
      ]
     },
     "metadata": {},
     "output_type": "display_data"
    },
    {
     "name": "stdout",
     "output_type": "stream",
     "text": [
      "\n",
      "Epoch     5: reducing learning rate of group 0 to 1.0000e-05.\n",
      "[3] val Loss: 1.320610 Acc: 0.503200\n",
      " "
     ]
    },
    {
     "data": {
      "application/vnd.jupyter.widget-view+json": {
       "model_id": "cdd62fe20c5c490bbbda62a6d35cfe7e",
       "version_major": 2,
       "version_minor": 0
      },
      "text/plain": [
       "HBox(children=(FloatProgress(value=0.0, description='[3] 6/12(train)', max=469.0, style=ProgressStyle(descript…"
      ]
     },
     "metadata": {},
     "output_type": "display_data"
    },
    {
     "name": "stdout",
     "output_type": "stream",
     "text": [
      "\n",
      "[1] val Loss: 1.085490 Acc: 0.569200\n",
      " "
     ]
    },
    {
     "data": {
      "application/vnd.jupyter.widget-view+json": {
       "model_id": "821b2b4ad9ba4c7e9f67d0ab8b824315",
       "version_major": 2,
       "version_minor": 0
      },
      "text/plain": [
       "HBox(children=(FloatProgress(value=0.0, description='[1] 6/12(train)', max=469.0, style=ProgressStyle(descript…"
      ]
     },
     "metadata": {},
     "output_type": "display_data"
    },
    {
     "name": "stdout",
     "output_type": "stream",
     "text": [
      "\n",
      "[2] val Loss: 1.150692 Acc: 0.554800\n",
      " "
     ]
    },
    {
     "data": {
      "application/vnd.jupyter.widget-view+json": {
       "model_id": "33dac7a933bc4ef5b15cc71a49cbc937",
       "version_major": 2,
       "version_minor": 0
      },
      "text/plain": [
       "HBox(children=(FloatProgress(value=0.0, description='[2] 6/12(train)', max=469.0, style=ProgressStyle(descript…"
      ]
     },
     "metadata": {},
     "output_type": "display_data"
    },
    {
     "name": "stdout",
     "output_type": "stream",
     "text": [
      "\n",
      "[0] train Loss: 1.098651 Acc: 0.567333\n",
      " "
     ]
    },
    {
     "data": {
      "application/vnd.jupyter.widget-view+json": {
       "model_id": "dec7b5e2e0ce40a2abee44d8c5b55b36",
       "version_major": 2,
       "version_minor": 0
      },
      "text/plain": [
       "HBox(children=(FloatProgress(value=0.0, description='[0] 6/12(val  )', max=157.0, style=ProgressStyle(descript…"
      ]
     },
     "metadata": {},
     "output_type": "display_data"
    },
    {
     "name": "stdout",
     "output_type": "stream",
     "text": [
      "\n",
      "[1] train Loss: 1.040617 Acc: 0.596133\n",
      " "
     ]
    },
    {
     "data": {
      "application/vnd.jupyter.widget-view+json": {
       "model_id": "0fa6ecc4a2cb4bfb81292bcb405127a8",
       "version_major": 2,
       "version_minor": 0
      },
      "text/plain": [
       "HBox(children=(FloatProgress(value=0.0, description='[1] 6/12(val  )', max=157.0, style=ProgressStyle(descript…"
      ]
     },
     "metadata": {},
     "output_type": "display_data"
    },
    {
     "name": "stdout",
     "output_type": "stream",
     "text": [
      "\n",
      "[3] train Loss: 1.021516 Acc: 0.599200\n",
      " "
     ]
    },
    {
     "data": {
      "application/vnd.jupyter.widget-view+json": {
       "model_id": "2d408348c816432ca5d4e99791ac0cfa",
       "version_major": 2,
       "version_minor": 0
      },
      "text/plain": [
       "HBox(children=(FloatProgress(value=0.0, description='[3] 6/12(val  )', max=157.0, style=ProgressStyle(descript…"
      ]
     },
     "metadata": {},
     "output_type": "display_data"
    },
    {
     "name": "stdout",
     "output_type": "stream",
     "text": [
      "\n",
      "[2] train Loss: 1.084209 Acc: 0.571467\n",
      " "
     ]
    },
    {
     "data": {
      "application/vnd.jupyter.widget-view+json": {
       "model_id": "1f4bd55f8f9e46499929d9489534ecd5",
       "version_major": 2,
       "version_minor": 0
      },
      "text/plain": [
       "HBox(children=(FloatProgress(value=0.0, description='[2] 6/12(val  )', max=157.0, style=ProgressStyle(descript…"
      ]
     },
     "metadata": {},
     "output_type": "display_data"
    },
    {
     "name": "stdout",
     "output_type": "stream",
     "text": [
      "\n",
      "[0] val Loss: 1.212104 Acc: 0.530000\n",
      " "
     ]
    },
    {
     "data": {
      "application/vnd.jupyter.widget-view+json": {
       "model_id": "6285e77e8cf0478dbfc841cd81d3fc9e",
       "version_major": 2,
       "version_minor": 0
      },
      "text/plain": [
       "HBox(children=(FloatProgress(value=0.0, description='[0] 7/12(train)', max=469.0, style=ProgressStyle(descript…"
      ]
     },
     "metadata": {},
     "output_type": "display_data"
    },
    {
     "name": "stdout",
     "output_type": "stream",
     "text": [
      "\n",
      "[1] val Loss: 1.078267 Acc: 0.571600\n",
      " "
     ]
    },
    {
     "data": {
      "application/vnd.jupyter.widget-view+json": {
       "model_id": "fe457b322e4a4c43a726fae53bcdbaa6",
       "version_major": 2,
       "version_minor": 0
      },
      "text/plain": [
       "HBox(children=(FloatProgress(value=0.0, description='[1] 7/12(train)', max=469.0, style=ProgressStyle(descript…"
      ]
     },
     "metadata": {},
     "output_type": "display_data"
    },
    {
     "name": "stdout",
     "output_type": "stream",
     "text": [
      "\n",
      "[3] val Loss: 1.086741 Acc: 0.582000\n",
      " "
     ]
    },
    {
     "data": {
      "application/vnd.jupyter.widget-view+json": {
       "model_id": "d2d7ce1a8439404c9da5670cb07aa840",
       "version_major": 2,
       "version_minor": 0
      },
      "text/plain": [
       "HBox(children=(FloatProgress(value=0.0, description='[3] 7/12(train)', max=469.0, style=ProgressStyle(descript…"
      ]
     },
     "metadata": {},
     "output_type": "display_data"
    },
    {
     "name": "stdout",
     "output_type": "stream",
     "text": [
      "\n",
      "[2] val Loss: 1.156390 Acc: 0.549200\n",
      " "
     ]
    },
    {
     "data": {
      "application/vnd.jupyter.widget-view+json": {
       "model_id": "ca0f43a11c42414daa881f820d3c6739",
       "version_major": 2,
       "version_minor": 0
      },
      "text/plain": [
       "HBox(children=(FloatProgress(value=0.0, description='[2] 7/12(train)', max=469.0, style=ProgressStyle(descript…"
      ]
     },
     "metadata": {},
     "output_type": "display_data"
    },
    {
     "name": "stdout",
     "output_type": "stream",
     "text": [
      "\n",
      "[0] train Loss: 1.058819 Acc: 0.584000\n",
      " "
     ]
    },
    {
     "data": {
      "application/vnd.jupyter.widget-view+json": {
       "model_id": "d9489b36f2b346648ea36f89d8d1ed0a",
       "version_major": 2,
       "version_minor": 0
      },
      "text/plain": [
       "HBox(children=(FloatProgress(value=0.0, description='[0] 7/12(val  )', max=157.0, style=ProgressStyle(descript…"
      ]
     },
     "metadata": {},
     "output_type": "display_data"
    },
    {
     "name": "stdout",
     "output_type": "stream",
     "text": [
      "\n",
      "[1] train Loss: 1.013772 Acc: 0.608400\n",
      " "
     ]
    },
    {
     "data": {
      "application/vnd.jupyter.widget-view+json": {
       "model_id": "9c3b12cbfd6748cab9377ba90a46a8f5",
       "version_major": 2,
       "version_minor": 0
      },
      "text/plain": [
       "HBox(children=(FloatProgress(value=0.0, description='[1] 7/12(val  )', max=157.0, style=ProgressStyle(descript…"
      ]
     },
     "metadata": {},
     "output_type": "display_data"
    },
    {
     "name": "stdout",
     "output_type": "stream",
     "text": [
      "\n",
      "[2] train Loss: 1.059750 Acc: 0.581067\n",
      " "
     ]
    },
    {
     "data": {
      "application/vnd.jupyter.widget-view+json": {
       "model_id": "c3ac53aabe6a4b65839f34a7bdeb7492",
       "version_major": 2,
       "version_minor": 0
      },
      "text/plain": [
       "HBox(children=(FloatProgress(value=0.0, description='[2] 7/12(val  )', max=157.0, style=ProgressStyle(descript…"
      ]
     },
     "metadata": {},
     "output_type": "display_data"
    },
    {
     "name": "stdout",
     "output_type": "stream",
     "text": [
      "\n",
      "[3] train Loss: 0.966618 Acc: 0.623600\n",
      " "
     ]
    },
    {
     "data": {
      "application/vnd.jupyter.widget-view+json": {
       "model_id": "7fc9205b1e1f4e3bb29e26f27076efd4",
       "version_major": 2,
       "version_minor": 0
      },
      "text/plain": [
       "HBox(children=(FloatProgress(value=0.0, description='[3] 7/12(val  )', max=157.0, style=ProgressStyle(descript…"
      ]
     },
     "metadata": {},
     "output_type": "display_data"
    },
    {
     "name": "stdout",
     "output_type": "stream",
     "text": [
      "\n",
      "[0] val Loss: 1.343749 Acc: 0.498400\n",
      " "
     ]
    },
    {
     "data": {
      "application/vnd.jupyter.widget-view+json": {
       "model_id": "068aae9f3f444d5ca326827d7a6652ba",
       "version_major": 2,
       "version_minor": 0
      },
      "text/plain": [
       "HBox(children=(FloatProgress(value=0.0, description='[0] 8/12(train)', max=469.0, style=ProgressStyle(descript…"
      ]
     },
     "metadata": {},
     "output_type": "display_data"
    },
    {
     "name": "stdout",
     "output_type": "stream",
     "text": [
      "\n",
      "[1] val Loss: 1.066870 Acc: 0.588800\n",
      " "
     ]
    },
    {
     "data": {
      "application/vnd.jupyter.widget-view+json": {
       "model_id": "f6801f0160d74409a61bdc083b1231fd",
       "version_major": 2,
       "version_minor": 0
      },
      "text/plain": [
       "HBox(children=(FloatProgress(value=0.0, description='[1] 8/12(train)', max=469.0, style=ProgressStyle(descript…"
      ]
     },
     "metadata": {},
     "output_type": "display_data"
    },
    {
     "name": "stdout",
     "output_type": "stream",
     "text": [
      "\n",
      "[2] val Loss: 1.326790 Acc: 0.511600\n",
      " "
     ]
    },
    {
     "data": {
      "application/vnd.jupyter.widget-view+json": {
       "model_id": "4946b41494284888a64e1d8836c71e4b",
       "version_major": 2,
       "version_minor": 0
      },
      "text/plain": [
       "HBox(children=(FloatProgress(value=0.0, description='[2] 8/12(train)', max=469.0, style=ProgressStyle(descript…"
      ]
     },
     "metadata": {},
     "output_type": "display_data"
    },
    {
     "name": "stdout",
     "output_type": "stream",
     "text": [
      "\n",
      "[3] val Loss: 1.061899 Acc: 0.591600\n",
      " "
     ]
    },
    {
     "data": {
      "application/vnd.jupyter.widget-view+json": {
       "model_id": "176d56f1f8fe474891b09f91d1e297d5",
       "version_major": 2,
       "version_minor": 0
      },
      "text/plain": [
       "HBox(children=(FloatProgress(value=0.0, description='[3] 8/12(train)', max=469.0, style=ProgressStyle(descript…"
      ]
     },
     "metadata": {},
     "output_type": "display_data"
    },
    {
     "name": "stdout",
     "output_type": "stream",
     "text": [
      "\n",
      "[0] train Loss: 1.013409 Acc: 0.610000\n",
      " "
     ]
    },
    {
     "data": {
      "application/vnd.jupyter.widget-view+json": {
       "model_id": "ca6af99661dd40cf9a7db9193ff5a4a6",
       "version_major": 2,
       "version_minor": 0
      },
      "text/plain": [
       "HBox(children=(FloatProgress(value=0.0, description='[0] 8/12(val  )', max=157.0, style=ProgressStyle(descript…"
      ]
     },
     "metadata": {},
     "output_type": "display_data"
    },
    {
     "name": "stdout",
     "output_type": "stream",
     "text": [
      "\n",
      "[1] train Loss: 0.969464 Acc: 0.630533\n",
      " "
     ]
    },
    {
     "data": {
      "application/vnd.jupyter.widget-view+json": {
       "model_id": "4d6f4ddc44a9434fa450c2673656b1ce",
       "version_major": 2,
       "version_minor": 0
      },
      "text/plain": [
       "HBox(children=(FloatProgress(value=0.0, description='[1] 8/12(val  )', max=157.0, style=ProgressStyle(descript…"
      ]
     },
     "metadata": {},
     "output_type": "display_data"
    },
    {
     "name": "stdout",
     "output_type": "stream",
     "text": [
      "\n",
      "[2] train Loss: 1.011878 Acc: 0.598267\n",
      " "
     ]
    },
    {
     "data": {
      "application/vnd.jupyter.widget-view+json": {
       "model_id": "59ddcb4fd7e24401ad2b13c97493f44e",
       "version_major": 2,
       "version_minor": 0
      },
      "text/plain": [
       "HBox(children=(FloatProgress(value=0.0, description='[2] 8/12(val  )', max=157.0, style=ProgressStyle(descript…"
      ]
     },
     "metadata": {},
     "output_type": "display_data"
    },
    {
     "name": "stdout",
     "output_type": "stream",
     "text": [
      "\n",
      "[3] train Loss: 0.938800 Acc: 0.638267\n",
      " "
     ]
    },
    {
     "data": {
      "application/vnd.jupyter.widget-view+json": {
       "model_id": "5432cbff647f407ab4f1f98b25987557",
       "version_major": 2,
       "version_minor": 0
      },
      "text/plain": [
       "HBox(children=(FloatProgress(value=0.0, description='[3] 8/12(val  )', max=157.0, style=ProgressStyle(descript…"
      ]
     },
     "metadata": {},
     "output_type": "display_data"
    },
    {
     "name": "stdout",
     "output_type": "stream",
     "text": [
      "\n",
      "Epoch     8: reducing learning rate of group 0 to 1.0000e-05.\n",
      "[0] val Loss: 1.293950 Acc: 0.510000\n",
      " "
     ]
    },
    {
     "data": {
      "application/vnd.jupyter.widget-view+json": {
       "model_id": "132f4037921540ec93255ab5a79f8700",
       "version_major": 2,
       "version_minor": 0
      },
      "text/plain": [
       "HBox(children=(FloatProgress(value=0.0, description='[0] 9/12(train)', max=469.0, style=ProgressStyle(descript…"
      ]
     },
     "metadata": {},
     "output_type": "display_data"
    },
    {
     "name": "stdout",
     "output_type": "stream",
     "text": [
      "\n",
      "[1] val Loss: 1.076673 Acc: 0.588400\n",
      " "
     ]
    },
    {
     "data": {
      "application/vnd.jupyter.widget-view+json": {
       "model_id": "f3eb3815550c48c68adc0c704fbcb1d3",
       "version_major": 2,
       "version_minor": 0
      },
      "text/plain": [
       "HBox(children=(FloatProgress(value=0.0, description='[1] 9/12(train)', max=469.0, style=ProgressStyle(descript…"
      ]
     },
     "metadata": {},
     "output_type": "display_data"
    },
    {
     "name": "stdout",
     "output_type": "stream",
     "text": [
      "\n",
      "Epoch     8: reducing learning rate of group 0 to 1.0000e-05.\n",
      "[2] val Loss: 1.171535 Acc: 0.555600\n",
      " "
     ]
    },
    {
     "data": {
      "application/vnd.jupyter.widget-view+json": {
       "model_id": "a942f7540f494ab1845eb0b042cf883d",
       "version_major": 2,
       "version_minor": 0
      },
      "text/plain": [
       "HBox(children=(FloatProgress(value=0.0, description='[2] 9/12(train)', max=469.0, style=ProgressStyle(descript…"
      ]
     },
     "metadata": {},
     "output_type": "display_data"
    },
    {
     "name": "stdout",
     "output_type": "stream",
     "text": [
      "\n",
      "[3] val Loss: 1.058128 Acc: 0.597200\n",
      " "
     ]
    },
    {
     "data": {
      "application/vnd.jupyter.widget-view+json": {
       "model_id": "adddac0bdd0b48ef84fc0adc4925403f",
       "version_major": 2,
       "version_minor": 0
      },
      "text/plain": [
       "HBox(children=(FloatProgress(value=0.0, description='[3] 9/12(train)', max=469.0, style=ProgressStyle(descript…"
      ]
     },
     "metadata": {},
     "output_type": "display_data"
    },
    {
     "name": "stdout",
     "output_type": "stream",
     "text": [
      "\n",
      "[0] train Loss: 0.915568 Acc: 0.649333\n",
      " "
     ]
    },
    {
     "data": {
      "application/vnd.jupyter.widget-view+json": {
       "model_id": "a1452d1571e9423f9b4beee37df655f5",
       "version_major": 2,
       "version_minor": 0
      },
      "text/plain": [
       "HBox(children=(FloatProgress(value=0.0, description='[0] 9/12(val  )', max=157.0, style=ProgressStyle(descript…"
      ]
     },
     "metadata": {},
     "output_type": "display_data"
    },
    {
     "name": "stdout",
     "output_type": "stream",
     "text": [
      "\n",
      "[1] train Loss: 0.973950 Acc: 0.622000\n",
      " "
     ]
    },
    {
     "data": {
      "application/vnd.jupyter.widget-view+json": {
       "model_id": "86a9b6eb797b4b7fab2168cca923a037",
       "version_major": 2,
       "version_minor": 0
      },
      "text/plain": [
       "HBox(children=(FloatProgress(value=0.0, description='[1] 9/12(val  )', max=157.0, style=ProgressStyle(descript…"
      ]
     },
     "metadata": {},
     "output_type": "display_data"
    },
    {
     "name": "stdout",
     "output_type": "stream",
     "text": [
      "\n",
      "[2] train Loss: 0.877323 Acc: 0.667200\n",
      " "
     ]
    },
    {
     "data": {
      "application/vnd.jupyter.widget-view+json": {
       "model_id": "a9d4d4d1eef64c04bf63846d6fafc0f5",
       "version_major": 2,
       "version_minor": 0
      },
      "text/plain": [
       "HBox(children=(FloatProgress(value=0.0, description='[2] 9/12(val  )', max=157.0, style=ProgressStyle(descript…"
      ]
     },
     "metadata": {},
     "output_type": "display_data"
    },
    {
     "name": "stdout",
     "output_type": "stream",
     "text": [
      "\n",
      "[3] train Loss: 0.913890 Acc: 0.652133\n",
      " "
     ]
    },
    {
     "data": {
      "application/vnd.jupyter.widget-view+json": {
       "model_id": "55347aa1750941bd8379e48c182f968d",
       "version_major": 2,
       "version_minor": 0
      },
      "text/plain": [
       "HBox(children=(FloatProgress(value=0.0, description='[3] 9/12(val  )', max=157.0, style=ProgressStyle(descript…"
      ]
     },
     "metadata": {},
     "output_type": "display_data"
    },
    {
     "name": "stdout",
     "output_type": "stream",
     "text": [
      "\n",
      "[0] val Loss: 1.080313 Acc: 0.585200\n",
      " "
     ]
    },
    {
     "data": {
      "application/vnd.jupyter.widget-view+json": {
       "model_id": "96d1d72e185c41358e21dff52f7b122f",
       "version_major": 2,
       "version_minor": 0
      },
      "text/plain": [
       "HBox(children=(FloatProgress(value=0.0, description='[0] 10/12(train)', max=469.0, style=ProgressStyle(descrip…"
      ]
     },
     "metadata": {},
     "output_type": "display_data"
    },
    {
     "name": "stdout",
     "output_type": "stream",
     "text": [
      "\n",
      "[1] val Loss: 1.097499 Acc: 0.575200\n",
      " "
     ]
    },
    {
     "data": {
      "application/vnd.jupyter.widget-view+json": {
       "model_id": "dd9c04ab640a44229f46da81cf4930c5",
       "version_major": 2,
       "version_minor": 0
      },
      "text/plain": [
       "HBox(children=(FloatProgress(value=0.0, description='[1] 10/12(train)', max=469.0, style=ProgressStyle(descrip…"
      ]
     },
     "metadata": {},
     "output_type": "display_data"
    },
    {
     "name": "stdout",
     "output_type": "stream",
     "text": [
      "\n",
      "[2] val Loss: 1.071298 Acc: 0.589600\n",
      " "
     ]
    },
    {
     "data": {
      "application/vnd.jupyter.widget-view+json": {
       "model_id": "6d6133487161434eb85fa673c73f92fb",
       "version_major": 2,
       "version_minor": 0
      },
      "text/plain": [
       "HBox(children=(FloatProgress(value=0.0, description='[2] 10/12(train)', max=469.0, style=ProgressStyle(descrip…"
      ]
     },
     "metadata": {},
     "output_type": "display_data"
    },
    {
     "name": "stdout",
     "output_type": "stream",
     "text": [
      "\n",
      "[3] val Loss: 1.072213 Acc: 0.594000\n",
      " "
     ]
    },
    {
     "data": {
      "application/vnd.jupyter.widget-view+json": {
       "model_id": "59b59a1c3b5b4fe18ef41e706f99bbf8",
       "version_major": 2,
       "version_minor": 0
      },
      "text/plain": [
       "HBox(children=(FloatProgress(value=0.0, description='[3] 10/12(train)', max=469.0, style=ProgressStyle(descrip…"
      ]
     },
     "metadata": {},
     "output_type": "display_data"
    },
    {
     "name": "stdout",
     "output_type": "stream",
     "text": [
      "\n",
      "[0] train Loss: 0.840296 Acc: 0.687333\n",
      " "
     ]
    },
    {
     "data": {
      "application/vnd.jupyter.widget-view+json": {
       "model_id": "1e325db60026444a99b8a1751a654cdb",
       "version_major": 2,
       "version_minor": 0
      },
      "text/plain": [
       "HBox(children=(FloatProgress(value=0.0, description='[0] 10/12(val  )', max=157.0, style=ProgressStyle(descrip…"
      ]
     },
     "metadata": {},
     "output_type": "display_data"
    },
    {
     "name": "stdout",
     "output_type": "stream",
     "text": [
      "\n",
      "[2] train Loss: 0.819084 Acc: 0.694667\n",
      " "
     ]
    },
    {
     "data": {
      "application/vnd.jupyter.widget-view+json": {
       "model_id": "56815425286c49c0b01554a0b781b292",
       "version_major": 2,
       "version_minor": 0
      },
      "text/plain": [
       "HBox(children=(FloatProgress(value=0.0, description='[2] 10/12(val  )', max=157.0, style=ProgressStyle(descrip…"
      ]
     },
     "metadata": {},
     "output_type": "display_data"
    },
    {
     "name": "stdout",
     "output_type": "stream",
     "text": [
      "\n",
      "[3] train Loss: 0.870724 Acc: 0.673333\n",
      " "
     ]
    },
    {
     "data": {
      "application/vnd.jupyter.widget-view+json": {
       "model_id": "5bee22705b714318a5ff3266f7b54e23",
       "version_major": 2,
       "version_minor": 0
      },
      "text/plain": [
       "HBox(children=(FloatProgress(value=0.0, description='[3] 10/12(val  )', max=157.0, style=ProgressStyle(descrip…"
      ]
     },
     "metadata": {},
     "output_type": "display_data"
    },
    {
     "name": "stdout",
     "output_type": "stream",
     "text": [
      "\n",
      "[1] train Loss: 0.945286 Acc: 0.634133\n",
      " "
     ]
    },
    {
     "data": {
      "application/vnd.jupyter.widget-view+json": {
       "model_id": "25718d796fc947d29d1da61fa2a0fb37",
       "version_major": 2,
       "version_minor": 0
      },
      "text/plain": [
       "HBox(children=(FloatProgress(value=0.0, description='[1] 10/12(val  )', max=157.0, style=ProgressStyle(descrip…"
      ]
     },
     "metadata": {},
     "output_type": "display_data"
    },
    {
     "name": "stdout",
     "output_type": "stream",
     "text": [
      "\n",
      "[0] val Loss: 1.050435 Acc: 0.591200\n",
      " "
     ]
    },
    {
     "data": {
      "application/vnd.jupyter.widget-view+json": {
       "model_id": "06dc60b86e8a42d2af399ad8ef237bf3",
       "version_major": 2,
       "version_minor": 0
      },
      "text/plain": [
       "HBox(children=(FloatProgress(value=0.0, description='[0] 11/12(train)', max=469.0, style=ProgressStyle(descrip…"
      ]
     },
     "metadata": {},
     "output_type": "display_data"
    },
    {
     "name": "stdout",
     "output_type": "stream",
     "text": [
      "\n",
      "[3] val Loss: 1.053434 Acc: 0.606000\n",
      " "
     ]
    },
    {
     "data": {
      "application/vnd.jupyter.widget-view+json": {
       "model_id": "e98849e848604c07ab835a2b82cd7f0e",
       "version_major": 2,
       "version_minor": 0
      },
      "text/plain": [
       "HBox(children=(FloatProgress(value=0.0, description='[3] 11/12(train)', max=469.0, style=ProgressStyle(descrip…"
      ]
     },
     "metadata": {},
     "output_type": "display_data"
    },
    {
     "name": "stdout",
     "output_type": "stream",
     "text": [
      "\n",
      "[2] val Loss: 1.044258 Acc: 0.600800\n",
      " "
     ]
    },
    {
     "data": {
      "application/vnd.jupyter.widget-view+json": {
       "model_id": "885ddbef38fb483795c6b56bc2527e25",
       "version_major": 2,
       "version_minor": 0
      },
      "text/plain": [
       "HBox(children=(FloatProgress(value=0.0, description='[2] 11/12(train)', max=469.0, style=ProgressStyle(descrip…"
      ]
     },
     "metadata": {},
     "output_type": "display_data"
    },
    {
     "name": "stdout",
     "output_type": "stream",
     "text": [
      "\n",
      "[1] val Loss: 1.055935 Acc: 0.597200\n",
      " "
     ]
    },
    {
     "data": {
      "application/vnd.jupyter.widget-view+json": {
       "model_id": "3515593ee2894b8d82dc495586713f2a",
       "version_major": 2,
       "version_minor": 0
      },
      "text/plain": [
       "HBox(children=(FloatProgress(value=0.0, description='[1] 11/12(train)', max=469.0, style=ProgressStyle(descrip…"
      ]
     },
     "metadata": {},
     "output_type": "display_data"
    },
    {
     "name": "stdout",
     "output_type": "stream",
     "text": [
      "\n",
      "[0] train Loss: 0.806113 Acc: 0.696933\n",
      " "
     ]
    },
    {
     "data": {
      "application/vnd.jupyter.widget-view+json": {
       "model_id": "7bafd8846f7c4090955d42520e702bea",
       "version_major": 2,
       "version_minor": 0
      },
      "text/plain": [
       "HBox(children=(FloatProgress(value=0.0, description='[0] 11/12(val  )', max=157.0, style=ProgressStyle(descrip…"
      ]
     },
     "metadata": {},
     "output_type": "display_data"
    },
    {
     "name": "stdout",
     "output_type": "stream",
     "text": [
      "\n",
      "[3] train Loss: 0.869484 Acc: 0.672400\n",
      " "
     ]
    },
    {
     "data": {
      "application/vnd.jupyter.widget-view+json": {
       "model_id": "52e5220707ce4ae1a9b1fbf786d1581e",
       "version_major": 2,
       "version_minor": 0
      },
      "text/plain": [
       "HBox(children=(FloatProgress(value=0.0, description='[3] 11/12(val  )', max=157.0, style=ProgressStyle(descrip…"
      ]
     },
     "metadata": {},
     "output_type": "display_data"
    },
    {
     "name": "stdout",
     "output_type": "stream",
     "text": [
      "\n",
      "[2] train Loss: 0.774755 Acc: 0.716800\n",
      " "
     ]
    },
    {
     "data": {
      "application/vnd.jupyter.widget-view+json": {
       "model_id": "dc056c15c05d41d9b99673e006251d1b",
       "version_major": 2,
       "version_minor": 0
      },
      "text/plain": [
       "HBox(children=(FloatProgress(value=0.0, description='[2] 11/12(val  )', max=157.0, style=ProgressStyle(descrip…"
      ]
     },
     "metadata": {},
     "output_type": "display_data"
    },
    {
     "name": "stdout",
     "output_type": "stream",
     "text": [
      "\n",
      "[1] train Loss: 0.921322 Acc: 0.653867\n",
      " "
     ]
    },
    {
     "data": {
      "application/vnd.jupyter.widget-view+json": {
       "model_id": "45b2fdf5d7d74be9911aec3b486ea82f",
       "version_major": 2,
       "version_minor": 0
      },
      "text/plain": [
       "HBox(children=(FloatProgress(value=0.0, description='[1] 11/12(val  )', max=157.0, style=ProgressStyle(descrip…"
      ]
     },
     "metadata": {},
     "output_type": "display_data"
    },
    {
     "name": "stdout",
     "output_type": "stream",
     "text": [
      "\n",
      "[0] val Loss: 1.048555 Acc: 0.601600\n",
      " "
     ]
    },
    {
     "data": {
      "application/vnd.jupyter.widget-view+json": {
       "model_id": "6f6e9ae8f7584768b8a96b880e6e5d8d",
       "version_major": 2,
       "version_minor": 0
      },
      "text/plain": [
       "HBox(children=(FloatProgress(value=0.0, description='[0] 12/12(train)', max=469.0, style=ProgressStyle(descrip…"
      ]
     },
     "metadata": {},
     "output_type": "display_data"
    },
    {
     "name": "stdout",
     "output_type": "stream",
     "text": [
      "\n",
      "[2] val Loss: 1.075104 Acc: 0.586000\n",
      " "
     ]
    },
    {
     "data": {
      "application/vnd.jupyter.widget-view+json": {
       "model_id": "f9327a47779849a382dc67cbd0287217",
       "version_major": 2,
       "version_minor": 0
      },
      "text/plain": [
       "HBox(children=(FloatProgress(value=0.0, description='[2] 12/12(train)', max=469.0, style=ProgressStyle(descrip…"
      ]
     },
     "metadata": {},
     "output_type": "display_data"
    },
    {
     "name": "stdout",
     "output_type": "stream",
     "text": [
      "\n",
      "[3] val Loss: 1.071824 Acc: 0.599600\n",
      " "
     ]
    },
    {
     "data": {
      "application/vnd.jupyter.widget-view+json": {
       "model_id": "e12b2daa7e0b431ab444d3a2617bbf94",
       "version_major": 2,
       "version_minor": 0
      },
      "text/plain": [
       "HBox(children=(FloatProgress(value=0.0, description='[3] 12/12(train)', max=469.0, style=ProgressStyle(descrip…"
      ]
     },
     "metadata": {},
     "output_type": "display_data"
    },
    {
     "name": "stdout",
     "output_type": "stream",
     "text": [
      "\n",
      "[1] val Loss: 1.067045 Acc: 0.592400\n",
      " "
     ]
    },
    {
     "data": {
      "application/vnd.jupyter.widget-view+json": {
       "model_id": "a21a2742a9a64d5eac77deecc8c23491",
       "version_major": 2,
       "version_minor": 0
      },
      "text/plain": [
       "HBox(children=(FloatProgress(value=0.0, description='[1] 12/12(train)', max=469.0, style=ProgressStyle(descrip…"
      ]
     },
     "metadata": {},
     "output_type": "display_data"
    },
    {
     "name": "stdout",
     "output_type": "stream",
     "text": [
      "\n",
      "[0] train Loss: 0.787452 Acc: 0.701067\n",
      " "
     ]
    },
    {
     "data": {
      "application/vnd.jupyter.widget-view+json": {
       "model_id": "0d846fa3ac67458ea2026e5c75c6cf94",
       "version_major": 2,
       "version_minor": 0
      },
      "text/plain": [
       "HBox(children=(FloatProgress(value=0.0, description='[0] 12/12(val  )', max=157.0, style=ProgressStyle(descrip…"
      ]
     },
     "metadata": {},
     "output_type": "display_data"
    },
    {
     "name": "stdout",
     "output_type": "stream",
     "text": [
      "\n",
      "[3] train Loss: 0.836986 Acc: 0.685067\n",
      " "
     ]
    },
    {
     "data": {
      "application/vnd.jupyter.widget-view+json": {
       "model_id": "2044e30fde7d492594acb081cb67b363",
       "version_major": 2,
       "version_minor": 0
      },
      "text/plain": [
       "HBox(children=(FloatProgress(value=0.0, description='[3] 12/12(val  )', max=157.0, style=ProgressStyle(descrip…"
      ]
     },
     "metadata": {},
     "output_type": "display_data"
    },
    {
     "name": "stdout",
     "output_type": "stream",
     "text": [
      "\n",
      "[1] train Loss: 0.906319 Acc: 0.649600\n",
      " "
     ]
    },
    {
     "data": {
      "application/vnd.jupyter.widget-view+json": {
       "model_id": "b6c253d3a60a465ca63f4eebd0b3b1d0",
       "version_major": 2,
       "version_minor": 0
      },
      "text/plain": [
       "HBox(children=(FloatProgress(value=0.0, description='[1] 12/12(val  )', max=157.0, style=ProgressStyle(descrip…"
      ]
     },
     "metadata": {},
     "output_type": "display_data"
    },
    {
     "name": "stdout",
     "output_type": "stream",
     "text": [
      "\n",
      "[2] train Loss: 0.754275 Acc: 0.718667\n",
      " "
     ]
    },
    {
     "data": {
      "application/vnd.jupyter.widget-view+json": {
       "model_id": "cdc090e946934991ba7579373ad90575",
       "version_major": 2,
       "version_minor": 0
      },
      "text/plain": [
       "HBox(children=(FloatProgress(value=0.0, description='[2] 12/12(val  )', max=157.0, style=ProgressStyle(descrip…"
      ]
     },
     "metadata": {},
     "output_type": "display_data"
    },
    {
     "name": "stdout",
     "output_type": "stream",
     "text": [
      "\n",
      "[0] val Loss: 1.050803 Acc: 0.599200\n",
      "[0] Training complete in 1118m 28.733871s\n",
      "[0] Best val Acc: 0.601600\n",
      "\n",
      "\n",
      "[3] val Loss: 1.054158 Acc: 0.606000\n",
      "[3] Training complete in 1123m 12.016683s\n",
      "[3] Best val Acc: 0.606000\n",
      "\n",
      "\n",
      "[2] val Loss: 1.049828 Acc: 0.588800\n",
      "[2] Training complete in 1123m 14.518635s\n",
      "[2] Best val Acc: 0.600800\n",
      "\n",
      "\n",
      "[1] val Loss: 1.060938 Acc: 0.592000\n",
      "[1] Training complete in 1123m 14.939176s\n",
      "[1] Best val Acc: 0.597200\n",
      "\n"
     ]
    }
   ],
   "source": [
    "log_dict = {'batch_size': CFG.batch_size,\n",
    "            'epochs': CFG.epochs,\n",
    "            'learning_rate': CFG.lr,\n",
    "            'model': CFG.model_name,\n",
    "            'nworkers': CFG.nworkers,\n",
    "            'nfolds': CFG.nfolds,\n",
    "            'random_seed': CFG.seed}\n",
    "\n",
    "nfold = range(CFG.nfolds)\n",
    "result_list = list(MyPool(CFG.nfolds).map(progressor, nfold))\n",
    "\n",
    "# Accumulate result from each process\n",
    "for result in result_list:\n",
    "    log_dict.update(result)\n",
    "\n",
    "# Log results\n",
    "log_file = f'{CFG.model_name}_{datetime.now().strftime(\"%m_%d_%Y_%H_%M\")}.pkl'\n",
    "with open(log_file, 'wb') as pkl_file:\n",
    "    pickle.dump(log_dict, pkl_file)"
   ]
  },
  {
   "cell_type": "code",
   "execution_count": 11,
   "metadata": {},
   "outputs": [
    {
     "data": {
      "text/plain": [
       "\"\\nfor fold in range(CFG.nfolds):\\n    best_model, loss_history, train_acc_history, val_acc_history = train_fn(fold)\\n    log_dict[f'best_mode_{fold}'] = best_model\\n    log_dict[f'loss_history_{fold}'] = loss_history\\n    log_dict[f'train_acc_history_{fold}'] = train_acc_history\\n    log_dict[f'val_acc_history_{fold}'] = val_acc_history\\n\""
      ]
     },
     "execution_count": 11,
     "metadata": {},
     "output_type": "execute_result"
    }
   ],
   "source": [
    "\"\"\"\n",
    "for fold in range(CFG.nfolds):\n",
    "    best_model, loss_history, train_acc_history, val_acc_history = train_fn(fold)\n",
    "    log_dict[f'best_mode_{fold}'] = best_model\n",
    "    log_dict[f'loss_history_{fold}'] = loss_history\n",
    "    log_dict[f'train_acc_history_{fold}'] = train_acc_history\n",
    "    log_dict[f'val_acc_history_{fold}'] = val_acc_history\n",
    "\"\"\""
   ]
  },
  {
   "cell_type": "markdown",
   "metadata": {},
   "source": [
    "\"\"\"\n",
    "Graphs\n",
    "1. loss vs. iterations\n",
    "2. Train/Validation accuracy along epoch\n",
    "\"\"\"\n",
    "plt.subplot(2,1,1)\n",
    "plt.plot(log_dict['loss_history_0'], 'o')\n",
    "plt.xlabel('epoch')\n",
    "plt.ylabel('loss')\n",
    "\n",
    "plt.subplot(2,1,2)\n",
    "plt.plot(log_dict['train_acc_history_0'], '-o')\n",
    "plt.plot(log_dict['val_acc_history_0'], '-o')\n",
    "plt.legend(['train', 'val'], loc='upper left')\n",
    "plt.xlabel('epoch')\n",
    "plt.ylabel('accuracy')\n",
    "\n",
    "plt.tight_layout(pad=3)\n",
    "plt.show()"
   ]
  },
  {
   "cell_type": "code",
   "execution_count": 12,
   "metadata": {},
   "outputs": [
    {
     "data": {
      "image/png": "[encoded data removed]",
      "text/plain": [
       "<Figure size 432x288 with 2 Axes>"
      ]
     },
     "metadata": {
      "needs_background": "light"
     },
     "output_type": "display_data"
    }
   ],
   "source": [
    "# read python dict back from the file\n",
    "#with open('resnet_06_06_2020_19_27.pkl', 'rb') as pfile:\n",
    "#    test_dict = pickle.load(pfile)\n",
    "\"\"\"\n",
    "Graphs\n",
    "1. loss vs. iterations\n",
    "2. Train/Validation accuracy along epoch\n",
    "\"\"\"\n",
    "plt.subplot(2,1,1)\n",
    "plt.plot(log_dict['loss_history_0'], 'o')\n",
    "plt.xlabel('epoch')\n",
    "plt.ylabel('loss')\n",
    "\n",
    "plt.subplot(2,1,2)\n",
    "plt.plot(log_dict['train_acc_history_0'], '-o')\n",
    "plt.plot(log_dict['val_acc_history_0'], '-o')\n",
    "plt.legend(['train', 'val'], loc='upper left')\n",
    "plt.xlabel('epoch')\n",
    "plt.ylabel('accuracy')\n",
    "\n",
    "plt.tight_layout(pad=3)\n",
    "plt.show()"
   ]
  },
  {
   "cell_type": "code",
   "execution_count": 13,
   "metadata": {},
   "outputs": [
    {
     "data": {
      "application/vnd.jupyter.widget-view+json": {
       "model_id": "07e8208abfe645c79cc6b00c2256c112",
       "version_major": 2,
       "version_minor": 0
      },
      "text/plain": [
       "HBox(children=(FloatProgress(value=0.0, max=157.0), HTML(value='')))"
      ]
     },
     "metadata": {},
     "output_type": "display_data"
    },
    {
     "name": "stdout",
     "output_type": "stream",
     "text": [
      "\n"
     ]
    },
    {
     "data": {
      "application/vnd.jupyter.widget-view+json": {
       "model_id": "438903f3894e47b498fa0f33a8ad3c6b",
       "version_major": 2,
       "version_minor": 0
      },
      "text/plain": [
       "HBox(children=(FloatProgress(value=0.0, max=157.0), HTML(value='')))"
      ]
     },
     "metadata": {},
     "output_type": "display_data"
    },
    {
     "name": "stdout",
     "output_type": "stream",
     "text": [
      "\n"
     ]
    },
    {
     "data": {
      "application/vnd.jupyter.widget-view+json": {
       "model_id": "7cb895ffbcb245c0828378a68d75d0e4",
       "version_major": 2,
       "version_minor": 0
      },
      "text/plain": [
       "HBox(children=(FloatProgress(value=0.0, max=157.0), HTML(value='')))"
      ]
     },
     "metadata": {},
     "output_type": "display_data"
    },
    {
     "name": "stdout",
     "output_type": "stream",
     "text": [
      "\n"
     ]
    },
    {
     "data": {
      "application/vnd.jupyter.widget-view+json": {
       "model_id": "82af408cbc83465a9c2f8e4ec328310d",
       "version_major": 2,
       "version_minor": 0
      },
      "text/plain": [
       "HBox(children=(FloatProgress(value=0.0, max=157.0), HTML(value='')))"
      ]
     },
     "metadata": {},
     "output_type": "display_data"
    },
    {
     "name": "stdout",
     "output_type": "stream",
     "text": [
      "\n"
     ]
    }
   ],
   "source": [
    "preds, targets = [], []\n",
    "for fold in range(CFG.nfolds):\n",
    "    model_fd = log_dict[f'best_mode_{fold}']\n",
    "    _, loader_val = data_loader(fold)\n",
    "    for inputs, labels in tqdm(loader_val):\n",
    "        inputs = inputs.to(device=CFG.device, dtype=CFG.dtype)\n",
    "        labels = labels.to(device=CFG.device, dtype=torch.long)\n",
    "                \n",
    "        # Forward, track history if only in training\n",
    "        with torch.no_grad():\n",
    "            outputs = model_fd(inputs)\n",
    "            pred = torch.argmax(outputs, 1)\n",
    "        preds.append(pred)\n",
    "        targets.append(labels)"
   ]
  },
  {
   "cell_type": "code",
   "execution_count": 18,
   "metadata": {},
   "outputs": [
    {
     "name": "stdout",
     "output_type": "stream",
     "text": [
      "Kappa: 0.7414910361034592\n"
     ]
    },
    {
     "data": {
      "text/plain": [
       "Text(69.0, 0.5, 'True label')"
      ]
     },
     "execution_count": 18,
     "metadata": {},
     "output_type": "execute_result"
    },
    {
     "data": {
      "image/png": "[encoded data removed]",
      "text/plain": [
       "<Figure size 720x504 with 2 Axes>"
      ]
     },
     "metadata": {
      "needs_background": "light"
     },
     "output_type": "display_data"
    }
   ],
   "source": [
    "p = torch.cat(preds).cpu()\n",
    "t = torch.cat(targets).cpu()\n",
    "kappa = cohen_kappa_score(t, p, weights='quadratic')\n",
    "print(f'Kappa: {kappa}')\n",
    "conf_mat = confusion_matrix(t,p)\n",
    "#plt.matshow()\n",
    "plt.figure(figsize=(10,7))\n",
    "sn.heatmap(conf_mat, annot=True)\n",
    "plt.xlabel('Predicted label')\n",
    "plt.ylabel('True label')"
   ]
  },
  {
   "cell_type": "code",
   "execution_count": null,
   "metadata": {},
   "outputs": [],
   "source": []
  }
 ],
 "metadata": {
  "kernelspec": {
   "display_name": "Python 3",
   "language": "python",
   "name": "python3"
  },
  "language_info": {
   "codemirror_mode": {
    "name": "ipython",
    "version": 3
   },
   "file_extension": ".py",
   "mimetype": "text/x-python",
   "name": "python",
   "nbconvert_exporter": "python",
   "pygments_lexer": "ipython3",
   "version": "3.7.6"
  },
  "widgets": {
   "application/vnd.jupyter.widget-state+json": {
    "state": {
     "00028421c2c74677bf6465c3e81979cc": {
      "model_module": "@jupyter-widgets/controls",
      "model_module_version": "1.5.0",
      "model_name": "DescriptionStyleModel",
      "state": {
       "description_width": ""
      }
     },
     "0006a2563aa243c6a73f0dcd03e0374b": {
      "model_module": "@jupyter-widgets/base",
      "model_module_version": "1.2.0",
      "model_name": "LayoutModel",
      "state": {}
     },
     "00102b9a53c24fcc8bd98b7bd0f0fb80": {
      "model_module": "@jupyter-widgets/base",
      "model_module_version": "1.2.0",
      "model_name": "LayoutModel",
      "state": {}
     },
     "0038ec72fd77434b808987e6a3223aaf": {
      "model_module": "@jupyter-widgets/controls",
      "model_module_version": "1.5.0",
      "model_name": "ProgressStyleModel",
      "state": {
       "description_width": "initial"
      }
     },
     "00543e2c26ab4cd29a02254e77c7a1bc": {
      "model_module": "@jupyter-widgets/base",
      "model_module_version": "1.2.0",
      "model_name": "LayoutModel",
      "state": {}
     },
     "006924e34bdf456b8d7b76a91d56835c": {
      "model_module": "@jupyter-widgets/base",
      "model_module_version": "1.2.0",
      "model_name": "LayoutModel",
      "state": {}
     },
     "0109cde5d6974df0ad14a61e0cf6ef22": {
      "model_module": "@jupyter-widgets/base",
      "model_module_version": "1.2.0",
      "model_name": "LayoutModel",
      "state": {}
     },
     "0120329beba14f798906b981f02bede3": {
      "model_module": "@jupyter-widgets/controls",
      "model_module_version": "1.5.0",
      "model_name": "HBoxModel",
      "state": {
       "children": [
        "IPY_MODEL_53d522a581084eb091f4246908064004",
        "IPY_MODEL_5df6466b24554946868e4a27dc7b95b6"
       ],
       "layout": "IPY_MODEL_1e74593cc59e4ba2b0279e4e62f76650"
      }
     },
     "0122b5b6800b464bb0635e3b8bf101b2": {
      "model_module": "@jupyter-widgets/base",
      "model_module_version": "1.2.0",
      "model_name": "LayoutModel",
      "state": {}
     },
     "013f5be1c29e4dc0abdf40451c0589cf": {
      "model_module": "@jupyter-widgets/controls",
      "model_module_version": "1.5.0",
      "model_name": "ProgressStyleModel",
      "state": {
       "description_width": "initial"
      }
     },
     "01435bca8a1546aaafa6613a0cd55e57": {
      "model_module": "@jupyter-widgets/base",
      "model_module_version": "1.2.0",
      "model_name": "LayoutModel",
      "state": {}
     },
     "0147c5fa84df40eba87defc250221b7a": {
      "model_module": "@jupyter-widgets/base",
      "model_module_version": "1.2.0",
      "model_name": "LayoutModel",
      "state": {}
     },
     "01aec368d39543e3b6646a81d8755550": {
      "model_module": "@jupyter-widgets/controls",
      "model_module_version": "1.5.0",
      "model_name": "FloatProgressModel",
      "state": {
       "bar_style": "success",
       "description": "[2] 9/12(train): 100%",
       "layout": "IPY_MODEL_ba4793879e5440b2afcdd420cf79827a",
       "max": 469,
       "style": "IPY_MODEL_b0144693dca84bea9b4cde8425a6c15d",
       "value": 469
      }
     },
     "0232dd1faf4f46fc90ee12394da29136": {
      "model_module": "@jupyter-widgets/base",
      "model_module_version": "1.2.0",
      "model_name": "LayoutModel",
      "state": {}
     },
     "0239f624822244f2b66ce44c2585c4dd": {
      "model_module": "@jupyter-widgets/controls",
      "model_module_version": "1.5.0",
      "model_name": "HBoxModel",
      "state": {
       "children": [
        "IPY_MODEL_53d70686a86b4731b99b5bbaa5a9895e",
        "IPY_MODEL_afe98cfd8ed64b2389df76cff122477b"
       ],
       "layout": "IPY_MODEL_a7aa70f2f33e49f5ad35b6d748c4972a"
      }
     },
     "0251b8c7ed7e4ef4a8bd2b7e0bdd07ef": {
      "model_module": "@jupyter-widgets/controls",
      "model_module_version": "1.5.0",
      "model_name": "HTMLModel",
      "state": {
       "layout": "IPY_MODEL_c95589ead9f64b6fae69722468af6d3c",
       "style": "IPY_MODEL_33382f046dd6461fa9b8f7492a4f41ab",
       "value": " 469/469 [1:09:44&lt;00:00,  8.92s/it]"
      }
     },
     "02b78f43e9464c8ea40c20ab36e95516": {
      "model_module": "@jupyter-widgets/base",
      "model_module_version": "1.2.0",
      "model_name": "LayoutModel",
      "state": {}
     },
     "02d6b18979af46f481aa0e01fcb2fc4c": {
      "model_module": "@jupyter-widgets/base",
      "model_module_version": "1.2.0",
      "model_name": "LayoutModel",
      "state": {}
     },
     "02eec73cd6134c5e9ad9b9596aef6ed8": {
      "model_module": "@jupyter-widgets/controls",
      "model_module_version": "1.5.0",
      "model_name": "FloatProgressModel",
      "state": {
       "bar_style": "success",
       "description": "[2] 7/12(train): 100%",
       "layout": "IPY_MODEL_63e5fcd0d99245ec8a9374a0680406a5",
       "max": 493,
       "style": "IPY_MODEL_cb66a942c8ab4c6289246960d77f012a",
       "value": 493
      }
     },
     "0341f1c6a18d40cc880f530cfc996b35": {
      "model_module": "@jupyter-widgets/controls",
      "model_module_version": "1.5.0",
      "model_name": "HTMLModel",
      "state": {
       "layout": "IPY_MODEL_8fa024d4f43f424abb47341955912b3c",
       "style": "IPY_MODEL_45bdbb8210c14f4e911c94cd3be97248",
       "value": " 157/157 [22:30&lt;00:00,  8.60s/it]"
      }
     },
     "03449136f215422cb9434c4be9f2ad88": {
      "model_module": "@jupyter-widgets/base",
      "model_module_version": "1.2.0",
      "model_name": "LayoutModel",
      "state": {}
     },
     "0370cb4320c4452196e6a1562d6d13e9": {
      "model_module": "@jupyter-widgets/controls",
      "model_module_version": "1.5.0",
      "model_name": "DescriptionStyleModel",
      "state": {
       "description_width": ""
      }
     },
     "037f57103a7b4cb09703e2150161be02": {
      "model_module": "@jupyter-widgets/controls",
      "model_module_version": "1.5.0",
      "model_name": "HTMLModel",
      "state": {
       "layout": "IPY_MODEL_dc876ae3d25d4f9bb5c29f8e7b26af05",
       "style": "IPY_MODEL_bec82a1384404b18bf4a32c77edaee56",
       "value": " 157/157 [24:12&lt;00:00,  9.25s/it]"
      }
     },
     "038a04ebfdb942d586ebb0c5e863cd0f": {
      "model_module": "@jupyter-widgets/controls",
      "model_module_version": "1.5.0",
      "model_name": "DescriptionStyleModel",
      "state": {
       "description_width": ""
      }
     },
     "03b499801e4a4d9184e48ae0b78292f4": {
      "model_module": "@jupyter-widgets/controls",
      "model_module_version": "1.5.0",
      "model_name": "HTMLModel",
      "state": {
       "layout": "IPY_MODEL_b556156aa6cd40548b880e79d3888af3",
       "style": "IPY_MODEL_2a5875a575584d4f9cc84291aadb247e",
       "value": " 157/157 [22:23&lt;00:00,  8.55s/it]"
      }
     },
     "03c4e56822234cbe9486dfc76be38085": {
      "model_module": "@jupyter-widgets/controls",
      "model_module_version": "1.5.0",
      "model_name": "DescriptionStyleModel",
      "state": {
       "description_width": ""
      }
     },
     "03c8ce6a11084eb8a631ceffb05ad6ff": {
      "model_module": "@jupyter-widgets/base",
      "model_module_version": "1.2.0",
      "model_name": "LayoutModel",
      "state": {}
     },
     "03e109902dd64f8f9b5b01c3b04edc60": {
      "model_module": "@jupyter-widgets/base",
      "model_module_version": "1.2.0",
      "model_name": "LayoutModel",
      "state": {}
     },
     "03fa4a42152e49e4958edbac8d33e1ff": {
      "model_module": "@jupyter-widgets/base",
      "model_module_version": "1.2.0",
      "model_name": "LayoutModel",
      "state": {}
     },
     "041b2728e0444c238f6edaaf655a1022": {
      "model_module": "@jupyter-widgets/controls",
      "model_module_version": "1.5.0",
      "model_name": "FloatProgressModel",
      "state": {
       "bar_style": "success",
       "description": "[0] 6/12(val  ): 100%",
       "layout": "IPY_MODEL_0f2b8f66503748e29c92c6f3daa9c0c6",
       "max": 157,
       "style": "IPY_MODEL_e640c565855040d5896d4b6dd32cf614",
       "value": 157
      }
     },
     "04237e60728a475cbc75ed9d42dfd43c": {
      "model_module": "@jupyter-widgets/base",
      "model_module_version": "1.2.0",
      "model_name": "LayoutModel",
      "state": {}
     },
     "042b13077a874c8e9ff380d5c70cf819": {
      "model_module": "@jupyter-widgets/controls",
      "model_module_version": "1.5.0",
      "model_name": "FloatProgressModel",
      "state": {
       "bar_style": "success",
       "description": "[0] 2/12(train): 100%",
       "layout": "IPY_MODEL_cb7203b1664142f0a66a96ef8ad808fe",
       "max": 493,
       "style": "IPY_MODEL_da23385735274fce8c13e627a189fb49",
       "value": 493
      }
     },
     "04370c8d3f394616ac940ce28ac09cd0": {
      "model_module": "@jupyter-widgets/base",
      "model_module_version": "1.2.0",
      "model_name": "LayoutModel",
      "state": {}
     },
     "0437bb4fe28742efbb15442702e4523d": {
      "model_module": "@jupyter-widgets/base",
      "model_module_version": "1.2.0",
      "model_name": "LayoutModel",
      "state": {}
     },
     "04bd64dd24ce4333b38e6ac04b1e7ac4": {
      "model_module": "@jupyter-widgets/base",
      "model_module_version": "1.2.0",
      "model_name": "LayoutModel",
      "state": {}
     },
     "04c4033d0e3042a4946a98d2bcc7add3": {
      "model_module": "@jupyter-widgets/controls",
      "model_module_version": "1.5.0",
      "model_name": "DescriptionStyleModel",
      "state": {
       "description_width": ""
      }
     },
     "04cc9accb69245a0ba92c5a00efb041e": {
      "model_module": "@jupyter-widgets/controls",
      "model_module_version": "1.5.0",
      "model_name": "ProgressStyleModel",
      "state": {
       "description_width": "initial"
      }
     },
     "04eb2b6ec9dc45a8b628ec5f3684842d": {
      "model_module": "@jupyter-widgets/base",
      "model_module_version": "1.2.0",
      "model_name": "LayoutModel",
      "state": {}
     },
     "052fac3836f941278391f938821feaf8": {
      "model_module": "@jupyter-widgets/base",
      "model_module_version": "1.2.0",
      "model_name": "LayoutModel",
      "state": {}
     },
     "0540146525b845afa6142fc3c1d80147": {
      "model_module": "@jupyter-widgets/controls",
      "model_module_version": "1.5.0",
      "model_name": "FloatProgressModel",
      "state": {
       "bar_style": "success",
       "description": "[3] 1/1(train): 100%",
       "layout": "IPY_MODEL_1da6a4defea046749ce64dfdd851b916",
       "max": 3,
       "style": "IPY_MODEL_68c086d7a4b44b7d99b7d28cc91ff65b",
       "value": 3
      }
     },
     "0575fe16129e40dd8fc5cece64ed3802": {
      "model_module": "@jupyter-widgets/controls",
      "model_module_version": "1.5.0",
      "model_name": "HTMLModel",
      "state": {
       "layout": "IPY_MODEL_27bcf115dabc4e118981f6e650070060",
       "style": "IPY_MODEL_22d845b4496a42b48d21d5365603306b",
       "value": " 1/1 [00:03&lt;00:00,  3.98s/it]"
      }
     },
     "0588480362ac4e56af36b08494c24364": {
      "model_module": "@jupyter-widgets/controls",
      "model_module_version": "1.5.0",
      "model_name": "HTMLModel",
      "state": {
       "layout": "IPY_MODEL_d61a708655f145119c6728dfce7bc8e4",
       "style": "IPY_MODEL_d6ea86f2107b4a5081d1353edd868b4f",
       "value": " 165/165 [11:42&lt;00:00,  4.25s/it]"
      }
     },
     "058db1475bc948ea9f70d75f0751002c": {
      "model_module": "@jupyter-widgets/base",
      "model_module_version": "1.2.0",
      "model_name": "LayoutModel",
      "state": {}
     },
     "05c301da9be14f3fb42b878471a13cdb": {
      "model_module": "@jupyter-widgets/controls",
      "model_module_version": "1.5.0",
      "model_name": "FloatProgressModel",
      "state": {
       "bar_style": "success",
       "description": "[2] 10/12(train): 100%",
       "layout": "IPY_MODEL_38809685139742f081b7676a55389f3c",
       "max": 493,
       "style": "IPY_MODEL_54d2669f059f4b32aa2abaefca270fdd",
       "value": 493
      }
     },
     "05d5b4d018674c58a8ccd3facfdd316f": {
      "model_module": "@jupyter-widgets/controls",
      "model_module_version": "1.5.0",
      "model_name": "FloatProgressModel",
      "state": {
       "bar_style": "success",
       "description": "[2] 4/12(train): 100%",
       "layout": "IPY_MODEL_8f79e3566a43463ebede5df7d89ed657",
       "max": 493,
       "style": "IPY_MODEL_7c032a2cb43c48d683803c16b353aa6d",
       "value": 493
      }
     },
     "05db2d74956d4cd78ea3ac1fb9b749a3": {
      "model_module": "@jupyter-widgets/controls",
      "model_module_version": "1.5.0",
      "model_name": "HTMLModel",
      "state": {
       "layout": "IPY_MODEL_f36cf2990b0349f48d3f1d8bc1a039a6",
       "style": "IPY_MODEL_cee449620b01460dbb4193c6ad836187",
       "value": " 493/493 [46:31&lt;00:00,  5.66s/it]"
      }
     },
     "05feb266f41a4597ab4bfbef3e84d610": {
      "model_module": "@jupyter-widgets/base",
      "model_module_version": "1.2.0",
      "model_name": "LayoutModel",
      "state": {}
     },
     "065d67d382884f84b41b6e1cf788f78f": {
      "model_module": "@jupyter-widgets/controls",
      "model_module_version": "1.5.0",
      "model_name": "HBoxModel",
      "state": {
       "children": [
        "IPY_MODEL_c8b091ae99d4417f9694fd39163b3dcc",
        "IPY_MODEL_90774cc55bae4464928ec9fc49cc20c0"
       ],
       "layout": "IPY_MODEL_0ab3362f98244d538a9db062ed1622ae"
      }
     },
     "068aae9f3f444d5ca326827d7a6652ba": {
      "model_module": "@jupyter-widgets/controls",
      "model_module_version": "1.5.0",
      "model_name": "HBoxModel",
      "state": {
       "children": [
        "IPY_MODEL_08415b8ba2be4b18babd88000552a4dd",
        "IPY_MODEL_d291771f1072497d9ed228209f4edf17"
       ],
       "layout": "IPY_MODEL_d030a3b74d404d1bafbef9ee56795b36"
      }
     },
     "0698545d5d15473995b5c873d4694c5f": {
      "model_module": "@jupyter-widgets/base",
      "model_module_version": "1.2.0",
      "model_name": "LayoutModel",
      "state": {}
     },
     "069e67bab975470fafd886ab9a9f83c2": {
      "model_module": "@jupyter-widgets/base",
      "model_module_version": "1.2.0",
      "model_name": "LayoutModel",
      "state": {}
     },
     "06bbfcdeb7744ce987a1f0fbf0a02701": {
      "model_module": "@jupyter-widgets/controls",
      "model_module_version": "1.5.0",
      "model_name": "DescriptionStyleModel",
      "state": {
       "description_width": ""
      }
     },
     "06d7b8172ace4e5aadb4e5592e8156ae": {
      "model_module": "@jupyter-widgets/base",
      "model_module_version": "1.2.0",
      "model_name": "LayoutModel",
      "state": {}
     },
     "06dc60b86e8a42d2af399ad8ef237bf3": {
      "model_module": "@jupyter-widgets/controls",
      "model_module_version": "1.5.0",
      "model_name": "HBoxModel",
      "state": {
       "children": [
        "IPY_MODEL_ed5583e77fd6407d8951575f0474e59a",
        "IPY_MODEL_4b527627ac984be2a28d7bed0f0abfd1"
       ],
       "layout": "IPY_MODEL_5790a1fee3ab4d18af47b5be0736858f"
      }
     },
     "06ef9f9269f64b619a8211ae46153b0a": {
      "model_module": "@jupyter-widgets/controls",
      "model_module_version": "1.5.0",
      "model_name": "HBoxModel",
      "state": {
       "children": [
        "IPY_MODEL_d327e855e86f4d798ed38b6d7cb621a7",
        "IPY_MODEL_f5fd64ab68e54fb4940931c091a85ee5"
       ],
       "layout": "IPY_MODEL_6437282a585c4281bcdc696f1143fa16"
      }
     },
     "06ff52931abc4cac84f2f4718d2511c8": {
      "model_module": "@jupyter-widgets/controls",
      "model_module_version": "1.5.0",
      "model_name": "DescriptionStyleModel",
      "state": {
       "description_width": ""
      }
     },
     "0713bfcf25fe468a9eafe78189e5e904": {
      "model_module": "@jupyter-widgets/base",
      "model_module_version": "1.2.0",
      "model_name": "LayoutModel",
      "state": {}
     },
     "071756dc30f7458393f901df1d55edfa": {
      "model_module": "@jupyter-widgets/base",
      "model_module_version": "1.2.0",
      "model_name": "LayoutModel",
      "state": {}
     },
     "0722f25f483a4eda842459b2d4217533": {
      "model_module": "@jupyter-widgets/controls",
      "model_module_version": "1.5.0",
      "model_name": "FloatProgressModel",
      "state": {
       "bar_style": "success",
       "description": "[1] 12/12(val  ): 100%",
       "layout": "IPY_MODEL_249787a51e29437fa439b30ad29a8c93",
       "max": 157,
       "style": "IPY_MODEL_30c7687ee81641ce900dca5ac82377d4",
       "value": 157
      }
     },
     "07765ab129bc4fd987a2787454a173d2": {
      "model_module": "@jupyter-widgets/controls",
      "model_module_version": "1.5.0",
      "model_name": "DescriptionStyleModel",
      "state": {
       "description_width": ""
      }
     },
     "07ad446dda724dcca011f76ad6524a46": {
      "model_module": "@jupyter-widgets/controls",
      "model_module_version": "1.5.0",
      "model_name": "DescriptionStyleModel",
      "state": {
       "description_width": ""
      }
     },
     "07c98d6f08ff4b34aaeb49d35239c2a1": {
      "model_module": "@jupyter-widgets/base",
      "model_module_version": "1.2.0",
      "model_name": "LayoutModel",
      "state": {}
     },
     "07e8208abfe645c79cc6b00c2256c112": {
      "model_module": "@jupyter-widgets/controls",
      "model_module_version": "1.5.0",
      "model_name": "HBoxModel",
      "state": {
       "children": [
        "IPY_MODEL_58580bc9fd494d6cb02cce77687ed520",
        "IPY_MODEL_3d978c6df9c94f629190e44b340f0705"
       ],
       "layout": "IPY_MODEL_189bca8e5be94bd092f6bbcc5466d9a4"
      }
     },
     "0816a5deb4624155a49d1fda6a242149": {
      "model_module": "@jupyter-widgets/controls",
      "model_module_version": "1.5.0",
      "model_name": "HTMLModel",
      "state": {
       "layout": "IPY_MODEL_71570a913fd74df6b745e7b444a95625",
       "style": "IPY_MODEL_1288ee491fbe4e1daeb6c8e499e7ec1a",
       "value": " 165/165 [08:27&lt;00:00,  3.08s/it]"
      }
     },
     "0822f15619674a41abc2f01b5e91d742": {
      "model_module": "@jupyter-widgets/controls",
      "model_module_version": "1.5.0",
      "model_name": "DescriptionStyleModel",
      "state": {
       "description_width": ""
      }
     },
     "083ddc8d503d45568c778b60678a89a1": {
      "model_module": "@jupyter-widgets/controls",
      "model_module_version": "1.5.0",
      "model_name": "FloatProgressModel",
      "state": {
       "bar_style": "success",
       "description": "[0] 4/12(val  ): 100%",
       "layout": "IPY_MODEL_ae0e972a57c74ce1abf9071b5b9f3764",
       "max": 165,
       "style": "IPY_MODEL_9e255ac11882489b8d04715d399a5a4f",
       "value": 165
      }
     },
     "08415b8ba2be4b18babd88000552a4dd": {
      "model_module": "@jupyter-widgets/controls",
      "model_module_version": "1.5.0",
      "model_name": "FloatProgressModel",
      "state": {
       "bar_style": "success",
       "description": "[0] 8/12(train): 100%",
       "layout": "IPY_MODEL_ef8493f168b74d2a93043c9932852543",
       "max": 469,
       "style": "IPY_MODEL_9ba038a8e56340babac496ef87ff5bad",
       "value": 469
      }
     },
     "08945bebf6ab467ea33a844db2c32e6a": {
      "model_module": "@jupyter-widgets/base",
      "model_module_version": "1.2.0",
      "model_name": "LayoutModel",
      "state": {}
     },
     "08a4474c67a5458299ed4fe6e9bcf88f": {
      "model_module": "@jupyter-widgets/base",
      "model_module_version": "1.2.0",
      "model_name": "LayoutModel",
      "state": {}
     },
     "08bf6dc70c584a9f9ef0cc236fa6774b": {
      "model_module": "@jupyter-widgets/controls",
      "model_module_version": "1.5.0",
      "model_name": "FloatProgressModel",
      "state": {
       "bar_style": "success",
       "description": "[2] 2/12(train): 100%",
       "layout": "IPY_MODEL_7d01ee00079d4361bb8a3666c760f637",
       "max": 493,
       "style": "IPY_MODEL_cf59c01642384cd7a1d3643a5a2eb7ff",
       "value": 493
      }
     },
     "08ce32bb09e14371b263e566be6e0686": {
      "model_module": "@jupyter-widgets/controls",
      "model_module_version": "1.5.0",
      "model_name": "FloatProgressModel",
      "state": {
       "bar_style": "success",
       "description": "100%",
       "layout": "IPY_MODEL_ce36a556e9b5491182bef15f20d6d141",
       "max": 1,
       "style": "IPY_MODEL_2218c328a45140598e37483ebc06c963",
       "value": 1
      }
     },
     "08d66398311b496d962f1769dccd27af": {
      "model_module": "@jupyter-widgets/controls",
      "model_module_version": "1.5.0",
      "model_name": "FloatProgressModel",
      "state": {
       "bar_style": "success",
       "description": "[0] 8/12(val  ): 100%",
       "layout": "IPY_MODEL_57bedef1ac2d4d6eabf610ea8aa9a602",
       "max": 157,
       "style": "IPY_MODEL_d0e6f9fd2fa8419ca815ac158b433bed",
       "value": 157
      }
     },
     "09087c5fce514dd19bcb116ef778eba1": {
      "model_module": "@jupyter-widgets/base",
      "model_module_version": "1.2.0",
      "model_name": "LayoutModel",
      "state": {}
     },
     "099ed44c22754ac5b31d1b23dd76f08f": {
      "model_module": "@jupyter-widgets/controls",
      "model_module_version": "1.5.0",
      "model_name": "DescriptionStyleModel",
      "state": {
       "description_width": ""
      }
     },
     "099f60e6a1c74aa89560dc091fb88c85": {
      "model_module": "@jupyter-widgets/controls",
      "model_module_version": "1.5.0",
      "model_name": "HTMLModel",
      "state": {
       "layout": "IPY_MODEL_c6b69cac2d9a4db58be2045d0b851ca4",
       "style": "IPY_MODEL_1a25defca1ed4b7ba1a2aa059e18b975",
       "value": " 469/469 [1:12:44&lt;00:00,  9.31s/it]"
      }
     },
     "09b1bd998923488d98ee5f896d471b03": {
      "model_module": "@jupyter-widgets/controls",
      "model_module_version": "1.5.0",
      "model_name": "HTMLModel",
      "state": {
       "layout": "IPY_MODEL_61d05564928f4a1b96997e52d6df5f00",
       "style": "IPY_MODEL_0370cb4320c4452196e6a1562d6d13e9",
       "value": " 493/493 [36:51&lt;00:00,  4.48s/it]"
      }
     },
     "09dddd602c3141faadf06f210ea1e632": {
      "model_module": "@jupyter-widgets/controls",
      "model_module_version": "1.5.0",
      "model_name": "FloatProgressModel",
      "state": {
       "bar_style": "success",
       "description": "100%",
       "layout": "IPY_MODEL_ee5c4f575e7049b9802e2431dd59c9dd",
       "max": 165,
       "style": "IPY_MODEL_291f3531307e4f5fb6a207f806458c61",
       "value": 165
      }
     },
     "09ded731209b499ca8a35d4cded9decc": {
      "model_module": "@jupyter-widgets/base",
      "model_module_version": "1.2.0",
      "model_name": "LayoutModel",
      "state": {}
     },
     "0a0ee59175e84ac78f27ceaf9ae87a11": {
      "model_module": "@jupyter-widgets/controls",
      "model_module_version": "1.5.0",
      "model_name": "ProgressStyleModel",
      "state": {
       "description_width": "initial"
      }
     },
     "0a5363c4e0fb40c4be99467e811825de": {
      "model_module": "@jupyter-widgets/controls",
      "model_module_version": "1.5.0",
      "model_name": "ProgressStyleModel",
      "state": {
       "description_width": "initial"
      }
     },
     "0a575a6d24c042a792c3ad90bff6a6b3": {
      "model_module": "@jupyter-widgets/controls",
      "model_module_version": "1.5.0",
      "model_name": "FloatProgressModel",
      "state": {
       "bar_style": "success",
       "description": "[3] 6/12(train): 100%",
       "layout": "IPY_MODEL_31945a533d0c40c2a3adf81d5381a8ef",
       "max": 469,
       "style": "IPY_MODEL_327c95e83aae4f4ebf03d81fea07a9f0",
       "value": 469
      }
     },
     "0a73ab7c642849c2b147614f419bc009": {
      "model_module": "@jupyter-widgets/base",
      "model_module_version": "1.2.0",
      "model_name": "LayoutModel",
      "state": {}
     },
     "0ab3362f98244d538a9db062ed1622ae": {
      "model_module": "@jupyter-widgets/base",
      "model_module_version": "1.2.0",
      "model_name": "LayoutModel",
      "state": {}
     },
     "0ac28deba7d143b9a244bfd33c35fb00": {
      "model_module": "@jupyter-widgets/controls",
      "model_module_version": "1.5.0",
      "model_name": "DescriptionStyleModel",
      "state": {
       "description_width": ""
      }
     },
     "0ad9e93aeed043a99ac6671fc9fc0d80": {
      "model_module": "@jupyter-widgets/controls",
      "model_module_version": "1.5.0",
      "model_name": "HTMLModel",
      "state": {
       "layout": "IPY_MODEL_1ab3d80dfac947ecb74e45dfd8a645ac",
       "style": "IPY_MODEL_11a1f1b500f1433994d75053c0b685a1",
       "value": " 469/469 [6:16:06&lt;00:00, 48.12s/it]"
      }
     },
     "0af873c48a564c53b9254647be109986": {
      "model_module": "@jupyter-widgets/controls",
      "model_module_version": "1.5.0",
      "model_name": "ProgressStyleModel",
      "state": {
       "description_width": "initial"
      }
     },
     "0b3f88c2a87346d5bb57cbcdf5f5d0cd": {
      "model_module": "@jupyter-widgets/base",
      "model_module_version": "1.2.0",
      "model_name": "LayoutModel",
      "state": {}
     },
     "0b42a2b09e5143d88eeb634c5e292c49": {
      "model_module": "@jupyter-widgets/controls",
      "model_module_version": "1.5.0",
      "model_name": "ProgressStyleModel",
      "state": {
       "description_width": "initial"
      }
     },
     "0b7a4a416bd742df9f3d2b51d99066cf": {
      "model_module": "@jupyter-widgets/base",
      "model_module_version": "1.2.0",
      "model_name": "LayoutModel",
      "state": {}
     },
     "0b7f57a810a24d748b7a7e66fe03b38c": {
      "model_module": "@jupyter-widgets/controls",
      "model_module_version": "1.5.0",
      "model_name": "HTMLModel",
      "state": {
       "layout": "IPY_MODEL_8acf16a103ea4c62afe6e7fb4d3380b1",
       "style": "IPY_MODEL_301b46ebf95d4929bab4b08c3ceab2b2",
       "value": " 493/493 [46:13&lt;00:00,  5.63s/it]"
      }
     },
     "0b95d051bf6248bd9f1b2031adf531f0": {
      "model_module": "@jupyter-widgets/controls",
      "model_module_version": "1.5.0",
      "model_name": "FloatProgressModel",
      "state": {
       "bar_style": "success",
       "description": "[3] 8/12(train): 100%",
       "layout": "IPY_MODEL_daf021055dc242aa9587ac931c4f5e17",
       "max": 469,
       "style": "IPY_MODEL_eca0724e8bab48deb08ac3f912cc1ff2",
       "value": 469
      }
     },
     "0ba95454107c4aee9ac7307bb34ebe53": {
      "model_module": "@jupyter-widgets/controls",
      "model_module_version": "1.5.0",
      "model_name": "HBoxModel",
      "state": {
       "children": [
        "IPY_MODEL_faed8d5ce11049e7b6960b9ab3488445",
        "IPY_MODEL_5ae8c3f7ac2c42f6b328c89dea28ad3b"
       ],
       "layout": "IPY_MODEL_00102b9a53c24fcc8bd98b7bd0f0fb80"
      }
     },
     "0bd41f29a21a482a94f561376368137a": {
      "model_module": "@jupyter-widgets/controls",
      "model_module_version": "1.5.0",
      "model_name": "DescriptionStyleModel",
      "state": {
       "description_width": ""
      }
     },
     "0bfe22b0fb5c443a9937537ee3d711d0": {
      "model_module": "@jupyter-widgets/controls",
      "model_module_version": "1.5.0",
      "model_name": "HBoxModel",
      "state": {
       "children": [
        "IPY_MODEL_fc99aa27a2d24420b8f179c8b2b531d1",
        "IPY_MODEL_daf1616578cb4994b35e24662a262274"
       ],
       "layout": "IPY_MODEL_95dc701b6185429a95e3b1cfdff2ebfe"
      }
     },
     "0c49fcc0ae3844de8224c3f4ef98a22b": {
      "model_module": "@jupyter-widgets/controls",
      "model_module_version": "1.5.0",
      "model_name": "ProgressStyleModel",
      "state": {
       "description_width": "initial"
      }
     },
     "0c785521adf148adb49be152fb3c000a": {
      "model_module": "@jupyter-widgets/base",
      "model_module_version": "1.2.0",
      "model_name": "LayoutModel",
      "state": {}
     },
     "0c9b6f86e14347b2a282ad7c5c4230c4": {
      "model_module": "@jupyter-widgets/base",
      "model_module_version": "1.2.0",
      "model_name": "LayoutModel",
      "state": {}
     },
     "0cd940d914b241f492b2b2efccd92fd6": {
      "model_module": "@jupyter-widgets/controls",
      "model_module_version": "1.5.0",
      "model_name": "ProgressStyleModel",
      "state": {
       "description_width": "initial"
      }
     },
     "0d024ef616904e238bd75bfb9a72566a": {
      "model_module": "@jupyter-widgets/controls",
      "model_module_version": "1.5.0",
      "model_name": "FloatProgressModel",
      "state": {
       "bar_style": "success",
       "description": "[1] 12/12(val  ): 100%",
       "layout": "IPY_MODEL_0c785521adf148adb49be152fb3c000a",
       "max": 165,
       "style": "IPY_MODEL_a51a19d1baf14a78abfd01be160b62bd",
       "value": 165
      }
     },
     "0d53c26df3b14f5f99b07f740b2c02b6": {
      "model_module": "@jupyter-widgets/controls",
      "model_module_version": "1.5.0",
      "model_name": "HBoxModel",
      "state": {
       "children": [
        "IPY_MODEL_6d99dad05f084421b06ae219d2f4f805",
        "IPY_MODEL_a0f59730d8a04220a5500ccc56881021"
       ],
       "layout": "IPY_MODEL_592cdb7f19a44838b51c11802a6d7343"
      }
     },
     "0d55af689b5b49dc857efe095b28e5e7": {
      "model_module": "@jupyter-widgets/base",
      "model_module_version": "1.2.0",
      "model_name": "LayoutModel",
      "state": {}
     },
     "0d62f601f205405589850a8c5c1d8647": {
      "model_module": "@jupyter-widgets/controls",
      "model_module_version": "1.5.0",
      "model_name": "HBoxModel",
      "state": {
       "children": [
        "IPY_MODEL_083ddc8d503d45568c778b60678a89a1",
        "IPY_MODEL_89293c063af6444ab54706814390ef64"
       ],
       "layout": "IPY_MODEL_a15e997d5f724821aa9fc9ae7cfd38a8"
      }
     },
     "0d6d8697467e48a8886467843e49a3b5": {
      "model_module": "@jupyter-widgets/controls",
      "model_module_version": "1.5.0",
      "model_name": "HTMLModel",
      "state": {
       "layout": "IPY_MODEL_22c199f5c6a54d59b6244fdd85d88736",
       "style": "IPY_MODEL_21f1e92751c045338c0cdec8378f4772",
       "value": " 157/157 [22:15&lt;00:00,  8.51s/it]"
      }
     },
     "0d846fa3ac67458ea2026e5c75c6cf94": {
      "model_module": "@jupyter-widgets/controls",
      "model_module_version": "1.5.0",
      "model_name": "HBoxModel",
      "state": {
       "children": [
        "IPY_MODEL_9c55e3e6aaa1498d92f9a982205df5f4",
        "IPY_MODEL_135433515ba74e84a64867d23e4832b6"
       ],
       "layout": "IPY_MODEL_f7b4cec1d1ec4b05a4fd0aabb1415aff"
      }
     },
     "0da9493862624065a1391696f34fc884": {
      "model_module": "@jupyter-widgets/controls",
      "model_module_version": "1.5.0",
      "model_name": "FloatProgressModel",
      "state": {
       "bar_style": "success",
       "description": "[2] 12/12(train): 100%",
       "layout": "IPY_MODEL_c4ef8cc29a0c4a63982783f9c3d9c4fb",
       "max": 469,
       "style": "IPY_MODEL_44e58b2cbe0c44d8a276f18a8385610a",
       "value": 469
      }
     },
     "0dc2716b44654967b5416bdcb4757382": {
      "model_module": "@jupyter-widgets/controls",
      "model_module_version": "1.5.0",
      "model_name": "DescriptionStyleModel",
      "state": {
       "description_width": ""
      }
     },
     "0dcabff8188749f8b993f98edcef2a55": {
      "model_module": "@jupyter-widgets/base",
      "model_module_version": "1.2.0",
      "model_name": "LayoutModel",
      "state": {}
     },
     "0df1291580434416ae3b584655f5a88a": {
      "model_module": "@jupyter-widgets/base",
      "model_module_version": "1.2.0",
      "model_name": "LayoutModel",
      "state": {}
     },
     "0e0a9b499a0348ea956f4b73f3b7f13c": {
      "model_module": "@jupyter-widgets/base",
      "model_module_version": "1.2.0",
      "model_name": "LayoutModel",
      "state": {}
     },
     "0e0ad94f68004a2ab5d08ce9836c1794": {
      "model_module": "@jupyter-widgets/controls",
      "model_module_version": "1.5.0",
      "model_name": "ProgressStyleModel",
      "state": {
       "description_width": "initial"
      }
     },
     "0e55241beb104cd18b87e3cfb8dbe64d": {
      "model_module": "@jupyter-widgets/base",
      "model_module_version": "1.2.0",
      "model_name": "LayoutModel",
      "state": {}
     },
     "0ec4e9a1f908456faf79f3a7c635db52": {
      "model_module": "@jupyter-widgets/base",
      "model_module_version": "1.2.0",
      "model_name": "LayoutModel",
      "state": {}
     },
     "0ee02225dfe74b98920122b964134a54": {
      "model_module": "@jupyter-widgets/base",
      "model_module_version": "1.2.0",
      "model_name": "LayoutModel",
      "state": {}
     },
     "0f2b8f66503748e29c92c6f3daa9c0c6": {
      "model_module": "@jupyter-widgets/base",
      "model_module_version": "1.2.0",
      "model_name": "LayoutModel",
      "state": {}
     },
     "0f320048174d443eb6c3aa8d28c799b7": {
      "model_module": "@jupyter-widgets/base",
      "model_module_version": "1.2.0",
      "model_name": "LayoutModel",
      "state": {}
     },
     "0fa6ecc4a2cb4bfb81292bcb405127a8": {
      "model_module": "@jupyter-widgets/controls",
      "model_module_version": "1.5.0",
      "model_name": "HBoxModel",
      "state": {
       "children": [
        "IPY_MODEL_4685ce076c144f61adaf5ace1ac054e5",
        "IPY_MODEL_142e6dbd92124d88b8c11981338e82ed"
       ],
       "layout": "IPY_MODEL_516cfd573d1e49d4845750f97f1db8c7"
      }
     },
     "0fb40b40548749eca97160fb1b64bce3": {
      "model_module": "@jupyter-widgets/controls",
      "model_module_version": "1.5.0",
      "model_name": "HTMLModel",
      "state": {
       "layout": "IPY_MODEL_5df24ffe25994012a5dd918be264c2dd",
       "style": "IPY_MODEL_e2acb641901c4ece9b2c0bb9e33cf31c",
       "value": " 165/165 [12:03&lt;00:00,  4.39s/it]"
      }
     },
     "0fc9013bf5624f77b7b977a490453369": {
      "model_module": "@jupyter-widgets/base",
      "model_module_version": "1.2.0",
      "model_name": "LayoutModel",
      "state": {}
     },
     "0fd0148e6c1d44da913a9a9b96e09aa5": {
      "model_module": "@jupyter-widgets/controls",
      "model_module_version": "1.5.0",
      "model_name": "HBoxModel",
      "state": {
       "children": [
        "IPY_MODEL_37d28b0e971e46b7be8fbb981085a7e8",
        "IPY_MODEL_60062658c3844988a2db889341f8b553"
       ],
       "layout": "IPY_MODEL_7b1b26d2e2244b268904681035a05881"
      }
     },
     "0fdb4bf396f240c8afc35283c756ce3b": {
      "model_module": "@jupyter-widgets/controls",
      "model_module_version": "1.5.0",
      "model_name": "HBoxModel",
      "state": {
       "children": [
        "IPY_MODEL_c1cb0ad97eaa4806976c95c697d76ec1",
        "IPY_MODEL_11341b2896ec4741b87153b456b9b1b4"
       ],
       "layout": "IPY_MODEL_be5adfc4a84a45d68a4eefcdbacf2c90"
      }
     },
     "1045ef2f10ec4edf863376a6ed4e7e10": {
      "model_module": "@jupyter-widgets/controls",
      "model_module_version": "1.5.0",
      "model_name": "HBoxModel",
      "state": {
       "children": [
        "IPY_MODEL_82d8e6b524b6467bb56d1edd6006e0e5",
        "IPY_MODEL_513b05d51b6143009a188baa8815aed4"
       ],
       "layout": "IPY_MODEL_49ff4686a7aa402f8722ff86ec599256"
      }
     },
     "106e89a7c5864928a2c48e6091d8e0d5": {
      "model_module": "@jupyter-widgets/controls",
      "model_module_version": "1.5.0",
      "model_name": "FloatProgressModel",
      "state": {
       "bar_style": "success",
       "description": "[2] 2/12(train): 100%",
       "layout": "IPY_MODEL_2115c25eaa2d4345a9723768ffa41703",
       "max": 469,
       "style": "IPY_MODEL_2b1273970d3840c1ae2d4cd9ec3ed24b",
       "value": 469
      }
     },
     "1092f653bc414374bfcf03cba59305d5": {
      "model_module": "@jupyter-widgets/base",
      "model_module_version": "1.2.0",
      "model_name": "LayoutModel",
      "state": {}
     },
     "10aaa45745b74086ad16d16d9e05036a": {
      "model_module": "@jupyter-widgets/base",
      "model_module_version": "1.2.0",
      "model_name": "LayoutModel",
      "state": {}
     },
     "10aea329004a4a329b1e4fda8898b563": {
      "model_module": "@jupyter-widgets/controls",
      "model_module_version": "1.5.0",
      "model_name": "ProgressStyleModel",
      "state": {
       "description_width": "initial"
      }
     },
     "10b6aa08edc64bf1af626a42d496a7df": {
      "model_module": "@jupyter-widgets/controls",
      "model_module_version": "1.5.0",
      "model_name": "DescriptionStyleModel",
      "state": {
       "description_width": ""
      }
     },
     "111d8204ec284b5287763c0b62b49456": {
      "model_module": "@jupyter-widgets/controls",
      "model_module_version": "1.5.0",
      "model_name": "HBoxModel",
      "state": {
       "children": [
        "IPY_MODEL_cef6e57e31f94f5d971207955e0c7632",
        "IPY_MODEL_e7c025e27f354cb1822f14c1860325f6"
       ],
       "layout": "IPY_MODEL_569e6ae0bc3f417d9e9e09bc9a37efe5"
      }
     },
     "11341b2896ec4741b87153b456b9b1b4": {
      "model_module": "@jupyter-widgets/controls",
      "model_module_version": "1.5.0",
      "model_name": "HTMLModel",
      "state": {
       "layout": "IPY_MODEL_1aee7b23afb049f980a0fc87472b06a7",
       "style": "IPY_MODEL_7ebac84f609945af9733040bb8f24f37",
       "value": " 165/165 [46:16&lt;00:00, 16.83s/it]"
      }
     },
     "113b4e9bb0ef4f3da07fd3528c09550c": {
      "model_module": "@jupyter-widgets/controls",
      "model_module_version": "1.5.0",
      "model_name": "HTMLModel",
      "state": {
       "layout": "IPY_MODEL_efdb7cddb8064edab9dd37e90cfef6fe",
       "style": "IPY_MODEL_36100b31153940099d729d3afb418a27",
       "value": " 165/165 [12:01&lt;00:00,  4.37s/it]"
      }
     },
     "1144a17858d841d8ae400b693105a898": {
      "model_module": "@jupyter-widgets/controls",
      "model_module_version": "1.5.0",
      "model_name": "HTMLModel",
      "state": {
       "layout": "IPY_MODEL_1f3c6d9d995748919e601e2a8a8712a5",
       "style": "IPY_MODEL_ad1dbf749fba4546a63570e7ff4e85b7",
       "value": " 165/165 [10:55&lt;00:00,  3.97s/it]"
      }
     },
     "117f5d60b38b4dafa7ba75c9b6e53d9e": {
      "model_module": "@jupyter-widgets/controls",
      "model_module_version": "1.5.0",
      "model_name": "FloatProgressModel",
      "state": {
       "bar_style": "success",
       "description": "[1] 1/12(train): 100%",
       "layout": "IPY_MODEL_522405706a5a4be7bf3272a91e1c536a",
       "max": 469,
       "style": "IPY_MODEL_f6ba17789a554fb397cc59a24c0096aa",
       "value": 469
      }
     },
     "11a1f1b500f1433994d75053c0b685a1": {
      "model_module": "@jupyter-widgets/controls",
      "model_module_version": "1.5.0",
      "model_name": "DescriptionStyleModel",
      "state": {
       "description_width": ""
      }
     },
     "11cd45c93c72445ca7d7567862c6db63": {
      "model_module": "@jupyter-widgets/base",
      "model_module_version": "1.2.0",
      "model_name": "LayoutModel",
      "state": {}
     },
     "11d68546c82742eeb7ef1ff254e433dc": {
      "model_module": "@jupyter-widgets/controls",
      "model_module_version": "1.5.0",
      "model_name": "HTMLModel",
      "state": {
       "layout": "IPY_MODEL_4e7d52a941284fe69e197339a27b5b74",
       "style": "IPY_MODEL_af9c17f15e954d8c824d10b7ee8cba97",
       "value": " 165/165 [11:36&lt;00:00,  4.22s/it]"
      }
     },
     "11f194fccd8e4b1389e77e2b49c40aa4": {
      "model_module": "@jupyter-widgets/controls",
      "model_module_version": "1.5.0",
      "model_name": "DescriptionStyleModel",
      "state": {
       "description_width": ""
      }
     },
     "11f7b67291434bd58a9f8ada8235ab01": {
      "model_module": "@jupyter-widgets/controls",
      "model_module_version": "1.5.0",
      "model_name": "FloatProgressModel",
      "state": {
       "bar_style": "success",
       "description": "[0] 3/12(val  ): 100%",
       "layout": "IPY_MODEL_ded75e50c58a4561aa880f07fc151778",
       "max": 165,
       "style": "IPY_MODEL_42808213da3a4a07b2e05e58ff78d105",
       "value": 165
      }
     },
     "12213ce99bd046b6a9120353106530f5": {
      "model_module": "@jupyter-widgets/controls",
      "model_module_version": "1.5.0",
      "model_name": "HBoxModel",
      "state": {
       "children": [
        "IPY_MODEL_cda50cf6b6d34599ae0394e40b110d52",
        "IPY_MODEL_9c4b0a07afe5453588717853ec17e9de"
       ],
       "layout": "IPY_MODEL_17930854ae724c048d2a653053d69372"
      }
     },
     "12325789a5c848bb9b5926cf44afdeaa": {
      "model_module": "@jupyter-widgets/base",
      "model_module_version": "1.2.0",
      "model_name": "LayoutModel",
      "state": {}
     },
     "1266fff0928645e9a773e03b1a19c915": {
      "model_module": "@jupyter-widgets/base",
      "model_module_version": "1.2.0",
      "model_name": "LayoutModel",
      "state": {}
     },
     "1288ee491fbe4e1daeb6c8e499e7ec1a": {
      "model_module": "@jupyter-widgets/controls",
      "model_module_version": "1.5.0",
      "model_name": "DescriptionStyleModel",
      "state": {
       "description_width": ""
      }
     },
     "12892ab72db54ebdae9523d196366cd8": {
      "model_module": "@jupyter-widgets/base",
      "model_module_version": "1.2.0",
      "model_name": "LayoutModel",
      "state": {}
     },
     "12afd2e7ebbe487e8afd535c89ceb6ac": {
      "model_module": "@jupyter-widgets/base",
      "model_module_version": "1.2.0",
      "model_name": "LayoutModel",
      "state": {}
     },
     "12b9e6d11fd5405d998c30e4a12d40e3": {
      "model_module": "@jupyter-widgets/base",
      "model_module_version": "1.2.0",
      "model_name": "LayoutModel",
      "state": {}
     },
     "12d0cf91844d440281e7d1a323d2d625": {
      "model_module": "@jupyter-widgets/base",
      "model_module_version": "1.2.0",
      "model_name": "LayoutModel",
      "state": {}
     },
     "12de224c11464d398a7a78b8b4975658": {
      "model_module": "@jupyter-widgets/controls",
      "model_module_version": "1.5.0",
      "model_name": "ProgressStyleModel",
      "state": {
       "description_width": "initial"
      }
     },
     "130fd827e94c4f7caaa073f2435703d4": {
      "model_module": "@jupyter-widgets/controls",
      "model_module_version": "1.5.0",
      "model_name": "DescriptionStyleModel",
      "state": {
       "description_width": ""
      }
     },
     "131a6926f98343f6ad0e27b675203944": {
      "model_module": "@jupyter-widgets/base",
      "model_module_version": "1.2.0",
      "model_name": "LayoutModel",
      "state": {}
     },
     "132f4037921540ec93255ab5a79f8700": {
      "model_module": "@jupyter-widgets/controls",
      "model_module_version": "1.5.0",
      "model_name": "HBoxModel",
      "state": {
       "children": [
        "IPY_MODEL_77f72395ba3648d492f066b892b99ac1",
        "IPY_MODEL_58ec45634f8e41d58d9e0b66f3ca75a4"
       ],
       "layout": "IPY_MODEL_71b7f31e0d164b19a6edc94d7c020d5c"
      }
     },
     "135433515ba74e84a64867d23e4832b6": {
      "model_module": "@jupyter-widgets/controls",
      "model_module_version": "1.5.0",
      "model_name": "HTMLModel",
      "state": {
       "layout": "IPY_MODEL_f2550f2b06874f47bfe873ee39840231",
       "style": "IPY_MODEL_d3236e47d06546d08b8c8d67289625d6",
       "value": " 157/157 [23:04&lt;00:00,  8.82s/it]"
      }
     },
     "136d4587032140b28fae0259a9d83d3b": {
      "model_module": "@jupyter-widgets/controls",
      "model_module_version": "1.5.0",
      "model_name": "FloatProgressModel",
      "state": {
       "bar_style": "success",
       "description": "[2] 4/12(val  ): 100%",
       "layout": "IPY_MODEL_b9b2b236e0b04107acaa7812a03d9728",
       "max": 157,
       "style": "IPY_MODEL_46b11dc0af2e441ba8724aeb4552b123",
       "value": 157
      }
     },
     "1392193f985c4d81a29849e28bed96e1": {
      "model_module": "@jupyter-widgets/controls",
      "model_module_version": "1.5.0",
      "model_name": "DescriptionStyleModel",
      "state": {
       "description_width": ""
      }
     },
     "13b2ca987f784ac9bc05fcb8586b90ab": {
      "model_module": "@jupyter-widgets/base",
      "model_module_version": "1.2.0",
      "model_name": "LayoutModel",
      "state": {}
     },
     "13ecec6aba364e938d142bc639626502": {
      "model_module": "@jupyter-widgets/base",
      "model_module_version": "1.2.0",
      "model_name": "LayoutModel",
      "state": {}
     },
     "140591faf3ff42a3abb4f334cc44fdd3": {
      "model_module": "@jupyter-widgets/base",
      "model_module_version": "1.2.0",
      "model_name": "LayoutModel",
      "state": {}
     },
     "142e6dbd92124d88b8c11981338e82ed": {
      "model_module": "@jupyter-widgets/controls",
      "model_module_version": "1.5.0",
      "model_name": "HTMLModel",
      "state": {
       "layout": "IPY_MODEL_069e67bab975470fafd886ab9a9f83c2",
       "style": "IPY_MODEL_fe00685ec4454b5cba6ed8f96fff4099",
       "value": " 157/157 [24:23&lt;00:00,  9.32s/it]"
      }
     },
     "14326e4b661a41519e90439ce9b37060": {
      "model_module": "@jupyter-widgets/controls",
      "model_module_version": "1.5.0",
      "model_name": "ProgressStyleModel",
      "state": {
       "description_width": "initial"
      }
     },
     "144c1092ebac41c8958e81a08a821134": {
      "model_module": "@jupyter-widgets/controls",
      "model_module_version": "1.5.0",
      "model_name": "ProgressStyleModel",
      "state": {
       "description_width": "initial"
      }
     },
     "14a1f478b8ce4c8f9444dd50a0a875fc": {
      "model_module": "@jupyter-widgets/controls",
      "model_module_version": "1.5.0",
      "model_name": "FloatProgressModel",
      "state": {
       "bar_style": "danger",
       "description": "[1] 1/12(train):   0%",
       "layout": "IPY_MODEL_946ea37636df45e490e4c3ca0f88b720",
       "max": 493,
       "style": "IPY_MODEL_9a69d105ec144dfe89668da1667c437f"
      }
     },
     "14dcdadc596f4e3bb0a25e68e48505d2": {
      "model_module": "@jupyter-widgets/controls",
      "model_module_version": "1.5.0",
      "model_name": "HBoxModel",
      "state": {
       "children": [
        "IPY_MODEL_117f5d60b38b4dafa7ba75c9b6e53d9e",
        "IPY_MODEL_9d710d2634bb4d0b9be2a7d6cb939437"
       ],
       "layout": "IPY_MODEL_c3a871eadb3246f395ed6af588a65661"
      }
     },
     "150994d4c9ce4f54b0bdc23b36b7b753": {
      "model_module": "@jupyter-widgets/base",
      "model_module_version": "1.2.0",
      "model_name": "LayoutModel",
      "state": {}
     },
     "150a861031e24969b3f968298cfbfe25": {
      "model_module": "@jupyter-widgets/controls",
      "model_module_version": "1.5.0",
      "model_name": "DescriptionStyleModel",
      "state": {
       "description_width": ""
      }
     },
     "152d410a04064d0e97a400d1cccea578": {
      "model_module": "@jupyter-widgets/base",
      "model_module_version": "1.2.0",
      "model_name": "LayoutModel",
      "state": {}
     },
     "154d81bd5497400e905218cf8d5f68d5": {
      "model_module": "@jupyter-widgets/base",
      "model_module_version": "1.2.0",
      "model_name": "LayoutModel",
      "state": {}
     },
     "157be44435f2467eb63027395ed28852": {
      "model_module": "@jupyter-widgets/controls",
      "model_module_version": "1.5.0",
      "model_name": "ProgressStyleModel",
      "state": {
       "description_width": "initial"
      }
     },
     "15c66991191345918c0d2d5f175b3533": {
      "model_module": "@jupyter-widgets/controls",
      "model_module_version": "1.5.0",
      "model_name": "DescriptionStyleModel",
      "state": {
       "description_width": ""
      }
     },
     "15cfdf13f5cd45128da4bf6097539b47": {
      "model_module": "@jupyter-widgets/base",
      "model_module_version": "1.2.0",
      "model_name": "LayoutModel",
      "state": {}
     },
     "15dc1b677b9948a9b7b4da717fdcfb1c": {
      "model_module": "@jupyter-widgets/controls",
      "model_module_version": "1.5.0",
      "model_name": "HBoxModel",
      "state": {
       "children": [
        "IPY_MODEL_d2acc67aee28485faeb1740903f950ff",
        "IPY_MODEL_61fccbde0e564192bfdac7bb4619e8f5"
       ],
       "layout": "IPY_MODEL_91ec18d9a09140beb41b2ddf04a77a09"
      }
     },
     "15ecf843271e4c558c5e1a896886b8c5": {
      "model_module": "@jupyter-widgets/controls",
      "model_module_version": "1.5.0",
      "model_name": "HTMLModel",
      "state": {
       "layout": "IPY_MODEL_4ab1bc4d96c945daa14a2d7f1c242484",
       "style": "IPY_MODEL_e69c013120c0407fb5290bc8d75eba64",
       "value": " 493/493 [7:35:55&lt;00:00, 55.49s/it]"
      }
     },
     "1603cba2778d4fbca74d77d31506af04": {
      "model_module": "@jupyter-widgets/controls",
      "model_module_version": "1.5.0",
      "model_name": "FloatProgressModel",
      "state": {
       "bar_style": "danger",
       "description": "[2] 1/1(train):   0%",
       "layout": "IPY_MODEL_2acf477aa8da418a88ce8d116dd817f8",
       "max": 3,
       "style": "IPY_MODEL_590a8a0c7fd14e809374eb74b9885313"
      }
     },
     "162377abda4c4b43a0379efa445fc3a2": {
      "model_module": "@jupyter-widgets/controls",
      "model_module_version": "1.5.0",
      "model_name": "HTMLModel",
      "state": {
       "layout": "IPY_MODEL_03c8ce6a11084eb8a631ceffb05ad6ff",
       "style": "IPY_MODEL_d1ec1637ef2e422f8d94a94c9d0bd686",
       "value": " 469/469 [1:38:17&lt;00:00, 12.57s/it]"
      }
     },
     "16339b55e33141468212a6c087f4262f": {
      "model_module": "@jupyter-widgets/controls",
      "model_module_version": "1.5.0",
      "model_name": "DescriptionStyleModel",
      "state": {
       "description_width": ""
      }
     },
     "164dfb7728fd43a98b570a8753519f15": {
      "model_module": "@jupyter-widgets/controls",
      "model_module_version": "1.5.0",
      "model_name": "FloatProgressModel",
      "state": {
       "bar_style": "danger",
       "description": "[0] 1/12(train):   0%",
       "layout": "IPY_MODEL_e50cc41af952499abfbc5a75367ca1f2",
       "max": 493,
       "style": "IPY_MODEL_3ba748d394d04456893e2db6b2428848",
       "value": 1
      }
     },
     "166518a5db824d1d96a21feba6be9e1e": {
      "model_module": "@jupyter-widgets/controls",
      "model_module_version": "1.5.0",
      "model_name": "DescriptionStyleModel",
      "state": {
       "description_width": ""
      }
     },
     "166f0adb72114bb99feab23b6c483f41": {
      "model_module": "@jupyter-widgets/controls",
      "model_module_version": "1.5.0",
      "model_name": "ProgressStyleModel",
      "state": {
       "description_width": "initial"
      }
     },
     "16ab80916c0140d18f9c5badd15d2fd9": {
      "model_module": "@jupyter-widgets/controls",
      "model_module_version": "1.5.0",
      "model_name": "DescriptionStyleModel",
      "state": {
       "description_width": ""
      }
     },
     "16bc58067d0b4da3902efe09c206a3d2": {
      "model_module": "@jupyter-widgets/controls",
      "model_module_version": "1.5.0",
      "model_name": "HTMLModel",
      "state": {
       "layout": "IPY_MODEL_9a58a46b3da9440d9cb242179f9a4a74",
       "style": "IPY_MODEL_a2158d380c94445a8557bf061afbb3ca",
       "value": " 157/157 [22:19&lt;00:00,  8.53s/it]"
      }
     },
     "16dbd29b74384971ad2f219990bd88bc": {
      "model_module": "@jupyter-widgets/controls",
      "model_module_version": "1.5.0",
      "model_name": "FloatProgressModel",
      "state": {
       "bar_style": "success",
       "description": "[1] 6/12(train): 100%",
       "layout": "IPY_MODEL_94e775ef5d394702abdd180d8e01c823",
       "max": 469,
       "style": "IPY_MODEL_9b7455448d4643238c2e43c991d68bb6",
       "value": 469
      }
     },
     "172b7e2da8c64cd386384e5d54429ac6": {
      "model_module": "@jupyter-widgets/base",
      "model_module_version": "1.2.0",
      "model_name": "LayoutModel",
      "state": {}
     },
     "1731552547874d4fa46a7228fa763c00": {
      "model_module": "@jupyter-widgets/base",
      "model_module_version": "1.2.0",
      "model_name": "LayoutModel",
      "state": {}
     },
     "174ba8cfdbf046cd88821f53a656b263": {
      "model_module": "@jupyter-widgets/controls",
      "model_module_version": "1.5.0",
      "model_name": "DescriptionStyleModel",
      "state": {
       "description_width": ""
      }
     },
     "17687febda004e16a66afe0a8054dc3c": {
      "model_module": "@jupyter-widgets/controls",
      "model_module_version": "1.5.0",
      "model_name": "ProgressStyleModel",
      "state": {
       "description_width": "initial"
      }
     },
     "176d56f1f8fe474891b09f91d1e297d5": {
      "model_module": "@jupyter-widgets/controls",
      "model_module_version": "1.5.0",
      "model_name": "HBoxModel",
      "state": {
       "children": [
        "IPY_MODEL_0b95d051bf6248bd9f1b2031adf531f0",
        "IPY_MODEL_97f8f703bab44194afee321b3e87df25"
       ],
       "layout": "IPY_MODEL_7e56b932934249ad868601bad82d8d12"
      }
     },
     "17930854ae724c048d2a653053d69372": {
      "model_module": "@jupyter-widgets/base",
      "model_module_version": "1.2.0",
      "model_name": "LayoutModel",
      "state": {}
     },
     "17a64a58e78c4f44a092b25972475016": {
      "model_module": "@jupyter-widgets/base",
      "model_module_version": "1.2.0",
      "model_name": "LayoutModel",
      "state": {}
     },
     "17c8ddc65c6347b59bdfb6c19d6c7a04": {
      "model_module": "@jupyter-widgets/controls",
      "model_module_version": "1.5.0",
      "model_name": "ProgressStyleModel",
      "state": {
       "description_width": "initial"
      }
     },
     "17cebda9ae284be1a0e15198220f080c": {
      "model_module": "@jupyter-widgets/controls",
      "model_module_version": "1.5.0",
      "model_name": "ProgressStyleModel",
      "state": {
       "description_width": "initial"
      }
     },
     "17f3eeea0e3541bc9dbbc4ea9573d28b": {
      "model_module": "@jupyter-widgets/controls",
      "model_module_version": "1.5.0",
      "model_name": "HTMLModel",
      "state": {
       "layout": "IPY_MODEL_9208c74d891746689a3ed554eea67259",
       "style": "IPY_MODEL_ff31f6a30b0d458e8296b59ac2bc9731",
       "value": " 157/157 [39:23&lt;00:00, 15.06s/it]"
      }
     },
     "1843df92b9b64aa0af3295d947d5b231": {
      "model_module": "@jupyter-widgets/controls",
      "model_module_version": "1.5.0",
      "model_name": "HBoxModel",
      "state": {
       "children": [
        "IPY_MODEL_d4a7f2274ad8457a99ff3f73b129f028",
        "IPY_MODEL_9b3e6545036949d0a62aa255598c9818"
       ],
       "layout": "IPY_MODEL_2604f09624e5483b92f9fb7ae190029e"
      }
     },
     "1845132f6c9e448aa442aa45d5ce54e1": {
      "model_module": "@jupyter-widgets/base",
      "model_module_version": "1.2.0",
      "model_name": "LayoutModel",
      "state": {}
     },
     "1849867023b849ce83093b7763b447be": {
      "model_module": "@jupyter-widgets/controls",
      "model_module_version": "1.5.0",
      "model_name": "HTMLModel",
      "state": {
       "layout": "IPY_MODEL_0006a2563aa243c6a73f0dcd03e0374b",
       "style": "IPY_MODEL_47b1e2dc02444d9d8fe979725c433372",
       "value": " 1/1 [00:03&lt;00:00,  3.98s/it]"
      }
     },
     "185c55772a73474cb1db9ac3d1b42f73": {
      "model_module": "@jupyter-widgets/controls",
      "model_module_version": "1.5.0",
      "model_name": "DescriptionStyleModel",
      "state": {
       "description_width": ""
      }
     },
     "1886892afbb94944bcc96fb6a0b0bb3d": {
      "model_module": "@jupyter-widgets/controls",
      "model_module_version": "1.5.0",
      "model_name": "DescriptionStyleModel",
      "state": {
       "description_width": ""
      }
     },
     "189bca8e5be94bd092f6bbcc5466d9a4": {
      "model_module": "@jupyter-widgets/base",
      "model_module_version": "1.2.0",
      "model_name": "LayoutModel",
      "state": {}
     },
     "18c16c38b35645b2af07f89009d7e367": {
      "model_module": "@jupyter-widgets/controls",
      "model_module_version": "1.5.0",
      "model_name": "HBoxModel",
      "state": {
       "children": [
        "IPY_MODEL_6f4c758ecdde41b3bb942ddbacf5d00e",
        "IPY_MODEL_9c81841e3dd24c29a1ff3bff8ffb66ed"
       ],
       "layout": "IPY_MODEL_a2157d7b5957498f9a3ddd6e26e8e01c"
      }
     },
     "18f78a0de34042e1abb5e9c22d946707": {
      "model_module": "@jupyter-widgets/controls",
      "model_module_version": "1.5.0",
      "model_name": "FloatProgressModel",
      "state": {
       "bar_style": "success",
       "description": "[2] 3/12(train): 100%",
       "layout": "IPY_MODEL_99231b27818f4dc0af69186aa7cd0eb3",
       "max": 469,
       "style": "IPY_MODEL_db7983bf5bc24e6e8a6f4e5f51af3ac6",
       "value": 469
      }
     },
     "192710c836524a83ba4285e00d8c68f9": {
      "model_module": "@jupyter-widgets/controls",
      "model_module_version": "1.5.0",
      "model_name": "HTMLModel",
      "state": {
       "layout": "IPY_MODEL_e0667b9f73b249149fa3c8b122d375b8",
       "style": "IPY_MODEL_627ee275d64b48059f3444e1327beaf6",
       "value": " 157/157 [23:35&lt;00:00,  9.02s/it]"
      }
     },
     "194cdead3adf4ec6af5f3eb19b43b3a9": {
      "model_module": "@jupyter-widgets/controls",
      "model_module_version": "1.5.0",
      "model_name": "DescriptionStyleModel",
      "state": {
       "description_width": ""
      }
     },
     "197a2de079ed4c63b46ae08a0b2f0134": {
      "model_module": "@jupyter-widgets/base",
      "model_module_version": "1.2.0",
      "model_name": "LayoutModel",
      "state": {}
     },
     "198d294fd2f84f2a985d228be4797e24": {
      "model_module": "@jupyter-widgets/base",
      "model_module_version": "1.2.0",
      "model_name": "LayoutModel",
      "state": {}
     },
     "199a809a58c64980bf56abd582adabc0": {
      "model_module": "@jupyter-widgets/controls",
      "model_module_version": "1.5.0",
      "model_name": "FloatProgressModel",
      "state": {
       "bar_style": "success",
       "description": "[2] 8/12(val  ): 100%",
       "layout": "IPY_MODEL_d165d515199c4aa7b39548d76a7a16ac",
       "max": 157,
       "style": "IPY_MODEL_013f5be1c29e4dc0abdf40451c0589cf",
       "value": 157
      }
     },
     "19a18d3b02d745e9bba28bd12d67165d": {
      "model_module": "@jupyter-widgets/base",
      "model_module_version": "1.2.0",
      "model_name": "LayoutModel",
      "state": {}
     },
     "19b01873ad80487980d3196bebb0c0da": {
      "model_module": "@jupyter-widgets/controls",
      "model_module_version": "1.5.0",
      "model_name": "HTMLModel",
      "state": {
       "layout": "IPY_MODEL_1a5009249c324c63b747a6f536dc4dcb",
       "style": "IPY_MODEL_f1bca7e1d0d24d17bd55bc01382899ef",
       "value": " 165/165 [6:14:59&lt;00:00, 136.36s/it]"
      }
     },
     "19ba35bfa5db4e37ac2d577397a68502": {
      "model_module": "@jupyter-widgets/controls",
      "model_module_version": "1.5.0",
      "model_name": "HTMLModel",
      "state": {
       "layout": "IPY_MODEL_259d025185b74cf98a559a494997389f",
       "style": "IPY_MODEL_e70636ec0e0f4995a77232ac9ca74a61",
       "value": " 157/157 [23:31&lt;00:00,  8.99s/it]"
      }
     },
     "19c50be148594105a81a734814953a83": {
      "model_module": "@jupyter-widgets/base",
      "model_module_version": "1.2.0",
      "model_name": "LayoutModel",
      "state": {}
     },
     "19da876682d143189e45b002e6f863a1": {
      "model_module": "@jupyter-widgets/controls",
      "model_module_version": "1.5.0",
      "model_name": "FloatProgressModel",
      "state": {
       "bar_style": "success",
       "description": "[1] 1/1(train): 100%",
       "layout": "IPY_MODEL_e225f2276e454b43adb35aeb17c30c3a",
       "max": 3,
       "style": "IPY_MODEL_e53473fb48d94df29e3372da7e893c83",
       "value": 3
      }
     },
     "1a25defca1ed4b7ba1a2aa059e18b975": {
      "model_module": "@jupyter-widgets/controls",
      "model_module_version": "1.5.0",
      "model_name": "DescriptionStyleModel",
      "state": {
       "description_width": ""
      }
     },
     "1a5009249c324c63b747a6f536dc4dcb": {
      "model_module": "@jupyter-widgets/base",
      "model_module_version": "1.2.0",
      "model_name": "LayoutModel",
      "state": {}
     },
     "1aa680e98eb745448c36b766405fcf93": {
      "model_module": "@jupyter-widgets/controls",
      "model_module_version": "1.5.0",
      "model_name": "DescriptionStyleModel",
      "state": {
       "description_width": ""
      }
     },
     "1ab3d80dfac947ecb74e45dfd8a645ac": {
      "model_module": "@jupyter-widgets/base",
      "model_module_version": "1.2.0",
      "model_name": "LayoutModel",
      "state": {}
     },
     "1aba5d584b8a470785b6afb2e3802888": {
      "model_module": "@jupyter-widgets/controls",
      "model_module_version": "1.5.0",
      "model_name": "DescriptionStyleModel",
      "state": {
       "description_width": ""
      }
     },
     "1ac88bd4816443cca52b7ce47fb9c3d7": {
      "model_module": "@jupyter-widgets/controls",
      "model_module_version": "1.5.0",
      "model_name": "ProgressStyleModel",
      "state": {
       "description_width": "initial"
      }
     },
     "1ace20fc0b6a411d849bc71c4b2859fd": {
      "model_module": "@jupyter-widgets/controls",
      "model_module_version": "1.5.0",
      "model_name": "HBoxModel",
      "state": {
       "children": [
        "IPY_MODEL_9be0b8a816fd416baf22c65a7e1079bf",
        "IPY_MODEL_4b0364fab09c4945947820e279fb5dec"
       ],
       "layout": "IPY_MODEL_dffbb02074ba49ca9bdcc242b43f4c94"
      }
     },
     "1aee7b23afb049f980a0fc87472b06a7": {
      "model_module": "@jupyter-widgets/base",
      "model_module_version": "1.2.0",
      "model_name": "LayoutModel",
      "state": {}
     },
     "1b58af8fb01a47e287d46343e428be97": {
      "model_module": "@jupyter-widgets/controls",
      "model_module_version": "1.5.0",
      "model_name": "ProgressStyleModel",
      "state": {
       "description_width": "initial"
      }
     },
     "1b7583441fa44bacbb7b9b9a961ee3c4": {
      "model_module": "@jupyter-widgets/base",
      "model_module_version": "1.2.0",
      "model_name": "LayoutModel",
      "state": {}
     },
     "1b811871f7bf4eb491fbcf8471dd4d54": {
      "model_module": "@jupyter-widgets/controls",
      "model_module_version": "1.5.0",
      "model_name": "ProgressStyleModel",
      "state": {
       "description_width": "initial"
      }
     },
     "1be40c2e29eb476bb4696da1f4d1aa48": {
      "model_module": "@jupyter-widgets/controls",
      "model_module_version": "1.5.0",
      "model_name": "HBoxModel",
      "state": {
       "children": [
        "IPY_MODEL_fc7a65b3a92442659f41be93b0ad4727",
        "IPY_MODEL_05db2d74956d4cd78ea3ac1fb9b749a3"
       ],
       "layout": "IPY_MODEL_e7b4093017c0417c9cce44bdbff6d0f7"
      }
     },
     "1c0f9023bd6c48b089299819ee993646": {
      "model_module": "@jupyter-widgets/controls",
      "model_module_version": "1.5.0",
      "model_name": "DescriptionStyleModel",
      "state": {
       "description_width": ""
      }
     },
     "1c3e1906fe9a426a99c50ed5849abf3b": {
      "model_module": "@jupyter-widgets/controls",
      "model_module_version": "1.5.0",
      "model_name": "DescriptionStyleModel",
      "state": {
       "description_width": ""
      }
     },
     "1c83ef53b7fb4e76857d7c5ff478f028": {
      "model_module": "@jupyter-widgets/base",
      "model_module_version": "1.2.0",
      "model_name": "LayoutModel",
      "state": {}
     },
     "1caca77b40724dacb8d61829dd55dc05": {
      "model_module": "@jupyter-widgets/controls",
      "model_module_version": "1.5.0",
      "model_name": "HTMLModel",
      "state": {
       "layout": "IPY_MODEL_ec016bc3875947fe955e37659500f1ec",
       "style": "IPY_MODEL_1392193f985c4d81a29849e28bed96e1",
       "value": " 493/493 [46:29&lt;00:00,  5.66s/it]"
      }
     },
     "1cb1d28775ff472ab62fb5945c25b291": {
      "model_module": "@jupyter-widgets/base",
      "model_module_version": "1.2.0",
      "model_name": "LayoutModel",
      "state": {}
     },
     "1cdf22942cd64efea3d55b26ed7fcd92": {
      "model_module": "@jupyter-widgets/controls",
      "model_module_version": "1.5.0",
      "model_name": "FloatProgressModel",
      "state": {
       "bar_style": "success",
       "description": "100%",
       "layout": "IPY_MODEL_27964b5ee8864a95abf47cefb612dd29",
       "max": 157,
       "style": "IPY_MODEL_d9ad248acfed486682d6c974aacc87e8",
       "value": 157
      }
     },
     "1ce54112d2af401080d3585491ab364a": {
      "model_module": "@jupyter-widgets/base",
      "model_module_version": "1.2.0",
      "model_name": "LayoutModel",
      "state": {}
     },
     "1cf9a3f6a03844f19520f505359ebaac": {
      "model_module": "@jupyter-widgets/controls",
      "model_module_version": "1.5.0",
      "model_name": "ProgressStyleModel",
      "state": {
       "description_width": "initial"
      }
     },
     "1cfd3eb1a94149819c9fb773a4d521f1": {
      "model_module": "@jupyter-widgets/controls",
      "model_module_version": "1.5.0",
      "model_name": "ProgressStyleModel",
      "state": {
       "description_width": "initial"
      }
     },
     "1d35830aecb644d8b35e486b0bd163f2": {
      "model_module": "@jupyter-widgets/base",
      "model_module_version": "1.2.0",
      "model_name": "LayoutModel",
      "state": {}
     },
     "1d43056bbbfc40b29851e584ea867753": {
      "model_module": "@jupyter-widgets/controls",
      "model_module_version": "1.5.0",
      "model_name": "HBoxModel",
      "state": {
       "children": [
        "IPY_MODEL_09dddd602c3141faadf06f210ea1e632",
        "IPY_MODEL_0816a5deb4624155a49d1fda6a242149"
       ],
       "layout": "IPY_MODEL_8ccc504b6a7748d99820eca53c5d863a"
      }
     },
     "1d64d502e84f454b8ad9611efc4f6afd": {
      "model_module": "@jupyter-widgets/controls",
      "model_module_version": "1.5.0",
      "model_name": "FloatProgressModel",
      "state": {
       "bar_style": "danger",
       "description": "[3] 1/12(train):   0%",
       "layout": "IPY_MODEL_140591faf3ff42a3abb4f334cc44fdd3",
       "max": 493,
       "style": "IPY_MODEL_d2fa67bc47284099baa100433ee02c74",
       "value": 1
      }
     },
     "1d66fa4c1a7346d6953d42f0d46b2c84": {
      "model_module": "@jupyter-widgets/controls",
      "model_module_version": "1.5.0",
      "model_name": "HBoxModel",
      "state": {
       "children": [
        "IPY_MODEL_1f09ce94fb8a414e88fcfc48abdc00b4",
        "IPY_MODEL_ef68c9cc46b149549beecbfc42be47a7"
       ],
       "layout": "IPY_MODEL_862ed5d0721f4be3a94b504d86c005bb"
      }
     },
     "1da6a4defea046749ce64dfdd851b916": {
      "model_module": "@jupyter-widgets/base",
      "model_module_version": "1.2.0",
      "model_name": "LayoutModel",
      "state": {}
     },
     "1e325db60026444a99b8a1751a654cdb": {
      "model_module": "@jupyter-widgets/controls",
      "model_module_version": "1.5.0",
      "model_name": "HBoxModel",
      "state": {
       "children": [
        "IPY_MODEL_cf8bb3add2db46068ee66d1b1227bb2b",
        "IPY_MODEL_19ba35bfa5db4e37ac2d577397a68502"
       ],
       "layout": "IPY_MODEL_53b93b9b60a343daaa4f385ac2b2b599"
      }
     },
     "1e341582e11b45068368df452df9b3cc": {
      "model_module": "@jupyter-widgets/controls",
      "model_module_version": "1.5.0",
      "model_name": "FloatProgressModel",
      "state": {
       "bar_style": "success",
       "description": "[3] 9/12(train): 100%",
       "layout": "IPY_MODEL_87d9a1cf04974bf6a45c8477ec06c9d3",
       "max": 469,
       "style": "IPY_MODEL_7e3b81e386eb4659835972f9cb379422",
       "value": 469
      }
     },
     "1e743d61e69345f48bc63b9f931c2810": {
      "model_module": "@jupyter-widgets/controls",
      "model_module_version": "1.5.0",
      "model_name": "ProgressStyleModel",
      "state": {
       "description_width": "initial"
      }
     },
     "1e74593cc59e4ba2b0279e4e62f76650": {
      "model_module": "@jupyter-widgets/base",
      "model_module_version": "1.2.0",
      "model_name": "LayoutModel",
      "state": {}
     },
     "1ea2d91da4454bc8877a33db7bd44b8e": {
      "model_module": "@jupyter-widgets/controls",
      "model_module_version": "1.5.0",
      "model_name": "ProgressStyleModel",
      "state": {
       "description_width": "initial"
      }
     },
     "1eb3dfe84b784aa982744ee114af2b48": {
      "model_module": "@jupyter-widgets/controls",
      "model_module_version": "1.5.0",
      "model_name": "HTMLModel",
      "state": {
       "layout": "IPY_MODEL_75cb28058be84f44a366d2e388b27660",
       "style": "IPY_MODEL_37df64425be246e2b944b48b790f6cc0",
       "value": " 493/493 [6:04:49&lt;00:00, 44.40s/it]"
      }
     },
     "1eb9a140ecfc4ef2977850e02dc7cb35": {
      "model_module": "@jupyter-widgets/controls",
      "model_module_version": "1.5.0",
      "model_name": "DescriptionStyleModel",
      "state": {
       "description_width": ""
      }
     },
     "1eeadae813f64938b684dcc28264cea0": {
      "model_module": "@jupyter-widgets/base",
      "model_module_version": "1.2.0",
      "model_name": "LayoutModel",
      "state": {}
     },
     "1f0951dabf2c4ed2a31f55c369c8b470": {
      "model_module": "@jupyter-widgets/controls",
      "model_module_version": "1.5.0",
      "model_name": "HBoxModel",
      "state": {
       "children": [
        "IPY_MODEL_1d64d502e84f454b8ad9611efc4f6afd",
        "IPY_MODEL_85f212d2f2db43ab9dfb107a98bf1c16"
       ],
       "layout": "IPY_MODEL_f91703864b7c4d4e8028683ec0cb646a"
      }
     },
     "1f09ce94fb8a414e88fcfc48abdc00b4": {
      "model_module": "@jupyter-widgets/controls",
      "model_module_version": "1.5.0",
      "model_name": "FloatProgressModel",
      "state": {
       "bar_style": "success",
       "description": "[2] 8/12(train): 100%",
       "layout": "IPY_MODEL_b4623d97e304470ebaa9be5b55e964c1",
       "max": 493,
       "style": "IPY_MODEL_0a5363c4e0fb40c4be99467e811825de",
       "value": 493
      }
     },
     "1f2dd3d1164b4ce480a41c318229a8a1": {
      "model_module": "@jupyter-widgets/controls",
      "model_module_version": "1.5.0",
      "model_name": "ProgressStyleModel",
      "state": {
       "description_width": "initial"
      }
     },
     "1f3c6d9d995748919e601e2a8a8712a5": {
      "model_module": "@jupyter-widgets/base",
      "model_module_version": "1.2.0",
      "model_name": "LayoutModel",
      "state": {}
     },
     "1f4bd55f8f9e46499929d9489534ecd5": {
      "model_module": "@jupyter-widgets/controls",
      "model_module_version": "1.5.0",
      "model_name": "HBoxModel",
      "state": {
       "children": [
        "IPY_MODEL_61a61644c4ac42f5a40fbb8c5b843537",
        "IPY_MODEL_daffd8f2b43149f9aa2654ab293a06d6"
       ],
       "layout": "IPY_MODEL_822f8c4a1e0346b6b65a5d98be87dd72"
      }
     },
     "1f4dd7bec8744be88318ef1a0b16ca17": {
      "model_module": "@jupyter-widgets/controls",
      "model_module_version": "1.5.0",
      "model_name": "FloatProgressModel",
      "state": {
       "bar_style": "success",
       "description": "[0] 7/12(val  ): 100%",
       "layout": "IPY_MODEL_2ea0991a87f4448eac9b43479e3c4489",
       "max": 165,
       "style": "IPY_MODEL_fc0c39371caf4ba5854c1ee9cbe12f8c",
       "value": 165
      }
     },
     "1f64dd1ace01475e9eb99db8e5dfc154": {
      "model_module": "@jupyter-widgets/controls",
      "model_module_version": "1.5.0",
      "model_name": "HTMLModel",
      "state": {
       "layout": "IPY_MODEL_28ab7c037b8f4de1880b505ddd53f44d",
       "style": "IPY_MODEL_42549337cf97446f80e50a8281966807",
       "value": " 469/469 [1:36:25&lt;00:00, 12.34s/it]"
      }
     },
     "1fb52cdaa0b040e2b5a1961f8591ad4e": {
      "model_module": "@jupyter-widgets/controls",
      "model_module_version": "1.5.0",
      "model_name": "FloatProgressModel",
      "state": {
       "bar_style": "success",
       "description": "[3] 9/12(val  ): 100%",
       "layout": "IPY_MODEL_3f965b96a5614eabbfdee8f9d7f74085",
       "max": 157,
       "style": "IPY_MODEL_df9600bb9a60409d9857773ffcdf2210",
       "value": 157
      }
     },
     "2019d4a47e2d4b9b90cd10948aed00fd": {
      "model_module": "@jupyter-widgets/base",
      "model_module_version": "1.2.0",
      "model_name": "LayoutModel",
      "state": {}
     },
     "2044e30fde7d492594acb081cb67b363": {
      "model_module": "@jupyter-widgets/controls",
      "model_module_version": "1.5.0",
      "model_name": "HBoxModel",
      "state": {
       "children": [
        "IPY_MODEL_e25ea4f4b68d49bd9032006d38202fbc",
        "IPY_MODEL_5477c571aa3b4f6986c7e3d8b1933bee"
       ],
       "layout": "IPY_MODEL_bc33225563ed498d85b25b87f99d750f"
      }
     },
     "2068803458544d2e86a87dded7d37854": {
      "model_module": "@jupyter-widgets/controls",
      "model_module_version": "1.5.0",
      "model_name": "DescriptionStyleModel",
      "state": {
       "description_width": ""
      }
     },
     "208b504ed620484bbbb7de3f9b686f1d": {
      "model_module": "@jupyter-widgets/base",
      "model_module_version": "1.2.0",
      "model_name": "LayoutModel",
      "state": {}
     },
     "208f4f492e484fd8bf5bfecb2252c634": {
      "model_module": "@jupyter-widgets/controls",
      "model_module_version": "1.5.0",
      "model_name": "HBoxModel",
      "state": {
       "children": [
        "IPY_MODEL_3b7d4593b51944458d9e1ce531456a60",
        "IPY_MODEL_8cddfcf93a2647edacffaedeab19aae8"
       ],
       "layout": "IPY_MODEL_6be1d188632c452c9568a12aa92ae515"
      }
     },
     "20960e11afff4aaa96cc920e57caacca": {
      "model_module": "@jupyter-widgets/base",
      "model_module_version": "1.2.0",
      "model_name": "LayoutModel",
      "state": {}
     },
     "20dcc37db29947879ad58bdc9d791628": {
      "model_module": "@jupyter-widgets/controls",
      "model_module_version": "1.5.0",
      "model_name": "HBoxModel",
      "state": {
       "children": [
        "IPY_MODEL_8a2968128a214c3c806d33ee140ec240",
        "IPY_MODEL_7b4ca315ae3e415489053149a3fada92"
       ],
       "layout": "IPY_MODEL_c069a6d77e7f43c8983fdd2e48833007"
      }
     },
     "2115c25eaa2d4345a9723768ffa41703": {
      "model_module": "@jupyter-widgets/base",
      "model_module_version": "1.2.0",
      "model_name": "LayoutModel",
      "state": {}
     },
     "2182af2a09f0442991b8d7bd44c43406": {
      "model_module": "@jupyter-widgets/base",
      "model_module_version": "1.2.0",
      "model_name": "LayoutModel",
      "state": {}
     },
     "2193db1e387e41df82874f15a6dad290": {
      "model_module": "@jupyter-widgets/controls",
      "model_module_version": "1.5.0",
      "model_name": "HTMLModel",
      "state": {
       "layout": "IPY_MODEL_256b1a63da7c48fd95a9527eb904fb5f",
       "style": "IPY_MODEL_099ed44c22754ac5b31d1b23dd76f08f",
       "value": " 469/469 [4:35:37&lt;00:00, 35.26s/it]"
      }
     },
     "21cd959b15764a26b3798a186d3ddaef": {
      "model_module": "@jupyter-widgets/base",
      "model_module_version": "1.2.0",
      "model_name": "LayoutModel",
      "state": {}
     },
     "21e26e00c482475cb8228ee2aa61ee99": {
      "model_module": "@jupyter-widgets/base",
      "model_module_version": "1.2.0",
      "model_name": "LayoutModel",
      "state": {}
     },
     "21f1e92751c045338c0cdec8378f4772": {
      "model_module": "@jupyter-widgets/controls",
      "model_module_version": "1.5.0",
      "model_name": "DescriptionStyleModel",
      "state": {
       "description_width": ""
      }
     },
     "21f856b0b32d4456b2ce6c9e0c3e7d25": {
      "model_module": "@jupyter-widgets/controls",
      "model_module_version": "1.5.0",
      "model_name": "DescriptionStyleModel",
      "state": {
       "description_width": ""
      }
     },
     "2210339ff12e4e89b4fab748929aadb1": {
      "model_module": "@jupyter-widgets/base",
      "model_module_version": "1.2.0",
      "model_name": "LayoutModel",
      "state": {}
     },
     "2218c328a45140598e37483ebc06c963": {
      "model_module": "@jupyter-widgets/controls",
      "model_module_version": "1.5.0",
      "model_name": "ProgressStyleModel",
      "state": {
       "description_width": "initial"
      }
     },
     "2256c87155f44494ad1bd7dfceaff515": {
      "model_module": "@jupyter-widgets/controls",
      "model_module_version": "1.5.0",
      "model_name": "ProgressStyleModel",
      "state": {
       "description_width": "initial"
      }
     },
     "2277fc5783f2464a8e5a3ad634251590": {
      "model_module": "@jupyter-widgets/base",
      "model_module_version": "1.2.0",
      "model_name": "LayoutModel",
      "state": {}
     },
     "227979358ed84dda8f802324da963434": {
      "model_module": "@jupyter-widgets/controls",
      "model_module_version": "1.5.0",
      "model_name": "FloatProgressModel",
      "state": {
       "bar_style": "success",
       "description": "[2] 11/12(train): 100%",
       "layout": "IPY_MODEL_dab678eef5644379a794deb631bbeba6",
       "max": 469,
       "style": "IPY_MODEL_94d2c666633e4952b5d2321cd7d18240",
       "value": 469
      }
     },
     "227cb1ca9cc34eefa495a7bf71902229": {
      "model_module": "@jupyter-widgets/base",
      "model_module_version": "1.2.0",
      "model_name": "LayoutModel",
      "state": {}
     },
     "22a4394f77644bc999d328890eb3ff88": {
      "model_module": "@jupyter-widgets/base",
      "model_module_version": "1.2.0",
      "model_name": "LayoutModel",
      "state": {}
     },
     "22b7dd453b794eeaae96a5953f1634c0": {
      "model_module": "@jupyter-widgets/base",
      "model_module_version": "1.2.0",
      "model_name": "LayoutModel",
      "state": {}
     },
     "22c199f5c6a54d59b6244fdd85d88736": {
      "model_module": "@jupyter-widgets/base",
      "model_module_version": "1.2.0",
      "model_name": "LayoutModel",
      "state": {}
     },
     "22d845b4496a42b48d21d5365603306b": {
      "model_module": "@jupyter-widgets/controls",
      "model_module_version": "1.5.0",
      "model_name": "DescriptionStyleModel",
      "state": {
       "description_width": ""
      }
     },
     "22eb3f122ac04149b203534a9c1f5f8f": {
      "model_module": "@jupyter-widgets/controls",
      "model_module_version": "1.5.0",
      "model_name": "HTMLModel",
      "state": {
       "layout": "IPY_MODEL_d73bffa83da742e1bc7a37ab6480e9f6",
       "style": "IPY_MODEL_964633361996443fa46b197d1ec05815",
       "value": " 157/157 [23:48&lt;00:00,  9.10s/it]"
      }
     },
     "2305516739a64ae2937931cb19783ef9": {
      "model_module": "@jupyter-widgets/controls",
      "model_module_version": "1.5.0",
      "model_name": "HBoxModel",
      "state": {
       "children": [
        "IPY_MODEL_fd5f8115c7b24a9e903d6c1d85906d32",
        "IPY_MODEL_a55a7e35379149e78b06d63c6dec2dc1"
       ],
       "layout": "IPY_MODEL_4b359765c1214ea1866c5a7326aeda2b"
      }
     },
     "23113d73b8884b53ab80f1d07592d859": {
      "model_module": "@jupyter-widgets/controls",
      "model_module_version": "1.5.0",
      "model_name": "ProgressStyleModel",
      "state": {
       "description_width": "initial"
      }
     },
     "23293687590543ac863b961435409bf3": {
      "model_module": "@jupyter-widgets/base",
      "model_module_version": "1.2.0",
      "model_name": "LayoutModel",
      "state": {}
     },
     "236b01c859fb4bf3be780d3f5800bf2b": {
      "model_module": "@jupyter-widgets/controls",
      "model_module_version": "1.5.0",
      "model_name": "HBoxModel",
      "state": {
       "children": [
        "IPY_MODEL_dc69b37499f1489896faf52e73b41755",
        "IPY_MODEL_0b7f57a810a24d748b7a7e66fe03b38c"
       ],
       "layout": "IPY_MODEL_628582e6e4624f77b12a55b28aecf1ee"
      }
     },
     "23ee7ad201314955a9056d3b9854acfe": {
      "model_module": "@jupyter-widgets/base",
      "model_module_version": "1.2.0",
      "model_name": "LayoutModel",
      "state": {}
     },
     "23f4ff2d50ed449e9fbffecf353ed9c3": {
      "model_module": "@jupyter-widgets/controls",
      "model_module_version": "1.5.0",
      "model_name": "DescriptionStyleModel",
      "state": {
       "description_width": ""
      }
     },
     "23f5c0e1fb4945cfbbe2d2a65e05b714": {
      "model_module": "@jupyter-widgets/controls",
      "model_module_version": "1.5.0",
      "model_name": "DescriptionStyleModel",
      "state": {
       "description_width": ""
      }
     },
     "244c1c47db7c432e924967e2059d966f": {
      "model_module": "@jupyter-widgets/controls",
      "model_module_version": "1.5.0",
      "model_name": "ProgressStyleModel",
      "state": {
       "description_width": "initial"
      }
     },
     "245fa8c2ff0a4b52aae47b7b033f9f4b": {
      "model_module": "@jupyter-widgets/controls",
      "model_module_version": "1.5.0",
      "model_name": "DescriptionStyleModel",
      "state": {
       "description_width": ""
      }
     },
     "249787a51e29437fa439b30ad29a8c93": {
      "model_module": "@jupyter-widgets/base",
      "model_module_version": "1.2.0",
      "model_name": "LayoutModel",
      "state": {}
     },
     "24f32ed2c181407585c9a7fa45b3c3a5": {
      "model_module": "@jupyter-widgets/controls",
      "model_module_version": "1.5.0",
      "model_name": "ProgressStyleModel",
      "state": {
       "description_width": "initial"
      }
     },
     "2521bb65c16043fc9a3adcda51d81de1": {
      "model_module": "@jupyter-widgets/controls",
      "model_module_version": "1.5.0",
      "model_name": "HBoxModel",
      "state": {
       "children": [
        "IPY_MODEL_dbc9699d784448bd82168cf96ab1968e",
        "IPY_MODEL_bb9fc92787674b018cd7dfa2a863f96f"
       ],
       "layout": "IPY_MODEL_03449136f215422cb9434c4be9f2ad88"
      }
     },
     "255d58c4076544029d8d6ad4e75fa30b": {
      "model_module": "@jupyter-widgets/controls",
      "model_module_version": "1.5.0",
      "model_name": "HTMLModel",
      "state": {
       "layout": "IPY_MODEL_c6db3c2a07f74d5aa21c5dd3b0cfa382",
       "style": "IPY_MODEL_8705195870144bdfbd38603dae86d539",
       "value": " 157/157 [32:46&lt;00:00, 12.53s/it]"
      }
     },
     "256b1a63da7c48fd95a9527eb904fb5f": {
      "model_module": "@jupyter-widgets/base",
      "model_module_version": "1.2.0",
      "model_name": "LayoutModel",
      "state": {}
     },
     "25718d796fc947d29d1da61fa2a0fb37": {
      "model_module": "@jupyter-widgets/controls",
      "model_module_version": "1.5.0",
      "model_name": "HBoxModel",
      "state": {
       "children": [
        "IPY_MODEL_f32b8de4889f4470a040ac62d6ed8a5f",
        "IPY_MODEL_9d7112bce75746e1beaa5273511d6470"
       ],
       "layout": "IPY_MODEL_85bc6c31fa65473094e38f6155c6b52d"
      }
     },
     "2571ae60c6874d3ca7ba50ae315989b1": {
      "model_module": "@jupyter-widgets/controls",
      "model_module_version": "1.5.0",
      "model_name": "FloatProgressModel",
      "state": {
       "bar_style": "success",
       "description": "[0] 4/12(train): 100%",
       "layout": "IPY_MODEL_06d7b8172ace4e5aadb4e5592e8156ae",
       "max": 469,
       "style": "IPY_MODEL_c5c1bd2a3feb4819bf7194e06acef71d",
       "value": 469
      }
     },
     "25847e1aaa764a8eae7792776c01c351": {
      "model_module": "@jupyter-widgets/controls",
      "model_module_version": "1.5.0",
      "model_name": "HBoxModel",
      "state": {
       "children": [
        "IPY_MODEL_6ad7250b1d3d4e60b7152cee41320b4d",
        "IPY_MODEL_7dec41afef524132a5f0d6bd43f3159c"
       ],
       "layout": "IPY_MODEL_44c334c6d6524fd7b97bb17f506e726e"
      }
     },
     "25875f2a743045878079ffe90004904b": {
      "model_module": "@jupyter-widgets/controls",
      "model_module_version": "1.5.0",
      "model_name": "FloatProgressModel",
      "state": {
       "bar_style": "success",
       "description": "[0] 5/12(train): 100%",
       "layout": "IPY_MODEL_7d9801656335475290bf29687b59a015",
       "max": 493,
       "style": "IPY_MODEL_1b58af8fb01a47e287d46343e428be97",
       "value": 493
      }
     },
     "259d025185b74cf98a559a494997389f": {
      "model_module": "@jupyter-widgets/base",
      "model_module_version": "1.2.0",
      "model_name": "LayoutModel",
      "state": {}
     },
     "25add0553bf6421fb6449a55ee57ef60": {
      "model_module": "@jupyter-widgets/controls",
      "model_module_version": "1.5.0",
      "model_name": "ProgressStyleModel",
      "state": {
       "description_width": "initial"
      }
     },
     "25c785d0ffa94eb1b65f380d09fbac56": {
      "model_module": "@jupyter-widgets/base",
      "model_module_version": "1.2.0",
      "model_name": "LayoutModel",
      "state": {}
     },
     "25ee3ba956524c5e8c126417f9756d0b": {
      "model_module": "@jupyter-widgets/controls",
      "model_module_version": "1.5.0",
      "model_name": "FloatProgressModel",
      "state": {
       "bar_style": "success",
       "description": "[3] 12/12(train): 100%",
       "layout": "IPY_MODEL_82c227bd1abd461489f70b15b0561c9b",
       "max": 493,
       "style": "IPY_MODEL_d88452c60157460e8201b3cd90c83e09",
       "value": 493
      }
     },
     "25f572cf57fe4f9c85ff72cdbf2f7355": {
      "model_module": "@jupyter-widgets/controls",
      "model_module_version": "1.5.0",
      "model_name": "FloatProgressModel",
      "state": {
       "bar_style": "success",
       "description": "[2] 10/12(train): 100%",
       "layout": "IPY_MODEL_4d4b2c466424453fba61492fc775aefe",
       "max": 469,
       "style": "IPY_MODEL_4987cac9cdfa404a923de900489842c0",
       "value": 469
      }
     },
     "2604f09624e5483b92f9fb7ae190029e": {
      "model_module": "@jupyter-widgets/base",
      "model_module_version": "1.2.0",
      "model_name": "LayoutModel",
      "state": {}
     },
     "260c3b87c8124928ab248ad42e34135b": {
      "model_module": "@jupyter-widgets/base",
      "model_module_version": "1.2.0",
      "model_name": "LayoutModel",
      "state": {}
     },
     "263816217fda4e57b53dfa8844ce7088": {
      "model_module": "@jupyter-widgets/base",
      "model_module_version": "1.2.0",
      "model_name": "LayoutModel",
      "state": {}
     },
     "2649ab539dfe48689b1297a1e6984171": {
      "model_module": "@jupyter-widgets/controls",
      "model_module_version": "1.5.0",
      "model_name": "ProgressStyleModel",
      "state": {
       "description_width": "initial"
      }
     },
     "26906c89dad042a1b535d567329906ec": {
      "model_module": "@jupyter-widgets/controls",
      "model_module_version": "1.5.0",
      "model_name": "FloatProgressModel",
      "state": {
       "bar_style": "success",
       "description": "[2] 10/12(val  ): 100%",
       "layout": "IPY_MODEL_bb2fb1258fb44d69a9db2051b48a11ee",
       "max": 165,
       "style": "IPY_MODEL_ccf6b676a5f740d9a3a3186847238f5e",
       "value": 165
      }
     },
     "26b128cef9dd4964af88ad13e8718dcd": {
      "model_module": "@jupyter-widgets/controls",
      "model_module_version": "1.5.0",
      "model_name": "HTMLModel",
      "state": {
       "layout": "IPY_MODEL_3dd9b6e96d214142aa3da3dbf44eb4a3",
       "style": "IPY_MODEL_03c4e56822234cbe9486dfc76be38085",
       "value": " 469/469 [6:11:32&lt;00:00, 47.53s/it]"
      }
     },
     "26b2e73f9c0b4efaac1ed88c7482d518": {
      "model_module": "@jupyter-widgets/controls",
      "model_module_version": "1.5.0",
      "model_name": "HTMLModel",
      "state": {
       "layout": "IPY_MODEL_ed6892504839420f939625a233c7ee65",
       "style": "IPY_MODEL_984668c379b44fdbab3596a71454a59a",
       "value": " 0/3 [00:00&lt;?, ?it/s]"
      }
     },
     "26f9472590844df8ac4a167060ff4693": {
      "model_module": "@jupyter-widgets/controls",
      "model_module_version": "1.5.0",
      "model_name": "HBoxModel",
      "state": {
       "children": [
        "IPY_MODEL_3fa08916560c4d5a95ac3efadf4abf89",
        "IPY_MODEL_e772b53c2d6d427d893a207cedea8eab"
       ],
       "layout": "IPY_MODEL_4c4baa57fafa4dec98377b253068e458"
      }
     },
     "270b2623de3e48f9b906a4c26116fd12": {
      "model_module": "@jupyter-widgets/base",
      "model_module_version": "1.2.0",
      "model_name": "LayoutModel",
      "state": {}
     },
     "27424055932d422fb97a9e1f8e792eae": {
      "model_module": "@jupyter-widgets/base",
      "model_module_version": "1.2.0",
      "model_name": "LayoutModel",
      "state": {}
     },
     "277b8c3dd0f64cd58eb7441b288d229e": {
      "model_module": "@jupyter-widgets/controls",
      "model_module_version": "1.5.0",
      "model_name": "HBoxModel",
      "state": {
       "children": [
        "IPY_MODEL_2d3a80c8de4449f183897831bbf4101d",
        "IPY_MODEL_da7cabcfbee9417dbb7c9526be4b30ff"
       ],
       "layout": "IPY_MODEL_bd5cd6369ec14bcf846b103ac059a045"
      }
     },
     "277e8c8e184748efa0e403ebd723eee8": {
      "model_module": "@jupyter-widgets/controls",
      "model_module_version": "1.5.0",
      "model_name": "HTMLModel",
      "state": {
       "layout": "IPY_MODEL_6b643d11864b4153b7638a50826511e5",
       "style": "IPY_MODEL_fe49592e17c84b69b49eda952b842329",
       "value": " 157/157 [21:50&lt;00:00,  8.34s/it]"
      }
     },
     "27964b5ee8864a95abf47cefb612dd29": {
      "model_module": "@jupyter-widgets/base",
      "model_module_version": "1.2.0",
      "model_name": "LayoutModel",
      "state": {}
     },
     "27b02b2e24914e28b7b3c2e99e6a9385": {
      "model_module": "@jupyter-widgets/controls",
      "model_module_version": "1.5.0",
      "model_name": "FloatProgressModel",
      "state": {
       "bar_style": "success",
       "description": "[2] 8/12(train): 100%",
       "layout": "IPY_MODEL_f04756fc5c6d41fd9c409639de8994c5",
       "max": 469,
       "style": "IPY_MODEL_17cebda9ae284be1a0e15198220f080c",
       "value": 469
      }
     },
     "27bcf115dabc4e118981f6e650070060": {
      "model_module": "@jupyter-widgets/base",
      "model_module_version": "1.2.0",
      "model_name": "LayoutModel",
      "state": {}
     },
     "27f2ab6a86df44e1b9584f33203dbd51": {
      "model_module": "@jupyter-widgets/controls",
      "model_module_version": "1.5.0",
      "model_name": "HBoxModel",
      "state": {
       "children": [
        "IPY_MODEL_333481709a0a4ff08a3e3523504a1cef",
        "IPY_MODEL_b0af5fd22dcb4627a8b44727e418fde2"
       ],
       "layout": "IPY_MODEL_9525321056464c9d9d67d5900d9341ba"
      }
     },
     "28568a10190440d6b4e33bfa6a91663b": {
      "model_module": "@jupyter-widgets/base",
      "model_module_version": "1.2.0",
      "model_name": "LayoutModel",
      "state": {}
     },
     "285b6aec841d4286a1effa1f1fc2c5e5": {
      "model_module": "@jupyter-widgets/controls",
      "model_module_version": "1.5.0",
      "model_name": "FloatProgressModel",
      "state": {
       "bar_style": "success",
       "description": "[3] 2/12(train): 100%",
       "layout": "IPY_MODEL_697dd75e4022465db0a4e94ac7aa108f",
       "max": 469,
       "style": "IPY_MODEL_9dd03cceb22445ec9939a839d341ed4c",
       "value": 469
      }
     },
     "289846d21bba40dcb13feacaa9d91c0f": {
      "model_module": "@jupyter-widgets/base",
      "model_module_version": "1.2.0",
      "model_name": "LayoutModel",
      "state": {}
     },
     "28ab7c037b8f4de1880b505ddd53f44d": {
      "model_module": "@jupyter-widgets/base",
      "model_module_version": "1.2.0",
      "model_name": "LayoutModel",
      "state": {}
     },
     "28f49a85d7ab48bcb425968ab6099e68": {
      "model_module": "@jupyter-widgets/controls",
      "model_module_version": "1.5.0",
      "model_name": "HTMLModel",
      "state": {
       "layout": "IPY_MODEL_5ed209c78b0d40cfa416ed92790d5838",
       "style": "IPY_MODEL_245fa8c2ff0a4b52aae47b7b033f9f4b",
       "value": " 157/157 [26:26&lt;00:00, 10.11s/it]"
      }
     },
     "28fa272748db4b1e9d9ef37f96467474": {
      "model_module": "@jupyter-widgets/base",
      "model_module_version": "1.2.0",
      "model_name": "LayoutModel",
      "state": {}
     },
     "291f3531307e4f5fb6a207f806458c61": {
      "model_module": "@jupyter-widgets/controls",
      "model_module_version": "1.5.0",
      "model_name": "ProgressStyleModel",
      "state": {
       "description_width": "initial"
      }
     },
     "2989397da3e640b192ffad125eb2a552": {
      "model_module": "@jupyter-widgets/base",
      "model_module_version": "1.2.0",
      "model_name": "LayoutModel",
      "state": {}
     },
     "299463d9907d436b8a4f217b040fa231": {
      "model_module": "@jupyter-widgets/base",
      "model_module_version": "1.2.0",
      "model_name": "LayoutModel",
      "state": {}
     },
     "29c6866697dd48f0b13383ab0de992bb": {
      "model_module": "@jupyter-widgets/base",
      "model_module_version": "1.2.0",
      "model_name": "LayoutModel",
      "state": {}
     },
     "29daea28b9c8486d99caaf8a1d3c2aae": {
      "model_module": "@jupyter-widgets/base",
      "model_module_version": "1.2.0",
      "model_name": "LayoutModel",
      "state": {}
     },
     "2a0b125ee6f94a419ad6fcad49b8ae38": {
      "model_module": "@jupyter-widgets/base",
      "model_module_version": "1.2.0",
      "model_name": "LayoutModel",
      "state": {}
     },
     "2a1fff532b73436ba75ee11984707149": {
      "model_module": "@jupyter-widgets/controls",
      "model_module_version": "1.5.0",
      "model_name": "DescriptionStyleModel",
      "state": {
       "description_width": ""
      }
     },
     "2a5875a575584d4f9cc84291aadb247e": {
      "model_module": "@jupyter-widgets/controls",
      "model_module_version": "1.5.0",
      "model_name": "DescriptionStyleModel",
      "state": {
       "description_width": ""
      }
     },
     "2a6f4dc6222a415a8b4c2ec73de10019": {
      "model_module": "@jupyter-widgets/controls",
      "model_module_version": "1.5.0",
      "model_name": "ProgressStyleModel",
      "state": {
       "description_width": "initial"
      }
     },
     "2a96f90af8094f8283889ad0cfb8e7ab": {
      "model_module": "@jupyter-widgets/base",
      "model_module_version": "1.2.0",
      "model_name": "LayoutModel",
      "state": {}
     },
     "2abe47247cb2469b943c436e80884aee": {
      "model_module": "@jupyter-widgets/controls",
      "model_module_version": "1.5.0",
      "model_name": "DescriptionStyleModel",
      "state": {
       "description_width": ""
      }
     },
     "2accc9288a5e4e71aefd90f0bb488e30": {
      "model_module": "@jupyter-widgets/controls",
      "model_module_version": "1.5.0",
      "model_name": "FloatProgressModel",
      "state": {
       "bar_style": "success",
       "description": "[1] 5/12(train): 100%",
       "layout": "IPY_MODEL_a31bde0aaf7249b087fbbbb45c4421ae",
       "max": 469,
       "style": "IPY_MODEL_17687febda004e16a66afe0a8054dc3c",
       "value": 469
      }
     },
     "2acf477aa8da418a88ce8d116dd817f8": {
      "model_module": "@jupyter-widgets/base",
      "model_module_version": "1.2.0",
      "model_name": "LayoutModel",
      "state": {}
     },
     "2b1273970d3840c1ae2d4cd9ec3ed24b": {
      "model_module": "@jupyter-widgets/controls",
      "model_module_version": "1.5.0",
      "model_name": "ProgressStyleModel",
      "state": {
       "description_width": "initial"
      }
     },
     "2b43fcbe3af745918be2ad9fc6a5a149": {
      "model_module": "@jupyter-widgets/controls",
      "model_module_version": "1.5.0",
      "model_name": "HBoxModel",
      "state": {
       "children": [
        "IPY_MODEL_7a0d3a8ceabc4720aff703d3bf0d7909",
        "IPY_MODEL_74f2d01e6d8244b4bdc08f19c14297ae"
       ],
       "layout": "IPY_MODEL_536d7a52aa0a4c82bb80c7970af92acd"
      }
     },
     "2b50124c66c040a0952b1e02f0517afd": {
      "model_module": "@jupyter-widgets/base",
      "model_module_version": "1.2.0",
      "model_name": "LayoutModel",
      "state": {}
     },
     "2b5bcf650fce419aa7cff213afa49364": {
      "model_module": "@jupyter-widgets/base",
      "model_module_version": "1.2.0",
      "model_name": "LayoutModel",
      "state": {}
     },
     "2bb8fddec64e4683833c5a07bca676f1": {
      "model_module": "@jupyter-widgets/controls",
      "model_module_version": "1.5.0",
      "model_name": "FloatProgressModel",
      "state": {
       "bar_style": "success",
       "description": "[1] 5/12(val  ): 100%",
       "layout": "IPY_MODEL_6a7b17d6e3e344ba982b82e64a175dab",
       "max": 165,
       "style": "IPY_MODEL_ba744224c2aa4d59b37d284330107d4a",
       "value": 165
      }
     },
     "2bbe37f7b1994635bbf253358fccf4fa": {
      "model_module": "@jupyter-widgets/controls",
      "model_module_version": "1.5.0",
      "model_name": "DescriptionStyleModel",
      "state": {
       "description_width": ""
      }
     },
     "2bc323676c5942ba86e4e9de2532eba4": {
      "model_module": "@jupyter-widgets/controls",
      "model_module_version": "1.5.0",
      "model_name": "ProgressStyleModel",
      "state": {
       "description_width": "initial"
      }
     },
     "2bf47a985c2d4f41943954fbc5378738": {
      "model_module": "@jupyter-widgets/base",
      "model_module_version": "1.2.0",
      "model_name": "LayoutModel",
      "state": {}
     },
     "2c042b644c014dd984d7a86c2d691925": {
      "model_module": "@jupyter-widgets/base",
      "model_module_version": "1.2.0",
      "model_name": "LayoutModel",
      "state": {}
     },
     "2c0b116fdec34678abd5be5e43043cbe": {
      "model_module": "@jupyter-widgets/controls",
      "model_module_version": "1.5.0",
      "model_name": "HTMLModel",
      "state": {
       "layout": "IPY_MODEL_19a18d3b02d745e9bba28bd12d67165d",
       "style": "IPY_MODEL_99863f0e00bb4360b70ed77e29c0c2e4",
       "value": " 1/1 [00:03&lt;00:00,  4.00s/it]"
      }
     },
     "2c127e7a73be45be91dfcd162e60ba7e": {
      "model_module": "@jupyter-widgets/base",
      "model_module_version": "1.2.0",
      "model_name": "LayoutModel",
      "state": {}
     },
     "2c5e48b1cf274ec49f8353fbfaf6116d": {
      "model_module": "@jupyter-widgets/controls",
      "model_module_version": "1.5.0",
      "model_name": "HBoxModel",
      "state": {
       "children": [
        "IPY_MODEL_ea866a6df6914edc87071b14ec89611e",
        "IPY_MODEL_ebb96f0d27a64d3a9d3bfeb530070da9"
       ],
       "layout": "IPY_MODEL_e41427564acf40f1a2e54c7bdc876ca3"
      }
     },
     "2c613d7a0fe84bbd85c7f50941a379a4": {
      "model_module": "@jupyter-widgets/controls",
      "model_module_version": "1.5.0",
      "model_name": "HBoxModel",
      "state": {
       "children": [
        "IPY_MODEL_c58d70d1c32b40eb86587d9fd91ef690",
        "IPY_MODEL_ac56f5a489f94f5588613a802fa7828b"
       ],
       "layout": "IPY_MODEL_12d0cf91844d440281e7d1a323d2d625"
      }
     },
     "2c7279dc54b54f93a722f3fd92426168": {
      "model_module": "@jupyter-widgets/base",
      "model_module_version": "1.2.0",
      "model_name": "LayoutModel",
      "state": {}
     },
     "2cf0cb1cd68c4e02a29676c0a3f50c02": {
      "model_module": "@jupyter-widgets/controls",
      "model_module_version": "1.5.0",
      "model_name": "HTMLModel",
      "state": {
       "layout": "IPY_MODEL_4b1956daf49d45b4afc4d5cb5b871960",
       "style": "IPY_MODEL_174ba8cfdbf046cd88821f53a656b263",
       "value": " 165/165 [18:20&lt;00:00,  6.67s/it]"
      }
     },
     "2d0c3205d56040e38195c6fbd68aa8ad": {
      "model_module": "@jupyter-widgets/controls",
      "model_module_version": "1.5.0",
      "model_name": "HTMLModel",
      "state": {
       "layout": "IPY_MODEL_cdeb80550e154eac8b76645202f2a6bb",
       "style": "IPY_MODEL_434a8c49b22240f596a2cef5ab6d01e5",
       "value": " 469/469 [1:32:12&lt;00:00, 11.80s/it]"
      }
     },
     "2d3a80c8de4449f183897831bbf4101d": {
      "model_module": "@jupyter-widgets/controls",
      "model_module_version": "1.5.0",
      "model_name": "FloatProgressModel",
      "state": {
       "bar_style": "success",
       "description": "[1] 2/12(val  ): 100%",
       "layout": "IPY_MODEL_a3a9423ca17444218aede1c2e282ce70",
       "max": 157,
       "style": "IPY_MODEL_d640d84eb8464412a4e579cb98bf578d",
       "value": 157
      }
     },
     "2d3c767421a549bbb9c2bd58af699028": {
      "model_module": "@jupyter-widgets/controls",
      "model_module_version": "1.5.0",
      "model_name": "HTMLModel",
      "state": {
       "layout": "IPY_MODEL_f85e265526344c58a43ccbe78b15a673",
       "style": "IPY_MODEL_db8fea8294d040afa391f774b967b902",
       "value": " 469/469 [1:33:12&lt;00:00, 11.92s/it]"
      }
     },
     "2d408348c816432ca5d4e99791ac0cfa": {
      "model_module": "@jupyter-widgets/controls",
      "model_module_version": "1.5.0",
      "model_name": "HBoxModel",
      "state": {
       "children": [
        "IPY_MODEL_68ce5b270eb84fe9b256d2971b9ee7b8",
        "IPY_MODEL_a57befa6f745406cb47a4b162f667add"
       ],
       "layout": "IPY_MODEL_36728867b27c47d2a9b793b4e8bff5d2"
      }
     },
     "2d8087c5d40144168fd631e17dc24153": {
      "model_module": "@jupyter-widgets/base",
      "model_module_version": "1.2.0",
      "model_name": "LayoutModel",
      "state": {}
     },
     "2d872c3259d8461cb4c7fc7556a2ccbe": {
      "model_module": "@jupyter-widgets/base",
      "model_module_version": "1.2.0",
      "model_name": "LayoutModel",
      "state": {}
     },
     "2d97f707ff89433a8eecdae81156160d": {
      "model_module": "@jupyter-widgets/base",
      "model_module_version": "1.2.0",
      "model_name": "LayoutModel",
      "state": {}
     },
     "2e9cffe90be64150b63f68b4d226577b": {
      "model_module": "@jupyter-widgets/controls",
      "model_module_version": "1.5.0",
      "model_name": "HTMLModel",
      "state": {
       "layout": "IPY_MODEL_5127493c75dd4671a15f2dd4aeaa70a1",
       "style": "IPY_MODEL_8f8edf10ee964380807688580dcbad0b",
       "value": " 469/469 [1:42:34&lt;00:00, 13.12s/it]"
      }
     },
     "2ea0991a87f4448eac9b43479e3c4489": {
      "model_module": "@jupyter-widgets/base",
      "model_module_version": "1.2.0",
      "model_name": "LayoutModel",
      "state": {}
     },
     "2eb780a2788f45ac979c51c676fe515c": {
      "model_module": "@jupyter-widgets/controls",
      "model_module_version": "1.5.0",
      "model_name": "HBoxModel",
      "state": {
       "children": [
        "IPY_MODEL_df8105a3a12b42cea9f2e275fdffebfe",
        "IPY_MODEL_09b1bd998923488d98ee5f896d471b03"
       ],
       "layout": "IPY_MODEL_da8c6e9d540440c5aee798619419165f"
      }
     },
     "2ef58a87da9447d59a051d9cf6062c4c": {
      "model_module": "@jupyter-widgets/controls",
      "model_module_version": "1.5.0",
      "model_name": "ProgressStyleModel",
      "state": {
       "description_width": "initial"
      }
     },
     "2efc0f79761b48bb90a603e7e6de9d8b": {
      "model_module": "@jupyter-widgets/controls",
      "model_module_version": "1.5.0",
      "model_name": "HTMLModel",
      "state": {
       "layout": "IPY_MODEL_5bb4a49862c94c81a8519728789d6485",
       "style": "IPY_MODEL_43337beebf614ab58ee4a281376ae406",
       "value": " 165/165 [12:41&lt;00:00,  4.62s/it]"
      }
     },
     "2efcf6d0b23b4acd882c770393e6e867": {
      "model_module": "@jupyter-widgets/controls",
      "model_module_version": "1.5.0",
      "model_name": "ProgressStyleModel",
      "state": {
       "description_width": "initial"
      }
     },
     "2f1f2fc3384542c68050e0d87aeb8dd1": {
      "model_module": "@jupyter-widgets/base",
      "model_module_version": "1.2.0",
      "model_name": "LayoutModel",
      "state": {}
     },
     "2f73f294b23c48aeaba5b27dcefdbafa": {
      "model_module": "@jupyter-widgets/controls",
      "model_module_version": "1.5.0",
      "model_name": "HBoxModel",
      "state": {
       "children": [
        "IPY_MODEL_08bf6dc70c584a9f9ef0cc236fa6774b",
        "IPY_MODEL_cadb139d436949d782530d3160840e8d"
       ],
       "layout": "IPY_MODEL_23ee7ad201314955a9056d3b9854acfe"
      }
     },
     "2f7a6e7a7590408f97815dffcdb3dbe4": {
      "model_module": "@jupyter-widgets/controls",
      "model_module_version": "1.5.0",
      "model_name": "ProgressStyleModel",
      "state": {
       "description_width": "initial"
      }
     },
     "2f7c3c7df3b84166a1afc99340502ad8": {
      "model_module": "@jupyter-widgets/controls",
      "model_module_version": "1.5.0",
      "model_name": "HBoxModel",
      "state": {
       "children": [
        "IPY_MODEL_d1e9e35aa3bf4453b4d9d0b1097da867",
        "IPY_MODEL_5a57c41a88a547dd8b4d4b92113a7541"
       ],
       "layout": "IPY_MODEL_9e11a387f5cd4f26b05b949dc3ff3c0d"
      }
     },
     "301b46ebf95d4929bab4b08c3ceab2b2": {
      "model_module": "@jupyter-widgets/controls",
      "model_module_version": "1.5.0",
      "model_name": "DescriptionStyleModel",
      "state": {
       "description_width": ""
      }
     },
     "30b2ecb689e84612b39a1b7fd766c203": {
      "model_module": "@jupyter-widgets/base",
      "model_module_version": "1.2.0",
      "model_name": "LayoutModel",
      "state": {}
     },
     "30b8a33647c348fa9a528768ae3311cf": {
      "model_module": "@jupyter-widgets/base",
      "model_module_version": "1.2.0",
      "model_name": "LayoutModel",
      "state": {}
     },
     "30c7687ee81641ce900dca5ac82377d4": {
      "model_module": "@jupyter-widgets/controls",
      "model_module_version": "1.5.0",
      "model_name": "ProgressStyleModel",
      "state": {
       "description_width": "initial"
      }
     },
     "30e8623e06c64774ae1b26e54b6a1e52": {
      "model_module": "@jupyter-widgets/controls",
      "model_module_version": "1.5.0",
      "model_name": "ProgressStyleModel",
      "state": {
       "description_width": "initial"
      }
     },
     "312607f1e4fd485a86205d4271cd5374": {
      "model_module": "@jupyter-widgets/base",
      "model_module_version": "1.2.0",
      "model_name": "LayoutModel",
      "state": {}
     },
     "31461dc7b2894be3a506cda2cdcdce8b": {
      "model_module": "@jupyter-widgets/controls",
      "model_module_version": "1.5.0",
      "model_name": "HBoxModel",
      "state": {
       "children": [
        "IPY_MODEL_89832143a5794b5f9a3a709a84bfc2ee",
        "IPY_MODEL_bd91c84a96574641b2fd510385483615"
       ],
       "layout": "IPY_MODEL_688329e8286b4b298e9c89e780ebd8aa"
      }
     },
     "31653067e8004e23bbedc3530c43218f": {
      "model_module": "@jupyter-widgets/controls",
      "model_module_version": "1.5.0",
      "model_name": "FloatProgressModel",
      "state": {
       "bar_style": "success",
       "description": "[3] 10/12(val  ): 100%",
       "layout": "IPY_MODEL_67f0549931f448c18f5aaa3dbd2fc6a0",
       "max": 157,
       "style": "IPY_MODEL_d086ce115f734cdd8f810391f6b1da73",
       "value": 157
      }
     },
     "317fe3949a4b4e8fb8a6692ecea2d8e5": {
      "model_module": "@jupyter-widgets/controls",
      "model_module_version": "1.5.0",
      "model_name": "HBoxModel",
      "state": {
       "children": [
        "IPY_MODEL_ed651feea6e14d53a9479d5b356e8826",
        "IPY_MODEL_e9862609a17f4ce496dafca7d91ee9d3"
       ],
       "layout": "IPY_MODEL_19c50be148594105a81a734814953a83"
      }
     },
     "31945a533d0c40c2a3adf81d5381a8ef": {
      "model_module": "@jupyter-widgets/base",
      "model_module_version": "1.2.0",
      "model_name": "LayoutModel",
      "state": {}
     },
     "31a9bc1328f64b38903afa88e7ef3e1e": {
      "model_module": "@jupyter-widgets/base",
      "model_module_version": "1.2.0",
      "model_name": "LayoutModel",
      "state": {}
     },
     "31af051d4a294c36b83a0b4c8b93a8f0": {
      "model_module": "@jupyter-widgets/controls",
      "model_module_version": "1.5.0",
      "model_name": "HBoxModel",
      "state": {
       "children": [
        "IPY_MODEL_9109b5d231e54628a976631cb119db7a",
        "IPY_MODEL_8d469102b69840929f9e4ec6e43f1a5d"
       ],
       "layout": "IPY_MODEL_979a819cd5a2494595eac721ab8327ae"
      }
     },
     "31cb6935af8f48bbb7992fe548382a5c": {
      "model_module": "@jupyter-widgets/base",
      "model_module_version": "1.2.0",
      "model_name": "LayoutModel",
      "state": {}
     },
     "31cffaa498f8495485f9cc6d9801caff": {
      "model_module": "@jupyter-widgets/base",
      "model_module_version": "1.2.0",
      "model_name": "LayoutModel",
      "state": {}
     },
     "31fbf68c7e4b4ec6a0214a2532f56713": {
      "model_module": "@jupyter-widgets/base",
      "model_module_version": "1.2.0",
      "model_name": "LayoutModel",
      "state": {}
     },
     "321c292c9c4a46c3b66eaa883190c27f": {
      "model_module": "@jupyter-widgets/controls",
      "model_module_version": "1.5.0",
      "model_name": "HTMLModel",
      "state": {
       "layout": "IPY_MODEL_86b245b93d2e4887849bca1be05418b3",
       "style": "IPY_MODEL_038a04ebfdb942d586ebb0c5e863cd0f",
       "value": " 165/165 [10:59&lt;00:00,  4.00s/it]"
      }
     },
     "323806f7f4f34917a0895566a5427196": {
      "model_module": "@jupyter-widgets/base",
      "model_module_version": "1.2.0",
      "model_name": "LayoutModel",
      "state": {}
     },
     "32595a18b3f9473499ff480db76eca4f": {
      "model_module": "@jupyter-widgets/controls",
      "model_module_version": "1.5.0",
      "model_name": "DescriptionStyleModel",
      "state": {
       "description_width": ""
      }
     },
     "327c95e83aae4f4ebf03d81fea07a9f0": {
      "model_module": "@jupyter-widgets/controls",
      "model_module_version": "1.5.0",
      "model_name": "ProgressStyleModel",
      "state": {
       "description_width": "initial"
      }
     },
     "32cb9a4f7e464b6391547433b4d47f11": {
      "model_module": "@jupyter-widgets/controls",
      "model_module_version": "1.5.0",
      "model_name": "FloatProgressModel",
      "state": {
       "bar_style": "success",
       "description": "[1] 7/12(train): 100%",
       "layout": "IPY_MODEL_058db1475bc948ea9f70d75f0751002c",
       "max": 469,
       "style": "IPY_MODEL_2bc323676c5942ba86e4e9de2532eba4",
       "value": 469
      }
     },
     "32edb091db324820921fc5881277526d": {
      "model_module": "@jupyter-widgets/controls",
      "model_module_version": "1.5.0",
      "model_name": "HTMLModel",
      "state": {
       "layout": "IPY_MODEL_94fb6f404dd04ab0b673d969535b58e1",
       "style": "IPY_MODEL_b10869498fc04b3e87266a2d5e39e770",
       "value": " 469/469 [1:09:31&lt;00:00,  8.89s/it]"
      }
     },
     "333481709a0a4ff08a3e3523504a1cef": {
      "model_module": "@jupyter-widgets/controls",
      "model_module_version": "1.5.0",
      "model_name": "FloatProgressModel",
      "state": {
       "bar_style": "success",
       "description": "[1] 8/12(train): 100%",
       "layout": "IPY_MODEL_92c53c5fb25d4dd68c27aeb36f541348",
       "max": 493,
       "style": "IPY_MODEL_5c1010fb58824d98a166ee629c8dfe26",
       "value": 493
      }
     },
     "333534ce00eb48e2830f9b861bebf66d": {
      "model_module": "@jupyter-widgets/base",
      "model_module_version": "1.2.0",
      "model_name": "LayoutModel",
      "state": {}
     },
     "33382f046dd6461fa9b8f7492a4f41ab": {
      "model_module": "@jupyter-widgets/controls",
      "model_module_version": "1.5.0",
      "model_name": "DescriptionStyleModel",
      "state": {
       "description_width": ""
      }
     },
     "3357e94104814d149cc7ccec57545bdb": {
      "model_module": "@jupyter-widgets/controls",
      "model_module_version": "1.5.0",
      "model_name": "HTMLModel",
      "state": {
       "layout": "IPY_MODEL_65bf0e7864ef4e0282659eb2e8d06881",
       "style": "IPY_MODEL_f3f31db063b248fd85dfdb490c7ad834",
       "value": " 157/157 [11:24:43&lt;00:00, 261.68s/it]"
      }
     },
     "335e159d2c064b96a85d8a8f8c5aca3d": {
      "model_module": "@jupyter-widgets/base",
      "model_module_version": "1.2.0",
      "model_name": "LayoutModel",
      "state": {}
     },
     "338100e579ec417fafbb7f9d1aa5f395": {
      "model_module": "@jupyter-widgets/controls",
      "model_module_version": "1.5.0",
      "model_name": "DescriptionStyleModel",
      "state": {
       "description_width": ""
      }
     },
     "33dac7a933bc4ef5b15cc71a49cbc937": {
      "model_module": "@jupyter-widgets/controls",
      "model_module_version": "1.5.0",
      "model_name": "HBoxModel",
      "state": {
       "children": [
        "IPY_MODEL_8927ebf01e424c06b032f792f1fc366c",
        "IPY_MODEL_f2ac380f5ac74716b47b502ba81a4e9f"
       ],
       "layout": "IPY_MODEL_fa8a582c92684a979f923cedd42cf3a2"
      }
     },
     "33e89d0fba4e4a3ba6515bf3fa9d1292": {
      "model_module": "@jupyter-widgets/controls",
      "model_module_version": "1.5.0",
      "model_name": "HTMLModel",
      "state": {
       "layout": "IPY_MODEL_919a175bc40e4d23ad57e51d037726dc",
       "style": "IPY_MODEL_566b6aeb48ec4a9db8b58fb0a66841e6",
       "value": " 469/469 [1:41:55&lt;00:00, 13.04s/it]"
      }
     },
     "33ed21dd2a454e45b42d39da25ff073b": {
      "model_module": "@jupyter-widgets/base",
      "model_module_version": "1.2.0",
      "model_name": "LayoutModel",
      "state": {}
     },
     "347e621d9de44859b706e190e3a9461f": {
      "model_module": "@jupyter-widgets/base",
      "model_module_version": "1.2.0",
      "model_name": "LayoutModel",
      "state": {}
     },
     "34cd3a484f3d404b98db96e043d63362": {
      "model_module": "@jupyter-widgets/controls",
      "model_module_version": "1.5.0",
      "model_name": "HBoxModel",
      "state": {
       "children": [
        "IPY_MODEL_d918ac67418c4123a45e733ff3e7c7c0",
        "IPY_MODEL_506d2495e0e2493a8a9e675b50991ede"
       ],
       "layout": "IPY_MODEL_9b8d2231e0244742b0000b47264b06f4"
      }
     },
     "3515593ee2894b8d82dc495586713f2a": {
      "model_module": "@jupyter-widgets/controls",
      "model_module_version": "1.5.0",
      "model_name": "HBoxModel",
      "state": {
       "children": [
        "IPY_MODEL_7980c978b5a04451a8a2506b7033b634",
        "IPY_MODEL_cb04c7fe84164c7683ae30e15732d836"
       ],
       "layout": "IPY_MODEL_f0ed64477b034953b8c140ae66f6369c"
      }
     },
     "3525222dbf1049d69a0cc1ad051f3af3": {
      "model_module": "@jupyter-widgets/controls",
      "model_module_version": "1.5.0",
      "model_name": "DescriptionStyleModel",
      "state": {
       "description_width": ""
      }
     },
     "352c3b1a45864cd2814a4fe66112c9f8": {
      "model_module": "@jupyter-widgets/controls",
      "model_module_version": "1.5.0",
      "model_name": "FloatProgressModel",
      "state": {
       "bar_style": "success",
       "description": "[0] 7/12(train): 100%",
       "layout": "IPY_MODEL_a577bd42b0f342248e1318772b58872a",
       "max": 493,
       "style": "IPY_MODEL_8992a86ca95c4f269b7b8dbf87b566f2",
       "value": 493
      }
     },
     "352fbb0a726140788226c240b97d07a6": {
      "model_module": "@jupyter-widgets/controls",
      "model_module_version": "1.5.0",
      "model_name": "FloatProgressModel",
      "state": {
       "bar_style": "success",
       "description": "[0] 6/12(train): 100%",
       "layout": "IPY_MODEL_76d3d975342842ad9273c463d9404823",
       "max": 469,
       "style": "IPY_MODEL_e823dced021047e193ffc04333666624",
       "value": 469
      }
     },
     "3542c29509764f37aa9124c682a2fafb": {
      "model_module": "@jupyter-widgets/base",
      "model_module_version": "1.2.0",
      "model_name": "LayoutModel",
      "state": {}
     },
     "3561fced103e4c3e97000aee9371819a": {
      "model_module": "@jupyter-widgets/base",
      "model_module_version": "1.2.0",
      "model_name": "LayoutModel",
      "state": {}
     },
     "3589b6b19d134437a413c38f3a3822f1": {
      "model_module": "@jupyter-widgets/controls",
      "model_module_version": "1.5.0",
      "model_name": "HTMLModel",
      "state": {
       "layout": "IPY_MODEL_3912ea9f279f49b591e8e4ff620d322e",
       "style": "IPY_MODEL_e02e2faf89434bed8d8ce75b32e2b804",
       "value": " 469/469 [1:33:15&lt;00:00, 11.93s/it]"
      }
     },
     "35b4563a685f466a90eb91ddef802af1": {
      "model_module": "@jupyter-widgets/controls",
      "model_module_version": "1.5.0",
      "model_name": "FloatProgressModel",
      "state": {
       "bar_style": "success",
       "description": "100%",
       "layout": "IPY_MODEL_a8342e8956214bcfb482b7d84e9e0f01",
       "max": 157,
       "style": "IPY_MODEL_2ef58a87da9447d59a051d9cf6062c4c",
       "value": 157
      }
     },
     "35c02c1a0ae04c4c9eaa6d85e81a1e46": {
      "model_module": "@jupyter-widgets/controls",
      "model_module_version": "1.5.0",
      "model_name": "ProgressStyleModel",
      "state": {
       "description_width": "initial"
      }
     },
     "35e77e2100bf418691d44becd0d684b4": {
      "model_module": "@jupyter-widgets/base",
      "model_module_version": "1.2.0",
      "model_name": "LayoutModel",
      "state": {}
     },
     "35fb43736e3b4621a63283cbd74ab98f": {
      "model_module": "@jupyter-widgets/controls",
      "model_module_version": "1.5.0",
      "model_name": "ProgressStyleModel",
      "state": {
       "description_width": "initial"
      }
     },
     "360d51d91b084ccf883df40e2b99bc4d": {
      "model_module": "@jupyter-widgets/controls",
      "model_module_version": "1.5.0",
      "model_name": "FloatProgressModel",
      "state": {
       "bar_style": "success",
       "description": "[2] 1/12(train): 100%",
       "layout": "IPY_MODEL_ab0e2f90c7774dc3b34dd97937fafb1e",
       "max": 469,
       "style": "IPY_MODEL_1e743d61e69345f48bc63b9f931c2810",
       "value": 469
      }
     },
     "36100b31153940099d729d3afb418a27": {
      "model_module": "@jupyter-widgets/controls",
      "model_module_version": "1.5.0",
      "model_name": "DescriptionStyleModel",
      "state": {
       "description_width": ""
      }
     },
     "3616b19c27e94f3caaa531cf1210babe": {
      "model_module": "@jupyter-widgets/base",
      "model_module_version": "1.2.0",
      "model_name": "LayoutModel",
      "state": {}
     },
     "361ab2f014e946348249f44b02f0afb1": {
      "model_module": "@jupyter-widgets/controls",
      "model_module_version": "1.5.0",
      "model_name": "HTMLModel",
      "state": {
       "layout": "IPY_MODEL_31a9bc1328f64b38903afa88e7ef3e1e",
       "style": "IPY_MODEL_7f7a81b36f2d44c29c4e27cc73794a54",
       "value": " 469/469 [1:32:29&lt;00:00, 11.83s/it]"
      }
     },
     "36728867b27c47d2a9b793b4e8bff5d2": {
      "model_module": "@jupyter-widgets/base",
      "model_module_version": "1.2.0",
      "model_name": "LayoutModel",
      "state": {}
     },
     "369082d450b2444d8e5da36de173e825": {
      "model_module": "@jupyter-widgets/controls",
      "model_module_version": "1.5.0",
      "model_name": "HTMLModel",
      "state": {
       "layout": "IPY_MODEL_b16a30370f0148479f27890412cddaf0",
       "style": "IPY_MODEL_7f89d0a717dd4561889915a374cb6e52",
       "value": " 157/157 [1:31:55&lt;00:00, 35.13s/it]"
      }
     },
     "36e0f85a649640cea3a92e03dd3c68e1": {
      "model_module": "@jupyter-widgets/base",
      "model_module_version": "1.2.0",
      "model_name": "LayoutModel",
      "state": {}
     },
     "36f1b3f255c64a0b9826c31c7a2d793e": {
      "model_module": "@jupyter-widgets/controls",
      "model_module_version": "1.5.0",
      "model_name": "FloatProgressModel",
      "state": {
       "bar_style": "danger",
       "description": "[3] 1/1(train):   0%",
       "layout": "IPY_MODEL_7692e842c45f4abf9f0c3f61fffb185b",
       "max": 3,
       "style": "IPY_MODEL_9ee01316e823436eaeeb633e587f613f"
      }
     },
     "37311fe55bc5428ea143491fafe7bae3": {
      "model_module": "@jupyter-widgets/controls",
      "model_module_version": "1.5.0",
      "model_name": "HTMLModel",
      "state": {
       "layout": "IPY_MODEL_2277fc5783f2464a8e5a3ad634251590",
       "style": "IPY_MODEL_6e5c63b4cfce4ef6a03832e1c4cb317f",
       "value": " 165/165 [7:46:57&lt;00:00, 169.80s/it]"
      }
     },
     "3766e61b6c824ac6aee40fdc10b843ed": {
      "model_module": "@jupyter-widgets/controls",
      "model_module_version": "1.5.0",
      "model_name": "DescriptionStyleModel",
      "state": {
       "description_width": ""
      }
     },
     "3771df84fa304f9a8d1597f218373889": {
      "model_module": "@jupyter-widgets/controls",
      "model_module_version": "1.5.0",
      "model_name": "FloatProgressModel",
      "state": {
       "bar_style": "success",
       "description": "[1] 8/12(val  ): 100%",
       "layout": "IPY_MODEL_afbb17af95b54e919edf88e3905efe10",
       "max": 165,
       "style": "IPY_MODEL_04cc9accb69245a0ba92c5a00efb041e",
       "value": 165
      }
     },
     "3781fd967a40429699939af4196f916b": {
      "model_module": "@jupyter-widgets/controls",
      "model_module_version": "1.5.0",
      "model_name": "DescriptionStyleModel",
      "state": {
       "description_width": ""
      }
     },
     "3788cfabc4bc4211acb700adbf69c762": {
      "model_module": "@jupyter-widgets/controls",
      "model_module_version": "1.5.0",
      "model_name": "HTMLModel",
      "state": {
       "layout": "IPY_MODEL_e556ee4b64e047c78ccee5c37a89777f",
       "style": "IPY_MODEL_3f356de3c5ce4afa897066ece0e3808f",
       "value": " 469/469 [7:50:10&lt;00:00, 60.15s/it]"
      }
     },
     "37d28b0e971e46b7be8fbb981085a7e8": {
      "model_module": "@jupyter-widgets/controls",
      "model_module_version": "1.5.0",
      "model_name": "FloatProgressModel",
      "state": {
       "bar_style": "success",
       "description": "[3] 2/12(val  ): 100%",
       "layout": "IPY_MODEL_7111745bae43442d89f661381e9a1da8",
       "max": 157,
       "style": "IPY_MODEL_f7a89d1da20c42f2a4bcb34ac071706b",
       "value": 157
      }
     },
     "37df64425be246e2b944b48b790f6cc0": {
      "model_module": "@jupyter-widgets/controls",
      "model_module_version": "1.5.0",
      "model_name": "DescriptionStyleModel",
      "state": {
       "description_width": ""
      }
     },
     "38809685139742f081b7676a55389f3c": {
      "model_module": "@jupyter-widgets/base",
      "model_module_version": "1.2.0",
      "model_name": "LayoutModel",
      "state": {}
     },
     "38906680b03d4495b158e1b2893b780f": {
      "model_module": "@jupyter-widgets/controls",
      "model_module_version": "1.5.0",
      "model_name": "HBoxModel",
      "state": {
       "children": [
        "IPY_MODEL_ffcfc96e1fe84d35a6faa00ba2ceadc2",
        "IPY_MODEL_b78966d8b01f4cf0954495c93e9933dc"
       ],
       "layout": "IPY_MODEL_7739238b2255429a84d97b7baa4fea31"
      }
     },
     "389076e4f7044213b393bdf5255f1877": {
      "model_module": "@jupyter-widgets/controls",
      "model_module_version": "1.5.0",
      "model_name": "HTMLModel",
      "state": {
       "layout": "IPY_MODEL_13b2ca987f784ac9bc05fcb8586b90ab",
       "style": "IPY_MODEL_04c4033d0e3042a4946a98d2bcc7add3",
       "value": " 493/493 [8:22:15&lt;00:00, 61.13s/it]"
      }
     },
     "38a456c6196b4ae2ae2d58d312ebff35": {
      "model_module": "@jupyter-widgets/controls",
      "model_module_version": "1.5.0",
      "model_name": "FloatProgressModel",
      "state": {
       "bar_style": "success",
       "description": "[2] 4/12(train): 100%",
       "layout": "IPY_MODEL_f4fc2f2f7cbe4d4996655ec891a205f8",
       "max": 469,
       "style": "IPY_MODEL_aaa41e28e96a41898e1d52389e98d27d",
       "value": 469
      }
     },
     "38acc4bc70984e6fa9b2ab2856a58d94": {
      "model_module": "@jupyter-widgets/controls",
      "model_module_version": "1.5.0",
      "model_name": "ProgressStyleModel",
      "state": {
       "description_width": "initial"
      }
     },
     "3912ea9f279f49b591e8e4ff620d322e": {
      "model_module": "@jupyter-widgets/base",
      "model_module_version": "1.2.0",
      "model_name": "LayoutModel",
      "state": {}
     },
     "394434fba46d49a48459cc462db2b3a8": {
      "model_module": "@jupyter-widgets/controls",
      "model_module_version": "1.5.0",
      "model_name": "ProgressStyleModel",
      "state": {
       "description_width": "initial"
      }
     },
     "39660d3609e5447e85763ab679feeaaa": {
      "model_module": "@jupyter-widgets/base",
      "model_module_version": "1.2.0",
      "model_name": "LayoutModel",
      "state": {}
     },
     "39a9a74f73aa4afba90bba189df568fb": {
      "model_module": "@jupyter-widgets/base",
      "model_module_version": "1.2.0",
      "model_name": "LayoutModel",
      "state": {}
     },
     "39cf5721edf0486eabf449334b844428": {
      "model_module": "@jupyter-widgets/controls",
      "model_module_version": "1.5.0",
      "model_name": "HBoxModel",
      "state": {
       "children": [
        "IPY_MODEL_99fe7e34faeb4dc1b5300595094a466e",
        "IPY_MODEL_d2cc88c9bb28432db2eab4bd7cde60b6"
       ],
       "layout": "IPY_MODEL_59a836e78003429f93408afcb8c2bfae"
      }
     },
     "39ef1ee60e6945c1aa81fb1a368f571e": {
      "model_module": "@jupyter-widgets/controls",
      "model_module_version": "1.5.0",
      "model_name": "DescriptionStyleModel",
      "state": {
       "description_width": ""
      }
     },
     "3a2a9c98c7dc4ae3a78cdea33335fdd0": {
      "model_module": "@jupyter-widgets/base",
      "model_module_version": "1.2.0",
      "model_name": "LayoutModel",
      "state": {}
     },
     "3a32b4b66db547099b6cd0bcaca82358": {
      "model_module": "@jupyter-widgets/base",
      "model_module_version": "1.2.0",
      "model_name": "LayoutModel",
      "state": {}
     },
     "3a46eec9f5ef4e6793ac4410081be7e8": {
      "model_module": "@jupyter-widgets/controls",
      "model_module_version": "1.5.0",
      "model_name": "HBoxModel",
      "state": {
       "children": [
        "IPY_MODEL_38a456c6196b4ae2ae2d58d312ebff35",
        "IPY_MODEL_cdc47bfe1cb84e4688b6853ae1b9f3ba"
       ],
       "layout": "IPY_MODEL_da134d998db84d9a8ff5cdc976d7bfa2"
      }
     },
     "3a5039f2874b451fa92b13934006abf7": {
      "model_module": "@jupyter-widgets/base",
      "model_module_version": "1.2.0",
      "model_name": "LayoutModel",
      "state": {}
     },
     "3a6100d584394516b4315c5700b70754": {
      "model_module": "@jupyter-widgets/controls",
      "model_module_version": "1.5.0",
      "model_name": "HBoxModel",
      "state": {
       "children": [
        "IPY_MODEL_f9e302c602e8498c95531402e278ce60",
        "IPY_MODEL_cb166c308db84891808e5af054f59be4"
       ],
       "layout": "IPY_MODEL_150994d4c9ce4f54b0bdc23b36b7b753"
      }
     },
     "3a640633174f40cc81b94196c284a262": {
      "model_module": "@jupyter-widgets/controls",
      "model_module_version": "1.5.0",
      "model_name": "ProgressStyleModel",
      "state": {
       "description_width": "initial"
      }
     },
     "3adcd259c66c44e0b0fce18bdfd9cd1e": {
      "model_module": "@jupyter-widgets/controls",
      "model_module_version": "1.5.0",
      "model_name": "HTMLModel",
      "state": {
       "layout": "IPY_MODEL_ce03d62d7ca94512983b96fec4f161a5",
       "style": "IPY_MODEL_e3b6ba4e08464e37badc8c2d6d919327",
       "value": " 165/165 [11:13&lt;00:00,  4.08s/it]"
      }
     },
     "3ae4de1829714fdfaaeb2f3893579245": {
      "model_module": "@jupyter-widgets/controls",
      "model_module_version": "1.5.0",
      "model_name": "ProgressStyleModel",
      "state": {
       "description_width": "initial"
      }
     },
     "3b7d4593b51944458d9e1ce531456a60": {
      "model_module": "@jupyter-widgets/controls",
      "model_module_version": "1.5.0",
      "model_name": "FloatProgressModel",
      "state": {
       "bar_style": "danger",
       "description": "[1] 1/1(train):   0%",
       "layout": "IPY_MODEL_8f9c8b953c764c489d5a610c1cff3556",
       "max": 3,
       "style": "IPY_MODEL_62d96049c76946a39c4630df8c7f0c74"
      }
     },
     "3b94777792af4bfcaba4fb3ca123ab76": {
      "model_module": "@jupyter-widgets/base",
      "model_module_version": "1.2.0",
      "model_name": "LayoutModel",
      "state": {}
     },
     "3ba748d394d04456893e2db6b2428848": {
      "model_module": "@jupyter-widgets/controls",
      "model_module_version": "1.5.0",
      "model_name": "ProgressStyleModel",
      "state": {
       "description_width": "initial"
      }
     },
     "3bbefbc1f6b044db94df8753a392dd44": {
      "model_module": "@jupyter-widgets/base",
      "model_module_version": "1.2.0",
      "model_name": "LayoutModel",
      "state": {}
     },
     "3c12b33b9afa46219846aa54073149e7": {
      "model_module": "@jupyter-widgets/base",
      "model_module_version": "1.2.0",
      "model_name": "LayoutModel",
      "state": {}
     },
     "3c1924f7f78a47529f554566fead3fdb": {
      "model_module": "@jupyter-widgets/base",
      "model_module_version": "1.2.0",
      "model_name": "LayoutModel",
      "state": {}
     },
     "3c2f49c33b9f432d9c74b0d55d4b77ab": {
      "model_module": "@jupyter-widgets/controls",
      "model_module_version": "1.5.0",
      "model_name": "ProgressStyleModel",
      "state": {
       "description_width": "initial"
      }
     },
     "3c55554ec5d945ffa2f9050c0546a243": {
      "model_module": "@jupyter-widgets/controls",
      "model_module_version": "1.5.0",
      "model_name": "FloatProgressModel",
      "state": {
       "bar_style": "success",
       "description": "[0] 7/12(val  ): 100%",
       "layout": "IPY_MODEL_8e124c95060b4287a8425eafb0d7b0b4",
       "max": 157,
       "style": "IPY_MODEL_1ac88bd4816443cca52b7ce47fb9c3d7",
       "value": 157
      }
     },
     "3ca0c2bdf5bd46e5a8a2bbfec2173377": {
      "model_module": "@jupyter-widgets/controls",
      "model_module_version": "1.5.0",
      "model_name": "DescriptionStyleModel",
      "state": {
       "description_width": ""
      }
     },
     "3ccd22bcfefe4c888667c85fa4093fb7": {
      "model_module": "@jupyter-widgets/base",
      "model_module_version": "1.2.0",
      "model_name": "LayoutModel",
      "state": {}
     },
     "3cec75efadd34ad896ac1f851e70d97f": {
      "model_module": "@jupyter-widgets/base",
      "model_module_version": "1.2.0",
      "model_name": "LayoutModel",
      "state": {}
     },
     "3d7f6c6d3e554dffb6dca9b1e5ce1132": {
      "model_module": "@jupyter-widgets/base",
      "model_module_version": "1.2.0",
      "model_name": "LayoutModel",
      "state": {}
     },
     "3d978c6df9c94f629190e44b340f0705": {
      "model_module": "@jupyter-widgets/controls",
      "model_module_version": "1.5.0",
      "model_name": "HTMLModel",
      "state": {
       "layout": "IPY_MODEL_21cd959b15764a26b3798a186d3ddaef",
       "style": "IPY_MODEL_c7b515218ae74d598bd2b4d31ec919b7",
       "value": " 157/157 [51:35&lt;00:00, 19.72s/it]"
      }
     },
     "3dd9b6e96d214142aa3da3dbf44eb4a3": {
      "model_module": "@jupyter-widgets/base",
      "model_module_version": "1.2.0",
      "model_name": "LayoutModel",
      "state": {}
     },
     "3de3b88afb114ab395bd290076b8b77c": {
      "model_module": "@jupyter-widgets/controls",
      "model_module_version": "1.5.0",
      "model_name": "DescriptionStyleModel",
      "state": {
       "description_width": ""
      }
     },
     "3e10e075723e4b258f2c92b2c212b1d7": {
      "model_module": "@jupyter-widgets/controls",
      "model_module_version": "1.5.0",
      "model_name": "ProgressStyleModel",
      "state": {
       "description_width": "initial"
      }
     },
     "3e167a2820e242bf974a32870bcc6b81": {
      "model_module": "@jupyter-widgets/base",
      "model_module_version": "1.2.0",
      "model_name": "LayoutModel",
      "state": {}
     },
     "3e24359d8fb5435588495856c4b22908": {
      "model_module": "@jupyter-widgets/controls",
      "model_module_version": "1.5.0",
      "model_name": "ProgressStyleModel",
      "state": {
       "description_width": "initial"
      }
     },
     "3ed9354da26e40eab53deaf976d47b2c": {
      "model_module": "@jupyter-widgets/controls",
      "model_module_version": "1.5.0",
      "model_name": "FloatProgressModel",
      "state": {
       "bar_style": "success",
       "description": "[0] 6/12(train): 100%",
       "layout": "IPY_MODEL_ab4900abc553468c8b96abc1e87c97dd",
       "max": 493,
       "style": "IPY_MODEL_be74682b06a746daaa901ddea187e58d",
       "value": 493
      }
     },
     "3f2173a0524d4ed196ef274a94f52baa": {
      "model_module": "@jupyter-widgets/controls",
      "model_module_version": "1.5.0",
      "model_name": "FloatProgressModel",
      "state": {
       "bar_style": "success",
       "description": "[3] 5/12(val  ): 100%",
       "layout": "IPY_MODEL_749a55f8d8da4a18891bc3eabc7e9e9c",
       "max": 165,
       "style": "IPY_MODEL_a83a111046534738ac046ab928c76c38",
       "value": 165
      }
     },
     "3f2a75f6761f40a0b7d1f8aa6426e9e3": {
      "model_module": "@jupyter-widgets/controls",
      "model_module_version": "1.5.0",
      "model_name": "DescriptionStyleModel",
      "state": {
       "description_width": ""
      }
     },
     "3f356de3c5ce4afa897066ece0e3808f": {
      "model_module": "@jupyter-widgets/controls",
      "model_module_version": "1.5.0",
      "model_name": "DescriptionStyleModel",
      "state": {
       "description_width": ""
      }
     },
     "3f8bd1118bc145889fb74564935f6f1d": {
      "model_module": "@jupyter-widgets/base",
      "model_module_version": "1.2.0",
      "model_name": "LayoutModel",
      "state": {}
     },
     "3f965b96a5614eabbfdee8f9d7f74085": {
      "model_module": "@jupyter-widgets/base",
      "model_module_version": "1.2.0",
      "model_name": "LayoutModel",
      "state": {}
     },
     "3f9908c3c02943f7b7706b41bf6891b0": {
      "model_module": "@jupyter-widgets/controls",
      "model_module_version": "1.5.0",
      "model_name": "DescriptionStyleModel",
      "state": {
       "description_width": ""
      }
     },
     "3fa08916560c4d5a95ac3efadf4abf89": {
      "model_module": "@jupyter-widgets/controls",
      "model_module_version": "1.5.0",
      "model_name": "FloatProgressModel",
      "state": {
       "bar_style": "danger",
       "description": "[0] 1/10(train):   0%",
       "layout": "IPY_MODEL_816a1c7f21904be08a5984878030e5b1",
       "max": 3,
       "style": "IPY_MODEL_a44fe58985b44d3abd7a059bffdf1c3e"
      }
     },
     "3fc14cefba134f28a2c9ede02fd1c8ae": {
      "model_module": "@jupyter-widgets/base",
      "model_module_version": "1.2.0",
      "model_name": "LayoutModel",
      "state": {}
     },
     "3fe99e6fc43745b7a7a096119e35899e": {
      "model_module": "@jupyter-widgets/controls",
      "model_module_version": "1.5.0",
      "model_name": "HTMLModel",
      "state": {
       "layout": "IPY_MODEL_131a6926f98343f6ad0e27b675203944",
       "style": "IPY_MODEL_3781fd967a40429699939af4196f916b",
       "value": " 165/165 [10:56&lt;00:00,  3.98s/it]"
      }
     },
     "3feac8dd578140ec8efa3573ee817a41": {
      "model_module": "@jupyter-widgets/base",
      "model_module_version": "1.2.0",
      "model_name": "LayoutModel",
      "state": {}
     },
     "4005a6e012204917a86bfd6da26c2d58": {
      "model_module": "@jupyter-widgets/controls",
      "model_module_version": "1.5.0",
      "model_name": "HTMLModel",
      "state": {
       "layout": "IPY_MODEL_6f5f33afb51c4795b6c03b4100dfc99d",
       "style": "IPY_MODEL_dd7c44e374e44006b66fc752090e90ee",
       "value": " 157/157 [23:24&lt;00:00,  8.94s/it]"
      }
     },
     "4096b792517d4711a707064ff5ef2ddb": {
      "model_module": "@jupyter-widgets/base",
      "model_module_version": "1.2.0",
      "model_name": "LayoutModel",
      "state": {}
     },
     "40a6d02680f64571be516042392b1c43": {
      "model_module": "@jupyter-widgets/controls",
      "model_module_version": "1.5.0",
      "model_name": "HTMLModel",
      "state": {
       "layout": "IPY_MODEL_743c6e56b1324adbab44594dc790d29b",
       "style": "IPY_MODEL_fb03e373fae6492d93dff25ea824b058",
       "value": " 3/3 [00:15&lt;00:00,  5.18s/it]"
      }
     },
     "40f09298e2a8474e895036da897d33e3": {
      "model_module": "@jupyter-widgets/controls",
      "model_module_version": "1.5.0",
      "model_name": "ProgressStyleModel",
      "state": {
       "description_width": "initial"
      }
     },
     "4144754e39714d9abe1a54687ea7206a": {
      "model_module": "@jupyter-widgets/controls",
      "model_module_version": "1.5.0",
      "model_name": "HBoxModel",
      "state": {
       "children": [
        "IPY_MODEL_cf81a4d71ab140ceb931447f49ae5c81",
        "IPY_MODEL_3adcd259c66c44e0b0fce18bdfd9cd1e"
       ],
       "layout": "IPY_MODEL_30b2ecb689e84612b39a1b7fd766c203"
      }
     },
     "4209763235694b9f850410e3a3f93b02": {
      "model_module": "@jupyter-widgets/controls",
      "model_module_version": "1.5.0",
      "model_name": "HTMLModel",
      "state": {
       "layout": "IPY_MODEL_7187c8eebdb54f18a95746f65a1645e0",
       "style": "IPY_MODEL_ed138265000748c59c6b3038940ba488",
       "value": " 493/493 [1:31:56&lt;00:00, 11.19s/it]"
      }
     },
     "42114087ed30474885b0089e8f04dd56": {
      "model_module": "@jupyter-widgets/controls",
      "model_module_version": "1.5.0",
      "model_name": "HBoxModel",
      "state": {
       "children": [
        "IPY_MODEL_eafb3a23c09e4493b53ae305035cb7ab",
        "IPY_MODEL_d007ea1f8b3448f9b9a61d2e3934549a"
       ],
       "layout": "IPY_MODEL_a48bfbfff7a1470cbab092ac4c2241f3"
      }
     },
     "4250ba4c40c9430d921185544a3b40d8": {
      "model_module": "@jupyter-widgets/controls",
      "model_module_version": "1.5.0",
      "model_name": "FloatProgressModel",
      "state": {
       "bar_style": "success",
       "description": "[3] 5/12(train): 100%",
       "layout": "IPY_MODEL_a163372fad6f4d118db5241f38963840",
       "max": 493,
       "style": "IPY_MODEL_ae8b73d20f6345ae8cbb0d7ac7e4deef",
       "value": 493
      }
     },
     "42549337cf97446f80e50a8281966807": {
      "model_module": "@jupyter-widgets/controls",
      "model_module_version": "1.5.0",
      "model_name": "DescriptionStyleModel",
      "state": {
       "description_width": ""
      }
     },
     "426baf73cdb141c68b790e0ded14cdb8": {
      "model_module": "@jupyter-widgets/controls",
      "model_module_version": "1.5.0",
      "model_name": "ProgressStyleModel",
      "state": {
       "description_width": "initial"
      }
     },
     "426ee396820f47118ffce7995aefc44b": {
      "model_module": "@jupyter-widgets/base",
      "model_module_version": "1.2.0",
      "model_name": "LayoutModel",
      "state": {}
     },
     "42808213da3a4a07b2e05e58ff78d105": {
      "model_module": "@jupyter-widgets/controls",
      "model_module_version": "1.5.0",
      "model_name": "ProgressStyleModel",
      "state": {
       "description_width": "initial"
      }
     },
     "428fb899c0eb4e5f96c22fef4d593378": {
      "model_module": "@jupyter-widgets/controls",
      "model_module_version": "1.5.0",
      "model_name": "FloatProgressModel",
      "state": {
       "bar_style": "success",
       "description": "[3] 9/12(val  ): 100%",
       "layout": "IPY_MODEL_8b0ad89e05ff4f2388888ce1b939bd1c",
       "max": 165,
       "style": "IPY_MODEL_709f108a915149c381299449c2edfec2",
       "value": 165
      }
     },
     "42b2be6c0e5d412f8271382e5c1d9a32": {
      "model_module": "@jupyter-widgets/base",
      "model_module_version": "1.2.0",
      "model_name": "LayoutModel",
      "state": {}
     },
     "43337beebf614ab58ee4a281376ae406": {
      "model_module": "@jupyter-widgets/controls",
      "model_module_version": "1.5.0",
      "model_name": "DescriptionStyleModel",
      "state": {
       "description_width": ""
      }
     },
     "434a8c49b22240f596a2cef5ab6d01e5": {
      "model_module": "@jupyter-widgets/controls",
      "model_module_version": "1.5.0",
      "model_name": "DescriptionStyleModel",
      "state": {
       "description_width": ""
      }
     },
     "436d8dffb5b448d78b0174b01b09aa4d": {
      "model_module": "@jupyter-widgets/base",
      "model_module_version": "1.2.0",
      "model_name": "LayoutModel",
      "state": {}
     },
     "4374033a20f4498480f0e0265bcfb7cd": {
      "model_module": "@jupyter-widgets/controls",
      "model_module_version": "1.5.0",
      "model_name": "DescriptionStyleModel",
      "state": {
       "description_width": ""
      }
     },
     "4378cb12bfd2471e9c7ebd8f5db1e8fb": {
      "model_module": "@jupyter-widgets/controls",
      "model_module_version": "1.5.0",
      "model_name": "FloatProgressModel",
      "state": {
       "bar_style": "success",
       "description": "[3] 11/12(val  ): 100%",
       "layout": "IPY_MODEL_ae9bcf2e83204e10bddb0259f9997ee2",
       "max": 157,
       "style": "IPY_MODEL_5a6840abf09746638284a581a644c580",
       "value": 157
      }
     },
     "43844a12c0b748748f4b48801ddd1599": {
      "model_module": "@jupyter-widgets/base",
      "model_module_version": "1.2.0",
      "model_name": "LayoutModel",
      "state": {}
     },
     "438903f3894e47b498fa0f33a8ad3c6b": {
      "model_module": "@jupyter-widgets/controls",
      "model_module_version": "1.5.0",
      "model_name": "HBoxModel",
      "state": {
       "children": [
        "IPY_MODEL_1cdf22942cd64efea3d55b26ed7fcd92",
        "IPY_MODEL_17f3eeea0e3541bc9dbbc4ea9573d28b"
       ],
       "layout": "IPY_MODEL_ae2e60ed49724cc194adccbc032b1903"
      }
     },
     "43fa30caa28946628178442e69bef2fb": {
      "model_module": "@jupyter-widgets/controls",
      "model_module_version": "1.5.0",
      "model_name": "ProgressStyleModel",
      "state": {
       "description_width": "initial"
      }
     },
     "4407da8bbf1f4f7d86177542224586fb": {
      "model_module": "@jupyter-widgets/controls",
      "model_module_version": "1.5.0",
      "model_name": "HTMLModel",
      "state": {
       "layout": "IPY_MODEL_eac330db5f5c42bc966ec19a569142ed",
       "style": "IPY_MODEL_f795ab0040c945ae817252e6de2bef6f",
       "value": " 157/157 [1:31:59&lt;00:00, 35.15s/it]"
      }
     },
     "444da9615fc84437ada8e1a284ce0d46": {
      "model_module": "@jupyter-widgets/controls",
      "model_module_version": "1.5.0",
      "model_name": "ProgressStyleModel",
      "state": {
       "description_width": "initial"
      }
     },
     "4486de12203a49d080f4e192911b6ba5": {
      "model_module": "@jupyter-widgets/controls",
      "model_module_version": "1.5.0",
      "model_name": "ProgressStyleModel",
      "state": {
       "description_width": "initial"
      }
     },
     "44a587dd16bd4fd787c8209d6271d087": {
      "model_module": "@jupyter-widgets/controls",
      "model_module_version": "1.5.0",
      "model_name": "ProgressStyleModel",
      "state": {
       "description_width": "initial"
      }
     },
     "44c334c6d6524fd7b97bb17f506e726e": {
      "model_module": "@jupyter-widgets/base",
      "model_module_version": "1.2.0",
      "model_name": "LayoutModel",
      "state": {}
     },
     "44e58b2cbe0c44d8a276f18a8385610a": {
      "model_module": "@jupyter-widgets/controls",
      "model_module_version": "1.5.0",
      "model_name": "ProgressStyleModel",
      "state": {
       "description_width": "initial"
      }
     },
     "4512e49c7a774720a041c323d29572eb": {
      "model_module": "@jupyter-widgets/controls",
      "model_module_version": "1.5.0",
      "model_name": "ProgressStyleModel",
      "state": {
       "description_width": "initial"
      }
     },
     "4539a37683084bc2b6cfacebac6295a4": {
      "model_module": "@jupyter-widgets/base",
      "model_module_version": "1.2.0",
      "model_name": "LayoutModel",
      "state": {}
     },
     "4543f356f71e4a0da1b4bf0db22d10a4": {
      "model_module": "@jupyter-widgets/base",
      "model_module_version": "1.2.0",
      "model_name": "LayoutModel",
      "state": {}
     },
     "458e7d1d3fdb43baa07c2f23c353ff6f": {
      "model_module": "@jupyter-widgets/base",
      "model_module_version": "1.2.0",
      "model_name": "LayoutModel",
      "state": {}
     },
     "4591ae1d82f546678315bb099b7303e9": {
      "model_module": "@jupyter-widgets/controls",
      "model_module_version": "1.5.0",
      "model_name": "FloatProgressModel",
      "state": {
       "bar_style": "success",
       "description": "[3] 12/12(val  ): 100%",
       "layout": "IPY_MODEL_1731552547874d4fa46a7228fa763c00",
       "max": 165,
       "style": "IPY_MODEL_b4814934d4ab4198b517373708f0dbc0",
       "value": 165
      }
     },
     "45b2fdf5d7d74be9911aec3b486ea82f": {
      "model_module": "@jupyter-widgets/controls",
      "model_module_version": "1.5.0",
      "model_name": "HBoxModel",
      "state": {
       "children": [
        "IPY_MODEL_dbcf0697b9c64f8e9daf7dcb794b9ab3",
        "IPY_MODEL_f7fa758c6938429aa00873920c95162b"
       ],
       "layout": "IPY_MODEL_d1482663c26d4bee8073db0da7f40e4b"
      }
     },
     "45b40aca23264b32bec1f5e213b50349": {
      "model_module": "@jupyter-widgets/controls",
      "model_module_version": "1.5.0",
      "model_name": "FloatProgressModel",
      "state": {
       "bar_style": "success",
       "description": "100%",
       "layout": "IPY_MODEL_22b7dd453b794eeaae96a5953f1634c0",
       "max": 157,
       "style": "IPY_MODEL_a6d65690033748e3b98c0efa25d2a811",
       "value": 157
      }
     },
     "45b8fe9b70554d548603be910b7a8039": {
      "model_module": "@jupyter-widgets/controls",
      "model_module_version": "1.5.0",
      "model_name": "DescriptionStyleModel",
      "state": {
       "description_width": ""
      }
     },
     "45bdbb8210c14f4e911c94cd3be97248": {
      "model_module": "@jupyter-widgets/controls",
      "model_module_version": "1.5.0",
      "model_name": "DescriptionStyleModel",
      "state": {
       "description_width": ""
      }
     },
     "46126aee778a40ecb1374d2a72568242": {
      "model_module": "@jupyter-widgets/base",
      "model_module_version": "1.2.0",
      "model_name": "LayoutModel",
      "state": {}
     },
     "4619ab6b9470493da0d74ef2e64dabac": {
      "model_module": "@jupyter-widgets/base",
      "model_module_version": "1.2.0",
      "model_name": "LayoutModel",
      "state": {}
     },
     "46286113b7c1443484fb02282128cbfc": {
      "model_module": "@jupyter-widgets/controls",
      "model_module_version": "1.5.0",
      "model_name": "ProgressStyleModel",
      "state": {
       "description_width": "initial"
      }
     },
     "465271155db348d9b25afee6cf9b4baa": {
      "model_module": "@jupyter-widgets/controls",
      "model_module_version": "1.5.0",
      "model_name": "DescriptionStyleModel",
      "state": {
       "description_width": ""
      }
     },
     "465300c10d9c4bab8fac0cff624fc05d": {
      "model_module": "@jupyter-widgets/controls",
      "model_module_version": "1.5.0",
      "model_name": "DescriptionStyleModel",
      "state": {
       "description_width": ""
      }
     },
     "466a9a3925ba454dab428ac7b493e878": {
      "model_module": "@jupyter-widgets/controls",
      "model_module_version": "1.5.0",
      "model_name": "HBoxModel",
      "state": {
       "children": [
        "IPY_MODEL_dba5d186f45c47078d7e2c7e402990ad",
        "IPY_MODEL_ab5243eb6d40407c9100fae19455b6f5"
       ],
       "layout": "IPY_MODEL_347e621d9de44859b706e190e3a9461f"
      }
     },
     "4685ce076c144f61adaf5ace1ac054e5": {
      "model_module": "@jupyter-widgets/controls",
      "model_module_version": "1.5.0",
      "model_name": "FloatProgressModel",
      "state": {
       "bar_style": "success",
       "description": "[1] 6/12(val  ): 100%",
       "layout": "IPY_MODEL_678c711fd8b14e1baf930914d5cb487c",
       "max": 157,
       "style": "IPY_MODEL_f8996a004b3d489cbd0b0a7f5be4c34e",
       "value": 157
      }
     },
     "46b11dc0af2e441ba8724aeb4552b123": {
      "model_module": "@jupyter-widgets/controls",
      "model_module_version": "1.5.0",
      "model_name": "ProgressStyleModel",
      "state": {
       "description_width": "initial"
      }
     },
     "474acc39db7a4664aef0d2f6ab85c809": {
      "model_module": "@jupyter-widgets/controls",
      "model_module_version": "1.5.0",
      "model_name": "DescriptionStyleModel",
      "state": {
       "description_width": ""
      }
     },
     "47595c1c041a41329ffb1fdc87a8365b": {
      "model_module": "@jupyter-widgets/base",
      "model_module_version": "1.2.0",
      "model_name": "LayoutModel",
      "state": {}
     },
     "47786b887d834e648d9fa4ab14c1e7ed": {
      "model_module": "@jupyter-widgets/controls",
      "model_module_version": "1.5.0",
      "model_name": "DescriptionStyleModel",
      "state": {
       "description_width": ""
      }
     },
     "478ffff3826e45579da8821c2a9b6e6e": {
      "model_module": "@jupyter-widgets/controls",
      "model_module_version": "1.5.0",
      "model_name": "HBoxModel",
      "state": {
       "children": [
        "IPY_MODEL_05c301da9be14f3fb42b878471a13cdb",
        "IPY_MODEL_c3c2d689f3cb4223b98a7153827002df"
       ],
       "layout": "IPY_MODEL_052fac3836f941278391f938821feaf8"
      }
     },
     "47a0f75e9aa246fda0618c746e1dbc43": {
      "model_module": "@jupyter-widgets/controls",
      "model_module_version": "1.5.0",
      "model_name": "HBoxModel",
      "state": {
       "children": [
        "IPY_MODEL_4b89fdd3381545ffa6c43a61c3c4be30",
        "IPY_MODEL_e3e0462a6593455fa0502664d0405a44"
       ],
       "layout": "IPY_MODEL_b6a4e09631c046b38e43ee090dda02a6"
      }
     },
     "47aac26890ca4b97bda774da1afd9900": {
      "model_module": "@jupyter-widgets/base",
      "model_module_version": "1.2.0",
      "model_name": "LayoutModel",
      "state": {}
     },
     "47b1e2dc02444d9d8fe979725c433372": {
      "model_module": "@jupyter-widgets/controls",
      "model_module_version": "1.5.0",
      "model_name": "DescriptionStyleModel",
      "state": {
       "description_width": ""
      }
     },
     "47f892684e1542beba7e887ee2eb7234": {
      "model_module": "@jupyter-widgets/controls",
      "model_module_version": "1.5.0",
      "model_name": "DescriptionStyleModel",
      "state": {
       "description_width": ""
      }
     },
     "48712b94db024752bdf95ae86ab82c34": {
      "model_module": "@jupyter-widgets/controls",
      "model_module_version": "1.5.0",
      "model_name": "FloatProgressModel",
      "state": {
       "bar_style": "success",
       "description": "[3] 10/12(train): 100%",
       "layout": "IPY_MODEL_1c83ef53b7fb4e76857d7c5ff478f028",
       "max": 493,
       "style": "IPY_MODEL_767adcd31f634958a06dd1c0da0faf19",
       "value": 493
      }
     },
     "48990e87f9df4a00aef01425f31005ec": {
      "model_module": "@jupyter-widgets/controls",
      "model_module_version": "1.5.0",
      "model_name": "FloatProgressModel",
      "state": {
       "bar_style": "success",
       "description": "[0] 7/12(train): 100%",
       "layout": "IPY_MODEL_61f0598fce754a17b4084180778e6794",
       "max": 469,
       "style": "IPY_MODEL_1cf9a3f6a03844f19520f505359ebaac",
       "value": 469
      }
     },
     "48cd28ea0f334d1d99d8c6ea8619db53": {
      "model_module": "@jupyter-widgets/base",
      "model_module_version": "1.2.0",
      "model_name": "LayoutModel",
      "state": {}
     },
     "48cf66361bcd42b893e1d88fbbad134e": {
      "model_module": "@jupyter-widgets/base",
      "model_module_version": "1.2.0",
      "model_name": "LayoutModel",
      "state": {}
     },
     "48dc653a8ed14b519eda399cef8a926c": {
      "model_module": "@jupyter-widgets/base",
      "model_module_version": "1.2.0",
      "model_name": "LayoutModel",
      "state": {}
     },
     "48f4e4a4b223401a96293da2ff0ec763": {
      "model_module": "@jupyter-widgets/base",
      "model_module_version": "1.2.0",
      "model_name": "LayoutModel",
      "state": {}
     },
     "4946b41494284888a64e1d8836c71e4b": {
      "model_module": "@jupyter-widgets/controls",
      "model_module_version": "1.5.0",
      "model_name": "HBoxModel",
      "state": {
       "children": [
        "IPY_MODEL_27b02b2e24914e28b7b3c2e99e6a9385",
        "IPY_MODEL_0ad9e93aeed043a99ac6671fc9fc0d80"
       ],
       "layout": "IPY_MODEL_ac2eaaaac6574bc6a21dd2041b3e07de"
      }
     },
     "4987cac9cdfa404a923de900489842c0": {
      "model_module": "@jupyter-widgets/controls",
      "model_module_version": "1.5.0",
      "model_name": "ProgressStyleModel",
      "state": {
       "description_width": "initial"
      }
     },
     "49f33a66aaa74853bbd832cc6fb5f56e": {
      "model_module": "@jupyter-widgets/base",
      "model_module_version": "1.2.0",
      "model_name": "LayoutModel",
      "state": {}
     },
     "49ff4686a7aa402f8722ff86ec599256": {
      "model_module": "@jupyter-widgets/base",
      "model_module_version": "1.2.0",
      "model_name": "LayoutModel",
      "state": {}
     },
     "4a067f1cbbaa4235a223e41434f7a154": {
      "model_module": "@jupyter-widgets/base",
      "model_module_version": "1.2.0",
      "model_name": "LayoutModel",
      "state": {}
     },
     "4a3736c434324000bedd962aef9f45b6": {
      "model_module": "@jupyter-widgets/base",
      "model_module_version": "1.2.0",
      "model_name": "LayoutModel",
      "state": {}
     },
     "4a4d562bd15948f59036873c955d16a4": {
      "model_module": "@jupyter-widgets/controls",
      "model_module_version": "1.5.0",
      "model_name": "ProgressStyleModel",
      "state": {
       "description_width": "initial"
      }
     },
     "4a89fcb903594b77b28172ac9d087c9f": {
      "model_module": "@jupyter-widgets/base",
      "model_module_version": "1.2.0",
      "model_name": "LayoutModel",
      "state": {}
     },
     "4aa0417ce6b84ca0b9757bc1791c239b": {
      "model_module": "@jupyter-widgets/base",
      "model_module_version": "1.2.0",
      "model_name": "LayoutModel",
      "state": {}
     },
     "4ab1bc4d96c945daa14a2d7f1c242484": {
      "model_module": "@jupyter-widgets/base",
      "model_module_version": "1.2.0",
      "model_name": "LayoutModel",
      "state": {}
     },
     "4ac979e9d2f849778f1b08d0ce1f56e2": {
      "model_module": "@jupyter-widgets/controls",
      "model_module_version": "1.5.0",
      "model_name": "DescriptionStyleModel",
      "state": {
       "description_width": ""
      }
     },
     "4aeffdd6cf424857badf6eab821726b0": {
      "model_module": "@jupyter-widgets/base",
      "model_module_version": "1.2.0",
      "model_name": "LayoutModel",
      "state": {}
     },
     "4afc48b61b44482b9f39b706f6e306a1": {
      "model_module": "@jupyter-widgets/controls",
      "model_module_version": "1.5.0",
      "model_name": "HBoxModel",
      "state": {
       "children": [
        "IPY_MODEL_a89962b161ac4c80b0acfc9fb38191b4",
        "IPY_MODEL_0341f1c6a18d40cc880f530cfc996b35"
       ],
       "layout": "IPY_MODEL_4f3f7593d56045cf98f273d6ff0c4203"
      }
     },
     "4b0364fab09c4945947820e279fb5dec": {
      "model_module": "@jupyter-widgets/controls",
      "model_module_version": "1.5.0",
      "model_name": "HTMLModel",
      "state": {
       "layout": "IPY_MODEL_3fc14cefba134f28a2c9ede02fd1c8ae",
       "style": "IPY_MODEL_682f539521fe4eecb2166c239c99545d",
       "value": " 469/469 [1:32:28&lt;00:00, 11.83s/it]"
      }
     },
     "4b08aca05e14497da3c106c52912e3fe": {
      "model_module": "@jupyter-widgets/controls",
      "model_module_version": "1.5.0",
      "model_name": "DescriptionStyleModel",
      "state": {
       "description_width": ""
      }
     },
     "4b09485a8b1c4f63803e948da0a9996a": {
      "model_module": "@jupyter-widgets/controls",
      "model_module_version": "1.5.0",
      "model_name": "FloatProgressModel",
      "state": {
       "bar_style": "success",
       "description": "[3] 11/12(train): 100%",
       "layout": "IPY_MODEL_650685b6becd4b8189e60b3e4770cc61",
       "max": 493,
       "style": "IPY_MODEL_17c8ddc65c6347b59bdfb6c19d6c7a04",
       "value": 493
      }
     },
     "4b1956daf49d45b4afc4d5cb5b871960": {
      "model_module": "@jupyter-widgets/base",
      "model_module_version": "1.2.0",
      "model_name": "LayoutModel",
      "state": {}
     },
     "4b315c640a84404ba5f95575aaf59bcb": {
      "model_module": "@jupyter-widgets/controls",
      "model_module_version": "1.5.0",
      "model_name": "FloatProgressModel",
      "state": {
       "bar_style": "success",
       "description": "[1] 4/12(train): 100%",
       "layout": "IPY_MODEL_6e9084b15bfa4b71a57c4a9097f8bcf9",
       "max": 469,
       "style": "IPY_MODEL_0e0ad94f68004a2ab5d08ce9836c1794",
       "value": 469
      }
     },
     "4b359765c1214ea1866c5a7326aeda2b": {
      "model_module": "@jupyter-widgets/base",
      "model_module_version": "1.2.0",
      "model_name": "LayoutModel",
      "state": {}
     },
     "4b527627ac984be2a28d7bed0f0abfd1": {
      "model_module": "@jupyter-widgets/controls",
      "model_module_version": "1.5.0",
      "model_name": "HTMLModel",
      "state": {
       "layout": "IPY_MODEL_006924e34bdf456b8d7b76a91d56835c",
       "style": "IPY_MODEL_b0de05fd022d4dc2a34032d4cffa9491",
       "value": " 469/469 [1:29:42&lt;00:00, 11.48s/it]"
      }
     },
     "4b68443eb9ee4409abcdce32978efdb2": {
      "model_module": "@jupyter-widgets/controls",
      "model_module_version": "1.5.0",
      "model_name": "HBoxModel",
      "state": {
       "children": [
        "IPY_MODEL_25875f2a743045878079ffe90004904b",
        "IPY_MODEL_7d425931701849238e50b52b27525e0f"
       ],
       "layout": "IPY_MODEL_172b7e2da8c64cd386384e5d54429ac6"
      }
     },
     "4b89fdd3381545ffa6c43a61c3c4be30": {
      "model_module": "@jupyter-widgets/controls",
      "model_module_version": "1.5.0",
      "model_name": "FloatProgressModel",
      "state": {
       "bar_style": "success",
       "description": "[0] 5/12(val  ): 100%",
       "layout": "IPY_MODEL_48cf66361bcd42b893e1d88fbbad134e",
       "max": 165,
       "style": "IPY_MODEL_b2542874282345e7bb260d0874b8dca9",
       "value": 165
      }
     },
     "4b93786ea0c84f558922160a5c84a324": {
      "model_module": "@jupyter-widgets/controls",
      "model_module_version": "1.5.0",
      "model_name": "ProgressStyleModel",
      "state": {
       "description_width": "initial"
      }
     },
     "4ba963e3a1d7496c91cd6bce81553fba": {
      "model_module": "@jupyter-widgets/controls",
      "model_module_version": "1.5.0",
      "model_name": "DescriptionStyleModel",
      "state": {
       "description_width": ""
      }
     },
     "4bb9bd52ce5f4e06a773a78aa12aa806": {
      "model_module": "@jupyter-widgets/controls",
      "model_module_version": "1.5.0",
      "model_name": "HBoxModel",
      "state": {
       "children": [
        "IPY_MODEL_14a1f478b8ce4c8f9444dd50a0a875fc",
        "IPY_MODEL_94b67d51276c42e794bc29214510b2f2"
       ],
       "layout": "IPY_MODEL_9f832084961b458cb48a8f61330c2631"
      }
     },
     "4bf099bf5f5c430db0a8dbb87c65adcd": {
      "model_module": "@jupyter-widgets/controls",
      "model_module_version": "1.5.0",
      "model_name": "HBoxModel",
      "state": {
       "children": [
        "IPY_MODEL_954769b22db748a8b6ffab8e0fcb40af",
        "IPY_MODEL_0575fe16129e40dd8fc5cece64ed3802"
       ],
       "layout": "IPY_MODEL_0698545d5d15473995b5c873d4694c5f"
      }
     },
     "4c0670d6dcfb41c397ea2859e9fd878a": {
      "model_module": "@jupyter-widgets/controls",
      "model_module_version": "1.5.0",
      "model_name": "DescriptionStyleModel",
      "state": {
       "description_width": ""
      }
     },
     "4c1c1b8ff57848a6959dccaad1b0cf29": {
      "model_module": "@jupyter-widgets/controls",
      "model_module_version": "1.5.0",
      "model_name": "FloatProgressModel",
      "state": {
       "bar_style": "success",
       "description": "[0] 9/12(val  ): 100%",
       "layout": "IPY_MODEL_02b78f43e9464c8ea40c20ab36e95516",
       "max": 165,
       "style": "IPY_MODEL_44a587dd16bd4fd787c8209d6271d087",
       "value": 165
      }
     },
     "4c206f6316a646539bc33d71ed991f86": {
      "model_module": "@jupyter-widgets/controls",
      "model_module_version": "1.5.0",
      "model_name": "HTMLModel",
      "state": {
       "layout": "IPY_MODEL_3a2a9c98c7dc4ae3a78cdea33335fdd0",
       "style": "IPY_MODEL_23f5c0e1fb4945cfbbe2d2a65e05b714",
       "value": " 165/165 [10:56&lt;00:00,  3.98s/it]"
      }
     },
     "4c47d796d2304119b51e3c8012a21b83": {
      "model_module": "@jupyter-widgets/controls",
      "model_module_version": "1.5.0",
      "model_name": "FloatProgressModel",
      "state": {
       "bar_style": "success",
       "description": "[1] 11/12(train): 100%",
       "layout": "IPY_MODEL_cfa194756f4643268ca48b6f9be9092b",
       "max": 493,
       "style": "IPY_MODEL_674952a433aa464d81dbbcbd9ff1e1bc",
       "value": 493
      }
     },
     "4c4baa57fafa4dec98377b253068e458": {
      "model_module": "@jupyter-widgets/base",
      "model_module_version": "1.2.0",
      "model_name": "LayoutModel",
      "state": {}
     },
     "4d4b2c466424453fba61492fc775aefe": {
      "model_module": "@jupyter-widgets/base",
      "model_module_version": "1.2.0",
      "model_name": "LayoutModel",
      "state": {}
     },
     "4d62c78b4fc345669fab465e985375c2": {
      "model_module": "@jupyter-widgets/base",
      "model_module_version": "1.2.0",
      "model_name": "LayoutModel",
      "state": {}
     },
     "4d6f4ddc44a9434fa450c2673656b1ce": {
      "model_module": "@jupyter-widgets/controls",
      "model_module_version": "1.5.0",
      "model_name": "HBoxModel",
      "state": {
       "children": [
        "IPY_MODEL_d68a7f412d414879a2f66e6395ee6621",
        "IPY_MODEL_57c3886e63e349799c787edcadb7d706"
       ],
       "layout": "IPY_MODEL_53cdc1f0ccb6434082d70314f2add735"
      }
     },
     "4d6fb339e16046a29de69a4b5f72c0c0": {
      "model_module": "@jupyter-widgets/controls",
      "model_module_version": "1.5.0",
      "model_name": "ProgressStyleModel",
      "state": {
       "description_width": "initial"
      }
     },
     "4df42e036f2648ef807f66d0859c1ac2": {
      "model_module": "@jupyter-widgets/base",
      "model_module_version": "1.2.0",
      "model_name": "LayoutModel",
      "state": {}
     },
     "4e05283d70ca4d74bb1f785fdf14029d": {
      "model_module": "@jupyter-widgets/controls",
      "model_module_version": "1.5.0",
      "model_name": "HTMLModel",
      "state": {
       "layout": "IPY_MODEL_ab63d242a22b4adb801ff5cff14d6a01",
       "style": "IPY_MODEL_bfc3884047824ea0b456bbdb3bb86cba",
       "value": " 1/493 [00:15&lt;1:54:11, 13.93s/it]"
      }
     },
     "4e491ea77b5e4099b3eb240449303a08": {
      "model_module": "@jupyter-widgets/controls",
      "model_module_version": "1.5.0",
      "model_name": "HTMLModel",
      "state": {
       "layout": "IPY_MODEL_8485da9f893040c6b8105404c2a606a8",
       "style": "IPY_MODEL_06ff52931abc4cac84f2f4718d2511c8",
       "value": " 157/157 [12:58:30&lt;00:00, 297.52s/it]"
      }
     },
     "4e7d52a941284fe69e197339a27b5b74": {
      "model_module": "@jupyter-widgets/base",
      "model_module_version": "1.2.0",
      "model_name": "LayoutModel",
      "state": {}
     },
     "4eb540ce3deb4f00b2507c4084337272": {
      "model_module": "@jupyter-widgets/controls",
      "model_module_version": "1.5.0",
      "model_name": "FloatProgressModel",
      "state": {
       "bar_style": "success",
       "description": "[1] 5/12(train): 100%",
       "layout": "IPY_MODEL_a79d3d2be2bf4d1ba8f5ccae74bb7d42",
       "max": 493,
       "style": "IPY_MODEL_8ebde0f3797e44078f321de42dfd87c5",
       "value": 493
      }
     },
     "4f0428cee1df443abe51442517effd55": {
      "model_module": "@jupyter-widgets/controls",
      "model_module_version": "1.5.0",
      "model_name": "ProgressStyleModel",
      "state": {
       "description_width": "initial"
      }
     },
     "4f2c55e41d094cea83fc0f517fb12676": {
      "model_module": "@jupyter-widgets/controls",
      "model_module_version": "1.5.0",
      "model_name": "HTMLModel",
      "state": {
       "layout": "IPY_MODEL_15cfdf13f5cd45128da4bf6097539b47",
       "style": "IPY_MODEL_e70d6fad96ae4c16bc691bf739b95d69",
       "value": " 165/165 [11:12&lt;00:00,  4.07s/it]"
      }
     },
     "4f2d7f2971f94ec4b99685cd610f8605": {
      "model_module": "@jupyter-widgets/controls",
      "model_module_version": "1.5.0",
      "model_name": "DescriptionStyleModel",
      "state": {
       "description_width": ""
      }
     },
     "4f3f7593d56045cf98f273d6ff0c4203": {
      "model_module": "@jupyter-widgets/base",
      "model_module_version": "1.2.0",
      "model_name": "LayoutModel",
      "state": {}
     },
     "4f574ae73c70489680362ba3475b5578": {
      "model_module": "@jupyter-widgets/controls",
      "model_module_version": "1.5.0",
      "model_name": "ProgressStyleModel",
      "state": {
       "description_width": "initial"
      }
     },
     "4f74bc471e874aed964bcb1960c50747": {
      "model_module": "@jupyter-widgets/base",
      "model_module_version": "1.2.0",
      "model_name": "LayoutModel",
      "state": {}
     },
     "4f9604356bbb4e3698eb18e69431ef6f": {
      "model_module": "@jupyter-widgets/base",
      "model_module_version": "1.2.0",
      "model_name": "LayoutModel",
      "state": {}
     },
     "4faa4ba1ac724d5f9b63d9bde8cdbc57": {
      "model_module": "@jupyter-widgets/base",
      "model_module_version": "1.2.0",
      "model_name": "LayoutModel",
      "state": {}
     },
     "501483cd97bb46b085450dbb15ff3ec0": {
      "model_module": "@jupyter-widgets/controls",
      "model_module_version": "1.5.0",
      "model_name": "DescriptionStyleModel",
      "state": {
       "description_width": ""
      }
     },
     "50438db1e5fc4b3a9af4b652df106401": {
      "model_module": "@jupyter-widgets/base",
      "model_module_version": "1.2.0",
      "model_name": "LayoutModel",
      "state": {}
     },
     "505c9def431a48e0ba83fee6d9e1ac35": {
      "model_module": "@jupyter-widgets/controls",
      "model_module_version": "1.5.0",
      "model_name": "HTMLModel",
      "state": {
       "layout": "IPY_MODEL_f35e6a9c1b074dd990a6a9b004780eaf",
       "style": "IPY_MODEL_859d66b068604a52aadfcc467a0f3c0c",
       "value": " 493/493 [5:19:29&lt;00:00, 38.88s/it]"
      }
     },
     "506d2495e0e2493a8a9e675b50991ede": {
      "model_module": "@jupyter-widgets/controls",
      "model_module_version": "1.5.0",
      "model_name": "HTMLModel",
      "state": {
       "layout": "IPY_MODEL_2d8087c5d40144168fd631e17dc24153",
       "style": "IPY_MODEL_90136a458cca498aabcc84416fe80039",
       "value": " 469/469 [14:06:22&lt;00:00, 108.28s/it]"
      }
     },
     "506decaee901455fbcfcffa7f58f15cd": {
      "model_module": "@jupyter-widgets/controls",
      "model_module_version": "1.5.0",
      "model_name": "DescriptionStyleModel",
      "state": {
       "description_width": ""
      }
     },
     "507a8d492cf8495d9914c13a1b34fb5d": {
      "model_module": "@jupyter-widgets/controls",
      "model_module_version": "1.5.0",
      "model_name": "HBoxModel",
      "state": {
       "children": [
        "IPY_MODEL_fe22dc3c40db46a8af3cb44be9bc2c8d",
        "IPY_MODEL_40a6d02680f64571be516042392b1c43"
       ],
       "layout": "IPY_MODEL_faa43a69669c4a4ba137d4f77ccbdbd3"
      }
     },
     "51047bf3e05c4cb59d26626c06f97da9": {
      "model_module": "@jupyter-widgets/base",
      "model_module_version": "1.2.0",
      "model_name": "LayoutModel",
      "state": {}
     },
     "512482bd7b7546f4910ce9aee3a4bffc": {
      "model_module": "@jupyter-widgets/controls",
      "model_module_version": "1.5.0",
      "model_name": "FloatProgressModel",
      "state": {
       "bar_style": "success",
       "description": "[3] 11/12(train): 100%",
       "layout": "IPY_MODEL_6cf9b9d43e124e1293cf559504db803e",
       "max": 469,
       "style": "IPY_MODEL_dcd239c05ea54b82895ebd6f8f251dea",
       "value": 469
      }
     },
     "5127493c75dd4671a15f2dd4aeaa70a1": {
      "model_module": "@jupyter-widgets/base",
      "model_module_version": "1.2.0",
      "model_name": "LayoutModel",
      "state": {}
     },
     "51352039b0194bb7b97ac25e14288b18": {
      "model_module": "@jupyter-widgets/controls",
      "model_module_version": "1.5.0",
      "model_name": "FloatProgressModel",
      "state": {
       "bar_style": "danger",
       "description": "[2] 1/12(train):   0%",
       "layout": "IPY_MODEL_cd9522388c2d4f24ac2a2b81e15609d7",
       "max": 493,
       "style": "IPY_MODEL_64cf4f4bba964c30ac43f2423829ec3b"
      }
     },
     "513b05d51b6143009a188baa8815aed4": {
      "model_module": "@jupyter-widgets/controls",
      "model_module_version": "1.5.0",
      "model_name": "HTMLModel",
      "state": {
       "layout": "IPY_MODEL_6638829f9e494a299a056f1b36bfc689",
       "style": "IPY_MODEL_a63489dec9194bba9ac3fc5e98907f63",
       "value": " 493/493 [8:22:10&lt;00:00, 61.12s/it]"
      }
     },
     "516cfd573d1e49d4845750f97f1db8c7": {
      "model_module": "@jupyter-widgets/base",
      "model_module_version": "1.2.0",
      "model_name": "LayoutModel",
      "state": {}
     },
     "517a487cd8fb4ccabebdf3695ccf9f9c": {
      "model_module": "@jupyter-widgets/base",
      "model_module_version": "1.2.0",
      "model_name": "LayoutModel",
      "state": {}
     },
     "51ada7bde92447919b222495be17efa8": {
      "model_module": "@jupyter-widgets/base",
      "model_module_version": "1.2.0",
      "model_name": "LayoutModel",
      "state": {}
     },
     "51fa21684a7f49a79aa3a1f2cf27ff5e": {
      "model_module": "@jupyter-widgets/controls",
      "model_module_version": "1.5.0",
      "model_name": "HTMLModel",
      "state": {
       "layout": "IPY_MODEL_f0ce73ffe4b54b0e8ec60c7d851e3c7d",
       "style": "IPY_MODEL_a6a5a21131fd4047aeca8582a71af2ad",
       "value": " 493/493 [4:40:39&lt;00:00, 34.16s/it]"
      }
     },
     "5203906b9fbc47499730abbbf9923dc6": {
      "model_module": "@jupyter-widgets/controls",
      "model_module_version": "1.5.0",
      "model_name": "HTMLModel",
      "state": {
       "layout": "IPY_MODEL_9ee264517c1c4c7c9744a91f7273247b",
       "style": "IPY_MODEL_cd23b4cc55f94089a3ffed16de505c8d",
       "value": " 469/469 [7:54:05&lt;00:00, 60.65s/it]"
      }
     },
     "521ca8732a614f40863dd91f97f58eb7": {
      "model_module": "@jupyter-widgets/controls",
      "model_module_version": "1.5.0",
      "model_name": "DescriptionStyleModel",
      "state": {
       "description_width": ""
      }
     },
     "522405706a5a4be7bf3272a91e1c536a": {
      "model_module": "@jupyter-widgets/base",
      "model_module_version": "1.2.0",
      "model_name": "LayoutModel",
      "state": {}
     },
     "527c894b71164ab2a2329cd3f444187a": {
      "model_module": "@jupyter-widgets/controls",
      "model_module_version": "1.5.0",
      "model_name": "HTMLModel",
      "state": {
       "layout": "IPY_MODEL_03fa4a42152e49e4958edbac8d33e1ff",
       "style": "IPY_MODEL_83bb5d2ca04040689b854e36216b40a1",
       "value": " 493/493 [3:02:59&lt;00:00, 22.27s/it]"
      }
     },
     "52b7c67c77ee4f44a30ca593c8c6587d": {
      "model_module": "@jupyter-widgets/controls",
      "model_module_version": "1.5.0",
      "model_name": "HTMLModel",
      "state": {
       "layout": "IPY_MODEL_a54bb13b9d49417390dee7ed9a4d5aa2",
       "style": "IPY_MODEL_84a4aeed00b340f18b71704baf389830",
       "value": " 493/493 [3:54:39&lt;00:00, 28.56s/it]"
      }
     },
     "52e5220707ce4ae1a9b1fbf786d1581e": {
      "model_module": "@jupyter-widgets/controls",
      "model_module_version": "1.5.0",
      "model_name": "HBoxModel",
      "state": {
       "children": [
        "IPY_MODEL_4378cb12bfd2471e9c7ebd8f5db1e8fb",
        "IPY_MODEL_84ccf8da744f4c75afa529bb2f0c50d2"
       ],
       "layout": "IPY_MODEL_e7f22d46610a42889bb1cc1e0cdac76f"
      }
     },
     "536d7a52aa0a4c82bb80c7970af92acd": {
      "model_module": "@jupyter-widgets/base",
      "model_module_version": "1.2.0",
      "model_name": "LayoutModel",
      "state": {}
     },
     "53b93b9b60a343daaa4f385ac2b2b599": {
      "model_module": "@jupyter-widgets/base",
      "model_module_version": "1.2.0",
      "model_name": "LayoutModel",
      "state": {}
     },
     "53bed6b51b8f415f8bf2d9c979460303": {
      "model_module": "@jupyter-widgets/controls",
      "model_module_version": "1.5.0",
      "model_name": "FloatProgressModel",
      "state": {
       "bar_style": "success",
       "description": "[2] 11/12(val  ): 100%",
       "layout": "IPY_MODEL_436d8dffb5b448d78b0174b01b09aa4d",
       "max": 165,
       "style": "IPY_MODEL_43fa30caa28946628178442e69bef2fb",
       "value": 165
      }
     },
     "53cdc1f0ccb6434082d70314f2add735": {
      "model_module": "@jupyter-widgets/base",
      "model_module_version": "1.2.0",
      "model_name": "LayoutModel",
      "state": {}
     },
     "53d522a581084eb091f4246908064004": {
      "model_module": "@jupyter-widgets/controls",
      "model_module_version": "1.5.0",
      "model_name": "FloatProgressModel",
      "state": {
       "bar_style": "success",
       "description": "[2] 5/12(train): 100%",
       "layout": "IPY_MODEL_33ed21dd2a454e45b42d39da25ff073b",
       "max": 469,
       "style": "IPY_MODEL_1f2dd3d1164b4ce480a41c318229a8a1",
       "value": 469
      }
     },
     "53d70686a86b4731b99b5bbaa5a9895e": {
      "model_module": "@jupyter-widgets/controls",
      "model_module_version": "1.5.0",
      "model_name": "FloatProgressModel",
      "state": {
       "bar_style": "success",
       "description": "[3] 3/12(val  ): 100%",
       "layout": "IPY_MODEL_d72796ece9054087b4d30fdf9e9d7fff",
       "max": 157,
       "style": "IPY_MODEL_23113d73b8884b53ab80f1d07592d859",
       "value": 157
      }
     },
     "540a3e8de20b450999a9df9c4a21c76f": {
      "model_module": "@jupyter-widgets/controls",
      "model_module_version": "1.5.0",
      "model_name": "DescriptionStyleModel",
      "state": {
       "description_width": ""
      }
     },
     "5432cbff647f407ab4f1f98b25987557": {
      "model_module": "@jupyter-widgets/controls",
      "model_module_version": "1.5.0",
      "model_name": "HBoxModel",
      "state": {
       "children": [
        "IPY_MODEL_acb4bd00f0b34167bd647dceaa909d25",
        "IPY_MODEL_632af95e2c234a56b2c6a415f27bb1e5"
       ],
       "layout": "IPY_MODEL_4f9604356bbb4e3698eb18e69431ef6f"
      }
     },
     "544f2826204e44efa5862736ea92d34b": {
      "model_module": "@jupyter-widgets/base",
      "model_module_version": "1.2.0",
      "model_name": "LayoutModel",
      "state": {}
     },
     "5472a90d6eae4cf79a194232fd2924a2": {
      "model_module": "@jupyter-widgets/base",
      "model_module_version": "1.2.0",
      "model_name": "LayoutModel",
      "state": {}
     },
     "5477c571aa3b4f6986c7e3d8b1933bee": {
      "model_module": "@jupyter-widgets/controls",
      "model_module_version": "1.5.0",
      "model_name": "HTMLModel",
      "state": {
       "layout": "IPY_MODEL_9d4d11f162914714912d026802c99f33",
       "style": "IPY_MODEL_bc1cf333be2d42888372f66171f6ffaf",
       "value": " 157/157 [21:58&lt;00:00,  8.40s/it]"
      }
     },
     "54bee4dec77e43a8961d82fa5e7a04f2": {
      "model_module": "@jupyter-widgets/base",
      "model_module_version": "1.2.0",
      "model_name": "LayoutModel",
      "state": {}
     },
     "54d2669f059f4b32aa2abaefca270fdd": {
      "model_module": "@jupyter-widgets/controls",
      "model_module_version": "1.5.0",
      "model_name": "ProgressStyleModel",
      "state": {
       "description_width": "initial"
      }
     },
     "54d71037e8314d3cac3b734e2e795b59": {
      "model_module": "@jupyter-widgets/base",
      "model_module_version": "1.2.0",
      "model_name": "LayoutModel",
      "state": {}
     },
     "54e93d375b25477881c48714073ecd49": {
      "model_module": "@jupyter-widgets/controls",
      "model_module_version": "1.5.0",
      "model_name": "HBoxModel",
      "state": {
       "children": [
        "IPY_MODEL_3771df84fa304f9a8d1597f218373889",
        "IPY_MODEL_3fe99e6fc43745b7a7a096119e35899e"
       ],
       "layout": "IPY_MODEL_7958bcf3cca04a90b54f0eb0d7cf9071"
      }
     },
     "5532e852c6d4401a9cd0120f17ded86e": {
      "model_module": "@jupyter-widgets/controls",
      "model_module_version": "1.5.0",
      "model_name": "ProgressStyleModel",
      "state": {
       "description_width": "initial"
      }
     },
     "55347aa1750941bd8379e48c182f968d": {
      "model_module": "@jupyter-widgets/controls",
      "model_module_version": "1.5.0",
      "model_name": "HBoxModel",
      "state": {
       "children": [
        "IPY_MODEL_1fb52cdaa0b040e2b5a1961f8591ad4e",
        "IPY_MODEL_67c787fcc5674043aece8ad0c9230c62"
       ],
       "layout": "IPY_MODEL_2019d4a47e2d4b9b90cd10948aed00fd"
      }
     },
     "5555bcf7c2fc4bbf9af81be07f9ac198": {
      "model_module": "@jupyter-widgets/base",
      "model_module_version": "1.2.0",
      "model_name": "LayoutModel",
      "state": {}
     },
     "55a6097946314ac389bc3309feb50057": {
      "model_module": "@jupyter-widgets/controls",
      "model_module_version": "1.5.0",
      "model_name": "FloatProgressModel",
      "state": {
       "bar_style": "success",
       "description": "[0] 11/12(val  ): 100%",
       "layout": "IPY_MODEL_f0cbe84860a141f5b7468ee21ce985b4",
       "max": 157,
       "style": "IPY_MODEL_793063835ce043a786d492895a334141",
       "value": 157
      }
     },
     "562598e1dcb94c3981100089f25e4e9f": {
      "model_module": "@jupyter-widgets/base",
      "model_module_version": "1.2.0",
      "model_name": "LayoutModel",
      "state": {}
     },
     "5637435a074d4c78abd6f9391b577126": {
      "model_module": "@jupyter-widgets/controls",
      "model_module_version": "1.5.0",
      "model_name": "FloatProgressModel",
      "state": {
       "bar_style": "success",
       "description": "[1] 1/12(val  ): 100%",
       "layout": "IPY_MODEL_c513d0133b864549805e365d1c37605d",
       "max": 157,
       "style": "IPY_MODEL_6a931c8495b64916ad0f22437118269f",
       "value": 157
      }
     },
     "565dfc1cb32248469482134f7bd39044": {
      "model_module": "@jupyter-widgets/controls",
      "model_module_version": "1.5.0",
      "model_name": "HBoxModel",
      "state": {
       "children": [
        "IPY_MODEL_a3929d77d4ae492a91a6c70ce68217e4",
        "IPY_MODEL_4e491ea77b5e4099b3eb240449303a08"
       ],
       "layout": "IPY_MODEL_c49f8ce5698a4ee5be3707c0b8dc55bc"
      }
     },
     "566b6aeb48ec4a9db8b58fb0a66841e6": {
      "model_module": "@jupyter-widgets/controls",
      "model_module_version": "1.5.0",
      "model_name": "DescriptionStyleModel",
      "state": {
       "description_width": ""
      }
     },
     "56815425286c49c0b01554a0b781b292": {
      "model_module": "@jupyter-widgets/controls",
      "model_module_version": "1.5.0",
      "model_name": "HBoxModel",
      "state": {
       "children": [
        "IPY_MODEL_65b86035f16f4e3099dde15f4512497d",
        "IPY_MODEL_f46ed2824f76403a8d2cb397472a9363"
       ],
       "layout": "IPY_MODEL_152d410a04064d0e97a400d1cccea578"
      }
     },
     "569e6ae0bc3f417d9e9e09bc9a37efe5": {
      "model_module": "@jupyter-widgets/base",
      "model_module_version": "1.2.0",
      "model_name": "LayoutModel",
      "state": {}
     },
     "56c3eec08ab345999d1de33dd5bd0a7d": {
      "model_module": "@jupyter-widgets/controls",
      "model_module_version": "1.5.0",
      "model_name": "DescriptionStyleModel",
      "state": {
       "description_width": ""
      }
     },
     "56c982f3ea02432cba9e26f83cc9e480": {
      "model_module": "@jupyter-widgets/controls",
      "model_module_version": "1.5.0",
      "model_name": "DescriptionStyleModel",
      "state": {
       "description_width": ""
      }
     },
     "56da1acda4d044ef8eda3714e5963bbb": {
      "model_module": "@jupyter-widgets/controls",
      "model_module_version": "1.5.0",
      "model_name": "ProgressStyleModel",
      "state": {
       "description_width": "initial"
      }
     },
     "5735937226b14f578ee7483f26938812": {
      "model_module": "@jupyter-widgets/controls",
      "model_module_version": "1.5.0",
      "model_name": "HTMLModel",
      "state": {
       "layout": "IPY_MODEL_ae0c6a8a03cd4e67962e001e6717e6af",
       "style": "IPY_MODEL_3f9908c3c02943f7b7706b41bf6891b0",
       "value": " 1/1 [00:04&lt;00:00,  4.35s/it]"
      }
     },
     "5790a1fee3ab4d18af47b5be0736858f": {
      "model_module": "@jupyter-widgets/base",
      "model_module_version": "1.2.0",
      "model_name": "LayoutModel",
      "state": {}
     },
     "57a54e8df8064facb7b23471e83300da": {
      "model_module": "@jupyter-widgets/base",
      "model_module_version": "1.2.0",
      "model_name": "LayoutModel",
      "state": {}
     },
     "57bedef1ac2d4d6eabf610ea8aa9a602": {
      "model_module": "@jupyter-widgets/base",
      "model_module_version": "1.2.0",
      "model_name": "LayoutModel",
      "state": {}
     },
     "57c3886e63e349799c787edcadb7d706": {
      "model_module": "@jupyter-widgets/controls",
      "model_module_version": "1.5.0",
      "model_name": "HTMLModel",
      "state": {
       "layout": "IPY_MODEL_0d55af689b5b49dc857efe095b28e5e7",
       "style": "IPY_MODEL_b20ba56e6b804ddea8501719fe5ff7b9",
       "value": " 157/157 [24:14&lt;00:00,  9.27s/it]"
      }
     },
     "581b50fd444d4807bd5b5d2eb2927894": {
      "model_module": "@jupyter-widgets/base",
      "model_module_version": "1.2.0",
      "model_name": "LayoutModel",
      "state": {}
     },
     "58580bc9fd494d6cb02cce77687ed520": {
      "model_module": "@jupyter-widgets/controls",
      "model_module_version": "1.5.0",
      "model_name": "FloatProgressModel",
      "state": {
       "bar_style": "success",
       "description": "100%",
       "layout": "IPY_MODEL_ea9fbbe7fed1460b99ac1156775bd26a",
       "max": 157,
       "style": "IPY_MODEL_244c1c47db7c432e924967e2059d966f",
       "value": 157
      }
     },
     "5863e3821804485db7b8ed3753bfa499": {
      "model_module": "@jupyter-widgets/base",
      "model_module_version": "1.2.0",
      "model_name": "LayoutModel",
      "state": {}
     },
     "58ec45634f8e41d58d9e0b66f3ca75a4": {
      "model_module": "@jupyter-widgets/controls",
      "model_module_version": "1.5.0",
      "model_name": "HTMLModel",
      "state": {
       "layout": "IPY_MODEL_54d71037e8314d3cac3b734e2e795b59",
       "style": "IPY_MODEL_21f856b0b32d4456b2ce6c9e0c3e7d25",
       "value": " 469/469 [1:12:34&lt;00:00,  9.28s/it]"
      }
     },
     "58f686a651944c9fad31c2b5dc3c6601": {
      "model_module": "@jupyter-widgets/controls",
      "model_module_version": "1.5.0",
      "model_name": "FloatProgressModel",
      "state": {
       "bar_style": "success",
       "description": "[1] 8/12(train): 100%",
       "layout": "IPY_MODEL_cd15e163cb9c4c39b4bd5d1d99aeeff3",
       "max": 469,
       "style": "IPY_MODEL_394434fba46d49a48459cc462db2b3a8",
       "value": 469
      }
     },
     "590a8a0c7fd14e809374eb74b9885313": {
      "model_module": "@jupyter-widgets/controls",
      "model_module_version": "1.5.0",
      "model_name": "ProgressStyleModel",
      "state": {
       "description_width": "initial"
      }
     },
     "59169accd0644cc5b9ddba376d14187c": {
      "model_module": "@jupyter-widgets/base",
      "model_module_version": "1.2.0",
      "model_name": "LayoutModel",
      "state": {}
     },
     "592cdb7f19a44838b51c11802a6d7343": {
      "model_module": "@jupyter-widgets/base",
      "model_module_version": "1.2.0",
      "model_name": "LayoutModel",
      "state": {}
     },
     "5945eb010d084928b7511d72e1dfc763": {
      "model_module": "@jupyter-widgets/controls",
      "model_module_version": "1.5.0",
      "model_name": "ProgressStyleModel",
      "state": {
       "description_width": "initial"
      }
     },
     "59a836e78003429f93408afcb8c2bfae": {
      "model_module": "@jupyter-widgets/base",
      "model_module_version": "1.2.0",
      "model_name": "LayoutModel",
      "state": {}
     },
     "59b59a1c3b5b4fe18ef41e706f99bbf8": {
      "model_module": "@jupyter-widgets/controls",
      "model_module_version": "1.5.0",
      "model_name": "HBoxModel",
      "state": {
       "children": [
        "IPY_MODEL_8c686d28a86446fb94a6913f97939f88",
        "IPY_MODEL_2193db1e387e41df82874f15a6dad290"
       ],
       "layout": "IPY_MODEL_3feac8dd578140ec8efa3573ee817a41"
      }
     },
     "59ddcb4fd7e24401ad2b13c97493f44e": {
      "model_module": "@jupyter-widgets/controls",
      "model_module_version": "1.5.0",
      "model_name": "HBoxModel",
      "state": {
       "children": [
        "IPY_MODEL_199a809a58c64980bf56abd582adabc0",
        "IPY_MODEL_8d2eed5fe7d54627ba10e1c4f0c8bbea"
       ],
       "layout": "IPY_MODEL_bd37b67c20e04eb6be7edbc3752f611b"
      }
     },
     "5a57c41a88a547dd8b4d4b92113a7541": {
      "model_module": "@jupyter-widgets/controls",
      "model_module_version": "1.5.0",
      "model_name": "HTMLModel",
      "state": {
       "layout": "IPY_MODEL_c49bcf9f58484c799ce5204aca08c42d",
       "style": "IPY_MODEL_ad909a05b35e40fa9d34c1c9f00f6f09",
       "value": " 165/165 [11:04&lt;00:00,  4.02s/it]"
      }
     },
     "5a5b72ea23444a7a89306598e20dfa0c": {
      "model_module": "@jupyter-widgets/controls",
      "model_module_version": "1.5.0",
      "model_name": "DescriptionStyleModel",
      "state": {
       "description_width": ""
      }
     },
     "5a6840abf09746638284a581a644c580": {
      "model_module": "@jupyter-widgets/controls",
      "model_module_version": "1.5.0",
      "model_name": "ProgressStyleModel",
      "state": {
       "description_width": "initial"
      }
     },
     "5a9ebcf8669a4feca2e9c0f214077671": {
      "model_module": "@jupyter-widgets/base",
      "model_module_version": "1.2.0",
      "model_name": "LayoutModel",
      "state": {}
     },
     "5ab4ed0ed4094260a86c12c4583b941b": {
      "model_module": "@jupyter-widgets/controls",
      "model_module_version": "1.5.0",
      "model_name": "DescriptionStyleModel",
      "state": {
       "description_width": ""
      }
     },
     "5abac3a2e8d74277881e0cf674adb90c": {
      "model_module": "@jupyter-widgets/controls",
      "model_module_version": "1.5.0",
      "model_name": "FloatProgressModel",
      "state": {
       "bar_style": "success",
       "description": "[3] 11/12(val  ): 100%",
       "layout": "IPY_MODEL_3cec75efadd34ad896ac1f851e70d97f",
       "max": 165,
       "style": "IPY_MODEL_ab1be69afc864b858e812dd1cba83183",
       "value": 165
      }
     },
     "5abd73e7b492488c9a78d35195172cac": {
      "model_module": "@jupyter-widgets/base",
      "model_module_version": "1.2.0",
      "model_name": "LayoutModel",
      "state": {}
     },
     "5ae8c3f7ac2c42f6b328c89dea28ad3b": {
      "model_module": "@jupyter-widgets/controls",
      "model_module_version": "1.5.0",
      "model_name": "HTMLModel",
      "state": {
       "layout": "IPY_MODEL_4aa0417ce6b84ca0b9757bc1791c239b",
       "style": "IPY_MODEL_8ec3edd6f54f4fd4b265b5e23042a1d6",
       "value": " 165/165 [2:34:49&lt;00:00, 56.30s/it]"
      }
     },
     "5af15e4afdb24288917bb16aa209ec10": {
      "model_module": "@jupyter-widgets/controls",
      "model_module_version": "1.5.0",
      "model_name": "FloatProgressModel",
      "state": {
       "bar_style": "success",
       "description": "[0] 3/12(train): 100%",
       "layout": "IPY_MODEL_8e7c49518fbb413ebd58ef7c23005f88",
       "max": 493,
       "style": "IPY_MODEL_8982a875c85e4f898608194a0a99926c",
       "value": 493
      }
     },
     "5b0c1db29e1d40c7849e8d1af11bb4a6": {
      "model_module": "@jupyter-widgets/controls",
      "model_module_version": "1.5.0",
      "model_name": "HBoxModel",
      "state": {
       "children": [
        "IPY_MODEL_9846aed389324bfab0c9877d94ff092b",
        "IPY_MODEL_6f3b5a590d134a1d9f3fb0a1d80e70f7"
       ],
       "layout": "IPY_MODEL_b0fb5ee2e21d4f5c82e05929235a03c7"
      }
     },
     "5b1aee8bd0234246a3faff067e7ec930": {
      "model_module": "@jupyter-widgets/base",
      "model_module_version": "1.2.0",
      "model_name": "LayoutModel",
      "state": {}
     },
     "5bb4a49862c94c81a8519728789d6485": {
      "model_module": "@jupyter-widgets/base",
      "model_module_version": "1.2.0",
      "model_name": "LayoutModel",
      "state": {}
     },
     "5bee22705b714318a5ff3266f7b54e23": {
      "model_module": "@jupyter-widgets/controls",
      "model_module_version": "1.5.0",
      "model_name": "HBoxModel",
      "state": {
       "children": [
        "IPY_MODEL_31653067e8004e23bbedc3530c43218f",
        "IPY_MODEL_c77d4e25937543c3b80f94c06b2c4522"
       ],
       "layout": "IPY_MODEL_78f9ea02439e491998bd8b3b7301ec3c"
      }
     },
     "5bfbc8efe9804723b290499b859e75ac": {
      "model_module": "@jupyter-widgets/controls",
      "model_module_version": "1.5.0",
      "model_name": "DescriptionStyleModel",
      "state": {
       "description_width": ""
      }
     },
     "5c1010fb58824d98a166ee629c8dfe26": {
      "model_module": "@jupyter-widgets/controls",
      "model_module_version": "1.5.0",
      "model_name": "ProgressStyleModel",
      "state": {
       "description_width": "initial"
      }
     },
     "5c3316dbc312455a8eeb765deeeaebc9": {
      "model_module": "@jupyter-widgets/base",
      "model_module_version": "1.2.0",
      "model_name": "LayoutModel",
      "state": {}
     },
     "5cdfab486a2946248205fd16a80cbb23": {
      "model_module": "@jupyter-widgets/controls",
      "model_module_version": "1.5.0",
      "model_name": "DescriptionStyleModel",
      "state": {
       "description_width": ""
      }
     },
     "5cfe24a2353d4282b5f2e0d316d6941b": {
      "model_module": "@jupyter-widgets/base",
      "model_module_version": "1.2.0",
      "model_name": "LayoutModel",
      "state": {}
     },
     "5d49fbde45394d648009b517c8561e32": {
      "model_module": "@jupyter-widgets/controls",
      "model_module_version": "1.5.0",
      "model_name": "DescriptionStyleModel",
      "state": {
       "description_width": ""
      }
     },
     "5d4d8877789f4520b61a1ed6fc50c1b4": {
      "model_module": "@jupyter-widgets/controls",
      "model_module_version": "1.5.0",
      "model_name": "ProgressStyleModel",
      "state": {
       "description_width": "initial"
      }
     },
     "5dbdd60cb5814041a0a11aef524df7f1": {
      "model_module": "@jupyter-widgets/base",
      "model_module_version": "1.2.0",
      "model_name": "LayoutModel",
      "state": {}
     },
     "5df24ffe25994012a5dd918be264c2dd": {
      "model_module": "@jupyter-widgets/base",
      "model_module_version": "1.2.0",
      "model_name": "LayoutModel",
      "state": {}
     },
     "5df6466b24554946868e4a27dc7b95b6": {
      "model_module": "@jupyter-widgets/controls",
      "model_module_version": "1.5.0",
      "model_name": "HTMLModel",
      "state": {
       "layout": "IPY_MODEL_e284fc1be5a84ebe8e3899d83534eb0c",
       "style": "IPY_MODEL_11f194fccd8e4b1389e77e2b49c40aa4",
       "value": " 469/469 [1:35:03&lt;00:00, 12.16s/it]"
      }
     },
     "5e3e3b2a9cde40feb375f9523352329a": {
      "model_module": "@jupyter-widgets/controls",
      "model_module_version": "1.5.0",
      "model_name": "DescriptionStyleModel",
      "state": {
       "description_width": ""
      }
     },
     "5e69f2dfc08c41f7a641414422c49cf9": {
      "model_module": "@jupyter-widgets/controls",
      "model_module_version": "1.5.0",
      "model_name": "HBoxModel",
      "state": {
       "children": [
        "IPY_MODEL_4eb540ce3deb4f00b2507c4084337272",
        "IPY_MODEL_fdfa972072c44f9db241e98b3fe1b89d"
       ],
       "layout": "IPY_MODEL_1eeadae813f64938b684dcc28264cea0"
      }
     },
     "5e7809bfd5554467b076c3e7818cb36e": {
      "model_module": "@jupyter-widgets/base",
      "model_module_version": "1.2.0",
      "model_name": "LayoutModel",
      "state": {}
     },
     "5e83a90be0c34250a1e77433402ebd6b": {
      "model_module": "@jupyter-widgets/controls",
      "model_module_version": "1.5.0",
      "model_name": "HTMLModel",
      "state": {
       "layout": "IPY_MODEL_b48f65a1d9454c5982e99f8d24716a1e",
       "style": "IPY_MODEL_130fd827e94c4f7caaa073f2435703d4",
       "value": " 469/469 [1:37:05&lt;00:00, 12.42s/it]"
      }
     },
     "5eab77ad72234a3b80571db20dca325c": {
      "model_module": "@jupyter-widgets/controls",
      "model_module_version": "1.5.0",
      "model_name": "HTMLModel",
      "state": {
       "layout": "IPY_MODEL_3ccd22bcfefe4c888667c85fa4093fb7",
       "style": "IPY_MODEL_c36c97c63d4f4e6da7e60c0aeb117d4a",
       "value": " 493/493 [46:41&lt;00:00,  5.68s/it]"
      }
     },
     "5ec81431df7646caac0fbcdde227cf3d": {
      "model_module": "@jupyter-widgets/base",
      "model_module_version": "1.2.0",
      "model_name": "LayoutModel",
      "state": {}
     },
     "5ed209c78b0d40cfa416ed92790d5838": {
      "model_module": "@jupyter-widgets/base",
      "model_module_version": "1.2.0",
      "model_name": "LayoutModel",
      "state": {}
     },
     "5f3e88a87ad4451d9a67127ee97721a3": {
      "model_module": "@jupyter-widgets/base",
      "model_module_version": "1.2.0",
      "model_name": "LayoutModel",
      "state": {}
     },
     "5fbd22e1101448d5b8fde0284c26cb42": {
      "model_module": "@jupyter-widgets/base",
      "model_module_version": "1.2.0",
      "model_name": "LayoutModel",
      "state": {}
     },
     "5fc9ab821ab34c278ceae6dd81bc58f7": {
      "model_module": "@jupyter-widgets/controls",
      "model_module_version": "1.5.0",
      "model_name": "FloatProgressModel",
      "state": {
       "bar_style": "success",
       "description": "[1] 1/1(val  ): 100%",
       "layout": "IPY_MODEL_63cf53cd422e4063b22e9f7e3b093bf3",
       "max": 1,
       "style": "IPY_MODEL_9820cfc534174ca6ac009f2cb44c3cc7",
       "value": 1
      }
     },
     "6005b6c151f54468afc196e5145c8b3d": {
      "model_module": "@jupyter-widgets/controls",
      "model_module_version": "1.5.0",
      "model_name": "HBoxModel",
      "state": {
       "children": [
        "IPY_MODEL_a43ebf849a914fdc862dad5811728f94",
        "IPY_MODEL_527c894b71164ab2a2329cd3f444187a"
       ],
       "layout": "IPY_MODEL_914401305e7b438aa824e77bfb7555b3"
      }
     },
     "60062658c3844988a2db889341f8b553": {
      "model_module": "@jupyter-widgets/controls",
      "model_module_version": "1.5.0",
      "model_name": "HTMLModel",
      "state": {
       "layout": "IPY_MODEL_2182af2a09f0442991b8d7bd44c43406",
       "style": "IPY_MODEL_465300c10d9c4bab8fac0cff624fc05d",
       "value": " 157/157 [22:31&lt;00:00,  8.61s/it]"
      }
     },
     "602dd7b9cfad4ae291dcfe306e05f46a": {
      "model_module": "@jupyter-widgets/controls",
      "model_module_version": "1.5.0",
      "model_name": "DescriptionStyleModel",
      "state": {
       "description_width": ""
      }
     },
     "6042e0c3b94b470f9e4b7d6f94abd943": {
      "model_module": "@jupyter-widgets/base",
      "model_module_version": "1.2.0",
      "model_name": "LayoutModel",
      "state": {}
     },
     "6086b3f308a849d2acecc7e365c25113": {
      "model_module": "@jupyter-widgets/controls",
      "model_module_version": "1.5.0",
      "model_name": "HBoxModel",
      "state": {
       "children": [
        "IPY_MODEL_0d024ef616904e238bd75bfb9a72566a",
        "IPY_MODEL_ff577b2ee2c7489cbf2fba80009f8f0a"
       ],
       "layout": "IPY_MODEL_682e8813fcd5453b80e7293fad9d35e3"
      }
     },
     "60ef193e7fbe41afa69cc8cd0b4b6609": {
      "model_module": "@jupyter-widgets/controls",
      "model_module_version": "1.5.0",
      "model_name": "HBoxModel",
      "state": {
       "children": [
        "IPY_MODEL_e3c100f197c54f49879d4eff3fa634c5",
        "IPY_MODEL_113b4e9bb0ef4f3da07fd3528c09550c"
       ],
       "layout": "IPY_MODEL_b116af288ddf497b9323a2addf1361ed"
      }
     },
     "6104675317594e409feb247aebc32e88": {
      "model_module": "@jupyter-widgets/controls",
      "model_module_version": "1.5.0",
      "model_name": "FloatProgressModel",
      "state": {
       "bar_style": "success",
       "description": "[2] 12/12(train): 100%",
       "layout": "IPY_MODEL_ab4e3a98d5cf411fb21855ea4c53224e",
       "max": 493,
       "style": "IPY_MODEL_940eec82ddcc495c86cea6e380507c86",
       "value": 493
      }
     },
     "6148b4977fb74a36bba37c1bf173806a": {
      "model_module": "@jupyter-widgets/controls",
      "model_module_version": "1.5.0",
      "model_name": "ProgressStyleModel",
      "state": {
       "description_width": "initial"
      }
     },
     "616c22db31f344c491d31900d8976006": {
      "model_module": "@jupyter-widgets/base",
      "model_module_version": "1.2.0",
      "model_name": "LayoutModel",
      "state": {}
     },
     "618c0d23190f4620ad243043ea4bddb8": {
      "model_module": "@jupyter-widgets/base",
      "model_module_version": "1.2.0",
      "model_name": "LayoutModel",
      "state": {}
     },
     "618efbf8dc204acaae70f836abab6504": {
      "model_module": "@jupyter-widgets/base",
      "model_module_version": "1.2.0",
      "model_name": "LayoutModel",
      "state": {}
     },
     "6195406d107341138a2fd916478c61d8": {
      "model_module": "@jupyter-widgets/controls",
      "model_module_version": "1.5.0",
      "model_name": "HBoxModel",
      "state": {
       "children": [
        "IPY_MODEL_e597ca906ca6456ebfb281a7b0ef5520",
        "IPY_MODEL_d41b85f7e8ed4158997c03898a3b189c"
       ],
       "layout": "IPY_MODEL_48cd28ea0f334d1d99d8c6ea8619db53"
      }
     },
     "61a61644c4ac42f5a40fbb8c5b843537": {
      "model_module": "@jupyter-widgets/controls",
      "model_module_version": "1.5.0",
      "model_name": "FloatProgressModel",
      "state": {
       "bar_style": "success",
       "description": "[2] 6/12(val  ): 100%",
       "layout": "IPY_MODEL_27424055932d422fb97a9e1f8e792eae",
       "max": 157,
       "style": "IPY_MODEL_852617398220487396930c47931e7133",
       "value": 157
      }
     },
     "61b8cf39440d45c1884368a4835ad5d7": {
      "model_module": "@jupyter-widgets/base",
      "model_module_version": "1.2.0",
      "model_name": "LayoutModel",
      "state": {}
     },
     "61d05564928f4a1b96997e52d6df5f00": {
      "model_module": "@jupyter-widgets/base",
      "model_module_version": "1.2.0",
      "model_name": "LayoutModel",
      "state": {}
     },
     "61f0598fce754a17b4084180778e6794": {
      "model_module": "@jupyter-widgets/base",
      "model_module_version": "1.2.0",
      "model_name": "LayoutModel",
      "state": {}
     },
     "61fccbde0e564192bfdac7bb4619e8f5": {
      "model_module": "@jupyter-widgets/controls",
      "model_module_version": "1.5.0",
      "model_name": "HTMLModel",
      "state": {
       "layout": "IPY_MODEL_4619ab6b9470493da0d74ef2e64dabac",
       "style": "IPY_MODEL_0ac28deba7d143b9a244bfd33c35fb00",
       "value": " 165/165 [04:13&lt;00:00,  1.53s/it]"
      }
     },
     "625913998d29419bb9b8937a149ae1dd": {
      "model_module": "@jupyter-widgets/base",
      "model_module_version": "1.2.0",
      "model_name": "LayoutModel",
      "state": {}
     },
     "626181e51a8b432282f87ae22caace55": {
      "model_module": "@jupyter-widgets/controls",
      "model_module_version": "1.5.0",
      "model_name": "ProgressStyleModel",
      "state": {
       "description_width": "initial"
      }
     },
     "626b2f2c8552410bb28fab3b2ead9d57": {
      "model_module": "@jupyter-widgets/base",
      "model_module_version": "1.2.0",
      "model_name": "LayoutModel",
      "state": {}
     },
     "627ee275d64b48059f3444e1327beaf6": {
      "model_module": "@jupyter-widgets/controls",
      "model_module_version": "1.5.0",
      "model_name": "DescriptionStyleModel",
      "state": {
       "description_width": ""
      }
     },
     "628582e6e4624f77b12a55b28aecf1ee": {
      "model_module": "@jupyter-widgets/base",
      "model_module_version": "1.2.0",
      "model_name": "LayoutModel",
      "state": {}
     },
     "6285e77e8cf0478dbfc841cd81d3fc9e": {
      "model_module": "@jupyter-widgets/controls",
      "model_module_version": "1.5.0",
      "model_name": "HBoxModel",
      "state": {
       "children": [
        "IPY_MODEL_48990e87f9df4a00aef01425f31005ec",
        "IPY_MODEL_3788cfabc4bc4211acb700adbf69c762"
       ],
       "layout": "IPY_MODEL_ec4db7b94d554f3db79e69e59fdd75ea"
      }
     },
     "62c5f67a761847dea82f88599ffe3c38": {
      "model_module": "@jupyter-widgets/controls",
      "model_module_version": "1.5.0",
      "model_name": "ProgressStyleModel",
      "state": {
       "description_width": "initial"
      }
     },
     "62d96049c76946a39c4630df8c7f0c74": {
      "model_module": "@jupyter-widgets/controls",
      "model_module_version": "1.5.0",
      "model_name": "ProgressStyleModel",
      "state": {
       "description_width": "initial"
      }
     },
     "630094b5375e42b591bdfbf818f232a8": {
      "model_module": "@jupyter-widgets/controls",
      "model_module_version": "1.5.0",
      "model_name": "ProgressStyleModel",
      "state": {
       "description_width": "initial"
      }
     },
     "632a7f304482409ea5016027ad60af40": {
      "model_module": "@jupyter-widgets/controls",
      "model_module_version": "1.5.0",
      "model_name": "ProgressStyleModel",
      "state": {
       "description_width": "initial"
      }
     },
     "632af95e2c234a56b2c6a415f27bb1e5": {
      "model_module": "@jupyter-widgets/controls",
      "model_module_version": "1.5.0",
      "model_name": "HTMLModel",
      "state": {
       "layout": "IPY_MODEL_75ca543b2b7247808e6798d80092ecc9",
       "style": "IPY_MODEL_1aa680e98eb745448c36b766405fcf93",
       "value": " 157/157 [22:25&lt;00:00,  8.57s/it]"
      }
     },
     "638489ede49f4cda8aba6adc95880c1c": {
      "model_module": "@jupyter-widgets/controls",
      "model_module_version": "1.5.0",
      "model_name": "ProgressStyleModel",
      "state": {
       "description_width": "initial"
      }
     },
     "63bffaf0d4d048079158247ed671ccb6": {
      "model_module": "@jupyter-widgets/base",
      "model_module_version": "1.2.0",
      "model_name": "LayoutModel",
      "state": {}
     },
     "63cf53cd422e4063b22e9f7e3b093bf3": {
      "model_module": "@jupyter-widgets/base",
      "model_module_version": "1.2.0",
      "model_name": "LayoutModel",
      "state": {}
     },
     "63e5fcd0d99245ec8a9374a0680406a5": {
      "model_module": "@jupyter-widgets/base",
      "model_module_version": "1.2.0",
      "model_name": "LayoutModel",
      "state": {}
     },
     "63faafd9e4de4c95819ac4d8d68119da": {
      "model_module": "@jupyter-widgets/base",
      "model_module_version": "1.2.0",
      "model_name": "LayoutModel",
      "state": {}
     },
     "6415271c361e4daca7cac7bbc30d2054": {
      "model_module": "@jupyter-widgets/base",
      "model_module_version": "1.2.0",
      "model_name": "LayoutModel",
      "state": {}
     },
     "6437282a585c4281bcdc696f1143fa16": {
      "model_module": "@jupyter-widgets/base",
      "model_module_version": "1.2.0",
      "model_name": "LayoutModel",
      "state": {}
     },
     "64ab139f094c441f9c783385df43f21c": {
      "model_module": "@jupyter-widgets/controls",
      "model_module_version": "1.5.0",
      "model_name": "HTMLModel",
      "state": {
       "layout": "IPY_MODEL_65ceb76ee7834d5d89364c429225ca2e",
       "style": "IPY_MODEL_ad1a0ca8d6cf4e948d1158ca553b5cb4",
       "value": " 165/165 [11:56&lt;00:00,  4.34s/it]"
      }
     },
     "64cf4f4bba964c30ac43f2423829ec3b": {
      "model_module": "@jupyter-widgets/controls",
      "model_module_version": "1.5.0",
      "model_name": "ProgressStyleModel",
      "state": {
       "description_width": "initial"
      }
     },
     "64d86345a7dc4745b69dad4972ddd275": {
      "model_module": "@jupyter-widgets/controls",
      "model_module_version": "1.5.0",
      "model_name": "FloatProgressModel",
      "state": {
       "bar_style": "success",
       "description": "[0] 3/12(train): 100%",
       "layout": "IPY_MODEL_0e0a9b499a0348ea956f4b73f3b7f13c",
       "max": 469,
       "style": "IPY_MODEL_0af873c48a564c53b9254647be109986",
       "value": 469
      }
     },
     "650685b6becd4b8189e60b3e4770cc61": {
      "model_module": "@jupyter-widgets/base",
      "model_module_version": "1.2.0",
      "model_name": "LayoutModel",
      "state": {}
     },
     "65560681662b44ee99202b9742df6462": {
      "model_module": "@jupyter-widgets/controls",
      "model_module_version": "1.5.0",
      "model_name": "HTMLModel",
      "state": {
       "layout": "IPY_MODEL_b9a7748ba5b640fa9adc40b068cac35f",
       "style": "IPY_MODEL_5cdfab486a2946248205fd16a80cbb23",
       "value": " 469/469 [1:31:47&lt;00:00, 11.74s/it]"
      }
     },
     "65b86035f16f4e3099dde15f4512497d": {
      "model_module": "@jupyter-widgets/controls",
      "model_module_version": "1.5.0",
      "model_name": "FloatProgressModel",
      "state": {
       "bar_style": "success",
       "description": "[2] 10/12(val  ): 100%",
       "layout": "IPY_MODEL_774b158642074eb5aacd919fce0e584c",
       "max": 157,
       "style": "IPY_MODEL_144c1092ebac41c8958e81a08a821134",
       "value": 157
      }
     },
     "65bf0e7864ef4e0282659eb2e8d06881": {
      "model_module": "@jupyter-widgets/base",
      "model_module_version": "1.2.0",
      "model_name": "LayoutModel",
      "state": {}
     },
     "65c82bec228b4097a7165524c6cf3a63": {
      "model_module": "@jupyter-widgets/controls",
      "model_module_version": "1.5.0",
      "model_name": "ProgressStyleModel",
      "state": {
       "description_width": "initial"
      }
     },
     "65ceb76ee7834d5d89364c429225ca2e": {
      "model_module": "@jupyter-widgets/base",
      "model_module_version": "1.2.0",
      "model_name": "LayoutModel",
      "state": {}
     },
     "65faac058e2448e69b3e6d6f8b2dad68": {
      "model_module": "@jupyter-widgets/base",
      "model_module_version": "1.2.0",
      "model_name": "LayoutModel",
      "state": {}
     },
     "6638829f9e494a299a056f1b36bfc689": {
      "model_module": "@jupyter-widgets/base",
      "model_module_version": "1.2.0",
      "model_name": "LayoutModel",
      "state": {}
     },
     "67112642de4342fd9ddd5b24a8cf7dd5": {
      "model_module": "@jupyter-widgets/base",
      "model_module_version": "1.2.0",
      "model_name": "LayoutModel",
      "state": {}
     },
     "6723c079cf484e48a5b05adb1895a5e6": {
      "model_module": "@jupyter-widgets/base",
      "model_module_version": "1.2.0",
      "model_name": "LayoutModel",
      "state": {}
     },
     "674952a433aa464d81dbbcbd9ff1e1bc": {
      "model_module": "@jupyter-widgets/controls",
      "model_module_version": "1.5.0",
      "model_name": "ProgressStyleModel",
      "state": {
       "description_width": "initial"
      }
     },
     "678c711fd8b14e1baf930914d5cb487c": {
      "model_module": "@jupyter-widgets/base",
      "model_module_version": "1.2.0",
      "model_name": "LayoutModel",
      "state": {}
     },
     "67a5fd959cbb4d728a700eca943cfc7d": {
      "model_module": "@jupyter-widgets/base",
      "model_module_version": "1.2.0",
      "model_name": "LayoutModel",
      "state": {}
     },
     "67c787fcc5674043aece8ad0c9230c62": {
      "model_module": "@jupyter-widgets/controls",
      "model_module_version": "1.5.0",
      "model_name": "HTMLModel",
      "state": {
       "layout": "IPY_MODEL_d0a4831d74504f33a12d07a4f543b532",
       "style": "IPY_MODEL_0822f15619674a41abc2f01b5e91d742",
       "value": " 157/157 [24:00&lt;00:00,  9.18s/it]"
      }
     },
     "67f0549931f448c18f5aaa3dbd2fc6a0": {
      "model_module": "@jupyter-widgets/base",
      "model_module_version": "1.2.0",
      "model_name": "LayoutModel",
      "state": {}
     },
     "682e8813fcd5453b80e7293fad9d35e3": {
      "model_module": "@jupyter-widgets/base",
      "model_module_version": "1.2.0",
      "model_name": "LayoutModel",
      "state": {}
     },
     "682f539521fe4eecb2166c239c99545d": {
      "model_module": "@jupyter-widgets/controls",
      "model_module_version": "1.5.0",
      "model_name": "DescriptionStyleModel",
      "state": {
       "description_width": ""
      }
     },
     "6846e5a6c0d34d9bae28aaabe601ae2d": {
      "model_module": "@jupyter-widgets/controls",
      "model_module_version": "1.5.0",
      "model_name": "HBoxModel",
      "state": {
       "children": [
        "IPY_MODEL_f1d18e6021ed413db17c6b57e6a82ecb",
        "IPY_MODEL_79f75cf4ae5d4e34b9a6ae77ac35f4b2"
       ],
       "layout": "IPY_MODEL_dbe1cc6478264d4bb0fab64f4e16f576"
      }
     },
     "6852570362bc444ca65f33dd592ceff2": {
      "model_module": "@jupyter-widgets/base",
      "model_module_version": "1.2.0",
      "model_name": "LayoutModel",
      "state": {}
     },
     "6854d505c5b745dda5e3a515b9e23541": {
      "model_module": "@jupyter-widgets/controls",
      "model_module_version": "1.5.0",
      "model_name": "ProgressStyleModel",
      "state": {
       "description_width": "initial"
      }
     },
     "688329e8286b4b298e9c89e780ebd8aa": {
      "model_module": "@jupyter-widgets/base",
      "model_module_version": "1.2.0",
      "model_name": "LayoutModel",
      "state": {}
     },
     "68b4ebcdbe12484b90e6bbce67e7c020": {
      "model_module": "@jupyter-widgets/base",
      "model_module_version": "1.2.0",
      "model_name": "LayoutModel",
      "state": {}
     },
     "68c086d7a4b44b7d99b7d28cc91ff65b": {
      "model_module": "@jupyter-widgets/controls",
      "model_module_version": "1.5.0",
      "model_name": "ProgressStyleModel",
      "state": {
       "description_width": "initial"
      }
     },
     "68ce5b270eb84fe9b256d2971b9ee7b8": {
      "model_module": "@jupyter-widgets/controls",
      "model_module_version": "1.5.0",
      "model_name": "FloatProgressModel",
      "state": {
       "bar_style": "success",
       "description": "[3] 6/12(val  ): 100%",
       "layout": "IPY_MODEL_837a2fef289f4cf0ae4b46e529a16035",
       "max": 157,
       "style": "IPY_MODEL_91049d5927e6473fa046442b42abb12a",
       "value": 157
      }
     },
     "68f1fed190f643e4a871a53ac6d2092e": {
      "model_module": "@jupyter-widgets/controls",
      "model_module_version": "1.5.0",
      "model_name": "DescriptionStyleModel",
      "state": {
       "description_width": ""
      }
     },
     "6927c8293fa74234abc1dba326088845": {
      "model_module": "@jupyter-widgets/controls",
      "model_module_version": "1.5.0",
      "model_name": "ProgressStyleModel",
      "state": {
       "description_width": "initial"
      }
     },
     "693bf16fa7ad4c93a5a503040d20fbb2": {
      "model_module": "@jupyter-widgets/controls",
      "model_module_version": "1.5.0",
      "model_name": "HTMLModel",
      "state": {
       "layout": "IPY_MODEL_b0f1e203a2304af4975eeab6c337831c",
       "style": "IPY_MODEL_8da47edb0d7b445b9b396c82ba671002",
       "value": " 493/493 [45:59&lt;00:00,  5.60s/it]"
      }
     },
     "697dd75e4022465db0a4e94ac7aa108f": {
      "model_module": "@jupyter-widgets/base",
      "model_module_version": "1.2.0",
      "model_name": "LayoutModel",
      "state": {}
     },
     "698822326ed1438aade33bc90f8d97fe": {
      "model_module": "@jupyter-widgets/controls",
      "model_module_version": "1.5.0",
      "model_name": "HTMLModel",
      "state": {
       "layout": "IPY_MODEL_04bd64dd24ce4333b38e6ac04b1e7ac4",
       "style": "IPY_MODEL_166518a5db824d1d96a21feba6be9e1e",
       "value": " 493/493 [45:35&lt;00:00,  5.55s/it]"
      }
     },
     "698a32dc4d2840f9a831f19e9b2e50e3": {
      "model_module": "@jupyter-widgets/controls",
      "model_module_version": "1.5.0",
      "model_name": "ProgressStyleModel",
      "state": {
       "description_width": "initial"
      }
     },
     "699c56cb46f647518b6a857d9cb984c7": {
      "model_module": "@jupyter-widgets/controls",
      "model_module_version": "1.5.0",
      "model_name": "HBoxModel",
      "state": {
       "children": [
        "IPY_MODEL_98601030cbdf49d7b52a8cb49fcdaa44",
        "IPY_MODEL_894d66322f884882bd1ee7fe633e94a4"
       ],
       "layout": "IPY_MODEL_43844a12c0b748748f4b48801ddd1599"
      }
     },
     "6a106cf52f04432f90796b957b1d1240": {
      "model_module": "@jupyter-widgets/controls",
      "model_module_version": "1.5.0",
      "model_name": "DescriptionStyleModel",
      "state": {
       "description_width": ""
      }
     },
     "6a3c877a951c4d6cbeecee83478f3a3d": {
      "model_module": "@jupyter-widgets/controls",
      "model_module_version": "1.5.0",
      "model_name": "HTMLModel",
      "state": {
       "layout": "IPY_MODEL_28fa272748db4b1e9d9ef37f96467474",
       "style": "IPY_MODEL_a888408f06f34edfa5bc773c7afa2a25",
       "value": " 157/157 [23:46&lt;00:00,  9.09s/it]"
      }
     },
     "6a3d7757559242d094c2e50d4b5d8366": {
      "model_module": "@jupyter-widgets/base",
      "model_module_version": "1.2.0",
      "model_name": "LayoutModel",
      "state": {}
     },
     "6a72291bd6f7458990796d946c39855c": {
      "model_module": "@jupyter-widgets/controls",
      "model_module_version": "1.5.0",
      "model_name": "FloatProgressModel",
      "state": {
       "bar_style": "success",
       "description": "[2] 5/12(val  ): 100%",
       "layout": "IPY_MODEL_5abd73e7b492488c9a78d35195172cac",
       "max": 165,
       "style": "IPY_MODEL_88241c790b9c448fb05230071ce7e157",
       "value": 165
      }
     },
     "6a7b17d6e3e344ba982b82e64a175dab": {
      "model_module": "@jupyter-widgets/base",
      "model_module_version": "1.2.0",
      "model_name": "LayoutModel",
      "state": {}
     },
     "6a810393cc30458b9fa020dea0f630e4": {
      "model_module": "@jupyter-widgets/controls",
      "model_module_version": "1.5.0",
      "model_name": "HBoxModel",
      "state": {
       "children": [
        "IPY_MODEL_352c3b1a45864cd2814a4fe66112c9f8",
        "IPY_MODEL_dad80cfcc4124fdfa09daaadbee9e0df"
       ],
       "layout": "IPY_MODEL_ca1ca5150f634ca88179c4e903f811f8"
      }
     },
     "6a8bc8eba0c9486ab54c635762328036": {
      "model_module": "@jupyter-widgets/controls",
      "model_module_version": "1.5.0",
      "model_name": "HBoxModel",
      "state": {
       "children": [
        "IPY_MODEL_eb46bf50e4a24d32af5501a02c769c16",
        "IPY_MODEL_ca658b538a954911b04c045850750bb1"
       ],
       "layout": "IPY_MODEL_1266fff0928645e9a773e03b1a19c915"
      }
     },
     "6a931c8495b64916ad0f22437118269f": {
      "model_module": "@jupyter-widgets/controls",
      "model_module_version": "1.5.0",
      "model_name": "ProgressStyleModel",
      "state": {
       "description_width": "initial"
      }
     },
     "6ac68d62f15d459bbaee2292e4613618": {
      "model_module": "@jupyter-widgets/controls",
      "model_module_version": "1.5.0",
      "model_name": "HTMLModel",
      "state": {
       "layout": "IPY_MODEL_8952dd923d1d4144825ce0c914dd6c32",
       "style": "IPY_MODEL_e254e7da788d48329e2b2f76e972d090",
       "value": " 469/469 [17:04:29&lt;00:00, 131.07s/it]"
      }
     },
     "6ad7250b1d3d4e60b7152cee41320b4d": {
      "model_module": "@jupyter-widgets/controls",
      "model_module_version": "1.5.0",
      "model_name": "FloatProgressModel",
      "state": {
       "bar_style": "success",
       "description": "[3] 7/12(val  ): 100%",
       "layout": "IPY_MODEL_6042e0c3b94b470f9e4b7d6f94abd943",
       "max": 165,
       "style": "IPY_MODEL_638489ede49f4cda8aba6adc95880c1c",
       "value": 165
      }
     },
     "6b06ed9d87574fd58b14025e2afba9b3": {
      "model_module": "@jupyter-widgets/controls",
      "model_module_version": "1.5.0",
      "model_name": "DescriptionStyleModel",
      "state": {
       "description_width": ""
      }
     },
     "6b33357d870548efbdd9a0d1254a3ebc": {
      "model_module": "@jupyter-widgets/base",
      "model_module_version": "1.2.0",
      "model_name": "LayoutModel",
      "state": {}
     },
     "6b643d11864b4153b7638a50826511e5": {
      "model_module": "@jupyter-widgets/base",
      "model_module_version": "1.2.0",
      "model_name": "LayoutModel",
      "state": {}
     },
     "6b7cd8ff840748298a63563def2b2c98": {
      "model_module": "@jupyter-widgets/controls",
      "model_module_version": "1.5.0",
      "model_name": "HTMLModel",
      "state": {
       "layout": "IPY_MODEL_5ec81431df7646caac0fbcdde227cf3d",
       "style": "IPY_MODEL_9ff43a00070c40a68d0dcaa05eeb3c81",
       "value": " 157/157 [22:27&lt;00:00,  8.58s/it]"
      }
     },
     "6be1d188632c452c9568a12aa92ae515": {
      "model_module": "@jupyter-widgets/base",
      "model_module_version": "1.2.0",
      "model_name": "LayoutModel",
      "state": {}
     },
     "6c0552e59f9d49e6b8f8bb19ff1c1feb": {
      "model_module": "@jupyter-widgets/controls",
      "model_module_version": "1.5.0",
      "model_name": "HTMLModel",
      "state": {
       "layout": "IPY_MODEL_d52347c6105f49a0b28e1206f464d2f4",
       "style": "IPY_MODEL_9d246ede454f4ae38fa9ea042f2c68a3",
       "value": " 1/1 [00:11&lt;00:00, 11.72s/it]"
      }
     },
     "6c764436a66444c79d0f63d9b74a0606": {
      "model_module": "@jupyter-widgets/base",
      "model_module_version": "1.2.0",
      "model_name": "LayoutModel",
      "state": {}
     },
     "6ce06d06ffaf446fb5ca451160aef622": {
      "model_module": "@jupyter-widgets/base",
      "model_module_version": "1.2.0",
      "model_name": "LayoutModel",
      "state": {}
     },
     "6cf9b9d43e124e1293cf559504db803e": {
      "model_module": "@jupyter-widgets/base",
      "model_module_version": "1.2.0",
      "model_name": "LayoutModel",
      "state": {}
     },
     "6d6133487161434eb85fa673c73f92fb": {
      "model_module": "@jupyter-widgets/controls",
      "model_module_version": "1.5.0",
      "model_name": "HBoxModel",
      "state": {
       "children": [
        "IPY_MODEL_25f572cf57fe4f9c85ff72cdbf2f7355",
        "IPY_MODEL_920590c6176141e8be05774a50e2bf49"
       ],
       "layout": "IPY_MODEL_ad7844fedda544418e2db12211ff5932"
      }
     },
     "6d8459eec31745b2b5761933f5d8f5fc": {
      "model_module": "@jupyter-widgets/controls",
      "model_module_version": "1.5.0",
      "model_name": "HTMLModel",
      "state": {
       "layout": "IPY_MODEL_fba08208b48b4bea9818a863f05ef2a0",
       "style": "IPY_MODEL_fe43e97859664239a614ac112aaa6a29",
       "value": " 157/157 [26:42&lt;00:00, 10.21s/it]"
      }
     },
     "6d898966c92b4644a62716c00d210d28": {
      "model_module": "@jupyter-widgets/base",
      "model_module_version": "1.2.0",
      "model_name": "LayoutModel",
      "state": {}
     },
     "6d99dad05f084421b06ae219d2f4f805": {
      "model_module": "@jupyter-widgets/controls",
      "model_module_version": "1.5.0",
      "model_name": "FloatProgressModel",
      "state": {
       "bar_style": "success",
       "description": "[3] 2/12(val  ): 100%",
       "layout": "IPY_MODEL_6a3d7757559242d094c2e50d4b5d8366",
       "max": 165,
       "style": "IPY_MODEL_a911395a99e3438ea430691f35e81263",
       "value": 165
      }
     },
     "6dae3b1c75044679a256271de8007d53": {
      "model_module": "@jupyter-widgets/controls",
      "model_module_version": "1.5.0",
      "model_name": "ProgressStyleModel",
      "state": {
       "description_width": "initial"
      }
     },
     "6e5205a70b47461fb8786100536bd911": {
      "model_module": "@jupyter-widgets/controls",
      "model_module_version": "1.5.0",
      "model_name": "DescriptionStyleModel",
      "state": {
       "description_width": ""
      }
     },
     "6e551d591f00466086ab283fcea96018": {
      "model_module": "@jupyter-widgets/controls",
      "model_module_version": "1.5.0",
      "model_name": "ProgressStyleModel",
      "state": {
       "description_width": "initial"
      }
     },
     "6e5c63b4cfce4ef6a03832e1c4cb317f": {
      "model_module": "@jupyter-widgets/controls",
      "model_module_version": "1.5.0",
      "model_name": "DescriptionStyleModel",
      "state": {
       "description_width": ""
      }
     },
     "6e9084b15bfa4b71a57c4a9097f8bcf9": {
      "model_module": "@jupyter-widgets/base",
      "model_module_version": "1.2.0",
      "model_name": "LayoutModel",
      "state": {}
     },
     "6ee8f83b14ec41f29ad93c4aa971d85d": {
      "model_module": "@jupyter-widgets/base",
      "model_module_version": "1.2.0",
      "model_name": "LayoutModel",
      "state": {}
     },
     "6ef995af52fb4a949002238c766a2b9d": {
      "model_module": "@jupyter-widgets/controls",
      "model_module_version": "1.5.0",
      "model_name": "HBoxModel",
      "state": {
       "children": [
        "IPY_MODEL_cba8e25c9a9a4747851bc9b582e55104",
        "IPY_MODEL_4c206f6316a646539bc33d71ed991f86"
       ],
       "layout": "IPY_MODEL_4a3736c434324000bedd962aef9f45b6"
      }
     },
     "6f3b5a590d134a1d9f3fb0a1d80e70f7": {
      "model_module": "@jupyter-widgets/controls",
      "model_module_version": "1.5.0",
      "model_name": "HTMLModel",
      "state": {
       "layout": "IPY_MODEL_ee538487403a4999bc078a8b7b13c8a5",
       "style": "IPY_MODEL_94516d5d4a834c8e94a8d39498317c44",
       "value": " 165/165 [16:55&lt;00:00,  6.15s/it]"
      }
     },
     "6f3b91d684f0480b93a30d943ad7860c": {
      "model_module": "@jupyter-widgets/controls",
      "model_module_version": "1.5.0",
      "model_name": "HTMLModel",
      "state": {
       "layout": "IPY_MODEL_1cb1d28775ff472ab62fb5945c25b291",
       "style": "IPY_MODEL_98dc82655fa4456ab14f8695651c9877",
       "value": " 165/165 [11:00&lt;00:00,  4.00s/it]"
      }
     },
     "6f443f3722bb44a0b2ee2e295dfe69f8": {
      "model_module": "@jupyter-widgets/controls",
      "model_module_version": "1.5.0",
      "model_name": "HBoxModel",
      "state": {
       "children": [
        "IPY_MODEL_a242e6d90266409ea193c3783cdaecef",
        "IPY_MODEL_d607e4a45f3946b982100a9021e764f9"
       ],
       "layout": "IPY_MODEL_04eb2b6ec9dc45a8b628ec5f3684842d"
      }
     },
     "6f4ae7fd3e374a88b054895bce3421af": {
      "model_module": "@jupyter-widgets/controls",
      "model_module_version": "1.5.0",
      "model_name": "FloatProgressModel",
      "state": {
       "bar_style": "success",
       "description": "[1] 2/12(val  ): 100%",
       "layout": "IPY_MODEL_05feb266f41a4597ab4bfbef3e84d610",
       "max": 165,
       "style": "IPY_MODEL_7e8a9c5e418e40b0a6696c571e72b950",
       "value": 165
      }
     },
     "6f4c758ecdde41b3bb942ddbacf5d00e": {
      "model_module": "@jupyter-widgets/controls",
      "model_module_version": "1.5.0",
      "model_name": "FloatProgressModel",
      "state": {
       "bar_style": "success",
       "description": "[2] 1/12(val  ): 100%",
       "layout": "IPY_MODEL_22a4394f77644bc999d328890eb3ff88",
       "max": 157,
       "style": "IPY_MODEL_a52dcee07b764c9d98676522fb82bb32",
       "value": 157
      }
     },
     "6f5f33afb51c4795b6c03b4100dfc99d": {
      "model_module": "@jupyter-widgets/base",
      "model_module_version": "1.2.0",
      "model_name": "LayoutModel",
      "state": {}
     },
     "6f6e9ae8f7584768b8a96b880e6e5d8d": {
      "model_module": "@jupyter-widgets/controls",
      "model_module_version": "1.5.0",
      "model_name": "HBoxModel",
      "state": {
       "children": [
        "IPY_MODEL_7e2296d6a79b436cb79bd5c73aeb1e6c",
        "IPY_MODEL_cf805aa8cf5b4161ba3be70cbd2e1099"
       ],
       "layout": "IPY_MODEL_d8f02586a58848e8b9e3a48d947ac3fc"
      }
     },
     "6f709d7b047c470ba65bb1efbb1a48aa": {
      "model_module": "@jupyter-widgets/base",
      "model_module_version": "1.2.0",
      "model_name": "LayoutModel",
      "state": {}
     },
     "6f7e91fa0ba841caa1af1ad229093299": {
      "model_module": "@jupyter-widgets/controls",
      "model_module_version": "1.5.0",
      "model_name": "FloatProgressModel",
      "state": {
       "bar_style": "success",
       "description": "[3] 12/12(train): 100%",
       "layout": "IPY_MODEL_2210339ff12e4e89b4fab748929aadb1",
       "max": 469,
       "style": "IPY_MODEL_8457450a7613451a90810ce5b71b1499",
       "value": 469
      }
     },
     "6f89f4c51d4a4568a02435852a4203eb": {
      "model_module": "@jupyter-widgets/base",
      "model_module_version": "1.2.0",
      "model_name": "LayoutModel",
      "state": {}
     },
     "702c3daa4aea43429496825dd6bd613d": {
      "model_module": "@jupyter-widgets/base",
      "model_module_version": "1.2.0",
      "model_name": "LayoutModel",
      "state": {}
     },
     "709f108a915149c381299449c2edfec2": {
      "model_module": "@jupyter-widgets/controls",
      "model_module_version": "1.5.0",
      "model_name": "ProgressStyleModel",
      "state": {
       "description_width": "initial"
      }
     },
     "70b27f4b297d454cb5122bfb7a0f74d9": {
      "model_module": "@jupyter-widgets/controls",
      "model_module_version": "1.5.0",
      "model_name": "HTMLModel",
      "state": {
       "layout": "IPY_MODEL_fc1897b8a865460cace3757004da4d10",
       "style": "IPY_MODEL_6b06ed9d87574fd58b14025e2afba9b3",
       "value": " 157/157 [22:00&lt;00:00,  8.41s/it]"
      }
     },
     "7111745bae43442d89f661381e9a1da8": {
      "model_module": "@jupyter-widgets/base",
      "model_module_version": "1.2.0",
      "model_name": "LayoutModel",
      "state": {}
     },
     "712a1f85dfbc46f7a38e7ff158348800": {
      "model_module": "@jupyter-widgets/controls",
      "model_module_version": "1.5.0",
      "model_name": "DescriptionStyleModel",
      "state": {
       "description_width": ""
      }
     },
     "71570a913fd74df6b745e7b444a95625": {
      "model_module": "@jupyter-widgets/base",
      "model_module_version": "1.2.0",
      "model_name": "LayoutModel",
      "state": {}
     },
     "71665602be0345a5bcb99b633a779bc3": {
      "model_module": "@jupyter-widgets/base",
      "model_module_version": "1.2.0",
      "model_name": "LayoutModel",
      "state": {}
     },
     "7187c8eebdb54f18a95746f65a1645e0": {
      "model_module": "@jupyter-widgets/base",
      "model_module_version": "1.2.0",
      "model_name": "LayoutModel",
      "state": {}
     },
     "718ed66c7eb9426ebb621cf42832e3f9": {
      "model_module": "@jupyter-widgets/controls",
      "model_module_version": "1.5.0",
      "model_name": "HTMLModel",
      "state": {
       "layout": "IPY_MODEL_299463d9907d436b8a4f217b040fa231",
       "style": "IPY_MODEL_bf4f6287a4d5432380ca9d390ea92c6c",
       "value": " 165/165 [46:50&lt;00:00, 17.03s/it]"
      }
     },
     "71b7f31e0d164b19a6edc94d7c020d5c": {
      "model_module": "@jupyter-widgets/base",
      "model_module_version": "1.2.0",
      "model_name": "LayoutModel",
      "state": {}
     },
     "71c6e34fb58b4b9ab6fdba0365172e74": {
      "model_module": "@jupyter-widgets/controls",
      "model_module_version": "1.5.0",
      "model_name": "FloatProgressModel",
      "state": {
       "bar_style": "success",
       "description": "[3] 7/12(train): 100%",
       "layout": "IPY_MODEL_8de5ce14cb6545c3be1f3368540348fc",
       "max": 493,
       "style": "IPY_MODEL_0c49fcc0ae3844de8224c3f4ef98a22b",
       "value": 493
      }
     },
     "71e74787cf5e4bc9a8d21b0c53e9a232": {
      "model_module": "@jupyter-widgets/controls",
      "model_module_version": "1.5.0",
      "model_name": "HTMLModel",
      "state": {
       "layout": "IPY_MODEL_5863e3821804485db7b8ed3753bfa499",
       "style": "IPY_MODEL_72ffd1c5c03e4c56b163a350871df94c",
       "value": " 157/157 [13:49&lt;00:00,  5.28s/it]"
      }
     },
     "72d65627b1ee4678ac028252f77c73c9": {
      "model_module": "@jupyter-widgets/base",
      "model_module_version": "1.2.0",
      "model_name": "LayoutModel",
      "state": {}
     },
     "72f7bc25acea4b01836bccf10ddb5fc2": {
      "model_module": "@jupyter-widgets/controls",
      "model_module_version": "1.5.0",
      "model_name": "HTMLModel",
      "state": {
       "layout": "IPY_MODEL_fefd3fb2691f4b9abe072246d9f93034",
       "style": "IPY_MODEL_bcd94ff65f7f485987c85cb962fdfdcb",
       "value": " 493/493 [37:02&lt;00:00,  4.51s/it]"
      }
     },
     "72ffd1c5c03e4c56b163a350871df94c": {
      "model_module": "@jupyter-widgets/controls",
      "model_module_version": "1.5.0",
      "model_name": "DescriptionStyleModel",
      "state": {
       "description_width": ""
      }
     },
     "731a794e884d4e6a823e3b1b02810cd3": {
      "model_module": "@jupyter-widgets/base",
      "model_module_version": "1.2.0",
      "model_name": "LayoutModel",
      "state": {}
     },
     "732bdaa7c23540a9b7c43efe57d66037": {
      "model_module": "@jupyter-widgets/base",
      "model_module_version": "1.2.0",
      "model_name": "LayoutModel",
      "state": {}
     },
     "735d76634d0e4f12906dc95d4fb2e2ff": {
      "model_module": "@jupyter-widgets/controls",
      "model_module_version": "1.5.0",
      "model_name": "HBoxModel",
      "state": {
       "children": [
        "IPY_MODEL_428fb899c0eb4e5f96c22fef4d593378",
        "IPY_MODEL_9f6b6d38bd7d430cad557cf5ac5252a5"
       ],
       "layout": "IPY_MODEL_2f1f2fc3384542c68050e0d87aeb8dd1"
      }
     },
     "73a04d9c53814159a7c10c8e8a66ff67": {
      "model_module": "@jupyter-widgets/controls",
      "model_module_version": "1.5.0",
      "model_name": "HBoxModel",
      "state": {
       "children": [
        "IPY_MODEL_f38406e747cb4e4b892cccfe38056848",
        "IPY_MODEL_c7ebd66088d14fe79e4518b6a644b785"
       ],
       "layout": "IPY_MODEL_67a5fd959cbb4d728a700eca943cfc7d"
      }
     },
     "741d68847b1d46ff8aafdcd0e2615886": {
      "model_module": "@jupyter-widgets/base",
      "model_module_version": "1.2.0",
      "model_name": "LayoutModel",
      "state": {}
     },
     "7432d839e4e143d9ad6647ef7c7abec8": {
      "model_module": "@jupyter-widgets/controls",
      "model_module_version": "1.5.0",
      "model_name": "HTMLModel",
      "state": {
       "layout": "IPY_MODEL_0f320048174d443eb6c3aa8d28c799b7",
       "style": "IPY_MODEL_465271155db348d9b25afee6cf9b4baa",
       "value": " 493/493 [46:15&lt;00:00,  5.63s/it]"
      }
     },
     "743c6e56b1324adbab44594dc790d29b": {
      "model_module": "@jupyter-widgets/base",
      "model_module_version": "1.2.0",
      "model_name": "LayoutModel",
      "state": {}
     },
     "749a55f8d8da4a18891bc3eabc7e9e9c": {
      "model_module": "@jupyter-widgets/base",
      "model_module_version": "1.2.0",
      "model_name": "LayoutModel",
      "state": {}
     },
     "74a76cb373904554ab31f78c8664433d": {
      "model_module": "@jupyter-widgets/controls",
      "model_module_version": "1.5.0",
      "model_name": "DescriptionStyleModel",
      "state": {
       "description_width": ""
      }
     },
     "74af153f2bff45fcb6bfe597627af3bd": {
      "model_module": "@jupyter-widgets/controls",
      "model_module_version": "1.5.0",
      "model_name": "HBoxModel",
      "state": {
       "children": [
        "IPY_MODEL_136d4587032140b28fae0259a9d83d3b",
        "IPY_MODEL_6b7cd8ff840748298a63563def2b2c98"
       ],
       "layout": "IPY_MODEL_8285255fc76f4f33bdcc428190526f94"
      }
     },
     "74e10fba23ec4564b578bbee53f3c7fb": {
      "model_module": "@jupyter-widgets/base",
      "model_module_version": "1.2.0",
      "model_name": "LayoutModel",
      "state": {}
     },
     "74f2d01e6d8244b4bdc08f19c14297ae": {
      "model_module": "@jupyter-widgets/controls",
      "model_module_version": "1.5.0",
      "model_name": "HTMLModel",
      "state": {
       "layout": "IPY_MODEL_88af9e35f8ad49588d4b1063e913e023",
       "style": "IPY_MODEL_ae0502a4472e405d97a12359bbe2c204",
       "value": " 165/165 [7:47:02&lt;00:00, 169.84s/it]"
      }
     },
     "7515c375ff8849e5af6f9071e433fe86": {
      "model_module": "@jupyter-widgets/base",
      "model_module_version": "1.2.0",
      "model_name": "LayoutModel",
      "state": {}
     },
     "7545c4ddae194808a99404770ebaffda": {
      "model_module": "@jupyter-widgets/controls",
      "model_module_version": "1.5.0",
      "model_name": "FloatProgressModel",
      "state": {
       "bar_style": "success",
       "description": "[3] 1/12(val  ): 100%",
       "layout": "IPY_MODEL_8a63bf87d9934809aff19730d318415a",
       "max": 157,
       "style": "IPY_MODEL_4f0428cee1df443abe51442517effd55",
       "value": 157
      }
     },
     "755936556d4e4d738c22da596feed94c": {
      "model_module": "@jupyter-widgets/controls",
      "model_module_version": "1.5.0",
      "model_name": "HTMLModel",
      "state": {
       "layout": "IPY_MODEL_dc4422118947425f8a62e29442844f42",
       "style": "IPY_MODEL_602dd7b9cfad4ae291dcfe306e05f46a",
       "value": " 0/3 [00:00&lt;?, ?it/s]"
      }
     },
     "755993eec727421c8833f51171782f66": {
      "model_module": "@jupyter-widgets/controls",
      "model_module_version": "1.5.0",
      "model_name": "HBoxModel",
      "state": {
       "children": [
        "IPY_MODEL_f2d979adf0ca49bfbfe1c3fe4a321172",
        "IPY_MODEL_ee1f13ddbf6149e7af5df46c8eae175b"
       ],
       "layout": "IPY_MODEL_2c042b644c014dd984d7a86c2d691925"
      }
     },
     "757540ccf485468f92708aa2a9087307": {
      "model_module": "@jupyter-widgets/base",
      "model_module_version": "1.2.0",
      "model_name": "LayoutModel",
      "state": {}
     },
     "759746388863481b937c81a0a014f195": {
      "model_module": "@jupyter-widgets/base",
      "model_module_version": "1.2.0",
      "model_name": "LayoutModel",
      "state": {}
     },
     "75ca543b2b7247808e6798d80092ecc9": {
      "model_module": "@jupyter-widgets/base",
      "model_module_version": "1.2.0",
      "model_name": "LayoutModel",
      "state": {}
     },
     "75cb28058be84f44a366d2e388b27660": {
      "model_module": "@jupyter-widgets/base",
      "model_module_version": "1.2.0",
      "model_name": "LayoutModel",
      "state": {}
     },
     "75e4063276d848c7950a9b97978d5c1c": {
      "model_module": "@jupyter-widgets/controls",
      "model_module_version": "1.5.0",
      "model_name": "FloatProgressModel",
      "state": {
       "bar_style": "success",
       "description": "[0] 12/12(train): 100%",
       "layout": "IPY_MODEL_d22726c998494997854fb91c926c269b",
       "max": 493,
       "style": "IPY_MODEL_630094b5375e42b591bdfbf818f232a8",
       "value": 493
      }
     },
     "762267255d4c4d2fa181818c8be93ad8": {
      "model_module": "@jupyter-widgets/base",
      "model_module_version": "1.2.0",
      "model_name": "LayoutModel",
      "state": {}
     },
     "767adcd31f634958a06dd1c0da0faf19": {
      "model_module": "@jupyter-widgets/controls",
      "model_module_version": "1.5.0",
      "model_name": "ProgressStyleModel",
      "state": {
       "description_width": "initial"
      }
     },
     "7692e842c45f4abf9f0c3f61fffb185b": {
      "model_module": "@jupyter-widgets/base",
      "model_module_version": "1.2.0",
      "model_name": "LayoutModel",
      "state": {}
     },
     "769f3cc0f817489d87fecd0bab25af56": {
      "model_module": "@jupyter-widgets/base",
      "model_module_version": "1.2.0",
      "model_name": "LayoutModel",
      "state": {}
     },
     "76d3d975342842ad9273c463d9404823": {
      "model_module": "@jupyter-widgets/base",
      "model_module_version": "1.2.0",
      "model_name": "LayoutModel",
      "state": {}
     },
     "771417f916eb4e4e87afa074256f70a0": {
      "model_module": "@jupyter-widgets/base",
      "model_module_version": "1.2.0",
      "model_name": "LayoutModel",
      "state": {}
     },
     "7728a085cf8d441da512a467a253aa67": {
      "model_module": "@jupyter-widgets/base",
      "model_module_version": "1.2.0",
      "model_name": "LayoutModel",
      "state": {}
     },
     "7739238b2255429a84d97b7baa4fea31": {
      "model_module": "@jupyter-widgets/base",
      "model_module_version": "1.2.0",
      "model_name": "LayoutModel",
      "state": {}
     },
     "774b158642074eb5aacd919fce0e584c": {
      "model_module": "@jupyter-widgets/base",
      "model_module_version": "1.2.0",
      "model_name": "LayoutModel",
      "state": {}
     },
     "779433b599504eda892cff5125fd1391": {
      "model_module": "@jupyter-widgets/controls",
      "model_module_version": "1.5.0",
      "model_name": "FloatProgressModel",
      "state": {
       "bar_style": "success",
       "description": "[3] 4/12(train): 100%",
       "layout": "IPY_MODEL_f65c70576fd1418ea48ea9544fcc916a",
       "max": 493,
       "style": "IPY_MODEL_3c2f49c33b9f432d9c74b0d55d4b77ab",
       "value": 493
      }
     },
     "77aae1512cc64a79adac395e0012d7c7": {
      "model_module": "@jupyter-widgets/controls",
      "model_module_version": "1.5.0",
      "model_name": "HTMLModel",
      "state": {
       "layout": "IPY_MODEL_d7b3083c944e4ae281b02da1a6682994",
       "style": "IPY_MODEL_feceea8d72fb459fbcf1d4a008a6b4b5",
       "value": " 469/469 [1:13:34&lt;00:00,  9.41s/it]"
      }
     },
     "77f72395ba3648d492f066b892b99ac1": {
      "model_module": "@jupyter-widgets/controls",
      "model_module_version": "1.5.0",
      "model_name": "FloatProgressModel",
      "state": {
       "bar_style": "success",
       "description": "[0] 9/12(train): 100%",
       "layout": "IPY_MODEL_5dbdd60cb5814041a0a11aef524df7f1",
       "max": 469,
       "style": "IPY_MODEL_922c5f44dd994a5db7bed31481f565ce",
       "value": 469
      }
     },
     "7800430a8f3f4516992cee4974d6d2a3": {
      "model_module": "@jupyter-widgets/controls",
      "model_module_version": "1.5.0",
      "model_name": "ProgressStyleModel",
      "state": {
       "description_width": "initial"
      }
     },
     "7817f7e99abb4b7f92caba685de63a15": {
      "model_module": "@jupyter-widgets/base",
      "model_module_version": "1.2.0",
      "model_name": "LayoutModel",
      "state": {}
     },
     "783ebf5d494c4a4aa87d7dc61d9d4d9c": {
      "model_module": "@jupyter-widgets/controls",
      "model_module_version": "1.5.0",
      "model_name": "FloatProgressModel",
      "state": {
       "bar_style": "success",
       "description": "100%",
       "layout": "IPY_MODEL_dc98766cd2e8442d8f6288bcc050ce80",
       "max": 165,
       "style": "IPY_MODEL_8cef14577e934587803170a7f23bdea1",
       "value": 165
      }
     },
     "7862955c8af14a0db9a3d7330ffaf391": {
      "model_module": "@jupyter-widgets/base",
      "model_module_version": "1.2.0",
      "model_name": "LayoutModel",
      "state": {}
     },
     "788855b7ed0648e08d9b7c8b6c6e1fc6": {
      "model_module": "@jupyter-widgets/controls",
      "model_module_version": "1.5.0",
      "model_name": "DescriptionStyleModel",
      "state": {
       "description_width": ""
      }
     },
     "788ec105cd144550ac01e08cbad122c9": {
      "model_module": "@jupyter-widgets/base",
      "model_module_version": "1.2.0",
      "model_name": "LayoutModel",
      "state": {}
     },
     "78a049e08f704177b8d3114105782198": {
      "model_module": "@jupyter-widgets/base",
      "model_module_version": "1.2.0",
      "model_name": "LayoutModel",
      "state": {}
     },
     "78ca3a40b4514711a9e5ebd9520295b4": {
      "model_module": "@jupyter-widgets/base",
      "model_module_version": "1.2.0",
      "model_name": "LayoutModel",
      "state": {}
     },
     "78f8958101544bd289cfd87b0b49253b": {
      "model_module": "@jupyter-widgets/base",
      "model_module_version": "1.2.0",
      "model_name": "LayoutModel",
      "state": {}
     },
     "78f9ea02439e491998bd8b3b7301ec3c": {
      "model_module": "@jupyter-widgets/base",
      "model_module_version": "1.2.0",
      "model_name": "LayoutModel",
      "state": {}
     },
     "793063835ce043a786d492895a334141": {
      "model_module": "@jupyter-widgets/controls",
      "model_module_version": "1.5.0",
      "model_name": "ProgressStyleModel",
      "state": {
       "description_width": "initial"
      }
     },
     "7958bcf3cca04a90b54f0eb0d7cf9071": {
      "model_module": "@jupyter-widgets/base",
      "model_module_version": "1.2.0",
      "model_name": "LayoutModel",
      "state": {}
     },
     "7980c978b5a04451a8a2506b7033b634": {
      "model_module": "@jupyter-widgets/controls",
      "model_module_version": "1.5.0",
      "model_name": "FloatProgressModel",
      "state": {
       "bar_style": "success",
       "description": "[1] 11/12(train): 100%",
       "layout": "IPY_MODEL_a2e8dd9519ee4ec58f807af6ea35e7ea",
       "max": 469,
       "style": "IPY_MODEL_c8a709770cfe478a97366225ab285bf8",
       "value": 469
      }
     },
     "79c3deb56b27486cb10ebdf0d6736196": {
      "model_module": "@jupyter-widgets/controls",
      "model_module_version": "1.5.0",
      "model_name": "FloatProgressModel",
      "state": {
       "bar_style": "success",
       "description": "[1] 12/12(train): 100%",
       "layout": "IPY_MODEL_2a0b125ee6f94a419ad6fcad49b8ae38",
       "max": 469,
       "style": "IPY_MODEL_4a4d562bd15948f59036873c955d16a4",
       "value": 469
      }
     },
     "79f75cf4ae5d4e34b9a6ae77ac35f4b2": {
      "model_module": "@jupyter-widgets/controls",
      "model_module_version": "1.5.0",
      "model_name": "HTMLModel",
      "state": {
       "layout": "IPY_MODEL_80ef6154d71f4c93b5ec0d3b2f71978b",
       "style": "IPY_MODEL_3766e61b6c824ac6aee40fdc10b843ed",
       "value": " 165/165 [11:00&lt;00:00,  4.00s/it]"
      }
     },
     "7a0d3a8ceabc4720aff703d3bf0d7909": {
      "model_module": "@jupyter-widgets/controls",
      "model_module_version": "1.5.0",
      "model_name": "FloatProgressModel",
      "state": {
       "bar_style": "success",
       "description": "[3] 1/12(val  ): 100%",
       "layout": "IPY_MODEL_5a9ebcf8669a4feca2e9c0f214077671",
       "max": 165,
       "style": "IPY_MODEL_f1a13208648a42d4a08627340d4f9631",
       "value": 165
      }
     },
     "7a7724f85ad94600ac91c347628db9fb": {
      "model_module": "@jupyter-widgets/controls",
      "model_module_version": "1.5.0",
      "model_name": "HBoxModel",
      "state": {
       "children": [
        "IPY_MODEL_75e4063276d848c7950a9b97978d5c1c",
        "IPY_MODEL_f27bd9b033d54992b4b4a676db4ac5a6"
       ],
       "layout": "IPY_MODEL_aa906f81ea3d4601851ae3021ad18778"
      }
     },
     "7abe567e66a648ddbeb221faa7285660": {
      "model_module": "@jupyter-widgets/controls",
      "model_module_version": "1.5.0",
      "model_name": "FloatProgressModel",
      "state": {
       "bar_style": "success",
       "description": "[0] 5/12(train): 100%",
       "layout": "IPY_MODEL_e6ff9a3f6baf45cf9d1e5870dc570190",
       "max": 469,
       "style": "IPY_MODEL_b4ba532e939a484e95d389c1d225804e",
       "value": 469
      }
     },
     "7b1b26d2e2244b268904681035a05881": {
      "model_module": "@jupyter-widgets/base",
      "model_module_version": "1.2.0",
      "model_name": "LayoutModel",
      "state": {}
     },
     "7b4ca315ae3e415489053149a3fada92": {
      "model_module": "@jupyter-widgets/controls",
      "model_module_version": "1.5.0",
      "model_name": "HTMLModel",
      "state": {
       "layout": "IPY_MODEL_92a22df07e1548b1900bc789374ab99e",
       "style": "IPY_MODEL_6e5205a70b47461fb8786100536bd911",
       "value": " 493/493 [46:28&lt;00:00,  5.66s/it]"
      }
     },
     "7b8893ef38ca4564a3a0e35a31fd9f4d": {
      "model_module": "@jupyter-widgets/controls",
      "model_module_version": "1.5.0",
      "model_name": "DescriptionStyleModel",
      "state": {
       "description_width": ""
      }
     },
     "7bafd8846f7c4090955d42520e702bea": {
      "model_module": "@jupyter-widgets/controls",
      "model_module_version": "1.5.0",
      "model_name": "HBoxModel",
      "state": {
       "children": [
        "IPY_MODEL_55a6097946314ac389bc3309feb50057",
        "IPY_MODEL_eb87fd92693b47068d3a1883e6809114"
       ],
       "layout": "IPY_MODEL_59169accd0644cc5b9ddba376d14187c"
      }
     },
     "7bb62646d1394cd5b2259901f3a416c7": {
      "model_module": "@jupyter-widgets/controls",
      "model_module_version": "1.5.0",
      "model_name": "ProgressStyleModel",
      "state": {
       "description_width": "initial"
      }
     },
     "7bcb795fc7e540e3a3a28baf046f6bb9": {
      "model_module": "@jupyter-widgets/base",
      "model_module_version": "1.2.0",
      "model_name": "LayoutModel",
      "state": {}
     },
     "7c02717c8263411389f7cf1e2bf918fe": {
      "model_module": "@jupyter-widgets/controls",
      "model_module_version": "1.5.0",
      "model_name": "DescriptionStyleModel",
      "state": {
       "description_width": ""
      }
     },
     "7c032a2cb43c48d683803c16b353aa6d": {
      "model_module": "@jupyter-widgets/controls",
      "model_module_version": "1.5.0",
      "model_name": "ProgressStyleModel",
      "state": {
       "description_width": "initial"
      }
     },
     "7c0a28abf759455f80f225586589459d": {
      "model_module": "@jupyter-widgets/controls",
      "model_module_version": "1.5.0",
      "model_name": "HBoxModel",
      "state": {
       "children": [
        "IPY_MODEL_baa8ddfb7092436f90d2b9d78a01eeb4",
        "IPY_MODEL_ce2e9ef9b1dd48a88457dee4a43f74d4"
       ],
       "layout": "IPY_MODEL_a699c4fb6ddc4f6e83ed790f6db4658e"
      }
     },
     "7c0ddf3fbcd74c21a138659690f21de8": {
      "model_module": "@jupyter-widgets/controls",
      "model_module_version": "1.5.0",
      "model_name": "FloatProgressModel",
      "state": {
       "bar_style": "success",
       "description": "[1] 10/12(train): 100%",
       "layout": "IPY_MODEL_788ec105cd144550ac01e08cbad122c9",
       "max": 493,
       "style": "IPY_MODEL_5532e852c6d4401a9cd0120f17ded86e",
       "value": 493
      }
     },
     "7c1da96aba414011bba99009f36b495e": {
      "model_module": "@jupyter-widgets/controls",
      "model_module_version": "1.5.0",
      "model_name": "HTMLModel",
      "state": {
       "layout": "IPY_MODEL_8a32515995f44d08aff47dcca04226f8",
       "style": "IPY_MODEL_9a69cb19c0d2491da1c7b2b2ece0cff9",
       "value": " 0/3 [00:01&lt;?, ?it/s]"
      }
     },
     "7c32f90255f24d0fa0765b008a561cb4": {
      "model_module": "@jupyter-widgets/controls",
      "model_module_version": "1.5.0",
      "model_name": "ProgressStyleModel",
      "state": {
       "description_width": "initial"
      }
     },
     "7c906066e2c243a59d7aaf1086d24d76": {
      "model_module": "@jupyter-widgets/base",
      "model_module_version": "1.2.0",
      "model_name": "LayoutModel",
      "state": {}
     },
     "7cb895ffbcb245c0828378a68d75d0e4": {
      "model_module": "@jupyter-widgets/controls",
      "model_module_version": "1.5.0",
      "model_name": "HBoxModel",
      "state": {
       "children": [
        "IPY_MODEL_45b40aca23264b32bec1f5e213b50349",
        "IPY_MODEL_28f49a85d7ab48bcb425968ab6099e68"
       ],
       "layout": "IPY_MODEL_3b94777792af4bfcaba4fb3ca123ab76"
      }
     },
     "7ccf6b29ad0e457ca052b4e9ed1bec99": {
      "model_module": "@jupyter-widgets/base",
      "model_module_version": "1.2.0",
      "model_name": "LayoutModel",
      "state": {}
     },
     "7ce81ca6dc594160afe105efbdfa8f60": {
      "model_module": "@jupyter-widgets/controls",
      "model_module_version": "1.5.0",
      "model_name": "FloatProgressModel",
      "state": {
       "bar_style": "success",
       "description": "[3] 7/12(train): 100%",
       "layout": "IPY_MODEL_f507036e6fc54e7aad6d808831dfdcdf",
       "max": 469,
       "style": "IPY_MODEL_46286113b7c1443484fb02282128cbfc",
       "value": 469
      }
     },
     "7cf562e3406546e5a44809586b7276b7": {
      "model_module": "@jupyter-widgets/controls",
      "model_module_version": "1.5.0",
      "model_name": "ProgressStyleModel",
      "state": {
       "description_width": "initial"
      }
     },
     "7d01ee00079d4361bb8a3666c760f637": {
      "model_module": "@jupyter-widgets/base",
      "model_module_version": "1.2.0",
      "model_name": "LayoutModel",
      "state": {}
     },
     "7d425931701849238e50b52b27525e0f": {
      "model_module": "@jupyter-widgets/controls",
      "model_module_version": "1.5.0",
      "model_name": "HTMLModel",
      "state": {
       "layout": "IPY_MODEL_f682bfa70a1b436fb7203ea3b071a3d5",
       "style": "IPY_MODEL_abd3fac50231425e86da692acbd42118",
       "value": " 493/493 [5:19:30&lt;00:00, 38.89s/it]"
      }
     },
     "7d9801656335475290bf29687b59a015": {
      "model_module": "@jupyter-widgets/base",
      "model_module_version": "1.2.0",
      "model_name": "LayoutModel",
      "state": {}
     },
     "7d9d84dd582740bc90c8564c42724841": {
      "model_module": "@jupyter-widgets/controls",
      "model_module_version": "1.5.0",
      "model_name": "ProgressStyleModel",
      "state": {
       "description_width": "initial"
      }
     },
     "7dec41afef524132a5f0d6bd43f3159c": {
      "model_module": "@jupyter-widgets/controls",
      "model_module_version": "1.5.0",
      "model_name": "HTMLModel",
      "state": {
       "layout": "IPY_MODEL_bd9624551a3a4928b6e68cbeab21c0d4",
       "style": "IPY_MODEL_712a1f85dfbc46f7a38e7ff158348800",
       "value": " 165/165 [11:43&lt;00:00,  4.26s/it]"
      }
     },
     "7e2296d6a79b436cb79bd5c73aeb1e6c": {
      "model_module": "@jupyter-widgets/controls",
      "model_module_version": "1.5.0",
      "model_name": "FloatProgressModel",
      "state": {
       "bar_style": "success",
       "description": "[0] 12/12(train): 100%",
       "layout": "IPY_MODEL_78a049e08f704177b8d3114105782198",
       "max": 469,
       "style": "IPY_MODEL_2a6f4dc6222a415a8b4c2ec73de10019",
       "value": 469
      }
     },
     "7e3b81e386eb4659835972f9cb379422": {
      "model_module": "@jupyter-widgets/controls",
      "model_module_version": "1.5.0",
      "model_name": "ProgressStyleModel",
      "state": {
       "description_width": "initial"
      }
     },
     "7e56b932934249ad868601bad82d8d12": {
      "model_module": "@jupyter-widgets/base",
      "model_module_version": "1.2.0",
      "model_name": "LayoutModel",
      "state": {}
     },
     "7e8a9c5e418e40b0a6696c571e72b950": {
      "model_module": "@jupyter-widgets/controls",
      "model_module_version": "1.5.0",
      "model_name": "ProgressStyleModel",
      "state": {
       "description_width": "initial"
      }
     },
     "7ebac84f609945af9733040bb8f24f37": {
      "model_module": "@jupyter-widgets/controls",
      "model_module_version": "1.5.0",
      "model_name": "DescriptionStyleModel",
      "state": {
       "description_width": ""
      }
     },
     "7ef5b36c6b784fcd9484e97f1ac3c225": {
      "model_module": "@jupyter-widgets/base",
      "model_module_version": "1.2.0",
      "model_name": "LayoutModel",
      "state": {}
     },
     "7f7a81b36f2d44c29c4e27cc73794a54": {
      "model_module": "@jupyter-widgets/controls",
      "model_module_version": "1.5.0",
      "model_name": "DescriptionStyleModel",
      "state": {
       "description_width": ""
      }
     },
     "7f89d0a717dd4561889915a374cb6e52": {
      "model_module": "@jupyter-widgets/controls",
      "model_module_version": "1.5.0",
      "model_name": "DescriptionStyleModel",
      "state": {
       "description_width": ""
      }
     },
     "7fa0eca897624d74bf13d5cfa4586231": {
      "model_module": "@jupyter-widgets/controls",
      "model_module_version": "1.5.0",
      "model_name": "HBoxModel",
      "state": {
       "children": [
        "IPY_MODEL_eaee0f66027a451cb7d70ff6a6b2deee",
        "IPY_MODEL_03b499801e4a4d9184e48ae0b78292f4"
       ],
       "layout": "IPY_MODEL_dadd76dd4e044fb6964a163f8748dc29"
      }
     },
     "7fbd9588240d4ed2bb549d1a2c62b72f": {
      "model_module": "@jupyter-widgets/base",
      "model_module_version": "1.2.0",
      "model_name": "LayoutModel",
      "state": {}
     },
     "7fc9205b1e1f4e3bb29e26f27076efd4": {
      "model_module": "@jupyter-widgets/controls",
      "model_module_version": "1.5.0",
      "model_name": "HBoxModel",
      "state": {
       "children": [
        "IPY_MODEL_e558e9b54747400cb27a21fec0076579",
        "IPY_MODEL_192710c836524a83ba4285e00d8c68f9"
       ],
       "layout": "IPY_MODEL_b4d6085b61cb47ed9a9b9dc296cc0d20"
      }
     },
     "7ffe63b915af4f71937a14da7f82e087": {
      "model_module": "@jupyter-widgets/controls",
      "model_module_version": "1.5.0",
      "model_name": "FloatProgressModel",
      "state": {
       "bar_style": "success",
       "description": "[1] 2/12(train): 100%",
       "layout": "IPY_MODEL_762267255d4c4d2fa181818c8be93ad8",
       "max": 493,
       "style": "IPY_MODEL_9556f13c38914b60af53281d58c42af4",
       "value": 493
      }
     },
     "808b7b3c551c4c54966b70438bec3789": {
      "model_module": "@jupyter-widgets/base",
      "model_module_version": "1.2.0",
      "model_name": "LayoutModel",
      "state": {}
     },
     "808ed08a23d045d5849f58ac840d233b": {
      "model_module": "@jupyter-widgets/controls",
      "model_module_version": "1.5.0",
      "model_name": "HBoxModel",
      "state": {
       "children": [
        "IPY_MODEL_bd5dccd6ec02427399324a7adf6df44b",
        "IPY_MODEL_e9480898fc6144f09f3a414f63c66d7d"
       ],
       "layout": "IPY_MODEL_bda44a9c7e014e228cacdfe8d8315c29"
      }
     },
     "80d021beb9bb4c80a122ec1906c1dd51": {
      "model_module": "@jupyter-widgets/base",
      "model_module_version": "1.2.0",
      "model_name": "LayoutModel",
      "state": {}
     },
     "80ef6154d71f4c93b5ec0d3b2f71978b": {
      "model_module": "@jupyter-widgets/base",
      "model_module_version": "1.2.0",
      "model_name": "LayoutModel",
      "state": {}
     },
     "80ffd51bbee24c0988a17ad28dfa91a1": {
      "model_module": "@jupyter-widgets/base",
      "model_module_version": "1.2.0",
      "model_name": "LayoutModel",
      "state": {}
     },
     "810ab414bea44ee89ad964af8d7045ed": {
      "model_module": "@jupyter-widgets/controls",
      "model_module_version": "1.5.0",
      "model_name": "DescriptionStyleModel",
      "state": {
       "description_width": ""
      }
     },
     "8138e173c54847e88ecf7a50181e0e5b": {
      "model_module": "@jupyter-widgets/controls",
      "model_module_version": "1.5.0",
      "model_name": "HTMLModel",
      "state": {
       "layout": "IPY_MODEL_91e11c817d1c4517b24a1d0ddc6a5b4c",
       "style": "IPY_MODEL_846e05f6907a40f087231c5dbe5c2345",
       "value": " 165/165 [11:58&lt;00:00,  4.35s/it]"
      }
     },
     "813c3889014842f4a5d4d1d5f4e33642": {
      "model_module": "@jupyter-widgets/base",
      "model_module_version": "1.2.0",
      "model_name": "LayoutModel",
      "state": {}
     },
     "8145246f649b4642b23f2d0e3cb5fd4c": {
      "model_module": "@jupyter-widgets/controls",
      "model_module_version": "1.5.0",
      "model_name": "ProgressStyleModel",
      "state": {
       "description_width": "initial"
      }
     },
     "8150ed4cbf8149d3836db537039c7168": {
      "model_module": "@jupyter-widgets/base",
      "model_module_version": "1.2.0",
      "model_name": "LayoutModel",
      "state": {}
     },
     "816a1c7f21904be08a5984878030e5b1": {
      "model_module": "@jupyter-widgets/base",
      "model_module_version": "1.2.0",
      "model_name": "LayoutModel",
      "state": {}
     },
     "81d663954b9a4888af4e4c9e24948866": {
      "model_module": "@jupyter-widgets/controls",
      "model_module_version": "1.5.0",
      "model_name": "FloatProgressModel",
      "state": {
       "bar_style": "success",
       "description": "100%",
       "layout": "IPY_MODEL_d12eacfccbe4452db683c16bc9ec50fd",
       "max": 1,
       "style": "IPY_MODEL_6148b4977fb74a36bba37c1bf173806a",
       "value": 1
      }
     },
     "821b2b4ad9ba4c7e9f67d0ab8b824315": {
      "model_module": "@jupyter-widgets/controls",
      "model_module_version": "1.5.0",
      "model_name": "HBoxModel",
      "state": {
       "children": [
        "IPY_MODEL_16dbd29b74384971ad2f219990bd88bc",
        "IPY_MODEL_c12ab0e25e6e48d7b22c8aa5bd63aa20"
       ],
       "layout": "IPY_MODEL_0dcabff8188749f8b993f98edcef2a55"
      }
     },
     "822f376bc7b84104a7d5856b3abb5d0f": {
      "model_module": "@jupyter-widgets/controls",
      "model_module_version": "1.5.0",
      "model_name": "HBoxModel",
      "state": {
       "children": [
        "IPY_MODEL_fcc4718a2ce949cf86745fa6c85f8c71",
        "IPY_MODEL_da70068230b346dd9c9a61b1bef5a25b"
       ],
       "layout": "IPY_MODEL_51047bf3e05c4cb59d26626c06f97da9"
      }
     },
     "822f8c4a1e0346b6b65a5d98be87dd72": {
      "model_module": "@jupyter-widgets/base",
      "model_module_version": "1.2.0",
      "model_name": "LayoutModel",
      "state": {}
     },
     "82300105b17948b6952e5cd7ea4184d1": {
      "model_module": "@jupyter-widgets/base",
      "model_module_version": "1.2.0",
      "model_name": "LayoutModel",
      "state": {}
     },
     "8284e467212249a0a56f25e7b34b235c": {
      "model_module": "@jupyter-widgets/controls",
      "model_module_version": "1.5.0",
      "model_name": "HTMLModel",
      "state": {
       "layout": "IPY_MODEL_12afd2e7ebbe487e8afd535c89ceb6ac",
       "style": "IPY_MODEL_97674257ee0340a180e167900e5b8bf8",
       "value": " 0/3 [00:10&lt;?, ?it/s]"
      }
     },
     "8285255fc76f4f33bdcc428190526f94": {
      "model_module": "@jupyter-widgets/base",
      "model_module_version": "1.2.0",
      "model_name": "LayoutModel",
      "state": {}
     },
     "829ef39d3fa64761ab3326f4a1f902bf": {
      "model_module": "@jupyter-widgets/controls",
      "model_module_version": "1.5.0",
      "model_name": "FloatProgressModel",
      "state": {
       "bar_style": "success",
       "description": "[0] 1/1(train): 100%",
       "layout": "IPY_MODEL_46126aee778a40ecb1374d2a72568242",
       "max": 3,
       "style": "IPY_MODEL_65c82bec228b4097a7165524c6cf3a63",
       "value": 3
      }
     },
     "82af408cbc83465a9c2f8e4ec328310d": {
      "model_module": "@jupyter-widgets/controls",
      "model_module_version": "1.5.0",
      "model_name": "HBoxModel",
      "state": {
       "children": [
        "IPY_MODEL_35b4563a685f466a90eb91ddef802af1",
        "IPY_MODEL_71e74787cf5e4bc9a8d21b0c53e9a232"
       ],
       "layout": "IPY_MODEL_8624258b040344ac942295a2f1d42686"
      }
     },
     "82c227bd1abd461489f70b15b0561c9b": {
      "model_module": "@jupyter-widgets/base",
      "model_module_version": "1.2.0",
      "model_name": "LayoutModel",
      "state": {}
     },
     "82d3f987fd0a4465bb166781aa20dadb": {
      "model_module": "@jupyter-widgets/controls",
      "model_module_version": "1.5.0",
      "model_name": "HBoxModel",
      "state": {
       "children": [
        "IPY_MODEL_05d5b4d018674c58a8ccd3facfdd316f",
        "IPY_MODEL_bb7db032675c4d2fb6018c2a65974914"
       ],
       "layout": "IPY_MODEL_a02f45a02c544dfd90cbbdb13dc5e2f6"
      }
     },
     "82d8e6b524b6467bb56d1edd6006e0e5": {
      "model_module": "@jupyter-widgets/controls",
      "model_module_version": "1.5.0",
      "model_name": "FloatProgressModel",
      "state": {
       "bar_style": "success",
       "description": "[0] 1/12(train): 100%",
       "layout": "IPY_MODEL_2989397da3e640b192ffad125eb2a552",
       "max": 493,
       "style": "IPY_MODEL_cb8abf23d9f34d88a87f63b6e6c5a1a4",
       "value": 493
      }
     },
     "837a2fef289f4cf0ae4b46e529a16035": {
      "model_module": "@jupyter-widgets/base",
      "model_module_version": "1.2.0",
      "model_name": "LayoutModel",
      "state": {}
     },
     "838951626df74d80b76e851f33f99a96": {
      "model_module": "@jupyter-widgets/base",
      "model_module_version": "1.2.0",
      "model_name": "LayoutModel",
      "state": {}
     },
     "83ab0619995243fb966c91312fffd9df": {
      "model_module": "@jupyter-widgets/controls",
      "model_module_version": "1.5.0",
      "model_name": "HTMLModel",
      "state": {
       "layout": "IPY_MODEL_df34c98556e1424790915adef6123619",
       "style": "IPY_MODEL_f03b27ccd0b846d69332688e27c24499",
       "value": " 469/469 [10:59:15&lt;00:00, 84.34s/it]"
      }
     },
     "83bb5d2ca04040689b854e36216b40a1": {
      "model_module": "@jupyter-widgets/controls",
      "model_module_version": "1.5.0",
      "model_name": "DescriptionStyleModel",
      "state": {
       "description_width": ""
      }
     },
     "83ebb7fe334847bd8398ab56ff2a5bcb": {
      "model_module": "@jupyter-widgets/controls",
      "model_module_version": "1.5.0",
      "model_name": "ProgressStyleModel",
      "state": {
       "description_width": "initial"
      }
     },
     "844cb791843c4498a646fdcebc17f0cb": {
      "model_module": "@jupyter-widgets/base",
      "model_module_version": "1.2.0",
      "model_name": "LayoutModel",
      "state": {}
     },
     "84565434c1dd4e2d9fa80df7bb7f1c10": {
      "model_module": "@jupyter-widgets/base",
      "model_module_version": "1.2.0",
      "model_name": "LayoutModel",
      "state": {}
     },
     "8457450a7613451a90810ce5b71b1499": {
      "model_module": "@jupyter-widgets/controls",
      "model_module_version": "1.5.0",
      "model_name": "ProgressStyleModel",
      "state": {
       "description_width": "initial"
      }
     },
     "846e05f6907a40f087231c5dbe5c2345": {
      "model_module": "@jupyter-widgets/controls",
      "model_module_version": "1.5.0",
      "model_name": "DescriptionStyleModel",
      "state": {
       "description_width": ""
      }
     },
     "8481c6364e304da98375a79b6af9a7ee": {
      "model_module": "@jupyter-widgets/controls",
      "model_module_version": "1.5.0",
      "model_name": "ProgressStyleModel",
      "state": {
       "description_width": "initial"
      }
     },
     "8485da9f893040c6b8105404c2a606a8": {
      "model_module": "@jupyter-widgets/base",
      "model_module_version": "1.2.0",
      "model_name": "LayoutModel",
      "state": {}
     },
     "8495374c594b49049f02ccaaf34789dc": {
      "model_module": "@jupyter-widgets/controls",
      "model_module_version": "1.5.0",
      "model_name": "DescriptionStyleModel",
      "state": {
       "description_width": ""
      }
     },
     "849bc729fa574ae9b743121a7a3f651b": {
      "model_module": "@jupyter-widgets/base",
      "model_module_version": "1.2.0",
      "model_name": "LayoutModel",
      "state": {}
     },
     "84a4aeed00b340f18b71704baf389830": {
      "model_module": "@jupyter-widgets/controls",
      "model_module_version": "1.5.0",
      "model_name": "DescriptionStyleModel",
      "state": {
       "description_width": ""
      }
     },
     "84c97f817ddd4232be8cd2b9761f431d": {
      "model_module": "@jupyter-widgets/controls",
      "model_module_version": "1.5.0",
      "model_name": "ProgressStyleModel",
      "state": {
       "description_width": "initial"
      }
     },
     "84ccf8da744f4c75afa529bb2f0c50d2": {
      "model_module": "@jupyter-widgets/controls",
      "model_module_version": "1.5.0",
      "model_name": "HTMLModel",
      "state": {
       "layout": "IPY_MODEL_78f8958101544bd289cfd87b0b49253b",
       "style": "IPY_MODEL_f55e58170f0f41bfa79f530c865b8d46",
       "value": " 157/157 [1:54:54&lt;00:00, 43.92s/it]"
      }
     },
     "84feb5040e614f449e393bed36d52618": {
      "model_module": "@jupyter-widgets/base",
      "model_module_version": "1.2.0",
      "model_name": "LayoutModel",
      "state": {}
     },
     "852617398220487396930c47931e7133": {
      "model_module": "@jupyter-widgets/controls",
      "model_module_version": "1.5.0",
      "model_name": "ProgressStyleModel",
      "state": {
       "description_width": "initial"
      }
     },
     "8561968a9f67413b8e08371c6483efd3": {
      "model_module": "@jupyter-widgets/base",
      "model_module_version": "1.2.0",
      "model_name": "LayoutModel",
      "state": {}
     },
     "859d66b068604a52aadfcc467a0f3c0c": {
      "model_module": "@jupyter-widgets/controls",
      "model_module_version": "1.5.0",
      "model_name": "DescriptionStyleModel",
      "state": {
       "description_width": ""
      }
     },
     "85bc6c31fa65473094e38f6155c6b52d": {
      "model_module": "@jupyter-widgets/base",
      "model_module_version": "1.2.0",
      "model_name": "LayoutModel",
      "state": {}
     },
     "85c2312f6e9e45018920195fee5a3197": {
      "model_module": "@jupyter-widgets/controls",
      "model_module_version": "1.5.0",
      "model_name": "FloatProgressModel",
      "state": {
       "bar_style": "success",
       "description": "[2] 1/12(train): 100%",
       "layout": "IPY_MODEL_808b7b3c551c4c54966b70438bec3789",
       "max": 493,
       "style": "IPY_MODEL_35c02c1a0ae04c4c9eaa6d85e81a1e46",
       "value": 493
      }
     },
     "85f212d2f2db43ab9dfb107a98bf1c16": {
      "model_module": "@jupyter-widgets/controls",
      "model_module_version": "1.5.0",
      "model_name": "HTMLModel",
      "state": {
       "layout": "IPY_MODEL_bf44913b81f0452d93fa769fc5a59fc4",
       "style": "IPY_MODEL_07765ab129bc4fd987a2787454a173d2",
       "value": " 1/493 [00:15&lt;1:53:52, 13.89s/it]"
      }
     },
     "8624258b040344ac942295a2f1d42686": {
      "model_module": "@jupyter-widgets/base",
      "model_module_version": "1.2.0",
      "model_name": "LayoutModel",
      "state": {}
     },
     "862ed5d0721f4be3a94b504d86c005bb": {
      "model_module": "@jupyter-widgets/base",
      "model_module_version": "1.2.0",
      "model_name": "LayoutModel",
      "state": {}
     },
     "866220b17a084563bada70f41b39a760": {
      "model_module": "@jupyter-widgets/controls",
      "model_module_version": "1.5.0",
      "model_name": "FloatProgressModel",
      "state": {
       "bar_style": "success",
       "description": "[2] 9/12(val  ): 100%",
       "layout": "IPY_MODEL_b30d325b1fee48279e7f5a80b5213dd2",
       "max": 157,
       "style": "IPY_MODEL_eae46866d15e46bf8b6061504ff7e6b3",
       "value": 157
      }
     },
     "8691c4f036b44d81971d54aa6cba06ca": {
      "model_module": "@jupyter-widgets/base",
      "model_module_version": "1.2.0",
      "model_name": "LayoutModel",
      "state": {}
     },
     "86a9b6eb797b4b7fab2168cca923a037": {
      "model_module": "@jupyter-widgets/controls",
      "model_module_version": "1.5.0",
      "model_name": "HBoxModel",
      "state": {
       "children": [
        "IPY_MODEL_a09735fd0290479eb76b63e2e3cb199a",
        "IPY_MODEL_4407da8bbf1f4f7d86177542224586fb"
       ],
       "layout": "IPY_MODEL_b69221ddc92140bdbcdcff3d0ffb68aa"
      }
     },
     "86b245b93d2e4887849bca1be05418b3": {
      "model_module": "@jupyter-widgets/base",
      "model_module_version": "1.2.0",
      "model_name": "LayoutModel",
      "state": {}
     },
     "8705195870144bdfbd38603dae86d539": {
      "model_module": "@jupyter-widgets/controls",
      "model_module_version": "1.5.0",
      "model_name": "DescriptionStyleModel",
      "state": {
       "description_width": ""
      }
     },
     "87ac8bd4a5c84482b30a2646fdb125c5": {
      "model_module": "@jupyter-widgets/controls",
      "model_module_version": "1.5.0",
      "model_name": "HTMLModel",
      "state": {
       "layout": "IPY_MODEL_731a794e884d4e6a823e3b1b02810cd3",
       "style": "IPY_MODEL_ba3a2d96cba84b7eb5eb8cd9dbc11659",
       "value": " 165/165 [7:01:18&lt;00:00, 153.21s/it]"
      }
     },
     "87b0ada2ee07467792e6091d480db929": {
      "model_module": "@jupyter-widgets/base",
      "model_module_version": "1.2.0",
      "model_name": "LayoutModel",
      "state": {}
     },
     "87d9a1cf04974bf6a45c8477ec06c9d3": {
      "model_module": "@jupyter-widgets/base",
      "model_module_version": "1.2.0",
      "model_name": "LayoutModel",
      "state": {}
     },
     "8812ce8215e5443e97e81de7763dd122": {
      "model_module": "@jupyter-widgets/base",
      "model_module_version": "1.2.0",
      "model_name": "LayoutModel",
      "state": {}
     },
     "88241c790b9c448fb05230071ce7e157": {
      "model_module": "@jupyter-widgets/controls",
      "model_module_version": "1.5.0",
      "model_name": "ProgressStyleModel",
      "state": {
       "description_width": "initial"
      }
     },
     "884f17be23e54bd28b4b833dad6d8e45": {
      "model_module": "@jupyter-widgets/controls",
      "model_module_version": "1.5.0",
      "model_name": "DescriptionStyleModel",
      "state": {
       "description_width": ""
      }
     },
     "885ddbef38fb483795c6b56bc2527e25": {
      "model_module": "@jupyter-widgets/controls",
      "model_module_version": "1.5.0",
      "model_name": "HBoxModel",
      "state": {
       "children": [
        "IPY_MODEL_227979358ed84dda8f802324da963434",
        "IPY_MODEL_65560681662b44ee99202b9742df6462"
       ],
       "layout": "IPY_MODEL_08a4474c67a5458299ed4fe6e9bcf88f"
      }
     },
     "8874c3d766ed404b8ffdfb235b95ba20": {
      "model_module": "@jupyter-widgets/controls",
      "model_module_version": "1.5.0",
      "model_name": "HBoxModel",
      "state": {
       "children": [
        "IPY_MODEL_779433b599504eda892cff5125fd1391",
        "IPY_MODEL_1eb3dfe84b784aa982744ee114af2b48"
       ],
       "layout": "IPY_MODEL_0232dd1faf4f46fc90ee12394da29136"
      }
     },
     "8893303a16aa46aeae92b6975accfb39": {
      "model_module": "@jupyter-widgets/base",
      "model_module_version": "1.2.0",
      "model_name": "LayoutModel",
      "state": {}
     },
     "88ac30922cd64e49981776f74dd38908": {
      "model_module": "@jupyter-widgets/base",
      "model_module_version": "1.2.0",
      "model_name": "LayoutModel",
      "state": {}
     },
     "88af9e35f8ad49588d4b1063e913e023": {
      "model_module": "@jupyter-widgets/base",
      "model_module_version": "1.2.0",
      "model_name": "LayoutModel",
      "state": {}
     },
     "8927ebf01e424c06b032f792f1fc366c": {
      "model_module": "@jupyter-widgets/controls",
      "model_module_version": "1.5.0",
      "model_name": "FloatProgressModel",
      "state": {
       "bar_style": "success",
       "description": "[2] 6/12(train): 100%",
       "layout": "IPY_MODEL_a9e9831f7ace4f6ca43938197c21700f",
       "max": 469,
       "style": "IPY_MODEL_4512e49c7a774720a041c323d29572eb",
       "value": 469
      }
     },
     "89293c063af6444ab54706814390ef64": {
      "model_module": "@jupyter-widgets/controls",
      "model_module_version": "1.5.0",
      "model_name": "HTMLModel",
      "state": {
       "layout": "IPY_MODEL_e668f3cd0a1d4eea90d9ee8cf9cc34e5",
       "style": "IPY_MODEL_8aaa5baf3a224193966061ac0262a30e",
       "value": " 165/165 [11:09&lt;00:00,  4.06s/it]"
      }
     },
     "894d66322f884882bd1ee7fe633e94a4": {
      "model_module": "@jupyter-widgets/controls",
      "model_module_version": "1.5.0",
      "model_name": "HTMLModel",
      "state": {
       "layout": "IPY_MODEL_0713bfcf25fe468a9eafe78189e5e904",
       "style": "IPY_MODEL_8eb6d2a679dd41e0a73998506fc20973",
       "value": " 1/1 [00:16&lt;00:00, 16.06s/it]"
      }
     },
     "8952dd923d1d4144825ce0c914dd6c32": {
      "model_module": "@jupyter-widgets/base",
      "model_module_version": "1.2.0",
      "model_name": "LayoutModel",
      "state": {}
     },
     "8982a875c85e4f898608194a0a99926c": {
      "model_module": "@jupyter-widgets/controls",
      "model_module_version": "1.5.0",
      "model_name": "ProgressStyleModel",
      "state": {
       "description_width": "initial"
      }
     },
     "89832143a5794b5f9a3a709a84bfc2ee": {
      "model_module": "@jupyter-widgets/controls",
      "model_module_version": "1.5.0",
      "model_name": "FloatProgressModel",
      "state": {
       "bar_style": "success",
       "description": "[3] 4/12(val  ): 100%",
       "layout": "IPY_MODEL_a8cc52b8c7e14cdeb2d6ad440eedf457",
       "max": 157,
       "style": "IPY_MODEL_84c97f817ddd4232be8cd2b9761f431d",
       "value": 157
      }
     },
     "8992a86ca95c4f269b7b8dbf87b566f2": {
      "model_module": "@jupyter-widgets/controls",
      "model_module_version": "1.5.0",
      "model_name": "ProgressStyleModel",
      "state": {
       "description_width": "initial"
      }
     },
     "89cef1bc8842482d973cfd78d776fd4f": {
      "model_module": "@jupyter-widgets/controls",
      "model_module_version": "1.5.0",
      "model_name": "ProgressStyleModel",
      "state": {
       "description_width": "initial"
      }
     },
     "89f0b31e88e74afba77fa191205e9c4f": {
      "model_module": "@jupyter-widgets/controls",
      "model_module_version": "1.5.0",
      "model_name": "ProgressStyleModel",
      "state": {
       "description_width": "initial"
      }
     },
     "8a2968128a214c3c806d33ee140ec240": {
      "model_module": "@jupyter-widgets/controls",
      "model_module_version": "1.5.0",
      "model_name": "FloatProgressModel",
      "state": {
       "bar_style": "success",
       "description": "[2] 9/12(train): 100%",
       "layout": "IPY_MODEL_c6f5d33de68e4f5483b722369381a393",
       "max": 493,
       "style": "IPY_MODEL_6854d505c5b745dda5e3a515b9e23541",
       "value": 493
      }
     },
     "8a32515995f44d08aff47dcca04226f8": {
      "model_module": "@jupyter-widgets/base",
      "model_module_version": "1.2.0",
      "model_name": "LayoutModel",
      "state": {}
     },
     "8a63bf87d9934809aff19730d318415a": {
      "model_module": "@jupyter-widgets/base",
      "model_module_version": "1.2.0",
      "model_name": "LayoutModel",
      "state": {}
     },
     "8a6b3d88502842a8b90d3adfbc3dbae6": {
      "model_module": "@jupyter-widgets/base",
      "model_module_version": "1.2.0",
      "model_name": "LayoutModel",
      "state": {}
     },
     "8a8770c5bde347e39aec4b49871d411b": {
      "model_module": "@jupyter-widgets/base",
      "model_module_version": "1.2.0",
      "model_name": "LayoutModel",
      "state": {}
     },
     "8aaa5baf3a224193966061ac0262a30e": {
      "model_module": "@jupyter-widgets/controls",
      "model_module_version": "1.5.0",
      "model_name": "DescriptionStyleModel",
      "state": {
       "description_width": ""
      }
     },
     "8acf16a103ea4c62afe6e7fb4d3380b1": {
      "model_module": "@jupyter-widgets/base",
      "model_module_version": "1.2.0",
      "model_name": "LayoutModel",
      "state": {}
     },
     "8b0ad89e05ff4f2388888ce1b939bd1c": {
      "model_module": "@jupyter-widgets/base",
      "model_module_version": "1.2.0",
      "model_name": "LayoutModel",
      "state": {}
     },
     "8b1bafe4c6c74d47af449389a1836170": {
      "model_module": "@jupyter-widgets/base",
      "model_module_version": "1.2.0",
      "model_name": "LayoutModel",
      "state": {}
     },
     "8baeed22420842d2b73fa9dc67715ffc": {
      "model_module": "@jupyter-widgets/controls",
      "model_module_version": "1.5.0",
      "model_name": "DescriptionStyleModel",
      "state": {
       "description_width": ""
      }
     },
     "8c0dd105545f467d8e87759f896fc192": {
      "model_module": "@jupyter-widgets/controls",
      "model_module_version": "1.5.0",
      "model_name": "HTMLModel",
      "state": {
       "layout": "IPY_MODEL_b08db09f8cbf4a92b9f82b5181792216",
       "style": "IPY_MODEL_eb2ba2779bfe4b789d70cbc6fbcf5a11",
       "value": " 165/165 [10:58&lt;00:00,  3.99s/it]"
      }
     },
     "8c686d28a86446fb94a6913f97939f88": {
      "model_module": "@jupyter-widgets/controls",
      "model_module_version": "1.5.0",
      "model_name": "FloatProgressModel",
      "state": {
       "bar_style": "success",
       "description": "[3] 10/12(train): 100%",
       "layout": "IPY_MODEL_13ecec6aba364e938d142bc639626502",
       "max": 469,
       "style": "IPY_MODEL_38acc4bc70984e6fa9b2ab2856a58d94",
       "value": 469
      }
     },
     "8cac42ce80ff4bba92ad4e3cbe1c35be": {
      "model_module": "@jupyter-widgets/base",
      "model_module_version": "1.2.0",
      "model_name": "LayoutModel",
      "state": {}
     },
     "8ccc504b6a7748d99820eca53c5d863a": {
      "model_module": "@jupyter-widgets/base",
      "model_module_version": "1.2.0",
      "model_name": "LayoutModel",
      "state": {}
     },
     "8cddfcf93a2647edacffaedeab19aae8": {
      "model_module": "@jupyter-widgets/controls",
      "model_module_version": "1.5.0",
      "model_name": "HTMLModel",
      "state": {
       "layout": "IPY_MODEL_323806f7f4f34917a0895566a5427196",
       "style": "IPY_MODEL_d012a86671b1449aa3372c90a24c1d68",
       "value": " 0/3 [00:00&lt;?, ?it/s]"
      }
     },
     "8cef14577e934587803170a7f23bdea1": {
      "model_module": "@jupyter-widgets/controls",
      "model_module_version": "1.5.0",
      "model_name": "ProgressStyleModel",
      "state": {
       "description_width": "initial"
      }
     },
     "8d030fa0d333496589b4c93f42050aa1": {
      "model_module": "@jupyter-widgets/controls",
      "model_module_version": "1.5.0",
      "model_name": "HBoxModel",
      "state": {
       "children": [
        "IPY_MODEL_2accc9288a5e4e71aefd90f0bb488e30",
        "IPY_MODEL_9fe4bc6d4eec4f0dbd3c35fefc141cbd"
       ],
       "layout": "IPY_MODEL_ba8476eede8d4915b36f7b0ba2b2d1cd"
      }
     },
     "8d2eed5fe7d54627ba10e1c4f0c8bbea": {
      "model_module": "@jupyter-widgets/controls",
      "model_module_version": "1.5.0",
      "model_name": "HTMLModel",
      "state": {
       "layout": "IPY_MODEL_f01ef9a93c94441ba9898dc980caae3d",
       "style": "IPY_MODEL_8baeed22420842d2b73fa9dc67715ffc",
       "value": " 157/157 [1:35:59&lt;00:00, 36.68s/it]"
      }
     },
     "8d361da3054f45749fc89eb9b54f27c2": {
      "model_module": "@jupyter-widgets/controls",
      "model_module_version": "1.5.0",
      "model_name": "FloatProgressModel",
      "state": {
       "bar_style": "success",
       "description": "[2] 7/12(val  ): 100%",
       "layout": "IPY_MODEL_35e77e2100bf418691d44becd0d684b4",
       "max": 157,
       "style": "IPY_MODEL_2f7a6e7a7590408f97815dffcdb3dbe4",
       "value": 157
      }
     },
     "8d469102b69840929f9e4ec6e43f1a5d": {
      "model_module": "@jupyter-widgets/controls",
      "model_module_version": "1.5.0",
      "model_name": "HTMLModel",
      "state": {
       "layout": "IPY_MODEL_4a067f1cbbaa4235a223e41434f7a154",
       "style": "IPY_MODEL_47786b887d834e648d9fa4ab14c1e7ed",
       "value": " 1/1 [00:04&lt;00:00,  4.33s/it]"
      }
     },
     "8d5d568edffa45f589de146ebeff16b1": {
      "model_module": "@jupyter-widgets/base",
      "model_module_version": "1.2.0",
      "model_name": "LayoutModel",
      "state": {}
     },
     "8d79309dad5744dcbe0defb657636adf": {
      "model_module": "@jupyter-widgets/controls",
      "model_module_version": "1.5.0",
      "model_name": "ProgressStyleModel",
      "state": {
       "description_width": "initial"
      }
     },
     "8d98668928ba4ed6b3dce3e7c2b81c8d": {
      "model_module": "@jupyter-widgets/base",
      "model_module_version": "1.2.0",
      "model_name": "LayoutModel",
      "state": {}
     },
     "8da47edb0d7b445b9b396c82ba671002": {
      "model_module": "@jupyter-widgets/controls",
      "model_module_version": "1.5.0",
      "model_name": "DescriptionStyleModel",
      "state": {
       "description_width": ""
      }
     },
     "8db6233024044cdabfc0530b9df0eb4a": {
      "model_module": "@jupyter-widgets/base",
      "model_module_version": "1.2.0",
      "model_name": "LayoutModel",
      "state": {}
     },
     "8de5ce14cb6545c3be1f3368540348fc": {
      "model_module": "@jupyter-widgets/base",
      "model_module_version": "1.2.0",
      "model_name": "LayoutModel",
      "state": {}
     },
     "8e056362527f49329876a2df85a98e7a": {
      "model_module": "@jupyter-widgets/controls",
      "model_module_version": "1.5.0",
      "model_name": "DescriptionStyleModel",
      "state": {
       "description_width": ""
      }
     },
     "8e12070dc97e47c9bc566518433f749f": {
      "model_module": "@jupyter-widgets/controls",
      "model_module_version": "1.5.0",
      "model_name": "FloatProgressModel",
      "state": {
       "bar_style": "success",
       "description": "[1] 1/12(val  ): 100%",
       "layout": "IPY_MODEL_f28daeb846704188ba05c10d45d2b725",
       "max": 165,
       "style": "IPY_MODEL_6927c8293fa74234abc1dba326088845",
       "value": 165
      }
     },
     "8e124c95060b4287a8425eafb0d7b0b4": {
      "model_module": "@jupyter-widgets/base",
      "model_module_version": "1.2.0",
      "model_name": "LayoutModel",
      "state": {}
     },
     "8e359cb4181b40d4b1d93dad73d1e16c": {
      "model_module": "@jupyter-widgets/controls",
      "model_module_version": "1.5.0",
      "model_name": "FloatProgressModel",
      "state": {
       "bar_style": "success",
       "description": "[1] 5/12(val  ): 100%",
       "layout": "IPY_MODEL_1d35830aecb644d8b35e486b0bd163f2",
       "max": 157,
       "style": "IPY_MODEL_0a0ee59175e84ac78f27ceaf9ae87a11",
       "value": 157
      }
     },
     "8e3beb07e06044308589e3391d06876c": {
      "model_module": "@jupyter-widgets/controls",
      "model_module_version": "1.5.0",
      "model_name": "HTMLModel",
      "state": {
       "layout": "IPY_MODEL_87b0ada2ee07467792e6091d480db929",
       "style": "IPY_MODEL_1eb9a140ecfc4ef2977850e02dc7cb35",
       "value": " 469/469 [13:59:19&lt;00:00, 107.38s/it]"
      }
     },
     "8e45cf46fcfe4aeab0c56288df259b56": {
      "model_module": "@jupyter-widgets/controls",
      "model_module_version": "1.5.0",
      "model_name": "HBoxModel",
      "state": {
       "children": [
        "IPY_MODEL_96344beb610d46f19fe2fd15dff8319d",
        "IPY_MODEL_37311fe55bc5428ea143491fafe7bae3"
       ],
       "layout": "IPY_MODEL_e41ea8ff3acd40bfb240819ad6d82f5e"
      }
     },
     "8e78d8c4dc804fabb914de35ddb15613": {
      "model_module": "@jupyter-widgets/base",
      "model_module_version": "1.2.0",
      "model_name": "LayoutModel",
      "state": {}
     },
     "8e7c49518fbb413ebd58ef7c23005f88": {
      "model_module": "@jupyter-widgets/base",
      "model_module_version": "1.2.0",
      "model_name": "LayoutModel",
      "state": {}
     },
     "8e9f885bac234f7a867cb4ffe2f3d4ff": {
      "model_module": "@jupyter-widgets/base",
      "model_module_version": "1.2.0",
      "model_name": "LayoutModel",
      "state": {}
     },
     "8eb6d2a679dd41e0a73998506fc20973": {
      "model_module": "@jupyter-widgets/controls",
      "model_module_version": "1.5.0",
      "model_name": "DescriptionStyleModel",
      "state": {
       "description_width": ""
      }
     },
     "8ebde0f3797e44078f321de42dfd87c5": {
      "model_module": "@jupyter-widgets/controls",
      "model_module_version": "1.5.0",
      "model_name": "ProgressStyleModel",
      "state": {
       "description_width": "initial"
      }
     },
     "8ec2b2f5b1104650b87aab73dbf22e90": {
      "model_module": "@jupyter-widgets/base",
      "model_module_version": "1.2.0",
      "model_name": "LayoutModel",
      "state": {}
     },
     "8ec3edd6f54f4fd4b265b5e23042a1d6": {
      "model_module": "@jupyter-widgets/controls",
      "model_module_version": "1.5.0",
      "model_name": "DescriptionStyleModel",
      "state": {
       "description_width": ""
      }
     },
     "8f1b3e6539ac4a82ab2e83ee6f5596d7": {
      "model_module": "@jupyter-widgets/controls",
      "model_module_version": "1.5.0",
      "model_name": "HBoxModel",
      "state": {
       "children": [
        "IPY_MODEL_18f78a0de34042e1abb5e9c22d946707",
        "IPY_MODEL_daa9fc154e894974b04a0ff8b0768f31"
       ],
       "layout": "IPY_MODEL_99e4aae54dd9444d806e170efb5aae61"
      }
     },
     "8f79e3566a43463ebede5df7d89ed657": {
      "model_module": "@jupyter-widgets/base",
      "model_module_version": "1.2.0",
      "model_name": "LayoutModel",
      "state": {}
     },
     "8f8edf10ee964380807688580dcbad0b": {
      "model_module": "@jupyter-widgets/controls",
      "model_module_version": "1.5.0",
      "model_name": "DescriptionStyleModel",
      "state": {
       "description_width": ""
      }
     },
     "8f9c8b953c764c489d5a610c1cff3556": {
      "model_module": "@jupyter-widgets/base",
      "model_module_version": "1.2.0",
      "model_name": "LayoutModel",
      "state": {}
     },
     "8fa024d4f43f424abb47341955912b3c": {
      "model_module": "@jupyter-widgets/base",
      "model_module_version": "1.2.0",
      "model_name": "LayoutModel",
      "state": {}
     },
     "8fce59d9d1ca4602b804ab67ee066b90": {
      "model_module": "@jupyter-widgets/base",
      "model_module_version": "1.2.0",
      "model_name": "LayoutModel",
      "state": {}
     },
     "8fefd0ffb580495db73793f934d12734": {
      "model_module": "@jupyter-widgets/base",
      "model_module_version": "1.2.0",
      "model_name": "LayoutModel",
      "state": {}
     },
     "90136a458cca498aabcc84416fe80039": {
      "model_module": "@jupyter-widgets/controls",
      "model_module_version": "1.5.0",
      "model_name": "DescriptionStyleModel",
      "state": {
       "description_width": ""
      }
     },
     "902fea929cd14cc5822e104eb0b06321": {
      "model_module": "@jupyter-widgets/controls",
      "model_module_version": "1.5.0",
      "model_name": "FloatProgressModel",
      "state": {
       "bar_style": "success",
       "description": "[0] 4/12(val  ): 100%",
       "layout": "IPY_MODEL_458e7d1d3fdb43baa07c2f23c353ff6f",
       "max": 157,
       "style": "IPY_MODEL_f94d96ef554548ac9e97794c12408051",
       "value": 157
      }
     },
     "906a223804b24cbf8a4a75e6f8bfe359": {
      "model_module": "@jupyter-widgets/base",
      "model_module_version": "1.2.0",
      "model_name": "LayoutModel",
      "state": {}
     },
     "90774cc55bae4464928ec9fc49cc20c0": {
      "model_module": "@jupyter-widgets/controls",
      "model_module_version": "1.5.0",
      "model_name": "HTMLModel",
      "state": {
       "layout": "IPY_MODEL_bffdf8a90fad463e808465349e797825",
       "style": "IPY_MODEL_dfda3b1f9ec64addb360b57b2b73ad68",
       "value": " 493/493 [1:31:10&lt;00:00, 11.10s/it]"
      }
     },
     "90c2bd9c90ea44ba94a82c21789060e4": {
      "model_module": "@jupyter-widgets/controls",
      "model_module_version": "1.5.0",
      "model_name": "FloatProgressModel",
      "state": {
       "bar_style": "success",
       "description": "[2] 6/12(train): 100%",
       "layout": "IPY_MODEL_dd2b1e8e0aa44e70b8ce2474293cdb8e",
       "max": 493,
       "style": "IPY_MODEL_f8df7cf5a84b4dd5b5f753574618dc95",
       "value": 493
      }
     },
     "90fecb31f2fb45b68a963690ee904585": {
      "model_module": "@jupyter-widgets/controls",
      "model_module_version": "1.5.0",
      "model_name": "HBoxModel",
      "state": {
       "children": [
        "IPY_MODEL_106e89a7c5864928a2c48e6091d8e0d5",
        "IPY_MODEL_361ab2f014e946348249f44b02f0afb1"
       ],
       "layout": "IPY_MODEL_71665602be0345a5bcb99b633a779bc3"
      }
     },
     "91049d5927e6473fa046442b42abb12a": {
      "model_module": "@jupyter-widgets/controls",
      "model_module_version": "1.5.0",
      "model_name": "ProgressStyleModel",
      "state": {
       "description_width": "initial"
      }
     },
     "9109b5d231e54628a976631cb119db7a": {
      "model_module": "@jupyter-widgets/controls",
      "model_module_version": "1.5.0",
      "model_name": "FloatProgressModel",
      "state": {
       "bar_style": "success",
       "description": "[0] 1/1(val  ): 100%",
       "layout": "IPY_MODEL_cf3b2566f5fb4f258a8829dc33e1fb97",
       "max": 1,
       "style": "IPY_MODEL_56da1acda4d044ef8eda3714e5963bbb",
       "value": 1
      }
     },
     "914401305e7b438aa824e77bfb7555b3": {
      "model_module": "@jupyter-widgets/base",
      "model_module_version": "1.2.0",
      "model_name": "LayoutModel",
      "state": {}
     },
     "919a175bc40e4d23ad57e51d037726dc": {
      "model_module": "@jupyter-widgets/base",
      "model_module_version": "1.2.0",
      "model_name": "LayoutModel",
      "state": {}
     },
     "91e11c817d1c4517b24a1d0ddc6a5b4c": {
      "model_module": "@jupyter-widgets/base",
      "model_module_version": "1.2.0",
      "model_name": "LayoutModel",
      "state": {}
     },
     "91e5cac314164b7bb3c30d9318a20207": {
      "model_module": "@jupyter-widgets/base",
      "model_module_version": "1.2.0",
      "model_name": "LayoutModel",
      "state": {}
     },
     "91ebdeddfa024cca8e19da5e34001257": {
      "model_module": "@jupyter-widgets/controls",
      "model_module_version": "1.5.0",
      "model_name": "HBoxModel",
      "state": {
       "children": [
        "IPY_MODEL_ff880da1ca2d47e98849ebf16921fb41",
        "IPY_MODEL_1caca77b40724dacb8d61829dd55dc05"
       ],
       "layout": "IPY_MODEL_7ef5b36c6b784fcd9484e97f1ac3c225"
      }
     },
     "91ec18d9a09140beb41b2ddf04a77a09": {
      "model_module": "@jupyter-widgets/base",
      "model_module_version": "1.2.0",
      "model_name": "LayoutModel",
      "state": {}
     },
     "920590c6176141e8be05774a50e2bf49": {
      "model_module": "@jupyter-widgets/controls",
      "model_module_version": "1.5.0",
      "model_name": "HTMLModel",
      "state": {
       "layout": "IPY_MODEL_74e10fba23ec4564b578bbee53f3c7fb",
       "style": "IPY_MODEL_32595a18b3f9473499ff480db76eca4f",
       "value": " 469/469 [1:32:22&lt;00:00, 11.82s/it]"
      }
     },
     "9208c74d891746689a3ed554eea67259": {
      "model_module": "@jupyter-widgets/base",
      "model_module_version": "1.2.0",
      "model_name": "LayoutModel",
      "state": {}
     },
     "922c4cbb585a451d844e40bb76ce07bb": {
      "model_module": "@jupyter-widgets/controls",
      "model_module_version": "1.5.0",
      "model_name": "HTMLModel",
      "state": {
       "layout": "IPY_MODEL_b3c5645da74b44d0b96c407f48ee0cb8",
       "style": "IPY_MODEL_5d49fbde45394d648009b517c8561e32",
       "value": " 3/3 [00:15&lt;00:00,  5.17s/it]"
      }
     },
     "922c5f44dd994a5db7bed31481f565ce": {
      "model_module": "@jupyter-widgets/controls",
      "model_module_version": "1.5.0",
      "model_name": "ProgressStyleModel",
      "state": {
       "description_width": "initial"
      }
     },
     "923ea7baca4946f8aaaa22edf1884af9": {
      "model_module": "@jupyter-widgets/base",
      "model_module_version": "1.2.0",
      "model_name": "LayoutModel",
      "state": {}
     },
     "9241d721f6b54d999afb78453ceb4bba": {
      "model_module": "@jupyter-widgets/base",
      "model_module_version": "1.2.0",
      "model_name": "LayoutModel",
      "state": {}
     },
     "926975db6b334a849061a1a69fe8a4ed": {
      "model_module": "@jupyter-widgets/base",
      "model_module_version": "1.2.0",
      "model_name": "LayoutModel",
      "state": {}
     },
     "928ad127fff14af19590473357a03c55": {
      "model_module": "@jupyter-widgets/controls",
      "model_module_version": "1.5.0",
      "model_name": "HTMLModel",
      "state": {
       "layout": "IPY_MODEL_80d021beb9bb4c80a122ec1906c1dd51",
       "style": "IPY_MODEL_00028421c2c74677bf6465c3e81979cc",
       "value": " 165/165 [11:55&lt;00:00,  4.33s/it]"
      }
     },
     "92a22df07e1548b1900bc789374ab99e": {
      "model_module": "@jupyter-widgets/base",
      "model_module_version": "1.2.0",
      "model_name": "LayoutModel",
      "state": {}
     },
     "92a3eba19d1d4a9e9757fcff95b23e40": {
      "model_module": "@jupyter-widgets/base",
      "model_module_version": "1.2.0",
      "model_name": "LayoutModel",
      "state": {}
     },
     "92c53c5fb25d4dd68c27aeb36f541348": {
      "model_module": "@jupyter-widgets/base",
      "model_module_version": "1.2.0",
      "model_name": "LayoutModel",
      "state": {}
     },
     "92ced1f4758d46e78144b95f3df7c1de": {
      "model_module": "@jupyter-widgets/base",
      "model_module_version": "1.2.0",
      "model_name": "LayoutModel",
      "state": {}
     },
     "93629ab2f38e4eb59f63f5f4ab2b106f": {
      "model_module": "@jupyter-widgets/controls",
      "model_module_version": "1.5.0",
      "model_name": "ProgressStyleModel",
      "state": {
       "description_width": "initial"
      }
     },
     "93c76f30a6ec4b64b104b5124bc6a846": {
      "model_module": "@jupyter-widgets/base",
      "model_module_version": "1.2.0",
      "model_name": "LayoutModel",
      "state": {}
     },
     "93ca4b9670f348868afd979c376aac50": {
      "model_module": "@jupyter-widgets/controls",
      "model_module_version": "1.5.0",
      "model_name": "HTMLModel",
      "state": {
       "layout": "IPY_MODEL_312607f1e4fd485a86205d4271cd5374",
       "style": "IPY_MODEL_540a3e8de20b450999a9df9c4a21c76f",
       "value": " 469/469 [1:32:26&lt;00:00, 11.83s/it]"
      }
     },
     "93f5cfd15ee3478eb37cc4b549630e86": {
      "model_module": "@jupyter-widgets/controls",
      "model_module_version": "1.5.0",
      "model_name": "HBoxModel",
      "state": {
       "children": [
        "IPY_MODEL_b034d1beb3ce47ae9e89fd394591d782",
        "IPY_MODEL_d9b0c6d8ccf04962b7c58e994f5681cb"
       ],
       "layout": "IPY_MODEL_5c3316dbc312455a8eeb765deeeaebc9"
      }
     },
     "940eec82ddcc495c86cea6e380507c86": {
      "model_module": "@jupyter-widgets/controls",
      "model_module_version": "1.5.0",
      "model_name": "ProgressStyleModel",
      "state": {
       "description_width": "initial"
      }
     },
     "94516d5d4a834c8e94a8d39498317c44": {
      "model_module": "@jupyter-widgets/controls",
      "model_module_version": "1.5.0",
      "model_name": "DescriptionStyleModel",
      "state": {
       "description_width": ""
      }
     },
     "946ea37636df45e490e4c3ca0f88b720": {
      "model_module": "@jupyter-widgets/base",
      "model_module_version": "1.2.0",
      "model_name": "LayoutModel",
      "state": {}
     },
     "94b67d51276c42e794bc29214510b2f2": {
      "model_module": "@jupyter-widgets/controls",
      "model_module_version": "1.5.0",
      "model_name": "HTMLModel",
      "state": {
       "layout": "IPY_MODEL_813c3889014842f4a5d4d1d5f4e33642",
       "style": "IPY_MODEL_16ab80916c0140d18f9c5badd15d2fd9",
       "value": " 0/493 [00:15&lt;?, ?it/s]"
      }
     },
     "94ce05da93c84203a7a2ccb126440337": {
      "model_module": "@jupyter-widgets/controls",
      "model_module_version": "1.5.0",
      "model_name": "HTMLModel",
      "state": {
       "layout": "IPY_MODEL_ddaf9097e169480aa04e3d8e06941974",
       "style": "IPY_MODEL_16339b55e33141468212a6c087f4262f",
       "value": " 493/493 [45:47&lt;00:00,  5.57s/it]"
      }
     },
     "94d2c666633e4952b5d2321cd7d18240": {
      "model_module": "@jupyter-widgets/controls",
      "model_module_version": "1.5.0",
      "model_name": "ProgressStyleModel",
      "state": {
       "description_width": "initial"
      }
     },
     "94e775ef5d394702abdd180d8e01c823": {
      "model_module": "@jupyter-widgets/base",
      "model_module_version": "1.2.0",
      "model_name": "LayoutModel",
      "state": {}
     },
     "94fb6f404dd04ab0b673d969535b58e1": {
      "model_module": "@jupyter-widgets/base",
      "model_module_version": "1.2.0",
      "model_name": "LayoutModel",
      "state": {}
     },
     "9503ace3f770456fa54cdba3d98d5a92": {
      "model_module": "@jupyter-widgets/controls",
      "model_module_version": "1.5.0",
      "model_name": "HBoxModel",
      "state": {
       "children": [
        "IPY_MODEL_6a72291bd6f7458990796d946c39855c",
        "IPY_MODEL_b822908f25af4e25a02775c0922d58a2"
       ],
       "layout": "IPY_MODEL_3a32b4b66db547099b6cd0bcaca82358"
      }
     },
     "9525321056464c9d9d67d5900d9341ba": {
      "model_module": "@jupyter-widgets/base",
      "model_module_version": "1.2.0",
      "model_name": "LayoutModel",
      "state": {}
     },
     "954769b22db748a8b6ffab8e0fcb40af": {
      "model_module": "@jupyter-widgets/controls",
      "model_module_version": "1.5.0",
      "model_name": "FloatProgressModel",
      "state": {
       "bar_style": "success",
       "description": "[2] 1/1(val  ): 100%",
       "layout": "IPY_MODEL_f34da5fe57284295a8cdcf10ff0b7f69",
       "max": 1,
       "style": "IPY_MODEL_30e8623e06c64774ae1b26e54b6a1e52",
       "value": 1
      }
     },
     "9556f13c38914b60af53281d58c42af4": {
      "model_module": "@jupyter-widgets/controls",
      "model_module_version": "1.5.0",
      "model_name": "ProgressStyleModel",
      "state": {
       "description_width": "initial"
      }
     },
     "95dc701b6185429a95e3b1cfdff2ebfe": {
      "model_module": "@jupyter-widgets/base",
      "model_module_version": "1.2.0",
      "model_name": "LayoutModel",
      "state": {}
     },
     "95fa950a3545488f94bf6a0af14c1d9e": {
      "model_module": "@jupyter-widgets/base",
      "model_module_version": "1.2.0",
      "model_name": "LayoutModel",
      "state": {}
     },
     "96344beb610d46f19fe2fd15dff8319d": {
      "model_module": "@jupyter-widgets/controls",
      "model_module_version": "1.5.0",
      "model_name": "FloatProgressModel",
      "state": {
       "bar_style": "success",
       "description": "[0] 1/12(val  ): 100%",
       "layout": "IPY_MODEL_9241d721f6b54d999afb78453ceb4bba",
       "max": 165,
       "style": "IPY_MODEL_b0dbcd6a2ec04a6b9b59941312a5a560",
       "value": 165
      }
     },
     "964633361996443fa46b197d1ec05815": {
      "model_module": "@jupyter-widgets/controls",
      "model_module_version": "1.5.0",
      "model_name": "DescriptionStyleModel",
      "state": {
       "description_width": ""
      }
     },
     "96d1d72e185c41358e21dff52f7b122f": {
      "model_module": "@jupyter-widgets/controls",
      "model_module_version": "1.5.0",
      "model_name": "HBoxModel",
      "state": {
       "children": [
        "IPY_MODEL_b5dbf65e039743439b786663b65e2c0d",
        "IPY_MODEL_2d0c3205d56040e38195c6fbd68aa8ad"
       ],
       "layout": "IPY_MODEL_8893303a16aa46aeae92b6975accfb39"
      }
     },
     "96e56d9a88434278a9b168eb1f701f84": {
      "model_module": "@jupyter-widgets/controls",
      "model_module_version": "1.5.0",
      "model_name": "FloatProgressModel",
      "state": {
       "bar_style": "success",
       "description": "[2] 11/12(val  ): 100%",
       "layout": "IPY_MODEL_50438db1e5fc4b3a9af4b652df106401",
       "max": 157,
       "style": "IPY_MODEL_0cd940d914b241f492b2b2efccd92fd6",
       "value": 157
      }
     },
     "96f7fa2903b04b77b847999520656300": {
      "model_module": "@jupyter-widgets/controls",
      "model_module_version": "1.5.0",
      "model_name": "HBoxModel",
      "state": {
       "children": [
        "IPY_MODEL_1603cba2778d4fbca74d77d31506af04",
        "IPY_MODEL_7c1da96aba414011bba99009f36b495e"
       ],
       "layout": "IPY_MODEL_fd8b3193ae9e4e79b74164ae4c0d86b6"
      }
     },
     "97257f65c83d47139a965e9cb2c89cbb": {
      "model_module": "@jupyter-widgets/base",
      "model_module_version": "1.2.0",
      "model_name": "LayoutModel",
      "state": {}
     },
     "972e4c8579ff43219aec7dc170449669": {
      "model_module": "@jupyter-widgets/controls",
      "model_module_version": "1.5.0",
      "model_name": "HBoxModel",
      "state": {
       "children": [
        "IPY_MODEL_829ef39d3fa64761ab3326f4a1f902bf",
        "IPY_MODEL_fa0f021c48d94d3badd242d25f8fa55c"
       ],
       "layout": "IPY_MODEL_8fce59d9d1ca4602b804ab67ee066b90"
      }
     },
     "974d85ec5d3b4961afa450242830b550": {
      "model_module": "@jupyter-widgets/controls",
      "model_module_version": "1.5.0",
      "model_name": "FloatProgressModel",
      "state": {
       "bar_style": "success",
       "description": "[1] 3/12(val  ): 100%",
       "layout": "IPY_MODEL_04370c8d3f394616ac940ce28ac09cd0",
       "max": 157,
       "style": "IPY_MODEL_fc6d3e81fee6468495f37107e2a41fb9",
       "value": 157
      }
     },
     "97674257ee0340a180e167900e5b8bf8": {
      "model_module": "@jupyter-widgets/controls",
      "model_module_version": "1.5.0",
      "model_name": "DescriptionStyleModel",
      "state": {
       "description_width": ""
      }
     },
     "979a819cd5a2494595eac721ab8327ae": {
      "model_module": "@jupyter-widgets/base",
      "model_module_version": "1.2.0",
      "model_name": "LayoutModel",
      "state": {}
     },
     "97f8f703bab44194afee321b3e87df25": {
      "model_module": "@jupyter-widgets/controls",
      "model_module_version": "1.5.0",
      "model_name": "HTMLModel",
      "state": {
       "layout": "IPY_MODEL_eb8e0370a2ac4034beadcf7f7fb67226",
       "style": "IPY_MODEL_d2318850048c4f2f8b86ed9a3cd0181d",
       "value": " 469/469 [1:36:28&lt;00:00, 12.34s/it]"
      }
     },
     "9820cfc534174ca6ac009f2cb44c3cc7": {
      "model_module": "@jupyter-widgets/controls",
      "model_module_version": "1.5.0",
      "model_name": "ProgressStyleModel",
      "state": {
       "description_width": "initial"
      }
     },
     "98420b1998f4469885f3abfe9d1281f9": {
      "model_module": "@jupyter-widgets/controls",
      "model_module_version": "1.5.0",
      "model_name": "HTMLModel",
      "state": {
       "layout": "IPY_MODEL_9d248dba159d4642b6b477debb84d159",
       "style": "IPY_MODEL_b37e1822055f4d61aa9fa07f9d744a7b",
       "value": " 493/493 [8:28:52&lt;00:00, 61.93s/it]"
      }
     },
     "9845ac2493a844aab40bd9847b5433fc": {
      "model_module": "@jupyter-widgets/base",
      "model_module_version": "1.2.0",
      "model_name": "LayoutModel",
      "state": {}
     },
     "984668c379b44fdbab3596a71454a59a": {
      "model_module": "@jupyter-widgets/controls",
      "model_module_version": "1.5.0",
      "model_name": "DescriptionStyleModel",
      "state": {
       "description_width": ""
      }
     },
     "9846aed389324bfab0c9877d94ff092b": {
      "model_module": "@jupyter-widgets/controls",
      "model_module_version": "1.5.0",
      "model_name": "FloatProgressModel",
      "state": {
       "bar_style": "success",
       "description": "100%",
       "layout": "IPY_MODEL_4d62c78b4fc345669fab465e985375c2",
       "max": 165,
       "style": "IPY_MODEL_0b42a2b09e5143d88eeb634c5e292c49",
       "value": 165
      }
     },
     "98601030cbdf49d7b52a8cb49fcdaa44": {
      "model_module": "@jupyter-widgets/controls",
      "model_module_version": "1.5.0",
      "model_name": "FloatProgressModel",
      "state": {
       "bar_style": "success",
       "description": "100%",
       "layout": "IPY_MODEL_2c7279dc54b54f93a722f3fd92426168",
       "max": 1,
       "style": "IPY_MODEL_cf6913ef31cb4ea6b4bdf691c66924f8",
       "value": 1
      }
     },
     "98d50c1fea824a47aff1ed13c774c648": {
      "model_module": "@jupyter-widgets/base",
      "model_module_version": "1.2.0",
      "model_name": "LayoutModel",
      "state": {}
     },
     "98d9297aebb049829b196a2899369eaf": {
      "model_module": "@jupyter-widgets/controls",
      "model_module_version": "1.5.0",
      "model_name": "HBoxModel",
      "state": {
       "children": [
        "IPY_MODEL_99387e41ad1845a2a55a72ea1b22097b",
        "IPY_MODEL_33e89d0fba4e4a3ba6515bf3fa9d1292"
       ],
       "layout": "IPY_MODEL_d1408cad2d7f483e8fc8ccd019af140e"
      }
     },
     "98dc82655fa4456ab14f8695651c9877": {
      "model_module": "@jupyter-widgets/controls",
      "model_module_version": "1.5.0",
      "model_name": "DescriptionStyleModel",
      "state": {
       "description_width": ""
      }
     },
     "9901efe112cc4a6b943de1272292fc66": {
      "model_module": "@jupyter-widgets/controls",
      "model_module_version": "1.5.0",
      "model_name": "DescriptionStyleModel",
      "state": {
       "description_width": ""
      }
     },
     "991cbac002bb4b779b4b0c1ca7cd4c18": {
      "model_module": "@jupyter-widgets/base",
      "model_module_version": "1.2.0",
      "model_name": "LayoutModel",
      "state": {}
     },
     "99231b27818f4dc0af69186aa7cd0eb3": {
      "model_module": "@jupyter-widgets/base",
      "model_module_version": "1.2.0",
      "model_name": "LayoutModel",
      "state": {}
     },
     "99387e41ad1845a2a55a72ea1b22097b": {
      "model_module": "@jupyter-widgets/controls",
      "model_module_version": "1.5.0",
      "model_name": "FloatProgressModel",
      "state": {
       "bar_style": "success",
       "description": "[0] 2/12(train): 100%",
       "layout": "IPY_MODEL_eddf4f7943d44b588a3ac684cd870dcd",
       "max": 469,
       "style": "IPY_MODEL_3e24359d8fb5435588495856c4b22908",
       "value": 469
      }
     },
     "997f6651efcc4a90b8cf5a6a516c93da": {
      "model_module": "@jupyter-widgets/controls",
      "model_module_version": "1.5.0",
      "model_name": "HTMLModel",
      "state": {
       "layout": "IPY_MODEL_a130757d8d1e4718b8c0cce9b41d2d9f",
       "style": "IPY_MODEL_5e3e3b2a9cde40feb375f9523352329a",
       "value": " 165/165 [14:11&lt;00:00,  5.16s/it]"
      }
     },
     "99863f0e00bb4360b70ed77e29c0c2e4": {
      "model_module": "@jupyter-widgets/controls",
      "model_module_version": "1.5.0",
      "model_name": "DescriptionStyleModel",
      "state": {
       "description_width": ""
      }
     },
     "998d6821f5e941ad9f6f08dd8fca6ba6": {
      "model_module": "@jupyter-widgets/controls",
      "model_module_version": "1.5.0",
      "model_name": "ProgressStyleModel",
      "state": {
       "description_width": "initial"
      }
     },
     "9995168fc9b3491c89a89c72b1b47669": {
      "model_module": "@jupyter-widgets/controls",
      "model_module_version": "1.5.0",
      "model_name": "FloatProgressModel",
      "state": {
       "bar_style": "success",
       "description": "[2] 4/12(val  ): 100%",
       "layout": "IPY_MODEL_abed254b349b47caa584176b38ac705c",
       "max": 165,
       "style": "IPY_MODEL_62c5f67a761847dea82f88599ffe3c38",
       "value": 165
      }
     },
     "99e0f7b6453c436f983f43510d7551fd": {
      "model_module": "@jupyter-widgets/controls",
      "model_module_version": "1.5.0",
      "model_name": "HTMLModel",
      "state": {
       "layout": "IPY_MODEL_6b33357d870548efbdd9a0d1254a3ebc",
       "style": "IPY_MODEL_b3a3ad4bce834fbd886226d3edf239f9",
       "value": " 493/493 [5:18:23&lt;00:00, 38.75s/it]"
      }
     },
     "99e4aae54dd9444d806e170efb5aae61": {
      "model_module": "@jupyter-widgets/base",
      "model_module_version": "1.2.0",
      "model_name": "LayoutModel",
      "state": {}
     },
     "99fe7e34faeb4dc1b5300595094a466e": {
      "model_module": "@jupyter-widgets/controls",
      "model_module_version": "1.5.0",
      "model_name": "FloatProgressModel",
      "state": {
       "bar_style": "success",
       "description": "[1] 6/12(train): 100%",
       "layout": "IPY_MODEL_8ec2b2f5b1104650b87aab73dbf22e90",
       "max": 493,
       "style": "IPY_MODEL_83ebb7fe334847bd8398ab56ff2a5bcb",
       "value": 493
      }
     },
     "9a1402b2e0b14a3b9994519d27f24fb6": {
      "model_module": "@jupyter-widgets/controls",
      "model_module_version": "1.5.0",
      "model_name": "ProgressStyleModel",
      "state": {
       "description_width": "initial"
      }
     },
     "9a509fff31c34701b1ec1aec83a9123c": {
      "model_module": "@jupyter-widgets/controls",
      "model_module_version": "1.5.0",
      "model_name": "ProgressStyleModel",
      "state": {
       "description_width": "initial"
      }
     },
     "9a58a46b3da9440d9cb242179f9a4a74": {
      "model_module": "@jupyter-widgets/base",
      "model_module_version": "1.2.0",
      "model_name": "LayoutModel",
      "state": {}
     },
     "9a67847124084aa6a561ed8112acd098": {
      "model_module": "@jupyter-widgets/controls",
      "model_module_version": "1.5.0",
      "model_name": "DescriptionStyleModel",
      "state": {
       "description_width": ""
      }
     },
     "9a69cb19c0d2491da1c7b2b2ece0cff9": {
      "model_module": "@jupyter-widgets/controls",
      "model_module_version": "1.5.0",
      "model_name": "DescriptionStyleModel",
      "state": {
       "description_width": ""
      }
     },
     "9a69d105ec144dfe89668da1667c437f": {
      "model_module": "@jupyter-widgets/controls",
      "model_module_version": "1.5.0",
      "model_name": "ProgressStyleModel",
      "state": {
       "description_width": "initial"
      }
     },
     "9ac06c58dc364465b4fcc5330c3ede26": {
      "model_module": "@jupyter-widgets/controls",
      "model_module_version": "1.5.0",
      "model_name": "DescriptionStyleModel",
      "state": {
       "description_width": ""
      }
     },
     "9b27d0393cb14e92b352f513cd1e450c": {
      "model_module": "@jupyter-widgets/controls",
      "model_module_version": "1.5.0",
      "model_name": "HTMLModel",
      "state": {
       "layout": "IPY_MODEL_dbe5829255d2478ca004517292a4a5dc",
       "style": "IPY_MODEL_cb791e790b874698b680c2fa149eef7a",
       "value": " 157/157 [22:19&lt;00:00,  8.53s/it]"
      }
     },
     "9b3e6545036949d0a62aa255598c9818": {
      "model_module": "@jupyter-widgets/controls",
      "model_module_version": "1.5.0",
      "model_name": "HTMLModel",
      "state": {
       "layout": "IPY_MODEL_9b6d57b2bf1c49f4bfe8894495ca75bc",
       "style": "IPY_MODEL_185c55772a73474cb1db9ac3d1b42f73",
       "value": " 493/493 [46:30&lt;00:00,  5.66s/it]"
      }
     },
     "9b6d57b2bf1c49f4bfe8894495ca75bc": {
      "model_module": "@jupyter-widgets/base",
      "model_module_version": "1.2.0",
      "model_name": "LayoutModel",
      "state": {}
     },
     "9b7455448d4643238c2e43c991d68bb6": {
      "model_module": "@jupyter-widgets/controls",
      "model_module_version": "1.5.0",
      "model_name": "ProgressStyleModel",
      "state": {
       "description_width": "initial"
      }
     },
     "9b8c4e89da5640ef8b7c93cf8a884196": {
      "model_module": "@jupyter-widgets/controls",
      "model_module_version": "1.5.0",
      "model_name": "ProgressStyleModel",
      "state": {
       "description_width": "initial"
      }
     },
     "9b8d2231e0244742b0000b47264b06f4": {
      "model_module": "@jupyter-widgets/base",
      "model_module_version": "1.2.0",
      "model_name": "LayoutModel",
      "state": {}
     },
     "9ba038a8e56340babac496ef87ff5bad": {
      "model_module": "@jupyter-widgets/controls",
      "model_module_version": "1.5.0",
      "model_name": "ProgressStyleModel",
      "state": {
       "description_width": "initial"
      }
     },
     "9be0b8a816fd416baf22c65a7e1079bf": {
      "model_module": "@jupyter-widgets/controls",
      "model_module_version": "1.5.0",
      "model_name": "FloatProgressModel",
      "state": {
       "bar_style": "success",
       "description": "[3] 3/12(train): 100%",
       "layout": "IPY_MODEL_702c3daa4aea43429496825dd6bd613d",
       "max": 469,
       "style": "IPY_MODEL_dd12f61511224958ad2c04393bd25d23",
       "value": 469
      }
     },
     "9bef7e61971c4553a054bb528d49e1c9": {
      "model_module": "@jupyter-widgets/controls",
      "model_module_version": "1.5.0",
      "model_name": "HBoxModel",
      "state": {
       "children": [
        "IPY_MODEL_7c0ddf3fbcd74c21a138659690f21de8",
        "IPY_MODEL_698822326ed1438aade33bc90f8d97fe"
       ],
       "layout": "IPY_MODEL_36e0f85a649640cea3a92e03dd3c68e1"
      }
     },
     "9bf7791a002c40b5b965835c32203a6f": {
      "model_module": "@jupyter-widgets/base",
      "model_module_version": "1.2.0",
      "model_name": "LayoutModel",
      "state": {}
     },
     "9c3b12cbfd6748cab9377ba90a46a8f5": {
      "model_module": "@jupyter-widgets/controls",
      "model_module_version": "1.5.0",
      "model_name": "HBoxModel",
      "state": {
       "children": [
        "IPY_MODEL_ede38f3ceee64bf58f00e85573c2aeac",
        "IPY_MODEL_4005a6e012204917a86bfd6da26c2d58"
       ],
       "layout": "IPY_MODEL_0122b5b6800b464bb0635e3b8bf101b2"
      }
     },
     "9c4b0a07afe5453588717853ec17e9de": {
      "model_module": "@jupyter-widgets/controls",
      "model_module_version": "1.5.0",
      "model_name": "HTMLModel",
      "state": {
       "layout": "IPY_MODEL_5555bcf7c2fc4bbf9af81be07f9ac198",
       "style": "IPY_MODEL_2a1fff532b73436ba75ee11984707149",
       "value": " 493/493 [1:32:12&lt;00:00, 11.22s/it]"
      }
     },
     "9c55e3e6aaa1498d92f9a982205df5f4": {
      "model_module": "@jupyter-widgets/controls",
      "model_module_version": "1.5.0",
      "model_name": "FloatProgressModel",
      "state": {
       "bar_style": "success",
       "description": "[0] 12/12(val  ): 100%",
       "layout": "IPY_MODEL_a8d2fe2116bc40bdbe2a10cfb302f4a6",
       "max": 157,
       "style": "IPY_MODEL_4b93786ea0c84f558922160a5c84a324",
       "value": 157
      }
     },
     "9c81841e3dd24c29a1ff3bff8ffb66ed": {
      "model_module": "@jupyter-widgets/controls",
      "model_module_version": "1.5.0",
      "model_name": "HTMLModel",
      "state": {
       "layout": "IPY_MODEL_3c12b33b9afa46219846aa54073149e7",
       "style": "IPY_MODEL_2abe47247cb2469b943c436e80884aee",
       "value": " 157/157 [22:15&lt;00:00,  8.51s/it]"
      }
     },
     "9cd4982cbcc44c2590fb09f6108be870": {
      "model_module": "@jupyter-widgets/controls",
      "model_module_version": "1.5.0",
      "model_name": "HBoxModel",
      "state": {
       "children": [
        "IPY_MODEL_5abac3a2e8d74277881e0cf674adb90c",
        "IPY_MODEL_db0351435a8143f79f352563b83d4df8"
       ],
       "layout": "IPY_MODEL_42b2be6c0e5d412f8271382e5c1d9a32"
      }
     },
     "9ce5a7e7d47c4411b26a2f5fd30b5fa6": {
      "model_module": "@jupyter-widgets/controls",
      "model_module_version": "1.5.0",
      "model_name": "ProgressStyleModel",
      "state": {
       "description_width": "initial"
      }
     },
     "9d03f626cf1541b5b2e83057a350e434": {
      "model_module": "@jupyter-widgets/controls",
      "model_module_version": "1.5.0",
      "model_name": "HTMLModel",
      "state": {
       "layout": "IPY_MODEL_b3a5b299ad2e45b38eccc5bf6e6bfb28",
       "style": "IPY_MODEL_a9315d09b65d4cf68545b83d478f24b6",
       "value": " 469/469 [1:38:13&lt;00:00, 12.57s/it]"
      }
     },
     "9d07406fda994efc89c3b067d1935eff": {
      "model_module": "@jupyter-widgets/controls",
      "model_module_version": "1.5.0",
      "model_name": "HTMLModel",
      "state": {
       "layout": "IPY_MODEL_a311a70cab1e4957884d30798947e223",
       "style": "IPY_MODEL_6a106cf52f04432f90796b957b1d1240",
       "value": " 493/493 [45:54&lt;00:00,  5.59s/it]"
      }
     },
     "9d246ede454f4ae38fa9ea042f2c68a3": {
      "model_module": "@jupyter-widgets/controls",
      "model_module_version": "1.5.0",
      "model_name": "DescriptionStyleModel",
      "state": {
       "description_width": ""
      }
     },
     "9d248dba159d4642b6b477debb84d159": {
      "model_module": "@jupyter-widgets/base",
      "model_module_version": "1.2.0",
      "model_name": "LayoutModel",
      "state": {}
     },
     "9d36808d75a44ce1b515524a2e8fcd4b": {
      "model_module": "@jupyter-widgets/controls",
      "model_module_version": "1.5.0",
      "model_name": "HTMLModel",
      "state": {
       "layout": "IPY_MODEL_1092f653bc414374bfcf03cba59305d5",
       "style": "IPY_MODEL_8495374c594b49049f02ccaaf34789dc",
       "value": " 157/157 [1:35:22&lt;00:00, 36.45s/it]"
      }
     },
     "9d4d11f162914714912d026802c99f33": {
      "model_module": "@jupyter-widgets/base",
      "model_module_version": "1.2.0",
      "model_name": "LayoutModel",
      "state": {}
     },
     "9d5bfbea1a4248aa8e0a5b7ba309ba3b": {
      "model_module": "@jupyter-widgets/controls",
      "model_module_version": "1.5.0",
      "model_name": "DescriptionStyleModel",
      "state": {
       "description_width": ""
      }
     },
     "9d710d2634bb4d0b9be2a7d6cb939437": {
      "model_module": "@jupyter-widgets/controls",
      "model_module_version": "1.5.0",
      "model_name": "HTMLModel",
      "state": {
       "layout": "IPY_MODEL_741d68847b1d46ff8aafdcd0e2615886",
       "style": "IPY_MODEL_caa9e835582c47d4a139b07ff63afbe2",
       "value": " 469/469 [18:43:11&lt;00:00, 143.69s/it]"
      }
     },
     "9d7112bce75746e1beaa5273511d6470": {
      "model_module": "@jupyter-widgets/controls",
      "model_module_version": "1.5.0",
      "model_name": "HTMLModel",
      "state": {
       "layout": "IPY_MODEL_cdacc61d14134f8ab127bc08e7fd9b02",
       "style": "IPY_MODEL_68f1fed190f643e4a871a53ac6d2092e",
       "value": " 157/157 [3:26:11&lt;00:00, 78.80s/it]"
      }
     },
     "9dd03cceb22445ec9939a839d341ed4c": {
      "model_module": "@jupyter-widgets/controls",
      "model_module_version": "1.5.0",
      "model_name": "ProgressStyleModel",
      "state": {
       "description_width": "initial"
      }
     },
     "9e11a387f5cd4f26b05b949dc3ff3c0d": {
      "model_module": "@jupyter-widgets/base",
      "model_module_version": "1.2.0",
      "model_name": "LayoutModel",
      "state": {}
     },
     "9e255ac11882489b8d04715d399a5a4f": {
      "model_module": "@jupyter-widgets/controls",
      "model_module_version": "1.5.0",
      "model_name": "ProgressStyleModel",
      "state": {
       "description_width": "initial"
      }
     },
     "9e2fe02bb9db46f7a607adcf2dd969fd": {
      "model_module": "@jupyter-widgets/controls",
      "model_module_version": "1.5.0",
      "model_name": "FloatProgressModel",
      "state": {
       "bar_style": "success",
       "description": "[1] 7/12(val  ): 100%",
       "layout": "IPY_MODEL_626b2f2c8552410bb28fab3b2ead9d57",
       "max": 165,
       "style": "IPY_MODEL_a0a3442f94d14c58be33b1d539fa8883",
       "value": 165
      }
     },
     "9e371e3e7de74ec7bd4d78f722054eee": {
      "model_module": "@jupyter-widgets/controls",
      "model_module_version": "1.5.0",
      "model_name": "HBoxModel",
      "state": {
       "children": [
        "IPY_MODEL_9ff5d05ab49448989cb3f9e5aa7256d6",
        "IPY_MODEL_099f60e6a1c74aa89560dc091fb88c85"
       ],
       "layout": "IPY_MODEL_4f74bc471e874aed964bcb1960c50747"
      }
     },
     "9e391923f33e47b1ae42b8e0ff47eec1": {
      "model_module": "@jupyter-widgets/controls",
      "model_module_version": "1.5.0",
      "model_name": "HTMLModel",
      "state": {
       "layout": "IPY_MODEL_e38a39d84d0c4f46a7bd74b8f3fbfbc2",
       "style": "IPY_MODEL_c27ad281da3c4d4b9d294c142c9f8a77",
       "value": " 157/157 [3:26:25&lt;00:00, 78.89s/it]"
      }
     },
     "9eabf1ed4987488b8e151cd05851d55f": {
      "model_module": "@jupyter-widgets/controls",
      "model_module_version": "1.5.0",
      "model_name": "HTMLModel",
      "state": {
       "layout": "IPY_MODEL_1845132f6c9e448aa442aa45d5ce54e1",
       "style": "IPY_MODEL_884f17be23e54bd28b4b833dad6d8e45",
       "value": " 469/469 [1:31:35&lt;00:00, 11.72s/it]"
      }
     },
     "9ecf6f40375a48e4952d3f58a421a361": {
      "model_module": "@jupyter-widgets/base",
      "model_module_version": "1.2.0",
      "model_name": "LayoutModel",
      "state": {}
     },
     "9ecf94a956b841a493ca253c4970ae3d": {
      "model_module": "@jupyter-widgets/controls",
      "model_module_version": "1.5.0",
      "model_name": "ProgressStyleModel",
      "state": {
       "description_width": "initial"
      }
     },
     "9ee01316e823436eaeeb633e587f613f": {
      "model_module": "@jupyter-widgets/controls",
      "model_module_version": "1.5.0",
      "model_name": "ProgressStyleModel",
      "state": {
       "description_width": "initial"
      }
     },
     "9ee264517c1c4c7c9744a91f7273247b": {
      "model_module": "@jupyter-widgets/base",
      "model_module_version": "1.2.0",
      "model_name": "LayoutModel",
      "state": {}
     },
     "9f6b6d38bd7d430cad557cf5ac5252a5": {
      "model_module": "@jupyter-widgets/controls",
      "model_module_version": "1.5.0",
      "model_name": "HTMLModel",
      "state": {
       "layout": "IPY_MODEL_5cfe24a2353d4282b5f2e0d316d6941b",
       "style": "IPY_MODEL_d69ff4cea40c405abb76e7abbd454cdc",
       "value": " 165/165 [11:49&lt;00:00,  4.30s/it]"
      }
     },
     "9f832084961b458cb48a8f61330c2631": {
      "model_module": "@jupyter-widgets/base",
      "model_module_version": "1.2.0",
      "model_name": "LayoutModel",
      "state": {}
     },
     "9fe4bc6d4eec4f0dbd3c35fefc141cbd": {
      "model_module": "@jupyter-widgets/controls",
      "model_module_version": "1.5.0",
      "model_name": "HTMLModel",
      "state": {
       "layout": "IPY_MODEL_07c98d6f08ff4b34aaeb49d35239c2a1",
       "style": "IPY_MODEL_194cdead3adf4ec6af5f3eb19b43b3a9",
       "value": " 469/469 [1:34:54&lt;00:00, 12.14s/it]"
      }
     },
     "9ff43a00070c40a68d0dcaa05eeb3c81": {
      "model_module": "@jupyter-widgets/controls",
      "model_module_version": "1.5.0",
      "model_name": "DescriptionStyleModel",
      "state": {
       "description_width": ""
      }
     },
     "9ff5d05ab49448989cb3f9e5aa7256d6": {
      "model_module": "@jupyter-widgets/controls",
      "model_module_version": "1.5.0",
      "model_name": "FloatProgressModel",
      "state": {
       "bar_style": "success",
       "description": "[3] 5/12(train): 100%",
       "layout": "IPY_MODEL_a21e8d7dc93645cba375dc28931e4d86",
       "max": 469,
       "style": "IPY_MODEL_1cfd3eb1a94149819c9fb773a4d521f1",
       "value": 469
      }
     },
     "a02f45a02c544dfd90cbbdb13dc5e2f6": {
      "model_module": "@jupyter-widgets/base",
      "model_module_version": "1.2.0",
      "model_name": "LayoutModel",
      "state": {}
     },
     "a09735fd0290479eb76b63e2e3cb199a": {
      "model_module": "@jupyter-widgets/controls",
      "model_module_version": "1.5.0",
      "model_name": "FloatProgressModel",
      "state": {
       "bar_style": "success",
       "description": "[1] 9/12(val  ): 100%",
       "layout": "IPY_MODEL_a207944880c04d5bac502b219fd76d3b",
       "max": 157,
       "style": "IPY_MODEL_1ea2d91da4454bc8877a33db7bd44b8e",
       "value": 157
      }
     },
     "a0a3442f94d14c58be33b1d539fa8883": {
      "model_module": "@jupyter-widgets/controls",
      "model_module_version": "1.5.0",
      "model_name": "ProgressStyleModel",
      "state": {
       "description_width": "initial"
      }
     },
     "a0f59730d8a04220a5500ccc56881021": {
      "model_module": "@jupyter-widgets/controls",
      "model_module_version": "1.5.0",
      "model_name": "HTMLModel",
      "state": {
       "layout": "IPY_MODEL_7728a085cf8d441da512a467a253aa67",
       "style": "IPY_MODEL_810ab414bea44ee89ad964af8d7045ed",
       "value": " 165/165 [7:01:16&lt;00:00, 153.19s/it]"
      }
     },
     "a130757d8d1e4718b8c0cce9b41d2d9f": {
      "model_module": "@jupyter-widgets/base",
      "model_module_version": "1.2.0",
      "model_name": "LayoutModel",
      "state": {}
     },
     "a1452d1571e9423f9b4beee37df655f5": {
      "model_module": "@jupyter-widgets/controls",
      "model_module_version": "1.5.0",
      "model_name": "HBoxModel",
      "state": {
       "children": [
        "IPY_MODEL_ba267ac98dc9405ebb8cbe20d5f41b5f",
        "IPY_MODEL_a7fe2593614f498a906d221bcf611cb8"
       ],
       "layout": "IPY_MODEL_f751dc6a78ad43b7b52b1ccc3300d1d4"
      }
     },
     "a14a8fc0b50645369b89c3db1f2fe8ca": {
      "model_module": "@jupyter-widgets/base",
      "model_module_version": "1.2.0",
      "model_name": "LayoutModel",
      "state": {}
     },
     "a15e997d5f724821aa9fc9ae7cfd38a8": {
      "model_module": "@jupyter-widgets/base",
      "model_module_version": "1.2.0",
      "model_name": "LayoutModel",
      "state": {}
     },
     "a163372fad6f4d118db5241f38963840": {
      "model_module": "@jupyter-widgets/base",
      "model_module_version": "1.2.0",
      "model_name": "LayoutModel",
      "state": {}
     },
     "a207944880c04d5bac502b219fd76d3b": {
      "model_module": "@jupyter-widgets/base",
      "model_module_version": "1.2.0",
      "model_name": "LayoutModel",
      "state": {}
     },
     "a2157d7b5957498f9a3ddd6e26e8e01c": {
      "model_module": "@jupyter-widgets/base",
      "model_module_version": "1.2.0",
      "model_name": "LayoutModel",
      "state": {}
     },
     "a2158d380c94445a8557bf061afbb3ca": {
      "model_module": "@jupyter-widgets/controls",
      "model_module_version": "1.5.0",
      "model_name": "DescriptionStyleModel",
      "state": {
       "description_width": ""
      }
     },
     "a21a2742a9a64d5eac77deecc8c23491": {
      "model_module": "@jupyter-widgets/controls",
      "model_module_version": "1.5.0",
      "model_name": "HBoxModel",
      "state": {
       "children": [
        "IPY_MODEL_79c3deb56b27486cb10ebdf0d6736196",
        "IPY_MODEL_ba40b9bcf0fe4591a8af3551c00ead12"
       ],
       "layout": "IPY_MODEL_08945bebf6ab467ea33a844db2c32e6a"
      }
     },
     "a21e8d7dc93645cba375dc28931e4d86": {
      "model_module": "@jupyter-widgets/base",
      "model_module_version": "1.2.0",
      "model_name": "LayoutModel",
      "state": {}
     },
     "a242e6d90266409ea193c3783cdaecef": {
      "model_module": "@jupyter-widgets/controls",
      "model_module_version": "1.5.0",
      "model_name": "FloatProgressModel",
      "state": {
       "bar_style": "danger",
       "description": "[1] 1/10(train):   0%",
       "layout": "IPY_MODEL_ffa6bc6a4685457985393b2b6c7b75f2",
       "max": 3,
       "style": "IPY_MODEL_b03adff5bca949bead7ca79fad6d8537"
      }
     },
     "a2ab0d6bad2745689664cc4f77cf370a": {
      "model_module": "@jupyter-widgets/controls",
      "model_module_version": "1.5.0",
      "model_name": "HBoxModel",
      "state": {
       "children": [
        "IPY_MODEL_6104675317594e409feb247aebc32e88",
        "IPY_MODEL_94ce05da93c84203a7a2ccb126440337"
       ],
       "layout": "IPY_MODEL_6723c079cf484e48a5b05adb1895a5e6"
      }
     },
     "a2e8dd9519ee4ec58f807af6ea35e7ea": {
      "model_module": "@jupyter-widgets/base",
      "model_module_version": "1.2.0",
      "model_name": "LayoutModel",
      "state": {}
     },
     "a311a70cab1e4957884d30798947e223": {
      "model_module": "@jupyter-widgets/base",
      "model_module_version": "1.2.0",
      "model_name": "LayoutModel",
      "state": {}
     },
     "a31bde0aaf7249b087fbbbb45c4421ae": {
      "model_module": "@jupyter-widgets/base",
      "model_module_version": "1.2.0",
      "model_name": "LayoutModel",
      "state": {}
     },
     "a31f40888b284274965e8471a25b7931": {
      "model_module": "@jupyter-widgets/controls",
      "model_module_version": "1.5.0",
      "model_name": "HTMLModel",
      "state": {
       "layout": "IPY_MODEL_625913998d29419bb9b8937a149ae1dd",
       "style": "IPY_MODEL_506decaee901455fbcfcffa7f58f15cd",
       "value": " 469/469 [18:43:08&lt;00:00, 143.69s/it]"
      }
     },
     "a372734bc1d64c399812c4c00b3ee6cd": {
      "model_module": "@jupyter-widgets/controls",
      "model_module_version": "1.5.0",
      "model_name": "DescriptionStyleModel",
      "state": {
       "description_width": ""
      }
     },
     "a379ab2877f64935b9dd10ea286fc415": {
      "model_module": "@jupyter-widgets/controls",
      "model_module_version": "1.5.0",
      "model_name": "HBoxModel",
      "state": {
       "children": [
        "IPY_MODEL_f614c085ad214e359b7154e2d8a30a27",
        "IPY_MODEL_2e9cffe90be64150b63f68b4d226577b"
       ],
       "layout": "IPY_MODEL_e0345abd1ff74db09ecccea3a0fb8aec"
      }
     },
     "a3929d77d4ae492a91a6c70ce68217e4": {
      "model_module": "@jupyter-widgets/controls",
      "model_module_version": "1.5.0",
      "model_name": "FloatProgressModel",
      "state": {
       "bar_style": "success",
       "description": "[1] 4/12(val  ): 100%",
       "layout": "IPY_MODEL_23293687590543ac863b961435409bf3",
       "max": 157,
       "style": "IPY_MODEL_35fb43736e3b4621a63283cbd74ab98f",
       "value": 157
      }
     },
     "a3a9423ca17444218aede1c2e282ce70": {
      "model_module": "@jupyter-widgets/base",
      "model_module_version": "1.2.0",
      "model_name": "LayoutModel",
      "state": {}
     },
     "a3d7be8b93874752a5e4440c0046e12e": {
      "model_module": "@jupyter-widgets/base",
      "model_module_version": "1.2.0",
      "model_name": "LayoutModel",
      "state": {}
     },
     "a43ebf849a914fdc862dad5811728f94": {
      "model_module": "@jupyter-widgets/controls",
      "model_module_version": "1.5.0",
      "model_name": "FloatProgressModel",
      "state": {
       "bar_style": "success",
       "description": "[0] 8/12(train): 100%",
       "layout": "IPY_MODEL_68b4ebcdbe12484b90e6bbce67e7c020",
       "max": 493,
       "style": "IPY_MODEL_9ce5a7e7d47c4411b26a2f5fd30b5fa6",
       "value": 493
      }
     },
     "a44fe58985b44d3abd7a059bffdf1c3e": {
      "model_module": "@jupyter-widgets/controls",
      "model_module_version": "1.5.0",
      "model_name": "ProgressStyleModel",
      "state": {
       "description_width": "initial"
      }
     },
     "a48bfbfff7a1470cbab092ac4c2241f3": {
      "model_module": "@jupyter-widgets/base",
      "model_module_version": "1.2.0",
      "model_name": "LayoutModel",
      "state": {}
     },
     "a4d3ae04b9b44f8c927a02902a6a8805": {
      "model_module": "@jupyter-widgets/controls",
      "model_module_version": "1.5.0",
      "model_name": "HBoxModel",
      "state": {
       "children": [
        "IPY_MODEL_8e12070dc97e47c9bc566518433f749f",
        "IPY_MODEL_d2ffd848d862497b90896d67325010c6"
       ],
       "layout": "IPY_MODEL_39a9a74f73aa4afba90bba189df568fb"
      }
     },
     "a4dfe8b104d84c8496a432da7fd5c86e": {
      "model_module": "@jupyter-widgets/base",
      "model_module_version": "1.2.0",
      "model_name": "LayoutModel",
      "state": {}
     },
     "a5116b33306d463d8ea9a0203743de65": {
      "model_module": "@jupyter-widgets/controls",
      "model_module_version": "1.5.0",
      "model_name": "ProgressStyleModel",
      "state": {
       "description_width": "initial"
      }
     },
     "a51a19d1baf14a78abfd01be160b62bd": {
      "model_module": "@jupyter-widgets/controls",
      "model_module_version": "1.5.0",
      "model_name": "ProgressStyleModel",
      "state": {
       "description_width": "initial"
      }
     },
     "a52dcee07b764c9d98676522fb82bb32": {
      "model_module": "@jupyter-widgets/controls",
      "model_module_version": "1.5.0",
      "model_name": "ProgressStyleModel",
      "state": {
       "description_width": "initial"
      }
     },
     "a534504f1f3343fe98d4561a217a733c": {
      "model_module": "@jupyter-widgets/controls",
      "model_module_version": "1.5.0",
      "model_name": "DescriptionStyleModel",
      "state": {
       "description_width": ""
      }
     },
     "a5367cf9ba0945f8a072e898d9f70aa8": {
      "model_module": "@jupyter-widgets/base",
      "model_module_version": "1.2.0",
      "model_name": "LayoutModel",
      "state": {}
     },
     "a54bb13b9d49417390dee7ed9a4d5aa2": {
      "model_module": "@jupyter-widgets/base",
      "model_module_version": "1.2.0",
      "model_name": "LayoutModel",
      "state": {}
     },
     "a55a7e35379149e78b06d63c6dec2dc1": {
      "model_module": "@jupyter-widgets/controls",
      "model_module_version": "1.5.0",
      "model_name": "HTMLModel",
      "state": {
       "layout": "IPY_MODEL_cf5f7bd57a624391a4260cabf6d464ca",
       "style": "IPY_MODEL_5a5b72ea23444a7a89306598e20dfa0c",
       "value": " 165/165 [10:57&lt;00:00,  3.98s/it]"
      }
     },
     "a577bd42b0f342248e1318772b58872a": {
      "model_module": "@jupyter-widgets/base",
      "model_module_version": "1.2.0",
      "model_name": "LayoutModel",
      "state": {}
     },
     "a57befa6f745406cb47a4b162f667add": {
      "model_module": "@jupyter-widgets/controls",
      "model_module_version": "1.5.0",
      "model_name": "HTMLModel",
      "state": {
       "layout": "IPY_MODEL_b8d2d5c7d6d048cdada9a0bf263d13c5",
       "style": "IPY_MODEL_4374033a20f4498480f0e0265bcfb7cd",
       "value": " 157/157 [24:16&lt;00:00,  9.28s/it]"
      }
     },
     "a5c2466428e84651b3cd9977aaf8f12d": {
      "model_module": "@jupyter-widgets/base",
      "model_module_version": "1.2.0",
      "model_name": "LayoutModel",
      "state": {}
     },
     "a627a4f7b45a4e0c94599a52684194b0": {
      "model_module": "@jupyter-widgets/base",
      "model_module_version": "1.2.0",
      "model_name": "LayoutModel",
      "state": {}
     },
     "a63489dec9194bba9ac3fc5e98907f63": {
      "model_module": "@jupyter-widgets/controls",
      "model_module_version": "1.5.0",
      "model_name": "DescriptionStyleModel",
      "state": {
       "description_width": ""
      }
     },
     "a699c4fb6ddc4f6e83ed790f6db4658e": {
      "model_module": "@jupyter-widgets/base",
      "model_module_version": "1.2.0",
      "model_name": "LayoutModel",
      "state": {}
     },
     "a6a5a21131fd4047aeca8582a71af2ad": {
      "model_module": "@jupyter-widgets/controls",
      "model_module_version": "1.5.0",
      "model_name": "DescriptionStyleModel",
      "state": {
       "description_width": ""
      }
     },
     "a6d4594f9dd94a128a5488209cfc704d": {
      "model_module": "@jupyter-widgets/controls",
      "model_module_version": "1.5.0",
      "model_name": "FloatProgressModel",
      "state": {
       "bar_style": "success",
       "description": "[2] 7/12(train): 100%",
       "layout": "IPY_MODEL_544f2826204e44efa5862736ea92d34b",
       "max": 469,
       "style": "IPY_MODEL_fff026d303f74aa0b0ea3267d21bc17c",
       "value": 469
      }
     },
     "a6d65690033748e3b98c0efa25d2a811": {
      "model_module": "@jupyter-widgets/controls",
      "model_module_version": "1.5.0",
      "model_name": "ProgressStyleModel",
      "state": {
       "description_width": "initial"
      }
     },
     "a6db382d25db45418992acabb4ea46e6": {
      "model_module": "@jupyter-widgets/base",
      "model_module_version": "1.2.0",
      "model_name": "LayoutModel",
      "state": {}
     },
     "a765fb3ddee4497186d300c6a52d8336": {
      "model_module": "@jupyter-widgets/base",
      "model_module_version": "1.2.0",
      "model_name": "LayoutModel",
      "state": {}
     },
     "a79d3d2be2bf4d1ba8f5ccae74bb7d42": {
      "model_module": "@jupyter-widgets/base",
      "model_module_version": "1.2.0",
      "model_name": "LayoutModel",
      "state": {}
     },
     "a7aa70f2f33e49f5ad35b6d748c4972a": {
      "model_module": "@jupyter-widgets/base",
      "model_module_version": "1.2.0",
      "model_name": "LayoutModel",
      "state": {}
     },
     "a7fe2593614f498a906d221bcf611cb8": {
      "model_module": "@jupyter-widgets/controls",
      "model_module_version": "1.5.0",
      "model_name": "HTMLModel",
      "state": {
       "layout": "IPY_MODEL_8691c4f036b44d81971d54aa6cba06ca",
       "style": "IPY_MODEL_e8732568aeb14b0b865f55f8c765db62",
       "value": " 157/157 [3:24:00&lt;00:00, 77.97s/it]"
      }
     },
     "a82a57575faa45f495b5918fbcc4e579": {
      "model_module": "@jupyter-widgets/controls",
      "model_module_version": "1.5.0",
      "model_name": "HTMLModel",
      "state": {
       "layout": "IPY_MODEL_0109cde5d6974df0ad14a61e0cf6ef22",
       "style": "IPY_MODEL_338100e579ec417fafbb7f9d1aa5f395",
       "value": " 1/1 [00:07&lt;00:00,  7.65s/it]"
      }
     },
     "a8342e8956214bcfb482b7d84e9e0f01": {
      "model_module": "@jupyter-widgets/base",
      "model_module_version": "1.2.0",
      "model_name": "LayoutModel",
      "state": {}
     },
     "a83a111046534738ac046ab928c76c38": {
      "model_module": "@jupyter-widgets/controls",
      "model_module_version": "1.5.0",
      "model_name": "ProgressStyleModel",
      "state": {
       "description_width": "initial"
      }
     },
     "a850636c3a2040c48782a596f5a0ca32": {
      "model_module": "@jupyter-widgets/controls",
      "model_module_version": "1.5.0",
      "model_name": "HBoxModel",
      "state": {
       "children": [
        "IPY_MODEL_19da876682d143189e45b002e6f863a1",
        "IPY_MODEL_f5ec71b82cd1483da4d4e59f69b9f3d7"
       ],
       "layout": "IPY_MODEL_f204d98653b1429ab14e11979bd68711"
      }
     },
     "a888408f06f34edfa5bc773c7afa2a25": {
      "model_module": "@jupyter-widgets/controls",
      "model_module_version": "1.5.0",
      "model_name": "DescriptionStyleModel",
      "state": {
       "description_width": ""
      }
     },
     "a89962b161ac4c80b0acfc9fb38191b4": {
      "model_module": "@jupyter-widgets/controls",
      "model_module_version": "1.5.0",
      "model_name": "FloatProgressModel",
      "state": {
       "bar_style": "success",
       "description": "[2] 2/12(val  ): 100%",
       "layout": "IPY_MODEL_25c785d0ffa94eb1b65f380d09fbac56",
       "max": 157,
       "style": "IPY_MODEL_626181e51a8b432282f87ae22caace55",
       "value": 157
      }
     },
     "a89a38d9e829477a84d1e94bc87f4ebf": {
      "model_module": "@jupyter-widgets/base",
      "model_module_version": "1.2.0",
      "model_name": "LayoutModel",
      "state": {}
     },
     "a8cc52b8c7e14cdeb2d6ad440eedf457": {
      "model_module": "@jupyter-widgets/base",
      "model_module_version": "1.2.0",
      "model_name": "LayoutModel",
      "state": {}
     },
     "a8d2fe2116bc40bdbe2a10cfb302f4a6": {
      "model_module": "@jupyter-widgets/base",
      "model_module_version": "1.2.0",
      "model_name": "LayoutModel",
      "state": {}
     },
     "a8e9a44a987940df907ecfb08eaa33db": {
      "model_module": "@jupyter-widgets/base",
      "model_module_version": "1.2.0",
      "model_name": "LayoutModel",
      "state": {}
     },
     "a911395a99e3438ea430691f35e81263": {
      "model_module": "@jupyter-widgets/controls",
      "model_module_version": "1.5.0",
      "model_name": "ProgressStyleModel",
      "state": {
       "description_width": "initial"
      }
     },
     "a91c2a6734f34fb39a7104edca6c8280": {
      "model_module": "@jupyter-widgets/base",
      "model_module_version": "1.2.0",
      "model_name": "LayoutModel",
      "state": {}
     },
     "a9315d09b65d4cf68545b83d478f24b6": {
      "model_module": "@jupyter-widgets/controls",
      "model_module_version": "1.5.0",
      "model_name": "DescriptionStyleModel",
      "state": {
       "description_width": ""
      }
     },
     "a942f7540f494ab1845eb0b042cf883d": {
      "model_module": "@jupyter-widgets/controls",
      "model_module_version": "1.5.0",
      "model_name": "HBoxModel",
      "state": {
       "children": [
        "IPY_MODEL_01aec368d39543e3b6646a81d8755550",
        "IPY_MODEL_77aae1512cc64a79adac395e0012d7c7"
       ],
       "layout": "IPY_MODEL_65faac058e2448e69b3e6d6f8b2dad68"
      }
     },
     "a968e8c48ad849bcb005070f9dabdec3": {
      "model_module": "@jupyter-widgets/controls",
      "model_module_version": "1.5.0",
      "model_name": "FloatProgressModel",
      "state": {
       "bar_style": "success",
       "description": "[0] 1/12(train): 100%",
       "layout": "IPY_MODEL_48f4e4a4b223401a96293da2ff0ec763",
       "max": 469,
       "style": "IPY_MODEL_998d6821f5e941ad9f6f08dd8fca6ba6",
       "value": 469
      }
     },
     "a97ff79141484965b16514318b5082ac": {
      "model_module": "@jupyter-widgets/controls",
      "model_module_version": "1.5.0",
      "model_name": "ProgressStyleModel",
      "state": {
       "description_width": "initial"
      }
     },
     "a9d4d4d1eef64c04bf63846d6fafc0f5": {
      "model_module": "@jupyter-widgets/controls",
      "model_module_version": "1.5.0",
      "model_name": "HBoxModel",
      "state": {
       "children": [
        "IPY_MODEL_866220b17a084563bada70f41b39a760",
        "IPY_MODEL_9e391923f33e47b1ae42b8e0ff47eec1"
       ],
       "layout": "IPY_MODEL_ab45075d02cd418596fde6c0a68a1724"
      }
     },
     "a9e9831f7ace4f6ca43938197c21700f": {
      "model_module": "@jupyter-widgets/base",
      "model_module_version": "1.2.0",
      "model_name": "LayoutModel",
      "state": {}
     },
     "aa2d10e703254e2ca3aa04f0f9723818": {
      "model_module": "@jupyter-widgets/controls",
      "model_module_version": "1.5.0",
      "model_name": "FloatProgressModel",
      "state": {
       "bar_style": "success",
       "description": "[3] 1/1(val  ): 100%",
       "layout": "IPY_MODEL_ef378bbfe0ec4d76b34dd0707e6c310e",
       "max": 1,
       "style": "IPY_MODEL_9a509fff31c34701b1ec1aec83a9123c",
       "value": 1
      }
     },
     "aa906f81ea3d4601851ae3021ad18778": {
      "model_module": "@jupyter-widgets/base",
      "model_module_version": "1.2.0",
      "model_name": "LayoutModel",
      "state": {}
     },
     "aaa41e28e96a41898e1d52389e98d27d": {
      "model_module": "@jupyter-widgets/controls",
      "model_module_version": "1.5.0",
      "model_name": "ProgressStyleModel",
      "state": {
       "description_width": "initial"
      }
     },
     "aac403c70fa34f1fa184cb5645af969c": {
      "model_module": "@jupyter-widgets/controls",
      "model_module_version": "1.5.0",
      "model_name": "ProgressStyleModel",
      "state": {
       "description_width": "initial"
      }
     },
     "ab0e2f90c7774dc3b34dd97937fafb1e": {
      "model_module": "@jupyter-widgets/base",
      "model_module_version": "1.2.0",
      "model_name": "LayoutModel",
      "state": {}
     },
     "ab0e50b676754b6d961d84d76600ed6c": {
      "model_module": "@jupyter-widgets/controls",
      "model_module_version": "1.5.0",
      "model_name": "DescriptionStyleModel",
      "state": {
       "description_width": ""
      }
     },
     "ab0f6a378988403095fbfbadc014292e": {
      "model_module": "@jupyter-widgets/controls",
      "model_module_version": "1.5.0",
      "model_name": "HTMLModel",
      "state": {
       "layout": "IPY_MODEL_9845ac2493a844aab40bd9847b5433fc",
       "style": "IPY_MODEL_3ca0c2bdf5bd46e5a8a2bbfec2173377",
       "value": " 165/165 [7:07:56&lt;00:00, 155.62s/it]"
      }
     },
     "ab1be69afc864b858e812dd1cba83183": {
      "model_module": "@jupyter-widgets/controls",
      "model_module_version": "1.5.0",
      "model_name": "ProgressStyleModel",
      "state": {
       "description_width": "initial"
      }
     },
     "ab45075d02cd418596fde6c0a68a1724": {
      "model_module": "@jupyter-widgets/base",
      "model_module_version": "1.2.0",
      "model_name": "LayoutModel",
      "state": {}
     },
     "ab4900abc553468c8b96abc1e87c97dd": {
      "model_module": "@jupyter-widgets/base",
      "model_module_version": "1.2.0",
      "model_name": "LayoutModel",
      "state": {}
     },
     "ab4e3a98d5cf411fb21855ea4c53224e": {
      "model_module": "@jupyter-widgets/base",
      "model_module_version": "1.2.0",
      "model_name": "LayoutModel",
      "state": {}
     },
     "ab5243eb6d40407c9100fae19455b6f5": {
      "model_module": "@jupyter-widgets/controls",
      "model_module_version": "1.5.0",
      "model_name": "HTMLModel",
      "state": {
       "layout": "IPY_MODEL_ac19df8e77c64b9e960ae253591ae4bd",
       "style": "IPY_MODEL_23f4ff2d50ed449e9fbffecf353ed9c3",
       "value": " 493/493 [46:15&lt;00:00,  5.63s/it]"
      }
     },
     "ab63d242a22b4adb801ff5cff14d6a01": {
      "model_module": "@jupyter-widgets/base",
      "model_module_version": "1.2.0",
      "model_name": "LayoutModel",
      "state": {}
     },
     "abcadcaecb5243dc92b553647cfa0edf": {
      "model_module": "@jupyter-widgets/base",
      "model_module_version": "1.2.0",
      "model_name": "LayoutModel",
      "state": {}
     },
     "abcf7a2848b4476c9ba059157c45de1d": {
      "model_module": "@jupyter-widgets/controls",
      "model_module_version": "1.5.0",
      "model_name": "HBoxModel",
      "state": {
       "children": [
        "IPY_MODEL_25ee3ba956524c5e8c126417f9756d0b",
        "IPY_MODEL_693bf16fa7ad4c93a5a503040d20fbb2"
       ],
       "layout": "IPY_MODEL_289846d21bba40dcb13feacaa9d91c0f"
      }
     },
     "abd3fac50231425e86da692acbd42118": {
      "model_module": "@jupyter-widgets/controls",
      "model_module_version": "1.5.0",
      "model_name": "DescriptionStyleModel",
      "state": {
       "description_width": ""
      }
     },
     "abdc091179bb4644a241c16dade44b28": {
      "model_module": "@jupyter-widgets/controls",
      "model_module_version": "1.5.0",
      "model_name": "HTMLModel",
      "state": {
       "layout": "IPY_MODEL_732bdaa7c23540a9b7c43efe57d66037",
       "style": "IPY_MODEL_47f892684e1542beba7e887ee2eb7234",
       "value": " 165/165 [11:52&lt;00:00,  4.32s/it]"
      }
     },
     "abed254b349b47caa584176b38ac705c": {
      "model_module": "@jupyter-widgets/base",
      "model_module_version": "1.2.0",
      "model_name": "LayoutModel",
      "state": {}
     },
     "ac04e6473bd24fc498aff38abedc6630": {
      "model_module": "@jupyter-widgets/controls",
      "model_module_version": "1.5.0",
      "model_name": "HBoxModel",
      "state": {
       "children": [
        "IPY_MODEL_db246b5f66f7458b87106abe32a9e2b4",
        "IPY_MODEL_22eb3f122ac04149b203534a9c1f5f8f"
       ],
       "layout": "IPY_MODEL_8a8770c5bde347e39aec4b49871d411b"
      }
     },
     "ac0c9831dd6342e98920300bf8c14884": {
      "model_module": "@jupyter-widgets/base",
      "model_module_version": "1.2.0",
      "model_name": "LayoutModel",
      "state": {}
     },
     "ac19df8e77c64b9e960ae253591ae4bd": {
      "model_module": "@jupyter-widgets/base",
      "model_module_version": "1.2.0",
      "model_name": "LayoutModel",
      "state": {}
     },
     "ac2eaaaac6574bc6a21dd2041b3e07de": {
      "model_module": "@jupyter-widgets/base",
      "model_module_version": "1.2.0",
      "model_name": "LayoutModel",
      "state": {}
     },
     "ac56f5a489f94f5588613a802fa7828b": {
      "model_module": "@jupyter-widgets/controls",
      "model_module_version": "1.5.0",
      "model_name": "HTMLModel",
      "state": {
       "layout": "IPY_MODEL_8d5d568edffa45f589de146ebeff16b1",
       "style": "IPY_MODEL_45b8fe9b70554d548603be910b7a8039",
       "value": " 165/165 [3:58:51&lt;00:00, 86.86s/it]"
      }
     },
     "ac9193f33b2c49dbbbe05d95a508ee26": {
      "model_module": "@jupyter-widgets/base",
      "model_module_version": "1.2.0",
      "model_name": "LayoutModel",
      "state": {}
     },
     "acb4bd00f0b34167bd647dceaa909d25": {
      "model_module": "@jupyter-widgets/controls",
      "model_module_version": "1.5.0",
      "model_name": "FloatProgressModel",
      "state": {
       "bar_style": "success",
       "description": "[3] 8/12(val  ): 100%",
       "layout": "IPY_MODEL_be3c641ac473439eb58639c3e7ba6474",
       "max": 157,
       "style": "IPY_MODEL_e2ece8a9c3f94b63b99984db9c31fa4a",
       "value": 157
      }
     },
     "acc1a9557e0b439b91e5998c38a9f67e": {
      "model_module": "@jupyter-widgets/controls",
      "model_module_version": "1.5.0",
      "model_name": "DescriptionStyleModel",
      "state": {
       "description_width": ""
      }
     },
     "ad0b6bdd9b0542028dd94fbe675490bd": {
      "model_module": "@jupyter-widgets/controls",
      "model_module_version": "1.5.0",
      "model_name": "ProgressStyleModel",
      "state": {
       "description_width": "initial"
      }
     },
     "ad1a0ca8d6cf4e948d1158ca553b5cb4": {
      "model_module": "@jupyter-widgets/controls",
      "model_module_version": "1.5.0",
      "model_name": "DescriptionStyleModel",
      "state": {
       "description_width": ""
      }
     },
     "ad1dbf749fba4546a63570e7ff4e85b7": {
      "model_module": "@jupyter-widgets/controls",
      "model_module_version": "1.5.0",
      "model_name": "DescriptionStyleModel",
      "state": {
       "description_width": ""
      }
     },
     "ad7844fedda544418e2db12211ff5932": {
      "model_module": "@jupyter-widgets/base",
      "model_module_version": "1.2.0",
      "model_name": "LayoutModel",
      "state": {}
     },
     "ad7ef31865dc49809e3641ace81836e5": {
      "model_module": "@jupyter-widgets/base",
      "model_module_version": "1.2.0",
      "model_name": "LayoutModel",
      "state": {}
     },
     "ad88569a55864109830ca7eda8726842": {
      "model_module": "@jupyter-widgets/base",
      "model_module_version": "1.2.0",
      "model_name": "LayoutModel",
      "state": {}
     },
     "ad909a05b35e40fa9d34c1c9f00f6f09": {
      "model_module": "@jupyter-widgets/controls",
      "model_module_version": "1.5.0",
      "model_name": "DescriptionStyleModel",
      "state": {
       "description_width": ""
      }
     },
     "adab4c33a231414495c6eb7f2216c12b": {
      "model_module": "@jupyter-widgets/base",
      "model_module_version": "1.2.0",
      "model_name": "LayoutModel",
      "state": {}
     },
     "adddac0bdd0b48ef84fc0adc4925403f": {
      "model_module": "@jupyter-widgets/controls",
      "model_module_version": "1.5.0",
      "model_name": "HBoxModel",
      "state": {
       "children": [
        "IPY_MODEL_1e341582e11b45068368df452df9b3cc",
        "IPY_MODEL_5e83a90be0c34250a1e77433402ebd6b"
       ],
       "layout": "IPY_MODEL_0df1291580434416ae3b584655f5a88a"
      }
     },
     "ae0502a4472e405d97a12359bbe2c204": {
      "model_module": "@jupyter-widgets/controls",
      "model_module_version": "1.5.0",
      "model_name": "DescriptionStyleModel",
      "state": {
       "description_width": ""
      }
     },
     "ae0c6a8a03cd4e67962e001e6717e6af": {
      "model_module": "@jupyter-widgets/base",
      "model_module_version": "1.2.0",
      "model_name": "LayoutModel",
      "state": {}
     },
     "ae0e972a57c74ce1abf9071b5b9f3764": {
      "model_module": "@jupyter-widgets/base",
      "model_module_version": "1.2.0",
      "model_name": "LayoutModel",
      "state": {}
     },
     "ae2e60ed49724cc194adccbc032b1903": {
      "model_module": "@jupyter-widgets/base",
      "model_module_version": "1.2.0",
      "model_name": "LayoutModel",
      "state": {}
     },
     "ae7d0d65cb354e46b6248b57ab74fe53": {
      "model_module": "@jupyter-widgets/controls",
      "model_module_version": "1.5.0",
      "model_name": "HBoxModel",
      "state": {
       "children": [
        "IPY_MODEL_c0587c92e97e4981bff3c45e3fa009c6",
        "IPY_MODEL_99e0f7b6453c436f983f43510d7551fd"
       ],
       "layout": "IPY_MODEL_a3d7be8b93874752a5e4440c0046e12e"
      }
     },
     "ae8b73d20f6345ae8cbb0d7ac7e4deef": {
      "model_module": "@jupyter-widgets/controls",
      "model_module_version": "1.5.0",
      "model_name": "ProgressStyleModel",
      "state": {
       "description_width": "initial"
      }
     },
     "ae9bcf2e83204e10bddb0259f9997ee2": {
      "model_module": "@jupyter-widgets/base",
      "model_module_version": "1.2.0",
      "model_name": "LayoutModel",
      "state": {}
     },
     "af6ef49bec3e48b380813482bab983f8": {
      "model_module": "@jupyter-widgets/controls",
      "model_module_version": "1.5.0",
      "model_name": "HTMLModel",
      "state": {
       "layout": "IPY_MODEL_a89a38d9e829477a84d1e94bc87f4ebf",
       "style": "IPY_MODEL_1c0f9023bd6c48b089299819ee993646",
       "value": " 469/469 [1:37:54&lt;00:00, 12.53s/it]"
      }
     },
     "af72c7b9cbda4a73b27e476867782320": {
      "model_module": "@jupyter-widgets/base",
      "model_module_version": "1.2.0",
      "model_name": "LayoutModel",
      "state": {}
     },
     "af9c17f15e954d8c824d10b7ee8cba97": {
      "model_module": "@jupyter-widgets/controls",
      "model_module_version": "1.5.0",
      "model_name": "DescriptionStyleModel",
      "state": {
       "description_width": ""
      }
     },
     "afbb17af95b54e919edf88e3905efe10": {
      "model_module": "@jupyter-widgets/base",
      "model_module_version": "1.2.0",
      "model_name": "LayoutModel",
      "state": {}
     },
     "afd74a8d2abc477e8276986f55dc99db": {
      "model_module": "@jupyter-widgets/controls",
      "model_module_version": "1.5.0",
      "model_name": "FloatProgressModel",
      "state": {
       "bar_style": "success",
       "description": "[1] 11/12(val  ): 100%",
       "layout": "IPY_MODEL_4faa4ba1ac724d5f9b63d9bde8cdbc57",
       "max": 165,
       "style": "IPY_MODEL_ed82990bf16f4bf7a5bad4141f4f8222",
       "value": 165
      }
     },
     "afe98cfd8ed64b2389df76cff122477b": {
      "model_module": "@jupyter-widgets/controls",
      "model_module_version": "1.5.0",
      "model_name": "HTMLModel",
      "state": {
       "layout": "IPY_MODEL_260c3b87c8124928ab248ad42e34135b",
       "style": "IPY_MODEL_2068803458544d2e86a87dded7d37854",
       "value": " 157/157 [24:08&lt;00:00,  9.23s/it]"
      }
     },
     "afec6320e5cb405faf2f329686e7f53e": {
      "model_module": "@jupyter-widgets/controls",
      "model_module_version": "1.5.0",
      "model_name": "HBoxModel",
      "state": {
       "children": [
        "IPY_MODEL_53bed6b51b8f415f8bf2d9c979460303",
        "IPY_MODEL_2cf0cb1cd68c4e02a29676c0a3f50c02"
       ],
       "layout": "IPY_MODEL_31cb6935af8f48bbb7992fe548382a5c"
      }
     },
     "afed27062a314dbbbfd20b29d193e1b9": {
      "model_module": "@jupyter-widgets/base",
      "model_module_version": "1.2.0",
      "model_name": "LayoutModel",
      "state": {}
     },
     "b0144693dca84bea9b4cde8425a6c15d": {
      "model_module": "@jupyter-widgets/controls",
      "model_module_version": "1.5.0",
      "model_name": "ProgressStyleModel",
      "state": {
       "description_width": "initial"
      }
     },
     "b01dd19461df4ad18e9cac64544cf88e": {
      "model_module": "@jupyter-widgets/controls",
      "model_module_version": "1.5.0",
      "model_name": "HBoxModel",
      "state": {
       "children": [
        "IPY_MODEL_4250ba4c40c9430d921185544a3b40d8",
        "IPY_MODEL_505c9def431a48e0ba83fee6d9e1ac35"
       ],
       "layout": "IPY_MODEL_5b1aee8bd0234246a3faff067e7ec930"
      }
     },
     "b034d1beb3ce47ae9e89fd394591d782": {
      "model_module": "@jupyter-widgets/controls",
      "model_module_version": "1.5.0",
      "model_name": "FloatProgressModel",
      "state": {
       "bar_style": "success",
       "description": "[0] 6/12(val  ): 100%",
       "layout": "IPY_MODEL_0b3f88c2a87346d5bb57cbcdf5f5d0cd",
       "max": 165,
       "style": "IPY_MODEL_444da9615fc84437ada8e1a284ce0d46",
       "value": 165
      }
     },
     "b03adff5bca949bead7ca79fad6d8537": {
      "model_module": "@jupyter-widgets/controls",
      "model_module_version": "1.5.0",
      "model_name": "ProgressStyleModel",
      "state": {
       "description_width": "initial"
      }
     },
     "b08db09f8cbf4a92b9f82b5181792216": {
      "model_module": "@jupyter-widgets/base",
      "model_module_version": "1.2.0",
      "model_name": "LayoutModel",
      "state": {}
     },
     "b09088cd923444459b4af7afa29fe1c9": {
      "model_module": "@jupyter-widgets/controls",
      "model_module_version": "1.5.0",
      "model_name": "HBoxModel",
      "state": {
       "children": [
        "IPY_MODEL_02eec73cd6134c5e9ad9b9596aef6ed8",
        "IPY_MODEL_52b7c67c77ee4f44a30ca593c8c6587d"
       ],
       "layout": "IPY_MODEL_5fbd22e1101448d5b8fde0284c26cb42"
      }
     },
     "b0af5fd22dcb4627a8b44727e418fde2": {
      "model_module": "@jupyter-widgets/controls",
      "model_module_version": "1.5.0",
      "model_name": "HTMLModel",
      "state": {
       "layout": "IPY_MODEL_0437bb4fe28742efbb15442702e4523d",
       "style": "IPY_MODEL_10b6aa08edc64bf1af626a42d496a7df",
       "value": " 493/493 [2:16:20&lt;00:00, 16.59s/it]"
      }
     },
     "b0c68efe14a243b0b6510a35838a8580": {
      "model_module": "@jupyter-widgets/controls",
      "model_module_version": "1.5.0",
      "model_name": "DescriptionStyleModel",
      "state": {
       "description_width": ""
      }
     },
     "b0dbcd6a2ec04a6b9b59941312a5a560": {
      "model_module": "@jupyter-widgets/controls",
      "model_module_version": "1.5.0",
      "model_name": "ProgressStyleModel",
      "state": {
       "description_width": "initial"
      }
     },
     "b0de05fd022d4dc2a34032d4cffa9491": {
      "model_module": "@jupyter-widgets/controls",
      "model_module_version": "1.5.0",
      "model_name": "DescriptionStyleModel",
      "state": {
       "description_width": ""
      }
     },
     "b0f1e203a2304af4975eeab6c337831c": {
      "model_module": "@jupyter-widgets/base",
      "model_module_version": "1.2.0",
      "model_name": "LayoutModel",
      "state": {}
     },
     "b0fb5ee2e21d4f5c82e05929235a03c7": {
      "model_module": "@jupyter-widgets/base",
      "model_module_version": "1.2.0",
      "model_name": "LayoutModel",
      "state": {}
     },
     "b10869498fc04b3e87266a2d5e39e770": {
      "model_module": "@jupyter-widgets/controls",
      "model_module_version": "1.5.0",
      "model_name": "DescriptionStyleModel",
      "state": {
       "description_width": ""
      }
     },
     "b116af288ddf497b9323a2addf1361ed": {
      "model_module": "@jupyter-widgets/base",
      "model_module_version": "1.2.0",
      "model_name": "LayoutModel",
      "state": {}
     },
     "b16a30370f0148479f27890412cddaf0": {
      "model_module": "@jupyter-widgets/base",
      "model_module_version": "1.2.0",
      "model_name": "LayoutModel",
      "state": {}
     },
     "b20ba56e6b804ddea8501719fe5ff7b9": {
      "model_module": "@jupyter-widgets/controls",
      "model_module_version": "1.5.0",
      "model_name": "DescriptionStyleModel",
      "state": {
       "description_width": ""
      }
     },
     "b2286d3fb7e5486e830e846f62af4bc6": {
      "model_module": "@jupyter-widgets/controls",
      "model_module_version": "1.5.0",
      "model_name": "FloatProgressModel",
      "state": {
       "bar_style": "success",
       "description": "[3] 5/12(val  ): 100%",
       "layout": "IPY_MODEL_e187fc0ea97943f1a366cd0b66cffc9d",
       "max": 157,
       "style": "IPY_MODEL_89cef1bc8842482d973cfd78d776fd4f",
       "value": 157
      }
     },
     "b248c61f80514a9ebf8ac5b958257bb7": {
      "model_module": "@jupyter-widgets/base",
      "model_module_version": "1.2.0",
      "model_name": "LayoutModel",
      "state": {}
     },
     "b2542874282345e7bb260d0874b8dca9": {
      "model_module": "@jupyter-widgets/controls",
      "model_module_version": "1.5.0",
      "model_name": "ProgressStyleModel",
      "state": {
       "description_width": "initial"
      }
     },
     "b272b28903694fea987b9426124286ff": {
      "model_module": "@jupyter-widgets/base",
      "model_module_version": "1.2.0",
      "model_name": "LayoutModel",
      "state": {}
     },
     "b30d325b1fee48279e7f5a80b5213dd2": {
      "model_module": "@jupyter-widgets/base",
      "model_module_version": "1.2.0",
      "model_name": "LayoutModel",
      "state": {}
     },
     "b36e26ad396b4c8f980e3917a642387a": {
      "model_module": "@jupyter-widgets/controls",
      "model_module_version": "1.5.0",
      "model_name": "HBoxModel",
      "state": {
       "children": [
        "IPY_MODEL_285b6aec841d4286a1effa1f1fc2c5e5",
        "IPY_MODEL_93ca4b9670f348868afd979c376aac50"
       ],
       "layout": "IPY_MODEL_4539a37683084bc2b6cfacebac6295a4"
      }
     },
     "b37ddbbe8e904d429194d6946c549135": {
      "model_module": "@jupyter-widgets/controls",
      "model_module_version": "1.5.0",
      "model_name": "HBoxModel",
      "state": {
       "children": [
        "IPY_MODEL_2571ae60c6874d3ca7ba50ae315989b1",
        "IPY_MODEL_9eabf1ed4987488b8e151cd05851d55f"
       ],
       "layout": "IPY_MODEL_8fefd0ffb580495db73793f934d12734"
      }
     },
     "b37e1822055f4d61aa9fa07f9d744a7b": {
      "model_module": "@jupyter-widgets/controls",
      "model_module_version": "1.5.0",
      "model_name": "DescriptionStyleModel",
      "state": {
       "description_width": ""
      }
     },
     "b3a3ad4bce834fbd886226d3edf239f9": {
      "model_module": "@jupyter-widgets/controls",
      "model_module_version": "1.5.0",
      "model_name": "DescriptionStyleModel",
      "state": {
       "description_width": ""
      }
     },
     "b3a5b299ad2e45b38eccc5bf6e6bfb28": {
      "model_module": "@jupyter-widgets/base",
      "model_module_version": "1.2.0",
      "model_name": "LayoutModel",
      "state": {}
     },
     "b3c5645da74b44d0b96c407f48ee0cb8": {
      "model_module": "@jupyter-widgets/base",
      "model_module_version": "1.2.0",
      "model_name": "LayoutModel",
      "state": {}
     },
     "b40affaca12848e09ebda689290d6b54": {
      "model_module": "@jupyter-widgets/controls",
      "model_module_version": "1.5.0",
      "model_name": "ProgressStyleModel",
      "state": {
       "description_width": "initial"
      }
     },
     "b4623d97e304470ebaa9be5b55e964c1": {
      "model_module": "@jupyter-widgets/base",
      "model_module_version": "1.2.0",
      "model_name": "LayoutModel",
      "state": {}
     },
     "b4814934d4ab4198b517373708f0dbc0": {
      "model_module": "@jupyter-widgets/controls",
      "model_module_version": "1.5.0",
      "model_name": "ProgressStyleModel",
      "state": {
       "description_width": "initial"
      }
     },
     "b485ed7ceca442d08b87f09dcd8a69dd": {
      "model_module": "@jupyter-widgets/controls",
      "model_module_version": "1.5.0",
      "model_name": "HBoxModel",
      "state": {
       "children": [
        "IPY_MODEL_8e359cb4181b40d4b1d93dad73d1e16c",
        "IPY_MODEL_6a3c877a951c4d6cbeecee83478f3a3d"
       ],
       "layout": "IPY_MODEL_e56ea1a9c4254f268f08aa67dabd4f36"
      }
     },
     "b48f65a1d9454c5982e99f8d24716a1e": {
      "model_module": "@jupyter-widgets/base",
      "model_module_version": "1.2.0",
      "model_name": "LayoutModel",
      "state": {}
     },
     "b4ba532e939a484e95d389c1d225804e": {
      "model_module": "@jupyter-widgets/controls",
      "model_module_version": "1.5.0",
      "model_name": "ProgressStyleModel",
      "state": {
       "description_width": "initial"
      }
     },
     "b4d6085b61cb47ed9a9b9dc296cc0d20": {
      "model_module": "@jupyter-widgets/base",
      "model_module_version": "1.2.0",
      "model_name": "LayoutModel",
      "state": {}
     },
     "b556156aa6cd40548b880e79d3888af3": {
      "model_module": "@jupyter-widgets/base",
      "model_module_version": "1.2.0",
      "model_name": "LayoutModel",
      "state": {}
     },
     "b556b15b41f44c7a8ddf0c74a99dda47": {
      "model_module": "@jupyter-widgets/base",
      "model_module_version": "1.2.0",
      "model_name": "LayoutModel",
      "state": {}
     },
     "b56371c228fe4d5d8f9c828cbb096a3c": {
      "model_module": "@jupyter-widgets/controls",
      "model_module_version": "1.5.0",
      "model_name": "HTMLModel",
      "state": {
       "layout": "IPY_MODEL_00543e2c26ab4cd29a02254e77c7a1bc",
       "style": "IPY_MODEL_7c02717c8263411389f7cf1e2bf918fe",
       "value": " 493/493 [35:50&lt;00:00,  4.36s/it]"
      }
     },
     "b5a3611b2a6c47d6a49a63aeba570d3b": {
      "model_module": "@jupyter-widgets/controls",
      "model_module_version": "1.5.0",
      "model_name": "HBoxModel",
      "state": {
       "children": [
        "IPY_MODEL_c9191bace79a4fe1bc2eaa9a80fb9ee1",
        "IPY_MODEL_1849867023b849ce83093b7763b447be"
       ],
       "layout": "IPY_MODEL_adab4c33a231414495c6eb7f2216c12b"
      }
     },
     "b5dbf65e039743439b786663b65e2c0d": {
      "model_module": "@jupyter-widgets/controls",
      "model_module_version": "1.5.0",
      "model_name": "FloatProgressModel",
      "state": {
       "bar_style": "success",
       "description": "[0] 10/12(train): 100%",
       "layout": "IPY_MODEL_3e167a2820e242bf974a32870bcc6b81",
       "max": 469,
       "style": "IPY_MODEL_6e551d591f00466086ab283fcea96018",
       "value": 469
      }
     },
     "b62d4bb35f794d7885a9a313963a62f6": {
      "model_module": "@jupyter-widgets/controls",
      "model_module_version": "1.5.0",
      "model_name": "FloatProgressModel",
      "state": {
       "bar_style": "success",
       "description": "[2] 11/12(train): 100%",
       "layout": "IPY_MODEL_84feb5040e614f449e393bed36d52618",
       "max": 493,
       "style": "IPY_MODEL_3a640633174f40cc81b94196c284a262",
       "value": 493
      }
     },
     "b69221ddc92140bdbcdcff3d0ffb68aa": {
      "model_module": "@jupyter-widgets/base",
      "model_module_version": "1.2.0",
      "model_name": "LayoutModel",
      "state": {}
     },
     "b6a4e09631c046b38e43ee090dda02a6": {
      "model_module": "@jupyter-widgets/base",
      "model_module_version": "1.2.0",
      "model_name": "LayoutModel",
      "state": {}
     },
     "b6a699c43fd2443eb07827bcf19e0af8": {
      "model_module": "@jupyter-widgets/controls",
      "model_module_version": "1.5.0",
      "model_name": "FloatProgressModel",
      "state": {
       "bar_style": "success",
       "description": "[1] 12/12(train): 100%",
       "layout": "IPY_MODEL_071756dc30f7458393f901df1d55edfa",
       "max": 493,
       "style": "IPY_MODEL_7d9d84dd582740bc90c8564c42724841",
       "value": 493
      }
     },
     "b6c253d3a60a465ca63f4eebd0b3b1d0": {
      "model_module": "@jupyter-widgets/controls",
      "model_module_version": "1.5.0",
      "model_name": "HBoxModel",
      "state": {
       "children": [
        "IPY_MODEL_0722f25f483a4eda842459b2d4217533",
        "IPY_MODEL_70b27f4b297d454cb5122bfb7a0f74d9"
       ],
       "layout": "IPY_MODEL_91e5cac314164b7bb3c30d9318a20207"
      }
     },
     "b78966d8b01f4cf0954495c93e9933dc": {
      "model_module": "@jupyter-widgets/controls",
      "model_module_version": "1.5.0",
      "model_name": "HTMLModel",
      "state": {
       "layout": "IPY_MODEL_926975db6b334a849061a1a69fe8a4ed",
       "style": "IPY_MODEL_4ac979e9d2f849778f1b08d0ce1f56e2",
       "value": " 157/157 [22:22&lt;00:00,  8.55s/it]"
      }
     },
     "b822908f25af4e25a02775c0922d58a2": {
      "model_module": "@jupyter-widgets/controls",
      "model_module_version": "1.5.0",
      "model_name": "HTMLModel",
      "state": {
       "layout": "IPY_MODEL_5472a90d6eae4cf79a194232fd2924a2",
       "style": "IPY_MODEL_1c3e1906fe9a426a99c50ed5849abf3b",
       "value": " 165/165 [11:53&lt;00:00,  4.32s/it]"
      }
     },
     "b8325b9430c04df88bf6c71c8878f274": {
      "model_module": "@jupyter-widgets/base",
      "model_module_version": "1.2.0",
      "model_name": "LayoutModel",
      "state": {}
     },
     "b8445bd018194d849a7d69094b6a28d2": {
      "model_module": "@jupyter-widgets/controls",
      "model_module_version": "1.5.0",
      "model_name": "HBoxModel",
      "state": {
       "children": [
        "IPY_MODEL_4b09485a8b1c4f63803e948da0a9996a",
        "IPY_MODEL_c1c2ca33bc504b0aabc6e2ede3374567"
       ],
       "layout": "IPY_MODEL_b248c61f80514a9ebf8ac5b958257bb7"
      }
     },
     "b8775aa616324bfcb37468c33c0470d2": {
      "model_module": "@jupyter-widgets/controls",
      "model_module_version": "1.5.0",
      "model_name": "HBoxModel",
      "state": {
       "children": [
        "IPY_MODEL_71c6e34fb58b4b9ab6fdba0365172e74",
        "IPY_MODEL_9d07406fda994efc89c3b067d1935eff"
       ],
       "layout": "IPY_MODEL_bb2f37324af64c5dbb09ea4aa68e9e04"
      }
     },
     "b8b2dbacc29e44f8a980bcb073086df4": {
      "model_module": "@jupyter-widgets/base",
      "model_module_version": "1.2.0",
      "model_name": "LayoutModel",
      "state": {}
     },
     "b8bfaff529034ce6b26e124373f14b5f": {
      "model_module": "@jupyter-widgets/base",
      "model_module_version": "1.2.0",
      "model_name": "LayoutModel",
      "state": {}
     },
     "b8d2d5c7d6d048cdada9a0bf263d13c5": {
      "model_module": "@jupyter-widgets/base",
      "model_module_version": "1.2.0",
      "model_name": "LayoutModel",
      "state": {}
     },
     "b91d4edfe21e4b9183597f8b62971b58": {
      "model_module": "@jupyter-widgets/controls",
      "model_module_version": "1.5.0",
      "model_name": "DescriptionStyleModel",
      "state": {
       "description_width": ""
      }
     },
     "b94021e4928f4f3daf067465ba228888": {
      "model_module": "@jupyter-widgets/controls",
      "model_module_version": "1.5.0",
      "model_name": "ProgressStyleModel",
      "state": {
       "description_width": "initial"
      }
     },
     "b9a7748ba5b640fa9adc40b068cac35f": {
      "model_module": "@jupyter-widgets/base",
      "model_module_version": "1.2.0",
      "model_name": "LayoutModel",
      "state": {}
     },
     "b9b2b236e0b04107acaa7812a03d9728": {
      "model_module": "@jupyter-widgets/base",
      "model_module_version": "1.2.0",
      "model_name": "LayoutModel",
      "state": {}
     },
     "ba267ac98dc9405ebb8cbe20d5f41b5f": {
      "model_module": "@jupyter-widgets/controls",
      "model_module_version": "1.5.0",
      "model_name": "FloatProgressModel",
      "state": {
       "bar_style": "success",
       "description": "[0] 9/12(val  ): 100%",
       "layout": "IPY_MODEL_1b7583441fa44bacbb7b9b9a961ee3c4",
       "max": 157,
       "style": "IPY_MODEL_2649ab539dfe48689b1297a1e6984171",
       "value": 157
      }
     },
     "ba2c3f0e7c93450ba3367722cc15f2b7": {
      "model_module": "@jupyter-widgets/base",
      "model_module_version": "1.2.0",
      "model_name": "LayoutModel",
      "state": {}
     },
     "ba3a2d96cba84b7eb5eb8cd9dbc11659": {
      "model_module": "@jupyter-widgets/controls",
      "model_module_version": "1.5.0",
      "model_name": "DescriptionStyleModel",
      "state": {
       "description_width": ""
      }
     },
     "ba40b9bcf0fe4591a8af3551c00ead12": {
      "model_module": "@jupyter-widgets/controls",
      "model_module_version": "1.5.0",
      "model_name": "HTMLModel",
      "state": {
       "layout": "IPY_MODEL_4543f356f71e4a0da1b4bf0db22d10a4",
       "style": "IPY_MODEL_3525222dbf1049d69a0cc1ad051f3af3",
       "value": " 469/469 [1:33:05&lt;00:00, 11.91s/it]"
      }
     },
     "ba4793879e5440b2afcdd420cf79827a": {
      "model_module": "@jupyter-widgets/base",
      "model_module_version": "1.2.0",
      "model_name": "LayoutModel",
      "state": {}
     },
     "ba744224c2aa4d59b37d284330107d4a": {
      "model_module": "@jupyter-widgets/controls",
      "model_module_version": "1.5.0",
      "model_name": "ProgressStyleModel",
      "state": {
       "description_width": "initial"
      }
     },
     "ba8476eede8d4915b36f7b0ba2b2d1cd": {
      "model_module": "@jupyter-widgets/base",
      "model_module_version": "1.2.0",
      "model_name": "LayoutModel",
      "state": {}
     },
     "baa8ddfb7092436f90d2b9d78a01eeb4": {
      "model_module": "@jupyter-widgets/controls",
      "model_module_version": "1.5.0",
      "model_name": "FloatProgressModel",
      "state": {
       "bar_style": "success",
       "description": "[2] 3/12(val  ): 100%",
       "layout": "IPY_MODEL_2d97f707ff89433a8eecdae81156160d",
       "max": 165,
       "style": "IPY_MODEL_ce3e228b8abb4de0b0d6e4b351a3cbc0",
       "value": 165
      }
     },
     "bb05efa1451d42afb9fe88397217e2e2": {
      "model_module": "@jupyter-widgets/base",
      "model_module_version": "1.2.0",
      "model_name": "LayoutModel",
      "state": {}
     },
     "bb09079a0d5e43f98db33735567b5218": {
      "model_module": "@jupyter-widgets/base",
      "model_module_version": "1.2.0",
      "model_name": "LayoutModel",
      "state": {}
     },
     "bb2f37324af64c5dbb09ea4aa68e9e04": {
      "model_module": "@jupyter-widgets/base",
      "model_module_version": "1.2.0",
      "model_name": "LayoutModel",
      "state": {}
     },
     "bb2fb1258fb44d69a9db2051b48a11ee": {
      "model_module": "@jupyter-widgets/base",
      "model_module_version": "1.2.0",
      "model_name": "LayoutModel",
      "state": {}
     },
     "bb7db032675c4d2fb6018c2a65974914": {
      "model_module": "@jupyter-widgets/controls",
      "model_module_version": "1.5.0",
      "model_name": "HTMLModel",
      "state": {
       "layout": "IPY_MODEL_8561968a9f67413b8e08371c6483efd3",
       "style": "IPY_MODEL_4f2d7f2971f94ec4b99685cd610f8605",
       "value": " 493/493 [6:11:34&lt;00:00, 45.22s/it]"
      }
     },
     "bb9fc92787674b018cd7dfa2a863f96f": {
      "model_module": "@jupyter-widgets/controls",
      "model_module_version": "1.5.0",
      "model_name": "HTMLModel",
      "state": {
       "layout": "IPY_MODEL_01435bca8a1546aaafa6613a0cd55e57",
       "style": "IPY_MODEL_da10417e884343f791c41c5f10bfc9e1",
       "value": " 165/165 [11:43&lt;00:00,  4.26s/it]"
      }
     },
     "bc1cedd945374748b0d7a5857cc477e8": {
      "model_module": "@jupyter-widgets/controls",
      "model_module_version": "1.5.0",
      "model_name": "ProgressStyleModel",
      "state": {
       "description_width": "initial"
      }
     },
     "bc1cf333be2d42888372f66171f6ffaf": {
      "model_module": "@jupyter-widgets/controls",
      "model_module_version": "1.5.0",
      "model_name": "DescriptionStyleModel",
      "state": {
       "description_width": ""
      }
     },
     "bc33225563ed498d85b25b87f99d750f": {
      "model_module": "@jupyter-widgets/base",
      "model_module_version": "1.2.0",
      "model_name": "LayoutModel",
      "state": {}
     },
     "bc92387f222c422a9249a7318e1e454b": {
      "model_module": "@jupyter-widgets/base",
      "model_module_version": "1.2.0",
      "model_name": "LayoutModel",
      "state": {}
     },
     "bcbf17e776c54810abc1a3d08d947825": {
      "model_module": "@jupyter-widgets/controls",
      "model_module_version": "1.5.0",
      "model_name": "ProgressStyleModel",
      "state": {
       "description_width": "initial"
      }
     },
     "bcd94ff65f7f485987c85cb962fdfdcb": {
      "model_module": "@jupyter-widgets/controls",
      "model_module_version": "1.5.0",
      "model_name": "DescriptionStyleModel",
      "state": {
       "description_width": ""
      }
     },
     "bce012095d644eaaa29a9ff3e92ee0bb": {
      "model_module": "@jupyter-widgets/controls",
      "model_module_version": "1.5.0",
      "model_name": "DescriptionStyleModel",
      "state": {
       "description_width": ""
      }
     },
     "bcf3f129e8b442eb99319081c288912d": {
      "model_module": "@jupyter-widgets/controls",
      "model_module_version": "1.5.0",
      "model_name": "HBoxModel",
      "state": {
       "children": [
        "IPY_MODEL_4b315c640a84404ba5f95575aaf59bcb",
        "IPY_MODEL_32edb091db324820921fc5881277526d"
       ],
       "layout": "IPY_MODEL_3f8bd1118bc145889fb74564935f6f1d"
      }
     },
     "bd37b67c20e04eb6be7edbc3752f611b": {
      "model_module": "@jupyter-widgets/base",
      "model_module_version": "1.2.0",
      "model_name": "LayoutModel",
      "state": {}
     },
     "bd3c19d99ead4624998d785a0c2cd7d7": {
      "model_module": "@jupyter-widgets/controls",
      "model_module_version": "1.5.0",
      "model_name": "FloatProgressModel",
      "state": {
       "bar_style": "success",
       "description": "[1] 6/12(val  ): 100%",
       "layout": "IPY_MODEL_cdb37821a1cc437eb67c98333ed43335",
       "max": 165,
       "style": "IPY_MODEL_8d79309dad5744dcbe0defb657636adf",
       "value": 165
      }
     },
     "bd5cd6369ec14bcf846b103ac059a045": {
      "model_module": "@jupyter-widgets/base",
      "model_module_version": "1.2.0",
      "model_name": "LayoutModel",
      "state": {}
     },
     "bd5dccd6ec02427399324a7adf6df44b": {
      "model_module": "@jupyter-widgets/controls",
      "model_module_version": "1.5.0",
      "model_name": "FloatProgressModel",
      "state": {
       "bar_style": "success",
       "description": "[1] 3/12(train): 100%",
       "layout": "IPY_MODEL_8150ed4cbf8149d3836db537039c7168",
       "max": 469,
       "style": "IPY_MODEL_9b8c4e89da5640ef8b7c93cf8a884196",
       "value": 469
      }
     },
     "bd91c84a96574641b2fd510385483615": {
      "model_module": "@jupyter-widgets/controls",
      "model_module_version": "1.5.0",
      "model_name": "HTMLModel",
      "state": {
       "layout": "IPY_MODEL_a765fb3ddee4497186d300c6a52d8336",
       "style": "IPY_MODEL_c7436b996c1b41ca8feecf02db4c86f9",
       "value": " 157/157 [1:35:11&lt;00:00, 36.38s/it]"
      }
     },
     "bd9624551a3a4928b6e68cbeab21c0d4": {
      "model_module": "@jupyter-widgets/base",
      "model_module_version": "1.2.0",
      "model_name": "LayoutModel",
      "state": {}
     },
     "bda44a9c7e014e228cacdfe8d8315c29": {
      "model_module": "@jupyter-widgets/base",
      "model_module_version": "1.2.0",
      "model_name": "LayoutModel",
      "state": {}
     },
     "be3c641ac473439eb58639c3e7ba6474": {
      "model_module": "@jupyter-widgets/base",
      "model_module_version": "1.2.0",
      "model_name": "LayoutModel",
      "state": {}
     },
     "be5adfc4a84a45d68a4eefcdbacf2c90": {
      "model_module": "@jupyter-widgets/base",
      "model_module_version": "1.2.0",
      "model_name": "LayoutModel",
      "state": {}
     },
     "be74682b06a746daaa901ddea187e58d": {
      "model_module": "@jupyter-widgets/controls",
      "model_module_version": "1.5.0",
      "model_name": "ProgressStyleModel",
      "state": {
       "description_width": "initial"
      }
     },
     "bec82a1384404b18bf4a32c77edaee56": {
      "model_module": "@jupyter-widgets/controls",
      "model_module_version": "1.5.0",
      "model_name": "DescriptionStyleModel",
      "state": {
       "description_width": ""
      }
     },
     "bf3815a2559e407697bd7d360522966e": {
      "model_module": "@jupyter-widgets/controls",
      "model_module_version": "1.5.0",
      "model_name": "ProgressStyleModel",
      "state": {
       "description_width": "initial"
      }
     },
     "bf44913b81f0452d93fa769fc5a59fc4": {
      "model_module": "@jupyter-widgets/base",
      "model_module_version": "1.2.0",
      "model_name": "LayoutModel",
      "state": {}
     },
     "bf4f6287a4d5432380ca9d390ea92c6c": {
      "model_module": "@jupyter-widgets/controls",
      "model_module_version": "1.5.0",
      "model_name": "DescriptionStyleModel",
      "state": {
       "description_width": ""
      }
     },
     "bfa53e57de5e4c3ca021c8fe9430576d": {
      "model_module": "@jupyter-widgets/controls",
      "model_module_version": "1.5.0",
      "model_name": "FloatProgressModel",
      "state": {
       "bar_style": "success",
       "description": "[0] 11/12(val  ): 100%",
       "layout": "IPY_MODEL_6ce06d06ffaf446fb5ca451160aef622",
       "max": 165,
       "style": "IPY_MODEL_698a32dc4d2840f9a831f19e9b2e50e3",
       "value": 165
      }
     },
     "bfc3884047824ea0b456bbdb3bb86cba": {
      "model_module": "@jupyter-widgets/controls",
      "model_module_version": "1.5.0",
      "model_name": "DescriptionStyleModel",
      "state": {
       "description_width": ""
      }
     },
     "bff2b79466744f4a9f5a8f600e06b6c7": {
      "model_module": "@jupyter-widgets/base",
      "model_module_version": "1.2.0",
      "model_name": "LayoutModel",
      "state": {}
     },
     "bffdf8a90fad463e808465349e797825": {
      "model_module": "@jupyter-widgets/base",
      "model_module_version": "1.2.0",
      "model_name": "LayoutModel",
      "state": {}
     },
     "c0587c92e97e4981bff3c45e3fa009c6": {
      "model_module": "@jupyter-widgets/controls",
      "model_module_version": "1.5.0",
      "model_name": "FloatProgressModel",
      "state": {
       "bar_style": "success",
       "description": "[1] 4/12(train): 100%",
       "layout": "IPY_MODEL_3c1924f7f78a47529f554566fead3fdb",
       "max": 493,
       "style": "IPY_MODEL_0038ec72fd77434b808987e6a3223aaf",
       "value": 493
      }
     },
     "c069a6d77e7f43c8983fdd2e48833007": {
      "model_module": "@jupyter-widgets/base",
      "model_module_version": "1.2.0",
      "model_name": "LayoutModel",
      "state": {}
     },
     "c0d0d43db4e94b208fd0338887d2de35": {
      "model_module": "@jupyter-widgets/controls",
      "model_module_version": "1.5.0",
      "model_name": "HTMLModel",
      "state": {
       "layout": "IPY_MODEL_ac9193f33b2c49dbbbe05d95a508ee26",
       "style": "IPY_MODEL_56c3eec08ab345999d1de33dd5bd0a7d",
       "value": " 493/493 [52:57&lt;00:00,  6.45s/it]"
      }
     },
     "c11c9a60dbfa467aa955604cf8ea129a": {
      "model_module": "@jupyter-widgets/base",
      "model_module_version": "1.2.0",
      "model_name": "LayoutModel",
      "state": {}
     },
     "c12ab0e25e6e48d7b22c8aa5bd63aa20": {
      "model_module": "@jupyter-widgets/controls",
      "model_module_version": "1.5.0",
      "model_name": "HTMLModel",
      "state": {
       "layout": "IPY_MODEL_61b8cf39440d45c1884368a4835ad5d7",
       "style": "IPY_MODEL_501483cd97bb46b085450dbb15ff3ec0",
       "value": " 469/469 [1:35:05&lt;00:00, 12.16s/it]"
      }
     },
     "c1b34630e3df42dc825ad8046e222561": {
      "model_module": "@jupyter-widgets/controls",
      "model_module_version": "1.5.0",
      "model_name": "HBoxModel",
      "state": {
       "children": [
        "IPY_MODEL_042b13077a874c8e9ff380d5c70cf819",
        "IPY_MODEL_e64c4024bf3b4b29ae99473a80061d00"
       ],
       "layout": "IPY_MODEL_3bbefbc1f6b044db94df8753a392dd44"
      }
     },
     "c1c26e93eaff41a4ae9592ec6ba1947e": {
      "model_module": "@jupyter-widgets/base",
      "model_module_version": "1.2.0",
      "model_name": "LayoutModel",
      "state": {}
     },
     "c1c2ca33bc504b0aabc6e2ede3374567": {
      "model_module": "@jupyter-widgets/controls",
      "model_module_version": "1.5.0",
      "model_name": "HTMLModel",
      "state": {
       "layout": "IPY_MODEL_6415271c361e4daca7cac7bbc30d2054",
       "style": "IPY_MODEL_9d5bfbea1a4248aa8e0a5b7ba309ba3b",
       "value": " 493/493 [46:22&lt;00:00,  5.64s/it]"
      }
     },
     "c1cb0ad97eaa4806976c95c697d76ec1": {
      "model_module": "@jupyter-widgets/controls",
      "model_module_version": "1.5.0",
      "model_name": "FloatProgressModel",
      "state": {
       "bar_style": "success",
       "description": "[2] 7/12(val  ): 100%",
       "layout": "IPY_MODEL_c11c9a60dbfa467aa955604cf8ea129a",
       "max": 165,
       "style": "IPY_MODEL_a5116b33306d463d8ea9a0203743de65",
       "value": 165
      }
     },
     "c2224e8f49fe406d9f3e7b2f8b518d5e": {
      "model_module": "@jupyter-widgets/controls",
      "model_module_version": "1.5.0",
      "model_name": "HBoxModel",
      "state": {
       "children": [
        "IPY_MODEL_974d85ec5d3b4961afa450242830b550",
        "IPY_MODEL_369082d450b2444d8e5da36de173e825"
       ],
       "layout": "IPY_MODEL_97257f65c83d47139a965e9cb2c89cbb"
      }
     },
     "c27ad281da3c4d4b9d294c142c9f8a77": {
      "model_module": "@jupyter-widgets/controls",
      "model_module_version": "1.5.0",
      "model_name": "DescriptionStyleModel",
      "state": {
       "description_width": ""
      }
     },
     "c2b8f7d2345349b6a040249a487964f3": {
      "model_module": "@jupyter-widgets/base",
      "model_module_version": "1.2.0",
      "model_name": "LayoutModel",
      "state": {}
     },
     "c2bc2b4e8de548eeb2006fb7069b86c2": {
      "model_module": "@jupyter-widgets/controls",
      "model_module_version": "1.5.0",
      "model_name": "HBoxModel",
      "state": {
       "children": [
        "IPY_MODEL_64d86345a7dc4745b69dad4972ddd275",
        "IPY_MODEL_8e3beb07e06044308589e3391d06876c"
       ],
       "layout": "IPY_MODEL_48dc653a8ed14b519eda399cef8a926c"
      }
     },
     "c2fd9bfb3a4f403b869fa9ce788cbe8c": {
      "model_module": "@jupyter-widgets/base",
      "model_module_version": "1.2.0",
      "model_name": "LayoutModel",
      "state": {}
     },
     "c347ea3f6e884fe38fde70774fcb6ef9": {
      "model_module": "@jupyter-widgets/base",
      "model_module_version": "1.2.0",
      "model_name": "LayoutModel",
      "state": {}
     },
     "c36c97c63d4f4e6da7e60c0aeb117d4a": {
      "model_module": "@jupyter-widgets/controls",
      "model_module_version": "1.5.0",
      "model_name": "DescriptionStyleModel",
      "state": {
       "description_width": ""
      }
     },
     "c3a871eadb3246f395ed6af588a65661": {
      "model_module": "@jupyter-widgets/base",
      "model_module_version": "1.2.0",
      "model_name": "LayoutModel",
      "state": {}
     },
     "c3ac53aabe6a4b65839f34a7bdeb7492": {
      "model_module": "@jupyter-widgets/controls",
      "model_module_version": "1.5.0",
      "model_name": "HBoxModel",
      "state": {
       "children": [
        "IPY_MODEL_8d361da3054f45749fc89eb9b54f27c2",
        "IPY_MODEL_fa50a9fd1557440abe077def2805c848"
       ],
       "layout": "IPY_MODEL_c80e1f6fe3bf4173bff34d1d5fe8b73b"
      }
     },
     "c3c2d689f3cb4223b98a7153827002df": {
      "model_module": "@jupyter-widgets/controls",
      "model_module_version": "1.5.0",
      "model_name": "HTMLModel",
      "state": {
       "layout": "IPY_MODEL_f64abfbfff214f3f94ef4fef659ea25f",
       "style": "IPY_MODEL_e9c38a17616b4cb7867a326b2cb0da3d",
       "value": " 493/493 [1:38:31&lt;00:00, 11.99s/it]"
      }
     },
     "c3f3bbb1188344c8a6a1e89e4a7c670a": {
      "model_module": "@jupyter-widgets/controls",
      "model_module_version": "1.5.0",
      "model_name": "ProgressStyleModel",
      "state": {
       "description_width": "initial"
      }
     },
     "c49acc0e9fd04ffca5048b991eeeefee": {
      "model_module": "@jupyter-widgets/base",
      "model_module_version": "1.2.0",
      "model_name": "LayoutModel",
      "state": {}
     },
     "c49bcf9f58484c799ce5204aca08c42d": {
      "model_module": "@jupyter-widgets/base",
      "model_module_version": "1.2.0",
      "model_name": "LayoutModel",
      "state": {}
     },
     "c49f8ce5698a4ee5be3707c0b8dc55bc": {
      "model_module": "@jupyter-widgets/base",
      "model_module_version": "1.2.0",
      "model_name": "LayoutModel",
      "state": {}
     },
     "c4a0fbdf99d74c0d883486f7b8337444": {
      "model_module": "@jupyter-widgets/base",
      "model_module_version": "1.2.0",
      "model_name": "LayoutModel",
      "state": {}
     },
     "c4d47702414548588dafa5e804199cc0": {
      "model_module": "@jupyter-widgets/controls",
      "model_module_version": "1.5.0",
      "model_name": "DescriptionStyleModel",
      "state": {
       "description_width": ""
      }
     },
     "c4ef8cc29a0c4a63982783f9c3d9c4fb": {
      "model_module": "@jupyter-widgets/base",
      "model_module_version": "1.2.0",
      "model_name": "LayoutModel",
      "state": {}
     },
     "c513d0133b864549805e365d1c37605d": {
      "model_module": "@jupyter-widgets/base",
      "model_module_version": "1.2.0",
      "model_name": "LayoutModel",
      "state": {}
     },
     "c53e9e61ed494daa845fa2177c267ea1": {
      "model_module": "@jupyter-widgets/controls",
      "model_module_version": "1.5.0",
      "model_name": "FloatProgressModel",
      "state": {
       "bar_style": "success",
       "description": "[2] 12/12(val  ): 100%",
       "layout": "IPY_MODEL_54bee4dec77e43a8961d82fa5e7a04f2",
       "max": 165,
       "style": "IPY_MODEL_2efcf6d0b23b4acd882c770393e6e867",
       "value": 165
      }
     },
     "c58d70d1c32b40eb86587d9fd91ef690": {
      "model_module": "@jupyter-widgets/controls",
      "model_module_version": "1.5.0",
      "model_name": "FloatProgressModel",
      "state": {
       "bar_style": "success",
       "description": "[3] 6/12(val  ): 100%",
       "layout": "IPY_MODEL_d04d7d0ffb8b4238b9fb4cc5b102a947",
       "max": 165,
       "style": "IPY_MODEL_c6ee9cb090b549bbb18612bd72ddb68b",
       "value": 165
      }
     },
     "c5c1bd2a3feb4819bf7194e06acef71d": {
      "model_module": "@jupyter-widgets/controls",
      "model_module_version": "1.5.0",
      "model_name": "ProgressStyleModel",
      "state": {
       "description_width": "initial"
      }
     },
     "c6693623f77c496eb9615f18c58f12e6": {
      "model_module": "@jupyter-widgets/base",
      "model_module_version": "1.2.0",
      "model_name": "LayoutModel",
      "state": {}
     },
     "c68503a49a19418da90135d982099ee4": {
      "model_module": "@jupyter-widgets/base",
      "model_module_version": "1.2.0",
      "model_name": "LayoutModel",
      "state": {}
     },
     "c6b69cac2d9a4db58be2045d0b851ca4": {
      "model_module": "@jupyter-widgets/base",
      "model_module_version": "1.2.0",
      "model_name": "LayoutModel",
      "state": {}
     },
     "c6db3c2a07f74d5aa21c5dd3b0cfa382": {
      "model_module": "@jupyter-widgets/base",
      "model_module_version": "1.2.0",
      "model_name": "LayoutModel",
      "state": {}
     },
     "c6ee9cb090b549bbb18612bd72ddb68b": {
      "model_module": "@jupyter-widgets/controls",
      "model_module_version": "1.5.0",
      "model_name": "ProgressStyleModel",
      "state": {
       "description_width": "initial"
      }
     },
     "c6f5d33de68e4f5483b722369381a393": {
      "model_module": "@jupyter-widgets/base",
      "model_module_version": "1.2.0",
      "model_name": "LayoutModel",
      "state": {}
     },
     "c70341dab1ff4eb2a8c1a990905a73f1": {
      "model_module": "@jupyter-widgets/controls",
      "model_module_version": "1.5.0",
      "model_name": "DescriptionStyleModel",
      "state": {
       "description_width": ""
      }
     },
     "c7436b996c1b41ca8feecf02db4c86f9": {
      "model_module": "@jupyter-widgets/controls",
      "model_module_version": "1.5.0",
      "model_name": "DescriptionStyleModel",
      "state": {
       "description_width": ""
      }
     },
     "c77d4e25937543c3b80f94c06b2c4522": {
      "model_module": "@jupyter-widgets/controls",
      "model_module_version": "1.5.0",
      "model_name": "HTMLModel",
      "state": {
       "layout": "IPY_MODEL_af72c7b9cbda4a73b27e476867782320",
       "style": "IPY_MODEL_acc1a9557e0b439b91e5998c38a9f67e",
       "value": " 157/157 [1:31:39&lt;00:00, 35.03s/it]"
      }
     },
     "c797322a8f4b4a6bae8bd5a98403b8ac": {
      "model_module": "@jupyter-widgets/controls",
      "model_module_version": "1.5.0",
      "model_name": "ProgressStyleModel",
      "state": {
       "description_width": "initial"
      }
     },
     "c7b515218ae74d598bd2b4d31ec919b7": {
      "model_module": "@jupyter-widgets/controls",
      "model_module_version": "1.5.0",
      "model_name": "DescriptionStyleModel",
      "state": {
       "description_width": ""
      }
     },
     "c7b5e12bc54d4c2a9efd7a7e57367e46": {
      "model_module": "@jupyter-widgets/controls",
      "model_module_version": "1.5.0",
      "model_name": "ProgressStyleModel",
      "state": {
       "description_width": "initial"
      }
     },
     "c7cc908dad734a27b75e4b3541a1dcdb": {
      "model_module": "@jupyter-widgets/base",
      "model_module_version": "1.2.0",
      "model_name": "LayoutModel",
      "state": {}
     },
     "c7ebd66088d14fe79e4518b6a644b785": {
      "model_module": "@jupyter-widgets/controls",
      "model_module_version": "1.5.0",
      "model_name": "HTMLModel",
      "state": {
       "layout": "IPY_MODEL_f2c421834d64412e9c7a098cbe5b3860",
       "style": "IPY_MODEL_474acc39db7a4664aef0d2f6ab85c809",
       "value": " 157/157 [23:36&lt;00:00,  9.02s/it]"
      }
     },
     "c80e1f6fe3bf4173bff34d1d5fe8b73b": {
      "model_module": "@jupyter-widgets/base",
      "model_module_version": "1.2.0",
      "model_name": "LayoutModel",
      "state": {}
     },
     "c8a709770cfe478a97366225ab285bf8": {
      "model_module": "@jupyter-widgets/controls",
      "model_module_version": "1.5.0",
      "model_name": "ProgressStyleModel",
      "state": {
       "description_width": "initial"
      }
     },
     "c8b091ae99d4417f9694fd39163b3dcc": {
      "model_module": "@jupyter-widgets/controls",
      "model_module_version": "1.5.0",
      "model_name": "FloatProgressModel",
      "state": {
       "bar_style": "success",
       "description": "[1] 9/12(train): 100%",
       "layout": "IPY_MODEL_c2fd9bfb3a4f403b869fa9ce788cbe8c",
       "max": 493,
       "style": "IPY_MODEL_d793833e456e42d8ab9d544c3558c310",
       "value": 493
      }
     },
     "c9191bace79a4fe1bc2eaa9a80fb9ee1": {
      "model_module": "@jupyter-widgets/controls",
      "model_module_version": "1.5.0",
      "model_name": "FloatProgressModel",
      "state": {
       "bar_style": "success",
       "description": "100%",
       "layout": "IPY_MODEL_6852570362bc444ca65f33dd592ceff2",
       "max": 1,
       "style": "IPY_MODEL_93629ab2f38e4eb59f63f5f4ab2b106f",
       "value": 1
      }
     },
     "c91d75df8d2e42cc87bc0baa606ff22f": {
      "model_module": "@jupyter-widgets/controls",
      "model_module_version": "1.5.0",
      "model_name": "HTMLModel",
      "state": {
       "layout": "IPY_MODEL_2b50124c66c040a0952b1e02f0517afd",
       "style": "IPY_MODEL_fbdd47bcedc147cc8f7e8331942e02fd",
       "value": " 0/493 [00:15&lt;?, ?it/s]"
      }
     },
     "c93f98aa4f88462c9f4c4808afa5da19": {
      "model_module": "@jupyter-widgets/base",
      "model_module_version": "1.2.0",
      "model_name": "LayoutModel",
      "state": {}
     },
     "c95589ead9f64b6fae69722468af6d3c": {
      "model_module": "@jupyter-widgets/base",
      "model_module_version": "1.2.0",
      "model_name": "LayoutModel",
      "state": {}
     },
     "c976b3424ad24edc97aae4a3c635ab09": {
      "model_module": "@jupyter-widgets/controls",
      "model_module_version": "1.5.0",
      "model_name": "HBoxModel",
      "state": {
       "children": [
        "IPY_MODEL_c53e9e61ed494daa845fa2177c267ea1",
        "IPY_MODEL_6f3b91d684f0480b93a30d943ad7860c"
       ],
       "layout": "IPY_MODEL_2b5bcf650fce419aa7cff213afa49364"
      }
     },
     "c9c3b2a0da8a48cf855f1e63582af8e0": {
      "model_module": "@jupyter-widgets/controls",
      "model_module_version": "1.5.0",
      "model_name": "ProgressStyleModel",
      "state": {
       "description_width": "initial"
      }
     },
     "c9f69e2cdea647e7b4335b7db52f55d4": {
      "model_module": "@jupyter-widgets/controls",
      "model_module_version": "1.5.0",
      "model_name": "FloatProgressModel",
      "state": {
       "bar_style": "success",
       "description": "[3] 1/12(train): 100%",
       "layout": "IPY_MODEL_8e9f885bac234f7a867cb4ffe2f3d4ff",
       "max": 469,
       "style": "IPY_MODEL_c7b5e12bc54d4c2a9efd7a7e57367e46",
       "value": 469
      }
     },
     "c9fb52ac162247e38eb463cc81bc3922": {
      "model_module": "@jupyter-widgets/base",
      "model_module_version": "1.2.0",
      "model_name": "LayoutModel",
      "state": {}
     },
     "ca0f43a11c42414daa881f820d3c6739": {
      "model_module": "@jupyter-widgets/controls",
      "model_module_version": "1.5.0",
      "model_name": "HBoxModel",
      "state": {
       "children": [
        "IPY_MODEL_a6d4594f9dd94a128a5488209cfc704d",
        "IPY_MODEL_5203906b9fbc47499730abbbf9923dc6"
       ],
       "layout": "IPY_MODEL_0b7a4a416bd742df9f3d2b51d99066cf"
      }
     },
     "ca1ca5150f634ca88179c4e903f811f8": {
      "model_module": "@jupyter-widgets/base",
      "model_module_version": "1.2.0",
      "model_name": "LayoutModel",
      "state": {}
     },
     "ca658b538a954911b04c045850750bb1": {
      "model_module": "@jupyter-widgets/controls",
      "model_module_version": "1.5.0",
      "model_name": "HTMLModel",
      "state": {
       "layout": "IPY_MODEL_ee822f97d9b2421f977120e373147c08",
       "style": "IPY_MODEL_150a861031e24969b3f968298cfbfe25",
       "value": " 165/165 [11:48&lt;00:00,  4.30s/it]"
      }
     },
     "ca6af99661dd40cf9a7db9193ff5a4a6": {
      "model_module": "@jupyter-widgets/controls",
      "model_module_version": "1.5.0",
      "model_name": "HBoxModel",
      "state": {
       "children": [
        "IPY_MODEL_08d66398311b496d962f1769dccd27af",
        "IPY_MODEL_9d36808d75a44ce1b515524a2e8fcd4b"
       ],
       "layout": "IPY_MODEL_fe6247970bdc4fc693b7d9ab32c15bac"
      }
     },
     "ca6e31f7904645c1888ba68f6887bb08": {
      "model_module": "@jupyter-widgets/controls",
      "model_module_version": "1.5.0",
      "model_name": "HBoxModel",
      "state": {
       "children": [
        "IPY_MODEL_81d663954b9a4888af4e4c9e24948866",
        "IPY_MODEL_a82a57575faa45f495b5918fbcc4e579"
       ],
       "layout": "IPY_MODEL_63bffaf0d4d048079158247ed671ccb6"
      }
     },
     "ca752d7836304d608dab6cb9174aea6e": {
      "model_module": "@jupyter-widgets/controls",
      "model_module_version": "1.5.0",
      "model_name": "HBoxModel",
      "state": {
       "children": [
        "IPY_MODEL_4c1c1b8ff57848a6959dccaad1b0cf29",
        "IPY_MODEL_8138e173c54847e88ecf7a50181e0e5b"
       ],
       "layout": "IPY_MODEL_0e55241beb104cd18b87e3cfb8dbe64d"
      }
     },
     "caa9e835582c47d4a139b07ff63afbe2": {
      "model_module": "@jupyter-widgets/controls",
      "model_module_version": "1.5.0",
      "model_name": "DescriptionStyleModel",
      "state": {
       "description_width": ""
      }
     },
     "cadb139d436949d782530d3160840e8d": {
      "model_module": "@jupyter-widgets/controls",
      "model_module_version": "1.5.0",
      "model_name": "HTMLModel",
      "state": {
       "layout": "IPY_MODEL_d3b76ea5dfee4df7ba4225bd9071bd6b",
       "style": "IPY_MODEL_15c66991191345918c0d2d5f175b3533",
       "value": " 493/493 [37:02&lt;00:00,  4.51s/it]"
      }
     },
     "cb04c7fe84164c7683ae30e15732d836": {
      "model_module": "@jupyter-widgets/controls",
      "model_module_version": "1.5.0",
      "model_name": "HTMLModel",
      "state": {
       "layout": "IPY_MODEL_b8325b9430c04df88bf6c71c8878f274",
       "style": "IPY_MODEL_5ab4ed0ed4094260a86c12c4583b941b",
       "value": " 469/469 [1:31:52&lt;00:00, 11.75s/it]"
      }
     },
     "cb166c308db84891808e5af054f59be4": {
      "model_module": "@jupyter-widgets/controls",
      "model_module_version": "1.5.0",
      "model_name": "HTMLModel",
      "state": {
       "layout": "IPY_MODEL_c7cc908dad734a27b75e4b3541a1dcdb",
       "style": "IPY_MODEL_dabb16490fd74147b1374c12bfdb6995",
       "value": " 493/493 [46:04&lt;00:00,  5.61s/it]"
      }
     },
     "cb395f9d54b54627b8ff3cbcd5872ebd": {
      "model_module": "@jupyter-widgets/controls",
      "model_module_version": "1.5.0",
      "model_name": "HBoxModel",
      "state": {
       "children": [
        "IPY_MODEL_1f4dd7bec8744be88318ef1a0b16ca17",
        "IPY_MODEL_11d68546c82742eeb7ef1ff254e433dc"
       ],
       "layout": "IPY_MODEL_39660d3609e5447e85763ab679feeaaa"
      }
     },
     "cb66a942c8ab4c6289246960d77f012a": {
      "model_module": "@jupyter-widgets/controls",
      "model_module_version": "1.5.0",
      "model_name": "ProgressStyleModel",
      "state": {
       "description_width": "initial"
      }
     },
     "cb7203b1664142f0a66a96ef8ad808fe": {
      "model_module": "@jupyter-widgets/base",
      "model_module_version": "1.2.0",
      "model_name": "LayoutModel",
      "state": {}
     },
     "cb791e790b874698b680c2fa149eef7a": {
      "model_module": "@jupyter-widgets/controls",
      "model_module_version": "1.5.0",
      "model_name": "DescriptionStyleModel",
      "state": {
       "description_width": ""
      }
     },
     "cb7edc60ca2141ffb413e8454688a167": {
      "model_module": "@jupyter-widgets/controls",
      "model_module_version": "1.5.0",
      "model_name": "DescriptionStyleModel",
      "state": {
       "description_width": ""
      }
     },
     "cb8abf23d9f34d88a87f63b6e6c5a1a4": {
      "model_module": "@jupyter-widgets/controls",
      "model_module_version": "1.5.0",
      "model_name": "ProgressStyleModel",
      "state": {
       "description_width": "initial"
      }
     },
     "cb9fd48d4a714f518471728316b3be3c": {
      "model_module": "@jupyter-widgets/controls",
      "model_module_version": "1.5.0",
      "model_name": "HTMLModel",
      "state": {
       "layout": "IPY_MODEL_f79c1633fd8d4fa3a65e5f21e75a240a",
       "style": "IPY_MODEL_8e056362527f49329876a2df85a98e7a",
       "value": " 157/157 [23:20&lt;00:00,  8.92s/it]"
      }
     },
     "cba8e25c9a9a4747851bc9b582e55104": {
      "model_module": "@jupyter-widgets/controls",
      "model_module_version": "1.5.0",
      "model_name": "FloatProgressModel",
      "state": {
       "bar_style": "success",
       "description": "[0] 10/12(val  ): 100%",
       "layout": "IPY_MODEL_9ecf6f40375a48e4952d3f58a421a361",
       "max": 165,
       "style": "IPY_MODEL_166f0adb72114bb99feab23b6c483f41",
       "value": 165
      }
     },
     "cbe0072aa2a247f5b8ef24b0e1875675": {
      "model_module": "@jupyter-widgets/controls",
      "model_module_version": "1.5.0",
      "model_name": "ProgressStyleModel",
      "state": {
       "description_width": "initial"
      }
     },
     "cc085c9917544a108f6afb3ee767f153": {
      "model_module": "@jupyter-widgets/controls",
      "model_module_version": "1.5.0",
      "model_name": "HBoxModel",
      "state": {
       "children": [
        "IPY_MODEL_b62d4bb35f794d7885a9a313963a62f6",
        "IPY_MODEL_c0d0d43db4e94b208fd0338887d2de35"
       ],
       "layout": "IPY_MODEL_208b504ed620484bbbb7de3f9b686f1d"
      }
     },
     "cc32dfb8ee21445fae79bbaf6c1c7d5a": {
      "model_module": "@jupyter-widgets/controls",
      "model_module_version": "1.5.0",
      "model_name": "DescriptionStyleModel",
      "state": {
       "description_width": ""
      }
     },
     "cc4de10c0825411384dcd373d8fbc6d1": {
      "model_module": "@jupyter-widgets/controls",
      "model_module_version": "1.5.0",
      "model_name": "HBoxModel",
      "state": {
       "children": [
        "IPY_MODEL_3f2173a0524d4ed196ef274a94f52baa",
        "IPY_MODEL_718ed66c7eb9426ebb621cf42832e3f9"
       ],
       "layout": "IPY_MODEL_78ca3a40b4514711a9e5ebd9520295b4"
      }
     },
     "ccf6b676a5f740d9a3a3186847238f5e": {
      "model_module": "@jupyter-widgets/controls",
      "model_module_version": "1.5.0",
      "model_name": "ProgressStyleModel",
      "state": {
       "description_width": "initial"
      }
     },
     "ccfcedcf96cd4d758cf21d2cae022058": {
      "model_module": "@jupyter-widgets/controls",
      "model_module_version": "1.5.0",
      "model_name": "ProgressStyleModel",
      "state": {
       "description_width": "initial"
      }
     },
     "cd15e163cb9c4c39b4bd5d1d99aeeff3": {
      "model_module": "@jupyter-widgets/base",
      "model_module_version": "1.2.0",
      "model_name": "LayoutModel",
      "state": {}
     },
     "cd23b4cc55f94089a3ffed16de505c8d": {
      "model_module": "@jupyter-widgets/controls",
      "model_module_version": "1.5.0",
      "model_name": "DescriptionStyleModel",
      "state": {
       "description_width": ""
      }
     },
     "cd401299180c44de9cc22152bbe19fe4": {
      "model_module": "@jupyter-widgets/base",
      "model_module_version": "1.2.0",
      "model_name": "LayoutModel",
      "state": {}
     },
     "cd9522388c2d4f24ac2a2b81e15609d7": {
      "model_module": "@jupyter-widgets/base",
      "model_module_version": "1.2.0",
      "model_name": "LayoutModel",
      "state": {}
     },
     "cda50cf6b6d34599ae0394e40b110d52": {
      "model_module": "@jupyter-widgets/controls",
      "model_module_version": "1.5.0",
      "model_name": "FloatProgressModel",
      "state": {
       "bar_style": "success",
       "description": "[0] 10/12(train): 100%",
       "layout": "IPY_MODEL_12325789a5c848bb9b5926cf44afdeaa",
       "max": 493,
       "style": "IPY_MODEL_e9090e9722f64ea58597b6fcdff2bd40",
       "value": 493
      }
     },
     "cdacc61d14134f8ab127bc08e7fd9b02": {
      "model_module": "@jupyter-widgets/base",
      "model_module_version": "1.2.0",
      "model_name": "LayoutModel",
      "state": {}
     },
     "cdb37821a1cc437eb67c98333ed43335": {
      "model_module": "@jupyter-widgets/base",
      "model_module_version": "1.2.0",
      "model_name": "LayoutModel",
      "state": {}
     },
     "cdb93f4341ce4710b915db685f637d48": {
      "model_module": "@jupyter-widgets/controls",
      "model_module_version": "1.5.0",
      "model_name": "HBoxModel",
      "state": {
       "children": [
        "IPY_MODEL_6f4ae7fd3e374a88b054895bce3421af",
        "IPY_MODEL_19b01873ad80487980d3196bebb0c0da"
       ],
       "layout": "IPY_MODEL_a14a8fc0b50645369b89c3db1f2fe8ca"
      }
     },
     "cdc090e946934991ba7579373ad90575": {
      "model_module": "@jupyter-widgets/controls",
      "model_module_version": "1.5.0",
      "model_name": "HBoxModel",
      "state": {
       "children": [
        "IPY_MODEL_f8d93bed78364622a4443a9feae929f0",
        "IPY_MODEL_277e8c8e184748efa0e403ebd723eee8"
       ],
       "layout": "IPY_MODEL_92a3eba19d1d4a9e9757fcff95b23e40"
      }
     },
     "cdc47bfe1cb84e4688b6853ae1b9f3ba": {
      "model_module": "@jupyter-widgets/controls",
      "model_module_version": "1.5.0",
      "model_name": "HTMLModel",
      "state": {
       "layout": "IPY_MODEL_cd401299180c44de9cc22152bbe19fe4",
       "style": "IPY_MODEL_9a67847124084aa6a561ed8112acd098",
       "value": " 469/469 [1:30:32&lt;00:00, 11.58s/it]"
      }
     },
     "cdd62fe20c5c490bbbda62a6d35cfe7e": {
      "model_module": "@jupyter-widgets/controls",
      "model_module_version": "1.5.0",
      "model_name": "HBoxModel",
      "state": {
       "children": [
        "IPY_MODEL_0a575a6d24c042a792c3ad90bff6a6b3",
        "IPY_MODEL_ec9b2b7da6db4d98a63405dcf5c1246c"
       ],
       "layout": "IPY_MODEL_dbff5a3a907d478fa1dc78c1b7f6cfa2"
      }
     },
     "cdeb80550e154eac8b76645202f2a6bb": {
      "model_module": "@jupyter-widgets/base",
      "model_module_version": "1.2.0",
      "model_name": "LayoutModel",
      "state": {}
     },
     "ce03d62d7ca94512983b96fec4f161a5": {
      "model_module": "@jupyter-widgets/base",
      "model_module_version": "1.2.0",
      "model_name": "LayoutModel",
      "state": {}
     },
     "ce2e9ef9b1dd48a88457dee4a43f74d4": {
      "model_module": "@jupyter-widgets/controls",
      "model_module_version": "1.5.0",
      "model_name": "HTMLModel",
      "state": {
       "layout": "IPY_MODEL_8b1bafe4c6c74d47af449389a1836170",
       "style": "IPY_MODEL_cc32dfb8ee21445fae79bbaf6c1c7d5a",
       "value": " 165/165 [11:43&lt;00:00,  4.26s/it]"
      }
     },
     "ce36a556e9b5491182bef15f20d6d141": {
      "model_module": "@jupyter-widgets/base",
      "model_module_version": "1.2.0",
      "model_name": "LayoutModel",
      "state": {}
     },
     "ce3e228b8abb4de0b0d6e4b351a3cbc0": {
      "model_module": "@jupyter-widgets/controls",
      "model_module_version": "1.5.0",
      "model_name": "ProgressStyleModel",
      "state": {
       "description_width": "initial"
      }
     },
     "cee449620b01460dbb4193c6ad836187": {
      "model_module": "@jupyter-widgets/controls",
      "model_module_version": "1.5.0",
      "model_name": "DescriptionStyleModel",
      "state": {
       "description_width": ""
      }
     },
     "cef6e57e31f94f5d971207955e0c7632": {
      "model_module": "@jupyter-widgets/controls",
      "model_module_version": "1.5.0",
      "model_name": "FloatProgressModel",
      "state": {
       "bar_style": "success",
       "description": "[3] 8/12(train): 100%",
       "layout": "IPY_MODEL_426ee396820f47118ffce7995aefc44b",
       "max": 493,
       "style": "IPY_MODEL_c797322a8f4b4a6bae8bd5a98403b8ac",
       "value": 493
      }
     },
     "cf3b2566f5fb4f258a8829dc33e1fb97": {
      "model_module": "@jupyter-widgets/base",
      "model_module_version": "1.2.0",
      "model_name": "LayoutModel",
      "state": {}
     },
     "cf59c01642384cd7a1d3643a5a2eb7ff": {
      "model_module": "@jupyter-widgets/controls",
      "model_module_version": "1.5.0",
      "model_name": "ProgressStyleModel",
      "state": {
       "description_width": "initial"
      }
     },
     "cf5f7bd57a624391a4260cabf6d464ca": {
      "model_module": "@jupyter-widgets/base",
      "model_module_version": "1.2.0",
      "model_name": "LayoutModel",
      "state": {}
     },
     "cf6913ef31cb4ea6b4bdf691c66924f8": {
      "model_module": "@jupyter-widgets/controls",
      "model_module_version": "1.5.0",
      "model_name": "ProgressStyleModel",
      "state": {
       "description_width": "initial"
      }
     },
     "cf805aa8cf5b4161ba3be70cbd2e1099": {
      "model_module": "@jupyter-widgets/controls",
      "model_module_version": "1.5.0",
      "model_name": "HTMLModel",
      "state": {
       "layout": "IPY_MODEL_51ada7bde92447919b222495be17efa8",
       "style": "IPY_MODEL_dca65d4ad95245fba3d2e7cc0963d283",
       "value": " 469/469 [1:33:55&lt;00:00, 12.02s/it]"
      }
     },
     "cf81a4d71ab140ceb931447f49ae5c81": {
      "model_module": "@jupyter-widgets/controls",
      "model_module_version": "1.5.0",
      "model_name": "FloatProgressModel",
      "state": {
       "bar_style": "success",
       "description": "[3] 4/12(val  ): 100%",
       "layout": "IPY_MODEL_8d98668928ba4ed6b3dce3e7c2b81c8d",
       "max": 165,
       "style": "IPY_MODEL_14326e4b661a41519e90439ce9b37060",
       "value": 165
      }
     },
     "cf8bb3add2db46068ee66d1b1227bb2b": {
      "model_module": "@jupyter-widgets/controls",
      "model_module_version": "1.5.0",
      "model_name": "FloatProgressModel",
      "state": {
       "bar_style": "success",
       "description": "[0] 10/12(val  ): 100%",
       "layout": "IPY_MODEL_c347ea3f6e884fe38fde70774fcb6ef9",
       "max": 157,
       "style": "IPY_MODEL_4f574ae73c70489680362ba3475b5578",
       "value": 157
      }
     },
     "cfa194756f4643268ca48b6f9be9092b": {
      "model_module": "@jupyter-widgets/base",
      "model_module_version": "1.2.0",
      "model_name": "LayoutModel",
      "state": {}
     },
     "cfc437cdc7194e1cb23e51c2dcecb1c6": {
      "model_module": "@jupyter-widgets/base",
      "model_module_version": "1.2.0",
      "model_name": "LayoutModel",
      "state": {}
     },
     "cff1ba08ade344a887e409edd5f8b107": {
      "model_module": "@jupyter-widgets/controls",
      "model_module_version": "1.5.0",
      "model_name": "ProgressStyleModel",
      "state": {
       "description_width": "initial"
      }
     },
     "d007ea1f8b3448f9b9a61d2e3934549a": {
      "model_module": "@jupyter-widgets/controls",
      "model_module_version": "1.5.0",
      "model_name": "HTMLModel",
      "state": {
       "layout": "IPY_MODEL_a4dfe8b104d84c8496a432da7fd5c86e",
       "style": "IPY_MODEL_a534504f1f3343fe98d4561a217a733c",
       "value": " 493/493 [35:56&lt;00:00,  4.37s/it]"
      }
     },
     "d012a86671b1449aa3372c90a24c1d68": {
      "model_module": "@jupyter-widgets/controls",
      "model_module_version": "1.5.0",
      "model_name": "DescriptionStyleModel",
      "state": {
       "description_width": ""
      }
     },
     "d030a3b74d404d1bafbef9ee56795b36": {
      "model_module": "@jupyter-widgets/base",
      "model_module_version": "1.2.0",
      "model_name": "LayoutModel",
      "state": {}
     },
     "d044e2d3771849d0bef7a9bfda2d6fc3": {
      "model_module": "@jupyter-widgets/controls",
      "model_module_version": "1.5.0",
      "model_name": "DescriptionStyleModel",
      "state": {
       "description_width": ""
      }
     },
     "d04d7d0ffb8b4238b9fb4cc5b102a947": {
      "model_module": "@jupyter-widgets/base",
      "model_module_version": "1.2.0",
      "model_name": "LayoutModel",
      "state": {}
     },
     "d086ce115f734cdd8f810391f6b1da73": {
      "model_module": "@jupyter-widgets/controls",
      "model_module_version": "1.5.0",
      "model_name": "ProgressStyleModel",
      "state": {
       "description_width": "initial"
      }
     },
     "d0a4831d74504f33a12d07a4f543b532": {
      "model_module": "@jupyter-widgets/base",
      "model_module_version": "1.2.0",
      "model_name": "LayoutModel",
      "state": {}
     },
     "d0e6f9fd2fa8419ca815ac158b433bed": {
      "model_module": "@jupyter-widgets/controls",
      "model_module_version": "1.5.0",
      "model_name": "ProgressStyleModel",
      "state": {
       "description_width": "initial"
      }
     },
     "d12eacfccbe4452db683c16bc9ec50fd": {
      "model_module": "@jupyter-widgets/base",
      "model_module_version": "1.2.0",
      "model_name": "LayoutModel",
      "state": {}
     },
     "d1380159ef0d43268dcabb56feeddcec": {
      "model_module": "@jupyter-widgets/controls",
      "model_module_version": "1.5.0",
      "model_name": "ProgressStyleModel",
      "state": {
       "description_width": "initial"
      }
     },
     "d1408cad2d7f483e8fc8ccd019af140e": {
      "model_module": "@jupyter-widgets/base",
      "model_module_version": "1.2.0",
      "model_name": "LayoutModel",
      "state": {}
     },
     "d1482663c26d4bee8073db0da7f40e4b": {
      "model_module": "@jupyter-widgets/base",
      "model_module_version": "1.2.0",
      "model_name": "LayoutModel",
      "state": {}
     },
     "d165d515199c4aa7b39548d76a7a16ac": {
      "model_module": "@jupyter-widgets/base",
      "model_module_version": "1.2.0",
      "model_name": "LayoutModel",
      "state": {}
     },
     "d1e9e35aa3bf4453b4d9d0b1097da867": {
      "model_module": "@jupyter-widgets/controls",
      "model_module_version": "1.5.0",
      "model_name": "FloatProgressModel",
      "state": {
       "bar_style": "success",
       "description": "[2] 6/12(val  ): 100%",
       "layout": "IPY_MODEL_c2b8f7d2345349b6a040249a487964f3",
       "max": 165,
       "style": "IPY_MODEL_d90b78557a554678af9b0b2266d8e555",
       "value": 165
      }
     },
     "d1ec1637ef2e422f8d94a94c9d0bd686": {
      "model_module": "@jupyter-widgets/controls",
      "model_module_version": "1.5.0",
      "model_name": "DescriptionStyleModel",
      "state": {
       "description_width": ""
      }
     },
     "d22726c998494997854fb91c926c269b": {
      "model_module": "@jupyter-widgets/base",
      "model_module_version": "1.2.0",
      "model_name": "LayoutModel",
      "state": {}
     },
     "d2318850048c4f2f8b86ed9a3cd0181d": {
      "model_module": "@jupyter-widgets/controls",
      "model_module_version": "1.5.0",
      "model_name": "DescriptionStyleModel",
      "state": {
       "description_width": ""
      }
     },
     "d27bea4a9bce48fbb2a6c3f9968623fe": {
      "model_module": "@jupyter-widgets/base",
      "model_module_version": "1.2.0",
      "model_name": "LayoutModel",
      "state": {}
     },
     "d291771f1072497d9ed228209f4edf17": {
      "model_module": "@jupyter-widgets/controls",
      "model_module_version": "1.5.0",
      "model_name": "HTMLModel",
      "state": {
       "layout": "IPY_MODEL_8db6233024044cdabfc0530b9df0eb4a",
       "style": "IPY_MODEL_f37d051ad577446cbdf12cc626a2ce7c",
       "value": " 469/469 [6:12:24&lt;00:00, 47.64s/it]"
      }
     },
     "d2acc67aee28485faeb1740903f950ff": {
      "model_module": "@jupyter-widgets/controls",
      "model_module_version": "1.5.0",
      "model_name": "FloatProgressModel",
      "state": {
       "bar_style": "success",
       "description": "100%",
       "layout": "IPY_MODEL_09087c5fce514dd19bcb116ef778eba1",
       "max": 165,
       "style": "IPY_MODEL_24f32ed2c181407585c9a7fa45b3c3a5",
       "value": 165
      }
     },
     "d2cc88c9bb28432db2eab4bd7cde60b6": {
      "model_module": "@jupyter-widgets/controls",
      "model_module_version": "1.5.0",
      "model_name": "HTMLModel",
      "state": {
       "layout": "IPY_MODEL_80ffd51bbee24c0988a17ad28dfa91a1",
       "style": "IPY_MODEL_bce012095d644eaaa29a9ff3e92ee0bb",
       "value": " 493/493 [3:47:22&lt;00:00, 27.67s/it]"
      }
     },
     "d2d7ce1a8439404c9da5670cb07aa840": {
      "model_module": "@jupyter-widgets/controls",
      "model_module_version": "1.5.0",
      "model_name": "HBoxModel",
      "state": {
       "children": [
        "IPY_MODEL_7ce81ca6dc594160afe105efbdfa8f60",
        "IPY_MODEL_9d03f626cf1541b5b2e83057a350e434"
       ],
       "layout": "IPY_MODEL_bb09079a0d5e43f98db33735567b5218"
      }
     },
     "d2fa67bc47284099baa100433ee02c74": {
      "model_module": "@jupyter-widgets/controls",
      "model_module_version": "1.5.0",
      "model_name": "ProgressStyleModel",
      "state": {
       "description_width": "initial"
      }
     },
     "d2fcc48addf84ab3aa7ae7c23ca7f763": {
      "model_module": "@jupyter-widgets/controls",
      "model_module_version": "1.5.0",
      "model_name": "HBoxModel",
      "state": {
       "children": [
        "IPY_MODEL_3ed9354da26e40eab53deaf976d47b2c",
        "IPY_MODEL_b56371c228fe4d5d8f9c828cbb096a3c"
       ],
       "layout": "IPY_MODEL_6ee8f83b14ec41f29ad93c4aa971d85d"
      }
     },
     "d2ffd848d862497b90896d67325010c6": {
      "model_module": "@jupyter-widgets/controls",
      "model_module_version": "1.5.0",
      "model_name": "HTMLModel",
      "state": {
       "layout": "IPY_MODEL_e0013369c91e47889a45bac7467ede09",
       "style": "IPY_MODEL_7b8893ef38ca4564a3a0e35a31fd9f4d",
       "value": " 165/165 [7:00:43&lt;00:00, 152.99s/it]"
      }
     },
     "d3236e47d06546d08b8c8d67289625d6": {
      "model_module": "@jupyter-widgets/controls",
      "model_module_version": "1.5.0",
      "model_name": "DescriptionStyleModel",
      "state": {
       "description_width": ""
      }
     },
     "d327e855e86f4d798ed38b6d7cb621a7": {
      "model_module": "@jupyter-widgets/controls",
      "model_module_version": "1.5.0",
      "model_name": "FloatProgressModel",
      "state": {
       "bar_style": "success",
       "description": "[3] 3/12(train): 100%",
       "layout": "IPY_MODEL_3616b19c27e94f3caaa531cf1210babe",
       "max": 493,
       "style": "IPY_MODEL_f2d95965ca7f46b5977a333ee9212dc0",
       "value": 493
      }
     },
     "d3b76ea5dfee4df7ba4225bd9071bd6b": {
      "model_module": "@jupyter-widgets/base",
      "model_module_version": "1.2.0",
      "model_name": "LayoutModel",
      "state": {}
     },
     "d3f52becd4b14eb0a5e49d2ad6e244e7": {
      "model_module": "@jupyter-widgets/base",
      "model_module_version": "1.2.0",
      "model_name": "LayoutModel",
      "state": {}
     },
     "d41b85f7e8ed4158997c03898a3b189c": {
      "model_module": "@jupyter-widgets/controls",
      "model_module_version": "1.5.0",
      "model_name": "HTMLModel",
      "state": {
       "layout": "IPY_MODEL_2c127e7a73be45be91dfcd162e60ba7e",
       "style": "IPY_MODEL_3f2a75f6761f40a0b7d1f8aa6426e9e3",
       "value": " 165/165 [10:57&lt;00:00,  3.98s/it]"
      }
     },
     "d4a7f2274ad8457a99ff3f73b129f028": {
      "model_module": "@jupyter-widgets/controls",
      "model_module_version": "1.5.0",
      "model_name": "FloatProgressModel",
      "state": {
       "bar_style": "success",
       "description": "[0] 11/12(train): 100%",
       "layout": "IPY_MODEL_7862955c8af14a0db9a3d7330ffaf391",
       "max": 493,
       "style": "IPY_MODEL_40f09298e2a8474e895036da897d33e3",
       "value": 493
      }
     },
     "d50efa4ee5c74fc99205fbcfc3d6f186": {
      "model_module": "@jupyter-widgets/controls",
      "model_module_version": "1.5.0",
      "model_name": "HBoxModel",
      "state": {
       "children": [
        "IPY_MODEL_7ffe63b915af4f71937a14da7f82e087",
        "IPY_MODEL_72f7bc25acea4b01836bccf10ddb5fc2"
       ],
       "layout": "IPY_MODEL_e15a4071440541a1b549e698a1feebd8"
      }
     },
     "d52347c6105f49a0b28e1206f464d2f4": {
      "model_module": "@jupyter-widgets/base",
      "model_module_version": "1.2.0",
      "model_name": "LayoutModel",
      "state": {}
     },
     "d5c8a914deb1402c919f04fdf134e9d4": {
      "model_module": "@jupyter-widgets/controls",
      "model_module_version": "1.5.0",
      "model_name": "FloatProgressModel",
      "state": {
       "bar_style": "danger",
       "description": "[0] 1/1(train):   0%",
       "layout": "IPY_MODEL_20960e11afff4aaa96cc920e57caacca",
       "max": 3,
       "style": "IPY_MODEL_7800430a8f3f4516992cee4974d6d2a3"
      }
     },
     "d5e6f96cde224bcf8478a1164cb9e308": {
      "model_module": "@jupyter-widgets/controls",
      "model_module_version": "1.5.0",
      "model_name": "DescriptionStyleModel",
      "state": {
       "description_width": ""
      }
     },
     "d5ecd52e91304cadbc84d38ca23262d5": {
      "model_module": "@jupyter-widgets/controls",
      "model_module_version": "1.5.0",
      "model_name": "DescriptionStyleModel",
      "state": {
       "description_width": ""
      }
     },
     "d5fac6407e0d413e8a3349c9ccae8a15": {
      "model_module": "@jupyter-widgets/controls",
      "model_module_version": "1.5.0",
      "model_name": "HBoxModel",
      "state": {
       "children": [
        "IPY_MODEL_783ebf5d494c4a4aa87d7dc61d9d4d9c",
        "IPY_MODEL_2efc0f79761b48bb90a603e7e6de9d8b"
       ],
       "layout": "IPY_MODEL_2bf47a985c2d4f41943954fbc5378738"
      }
     },
     "d607e4a45f3946b982100a9021e764f9": {
      "model_module": "@jupyter-widgets/controls",
      "model_module_version": "1.5.0",
      "model_name": "HTMLModel",
      "state": {
       "layout": "IPY_MODEL_906a223804b24cbf8a4a75e6f8bfe359",
       "style": "IPY_MODEL_4ba963e3a1d7496c91cd6bce81553fba",
       "value": " 0/3 [00:10&lt;?, ?it/s]"
      }
     },
     "d6100a972da64a818b0250aa93f2dddd": {
      "model_module": "@jupyter-widgets/base",
      "model_module_version": "1.2.0",
      "model_name": "LayoutModel",
      "state": {}
     },
     "d61a708655f145119c6728dfce7bc8e4": {
      "model_module": "@jupyter-widgets/base",
      "model_module_version": "1.2.0",
      "model_name": "LayoutModel",
      "state": {}
     },
     "d640d84eb8464412a4e579cb98bf578d": {
      "model_module": "@jupyter-widgets/controls",
      "model_module_version": "1.5.0",
      "model_name": "ProgressStyleModel",
      "state": {
       "description_width": "initial"
      }
     },
     "d68a7f412d414879a2f66e6395ee6621": {
      "model_module": "@jupyter-widgets/controls",
      "model_module_version": "1.5.0",
      "model_name": "FloatProgressModel",
      "state": {
       "bar_style": "success",
       "description": "[1] 8/12(val  ): 100%",
       "layout": "IPY_MODEL_95fa950a3545488f94bf6a0af14c1d9e",
       "max": 157,
       "style": "IPY_MODEL_f0b7d5e05b38421086b9adafef3d66e4",
       "value": 157
      }
     },
     "d69ff4cea40c405abb76e7abbd454cdc": {
      "model_module": "@jupyter-widgets/controls",
      "model_module_version": "1.5.0",
      "model_name": "DescriptionStyleModel",
      "state": {
       "description_width": ""
      }
     },
     "d6ea86f2107b4a5081d1353edd868b4f": {
      "model_module": "@jupyter-widgets/controls",
      "model_module_version": "1.5.0",
      "model_name": "DescriptionStyleModel",
      "state": {
       "description_width": ""
      }
     },
     "d72796ece9054087b4d30fdf9e9d7fff": {
      "model_module": "@jupyter-widgets/base",
      "model_module_version": "1.2.0",
      "model_name": "LayoutModel",
      "state": {}
     },
     "d72f016d4b1b462b838bd872c30f82d2": {
      "model_module": "@jupyter-widgets/controls",
      "model_module_version": "1.5.0",
      "model_name": "ProgressStyleModel",
      "state": {
       "description_width": "initial"
      }
     },
     "d73bffa83da742e1bc7a37ab6480e9f6": {
      "model_module": "@jupyter-widgets/base",
      "model_module_version": "1.2.0",
      "model_name": "LayoutModel",
      "state": {}
     },
     "d793833e456e42d8ab9d544c3558c310": {
      "model_module": "@jupyter-widgets/controls",
      "model_module_version": "1.5.0",
      "model_name": "ProgressStyleModel",
      "state": {
       "description_width": "initial"
      }
     },
     "d7b3083c944e4ae281b02da1a6682994": {
      "model_module": "@jupyter-widgets/base",
      "model_module_version": "1.2.0",
      "model_name": "LayoutModel",
      "state": {}
     },
     "d88452c60157460e8201b3cd90c83e09": {
      "model_module": "@jupyter-widgets/controls",
      "model_module_version": "1.5.0",
      "model_name": "ProgressStyleModel",
      "state": {
       "description_width": "initial"
      }
     },
     "d8f02586a58848e8b9e3a48d947ac3fc": {
      "model_module": "@jupyter-widgets/base",
      "model_module_version": "1.2.0",
      "model_name": "LayoutModel",
      "state": {}
     },
     "d90b78557a554678af9b0b2266d8e555": {
      "model_module": "@jupyter-widgets/controls",
      "model_module_version": "1.5.0",
      "model_name": "ProgressStyleModel",
      "state": {
       "description_width": "initial"
      }
     },
     "d918ac67418c4123a45e733ff3e7c7c0": {
      "model_module": "@jupyter-widgets/controls",
      "model_module_version": "1.5.0",
      "model_name": "FloatProgressModel",
      "state": {
       "bar_style": "success",
       "description": "[3] 4/12(train): 100%",
       "layout": "IPY_MODEL_581b50fd444d4807bd5b5d2eb2927894",
       "max": 469,
       "style": "IPY_MODEL_12de224c11464d398a7a78b8b4975658",
       "value": 469
      }
     },
     "d9489b36f2b346648ea36f89d8d1ed0a": {
      "model_module": "@jupyter-widgets/controls",
      "model_module_version": "1.5.0",
      "model_name": "HBoxModel",
      "state": {
       "children": [
        "IPY_MODEL_3c55554ec5d945ffa2f9050c0546a243",
        "IPY_MODEL_6d8459eec31745b2b5761933f5d8f5fc"
       ],
       "layout": "IPY_MODEL_270b2623de3e48f9b906a4c26116fd12"
      }
     },
     "d9516eb07a5d43b88b900b5942b509e3": {
      "model_module": "@jupyter-widgets/controls",
      "model_module_version": "1.5.0",
      "model_name": "DescriptionStyleModel",
      "state": {
       "description_width": ""
      }
     },
     "d995f64b5714442b91a1240ddd2eb853": {
      "model_module": "@jupyter-widgets/controls",
      "model_module_version": "1.5.0",
      "model_name": "HBoxModel",
      "state": {
       "children": [
        "IPY_MODEL_dd195b41ae654dec824cffdb1607edc4",
        "IPY_MODEL_ab0f6a378988403095fbfbadc014292e"
       ],
       "layout": "IPY_MODEL_769f3cc0f817489d87fecd0bab25af56"
      }
     },
     "d9ad248acfed486682d6c974aacc87e8": {
      "model_module": "@jupyter-widgets/controls",
      "model_module_version": "1.5.0",
      "model_name": "ProgressStyleModel",
      "state": {
       "description_width": "initial"
      }
     },
     "d9b0c6d8ccf04962b7c58e994f5681cb": {
      "model_module": "@jupyter-widgets/controls",
      "model_module_version": "1.5.0",
      "model_name": "HTMLModel",
      "state": {
       "layout": "IPY_MODEL_d6100a972da64a818b0250aa93f2dddd",
       "style": "IPY_MODEL_4b08aca05e14497da3c106c52912e3fe",
       "value": " 165/165 [3:59:00&lt;00:00, 86.91s/it]"
      }
     },
     "d9e89f2e209249fd9df26e58d51c5536": {
      "model_module": "@jupyter-widgets/base",
      "model_module_version": "1.2.0",
      "model_name": "LayoutModel",
      "state": {}
     },
     "da10417e884343f791c41c5f10bfc9e1": {
      "model_module": "@jupyter-widgets/controls",
      "model_module_version": "1.5.0",
      "model_name": "DescriptionStyleModel",
      "state": {
       "description_width": ""
      }
     },
     "da134d998db84d9a8ff5cdc976d7bfa2": {
      "model_module": "@jupyter-widgets/base",
      "model_module_version": "1.2.0",
      "model_name": "LayoutModel",
      "state": {}
     },
     "da1ebf078c1a43a6987045840d908eec": {
      "model_module": "@jupyter-widgets/controls",
      "model_module_version": "1.5.0",
      "model_name": "FloatProgressModel",
      "state": {
       "bar_style": "success",
       "description": "[0] 2/12(val  ): 100%",
       "layout": "IPY_MODEL_838951626df74d80b76e851f33f99a96",
       "max": 165,
       "style": "IPY_MODEL_b94021e4928f4f3daf067465ba228888",
       "value": 165
      }
     },
     "da23385735274fce8c13e627a189fb49": {
      "model_module": "@jupyter-widgets/controls",
      "model_module_version": "1.5.0",
      "model_name": "ProgressStyleModel",
      "state": {
       "description_width": "initial"
      }
     },
     "da5ad42f68984a26935dfef52f76e50c": {
      "model_module": "@jupyter-widgets/controls",
      "model_module_version": "1.5.0",
      "model_name": "HBoxModel",
      "state": {
       "children": [
        "IPY_MODEL_164dfb7728fd43a98b570a8753519f15",
        "IPY_MODEL_4e05283d70ca4d74bb1f785fdf14029d"
       ],
       "layout": "IPY_MODEL_849bc729fa574ae9b743121a7a3f651b"
      }
     },
     "da70068230b346dd9c9a61b1bef5a25b": {
      "model_module": "@jupyter-widgets/controls",
      "model_module_version": "1.5.0",
      "model_name": "HTMLModel",
      "state": {
       "layout": "IPY_MODEL_618efbf8dc204acaae70f836abab6504",
       "style": "IPY_MODEL_39ef1ee60e6945c1aa81fb1a368f571e",
       "value": " 493/493 [46:22&lt;00:00,  5.64s/it]"
      }
     },
     "da7cabcfbee9417dbb7c9526be4b30ff": {
      "model_module": "@jupyter-widgets/controls",
      "model_module_version": "1.5.0",
      "model_name": "HTMLModel",
      "state": {
       "layout": "IPY_MODEL_88ac30922cd64e49981776f74dd38908",
       "style": "IPY_MODEL_fc6d529e66804237a226bbdd823ba3cc",
       "value": " 157/157 [32:45&lt;00:00, 12.52s/it]"
      }
     },
     "da865690ef284723a26b178933d809b1": {
      "model_module": "@jupyter-widgets/controls",
      "model_module_version": "1.5.0",
      "model_name": "HBoxModel",
      "state": {
       "children": [
        "IPY_MODEL_4591ae1d82f546678315bb099b7303e9",
        "IPY_MODEL_321c292c9c4a46c3b66eaa883190c27f"
       ],
       "layout": "IPY_MODEL_6d898966c92b4644a62716c00d210d28"
      }
     },
     "da8c6e9d540440c5aee798619419165f": {
      "model_module": "@jupyter-widgets/base",
      "model_module_version": "1.2.0",
      "model_name": "LayoutModel",
      "state": {}
     },
     "daa9fc154e894974b04a0ff8b0768f31": {
      "model_module": "@jupyter-widgets/controls",
      "model_module_version": "1.5.0",
      "model_name": "HTMLModel",
      "state": {
       "layout": "IPY_MODEL_ea991ae2a18f4d1b921f75eac2670d07",
       "style": "IPY_MODEL_3de3b88afb114ab395bd290076b8b77c",
       "value": " 469/469 [1:30:46&lt;00:00, 11.61s/it]"
      }
     },
     "dab678eef5644379a794deb631bbeba6": {
      "model_module": "@jupyter-widgets/base",
      "model_module_version": "1.2.0",
      "model_name": "LayoutModel",
      "state": {}
     },
     "dabb16490fd74147b1374c12bfdb6995": {
      "model_module": "@jupyter-widgets/controls",
      "model_module_version": "1.5.0",
      "model_name": "DescriptionStyleModel",
      "state": {
       "description_width": ""
      }
     },
     "dad80cfcc4124fdfa09daaadbee9e0df": {
      "model_module": "@jupyter-widgets/controls",
      "model_module_version": "1.5.0",
      "model_name": "HTMLModel",
      "state": {
       "layout": "IPY_MODEL_04237e60728a475cbc75ed9d42dfd43c",
       "style": "IPY_MODEL_e3d19aca3edb42d8a4e59a7c461373af",
       "value": " 493/493 [45:51&lt;00:00,  5.58s/it]"
      }
     },
     "dadd76dd4e044fb6964a163f8748dc29": {
      "model_module": "@jupyter-widgets/base",
      "model_module_version": "1.2.0",
      "model_name": "LayoutModel",
      "state": {}
     },
     "daf021055dc242aa9587ac931c4f5e17": {
      "model_module": "@jupyter-widgets/base",
      "model_module_version": "1.2.0",
      "model_name": "LayoutModel",
      "state": {}
     },
     "daf1616578cb4994b35e24662a262274": {
      "model_module": "@jupyter-widgets/controls",
      "model_module_version": "1.5.0",
      "model_name": "HTMLModel",
      "state": {
       "layout": "IPY_MODEL_5f3e88a87ad4451d9a67127ee97721a3",
       "style": "IPY_MODEL_b0c68efe14a243b0b6510a35838a8580",
       "value": " 165/165 [7:53:40&lt;00:00, 172.25s/it]"
      }
     },
     "daffd8f2b43149f9aa2654ab293a06d6": {
      "model_module": "@jupyter-widgets/controls",
      "model_module_version": "1.5.0",
      "model_name": "HTMLModel",
      "state": {
       "layout": "IPY_MODEL_17a64a58e78c4f44a092b25972475016",
       "style": "IPY_MODEL_06bbfcdeb7744ce987a1f0fbf0a02701",
       "value": " 157/157 [26:03&lt;00:00,  9.96s/it]"
      }
     },
     "db0351435a8143f79f352563b83d4df8": {
      "model_module": "@jupyter-widgets/controls",
      "model_module_version": "1.5.0",
      "model_name": "HTMLModel",
      "state": {
       "layout": "IPY_MODEL_bff2b79466744f4a9f5a8f600e06b6c7",
       "style": "IPY_MODEL_d9516eb07a5d43b88b900b5942b509e3",
       "value": " 165/165 [11:53&lt;00:00,  4.32s/it]"
      }
     },
     "db246b5f66f7458b87106abe32a9e2b4": {
      "model_module": "@jupyter-widgets/controls",
      "model_module_version": "1.5.0",
      "model_name": "FloatProgressModel",
      "state": {
       "bar_style": "success",
       "description": "[2] 5/12(val  ): 100%",
       "layout": "IPY_MODEL_47aac26890ca4b97bda774da1afd9900",
       "max": 157,
       "style": "IPY_MODEL_6dae3b1c75044679a256271de8007d53",
       "value": 157
      }
     },
     "db7983bf5bc24e6e8a6f4e5f51af3ac6": {
      "model_module": "@jupyter-widgets/controls",
      "model_module_version": "1.5.0",
      "model_name": "ProgressStyleModel",
      "state": {
       "description_width": "initial"
      }
     },
     "db8fea8294d040afa391f774b967b902": {
      "model_module": "@jupyter-widgets/controls",
      "model_module_version": "1.5.0",
      "model_name": "DescriptionStyleModel",
      "state": {
       "description_width": ""
      }
     },
     "dba5d186f45c47078d7e2c7e402990ad": {
      "model_module": "@jupyter-widgets/controls",
      "model_module_version": "1.5.0",
      "model_name": "FloatProgressModel",
      "state": {
       "bar_style": "success",
       "description": "[3] 9/12(train): 100%",
       "layout": "IPY_MODEL_0147c5fa84df40eba87defc250221b7a",
       "max": 493,
       "style": "IPY_MODEL_4d6fb339e16046a29de69a4b5f72c0c0",
       "value": 493
      }
     },
     "dbc9699d784448bd82168cf96ab1968e": {
      "model_module": "@jupyter-widgets/controls",
      "model_module_version": "1.5.0",
      "model_name": "FloatProgressModel",
      "state": {
       "bar_style": "success",
       "description": "[3] 3/12(val  ): 100%",
       "layout": "IPY_MODEL_4096b792517d4711a707064ff5ef2ddb",
       "max": 165,
       "style": "IPY_MODEL_8481c6364e304da98375a79b6af9a7ee",
       "value": 165
      }
     },
     "dbcf0697b9c64f8e9daf7dcb794b9ab3": {
      "model_module": "@jupyter-widgets/controls",
      "model_module_version": "1.5.0",
      "model_name": "FloatProgressModel",
      "state": {
       "bar_style": "success",
       "description": "[1] 11/12(val  ): 100%",
       "layout": "IPY_MODEL_7fbd9588240d4ed2bb549d1a2c62b72f",
       "max": 157,
       "style": "IPY_MODEL_7cf562e3406546e5a44809586b7276b7",
       "value": 157
      }
     },
     "dbe1cc6478264d4bb0fab64f4e16f576": {
      "model_module": "@jupyter-widgets/base",
      "model_module_version": "1.2.0",
      "model_name": "LayoutModel",
      "state": {}
     },
     "dbe5829255d2478ca004517292a4a5dc": {
      "model_module": "@jupyter-widgets/base",
      "model_module_version": "1.2.0",
      "model_name": "LayoutModel",
      "state": {}
     },
     "dbff5a3a907d478fa1dc78c1b7f6cfa2": {
      "model_module": "@jupyter-widgets/base",
      "model_module_version": "1.2.0",
      "model_name": "LayoutModel",
      "state": {}
     },
     "dc056c15c05d41d9b99673e006251d1b": {
      "model_module": "@jupyter-widgets/controls",
      "model_module_version": "1.5.0",
      "model_name": "HBoxModel",
      "state": {
       "children": [
        "IPY_MODEL_96e56d9a88434278a9b168eb1f701f84",
        "IPY_MODEL_cb9fd48d4a714f518471728316b3be3c"
       ],
       "layout": "IPY_MODEL_d27bea4a9bce48fbb2a6c3f9968623fe"
      }
     },
     "dc33cd81091648a2842a49cd11fe9493": {
      "model_module": "@jupyter-widgets/controls",
      "model_module_version": "1.5.0",
      "model_name": "HBoxModel",
      "state": {
       "children": [
        "IPY_MODEL_26906c89dad042a1b535d567329906ec",
        "IPY_MODEL_4f2c55e41d094cea83fc0f517fb12676"
       ],
       "layout": "IPY_MODEL_28568a10190440d6b4e33bfa6a91663b"
      }
     },
     "dc4422118947425f8a62e29442844f42": {
      "model_module": "@jupyter-widgets/base",
      "model_module_version": "1.2.0",
      "model_name": "LayoutModel",
      "state": {}
     },
     "dc69b37499f1489896faf52e73b41755": {
      "model_module": "@jupyter-widgets/controls",
      "model_module_version": "1.5.0",
      "model_name": "FloatProgressModel",
      "state": {
       "bar_style": "success",
       "description": "[2] 3/12(train): 100%",
       "layout": "IPY_MODEL_02d6b18979af46f481aa0e01fcb2fc4c",
       "max": 493,
       "style": "IPY_MODEL_bf3815a2559e407697bd7d360522966e",
       "value": 493
      }
     },
     "dc791b11694342c694b0a2c986ad8958": {
      "model_module": "@jupyter-widgets/base",
      "model_module_version": "1.2.0",
      "model_name": "LayoutModel",
      "state": {}
     },
     "dc876ae3d25d4f9bb5c29f8e7b26af05": {
      "model_module": "@jupyter-widgets/base",
      "model_module_version": "1.2.0",
      "model_name": "LayoutModel",
      "state": {}
     },
     "dc98766cd2e8442d8f6288bcc050ce80": {
      "model_module": "@jupyter-widgets/base",
      "model_module_version": "1.2.0",
      "model_name": "LayoutModel",
      "state": {}
     },
     "dca65d4ad95245fba3d2e7cc0963d283": {
      "model_module": "@jupyter-widgets/controls",
      "model_module_version": "1.5.0",
      "model_name": "DescriptionStyleModel",
      "state": {
       "description_width": ""
      }
     },
     "dcd239c05ea54b82895ebd6f8f251dea": {
      "model_module": "@jupyter-widgets/controls",
      "model_module_version": "1.5.0",
      "model_name": "ProgressStyleModel",
      "state": {
       "description_width": "initial"
      }
     },
     "dd12f61511224958ad2c04393bd25d23": {
      "model_module": "@jupyter-widgets/controls",
      "model_module_version": "1.5.0",
      "model_name": "ProgressStyleModel",
      "state": {
       "description_width": "initial"
      }
     },
     "dd195b41ae654dec824cffdb1607edc4": {
      "model_module": "@jupyter-widgets/controls",
      "model_module_version": "1.5.0",
      "model_name": "FloatProgressModel",
      "state": {
       "bar_style": "success",
       "description": "[2] 2/12(val  ): 100%",
       "layout": "IPY_MODEL_ba2c3f0e7c93450ba3367722cc15f2b7",
       "max": 165,
       "style": "IPY_MODEL_1b811871f7bf4eb491fbcf8471dd4d54",
       "value": 165
      }
     },
     "dd2b1e8e0aa44e70b8ce2474293cdb8e": {
      "model_module": "@jupyter-widgets/base",
      "model_module_version": "1.2.0",
      "model_name": "LayoutModel",
      "state": {}
     },
     "dd4e8d7c3a734608a6a420d3f17e7393": {
      "model_module": "@jupyter-widgets/controls",
      "model_module_version": "1.5.0",
      "model_name": "HBoxModel",
      "state": {
       "children": [
        "IPY_MODEL_5fc9ab821ab34c278ceae6dd81bc58f7",
        "IPY_MODEL_5735937226b14f578ee7483f26938812"
       ],
       "layout": "IPY_MODEL_29daea28b9c8486d99caaf8a1d3c2aae"
      }
     },
     "dd7c44e374e44006b66fc752090e90ee": {
      "model_module": "@jupyter-widgets/controls",
      "model_module_version": "1.5.0",
      "model_name": "DescriptionStyleModel",
      "state": {
       "description_width": ""
      }
     },
     "dd9c04ab640a44229f46da81cf4930c5": {
      "model_module": "@jupyter-widgets/controls",
      "model_module_version": "1.5.0",
      "model_name": "HBoxModel",
      "state": {
       "children": [
        "IPY_MODEL_e650765c14474cfaaa65e1f52533c7a2",
        "IPY_MODEL_0251b8c7ed7e4ef4a8bd2b7e0bdd07ef"
       ],
       "layout": "IPY_MODEL_e750304d937940319ece46f850b936ac"
      }
     },
     "ddaf9097e169480aa04e3d8e06941974": {
      "model_module": "@jupyter-widgets/base",
      "model_module_version": "1.2.0",
      "model_name": "LayoutModel",
      "state": {}
     },
     "de2960fa7a834a0fae167b9ffddf10b7": {
      "model_module": "@jupyter-widgets/controls",
      "model_module_version": "1.5.0",
      "model_name": "ProgressStyleModel",
      "state": {
       "description_width": "initial"
      }
     },
     "dec7b5e2e0ce40a2abee44d8c5b55b36": {
      "model_module": "@jupyter-widgets/controls",
      "model_module_version": "1.5.0",
      "model_name": "HBoxModel",
      "state": {
       "children": [
        "IPY_MODEL_041b2728e0444c238f6edaaf655a1022",
        "IPY_MODEL_eb058024b3ae408fb094d6d5aeab4138"
       ],
       "layout": "IPY_MODEL_c93f98aa4f88462c9f4c4808afa5da19"
      }
     },
     "ded75e50c58a4561aa880f07fc151778": {
      "model_module": "@jupyter-widgets/base",
      "model_module_version": "1.2.0",
      "model_name": "LayoutModel",
      "state": {}
     },
     "df0d57ccac964068b9d8374909fa90ca": {
      "model_module": "@jupyter-widgets/base",
      "model_module_version": "1.2.0",
      "model_name": "LayoutModel",
      "state": {}
     },
     "df2f060447f547bba3b2174ab82e1bc5": {
      "model_module": "@jupyter-widgets/base",
      "model_module_version": "1.2.0",
      "model_name": "LayoutModel",
      "state": {}
     },
     "df34c98556e1424790915adef6123619": {
      "model_module": "@jupyter-widgets/base",
      "model_module_version": "1.2.0",
      "model_name": "LayoutModel",
      "state": {}
     },
     "df8105a3a12b42cea9f2e275fdffebfe": {
      "model_module": "@jupyter-widgets/controls",
      "model_module_version": "1.5.0",
      "model_name": "FloatProgressModel",
      "state": {
       "bar_style": "success",
       "description": "[3] 2/12(train): 100%",
       "layout": "IPY_MODEL_a627a4f7b45a4e0c94599a52684194b0",
       "max": 493,
       "style": "IPY_MODEL_f657230833d241d3ae42654338a4b130",
       "value": 493
      }
     },
     "df9600bb9a60409d9857773ffcdf2210": {
      "model_module": "@jupyter-widgets/controls",
      "model_module_version": "1.5.0",
      "model_name": "ProgressStyleModel",
      "state": {
       "description_width": "initial"
      }
     },
     "dfb1ea774a054ee880a17e6215fa6684": {
      "model_module": "@jupyter-widgets/controls",
      "model_module_version": "1.5.0",
      "model_name": "HBoxModel",
      "state": {
       "children": [
        "IPY_MODEL_b2286d3fb7e5486e830e846f62af4bc6",
        "IPY_MODEL_3357e94104814d149cc7ccec57545bdb"
       ],
       "layout": "IPY_MODEL_a91c2a6734f34fb39a7104edca6c8280"
      }
     },
     "dfda3b1f9ec64addb360b57b2b73ad68": {
      "model_module": "@jupyter-widgets/controls",
      "model_module_version": "1.5.0",
      "model_name": "DescriptionStyleModel",
      "state": {
       "description_width": ""
      }
     },
     "dfdbf34ed93741998532921973522168": {
      "model_module": "@jupyter-widgets/base",
      "model_module_version": "1.2.0",
      "model_name": "LayoutModel",
      "state": {}
     },
     "dffbb02074ba49ca9bdcc242b43f4c94": {
      "model_module": "@jupyter-widgets/base",
      "model_module_version": "1.2.0",
      "model_name": "LayoutModel",
      "state": {}
     },
     "e0013369c91e47889a45bac7467ede09": {
      "model_module": "@jupyter-widgets/base",
      "model_module_version": "1.2.0",
      "model_name": "LayoutModel",
      "state": {}
     },
     "e00d1f016f714c36adb885a2854cd14b": {
      "model_module": "@jupyter-widgets/controls",
      "model_module_version": "1.5.0",
      "model_name": "HBoxModel",
      "state": {
       "children": [
        "IPY_MODEL_2bb8fddec64e4683833c5a07bca676f1",
        "IPY_MODEL_64ab139f094c441f9c783385df43f21c"
       ],
       "layout": "IPY_MODEL_a5367cf9ba0945f8a072e898d9f70aa8"
      }
     },
     "e02e2faf89434bed8d8ce75b32e2b804": {
      "model_module": "@jupyter-widgets/controls",
      "model_module_version": "1.5.0",
      "model_name": "DescriptionStyleModel",
      "state": {
       "description_width": ""
      }
     },
     "e0345abd1ff74db09ecccea3a0fb8aec": {
      "model_module": "@jupyter-widgets/base",
      "model_module_version": "1.2.0",
      "model_name": "LayoutModel",
      "state": {}
     },
     "e0667b9f73b249149fa3c8b122d375b8": {
      "model_module": "@jupyter-widgets/base",
      "model_module_version": "1.2.0",
      "model_name": "LayoutModel",
      "state": {}
     },
     "e12b2daa7e0b431ab444d3a2617bbf94": {
      "model_module": "@jupyter-widgets/controls",
      "model_module_version": "1.5.0",
      "model_name": "HBoxModel",
      "state": {
       "children": [
        "IPY_MODEL_6f7e91fa0ba841caa1af1ad229093299",
        "IPY_MODEL_2d3c767421a549bbb9c2bd58af699028"
       ],
       "layout": "IPY_MODEL_df0d57ccac964068b9d8374909fa90ca"
      }
     },
     "e15a4071440541a1b549e698a1feebd8": {
      "model_module": "@jupyter-widgets/base",
      "model_module_version": "1.2.0",
      "model_name": "LayoutModel",
      "state": {}
     },
     "e187fc0ea97943f1a366cd0b66cffc9d": {
      "model_module": "@jupyter-widgets/base",
      "model_module_version": "1.2.0",
      "model_name": "LayoutModel",
      "state": {}
     },
     "e20f354d84fc4298ad64345392ce7179": {
      "model_module": "@jupyter-widgets/controls",
      "model_module_version": "1.5.0",
      "model_name": "HBoxModel",
      "state": {
       "children": [
        "IPY_MODEL_0540146525b845afa6142fc3c1d80147",
        "IPY_MODEL_922c4cbb585a451d844e40bb76ce07bb"
       ],
       "layout": "IPY_MODEL_10aaa45745b74086ad16d16d9e05036a"
      }
     },
     "e218db31f04d4e2c84bf4e5174ff3709": {
      "model_module": "@jupyter-widgets/controls",
      "model_module_version": "1.5.0",
      "model_name": "HBoxModel",
      "state": {
       "children": [
        "IPY_MODEL_f5813022c8094a6aa0921f02eb00ac97",
        "IPY_MODEL_15ecf843271e4c558c5e1a896886b8c5"
       ],
       "layout": "IPY_MODEL_0fc9013bf5624f77b7b977a490453369"
      }
     },
     "e225f2276e454b43adb35aeb17c30c3a": {
      "model_module": "@jupyter-widgets/base",
      "model_module_version": "1.2.0",
      "model_name": "LayoutModel",
      "state": {}
     },
     "e244db469e7a4aada7d6b9d3be8c67b4": {
      "model_module": "@jupyter-widgets/controls",
      "model_module_version": "1.5.0",
      "model_name": "HBoxModel",
      "state": {
       "children": [
        "IPY_MODEL_da1ebf078c1a43a6987045840d908eec",
        "IPY_MODEL_87ac8bd4a5c84482b30a2646fdb125c5"
       ],
       "layout": "IPY_MODEL_49f33a66aaa74853bbd832cc6fb5f56e"
      }
     },
     "e2526433e0004dcfb462449ec6117b44": {
      "model_module": "@jupyter-widgets/controls",
      "model_module_version": "1.5.0",
      "model_name": "ProgressStyleModel",
      "state": {
       "description_width": "initial"
      }
     },
     "e254e7da788d48329e2b2f76e972d090": {
      "model_module": "@jupyter-widgets/controls",
      "model_module_version": "1.5.0",
      "model_name": "DescriptionStyleModel",
      "state": {
       "description_width": ""
      }
     },
     "e25ea4f4b68d49bd9032006d38202fbc": {
      "model_module": "@jupyter-widgets/controls",
      "model_module_version": "1.5.0",
      "model_name": "FloatProgressModel",
      "state": {
       "bar_style": "success",
       "description": "[3] 12/12(val  ): 100%",
       "layout": "IPY_MODEL_c6693623f77c496eb9615f18c58f12e6",
       "max": 157,
       "style": "IPY_MODEL_b40affaca12848e09ebda689290d6b54",
       "value": 157
      }
     },
     "e284fc1be5a84ebe8e3899d83534eb0c": {
      "model_module": "@jupyter-widgets/base",
      "model_module_version": "1.2.0",
      "model_name": "LayoutModel",
      "state": {}
     },
     "e2acb641901c4ece9b2c0bb9e33cf31c": {
      "model_module": "@jupyter-widgets/controls",
      "model_module_version": "1.5.0",
      "model_name": "DescriptionStyleModel",
      "state": {
       "description_width": ""
      }
     },
     "e2ece8a9c3f94b63b99984db9c31fa4a": {
      "model_module": "@jupyter-widgets/controls",
      "model_module_version": "1.5.0",
      "model_name": "ProgressStyleModel",
      "state": {
       "description_width": "initial"
      }
     },
     "e339a89686e4432eb38d9a1634a69843": {
      "model_module": "@jupyter-widgets/controls",
      "model_module_version": "1.5.0",
      "model_name": "HBoxModel",
      "state": {
       "children": [
        "IPY_MODEL_7abe567e66a648ddbeb221faa7285660",
        "IPY_MODEL_83ab0619995243fb966c91312fffd9df"
       ],
       "layout": "IPY_MODEL_c68503a49a19418da90135d982099ee4"
      }
     },
     "e38a39d84d0c4f46a7bd74b8f3fbfbc2": {
      "model_module": "@jupyter-widgets/base",
      "model_module_version": "1.2.0",
      "model_name": "LayoutModel",
      "state": {}
     },
     "e3b6ba4e08464e37badc8c2d6d919327": {
      "model_module": "@jupyter-widgets/controls",
      "model_module_version": "1.5.0",
      "model_name": "DescriptionStyleModel",
      "state": {
       "description_width": ""
      }
     },
     "e3c100f197c54f49879d4eff3fa634c5": {
      "model_module": "@jupyter-widgets/controls",
      "model_module_version": "1.5.0",
      "model_name": "FloatProgressModel",
      "state": {
       "bar_style": "success",
       "description": "[2] 9/12(val  ): 100%",
       "layout": "IPY_MODEL_21e26e00c482475cb8228ee2aa61ee99",
       "max": 165,
       "style": "IPY_MODEL_c9c3b2a0da8a48cf855f1e63582af8e0",
       "value": 165
      }
     },
     "e3cacaab59684bc7a1b7f937f0d5a8a7": {
      "model_module": "@jupyter-widgets/controls",
      "model_module_version": "1.5.0",
      "model_name": "HBoxModel",
      "state": {
       "children": [
        "IPY_MODEL_5af15e4afdb24288917bb16aa209ec10",
        "IPY_MODEL_7432d839e4e143d9ad6647ef7c7abec8"
       ],
       "layout": "IPY_MODEL_03e109902dd64f8f9b5b01c3b04edc60"
      }
     },
     "e3d19aca3edb42d8a4e59a7c461373af": {
      "model_module": "@jupyter-widgets/controls",
      "model_module_version": "1.5.0",
      "model_name": "DescriptionStyleModel",
      "state": {
       "description_width": ""
      }
     },
     "e3e0462a6593455fa0502664d0405a44": {
      "model_module": "@jupyter-widgets/controls",
      "model_module_version": "1.5.0",
      "model_name": "HTMLModel",
      "state": {
       "layout": "IPY_MODEL_31fbf68c7e4b4ec6a0214a2532f56713",
       "style": "IPY_MODEL_d5ecd52e91304cadbc84d38ca23262d5",
       "value": " 165/165 [46:42&lt;00:00, 16.99s/it]"
      }
     },
     "e41427564acf40f1a2e54c7bdc876ca3": {
      "model_module": "@jupyter-widgets/base",
      "model_module_version": "1.2.0",
      "model_name": "LayoutModel",
      "state": {}
     },
     "e41ea8ff3acd40bfb240819ad6d82f5e": {
      "model_module": "@jupyter-widgets/base",
      "model_module_version": "1.2.0",
      "model_name": "LayoutModel",
      "state": {}
     },
     "e49312b7e05d4272b1a147b80827778e": {
      "model_module": "@jupyter-widgets/controls",
      "model_module_version": "1.5.0",
      "model_name": "HBoxModel",
      "state": {
       "children": [
        "IPY_MODEL_08ce32bb09e14371b263e566be6e0686",
        "IPY_MODEL_6c0552e59f9d49e6b8f8bb19ff1c1feb"
       ],
       "layout": "IPY_MODEL_93c76f30a6ec4b64b104b5124bc6a846"
      }
     },
     "e50cc41af952499abfbc5a75367ca1f2": {
      "model_module": "@jupyter-widgets/base",
      "model_module_version": "1.2.0",
      "model_name": "LayoutModel",
      "state": {}
     },
     "e53473fb48d94df29e3372da7e893c83": {
      "model_module": "@jupyter-widgets/controls",
      "model_module_version": "1.5.0",
      "model_name": "ProgressStyleModel",
      "state": {
       "description_width": "initial"
      }
     },
     "e556ee4b64e047c78ccee5c37a89777f": {
      "model_module": "@jupyter-widgets/base",
      "model_module_version": "1.2.0",
      "model_name": "LayoutModel",
      "state": {}
     },
     "e558e9b54747400cb27a21fec0076579": {
      "model_module": "@jupyter-widgets/controls",
      "model_module_version": "1.5.0",
      "model_name": "FloatProgressModel",
      "state": {
       "bar_style": "success",
       "description": "[3] 7/12(val  ): 100%",
       "layout": "IPY_MODEL_8812ce8215e5443e97e81de7763dd122",
       "max": 157,
       "style": "IPY_MODEL_8145246f649b4642b23f2d0e3cb5fd4c",
       "value": 157
      }
     },
     "e56ea1a9c4254f268f08aa67dabd4f36": {
      "model_module": "@jupyter-widgets/base",
      "model_module_version": "1.2.0",
      "model_name": "LayoutModel",
      "state": {}
     },
     "e597ca906ca6456ebfb281a7b0ef5520": {
      "model_module": "@jupyter-widgets/controls",
      "model_module_version": "1.5.0",
      "model_name": "FloatProgressModel",
      "state": {
       "bar_style": "success",
       "description": "[1] 4/12(val  ): 100%",
       "layout": "IPY_MODEL_b272b28903694fea987b9426124286ff",
       "max": 165,
       "style": "IPY_MODEL_89f0b31e88e74afba77fa191205e9c4f",
       "value": 165
      }
     },
     "e640c565855040d5896d4b6dd32cf614": {
      "model_module": "@jupyter-widgets/controls",
      "model_module_version": "1.5.0",
      "model_name": "ProgressStyleModel",
      "state": {
       "description_width": "initial"
      }
     },
     "e64c4024bf3b4b29ae99473a80061d00": {
      "model_module": "@jupyter-widgets/controls",
      "model_module_version": "1.5.0",
      "model_name": "HTMLModel",
      "state": {
       "layout": "IPY_MODEL_f56d8f93180c49428980ddb1f57fdf2a",
       "style": "IPY_MODEL_fe2d5dd04acc409dba160161b12d0cea",
       "value": " 493/493 [36:40&lt;00:00,  4.46s/it]"
      }
     },
     "e650765c14474cfaaa65e1f52533c7a2": {
      "model_module": "@jupyter-widgets/controls",
      "model_module_version": "1.5.0",
      "model_name": "FloatProgressModel",
      "state": {
       "bar_style": "success",
       "description": "[1] 10/12(train): 100%",
       "layout": "IPY_MODEL_cfc437cdc7194e1cb23e51c2dcecb1c6",
       "max": 469,
       "style": "IPY_MODEL_e2526433e0004dcfb462449ec6117b44",
       "value": 469
      }
     },
     "e668f3cd0a1d4eea90d9ee8cf9cc34e5": {
      "model_module": "@jupyter-widgets/base",
      "model_module_version": "1.2.0",
      "model_name": "LayoutModel",
      "state": {}
     },
     "e69c013120c0407fb5290bc8d75eba64": {
      "model_module": "@jupyter-widgets/controls",
      "model_module_version": "1.5.0",
      "model_name": "DescriptionStyleModel",
      "state": {
       "description_width": ""
      }
     },
     "e6cddd95650a4b009b2c439527145925": {
      "model_module": "@jupyter-widgets/controls",
      "model_module_version": "1.5.0",
      "model_name": "HTMLModel",
      "state": {
       "layout": "IPY_MODEL_dc791b11694342c694b0a2c986ad8958",
       "style": "IPY_MODEL_9901efe112cc4a6b943de1272292fc66",
       "value": " 469/469 [17:11:39&lt;00:00, 131.98s/it]"
      }
     },
     "e6ff9a3f6baf45cf9d1e5870dc570190": {
      "model_module": "@jupyter-widgets/base",
      "model_module_version": "1.2.0",
      "model_name": "LayoutModel",
      "state": {}
     },
     "e70636ec0e0f4995a77232ac9ca74a61": {
      "model_module": "@jupyter-widgets/controls",
      "model_module_version": "1.5.0",
      "model_name": "DescriptionStyleModel",
      "state": {
       "description_width": ""
      }
     },
     "e70d6fad96ae4c16bc691bf739b95d69": {
      "model_module": "@jupyter-widgets/controls",
      "model_module_version": "1.5.0",
      "model_name": "DescriptionStyleModel",
      "state": {
       "description_width": ""
      }
     },
     "e750304d937940319ece46f850b936ac": {
      "model_module": "@jupyter-widgets/base",
      "model_module_version": "1.2.0",
      "model_name": "LayoutModel",
      "state": {}
     },
     "e772b53c2d6d427d893a207cedea8eab": {
      "model_module": "@jupyter-widgets/controls",
      "model_module_version": "1.5.0",
      "model_name": "HTMLModel",
      "state": {
       "layout": "IPY_MODEL_31cffaa498f8495485f9cc6d9801caff",
       "style": "IPY_MODEL_b91d4edfe21e4b9183597f8b62971b58",
       "value": " 0/3 [00:10&lt;?, ?it/s]"
      }
     },
     "e7b4093017c0417c9cce44bdbff6d0f7": {
      "model_module": "@jupyter-widgets/base",
      "model_module_version": "1.2.0",
      "model_name": "LayoutModel",
      "state": {}
     },
     "e7c025e27f354cb1822f14c1860325f6": {
      "model_module": "@jupyter-widgets/controls",
      "model_module_version": "1.5.0",
      "model_name": "HTMLModel",
      "state": {
       "layout": "IPY_MODEL_6f709d7b047c470ba65bb1efbb1a48aa",
       "style": "IPY_MODEL_ffbd97a7fb124f779d200ad96368f8cb",
       "value": " 493/493 [3:02:46&lt;00:00, 22.24s/it]"
      }
     },
     "e7f22d46610a42889bb1cc1e0cdac76f": {
      "model_module": "@jupyter-widgets/base",
      "model_module_version": "1.2.0",
      "model_name": "LayoutModel",
      "state": {}
     },
     "e814fdd16195458c9dd9846bd2fced50": {
      "model_module": "@jupyter-widgets/controls",
      "model_module_version": "1.5.0",
      "model_name": "HBoxModel",
      "state": {
       "children": [
        "IPY_MODEL_eefe24b93ed948b59ef0f2889cdac0d0",
        "IPY_MODEL_8c0dd105545f467d8e87759f896fc192"
       ],
       "layout": "IPY_MODEL_3a5039f2874b451fa92b13934006abf7"
      }
     },
     "e823dced021047e193ffc04333666624": {
      "model_module": "@jupyter-widgets/controls",
      "model_module_version": "1.5.0",
      "model_name": "ProgressStyleModel",
      "state": {
       "description_width": "initial"
      }
     },
     "e852085c4a4a4ea68ddf4f3f0f9b26bd": {
      "model_module": "@jupyter-widgets/controls",
      "model_module_version": "1.5.0",
      "model_name": "HBoxModel",
      "state": {
       "children": [
        "IPY_MODEL_fca2475f75e1435992317035a66f17cc",
        "IPY_MODEL_389076e4f7044213b393bdf5255f1877"
       ],
       "layout": "IPY_MODEL_844cb791843c4498a646fdcebc17f0cb"
      }
     },
     "e8732568aeb14b0b865f55f8c765db62": {
      "model_module": "@jupyter-widgets/controls",
      "model_module_version": "1.5.0",
      "model_name": "DescriptionStyleModel",
      "state": {
       "description_width": ""
      }
     },
     "e88069719b324cbc94d96d55058a0754": {
      "model_module": "@jupyter-widgets/controls",
      "model_module_version": "1.5.0",
      "model_name": "HBoxModel",
      "state": {
       "children": [
        "IPY_MODEL_11f7b67291434bd58a9f8ada8235ab01",
        "IPY_MODEL_0588480362ac4e56af36b08494c24364"
       ],
       "layout": "IPY_MODEL_197a2de079ed4c63b46ae08a0b2f0134"
      }
     },
     "e8edc4ba84d3458688aeb8b0aa9870cc": {
      "model_module": "@jupyter-widgets/controls",
      "model_module_version": "1.5.0",
      "model_name": "HBoxModel",
      "state": {
       "children": [
        "IPY_MODEL_9e2fe02bb9db46f7a607adcf2dd969fd",
        "IPY_MODEL_928ad127fff14af19590473357a03c55"
       ],
       "layout": "IPY_MODEL_82300105b17948b6952e5cd7ea4184d1"
      }
     },
     "e9090e9722f64ea58597b6fcdff2bd40": {
      "model_module": "@jupyter-widgets/controls",
      "model_module_version": "1.5.0",
      "model_name": "ProgressStyleModel",
      "state": {
       "description_width": "initial"
      }
     },
     "e936672f44f647408266f84534f86623": {
      "model_module": "@jupyter-widgets/controls",
      "model_module_version": "1.5.0",
      "model_name": "FloatProgressModel",
      "state": {
       "bar_style": "danger",
       "description": "[3] 1/10(train):   0%",
       "layout": "IPY_MODEL_09ded731209b499ca8a35d4cded9decc",
       "max": 3,
       "style": "IPY_MODEL_7bb62646d1394cd5b2259901f3a416c7"
      }
     },
     "e9480898fc6144f09f3a414f63c66d7d": {
      "model_module": "@jupyter-widgets/controls",
      "model_module_version": "1.5.0",
      "model_name": "HTMLModel",
      "state": {
       "layout": "IPY_MODEL_92ced1f4758d46e78144b95f3df7c1de",
       "style": "IPY_MODEL_74a76cb373904554ab31f78c8664433d",
       "value": " 469/469 [15:37:23&lt;00:00, 119.92s/it]"
      }
     },
     "e95a2a2ee132462ca47946a530e35528": {
      "model_module": "@jupyter-widgets/controls",
      "model_module_version": "1.5.0",
      "model_name": "HBoxModel",
      "state": {
       "children": [
        "IPY_MODEL_ee42e3481da34142b2e88ca9623446a6",
        "IPY_MODEL_16bc58067d0b4da3902efe09c206a3d2"
       ],
       "layout": "IPY_MODEL_4a89fcb903594b77b28172ac9d087c9f"
      }
     },
     "e9862609a17f4ce496dafca7d91ee9d3": {
      "model_module": "@jupyter-widgets/controls",
      "model_module_version": "1.5.0",
      "model_name": "HTMLModel",
      "state": {
       "layout": "IPY_MODEL_dfdbf34ed93741998532921973522168",
       "style": "IPY_MODEL_cb7edc60ca2141ffb413e8454688a167",
       "value": " 0/3 [00:10&lt;?, ?it/s]"
      }
     },
     "e98849e848604c07ab835a2b82cd7f0e": {
      "model_module": "@jupyter-widgets/controls",
      "model_module_version": "1.5.0",
      "model_name": "HBoxModel",
      "state": {
       "children": [
        "IPY_MODEL_512482bd7b7546f4910ce9aee3a4bffc",
        "IPY_MODEL_f87a9cc25fcf4afea895b6375babf87d"
       ],
       "layout": "IPY_MODEL_0ec4e9a1f908456faf79f3a7c635db52"
      }
     },
     "e9c38a17616b4cb7867a326b2cb0da3d": {
      "model_module": "@jupyter-widgets/controls",
      "model_module_version": "1.5.0",
      "model_name": "DescriptionStyleModel",
      "state": {
       "description_width": ""
      }
     },
     "e9e3d16bbbd942d6957cf2e17e3e9c67": {
      "model_module": "@jupyter-widgets/base",
      "model_module_version": "1.2.0",
      "model_name": "LayoutModel",
      "state": {}
     },
     "ea866a6df6914edc87071b14ec89611e": {
      "model_module": "@jupyter-widgets/controls",
      "model_module_version": "1.5.0",
      "model_name": "FloatProgressModel",
      "state": {
       "bar_style": "success",
       "description": "[0] 4/12(train): 100%",
       "layout": "IPY_MODEL_c49acc0e9fd04ffca5048b991eeeefee",
       "max": 493,
       "style": "IPY_MODEL_f9bfc68401bd4ebd86539f4b7ac3a880",
       "value": 493
      }
     },
     "ea991ae2a18f4d1b921f75eac2670d07": {
      "model_module": "@jupyter-widgets/base",
      "model_module_version": "1.2.0",
      "model_name": "LayoutModel",
      "state": {}
     },
     "ea9fbbe7fed1460b99ac1156775bd26a": {
      "model_module": "@jupyter-widgets/base",
      "model_module_version": "1.2.0",
      "model_name": "LayoutModel",
      "state": {}
     },
     "eaace3a0dfbc4270a730043e1940644e": {
      "model_module": "@jupyter-widgets/controls",
      "model_module_version": "1.5.0",
      "model_name": "HBoxModel",
      "state": {
       "children": [
        "IPY_MODEL_36f1b3f255c64a0b9826c31c7a2d793e",
        "IPY_MODEL_26b2e73f9c0b4efaac1ed88c7482d518"
       ],
       "layout": "IPY_MODEL_29c6866697dd48f0b13383ab0de992bb"
      }
     },
     "eac330db5f5c42bc966ec19a569142ed": {
      "model_module": "@jupyter-widgets/base",
      "model_module_version": "1.2.0",
      "model_name": "LayoutModel",
      "state": {}
     },
     "ead8ec789bae4adbbd245254e7f525dc": {
      "model_module": "@jupyter-widgets/base",
      "model_module_version": "1.2.0",
      "model_name": "LayoutModel",
      "state": {}
     },
     "eae46866d15e46bf8b6061504ff7e6b3": {
      "model_module": "@jupyter-widgets/controls",
      "model_module_version": "1.5.0",
      "model_name": "ProgressStyleModel",
      "state": {
       "description_width": "initial"
      }
     },
     "eaee0f66027a451cb7d70ff6a6b2deee": {
      "model_module": "@jupyter-widgets/controls",
      "model_module_version": "1.5.0",
      "model_name": "FloatProgressModel",
      "state": {
       "bar_style": "success",
       "description": "[0] 3/12(val  ): 100%",
       "layout": "IPY_MODEL_7c906066e2c243a59d7aaf1086d24d76",
       "max": 157,
       "style": "IPY_MODEL_ad0b6bdd9b0542028dd94fbe675490bd",
       "value": 157
      }
     },
     "eaf138db692e4d509defb31ed4803e87": {
      "model_module": "@jupyter-widgets/controls",
      "model_module_version": "1.5.0",
      "model_name": "HBoxModel",
      "state": {
       "children": [
        "IPY_MODEL_fcf4aa45fcdc4c33a29894b8da17ac92",
        "IPY_MODEL_255d58c4076544029d8d6ad4e75fa30b"
       ],
       "layout": "IPY_MODEL_a5c2466428e84651b3cd9977aaf8f12d"
      }
     },
     "eafb3a23c09e4493b53ae305035cb7ab": {
      "model_module": "@jupyter-widgets/controls",
      "model_module_version": "1.5.0",
      "model_name": "FloatProgressModel",
      "state": {
       "bar_style": "success",
       "description": "[3] 6/12(train): 100%",
       "layout": "IPY_MODEL_991cbac002bb4b779b4b0c1ca7cd4c18",
       "max": 493,
       "style": "IPY_MODEL_3ae4de1829714fdfaaeb2f3893579245",
       "value": 493
      }
     },
     "eb058024b3ae408fb094d6d5aeab4138": {
      "model_module": "@jupyter-widgets/controls",
      "model_module_version": "1.5.0",
      "model_name": "HTMLModel",
      "state": {
       "layout": "IPY_MODEL_d9e89f2e209249fd9df26e58d51c5536",
       "style": "IPY_MODEL_0dc2716b44654967b5416bdcb4757382",
       "value": " 157/157 [26:52&lt;00:00, 10.27s/it]"
      }
     },
     "eb2ba2779bfe4b789d70cbc6fbcf5a11": {
      "model_module": "@jupyter-widgets/controls",
      "model_module_version": "1.5.0",
      "model_name": "DescriptionStyleModel",
      "state": {
       "description_width": ""
      }
     },
     "eb46bf50e4a24d32af5501a02c769c16": {
      "model_module": "@jupyter-widgets/controls",
      "model_module_version": "1.5.0",
      "model_name": "FloatProgressModel",
      "state": {
       "bar_style": "success",
       "description": "[1] 3/12(val  ): 100%",
       "layout": "IPY_MODEL_a6db382d25db45418992acabb4ea46e6",
       "max": 165,
       "style": "IPY_MODEL_5945eb010d084928b7511d72e1dfc763",
       "value": 165
      }
     },
     "eb87fd92693b47068d3a1883e6809114": {
      "model_module": "@jupyter-widgets/controls",
      "model_module_version": "1.5.0",
      "model_name": "HTMLModel",
      "state": {
       "layout": "IPY_MODEL_72d65627b1ee4678ac028252f77c73c9",
       "style": "IPY_MODEL_4c0670d6dcfb41c397ea2859e9fd878a",
       "value": " 157/157 [21:48&lt;00:00,  8.34s/it]"
      }
     },
     "eb8e0370a2ac4034beadcf7f7fb67226": {
      "model_module": "@jupyter-widgets/base",
      "model_module_version": "1.2.0",
      "model_name": "LayoutModel",
      "state": {}
     },
     "ebb96f0d27a64d3a9d3bfeb530070da9": {
      "model_module": "@jupyter-widgets/controls",
      "model_module_version": "1.5.0",
      "model_name": "HTMLModel",
      "state": {
       "layout": "IPY_MODEL_df2f060447f547bba3b2174ab82e1bc5",
       "style": "IPY_MODEL_2bbe37f7b1994635bbf253358fccf4fa",
       "value": " 493/493 [6:04:55&lt;00:00, 44.41s/it]"
      }
     },
     "ebdd1e4c97f04178852d63672354ec4e": {
      "model_module": "@jupyter-widgets/base",
      "model_module_version": "1.2.0",
      "model_name": "LayoutModel",
      "state": {}
     },
     "ec016bc3875947fe955e37659500f1ec": {
      "model_module": "@jupyter-widgets/base",
      "model_module_version": "1.2.0",
      "model_name": "LayoutModel",
      "state": {}
     },
     "ec4db7b94d554f3db79e69e59fdd75ea": {
      "model_module": "@jupyter-widgets/base",
      "model_module_version": "1.2.0",
      "model_name": "LayoutModel",
      "state": {}
     },
     "ec4f34fd7ee84177b2f6dc0890fe3113": {
      "model_module": "@jupyter-widgets/controls",
      "model_module_version": "1.5.0",
      "model_name": "FloatProgressModel",
      "state": {
       "bar_style": "success",
       "description": "[0] 8/12(val  ): 100%",
       "layout": "IPY_MODEL_9bf7791a002c40b5b965835c32203a6f",
       "max": 165,
       "style": "IPY_MODEL_10aea329004a4a329b1e4fda8898b563",
       "value": 165
      }
     },
     "ec9b2b7da6db4d98a63405dcf5c1246c": {
      "model_module": "@jupyter-widgets/controls",
      "model_module_version": "1.5.0",
      "model_name": "HTMLModel",
      "state": {
       "layout": "IPY_MODEL_616c22db31f344c491d31900d8976006",
       "style": "IPY_MODEL_ab0e50b676754b6d961d84d76600ed6c",
       "value": " 469/469 [1:35:26&lt;00:00, 12.21s/it]"
      }
     },
     "eca0724e8bab48deb08ac3f912cc1ff2": {
      "model_module": "@jupyter-widgets/controls",
      "model_module_version": "1.5.0",
      "model_name": "ProgressStyleModel",
      "state": {
       "description_width": "initial"
      }
     },
     "ecd35ddda47f421ab88680c78859d48c": {
      "model_module": "@jupyter-widgets/controls",
      "model_module_version": "1.5.0",
      "model_name": "HBoxModel",
      "state": {
       "children": [
        "IPY_MODEL_fa709403d6844fc5af8634dfdbf5ad62",
        "IPY_MODEL_997f6651efcc4a90b8cf5a6a516c93da"
       ],
       "layout": "IPY_MODEL_3561fced103e4c3e97000aee9371819a"
      }
     },
     "ed138265000748c59c6b3038940ba488": {
      "model_module": "@jupyter-widgets/controls",
      "model_module_version": "1.5.0",
      "model_name": "DescriptionStyleModel",
      "state": {
       "description_width": ""
      }
     },
     "ed5583e77fd6407d8951575f0474e59a": {
      "model_module": "@jupyter-widgets/controls",
      "model_module_version": "1.5.0",
      "model_name": "FloatProgressModel",
      "state": {
       "bar_style": "success",
       "description": "[0] 11/12(train): 100%",
       "layout": "IPY_MODEL_8cac42ce80ff4bba92ad4e3cbe1c35be",
       "max": 469,
       "style": "IPY_MODEL_cff1ba08ade344a887e409edd5f8b107",
       "value": 469
      }
     },
     "ed651feea6e14d53a9479d5b356e8826": {
      "model_module": "@jupyter-widgets/controls",
      "model_module_version": "1.5.0",
      "model_name": "FloatProgressModel",
      "state": {
       "bar_style": "danger",
       "description": "[2] 1/10(train):   0%",
       "layout": "IPY_MODEL_12892ab72db54ebdae9523d196366cd8",
       "max": 3,
       "style": "IPY_MODEL_9a1402b2e0b14a3b9994519d27f24fb6"
      }
     },
     "ed6892504839420f939625a233c7ee65": {
      "model_module": "@jupyter-widgets/base",
      "model_module_version": "1.2.0",
      "model_name": "LayoutModel",
      "state": {}
     },
     "ed82990bf16f4bf7a5bad4141f4f8222": {
      "model_module": "@jupyter-widgets/controls",
      "model_module_version": "1.5.0",
      "model_name": "ProgressStyleModel",
      "state": {
       "description_width": "initial"
      }
     },
     "eddf4f7943d44b588a3ac684cd870dcd": {
      "model_module": "@jupyter-widgets/base",
      "model_module_version": "1.2.0",
      "model_name": "LayoutModel",
      "state": {}
     },
     "ede38f3ceee64bf58f00e85573c2aeac": {
      "model_module": "@jupyter-widgets/controls",
      "model_module_version": "1.5.0",
      "model_name": "FloatProgressModel",
      "state": {
       "bar_style": "success",
       "description": "[1] 7/12(val  ): 100%",
       "layout": "IPY_MODEL_bb05efa1451d42afb9fe88397217e2e2",
       "max": 157,
       "style": "IPY_MODEL_d72f016d4b1b462b838bd872c30f82d2",
       "value": 157
      }
     },
     "edf740b7b75749559e79058ada8a62fe": {
      "model_module": "@jupyter-widgets/controls",
      "model_module_version": "1.5.0",
      "model_name": "HBoxModel",
      "state": {
       "children": [
        "IPY_MODEL_c9f69e2cdea647e7b4335b7db52f55d4",
        "IPY_MODEL_a31f40888b284274965e8471a25b7931"
       ],
       "layout": "IPY_MODEL_757540ccf485468f92708aa2a9087307"
      }
     },
     "ee1f13ddbf6149e7af5df46c8eae175b": {
      "model_module": "@jupyter-widgets/controls",
      "model_module_version": "1.5.0",
      "model_name": "HTMLModel",
      "state": {
       "layout": "IPY_MODEL_11cd45c93c72445ca7d7567862c6db63",
       "style": "IPY_MODEL_56c982f3ea02432cba9e26f83cc9e480",
       "value": " 165/165 [10:54&lt;00:00,  3.97s/it]"
      }
     },
     "ee42e3481da34142b2e88ca9623446a6": {
      "model_module": "@jupyter-widgets/controls",
      "model_module_version": "1.5.0",
      "model_name": "FloatProgressModel",
      "state": {
       "bar_style": "success",
       "description": "[2] 3/12(val  ): 100%",
       "layout": "IPY_MODEL_7ccf6b29ad0e457ca052b4e9ed1bec99",
       "max": 157,
       "style": "IPY_MODEL_5d4d8877789f4520b61a1ed6fc50c1b4",
       "value": 157
      }
     },
     "ee51d015858441a794c20c0922b08826": {
      "model_module": "@jupyter-widgets/base",
      "model_module_version": "1.2.0",
      "model_name": "LayoutModel",
      "state": {}
     },
     "ee538487403a4999bc078a8b7b13c8a5": {
      "model_module": "@jupyter-widgets/base",
      "model_module_version": "1.2.0",
      "model_name": "LayoutModel",
      "state": {}
     },
     "ee5c4f575e7049b9802e2431dd59c9dd": {
      "model_module": "@jupyter-widgets/base",
      "model_module_version": "1.2.0",
      "model_name": "LayoutModel",
      "state": {}
     },
     "ee6a3855de734cb9b736aecb8e870eea": {
      "model_module": "@jupyter-widgets/controls",
      "model_module_version": "1.5.0",
      "model_name": "HBoxModel",
      "state": {
       "children": [
        "IPY_MODEL_a968e8c48ad849bcb005070f9dabdec3",
        "IPY_MODEL_6ac68d62f15d459bbaee2292e4613618"
       ],
       "layout": "IPY_MODEL_ee51d015858441a794c20c0922b08826"
      }
     },
     "ee822f97d9b2421f977120e373147c08": {
      "model_module": "@jupyter-widgets/base",
      "model_module_version": "1.2.0",
      "model_name": "LayoutModel",
      "state": {}
     },
     "eee803f65e8e45918996a83fe09dfbda": {
      "model_module": "@jupyter-widgets/controls",
      "model_module_version": "1.5.0",
      "model_name": "HBoxModel",
      "state": {
       "children": [
        "IPY_MODEL_bd3c19d99ead4624998d785a0c2cd7d7",
        "IPY_MODEL_1144a17858d841d8ae400b693105a898"
       ],
       "layout": "IPY_MODEL_fec4e42aa0a745af9dcadedf15e5f298"
      }
     },
     "eefe24b93ed948b59ef0f2889cdac0d0": {
      "model_module": "@jupyter-widgets/controls",
      "model_module_version": "1.5.0",
      "model_name": "FloatProgressModel",
      "state": {
       "bar_style": "success",
       "description": "[1] 10/12(val  ): 100%",
       "layout": "IPY_MODEL_198d294fd2f84f2a985d228be4797e24",
       "max": 165,
       "style": "IPY_MODEL_f4a4b4ad5c654f488d31c71bb6a4da9a",
       "value": 165
      }
     },
     "ef0519176cad4891bf276fbff6301585": {
      "model_module": "@jupyter-widgets/controls",
      "model_module_version": "1.5.0",
      "model_name": "HBoxModel",
      "state": {
       "children": [
        "IPY_MODEL_4c47d796d2304119b51e3c8012a21b83",
        "IPY_MODEL_5eab77ad72234a3b80571db20dca325c"
       ],
       "layout": "IPY_MODEL_517a487cd8fb4ccabebdf3695ccf9f9c"
      }
     },
     "ef378bbfe0ec4d76b34dd0707e6c310e": {
      "model_module": "@jupyter-widgets/base",
      "model_module_version": "1.2.0",
      "model_name": "LayoutModel",
      "state": {}
     },
     "ef68c9cc46b149549beecbfc42be47a7": {
      "model_module": "@jupyter-widgets/controls",
      "model_module_version": "1.5.0",
      "model_name": "HTMLModel",
      "state": {
       "layout": "IPY_MODEL_a8e9a44a987940df907ecfb08eaa33db",
       "style": "IPY_MODEL_0bd41f29a21a482a94f561376368137a",
       "value": " 493/493 [35:17&lt;00:00,  4.30s/it]"
      }
     },
     "ef6de8b6a1d840ec877ab95474213bea": {
      "model_module": "@jupyter-widgets/controls",
      "model_module_version": "1.5.0",
      "model_name": "ProgressStyleModel",
      "state": {
       "description_width": "initial"
      }
     },
     "ef8493f168b74d2a93043c9932852543": {
      "model_module": "@jupyter-widgets/base",
      "model_module_version": "1.2.0",
      "model_name": "LayoutModel",
      "state": {}
     },
     "efa90dfebbeb49499752e284e4f8c3c3": {
      "model_module": "@jupyter-widgets/controls",
      "model_module_version": "1.5.0",
      "model_name": "HTMLModel",
      "state": {
       "layout": "IPY_MODEL_6f89f4c51d4a4568a02435852a4203eb",
       "style": "IPY_MODEL_fbe4b85f50464aab85c1ff66ef971a7d",
       "value": " 165/165 [10:55&lt;00:00,  3.97s/it]"
      }
     },
     "efdb7cddb8064edab9dd37e90cfef6fe": {
      "model_module": "@jupyter-widgets/base",
      "model_module_version": "1.2.0",
      "model_name": "LayoutModel",
      "state": {}
     },
     "f01ef9a93c94441ba9898dc980caae3d": {
      "model_module": "@jupyter-widgets/base",
      "model_module_version": "1.2.0",
      "model_name": "LayoutModel",
      "state": {}
     },
     "f03b27ccd0b846d69332688e27c24499": {
      "model_module": "@jupyter-widgets/controls",
      "model_module_version": "1.5.0",
      "model_name": "DescriptionStyleModel",
      "state": {
       "description_width": ""
      }
     },
     "f04756fc5c6d41fd9c409639de8994c5": {
      "model_module": "@jupyter-widgets/base",
      "model_module_version": "1.2.0",
      "model_name": "LayoutModel",
      "state": {}
     },
     "f0b7d5e05b38421086b9adafef3d66e4": {
      "model_module": "@jupyter-widgets/controls",
      "model_module_version": "1.5.0",
      "model_name": "ProgressStyleModel",
      "state": {
       "description_width": "initial"
      }
     },
     "f0c3980287694222b46c0375970b82c2": {
      "model_module": "@jupyter-widgets/controls",
      "model_module_version": "1.5.0",
      "model_name": "DescriptionStyleModel",
      "state": {
       "description_width": ""
      }
     },
     "f0cbe84860a141f5b7468ee21ce985b4": {
      "model_module": "@jupyter-widgets/base",
      "model_module_version": "1.2.0",
      "model_name": "LayoutModel",
      "state": {}
     },
     "f0ce73ffe4b54b0e8ec60c7d851e3c7d": {
      "model_module": "@jupyter-widgets/base",
      "model_module_version": "1.2.0",
      "model_name": "LayoutModel",
      "state": {}
     },
     "f0d2734704aa4cc1a657d933260d3641": {
      "model_module": "@jupyter-widgets/controls",
      "model_module_version": "1.5.0",
      "model_name": "ProgressStyleModel",
      "state": {
       "description_width": "initial"
      }
     },
     "f0ed64477b034953b8c140ae66f6369c": {
      "model_module": "@jupyter-widgets/base",
      "model_module_version": "1.2.0",
      "model_name": "LayoutModel",
      "state": {}
     },
     "f1179a7e34634816b11b7497f4ba3dcc": {
      "model_module": "@jupyter-widgets/controls",
      "model_module_version": "1.5.0",
      "model_name": "HBoxModel",
      "state": {
       "children": [
        "IPY_MODEL_85c2312f6e9e45018920195fee5a3197",
        "IPY_MODEL_98420b1998f4469885f3abfe9d1281f9"
       ],
       "layout": "IPY_MODEL_ad88569a55864109830ca7eda8726842"
      }
     },
     "f1a13208648a42d4a08627340d4f9631": {
      "model_module": "@jupyter-widgets/controls",
      "model_module_version": "1.5.0",
      "model_name": "ProgressStyleModel",
      "state": {
       "description_width": "initial"
      }
     },
     "f1bca7e1d0d24d17bd55bc01382899ef": {
      "model_module": "@jupyter-widgets/controls",
      "model_module_version": "1.5.0",
      "model_name": "DescriptionStyleModel",
      "state": {
       "description_width": ""
      }
     },
     "f1d18e6021ed413db17c6b57e6a82ecb": {
      "model_module": "@jupyter-widgets/controls",
      "model_module_version": "1.5.0",
      "model_name": "FloatProgressModel",
      "state": {
       "bar_style": "success",
       "description": "[0] 12/12(val  ): 100%",
       "layout": "IPY_MODEL_562598e1dcb94c3981100089f25e4e9f",
       "max": 165,
       "style": "IPY_MODEL_bc1cedd945374748b0d7a5857cc477e8",
       "value": 165
      }
     },
     "f204d98653b1429ab14e11979bd68711": {
      "model_module": "@jupyter-widgets/base",
      "model_module_version": "1.2.0",
      "model_name": "LayoutModel",
      "state": {}
     },
     "f24cd80c244d4927a1116eaf3d40c45a": {
      "model_module": "@jupyter-widgets/controls",
      "model_module_version": "1.5.0",
      "model_name": "HBoxModel",
      "state": {
       "children": [
        "IPY_MODEL_d5c8a914deb1402c919f04fdf134e9d4",
        "IPY_MODEL_755936556d4e4d738c22da596feed94c"
       ],
       "layout": "IPY_MODEL_771417f916eb4e4e87afa074256f70a0"
      }
     },
     "f2550f2b06874f47bfe873ee39840231": {
      "model_module": "@jupyter-widgets/base",
      "model_module_version": "1.2.0",
      "model_name": "LayoutModel",
      "state": {}
     },
     "f27941c2cd5c44868ad76e0c6f255e98": {
      "model_module": "@jupyter-widgets/controls",
      "model_module_version": "1.5.0",
      "model_name": "HBoxModel",
      "state": {
       "children": [
        "IPY_MODEL_902fea929cd14cc5822e104eb0b06321",
        "IPY_MODEL_037f57103a7b4cb09703e2150161be02"
       ],
       "layout": "IPY_MODEL_8e78d8c4dc804fabb914de35ddb15613"
      }
     },
     "f27bd9b033d54992b4b4a676db4ac5a6": {
      "model_module": "@jupyter-widgets/controls",
      "model_module_version": "1.5.0",
      "model_name": "HTMLModel",
      "state": {
       "layout": "IPY_MODEL_154d81bd5497400e905218cf8d5f68d5",
       "style": "IPY_MODEL_d044e2d3771849d0bef7a9bfda2d6fc3",
       "value": " 493/493 [45:52&lt;00:00,  5.58s/it]"
      }
     },
     "f28daeb846704188ba05c10d45d2b725": {
      "model_module": "@jupyter-widgets/base",
      "model_module_version": "1.2.0",
      "model_name": "LayoutModel",
      "state": {}
     },
     "f2ac380f5ac74716b47b502ba81a4e9f": {
      "model_module": "@jupyter-widgets/controls",
      "model_module_version": "1.5.0",
      "model_name": "HTMLModel",
      "state": {
       "layout": "IPY_MODEL_fda3168f9bee4e95aed00f24b2f7aab5",
       "style": "IPY_MODEL_1886892afbb94944bcc96fb6a0b0bb3d",
       "value": " 469/469 [1:36:58&lt;00:00, 12.41s/it]"
      }
     },
     "f2c421834d64412e9c7a098cbe5b3860": {
      "model_module": "@jupyter-widgets/base",
      "model_module_version": "1.2.0",
      "model_name": "LayoutModel",
      "state": {}
     },
     "f2d95965ca7f46b5977a333ee9212dc0": {
      "model_module": "@jupyter-widgets/controls",
      "model_module_version": "1.5.0",
      "model_name": "ProgressStyleModel",
      "state": {
       "description_width": "initial"
      }
     },
     "f2d979adf0ca49bfbfe1c3fe4a321172": {
      "model_module": "@jupyter-widgets/controls",
      "model_module_version": "1.5.0",
      "model_name": "FloatProgressModel",
      "state": {
       "bar_style": "success",
       "description": "[3] 8/12(val  ): 100%",
       "layout": "IPY_MODEL_67112642de4342fd9ddd5b24a8cf7dd5",
       "max": 165,
       "style": "IPY_MODEL_cbe0072aa2a247f5b8ef24b0e1875675",
       "value": 165
      }
     },
     "f32b8de4889f4470a040ac62d6ed8a5f": {
      "model_module": "@jupyter-widgets/controls",
      "model_module_version": "1.5.0",
      "model_name": "FloatProgressModel",
      "state": {
       "bar_style": "success",
       "description": "[1] 10/12(val  ): 100%",
       "layout": "IPY_MODEL_4df42e036f2648ef807f66d0859c1ac2",
       "max": 157,
       "style": "IPY_MODEL_d1380159ef0d43268dcabb56feeddcec",
       "value": 157
      }
     },
     "f34da5fe57284295a8cdcf10ff0b7f69": {
      "model_module": "@jupyter-widgets/base",
      "model_module_version": "1.2.0",
      "model_name": "LayoutModel",
      "state": {}
     },
     "f35e6a9c1b074dd990a6a9b004780eaf": {
      "model_module": "@jupyter-widgets/base",
      "model_module_version": "1.2.0",
      "model_name": "LayoutModel",
      "state": {}
     },
     "f36cf2990b0349f48d3f1d8bc1a039a6": {
      "model_module": "@jupyter-widgets/base",
      "model_module_version": "1.2.0",
      "model_name": "LayoutModel",
      "state": {}
     },
     "f37d051ad577446cbdf12cc626a2ce7c": {
      "model_module": "@jupyter-widgets/controls",
      "model_module_version": "1.5.0",
      "model_name": "DescriptionStyleModel",
      "state": {
       "description_width": ""
      }
     },
     "f38406e747cb4e4b892cccfe38056848": {
      "model_module": "@jupyter-widgets/controls",
      "model_module_version": "1.5.0",
      "model_name": "FloatProgressModel",
      "state": {
       "bar_style": "success",
       "description": "[0] 5/12(val  ): 100%",
       "layout": "IPY_MODEL_227cb1ca9cc34eefa495a7bf71902229",
       "max": 157,
       "style": "IPY_MODEL_a97ff79141484965b16514318b5082ac",
       "value": 157
      }
     },
     "f3b319bc86f940c4b9d25620d8990e70": {
      "model_module": "@jupyter-widgets/controls",
      "model_module_version": "1.5.0",
      "model_name": "FloatProgressModel",
      "state": {
       "bar_style": "success",
       "description": "[1] 9/12(train): 100%",
       "layout": "IPY_MODEL_3d7f6c6d3e554dffb6dca9b1e5ce1132",
       "max": 469,
       "style": "IPY_MODEL_de2960fa7a834a0fae167b9ffddf10b7",
       "value": 469
      }
     },
     "f3eb3815550c48c68adc0c704fbcb1d3": {
      "model_module": "@jupyter-widgets/controls",
      "model_module_version": "1.5.0",
      "model_name": "HBoxModel",
      "state": {
       "children": [
        "IPY_MODEL_f3b319bc86f940c4b9d25620d8990e70",
        "IPY_MODEL_26b128cef9dd4964af88ad13e8718dcd"
       ],
       "layout": "IPY_MODEL_0a73ab7c642849c2b147614f419bc009"
      }
     },
     "f3f31db063b248fd85dfdb490c7ad834": {
      "model_module": "@jupyter-widgets/controls",
      "model_module_version": "1.5.0",
      "model_name": "DescriptionStyleModel",
      "state": {
       "description_width": ""
      }
     },
     "f42145bbdc0a4c26b8c1dfc6f80912a2": {
      "model_module": "@jupyter-widgets/controls",
      "model_module_version": "1.5.0",
      "model_name": "HBoxModel",
      "state": {
       "children": [
        "IPY_MODEL_b6a699c43fd2443eb07827bcf19e0af8",
        "IPY_MODEL_f7b0a45e588443999ff3f709eeb3724f"
       ],
       "layout": "IPY_MODEL_ad7ef31865dc49809e3641ace81836e5"
      }
     },
     "f44f0b8be9b04624a65b0ee228f6b36e": {
      "model_module": "@jupyter-widgets/controls",
      "model_module_version": "1.5.0",
      "model_name": "HBoxModel",
      "state": {
       "children": [
        "IPY_MODEL_51352039b0194bb7b97ac25e14288b18",
        "IPY_MODEL_c91d75df8d2e42cc87bc0baa606ff22f"
       ],
       "layout": "IPY_MODEL_5e7809bfd5554467b076c3e7818cb36e"
      }
     },
     "f46ed2824f76403a8d2cb397472a9363": {
      "model_module": "@jupyter-widgets/controls",
      "model_module_version": "1.5.0",
      "model_name": "HTMLModel",
      "state": {
       "layout": "IPY_MODEL_7817f7e99abb4b7f92caba685de63a15",
       "style": "IPY_MODEL_1aba5d584b8a470785b6afb2e3802888",
       "value": " 157/157 [23:01&lt;00:00,  8.80s/it]"
      }
     },
     "f4a4b4ad5c654f488d31c71bb6a4da9a": {
      "model_module": "@jupyter-widgets/controls",
      "model_module_version": "1.5.0",
      "model_name": "ProgressStyleModel",
      "state": {
       "description_width": "initial"
      }
     },
     "f4fc2f2f7cbe4d4996655ec891a205f8": {
      "model_module": "@jupyter-widgets/base",
      "model_module_version": "1.2.0",
      "model_name": "LayoutModel",
      "state": {}
     },
     "f507036e6fc54e7aad6d808831dfdcdf": {
      "model_module": "@jupyter-widgets/base",
      "model_module_version": "1.2.0",
      "model_name": "LayoutModel",
      "state": {}
     },
     "f55e58170f0f41bfa79f530c865b8d46": {
      "model_module": "@jupyter-widgets/controls",
      "model_module_version": "1.5.0",
      "model_name": "DescriptionStyleModel",
      "state": {
       "description_width": ""
      }
     },
     "f56d8f93180c49428980ddb1f57fdf2a": {
      "model_module": "@jupyter-widgets/base",
      "model_module_version": "1.2.0",
      "model_name": "LayoutModel",
      "state": {}
     },
     "f5813022c8094a6aa0921f02eb00ac97": {
      "model_module": "@jupyter-widgets/controls",
      "model_module_version": "1.5.0",
      "model_name": "FloatProgressModel",
      "state": {
       "bar_style": "success",
       "description": "[1] 1/12(train): 100%",
       "layout": "IPY_MODEL_7bcb795fc7e540e3a3a28baf046f6bb9",
       "max": 493,
       "style": "IPY_MODEL_3e10e075723e4b258f2c92b2c212b1d7",
       "value": 493
      }
     },
     "f5ec71b82cd1483da4d4e59f69b9f3d7": {
      "model_module": "@jupyter-widgets/controls",
      "model_module_version": "1.5.0",
      "model_name": "HTMLModel",
      "state": {
       "layout": "IPY_MODEL_923ea7baca4946f8aaaa22edf1884af9",
       "style": "IPY_MODEL_9ac06c58dc364465b4fcc5330c3ede26",
       "value": " 3/3 [00:15&lt;00:00,  5.17s/it]"
      }
     },
     "f5fd64ab68e54fb4940931c091a85ee5": {
      "model_module": "@jupyter-widgets/controls",
      "model_module_version": "1.5.0",
      "model_name": "HTMLModel",
      "state": {
       "layout": "IPY_MODEL_1ce54112d2af401080d3585491ab364a",
       "style": "IPY_MODEL_c70341dab1ff4eb2a8c1a990905a73f1",
       "value": " 493/493 [46:24&lt;00:00,  5.65s/it]"
      }
     },
     "f614c085ad214e359b7154e2d8a30a27": {
      "model_module": "@jupyter-widgets/controls",
      "model_module_version": "1.5.0",
      "model_name": "FloatProgressModel",
      "state": {
       "bar_style": "success",
       "description": "[1] 2/12(train): 100%",
       "layout": "IPY_MODEL_47595c1c041a41329ffb1fdc87a8365b",
       "max": 469,
       "style": "IPY_MODEL_aac403c70fa34f1fa184cb5645af969c",
       "value": 469
      }
     },
     "f64abfbfff214f3f94ef4fef659ea25f": {
      "model_module": "@jupyter-widgets/base",
      "model_module_version": "1.2.0",
      "model_name": "LayoutModel",
      "state": {}
     },
     "f657230833d241d3ae42654338a4b130": {
      "model_module": "@jupyter-widgets/controls",
      "model_module_version": "1.5.0",
      "model_name": "ProgressStyleModel",
      "state": {
       "description_width": "initial"
      }
     },
     "f65c70576fd1418ea48ea9544fcc916a": {
      "model_module": "@jupyter-widgets/base",
      "model_module_version": "1.2.0",
      "model_name": "LayoutModel",
      "state": {}
     },
     "f6801f0160d74409a61bdc083b1231fd": {
      "model_module": "@jupyter-widgets/controls",
      "model_module_version": "1.5.0",
      "model_name": "HBoxModel",
      "state": {
       "children": [
        "IPY_MODEL_58f686a651944c9fad31c2b5dc3c6601",
        "IPY_MODEL_162377abda4c4b43a0379efa445fc3a2"
       ],
       "layout": "IPY_MODEL_afed27062a314dbbbfd20b29d193e1b9"
      }
     },
     "f682bfa70a1b436fb7203ea3b071a3d5": {
      "model_module": "@jupyter-widgets/base",
      "model_module_version": "1.2.0",
      "model_name": "LayoutModel",
      "state": {}
     },
     "f6ba17789a554fb397cc59a24c0096aa": {
      "model_module": "@jupyter-widgets/controls",
      "model_module_version": "1.5.0",
      "model_name": "ProgressStyleModel",
      "state": {
       "description_width": "initial"
      }
     },
     "f751dc6a78ad43b7b52b1ccc3300d1d4": {
      "model_module": "@jupyter-widgets/base",
      "model_module_version": "1.2.0",
      "model_name": "LayoutModel",
      "state": {}
     },
     "f795ab0040c945ae817252e6de2bef6f": {
      "model_module": "@jupyter-widgets/controls",
      "model_module_version": "1.5.0",
      "model_name": "DescriptionStyleModel",
      "state": {
       "description_width": ""
      }
     },
     "f79c1633fd8d4fa3a65e5f21e75a240a": {
      "model_module": "@jupyter-widgets/base",
      "model_module_version": "1.2.0",
      "model_name": "LayoutModel",
      "state": {}
     },
     "f7a89d1da20c42f2a4bcb34ac071706b": {
      "model_module": "@jupyter-widgets/controls",
      "model_module_version": "1.5.0",
      "model_name": "ProgressStyleModel",
      "state": {
       "description_width": "initial"
      }
     },
     "f7b0a45e588443999ff3f709eeb3724f": {
      "model_module": "@jupyter-widgets/controls",
      "model_module_version": "1.5.0",
      "model_name": "HTMLModel",
      "state": {
       "layout": "IPY_MODEL_3542c29509764f37aa9124c682a2fafb",
       "style": "IPY_MODEL_521ca8732a614f40863dd91f97f58eb7",
       "value": " 493/493 [34:52&lt;00:00,  4.24s/it]"
      }
     },
     "f7b4cec1d1ec4b05a4fd0aabb1415aff": {
      "model_module": "@jupyter-widgets/base",
      "model_module_version": "1.2.0",
      "model_name": "LayoutModel",
      "state": {}
     },
     "f7f31e90a97f487890bc2a79f44a13d8": {
      "model_module": "@jupyter-widgets/controls",
      "model_module_version": "1.5.0",
      "model_name": "HBoxModel",
      "state": {
       "children": [
        "IPY_MODEL_afd74a8d2abc477e8276986f55dc99db",
        "IPY_MODEL_0fb40b40548749eca97160fb1b64bce3"
       ],
       "layout": "IPY_MODEL_618c0d23190f4620ad243043ea4bddb8"
      }
     },
     "f7fa758c6938429aa00873920c95162b": {
      "model_module": "@jupyter-widgets/controls",
      "model_module_version": "1.5.0",
      "model_name": "HTMLModel",
      "state": {
       "layout": "IPY_MODEL_b8b2dbacc29e44f8a980bcb073086df4",
       "style": "IPY_MODEL_d5e6f96cde224bcf8478a1164cb9e308",
       "value": " 157/157 [23:21&lt;00:00,  8.93s/it]"
      }
     },
     "f84b9fbda4c24bfc938d3ef3491e26ec": {
      "model_module": "@jupyter-widgets/controls",
      "model_module_version": "1.5.0",
      "model_name": "HBoxModel",
      "state": {
       "children": [
        "IPY_MODEL_352fbb0a726140788226c240b97d07a6",
        "IPY_MODEL_1f64dd1ace01475e9eb99db8e5dfc154"
       ],
       "layout": "IPY_MODEL_fac1e128d8ec4f29b2b2c2de7a2fa9d1"
      }
     },
     "f85e265526344c58a43ccbe78b15a673": {
      "model_module": "@jupyter-widgets/base",
      "model_module_version": "1.2.0",
      "model_name": "LayoutModel",
      "state": {}
     },
     "f87a9cc25fcf4afea895b6375babf87d": {
      "model_module": "@jupyter-widgets/controls",
      "model_module_version": "1.5.0",
      "model_name": "HTMLModel",
      "state": {
       "layout": "IPY_MODEL_7515c375ff8849e5af6f9071e433fe86",
       "style": "IPY_MODEL_a372734bc1d64c399812c4c00b3ee6cd",
       "value": " 469/469 [1:08:42&lt;00:00,  8.79s/it]"
      }
     },
     "f8996a004b3d489cbd0b0a7f5be4c34e": {
      "model_module": "@jupyter-widgets/controls",
      "model_module_version": "1.5.0",
      "model_name": "ProgressStyleModel",
      "state": {
       "description_width": "initial"
      }
     },
     "f8d93bed78364622a4443a9feae929f0": {
      "model_module": "@jupyter-widgets/controls",
      "model_module_version": "1.5.0",
      "model_name": "FloatProgressModel",
      "state": {
       "bar_style": "success",
       "description": "[2] 12/12(val  ): 100%",
       "layout": "IPY_MODEL_0ee02225dfe74b98920122b964134a54",
       "max": 157,
       "style": "IPY_MODEL_426baf73cdb141c68b790e0ded14cdb8",
       "value": 157
      }
     },
     "f8df7cf5a84b4dd5b5f753574618dc95": {
      "model_module": "@jupyter-widgets/controls",
      "model_module_version": "1.5.0",
      "model_name": "ProgressStyleModel",
      "state": {
       "description_width": "initial"
      }
     },
     "f91703864b7c4d4e8028683ec0cb646a": {
      "model_module": "@jupyter-widgets/base",
      "model_module_version": "1.2.0",
      "model_name": "LayoutModel",
      "state": {}
     },
     "f9327a47779849a382dc67cbd0287217": {
      "model_module": "@jupyter-widgets/controls",
      "model_module_version": "1.5.0",
      "model_name": "HBoxModel",
      "state": {
       "children": [
        "IPY_MODEL_0da9493862624065a1391696f34fc884",
        "IPY_MODEL_3589b6b19d134437a413c38f3a3822f1"
       ],
       "layout": "IPY_MODEL_63faafd9e4de4c95819ac4d8d68119da"
      }
     },
     "f94d96ef554548ac9e97794c12408051": {
      "model_module": "@jupyter-widgets/controls",
      "model_module_version": "1.5.0",
      "model_name": "ProgressStyleModel",
      "state": {
       "description_width": "initial"
      }
     },
     "f94e500520e848f7876834843ba9fd05": {
      "model_module": "@jupyter-widgets/controls",
      "model_module_version": "1.5.0",
      "model_name": "HBoxModel",
      "state": {
       "children": [
        "IPY_MODEL_e936672f44f647408266f84534f86623",
        "IPY_MODEL_8284e467212249a0a56f25e7b34b235c"
       ],
       "layout": "IPY_MODEL_263816217fda4e57b53dfa8844ce7088"
      }
     },
     "f9bfc68401bd4ebd86539f4b7ac3a880": {
      "model_module": "@jupyter-widgets/controls",
      "model_module_version": "1.5.0",
      "model_name": "ProgressStyleModel",
      "state": {
       "description_width": "initial"
      }
     },
     "f9e302c602e8498c95531402e278ce60": {
      "model_module": "@jupyter-widgets/controls",
      "model_module_version": "1.5.0",
      "model_name": "FloatProgressModel",
      "state": {
       "bar_style": "success",
       "description": "[1] 7/12(train): 100%",
       "layout": "IPY_MODEL_333534ce00eb48e2830f9b861bebf66d",
       "max": 493,
       "style": "IPY_MODEL_2256c87155f44494ad1bd7dfceaff515",
       "value": 493
      }
     },
     "fa0f021c48d94d3badd242d25f8fa55c": {
      "model_module": "@jupyter-widgets/controls",
      "model_module_version": "1.5.0",
      "model_name": "HTMLModel",
      "state": {
       "layout": "IPY_MODEL_bc92387f222c422a9249a7318e1e454b",
       "style": "IPY_MODEL_5bfbc8efe9804723b290499b859e75ac",
       "value": " 3/3 [00:15&lt;00:00,  5.15s/it]"
      }
     },
     "fa50a9fd1557440abe077def2805c848": {
      "model_module": "@jupyter-widgets/controls",
      "model_module_version": "1.5.0",
      "model_name": "HTMLModel",
      "state": {
       "layout": "IPY_MODEL_c1c26e93eaff41a4ae9592ec6ba1947e",
       "style": "IPY_MODEL_f0c3980287694222b46c0375970b82c2",
       "value": " 157/157 [26:42&lt;00:00, 10.20s/it]"
      }
     },
     "fa709403d6844fc5af8634dfdbf5ad62": {
      "model_module": "@jupyter-widgets/controls",
      "model_module_version": "1.5.0",
      "model_name": "FloatProgressModel",
      "state": {
       "bar_style": "success",
       "description": "[1] 9/12(val  ): 100%",
       "layout": "IPY_MODEL_ead8ec789bae4adbbd245254e7f525dc",
       "max": 165,
       "style": "IPY_MODEL_157be44435f2467eb63027395ed28852",
       "value": 165
      }
     },
     "fa8a582c92684a979f923cedd42cf3a2": {
      "model_module": "@jupyter-widgets/base",
      "model_module_version": "1.2.0",
      "model_name": "LayoutModel",
      "state": {}
     },
     "faa43a69669c4a4ba137d4f77ccbdbd3": {
      "model_module": "@jupyter-widgets/base",
      "model_module_version": "1.2.0",
      "model_name": "LayoutModel",
      "state": {}
     },
     "fab359eeefe7412c94576e77bf399105": {
      "model_module": "@jupyter-widgets/controls",
      "model_module_version": "1.5.0",
      "model_name": "HTMLModel",
      "state": {
       "layout": "IPY_MODEL_c9fb52ac162247e38eb463cc81bc3922",
       "style": "IPY_MODEL_07ad446dda724dcca011f76ad6524a46",
       "value": " 165/165 [10:55&lt;00:00,  3.97s/it]"
      }
     },
     "fac1e128d8ec4f29b2b2c2de7a2fa9d1": {
      "model_module": "@jupyter-widgets/base",
      "model_module_version": "1.2.0",
      "model_name": "LayoutModel",
      "state": {}
     },
     "faed8d5ce11049e7b6960b9ab3488445": {
      "model_module": "@jupyter-widgets/controls",
      "model_module_version": "1.5.0",
      "model_name": "FloatProgressModel",
      "state": {
       "bar_style": "success",
       "description": "[2] 8/12(val  ): 100%",
       "layout": "IPY_MODEL_2a96f90af8094f8283889ad0cfb8e7ab",
       "max": 165,
       "style": "IPY_MODEL_ef6de8b6a1d840ec877ab95474213bea",
       "value": 165
      }
     },
     "fb03e373fae6492d93dff25ea824b058": {
      "model_module": "@jupyter-widgets/controls",
      "model_module_version": "1.5.0",
      "model_name": "DescriptionStyleModel",
      "state": {
       "description_width": ""
      }
     },
     "fb0afd3d9c984f65af589c8b053d47e0": {
      "model_module": "@jupyter-widgets/controls",
      "model_module_version": "1.5.0",
      "model_name": "HBoxModel",
      "state": {
       "children": [
        "IPY_MODEL_360d51d91b084ccf883df40e2b99bc4d",
        "IPY_MODEL_e6cddd95650a4b009b2c439527145925"
       ],
       "layout": "IPY_MODEL_12b9e6d11fd5405d998c30e4a12d40e3"
      }
     },
     "fba08208b48b4bea9818a863f05ef2a0": {
      "model_module": "@jupyter-widgets/base",
      "model_module_version": "1.2.0",
      "model_name": "LayoutModel",
      "state": {}
     },
     "fbdd47bcedc147cc8f7e8331942e02fd": {
      "model_module": "@jupyter-widgets/controls",
      "model_module_version": "1.5.0",
      "model_name": "DescriptionStyleModel",
      "state": {
       "description_width": ""
      }
     },
     "fbe4b85f50464aab85c1ff66ef971a7d": {
      "model_module": "@jupyter-widgets/controls",
      "model_module_version": "1.5.0",
      "model_name": "DescriptionStyleModel",
      "state": {
       "description_width": ""
      }
     },
     "fc0c39371caf4ba5854c1ee9cbe12f8c": {
      "model_module": "@jupyter-widgets/controls",
      "model_module_version": "1.5.0",
      "model_name": "ProgressStyleModel",
      "state": {
       "description_width": "initial"
      }
     },
     "fc1897b8a865460cace3757004da4d10": {
      "model_module": "@jupyter-widgets/base",
      "model_module_version": "1.2.0",
      "model_name": "LayoutModel",
      "state": {}
     },
     "fc6d3e81fee6468495f37107e2a41fb9": {
      "model_module": "@jupyter-widgets/controls",
      "model_module_version": "1.5.0",
      "model_name": "ProgressStyleModel",
      "state": {
       "description_width": "initial"
      }
     },
     "fc6d529e66804237a226bbdd823ba3cc": {
      "model_module": "@jupyter-widgets/controls",
      "model_module_version": "1.5.0",
      "model_name": "DescriptionStyleModel",
      "state": {
       "description_width": ""
      }
     },
     "fc7a65b3a92442659f41be93b0ad4727": {
      "model_module": "@jupyter-widgets/controls",
      "model_module_version": "1.5.0",
      "model_name": "FloatProgressModel",
      "state": {
       "bar_style": "success",
       "description": "[0] 9/12(train): 100%",
       "layout": "IPY_MODEL_0c9b6f86e14347b2a282ad7c5c4230c4",
       "max": 493,
       "style": "IPY_MODEL_bcbf17e776c54810abc1a3d08d947825",
       "value": 493
      }
     },
     "fc99aa27a2d24420b8f179c8b2b531d1": {
      "model_module": "@jupyter-widgets/controls",
      "model_module_version": "1.5.0",
      "model_name": "FloatProgressModel",
      "state": {
       "bar_style": "success",
       "description": "[2] 1/12(val  ): 100%",
       "layout": "IPY_MODEL_2d872c3259d8461cb4c7fc7556a2ccbe",
       "max": 165,
       "style": "IPY_MODEL_4486de12203a49d080f4e192911b6ba5",
       "value": 165
      }
     },
     "fca2475f75e1435992317035a66f17cc": {
      "model_module": "@jupyter-widgets/controls",
      "model_module_version": "1.5.0",
      "model_name": "FloatProgressModel",
      "state": {
       "bar_style": "success",
       "description": "[3] 1/12(train): 100%",
       "layout": "IPY_MODEL_30b8a33647c348fa9a528768ae3311cf",
       "max": 493,
       "style": "IPY_MODEL_632a7f304482409ea5016027ad60af40",
       "value": 493
      }
     },
     "fcc4718a2ce949cf86745fa6c85f8c71": {
      "model_module": "@jupyter-widgets/controls",
      "model_module_version": "1.5.0",
      "model_name": "FloatProgressModel",
      "state": {
       "bar_style": "success",
       "description": "[1] 3/12(train): 100%",
       "layout": "IPY_MODEL_b8bfaff529034ce6b26e124373f14b5f",
       "max": 493,
       "style": "IPY_MODEL_ccfcedcf96cd4d758cf21d2cae022058",
       "value": 493
      }
     },
     "fcf4aa45fcdc4c33a29894b8da17ac92": {
      "model_module": "@jupyter-widgets/controls",
      "model_module_version": "1.5.0",
      "model_name": "FloatProgressModel",
      "state": {
       "bar_style": "success",
       "description": "[0] 2/12(val  ): 100%",
       "layout": "IPY_MODEL_d3f52becd4b14eb0a5e49d2ad6e244e7",
       "max": 157,
       "style": "IPY_MODEL_25add0553bf6421fb6449a55ee57ef60",
       "value": 157
      }
     },
     "fd0fd91f63f24030963748b330fcd345": {
      "model_module": "@jupyter-widgets/controls",
      "model_module_version": "1.5.0",
      "model_name": "HBoxModel",
      "state": {
       "children": [
        "IPY_MODEL_9995168fc9b3491c89a89c72b1b47669",
        "IPY_MODEL_fab359eeefe7412c94576e77bf399105"
       ],
       "layout": "IPY_MODEL_c4a0fbdf99d74c0d883486f7b8337444"
      }
     },
     "fd5f8115c7b24a9e903d6c1d85906d32": {
      "model_module": "@jupyter-widgets/controls",
      "model_module_version": "1.5.0",
      "model_name": "FloatProgressModel",
      "state": {
       "bar_style": "success",
       "description": "[3] 10/12(val  ): 100%",
       "layout": "IPY_MODEL_8a6b3d88502842a8b90d3adfbc3dbae6",
       "max": 165,
       "style": "IPY_MODEL_7c32f90255f24d0fa0765b008a561cb4",
       "value": 165
      }
     },
     "fd8b3193ae9e4e79b74164ae4c0d86b6": {
      "model_module": "@jupyter-widgets/base",
      "model_module_version": "1.2.0",
      "model_name": "LayoutModel",
      "state": {}
     },
     "fda3168f9bee4e95aed00f24b2f7aab5": {
      "model_module": "@jupyter-widgets/base",
      "model_module_version": "1.2.0",
      "model_name": "LayoutModel",
      "state": {}
     },
     "fdcd800935884591b6f05e0337ef73d4": {
      "model_module": "@jupyter-widgets/controls",
      "model_module_version": "1.5.0",
      "model_name": "HBoxModel",
      "state": {
       "children": [
        "IPY_MODEL_aa2d10e703254e2ca3aa04f0f9723818",
        "IPY_MODEL_2c0b116fdec34678abd5be5e43043cbe"
       ],
       "layout": "IPY_MODEL_ff206067fbfa4289a62360fdd9d862fe"
      }
     },
     "fdfa972072c44f9db241e98b3fe1b89d": {
      "model_module": "@jupyter-widgets/controls",
      "model_module_version": "1.5.0",
      "model_name": "HTMLModel",
      "state": {
       "layout": "IPY_MODEL_ebdd1e4c97f04178852d63672354ec4e",
       "style": "IPY_MODEL_c4d47702414548588dafa5e804199cc0",
       "value": " 493/493 [46:44&lt;00:00,  5.69s/it]"
      }
     },
     "fe00685ec4454b5cba6ed8f96fff4099": {
      "model_module": "@jupyter-widgets/controls",
      "model_module_version": "1.5.0",
      "model_name": "DescriptionStyleModel",
      "state": {
       "description_width": ""
      }
     },
     "fe22dc3c40db46a8af3cb44be9bc2c8d": {
      "model_module": "@jupyter-widgets/controls",
      "model_module_version": "1.5.0",
      "model_name": "FloatProgressModel",
      "state": {
       "bar_style": "success",
       "description": "[2] 1/1(train): 100%",
       "layout": "IPY_MODEL_ac0c9831dd6342e98920300bf8c14884",
       "max": 3,
       "style": "IPY_MODEL_f0d2734704aa4cc1a657d933260d3641",
       "value": 3
      }
     },
     "fe2d5dd04acc409dba160161b12d0cea": {
      "model_module": "@jupyter-widgets/controls",
      "model_module_version": "1.5.0",
      "model_name": "DescriptionStyleModel",
      "state": {
       "description_width": ""
      }
     },
     "fe379640a7cf48829c271fe6fe1bb7dc": {
      "model_module": "@jupyter-widgets/controls",
      "model_module_version": "1.5.0",
      "model_name": "HBoxModel",
      "state": {
       "children": [
        "IPY_MODEL_5637435a074d4c78abd6f9391b577126",
        "IPY_MODEL_9b27d0393cb14e92b352f513cd1e450c"
       ],
       "layout": "IPY_MODEL_abcadcaecb5243dc92b553647cfa0edf"
      }
     },
     "fe43e97859664239a614ac112aaa6a29": {
      "model_module": "@jupyter-widgets/controls",
      "model_module_version": "1.5.0",
      "model_name": "DescriptionStyleModel",
      "state": {
       "description_width": ""
      }
     },
     "fe457b322e4a4c43a726fae53bcdbaa6": {
      "model_module": "@jupyter-widgets/controls",
      "model_module_version": "1.5.0",
      "model_name": "HBoxModel",
      "state": {
       "children": [
        "IPY_MODEL_32cb9a4f7e464b6391547433b4d47f11",
        "IPY_MODEL_af6ef49bec3e48b380813482bab983f8"
       ],
       "layout": "IPY_MODEL_98d50c1fea824a47aff1ed13c774c648"
      }
     },
     "fe49592e17c84b69b49eda952b842329": {
      "model_module": "@jupyter-widgets/controls",
      "model_module_version": "1.5.0",
      "model_name": "DescriptionStyleModel",
      "state": {
       "description_width": ""
      }
     },
     "fe5fd04e426e4c2b9fe8c5ed6f6b0544": {
      "model_module": "@jupyter-widgets/controls",
      "model_module_version": "1.5.0",
      "model_name": "HBoxModel",
      "state": {
       "children": [
        "IPY_MODEL_48712b94db024752bdf95ae86ab82c34",
        "IPY_MODEL_4209763235694b9f850410e3a3f93b02"
       ],
       "layout": "IPY_MODEL_e9e3d16bbbd942d6957cf2e17e3e9c67"
      }
     },
     "fe6247970bdc4fc693b7d9ab32c15bac": {
      "model_module": "@jupyter-widgets/base",
      "model_module_version": "1.2.0",
      "model_name": "LayoutModel",
      "state": {}
     },
     "fe7ae47d004047e5a06ed81f44f46314": {
      "model_module": "@jupyter-widgets/controls",
      "model_module_version": "1.5.0",
      "model_name": "HBoxModel",
      "state": {
       "children": [
        "IPY_MODEL_bfa53e57de5e4c3ca021c8fe9430576d",
        "IPY_MODEL_abdc091179bb4644a241c16dade44b28"
       ],
       "layout": "IPY_MODEL_4aeffdd6cf424857badf6eab821726b0"
      }
     },
     "fec4e42aa0a745af9dcadedf15e5f298": {
      "model_module": "@jupyter-widgets/base",
      "model_module_version": "1.2.0",
      "model_name": "LayoutModel",
      "state": {}
     },
     "feceea8d72fb459fbcf1d4a008a6b4b5": {
      "model_module": "@jupyter-widgets/controls",
      "model_module_version": "1.5.0",
      "model_name": "DescriptionStyleModel",
      "state": {
       "description_width": ""
      }
     },
     "fefd3fb2691f4b9abe072246d9f93034": {
      "model_module": "@jupyter-widgets/base",
      "model_module_version": "1.2.0",
      "model_name": "LayoutModel",
      "state": {}
     },
     "ff206067fbfa4289a62360fdd9d862fe": {
      "model_module": "@jupyter-widgets/base",
      "model_module_version": "1.2.0",
      "model_name": "LayoutModel",
      "state": {}
     },
     "ff31f6a30b0d458e8296b59ac2bc9731": {
      "model_module": "@jupyter-widgets/controls",
      "model_module_version": "1.5.0",
      "model_name": "DescriptionStyleModel",
      "state": {
       "description_width": ""
      }
     },
     "ff4ff55429634714bd30a609157772e5": {
      "model_module": "@jupyter-widgets/controls",
      "model_module_version": "1.5.0",
      "model_name": "HBoxModel",
      "state": {
       "children": [
        "IPY_MODEL_90c2bd9c90ea44ba94a82c21789060e4",
        "IPY_MODEL_51fa21684a7f49a79aa3a1f2cf27ff5e"
       ],
       "layout": "IPY_MODEL_57a54e8df8064facb7b23471e83300da"
      }
     },
     "ff577b2ee2c7489cbf2fba80009f8f0a": {
      "model_module": "@jupyter-widgets/controls",
      "model_module_version": "1.5.0",
      "model_name": "HTMLModel",
      "state": {
       "layout": "IPY_MODEL_759746388863481b937c81a0a014f195",
       "style": "IPY_MODEL_788855b7ed0648e08d9b7c8b6c6e1fc6",
       "value": " 165/165 [10:51&lt;00:00,  3.95s/it]"
      }
     },
     "ff880da1ca2d47e98849ebf16921fb41": {
      "model_module": "@jupyter-widgets/controls",
      "model_module_version": "1.5.0",
      "model_name": "FloatProgressModel",
      "state": {
       "bar_style": "success",
       "description": "[2] 5/12(train): 100%",
       "layout": "IPY_MODEL_b556b15b41f44c7a8ddf0c74a99dda47",
       "max": 493,
       "style": "IPY_MODEL_9ecf94a956b841a493ca253c4970ae3d",
       "value": 493
      }
     },
     "ff9a2e192a7445eab5f1ce9a4c8b7077": {
      "model_module": "@jupyter-widgets/controls",
      "model_module_version": "1.5.0",
      "model_name": "HBoxModel",
      "state": {
       "children": [
        "IPY_MODEL_7545c4ddae194808a99404770ebaffda",
        "IPY_MODEL_0d6d8697467e48a8886467843e49a3b5"
       ],
       "layout": "IPY_MODEL_84565434c1dd4e2d9fa80df7bb7f1c10"
      }
     },
     "ffa6bc6a4685457985393b2b6c7b75f2": {
      "model_module": "@jupyter-widgets/base",
      "model_module_version": "1.2.0",
      "model_name": "LayoutModel",
      "state": {}
     },
     "ffbd97a7fb124f779d200ad96368f8cb": {
      "model_module": "@jupyter-widgets/controls",
      "model_module_version": "1.5.0",
      "model_name": "DescriptionStyleModel",
      "state": {
       "description_width": ""
      }
     },
     "ffcfc96e1fe84d35a6faa00ba2ceadc2": {
      "model_module": "@jupyter-widgets/controls",
      "model_module_version": "1.5.0",
      "model_name": "FloatProgressModel",
      "state": {
       "bar_style": "success",
       "description": "[0] 1/12(val  ): 100%",
       "layout": "IPY_MODEL_6c764436a66444c79d0f63d9b74a0606",
       "max": 157,
       "style": "IPY_MODEL_c3f3bbb1188344c8a6a1e89e4a7c670a",
       "value": 157
      }
     },
     "ffe5f4bd6c804dcf87a6313e64b17359": {
      "model_module": "@jupyter-widgets/controls",
      "model_module_version": "1.5.0",
      "model_name": "HBoxModel",
      "state": {
       "children": [
        "IPY_MODEL_ec4f34fd7ee84177b2f6dc0890fe3113",
        "IPY_MODEL_efa90dfebbeb49499752e284e4f8c3c3"
       ],
       "layout": "IPY_MODEL_335e159d2c064b96a85d8a8f8c5aca3d"
      }
     },
     "fff026d303f74aa0b0ea3267d21bc17c": {
      "model_module": "@jupyter-widgets/controls",
      "model_module_version": "1.5.0",
      "model_name": "ProgressStyleModel",
      "state": {
       "description_width": "initial"
      }
     }
    },
    "version_major": 2,
    "version_minor": 0
   }
  }
 },
 "nbformat": 4,
 "nbformat_minor": 4
}
