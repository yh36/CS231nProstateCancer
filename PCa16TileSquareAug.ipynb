{
 "cells": [
  {
   "cell_type": "code",
   "execution_count": 1,
   "metadata": {},
   "outputs": [],
   "source": [
    "import os\n",
    "import glob\n",
    "import cv2\n",
    "import time\n",
    "import copy\n",
    "import pickle  # Log dictionary data\n",
    "import numpy as np # linear algebra\n",
    "import pandas as pd # data processing, CSV file I/O (e.g. pd.read_csv)\n",
    "import matplotlib.pyplot as plt\n",
    "import seaborn as sn\n",
    "\n",
    "import torch\n",
    "import torch.nn as nn\n",
    "import torch.optim as optim\n",
    "import torch.nn.functional as F # stateless functions\n",
    "import torchvision.transforms as T\n",
    "import torchvision.models as models\n",
    "\n",
    "import multiprocessing\n",
    "# We must import this explicitly, it is not imported by the top-level\n",
    "# multiprocessing module.\n",
    "import multiprocessing.pool\n",
    "\n",
    "from sklearn.model_selection import StratifiedKFold\n",
    "from sklearn.metrics import cohen_kappa_score,confusion_matrix\n",
    "from tqdm.auto import tqdm\n",
    "from torch.utils.data import Dataset, DataLoader, WeightedRandomSampler\n",
    "from datetime import datetime\n",
    "from multiprocessing import Manager\n",
    "from PIL import Image"
   ]
  },
  {
   "cell_type": "code",
   "execution_count": 2,
   "metadata": {},
   "outputs": [],
   "source": [
    "class CFG:\n",
    "    batch_size = 16\n",
    "    debug = False\n",
    "    device = torch.device('cuda')\n",
    "    dtype = torch.float32\n",
    "    epochs = 12\n",
    "    lr = 1e-4\n",
    "    model_name = 'resnet'\n",
    "    num_classes = 6\n",
    "    nworkers = 3\n",
    "    nfolds = 4\n",
    "    seed = 524\n",
    "    TRAIN = '../yi_data/panda-16x128x128-tiles-data/train/'\n",
    "    LABELS = '../data/train.csv'"
   ]
  },
  {
   "cell_type": "markdown",
   "metadata": {},
   "source": [
    "# Split Data"
   ]
  },
  {
   "cell_type": "code",
   "execution_count": 3,
   "metadata": {},
   "outputs": [
    {
     "data": {
      "text/html": [
       "<div>\n",
       "<style scoped>\n",
       "    .dataframe tbody tr th:only-of-type {\n",
       "        vertical-align: middle;\n",
       "    }\n",
       "\n",
       "    .dataframe tbody tr th {\n",
       "        vertical-align: top;\n",
       "    }\n",
       "\n",
       "    .dataframe thead th {\n",
       "        text-align: right;\n",
       "    }\n",
       "</style>\n",
       "<table border=\"1\" class=\"dataframe\">\n",
       "  <thead>\n",
       "    <tr style=\"text-align: right;\">\n",
       "      <th></th>\n",
       "      <th>image_id</th>\n",
       "      <th>data_provider</th>\n",
       "      <th>isup_grade</th>\n",
       "      <th>gleason_score</th>\n",
       "      <th>split</th>\n",
       "    </tr>\n",
       "  </thead>\n",
       "  <tbody>\n",
       "    <tr>\n",
       "      <th>0</th>\n",
       "      <td>0005f7aaab2800f6170c399693a96917</td>\n",
       "      <td>karolinska</td>\n",
       "      <td>0</td>\n",
       "      <td>0+0</td>\n",
       "      <td>2</td>\n",
       "    </tr>\n",
       "    <tr>\n",
       "      <th>1</th>\n",
       "      <td>000920ad0b612851f8e01bcc880d9b3d</td>\n",
       "      <td>karolinska</td>\n",
       "      <td>0</td>\n",
       "      <td>0+0</td>\n",
       "      <td>3</td>\n",
       "    </tr>\n",
       "    <tr>\n",
       "      <th>2</th>\n",
       "      <td>0018ae58b01bdadc8e347995b69f99aa</td>\n",
       "      <td>radboud</td>\n",
       "      <td>4</td>\n",
       "      <td>4+4</td>\n",
       "      <td>1</td>\n",
       "    </tr>\n",
       "    <tr>\n",
       "      <th>3</th>\n",
       "      <td>001c62abd11fa4b57bf7a6c603a11bb9</td>\n",
       "      <td>karolinska</td>\n",
       "      <td>4</td>\n",
       "      <td>4+4</td>\n",
       "      <td>1</td>\n",
       "    </tr>\n",
       "    <tr>\n",
       "      <th>4</th>\n",
       "      <td>001d865e65ef5d2579c190a0e0350d8f</td>\n",
       "      <td>karolinska</td>\n",
       "      <td>0</td>\n",
       "      <td>0+0</td>\n",
       "      <td>0</td>\n",
       "    </tr>\n",
       "  </tbody>\n",
       "</table>\n",
       "</div>"
      ],
      "text/plain": [
       "                           image_id data_provider  isup_grade gleason_score  \\\n",
       "0  0005f7aaab2800f6170c399693a96917    karolinska           0           0+0   \n",
       "1  000920ad0b612851f8e01bcc880d9b3d    karolinska           0           0+0   \n",
       "2  0018ae58b01bdadc8e347995b69f99aa       radboud           4           4+4   \n",
       "3  001c62abd11fa4b57bf7a6c603a11bb9    karolinska           4           4+4   \n",
       "4  001d865e65ef5d2579c190a0e0350d8f    karolinska           0           0+0   \n",
       "\n",
       "   split  \n",
       "0      2  \n",
       "1      3  \n",
       "2      1  \n",
       "3      1  \n",
       "4      0  "
      ]
     },
     "execution_count": 3,
     "metadata": {},
     "output_type": "execute_result"
    }
   ],
   "source": [
    "train = pd.read_csv(CFG.LABELS).set_index('image_id')\n",
    "files = sorted(set([p[:32] for p in os.listdir(CFG.TRAIN)]))\n",
    "train = train.loc[files].reset_index()\n",
    "\n",
    "if CFG.debug:\n",
    "    df = train.sample(n=50, random_state=CFG.seed).copy()\n",
    "else:\n",
    "    df = train.copy()\n",
    "\n",
    "# Generate train/validation sets containing the same distribution of isup_grade\n",
    "splits = StratifiedKFold(n_splits=CFG.nfolds, random_state=CFG.seed, shuffle=True)\n",
    "splits = list(splits.split(df,df.isup_grade))\n",
    "# Assign split index to training samples\n",
    "folds_splits = np.zeros(len(df)).astype(np.int)\n",
    "for i in range(CFG.nfolds):\n",
    "    folds_splits[splits[i][1]] = i\n",
    "df['split'] = folds_splits\n",
    "df.head()"
   ]
  },
  {
   "cell_type": "code",
   "execution_count": 4,
   "metadata": {},
   "outputs": [],
   "source": [
    "# https://www.kaggle.com/yasufuminakama/panda-se-resnext50-regression-baseline\n",
    "class TrainDataset(Dataset):\n",
    "    \"\"\"Prostate Cancer Biopsy Dataset\"\"\"\n",
    "    \n",
    "    def __init__(self, df, labels, transform=None):\n",
    "        \"\"\"\n",
    "        Args:\n",
    "            csv_file (string): Path to the csv file\n",
    "            root_dir (string): Path to the directory with all images\n",
    "            transform (callable, optional): Optional transform to be applied on an image sample\n",
    "        \"\"\"\n",
    "        # Shuffle dataframes with fixed seed; otherwise, validation set only get cancerous samples\n",
    "        self.df = df\n",
    "        self.labels = labels\n",
    "        self.transform = transform\n",
    "        # For weighted sampler\n",
    "        class_counts = [len(labels[labels==g]) for g in range(CFG.num_classes)]\n",
    "        self.num_samples = sum(class_counts)\n",
    "        class_weights = [self.num_samples/class_counts[i] for i in range(len(class_counts))]\n",
    "        self.weights = [class_weights[labels[i]] for i in range(self.num_samples)]\n",
    "        \n",
    "    def __len__(self):\n",
    "        return len(self.df)\n",
    "    \n",
    "    def __getitem__(self, idx):\n",
    "        #worker = torch.utils.data.get_worker_info()\n",
    "        #worker_id = worker.id if worker is not None else -1\n",
    "        #start = time.time()\n",
    "        # https://stackoverflow.com/questions/33369832/read-multiple-images-on-a-folder-in-opencv-python\n",
    "        img_fns = [fn for fn in glob.glob(f\"{CFG.TRAIN}/{self.df['image_id'][idx]}_*.png\")]\n",
    "        imgs = [cv2.imread(fn) for fn in img_fns]\n",
    "        # (D,W,H)\n",
    "        img = cv2.hconcat([cv2.vconcat([imgs[0], imgs[1], imgs[2], imgs[3]]),\n",
    "                           cv2.vconcat([imgs[4], imgs[5], imgs[6], imgs[7]]),\n",
    "                           cv2.vconcat([imgs[8], imgs[9], imgs[10], imgs[11]]),\n",
    "                           cv2.vconcat([imgs[12], imgs[13], imgs[14], imgs[15]])])\n",
    "        img = Image.fromarray(img)\n",
    "        \n",
    "        if self.transform:\n",
    "            img = self.transform(img)\n",
    "            \n",
    "        label = self.labels[idx]\n",
    "        #end = time.time()\n",
    "        return img, label"
   ]
  },
  {
   "cell_type": "markdown",
   "metadata": {},
   "source": [
    "## Transforms"
   ]
  },
  {
   "cell_type": "code",
   "execution_count": 5,
   "metadata": {},
   "outputs": [],
   "source": [
    "def get_transforms(phase):\n",
    "    assert phase in {'train', 'val'}\n",
    "    \n",
    "    if phase == 'train':\n",
    "        return T.Compose([\n",
    "            T.RandomHorizontalFlip(),\n",
    "            T.RandomVerticalFlip(),\n",
    "            T.RandomRotation(15, fill=255),\n",
    "            T.ToTensor(),\n",
    "            T.Normalize(\n",
    "                mean=[0.8776, 0.8186, 0.9090],\n",
    "                std=[0.1659, 0.2507, 0.1357],\n",
    "            ),\n",
    "        ])\n",
    "    else:\n",
    "        return T.Compose([\n",
    "            T.ToTensor(),\n",
    "            T.Normalize(\n",
    "                mean=[0.8776, 0.8186, 0.9090],\n",
    "                std=[0.1659, 0.2507, 0.1357],\n",
    "            ),\n",
    "        ])"
   ]
  },
  {
   "cell_type": "code",
   "execution_count": 6,
   "metadata": {},
   "outputs": [],
   "source": [
    "# Use fold idx as validation set\n",
    "def data_loader(fold_idx):\n",
    "    train_idx = df[df['split'] != fold_idx].index\n",
    "    val_idx = df[df['split'] == fold_idx].index\n",
    "\n",
    "    train_dataset = TrainDataset(df.loc[train_idx].reset_index(drop=True),\n",
    "                                 df.loc[train_idx].reset_index(drop=True)['isup_grade'],\n",
    "                                 transform = get_transforms(phase='train'))\n",
    "    val_dataset = TrainDataset(df.loc[val_idx].reset_index(drop=True),\n",
    "                               df.loc[val_idx].reset_index(drop=True)['isup_grade'],\n",
    "                               transform = get_transforms(phase='val'))\n",
    "    \n",
    "    train_sampler = WeightedRandomSampler(weights=train_dataset.weights, num_samples=train_dataset.num_samples)\n",
    "    train_loader = DataLoader(train_dataset, batch_size=CFG.batch_size, sampler=train_sampler, num_workers=CFG.nworkers)\n",
    "    val_loader = DataLoader(val_dataset, batch_size=CFG.batch_size, shuffle=False, num_workers=CFG.nworkers)\n",
    "    return train_loader, val_loader"
   ]
  },
  {
   "cell_type": "code",
   "execution_count": 7,
   "metadata": {},
   "outputs": [],
   "source": [
    "def train_model(model, fold, dataloaders, criterion, optimizer, scheduler, num_epochs=25):\n",
    "    since = time.time()\n",
    "    \n",
    "    # Send the model to GPU/CPU\n",
    "    model = model.to(device=CFG.device)\n",
    "    \n",
    "    train_acc_history = []\n",
    "    val_acc_history = []\n",
    "    loss_history = []\n",
    "    \n",
    "    best_model_wts = copy.deepcopy(model.state_dict())\n",
    "    best_acc = 0.0\n",
    "    \n",
    "    for epoch in range(num_epochs):\n",
    "        \n",
    "        # Each epoch has a training and validation phase\n",
    "        for phase in ['train', 'val']:\n",
    "            if phase == 'train':\n",
    "                model.train()   # Set model to training phase\n",
    "            else:\n",
    "                model.eval()    # Set model to evaluate phase\n",
    "            \n",
    "            avg_loss = 0.0\n",
    "            running_corrects = 0\n",
    "            \n",
    "            print(' ', end='', flush=True)  # To workaround tqdm issue in multiprocess\n",
    "            for inputs, labels in tqdm(dataloaders[phase],\n",
    "                                       desc='[{}] {}/{}({:5s})'.format(fold, epoch+1,num_epochs,phase)):\n",
    "                inputs = inputs.to(device=CFG.device, dtype=CFG.dtype)\n",
    "                labels = labels.to(device=CFG.device, dtype=torch.long)\n",
    "                #print(labels)\n",
    "                \n",
    "                # Zero the parameter gradients\n",
    "                optimizer.zero_grad()\n",
    "                \n",
    "                # Forward, track history if only in training\n",
    "                with torch.set_grad_enabled(phase == 'train'):\n",
    "                    outputs = model(inputs)\n",
    "                    loss = criterion(outputs, labels)\n",
    "                    \n",
    "                    pred = torch.argmax(outputs, 1)\n",
    "\n",
    "                    # Backward + optimize only if in training phase\n",
    "                    if phase == 'train':\n",
    "                        loss.backward()\n",
    "                        optimizer.step()\n",
    "                    \n",
    "                # Statistics\n",
    "                avg_loss += loss.item()*(inputs.size(0)/len(dataloaders[phase].dataset))  # len(dataloaders[phase].dataset) not len(dataloaders[phase])\n",
    "                running_corrects += torch.sum(pred == labels)\n",
    "            \n",
    "            # End of epoch\n",
    "            with torch.no_grad():\n",
    "                epoch_acc = running_corrects.double() / len(dataloaders[phase].dataset)\n",
    "\n",
    "                if phase == 'val':\n",
    "                    val_acc_history.append(epoch_acc)\n",
    "                    # deep copy the model\n",
    "                    if epoch_acc > best_acc:\n",
    "                        best_acc = epoch_acc\n",
    "                        best_model_wts = copy.deepcopy(model.state_dict())\n",
    "                    # Apply lr_scheduler\n",
    "                    if scheduler is not None:\n",
    "                        scheduler.step(avg_loss)\n",
    "                else:\n",
    "                    train_acc_history.append(epoch_acc)\n",
    "                    loss_history.append(avg_loss)\n",
    "                print('[{}] {} Loss: {:4f} Acc: {:4f}'.format(fold, phase, avg_loss, epoch_acc))\n",
    "    \n",
    "    time_elapsed = time.time() - since\n",
    "    print('[{}] Training complete in {:.0f}m {:0f}s'.format(fold, time_elapsed//60, time_elapsed%60))\n",
    "    print('[{}] Best val Acc: {:4f}'.format(fold, best_acc))\n",
    "    print()\n",
    "    \n",
    "    model.load_state_dict(best_model_wts)\n",
    "                      \n",
    "    return model, loss_history, train_acc_history, val_acc_history"
   ]
  },
  {
   "cell_type": "code",
   "execution_count": 8,
   "metadata": {},
   "outputs": [],
   "source": [
    "\"\"\"Multiprocessing\n",
    "\"\"\"\n",
    "class NoDaemonProcess(multiprocessing.Process):\n",
    "    # make 'daemon' attribute always return False\n",
    "    def _get_daemon(self):\n",
    "        return False\n",
    "    def _set_daemon(self, value):\n",
    "        pass\n",
    "    daemon = property(_get_daemon, _set_daemon)\n",
    "\n",
    "# We sub-class multiprocessing.pool.Pool instead of multiprocessing.Pool\n",
    "# because the latter is only a wrapper function, not a proper class.\n",
    "class MyPool(multiprocessing.pool.Pool):\n",
    "    Process = NoDaemonProcess\n",
    "\n",
    "def train_fn(fold):\n",
    "    model_ft = initialize_model(CFG.model_name, CFG.num_classes, use_pretrained=True)\n",
    "    \"\"\"\n",
    "    optimizer = optim.SGD(model_ft.parameters(),\n",
    "                          lr=CFG.lr,\n",
    "                          momentum=.9,\n",
    "                          nesterov=True)\n",
    "    \"\"\"\n",
    "    optimizer = optim.Adam(model_ft.parameters(),\n",
    "                           lr=CFG.lr)\n",
    "    scheduler = optim.lr_scheduler.ReduceLROnPlateau(optimizer, mode='min', factor=0.1, patience=2, verbose=True, eps=1e-06)\n",
    "    #print(f'### FOLD: {fold} ###', flush=True)\n",
    "    loader_train, loader_val = data_loader(fold)\n",
    "    best_model, loss_history, train_acc_history, val_acc_history = train_model(model_ft, fold, {'train': loader_train, 'val': loader_val}, F.cross_entropy, optimizer, scheduler, CFG.epochs)\n",
    "\n",
    "    return best_model, loss_history, train_acc_history, val_acc_history\n",
    "\n",
    "def progressor(fold):\n",
    "    best_model, loss_history, train_acc_history, val_acc_history = train_fn(fold)\n",
    "    return {f'best_mode_{fold}': best_model,\n",
    "            f'loss_history_{fold}': loss_history,\n",
    "            f'train_acc_history_{fold}': train_acc_history,\n",
    "            f'val_acc_history_{fold}': val_acc_history}"
   ]
  },
  {
   "cell_type": "markdown",
   "metadata": {},
   "source": [
    "## Resnet18\n",
    "log: resnet_06_01_2020_13_11.pkl"
   ]
  },
  {
   "cell_type": "code",
   "execution_count": 9,
   "metadata": {},
   "outputs": [],
   "source": [
    "def set_parameter_requires_grad(model, feature_extracting):\n",
    "    if feature_extracting:\n",
    "        for param in model.parameters():\n",
    "            param.requires_grad = False\n",
    "            \n",
    "\n",
    "def initialize_model(model_name, num_classes, feature_extract=False, use_pretrained=False):\n",
    "    \"\"\"\n",
    "    Params:\n",
    "        feature_extract\n",
    "            True - fine tunning\n",
    "            False - fix the model\n",
    "    \"\"\"\n",
    "    model_ft = None\n",
    "    \n",
    "    if model_name == 'alexnet':\n",
    "        \"\"\"AlexNet\n",
    "        \"\"\"\n",
    "        model_ft = models.alexnet(pretrained=use_pretrained)\n",
    "        set_parameter_requires_grad(model_ft, feature_extract)\n",
    "        num_ftrs = model_ft.classifier[6].in_features\n",
    "        model_ft.classifier[6] = nn.Linear(num_ftrs, num_classes)\n",
    "    elif model_name == 'resnet':\n",
    "        \"\"\"Resnet\n",
    "        \"\"\"\n",
    "        model_ft = models.resnet18(pretrained=use_pretrained)\n",
    "        set_parameter_requires_grad(model_ft, feature_extract)\n",
    "        num_ftrs = model_ft.fc.in_features\n",
    "        model_ft.fc = nn.Linear(num_ftrs, num_classes)\n",
    "    \n",
    "    return model_ft"
   ]
  },
  {
   "cell_type": "code",
   "execution_count": 10,
   "metadata": {
    "scrolled": true
   },
   "outputs": [
    {
     "name": "stdout",
     "output_type": "stream",
     "text": [
      " "
     ]
    },
    {
     "data": {
      "application/vnd.jupyter.widget-view+json": {
       "model_id": "e852085c4a4a4ea68ddf4f3f0f9b26bd",
       "version_major": 2,
       "version_minor": 0
      },
      "text/plain": [
       "HBox(children=(FloatProgress(value=0.0, description='[3] 1/12(train)', max=493.0, style=ProgressStyle(descript…"
      ]
     },
     "metadata": {},
     "output_type": "display_data"
    },
    {
     "name": "stdout",
     "output_type": "stream",
     "text": [
      "   "
     ]
    },
    {
     "data": {
      "application/vnd.jupyter.widget-view+json": {
       "model_id": "f1179a7e34634816b11b7497f4ba3dcc",
       "version_major": 2,
       "version_minor": 0
      },
      "text/plain": [
       "HBox(children=(FloatProgress(value=0.0, description='[2] 1/12(train)', max=493.0, style=ProgressStyle(descript…"
      ]
     },
     "metadata": {},
     "output_type": "display_data"
    },
    {
     "data": {
      "application/vnd.jupyter.widget-view+json": {
       "model_id": "1045ef2f10ec4edf863376a6ed4e7e10",
       "version_major": 2,
       "version_minor": 0
      },
      "text/plain": [
       "HBox(children=(FloatProgress(value=0.0, description='[0] 1/12(train)', max=493.0, style=ProgressStyle(descript…"
      ]
     },
     "metadata": {},
     "output_type": "display_data"
    },
    {
     "data": {
      "application/vnd.jupyter.widget-view+json": {
       "model_id": "e218db31f04d4e2c84bf4e5174ff3709",
       "version_major": 2,
       "version_minor": 0
      },
      "text/plain": [
       "HBox(children=(FloatProgress(value=0.0, description='[1] 1/12(train)', max=493.0, style=ProgressStyle(descript…"
      ]
     },
     "metadata": {},
     "output_type": "display_data"
    },
    {
     "name": "stdout",
     "output_type": "stream",
     "text": [
      "\n",
      "[1] train Loss: 1.422420 Acc: 0.410295\n",
      " \n",
      "[2] train Loss: 1.415877 Acc: 0.415240\n",
      " "
     ]
    },
    {
     "data": {
      "application/vnd.jupyter.widget-view+json": {
       "model_id": "a4d3ae04b9b44f8c927a02902a6a8805",
       "version_major": 2,
       "version_minor": 0
      },
      "text/plain": [
       "HBox(children=(FloatProgress(value=0.0, description='[1] 1/12(val  )', max=165.0, style=ProgressStyle(descript…"
      ]
     },
     "metadata": {},
     "output_type": "display_data"
    },
    {
     "data": {
      "application/vnd.jupyter.widget-view+json": {
       "model_id": "0bfe22b0fb5c443a9937537ee3d711d0",
       "version_major": 2,
       "version_minor": 0
      },
      "text/plain": [
       "HBox(children=(FloatProgress(value=0.0, description='[2] 1/12(val  )', max=165.0, style=ProgressStyle(descript…"
      ]
     },
     "metadata": {},
     "output_type": "display_data"
    },
    {
     "name": "stdout",
     "output_type": "stream",
     "text": [
      "\n",
      "[3] train Loss: 1.408417 Acc: 0.425891\n",
      " "
     ]
    },
    {
     "data": {
      "application/vnd.jupyter.widget-view+json": {
       "model_id": "2b43fcbe3af745918be2ad9fc6a5a149",
       "version_major": 2,
       "version_minor": 0
      },
      "text/plain": [
       "HBox(children=(FloatProgress(value=0.0, description='[3] 1/12(val  )', max=165.0, style=ProgressStyle(descript…"
      ]
     },
     "metadata": {},
     "output_type": "display_data"
    },
    {
     "name": "stdout",
     "output_type": "stream",
     "text": [
      "\n",
      "[0] train Loss: 1.419086 Acc: 0.420946\n",
      " "
     ]
    },
    {
     "data": {
      "application/vnd.jupyter.widget-view+json": {
       "model_id": "8e45cf46fcfe4aeab0c56288df259b56",
       "version_major": 2,
       "version_minor": 0
      },
      "text/plain": [
       "HBox(children=(FloatProgress(value=0.0, description='[0] 1/12(val  )', max=165.0, style=ProgressStyle(descript…"
      ]
     },
     "metadata": {},
     "output_type": "display_data"
    },
    {
     "name": "stdout",
     "output_type": "stream",
     "text": [
      "\n",
      "[2] val Loss: 1.488341 Acc: 0.449601\n",
      " "
     ]
    },
    {
     "data": {
      "application/vnd.jupyter.widget-view+json": {
       "model_id": "2f73f294b23c48aeaba5b27dcefdbafa",
       "version_major": 2,
       "version_minor": 0
      },
      "text/plain": [
       "HBox(children=(FloatProgress(value=0.0, description='[2] 2/12(train)', max=493.0, style=ProgressStyle(descript…"
      ]
     },
     "metadata": {},
     "output_type": "display_data"
    },
    {
     "name": "stdout",
     "output_type": "stream",
     "text": [
      "\n",
      "[3] val Loss: 1.477525 Acc: 0.449601\n",
      " "
     ]
    },
    {
     "data": {
      "application/vnd.jupyter.widget-view+json": {
       "model_id": "2eb780a2788f45ac979c51c676fe515c",
       "version_major": 2,
       "version_minor": 0
      },
      "text/plain": [
       "HBox(children=(FloatProgress(value=0.0, description='[3] 2/12(train)', max=493.0, style=ProgressStyle(descript…"
      ]
     },
     "metadata": {},
     "output_type": "display_data"
    },
    {
     "name": "stdout",
     "output_type": "stream",
     "text": [
      "\n",
      "[1] val Loss: 1.210173 Acc: 0.508939\n",
      " "
     ]
    },
    {
     "data": {
      "application/vnd.jupyter.widget-view+json": {
       "model_id": "d50efa4ee5c74fc99205fbcfc3d6f186",
       "version_major": 2,
       "version_minor": 0
      },
      "text/plain": [
       "HBox(children=(FloatProgress(value=0.0, description='[1] 2/12(train)', max=493.0, style=ProgressStyle(descript…"
      ]
     },
     "metadata": {},
     "output_type": "display_data"
    },
    {
     "name": "stdout",
     "output_type": "stream",
     "text": [
      "\n",
      "[0] val Loss: 1.343286 Acc: 0.466717\n",
      " "
     ]
    },
    {
     "data": {
      "application/vnd.jupyter.widget-view+json": {
       "model_id": "c1b34630e3df42dc825ad8046e222561",
       "version_major": 2,
       "version_minor": 0
      },
      "text/plain": [
       "HBox(children=(FloatProgress(value=0.0, description='[0] 2/12(train)', max=493.0, style=ProgressStyle(descript…"
      ]
     },
     "metadata": {},
     "output_type": "display_data"
    },
    {
     "name": "stdout",
     "output_type": "stream",
     "text": [
      "\n",
      "[0] train Loss: 1.281735 Acc: 0.483707\n",
      " "
     ]
    },
    {
     "data": {
      "application/vnd.jupyter.widget-view+json": {
       "model_id": "e244db469e7a4aada7d6b9d3be8c67b4",
       "version_major": 2,
       "version_minor": 0
      },
      "text/plain": [
       "HBox(children=(FloatProgress(value=0.0, description='[0] 2/12(val  )', max=165.0, style=ProgressStyle(descript…"
      ]
     },
     "metadata": {},
     "output_type": "display_data"
    },
    {
     "name": "stdout",
     "output_type": "stream",
     "text": [
      "\n",
      "[2] train Loss: 1.282899 Acc: 0.478002\n",
      " "
     ]
    },
    {
     "data": {
      "application/vnd.jupyter.widget-view+json": {
       "model_id": "d995f64b5714442b91a1240ddd2eb853",
       "version_major": 2,
       "version_minor": 0
      },
      "text/plain": [
       "HBox(children=(FloatProgress(value=0.0, description='[2] 2/12(val  )', max=165.0, style=ProgressStyle(descript…"
      ]
     },
     "metadata": {},
     "output_type": "display_data"
    },
    {
     "name": "stdout",
     "output_type": "stream",
     "text": [
      "\n",
      "[1] train Loss: 1.294017 Acc: 0.470268\n",
      " "
     ]
    },
    {
     "data": {
      "application/vnd.jupyter.widget-view+json": {
       "model_id": "cdb93f4341ce4710b915db685f637d48",
       "version_major": 2,
       "version_minor": 0
      },
      "text/plain": [
       "HBox(children=(FloatProgress(value=0.0, description='[1] 2/12(val  )', max=165.0, style=ProgressStyle(descript…"
      ]
     },
     "metadata": {},
     "output_type": "display_data"
    },
    {
     "name": "stdout",
     "output_type": "stream",
     "text": [
      "\n",
      "[3] train Loss: 1.281727 Acc: 0.484595\n",
      " "
     ]
    },
    {
     "data": {
      "application/vnd.jupyter.widget-view+json": {
       "model_id": "0d53c26df3b14f5f99b07f740b2c02b6",
       "version_major": 2,
       "version_minor": 0
      },
      "text/plain": [
       "HBox(children=(FloatProgress(value=0.0, description='[3] 2/12(val  )', max=165.0, style=ProgressStyle(descript…"
      ]
     },
     "metadata": {},
     "output_type": "display_data"
    },
    {
     "name": "stdout",
     "output_type": "stream",
     "text": [
      "\n",
      "[0] val Loss: 1.182551 Acc: 0.537086\n",
      " "
     ]
    },
    {
     "data": {
      "application/vnd.jupyter.widget-view+json": {
       "model_id": "e3cacaab59684bc7a1b7f937f0d5a8a7",
       "version_major": 2,
       "version_minor": 0
      },
      "text/plain": [
       "HBox(children=(FloatProgress(value=0.0, description='[0] 3/12(train)', max=493.0, style=ProgressStyle(descript…"
      ]
     },
     "metadata": {},
     "output_type": "display_data"
    },
    {
     "name": "stdout",
     "output_type": "stream",
     "text": [
      "\n",
      "[3] val Loss: 1.244525 Acc: 0.521491\n",
      " "
     ]
    },
    {
     "data": {
      "application/vnd.jupyter.widget-view+json": {
       "model_id": "06ef9f9269f64b619a8211ae46153b0a",
       "version_major": 2,
       "version_minor": 0
      },
      "text/plain": [
       "HBox(children=(FloatProgress(value=0.0, description='[3] 3/12(train)', max=493.0, style=ProgressStyle(descript…"
      ]
     },
     "metadata": {},
     "output_type": "display_data"
    },
    {
     "name": "stdout",
     "output_type": "stream",
     "text": [
      "\n",
      "[2] val Loss: 1.269397 Acc: 0.496386\n",
      " "
     ]
    },
    {
     "data": {
      "application/vnd.jupyter.widget-view+json": {
       "model_id": "236b01c859fb4bf3be780d3f5800bf2b",
       "version_major": 2,
       "version_minor": 0
      },
      "text/plain": [
       "HBox(children=(FloatProgress(value=0.0, description='[2] 3/12(train)', max=493.0, style=ProgressStyle(descript…"
      ]
     },
     "metadata": {},
     "output_type": "display_data"
    },
    {
     "name": "stdout",
     "output_type": "stream",
     "text": [
      "\n",
      "[1] val Loss: 1.210364 Acc: 0.524914\n",
      " "
     ]
    },
    {
     "data": {
      "application/vnd.jupyter.widget-view+json": {
       "model_id": "822f376bc7b84104a7d5856b3abb5d0f",
       "version_major": 2,
       "version_minor": 0
      },
      "text/plain": [
       "HBox(children=(FloatProgress(value=0.0, description='[1] 3/12(train)', max=493.0, style=ProgressStyle(descript…"
      ]
     },
     "metadata": {},
     "output_type": "display_data"
    },
    {
     "name": "stdout",
     "output_type": "stream",
     "text": [
      "\n",
      "[0] train Loss: 1.230821 Acc: 0.499303\n",
      " "
     ]
    },
    {
     "data": {
      "application/vnd.jupyter.widget-view+json": {
       "model_id": "e88069719b324cbc94d96d55058a0754",
       "version_major": 2,
       "version_minor": 0
      },
      "text/plain": [
       "HBox(children=(FloatProgress(value=0.0, description='[0] 3/12(val  )', max=165.0, style=ProgressStyle(descript…"
      ]
     },
     "metadata": {},
     "output_type": "display_data"
    },
    {
     "name": "stdout",
     "output_type": "stream",
     "text": [
      "\n",
      "[2] train Loss: 1.214329 Acc: 0.515912\n",
      " "
     ]
    },
    {
     "data": {
      "application/vnd.jupyter.widget-view+json": {
       "model_id": "7c0a28abf759455f80f225586589459d",
       "version_major": 2,
       "version_minor": 0
      },
      "text/plain": [
       "HBox(children=(FloatProgress(value=0.0, description='[2] 3/12(val  )', max=165.0, style=ProgressStyle(descript…"
      ]
     },
     "metadata": {},
     "output_type": "display_data"
    },
    {
     "name": "stdout",
     "output_type": "stream",
     "text": [
      "\n",
      "[3] train Loss: 1.227653 Acc: 0.500951\n",
      " "
     ]
    },
    {
     "data": {
      "application/vnd.jupyter.widget-view+json": {
       "model_id": "2521bb65c16043fc9a3adcda51d81de1",
       "version_major": 2,
       "version_minor": 0
      },
      "text/plain": [
       "HBox(children=(FloatProgress(value=0.0, description='[3] 3/12(val  )', max=165.0, style=ProgressStyle(descript…"
      ]
     },
     "metadata": {},
     "output_type": "display_data"
    },
    {
     "name": "stdout",
     "output_type": "stream",
     "text": [
      "\n",
      "[1] train Loss: 1.229359 Acc: 0.494865\n",
      " "
     ]
    },
    {
     "data": {
      "application/vnd.jupyter.widget-view+json": {
       "model_id": "6a8bc8eba0c9486ab54c635762328036",
       "version_major": 2,
       "version_minor": 0
      },
      "text/plain": [
       "HBox(children=(FloatProgress(value=0.0, description='[1] 3/12(val  )', max=165.0, style=ProgressStyle(descript…"
      ]
     },
     "metadata": {},
     "output_type": "display_data"
    },
    {
     "name": "stdout",
     "output_type": "stream",
     "text": [
      "\n",
      "[0] val Loss: 1.158309 Acc: 0.552682\n",
      " "
     ]
    },
    {
     "data": {
      "application/vnd.jupyter.widget-view+json": {
       "model_id": "2c5e48b1cf274ec49f8353fbfaf6116d",
       "version_major": 2,
       "version_minor": 0
      },
      "text/plain": [
       "HBox(children=(FloatProgress(value=0.0, description='[0] 4/12(train)', max=493.0, style=ProgressStyle(descript…"
      ]
     },
     "metadata": {},
     "output_type": "display_data"
    },
    {
     "name": "stdout",
     "output_type": "stream",
     "text": [
      "\n",
      "[2] val Loss: 1.278480 Acc: 0.505515\n",
      " "
     ]
    },
    {
     "data": {
      "application/vnd.jupyter.widget-view+json": {
       "model_id": "82d3f987fd0a4465bb166781aa20dadb",
       "version_major": 2,
       "version_minor": 0
      },
      "text/plain": [
       "HBox(children=(FloatProgress(value=0.0, description='[2] 4/12(train)', max=493.0, style=ProgressStyle(descript…"
      ]
     },
     "metadata": {},
     "output_type": "display_data"
    },
    {
     "name": "stdout",
     "output_type": "stream",
     "text": [
      "\n",
      "[3] val Loss: 1.435683 Acc: 0.442754\n",
      " "
     ]
    },
    {
     "data": {
      "application/vnd.jupyter.widget-view+json": {
       "model_id": "8874c3d766ed404b8ffdfb235b95ba20",
       "version_major": 2,
       "version_minor": 0
      },
      "text/plain": [
       "HBox(children=(FloatProgress(value=0.0, description='[3] 4/12(train)', max=493.0, style=ProgressStyle(descript…"
      ]
     },
     "metadata": {},
     "output_type": "display_data"
    },
    {
     "name": "stdout",
     "output_type": "stream",
     "text": [
      "\n",
      "[1] val Loss: 1.247509 Acc: 0.494865\n",
      " "
     ]
    },
    {
     "data": {
      "application/vnd.jupyter.widget-view+json": {
       "model_id": "ae7d0d65cb354e46b6248b57ab74fe53",
       "version_major": 2,
       "version_minor": 0
      },
      "text/plain": [
       "HBox(children=(FloatProgress(value=0.0, description='[1] 4/12(train)', max=493.0, style=ProgressStyle(descript…"
      ]
     },
     "metadata": {},
     "output_type": "display_data"
    },
    {
     "name": "stdout",
     "output_type": "stream",
     "text": [
      "\n",
      "[0] train Loss: 1.167185 Acc: 0.531634\n",
      " "
     ]
    },
    {
     "data": {
      "application/vnd.jupyter.widget-view+json": {
       "model_id": "0d62f601f205405589850a8c5c1d8647",
       "version_major": 2,
       "version_minor": 0
      },
      "text/plain": [
       "HBox(children=(FloatProgress(value=0.0, description='[0] 4/12(val  )', max=165.0, style=ProgressStyle(descript…"
      ]
     },
     "metadata": {},
     "output_type": "display_data"
    },
    {
     "name": "stdout",
     "output_type": "stream",
     "text": [
      "\n",
      "[2] train Loss: 1.175160 Acc: 0.532015\n",
      " "
     ]
    },
    {
     "data": {
      "application/vnd.jupyter.widget-view+json": {
       "model_id": "fd0fd91f63f24030963748b330fcd345",
       "version_major": 2,
       "version_minor": 0
      },
      "text/plain": [
       "HBox(children=(FloatProgress(value=0.0, description='[2] 4/12(val  )', max=165.0, style=ProgressStyle(descript…"
      ]
     },
     "metadata": {},
     "output_type": "display_data"
    },
    {
     "name": "stdout",
     "output_type": "stream",
     "text": [
      "\n",
      "[3] train Loss: 1.156571 Acc: 0.537974\n",
      " "
     ]
    },
    {
     "data": {
      "application/vnd.jupyter.widget-view+json": {
       "model_id": "4144754e39714d9abe1a54687ea7206a",
       "version_major": 2,
       "version_minor": 0
      },
      "text/plain": [
       "HBox(children=(FloatProgress(value=0.0, description='[3] 4/12(val  )', max=165.0, style=ProgressStyle(descript…"
      ]
     },
     "metadata": {},
     "output_type": "display_data"
    },
    {
     "name": "stdout",
     "output_type": "stream",
     "text": [
      "\n",
      "[1] train Loss: 1.144424 Acc: 0.543553\n",
      " "
     ]
    },
    {
     "data": {
      "application/vnd.jupyter.widget-view+json": {
       "model_id": "6195406d107341138a2fd916478c61d8",
       "version_major": 2,
       "version_minor": 0
      },
      "text/plain": [
       "HBox(children=(FloatProgress(value=0.0, description='[1] 4/12(val  )', max=165.0, style=ProgressStyle(descript…"
      ]
     },
     "metadata": {},
     "output_type": "display_data"
    },
    {
     "name": "stdout",
     "output_type": "stream",
     "text": [
      "\n",
      "[0] val Loss: 1.257771 Acc: 0.532141\n",
      " "
     ]
    },
    {
     "data": {
      "application/vnd.jupyter.widget-view+json": {
       "model_id": "4b68443eb9ee4409abcdce32978efdb2",
       "version_major": 2,
       "version_minor": 0
      },
      "text/plain": [
       "HBox(children=(FloatProgress(value=0.0, description='[0] 5/12(train)', max=493.0, style=ProgressStyle(descript…"
      ]
     },
     "metadata": {},
     "output_type": "display_data"
    },
    {
     "name": "stdout",
     "output_type": "stream",
     "text": [
      "\n",
      "[2] val Loss: 1.192449 Acc: 0.544694\n",
      " "
     ]
    },
    {
     "data": {
      "application/vnd.jupyter.widget-view+json": {
       "model_id": "91ebdeddfa024cca8e19da5e34001257",
       "version_major": 2,
       "version_minor": 0
      },
      "text/plain": [
       "HBox(children=(FloatProgress(value=0.0, description='[2] 5/12(train)', max=493.0, style=ProgressStyle(descript…"
      ]
     },
     "metadata": {},
     "output_type": "display_data"
    },
    {
     "name": "stdout",
     "output_type": "stream",
     "text": [
      "\n",
      "[1] val Loss: 1.200117 Acc: 0.542792\n",
      " "
     ]
    },
    {
     "data": {
      "application/vnd.jupyter.widget-view+json": {
       "model_id": "5e69f2dfc08c41f7a641414422c49cf9",
       "version_major": 2,
       "version_minor": 0
      },
      "text/plain": [
       "HBox(children=(FloatProgress(value=0.0, description='[1] 5/12(train)', max=493.0, style=ProgressStyle(descript…"
      ]
     },
     "metadata": {},
     "output_type": "display_data"
    },
    {
     "name": "stdout",
     "output_type": "stream",
     "text": [
      "\n",
      "[3] val Loss: 1.293608 Acc: 0.497147\n",
      " "
     ]
    },
    {
     "data": {
      "application/vnd.jupyter.widget-view+json": {
       "model_id": "b01dd19461df4ad18e9cac64544cf88e",
       "version_major": 2,
       "version_minor": 0
      },
      "text/plain": [
       "HBox(children=(FloatProgress(value=0.0, description='[3] 5/12(train)', max=493.0, style=ProgressStyle(descript…"
      ]
     },
     "metadata": {},
     "output_type": "display_data"
    },
    {
     "name": "stdout",
     "output_type": "stream",
     "text": [
      "\n",
      "[0] train Loss: 1.136985 Acc: 0.549765\n",
      " "
     ]
    },
    {
     "data": {
      "application/vnd.jupyter.widget-view+json": {
       "model_id": "47a0f75e9aa246fda0618c746e1dbc43",
       "version_major": 2,
       "version_minor": 0
      },
      "text/plain": [
       "HBox(children=(FloatProgress(value=0.0, description='[0] 5/12(val  )', max=165.0, style=ProgressStyle(descript…"
      ]
     },
     "metadata": {},
     "output_type": "display_data"
    },
    {
     "name": "stdout",
     "output_type": "stream",
     "text": [
      "\n",
      "[2] train Loss: 1.132710 Acc: 0.547864\n",
      " "
     ]
    },
    {
     "data": {
      "application/vnd.jupyter.widget-view+json": {
       "model_id": "9503ace3f770456fa54cdba3d98d5a92",
       "version_major": 2,
       "version_minor": 0
      },
      "text/plain": [
       "HBox(children=(FloatProgress(value=0.0, description='[2] 5/12(val  )', max=165.0, style=ProgressStyle(descript…"
      ]
     },
     "metadata": {},
     "output_type": "display_data"
    },
    {
     "name": "stdout",
     "output_type": "stream",
     "text": [
      "\n",
      "[3] train Loss: 1.099777 Acc: 0.564854\n",
      " "
     ]
    },
    {
     "data": {
      "application/vnd.jupyter.widget-view+json": {
       "model_id": "cc4de10c0825411384dcd373d8fbc6d1",
       "version_major": 2,
       "version_minor": 0
      },
      "text/plain": [
       "HBox(children=(FloatProgress(value=0.0, description='[3] 5/12(val  )', max=165.0, style=ProgressStyle(descript…"
      ]
     },
     "metadata": {},
     "output_type": "display_data"
    },
    {
     "name": "stdout",
     "output_type": "stream",
     "text": [
      "\n",
      "[1] train Loss: 1.139975 Acc: 0.549512\n",
      " "
     ]
    },
    {
     "data": {
      "application/vnd.jupyter.widget-view+json": {
       "model_id": "e00d1f016f714c36adb885a2854cd14b",
       "version_major": 2,
       "version_minor": 0
      },
      "text/plain": [
       "HBox(children=(FloatProgress(value=0.0, description='[1] 5/12(val  )', max=165.0, style=ProgressStyle(descript…"
      ]
     },
     "metadata": {},
     "output_type": "display_data"
    },
    {
     "name": "stdout",
     "output_type": "stream",
     "text": [
      "\n",
      "[0] val Loss: 1.111747 Acc: 0.566375\n",
      " "
     ]
    },
    {
     "data": {
      "application/vnd.jupyter.widget-view+json": {
       "model_id": "d2fcc48addf84ab3aa7ae7c23ca7f763",
       "version_major": 2,
       "version_minor": 0
      },
      "text/plain": [
       "HBox(children=(FloatProgress(value=0.0, description='[0] 6/12(train)', max=493.0, style=ProgressStyle(descript…"
      ]
     },
     "metadata": {},
     "output_type": "display_data"
    },
    {
     "name": "stdout",
     "output_type": "stream",
     "text": [
      "\n",
      "[2] val Loss: 1.166785 Acc: 0.566375\n",
      " "
     ]
    },
    {
     "data": {
      "application/vnd.jupyter.widget-view+json": {
       "model_id": "ff4ff55429634714bd30a609157772e5",
       "version_major": 2,
       "version_minor": 0
      },
      "text/plain": [
       "HBox(children=(FloatProgress(value=0.0, description='[2] 6/12(train)', max=493.0, style=ProgressStyle(descript…"
      ]
     },
     "metadata": {},
     "output_type": "display_data"
    },
    {
     "name": "stdout",
     "output_type": "stream",
     "text": [
      "\n",
      "[3] val Loss: 1.160441 Acc: 0.539749\n",
      " "
     ]
    },
    {
     "data": {
      "application/vnd.jupyter.widget-view+json": {
       "model_id": "42114087ed30474885b0089e8f04dd56",
       "version_major": 2,
       "version_minor": 0
      },
      "text/plain": [
       "HBox(children=(FloatProgress(value=0.0, description='[3] 6/12(train)', max=493.0, style=ProgressStyle(descript…"
      ]
     },
     "metadata": {},
     "output_type": "display_data"
    },
    {
     "name": "stdout",
     "output_type": "stream",
     "text": [
      "\n",
      "[1] val Loss: 1.150223 Acc: 0.553823\n",
      " "
     ]
    },
    {
     "data": {
      "application/vnd.jupyter.widget-view+json": {
       "model_id": "39cf5721edf0486eabf449334b844428",
       "version_major": 2,
       "version_minor": 0
      },
      "text/plain": [
       "HBox(children=(FloatProgress(value=0.0, description='[1] 6/12(train)', max=493.0, style=ProgressStyle(descript…"
      ]
     },
     "metadata": {},
     "output_type": "display_data"
    },
    {
     "name": "stdout",
     "output_type": "stream",
     "text": [
      "\n",
      "[0] train Loss: 1.108372 Acc: 0.563839\n",
      " "
     ]
    },
    {
     "data": {
      "application/vnd.jupyter.widget-view+json": {
       "model_id": "93f5cfd15ee3478eb37cc4b549630e86",
       "version_major": 2,
       "version_minor": 0
      },
      "text/plain": [
       "HBox(children=(FloatProgress(value=0.0, description='[0] 6/12(val  )', max=165.0, style=ProgressStyle(descript…"
      ]
     },
     "metadata": {},
     "output_type": "display_data"
    },
    {
     "name": "stdout",
     "output_type": "stream",
     "text": [
      "\n",
      "[2] train Loss: 1.067316 Acc: 0.577406\n",
      " "
     ]
    },
    {
     "data": {
      "application/vnd.jupyter.widget-view+json": {
       "model_id": "2f7c3c7df3b84166a1afc99340502ad8",
       "version_major": 2,
       "version_minor": 0
      },
      "text/plain": [
       "HBox(children=(FloatProgress(value=0.0, description='[2] 6/12(val  )', max=165.0, style=ProgressStyle(descript…"
      ]
     },
     "metadata": {},
     "output_type": "display_data"
    },
    {
     "name": "stdout",
     "output_type": "stream",
     "text": [
      "\n",
      "[3] train Loss: 1.065017 Acc: 0.577533\n",
      " "
     ]
    },
    {
     "data": {
      "application/vnd.jupyter.widget-view+json": {
       "model_id": "2c613d7a0fe84bbd85c7f50941a379a4",
       "version_major": 2,
       "version_minor": 0
      },
      "text/plain": [
       "HBox(children=(FloatProgress(value=0.0, description='[3] 6/12(val  )', max=165.0, style=ProgressStyle(descript…"
      ]
     },
     "metadata": {},
     "output_type": "display_data"
    },
    {
     "name": "stdout",
     "output_type": "stream",
     "text": [
      "\n",
      "[1] train Loss: 1.086762 Acc: 0.572968\n",
      " "
     ]
    },
    {
     "data": {
      "application/vnd.jupyter.widget-view+json": {
       "model_id": "eee803f65e8e45918996a83fe09dfbda",
       "version_major": 2,
       "version_minor": 0
      },
      "text/plain": [
       "HBox(children=(FloatProgress(value=0.0, description='[1] 6/12(val  )', max=165.0, style=ProgressStyle(descript…"
      ]
     },
     "metadata": {},
     "output_type": "display_data"
    },
    {
     "name": "stdout",
     "output_type": "stream",
     "text": [
      "\n",
      "[0] val Loss: 1.226879 Acc: 0.519970\n",
      " "
     ]
    },
    {
     "data": {
      "application/vnd.jupyter.widget-view+json": {
       "model_id": "6a810393cc30458b9fa020dea0f630e4",
       "version_major": 2,
       "version_minor": 0
      },
      "text/plain": [
       "HBox(children=(FloatProgress(value=0.0, description='[0] 7/12(train)', max=493.0, style=ProgressStyle(descript…"
      ]
     },
     "metadata": {},
     "output_type": "display_data"
    },
    {
     "name": "stdout",
     "output_type": "stream",
     "text": [
      "\n",
      "[2] val Loss: 1.327778 Acc: 0.510460\n",
      " "
     ]
    },
    {
     "data": {
      "application/vnd.jupyter.widget-view+json": {
       "model_id": "b09088cd923444459b4af7afa29fe1c9",
       "version_major": 2,
       "version_minor": 0
      },
      "text/plain": [
       "HBox(children=(FloatProgress(value=0.0, description='[2] 7/12(train)', max=493.0, style=ProgressStyle(descript…"
      ]
     },
     "metadata": {},
     "output_type": "display_data"
    },
    {
     "name": "stdout",
     "output_type": "stream",
     "text": [
      "\n",
      "[3] val Loss: 1.412053 Acc: 0.494865\n",
      " "
     ]
    },
    {
     "data": {
      "application/vnd.jupyter.widget-view+json": {
       "model_id": "b8775aa616324bfcb37468c33c0470d2",
       "version_major": 2,
       "version_minor": 0
      },
      "text/plain": [
       "HBox(children=(FloatProgress(value=0.0, description='[3] 7/12(train)', max=493.0, style=ProgressStyle(descript…"
      ]
     },
     "metadata": {},
     "output_type": "display_data"
    },
    {
     "name": "stdout",
     "output_type": "stream",
     "text": [
      "\n",
      "[1] val Loss: 1.126752 Acc: 0.571700\n",
      " "
     ]
    },
    {
     "data": {
      "application/vnd.jupyter.widget-view+json": {
       "model_id": "3a6100d584394516b4315c5700b70754",
       "version_major": 2,
       "version_minor": 0
      },
      "text/plain": [
       "HBox(children=(FloatProgress(value=0.0, description='[1] 7/12(train)', max=493.0, style=ProgressStyle(descript…"
      ]
     },
     "metadata": {},
     "output_type": "display_data"
    },
    {
     "name": "stdout",
     "output_type": "stream",
     "text": [
      "\n",
      "[0] train Loss: 1.046593 Acc: 0.587676\n",
      " "
     ]
    },
    {
     "data": {
      "application/vnd.jupyter.widget-view+json": {
       "model_id": "cb395f9d54b54627b8ff3cbcd5872ebd",
       "version_major": 2,
       "version_minor": 0
      },
      "text/plain": [
       "HBox(children=(FloatProgress(value=0.0, description='[0] 7/12(val  )', max=165.0, style=ProgressStyle(descript…"
      ]
     },
     "metadata": {},
     "output_type": "display_data"
    },
    {
     "name": "stdout",
     "output_type": "stream",
     "text": [
      "\n",
      "[3] train Loss: 1.027899 Acc: 0.605046\n",
      " "
     ]
    },
    {
     "data": {
      "application/vnd.jupyter.widget-view+json": {
       "model_id": "25847e1aaa764a8eae7792776c01c351",
       "version_major": 2,
       "version_minor": 0
      },
      "text/plain": [
       "HBox(children=(FloatProgress(value=0.0, description='[3] 7/12(val  )', max=165.0, style=ProgressStyle(descript…"
      ]
     },
     "metadata": {},
     "output_type": "display_data"
    },
    {
     "name": "stdout",
     "output_type": "stream",
     "text": [
      "\n",
      "[2] train Loss: 1.013154 Acc: 0.604412\n",
      " "
     ]
    },
    {
     "data": {
      "application/vnd.jupyter.widget-view+json": {
       "model_id": "0fdb4bf396f240c8afc35283c756ce3b",
       "version_major": 2,
       "version_minor": 0
      },
      "text/plain": [
       "HBox(children=(FloatProgress(value=0.0, description='[2] 7/12(val  )', max=165.0, style=ProgressStyle(descript…"
      ]
     },
     "metadata": {},
     "output_type": "display_data"
    },
    {
     "name": "stdout",
     "output_type": "stream",
     "text": [
      "\n",
      "[1] train Loss: 1.022760 Acc: 0.602510\n",
      " "
     ]
    },
    {
     "data": {
      "application/vnd.jupyter.widget-view+json": {
       "model_id": "e8edc4ba84d3458688aeb8b0aa9870cc",
       "version_major": 2,
       "version_minor": 0
      },
      "text/plain": [
       "HBox(children=(FloatProgress(value=0.0, description='[1] 7/12(val  )', max=165.0, style=ProgressStyle(descript…"
      ]
     },
     "metadata": {},
     "output_type": "display_data"
    },
    {
     "name": "stdout",
     "output_type": "stream",
     "text": [
      "\n",
      "[0] val Loss: 1.190215 Acc: 0.562191\n",
      " "
     ]
    },
    {
     "data": {
      "application/vnd.jupyter.widget-view+json": {
       "model_id": "6005b6c151f54468afc196e5145c8b3d",
       "version_major": 2,
       "version_minor": 0
      },
      "text/plain": [
       "HBox(children=(FloatProgress(value=0.0, description='[0] 8/12(train)', max=493.0, style=ProgressStyle(descript…"
      ]
     },
     "metadata": {},
     "output_type": "display_data"
    },
    {
     "name": "stdout",
     "output_type": "stream",
     "text": [
      "\n",
      "[3] val Loss: 1.253966 Acc: 0.534043\n",
      " "
     ]
    },
    {
     "data": {
      "application/vnd.jupyter.widget-view+json": {
       "model_id": "111d8204ec284b5287763c0b62b49456",
       "version_major": 2,
       "version_minor": 0
      },
      "text/plain": [
       "HBox(children=(FloatProgress(value=0.0, description='[3] 8/12(train)', max=493.0, style=ProgressStyle(descript…"
      ]
     },
     "metadata": {},
     "output_type": "display_data"
    },
    {
     "name": "stdout",
     "output_type": "stream",
     "text": [
      "\n",
      "[2] val Loss: 1.263350 Acc: 0.522632\n",
      " "
     ]
    },
    {
     "data": {
      "application/vnd.jupyter.widget-view+json": {
       "model_id": "1d66fa4c1a7346d6953d42f0d46b2c84",
       "version_major": 2,
       "version_minor": 0
      },
      "text/plain": [
       "HBox(children=(FloatProgress(value=0.0, description='[2] 8/12(train)', max=493.0, style=ProgressStyle(descript…"
      ]
     },
     "metadata": {},
     "output_type": "display_data"
    },
    {
     "name": "stdout",
     "output_type": "stream",
     "text": [
      "\n",
      "[1] val Loss: 1.166936 Acc: 0.562952\n",
      " "
     ]
    },
    {
     "data": {
      "application/vnd.jupyter.widget-view+json": {
       "model_id": "27f2ab6a86df44e1b9584f33203dbd51",
       "version_major": 2,
       "version_minor": 0
      },
      "text/plain": [
       "HBox(children=(FloatProgress(value=0.0, description='[1] 8/12(train)', max=493.0, style=ProgressStyle(descript…"
      ]
     },
     "metadata": {},
     "output_type": "display_data"
    },
    {
     "name": "stdout",
     "output_type": "stream",
     "text": [
      "\n",
      "[0] train Loss: 1.001245 Acc: 0.615316\n",
      " "
     ]
    },
    {
     "data": {
      "application/vnd.jupyter.widget-view+json": {
       "model_id": "ffe5f4bd6c804dcf87a6313e64b17359",
       "version_major": 2,
       "version_minor": 0
      },
      "text/plain": [
       "HBox(children=(FloatProgress(value=0.0, description='[0] 8/12(val  )', max=165.0, style=ProgressStyle(descript…"
      ]
     },
     "metadata": {},
     "output_type": "display_data"
    },
    {
     "name": "stdout",
     "output_type": "stream",
     "text": [
      "\n",
      "[1] train Loss: 1.010713 Acc: 0.606568\n",
      " "
     ]
    },
    {
     "data": {
      "application/vnd.jupyter.widget-view+json": {
       "model_id": "54e93d375b25477881c48714073ecd49",
       "version_major": 2,
       "version_minor": 0
      },
      "text/plain": [
       "HBox(children=(FloatProgress(value=0.0, description='[1] 8/12(val  )', max=165.0, style=ProgressStyle(descript…"
      ]
     },
     "metadata": {},
     "output_type": "display_data"
    },
    {
     "name": "stdout",
     "output_type": "stream",
     "text": [
      "\n",
      "[3] train Loss: 0.971918 Acc: 0.619881\n",
      " "
     ]
    },
    {
     "data": {
      "application/vnd.jupyter.widget-view+json": {
       "model_id": "755993eec727421c8833f51171782f66",
       "version_major": 2,
       "version_minor": 0
      },
      "text/plain": [
       "HBox(children=(FloatProgress(value=0.0, description='[3] 8/12(val  )', max=165.0, style=ProgressStyle(descript…"
      ]
     },
     "metadata": {},
     "output_type": "display_data"
    },
    {
     "name": "stdout",
     "output_type": "stream",
     "text": [
      "\n",
      "[2] train Loss: 0.995353 Acc: 0.611386\n",
      " "
     ]
    },
    {
     "data": {
      "application/vnd.jupyter.widget-view+json": {
       "model_id": "0ba95454107c4aee9ac7307bb34ebe53",
       "version_major": 2,
       "version_minor": 0
      },
      "text/plain": [
       "HBox(children=(FloatProgress(value=0.0, description='[2] 8/12(val  )', max=165.0, style=ProgressStyle(descript…"
      ]
     },
     "metadata": {},
     "output_type": "display_data"
    },
    {
     "name": "stdout",
     "output_type": "stream",
     "text": [
      "\n",
      "Epoch     8: reducing learning rate of group 0 to 1.0000e-05.\n",
      "[0] val Loss: 1.142764 Acc: 0.571320\n",
      " "
     ]
    },
    {
     "data": {
      "application/vnd.jupyter.widget-view+json": {
       "model_id": "1be40c2e29eb476bb4696da1f4d1aa48",
       "version_major": 2,
       "version_minor": 0
      },
      "text/plain": [
       "HBox(children=(FloatProgress(value=0.0, description='[0] 9/12(train)', max=493.0, style=ProgressStyle(descript…"
      ]
     },
     "metadata": {},
     "output_type": "display_data"
    },
    {
     "name": "stdout",
     "output_type": "stream",
     "text": [
      "\n",
      "[1] val Loss: 1.206878 Acc: 0.529859\n",
      " "
     ]
    },
    {
     "data": {
      "application/vnd.jupyter.widget-view+json": {
       "model_id": "065d67d382884f84b41b6e1cf788f78f",
       "version_major": 2,
       "version_minor": 0
      },
      "text/plain": [
       "HBox(children=(FloatProgress(value=0.0, description='[1] 9/12(train)', max=493.0, style=ProgressStyle(descript…"
      ]
     },
     "metadata": {},
     "output_type": "display_data"
    },
    {
     "name": "stdout",
     "output_type": "stream",
     "text": [
      "\n",
      "Epoch     8: reducing learning rate of group 0 to 1.0000e-05.\n",
      "[3] val Loss: 1.173982 Acc: 0.561811\n",
      " "
     ]
    },
    {
     "data": {
      "application/vnd.jupyter.widget-view+json": {
       "model_id": "466a9a3925ba454dab428ac7b493e878",
       "version_major": 2,
       "version_minor": 0
      },
      "text/plain": [
       "HBox(children=(FloatProgress(value=0.0, description='[3] 9/12(train)', max=493.0, style=ProgressStyle(descript…"
      ]
     },
     "metadata": {},
     "output_type": "display_data"
    },
    {
     "name": "stdout",
     "output_type": "stream",
     "text": [
      "\n",
      "Epoch     8: reducing learning rate of group 0 to 1.0000e-05.\n",
      "[2] val Loss: 1.284170 Acc: 0.516546\n",
      " "
     ]
    },
    {
     "data": {
      "application/vnd.jupyter.widget-view+json": {
       "model_id": "20dcc37db29947879ad58bdc9d791628",
       "version_major": 2,
       "version_minor": 0
      },
      "text/plain": [
       "HBox(children=(FloatProgress(value=0.0, description='[2] 9/12(train)', max=493.0, style=ProgressStyle(descript…"
      ]
     },
     "metadata": {},
     "output_type": "display_data"
    },
    {
     "name": "stdout",
     "output_type": "stream",
     "text": [
      "\n",
      "[0] train Loss: 0.902857 Acc: 0.659059\n",
      " "
     ]
    },
    {
     "data": {
      "application/vnd.jupyter.widget-view+json": {
       "model_id": "ca752d7836304d608dab6cb9174aea6e",
       "version_major": 2,
       "version_minor": 0
      },
      "text/plain": [
       "HBox(children=(FloatProgress(value=0.0, description='[0] 9/12(val  )', max=165.0, style=ProgressStyle(descript…"
      ]
     },
     "metadata": {},
     "output_type": "display_data"
    },
    {
     "name": "stdout",
     "output_type": "stream",
     "text": [
      "\n",
      "[3] train Loss: 0.860877 Acc: 0.671992\n",
      " "
     ]
    },
    {
     "data": {
      "application/vnd.jupyter.widget-view+json": {
       "model_id": "735d76634d0e4f12906dc95d4fb2e2ff",
       "version_major": 2,
       "version_minor": 0
      },
      "text/plain": [
       "HBox(children=(FloatProgress(value=0.0, description='[3] 9/12(val  )', max=165.0, style=ProgressStyle(descript…"
      ]
     },
     "metadata": {},
     "output_type": "display_data"
    },
    {
     "name": "stdout",
     "output_type": "stream",
     "text": [
      "\n",
      "[1] train Loss: 0.961052 Acc: 0.627995\n",
      " "
     ]
    },
    {
     "data": {
      "application/vnd.jupyter.widget-view+json": {
       "model_id": "ecd35ddda47f421ab88680c78859d48c",
       "version_major": 2,
       "version_minor": 0
      },
      "text/plain": [
       "HBox(children=(FloatProgress(value=0.0, description='[1] 9/12(val  )', max=165.0, style=ProgressStyle(descript…"
      ]
     },
     "metadata": {},
     "output_type": "display_data"
    },
    {
     "name": "stdout",
     "output_type": "stream",
     "text": [
      "\n",
      "[2] train Loss: 0.880092 Acc: 0.671231\n",
      " "
     ]
    },
    {
     "data": {
      "application/vnd.jupyter.widget-view+json": {
       "model_id": "60ef193e7fbe41afa69cc8cd0b4b6609",
       "version_major": 2,
       "version_minor": 0
      },
      "text/plain": [
       "HBox(children=(FloatProgress(value=0.0, description='[2] 9/12(val  )', max=165.0, style=ProgressStyle(descript…"
      ]
     },
     "metadata": {},
     "output_type": "display_data"
    },
    {
     "name": "stdout",
     "output_type": "stream",
     "text": [
      "\n",
      "[0] val Loss: 1.059639 Acc: 0.593762\n",
      " "
     ]
    },
    {
     "data": {
      "application/vnd.jupyter.widget-view+json": {
       "model_id": "12213ce99bd046b6a9120353106530f5",
       "version_major": 2,
       "version_minor": 0
      },
      "text/plain": [
       "HBox(children=(FloatProgress(value=0.0, description='[0] 10/12(train)', max=493.0, style=ProgressStyle(descrip…"
      ]
     },
     "metadata": {},
     "output_type": "display_data"
    },
    {
     "name": "stdout",
     "output_type": "stream",
     "text": [
      "\n",
      "[3] val Loss: 1.066290 Acc: 0.594142\n",
      " "
     ]
    },
    {
     "data": {
      "application/vnd.jupyter.widget-view+json": {
       "model_id": "fe5fd04e426e4c2b9fe8c5ed6f6b0544",
       "version_major": 2,
       "version_minor": 0
      },
      "text/plain": [
       "HBox(children=(FloatProgress(value=0.0, description='[3] 10/12(train)', max=493.0, style=ProgressStyle(descrip…"
      ]
     },
     "metadata": {},
     "output_type": "display_data"
    },
    {
     "name": "stdout",
     "output_type": "stream",
     "text": [
      "\n",
      "Epoch     9: reducing learning rate of group 0 to 1.0000e-05.\n",
      "[1] val Loss: 1.154008 Acc: 0.566375\n",
      " "
     ]
    },
    {
     "data": {
      "application/vnd.jupyter.widget-view+json": {
       "model_id": "9bef7e61971c4553a054bb528d49e1c9",
       "version_major": 2,
       "version_minor": 0
      },
      "text/plain": [
       "HBox(children=(FloatProgress(value=0.0, description='[1] 10/12(train)', max=493.0, style=ProgressStyle(descrip…"
      ]
     },
     "metadata": {},
     "output_type": "display_data"
    },
    {
     "name": "stdout",
     "output_type": "stream",
     "text": [
      "\n",
      "[2] val Loss: 1.056588 Acc: 0.595664\n",
      " "
     ]
    },
    {
     "data": {
      "application/vnd.jupyter.widget-view+json": {
       "model_id": "478ffff3826e45579da8821c2a9b6e6e",
       "version_major": 2,
       "version_minor": 0
      },
      "text/plain": [
       "HBox(children=(FloatProgress(value=0.0, description='[2] 10/12(train)', max=493.0, style=ProgressStyle(descrip…"
      ]
     },
     "metadata": {},
     "output_type": "display_data"
    },
    {
     "name": "stdout",
     "output_type": "stream",
     "text": [
      "\n",
      "[0] train Loss: 0.833698 Acc: 0.683783\n",
      " "
     ]
    },
    {
     "data": {
      "application/vnd.jupyter.widget-view+json": {
       "model_id": "6ef995af52fb4a949002238c766a2b9d",
       "version_major": 2,
       "version_minor": 0
      },
      "text/plain": [
       "HBox(children=(FloatProgress(value=0.0, description='[0] 10/12(val  )', max=165.0, style=ProgressStyle(descrip…"
      ]
     },
     "metadata": {},
     "output_type": "display_data"
    },
    {
     "name": "stdout",
     "output_type": "stream",
     "text": [
      "\n",
      "[2] train Loss: 0.836747 Acc: 0.686953\n",
      " "
     ]
    },
    {
     "data": {
      "application/vnd.jupyter.widget-view+json": {
       "model_id": "dc33cd81091648a2842a49cd11fe9493",
       "version_major": 2,
       "version_minor": 0
      },
      "text/plain": [
       "HBox(children=(FloatProgress(value=0.0, description='[2] 10/12(val  )', max=165.0, style=ProgressStyle(descrip…"
      ]
     },
     "metadata": {},
     "output_type": "display_data"
    },
    {
     "name": "stdout",
     "output_type": "stream",
     "text": [
      "\n",
      "[3] train Loss: 0.801335 Acc: 0.698745\n",
      " "
     ]
    },
    {
     "data": {
      "application/vnd.jupyter.widget-view+json": {
       "model_id": "2305516739a64ae2937931cb19783ef9",
       "version_major": 2,
       "version_minor": 0
      },
      "text/plain": [
       "HBox(children=(FloatProgress(value=0.0, description='[3] 10/12(val  )', max=165.0, style=ProgressStyle(descrip…"
      ]
     },
     "metadata": {},
     "output_type": "display_data"
    },
    {
     "name": "stdout",
     "output_type": "stream",
     "text": [
      "\n",
      "[1] train Loss: 0.835354 Acc: 0.689869\n",
      " "
     ]
    },
    {
     "data": {
      "application/vnd.jupyter.widget-view+json": {
       "model_id": "e814fdd16195458c9dd9846bd2fced50",
       "version_major": 2,
       "version_minor": 0
      },
      "text/plain": [
       "HBox(children=(FloatProgress(value=0.0, description='[1] 10/12(val  )', max=165.0, style=ProgressStyle(descrip…"
      ]
     },
     "metadata": {},
     "output_type": "display_data"
    },
    {
     "name": "stdout",
     "output_type": "stream",
     "text": [
      "\n",
      "[0] val Loss: 1.042653 Acc: 0.605553\n",
      " "
     ]
    },
    {
     "data": {
      "application/vnd.jupyter.widget-view+json": {
       "model_id": "1843df92b9b64aa0af3295d947d5b231",
       "version_major": 2,
       "version_minor": 0
      },
      "text/plain": [
       "HBox(children=(FloatProgress(value=0.0, description='[0] 11/12(train)', max=493.0, style=ProgressStyle(descrip…"
      ]
     },
     "metadata": {},
     "output_type": "display_data"
    },
    {
     "name": "stdout",
     "output_type": "stream",
     "text": [
      "\n",
      "[3] val Loss: 1.072366 Acc: 0.597185\n",
      " "
     ]
    },
    {
     "data": {
      "application/vnd.jupyter.widget-view+json": {
       "model_id": "b8445bd018194d849a7d69094b6a28d2",
       "version_major": 2,
       "version_minor": 0
      },
      "text/plain": [
       "HBox(children=(FloatProgress(value=0.0, description='[3] 11/12(train)', max=493.0, style=ProgressStyle(descrip…"
      ]
     },
     "metadata": {},
     "output_type": "display_data"
    },
    {
     "name": "stdout",
     "output_type": "stream",
     "text": [
      "\n",
      "[2] val Loss: 1.077063 Acc: 0.586154\n",
      " "
     ]
    },
    {
     "data": {
      "application/vnd.jupyter.widget-view+json": {
       "model_id": "cc085c9917544a108f6afb3ee767f153",
       "version_major": 2,
       "version_minor": 0
      },
      "text/plain": [
       "HBox(children=(FloatProgress(value=0.0, description='[2] 11/12(train)', max=493.0, style=ProgressStyle(descrip…"
      ]
     },
     "metadata": {},
     "output_type": "display_data"
    },
    {
     "name": "stdout",
     "output_type": "stream",
     "text": [
      "\n",
      "[1] val Loss: 1.039203 Acc: 0.608216\n",
      " "
     ]
    },
    {
     "data": {
      "application/vnd.jupyter.widget-view+json": {
       "model_id": "ef0519176cad4891bf276fbff6301585",
       "version_major": 2,
       "version_minor": 0
      },
      "text/plain": [
       "HBox(children=(FloatProgress(value=0.0, description='[1] 11/12(train)', max=493.0, style=ProgressStyle(descrip…"
      ]
     },
     "metadata": {},
     "output_type": "display_data"
    },
    {
     "name": "stdout",
     "output_type": "stream",
     "text": [
      "\n",
      "[0] train Loss: 0.796686 Acc: 0.702041\n",
      " "
     ]
    },
    {
     "data": {
      "application/vnd.jupyter.widget-view+json": {
       "model_id": "fe7ae47d004047e5a06ed81f44f46314",
       "version_major": 2,
       "version_minor": 0
      },
      "text/plain": [
       "HBox(children=(FloatProgress(value=0.0, description='[0] 11/12(val  )', max=165.0, style=ProgressStyle(descrip…"
      ]
     },
     "metadata": {},
     "output_type": "display_data"
    },
    {
     "name": "stdout",
     "output_type": "stream",
     "text": [
      "\n",
      "[3] train Loss: 0.761107 Acc: 0.723089\n",
      " "
     ]
    },
    {
     "data": {
      "application/vnd.jupyter.widget-view+json": {
       "model_id": "9cd4982cbcc44c2590fb09f6108be870",
       "version_major": 2,
       "version_minor": 0
      },
      "text/plain": [
       "HBox(children=(FloatProgress(value=0.0, description='[3] 11/12(val  )', max=165.0, style=ProgressStyle(descrip…"
      ]
     },
     "metadata": {},
     "output_type": "display_data"
    },
    {
     "name": "stdout",
     "output_type": "stream",
     "text": [
      "\n",
      "[2] train Loss: 0.794155 Acc: 0.711931\n",
      " "
     ]
    },
    {
     "data": {
      "application/vnd.jupyter.widget-view+json": {
       "model_id": "afec6320e5cb405faf2f329686e7f53e",
       "version_major": 2,
       "version_minor": 0
      },
      "text/plain": [
       "HBox(children=(FloatProgress(value=0.0, description='[2] 11/12(val  )', max=165.0, style=ProgressStyle(descrip…"
      ]
     },
     "metadata": {},
     "output_type": "display_data"
    },
    {
     "name": "stdout",
     "output_type": "stream",
     "text": [
      "\n",
      "[1] train Loss: 0.768494 Acc: 0.713453\n",
      " "
     ]
    },
    {
     "data": {
      "application/vnd.jupyter.widget-view+json": {
       "model_id": "f7f31e90a97f487890bc2a79f44a13d8",
       "version_major": 2,
       "version_minor": 0
      },
      "text/plain": [
       "HBox(children=(FloatProgress(value=0.0, description='[1] 11/12(val  )', max=165.0, style=ProgressStyle(descrip…"
      ]
     },
     "metadata": {},
     "output_type": "display_data"
    },
    {
     "name": "stdout",
     "output_type": "stream",
     "text": [
      "\n",
      "[3] val Loss: 1.097344 Acc: 0.583111\n",
      " "
     ]
    },
    {
     "data": {
      "application/vnd.jupyter.widget-view+json": {
       "model_id": "abcf7a2848b4476c9ba059157c45de1d",
       "version_major": 2,
       "version_minor": 0
      },
      "text/plain": [
       "HBox(children=(FloatProgress(value=0.0, description='[3] 12/12(train)', max=493.0, style=ProgressStyle(descrip…"
      ]
     },
     "metadata": {},
     "output_type": "display_data"
    },
    {
     "name": "stdout",
     "output_type": "stream",
     "text": [
      "\n",
      "[0] val Loss: 1.051881 Acc: 0.599467\n",
      " "
     ]
    },
    {
     "data": {
      "application/vnd.jupyter.widget-view+json": {
       "model_id": "7a7724f85ad94600ac91c347628db9fb",
       "version_major": 2,
       "version_minor": 0
      },
      "text/plain": [
       "HBox(children=(FloatProgress(value=0.0, description='[0] 12/12(train)', max=493.0, style=ProgressStyle(descrip…"
      ]
     },
     "metadata": {},
     "output_type": "display_data"
    },
    {
     "name": "stdout",
     "output_type": "stream",
     "text": [
      "\n",
      "[2] val Loss: 1.095938 Acc: 0.583492\n",
      " "
     ]
    },
    {
     "data": {
      "application/vnd.jupyter.widget-view+json": {
       "model_id": "a2ab0d6bad2745689664cc4f77cf370a",
       "version_major": 2,
       "version_minor": 0
      },
      "text/plain": [
       "HBox(children=(FloatProgress(value=0.0, description='[2] 12/12(train)', max=493.0, style=ProgressStyle(descrip…"
      ]
     },
     "metadata": {},
     "output_type": "display_data"
    },
    {
     "name": "stdout",
     "output_type": "stream",
     "text": [
      "\n",
      "[1] val Loss: 1.041422 Acc: 0.604793\n",
      " "
     ]
    },
    {
     "data": {
      "application/vnd.jupyter.widget-view+json": {
       "model_id": "f42145bbdc0a4c26b8c1dfc6f80912a2",
       "version_major": 2,
       "version_minor": 0
      },
      "text/plain": [
       "HBox(children=(FloatProgress(value=0.0, description='[1] 12/12(train)', max=493.0, style=ProgressStyle(descrip…"
      ]
     },
     "metadata": {},
     "output_type": "display_data"
    },
    {
     "name": "stdout",
     "output_type": "stream",
     "text": [
      "\n",
      "[0] train Loss: 0.776373 Acc: 0.712185\n",
      " "
     ]
    },
    {
     "data": {
      "application/vnd.jupyter.widget-view+json": {
       "model_id": "6846e5a6c0d34d9bae28aaabe601ae2d",
       "version_major": 2,
       "version_minor": 0
      },
      "text/plain": [
       "HBox(children=(FloatProgress(value=0.0, description='[0] 12/12(val  )', max=165.0, style=ProgressStyle(descrip…"
      ]
     },
     "metadata": {},
     "output_type": "display_data"
    },
    {
     "name": "stdout",
     "output_type": "stream",
     "text": [
      "\n",
      "[2] train Loss: 0.751610 Acc: 0.728541\n",
      " "
     ]
    },
    {
     "data": {
      "application/vnd.jupyter.widget-view+json": {
       "model_id": "c976b3424ad24edc97aae4a3c635ab09",
       "version_major": 2,
       "version_minor": 0
      },
      "text/plain": [
       "HBox(children=(FloatProgress(value=0.0, description='[2] 12/12(val  )', max=165.0, style=ProgressStyle(descrip…"
      ]
     },
     "metadata": {},
     "output_type": "display_data"
    },
    {
     "name": "stdout",
     "output_type": "stream",
     "text": [
      "\n",
      "[3] train Loss: 0.750293 Acc: 0.721948\n",
      " "
     ]
    },
    {
     "data": {
      "application/vnd.jupyter.widget-view+json": {
       "model_id": "da865690ef284723a26b178933d809b1",
       "version_major": 2,
       "version_minor": 0
      },
      "text/plain": [
       "HBox(children=(FloatProgress(value=0.0, description='[3] 12/12(val  )', max=165.0, style=ProgressStyle(descrip…"
      ]
     },
     "metadata": {},
     "output_type": "display_data"
    },
    {
     "name": "stdout",
     "output_type": "stream",
     "text": [
      "\n",
      "[1] train Loss: 0.745948 Acc: 0.721567\n",
      " "
     ]
    },
    {
     "data": {
      "application/vnd.jupyter.widget-view+json": {
       "model_id": "6086b3f308a849d2acecc7e365c25113",
       "version_major": 2,
       "version_minor": 0
      },
      "text/plain": [
       "HBox(children=(FloatProgress(value=0.0, description='[1] 12/12(val  )', max=165.0, style=ProgressStyle(descrip…"
      ]
     },
     "metadata": {},
     "output_type": "display_data"
    },
    {
     "name": "stdout",
     "output_type": "stream",
     "text": [
      "\n",
      "[0] val Loss: 1.070396 Acc: 0.594903\n",
      "[0] Training complete in 547m 15.503763s\n",
      "[0] Best val Acc: 0.605553\n",
      "\n",
      "\n",
      "Epoch    12: reducing learning rate of group 0 to 1.0000e-06.\n",
      "[2] val Loss: 1.071180 Acc: 0.597566\n",
      "[2] Training complete in 547m 19.210738s\n",
      "[2] Best val Acc: 0.597566\n",
      "\n",
      "\n",
      "Epoch    12: reducing learning rate of group 0 to 1.0000e-06.\n",
      "[3] val Loss: 1.072218 Acc: 0.589958\n",
      "[3] Training complete in 547m 20.099689s\n",
      "[3] Best val Acc: 0.597185\n",
      "\n",
      "\n",
      "[1] val Loss: 1.044080 Acc: 0.607455\n",
      "[1] Training complete in 547m 25.458825s\n",
      "[1] Best val Acc: 0.608216\n",
      "\n"
     ]
    }
   ],
   "source": [
    "log_dict = {'batch_size': CFG.batch_size,\n",
    "            'epochs': CFG.epochs,\n",
    "            'learning_rate': CFG.lr,\n",
    "            'model': CFG.model_name,\n",
    "            'nworkers': CFG.nworkers,\n",
    "            'nfolds': CFG.nfolds,\n",
    "            'random_seed': CFG.seed}\n",
    "\n",
    "nfold = range(CFG.nfolds)\n",
    "result_list = list(MyPool(CFG.nfolds).map(progressor, nfold))\n",
    "\n",
    "# Accumulate result from each process\n",
    "for result in result_list:\n",
    "    log_dict.update(result)\n",
    "\n",
    "# Log results\n",
    "log_file = f'{CFG.model_name}_{datetime.now().strftime(\"%m_%d_%Y_%H_%M\")}.pkl'\n",
    "with open(log_file, 'wb') as pkl_file:\n",
    "    pickle.dump(log_dict, pkl_file)"
   ]
  },
  {
   "cell_type": "code",
   "execution_count": 11,
   "metadata": {},
   "outputs": [
    {
     "data": {
      "text/plain": [
       "\"\\nfor fold in range(CFG.nfolds):\\n    best_model, loss_history, train_acc_history, val_acc_history = train_fn(fold)\\n    log_dict[f'best_mode_{fold}'] = best_model\\n    log_dict[f'loss_history_{fold}'] = loss_history\\n    log_dict[f'train_acc_history_{fold}'] = train_acc_history\\n    log_dict[f'val_acc_history_{fold}'] = val_acc_history\\n\""
      ]
     },
     "execution_count": 11,
     "metadata": {},
     "output_type": "execute_result"
    }
   ],
   "source": [
    "\"\"\"\n",
    "for fold in range(CFG.nfolds):\n",
    "    best_model, loss_history, train_acc_history, val_acc_history = train_fn(fold)\n",
    "    log_dict[f'best_mode_{fold}'] = best_model\n",
    "    log_dict[f'loss_history_{fold}'] = loss_history\n",
    "    log_dict[f'train_acc_history_{fold}'] = train_acc_history\n",
    "    log_dict[f'val_acc_history_{fold}'] = val_acc_history\n",
    "\"\"\""
   ]
  },
  {
   "cell_type": "markdown",
   "metadata": {},
   "source": [
    "\"\"\"\n",
    "Graphs\n",
    "1. loss vs. iterations\n",
    "2. Train/Validation accuracy along epoch\n",
    "\"\"\"\n",
    "plt.subplot(2,1,1)\n",
    "plt.plot(log_dict['loss_history_0'], 'o')\n",
    "plt.xlabel('epoch')\n",
    "plt.ylabel('loss')\n",
    "\n",
    "plt.subplot(2,1,2)\n",
    "plt.plot(log_dict['train_acc_history_0'], '-o')\n",
    "plt.plot(log_dict['val_acc_history_0'], '-o')\n",
    "plt.legend(['train', 'val'], loc='upper left')\n",
    "plt.xlabel('epoch')\n",
    "plt.ylabel('accuracy')\n",
    "\n",
    "plt.tight_layout(pad=3)\n",
    "plt.show()"
   ]
  },
  {
   "cell_type": "code",
   "execution_count": 12,
   "metadata": {},
   "outputs": [
    {
     "data": {
      "image/png": "[encoded data removed]",
      "text/plain": [
       "<Figure size 432x288 with 2 Axes>"
      ]
     },
     "metadata": {
      "needs_background": "light"
     },
     "output_type": "display_data"
    }
   ],
   "source": [
    "# read python dict back from the file\n",
    "#with open(log_file, 'rb') as pfile:\n",
    "#    test_dict = pickle.load(pfile)\n",
    "\"\"\"\n",
    "Graphs\n",
    "1. loss vs. iterations\n",
    "2. Train/Validation accuracy along epoch\n",
    "\"\"\"\n",
    "plt.subplot(2,1,1)\n",
    "plt.plot(log_dict['loss_history_0'], 'o')\n",
    "plt.xlabel('epoch')\n",
    "plt.ylabel('loss')\n",
    "\n",
    "plt.subplot(2,1,2)\n",
    "plt.plot(log_dict['train_acc_history_0'], '-o')\n",
    "plt.plot(log_dict['val_acc_history_0'], '-o')\n",
    "plt.legend(['train', 'val'], loc='upper left')\n",
    "plt.xlabel('epoch')\n",
    "plt.ylabel('accuracy')\n",
    "\n",
    "plt.tight_layout(pad=3)\n",
    "plt.show()"
   ]
  },
  {
   "cell_type": "code",
   "execution_count": 13,
   "metadata": {},
   "outputs": [
    {
     "data": {
      "application/vnd.jupyter.widget-view+json": {
       "model_id": "5b0c1db29e1d40c7849e8d1af11bb4a6",
       "version_major": 2,
       "version_minor": 0
      },
      "text/plain": [
       "HBox(children=(FloatProgress(value=0.0, max=165.0), HTML(value='')))"
      ]
     },
     "metadata": {},
     "output_type": "display_data"
    },
    {
     "name": "stdout",
     "output_type": "stream",
     "text": [
      "\n"
     ]
    },
    {
     "data": {
      "application/vnd.jupyter.widget-view+json": {
       "model_id": "d5fac6407e0d413e8a3349c9ccae8a15",
       "version_major": 2,
       "version_minor": 0
      },
      "text/plain": [
       "HBox(children=(FloatProgress(value=0.0, max=165.0), HTML(value='')))"
      ]
     },
     "metadata": {},
     "output_type": "display_data"
    },
    {
     "name": "stdout",
     "output_type": "stream",
     "text": [
      "\n"
     ]
    },
    {
     "data": {
      "application/vnd.jupyter.widget-view+json": {
       "model_id": "1d43056bbbfc40b29851e584ea867753",
       "version_major": 2,
       "version_minor": 0
      },
      "text/plain": [
       "HBox(children=(FloatProgress(value=0.0, max=165.0), HTML(value='')))"
      ]
     },
     "metadata": {},
     "output_type": "display_data"
    },
    {
     "name": "stdout",
     "output_type": "stream",
     "text": [
      "\n"
     ]
    },
    {
     "data": {
      "application/vnd.jupyter.widget-view+json": {
       "model_id": "15dc1b677b9948a9b7b4da717fdcfb1c",
       "version_major": 2,
       "version_minor": 0
      },
      "text/plain": [
       "HBox(children=(FloatProgress(value=0.0, max=165.0), HTML(value='')))"
      ]
     },
     "metadata": {},
     "output_type": "display_data"
    },
    {
     "name": "stdout",
     "output_type": "stream",
     "text": [
      "\n"
     ]
    }
   ],
   "source": [
    "preds, targets = [], []\n",
    "for fold in range(CFG.nfolds):\n",
    "    model_fd = log_dict[f'best_mode_{fold}']\n",
    "    _, loader_val = data_loader(fold)\n",
    "    for inputs, labels in tqdm(loader_val):\n",
    "        inputs = inputs.to(device=CFG.device, dtype=CFG.dtype)\n",
    "        labels = labels.to(device=CFG.device, dtype=torch.long)\n",
    "                \n",
    "        # Forward, track history if only in training\n",
    "        with torch.no_grad():\n",
    "            outputs = model_fd(inputs)\n",
    "            pred = torch.argmax(outputs, 1)\n",
    "        preds.append(pred)\n",
    "        targets.append(labels)"
   ]
  },
  {
   "cell_type": "code",
   "execution_count": 14,
   "metadata": {},
   "outputs": [
    {
     "name": "stdout",
     "output_type": "stream",
     "text": [
      "Kappa: 0.7485453974993297\n"
     ]
    },
    {
     "data": {
      "text/plain": [
       "<matplotlib.axes._subplots.AxesSubplot at 0x7f2a3695ebd0>"
      ]
     },
     "execution_count": 14,
     "metadata": {},
     "output_type": "execute_result"
    },
    {
     "data": {
      "image/png": "[encoded data removed]",
      "text/plain": [
       "<Figure size 1008x504 with 2 Axes>"
      ]
     },
     "metadata": {
      "needs_background": "light"
     },
     "output_type": "display_data"
    }
   ],
   "source": [
    "p = torch.cat(preds).cpu()\n",
    "t = torch.cat(targets).cpu()\n",
    "kappa = cohen_kappa_score(t, p, weights='quadratic')\n",
    "print(f'Kappa: {kappa}')\n",
    "conf_mat = confusion_matrix(t,p)\n",
    "#plt.matshow()\n",
    "plt.figure(figsize=(14,7))\n",
    "sn.heatmap(conf_mat, annot=True)"
   ]
  }
 ],
 "metadata": {
  "kernelspec": {
   "display_name": "Python 3",
   "language": "python",
   "name": "python3"
  },
  "language_info": {
   "codemirror_mode": {
    "name": "ipython",
    "version": 3
   },
   "file_extension": ".py",
   "mimetype": "text/x-python",
   "name": "python",
   "nbconvert_exporter": "python",
   "pygments_lexer": "ipython3",
   "version": "3.7.4"
  },
  "widgets": {
   "application/vnd.jupyter.widget-state+json": {
    "state": {
     "00028421c2c74677bf6465c3e81979cc": {
      "model_module": "@jupyter-widgets/controls",
      "model_module_version": "1.5.0",
      "model_name": "DescriptionStyleModel",
      "state": {
       "description_width": ""
      }
     },
     "0006a2563aa243c6a73f0dcd03e0374b": {
      "model_module": "@jupyter-widgets/base",
      "model_module_version": "1.2.0",
      "model_name": "LayoutModel",
      "state": {}
     },
     "00102b9a53c24fcc8bd98b7bd0f0fb80": {
      "model_module": "@jupyter-widgets/base",
      "model_module_version": "1.2.0",
      "model_name": "LayoutModel",
      "state": {}
     },
     "0038ec72fd77434b808987e6a3223aaf": {
      "model_module": "@jupyter-widgets/controls",
      "model_module_version": "1.5.0",
      "model_name": "ProgressStyleModel",
      "state": {
       "description_width": "initial"
      }
     },
     "00543e2c26ab4cd29a02254e77c7a1bc": {
      "model_module": "@jupyter-widgets/base",
      "model_module_version": "1.2.0",
      "model_name": "LayoutModel",
      "state": {}
     },
     "0109cde5d6974df0ad14a61e0cf6ef22": {
      "model_module": "@jupyter-widgets/base",
      "model_module_version": "1.2.0",
      "model_name": "LayoutModel",
      "state": {}
     },
     "01435bca8a1546aaafa6613a0cd55e57": {
      "model_module": "@jupyter-widgets/base",
      "model_module_version": "1.2.0",
      "model_name": "LayoutModel",
      "state": {}
     },
     "0147c5fa84df40eba87defc250221b7a": {
      "model_module": "@jupyter-widgets/base",
      "model_module_version": "1.2.0",
      "model_name": "LayoutModel",
      "state": {}
     },
     "0232dd1faf4f46fc90ee12394da29136": {
      "model_module": "@jupyter-widgets/base",
      "model_module_version": "1.2.0",
      "model_name": "LayoutModel",
      "state": {}
     },
     "02b78f43e9464c8ea40c20ab36e95516": {
      "model_module": "@jupyter-widgets/base",
      "model_module_version": "1.2.0",
      "model_name": "LayoutModel",
      "state": {}
     },
     "02d6b18979af46f481aa0e01fcb2fc4c": {
      "model_module": "@jupyter-widgets/base",
      "model_module_version": "1.2.0",
      "model_name": "LayoutModel",
      "state": {}
     },
     "02eec73cd6134c5e9ad9b9596aef6ed8": {
      "model_module": "@jupyter-widgets/controls",
      "model_module_version": "1.5.0",
      "model_name": "FloatProgressModel",
      "state": {
       "bar_style": "success",
       "description": "[2] 7/12(train): 100%",
       "layout": "IPY_MODEL_63e5fcd0d99245ec8a9374a0680406a5",
       "max": 493,
       "style": "IPY_MODEL_cb66a942c8ab4c6289246960d77f012a",
       "value": 493
      }
     },
     "03449136f215422cb9434c4be9f2ad88": {
      "model_module": "@jupyter-widgets/base",
      "model_module_version": "1.2.0",
      "model_name": "LayoutModel",
      "state": {}
     },
     "0370cb4320c4452196e6a1562d6d13e9": {
      "model_module": "@jupyter-widgets/controls",
      "model_module_version": "1.5.0",
      "model_name": "DescriptionStyleModel",
      "state": {
       "description_width": ""
      }
     },
     "038a04ebfdb942d586ebb0c5e863cd0f": {
      "model_module": "@jupyter-widgets/controls",
      "model_module_version": "1.5.0",
      "model_name": "DescriptionStyleModel",
      "state": {
       "description_width": ""
      }
     },
     "03e109902dd64f8f9b5b01c3b04edc60": {
      "model_module": "@jupyter-widgets/base",
      "model_module_version": "1.2.0",
      "model_name": "LayoutModel",
      "state": {}
     },
     "03fa4a42152e49e4958edbac8d33e1ff": {
      "model_module": "@jupyter-widgets/base",
      "model_module_version": "1.2.0",
      "model_name": "LayoutModel",
      "state": {}
     },
     "04237e60728a475cbc75ed9d42dfd43c": {
      "model_module": "@jupyter-widgets/base",
      "model_module_version": "1.2.0",
      "model_name": "LayoutModel",
      "state": {}
     },
     "042b13077a874c8e9ff380d5c70cf819": {
      "model_module": "@jupyter-widgets/controls",
      "model_module_version": "1.5.0",
      "model_name": "FloatProgressModel",
      "state": {
       "bar_style": "success",
       "description": "[0] 2/12(train): 100%",
       "layout": "IPY_MODEL_cb7203b1664142f0a66a96ef8ad808fe",
       "max": 493,
       "style": "IPY_MODEL_da23385735274fce8c13e627a189fb49",
       "value": 493
      }
     },
     "0437bb4fe28742efbb15442702e4523d": {
      "model_module": "@jupyter-widgets/base",
      "model_module_version": "1.2.0",
      "model_name": "LayoutModel",
      "state": {}
     },
     "04bd64dd24ce4333b38e6ac04b1e7ac4": {
      "model_module": "@jupyter-widgets/base",
      "model_module_version": "1.2.0",
      "model_name": "LayoutModel",
      "state": {}
     },
     "04c4033d0e3042a4946a98d2bcc7add3": {
      "model_module": "@jupyter-widgets/controls",
      "model_module_version": "1.5.0",
      "model_name": "DescriptionStyleModel",
      "state": {
       "description_width": ""
      }
     },
     "04cc9accb69245a0ba92c5a00efb041e": {
      "model_module": "@jupyter-widgets/controls",
      "model_module_version": "1.5.0",
      "model_name": "ProgressStyleModel",
      "state": {
       "description_width": "initial"
      }
     },
     "04eb2b6ec9dc45a8b628ec5f3684842d": {
      "model_module": "@jupyter-widgets/base",
      "model_module_version": "1.2.0",
      "model_name": "LayoutModel",
      "state": {}
     },
     "052fac3836f941278391f938821feaf8": {
      "model_module": "@jupyter-widgets/base",
      "model_module_version": "1.2.0",
      "model_name": "LayoutModel",
      "state": {}
     },
     "0540146525b845afa6142fc3c1d80147": {
      "model_module": "@jupyter-widgets/controls",
      "model_module_version": "1.5.0",
      "model_name": "FloatProgressModel",
      "state": {
       "bar_style": "success",
       "description": "[3] 1/1(train): 100%",
       "layout": "IPY_MODEL_1da6a4defea046749ce64dfdd851b916",
       "max": 3,
       "style": "IPY_MODEL_68c086d7a4b44b7d99b7d28cc91ff65b",
       "value": 3
      }
     },
     "0575fe16129e40dd8fc5cece64ed3802": {
      "model_module": "@jupyter-widgets/controls",
      "model_module_version": "1.5.0",
      "model_name": "HTMLModel",
      "state": {
       "layout": "IPY_MODEL_27bcf115dabc4e118981f6e650070060",
       "style": "IPY_MODEL_22d845b4496a42b48d21d5365603306b",
       "value": " 1/1 [00:03&lt;00:00,  3.98s/it]"
      }
     },
     "0588480362ac4e56af36b08494c24364": {
      "model_module": "@jupyter-widgets/controls",
      "model_module_version": "1.5.0",
      "model_name": "HTMLModel",
      "state": {
       "layout": "IPY_MODEL_d61a708655f145119c6728dfce7bc8e4",
       "style": "IPY_MODEL_d6ea86f2107b4a5081d1353edd868b4f",
       "value": " 165/165 [11:42&lt;00:00,  4.25s/it]"
      }
     },
     "05c301da9be14f3fb42b878471a13cdb": {
      "model_module": "@jupyter-widgets/controls",
      "model_module_version": "1.5.0",
      "model_name": "FloatProgressModel",
      "state": {
       "bar_style": "success",
       "description": "[2] 10/12(train): 100%",
       "layout": "IPY_MODEL_38809685139742f081b7676a55389f3c",
       "max": 493,
       "style": "IPY_MODEL_54d2669f059f4b32aa2abaefca270fdd",
       "value": 493
      }
     },
     "05d5b4d018674c58a8ccd3facfdd316f": {
      "model_module": "@jupyter-widgets/controls",
      "model_module_version": "1.5.0",
      "model_name": "FloatProgressModel",
      "state": {
       "bar_style": "success",
       "description": "[2] 4/12(train): 100%",
       "layout": "IPY_MODEL_8f79e3566a43463ebede5df7d89ed657",
       "max": 493,
       "style": "IPY_MODEL_7c032a2cb43c48d683803c16b353aa6d",
       "value": 493
      }
     },
     "05db2d74956d4cd78ea3ac1fb9b749a3": {
      "model_module": "@jupyter-widgets/controls",
      "model_module_version": "1.5.0",
      "model_name": "HTMLModel",
      "state": {
       "layout": "IPY_MODEL_f36cf2990b0349f48d3f1d8bc1a039a6",
       "style": "IPY_MODEL_cee449620b01460dbb4193c6ad836187",
       "value": " 493/493 [46:31&lt;00:00,  5.66s/it]"
      }
     },
     "05feb266f41a4597ab4bfbef3e84d610": {
      "model_module": "@jupyter-widgets/base",
      "model_module_version": "1.2.0",
      "model_name": "LayoutModel",
      "state": {}
     },
     "065d67d382884f84b41b6e1cf788f78f": {
      "model_module": "@jupyter-widgets/controls",
      "model_module_version": "1.5.0",
      "model_name": "HBoxModel",
      "state": {
       "children": [
        "IPY_MODEL_c8b091ae99d4417f9694fd39163b3dcc",
        "IPY_MODEL_90774cc55bae4464928ec9fc49cc20c0"
       ],
       "layout": "IPY_MODEL_0ab3362f98244d538a9db062ed1622ae"
      }
     },
     "0698545d5d15473995b5c873d4694c5f": {
      "model_module": "@jupyter-widgets/base",
      "model_module_version": "1.2.0",
      "model_name": "LayoutModel",
      "state": {}
     },
     "06ef9f9269f64b619a8211ae46153b0a": {
      "model_module": "@jupyter-widgets/controls",
      "model_module_version": "1.5.0",
      "model_name": "HBoxModel",
      "state": {
       "children": [
        "IPY_MODEL_d327e855e86f4d798ed38b6d7cb621a7",
        "IPY_MODEL_f5fd64ab68e54fb4940931c091a85ee5"
       ],
       "layout": "IPY_MODEL_6437282a585c4281bcdc696f1143fa16"
      }
     },
     "0713bfcf25fe468a9eafe78189e5e904": {
      "model_module": "@jupyter-widgets/base",
      "model_module_version": "1.2.0",
      "model_name": "LayoutModel",
      "state": {}
     },
     "071756dc30f7458393f901df1d55edfa": {
      "model_module": "@jupyter-widgets/base",
      "model_module_version": "1.2.0",
      "model_name": "LayoutModel",
      "state": {}
     },
     "07765ab129bc4fd987a2787454a173d2": {
      "model_module": "@jupyter-widgets/controls",
      "model_module_version": "1.5.0",
      "model_name": "DescriptionStyleModel",
      "state": {
       "description_width": ""
      }
     },
     "07ad446dda724dcca011f76ad6524a46": {
      "model_module": "@jupyter-widgets/controls",
      "model_module_version": "1.5.0",
      "model_name": "DescriptionStyleModel",
      "state": {
       "description_width": ""
      }
     },
     "0816a5deb4624155a49d1fda6a242149": {
      "model_module": "@jupyter-widgets/controls",
      "model_module_version": "1.5.0",
      "model_name": "HTMLModel",
      "state": {
       "layout": "IPY_MODEL_71570a913fd74df6b745e7b444a95625",
       "style": "IPY_MODEL_1288ee491fbe4e1daeb6c8e499e7ec1a",
       "value": " 165/165 [08:27&lt;00:00,  3.08s/it]"
      }
     },
     "083ddc8d503d45568c778b60678a89a1": {
      "model_module": "@jupyter-widgets/controls",
      "model_module_version": "1.5.0",
      "model_name": "FloatProgressModel",
      "state": {
       "bar_style": "success",
       "description": "[0] 4/12(val  ): 100%",
       "layout": "IPY_MODEL_ae0e972a57c74ce1abf9071b5b9f3764",
       "max": 165,
       "style": "IPY_MODEL_9e255ac11882489b8d04715d399a5a4f",
       "value": 165
      }
     },
     "08bf6dc70c584a9f9ef0cc236fa6774b": {
      "model_module": "@jupyter-widgets/controls",
      "model_module_version": "1.5.0",
      "model_name": "FloatProgressModel",
      "state": {
       "bar_style": "success",
       "description": "[2] 2/12(train): 100%",
       "layout": "IPY_MODEL_7d01ee00079d4361bb8a3666c760f637",
       "max": 493,
       "style": "IPY_MODEL_cf59c01642384cd7a1d3643a5a2eb7ff",
       "value": 493
      }
     },
     "08ce32bb09e14371b263e566be6e0686": {
      "model_module": "@jupyter-widgets/controls",
      "model_module_version": "1.5.0",
      "model_name": "FloatProgressModel",
      "state": {
       "bar_style": "success",
       "description": "100%",
       "layout": "IPY_MODEL_ce36a556e9b5491182bef15f20d6d141",
       "max": 1,
       "style": "IPY_MODEL_2218c328a45140598e37483ebc06c963",
       "value": 1
      }
     },
     "09087c5fce514dd19bcb116ef778eba1": {
      "model_module": "@jupyter-widgets/base",
      "model_module_version": "1.2.0",
      "model_name": "LayoutModel",
      "state": {}
     },
     "09b1bd998923488d98ee5f896d471b03": {
      "model_module": "@jupyter-widgets/controls",
      "model_module_version": "1.5.0",
      "model_name": "HTMLModel",
      "state": {
       "layout": "IPY_MODEL_61d05564928f4a1b96997e52d6df5f00",
       "style": "IPY_MODEL_0370cb4320c4452196e6a1562d6d13e9",
       "value": " 493/493 [36:51&lt;00:00,  4.48s/it]"
      }
     },
     "09dddd602c3141faadf06f210ea1e632": {
      "model_module": "@jupyter-widgets/controls",
      "model_module_version": "1.5.0",
      "model_name": "FloatProgressModel",
      "state": {
       "bar_style": "success",
       "description": "100%",
       "layout": "IPY_MODEL_ee5c4f575e7049b9802e2431dd59c9dd",
       "max": 165,
       "style": "IPY_MODEL_291f3531307e4f5fb6a207f806458c61",
       "value": 165
      }
     },
     "09ded731209b499ca8a35d4cded9decc": {
      "model_module": "@jupyter-widgets/base",
      "model_module_version": "1.2.0",
      "model_name": "LayoutModel",
      "state": {}
     },
     "0a5363c4e0fb40c4be99467e811825de": {
      "model_module": "@jupyter-widgets/controls",
      "model_module_version": "1.5.0",
      "model_name": "ProgressStyleModel",
      "state": {
       "description_width": "initial"
      }
     },
     "0ab3362f98244d538a9db062ed1622ae": {
      "model_module": "@jupyter-widgets/base",
      "model_module_version": "1.2.0",
      "model_name": "LayoutModel",
      "state": {}
     },
     "0ac28deba7d143b9a244bfd33c35fb00": {
      "model_module": "@jupyter-widgets/controls",
      "model_module_version": "1.5.0",
      "model_name": "DescriptionStyleModel",
      "state": {
       "description_width": ""
      }
     },
     "0b3f88c2a87346d5bb57cbcdf5f5d0cd": {
      "model_module": "@jupyter-widgets/base",
      "model_module_version": "1.2.0",
      "model_name": "LayoutModel",
      "state": {}
     },
     "0b42a2b09e5143d88eeb634c5e292c49": {
      "model_module": "@jupyter-widgets/controls",
      "model_module_version": "1.5.0",
      "model_name": "ProgressStyleModel",
      "state": {
       "description_width": "initial"
      }
     },
     "0b7f57a810a24d748b7a7e66fe03b38c": {
      "model_module": "@jupyter-widgets/controls",
      "model_module_version": "1.5.0",
      "model_name": "HTMLModel",
      "state": {
       "layout": "IPY_MODEL_8acf16a103ea4c62afe6e7fb4d3380b1",
       "style": "IPY_MODEL_301b46ebf95d4929bab4b08c3ceab2b2",
       "value": " 493/493 [46:13&lt;00:00,  5.63s/it]"
      }
     },
     "0ba95454107c4aee9ac7307bb34ebe53": {
      "model_module": "@jupyter-widgets/controls",
      "model_module_version": "1.5.0",
      "model_name": "HBoxModel",
      "state": {
       "children": [
        "IPY_MODEL_faed8d5ce11049e7b6960b9ab3488445",
        "IPY_MODEL_5ae8c3f7ac2c42f6b328c89dea28ad3b"
       ],
       "layout": "IPY_MODEL_00102b9a53c24fcc8bd98b7bd0f0fb80"
      }
     },
     "0bd41f29a21a482a94f561376368137a": {
      "model_module": "@jupyter-widgets/controls",
      "model_module_version": "1.5.0",
      "model_name": "DescriptionStyleModel",
      "state": {
       "description_width": ""
      }
     },
     "0bfe22b0fb5c443a9937537ee3d711d0": {
      "model_module": "@jupyter-widgets/controls",
      "model_module_version": "1.5.0",
      "model_name": "HBoxModel",
      "state": {
       "children": [
        "IPY_MODEL_fc99aa27a2d24420b8f179c8b2b531d1",
        "IPY_MODEL_daf1616578cb4994b35e24662a262274"
       ],
       "layout": "IPY_MODEL_95dc701b6185429a95e3b1cfdff2ebfe"
      }
     },
     "0c49fcc0ae3844de8224c3f4ef98a22b": {
      "model_module": "@jupyter-widgets/controls",
      "model_module_version": "1.5.0",
      "model_name": "ProgressStyleModel",
      "state": {
       "description_width": "initial"
      }
     },
     "0c785521adf148adb49be152fb3c000a": {
      "model_module": "@jupyter-widgets/base",
      "model_module_version": "1.2.0",
      "model_name": "LayoutModel",
      "state": {}
     },
     "0c9b6f86e14347b2a282ad7c5c4230c4": {
      "model_module": "@jupyter-widgets/base",
      "model_module_version": "1.2.0",
      "model_name": "LayoutModel",
      "state": {}
     },
     "0d024ef616904e238bd75bfb9a72566a": {
      "model_module": "@jupyter-widgets/controls",
      "model_module_version": "1.5.0",
      "model_name": "FloatProgressModel",
      "state": {
       "bar_style": "success",
       "description": "[1] 12/12(val  ): 100%",
       "layout": "IPY_MODEL_0c785521adf148adb49be152fb3c000a",
       "max": 165,
       "style": "IPY_MODEL_a51a19d1baf14a78abfd01be160b62bd",
       "value": 165
      }
     },
     "0d53c26df3b14f5f99b07f740b2c02b6": {
      "model_module": "@jupyter-widgets/controls",
      "model_module_version": "1.5.0",
      "model_name": "HBoxModel",
      "state": {
       "children": [
        "IPY_MODEL_6d99dad05f084421b06ae219d2f4f805",
        "IPY_MODEL_a0f59730d8a04220a5500ccc56881021"
       ],
       "layout": "IPY_MODEL_592cdb7f19a44838b51c11802a6d7343"
      }
     },
     "0d62f601f205405589850a8c5c1d8647": {
      "model_module": "@jupyter-widgets/controls",
      "model_module_version": "1.5.0",
      "model_name": "HBoxModel",
      "state": {
       "children": [
        "IPY_MODEL_083ddc8d503d45568c778b60678a89a1",
        "IPY_MODEL_89293c063af6444ab54706814390ef64"
       ],
       "layout": "IPY_MODEL_a15e997d5f724821aa9fc9ae7cfd38a8"
      }
     },
     "0e55241beb104cd18b87e3cfb8dbe64d": {
      "model_module": "@jupyter-widgets/base",
      "model_module_version": "1.2.0",
      "model_name": "LayoutModel",
      "state": {}
     },
     "0f320048174d443eb6c3aa8d28c799b7": {
      "model_module": "@jupyter-widgets/base",
      "model_module_version": "1.2.0",
      "model_name": "LayoutModel",
      "state": {}
     },
     "0fb40b40548749eca97160fb1b64bce3": {
      "model_module": "@jupyter-widgets/controls",
      "model_module_version": "1.5.0",
      "model_name": "HTMLModel",
      "state": {
       "layout": "IPY_MODEL_5df24ffe25994012a5dd918be264c2dd",
       "style": "IPY_MODEL_e2acb641901c4ece9b2c0bb9e33cf31c",
       "value": " 165/165 [12:03&lt;00:00,  4.39s/it]"
      }
     },
     "0fc9013bf5624f77b7b977a490453369": {
      "model_module": "@jupyter-widgets/base",
      "model_module_version": "1.2.0",
      "model_name": "LayoutModel",
      "state": {}
     },
     "0fdb4bf396f240c8afc35283c756ce3b": {
      "model_module": "@jupyter-widgets/controls",
      "model_module_version": "1.5.0",
      "model_name": "HBoxModel",
      "state": {
       "children": [
        "IPY_MODEL_c1cb0ad97eaa4806976c95c697d76ec1",
        "IPY_MODEL_11341b2896ec4741b87153b456b9b1b4"
       ],
       "layout": "IPY_MODEL_be5adfc4a84a45d68a4eefcdbacf2c90"
      }
     },
     "1045ef2f10ec4edf863376a6ed4e7e10": {
      "model_module": "@jupyter-widgets/controls",
      "model_module_version": "1.5.0",
      "model_name": "HBoxModel",
      "state": {
       "children": [
        "IPY_MODEL_82d8e6b524b6467bb56d1edd6006e0e5",
        "IPY_MODEL_513b05d51b6143009a188baa8815aed4"
       ],
       "layout": "IPY_MODEL_49ff4686a7aa402f8722ff86ec599256"
      }
     },
     "10aaa45745b74086ad16d16d9e05036a": {
      "model_module": "@jupyter-widgets/base",
      "model_module_version": "1.2.0",
      "model_name": "LayoutModel",
      "state": {}
     },
     "10aea329004a4a329b1e4fda8898b563": {
      "model_module": "@jupyter-widgets/controls",
      "model_module_version": "1.5.0",
      "model_name": "ProgressStyleModel",
      "state": {
       "description_width": "initial"
      }
     },
     "10b6aa08edc64bf1af626a42d496a7df": {
      "model_module": "@jupyter-widgets/controls",
      "model_module_version": "1.5.0",
      "model_name": "DescriptionStyleModel",
      "state": {
       "description_width": ""
      }
     },
     "111d8204ec284b5287763c0b62b49456": {
      "model_module": "@jupyter-widgets/controls",
      "model_module_version": "1.5.0",
      "model_name": "HBoxModel",
      "state": {
       "children": [
        "IPY_MODEL_cef6e57e31f94f5d971207955e0c7632",
        "IPY_MODEL_e7c025e27f354cb1822f14c1860325f6"
       ],
       "layout": "IPY_MODEL_569e6ae0bc3f417d9e9e09bc9a37efe5"
      }
     },
     "11341b2896ec4741b87153b456b9b1b4": {
      "model_module": "@jupyter-widgets/controls",
      "model_module_version": "1.5.0",
      "model_name": "HTMLModel",
      "state": {
       "layout": "IPY_MODEL_1aee7b23afb049f980a0fc87472b06a7",
       "style": "IPY_MODEL_7ebac84f609945af9733040bb8f24f37",
       "value": " 165/165 [46:16&lt;00:00, 16.83s/it]"
      }
     },
     "113b4e9bb0ef4f3da07fd3528c09550c": {
      "model_module": "@jupyter-widgets/controls",
      "model_module_version": "1.5.0",
      "model_name": "HTMLModel",
      "state": {
       "layout": "IPY_MODEL_efdb7cddb8064edab9dd37e90cfef6fe",
       "style": "IPY_MODEL_36100b31153940099d729d3afb418a27",
       "value": " 165/165 [12:01&lt;00:00,  4.37s/it]"
      }
     },
     "1144a17858d841d8ae400b693105a898": {
      "model_module": "@jupyter-widgets/controls",
      "model_module_version": "1.5.0",
      "model_name": "HTMLModel",
      "state": {
       "layout": "IPY_MODEL_1f3c6d9d995748919e601e2a8a8712a5",
       "style": "IPY_MODEL_ad1dbf749fba4546a63570e7ff4e85b7",
       "value": " 165/165 [10:55&lt;00:00,  3.97s/it]"
      }
     },
     "11cd45c93c72445ca7d7567862c6db63": {
      "model_module": "@jupyter-widgets/base",
      "model_module_version": "1.2.0",
      "model_name": "LayoutModel",
      "state": {}
     },
     "11d68546c82742eeb7ef1ff254e433dc": {
      "model_module": "@jupyter-widgets/controls",
      "model_module_version": "1.5.0",
      "model_name": "HTMLModel",
      "state": {
       "layout": "IPY_MODEL_4e7d52a941284fe69e197339a27b5b74",
       "style": "IPY_MODEL_af9c17f15e954d8c824d10b7ee8cba97",
       "value": " 165/165 [11:36&lt;00:00,  4.22s/it]"
      }
     },
     "11f7b67291434bd58a9f8ada8235ab01": {
      "model_module": "@jupyter-widgets/controls",
      "model_module_version": "1.5.0",
      "model_name": "FloatProgressModel",
      "state": {
       "bar_style": "success",
       "description": "[0] 3/12(val  ): 100%",
       "layout": "IPY_MODEL_ded75e50c58a4561aa880f07fc151778",
       "max": 165,
       "style": "IPY_MODEL_42808213da3a4a07b2e05e58ff78d105",
       "value": 165
      }
     },
     "12213ce99bd046b6a9120353106530f5": {
      "model_module": "@jupyter-widgets/controls",
      "model_module_version": "1.5.0",
      "model_name": "HBoxModel",
      "state": {
       "children": [
        "IPY_MODEL_cda50cf6b6d34599ae0394e40b110d52",
        "IPY_MODEL_9c4b0a07afe5453588717853ec17e9de"
       ],
       "layout": "IPY_MODEL_17930854ae724c048d2a653053d69372"
      }
     },
     "12325789a5c848bb9b5926cf44afdeaa": {
      "model_module": "@jupyter-widgets/base",
      "model_module_version": "1.2.0",
      "model_name": "LayoutModel",
      "state": {}
     },
     "1266fff0928645e9a773e03b1a19c915": {
      "model_module": "@jupyter-widgets/base",
      "model_module_version": "1.2.0",
      "model_name": "LayoutModel",
      "state": {}
     },
     "1288ee491fbe4e1daeb6c8e499e7ec1a": {
      "model_module": "@jupyter-widgets/controls",
      "model_module_version": "1.5.0",
      "model_name": "DescriptionStyleModel",
      "state": {
       "description_width": ""
      }
     },
     "12892ab72db54ebdae9523d196366cd8": {
      "model_module": "@jupyter-widgets/base",
      "model_module_version": "1.2.0",
      "model_name": "LayoutModel",
      "state": {}
     },
     "12afd2e7ebbe487e8afd535c89ceb6ac": {
      "model_module": "@jupyter-widgets/base",
      "model_module_version": "1.2.0",
      "model_name": "LayoutModel",
      "state": {}
     },
     "12d0cf91844d440281e7d1a323d2d625": {
      "model_module": "@jupyter-widgets/base",
      "model_module_version": "1.2.0",
      "model_name": "LayoutModel",
      "state": {}
     },
     "131a6926f98343f6ad0e27b675203944": {
      "model_module": "@jupyter-widgets/base",
      "model_module_version": "1.2.0",
      "model_name": "LayoutModel",
      "state": {}
     },
     "1392193f985c4d81a29849e28bed96e1": {
      "model_module": "@jupyter-widgets/controls",
      "model_module_version": "1.5.0",
      "model_name": "DescriptionStyleModel",
      "state": {
       "description_width": ""
      }
     },
     "13b2ca987f784ac9bc05fcb8586b90ab": {
      "model_module": "@jupyter-widgets/base",
      "model_module_version": "1.2.0",
      "model_name": "LayoutModel",
      "state": {}
     },
     "140591faf3ff42a3abb4f334cc44fdd3": {
      "model_module": "@jupyter-widgets/base",
      "model_module_version": "1.2.0",
      "model_name": "LayoutModel",
      "state": {}
     },
     "14326e4b661a41519e90439ce9b37060": {
      "model_module": "@jupyter-widgets/controls",
      "model_module_version": "1.5.0",
      "model_name": "ProgressStyleModel",
      "state": {
       "description_width": "initial"
      }
     },
     "14a1f478b8ce4c8f9444dd50a0a875fc": {
      "model_module": "@jupyter-widgets/controls",
      "model_module_version": "1.5.0",
      "model_name": "FloatProgressModel",
      "state": {
       "bar_style": "danger",
       "description": "[1] 1/12(train):   0%",
       "layout": "IPY_MODEL_946ea37636df45e490e4c3ca0f88b720",
       "max": 493,
       "style": "IPY_MODEL_9a69d105ec144dfe89668da1667c437f"
      }
     },
     "150994d4c9ce4f54b0bdc23b36b7b753": {
      "model_module": "@jupyter-widgets/base",
      "model_module_version": "1.2.0",
      "model_name": "LayoutModel",
      "state": {}
     },
     "150a861031e24969b3f968298cfbfe25": {
      "model_module": "@jupyter-widgets/controls",
      "model_module_version": "1.5.0",
      "model_name": "DescriptionStyleModel",
      "state": {
       "description_width": ""
      }
     },
     "154d81bd5497400e905218cf8d5f68d5": {
      "model_module": "@jupyter-widgets/base",
      "model_module_version": "1.2.0",
      "model_name": "LayoutModel",
      "state": {}
     },
     "157be44435f2467eb63027395ed28852": {
      "model_module": "@jupyter-widgets/controls",
      "model_module_version": "1.5.0",
      "model_name": "ProgressStyleModel",
      "state": {
       "description_width": "initial"
      }
     },
     "15c66991191345918c0d2d5f175b3533": {
      "model_module": "@jupyter-widgets/controls",
      "model_module_version": "1.5.0",
      "model_name": "DescriptionStyleModel",
      "state": {
       "description_width": ""
      }
     },
     "15cfdf13f5cd45128da4bf6097539b47": {
      "model_module": "@jupyter-widgets/base",
      "model_module_version": "1.2.0",
      "model_name": "LayoutModel",
      "state": {}
     },
     "15dc1b677b9948a9b7b4da717fdcfb1c": {
      "model_module": "@jupyter-widgets/controls",
      "model_module_version": "1.5.0",
      "model_name": "HBoxModel",
      "state": {
       "children": [
        "IPY_MODEL_d2acc67aee28485faeb1740903f950ff",
        "IPY_MODEL_61fccbde0e564192bfdac7bb4619e8f5"
       ],
       "layout": "IPY_MODEL_91ec18d9a09140beb41b2ddf04a77a09"
      }
     },
     "15ecf843271e4c558c5e1a896886b8c5": {
      "model_module": "@jupyter-widgets/controls",
      "model_module_version": "1.5.0",
      "model_name": "HTMLModel",
      "state": {
       "layout": "IPY_MODEL_4ab1bc4d96c945daa14a2d7f1c242484",
       "style": "IPY_MODEL_e69c013120c0407fb5290bc8d75eba64",
       "value": " 493/493 [7:35:55&lt;00:00, 55.49s/it]"
      }
     },
     "1603cba2778d4fbca74d77d31506af04": {
      "model_module": "@jupyter-widgets/controls",
      "model_module_version": "1.5.0",
      "model_name": "FloatProgressModel",
      "state": {
       "bar_style": "danger",
       "description": "[2] 1/1(train):   0%",
       "layout": "IPY_MODEL_2acf477aa8da418a88ce8d116dd817f8",
       "max": 3,
       "style": "IPY_MODEL_590a8a0c7fd14e809374eb74b9885313"
      }
     },
     "16339b55e33141468212a6c087f4262f": {
      "model_module": "@jupyter-widgets/controls",
      "model_module_version": "1.5.0",
      "model_name": "DescriptionStyleModel",
      "state": {
       "description_width": ""
      }
     },
     "164dfb7728fd43a98b570a8753519f15": {
      "model_module": "@jupyter-widgets/controls",
      "model_module_version": "1.5.0",
      "model_name": "FloatProgressModel",
      "state": {
       "bar_style": "danger",
       "description": "[0] 1/12(train):   0%",
       "layout": "IPY_MODEL_e50cc41af952499abfbc5a75367ca1f2",
       "max": 493,
       "style": "IPY_MODEL_3ba748d394d04456893e2db6b2428848",
       "value": 1
      }
     },
     "166518a5db824d1d96a21feba6be9e1e": {
      "model_module": "@jupyter-widgets/controls",
      "model_module_version": "1.5.0",
      "model_name": "DescriptionStyleModel",
      "state": {
       "description_width": ""
      }
     },
     "166f0adb72114bb99feab23b6c483f41": {
      "model_module": "@jupyter-widgets/controls",
      "model_module_version": "1.5.0",
      "model_name": "ProgressStyleModel",
      "state": {
       "description_width": "initial"
      }
     },
     "16ab80916c0140d18f9c5badd15d2fd9": {
      "model_module": "@jupyter-widgets/controls",
      "model_module_version": "1.5.0",
      "model_name": "DescriptionStyleModel",
      "state": {
       "description_width": ""
      }
     },
     "172b7e2da8c64cd386384e5d54429ac6": {
      "model_module": "@jupyter-widgets/base",
      "model_module_version": "1.2.0",
      "model_name": "LayoutModel",
      "state": {}
     },
     "1731552547874d4fa46a7228fa763c00": {
      "model_module": "@jupyter-widgets/base",
      "model_module_version": "1.2.0",
      "model_name": "LayoutModel",
      "state": {}
     },
     "174ba8cfdbf046cd88821f53a656b263": {
      "model_module": "@jupyter-widgets/controls",
      "model_module_version": "1.5.0",
      "model_name": "DescriptionStyleModel",
      "state": {
       "description_width": ""
      }
     },
     "17930854ae724c048d2a653053d69372": {
      "model_module": "@jupyter-widgets/base",
      "model_module_version": "1.2.0",
      "model_name": "LayoutModel",
      "state": {}
     },
     "17c8ddc65c6347b59bdfb6c19d6c7a04": {
      "model_module": "@jupyter-widgets/controls",
      "model_module_version": "1.5.0",
      "model_name": "ProgressStyleModel",
      "state": {
       "description_width": "initial"
      }
     },
     "1843df92b9b64aa0af3295d947d5b231": {
      "model_module": "@jupyter-widgets/controls",
      "model_module_version": "1.5.0",
      "model_name": "HBoxModel",
      "state": {
       "children": [
        "IPY_MODEL_d4a7f2274ad8457a99ff3f73b129f028",
        "IPY_MODEL_9b3e6545036949d0a62aa255598c9818"
       ],
       "layout": "IPY_MODEL_2604f09624e5483b92f9fb7ae190029e"
      }
     },
     "1849867023b849ce83093b7763b447be": {
      "model_module": "@jupyter-widgets/controls",
      "model_module_version": "1.5.0",
      "model_name": "HTMLModel",
      "state": {
       "layout": "IPY_MODEL_0006a2563aa243c6a73f0dcd03e0374b",
       "style": "IPY_MODEL_47b1e2dc02444d9d8fe979725c433372",
       "value": " 1/1 [00:03&lt;00:00,  3.98s/it]"
      }
     },
     "185c55772a73474cb1db9ac3d1b42f73": {
      "model_module": "@jupyter-widgets/controls",
      "model_module_version": "1.5.0",
      "model_name": "DescriptionStyleModel",
      "state": {
       "description_width": ""
      }
     },
     "197a2de079ed4c63b46ae08a0b2f0134": {
      "model_module": "@jupyter-widgets/base",
      "model_module_version": "1.2.0",
      "model_name": "LayoutModel",
      "state": {}
     },
     "198d294fd2f84f2a985d228be4797e24": {
      "model_module": "@jupyter-widgets/base",
      "model_module_version": "1.2.0",
      "model_name": "LayoutModel",
      "state": {}
     },
     "19a18d3b02d745e9bba28bd12d67165d": {
      "model_module": "@jupyter-widgets/base",
      "model_module_version": "1.2.0",
      "model_name": "LayoutModel",
      "state": {}
     },
     "19b01873ad80487980d3196bebb0c0da": {
      "model_module": "@jupyter-widgets/controls",
      "model_module_version": "1.5.0",
      "model_name": "HTMLModel",
      "state": {
       "layout": "IPY_MODEL_1a5009249c324c63b747a6f536dc4dcb",
       "style": "IPY_MODEL_f1bca7e1d0d24d17bd55bc01382899ef",
       "value": " 165/165 [6:14:59&lt;00:00, 136.36s/it]"
      }
     },
     "19c50be148594105a81a734814953a83": {
      "model_module": "@jupyter-widgets/base",
      "model_module_version": "1.2.0",
      "model_name": "LayoutModel",
      "state": {}
     },
     "19da876682d143189e45b002e6f863a1": {
      "model_module": "@jupyter-widgets/controls",
      "model_module_version": "1.5.0",
      "model_name": "FloatProgressModel",
      "state": {
       "bar_style": "success",
       "description": "[1] 1/1(train): 100%",
       "layout": "IPY_MODEL_e225f2276e454b43adb35aeb17c30c3a",
       "max": 3,
       "style": "IPY_MODEL_e53473fb48d94df29e3372da7e893c83",
       "value": 3
      }
     },
     "1a5009249c324c63b747a6f536dc4dcb": {
      "model_module": "@jupyter-widgets/base",
      "model_module_version": "1.2.0",
      "model_name": "LayoutModel",
      "state": {}
     },
     "1aee7b23afb049f980a0fc87472b06a7": {
      "model_module": "@jupyter-widgets/base",
      "model_module_version": "1.2.0",
      "model_name": "LayoutModel",
      "state": {}
     },
     "1b58af8fb01a47e287d46343e428be97": {
      "model_module": "@jupyter-widgets/controls",
      "model_module_version": "1.5.0",
      "model_name": "ProgressStyleModel",
      "state": {
       "description_width": "initial"
      }
     },
     "1b811871f7bf4eb491fbcf8471dd4d54": {
      "model_module": "@jupyter-widgets/controls",
      "model_module_version": "1.5.0",
      "model_name": "ProgressStyleModel",
      "state": {
       "description_width": "initial"
      }
     },
     "1be40c2e29eb476bb4696da1f4d1aa48": {
      "model_module": "@jupyter-widgets/controls",
      "model_module_version": "1.5.0",
      "model_name": "HBoxModel",
      "state": {
       "children": [
        "IPY_MODEL_fc7a65b3a92442659f41be93b0ad4727",
        "IPY_MODEL_05db2d74956d4cd78ea3ac1fb9b749a3"
       ],
       "layout": "IPY_MODEL_e7b4093017c0417c9cce44bdbff6d0f7"
      }
     },
     "1c3e1906fe9a426a99c50ed5849abf3b": {
      "model_module": "@jupyter-widgets/controls",
      "model_module_version": "1.5.0",
      "model_name": "DescriptionStyleModel",
      "state": {
       "description_width": ""
      }
     },
     "1c83ef53b7fb4e76857d7c5ff478f028": {
      "model_module": "@jupyter-widgets/base",
      "model_module_version": "1.2.0",
      "model_name": "LayoutModel",
      "state": {}
     },
     "1caca77b40724dacb8d61829dd55dc05": {
      "model_module": "@jupyter-widgets/controls",
      "model_module_version": "1.5.0",
      "model_name": "HTMLModel",
      "state": {
       "layout": "IPY_MODEL_ec016bc3875947fe955e37659500f1ec",
       "style": "IPY_MODEL_1392193f985c4d81a29849e28bed96e1",
       "value": " 493/493 [46:29&lt;00:00,  5.66s/it]"
      }
     },
     "1cb1d28775ff472ab62fb5945c25b291": {
      "model_module": "@jupyter-widgets/base",
      "model_module_version": "1.2.0",
      "model_name": "LayoutModel",
      "state": {}
     },
     "1ce54112d2af401080d3585491ab364a": {
      "model_module": "@jupyter-widgets/base",
      "model_module_version": "1.2.0",
      "model_name": "LayoutModel",
      "state": {}
     },
     "1d43056bbbfc40b29851e584ea867753": {
      "model_module": "@jupyter-widgets/controls",
      "model_module_version": "1.5.0",
      "model_name": "HBoxModel",
      "state": {
       "children": [
        "IPY_MODEL_09dddd602c3141faadf06f210ea1e632",
        "IPY_MODEL_0816a5deb4624155a49d1fda6a242149"
       ],
       "layout": "IPY_MODEL_8ccc504b6a7748d99820eca53c5d863a"
      }
     },
     "1d64d502e84f454b8ad9611efc4f6afd": {
      "model_module": "@jupyter-widgets/controls",
      "model_module_version": "1.5.0",
      "model_name": "FloatProgressModel",
      "state": {
       "bar_style": "danger",
       "description": "[3] 1/12(train):   0%",
       "layout": "IPY_MODEL_140591faf3ff42a3abb4f334cc44fdd3",
       "max": 493,
       "style": "IPY_MODEL_d2fa67bc47284099baa100433ee02c74",
       "value": 1
      }
     },
     "1d66fa4c1a7346d6953d42f0d46b2c84": {
      "model_module": "@jupyter-widgets/controls",
      "model_module_version": "1.5.0",
      "model_name": "HBoxModel",
      "state": {
       "children": [
        "IPY_MODEL_1f09ce94fb8a414e88fcfc48abdc00b4",
        "IPY_MODEL_ef68c9cc46b149549beecbfc42be47a7"
       ],
       "layout": "IPY_MODEL_862ed5d0721f4be3a94b504d86c005bb"
      }
     },
     "1da6a4defea046749ce64dfdd851b916": {
      "model_module": "@jupyter-widgets/base",
      "model_module_version": "1.2.0",
      "model_name": "LayoutModel",
      "state": {}
     },
     "1eb3dfe84b784aa982744ee114af2b48": {
      "model_module": "@jupyter-widgets/controls",
      "model_module_version": "1.5.0",
      "model_name": "HTMLModel",
      "state": {
       "layout": "IPY_MODEL_75cb28058be84f44a366d2e388b27660",
       "style": "IPY_MODEL_37df64425be246e2b944b48b790f6cc0",
       "value": " 493/493 [6:04:49&lt;00:00, 44.40s/it]"
      }
     },
     "1eeadae813f64938b684dcc28264cea0": {
      "model_module": "@jupyter-widgets/base",
      "model_module_version": "1.2.0",
      "model_name": "LayoutModel",
      "state": {}
     },
     "1f0951dabf2c4ed2a31f55c369c8b470": {
      "model_module": "@jupyter-widgets/controls",
      "model_module_version": "1.5.0",
      "model_name": "HBoxModel",
      "state": {
       "children": [
        "IPY_MODEL_1d64d502e84f454b8ad9611efc4f6afd",
        "IPY_MODEL_85f212d2f2db43ab9dfb107a98bf1c16"
       ],
       "layout": "IPY_MODEL_f91703864b7c4d4e8028683ec0cb646a"
      }
     },
     "1f09ce94fb8a414e88fcfc48abdc00b4": {
      "model_module": "@jupyter-widgets/controls",
      "model_module_version": "1.5.0",
      "model_name": "FloatProgressModel",
      "state": {
       "bar_style": "success",
       "description": "[2] 8/12(train): 100%",
       "layout": "IPY_MODEL_b4623d97e304470ebaa9be5b55e964c1",
       "max": 493,
       "style": "IPY_MODEL_0a5363c4e0fb40c4be99467e811825de",
       "value": 493
      }
     },
     "1f3c6d9d995748919e601e2a8a8712a5": {
      "model_module": "@jupyter-widgets/base",
      "model_module_version": "1.2.0",
      "model_name": "LayoutModel",
      "state": {}
     },
     "1f4dd7bec8744be88318ef1a0b16ca17": {
      "model_module": "@jupyter-widgets/controls",
      "model_module_version": "1.5.0",
      "model_name": "FloatProgressModel",
      "state": {
       "bar_style": "success",
       "description": "[0] 7/12(val  ): 100%",
       "layout": "IPY_MODEL_2ea0991a87f4448eac9b43479e3c4489",
       "max": 165,
       "style": "IPY_MODEL_fc0c39371caf4ba5854c1ee9cbe12f8c",
       "value": 165
      }
     },
     "208b504ed620484bbbb7de3f9b686f1d": {
      "model_module": "@jupyter-widgets/base",
      "model_module_version": "1.2.0",
      "model_name": "LayoutModel",
      "state": {}
     },
     "208f4f492e484fd8bf5bfecb2252c634": {
      "model_module": "@jupyter-widgets/controls",
      "model_module_version": "1.5.0",
      "model_name": "HBoxModel",
      "state": {
       "children": [
        "IPY_MODEL_3b7d4593b51944458d9e1ce531456a60",
        "IPY_MODEL_8cddfcf93a2647edacffaedeab19aae8"
       ],
       "layout": "IPY_MODEL_6be1d188632c452c9568a12aa92ae515"
      }
     },
     "20960e11afff4aaa96cc920e57caacca": {
      "model_module": "@jupyter-widgets/base",
      "model_module_version": "1.2.0",
      "model_name": "LayoutModel",
      "state": {}
     },
     "20dcc37db29947879ad58bdc9d791628": {
      "model_module": "@jupyter-widgets/controls",
      "model_module_version": "1.5.0",
      "model_name": "HBoxModel",
      "state": {
       "children": [
        "IPY_MODEL_8a2968128a214c3c806d33ee140ec240",
        "IPY_MODEL_7b4ca315ae3e415489053149a3fada92"
       ],
       "layout": "IPY_MODEL_c069a6d77e7f43c8983fdd2e48833007"
      }
     },
     "21e26e00c482475cb8228ee2aa61ee99": {
      "model_module": "@jupyter-widgets/base",
      "model_module_version": "1.2.0",
      "model_name": "LayoutModel",
      "state": {}
     },
     "2218c328a45140598e37483ebc06c963": {
      "model_module": "@jupyter-widgets/controls",
      "model_module_version": "1.5.0",
      "model_name": "ProgressStyleModel",
      "state": {
       "description_width": "initial"
      }
     },
     "2256c87155f44494ad1bd7dfceaff515": {
      "model_module": "@jupyter-widgets/controls",
      "model_module_version": "1.5.0",
      "model_name": "ProgressStyleModel",
      "state": {
       "description_width": "initial"
      }
     },
     "2277fc5783f2464a8e5a3ad634251590": {
      "model_module": "@jupyter-widgets/base",
      "model_module_version": "1.2.0",
      "model_name": "LayoutModel",
      "state": {}
     },
     "22d845b4496a42b48d21d5365603306b": {
      "model_module": "@jupyter-widgets/controls",
      "model_module_version": "1.5.0",
      "model_name": "DescriptionStyleModel",
      "state": {
       "description_width": ""
      }
     },
     "2305516739a64ae2937931cb19783ef9": {
      "model_module": "@jupyter-widgets/controls",
      "model_module_version": "1.5.0",
      "model_name": "HBoxModel",
      "state": {
       "children": [
        "IPY_MODEL_fd5f8115c7b24a9e903d6c1d85906d32",
        "IPY_MODEL_a55a7e35379149e78b06d63c6dec2dc1"
       ],
       "layout": "IPY_MODEL_4b359765c1214ea1866c5a7326aeda2b"
      }
     },
     "236b01c859fb4bf3be780d3f5800bf2b": {
      "model_module": "@jupyter-widgets/controls",
      "model_module_version": "1.5.0",
      "model_name": "HBoxModel",
      "state": {
       "children": [
        "IPY_MODEL_dc69b37499f1489896faf52e73b41755",
        "IPY_MODEL_0b7f57a810a24d748b7a7e66fe03b38c"
       ],
       "layout": "IPY_MODEL_628582e6e4624f77b12a55b28aecf1ee"
      }
     },
     "23ee7ad201314955a9056d3b9854acfe": {
      "model_module": "@jupyter-widgets/base",
      "model_module_version": "1.2.0",
      "model_name": "LayoutModel",
      "state": {}
     },
     "23f4ff2d50ed449e9fbffecf353ed9c3": {
      "model_module": "@jupyter-widgets/controls",
      "model_module_version": "1.5.0",
      "model_name": "DescriptionStyleModel",
      "state": {
       "description_width": ""
      }
     },
     "23f5c0e1fb4945cfbbe2d2a65e05b714": {
      "model_module": "@jupyter-widgets/controls",
      "model_module_version": "1.5.0",
      "model_name": "DescriptionStyleModel",
      "state": {
       "description_width": ""
      }
     },
     "24f32ed2c181407585c9a7fa45b3c3a5": {
      "model_module": "@jupyter-widgets/controls",
      "model_module_version": "1.5.0",
      "model_name": "ProgressStyleModel",
      "state": {
       "description_width": "initial"
      }
     },
     "2521bb65c16043fc9a3adcda51d81de1": {
      "model_module": "@jupyter-widgets/controls",
      "model_module_version": "1.5.0",
      "model_name": "HBoxModel",
      "state": {
       "children": [
        "IPY_MODEL_dbc9699d784448bd82168cf96ab1968e",
        "IPY_MODEL_bb9fc92787674b018cd7dfa2a863f96f"
       ],
       "layout": "IPY_MODEL_03449136f215422cb9434c4be9f2ad88"
      }
     },
     "25847e1aaa764a8eae7792776c01c351": {
      "model_module": "@jupyter-widgets/controls",
      "model_module_version": "1.5.0",
      "model_name": "HBoxModel",
      "state": {
       "children": [
        "IPY_MODEL_6ad7250b1d3d4e60b7152cee41320b4d",
        "IPY_MODEL_7dec41afef524132a5f0d6bd43f3159c"
       ],
       "layout": "IPY_MODEL_44c334c6d6524fd7b97bb17f506e726e"
      }
     },
     "25875f2a743045878079ffe90004904b": {
      "model_module": "@jupyter-widgets/controls",
      "model_module_version": "1.5.0",
      "model_name": "FloatProgressModel",
      "state": {
       "bar_style": "success",
       "description": "[0] 5/12(train): 100%",
       "layout": "IPY_MODEL_7d9801656335475290bf29687b59a015",
       "max": 493,
       "style": "IPY_MODEL_1b58af8fb01a47e287d46343e428be97",
       "value": 493
      }
     },
     "25ee3ba956524c5e8c126417f9756d0b": {
      "model_module": "@jupyter-widgets/controls",
      "model_module_version": "1.5.0",
      "model_name": "FloatProgressModel",
      "state": {
       "bar_style": "success",
       "description": "[3] 12/12(train): 100%",
       "layout": "IPY_MODEL_82c227bd1abd461489f70b15b0561c9b",
       "max": 493,
       "style": "IPY_MODEL_d88452c60157460e8201b3cd90c83e09",
       "value": 493
      }
     },
     "2604f09624e5483b92f9fb7ae190029e": {
      "model_module": "@jupyter-widgets/base",
      "model_module_version": "1.2.0",
      "model_name": "LayoutModel",
      "state": {}
     },
     "263816217fda4e57b53dfa8844ce7088": {
      "model_module": "@jupyter-widgets/base",
      "model_module_version": "1.2.0",
      "model_name": "LayoutModel",
      "state": {}
     },
     "26906c89dad042a1b535d567329906ec": {
      "model_module": "@jupyter-widgets/controls",
      "model_module_version": "1.5.0",
      "model_name": "FloatProgressModel",
      "state": {
       "bar_style": "success",
       "description": "[2] 10/12(val  ): 100%",
       "layout": "IPY_MODEL_bb2fb1258fb44d69a9db2051b48a11ee",
       "max": 165,
       "style": "IPY_MODEL_ccf6b676a5f740d9a3a3186847238f5e",
       "value": 165
      }
     },
     "26b2e73f9c0b4efaac1ed88c7482d518": {
      "model_module": "@jupyter-widgets/controls",
      "model_module_version": "1.5.0",
      "model_name": "HTMLModel",
      "state": {
       "layout": "IPY_MODEL_ed6892504839420f939625a233c7ee65",
       "style": "IPY_MODEL_984668c379b44fdbab3596a71454a59a",
       "value": " 0/3 [00:00&lt;?, ?it/s]"
      }
     },
     "26f9472590844df8ac4a167060ff4693": {
      "model_module": "@jupyter-widgets/controls",
      "model_module_version": "1.5.0",
      "model_name": "HBoxModel",
      "state": {
       "children": [
        "IPY_MODEL_3fa08916560c4d5a95ac3efadf4abf89",
        "IPY_MODEL_e772b53c2d6d427d893a207cedea8eab"
       ],
       "layout": "IPY_MODEL_4c4baa57fafa4dec98377b253068e458"
      }
     },
     "27bcf115dabc4e118981f6e650070060": {
      "model_module": "@jupyter-widgets/base",
      "model_module_version": "1.2.0",
      "model_name": "LayoutModel",
      "state": {}
     },
     "27f2ab6a86df44e1b9584f33203dbd51": {
      "model_module": "@jupyter-widgets/controls",
      "model_module_version": "1.5.0",
      "model_name": "HBoxModel",
      "state": {
       "children": [
        "IPY_MODEL_333481709a0a4ff08a3e3523504a1cef",
        "IPY_MODEL_b0af5fd22dcb4627a8b44727e418fde2"
       ],
       "layout": "IPY_MODEL_9525321056464c9d9d67d5900d9341ba"
      }
     },
     "28568a10190440d6b4e33bfa6a91663b": {
      "model_module": "@jupyter-widgets/base",
      "model_module_version": "1.2.0",
      "model_name": "LayoutModel",
      "state": {}
     },
     "289846d21bba40dcb13feacaa9d91c0f": {
      "model_module": "@jupyter-widgets/base",
      "model_module_version": "1.2.0",
      "model_name": "LayoutModel",
      "state": {}
     },
     "291f3531307e4f5fb6a207f806458c61": {
      "model_module": "@jupyter-widgets/controls",
      "model_module_version": "1.5.0",
      "model_name": "ProgressStyleModel",
      "state": {
       "description_width": "initial"
      }
     },
     "2989397da3e640b192ffad125eb2a552": {
      "model_module": "@jupyter-widgets/base",
      "model_module_version": "1.2.0",
      "model_name": "LayoutModel",
      "state": {}
     },
     "299463d9907d436b8a4f217b040fa231": {
      "model_module": "@jupyter-widgets/base",
      "model_module_version": "1.2.0",
      "model_name": "LayoutModel",
      "state": {}
     },
     "29c6866697dd48f0b13383ab0de992bb": {
      "model_module": "@jupyter-widgets/base",
      "model_module_version": "1.2.0",
      "model_name": "LayoutModel",
      "state": {}
     },
     "29daea28b9c8486d99caaf8a1d3c2aae": {
      "model_module": "@jupyter-widgets/base",
      "model_module_version": "1.2.0",
      "model_name": "LayoutModel",
      "state": {}
     },
     "2a1fff532b73436ba75ee11984707149": {
      "model_module": "@jupyter-widgets/controls",
      "model_module_version": "1.5.0",
      "model_name": "DescriptionStyleModel",
      "state": {
       "description_width": ""
      }
     },
     "2a96f90af8094f8283889ad0cfb8e7ab": {
      "model_module": "@jupyter-widgets/base",
      "model_module_version": "1.2.0",
      "model_name": "LayoutModel",
      "state": {}
     },
     "2acf477aa8da418a88ce8d116dd817f8": {
      "model_module": "@jupyter-widgets/base",
      "model_module_version": "1.2.0",
      "model_name": "LayoutModel",
      "state": {}
     },
     "2b43fcbe3af745918be2ad9fc6a5a149": {
      "model_module": "@jupyter-widgets/controls",
      "model_module_version": "1.5.0",
      "model_name": "HBoxModel",
      "state": {
       "children": [
        "IPY_MODEL_7a0d3a8ceabc4720aff703d3bf0d7909",
        "IPY_MODEL_74f2d01e6d8244b4bdc08f19c14297ae"
       ],
       "layout": "IPY_MODEL_536d7a52aa0a4c82bb80c7970af92acd"
      }
     },
     "2b50124c66c040a0952b1e02f0517afd": {
      "model_module": "@jupyter-widgets/base",
      "model_module_version": "1.2.0",
      "model_name": "LayoutModel",
      "state": {}
     },
     "2b5bcf650fce419aa7cff213afa49364": {
      "model_module": "@jupyter-widgets/base",
      "model_module_version": "1.2.0",
      "model_name": "LayoutModel",
      "state": {}
     },
     "2bb8fddec64e4683833c5a07bca676f1": {
      "model_module": "@jupyter-widgets/controls",
      "model_module_version": "1.5.0",
      "model_name": "FloatProgressModel",
      "state": {
       "bar_style": "success",
       "description": "[1] 5/12(val  ): 100%",
       "layout": "IPY_MODEL_6a7b17d6e3e344ba982b82e64a175dab",
       "max": 165,
       "style": "IPY_MODEL_ba744224c2aa4d59b37d284330107d4a",
       "value": 165
      }
     },
     "2bbe37f7b1994635bbf253358fccf4fa": {
      "model_module": "@jupyter-widgets/controls",
      "model_module_version": "1.5.0",
      "model_name": "DescriptionStyleModel",
      "state": {
       "description_width": ""
      }
     },
     "2bf47a985c2d4f41943954fbc5378738": {
      "model_module": "@jupyter-widgets/base",
      "model_module_version": "1.2.0",
      "model_name": "LayoutModel",
      "state": {}
     },
     "2c042b644c014dd984d7a86c2d691925": {
      "model_module": "@jupyter-widgets/base",
      "model_module_version": "1.2.0",
      "model_name": "LayoutModel",
      "state": {}
     },
     "2c0b116fdec34678abd5be5e43043cbe": {
      "model_module": "@jupyter-widgets/controls",
      "model_module_version": "1.5.0",
      "model_name": "HTMLModel",
      "state": {
       "layout": "IPY_MODEL_19a18d3b02d745e9bba28bd12d67165d",
       "style": "IPY_MODEL_99863f0e00bb4360b70ed77e29c0c2e4",
       "value": " 1/1 [00:03&lt;00:00,  4.00s/it]"
      }
     },
     "2c127e7a73be45be91dfcd162e60ba7e": {
      "model_module": "@jupyter-widgets/base",
      "model_module_version": "1.2.0",
      "model_name": "LayoutModel",
      "state": {}
     },
     "2c5e48b1cf274ec49f8353fbfaf6116d": {
      "model_module": "@jupyter-widgets/controls",
      "model_module_version": "1.5.0",
      "model_name": "HBoxModel",
      "state": {
       "children": [
        "IPY_MODEL_ea866a6df6914edc87071b14ec89611e",
        "IPY_MODEL_ebb96f0d27a64d3a9d3bfeb530070da9"
       ],
       "layout": "IPY_MODEL_e41427564acf40f1a2e54c7bdc876ca3"
      }
     },
     "2c613d7a0fe84bbd85c7f50941a379a4": {
      "model_module": "@jupyter-widgets/controls",
      "model_module_version": "1.5.0",
      "model_name": "HBoxModel",
      "state": {
       "children": [
        "IPY_MODEL_c58d70d1c32b40eb86587d9fd91ef690",
        "IPY_MODEL_ac56f5a489f94f5588613a802fa7828b"
       ],
       "layout": "IPY_MODEL_12d0cf91844d440281e7d1a323d2d625"
      }
     },
     "2c7279dc54b54f93a722f3fd92426168": {
      "model_module": "@jupyter-widgets/base",
      "model_module_version": "1.2.0",
      "model_name": "LayoutModel",
      "state": {}
     },
     "2cf0cb1cd68c4e02a29676c0a3f50c02": {
      "model_module": "@jupyter-widgets/controls",
      "model_module_version": "1.5.0",
      "model_name": "HTMLModel",
      "state": {
       "layout": "IPY_MODEL_4b1956daf49d45b4afc4d5cb5b871960",
       "style": "IPY_MODEL_174ba8cfdbf046cd88821f53a656b263",
       "value": " 165/165 [18:20&lt;00:00,  6.67s/it]"
      }
     },
     "2d872c3259d8461cb4c7fc7556a2ccbe": {
      "model_module": "@jupyter-widgets/base",
      "model_module_version": "1.2.0",
      "model_name": "LayoutModel",
      "state": {}
     },
     "2d97f707ff89433a8eecdae81156160d": {
      "model_module": "@jupyter-widgets/base",
      "model_module_version": "1.2.0",
      "model_name": "LayoutModel",
      "state": {}
     },
     "2ea0991a87f4448eac9b43479e3c4489": {
      "model_module": "@jupyter-widgets/base",
      "model_module_version": "1.2.0",
      "model_name": "LayoutModel",
      "state": {}
     },
     "2eb780a2788f45ac979c51c676fe515c": {
      "model_module": "@jupyter-widgets/controls",
      "model_module_version": "1.5.0",
      "model_name": "HBoxModel",
      "state": {
       "children": [
        "IPY_MODEL_df8105a3a12b42cea9f2e275fdffebfe",
        "IPY_MODEL_09b1bd998923488d98ee5f896d471b03"
       ],
       "layout": "IPY_MODEL_da8c6e9d540440c5aee798619419165f"
      }
     },
     "2efc0f79761b48bb90a603e7e6de9d8b": {
      "model_module": "@jupyter-widgets/controls",
      "model_module_version": "1.5.0",
      "model_name": "HTMLModel",
      "state": {
       "layout": "IPY_MODEL_5bb4a49862c94c81a8519728789d6485",
       "style": "IPY_MODEL_43337beebf614ab58ee4a281376ae406",
       "value": " 165/165 [12:41&lt;00:00,  4.62s/it]"
      }
     },
     "2efcf6d0b23b4acd882c770393e6e867": {
      "model_module": "@jupyter-widgets/controls",
      "model_module_version": "1.5.0",
      "model_name": "ProgressStyleModel",
      "state": {
       "description_width": "initial"
      }
     },
     "2f1f2fc3384542c68050e0d87aeb8dd1": {
      "model_module": "@jupyter-widgets/base",
      "model_module_version": "1.2.0",
      "model_name": "LayoutModel",
      "state": {}
     },
     "2f73f294b23c48aeaba5b27dcefdbafa": {
      "model_module": "@jupyter-widgets/controls",
      "model_module_version": "1.5.0",
      "model_name": "HBoxModel",
      "state": {
       "children": [
        "IPY_MODEL_08bf6dc70c584a9f9ef0cc236fa6774b",
        "IPY_MODEL_cadb139d436949d782530d3160840e8d"
       ],
       "layout": "IPY_MODEL_23ee7ad201314955a9056d3b9854acfe"
      }
     },
     "2f7c3c7df3b84166a1afc99340502ad8": {
      "model_module": "@jupyter-widgets/controls",
      "model_module_version": "1.5.0",
      "model_name": "HBoxModel",
      "state": {
       "children": [
        "IPY_MODEL_d1e9e35aa3bf4453b4d9d0b1097da867",
        "IPY_MODEL_5a57c41a88a547dd8b4d4b92113a7541"
       ],
       "layout": "IPY_MODEL_9e11a387f5cd4f26b05b949dc3ff3c0d"
      }
     },
     "301b46ebf95d4929bab4b08c3ceab2b2": {
      "model_module": "@jupyter-widgets/controls",
      "model_module_version": "1.5.0",
      "model_name": "DescriptionStyleModel",
      "state": {
       "description_width": ""
      }
     },
     "30b2ecb689e84612b39a1b7fd766c203": {
      "model_module": "@jupyter-widgets/base",
      "model_module_version": "1.2.0",
      "model_name": "LayoutModel",
      "state": {}
     },
     "30b8a33647c348fa9a528768ae3311cf": {
      "model_module": "@jupyter-widgets/base",
      "model_module_version": "1.2.0",
      "model_name": "LayoutModel",
      "state": {}
     },
     "30e8623e06c64774ae1b26e54b6a1e52": {
      "model_module": "@jupyter-widgets/controls",
      "model_module_version": "1.5.0",
      "model_name": "ProgressStyleModel",
      "state": {
       "description_width": "initial"
      }
     },
     "317fe3949a4b4e8fb8a6692ecea2d8e5": {
      "model_module": "@jupyter-widgets/controls",
      "model_module_version": "1.5.0",
      "model_name": "HBoxModel",
      "state": {
       "children": [
        "IPY_MODEL_ed651feea6e14d53a9479d5b356e8826",
        "IPY_MODEL_e9862609a17f4ce496dafca7d91ee9d3"
       ],
       "layout": "IPY_MODEL_19c50be148594105a81a734814953a83"
      }
     },
     "31af051d4a294c36b83a0b4c8b93a8f0": {
      "model_module": "@jupyter-widgets/controls",
      "model_module_version": "1.5.0",
      "model_name": "HBoxModel",
      "state": {
       "children": [
        "IPY_MODEL_9109b5d231e54628a976631cb119db7a",
        "IPY_MODEL_8d469102b69840929f9e4ec6e43f1a5d"
       ],
       "layout": "IPY_MODEL_979a819cd5a2494595eac721ab8327ae"
      }
     },
     "31cb6935af8f48bbb7992fe548382a5c": {
      "model_module": "@jupyter-widgets/base",
      "model_module_version": "1.2.0",
      "model_name": "LayoutModel",
      "state": {}
     },
     "31cffaa498f8495485f9cc6d9801caff": {
      "model_module": "@jupyter-widgets/base",
      "model_module_version": "1.2.0",
      "model_name": "LayoutModel",
      "state": {}
     },
     "31fbf68c7e4b4ec6a0214a2532f56713": {
      "model_module": "@jupyter-widgets/base",
      "model_module_version": "1.2.0",
      "model_name": "LayoutModel",
      "state": {}
     },
     "321c292c9c4a46c3b66eaa883190c27f": {
      "model_module": "@jupyter-widgets/controls",
      "model_module_version": "1.5.0",
      "model_name": "HTMLModel",
      "state": {
       "layout": "IPY_MODEL_86b245b93d2e4887849bca1be05418b3",
       "style": "IPY_MODEL_038a04ebfdb942d586ebb0c5e863cd0f",
       "value": " 165/165 [10:59&lt;00:00,  4.00s/it]"
      }
     },
     "323806f7f4f34917a0895566a5427196": {
      "model_module": "@jupyter-widgets/base",
      "model_module_version": "1.2.0",
      "model_name": "LayoutModel",
      "state": {}
     },
     "333481709a0a4ff08a3e3523504a1cef": {
      "model_module": "@jupyter-widgets/controls",
      "model_module_version": "1.5.0",
      "model_name": "FloatProgressModel",
      "state": {
       "bar_style": "success",
       "description": "[1] 8/12(train): 100%",
       "layout": "IPY_MODEL_92c53c5fb25d4dd68c27aeb36f541348",
       "max": 493,
       "style": "IPY_MODEL_5c1010fb58824d98a166ee629c8dfe26",
       "value": 493
      }
     },
     "333534ce00eb48e2830f9b861bebf66d": {
      "model_module": "@jupyter-widgets/base",
      "model_module_version": "1.2.0",
      "model_name": "LayoutModel",
      "state": {}
     },
     "335e159d2c064b96a85d8a8f8c5aca3d": {
      "model_module": "@jupyter-widgets/base",
      "model_module_version": "1.2.0",
      "model_name": "LayoutModel",
      "state": {}
     },
     "338100e579ec417fafbb7f9d1aa5f395": {
      "model_module": "@jupyter-widgets/controls",
      "model_module_version": "1.5.0",
      "model_name": "DescriptionStyleModel",
      "state": {
       "description_width": ""
      }
     },
     "347e621d9de44859b706e190e3a9461f": {
      "model_module": "@jupyter-widgets/base",
      "model_module_version": "1.2.0",
      "model_name": "LayoutModel",
      "state": {}
     },
     "352c3b1a45864cd2814a4fe66112c9f8": {
      "model_module": "@jupyter-widgets/controls",
      "model_module_version": "1.5.0",
      "model_name": "FloatProgressModel",
      "state": {
       "bar_style": "success",
       "description": "[0] 7/12(train): 100%",
       "layout": "IPY_MODEL_a577bd42b0f342248e1318772b58872a",
       "max": 493,
       "style": "IPY_MODEL_8992a86ca95c4f269b7b8dbf87b566f2",
       "value": 493
      }
     },
     "3542c29509764f37aa9124c682a2fafb": {
      "model_module": "@jupyter-widgets/base",
      "model_module_version": "1.2.0",
      "model_name": "LayoutModel",
      "state": {}
     },
     "3561fced103e4c3e97000aee9371819a": {
      "model_module": "@jupyter-widgets/base",
      "model_module_version": "1.2.0",
      "model_name": "LayoutModel",
      "state": {}
     },
     "35c02c1a0ae04c4c9eaa6d85e81a1e46": {
      "model_module": "@jupyter-widgets/controls",
      "model_module_version": "1.5.0",
      "model_name": "ProgressStyleModel",
      "state": {
       "description_width": "initial"
      }
     },
     "36100b31153940099d729d3afb418a27": {
      "model_module": "@jupyter-widgets/controls",
      "model_module_version": "1.5.0",
      "model_name": "DescriptionStyleModel",
      "state": {
       "description_width": ""
      }
     },
     "3616b19c27e94f3caaa531cf1210babe": {
      "model_module": "@jupyter-widgets/base",
      "model_module_version": "1.2.0",
      "model_name": "LayoutModel",
      "state": {}
     },
     "36e0f85a649640cea3a92e03dd3c68e1": {
      "model_module": "@jupyter-widgets/base",
      "model_module_version": "1.2.0",
      "model_name": "LayoutModel",
      "state": {}
     },
     "36f1b3f255c64a0b9826c31c7a2d793e": {
      "model_module": "@jupyter-widgets/controls",
      "model_module_version": "1.5.0",
      "model_name": "FloatProgressModel",
      "state": {
       "bar_style": "danger",
       "description": "[3] 1/1(train):   0%",
       "layout": "IPY_MODEL_7692e842c45f4abf9f0c3f61fffb185b",
       "max": 3,
       "style": "IPY_MODEL_9ee01316e823436eaeeb633e587f613f"
      }
     },
     "37311fe55bc5428ea143491fafe7bae3": {
      "model_module": "@jupyter-widgets/controls",
      "model_module_version": "1.5.0",
      "model_name": "HTMLModel",
      "state": {
       "layout": "IPY_MODEL_2277fc5783f2464a8e5a3ad634251590",
       "style": "IPY_MODEL_6e5c63b4cfce4ef6a03832e1c4cb317f",
       "value": " 165/165 [7:46:57&lt;00:00, 169.80s/it]"
      }
     },
     "3766e61b6c824ac6aee40fdc10b843ed": {
      "model_module": "@jupyter-widgets/controls",
      "model_module_version": "1.5.0",
      "model_name": "DescriptionStyleModel",
      "state": {
       "description_width": ""
      }
     },
     "3771df84fa304f9a8d1597f218373889": {
      "model_module": "@jupyter-widgets/controls",
      "model_module_version": "1.5.0",
      "model_name": "FloatProgressModel",
      "state": {
       "bar_style": "success",
       "description": "[1] 8/12(val  ): 100%",
       "layout": "IPY_MODEL_afbb17af95b54e919edf88e3905efe10",
       "max": 165,
       "style": "IPY_MODEL_04cc9accb69245a0ba92c5a00efb041e",
       "value": 165
      }
     },
     "3781fd967a40429699939af4196f916b": {
      "model_module": "@jupyter-widgets/controls",
      "model_module_version": "1.5.0",
      "model_name": "DescriptionStyleModel",
      "state": {
       "description_width": ""
      }
     },
     "37df64425be246e2b944b48b790f6cc0": {
      "model_module": "@jupyter-widgets/controls",
      "model_module_version": "1.5.0",
      "model_name": "DescriptionStyleModel",
      "state": {
       "description_width": ""
      }
     },
     "38809685139742f081b7676a55389f3c": {
      "model_module": "@jupyter-widgets/base",
      "model_module_version": "1.2.0",
      "model_name": "LayoutModel",
      "state": {}
     },
     "389076e4f7044213b393bdf5255f1877": {
      "model_module": "@jupyter-widgets/controls",
      "model_module_version": "1.5.0",
      "model_name": "HTMLModel",
      "state": {
       "layout": "IPY_MODEL_13b2ca987f784ac9bc05fcb8586b90ab",
       "style": "IPY_MODEL_04c4033d0e3042a4946a98d2bcc7add3",
       "value": " 493/493 [8:22:15&lt;00:00, 61.13s/it]"
      }
     },
     "39660d3609e5447e85763ab679feeaaa": {
      "model_module": "@jupyter-widgets/base",
      "model_module_version": "1.2.0",
      "model_name": "LayoutModel",
      "state": {}
     },
     "39a9a74f73aa4afba90bba189df568fb": {
      "model_module": "@jupyter-widgets/base",
      "model_module_version": "1.2.0",
      "model_name": "LayoutModel",
      "state": {}
     },
     "39cf5721edf0486eabf449334b844428": {
      "model_module": "@jupyter-widgets/controls",
      "model_module_version": "1.5.0",
      "model_name": "HBoxModel",
      "state": {
       "children": [
        "IPY_MODEL_99fe7e34faeb4dc1b5300595094a466e",
        "IPY_MODEL_d2cc88c9bb28432db2eab4bd7cde60b6"
       ],
       "layout": "IPY_MODEL_59a836e78003429f93408afcb8c2bfae"
      }
     },
     "39ef1ee60e6945c1aa81fb1a368f571e": {
      "model_module": "@jupyter-widgets/controls",
      "model_module_version": "1.5.0",
      "model_name": "DescriptionStyleModel",
      "state": {
       "description_width": ""
      }
     },
     "3a2a9c98c7dc4ae3a78cdea33335fdd0": {
      "model_module": "@jupyter-widgets/base",
      "model_module_version": "1.2.0",
      "model_name": "LayoutModel",
      "state": {}
     },
     "3a32b4b66db547099b6cd0bcaca82358": {
      "model_module": "@jupyter-widgets/base",
      "model_module_version": "1.2.0",
      "model_name": "LayoutModel",
      "state": {}
     },
     "3a5039f2874b451fa92b13934006abf7": {
      "model_module": "@jupyter-widgets/base",
      "model_module_version": "1.2.0",
      "model_name": "LayoutModel",
      "state": {}
     },
     "3a6100d584394516b4315c5700b70754": {
      "model_module": "@jupyter-widgets/controls",
      "model_module_version": "1.5.0",
      "model_name": "HBoxModel",
      "state": {
       "children": [
        "IPY_MODEL_f9e302c602e8498c95531402e278ce60",
        "IPY_MODEL_cb166c308db84891808e5af054f59be4"
       ],
       "layout": "IPY_MODEL_150994d4c9ce4f54b0bdc23b36b7b753"
      }
     },
     "3a640633174f40cc81b94196c284a262": {
      "model_module": "@jupyter-widgets/controls",
      "model_module_version": "1.5.0",
      "model_name": "ProgressStyleModel",
      "state": {
       "description_width": "initial"
      }
     },
     "3adcd259c66c44e0b0fce18bdfd9cd1e": {
      "model_module": "@jupyter-widgets/controls",
      "model_module_version": "1.5.0",
      "model_name": "HTMLModel",
      "state": {
       "layout": "IPY_MODEL_ce03d62d7ca94512983b96fec4f161a5",
       "style": "IPY_MODEL_e3b6ba4e08464e37badc8c2d6d919327",
       "value": " 165/165 [11:13&lt;00:00,  4.08s/it]"
      }
     },
     "3ae4de1829714fdfaaeb2f3893579245": {
      "model_module": "@jupyter-widgets/controls",
      "model_module_version": "1.5.0",
      "model_name": "ProgressStyleModel",
      "state": {
       "description_width": "initial"
      }
     },
     "3b7d4593b51944458d9e1ce531456a60": {
      "model_module": "@jupyter-widgets/controls",
      "model_module_version": "1.5.0",
      "model_name": "FloatProgressModel",
      "state": {
       "bar_style": "danger",
       "description": "[1] 1/1(train):   0%",
       "layout": "IPY_MODEL_8f9c8b953c764c489d5a610c1cff3556",
       "max": 3,
       "style": "IPY_MODEL_62d96049c76946a39c4630df8c7f0c74"
      }
     },
     "3ba748d394d04456893e2db6b2428848": {
      "model_module": "@jupyter-widgets/controls",
      "model_module_version": "1.5.0",
      "model_name": "ProgressStyleModel",
      "state": {
       "description_width": "initial"
      }
     },
     "3bbefbc1f6b044db94df8753a392dd44": {
      "model_module": "@jupyter-widgets/base",
      "model_module_version": "1.2.0",
      "model_name": "LayoutModel",
      "state": {}
     },
     "3c1924f7f78a47529f554566fead3fdb": {
      "model_module": "@jupyter-widgets/base",
      "model_module_version": "1.2.0",
      "model_name": "LayoutModel",
      "state": {}
     },
     "3c2f49c33b9f432d9c74b0d55d4b77ab": {
      "model_module": "@jupyter-widgets/controls",
      "model_module_version": "1.5.0",
      "model_name": "ProgressStyleModel",
      "state": {
       "description_width": "initial"
      }
     },
     "3ca0c2bdf5bd46e5a8a2bbfec2173377": {
      "model_module": "@jupyter-widgets/controls",
      "model_module_version": "1.5.0",
      "model_name": "DescriptionStyleModel",
      "state": {
       "description_width": ""
      }
     },
     "3ccd22bcfefe4c888667c85fa4093fb7": {
      "model_module": "@jupyter-widgets/base",
      "model_module_version": "1.2.0",
      "model_name": "LayoutModel",
      "state": {}
     },
     "3cec75efadd34ad896ac1f851e70d97f": {
      "model_module": "@jupyter-widgets/base",
      "model_module_version": "1.2.0",
      "model_name": "LayoutModel",
      "state": {}
     },
     "3e10e075723e4b258f2c92b2c212b1d7": {
      "model_module": "@jupyter-widgets/controls",
      "model_module_version": "1.5.0",
      "model_name": "ProgressStyleModel",
      "state": {
       "description_width": "initial"
      }
     },
     "3ed9354da26e40eab53deaf976d47b2c": {
      "model_module": "@jupyter-widgets/controls",
      "model_module_version": "1.5.0",
      "model_name": "FloatProgressModel",
      "state": {
       "bar_style": "success",
       "description": "[0] 6/12(train): 100%",
       "layout": "IPY_MODEL_ab4900abc553468c8b96abc1e87c97dd",
       "max": 493,
       "style": "IPY_MODEL_be74682b06a746daaa901ddea187e58d",
       "value": 493
      }
     },
     "3f2173a0524d4ed196ef274a94f52baa": {
      "model_module": "@jupyter-widgets/controls",
      "model_module_version": "1.5.0",
      "model_name": "FloatProgressModel",
      "state": {
       "bar_style": "success",
       "description": "[3] 5/12(val  ): 100%",
       "layout": "IPY_MODEL_749a55f8d8da4a18891bc3eabc7e9e9c",
       "max": 165,
       "style": "IPY_MODEL_a83a111046534738ac046ab928c76c38",
       "value": 165
      }
     },
     "3f2a75f6761f40a0b7d1f8aa6426e9e3": {
      "model_module": "@jupyter-widgets/controls",
      "model_module_version": "1.5.0",
      "model_name": "DescriptionStyleModel",
      "state": {
       "description_width": ""
      }
     },
     "3f9908c3c02943f7b7706b41bf6891b0": {
      "model_module": "@jupyter-widgets/controls",
      "model_module_version": "1.5.0",
      "model_name": "DescriptionStyleModel",
      "state": {
       "description_width": ""
      }
     },
     "3fa08916560c4d5a95ac3efadf4abf89": {
      "model_module": "@jupyter-widgets/controls",
      "model_module_version": "1.5.0",
      "model_name": "FloatProgressModel",
      "state": {
       "bar_style": "danger",
       "description": "[0] 1/10(train):   0%",
       "layout": "IPY_MODEL_816a1c7f21904be08a5984878030e5b1",
       "max": 3,
       "style": "IPY_MODEL_a44fe58985b44d3abd7a059bffdf1c3e"
      }
     },
     "3fe99e6fc43745b7a7a096119e35899e": {
      "model_module": "@jupyter-widgets/controls",
      "model_module_version": "1.5.0",
      "model_name": "HTMLModel",
      "state": {
       "layout": "IPY_MODEL_131a6926f98343f6ad0e27b675203944",
       "style": "IPY_MODEL_3781fd967a40429699939af4196f916b",
       "value": " 165/165 [10:56&lt;00:00,  3.98s/it]"
      }
     },
     "4096b792517d4711a707064ff5ef2ddb": {
      "model_module": "@jupyter-widgets/base",
      "model_module_version": "1.2.0",
      "model_name": "LayoutModel",
      "state": {}
     },
     "40a6d02680f64571be516042392b1c43": {
      "model_module": "@jupyter-widgets/controls",
      "model_module_version": "1.5.0",
      "model_name": "HTMLModel",
      "state": {
       "layout": "IPY_MODEL_743c6e56b1324adbab44594dc790d29b",
       "style": "IPY_MODEL_fb03e373fae6492d93dff25ea824b058",
       "value": " 3/3 [00:15&lt;00:00,  5.18s/it]"
      }
     },
     "40f09298e2a8474e895036da897d33e3": {
      "model_module": "@jupyter-widgets/controls",
      "model_module_version": "1.5.0",
      "model_name": "ProgressStyleModel",
      "state": {
       "description_width": "initial"
      }
     },
     "4144754e39714d9abe1a54687ea7206a": {
      "model_module": "@jupyter-widgets/controls",
      "model_module_version": "1.5.0",
      "model_name": "HBoxModel",
      "state": {
       "children": [
        "IPY_MODEL_cf81a4d71ab140ceb931447f49ae5c81",
        "IPY_MODEL_3adcd259c66c44e0b0fce18bdfd9cd1e"
       ],
       "layout": "IPY_MODEL_30b2ecb689e84612b39a1b7fd766c203"
      }
     },
     "4209763235694b9f850410e3a3f93b02": {
      "model_module": "@jupyter-widgets/controls",
      "model_module_version": "1.5.0",
      "model_name": "HTMLModel",
      "state": {
       "layout": "IPY_MODEL_7187c8eebdb54f18a95746f65a1645e0",
       "style": "IPY_MODEL_ed138265000748c59c6b3038940ba488",
       "value": " 493/493 [1:31:56&lt;00:00, 11.19s/it]"
      }
     },
     "42114087ed30474885b0089e8f04dd56": {
      "model_module": "@jupyter-widgets/controls",
      "model_module_version": "1.5.0",
      "model_name": "HBoxModel",
      "state": {
       "children": [
        "IPY_MODEL_eafb3a23c09e4493b53ae305035cb7ab",
        "IPY_MODEL_d007ea1f8b3448f9b9a61d2e3934549a"
       ],
       "layout": "IPY_MODEL_a48bfbfff7a1470cbab092ac4c2241f3"
      }
     },
     "4250ba4c40c9430d921185544a3b40d8": {
      "model_module": "@jupyter-widgets/controls",
      "model_module_version": "1.5.0",
      "model_name": "FloatProgressModel",
      "state": {
       "bar_style": "success",
       "description": "[3] 5/12(train): 100%",
       "layout": "IPY_MODEL_a163372fad6f4d118db5241f38963840",
       "max": 493,
       "style": "IPY_MODEL_ae8b73d20f6345ae8cbb0d7ac7e4deef",
       "value": 493
      }
     },
     "426ee396820f47118ffce7995aefc44b": {
      "model_module": "@jupyter-widgets/base",
      "model_module_version": "1.2.0",
      "model_name": "LayoutModel",
      "state": {}
     },
     "42808213da3a4a07b2e05e58ff78d105": {
      "model_module": "@jupyter-widgets/controls",
      "model_module_version": "1.5.0",
      "model_name": "ProgressStyleModel",
      "state": {
       "description_width": "initial"
      }
     },
     "428fb899c0eb4e5f96c22fef4d593378": {
      "model_module": "@jupyter-widgets/controls",
      "model_module_version": "1.5.0",
      "model_name": "FloatProgressModel",
      "state": {
       "bar_style": "success",
       "description": "[3] 9/12(val  ): 100%",
       "layout": "IPY_MODEL_8b0ad89e05ff4f2388888ce1b939bd1c",
       "max": 165,
       "style": "IPY_MODEL_709f108a915149c381299449c2edfec2",
       "value": 165
      }
     },
     "42b2be6c0e5d412f8271382e5c1d9a32": {
      "model_module": "@jupyter-widgets/base",
      "model_module_version": "1.2.0",
      "model_name": "LayoutModel",
      "state": {}
     },
     "43337beebf614ab58ee4a281376ae406": {
      "model_module": "@jupyter-widgets/controls",
      "model_module_version": "1.5.0",
      "model_name": "DescriptionStyleModel",
      "state": {
       "description_width": ""
      }
     },
     "436d8dffb5b448d78b0174b01b09aa4d": {
      "model_module": "@jupyter-widgets/base",
      "model_module_version": "1.2.0",
      "model_name": "LayoutModel",
      "state": {}
     },
     "43844a12c0b748748f4b48801ddd1599": {
      "model_module": "@jupyter-widgets/base",
      "model_module_version": "1.2.0",
      "model_name": "LayoutModel",
      "state": {}
     },
     "43fa30caa28946628178442e69bef2fb": {
      "model_module": "@jupyter-widgets/controls",
      "model_module_version": "1.5.0",
      "model_name": "ProgressStyleModel",
      "state": {
       "description_width": "initial"
      }
     },
     "444da9615fc84437ada8e1a284ce0d46": {
      "model_module": "@jupyter-widgets/controls",
      "model_module_version": "1.5.0",
      "model_name": "ProgressStyleModel",
      "state": {
       "description_width": "initial"
      }
     },
     "4486de12203a49d080f4e192911b6ba5": {
      "model_module": "@jupyter-widgets/controls",
      "model_module_version": "1.5.0",
      "model_name": "ProgressStyleModel",
      "state": {
       "description_width": "initial"
      }
     },
     "44a587dd16bd4fd787c8209d6271d087": {
      "model_module": "@jupyter-widgets/controls",
      "model_module_version": "1.5.0",
      "model_name": "ProgressStyleModel",
      "state": {
       "description_width": "initial"
      }
     },
     "44c334c6d6524fd7b97bb17f506e726e": {
      "model_module": "@jupyter-widgets/base",
      "model_module_version": "1.2.0",
      "model_name": "LayoutModel",
      "state": {}
     },
     "4591ae1d82f546678315bb099b7303e9": {
      "model_module": "@jupyter-widgets/controls",
      "model_module_version": "1.5.0",
      "model_name": "FloatProgressModel",
      "state": {
       "bar_style": "success",
       "description": "[3] 12/12(val  ): 100%",
       "layout": "IPY_MODEL_1731552547874d4fa46a7228fa763c00",
       "max": 165,
       "style": "IPY_MODEL_b4814934d4ab4198b517373708f0dbc0",
       "value": 165
      }
     },
     "45b8fe9b70554d548603be910b7a8039": {
      "model_module": "@jupyter-widgets/controls",
      "model_module_version": "1.5.0",
      "model_name": "DescriptionStyleModel",
      "state": {
       "description_width": ""
      }
     },
     "46126aee778a40ecb1374d2a72568242": {
      "model_module": "@jupyter-widgets/base",
      "model_module_version": "1.2.0",
      "model_name": "LayoutModel",
      "state": {}
     },
     "4619ab6b9470493da0d74ef2e64dabac": {
      "model_module": "@jupyter-widgets/base",
      "model_module_version": "1.2.0",
      "model_name": "LayoutModel",
      "state": {}
     },
     "465271155db348d9b25afee6cf9b4baa": {
      "model_module": "@jupyter-widgets/controls",
      "model_module_version": "1.5.0",
      "model_name": "DescriptionStyleModel",
      "state": {
       "description_width": ""
      }
     },
     "466a9a3925ba454dab428ac7b493e878": {
      "model_module": "@jupyter-widgets/controls",
      "model_module_version": "1.5.0",
      "model_name": "HBoxModel",
      "state": {
       "children": [
        "IPY_MODEL_dba5d186f45c47078d7e2c7e402990ad",
        "IPY_MODEL_ab5243eb6d40407c9100fae19455b6f5"
       ],
       "layout": "IPY_MODEL_347e621d9de44859b706e190e3a9461f"
      }
     },
     "47786b887d834e648d9fa4ab14c1e7ed": {
      "model_module": "@jupyter-widgets/controls",
      "model_module_version": "1.5.0",
      "model_name": "DescriptionStyleModel",
      "state": {
       "description_width": ""
      }
     },
     "478ffff3826e45579da8821c2a9b6e6e": {
      "model_module": "@jupyter-widgets/controls",
      "model_module_version": "1.5.0",
      "model_name": "HBoxModel",
      "state": {
       "children": [
        "IPY_MODEL_05c301da9be14f3fb42b878471a13cdb",
        "IPY_MODEL_c3c2d689f3cb4223b98a7153827002df"
       ],
       "layout": "IPY_MODEL_052fac3836f941278391f938821feaf8"
      }
     },
     "47a0f75e9aa246fda0618c746e1dbc43": {
      "model_module": "@jupyter-widgets/controls",
      "model_module_version": "1.5.0",
      "model_name": "HBoxModel",
      "state": {
       "children": [
        "IPY_MODEL_4b89fdd3381545ffa6c43a61c3c4be30",
        "IPY_MODEL_e3e0462a6593455fa0502664d0405a44"
       ],
       "layout": "IPY_MODEL_b6a4e09631c046b38e43ee090dda02a6"
      }
     },
     "47b1e2dc02444d9d8fe979725c433372": {
      "model_module": "@jupyter-widgets/controls",
      "model_module_version": "1.5.0",
      "model_name": "DescriptionStyleModel",
      "state": {
       "description_width": ""
      }
     },
     "47f892684e1542beba7e887ee2eb7234": {
      "model_module": "@jupyter-widgets/controls",
      "model_module_version": "1.5.0",
      "model_name": "DescriptionStyleModel",
      "state": {
       "description_width": ""
      }
     },
     "48712b94db024752bdf95ae86ab82c34": {
      "model_module": "@jupyter-widgets/controls",
      "model_module_version": "1.5.0",
      "model_name": "FloatProgressModel",
      "state": {
       "bar_style": "success",
       "description": "[3] 10/12(train): 100%",
       "layout": "IPY_MODEL_1c83ef53b7fb4e76857d7c5ff478f028",
       "max": 493,
       "style": "IPY_MODEL_767adcd31f634958a06dd1c0da0faf19",
       "value": 493
      }
     },
     "48cd28ea0f334d1d99d8c6ea8619db53": {
      "model_module": "@jupyter-widgets/base",
      "model_module_version": "1.2.0",
      "model_name": "LayoutModel",
      "state": {}
     },
     "48cf66361bcd42b893e1d88fbbad134e": {
      "model_module": "@jupyter-widgets/base",
      "model_module_version": "1.2.0",
      "model_name": "LayoutModel",
      "state": {}
     },
     "49f33a66aaa74853bbd832cc6fb5f56e": {
      "model_module": "@jupyter-widgets/base",
      "model_module_version": "1.2.0",
      "model_name": "LayoutModel",
      "state": {}
     },
     "49ff4686a7aa402f8722ff86ec599256": {
      "model_module": "@jupyter-widgets/base",
      "model_module_version": "1.2.0",
      "model_name": "LayoutModel",
      "state": {}
     },
     "4a067f1cbbaa4235a223e41434f7a154": {
      "model_module": "@jupyter-widgets/base",
      "model_module_version": "1.2.0",
      "model_name": "LayoutModel",
      "state": {}
     },
     "4a3736c434324000bedd962aef9f45b6": {
      "model_module": "@jupyter-widgets/base",
      "model_module_version": "1.2.0",
      "model_name": "LayoutModel",
      "state": {}
     },
     "4aa0417ce6b84ca0b9757bc1791c239b": {
      "model_module": "@jupyter-widgets/base",
      "model_module_version": "1.2.0",
      "model_name": "LayoutModel",
      "state": {}
     },
     "4ab1bc4d96c945daa14a2d7f1c242484": {
      "model_module": "@jupyter-widgets/base",
      "model_module_version": "1.2.0",
      "model_name": "LayoutModel",
      "state": {}
     },
     "4aeffdd6cf424857badf6eab821726b0": {
      "model_module": "@jupyter-widgets/base",
      "model_module_version": "1.2.0",
      "model_name": "LayoutModel",
      "state": {}
     },
     "4b08aca05e14497da3c106c52912e3fe": {
      "model_module": "@jupyter-widgets/controls",
      "model_module_version": "1.5.0",
      "model_name": "DescriptionStyleModel",
      "state": {
       "description_width": ""
      }
     },
     "4b09485a8b1c4f63803e948da0a9996a": {
      "model_module": "@jupyter-widgets/controls",
      "model_module_version": "1.5.0",
      "model_name": "FloatProgressModel",
      "state": {
       "bar_style": "success",
       "description": "[3] 11/12(train): 100%",
       "layout": "IPY_MODEL_650685b6becd4b8189e60b3e4770cc61",
       "max": 493,
       "style": "IPY_MODEL_17c8ddc65c6347b59bdfb6c19d6c7a04",
       "value": 493
      }
     },
     "4b1956daf49d45b4afc4d5cb5b871960": {
      "model_module": "@jupyter-widgets/base",
      "model_module_version": "1.2.0",
      "model_name": "LayoutModel",
      "state": {}
     },
     "4b359765c1214ea1866c5a7326aeda2b": {
      "model_module": "@jupyter-widgets/base",
      "model_module_version": "1.2.0",
      "model_name": "LayoutModel",
      "state": {}
     },
     "4b68443eb9ee4409abcdce32978efdb2": {
      "model_module": "@jupyter-widgets/controls",
      "model_module_version": "1.5.0",
      "model_name": "HBoxModel",
      "state": {
       "children": [
        "IPY_MODEL_25875f2a743045878079ffe90004904b",
        "IPY_MODEL_7d425931701849238e50b52b27525e0f"
       ],
       "layout": "IPY_MODEL_172b7e2da8c64cd386384e5d54429ac6"
      }
     },
     "4b89fdd3381545ffa6c43a61c3c4be30": {
      "model_module": "@jupyter-widgets/controls",
      "model_module_version": "1.5.0",
      "model_name": "FloatProgressModel",
      "state": {
       "bar_style": "success",
       "description": "[0] 5/12(val  ): 100%",
       "layout": "IPY_MODEL_48cf66361bcd42b893e1d88fbbad134e",
       "max": 165,
       "style": "IPY_MODEL_b2542874282345e7bb260d0874b8dca9",
       "value": 165
      }
     },
     "4ba963e3a1d7496c91cd6bce81553fba": {
      "model_module": "@jupyter-widgets/controls",
      "model_module_version": "1.5.0",
      "model_name": "DescriptionStyleModel",
      "state": {
       "description_width": ""
      }
     },
     "4bb9bd52ce5f4e06a773a78aa12aa806": {
      "model_module": "@jupyter-widgets/controls",
      "model_module_version": "1.5.0",
      "model_name": "HBoxModel",
      "state": {
       "children": [
        "IPY_MODEL_14a1f478b8ce4c8f9444dd50a0a875fc",
        "IPY_MODEL_94b67d51276c42e794bc29214510b2f2"
       ],
       "layout": "IPY_MODEL_9f832084961b458cb48a8f61330c2631"
      }
     },
     "4bf099bf5f5c430db0a8dbb87c65adcd": {
      "model_module": "@jupyter-widgets/controls",
      "model_module_version": "1.5.0",
      "model_name": "HBoxModel",
      "state": {
       "children": [
        "IPY_MODEL_954769b22db748a8b6ffab8e0fcb40af",
        "IPY_MODEL_0575fe16129e40dd8fc5cece64ed3802"
       ],
       "layout": "IPY_MODEL_0698545d5d15473995b5c873d4694c5f"
      }
     },
     "4c1c1b8ff57848a6959dccaad1b0cf29": {
      "model_module": "@jupyter-widgets/controls",
      "model_module_version": "1.5.0",
      "model_name": "FloatProgressModel",
      "state": {
       "bar_style": "success",
       "description": "[0] 9/12(val  ): 100%",
       "layout": "IPY_MODEL_02b78f43e9464c8ea40c20ab36e95516",
       "max": 165,
       "style": "IPY_MODEL_44a587dd16bd4fd787c8209d6271d087",
       "value": 165
      }
     },
     "4c206f6316a646539bc33d71ed991f86": {
      "model_module": "@jupyter-widgets/controls",
      "model_module_version": "1.5.0",
      "model_name": "HTMLModel",
      "state": {
       "layout": "IPY_MODEL_3a2a9c98c7dc4ae3a78cdea33335fdd0",
       "style": "IPY_MODEL_23f5c0e1fb4945cfbbe2d2a65e05b714",
       "value": " 165/165 [10:56&lt;00:00,  3.98s/it]"
      }
     },
     "4c47d796d2304119b51e3c8012a21b83": {
      "model_module": "@jupyter-widgets/controls",
      "model_module_version": "1.5.0",
      "model_name": "FloatProgressModel",
      "state": {
       "bar_style": "success",
       "description": "[1] 11/12(train): 100%",
       "layout": "IPY_MODEL_cfa194756f4643268ca48b6f9be9092b",
       "max": 493,
       "style": "IPY_MODEL_674952a433aa464d81dbbcbd9ff1e1bc",
       "value": 493
      }
     },
     "4c4baa57fafa4dec98377b253068e458": {
      "model_module": "@jupyter-widgets/base",
      "model_module_version": "1.2.0",
      "model_name": "LayoutModel",
      "state": {}
     },
     "4d62c78b4fc345669fab465e985375c2": {
      "model_module": "@jupyter-widgets/base",
      "model_module_version": "1.2.0",
      "model_name": "LayoutModel",
      "state": {}
     },
     "4d6fb339e16046a29de69a4b5f72c0c0": {
      "model_module": "@jupyter-widgets/controls",
      "model_module_version": "1.5.0",
      "model_name": "ProgressStyleModel",
      "state": {
       "description_width": "initial"
      }
     },
     "4e05283d70ca4d74bb1f785fdf14029d": {
      "model_module": "@jupyter-widgets/controls",
      "model_module_version": "1.5.0",
      "model_name": "HTMLModel",
      "state": {
       "layout": "IPY_MODEL_ab63d242a22b4adb801ff5cff14d6a01",
       "style": "IPY_MODEL_bfc3884047824ea0b456bbdb3bb86cba",
       "value": " 1/493 [00:15&lt;1:54:11, 13.93s/it]"
      }
     },
     "4e7d52a941284fe69e197339a27b5b74": {
      "model_module": "@jupyter-widgets/base",
      "model_module_version": "1.2.0",
      "model_name": "LayoutModel",
      "state": {}
     },
     "4eb540ce3deb4f00b2507c4084337272": {
      "model_module": "@jupyter-widgets/controls",
      "model_module_version": "1.5.0",
      "model_name": "FloatProgressModel",
      "state": {
       "bar_style": "success",
       "description": "[1] 5/12(train): 100%",
       "layout": "IPY_MODEL_a79d3d2be2bf4d1ba8f5ccae74bb7d42",
       "max": 493,
       "style": "IPY_MODEL_8ebde0f3797e44078f321de42dfd87c5",
       "value": 493
      }
     },
     "4f2c55e41d094cea83fc0f517fb12676": {
      "model_module": "@jupyter-widgets/controls",
      "model_module_version": "1.5.0",
      "model_name": "HTMLModel",
      "state": {
       "layout": "IPY_MODEL_15cfdf13f5cd45128da4bf6097539b47",
       "style": "IPY_MODEL_e70d6fad96ae4c16bc691bf739b95d69",
       "value": " 165/165 [11:12&lt;00:00,  4.07s/it]"
      }
     },
     "4f2d7f2971f94ec4b99685cd610f8605": {
      "model_module": "@jupyter-widgets/controls",
      "model_module_version": "1.5.0",
      "model_name": "DescriptionStyleModel",
      "state": {
       "description_width": ""
      }
     },
     "4faa4ba1ac724d5f9b63d9bde8cdbc57": {
      "model_module": "@jupyter-widgets/base",
      "model_module_version": "1.2.0",
      "model_name": "LayoutModel",
      "state": {}
     },
     "505c9def431a48e0ba83fee6d9e1ac35": {
      "model_module": "@jupyter-widgets/controls",
      "model_module_version": "1.5.0",
      "model_name": "HTMLModel",
      "state": {
       "layout": "IPY_MODEL_f35e6a9c1b074dd990a6a9b004780eaf",
       "style": "IPY_MODEL_859d66b068604a52aadfcc467a0f3c0c",
       "value": " 493/493 [5:19:29&lt;00:00, 38.88s/it]"
      }
     },
     "507a8d492cf8495d9914c13a1b34fb5d": {
      "model_module": "@jupyter-widgets/controls",
      "model_module_version": "1.5.0",
      "model_name": "HBoxModel",
      "state": {
       "children": [
        "IPY_MODEL_fe22dc3c40db46a8af3cb44be9bc2c8d",
        "IPY_MODEL_40a6d02680f64571be516042392b1c43"
       ],
       "layout": "IPY_MODEL_faa43a69669c4a4ba137d4f77ccbdbd3"
      }
     },
     "51047bf3e05c4cb59d26626c06f97da9": {
      "model_module": "@jupyter-widgets/base",
      "model_module_version": "1.2.0",
      "model_name": "LayoutModel",
      "state": {}
     },
     "51352039b0194bb7b97ac25e14288b18": {
      "model_module": "@jupyter-widgets/controls",
      "model_module_version": "1.5.0",
      "model_name": "FloatProgressModel",
      "state": {
       "bar_style": "danger",
       "description": "[2] 1/12(train):   0%",
       "layout": "IPY_MODEL_cd9522388c2d4f24ac2a2b81e15609d7",
       "max": 493,
       "style": "IPY_MODEL_64cf4f4bba964c30ac43f2423829ec3b"
      }
     },
     "513b05d51b6143009a188baa8815aed4": {
      "model_module": "@jupyter-widgets/controls",
      "model_module_version": "1.5.0",
      "model_name": "HTMLModel",
      "state": {
       "layout": "IPY_MODEL_6638829f9e494a299a056f1b36bfc689",
       "style": "IPY_MODEL_a63489dec9194bba9ac3fc5e98907f63",
       "value": " 493/493 [8:22:10&lt;00:00, 61.12s/it]"
      }
     },
     "517a487cd8fb4ccabebdf3695ccf9f9c": {
      "model_module": "@jupyter-widgets/base",
      "model_module_version": "1.2.0",
      "model_name": "LayoutModel",
      "state": {}
     },
     "51fa21684a7f49a79aa3a1f2cf27ff5e": {
      "model_module": "@jupyter-widgets/controls",
      "model_module_version": "1.5.0",
      "model_name": "HTMLModel",
      "state": {
       "layout": "IPY_MODEL_f0ce73ffe4b54b0e8ec60c7d851e3c7d",
       "style": "IPY_MODEL_a6a5a21131fd4047aeca8582a71af2ad",
       "value": " 493/493 [4:40:39&lt;00:00, 34.16s/it]"
      }
     },
     "521ca8732a614f40863dd91f97f58eb7": {
      "model_module": "@jupyter-widgets/controls",
      "model_module_version": "1.5.0",
      "model_name": "DescriptionStyleModel",
      "state": {
       "description_width": ""
      }
     },
     "527c894b71164ab2a2329cd3f444187a": {
      "model_module": "@jupyter-widgets/controls",
      "model_module_version": "1.5.0",
      "model_name": "HTMLModel",
      "state": {
       "layout": "IPY_MODEL_03fa4a42152e49e4958edbac8d33e1ff",
       "style": "IPY_MODEL_83bb5d2ca04040689b854e36216b40a1",
       "value": " 493/493 [3:02:59&lt;00:00, 22.27s/it]"
      }
     },
     "52b7c67c77ee4f44a30ca593c8c6587d": {
      "model_module": "@jupyter-widgets/controls",
      "model_module_version": "1.5.0",
      "model_name": "HTMLModel",
      "state": {
       "layout": "IPY_MODEL_a54bb13b9d49417390dee7ed9a4d5aa2",
       "style": "IPY_MODEL_84a4aeed00b340f18b71704baf389830",
       "value": " 493/493 [3:54:39&lt;00:00, 28.56s/it]"
      }
     },
     "536d7a52aa0a4c82bb80c7970af92acd": {
      "model_module": "@jupyter-widgets/base",
      "model_module_version": "1.2.0",
      "model_name": "LayoutModel",
      "state": {}
     },
     "53bed6b51b8f415f8bf2d9c979460303": {
      "model_module": "@jupyter-widgets/controls",
      "model_module_version": "1.5.0",
      "model_name": "FloatProgressModel",
      "state": {
       "bar_style": "success",
       "description": "[2] 11/12(val  ): 100%",
       "layout": "IPY_MODEL_436d8dffb5b448d78b0174b01b09aa4d",
       "max": 165,
       "style": "IPY_MODEL_43fa30caa28946628178442e69bef2fb",
       "value": 165
      }
     },
     "5472a90d6eae4cf79a194232fd2924a2": {
      "model_module": "@jupyter-widgets/base",
      "model_module_version": "1.2.0",
      "model_name": "LayoutModel",
      "state": {}
     },
     "54bee4dec77e43a8961d82fa5e7a04f2": {
      "model_module": "@jupyter-widgets/base",
      "model_module_version": "1.2.0",
      "model_name": "LayoutModel",
      "state": {}
     },
     "54d2669f059f4b32aa2abaefca270fdd": {
      "model_module": "@jupyter-widgets/controls",
      "model_module_version": "1.5.0",
      "model_name": "ProgressStyleModel",
      "state": {
       "description_width": "initial"
      }
     },
     "54e93d375b25477881c48714073ecd49": {
      "model_module": "@jupyter-widgets/controls",
      "model_module_version": "1.5.0",
      "model_name": "HBoxModel",
      "state": {
       "children": [
        "IPY_MODEL_3771df84fa304f9a8d1597f218373889",
        "IPY_MODEL_3fe99e6fc43745b7a7a096119e35899e"
       ],
       "layout": "IPY_MODEL_7958bcf3cca04a90b54f0eb0d7cf9071"
      }
     },
     "5532e852c6d4401a9cd0120f17ded86e": {
      "model_module": "@jupyter-widgets/controls",
      "model_module_version": "1.5.0",
      "model_name": "ProgressStyleModel",
      "state": {
       "description_width": "initial"
      }
     },
     "5555bcf7c2fc4bbf9af81be07f9ac198": {
      "model_module": "@jupyter-widgets/base",
      "model_module_version": "1.2.0",
      "model_name": "LayoutModel",
      "state": {}
     },
     "562598e1dcb94c3981100089f25e4e9f": {
      "model_module": "@jupyter-widgets/base",
      "model_module_version": "1.2.0",
      "model_name": "LayoutModel",
      "state": {}
     },
     "569e6ae0bc3f417d9e9e09bc9a37efe5": {
      "model_module": "@jupyter-widgets/base",
      "model_module_version": "1.2.0",
      "model_name": "LayoutModel",
      "state": {}
     },
     "56c3eec08ab345999d1de33dd5bd0a7d": {
      "model_module": "@jupyter-widgets/controls",
      "model_module_version": "1.5.0",
      "model_name": "DescriptionStyleModel",
      "state": {
       "description_width": ""
      }
     },
     "56c982f3ea02432cba9e26f83cc9e480": {
      "model_module": "@jupyter-widgets/controls",
      "model_module_version": "1.5.0",
      "model_name": "DescriptionStyleModel",
      "state": {
       "description_width": ""
      }
     },
     "56da1acda4d044ef8eda3714e5963bbb": {
      "model_module": "@jupyter-widgets/controls",
      "model_module_version": "1.5.0",
      "model_name": "ProgressStyleModel",
      "state": {
       "description_width": "initial"
      }
     },
     "5735937226b14f578ee7483f26938812": {
      "model_module": "@jupyter-widgets/controls",
      "model_module_version": "1.5.0",
      "model_name": "HTMLModel",
      "state": {
       "layout": "IPY_MODEL_ae0c6a8a03cd4e67962e001e6717e6af",
       "style": "IPY_MODEL_3f9908c3c02943f7b7706b41bf6891b0",
       "value": " 1/1 [00:04&lt;00:00,  4.35s/it]"
      }
     },
     "57a54e8df8064facb7b23471e83300da": {
      "model_module": "@jupyter-widgets/base",
      "model_module_version": "1.2.0",
      "model_name": "LayoutModel",
      "state": {}
     },
     "590a8a0c7fd14e809374eb74b9885313": {
      "model_module": "@jupyter-widgets/controls",
      "model_module_version": "1.5.0",
      "model_name": "ProgressStyleModel",
      "state": {
       "description_width": "initial"
      }
     },
     "592cdb7f19a44838b51c11802a6d7343": {
      "model_module": "@jupyter-widgets/base",
      "model_module_version": "1.2.0",
      "model_name": "LayoutModel",
      "state": {}
     },
     "5945eb010d084928b7511d72e1dfc763": {
      "model_module": "@jupyter-widgets/controls",
      "model_module_version": "1.5.0",
      "model_name": "ProgressStyleModel",
      "state": {
       "description_width": "initial"
      }
     },
     "59a836e78003429f93408afcb8c2bfae": {
      "model_module": "@jupyter-widgets/base",
      "model_module_version": "1.2.0",
      "model_name": "LayoutModel",
      "state": {}
     },
     "5a57c41a88a547dd8b4d4b92113a7541": {
      "model_module": "@jupyter-widgets/controls",
      "model_module_version": "1.5.0",
      "model_name": "HTMLModel",
      "state": {
       "layout": "IPY_MODEL_c49bcf9f58484c799ce5204aca08c42d",
       "style": "IPY_MODEL_ad909a05b35e40fa9d34c1c9f00f6f09",
       "value": " 165/165 [11:04&lt;00:00,  4.02s/it]"
      }
     },
     "5a5b72ea23444a7a89306598e20dfa0c": {
      "model_module": "@jupyter-widgets/controls",
      "model_module_version": "1.5.0",
      "model_name": "DescriptionStyleModel",
      "state": {
       "description_width": ""
      }
     },
     "5a9ebcf8669a4feca2e9c0f214077671": {
      "model_module": "@jupyter-widgets/base",
      "model_module_version": "1.2.0",
      "model_name": "LayoutModel",
      "state": {}
     },
     "5abac3a2e8d74277881e0cf674adb90c": {
      "model_module": "@jupyter-widgets/controls",
      "model_module_version": "1.5.0",
      "model_name": "FloatProgressModel",
      "state": {
       "bar_style": "success",
       "description": "[3] 11/12(val  ): 100%",
       "layout": "IPY_MODEL_3cec75efadd34ad896ac1f851e70d97f",
       "max": 165,
       "style": "IPY_MODEL_ab1be69afc864b858e812dd1cba83183",
       "value": 165
      }
     },
     "5abd73e7b492488c9a78d35195172cac": {
      "model_module": "@jupyter-widgets/base",
      "model_module_version": "1.2.0",
      "model_name": "LayoutModel",
      "state": {}
     },
     "5ae8c3f7ac2c42f6b328c89dea28ad3b": {
      "model_module": "@jupyter-widgets/controls",
      "model_module_version": "1.5.0",
      "model_name": "HTMLModel",
      "state": {
       "layout": "IPY_MODEL_4aa0417ce6b84ca0b9757bc1791c239b",
       "style": "IPY_MODEL_8ec3edd6f54f4fd4b265b5e23042a1d6",
       "value": " 165/165 [2:34:49&lt;00:00, 56.30s/it]"
      }
     },
     "5af15e4afdb24288917bb16aa209ec10": {
      "model_module": "@jupyter-widgets/controls",
      "model_module_version": "1.5.0",
      "model_name": "FloatProgressModel",
      "state": {
       "bar_style": "success",
       "description": "[0] 3/12(train): 100%",
       "layout": "IPY_MODEL_8e7c49518fbb413ebd58ef7c23005f88",
       "max": 493,
       "style": "IPY_MODEL_8982a875c85e4f898608194a0a99926c",
       "value": 493
      }
     },
     "5b0c1db29e1d40c7849e8d1af11bb4a6": {
      "model_module": "@jupyter-widgets/controls",
      "model_module_version": "1.5.0",
      "model_name": "HBoxModel",
      "state": {
       "children": [
        "IPY_MODEL_9846aed389324bfab0c9877d94ff092b",
        "IPY_MODEL_6f3b5a590d134a1d9f3fb0a1d80e70f7"
       ],
       "layout": "IPY_MODEL_b0fb5ee2e21d4f5c82e05929235a03c7"
      }
     },
     "5b1aee8bd0234246a3faff067e7ec930": {
      "model_module": "@jupyter-widgets/base",
      "model_module_version": "1.2.0",
      "model_name": "LayoutModel",
      "state": {}
     },
     "5bb4a49862c94c81a8519728789d6485": {
      "model_module": "@jupyter-widgets/base",
      "model_module_version": "1.2.0",
      "model_name": "LayoutModel",
      "state": {}
     },
     "5bfbc8efe9804723b290499b859e75ac": {
      "model_module": "@jupyter-widgets/controls",
      "model_module_version": "1.5.0",
      "model_name": "DescriptionStyleModel",
      "state": {
       "description_width": ""
      }
     },
     "5c1010fb58824d98a166ee629c8dfe26": {
      "model_module": "@jupyter-widgets/controls",
      "model_module_version": "1.5.0",
      "model_name": "ProgressStyleModel",
      "state": {
       "description_width": "initial"
      }
     },
     "5c3316dbc312455a8eeb765deeeaebc9": {
      "model_module": "@jupyter-widgets/base",
      "model_module_version": "1.2.0",
      "model_name": "LayoutModel",
      "state": {}
     },
     "5cfe24a2353d4282b5f2e0d316d6941b": {
      "model_module": "@jupyter-widgets/base",
      "model_module_version": "1.2.0",
      "model_name": "LayoutModel",
      "state": {}
     },
     "5d49fbde45394d648009b517c8561e32": {
      "model_module": "@jupyter-widgets/controls",
      "model_module_version": "1.5.0",
      "model_name": "DescriptionStyleModel",
      "state": {
       "description_width": ""
      }
     },
     "5df24ffe25994012a5dd918be264c2dd": {
      "model_module": "@jupyter-widgets/base",
      "model_module_version": "1.2.0",
      "model_name": "LayoutModel",
      "state": {}
     },
     "5e3e3b2a9cde40feb375f9523352329a": {
      "model_module": "@jupyter-widgets/controls",
      "model_module_version": "1.5.0",
      "model_name": "DescriptionStyleModel",
      "state": {
       "description_width": ""
      }
     },
     "5e69f2dfc08c41f7a641414422c49cf9": {
      "model_module": "@jupyter-widgets/controls",
      "model_module_version": "1.5.0",
      "model_name": "HBoxModel",
      "state": {
       "children": [
        "IPY_MODEL_4eb540ce3deb4f00b2507c4084337272",
        "IPY_MODEL_fdfa972072c44f9db241e98b3fe1b89d"
       ],
       "layout": "IPY_MODEL_1eeadae813f64938b684dcc28264cea0"
      }
     },
     "5e7809bfd5554467b076c3e7818cb36e": {
      "model_module": "@jupyter-widgets/base",
      "model_module_version": "1.2.0",
      "model_name": "LayoutModel",
      "state": {}
     },
     "5eab77ad72234a3b80571db20dca325c": {
      "model_module": "@jupyter-widgets/controls",
      "model_module_version": "1.5.0",
      "model_name": "HTMLModel",
      "state": {
       "layout": "IPY_MODEL_3ccd22bcfefe4c888667c85fa4093fb7",
       "style": "IPY_MODEL_c36c97c63d4f4e6da7e60c0aeb117d4a",
       "value": " 493/493 [46:41&lt;00:00,  5.68s/it]"
      }
     },
     "5f3e88a87ad4451d9a67127ee97721a3": {
      "model_module": "@jupyter-widgets/base",
      "model_module_version": "1.2.0",
      "model_name": "LayoutModel",
      "state": {}
     },
     "5fbd22e1101448d5b8fde0284c26cb42": {
      "model_module": "@jupyter-widgets/base",
      "model_module_version": "1.2.0",
      "model_name": "LayoutModel",
      "state": {}
     },
     "5fc9ab821ab34c278ceae6dd81bc58f7": {
      "model_module": "@jupyter-widgets/controls",
      "model_module_version": "1.5.0",
      "model_name": "FloatProgressModel",
      "state": {
       "bar_style": "success",
       "description": "[1] 1/1(val  ): 100%",
       "layout": "IPY_MODEL_63cf53cd422e4063b22e9f7e3b093bf3",
       "max": 1,
       "style": "IPY_MODEL_9820cfc534174ca6ac009f2cb44c3cc7",
       "value": 1
      }
     },
     "6005b6c151f54468afc196e5145c8b3d": {
      "model_module": "@jupyter-widgets/controls",
      "model_module_version": "1.5.0",
      "model_name": "HBoxModel",
      "state": {
       "children": [
        "IPY_MODEL_a43ebf849a914fdc862dad5811728f94",
        "IPY_MODEL_527c894b71164ab2a2329cd3f444187a"
       ],
       "layout": "IPY_MODEL_914401305e7b438aa824e77bfb7555b3"
      }
     },
     "602dd7b9cfad4ae291dcfe306e05f46a": {
      "model_module": "@jupyter-widgets/controls",
      "model_module_version": "1.5.0",
      "model_name": "DescriptionStyleModel",
      "state": {
       "description_width": ""
      }
     },
     "6042e0c3b94b470f9e4b7d6f94abd943": {
      "model_module": "@jupyter-widgets/base",
      "model_module_version": "1.2.0",
      "model_name": "LayoutModel",
      "state": {}
     },
     "6086b3f308a849d2acecc7e365c25113": {
      "model_module": "@jupyter-widgets/controls",
      "model_module_version": "1.5.0",
      "model_name": "HBoxModel",
      "state": {
       "children": [
        "IPY_MODEL_0d024ef616904e238bd75bfb9a72566a",
        "IPY_MODEL_ff577b2ee2c7489cbf2fba80009f8f0a"
       ],
       "layout": "IPY_MODEL_682e8813fcd5453b80e7293fad9d35e3"
      }
     },
     "60ef193e7fbe41afa69cc8cd0b4b6609": {
      "model_module": "@jupyter-widgets/controls",
      "model_module_version": "1.5.0",
      "model_name": "HBoxModel",
      "state": {
       "children": [
        "IPY_MODEL_e3c100f197c54f49879d4eff3fa634c5",
        "IPY_MODEL_113b4e9bb0ef4f3da07fd3528c09550c"
       ],
       "layout": "IPY_MODEL_b116af288ddf497b9323a2addf1361ed"
      }
     },
     "6104675317594e409feb247aebc32e88": {
      "model_module": "@jupyter-widgets/controls",
      "model_module_version": "1.5.0",
      "model_name": "FloatProgressModel",
      "state": {
       "bar_style": "success",
       "description": "[2] 12/12(train): 100%",
       "layout": "IPY_MODEL_ab4e3a98d5cf411fb21855ea4c53224e",
       "max": 493,
       "style": "IPY_MODEL_940eec82ddcc495c86cea6e380507c86",
       "value": 493
      }
     },
     "6148b4977fb74a36bba37c1bf173806a": {
      "model_module": "@jupyter-widgets/controls",
      "model_module_version": "1.5.0",
      "model_name": "ProgressStyleModel",
      "state": {
       "description_width": "initial"
      }
     },
     "618c0d23190f4620ad243043ea4bddb8": {
      "model_module": "@jupyter-widgets/base",
      "model_module_version": "1.2.0",
      "model_name": "LayoutModel",
      "state": {}
     },
     "618efbf8dc204acaae70f836abab6504": {
      "model_module": "@jupyter-widgets/base",
      "model_module_version": "1.2.0",
      "model_name": "LayoutModel",
      "state": {}
     },
     "6195406d107341138a2fd916478c61d8": {
      "model_module": "@jupyter-widgets/controls",
      "model_module_version": "1.5.0",
      "model_name": "HBoxModel",
      "state": {
       "children": [
        "IPY_MODEL_e597ca906ca6456ebfb281a7b0ef5520",
        "IPY_MODEL_d41b85f7e8ed4158997c03898a3b189c"
       ],
       "layout": "IPY_MODEL_48cd28ea0f334d1d99d8c6ea8619db53"
      }
     },
     "61d05564928f4a1b96997e52d6df5f00": {
      "model_module": "@jupyter-widgets/base",
      "model_module_version": "1.2.0",
      "model_name": "LayoutModel",
      "state": {}
     },
     "61fccbde0e564192bfdac7bb4619e8f5": {
      "model_module": "@jupyter-widgets/controls",
      "model_module_version": "1.5.0",
      "model_name": "HTMLModel",
      "state": {
       "layout": "IPY_MODEL_4619ab6b9470493da0d74ef2e64dabac",
       "style": "IPY_MODEL_0ac28deba7d143b9a244bfd33c35fb00",
       "value": " 165/165 [04:13&lt;00:00,  1.53s/it]"
      }
     },
     "626b2f2c8552410bb28fab3b2ead9d57": {
      "model_module": "@jupyter-widgets/base",
      "model_module_version": "1.2.0",
      "model_name": "LayoutModel",
      "state": {}
     },
     "628582e6e4624f77b12a55b28aecf1ee": {
      "model_module": "@jupyter-widgets/base",
      "model_module_version": "1.2.0",
      "model_name": "LayoutModel",
      "state": {}
     },
     "62c5f67a761847dea82f88599ffe3c38": {
      "model_module": "@jupyter-widgets/controls",
      "model_module_version": "1.5.0",
      "model_name": "ProgressStyleModel",
      "state": {
       "description_width": "initial"
      }
     },
     "62d96049c76946a39c4630df8c7f0c74": {
      "model_module": "@jupyter-widgets/controls",
      "model_module_version": "1.5.0",
      "model_name": "ProgressStyleModel",
      "state": {
       "description_width": "initial"
      }
     },
     "630094b5375e42b591bdfbf818f232a8": {
      "model_module": "@jupyter-widgets/controls",
      "model_module_version": "1.5.0",
      "model_name": "ProgressStyleModel",
      "state": {
       "description_width": "initial"
      }
     },
     "632a7f304482409ea5016027ad60af40": {
      "model_module": "@jupyter-widgets/controls",
      "model_module_version": "1.5.0",
      "model_name": "ProgressStyleModel",
      "state": {
       "description_width": "initial"
      }
     },
     "638489ede49f4cda8aba6adc95880c1c": {
      "model_module": "@jupyter-widgets/controls",
      "model_module_version": "1.5.0",
      "model_name": "ProgressStyleModel",
      "state": {
       "description_width": "initial"
      }
     },
     "63bffaf0d4d048079158247ed671ccb6": {
      "model_module": "@jupyter-widgets/base",
      "model_module_version": "1.2.0",
      "model_name": "LayoutModel",
      "state": {}
     },
     "63cf53cd422e4063b22e9f7e3b093bf3": {
      "model_module": "@jupyter-widgets/base",
      "model_module_version": "1.2.0",
      "model_name": "LayoutModel",
      "state": {}
     },
     "63e5fcd0d99245ec8a9374a0680406a5": {
      "model_module": "@jupyter-widgets/base",
      "model_module_version": "1.2.0",
      "model_name": "LayoutModel",
      "state": {}
     },
     "6415271c361e4daca7cac7bbc30d2054": {
      "model_module": "@jupyter-widgets/base",
      "model_module_version": "1.2.0",
      "model_name": "LayoutModel",
      "state": {}
     },
     "6437282a585c4281bcdc696f1143fa16": {
      "model_module": "@jupyter-widgets/base",
      "model_module_version": "1.2.0",
      "model_name": "LayoutModel",
      "state": {}
     },
     "64ab139f094c441f9c783385df43f21c": {
      "model_module": "@jupyter-widgets/controls",
      "model_module_version": "1.5.0",
      "model_name": "HTMLModel",
      "state": {
       "layout": "IPY_MODEL_65ceb76ee7834d5d89364c429225ca2e",
       "style": "IPY_MODEL_ad1a0ca8d6cf4e948d1158ca553b5cb4",
       "value": " 165/165 [11:56&lt;00:00,  4.34s/it]"
      }
     },
     "64cf4f4bba964c30ac43f2423829ec3b": {
      "model_module": "@jupyter-widgets/controls",
      "model_module_version": "1.5.0",
      "model_name": "ProgressStyleModel",
      "state": {
       "description_width": "initial"
      }
     },
     "650685b6becd4b8189e60b3e4770cc61": {
      "model_module": "@jupyter-widgets/base",
      "model_module_version": "1.2.0",
      "model_name": "LayoutModel",
      "state": {}
     },
     "65c82bec228b4097a7165524c6cf3a63": {
      "model_module": "@jupyter-widgets/controls",
      "model_module_version": "1.5.0",
      "model_name": "ProgressStyleModel",
      "state": {
       "description_width": "initial"
      }
     },
     "65ceb76ee7834d5d89364c429225ca2e": {
      "model_module": "@jupyter-widgets/base",
      "model_module_version": "1.2.0",
      "model_name": "LayoutModel",
      "state": {}
     },
     "6638829f9e494a299a056f1b36bfc689": {
      "model_module": "@jupyter-widgets/base",
      "model_module_version": "1.2.0",
      "model_name": "LayoutModel",
      "state": {}
     },
     "67112642de4342fd9ddd5b24a8cf7dd5": {
      "model_module": "@jupyter-widgets/base",
      "model_module_version": "1.2.0",
      "model_name": "LayoutModel",
      "state": {}
     },
     "6723c079cf484e48a5b05adb1895a5e6": {
      "model_module": "@jupyter-widgets/base",
      "model_module_version": "1.2.0",
      "model_name": "LayoutModel",
      "state": {}
     },
     "674952a433aa464d81dbbcbd9ff1e1bc": {
      "model_module": "@jupyter-widgets/controls",
      "model_module_version": "1.5.0",
      "model_name": "ProgressStyleModel",
      "state": {
       "description_width": "initial"
      }
     },
     "682e8813fcd5453b80e7293fad9d35e3": {
      "model_module": "@jupyter-widgets/base",
      "model_module_version": "1.2.0",
      "model_name": "LayoutModel",
      "state": {}
     },
     "6846e5a6c0d34d9bae28aaabe601ae2d": {
      "model_module": "@jupyter-widgets/controls",
      "model_module_version": "1.5.0",
      "model_name": "HBoxModel",
      "state": {
       "children": [
        "IPY_MODEL_f1d18e6021ed413db17c6b57e6a82ecb",
        "IPY_MODEL_79f75cf4ae5d4e34b9a6ae77ac35f4b2"
       ],
       "layout": "IPY_MODEL_dbe1cc6478264d4bb0fab64f4e16f576"
      }
     },
     "6852570362bc444ca65f33dd592ceff2": {
      "model_module": "@jupyter-widgets/base",
      "model_module_version": "1.2.0",
      "model_name": "LayoutModel",
      "state": {}
     },
     "6854d505c5b745dda5e3a515b9e23541": {
      "model_module": "@jupyter-widgets/controls",
      "model_module_version": "1.5.0",
      "model_name": "ProgressStyleModel",
      "state": {
       "description_width": "initial"
      }
     },
     "68b4ebcdbe12484b90e6bbce67e7c020": {
      "model_module": "@jupyter-widgets/base",
      "model_module_version": "1.2.0",
      "model_name": "LayoutModel",
      "state": {}
     },
     "68c086d7a4b44b7d99b7d28cc91ff65b": {
      "model_module": "@jupyter-widgets/controls",
      "model_module_version": "1.5.0",
      "model_name": "ProgressStyleModel",
      "state": {
       "description_width": "initial"
      }
     },
     "6927c8293fa74234abc1dba326088845": {
      "model_module": "@jupyter-widgets/controls",
      "model_module_version": "1.5.0",
      "model_name": "ProgressStyleModel",
      "state": {
       "description_width": "initial"
      }
     },
     "693bf16fa7ad4c93a5a503040d20fbb2": {
      "model_module": "@jupyter-widgets/controls",
      "model_module_version": "1.5.0",
      "model_name": "HTMLModel",
      "state": {
       "layout": "IPY_MODEL_b0f1e203a2304af4975eeab6c337831c",
       "style": "IPY_MODEL_8da47edb0d7b445b9b396c82ba671002",
       "value": " 493/493 [45:59&lt;00:00,  5.60s/it]"
      }
     },
     "698822326ed1438aade33bc90f8d97fe": {
      "model_module": "@jupyter-widgets/controls",
      "model_module_version": "1.5.0",
      "model_name": "HTMLModel",
      "state": {
       "layout": "IPY_MODEL_04bd64dd24ce4333b38e6ac04b1e7ac4",
       "style": "IPY_MODEL_166518a5db824d1d96a21feba6be9e1e",
       "value": " 493/493 [45:35&lt;00:00,  5.55s/it]"
      }
     },
     "698a32dc4d2840f9a831f19e9b2e50e3": {
      "model_module": "@jupyter-widgets/controls",
      "model_module_version": "1.5.0",
      "model_name": "ProgressStyleModel",
      "state": {
       "description_width": "initial"
      }
     },
     "699c56cb46f647518b6a857d9cb984c7": {
      "model_module": "@jupyter-widgets/controls",
      "model_module_version": "1.5.0",
      "model_name": "HBoxModel",
      "state": {
       "children": [
        "IPY_MODEL_98601030cbdf49d7b52a8cb49fcdaa44",
        "IPY_MODEL_894d66322f884882bd1ee7fe633e94a4"
       ],
       "layout": "IPY_MODEL_43844a12c0b748748f4b48801ddd1599"
      }
     },
     "6a106cf52f04432f90796b957b1d1240": {
      "model_module": "@jupyter-widgets/controls",
      "model_module_version": "1.5.0",
      "model_name": "DescriptionStyleModel",
      "state": {
       "description_width": ""
      }
     },
     "6a3d7757559242d094c2e50d4b5d8366": {
      "model_module": "@jupyter-widgets/base",
      "model_module_version": "1.2.0",
      "model_name": "LayoutModel",
      "state": {}
     },
     "6a72291bd6f7458990796d946c39855c": {
      "model_module": "@jupyter-widgets/controls",
      "model_module_version": "1.5.0",
      "model_name": "FloatProgressModel",
      "state": {
       "bar_style": "success",
       "description": "[2] 5/12(val  ): 100%",
       "layout": "IPY_MODEL_5abd73e7b492488c9a78d35195172cac",
       "max": 165,
       "style": "IPY_MODEL_88241c790b9c448fb05230071ce7e157",
       "value": 165
      }
     },
     "6a7b17d6e3e344ba982b82e64a175dab": {
      "model_module": "@jupyter-widgets/base",
      "model_module_version": "1.2.0",
      "model_name": "LayoutModel",
      "state": {}
     },
     "6a810393cc30458b9fa020dea0f630e4": {
      "model_module": "@jupyter-widgets/controls",
      "model_module_version": "1.5.0",
      "model_name": "HBoxModel",
      "state": {
       "children": [
        "IPY_MODEL_352c3b1a45864cd2814a4fe66112c9f8",
        "IPY_MODEL_dad80cfcc4124fdfa09daaadbee9e0df"
       ],
       "layout": "IPY_MODEL_ca1ca5150f634ca88179c4e903f811f8"
      }
     },
     "6a8bc8eba0c9486ab54c635762328036": {
      "model_module": "@jupyter-widgets/controls",
      "model_module_version": "1.5.0",
      "model_name": "HBoxModel",
      "state": {
       "children": [
        "IPY_MODEL_eb46bf50e4a24d32af5501a02c769c16",
        "IPY_MODEL_ca658b538a954911b04c045850750bb1"
       ],
       "layout": "IPY_MODEL_1266fff0928645e9a773e03b1a19c915"
      }
     },
     "6ad7250b1d3d4e60b7152cee41320b4d": {
      "model_module": "@jupyter-widgets/controls",
      "model_module_version": "1.5.0",
      "model_name": "FloatProgressModel",
      "state": {
       "bar_style": "success",
       "description": "[3] 7/12(val  ): 100%",
       "layout": "IPY_MODEL_6042e0c3b94b470f9e4b7d6f94abd943",
       "max": 165,
       "style": "IPY_MODEL_638489ede49f4cda8aba6adc95880c1c",
       "value": 165
      }
     },
     "6b33357d870548efbdd9a0d1254a3ebc": {
      "model_module": "@jupyter-widgets/base",
      "model_module_version": "1.2.0",
      "model_name": "LayoutModel",
      "state": {}
     },
     "6be1d188632c452c9568a12aa92ae515": {
      "model_module": "@jupyter-widgets/base",
      "model_module_version": "1.2.0",
      "model_name": "LayoutModel",
      "state": {}
     },
     "6c0552e59f9d49e6b8f8bb19ff1c1feb": {
      "model_module": "@jupyter-widgets/controls",
      "model_module_version": "1.5.0",
      "model_name": "HTMLModel",
      "state": {
       "layout": "IPY_MODEL_d52347c6105f49a0b28e1206f464d2f4",
       "style": "IPY_MODEL_9d246ede454f4ae38fa9ea042f2c68a3",
       "value": " 1/1 [00:11&lt;00:00, 11.72s/it]"
      }
     },
     "6ce06d06ffaf446fb5ca451160aef622": {
      "model_module": "@jupyter-widgets/base",
      "model_module_version": "1.2.0",
      "model_name": "LayoutModel",
      "state": {}
     },
     "6d898966c92b4644a62716c00d210d28": {
      "model_module": "@jupyter-widgets/base",
      "model_module_version": "1.2.0",
      "model_name": "LayoutModel",
      "state": {}
     },
     "6d99dad05f084421b06ae219d2f4f805": {
      "model_module": "@jupyter-widgets/controls",
      "model_module_version": "1.5.0",
      "model_name": "FloatProgressModel",
      "state": {
       "bar_style": "success",
       "description": "[3] 2/12(val  ): 100%",
       "layout": "IPY_MODEL_6a3d7757559242d094c2e50d4b5d8366",
       "max": 165,
       "style": "IPY_MODEL_a911395a99e3438ea430691f35e81263",
       "value": 165
      }
     },
     "6e5205a70b47461fb8786100536bd911": {
      "model_module": "@jupyter-widgets/controls",
      "model_module_version": "1.5.0",
      "model_name": "DescriptionStyleModel",
      "state": {
       "description_width": ""
      }
     },
     "6e5c63b4cfce4ef6a03832e1c4cb317f": {
      "model_module": "@jupyter-widgets/controls",
      "model_module_version": "1.5.0",
      "model_name": "DescriptionStyleModel",
      "state": {
       "description_width": ""
      }
     },
     "6ee8f83b14ec41f29ad93c4aa971d85d": {
      "model_module": "@jupyter-widgets/base",
      "model_module_version": "1.2.0",
      "model_name": "LayoutModel",
      "state": {}
     },
     "6ef995af52fb4a949002238c766a2b9d": {
      "model_module": "@jupyter-widgets/controls",
      "model_module_version": "1.5.0",
      "model_name": "HBoxModel",
      "state": {
       "children": [
        "IPY_MODEL_cba8e25c9a9a4747851bc9b582e55104",
        "IPY_MODEL_4c206f6316a646539bc33d71ed991f86"
       ],
       "layout": "IPY_MODEL_4a3736c434324000bedd962aef9f45b6"
      }
     },
     "6f3b5a590d134a1d9f3fb0a1d80e70f7": {
      "model_module": "@jupyter-widgets/controls",
      "model_module_version": "1.5.0",
      "model_name": "HTMLModel",
      "state": {
       "layout": "IPY_MODEL_ee538487403a4999bc078a8b7b13c8a5",
       "style": "IPY_MODEL_94516d5d4a834c8e94a8d39498317c44",
       "value": " 165/165 [16:55&lt;00:00,  6.15s/it]"
      }
     },
     "6f3b91d684f0480b93a30d943ad7860c": {
      "model_module": "@jupyter-widgets/controls",
      "model_module_version": "1.5.0",
      "model_name": "HTMLModel",
      "state": {
       "layout": "IPY_MODEL_1cb1d28775ff472ab62fb5945c25b291",
       "style": "IPY_MODEL_98dc82655fa4456ab14f8695651c9877",
       "value": " 165/165 [11:00&lt;00:00,  4.00s/it]"
      }
     },
     "6f443f3722bb44a0b2ee2e295dfe69f8": {
      "model_module": "@jupyter-widgets/controls",
      "model_module_version": "1.5.0",
      "model_name": "HBoxModel",
      "state": {
       "children": [
        "IPY_MODEL_a242e6d90266409ea193c3783cdaecef",
        "IPY_MODEL_d607e4a45f3946b982100a9021e764f9"
       ],
       "layout": "IPY_MODEL_04eb2b6ec9dc45a8b628ec5f3684842d"
      }
     },
     "6f4ae7fd3e374a88b054895bce3421af": {
      "model_module": "@jupyter-widgets/controls",
      "model_module_version": "1.5.0",
      "model_name": "FloatProgressModel",
      "state": {
       "bar_style": "success",
       "description": "[1] 2/12(val  ): 100%",
       "layout": "IPY_MODEL_05feb266f41a4597ab4bfbef3e84d610",
       "max": 165,
       "style": "IPY_MODEL_7e8a9c5e418e40b0a6696c571e72b950",
       "value": 165
      }
     },
     "6f709d7b047c470ba65bb1efbb1a48aa": {
      "model_module": "@jupyter-widgets/base",
      "model_module_version": "1.2.0",
      "model_name": "LayoutModel",
      "state": {}
     },
     "6f89f4c51d4a4568a02435852a4203eb": {
      "model_module": "@jupyter-widgets/base",
      "model_module_version": "1.2.0",
      "model_name": "LayoutModel",
      "state": {}
     },
     "709f108a915149c381299449c2edfec2": {
      "model_module": "@jupyter-widgets/controls",
      "model_module_version": "1.5.0",
      "model_name": "ProgressStyleModel",
      "state": {
       "description_width": "initial"
      }
     },
     "712a1f85dfbc46f7a38e7ff158348800": {
      "model_module": "@jupyter-widgets/controls",
      "model_module_version": "1.5.0",
      "model_name": "DescriptionStyleModel",
      "state": {
       "description_width": ""
      }
     },
     "71570a913fd74df6b745e7b444a95625": {
      "model_module": "@jupyter-widgets/base",
      "model_module_version": "1.2.0",
      "model_name": "LayoutModel",
      "state": {}
     },
     "7187c8eebdb54f18a95746f65a1645e0": {
      "model_module": "@jupyter-widgets/base",
      "model_module_version": "1.2.0",
      "model_name": "LayoutModel",
      "state": {}
     },
     "718ed66c7eb9426ebb621cf42832e3f9": {
      "model_module": "@jupyter-widgets/controls",
      "model_module_version": "1.5.0",
      "model_name": "HTMLModel",
      "state": {
       "layout": "IPY_MODEL_299463d9907d436b8a4f217b040fa231",
       "style": "IPY_MODEL_bf4f6287a4d5432380ca9d390ea92c6c",
       "value": " 165/165 [46:50&lt;00:00, 17.03s/it]"
      }
     },
     "71c6e34fb58b4b9ab6fdba0365172e74": {
      "model_module": "@jupyter-widgets/controls",
      "model_module_version": "1.5.0",
      "model_name": "FloatProgressModel",
      "state": {
       "bar_style": "success",
       "description": "[3] 7/12(train): 100%",
       "layout": "IPY_MODEL_8de5ce14cb6545c3be1f3368540348fc",
       "max": 493,
       "style": "IPY_MODEL_0c49fcc0ae3844de8224c3f4ef98a22b",
       "value": 493
      }
     },
     "72f7bc25acea4b01836bccf10ddb5fc2": {
      "model_module": "@jupyter-widgets/controls",
      "model_module_version": "1.5.0",
      "model_name": "HTMLModel",
      "state": {
       "layout": "IPY_MODEL_fefd3fb2691f4b9abe072246d9f93034",
       "style": "IPY_MODEL_bcd94ff65f7f485987c85cb962fdfdcb",
       "value": " 493/493 [37:02&lt;00:00,  4.51s/it]"
      }
     },
     "731a794e884d4e6a823e3b1b02810cd3": {
      "model_module": "@jupyter-widgets/base",
      "model_module_version": "1.2.0",
      "model_name": "LayoutModel",
      "state": {}
     },
     "732bdaa7c23540a9b7c43efe57d66037": {
      "model_module": "@jupyter-widgets/base",
      "model_module_version": "1.2.0",
      "model_name": "LayoutModel",
      "state": {}
     },
     "735d76634d0e4f12906dc95d4fb2e2ff": {
      "model_module": "@jupyter-widgets/controls",
      "model_module_version": "1.5.0",
      "model_name": "HBoxModel",
      "state": {
       "children": [
        "IPY_MODEL_428fb899c0eb4e5f96c22fef4d593378",
        "IPY_MODEL_9f6b6d38bd7d430cad557cf5ac5252a5"
       ],
       "layout": "IPY_MODEL_2f1f2fc3384542c68050e0d87aeb8dd1"
      }
     },
     "7432d839e4e143d9ad6647ef7c7abec8": {
      "model_module": "@jupyter-widgets/controls",
      "model_module_version": "1.5.0",
      "model_name": "HTMLModel",
      "state": {
       "layout": "IPY_MODEL_0f320048174d443eb6c3aa8d28c799b7",
       "style": "IPY_MODEL_465271155db348d9b25afee6cf9b4baa",
       "value": " 493/493 [46:15&lt;00:00,  5.63s/it]"
      }
     },
     "743c6e56b1324adbab44594dc790d29b": {
      "model_module": "@jupyter-widgets/base",
      "model_module_version": "1.2.0",
      "model_name": "LayoutModel",
      "state": {}
     },
     "749a55f8d8da4a18891bc3eabc7e9e9c": {
      "model_module": "@jupyter-widgets/base",
      "model_module_version": "1.2.0",
      "model_name": "LayoutModel",
      "state": {}
     },
     "74f2d01e6d8244b4bdc08f19c14297ae": {
      "model_module": "@jupyter-widgets/controls",
      "model_module_version": "1.5.0",
      "model_name": "HTMLModel",
      "state": {
       "layout": "IPY_MODEL_88af9e35f8ad49588d4b1063e913e023",
       "style": "IPY_MODEL_ae0502a4472e405d97a12359bbe2c204",
       "value": " 165/165 [7:47:02&lt;00:00, 169.84s/it]"
      }
     },
     "755936556d4e4d738c22da596feed94c": {
      "model_module": "@jupyter-widgets/controls",
      "model_module_version": "1.5.0",
      "model_name": "HTMLModel",
      "state": {
       "layout": "IPY_MODEL_dc4422118947425f8a62e29442844f42",
       "style": "IPY_MODEL_602dd7b9cfad4ae291dcfe306e05f46a",
       "value": " 0/3 [00:00&lt;?, ?it/s]"
      }
     },
     "755993eec727421c8833f51171782f66": {
      "model_module": "@jupyter-widgets/controls",
      "model_module_version": "1.5.0",
      "model_name": "HBoxModel",
      "state": {
       "children": [
        "IPY_MODEL_f2d979adf0ca49bfbfe1c3fe4a321172",
        "IPY_MODEL_ee1f13ddbf6149e7af5df46c8eae175b"
       ],
       "layout": "IPY_MODEL_2c042b644c014dd984d7a86c2d691925"
      }
     },
     "759746388863481b937c81a0a014f195": {
      "model_module": "@jupyter-widgets/base",
      "model_module_version": "1.2.0",
      "model_name": "LayoutModel",
      "state": {}
     },
     "75cb28058be84f44a366d2e388b27660": {
      "model_module": "@jupyter-widgets/base",
      "model_module_version": "1.2.0",
      "model_name": "LayoutModel",
      "state": {}
     },
     "75e4063276d848c7950a9b97978d5c1c": {
      "model_module": "@jupyter-widgets/controls",
      "model_module_version": "1.5.0",
      "model_name": "FloatProgressModel",
      "state": {
       "bar_style": "success",
       "description": "[0] 12/12(train): 100%",
       "layout": "IPY_MODEL_d22726c998494997854fb91c926c269b",
       "max": 493,
       "style": "IPY_MODEL_630094b5375e42b591bdfbf818f232a8",
       "value": 493
      }
     },
     "762267255d4c4d2fa181818c8be93ad8": {
      "model_module": "@jupyter-widgets/base",
      "model_module_version": "1.2.0",
      "model_name": "LayoutModel",
      "state": {}
     },
     "767adcd31f634958a06dd1c0da0faf19": {
      "model_module": "@jupyter-widgets/controls",
      "model_module_version": "1.5.0",
      "model_name": "ProgressStyleModel",
      "state": {
       "description_width": "initial"
      }
     },
     "7692e842c45f4abf9f0c3f61fffb185b": {
      "model_module": "@jupyter-widgets/base",
      "model_module_version": "1.2.0",
      "model_name": "LayoutModel",
      "state": {}
     },
     "769f3cc0f817489d87fecd0bab25af56": {
      "model_module": "@jupyter-widgets/base",
      "model_module_version": "1.2.0",
      "model_name": "LayoutModel",
      "state": {}
     },
     "771417f916eb4e4e87afa074256f70a0": {
      "model_module": "@jupyter-widgets/base",
      "model_module_version": "1.2.0",
      "model_name": "LayoutModel",
      "state": {}
     },
     "7728a085cf8d441da512a467a253aa67": {
      "model_module": "@jupyter-widgets/base",
      "model_module_version": "1.2.0",
      "model_name": "LayoutModel",
      "state": {}
     },
     "779433b599504eda892cff5125fd1391": {
      "model_module": "@jupyter-widgets/controls",
      "model_module_version": "1.5.0",
      "model_name": "FloatProgressModel",
      "state": {
       "bar_style": "success",
       "description": "[3] 4/12(train): 100%",
       "layout": "IPY_MODEL_f65c70576fd1418ea48ea9544fcc916a",
       "max": 493,
       "style": "IPY_MODEL_3c2f49c33b9f432d9c74b0d55d4b77ab",
       "value": 493
      }
     },
     "7800430a8f3f4516992cee4974d6d2a3": {
      "model_module": "@jupyter-widgets/controls",
      "model_module_version": "1.5.0",
      "model_name": "ProgressStyleModel",
      "state": {
       "description_width": "initial"
      }
     },
     "783ebf5d494c4a4aa87d7dc61d9d4d9c": {
      "model_module": "@jupyter-widgets/controls",
      "model_module_version": "1.5.0",
      "model_name": "FloatProgressModel",
      "state": {
       "bar_style": "success",
       "description": "100%",
       "layout": "IPY_MODEL_dc98766cd2e8442d8f6288bcc050ce80",
       "max": 165,
       "style": "IPY_MODEL_8cef14577e934587803170a7f23bdea1",
       "value": 165
      }
     },
     "7862955c8af14a0db9a3d7330ffaf391": {
      "model_module": "@jupyter-widgets/base",
      "model_module_version": "1.2.0",
      "model_name": "LayoutModel",
      "state": {}
     },
     "788855b7ed0648e08d9b7c8b6c6e1fc6": {
      "model_module": "@jupyter-widgets/controls",
      "model_module_version": "1.5.0",
      "model_name": "DescriptionStyleModel",
      "state": {
       "description_width": ""
      }
     },
     "788ec105cd144550ac01e08cbad122c9": {
      "model_module": "@jupyter-widgets/base",
      "model_module_version": "1.2.0",
      "model_name": "LayoutModel",
      "state": {}
     },
     "78ca3a40b4514711a9e5ebd9520295b4": {
      "model_module": "@jupyter-widgets/base",
      "model_module_version": "1.2.0",
      "model_name": "LayoutModel",
      "state": {}
     },
     "7958bcf3cca04a90b54f0eb0d7cf9071": {
      "model_module": "@jupyter-widgets/base",
      "model_module_version": "1.2.0",
      "model_name": "LayoutModel",
      "state": {}
     },
     "79f75cf4ae5d4e34b9a6ae77ac35f4b2": {
      "model_module": "@jupyter-widgets/controls",
      "model_module_version": "1.5.0",
      "model_name": "HTMLModel",
      "state": {
       "layout": "IPY_MODEL_80ef6154d71f4c93b5ec0d3b2f71978b",
       "style": "IPY_MODEL_3766e61b6c824ac6aee40fdc10b843ed",
       "value": " 165/165 [11:00&lt;00:00,  4.00s/it]"
      }
     },
     "7a0d3a8ceabc4720aff703d3bf0d7909": {
      "model_module": "@jupyter-widgets/controls",
      "model_module_version": "1.5.0",
      "model_name": "FloatProgressModel",
      "state": {
       "bar_style": "success",
       "description": "[3] 1/12(val  ): 100%",
       "layout": "IPY_MODEL_5a9ebcf8669a4feca2e9c0f214077671",
       "max": 165,
       "style": "IPY_MODEL_f1a13208648a42d4a08627340d4f9631",
       "value": 165
      }
     },
     "7a7724f85ad94600ac91c347628db9fb": {
      "model_module": "@jupyter-widgets/controls",
      "model_module_version": "1.5.0",
      "model_name": "HBoxModel",
      "state": {
       "children": [
        "IPY_MODEL_75e4063276d848c7950a9b97978d5c1c",
        "IPY_MODEL_f27bd9b033d54992b4b4a676db4ac5a6"
       ],
       "layout": "IPY_MODEL_aa906f81ea3d4601851ae3021ad18778"
      }
     },
     "7b4ca315ae3e415489053149a3fada92": {
      "model_module": "@jupyter-widgets/controls",
      "model_module_version": "1.5.0",
      "model_name": "HTMLModel",
      "state": {
       "layout": "IPY_MODEL_92a22df07e1548b1900bc789374ab99e",
       "style": "IPY_MODEL_6e5205a70b47461fb8786100536bd911",
       "value": " 493/493 [46:28&lt;00:00,  5.66s/it]"
      }
     },
     "7b8893ef38ca4564a3a0e35a31fd9f4d": {
      "model_module": "@jupyter-widgets/controls",
      "model_module_version": "1.5.0",
      "model_name": "DescriptionStyleModel",
      "state": {
       "description_width": ""
      }
     },
     "7bb62646d1394cd5b2259901f3a416c7": {
      "model_module": "@jupyter-widgets/controls",
      "model_module_version": "1.5.0",
      "model_name": "ProgressStyleModel",
      "state": {
       "description_width": "initial"
      }
     },
     "7bcb795fc7e540e3a3a28baf046f6bb9": {
      "model_module": "@jupyter-widgets/base",
      "model_module_version": "1.2.0",
      "model_name": "LayoutModel",
      "state": {}
     },
     "7c02717c8263411389f7cf1e2bf918fe": {
      "model_module": "@jupyter-widgets/controls",
      "model_module_version": "1.5.0",
      "model_name": "DescriptionStyleModel",
      "state": {
       "description_width": ""
      }
     },
     "7c032a2cb43c48d683803c16b353aa6d": {
      "model_module": "@jupyter-widgets/controls",
      "model_module_version": "1.5.0",
      "model_name": "ProgressStyleModel",
      "state": {
       "description_width": "initial"
      }
     },
     "7c0a28abf759455f80f225586589459d": {
      "model_module": "@jupyter-widgets/controls",
      "model_module_version": "1.5.0",
      "model_name": "HBoxModel",
      "state": {
       "children": [
        "IPY_MODEL_baa8ddfb7092436f90d2b9d78a01eeb4",
        "IPY_MODEL_ce2e9ef9b1dd48a88457dee4a43f74d4"
       ],
       "layout": "IPY_MODEL_a699c4fb6ddc4f6e83ed790f6db4658e"
      }
     },
     "7c0ddf3fbcd74c21a138659690f21de8": {
      "model_module": "@jupyter-widgets/controls",
      "model_module_version": "1.5.0",
      "model_name": "FloatProgressModel",
      "state": {
       "bar_style": "success",
       "description": "[1] 10/12(train): 100%",
       "layout": "IPY_MODEL_788ec105cd144550ac01e08cbad122c9",
       "max": 493,
       "style": "IPY_MODEL_5532e852c6d4401a9cd0120f17ded86e",
       "value": 493
      }
     },
     "7c1da96aba414011bba99009f36b495e": {
      "model_module": "@jupyter-widgets/controls",
      "model_module_version": "1.5.0",
      "model_name": "HTMLModel",
      "state": {
       "layout": "IPY_MODEL_8a32515995f44d08aff47dcca04226f8",
       "style": "IPY_MODEL_9a69cb19c0d2491da1c7b2b2ece0cff9",
       "value": " 0/3 [00:01&lt;?, ?it/s]"
      }
     },
     "7c32f90255f24d0fa0765b008a561cb4": {
      "model_module": "@jupyter-widgets/controls",
      "model_module_version": "1.5.0",
      "model_name": "ProgressStyleModel",
      "state": {
       "description_width": "initial"
      }
     },
     "7d01ee00079d4361bb8a3666c760f637": {
      "model_module": "@jupyter-widgets/base",
      "model_module_version": "1.2.0",
      "model_name": "LayoutModel",
      "state": {}
     },
     "7d425931701849238e50b52b27525e0f": {
      "model_module": "@jupyter-widgets/controls",
      "model_module_version": "1.5.0",
      "model_name": "HTMLModel",
      "state": {
       "layout": "IPY_MODEL_f682bfa70a1b436fb7203ea3b071a3d5",
       "style": "IPY_MODEL_abd3fac50231425e86da692acbd42118",
       "value": " 493/493 [5:19:30&lt;00:00, 38.89s/it]"
      }
     },
     "7d9801656335475290bf29687b59a015": {
      "model_module": "@jupyter-widgets/base",
      "model_module_version": "1.2.0",
      "model_name": "LayoutModel",
      "state": {}
     },
     "7d9d84dd582740bc90c8564c42724841": {
      "model_module": "@jupyter-widgets/controls",
      "model_module_version": "1.5.0",
      "model_name": "ProgressStyleModel",
      "state": {
       "description_width": "initial"
      }
     },
     "7dec41afef524132a5f0d6bd43f3159c": {
      "model_module": "@jupyter-widgets/controls",
      "model_module_version": "1.5.0",
      "model_name": "HTMLModel",
      "state": {
       "layout": "IPY_MODEL_bd9624551a3a4928b6e68cbeab21c0d4",
       "style": "IPY_MODEL_712a1f85dfbc46f7a38e7ff158348800",
       "value": " 165/165 [11:43&lt;00:00,  4.26s/it]"
      }
     },
     "7e8a9c5e418e40b0a6696c571e72b950": {
      "model_module": "@jupyter-widgets/controls",
      "model_module_version": "1.5.0",
      "model_name": "ProgressStyleModel",
      "state": {
       "description_width": "initial"
      }
     },
     "7ebac84f609945af9733040bb8f24f37": {
      "model_module": "@jupyter-widgets/controls",
      "model_module_version": "1.5.0",
      "model_name": "DescriptionStyleModel",
      "state": {
       "description_width": ""
      }
     },
     "7ef5b36c6b784fcd9484e97f1ac3c225": {
      "model_module": "@jupyter-widgets/base",
      "model_module_version": "1.2.0",
      "model_name": "LayoutModel",
      "state": {}
     },
     "7ffe63b915af4f71937a14da7f82e087": {
      "model_module": "@jupyter-widgets/controls",
      "model_module_version": "1.5.0",
      "model_name": "FloatProgressModel",
      "state": {
       "bar_style": "success",
       "description": "[1] 2/12(train): 100%",
       "layout": "IPY_MODEL_762267255d4c4d2fa181818c8be93ad8",
       "max": 493,
       "style": "IPY_MODEL_9556f13c38914b60af53281d58c42af4",
       "value": 493
      }
     },
     "808b7b3c551c4c54966b70438bec3789": {
      "model_module": "@jupyter-widgets/base",
      "model_module_version": "1.2.0",
      "model_name": "LayoutModel",
      "state": {}
     },
     "80d021beb9bb4c80a122ec1906c1dd51": {
      "model_module": "@jupyter-widgets/base",
      "model_module_version": "1.2.0",
      "model_name": "LayoutModel",
      "state": {}
     },
     "80ef6154d71f4c93b5ec0d3b2f71978b": {
      "model_module": "@jupyter-widgets/base",
      "model_module_version": "1.2.0",
      "model_name": "LayoutModel",
      "state": {}
     },
     "80ffd51bbee24c0988a17ad28dfa91a1": {
      "model_module": "@jupyter-widgets/base",
      "model_module_version": "1.2.0",
      "model_name": "LayoutModel",
      "state": {}
     },
     "810ab414bea44ee89ad964af8d7045ed": {
      "model_module": "@jupyter-widgets/controls",
      "model_module_version": "1.5.0",
      "model_name": "DescriptionStyleModel",
      "state": {
       "description_width": ""
      }
     },
     "8138e173c54847e88ecf7a50181e0e5b": {
      "model_module": "@jupyter-widgets/controls",
      "model_module_version": "1.5.0",
      "model_name": "HTMLModel",
      "state": {
       "layout": "IPY_MODEL_91e11c817d1c4517b24a1d0ddc6a5b4c",
       "style": "IPY_MODEL_846e05f6907a40f087231c5dbe5c2345",
       "value": " 165/165 [11:58&lt;00:00,  4.35s/it]"
      }
     },
     "813c3889014842f4a5d4d1d5f4e33642": {
      "model_module": "@jupyter-widgets/base",
      "model_module_version": "1.2.0",
      "model_name": "LayoutModel",
      "state": {}
     },
     "816a1c7f21904be08a5984878030e5b1": {
      "model_module": "@jupyter-widgets/base",
      "model_module_version": "1.2.0",
      "model_name": "LayoutModel",
      "state": {}
     },
     "81d663954b9a4888af4e4c9e24948866": {
      "model_module": "@jupyter-widgets/controls",
      "model_module_version": "1.5.0",
      "model_name": "FloatProgressModel",
      "state": {
       "bar_style": "success",
       "description": "100%",
       "layout": "IPY_MODEL_d12eacfccbe4452db683c16bc9ec50fd",
       "max": 1,
       "style": "IPY_MODEL_6148b4977fb74a36bba37c1bf173806a",
       "value": 1
      }
     },
     "822f376bc7b84104a7d5856b3abb5d0f": {
      "model_module": "@jupyter-widgets/controls",
      "model_module_version": "1.5.0",
      "model_name": "HBoxModel",
      "state": {
       "children": [
        "IPY_MODEL_fcc4718a2ce949cf86745fa6c85f8c71",
        "IPY_MODEL_da70068230b346dd9c9a61b1bef5a25b"
       ],
       "layout": "IPY_MODEL_51047bf3e05c4cb59d26626c06f97da9"
      }
     },
     "82300105b17948b6952e5cd7ea4184d1": {
      "model_module": "@jupyter-widgets/base",
      "model_module_version": "1.2.0",
      "model_name": "LayoutModel",
      "state": {}
     },
     "8284e467212249a0a56f25e7b34b235c": {
      "model_module": "@jupyter-widgets/controls",
      "model_module_version": "1.5.0",
      "model_name": "HTMLModel",
      "state": {
       "layout": "IPY_MODEL_12afd2e7ebbe487e8afd535c89ceb6ac",
       "style": "IPY_MODEL_97674257ee0340a180e167900e5b8bf8",
       "value": " 0/3 [00:10&lt;?, ?it/s]"
      }
     },
     "829ef39d3fa64761ab3326f4a1f902bf": {
      "model_module": "@jupyter-widgets/controls",
      "model_module_version": "1.5.0",
      "model_name": "FloatProgressModel",
      "state": {
       "bar_style": "success",
       "description": "[0] 1/1(train): 100%",
       "layout": "IPY_MODEL_46126aee778a40ecb1374d2a72568242",
       "max": 3,
       "style": "IPY_MODEL_65c82bec228b4097a7165524c6cf3a63",
       "value": 3
      }
     },
     "82c227bd1abd461489f70b15b0561c9b": {
      "model_module": "@jupyter-widgets/base",
      "model_module_version": "1.2.0",
      "model_name": "LayoutModel",
      "state": {}
     },
     "82d3f987fd0a4465bb166781aa20dadb": {
      "model_module": "@jupyter-widgets/controls",
      "model_module_version": "1.5.0",
      "model_name": "HBoxModel",
      "state": {
       "children": [
        "IPY_MODEL_05d5b4d018674c58a8ccd3facfdd316f",
        "IPY_MODEL_bb7db032675c4d2fb6018c2a65974914"
       ],
       "layout": "IPY_MODEL_a02f45a02c544dfd90cbbdb13dc5e2f6"
      }
     },
     "82d8e6b524b6467bb56d1edd6006e0e5": {
      "model_module": "@jupyter-widgets/controls",
      "model_module_version": "1.5.0",
      "model_name": "FloatProgressModel",
      "state": {
       "bar_style": "success",
       "description": "[0] 1/12(train): 100%",
       "layout": "IPY_MODEL_2989397da3e640b192ffad125eb2a552",
       "max": 493,
       "style": "IPY_MODEL_cb8abf23d9f34d88a87f63b6e6c5a1a4",
       "value": 493
      }
     },
     "838951626df74d80b76e851f33f99a96": {
      "model_module": "@jupyter-widgets/base",
      "model_module_version": "1.2.0",
      "model_name": "LayoutModel",
      "state": {}
     },
     "83bb5d2ca04040689b854e36216b40a1": {
      "model_module": "@jupyter-widgets/controls",
      "model_module_version": "1.5.0",
      "model_name": "DescriptionStyleModel",
      "state": {
       "description_width": ""
      }
     },
     "83ebb7fe334847bd8398ab56ff2a5bcb": {
      "model_module": "@jupyter-widgets/controls",
      "model_module_version": "1.5.0",
      "model_name": "ProgressStyleModel",
      "state": {
       "description_width": "initial"
      }
     },
     "844cb791843c4498a646fdcebc17f0cb": {
      "model_module": "@jupyter-widgets/base",
      "model_module_version": "1.2.0",
      "model_name": "LayoutModel",
      "state": {}
     },
     "846e05f6907a40f087231c5dbe5c2345": {
      "model_module": "@jupyter-widgets/controls",
      "model_module_version": "1.5.0",
      "model_name": "DescriptionStyleModel",
      "state": {
       "description_width": ""
      }
     },
     "8481c6364e304da98375a79b6af9a7ee": {
      "model_module": "@jupyter-widgets/controls",
      "model_module_version": "1.5.0",
      "model_name": "ProgressStyleModel",
      "state": {
       "description_width": "initial"
      }
     },
     "849bc729fa574ae9b743121a7a3f651b": {
      "model_module": "@jupyter-widgets/base",
      "model_module_version": "1.2.0",
      "model_name": "LayoutModel",
      "state": {}
     },
     "84a4aeed00b340f18b71704baf389830": {
      "model_module": "@jupyter-widgets/controls",
      "model_module_version": "1.5.0",
      "model_name": "DescriptionStyleModel",
      "state": {
       "description_width": ""
      }
     },
     "84feb5040e614f449e393bed36d52618": {
      "model_module": "@jupyter-widgets/base",
      "model_module_version": "1.2.0",
      "model_name": "LayoutModel",
      "state": {}
     },
     "8561968a9f67413b8e08371c6483efd3": {
      "model_module": "@jupyter-widgets/base",
      "model_module_version": "1.2.0",
      "model_name": "LayoutModel",
      "state": {}
     },
     "859d66b068604a52aadfcc467a0f3c0c": {
      "model_module": "@jupyter-widgets/controls",
      "model_module_version": "1.5.0",
      "model_name": "DescriptionStyleModel",
      "state": {
       "description_width": ""
      }
     },
     "85c2312f6e9e45018920195fee5a3197": {
      "model_module": "@jupyter-widgets/controls",
      "model_module_version": "1.5.0",
      "model_name": "FloatProgressModel",
      "state": {
       "bar_style": "success",
       "description": "[2] 1/12(train): 100%",
       "layout": "IPY_MODEL_808b7b3c551c4c54966b70438bec3789",
       "max": 493,
       "style": "IPY_MODEL_35c02c1a0ae04c4c9eaa6d85e81a1e46",
       "value": 493
      }
     },
     "85f212d2f2db43ab9dfb107a98bf1c16": {
      "model_module": "@jupyter-widgets/controls",
      "model_module_version": "1.5.0",
      "model_name": "HTMLModel",
      "state": {
       "layout": "IPY_MODEL_bf44913b81f0452d93fa769fc5a59fc4",
       "style": "IPY_MODEL_07765ab129bc4fd987a2787454a173d2",
       "value": " 1/493 [00:15&lt;1:53:52, 13.89s/it]"
      }
     },
     "862ed5d0721f4be3a94b504d86c005bb": {
      "model_module": "@jupyter-widgets/base",
      "model_module_version": "1.2.0",
      "model_name": "LayoutModel",
      "state": {}
     },
     "86b245b93d2e4887849bca1be05418b3": {
      "model_module": "@jupyter-widgets/base",
      "model_module_version": "1.2.0",
      "model_name": "LayoutModel",
      "state": {}
     },
     "87ac8bd4a5c84482b30a2646fdb125c5": {
      "model_module": "@jupyter-widgets/controls",
      "model_module_version": "1.5.0",
      "model_name": "HTMLModel",
      "state": {
       "layout": "IPY_MODEL_731a794e884d4e6a823e3b1b02810cd3",
       "style": "IPY_MODEL_ba3a2d96cba84b7eb5eb8cd9dbc11659",
       "value": " 165/165 [7:01:18&lt;00:00, 153.21s/it]"
      }
     },
     "88241c790b9c448fb05230071ce7e157": {
      "model_module": "@jupyter-widgets/controls",
      "model_module_version": "1.5.0",
      "model_name": "ProgressStyleModel",
      "state": {
       "description_width": "initial"
      }
     },
     "8874c3d766ed404b8ffdfb235b95ba20": {
      "model_module": "@jupyter-widgets/controls",
      "model_module_version": "1.5.0",
      "model_name": "HBoxModel",
      "state": {
       "children": [
        "IPY_MODEL_779433b599504eda892cff5125fd1391",
        "IPY_MODEL_1eb3dfe84b784aa982744ee114af2b48"
       ],
       "layout": "IPY_MODEL_0232dd1faf4f46fc90ee12394da29136"
      }
     },
     "88af9e35f8ad49588d4b1063e913e023": {
      "model_module": "@jupyter-widgets/base",
      "model_module_version": "1.2.0",
      "model_name": "LayoutModel",
      "state": {}
     },
     "89293c063af6444ab54706814390ef64": {
      "model_module": "@jupyter-widgets/controls",
      "model_module_version": "1.5.0",
      "model_name": "HTMLModel",
      "state": {
       "layout": "IPY_MODEL_e668f3cd0a1d4eea90d9ee8cf9cc34e5",
       "style": "IPY_MODEL_8aaa5baf3a224193966061ac0262a30e",
       "value": " 165/165 [11:09&lt;00:00,  4.06s/it]"
      }
     },
     "894d66322f884882bd1ee7fe633e94a4": {
      "model_module": "@jupyter-widgets/controls",
      "model_module_version": "1.5.0",
      "model_name": "HTMLModel",
      "state": {
       "layout": "IPY_MODEL_0713bfcf25fe468a9eafe78189e5e904",
       "style": "IPY_MODEL_8eb6d2a679dd41e0a73998506fc20973",
       "value": " 1/1 [00:16&lt;00:00, 16.06s/it]"
      }
     },
     "8982a875c85e4f898608194a0a99926c": {
      "model_module": "@jupyter-widgets/controls",
      "model_module_version": "1.5.0",
      "model_name": "ProgressStyleModel",
      "state": {
       "description_width": "initial"
      }
     },
     "8992a86ca95c4f269b7b8dbf87b566f2": {
      "model_module": "@jupyter-widgets/controls",
      "model_module_version": "1.5.0",
      "model_name": "ProgressStyleModel",
      "state": {
       "description_width": "initial"
      }
     },
     "89f0b31e88e74afba77fa191205e9c4f": {
      "model_module": "@jupyter-widgets/controls",
      "model_module_version": "1.5.0",
      "model_name": "ProgressStyleModel",
      "state": {
       "description_width": "initial"
      }
     },
     "8a2968128a214c3c806d33ee140ec240": {
      "model_module": "@jupyter-widgets/controls",
      "model_module_version": "1.5.0",
      "model_name": "FloatProgressModel",
      "state": {
       "bar_style": "success",
       "description": "[2] 9/12(train): 100%",
       "layout": "IPY_MODEL_c6f5d33de68e4f5483b722369381a393",
       "max": 493,
       "style": "IPY_MODEL_6854d505c5b745dda5e3a515b9e23541",
       "value": 493
      }
     },
     "8a32515995f44d08aff47dcca04226f8": {
      "model_module": "@jupyter-widgets/base",
      "model_module_version": "1.2.0",
      "model_name": "LayoutModel",
      "state": {}
     },
     "8a6b3d88502842a8b90d3adfbc3dbae6": {
      "model_module": "@jupyter-widgets/base",
      "model_module_version": "1.2.0",
      "model_name": "LayoutModel",
      "state": {}
     },
     "8aaa5baf3a224193966061ac0262a30e": {
      "model_module": "@jupyter-widgets/controls",
      "model_module_version": "1.5.0",
      "model_name": "DescriptionStyleModel",
      "state": {
       "description_width": ""
      }
     },
     "8acf16a103ea4c62afe6e7fb4d3380b1": {
      "model_module": "@jupyter-widgets/base",
      "model_module_version": "1.2.0",
      "model_name": "LayoutModel",
      "state": {}
     },
     "8b0ad89e05ff4f2388888ce1b939bd1c": {
      "model_module": "@jupyter-widgets/base",
      "model_module_version": "1.2.0",
      "model_name": "LayoutModel",
      "state": {}
     },
     "8b1bafe4c6c74d47af449389a1836170": {
      "model_module": "@jupyter-widgets/base",
      "model_module_version": "1.2.0",
      "model_name": "LayoutModel",
      "state": {}
     },
     "8c0dd105545f467d8e87759f896fc192": {
      "model_module": "@jupyter-widgets/controls",
      "model_module_version": "1.5.0",
      "model_name": "HTMLModel",
      "state": {
       "layout": "IPY_MODEL_b08db09f8cbf4a92b9f82b5181792216",
       "style": "IPY_MODEL_eb2ba2779bfe4b789d70cbc6fbcf5a11",
       "value": " 165/165 [10:58&lt;00:00,  3.99s/it]"
      }
     },
     "8ccc504b6a7748d99820eca53c5d863a": {
      "model_module": "@jupyter-widgets/base",
      "model_module_version": "1.2.0",
      "model_name": "LayoutModel",
      "state": {}
     },
     "8cddfcf93a2647edacffaedeab19aae8": {
      "model_module": "@jupyter-widgets/controls",
      "model_module_version": "1.5.0",
      "model_name": "HTMLModel",
      "state": {
       "layout": "IPY_MODEL_323806f7f4f34917a0895566a5427196",
       "style": "IPY_MODEL_d012a86671b1449aa3372c90a24c1d68",
       "value": " 0/3 [00:00&lt;?, ?it/s]"
      }
     },
     "8cef14577e934587803170a7f23bdea1": {
      "model_module": "@jupyter-widgets/controls",
      "model_module_version": "1.5.0",
      "model_name": "ProgressStyleModel",
      "state": {
       "description_width": "initial"
      }
     },
     "8d469102b69840929f9e4ec6e43f1a5d": {
      "model_module": "@jupyter-widgets/controls",
      "model_module_version": "1.5.0",
      "model_name": "HTMLModel",
      "state": {
       "layout": "IPY_MODEL_4a067f1cbbaa4235a223e41434f7a154",
       "style": "IPY_MODEL_47786b887d834e648d9fa4ab14c1e7ed",
       "value": " 1/1 [00:04&lt;00:00,  4.33s/it]"
      }
     },
     "8d5d568edffa45f589de146ebeff16b1": {
      "model_module": "@jupyter-widgets/base",
      "model_module_version": "1.2.0",
      "model_name": "LayoutModel",
      "state": {}
     },
     "8d79309dad5744dcbe0defb657636adf": {
      "model_module": "@jupyter-widgets/controls",
      "model_module_version": "1.5.0",
      "model_name": "ProgressStyleModel",
      "state": {
       "description_width": "initial"
      }
     },
     "8d98668928ba4ed6b3dce3e7c2b81c8d": {
      "model_module": "@jupyter-widgets/base",
      "model_module_version": "1.2.0",
      "model_name": "LayoutModel",
      "state": {}
     },
     "8da47edb0d7b445b9b396c82ba671002": {
      "model_module": "@jupyter-widgets/controls",
      "model_module_version": "1.5.0",
      "model_name": "DescriptionStyleModel",
      "state": {
       "description_width": ""
      }
     },
     "8de5ce14cb6545c3be1f3368540348fc": {
      "model_module": "@jupyter-widgets/base",
      "model_module_version": "1.2.0",
      "model_name": "LayoutModel",
      "state": {}
     },
     "8e12070dc97e47c9bc566518433f749f": {
      "model_module": "@jupyter-widgets/controls",
      "model_module_version": "1.5.0",
      "model_name": "FloatProgressModel",
      "state": {
       "bar_style": "success",
       "description": "[1] 1/12(val  ): 100%",
       "layout": "IPY_MODEL_f28daeb846704188ba05c10d45d2b725",
       "max": 165,
       "style": "IPY_MODEL_6927c8293fa74234abc1dba326088845",
       "value": 165
      }
     },
     "8e45cf46fcfe4aeab0c56288df259b56": {
      "model_module": "@jupyter-widgets/controls",
      "model_module_version": "1.5.0",
      "model_name": "HBoxModel",
      "state": {
       "children": [
        "IPY_MODEL_96344beb610d46f19fe2fd15dff8319d",
        "IPY_MODEL_37311fe55bc5428ea143491fafe7bae3"
       ],
       "layout": "IPY_MODEL_e41ea8ff3acd40bfb240819ad6d82f5e"
      }
     },
     "8e7c49518fbb413ebd58ef7c23005f88": {
      "model_module": "@jupyter-widgets/base",
      "model_module_version": "1.2.0",
      "model_name": "LayoutModel",
      "state": {}
     },
     "8eb6d2a679dd41e0a73998506fc20973": {
      "model_module": "@jupyter-widgets/controls",
      "model_module_version": "1.5.0",
      "model_name": "DescriptionStyleModel",
      "state": {
       "description_width": ""
      }
     },
     "8ebde0f3797e44078f321de42dfd87c5": {
      "model_module": "@jupyter-widgets/controls",
      "model_module_version": "1.5.0",
      "model_name": "ProgressStyleModel",
      "state": {
       "description_width": "initial"
      }
     },
     "8ec2b2f5b1104650b87aab73dbf22e90": {
      "model_module": "@jupyter-widgets/base",
      "model_module_version": "1.2.0",
      "model_name": "LayoutModel",
      "state": {}
     },
     "8ec3edd6f54f4fd4b265b5e23042a1d6": {
      "model_module": "@jupyter-widgets/controls",
      "model_module_version": "1.5.0",
      "model_name": "DescriptionStyleModel",
      "state": {
       "description_width": ""
      }
     },
     "8f79e3566a43463ebede5df7d89ed657": {
      "model_module": "@jupyter-widgets/base",
      "model_module_version": "1.2.0",
      "model_name": "LayoutModel",
      "state": {}
     },
     "8f9c8b953c764c489d5a610c1cff3556": {
      "model_module": "@jupyter-widgets/base",
      "model_module_version": "1.2.0",
      "model_name": "LayoutModel",
      "state": {}
     },
     "8fce59d9d1ca4602b804ab67ee066b90": {
      "model_module": "@jupyter-widgets/base",
      "model_module_version": "1.2.0",
      "model_name": "LayoutModel",
      "state": {}
     },
     "906a223804b24cbf8a4a75e6f8bfe359": {
      "model_module": "@jupyter-widgets/base",
      "model_module_version": "1.2.0",
      "model_name": "LayoutModel",
      "state": {}
     },
     "90774cc55bae4464928ec9fc49cc20c0": {
      "model_module": "@jupyter-widgets/controls",
      "model_module_version": "1.5.0",
      "model_name": "HTMLModel",
      "state": {
       "layout": "IPY_MODEL_bffdf8a90fad463e808465349e797825",
       "style": "IPY_MODEL_dfda3b1f9ec64addb360b57b2b73ad68",
       "value": " 493/493 [1:31:10&lt;00:00, 11.10s/it]"
      }
     },
     "90c2bd9c90ea44ba94a82c21789060e4": {
      "model_module": "@jupyter-widgets/controls",
      "model_module_version": "1.5.0",
      "model_name": "FloatProgressModel",
      "state": {
       "bar_style": "success",
       "description": "[2] 6/12(train): 100%",
       "layout": "IPY_MODEL_dd2b1e8e0aa44e70b8ce2474293cdb8e",
       "max": 493,
       "style": "IPY_MODEL_f8df7cf5a84b4dd5b5f753574618dc95",
       "value": 493
      }
     },
     "9109b5d231e54628a976631cb119db7a": {
      "model_module": "@jupyter-widgets/controls",
      "model_module_version": "1.5.0",
      "model_name": "FloatProgressModel",
      "state": {
       "bar_style": "success",
       "description": "[0] 1/1(val  ): 100%",
       "layout": "IPY_MODEL_cf3b2566f5fb4f258a8829dc33e1fb97",
       "max": 1,
       "style": "IPY_MODEL_56da1acda4d044ef8eda3714e5963bbb",
       "value": 1
      }
     },
     "914401305e7b438aa824e77bfb7555b3": {
      "model_module": "@jupyter-widgets/base",
      "model_module_version": "1.2.0",
      "model_name": "LayoutModel",
      "state": {}
     },
     "91e11c817d1c4517b24a1d0ddc6a5b4c": {
      "model_module": "@jupyter-widgets/base",
      "model_module_version": "1.2.0",
      "model_name": "LayoutModel",
      "state": {}
     },
     "91ebdeddfa024cca8e19da5e34001257": {
      "model_module": "@jupyter-widgets/controls",
      "model_module_version": "1.5.0",
      "model_name": "HBoxModel",
      "state": {
       "children": [
        "IPY_MODEL_ff880da1ca2d47e98849ebf16921fb41",
        "IPY_MODEL_1caca77b40724dacb8d61829dd55dc05"
       ],
       "layout": "IPY_MODEL_7ef5b36c6b784fcd9484e97f1ac3c225"
      }
     },
     "91ec18d9a09140beb41b2ddf04a77a09": {
      "model_module": "@jupyter-widgets/base",
      "model_module_version": "1.2.0",
      "model_name": "LayoutModel",
      "state": {}
     },
     "922c4cbb585a451d844e40bb76ce07bb": {
      "model_module": "@jupyter-widgets/controls",
      "model_module_version": "1.5.0",
      "model_name": "HTMLModel",
      "state": {
       "layout": "IPY_MODEL_b3c5645da74b44d0b96c407f48ee0cb8",
       "style": "IPY_MODEL_5d49fbde45394d648009b517c8561e32",
       "value": " 3/3 [00:15&lt;00:00,  5.17s/it]"
      }
     },
     "923ea7baca4946f8aaaa22edf1884af9": {
      "model_module": "@jupyter-widgets/base",
      "model_module_version": "1.2.0",
      "model_name": "LayoutModel",
      "state": {}
     },
     "9241d721f6b54d999afb78453ceb4bba": {
      "model_module": "@jupyter-widgets/base",
      "model_module_version": "1.2.0",
      "model_name": "LayoutModel",
      "state": {}
     },
     "928ad127fff14af19590473357a03c55": {
      "model_module": "@jupyter-widgets/controls",
      "model_module_version": "1.5.0",
      "model_name": "HTMLModel",
      "state": {
       "layout": "IPY_MODEL_80d021beb9bb4c80a122ec1906c1dd51",
       "style": "IPY_MODEL_00028421c2c74677bf6465c3e81979cc",
       "value": " 165/165 [11:55&lt;00:00,  4.33s/it]"
      }
     },
     "92a22df07e1548b1900bc789374ab99e": {
      "model_module": "@jupyter-widgets/base",
      "model_module_version": "1.2.0",
      "model_name": "LayoutModel",
      "state": {}
     },
     "92c53c5fb25d4dd68c27aeb36f541348": {
      "model_module": "@jupyter-widgets/base",
      "model_module_version": "1.2.0",
      "model_name": "LayoutModel",
      "state": {}
     },
     "93629ab2f38e4eb59f63f5f4ab2b106f": {
      "model_module": "@jupyter-widgets/controls",
      "model_module_version": "1.5.0",
      "model_name": "ProgressStyleModel",
      "state": {
       "description_width": "initial"
      }
     },
     "93c76f30a6ec4b64b104b5124bc6a846": {
      "model_module": "@jupyter-widgets/base",
      "model_module_version": "1.2.0",
      "model_name": "LayoutModel",
      "state": {}
     },
     "93f5cfd15ee3478eb37cc4b549630e86": {
      "model_module": "@jupyter-widgets/controls",
      "model_module_version": "1.5.0",
      "model_name": "HBoxModel",
      "state": {
       "children": [
        "IPY_MODEL_b034d1beb3ce47ae9e89fd394591d782",
        "IPY_MODEL_d9b0c6d8ccf04962b7c58e994f5681cb"
       ],
       "layout": "IPY_MODEL_5c3316dbc312455a8eeb765deeeaebc9"
      }
     },
     "940eec82ddcc495c86cea6e380507c86": {
      "model_module": "@jupyter-widgets/controls",
      "model_module_version": "1.5.0",
      "model_name": "ProgressStyleModel",
      "state": {
       "description_width": "initial"
      }
     },
     "94516d5d4a834c8e94a8d39498317c44": {
      "model_module": "@jupyter-widgets/controls",
      "model_module_version": "1.5.0",
      "model_name": "DescriptionStyleModel",
      "state": {
       "description_width": ""
      }
     },
     "946ea37636df45e490e4c3ca0f88b720": {
      "model_module": "@jupyter-widgets/base",
      "model_module_version": "1.2.0",
      "model_name": "LayoutModel",
      "state": {}
     },
     "94b67d51276c42e794bc29214510b2f2": {
      "model_module": "@jupyter-widgets/controls",
      "model_module_version": "1.5.0",
      "model_name": "HTMLModel",
      "state": {
       "layout": "IPY_MODEL_813c3889014842f4a5d4d1d5f4e33642",
       "style": "IPY_MODEL_16ab80916c0140d18f9c5badd15d2fd9",
       "value": " 0/493 [00:15&lt;?, ?it/s]"
      }
     },
     "94ce05da93c84203a7a2ccb126440337": {
      "model_module": "@jupyter-widgets/controls",
      "model_module_version": "1.5.0",
      "model_name": "HTMLModel",
      "state": {
       "layout": "IPY_MODEL_ddaf9097e169480aa04e3d8e06941974",
       "style": "IPY_MODEL_16339b55e33141468212a6c087f4262f",
       "value": " 493/493 [45:47&lt;00:00,  5.57s/it]"
      }
     },
     "9503ace3f770456fa54cdba3d98d5a92": {
      "model_module": "@jupyter-widgets/controls",
      "model_module_version": "1.5.0",
      "model_name": "HBoxModel",
      "state": {
       "children": [
        "IPY_MODEL_6a72291bd6f7458990796d946c39855c",
        "IPY_MODEL_b822908f25af4e25a02775c0922d58a2"
       ],
       "layout": "IPY_MODEL_3a32b4b66db547099b6cd0bcaca82358"
      }
     },
     "9525321056464c9d9d67d5900d9341ba": {
      "model_module": "@jupyter-widgets/base",
      "model_module_version": "1.2.0",
      "model_name": "LayoutModel",
      "state": {}
     },
     "954769b22db748a8b6ffab8e0fcb40af": {
      "model_module": "@jupyter-widgets/controls",
      "model_module_version": "1.5.0",
      "model_name": "FloatProgressModel",
      "state": {
       "bar_style": "success",
       "description": "[2] 1/1(val  ): 100%",
       "layout": "IPY_MODEL_f34da5fe57284295a8cdcf10ff0b7f69",
       "max": 1,
       "style": "IPY_MODEL_30e8623e06c64774ae1b26e54b6a1e52",
       "value": 1
      }
     },
     "9556f13c38914b60af53281d58c42af4": {
      "model_module": "@jupyter-widgets/controls",
      "model_module_version": "1.5.0",
      "model_name": "ProgressStyleModel",
      "state": {
       "description_width": "initial"
      }
     },
     "95dc701b6185429a95e3b1cfdff2ebfe": {
      "model_module": "@jupyter-widgets/base",
      "model_module_version": "1.2.0",
      "model_name": "LayoutModel",
      "state": {}
     },
     "96344beb610d46f19fe2fd15dff8319d": {
      "model_module": "@jupyter-widgets/controls",
      "model_module_version": "1.5.0",
      "model_name": "FloatProgressModel",
      "state": {
       "bar_style": "success",
       "description": "[0] 1/12(val  ): 100%",
       "layout": "IPY_MODEL_9241d721f6b54d999afb78453ceb4bba",
       "max": 165,
       "style": "IPY_MODEL_b0dbcd6a2ec04a6b9b59941312a5a560",
       "value": 165
      }
     },
     "96f7fa2903b04b77b847999520656300": {
      "model_module": "@jupyter-widgets/controls",
      "model_module_version": "1.5.0",
      "model_name": "HBoxModel",
      "state": {
       "children": [
        "IPY_MODEL_1603cba2778d4fbca74d77d31506af04",
        "IPY_MODEL_7c1da96aba414011bba99009f36b495e"
       ],
       "layout": "IPY_MODEL_fd8b3193ae9e4e79b74164ae4c0d86b6"
      }
     },
     "972e4c8579ff43219aec7dc170449669": {
      "model_module": "@jupyter-widgets/controls",
      "model_module_version": "1.5.0",
      "model_name": "HBoxModel",
      "state": {
       "children": [
        "IPY_MODEL_829ef39d3fa64761ab3326f4a1f902bf",
        "IPY_MODEL_fa0f021c48d94d3badd242d25f8fa55c"
       ],
       "layout": "IPY_MODEL_8fce59d9d1ca4602b804ab67ee066b90"
      }
     },
     "97674257ee0340a180e167900e5b8bf8": {
      "model_module": "@jupyter-widgets/controls",
      "model_module_version": "1.5.0",
      "model_name": "DescriptionStyleModel",
      "state": {
       "description_width": ""
      }
     },
     "979a819cd5a2494595eac721ab8327ae": {
      "model_module": "@jupyter-widgets/base",
      "model_module_version": "1.2.0",
      "model_name": "LayoutModel",
      "state": {}
     },
     "9820cfc534174ca6ac009f2cb44c3cc7": {
      "model_module": "@jupyter-widgets/controls",
      "model_module_version": "1.5.0",
      "model_name": "ProgressStyleModel",
      "state": {
       "description_width": "initial"
      }
     },
     "98420b1998f4469885f3abfe9d1281f9": {
      "model_module": "@jupyter-widgets/controls",
      "model_module_version": "1.5.0",
      "model_name": "HTMLModel",
      "state": {
       "layout": "IPY_MODEL_9d248dba159d4642b6b477debb84d159",
       "style": "IPY_MODEL_b37e1822055f4d61aa9fa07f9d744a7b",
       "value": " 493/493 [8:28:52&lt;00:00, 61.93s/it]"
      }
     },
     "9845ac2493a844aab40bd9847b5433fc": {
      "model_module": "@jupyter-widgets/base",
      "model_module_version": "1.2.0",
      "model_name": "LayoutModel",
      "state": {}
     },
     "984668c379b44fdbab3596a71454a59a": {
      "model_module": "@jupyter-widgets/controls",
      "model_module_version": "1.5.0",
      "model_name": "DescriptionStyleModel",
      "state": {
       "description_width": ""
      }
     },
     "9846aed389324bfab0c9877d94ff092b": {
      "model_module": "@jupyter-widgets/controls",
      "model_module_version": "1.5.0",
      "model_name": "FloatProgressModel",
      "state": {
       "bar_style": "success",
       "description": "100%",
       "layout": "IPY_MODEL_4d62c78b4fc345669fab465e985375c2",
       "max": 165,
       "style": "IPY_MODEL_0b42a2b09e5143d88eeb634c5e292c49",
       "value": 165
      }
     },
     "98601030cbdf49d7b52a8cb49fcdaa44": {
      "model_module": "@jupyter-widgets/controls",
      "model_module_version": "1.5.0",
      "model_name": "FloatProgressModel",
      "state": {
       "bar_style": "success",
       "description": "100%",
       "layout": "IPY_MODEL_2c7279dc54b54f93a722f3fd92426168",
       "max": 1,
       "style": "IPY_MODEL_cf6913ef31cb4ea6b4bdf691c66924f8",
       "value": 1
      }
     },
     "98dc82655fa4456ab14f8695651c9877": {
      "model_module": "@jupyter-widgets/controls",
      "model_module_version": "1.5.0",
      "model_name": "DescriptionStyleModel",
      "state": {
       "description_width": ""
      }
     },
     "991cbac002bb4b779b4b0c1ca7cd4c18": {
      "model_module": "@jupyter-widgets/base",
      "model_module_version": "1.2.0",
      "model_name": "LayoutModel",
      "state": {}
     },
     "997f6651efcc4a90b8cf5a6a516c93da": {
      "model_module": "@jupyter-widgets/controls",
      "model_module_version": "1.5.0",
      "model_name": "HTMLModel",
      "state": {
       "layout": "IPY_MODEL_a130757d8d1e4718b8c0cce9b41d2d9f",
       "style": "IPY_MODEL_5e3e3b2a9cde40feb375f9523352329a",
       "value": " 165/165 [14:11&lt;00:00,  5.16s/it]"
      }
     },
     "99863f0e00bb4360b70ed77e29c0c2e4": {
      "model_module": "@jupyter-widgets/controls",
      "model_module_version": "1.5.0",
      "model_name": "DescriptionStyleModel",
      "state": {
       "description_width": ""
      }
     },
     "9995168fc9b3491c89a89c72b1b47669": {
      "model_module": "@jupyter-widgets/controls",
      "model_module_version": "1.5.0",
      "model_name": "FloatProgressModel",
      "state": {
       "bar_style": "success",
       "description": "[2] 4/12(val  ): 100%",
       "layout": "IPY_MODEL_abed254b349b47caa584176b38ac705c",
       "max": 165,
       "style": "IPY_MODEL_62c5f67a761847dea82f88599ffe3c38",
       "value": 165
      }
     },
     "99e0f7b6453c436f983f43510d7551fd": {
      "model_module": "@jupyter-widgets/controls",
      "model_module_version": "1.5.0",
      "model_name": "HTMLModel",
      "state": {
       "layout": "IPY_MODEL_6b33357d870548efbdd9a0d1254a3ebc",
       "style": "IPY_MODEL_b3a3ad4bce834fbd886226d3edf239f9",
       "value": " 493/493 [5:18:23&lt;00:00, 38.75s/it]"
      }
     },
     "99fe7e34faeb4dc1b5300595094a466e": {
      "model_module": "@jupyter-widgets/controls",
      "model_module_version": "1.5.0",
      "model_name": "FloatProgressModel",
      "state": {
       "bar_style": "success",
       "description": "[1] 6/12(train): 100%",
       "layout": "IPY_MODEL_8ec2b2f5b1104650b87aab73dbf22e90",
       "max": 493,
       "style": "IPY_MODEL_83ebb7fe334847bd8398ab56ff2a5bcb",
       "value": 493
      }
     },
     "9a1402b2e0b14a3b9994519d27f24fb6": {
      "model_module": "@jupyter-widgets/controls",
      "model_module_version": "1.5.0",
      "model_name": "ProgressStyleModel",
      "state": {
       "description_width": "initial"
      }
     },
     "9a509fff31c34701b1ec1aec83a9123c": {
      "model_module": "@jupyter-widgets/controls",
      "model_module_version": "1.5.0",
      "model_name": "ProgressStyleModel",
      "state": {
       "description_width": "initial"
      }
     },
     "9a69cb19c0d2491da1c7b2b2ece0cff9": {
      "model_module": "@jupyter-widgets/controls",
      "model_module_version": "1.5.0",
      "model_name": "DescriptionStyleModel",
      "state": {
       "description_width": ""
      }
     },
     "9a69d105ec144dfe89668da1667c437f": {
      "model_module": "@jupyter-widgets/controls",
      "model_module_version": "1.5.0",
      "model_name": "ProgressStyleModel",
      "state": {
       "description_width": "initial"
      }
     },
     "9ac06c58dc364465b4fcc5330c3ede26": {
      "model_module": "@jupyter-widgets/controls",
      "model_module_version": "1.5.0",
      "model_name": "DescriptionStyleModel",
      "state": {
       "description_width": ""
      }
     },
     "9b3e6545036949d0a62aa255598c9818": {
      "model_module": "@jupyter-widgets/controls",
      "model_module_version": "1.5.0",
      "model_name": "HTMLModel",
      "state": {
       "layout": "IPY_MODEL_9b6d57b2bf1c49f4bfe8894495ca75bc",
       "style": "IPY_MODEL_185c55772a73474cb1db9ac3d1b42f73",
       "value": " 493/493 [46:30&lt;00:00,  5.66s/it]"
      }
     },
     "9b6d57b2bf1c49f4bfe8894495ca75bc": {
      "model_module": "@jupyter-widgets/base",
      "model_module_version": "1.2.0",
      "model_name": "LayoutModel",
      "state": {}
     },
     "9bef7e61971c4553a054bb528d49e1c9": {
      "model_module": "@jupyter-widgets/controls",
      "model_module_version": "1.5.0",
      "model_name": "HBoxModel",
      "state": {
       "children": [
        "IPY_MODEL_7c0ddf3fbcd74c21a138659690f21de8",
        "IPY_MODEL_698822326ed1438aade33bc90f8d97fe"
       ],
       "layout": "IPY_MODEL_36e0f85a649640cea3a92e03dd3c68e1"
      }
     },
     "9bf7791a002c40b5b965835c32203a6f": {
      "model_module": "@jupyter-widgets/base",
      "model_module_version": "1.2.0",
      "model_name": "LayoutModel",
      "state": {}
     },
     "9c4b0a07afe5453588717853ec17e9de": {
      "model_module": "@jupyter-widgets/controls",
      "model_module_version": "1.5.0",
      "model_name": "HTMLModel",
      "state": {
       "layout": "IPY_MODEL_5555bcf7c2fc4bbf9af81be07f9ac198",
       "style": "IPY_MODEL_2a1fff532b73436ba75ee11984707149",
       "value": " 493/493 [1:32:12&lt;00:00, 11.22s/it]"
      }
     },
     "9cd4982cbcc44c2590fb09f6108be870": {
      "model_module": "@jupyter-widgets/controls",
      "model_module_version": "1.5.0",
      "model_name": "HBoxModel",
      "state": {
       "children": [
        "IPY_MODEL_5abac3a2e8d74277881e0cf674adb90c",
        "IPY_MODEL_db0351435a8143f79f352563b83d4df8"
       ],
       "layout": "IPY_MODEL_42b2be6c0e5d412f8271382e5c1d9a32"
      }
     },
     "9ce5a7e7d47c4411b26a2f5fd30b5fa6": {
      "model_module": "@jupyter-widgets/controls",
      "model_module_version": "1.5.0",
      "model_name": "ProgressStyleModel",
      "state": {
       "description_width": "initial"
      }
     },
     "9d07406fda994efc89c3b067d1935eff": {
      "model_module": "@jupyter-widgets/controls",
      "model_module_version": "1.5.0",
      "model_name": "HTMLModel",
      "state": {
       "layout": "IPY_MODEL_a311a70cab1e4957884d30798947e223",
       "style": "IPY_MODEL_6a106cf52f04432f90796b957b1d1240",
       "value": " 493/493 [45:54&lt;00:00,  5.59s/it]"
      }
     },
     "9d246ede454f4ae38fa9ea042f2c68a3": {
      "model_module": "@jupyter-widgets/controls",
      "model_module_version": "1.5.0",
      "model_name": "DescriptionStyleModel",
      "state": {
       "description_width": ""
      }
     },
     "9d248dba159d4642b6b477debb84d159": {
      "model_module": "@jupyter-widgets/base",
      "model_module_version": "1.2.0",
      "model_name": "LayoutModel",
      "state": {}
     },
     "9d5bfbea1a4248aa8e0a5b7ba309ba3b": {
      "model_module": "@jupyter-widgets/controls",
      "model_module_version": "1.5.0",
      "model_name": "DescriptionStyleModel",
      "state": {
       "description_width": ""
      }
     },
     "9e11a387f5cd4f26b05b949dc3ff3c0d": {
      "model_module": "@jupyter-widgets/base",
      "model_module_version": "1.2.0",
      "model_name": "LayoutModel",
      "state": {}
     },
     "9e255ac11882489b8d04715d399a5a4f": {
      "model_module": "@jupyter-widgets/controls",
      "model_module_version": "1.5.0",
      "model_name": "ProgressStyleModel",
      "state": {
       "description_width": "initial"
      }
     },
     "9e2fe02bb9db46f7a607adcf2dd969fd": {
      "model_module": "@jupyter-widgets/controls",
      "model_module_version": "1.5.0",
      "model_name": "FloatProgressModel",
      "state": {
       "bar_style": "success",
       "description": "[1] 7/12(val  ): 100%",
       "layout": "IPY_MODEL_626b2f2c8552410bb28fab3b2ead9d57",
       "max": 165,
       "style": "IPY_MODEL_a0a3442f94d14c58be33b1d539fa8883",
       "value": 165
      }
     },
     "9ecf6f40375a48e4952d3f58a421a361": {
      "model_module": "@jupyter-widgets/base",
      "model_module_version": "1.2.0",
      "model_name": "LayoutModel",
      "state": {}
     },
     "9ecf94a956b841a493ca253c4970ae3d": {
      "model_module": "@jupyter-widgets/controls",
      "model_module_version": "1.5.0",
      "model_name": "ProgressStyleModel",
      "state": {
       "description_width": "initial"
      }
     },
     "9ee01316e823436eaeeb633e587f613f": {
      "model_module": "@jupyter-widgets/controls",
      "model_module_version": "1.5.0",
      "model_name": "ProgressStyleModel",
      "state": {
       "description_width": "initial"
      }
     },
     "9f6b6d38bd7d430cad557cf5ac5252a5": {
      "model_module": "@jupyter-widgets/controls",
      "model_module_version": "1.5.0",
      "model_name": "HTMLModel",
      "state": {
       "layout": "IPY_MODEL_5cfe24a2353d4282b5f2e0d316d6941b",
       "style": "IPY_MODEL_d69ff4cea40c405abb76e7abbd454cdc",
       "value": " 165/165 [11:49&lt;00:00,  4.30s/it]"
      }
     },
     "9f832084961b458cb48a8f61330c2631": {
      "model_module": "@jupyter-widgets/base",
      "model_module_version": "1.2.0",
      "model_name": "LayoutModel",
      "state": {}
     },
     "a02f45a02c544dfd90cbbdb13dc5e2f6": {
      "model_module": "@jupyter-widgets/base",
      "model_module_version": "1.2.0",
      "model_name": "LayoutModel",
      "state": {}
     },
     "a0a3442f94d14c58be33b1d539fa8883": {
      "model_module": "@jupyter-widgets/controls",
      "model_module_version": "1.5.0",
      "model_name": "ProgressStyleModel",
      "state": {
       "description_width": "initial"
      }
     },
     "a0f59730d8a04220a5500ccc56881021": {
      "model_module": "@jupyter-widgets/controls",
      "model_module_version": "1.5.0",
      "model_name": "HTMLModel",
      "state": {
       "layout": "IPY_MODEL_7728a085cf8d441da512a467a253aa67",
       "style": "IPY_MODEL_810ab414bea44ee89ad964af8d7045ed",
       "value": " 165/165 [7:01:16&lt;00:00, 153.19s/it]"
      }
     },
     "a130757d8d1e4718b8c0cce9b41d2d9f": {
      "model_module": "@jupyter-widgets/base",
      "model_module_version": "1.2.0",
      "model_name": "LayoutModel",
      "state": {}
     },
     "a14a8fc0b50645369b89c3db1f2fe8ca": {
      "model_module": "@jupyter-widgets/base",
      "model_module_version": "1.2.0",
      "model_name": "LayoutModel",
      "state": {}
     },
     "a15e997d5f724821aa9fc9ae7cfd38a8": {
      "model_module": "@jupyter-widgets/base",
      "model_module_version": "1.2.0",
      "model_name": "LayoutModel",
      "state": {}
     },
     "a163372fad6f4d118db5241f38963840": {
      "model_module": "@jupyter-widgets/base",
      "model_module_version": "1.2.0",
      "model_name": "LayoutModel",
      "state": {}
     },
     "a242e6d90266409ea193c3783cdaecef": {
      "model_module": "@jupyter-widgets/controls",
      "model_module_version": "1.5.0",
      "model_name": "FloatProgressModel",
      "state": {
       "bar_style": "danger",
       "description": "[1] 1/10(train):   0%",
       "layout": "IPY_MODEL_ffa6bc6a4685457985393b2b6c7b75f2",
       "max": 3,
       "style": "IPY_MODEL_b03adff5bca949bead7ca79fad6d8537"
      }
     },
     "a2ab0d6bad2745689664cc4f77cf370a": {
      "model_module": "@jupyter-widgets/controls",
      "model_module_version": "1.5.0",
      "model_name": "HBoxModel",
      "state": {
       "children": [
        "IPY_MODEL_6104675317594e409feb247aebc32e88",
        "IPY_MODEL_94ce05da93c84203a7a2ccb126440337"
       ],
       "layout": "IPY_MODEL_6723c079cf484e48a5b05adb1895a5e6"
      }
     },
     "a311a70cab1e4957884d30798947e223": {
      "model_module": "@jupyter-widgets/base",
      "model_module_version": "1.2.0",
      "model_name": "LayoutModel",
      "state": {}
     },
     "a3d7be8b93874752a5e4440c0046e12e": {
      "model_module": "@jupyter-widgets/base",
      "model_module_version": "1.2.0",
      "model_name": "LayoutModel",
      "state": {}
     },
     "a43ebf849a914fdc862dad5811728f94": {
      "model_module": "@jupyter-widgets/controls",
      "model_module_version": "1.5.0",
      "model_name": "FloatProgressModel",
      "state": {
       "bar_style": "success",
       "description": "[0] 8/12(train): 100%",
       "layout": "IPY_MODEL_68b4ebcdbe12484b90e6bbce67e7c020",
       "max": 493,
       "style": "IPY_MODEL_9ce5a7e7d47c4411b26a2f5fd30b5fa6",
       "value": 493
      }
     },
     "a44fe58985b44d3abd7a059bffdf1c3e": {
      "model_module": "@jupyter-widgets/controls",
      "model_module_version": "1.5.0",
      "model_name": "ProgressStyleModel",
      "state": {
       "description_width": "initial"
      }
     },
     "a48bfbfff7a1470cbab092ac4c2241f3": {
      "model_module": "@jupyter-widgets/base",
      "model_module_version": "1.2.0",
      "model_name": "LayoutModel",
      "state": {}
     },
     "a4d3ae04b9b44f8c927a02902a6a8805": {
      "model_module": "@jupyter-widgets/controls",
      "model_module_version": "1.5.0",
      "model_name": "HBoxModel",
      "state": {
       "children": [
        "IPY_MODEL_8e12070dc97e47c9bc566518433f749f",
        "IPY_MODEL_d2ffd848d862497b90896d67325010c6"
       ],
       "layout": "IPY_MODEL_39a9a74f73aa4afba90bba189df568fb"
      }
     },
     "a4dfe8b104d84c8496a432da7fd5c86e": {
      "model_module": "@jupyter-widgets/base",
      "model_module_version": "1.2.0",
      "model_name": "LayoutModel",
      "state": {}
     },
     "a5116b33306d463d8ea9a0203743de65": {
      "model_module": "@jupyter-widgets/controls",
      "model_module_version": "1.5.0",
      "model_name": "ProgressStyleModel",
      "state": {
       "description_width": "initial"
      }
     },
     "a51a19d1baf14a78abfd01be160b62bd": {
      "model_module": "@jupyter-widgets/controls",
      "model_module_version": "1.5.0",
      "model_name": "ProgressStyleModel",
      "state": {
       "description_width": "initial"
      }
     },
     "a534504f1f3343fe98d4561a217a733c": {
      "model_module": "@jupyter-widgets/controls",
      "model_module_version": "1.5.0",
      "model_name": "DescriptionStyleModel",
      "state": {
       "description_width": ""
      }
     },
     "a5367cf9ba0945f8a072e898d9f70aa8": {
      "model_module": "@jupyter-widgets/base",
      "model_module_version": "1.2.0",
      "model_name": "LayoutModel",
      "state": {}
     },
     "a54bb13b9d49417390dee7ed9a4d5aa2": {
      "model_module": "@jupyter-widgets/base",
      "model_module_version": "1.2.0",
      "model_name": "LayoutModel",
      "state": {}
     },
     "a55a7e35379149e78b06d63c6dec2dc1": {
      "model_module": "@jupyter-widgets/controls",
      "model_module_version": "1.5.0",
      "model_name": "HTMLModel",
      "state": {
       "layout": "IPY_MODEL_cf5f7bd57a624391a4260cabf6d464ca",
       "style": "IPY_MODEL_5a5b72ea23444a7a89306598e20dfa0c",
       "value": " 165/165 [10:57&lt;00:00,  3.98s/it]"
      }
     },
     "a577bd42b0f342248e1318772b58872a": {
      "model_module": "@jupyter-widgets/base",
      "model_module_version": "1.2.0",
      "model_name": "LayoutModel",
      "state": {}
     },
     "a627a4f7b45a4e0c94599a52684194b0": {
      "model_module": "@jupyter-widgets/base",
      "model_module_version": "1.2.0",
      "model_name": "LayoutModel",
      "state": {}
     },
     "a63489dec9194bba9ac3fc5e98907f63": {
      "model_module": "@jupyter-widgets/controls",
      "model_module_version": "1.5.0",
      "model_name": "DescriptionStyleModel",
      "state": {
       "description_width": ""
      }
     },
     "a699c4fb6ddc4f6e83ed790f6db4658e": {
      "model_module": "@jupyter-widgets/base",
      "model_module_version": "1.2.0",
      "model_name": "LayoutModel",
      "state": {}
     },
     "a6a5a21131fd4047aeca8582a71af2ad": {
      "model_module": "@jupyter-widgets/controls",
      "model_module_version": "1.5.0",
      "model_name": "DescriptionStyleModel",
      "state": {
       "description_width": ""
      }
     },
     "a6db382d25db45418992acabb4ea46e6": {
      "model_module": "@jupyter-widgets/base",
      "model_module_version": "1.2.0",
      "model_name": "LayoutModel",
      "state": {}
     },
     "a79d3d2be2bf4d1ba8f5ccae74bb7d42": {
      "model_module": "@jupyter-widgets/base",
      "model_module_version": "1.2.0",
      "model_name": "LayoutModel",
      "state": {}
     },
     "a82a57575faa45f495b5918fbcc4e579": {
      "model_module": "@jupyter-widgets/controls",
      "model_module_version": "1.5.0",
      "model_name": "HTMLModel",
      "state": {
       "layout": "IPY_MODEL_0109cde5d6974df0ad14a61e0cf6ef22",
       "style": "IPY_MODEL_338100e579ec417fafbb7f9d1aa5f395",
       "value": " 1/1 [00:07&lt;00:00,  7.65s/it]"
      }
     },
     "a83a111046534738ac046ab928c76c38": {
      "model_module": "@jupyter-widgets/controls",
      "model_module_version": "1.5.0",
      "model_name": "ProgressStyleModel",
      "state": {
       "description_width": "initial"
      }
     },
     "a850636c3a2040c48782a596f5a0ca32": {
      "model_module": "@jupyter-widgets/controls",
      "model_module_version": "1.5.0",
      "model_name": "HBoxModel",
      "state": {
       "children": [
        "IPY_MODEL_19da876682d143189e45b002e6f863a1",
        "IPY_MODEL_f5ec71b82cd1483da4d4e59f69b9f3d7"
       ],
       "layout": "IPY_MODEL_f204d98653b1429ab14e11979bd68711"
      }
     },
     "a8e9a44a987940df907ecfb08eaa33db": {
      "model_module": "@jupyter-widgets/base",
      "model_module_version": "1.2.0",
      "model_name": "LayoutModel",
      "state": {}
     },
     "a911395a99e3438ea430691f35e81263": {
      "model_module": "@jupyter-widgets/controls",
      "model_module_version": "1.5.0",
      "model_name": "ProgressStyleModel",
      "state": {
       "description_width": "initial"
      }
     },
     "aa2d10e703254e2ca3aa04f0f9723818": {
      "model_module": "@jupyter-widgets/controls",
      "model_module_version": "1.5.0",
      "model_name": "FloatProgressModel",
      "state": {
       "bar_style": "success",
       "description": "[3] 1/1(val  ): 100%",
       "layout": "IPY_MODEL_ef378bbfe0ec4d76b34dd0707e6c310e",
       "max": 1,
       "style": "IPY_MODEL_9a509fff31c34701b1ec1aec83a9123c",
       "value": 1
      }
     },
     "aa906f81ea3d4601851ae3021ad18778": {
      "model_module": "@jupyter-widgets/base",
      "model_module_version": "1.2.0",
      "model_name": "LayoutModel",
      "state": {}
     },
     "ab0f6a378988403095fbfbadc014292e": {
      "model_module": "@jupyter-widgets/controls",
      "model_module_version": "1.5.0",
      "model_name": "HTMLModel",
      "state": {
       "layout": "IPY_MODEL_9845ac2493a844aab40bd9847b5433fc",
       "style": "IPY_MODEL_3ca0c2bdf5bd46e5a8a2bbfec2173377",
       "value": " 165/165 [7:07:56&lt;00:00, 155.62s/it]"
      }
     },
     "ab1be69afc864b858e812dd1cba83183": {
      "model_module": "@jupyter-widgets/controls",
      "model_module_version": "1.5.0",
      "model_name": "ProgressStyleModel",
      "state": {
       "description_width": "initial"
      }
     },
     "ab4900abc553468c8b96abc1e87c97dd": {
      "model_module": "@jupyter-widgets/base",
      "model_module_version": "1.2.0",
      "model_name": "LayoutModel",
      "state": {}
     },
     "ab4e3a98d5cf411fb21855ea4c53224e": {
      "model_module": "@jupyter-widgets/base",
      "model_module_version": "1.2.0",
      "model_name": "LayoutModel",
      "state": {}
     },
     "ab5243eb6d40407c9100fae19455b6f5": {
      "model_module": "@jupyter-widgets/controls",
      "model_module_version": "1.5.0",
      "model_name": "HTMLModel",
      "state": {
       "layout": "IPY_MODEL_ac19df8e77c64b9e960ae253591ae4bd",
       "style": "IPY_MODEL_23f4ff2d50ed449e9fbffecf353ed9c3",
       "value": " 493/493 [46:15&lt;00:00,  5.63s/it]"
      }
     },
     "ab63d242a22b4adb801ff5cff14d6a01": {
      "model_module": "@jupyter-widgets/base",
      "model_module_version": "1.2.0",
      "model_name": "LayoutModel",
      "state": {}
     },
     "abcf7a2848b4476c9ba059157c45de1d": {
      "model_module": "@jupyter-widgets/controls",
      "model_module_version": "1.5.0",
      "model_name": "HBoxModel",
      "state": {
       "children": [
        "IPY_MODEL_25ee3ba956524c5e8c126417f9756d0b",
        "IPY_MODEL_693bf16fa7ad4c93a5a503040d20fbb2"
       ],
       "layout": "IPY_MODEL_289846d21bba40dcb13feacaa9d91c0f"
      }
     },
     "abd3fac50231425e86da692acbd42118": {
      "model_module": "@jupyter-widgets/controls",
      "model_module_version": "1.5.0",
      "model_name": "DescriptionStyleModel",
      "state": {
       "description_width": ""
      }
     },
     "abdc091179bb4644a241c16dade44b28": {
      "model_module": "@jupyter-widgets/controls",
      "model_module_version": "1.5.0",
      "model_name": "HTMLModel",
      "state": {
       "layout": "IPY_MODEL_732bdaa7c23540a9b7c43efe57d66037",
       "style": "IPY_MODEL_47f892684e1542beba7e887ee2eb7234",
       "value": " 165/165 [11:52&lt;00:00,  4.32s/it]"
      }
     },
     "abed254b349b47caa584176b38ac705c": {
      "model_module": "@jupyter-widgets/base",
      "model_module_version": "1.2.0",
      "model_name": "LayoutModel",
      "state": {}
     },
     "ac0c9831dd6342e98920300bf8c14884": {
      "model_module": "@jupyter-widgets/base",
      "model_module_version": "1.2.0",
      "model_name": "LayoutModel",
      "state": {}
     },
     "ac19df8e77c64b9e960ae253591ae4bd": {
      "model_module": "@jupyter-widgets/base",
      "model_module_version": "1.2.0",
      "model_name": "LayoutModel",
      "state": {}
     },
     "ac56f5a489f94f5588613a802fa7828b": {
      "model_module": "@jupyter-widgets/controls",
      "model_module_version": "1.5.0",
      "model_name": "HTMLModel",
      "state": {
       "layout": "IPY_MODEL_8d5d568edffa45f589de146ebeff16b1",
       "style": "IPY_MODEL_45b8fe9b70554d548603be910b7a8039",
       "value": " 165/165 [3:58:51&lt;00:00, 86.86s/it]"
      }
     },
     "ac9193f33b2c49dbbbe05d95a508ee26": {
      "model_module": "@jupyter-widgets/base",
      "model_module_version": "1.2.0",
      "model_name": "LayoutModel",
      "state": {}
     },
     "ad1a0ca8d6cf4e948d1158ca553b5cb4": {
      "model_module": "@jupyter-widgets/controls",
      "model_module_version": "1.5.0",
      "model_name": "DescriptionStyleModel",
      "state": {
       "description_width": ""
      }
     },
     "ad1dbf749fba4546a63570e7ff4e85b7": {
      "model_module": "@jupyter-widgets/controls",
      "model_module_version": "1.5.0",
      "model_name": "DescriptionStyleModel",
      "state": {
       "description_width": ""
      }
     },
     "ad7ef31865dc49809e3641ace81836e5": {
      "model_module": "@jupyter-widgets/base",
      "model_module_version": "1.2.0",
      "model_name": "LayoutModel",
      "state": {}
     },
     "ad88569a55864109830ca7eda8726842": {
      "model_module": "@jupyter-widgets/base",
      "model_module_version": "1.2.0",
      "model_name": "LayoutModel",
      "state": {}
     },
     "ad909a05b35e40fa9d34c1c9f00f6f09": {
      "model_module": "@jupyter-widgets/controls",
      "model_module_version": "1.5.0",
      "model_name": "DescriptionStyleModel",
      "state": {
       "description_width": ""
      }
     },
     "adab4c33a231414495c6eb7f2216c12b": {
      "model_module": "@jupyter-widgets/base",
      "model_module_version": "1.2.0",
      "model_name": "LayoutModel",
      "state": {}
     },
     "ae0502a4472e405d97a12359bbe2c204": {
      "model_module": "@jupyter-widgets/controls",
      "model_module_version": "1.5.0",
      "model_name": "DescriptionStyleModel",
      "state": {
       "description_width": ""
      }
     },
     "ae0c6a8a03cd4e67962e001e6717e6af": {
      "model_module": "@jupyter-widgets/base",
      "model_module_version": "1.2.0",
      "model_name": "LayoutModel",
      "state": {}
     },
     "ae0e972a57c74ce1abf9071b5b9f3764": {
      "model_module": "@jupyter-widgets/base",
      "model_module_version": "1.2.0",
      "model_name": "LayoutModel",
      "state": {}
     },
     "ae7d0d65cb354e46b6248b57ab74fe53": {
      "model_module": "@jupyter-widgets/controls",
      "model_module_version": "1.5.0",
      "model_name": "HBoxModel",
      "state": {
       "children": [
        "IPY_MODEL_c0587c92e97e4981bff3c45e3fa009c6",
        "IPY_MODEL_99e0f7b6453c436f983f43510d7551fd"
       ],
       "layout": "IPY_MODEL_a3d7be8b93874752a5e4440c0046e12e"
      }
     },
     "ae8b73d20f6345ae8cbb0d7ac7e4deef": {
      "model_module": "@jupyter-widgets/controls",
      "model_module_version": "1.5.0",
      "model_name": "ProgressStyleModel",
      "state": {
       "description_width": "initial"
      }
     },
     "af9c17f15e954d8c824d10b7ee8cba97": {
      "model_module": "@jupyter-widgets/controls",
      "model_module_version": "1.5.0",
      "model_name": "DescriptionStyleModel",
      "state": {
       "description_width": ""
      }
     },
     "afbb17af95b54e919edf88e3905efe10": {
      "model_module": "@jupyter-widgets/base",
      "model_module_version": "1.2.0",
      "model_name": "LayoutModel",
      "state": {}
     },
     "afd74a8d2abc477e8276986f55dc99db": {
      "model_module": "@jupyter-widgets/controls",
      "model_module_version": "1.5.0",
      "model_name": "FloatProgressModel",
      "state": {
       "bar_style": "success",
       "description": "[1] 11/12(val  ): 100%",
       "layout": "IPY_MODEL_4faa4ba1ac724d5f9b63d9bde8cdbc57",
       "max": 165,
       "style": "IPY_MODEL_ed82990bf16f4bf7a5bad4141f4f8222",
       "value": 165
      }
     },
     "afec6320e5cb405faf2f329686e7f53e": {
      "model_module": "@jupyter-widgets/controls",
      "model_module_version": "1.5.0",
      "model_name": "HBoxModel",
      "state": {
       "children": [
        "IPY_MODEL_53bed6b51b8f415f8bf2d9c979460303",
        "IPY_MODEL_2cf0cb1cd68c4e02a29676c0a3f50c02"
       ],
       "layout": "IPY_MODEL_31cb6935af8f48bbb7992fe548382a5c"
      }
     },
     "b01dd19461df4ad18e9cac64544cf88e": {
      "model_module": "@jupyter-widgets/controls",
      "model_module_version": "1.5.0",
      "model_name": "HBoxModel",
      "state": {
       "children": [
        "IPY_MODEL_4250ba4c40c9430d921185544a3b40d8",
        "IPY_MODEL_505c9def431a48e0ba83fee6d9e1ac35"
       ],
       "layout": "IPY_MODEL_5b1aee8bd0234246a3faff067e7ec930"
      }
     },
     "b034d1beb3ce47ae9e89fd394591d782": {
      "model_module": "@jupyter-widgets/controls",
      "model_module_version": "1.5.0",
      "model_name": "FloatProgressModel",
      "state": {
       "bar_style": "success",
       "description": "[0] 6/12(val  ): 100%",
       "layout": "IPY_MODEL_0b3f88c2a87346d5bb57cbcdf5f5d0cd",
       "max": 165,
       "style": "IPY_MODEL_444da9615fc84437ada8e1a284ce0d46",
       "value": 165
      }
     },
     "b03adff5bca949bead7ca79fad6d8537": {
      "model_module": "@jupyter-widgets/controls",
      "model_module_version": "1.5.0",
      "model_name": "ProgressStyleModel",
      "state": {
       "description_width": "initial"
      }
     },
     "b08db09f8cbf4a92b9f82b5181792216": {
      "model_module": "@jupyter-widgets/base",
      "model_module_version": "1.2.0",
      "model_name": "LayoutModel",
      "state": {}
     },
     "b09088cd923444459b4af7afa29fe1c9": {
      "model_module": "@jupyter-widgets/controls",
      "model_module_version": "1.5.0",
      "model_name": "HBoxModel",
      "state": {
       "children": [
        "IPY_MODEL_02eec73cd6134c5e9ad9b9596aef6ed8",
        "IPY_MODEL_52b7c67c77ee4f44a30ca593c8c6587d"
       ],
       "layout": "IPY_MODEL_5fbd22e1101448d5b8fde0284c26cb42"
      }
     },
     "b0af5fd22dcb4627a8b44727e418fde2": {
      "model_module": "@jupyter-widgets/controls",
      "model_module_version": "1.5.0",
      "model_name": "HTMLModel",
      "state": {
       "layout": "IPY_MODEL_0437bb4fe28742efbb15442702e4523d",
       "style": "IPY_MODEL_10b6aa08edc64bf1af626a42d496a7df",
       "value": " 493/493 [2:16:20&lt;00:00, 16.59s/it]"
      }
     },
     "b0c68efe14a243b0b6510a35838a8580": {
      "model_module": "@jupyter-widgets/controls",
      "model_module_version": "1.5.0",
      "model_name": "DescriptionStyleModel",
      "state": {
       "description_width": ""
      }
     },
     "b0dbcd6a2ec04a6b9b59941312a5a560": {
      "model_module": "@jupyter-widgets/controls",
      "model_module_version": "1.5.0",
      "model_name": "ProgressStyleModel",
      "state": {
       "description_width": "initial"
      }
     },
     "b0f1e203a2304af4975eeab6c337831c": {
      "model_module": "@jupyter-widgets/base",
      "model_module_version": "1.2.0",
      "model_name": "LayoutModel",
      "state": {}
     },
     "b0fb5ee2e21d4f5c82e05929235a03c7": {
      "model_module": "@jupyter-widgets/base",
      "model_module_version": "1.2.0",
      "model_name": "LayoutModel",
      "state": {}
     },
     "b116af288ddf497b9323a2addf1361ed": {
      "model_module": "@jupyter-widgets/base",
      "model_module_version": "1.2.0",
      "model_name": "LayoutModel",
      "state": {}
     },
     "b248c61f80514a9ebf8ac5b958257bb7": {
      "model_module": "@jupyter-widgets/base",
      "model_module_version": "1.2.0",
      "model_name": "LayoutModel",
      "state": {}
     },
     "b2542874282345e7bb260d0874b8dca9": {
      "model_module": "@jupyter-widgets/controls",
      "model_module_version": "1.5.0",
      "model_name": "ProgressStyleModel",
      "state": {
       "description_width": "initial"
      }
     },
     "b272b28903694fea987b9426124286ff": {
      "model_module": "@jupyter-widgets/base",
      "model_module_version": "1.2.0",
      "model_name": "LayoutModel",
      "state": {}
     },
     "b37e1822055f4d61aa9fa07f9d744a7b": {
      "model_module": "@jupyter-widgets/controls",
      "model_module_version": "1.5.0",
      "model_name": "DescriptionStyleModel",
      "state": {
       "description_width": ""
      }
     },
     "b3a3ad4bce834fbd886226d3edf239f9": {
      "model_module": "@jupyter-widgets/controls",
      "model_module_version": "1.5.0",
      "model_name": "DescriptionStyleModel",
      "state": {
       "description_width": ""
      }
     },
     "b3c5645da74b44d0b96c407f48ee0cb8": {
      "model_module": "@jupyter-widgets/base",
      "model_module_version": "1.2.0",
      "model_name": "LayoutModel",
      "state": {}
     },
     "b4623d97e304470ebaa9be5b55e964c1": {
      "model_module": "@jupyter-widgets/base",
      "model_module_version": "1.2.0",
      "model_name": "LayoutModel",
      "state": {}
     },
     "b4814934d4ab4198b517373708f0dbc0": {
      "model_module": "@jupyter-widgets/controls",
      "model_module_version": "1.5.0",
      "model_name": "ProgressStyleModel",
      "state": {
       "description_width": "initial"
      }
     },
     "b556b15b41f44c7a8ddf0c74a99dda47": {
      "model_module": "@jupyter-widgets/base",
      "model_module_version": "1.2.0",
      "model_name": "LayoutModel",
      "state": {}
     },
     "b56371c228fe4d5d8f9c828cbb096a3c": {
      "model_module": "@jupyter-widgets/controls",
      "model_module_version": "1.5.0",
      "model_name": "HTMLModel",
      "state": {
       "layout": "IPY_MODEL_00543e2c26ab4cd29a02254e77c7a1bc",
       "style": "IPY_MODEL_7c02717c8263411389f7cf1e2bf918fe",
       "value": " 493/493 [35:50&lt;00:00,  4.36s/it]"
      }
     },
     "b5a3611b2a6c47d6a49a63aeba570d3b": {
      "model_module": "@jupyter-widgets/controls",
      "model_module_version": "1.5.0",
      "model_name": "HBoxModel",
      "state": {
       "children": [
        "IPY_MODEL_c9191bace79a4fe1bc2eaa9a80fb9ee1",
        "IPY_MODEL_1849867023b849ce83093b7763b447be"
       ],
       "layout": "IPY_MODEL_adab4c33a231414495c6eb7f2216c12b"
      }
     },
     "b62d4bb35f794d7885a9a313963a62f6": {
      "model_module": "@jupyter-widgets/controls",
      "model_module_version": "1.5.0",
      "model_name": "FloatProgressModel",
      "state": {
       "bar_style": "success",
       "description": "[2] 11/12(train): 100%",
       "layout": "IPY_MODEL_84feb5040e614f449e393bed36d52618",
       "max": 493,
       "style": "IPY_MODEL_3a640633174f40cc81b94196c284a262",
       "value": 493
      }
     },
     "b6a4e09631c046b38e43ee090dda02a6": {
      "model_module": "@jupyter-widgets/base",
      "model_module_version": "1.2.0",
      "model_name": "LayoutModel",
      "state": {}
     },
     "b6a699c43fd2443eb07827bcf19e0af8": {
      "model_module": "@jupyter-widgets/controls",
      "model_module_version": "1.5.0",
      "model_name": "FloatProgressModel",
      "state": {
       "bar_style": "success",
       "description": "[1] 12/12(train): 100%",
       "layout": "IPY_MODEL_071756dc30f7458393f901df1d55edfa",
       "max": 493,
       "style": "IPY_MODEL_7d9d84dd582740bc90c8564c42724841",
       "value": 493
      }
     },
     "b822908f25af4e25a02775c0922d58a2": {
      "model_module": "@jupyter-widgets/controls",
      "model_module_version": "1.5.0",
      "model_name": "HTMLModel",
      "state": {
       "layout": "IPY_MODEL_5472a90d6eae4cf79a194232fd2924a2",
       "style": "IPY_MODEL_1c3e1906fe9a426a99c50ed5849abf3b",
       "value": " 165/165 [11:53&lt;00:00,  4.32s/it]"
      }
     },
     "b8445bd018194d849a7d69094b6a28d2": {
      "model_module": "@jupyter-widgets/controls",
      "model_module_version": "1.5.0",
      "model_name": "HBoxModel",
      "state": {
       "children": [
        "IPY_MODEL_4b09485a8b1c4f63803e948da0a9996a",
        "IPY_MODEL_c1c2ca33bc504b0aabc6e2ede3374567"
       ],
       "layout": "IPY_MODEL_b248c61f80514a9ebf8ac5b958257bb7"
      }
     },
     "b8775aa616324bfcb37468c33c0470d2": {
      "model_module": "@jupyter-widgets/controls",
      "model_module_version": "1.5.0",
      "model_name": "HBoxModel",
      "state": {
       "children": [
        "IPY_MODEL_71c6e34fb58b4b9ab6fdba0365172e74",
        "IPY_MODEL_9d07406fda994efc89c3b067d1935eff"
       ],
       "layout": "IPY_MODEL_bb2f37324af64c5dbb09ea4aa68e9e04"
      }
     },
     "b8bfaff529034ce6b26e124373f14b5f": {
      "model_module": "@jupyter-widgets/base",
      "model_module_version": "1.2.0",
      "model_name": "LayoutModel",
      "state": {}
     },
     "b91d4edfe21e4b9183597f8b62971b58": {
      "model_module": "@jupyter-widgets/controls",
      "model_module_version": "1.5.0",
      "model_name": "DescriptionStyleModel",
      "state": {
       "description_width": ""
      }
     },
     "b94021e4928f4f3daf067465ba228888": {
      "model_module": "@jupyter-widgets/controls",
      "model_module_version": "1.5.0",
      "model_name": "ProgressStyleModel",
      "state": {
       "description_width": "initial"
      }
     },
     "ba2c3f0e7c93450ba3367722cc15f2b7": {
      "model_module": "@jupyter-widgets/base",
      "model_module_version": "1.2.0",
      "model_name": "LayoutModel",
      "state": {}
     },
     "ba3a2d96cba84b7eb5eb8cd9dbc11659": {
      "model_module": "@jupyter-widgets/controls",
      "model_module_version": "1.5.0",
      "model_name": "DescriptionStyleModel",
      "state": {
       "description_width": ""
      }
     },
     "ba744224c2aa4d59b37d284330107d4a": {
      "model_module": "@jupyter-widgets/controls",
      "model_module_version": "1.5.0",
      "model_name": "ProgressStyleModel",
      "state": {
       "description_width": "initial"
      }
     },
     "baa8ddfb7092436f90d2b9d78a01eeb4": {
      "model_module": "@jupyter-widgets/controls",
      "model_module_version": "1.5.0",
      "model_name": "FloatProgressModel",
      "state": {
       "bar_style": "success",
       "description": "[2] 3/12(val  ): 100%",
       "layout": "IPY_MODEL_2d97f707ff89433a8eecdae81156160d",
       "max": 165,
       "style": "IPY_MODEL_ce3e228b8abb4de0b0d6e4b351a3cbc0",
       "value": 165
      }
     },
     "bb2f37324af64c5dbb09ea4aa68e9e04": {
      "model_module": "@jupyter-widgets/base",
      "model_module_version": "1.2.0",
      "model_name": "LayoutModel",
      "state": {}
     },
     "bb2fb1258fb44d69a9db2051b48a11ee": {
      "model_module": "@jupyter-widgets/base",
      "model_module_version": "1.2.0",
      "model_name": "LayoutModel",
      "state": {}
     },
     "bb7db032675c4d2fb6018c2a65974914": {
      "model_module": "@jupyter-widgets/controls",
      "model_module_version": "1.5.0",
      "model_name": "HTMLModel",
      "state": {
       "layout": "IPY_MODEL_8561968a9f67413b8e08371c6483efd3",
       "style": "IPY_MODEL_4f2d7f2971f94ec4b99685cd610f8605",
       "value": " 493/493 [6:11:34&lt;00:00, 45.22s/it]"
      }
     },
     "bb9fc92787674b018cd7dfa2a863f96f": {
      "model_module": "@jupyter-widgets/controls",
      "model_module_version": "1.5.0",
      "model_name": "HTMLModel",
      "state": {
       "layout": "IPY_MODEL_01435bca8a1546aaafa6613a0cd55e57",
       "style": "IPY_MODEL_da10417e884343f791c41c5f10bfc9e1",
       "value": " 165/165 [11:43&lt;00:00,  4.26s/it]"
      }
     },
     "bc1cedd945374748b0d7a5857cc477e8": {
      "model_module": "@jupyter-widgets/controls",
      "model_module_version": "1.5.0",
      "model_name": "ProgressStyleModel",
      "state": {
       "description_width": "initial"
      }
     },
     "bc92387f222c422a9249a7318e1e454b": {
      "model_module": "@jupyter-widgets/base",
      "model_module_version": "1.2.0",
      "model_name": "LayoutModel",
      "state": {}
     },
     "bcbf17e776c54810abc1a3d08d947825": {
      "model_module": "@jupyter-widgets/controls",
      "model_module_version": "1.5.0",
      "model_name": "ProgressStyleModel",
      "state": {
       "description_width": "initial"
      }
     },
     "bcd94ff65f7f485987c85cb962fdfdcb": {
      "model_module": "@jupyter-widgets/controls",
      "model_module_version": "1.5.0",
      "model_name": "DescriptionStyleModel",
      "state": {
       "description_width": ""
      }
     },
     "bce012095d644eaaa29a9ff3e92ee0bb": {
      "model_module": "@jupyter-widgets/controls",
      "model_module_version": "1.5.0",
      "model_name": "DescriptionStyleModel",
      "state": {
       "description_width": ""
      }
     },
     "bd3c19d99ead4624998d785a0c2cd7d7": {
      "model_module": "@jupyter-widgets/controls",
      "model_module_version": "1.5.0",
      "model_name": "FloatProgressModel",
      "state": {
       "bar_style": "success",
       "description": "[1] 6/12(val  ): 100%",
       "layout": "IPY_MODEL_cdb37821a1cc437eb67c98333ed43335",
       "max": 165,
       "style": "IPY_MODEL_8d79309dad5744dcbe0defb657636adf",
       "value": 165
      }
     },
     "bd9624551a3a4928b6e68cbeab21c0d4": {
      "model_module": "@jupyter-widgets/base",
      "model_module_version": "1.2.0",
      "model_name": "LayoutModel",
      "state": {}
     },
     "be5adfc4a84a45d68a4eefcdbacf2c90": {
      "model_module": "@jupyter-widgets/base",
      "model_module_version": "1.2.0",
      "model_name": "LayoutModel",
      "state": {}
     },
     "be74682b06a746daaa901ddea187e58d": {
      "model_module": "@jupyter-widgets/controls",
      "model_module_version": "1.5.0",
      "model_name": "ProgressStyleModel",
      "state": {
       "description_width": "initial"
      }
     },
     "bf3815a2559e407697bd7d360522966e": {
      "model_module": "@jupyter-widgets/controls",
      "model_module_version": "1.5.0",
      "model_name": "ProgressStyleModel",
      "state": {
       "description_width": "initial"
      }
     },
     "bf44913b81f0452d93fa769fc5a59fc4": {
      "model_module": "@jupyter-widgets/base",
      "model_module_version": "1.2.0",
      "model_name": "LayoutModel",
      "state": {}
     },
     "bf4f6287a4d5432380ca9d390ea92c6c": {
      "model_module": "@jupyter-widgets/controls",
      "model_module_version": "1.5.0",
      "model_name": "DescriptionStyleModel",
      "state": {
       "description_width": ""
      }
     },
     "bfa53e57de5e4c3ca021c8fe9430576d": {
      "model_module": "@jupyter-widgets/controls",
      "model_module_version": "1.5.0",
      "model_name": "FloatProgressModel",
      "state": {
       "bar_style": "success",
       "description": "[0] 11/12(val  ): 100%",
       "layout": "IPY_MODEL_6ce06d06ffaf446fb5ca451160aef622",
       "max": 165,
       "style": "IPY_MODEL_698a32dc4d2840f9a831f19e9b2e50e3",
       "value": 165
      }
     },
     "bfc3884047824ea0b456bbdb3bb86cba": {
      "model_module": "@jupyter-widgets/controls",
      "model_module_version": "1.5.0",
      "model_name": "DescriptionStyleModel",
      "state": {
       "description_width": ""
      }
     },
     "bff2b79466744f4a9f5a8f600e06b6c7": {
      "model_module": "@jupyter-widgets/base",
      "model_module_version": "1.2.0",
      "model_name": "LayoutModel",
      "state": {}
     },
     "bffdf8a90fad463e808465349e797825": {
      "model_module": "@jupyter-widgets/base",
      "model_module_version": "1.2.0",
      "model_name": "LayoutModel",
      "state": {}
     },
     "c0587c92e97e4981bff3c45e3fa009c6": {
      "model_module": "@jupyter-widgets/controls",
      "model_module_version": "1.5.0",
      "model_name": "FloatProgressModel",
      "state": {
       "bar_style": "success",
       "description": "[1] 4/12(train): 100%",
       "layout": "IPY_MODEL_3c1924f7f78a47529f554566fead3fdb",
       "max": 493,
       "style": "IPY_MODEL_0038ec72fd77434b808987e6a3223aaf",
       "value": 493
      }
     },
     "c069a6d77e7f43c8983fdd2e48833007": {
      "model_module": "@jupyter-widgets/base",
      "model_module_version": "1.2.0",
      "model_name": "LayoutModel",
      "state": {}
     },
     "c0d0d43db4e94b208fd0338887d2de35": {
      "model_module": "@jupyter-widgets/controls",
      "model_module_version": "1.5.0",
      "model_name": "HTMLModel",
      "state": {
       "layout": "IPY_MODEL_ac9193f33b2c49dbbbe05d95a508ee26",
       "style": "IPY_MODEL_56c3eec08ab345999d1de33dd5bd0a7d",
       "value": " 493/493 [52:57&lt;00:00,  6.45s/it]"
      }
     },
     "c11c9a60dbfa467aa955604cf8ea129a": {
      "model_module": "@jupyter-widgets/base",
      "model_module_version": "1.2.0",
      "model_name": "LayoutModel",
      "state": {}
     },
     "c1b34630e3df42dc825ad8046e222561": {
      "model_module": "@jupyter-widgets/controls",
      "model_module_version": "1.5.0",
      "model_name": "HBoxModel",
      "state": {
       "children": [
        "IPY_MODEL_042b13077a874c8e9ff380d5c70cf819",
        "IPY_MODEL_e64c4024bf3b4b29ae99473a80061d00"
       ],
       "layout": "IPY_MODEL_3bbefbc1f6b044db94df8753a392dd44"
      }
     },
     "c1c2ca33bc504b0aabc6e2ede3374567": {
      "model_module": "@jupyter-widgets/controls",
      "model_module_version": "1.5.0",
      "model_name": "HTMLModel",
      "state": {
       "layout": "IPY_MODEL_6415271c361e4daca7cac7bbc30d2054",
       "style": "IPY_MODEL_9d5bfbea1a4248aa8e0a5b7ba309ba3b",
       "value": " 493/493 [46:22&lt;00:00,  5.64s/it]"
      }
     },
     "c1cb0ad97eaa4806976c95c697d76ec1": {
      "model_module": "@jupyter-widgets/controls",
      "model_module_version": "1.5.0",
      "model_name": "FloatProgressModel",
      "state": {
       "bar_style": "success",
       "description": "[2] 7/12(val  ): 100%",
       "layout": "IPY_MODEL_c11c9a60dbfa467aa955604cf8ea129a",
       "max": 165,
       "style": "IPY_MODEL_a5116b33306d463d8ea9a0203743de65",
       "value": 165
      }
     },
     "c2b8f7d2345349b6a040249a487964f3": {
      "model_module": "@jupyter-widgets/base",
      "model_module_version": "1.2.0",
      "model_name": "LayoutModel",
      "state": {}
     },
     "c2fd9bfb3a4f403b869fa9ce788cbe8c": {
      "model_module": "@jupyter-widgets/base",
      "model_module_version": "1.2.0",
      "model_name": "LayoutModel",
      "state": {}
     },
     "c36c97c63d4f4e6da7e60c0aeb117d4a": {
      "model_module": "@jupyter-widgets/controls",
      "model_module_version": "1.5.0",
      "model_name": "DescriptionStyleModel",
      "state": {
       "description_width": ""
      }
     },
     "c3c2d689f3cb4223b98a7153827002df": {
      "model_module": "@jupyter-widgets/controls",
      "model_module_version": "1.5.0",
      "model_name": "HTMLModel",
      "state": {
       "layout": "IPY_MODEL_f64abfbfff214f3f94ef4fef659ea25f",
       "style": "IPY_MODEL_e9c38a17616b4cb7867a326b2cb0da3d",
       "value": " 493/493 [1:38:31&lt;00:00, 11.99s/it]"
      }
     },
     "c49acc0e9fd04ffca5048b991eeeefee": {
      "model_module": "@jupyter-widgets/base",
      "model_module_version": "1.2.0",
      "model_name": "LayoutModel",
      "state": {}
     },
     "c49bcf9f58484c799ce5204aca08c42d": {
      "model_module": "@jupyter-widgets/base",
      "model_module_version": "1.2.0",
      "model_name": "LayoutModel",
      "state": {}
     },
     "c4a0fbdf99d74c0d883486f7b8337444": {
      "model_module": "@jupyter-widgets/base",
      "model_module_version": "1.2.0",
      "model_name": "LayoutModel",
      "state": {}
     },
     "c4d47702414548588dafa5e804199cc0": {
      "model_module": "@jupyter-widgets/controls",
      "model_module_version": "1.5.0",
      "model_name": "DescriptionStyleModel",
      "state": {
       "description_width": ""
      }
     },
     "c53e9e61ed494daa845fa2177c267ea1": {
      "model_module": "@jupyter-widgets/controls",
      "model_module_version": "1.5.0",
      "model_name": "FloatProgressModel",
      "state": {
       "bar_style": "success",
       "description": "[2] 12/12(val  ): 100%",
       "layout": "IPY_MODEL_54bee4dec77e43a8961d82fa5e7a04f2",
       "max": 165,
       "style": "IPY_MODEL_2efcf6d0b23b4acd882c770393e6e867",
       "value": 165
      }
     },
     "c58d70d1c32b40eb86587d9fd91ef690": {
      "model_module": "@jupyter-widgets/controls",
      "model_module_version": "1.5.0",
      "model_name": "FloatProgressModel",
      "state": {
       "bar_style": "success",
       "description": "[3] 6/12(val  ): 100%",
       "layout": "IPY_MODEL_d04d7d0ffb8b4238b9fb4cc5b102a947",
       "max": 165,
       "style": "IPY_MODEL_c6ee9cb090b549bbb18612bd72ddb68b",
       "value": 165
      }
     },
     "c6ee9cb090b549bbb18612bd72ddb68b": {
      "model_module": "@jupyter-widgets/controls",
      "model_module_version": "1.5.0",
      "model_name": "ProgressStyleModel",
      "state": {
       "description_width": "initial"
      }
     },
     "c6f5d33de68e4f5483b722369381a393": {
      "model_module": "@jupyter-widgets/base",
      "model_module_version": "1.2.0",
      "model_name": "LayoutModel",
      "state": {}
     },
     "c70341dab1ff4eb2a8c1a990905a73f1": {
      "model_module": "@jupyter-widgets/controls",
      "model_module_version": "1.5.0",
      "model_name": "DescriptionStyleModel",
      "state": {
       "description_width": ""
      }
     },
     "c797322a8f4b4a6bae8bd5a98403b8ac": {
      "model_module": "@jupyter-widgets/controls",
      "model_module_version": "1.5.0",
      "model_name": "ProgressStyleModel",
      "state": {
       "description_width": "initial"
      }
     },
     "c7cc908dad734a27b75e4b3541a1dcdb": {
      "model_module": "@jupyter-widgets/base",
      "model_module_version": "1.2.0",
      "model_name": "LayoutModel",
      "state": {}
     },
     "c8b091ae99d4417f9694fd39163b3dcc": {
      "model_module": "@jupyter-widgets/controls",
      "model_module_version": "1.5.0",
      "model_name": "FloatProgressModel",
      "state": {
       "bar_style": "success",
       "description": "[1] 9/12(train): 100%",
       "layout": "IPY_MODEL_c2fd9bfb3a4f403b869fa9ce788cbe8c",
       "max": 493,
       "style": "IPY_MODEL_d793833e456e42d8ab9d544c3558c310",
       "value": 493
      }
     },
     "c9191bace79a4fe1bc2eaa9a80fb9ee1": {
      "model_module": "@jupyter-widgets/controls",
      "model_module_version": "1.5.0",
      "model_name": "FloatProgressModel",
      "state": {
       "bar_style": "success",
       "description": "100%",
       "layout": "IPY_MODEL_6852570362bc444ca65f33dd592ceff2",
       "max": 1,
       "style": "IPY_MODEL_93629ab2f38e4eb59f63f5f4ab2b106f",
       "value": 1
      }
     },
     "c91d75df8d2e42cc87bc0baa606ff22f": {
      "model_module": "@jupyter-widgets/controls",
      "model_module_version": "1.5.0",
      "model_name": "HTMLModel",
      "state": {
       "layout": "IPY_MODEL_2b50124c66c040a0952b1e02f0517afd",
       "style": "IPY_MODEL_fbdd47bcedc147cc8f7e8331942e02fd",
       "value": " 0/493 [00:15&lt;?, ?it/s]"
      }
     },
     "c976b3424ad24edc97aae4a3c635ab09": {
      "model_module": "@jupyter-widgets/controls",
      "model_module_version": "1.5.0",
      "model_name": "HBoxModel",
      "state": {
       "children": [
        "IPY_MODEL_c53e9e61ed494daa845fa2177c267ea1",
        "IPY_MODEL_6f3b91d684f0480b93a30d943ad7860c"
       ],
       "layout": "IPY_MODEL_2b5bcf650fce419aa7cff213afa49364"
      }
     },
     "c9c3b2a0da8a48cf855f1e63582af8e0": {
      "model_module": "@jupyter-widgets/controls",
      "model_module_version": "1.5.0",
      "model_name": "ProgressStyleModel",
      "state": {
       "description_width": "initial"
      }
     },
     "c9fb52ac162247e38eb463cc81bc3922": {
      "model_module": "@jupyter-widgets/base",
      "model_module_version": "1.2.0",
      "model_name": "LayoutModel",
      "state": {}
     },
     "ca1ca5150f634ca88179c4e903f811f8": {
      "model_module": "@jupyter-widgets/base",
      "model_module_version": "1.2.0",
      "model_name": "LayoutModel",
      "state": {}
     },
     "ca658b538a954911b04c045850750bb1": {
      "model_module": "@jupyter-widgets/controls",
      "model_module_version": "1.5.0",
      "model_name": "HTMLModel",
      "state": {
       "layout": "IPY_MODEL_ee822f97d9b2421f977120e373147c08",
       "style": "IPY_MODEL_150a861031e24969b3f968298cfbfe25",
       "value": " 165/165 [11:48&lt;00:00,  4.30s/it]"
      }
     },
     "ca6e31f7904645c1888ba68f6887bb08": {
      "model_module": "@jupyter-widgets/controls",
      "model_module_version": "1.5.0",
      "model_name": "HBoxModel",
      "state": {
       "children": [
        "IPY_MODEL_81d663954b9a4888af4e4c9e24948866",
        "IPY_MODEL_a82a57575faa45f495b5918fbcc4e579"
       ],
       "layout": "IPY_MODEL_63bffaf0d4d048079158247ed671ccb6"
      }
     },
     "ca752d7836304d608dab6cb9174aea6e": {
      "model_module": "@jupyter-widgets/controls",
      "model_module_version": "1.5.0",
      "model_name": "HBoxModel",
      "state": {
       "children": [
        "IPY_MODEL_4c1c1b8ff57848a6959dccaad1b0cf29",
        "IPY_MODEL_8138e173c54847e88ecf7a50181e0e5b"
       ],
       "layout": "IPY_MODEL_0e55241beb104cd18b87e3cfb8dbe64d"
      }
     },
     "cadb139d436949d782530d3160840e8d": {
      "model_module": "@jupyter-widgets/controls",
      "model_module_version": "1.5.0",
      "model_name": "HTMLModel",
      "state": {
       "layout": "IPY_MODEL_d3b76ea5dfee4df7ba4225bd9071bd6b",
       "style": "IPY_MODEL_15c66991191345918c0d2d5f175b3533",
       "value": " 493/493 [37:02&lt;00:00,  4.51s/it]"
      }
     },
     "cb166c308db84891808e5af054f59be4": {
      "model_module": "@jupyter-widgets/controls",
      "model_module_version": "1.5.0",
      "model_name": "HTMLModel",
      "state": {
       "layout": "IPY_MODEL_c7cc908dad734a27b75e4b3541a1dcdb",
       "style": "IPY_MODEL_dabb16490fd74147b1374c12bfdb6995",
       "value": " 493/493 [46:04&lt;00:00,  5.61s/it]"
      }
     },
     "cb395f9d54b54627b8ff3cbcd5872ebd": {
      "model_module": "@jupyter-widgets/controls",
      "model_module_version": "1.5.0",
      "model_name": "HBoxModel",
      "state": {
       "children": [
        "IPY_MODEL_1f4dd7bec8744be88318ef1a0b16ca17",
        "IPY_MODEL_11d68546c82742eeb7ef1ff254e433dc"
       ],
       "layout": "IPY_MODEL_39660d3609e5447e85763ab679feeaaa"
      }
     },
     "cb66a942c8ab4c6289246960d77f012a": {
      "model_module": "@jupyter-widgets/controls",
      "model_module_version": "1.5.0",
      "model_name": "ProgressStyleModel",
      "state": {
       "description_width": "initial"
      }
     },
     "cb7203b1664142f0a66a96ef8ad808fe": {
      "model_module": "@jupyter-widgets/base",
      "model_module_version": "1.2.0",
      "model_name": "LayoutModel",
      "state": {}
     },
     "cb7edc60ca2141ffb413e8454688a167": {
      "model_module": "@jupyter-widgets/controls",
      "model_module_version": "1.5.0",
      "model_name": "DescriptionStyleModel",
      "state": {
       "description_width": ""
      }
     },
     "cb8abf23d9f34d88a87f63b6e6c5a1a4": {
      "model_module": "@jupyter-widgets/controls",
      "model_module_version": "1.5.0",
      "model_name": "ProgressStyleModel",
      "state": {
       "description_width": "initial"
      }
     },
     "cba8e25c9a9a4747851bc9b582e55104": {
      "model_module": "@jupyter-widgets/controls",
      "model_module_version": "1.5.0",
      "model_name": "FloatProgressModel",
      "state": {
       "bar_style": "success",
       "description": "[0] 10/12(val  ): 100%",
       "layout": "IPY_MODEL_9ecf6f40375a48e4952d3f58a421a361",
       "max": 165,
       "style": "IPY_MODEL_166f0adb72114bb99feab23b6c483f41",
       "value": 165
      }
     },
     "cbe0072aa2a247f5b8ef24b0e1875675": {
      "model_module": "@jupyter-widgets/controls",
      "model_module_version": "1.5.0",
      "model_name": "ProgressStyleModel",
      "state": {
       "description_width": "initial"
      }
     },
     "cc085c9917544a108f6afb3ee767f153": {
      "model_module": "@jupyter-widgets/controls",
      "model_module_version": "1.5.0",
      "model_name": "HBoxModel",
      "state": {
       "children": [
        "IPY_MODEL_b62d4bb35f794d7885a9a313963a62f6",
        "IPY_MODEL_c0d0d43db4e94b208fd0338887d2de35"
       ],
       "layout": "IPY_MODEL_208b504ed620484bbbb7de3f9b686f1d"
      }
     },
     "cc32dfb8ee21445fae79bbaf6c1c7d5a": {
      "model_module": "@jupyter-widgets/controls",
      "model_module_version": "1.5.0",
      "model_name": "DescriptionStyleModel",
      "state": {
       "description_width": ""
      }
     },
     "cc4de10c0825411384dcd373d8fbc6d1": {
      "model_module": "@jupyter-widgets/controls",
      "model_module_version": "1.5.0",
      "model_name": "HBoxModel",
      "state": {
       "children": [
        "IPY_MODEL_3f2173a0524d4ed196ef274a94f52baa",
        "IPY_MODEL_718ed66c7eb9426ebb621cf42832e3f9"
       ],
       "layout": "IPY_MODEL_78ca3a40b4514711a9e5ebd9520295b4"
      }
     },
     "ccf6b676a5f740d9a3a3186847238f5e": {
      "model_module": "@jupyter-widgets/controls",
      "model_module_version": "1.5.0",
      "model_name": "ProgressStyleModel",
      "state": {
       "description_width": "initial"
      }
     },
     "ccfcedcf96cd4d758cf21d2cae022058": {
      "model_module": "@jupyter-widgets/controls",
      "model_module_version": "1.5.0",
      "model_name": "ProgressStyleModel",
      "state": {
       "description_width": "initial"
      }
     },
     "cd9522388c2d4f24ac2a2b81e15609d7": {
      "model_module": "@jupyter-widgets/base",
      "model_module_version": "1.2.0",
      "model_name": "LayoutModel",
      "state": {}
     },
     "cda50cf6b6d34599ae0394e40b110d52": {
      "model_module": "@jupyter-widgets/controls",
      "model_module_version": "1.5.0",
      "model_name": "FloatProgressModel",
      "state": {
       "bar_style": "success",
       "description": "[0] 10/12(train): 100%",
       "layout": "IPY_MODEL_12325789a5c848bb9b5926cf44afdeaa",
       "max": 493,
       "style": "IPY_MODEL_e9090e9722f64ea58597b6fcdff2bd40",
       "value": 493
      }
     },
     "cdb37821a1cc437eb67c98333ed43335": {
      "model_module": "@jupyter-widgets/base",
      "model_module_version": "1.2.0",
      "model_name": "LayoutModel",
      "state": {}
     },
     "cdb93f4341ce4710b915db685f637d48": {
      "model_module": "@jupyter-widgets/controls",
      "model_module_version": "1.5.0",
      "model_name": "HBoxModel",
      "state": {
       "children": [
        "IPY_MODEL_6f4ae7fd3e374a88b054895bce3421af",
        "IPY_MODEL_19b01873ad80487980d3196bebb0c0da"
       ],
       "layout": "IPY_MODEL_a14a8fc0b50645369b89c3db1f2fe8ca"
      }
     },
     "ce03d62d7ca94512983b96fec4f161a5": {
      "model_module": "@jupyter-widgets/base",
      "model_module_version": "1.2.0",
      "model_name": "LayoutModel",
      "state": {}
     },
     "ce2e9ef9b1dd48a88457dee4a43f74d4": {
      "model_module": "@jupyter-widgets/controls",
      "model_module_version": "1.5.0",
      "model_name": "HTMLModel",
      "state": {
       "layout": "IPY_MODEL_8b1bafe4c6c74d47af449389a1836170",
       "style": "IPY_MODEL_cc32dfb8ee21445fae79bbaf6c1c7d5a",
       "value": " 165/165 [11:43&lt;00:00,  4.26s/it]"
      }
     },
     "ce36a556e9b5491182bef15f20d6d141": {
      "model_module": "@jupyter-widgets/base",
      "model_module_version": "1.2.0",
      "model_name": "LayoutModel",
      "state": {}
     },
     "ce3e228b8abb4de0b0d6e4b351a3cbc0": {
      "model_module": "@jupyter-widgets/controls",
      "model_module_version": "1.5.0",
      "model_name": "ProgressStyleModel",
      "state": {
       "description_width": "initial"
      }
     },
     "cee449620b01460dbb4193c6ad836187": {
      "model_module": "@jupyter-widgets/controls",
      "model_module_version": "1.5.0",
      "model_name": "DescriptionStyleModel",
      "state": {
       "description_width": ""
      }
     },
     "cef6e57e31f94f5d971207955e0c7632": {
      "model_module": "@jupyter-widgets/controls",
      "model_module_version": "1.5.0",
      "model_name": "FloatProgressModel",
      "state": {
       "bar_style": "success",
       "description": "[3] 8/12(train): 100%",
       "layout": "IPY_MODEL_426ee396820f47118ffce7995aefc44b",
       "max": 493,
       "style": "IPY_MODEL_c797322a8f4b4a6bae8bd5a98403b8ac",
       "value": 493
      }
     },
     "cf3b2566f5fb4f258a8829dc33e1fb97": {
      "model_module": "@jupyter-widgets/base",
      "model_module_version": "1.2.0",
      "model_name": "LayoutModel",
      "state": {}
     },
     "cf59c01642384cd7a1d3643a5a2eb7ff": {
      "model_module": "@jupyter-widgets/controls",
      "model_module_version": "1.5.0",
      "model_name": "ProgressStyleModel",
      "state": {
       "description_width": "initial"
      }
     },
     "cf5f7bd57a624391a4260cabf6d464ca": {
      "model_module": "@jupyter-widgets/base",
      "model_module_version": "1.2.0",
      "model_name": "LayoutModel",
      "state": {}
     },
     "cf6913ef31cb4ea6b4bdf691c66924f8": {
      "model_module": "@jupyter-widgets/controls",
      "model_module_version": "1.5.0",
      "model_name": "ProgressStyleModel",
      "state": {
       "description_width": "initial"
      }
     },
     "cf81a4d71ab140ceb931447f49ae5c81": {
      "model_module": "@jupyter-widgets/controls",
      "model_module_version": "1.5.0",
      "model_name": "FloatProgressModel",
      "state": {
       "bar_style": "success",
       "description": "[3] 4/12(val  ): 100%",
       "layout": "IPY_MODEL_8d98668928ba4ed6b3dce3e7c2b81c8d",
       "max": 165,
       "style": "IPY_MODEL_14326e4b661a41519e90439ce9b37060",
       "value": 165
      }
     },
     "cfa194756f4643268ca48b6f9be9092b": {
      "model_module": "@jupyter-widgets/base",
      "model_module_version": "1.2.0",
      "model_name": "LayoutModel",
      "state": {}
     },
     "d007ea1f8b3448f9b9a61d2e3934549a": {
      "model_module": "@jupyter-widgets/controls",
      "model_module_version": "1.5.0",
      "model_name": "HTMLModel",
      "state": {
       "layout": "IPY_MODEL_a4dfe8b104d84c8496a432da7fd5c86e",
       "style": "IPY_MODEL_a534504f1f3343fe98d4561a217a733c",
       "value": " 493/493 [35:56&lt;00:00,  4.37s/it]"
      }
     },
     "d012a86671b1449aa3372c90a24c1d68": {
      "model_module": "@jupyter-widgets/controls",
      "model_module_version": "1.5.0",
      "model_name": "DescriptionStyleModel",
      "state": {
       "description_width": ""
      }
     },
     "d044e2d3771849d0bef7a9bfda2d6fc3": {
      "model_module": "@jupyter-widgets/controls",
      "model_module_version": "1.5.0",
      "model_name": "DescriptionStyleModel",
      "state": {
       "description_width": ""
      }
     },
     "d04d7d0ffb8b4238b9fb4cc5b102a947": {
      "model_module": "@jupyter-widgets/base",
      "model_module_version": "1.2.0",
      "model_name": "LayoutModel",
      "state": {}
     },
     "d12eacfccbe4452db683c16bc9ec50fd": {
      "model_module": "@jupyter-widgets/base",
      "model_module_version": "1.2.0",
      "model_name": "LayoutModel",
      "state": {}
     },
     "d1e9e35aa3bf4453b4d9d0b1097da867": {
      "model_module": "@jupyter-widgets/controls",
      "model_module_version": "1.5.0",
      "model_name": "FloatProgressModel",
      "state": {
       "bar_style": "success",
       "description": "[2] 6/12(val  ): 100%",
       "layout": "IPY_MODEL_c2b8f7d2345349b6a040249a487964f3",
       "max": 165,
       "style": "IPY_MODEL_d90b78557a554678af9b0b2266d8e555",
       "value": 165
      }
     },
     "d22726c998494997854fb91c926c269b": {
      "model_module": "@jupyter-widgets/base",
      "model_module_version": "1.2.0",
      "model_name": "LayoutModel",
      "state": {}
     },
     "d2acc67aee28485faeb1740903f950ff": {
      "model_module": "@jupyter-widgets/controls",
      "model_module_version": "1.5.0",
      "model_name": "FloatProgressModel",
      "state": {
       "bar_style": "success",
       "description": "100%",
       "layout": "IPY_MODEL_09087c5fce514dd19bcb116ef778eba1",
       "max": 165,
       "style": "IPY_MODEL_24f32ed2c181407585c9a7fa45b3c3a5",
       "value": 165
      }
     },
     "d2cc88c9bb28432db2eab4bd7cde60b6": {
      "model_module": "@jupyter-widgets/controls",
      "model_module_version": "1.5.0",
      "model_name": "HTMLModel",
      "state": {
       "layout": "IPY_MODEL_80ffd51bbee24c0988a17ad28dfa91a1",
       "style": "IPY_MODEL_bce012095d644eaaa29a9ff3e92ee0bb",
       "value": " 493/493 [3:47:22&lt;00:00, 27.67s/it]"
      }
     },
     "d2fa67bc47284099baa100433ee02c74": {
      "model_module": "@jupyter-widgets/controls",
      "model_module_version": "1.5.0",
      "model_name": "ProgressStyleModel",
      "state": {
       "description_width": "initial"
      }
     },
     "d2fcc48addf84ab3aa7ae7c23ca7f763": {
      "model_module": "@jupyter-widgets/controls",
      "model_module_version": "1.5.0",
      "model_name": "HBoxModel",
      "state": {
       "children": [
        "IPY_MODEL_3ed9354da26e40eab53deaf976d47b2c",
        "IPY_MODEL_b56371c228fe4d5d8f9c828cbb096a3c"
       ],
       "layout": "IPY_MODEL_6ee8f83b14ec41f29ad93c4aa971d85d"
      }
     },
     "d2ffd848d862497b90896d67325010c6": {
      "model_module": "@jupyter-widgets/controls",
      "model_module_version": "1.5.0",
      "model_name": "HTMLModel",
      "state": {
       "layout": "IPY_MODEL_e0013369c91e47889a45bac7467ede09",
       "style": "IPY_MODEL_7b8893ef38ca4564a3a0e35a31fd9f4d",
       "value": " 165/165 [7:00:43&lt;00:00, 152.99s/it]"
      }
     },
     "d327e855e86f4d798ed38b6d7cb621a7": {
      "model_module": "@jupyter-widgets/controls",
      "model_module_version": "1.5.0",
      "model_name": "FloatProgressModel",
      "state": {
       "bar_style": "success",
       "description": "[3] 3/12(train): 100%",
       "layout": "IPY_MODEL_3616b19c27e94f3caaa531cf1210babe",
       "max": 493,
       "style": "IPY_MODEL_f2d95965ca7f46b5977a333ee9212dc0",
       "value": 493
      }
     },
     "d3b76ea5dfee4df7ba4225bd9071bd6b": {
      "model_module": "@jupyter-widgets/base",
      "model_module_version": "1.2.0",
      "model_name": "LayoutModel",
      "state": {}
     },
     "d41b85f7e8ed4158997c03898a3b189c": {
      "model_module": "@jupyter-widgets/controls",
      "model_module_version": "1.5.0",
      "model_name": "HTMLModel",
      "state": {
       "layout": "IPY_MODEL_2c127e7a73be45be91dfcd162e60ba7e",
       "style": "IPY_MODEL_3f2a75f6761f40a0b7d1f8aa6426e9e3",
       "value": " 165/165 [10:57&lt;00:00,  3.98s/it]"
      }
     },
     "d4a7f2274ad8457a99ff3f73b129f028": {
      "model_module": "@jupyter-widgets/controls",
      "model_module_version": "1.5.0",
      "model_name": "FloatProgressModel",
      "state": {
       "bar_style": "success",
       "description": "[0] 11/12(train): 100%",
       "layout": "IPY_MODEL_7862955c8af14a0db9a3d7330ffaf391",
       "max": 493,
       "style": "IPY_MODEL_40f09298e2a8474e895036da897d33e3",
       "value": 493
      }
     },
     "d50efa4ee5c74fc99205fbcfc3d6f186": {
      "model_module": "@jupyter-widgets/controls",
      "model_module_version": "1.5.0",
      "model_name": "HBoxModel",
      "state": {
       "children": [
        "IPY_MODEL_7ffe63b915af4f71937a14da7f82e087",
        "IPY_MODEL_72f7bc25acea4b01836bccf10ddb5fc2"
       ],
       "layout": "IPY_MODEL_e15a4071440541a1b549e698a1feebd8"
      }
     },
     "d52347c6105f49a0b28e1206f464d2f4": {
      "model_module": "@jupyter-widgets/base",
      "model_module_version": "1.2.0",
      "model_name": "LayoutModel",
      "state": {}
     },
     "d5c8a914deb1402c919f04fdf134e9d4": {
      "model_module": "@jupyter-widgets/controls",
      "model_module_version": "1.5.0",
      "model_name": "FloatProgressModel",
      "state": {
       "bar_style": "danger",
       "description": "[0] 1/1(train):   0%",
       "layout": "IPY_MODEL_20960e11afff4aaa96cc920e57caacca",
       "max": 3,
       "style": "IPY_MODEL_7800430a8f3f4516992cee4974d6d2a3"
      }
     },
     "d5ecd52e91304cadbc84d38ca23262d5": {
      "model_module": "@jupyter-widgets/controls",
      "model_module_version": "1.5.0",
      "model_name": "DescriptionStyleModel",
      "state": {
       "description_width": ""
      }
     },
     "d5fac6407e0d413e8a3349c9ccae8a15": {
      "model_module": "@jupyter-widgets/controls",
      "model_module_version": "1.5.0",
      "model_name": "HBoxModel",
      "state": {
       "children": [
        "IPY_MODEL_783ebf5d494c4a4aa87d7dc61d9d4d9c",
        "IPY_MODEL_2efc0f79761b48bb90a603e7e6de9d8b"
       ],
       "layout": "IPY_MODEL_2bf47a985c2d4f41943954fbc5378738"
      }
     },
     "d607e4a45f3946b982100a9021e764f9": {
      "model_module": "@jupyter-widgets/controls",
      "model_module_version": "1.5.0",
      "model_name": "HTMLModel",
      "state": {
       "layout": "IPY_MODEL_906a223804b24cbf8a4a75e6f8bfe359",
       "style": "IPY_MODEL_4ba963e3a1d7496c91cd6bce81553fba",
       "value": " 0/3 [00:10&lt;?, ?it/s]"
      }
     },
     "d6100a972da64a818b0250aa93f2dddd": {
      "model_module": "@jupyter-widgets/base",
      "model_module_version": "1.2.0",
      "model_name": "LayoutModel",
      "state": {}
     },
     "d61a708655f145119c6728dfce7bc8e4": {
      "model_module": "@jupyter-widgets/base",
      "model_module_version": "1.2.0",
      "model_name": "LayoutModel",
      "state": {}
     },
     "d69ff4cea40c405abb76e7abbd454cdc": {
      "model_module": "@jupyter-widgets/controls",
      "model_module_version": "1.5.0",
      "model_name": "DescriptionStyleModel",
      "state": {
       "description_width": ""
      }
     },
     "d6ea86f2107b4a5081d1353edd868b4f": {
      "model_module": "@jupyter-widgets/controls",
      "model_module_version": "1.5.0",
      "model_name": "DescriptionStyleModel",
      "state": {
       "description_width": ""
      }
     },
     "d793833e456e42d8ab9d544c3558c310": {
      "model_module": "@jupyter-widgets/controls",
      "model_module_version": "1.5.0",
      "model_name": "ProgressStyleModel",
      "state": {
       "description_width": "initial"
      }
     },
     "d88452c60157460e8201b3cd90c83e09": {
      "model_module": "@jupyter-widgets/controls",
      "model_module_version": "1.5.0",
      "model_name": "ProgressStyleModel",
      "state": {
       "description_width": "initial"
      }
     },
     "d90b78557a554678af9b0b2266d8e555": {
      "model_module": "@jupyter-widgets/controls",
      "model_module_version": "1.5.0",
      "model_name": "ProgressStyleModel",
      "state": {
       "description_width": "initial"
      }
     },
     "d9516eb07a5d43b88b900b5942b509e3": {
      "model_module": "@jupyter-widgets/controls",
      "model_module_version": "1.5.0",
      "model_name": "DescriptionStyleModel",
      "state": {
       "description_width": ""
      }
     },
     "d995f64b5714442b91a1240ddd2eb853": {
      "model_module": "@jupyter-widgets/controls",
      "model_module_version": "1.5.0",
      "model_name": "HBoxModel",
      "state": {
       "children": [
        "IPY_MODEL_dd195b41ae654dec824cffdb1607edc4",
        "IPY_MODEL_ab0f6a378988403095fbfbadc014292e"
       ],
       "layout": "IPY_MODEL_769f3cc0f817489d87fecd0bab25af56"
      }
     },
     "d9b0c6d8ccf04962b7c58e994f5681cb": {
      "model_module": "@jupyter-widgets/controls",
      "model_module_version": "1.5.0",
      "model_name": "HTMLModel",
      "state": {
       "layout": "IPY_MODEL_d6100a972da64a818b0250aa93f2dddd",
       "style": "IPY_MODEL_4b08aca05e14497da3c106c52912e3fe",
       "value": " 165/165 [3:59:00&lt;00:00, 86.91s/it]"
      }
     },
     "da10417e884343f791c41c5f10bfc9e1": {
      "model_module": "@jupyter-widgets/controls",
      "model_module_version": "1.5.0",
      "model_name": "DescriptionStyleModel",
      "state": {
       "description_width": ""
      }
     },
     "da1ebf078c1a43a6987045840d908eec": {
      "model_module": "@jupyter-widgets/controls",
      "model_module_version": "1.5.0",
      "model_name": "FloatProgressModel",
      "state": {
       "bar_style": "success",
       "description": "[0] 2/12(val  ): 100%",
       "layout": "IPY_MODEL_838951626df74d80b76e851f33f99a96",
       "max": 165,
       "style": "IPY_MODEL_b94021e4928f4f3daf067465ba228888",
       "value": 165
      }
     },
     "da23385735274fce8c13e627a189fb49": {
      "model_module": "@jupyter-widgets/controls",
      "model_module_version": "1.5.0",
      "model_name": "ProgressStyleModel",
      "state": {
       "description_width": "initial"
      }
     },
     "da5ad42f68984a26935dfef52f76e50c": {
      "model_module": "@jupyter-widgets/controls",
      "model_module_version": "1.5.0",
      "model_name": "HBoxModel",
      "state": {
       "children": [
        "IPY_MODEL_164dfb7728fd43a98b570a8753519f15",
        "IPY_MODEL_4e05283d70ca4d74bb1f785fdf14029d"
       ],
       "layout": "IPY_MODEL_849bc729fa574ae9b743121a7a3f651b"
      }
     },
     "da70068230b346dd9c9a61b1bef5a25b": {
      "model_module": "@jupyter-widgets/controls",
      "model_module_version": "1.5.0",
      "model_name": "HTMLModel",
      "state": {
       "layout": "IPY_MODEL_618efbf8dc204acaae70f836abab6504",
       "style": "IPY_MODEL_39ef1ee60e6945c1aa81fb1a368f571e",
       "value": " 493/493 [46:22&lt;00:00,  5.64s/it]"
      }
     },
     "da865690ef284723a26b178933d809b1": {
      "model_module": "@jupyter-widgets/controls",
      "model_module_version": "1.5.0",
      "model_name": "HBoxModel",
      "state": {
       "children": [
        "IPY_MODEL_4591ae1d82f546678315bb099b7303e9",
        "IPY_MODEL_321c292c9c4a46c3b66eaa883190c27f"
       ],
       "layout": "IPY_MODEL_6d898966c92b4644a62716c00d210d28"
      }
     },
     "da8c6e9d540440c5aee798619419165f": {
      "model_module": "@jupyter-widgets/base",
      "model_module_version": "1.2.0",
      "model_name": "LayoutModel",
      "state": {}
     },
     "dabb16490fd74147b1374c12bfdb6995": {
      "model_module": "@jupyter-widgets/controls",
      "model_module_version": "1.5.0",
      "model_name": "DescriptionStyleModel",
      "state": {
       "description_width": ""
      }
     },
     "dad80cfcc4124fdfa09daaadbee9e0df": {
      "model_module": "@jupyter-widgets/controls",
      "model_module_version": "1.5.0",
      "model_name": "HTMLModel",
      "state": {
       "layout": "IPY_MODEL_04237e60728a475cbc75ed9d42dfd43c",
       "style": "IPY_MODEL_e3d19aca3edb42d8a4e59a7c461373af",
       "value": " 493/493 [45:51&lt;00:00,  5.58s/it]"
      }
     },
     "daf1616578cb4994b35e24662a262274": {
      "model_module": "@jupyter-widgets/controls",
      "model_module_version": "1.5.0",
      "model_name": "HTMLModel",
      "state": {
       "layout": "IPY_MODEL_5f3e88a87ad4451d9a67127ee97721a3",
       "style": "IPY_MODEL_b0c68efe14a243b0b6510a35838a8580",
       "value": " 165/165 [7:53:40&lt;00:00, 172.25s/it]"
      }
     },
     "db0351435a8143f79f352563b83d4df8": {
      "model_module": "@jupyter-widgets/controls",
      "model_module_version": "1.5.0",
      "model_name": "HTMLModel",
      "state": {
       "layout": "IPY_MODEL_bff2b79466744f4a9f5a8f600e06b6c7",
       "style": "IPY_MODEL_d9516eb07a5d43b88b900b5942b509e3",
       "value": " 165/165 [11:53&lt;00:00,  4.32s/it]"
      }
     },
     "dba5d186f45c47078d7e2c7e402990ad": {
      "model_module": "@jupyter-widgets/controls",
      "model_module_version": "1.5.0",
      "model_name": "FloatProgressModel",
      "state": {
       "bar_style": "success",
       "description": "[3] 9/12(train): 100%",
       "layout": "IPY_MODEL_0147c5fa84df40eba87defc250221b7a",
       "max": 493,
       "style": "IPY_MODEL_4d6fb339e16046a29de69a4b5f72c0c0",
       "value": 493
      }
     },
     "dbc9699d784448bd82168cf96ab1968e": {
      "model_module": "@jupyter-widgets/controls",
      "model_module_version": "1.5.0",
      "model_name": "FloatProgressModel",
      "state": {
       "bar_style": "success",
       "description": "[3] 3/12(val  ): 100%",
       "layout": "IPY_MODEL_4096b792517d4711a707064ff5ef2ddb",
       "max": 165,
       "style": "IPY_MODEL_8481c6364e304da98375a79b6af9a7ee",
       "value": 165
      }
     },
     "dbe1cc6478264d4bb0fab64f4e16f576": {
      "model_module": "@jupyter-widgets/base",
      "model_module_version": "1.2.0",
      "model_name": "LayoutModel",
      "state": {}
     },
     "dc33cd81091648a2842a49cd11fe9493": {
      "model_module": "@jupyter-widgets/controls",
      "model_module_version": "1.5.0",
      "model_name": "HBoxModel",
      "state": {
       "children": [
        "IPY_MODEL_26906c89dad042a1b535d567329906ec",
        "IPY_MODEL_4f2c55e41d094cea83fc0f517fb12676"
       ],
       "layout": "IPY_MODEL_28568a10190440d6b4e33bfa6a91663b"
      }
     },
     "dc4422118947425f8a62e29442844f42": {
      "model_module": "@jupyter-widgets/base",
      "model_module_version": "1.2.0",
      "model_name": "LayoutModel",
      "state": {}
     },
     "dc69b37499f1489896faf52e73b41755": {
      "model_module": "@jupyter-widgets/controls",
      "model_module_version": "1.5.0",
      "model_name": "FloatProgressModel",
      "state": {
       "bar_style": "success",
       "description": "[2] 3/12(train): 100%",
       "layout": "IPY_MODEL_02d6b18979af46f481aa0e01fcb2fc4c",
       "max": 493,
       "style": "IPY_MODEL_bf3815a2559e407697bd7d360522966e",
       "value": 493
      }
     },
     "dc98766cd2e8442d8f6288bcc050ce80": {
      "model_module": "@jupyter-widgets/base",
      "model_module_version": "1.2.0",
      "model_name": "LayoutModel",
      "state": {}
     },
     "dd195b41ae654dec824cffdb1607edc4": {
      "model_module": "@jupyter-widgets/controls",
      "model_module_version": "1.5.0",
      "model_name": "FloatProgressModel",
      "state": {
       "bar_style": "success",
       "description": "[2] 2/12(val  ): 100%",
       "layout": "IPY_MODEL_ba2c3f0e7c93450ba3367722cc15f2b7",
       "max": 165,
       "style": "IPY_MODEL_1b811871f7bf4eb491fbcf8471dd4d54",
       "value": 165
      }
     },
     "dd2b1e8e0aa44e70b8ce2474293cdb8e": {
      "model_module": "@jupyter-widgets/base",
      "model_module_version": "1.2.0",
      "model_name": "LayoutModel",
      "state": {}
     },
     "dd4e8d7c3a734608a6a420d3f17e7393": {
      "model_module": "@jupyter-widgets/controls",
      "model_module_version": "1.5.0",
      "model_name": "HBoxModel",
      "state": {
       "children": [
        "IPY_MODEL_5fc9ab821ab34c278ceae6dd81bc58f7",
        "IPY_MODEL_5735937226b14f578ee7483f26938812"
       ],
       "layout": "IPY_MODEL_29daea28b9c8486d99caaf8a1d3c2aae"
      }
     },
     "ddaf9097e169480aa04e3d8e06941974": {
      "model_module": "@jupyter-widgets/base",
      "model_module_version": "1.2.0",
      "model_name": "LayoutModel",
      "state": {}
     },
     "ded75e50c58a4561aa880f07fc151778": {
      "model_module": "@jupyter-widgets/base",
      "model_module_version": "1.2.0",
      "model_name": "LayoutModel",
      "state": {}
     },
     "df2f060447f547bba3b2174ab82e1bc5": {
      "model_module": "@jupyter-widgets/base",
      "model_module_version": "1.2.0",
      "model_name": "LayoutModel",
      "state": {}
     },
     "df8105a3a12b42cea9f2e275fdffebfe": {
      "model_module": "@jupyter-widgets/controls",
      "model_module_version": "1.5.0",
      "model_name": "FloatProgressModel",
      "state": {
       "bar_style": "success",
       "description": "[3] 2/12(train): 100%",
       "layout": "IPY_MODEL_a627a4f7b45a4e0c94599a52684194b0",
       "max": 493,
       "style": "IPY_MODEL_f657230833d241d3ae42654338a4b130",
       "value": 493
      }
     },
     "dfda3b1f9ec64addb360b57b2b73ad68": {
      "model_module": "@jupyter-widgets/controls",
      "model_module_version": "1.5.0",
      "model_name": "DescriptionStyleModel",
      "state": {
       "description_width": ""
      }
     },
     "dfdbf34ed93741998532921973522168": {
      "model_module": "@jupyter-widgets/base",
      "model_module_version": "1.2.0",
      "model_name": "LayoutModel",
      "state": {}
     },
     "e0013369c91e47889a45bac7467ede09": {
      "model_module": "@jupyter-widgets/base",
      "model_module_version": "1.2.0",
      "model_name": "LayoutModel",
      "state": {}
     },
     "e00d1f016f714c36adb885a2854cd14b": {
      "model_module": "@jupyter-widgets/controls",
      "model_module_version": "1.5.0",
      "model_name": "HBoxModel",
      "state": {
       "children": [
        "IPY_MODEL_2bb8fddec64e4683833c5a07bca676f1",
        "IPY_MODEL_64ab139f094c441f9c783385df43f21c"
       ],
       "layout": "IPY_MODEL_a5367cf9ba0945f8a072e898d9f70aa8"
      }
     },
     "e15a4071440541a1b549e698a1feebd8": {
      "model_module": "@jupyter-widgets/base",
      "model_module_version": "1.2.0",
      "model_name": "LayoutModel",
      "state": {}
     },
     "e20f354d84fc4298ad64345392ce7179": {
      "model_module": "@jupyter-widgets/controls",
      "model_module_version": "1.5.0",
      "model_name": "HBoxModel",
      "state": {
       "children": [
        "IPY_MODEL_0540146525b845afa6142fc3c1d80147",
        "IPY_MODEL_922c4cbb585a451d844e40bb76ce07bb"
       ],
       "layout": "IPY_MODEL_10aaa45745b74086ad16d16d9e05036a"
      }
     },
     "e218db31f04d4e2c84bf4e5174ff3709": {
      "model_module": "@jupyter-widgets/controls",
      "model_module_version": "1.5.0",
      "model_name": "HBoxModel",
      "state": {
       "children": [
        "IPY_MODEL_f5813022c8094a6aa0921f02eb00ac97",
        "IPY_MODEL_15ecf843271e4c558c5e1a896886b8c5"
       ],
       "layout": "IPY_MODEL_0fc9013bf5624f77b7b977a490453369"
      }
     },
     "e225f2276e454b43adb35aeb17c30c3a": {
      "model_module": "@jupyter-widgets/base",
      "model_module_version": "1.2.0",
      "model_name": "LayoutModel",
      "state": {}
     },
     "e244db469e7a4aada7d6b9d3be8c67b4": {
      "model_module": "@jupyter-widgets/controls",
      "model_module_version": "1.5.0",
      "model_name": "HBoxModel",
      "state": {
       "children": [
        "IPY_MODEL_da1ebf078c1a43a6987045840d908eec",
        "IPY_MODEL_87ac8bd4a5c84482b30a2646fdb125c5"
       ],
       "layout": "IPY_MODEL_49f33a66aaa74853bbd832cc6fb5f56e"
      }
     },
     "e2acb641901c4ece9b2c0bb9e33cf31c": {
      "model_module": "@jupyter-widgets/controls",
      "model_module_version": "1.5.0",
      "model_name": "DescriptionStyleModel",
      "state": {
       "description_width": ""
      }
     },
     "e3b6ba4e08464e37badc8c2d6d919327": {
      "model_module": "@jupyter-widgets/controls",
      "model_module_version": "1.5.0",
      "model_name": "DescriptionStyleModel",
      "state": {
       "description_width": ""
      }
     },
     "e3c100f197c54f49879d4eff3fa634c5": {
      "model_module": "@jupyter-widgets/controls",
      "model_module_version": "1.5.0",
      "model_name": "FloatProgressModel",
      "state": {
       "bar_style": "success",
       "description": "[2] 9/12(val  ): 100%",
       "layout": "IPY_MODEL_21e26e00c482475cb8228ee2aa61ee99",
       "max": 165,
       "style": "IPY_MODEL_c9c3b2a0da8a48cf855f1e63582af8e0",
       "value": 165
      }
     },
     "e3cacaab59684bc7a1b7f937f0d5a8a7": {
      "model_module": "@jupyter-widgets/controls",
      "model_module_version": "1.5.0",
      "model_name": "HBoxModel",
      "state": {
       "children": [
        "IPY_MODEL_5af15e4afdb24288917bb16aa209ec10",
        "IPY_MODEL_7432d839e4e143d9ad6647ef7c7abec8"
       ],
       "layout": "IPY_MODEL_03e109902dd64f8f9b5b01c3b04edc60"
      }
     },
     "e3d19aca3edb42d8a4e59a7c461373af": {
      "model_module": "@jupyter-widgets/controls",
      "model_module_version": "1.5.0",
      "model_name": "DescriptionStyleModel",
      "state": {
       "description_width": ""
      }
     },
     "e3e0462a6593455fa0502664d0405a44": {
      "model_module": "@jupyter-widgets/controls",
      "model_module_version": "1.5.0",
      "model_name": "HTMLModel",
      "state": {
       "layout": "IPY_MODEL_31fbf68c7e4b4ec6a0214a2532f56713",
       "style": "IPY_MODEL_d5ecd52e91304cadbc84d38ca23262d5",
       "value": " 165/165 [46:42&lt;00:00, 16.99s/it]"
      }
     },
     "e41427564acf40f1a2e54c7bdc876ca3": {
      "model_module": "@jupyter-widgets/base",
      "model_module_version": "1.2.0",
      "model_name": "LayoutModel",
      "state": {}
     },
     "e41ea8ff3acd40bfb240819ad6d82f5e": {
      "model_module": "@jupyter-widgets/base",
      "model_module_version": "1.2.0",
      "model_name": "LayoutModel",
      "state": {}
     },
     "e49312b7e05d4272b1a147b80827778e": {
      "model_module": "@jupyter-widgets/controls",
      "model_module_version": "1.5.0",
      "model_name": "HBoxModel",
      "state": {
       "children": [
        "IPY_MODEL_08ce32bb09e14371b263e566be6e0686",
        "IPY_MODEL_6c0552e59f9d49e6b8f8bb19ff1c1feb"
       ],
       "layout": "IPY_MODEL_93c76f30a6ec4b64b104b5124bc6a846"
      }
     },
     "e50cc41af952499abfbc5a75367ca1f2": {
      "model_module": "@jupyter-widgets/base",
      "model_module_version": "1.2.0",
      "model_name": "LayoutModel",
      "state": {}
     },
     "e53473fb48d94df29e3372da7e893c83": {
      "model_module": "@jupyter-widgets/controls",
      "model_module_version": "1.5.0",
      "model_name": "ProgressStyleModel",
      "state": {
       "description_width": "initial"
      }
     },
     "e597ca906ca6456ebfb281a7b0ef5520": {
      "model_module": "@jupyter-widgets/controls",
      "model_module_version": "1.5.0",
      "model_name": "FloatProgressModel",
      "state": {
       "bar_style": "success",
       "description": "[1] 4/12(val  ): 100%",
       "layout": "IPY_MODEL_b272b28903694fea987b9426124286ff",
       "max": 165,
       "style": "IPY_MODEL_89f0b31e88e74afba77fa191205e9c4f",
       "value": 165
      }
     },
     "e64c4024bf3b4b29ae99473a80061d00": {
      "model_module": "@jupyter-widgets/controls",
      "model_module_version": "1.5.0",
      "model_name": "HTMLModel",
      "state": {
       "layout": "IPY_MODEL_f56d8f93180c49428980ddb1f57fdf2a",
       "style": "IPY_MODEL_fe2d5dd04acc409dba160161b12d0cea",
       "value": " 493/493 [36:40&lt;00:00,  4.46s/it]"
      }
     },
     "e668f3cd0a1d4eea90d9ee8cf9cc34e5": {
      "model_module": "@jupyter-widgets/base",
      "model_module_version": "1.2.0",
      "model_name": "LayoutModel",
      "state": {}
     },
     "e69c013120c0407fb5290bc8d75eba64": {
      "model_module": "@jupyter-widgets/controls",
      "model_module_version": "1.5.0",
      "model_name": "DescriptionStyleModel",
      "state": {
       "description_width": ""
      }
     },
     "e70d6fad96ae4c16bc691bf739b95d69": {
      "model_module": "@jupyter-widgets/controls",
      "model_module_version": "1.5.0",
      "model_name": "DescriptionStyleModel",
      "state": {
       "description_width": ""
      }
     },
     "e772b53c2d6d427d893a207cedea8eab": {
      "model_module": "@jupyter-widgets/controls",
      "model_module_version": "1.5.0",
      "model_name": "HTMLModel",
      "state": {
       "layout": "IPY_MODEL_31cffaa498f8495485f9cc6d9801caff",
       "style": "IPY_MODEL_b91d4edfe21e4b9183597f8b62971b58",
       "value": " 0/3 [00:10&lt;?, ?it/s]"
      }
     },
     "e7b4093017c0417c9cce44bdbff6d0f7": {
      "model_module": "@jupyter-widgets/base",
      "model_module_version": "1.2.0",
      "model_name": "LayoutModel",
      "state": {}
     },
     "e7c025e27f354cb1822f14c1860325f6": {
      "model_module": "@jupyter-widgets/controls",
      "model_module_version": "1.5.0",
      "model_name": "HTMLModel",
      "state": {
       "layout": "IPY_MODEL_6f709d7b047c470ba65bb1efbb1a48aa",
       "style": "IPY_MODEL_ffbd97a7fb124f779d200ad96368f8cb",
       "value": " 493/493 [3:02:46&lt;00:00, 22.24s/it]"
      }
     },
     "e814fdd16195458c9dd9846bd2fced50": {
      "model_module": "@jupyter-widgets/controls",
      "model_module_version": "1.5.0",
      "model_name": "HBoxModel",
      "state": {
       "children": [
        "IPY_MODEL_eefe24b93ed948b59ef0f2889cdac0d0",
        "IPY_MODEL_8c0dd105545f467d8e87759f896fc192"
       ],
       "layout": "IPY_MODEL_3a5039f2874b451fa92b13934006abf7"
      }
     },
     "e852085c4a4a4ea68ddf4f3f0f9b26bd": {
      "model_module": "@jupyter-widgets/controls",
      "model_module_version": "1.5.0",
      "model_name": "HBoxModel",
      "state": {
       "children": [
        "IPY_MODEL_fca2475f75e1435992317035a66f17cc",
        "IPY_MODEL_389076e4f7044213b393bdf5255f1877"
       ],
       "layout": "IPY_MODEL_844cb791843c4498a646fdcebc17f0cb"
      }
     },
     "e88069719b324cbc94d96d55058a0754": {
      "model_module": "@jupyter-widgets/controls",
      "model_module_version": "1.5.0",
      "model_name": "HBoxModel",
      "state": {
       "children": [
        "IPY_MODEL_11f7b67291434bd58a9f8ada8235ab01",
        "IPY_MODEL_0588480362ac4e56af36b08494c24364"
       ],
       "layout": "IPY_MODEL_197a2de079ed4c63b46ae08a0b2f0134"
      }
     },
     "e8edc4ba84d3458688aeb8b0aa9870cc": {
      "model_module": "@jupyter-widgets/controls",
      "model_module_version": "1.5.0",
      "model_name": "HBoxModel",
      "state": {
       "children": [
        "IPY_MODEL_9e2fe02bb9db46f7a607adcf2dd969fd",
        "IPY_MODEL_928ad127fff14af19590473357a03c55"
       ],
       "layout": "IPY_MODEL_82300105b17948b6952e5cd7ea4184d1"
      }
     },
     "e9090e9722f64ea58597b6fcdff2bd40": {
      "model_module": "@jupyter-widgets/controls",
      "model_module_version": "1.5.0",
      "model_name": "ProgressStyleModel",
      "state": {
       "description_width": "initial"
      }
     },
     "e936672f44f647408266f84534f86623": {
      "model_module": "@jupyter-widgets/controls",
      "model_module_version": "1.5.0",
      "model_name": "FloatProgressModel",
      "state": {
       "bar_style": "danger",
       "description": "[3] 1/10(train):   0%",
       "layout": "IPY_MODEL_09ded731209b499ca8a35d4cded9decc",
       "max": 3,
       "style": "IPY_MODEL_7bb62646d1394cd5b2259901f3a416c7"
      }
     },
     "e9862609a17f4ce496dafca7d91ee9d3": {
      "model_module": "@jupyter-widgets/controls",
      "model_module_version": "1.5.0",
      "model_name": "HTMLModel",
      "state": {
       "layout": "IPY_MODEL_dfdbf34ed93741998532921973522168",
       "style": "IPY_MODEL_cb7edc60ca2141ffb413e8454688a167",
       "value": " 0/3 [00:10&lt;?, ?it/s]"
      }
     },
     "e9c38a17616b4cb7867a326b2cb0da3d": {
      "model_module": "@jupyter-widgets/controls",
      "model_module_version": "1.5.0",
      "model_name": "DescriptionStyleModel",
      "state": {
       "description_width": ""
      }
     },
     "e9e3d16bbbd942d6957cf2e17e3e9c67": {
      "model_module": "@jupyter-widgets/base",
      "model_module_version": "1.2.0",
      "model_name": "LayoutModel",
      "state": {}
     },
     "ea866a6df6914edc87071b14ec89611e": {
      "model_module": "@jupyter-widgets/controls",
      "model_module_version": "1.5.0",
      "model_name": "FloatProgressModel",
      "state": {
       "bar_style": "success",
       "description": "[0] 4/12(train): 100%",
       "layout": "IPY_MODEL_c49acc0e9fd04ffca5048b991eeeefee",
       "max": 493,
       "style": "IPY_MODEL_f9bfc68401bd4ebd86539f4b7ac3a880",
       "value": 493
      }
     },
     "eaace3a0dfbc4270a730043e1940644e": {
      "model_module": "@jupyter-widgets/controls",
      "model_module_version": "1.5.0",
      "model_name": "HBoxModel",
      "state": {
       "children": [
        "IPY_MODEL_36f1b3f255c64a0b9826c31c7a2d793e",
        "IPY_MODEL_26b2e73f9c0b4efaac1ed88c7482d518"
       ],
       "layout": "IPY_MODEL_29c6866697dd48f0b13383ab0de992bb"
      }
     },
     "ead8ec789bae4adbbd245254e7f525dc": {
      "model_module": "@jupyter-widgets/base",
      "model_module_version": "1.2.0",
      "model_name": "LayoutModel",
      "state": {}
     },
     "eafb3a23c09e4493b53ae305035cb7ab": {
      "model_module": "@jupyter-widgets/controls",
      "model_module_version": "1.5.0",
      "model_name": "FloatProgressModel",
      "state": {
       "bar_style": "success",
       "description": "[3] 6/12(train): 100%",
       "layout": "IPY_MODEL_991cbac002bb4b779b4b0c1ca7cd4c18",
       "max": 493,
       "style": "IPY_MODEL_3ae4de1829714fdfaaeb2f3893579245",
       "value": 493
      }
     },
     "eb2ba2779bfe4b789d70cbc6fbcf5a11": {
      "model_module": "@jupyter-widgets/controls",
      "model_module_version": "1.5.0",
      "model_name": "DescriptionStyleModel",
      "state": {
       "description_width": ""
      }
     },
     "eb46bf50e4a24d32af5501a02c769c16": {
      "model_module": "@jupyter-widgets/controls",
      "model_module_version": "1.5.0",
      "model_name": "FloatProgressModel",
      "state": {
       "bar_style": "success",
       "description": "[1] 3/12(val  ): 100%",
       "layout": "IPY_MODEL_a6db382d25db45418992acabb4ea46e6",
       "max": 165,
       "style": "IPY_MODEL_5945eb010d084928b7511d72e1dfc763",
       "value": 165
      }
     },
     "ebb96f0d27a64d3a9d3bfeb530070da9": {
      "model_module": "@jupyter-widgets/controls",
      "model_module_version": "1.5.0",
      "model_name": "HTMLModel",
      "state": {
       "layout": "IPY_MODEL_df2f060447f547bba3b2174ab82e1bc5",
       "style": "IPY_MODEL_2bbe37f7b1994635bbf253358fccf4fa",
       "value": " 493/493 [6:04:55&lt;00:00, 44.41s/it]"
      }
     },
     "ebdd1e4c97f04178852d63672354ec4e": {
      "model_module": "@jupyter-widgets/base",
      "model_module_version": "1.2.0",
      "model_name": "LayoutModel",
      "state": {}
     },
     "ec016bc3875947fe955e37659500f1ec": {
      "model_module": "@jupyter-widgets/base",
      "model_module_version": "1.2.0",
      "model_name": "LayoutModel",
      "state": {}
     },
     "ec4f34fd7ee84177b2f6dc0890fe3113": {
      "model_module": "@jupyter-widgets/controls",
      "model_module_version": "1.5.0",
      "model_name": "FloatProgressModel",
      "state": {
       "bar_style": "success",
       "description": "[0] 8/12(val  ): 100%",
       "layout": "IPY_MODEL_9bf7791a002c40b5b965835c32203a6f",
       "max": 165,
       "style": "IPY_MODEL_10aea329004a4a329b1e4fda8898b563",
       "value": 165
      }
     },
     "ecd35ddda47f421ab88680c78859d48c": {
      "model_module": "@jupyter-widgets/controls",
      "model_module_version": "1.5.0",
      "model_name": "HBoxModel",
      "state": {
       "children": [
        "IPY_MODEL_fa709403d6844fc5af8634dfdbf5ad62",
        "IPY_MODEL_997f6651efcc4a90b8cf5a6a516c93da"
       ],
       "layout": "IPY_MODEL_3561fced103e4c3e97000aee9371819a"
      }
     },
     "ed138265000748c59c6b3038940ba488": {
      "model_module": "@jupyter-widgets/controls",
      "model_module_version": "1.5.0",
      "model_name": "DescriptionStyleModel",
      "state": {
       "description_width": ""
      }
     },
     "ed651feea6e14d53a9479d5b356e8826": {
      "model_module": "@jupyter-widgets/controls",
      "model_module_version": "1.5.0",
      "model_name": "FloatProgressModel",
      "state": {
       "bar_style": "danger",
       "description": "[2] 1/10(train):   0%",
       "layout": "IPY_MODEL_12892ab72db54ebdae9523d196366cd8",
       "max": 3,
       "style": "IPY_MODEL_9a1402b2e0b14a3b9994519d27f24fb6"
      }
     },
     "ed6892504839420f939625a233c7ee65": {
      "model_module": "@jupyter-widgets/base",
      "model_module_version": "1.2.0",
      "model_name": "LayoutModel",
      "state": {}
     },
     "ed82990bf16f4bf7a5bad4141f4f8222": {
      "model_module": "@jupyter-widgets/controls",
      "model_module_version": "1.5.0",
      "model_name": "ProgressStyleModel",
      "state": {
       "description_width": "initial"
      }
     },
     "ee1f13ddbf6149e7af5df46c8eae175b": {
      "model_module": "@jupyter-widgets/controls",
      "model_module_version": "1.5.0",
      "model_name": "HTMLModel",
      "state": {
       "layout": "IPY_MODEL_11cd45c93c72445ca7d7567862c6db63",
       "style": "IPY_MODEL_56c982f3ea02432cba9e26f83cc9e480",
       "value": " 165/165 [10:54&lt;00:00,  3.97s/it]"
      }
     },
     "ee538487403a4999bc078a8b7b13c8a5": {
      "model_module": "@jupyter-widgets/base",
      "model_module_version": "1.2.0",
      "model_name": "LayoutModel",
      "state": {}
     },
     "ee5c4f575e7049b9802e2431dd59c9dd": {
      "model_module": "@jupyter-widgets/base",
      "model_module_version": "1.2.0",
      "model_name": "LayoutModel",
      "state": {}
     },
     "ee822f97d9b2421f977120e373147c08": {
      "model_module": "@jupyter-widgets/base",
      "model_module_version": "1.2.0",
      "model_name": "LayoutModel",
      "state": {}
     },
     "eee803f65e8e45918996a83fe09dfbda": {
      "model_module": "@jupyter-widgets/controls",
      "model_module_version": "1.5.0",
      "model_name": "HBoxModel",
      "state": {
       "children": [
        "IPY_MODEL_bd3c19d99ead4624998d785a0c2cd7d7",
        "IPY_MODEL_1144a17858d841d8ae400b693105a898"
       ],
       "layout": "IPY_MODEL_fec4e42aa0a745af9dcadedf15e5f298"
      }
     },
     "eefe24b93ed948b59ef0f2889cdac0d0": {
      "model_module": "@jupyter-widgets/controls",
      "model_module_version": "1.5.0",
      "model_name": "FloatProgressModel",
      "state": {
       "bar_style": "success",
       "description": "[1] 10/12(val  ): 100%",
       "layout": "IPY_MODEL_198d294fd2f84f2a985d228be4797e24",
       "max": 165,
       "style": "IPY_MODEL_f4a4b4ad5c654f488d31c71bb6a4da9a",
       "value": 165
      }
     },
     "ef0519176cad4891bf276fbff6301585": {
      "model_module": "@jupyter-widgets/controls",
      "model_module_version": "1.5.0",
      "model_name": "HBoxModel",
      "state": {
       "children": [
        "IPY_MODEL_4c47d796d2304119b51e3c8012a21b83",
        "IPY_MODEL_5eab77ad72234a3b80571db20dca325c"
       ],
       "layout": "IPY_MODEL_517a487cd8fb4ccabebdf3695ccf9f9c"
      }
     },
     "ef378bbfe0ec4d76b34dd0707e6c310e": {
      "model_module": "@jupyter-widgets/base",
      "model_module_version": "1.2.0",
      "model_name": "LayoutModel",
      "state": {}
     },
     "ef68c9cc46b149549beecbfc42be47a7": {
      "model_module": "@jupyter-widgets/controls",
      "model_module_version": "1.5.0",
      "model_name": "HTMLModel",
      "state": {
       "layout": "IPY_MODEL_a8e9a44a987940df907ecfb08eaa33db",
       "style": "IPY_MODEL_0bd41f29a21a482a94f561376368137a",
       "value": " 493/493 [35:17&lt;00:00,  4.30s/it]"
      }
     },
     "ef6de8b6a1d840ec877ab95474213bea": {
      "model_module": "@jupyter-widgets/controls",
      "model_module_version": "1.5.0",
      "model_name": "ProgressStyleModel",
      "state": {
       "description_width": "initial"
      }
     },
     "efa90dfebbeb49499752e284e4f8c3c3": {
      "model_module": "@jupyter-widgets/controls",
      "model_module_version": "1.5.0",
      "model_name": "HTMLModel",
      "state": {
       "layout": "IPY_MODEL_6f89f4c51d4a4568a02435852a4203eb",
       "style": "IPY_MODEL_fbe4b85f50464aab85c1ff66ef971a7d",
       "value": " 165/165 [10:55&lt;00:00,  3.97s/it]"
      }
     },
     "efdb7cddb8064edab9dd37e90cfef6fe": {
      "model_module": "@jupyter-widgets/base",
      "model_module_version": "1.2.0",
      "model_name": "LayoutModel",
      "state": {}
     },
     "f0ce73ffe4b54b0e8ec60c7d851e3c7d": {
      "model_module": "@jupyter-widgets/base",
      "model_module_version": "1.2.0",
      "model_name": "LayoutModel",
      "state": {}
     },
     "f0d2734704aa4cc1a657d933260d3641": {
      "model_module": "@jupyter-widgets/controls",
      "model_module_version": "1.5.0",
      "model_name": "ProgressStyleModel",
      "state": {
       "description_width": "initial"
      }
     },
     "f1179a7e34634816b11b7497f4ba3dcc": {
      "model_module": "@jupyter-widgets/controls",
      "model_module_version": "1.5.0",
      "model_name": "HBoxModel",
      "state": {
       "children": [
        "IPY_MODEL_85c2312f6e9e45018920195fee5a3197",
        "IPY_MODEL_98420b1998f4469885f3abfe9d1281f9"
       ],
       "layout": "IPY_MODEL_ad88569a55864109830ca7eda8726842"
      }
     },
     "f1a13208648a42d4a08627340d4f9631": {
      "model_module": "@jupyter-widgets/controls",
      "model_module_version": "1.5.0",
      "model_name": "ProgressStyleModel",
      "state": {
       "description_width": "initial"
      }
     },
     "f1bca7e1d0d24d17bd55bc01382899ef": {
      "model_module": "@jupyter-widgets/controls",
      "model_module_version": "1.5.0",
      "model_name": "DescriptionStyleModel",
      "state": {
       "description_width": ""
      }
     },
     "f1d18e6021ed413db17c6b57e6a82ecb": {
      "model_module": "@jupyter-widgets/controls",
      "model_module_version": "1.5.0",
      "model_name": "FloatProgressModel",
      "state": {
       "bar_style": "success",
       "description": "[0] 12/12(val  ): 100%",
       "layout": "IPY_MODEL_562598e1dcb94c3981100089f25e4e9f",
       "max": 165,
       "style": "IPY_MODEL_bc1cedd945374748b0d7a5857cc477e8",
       "value": 165
      }
     },
     "f204d98653b1429ab14e11979bd68711": {
      "model_module": "@jupyter-widgets/base",
      "model_module_version": "1.2.0",
      "model_name": "LayoutModel",
      "state": {}
     },
     "f24cd80c244d4927a1116eaf3d40c45a": {
      "model_module": "@jupyter-widgets/controls",
      "model_module_version": "1.5.0",
      "model_name": "HBoxModel",
      "state": {
       "children": [
        "IPY_MODEL_d5c8a914deb1402c919f04fdf134e9d4",
        "IPY_MODEL_755936556d4e4d738c22da596feed94c"
       ],
       "layout": "IPY_MODEL_771417f916eb4e4e87afa074256f70a0"
      }
     },
     "f27bd9b033d54992b4b4a676db4ac5a6": {
      "model_module": "@jupyter-widgets/controls",
      "model_module_version": "1.5.0",
      "model_name": "HTMLModel",
      "state": {
       "layout": "IPY_MODEL_154d81bd5497400e905218cf8d5f68d5",
       "style": "IPY_MODEL_d044e2d3771849d0bef7a9bfda2d6fc3",
       "value": " 493/493 [45:52&lt;00:00,  5.58s/it]"
      }
     },
     "f28daeb846704188ba05c10d45d2b725": {
      "model_module": "@jupyter-widgets/base",
      "model_module_version": "1.2.0",
      "model_name": "LayoutModel",
      "state": {}
     },
     "f2d95965ca7f46b5977a333ee9212dc0": {
      "model_module": "@jupyter-widgets/controls",
      "model_module_version": "1.5.0",
      "model_name": "ProgressStyleModel",
      "state": {
       "description_width": "initial"
      }
     },
     "f2d979adf0ca49bfbfe1c3fe4a321172": {
      "model_module": "@jupyter-widgets/controls",
      "model_module_version": "1.5.0",
      "model_name": "FloatProgressModel",
      "state": {
       "bar_style": "success",
       "description": "[3] 8/12(val  ): 100%",
       "layout": "IPY_MODEL_67112642de4342fd9ddd5b24a8cf7dd5",
       "max": 165,
       "style": "IPY_MODEL_cbe0072aa2a247f5b8ef24b0e1875675",
       "value": 165
      }
     },
     "f34da5fe57284295a8cdcf10ff0b7f69": {
      "model_module": "@jupyter-widgets/base",
      "model_module_version": "1.2.0",
      "model_name": "LayoutModel",
      "state": {}
     },
     "f35e6a9c1b074dd990a6a9b004780eaf": {
      "model_module": "@jupyter-widgets/base",
      "model_module_version": "1.2.0",
      "model_name": "LayoutModel",
      "state": {}
     },
     "f36cf2990b0349f48d3f1d8bc1a039a6": {
      "model_module": "@jupyter-widgets/base",
      "model_module_version": "1.2.0",
      "model_name": "LayoutModel",
      "state": {}
     },
     "f42145bbdc0a4c26b8c1dfc6f80912a2": {
      "model_module": "@jupyter-widgets/controls",
      "model_module_version": "1.5.0",
      "model_name": "HBoxModel",
      "state": {
       "children": [
        "IPY_MODEL_b6a699c43fd2443eb07827bcf19e0af8",
        "IPY_MODEL_f7b0a45e588443999ff3f709eeb3724f"
       ],
       "layout": "IPY_MODEL_ad7ef31865dc49809e3641ace81836e5"
      }
     },
     "f44f0b8be9b04624a65b0ee228f6b36e": {
      "model_module": "@jupyter-widgets/controls",
      "model_module_version": "1.5.0",
      "model_name": "HBoxModel",
      "state": {
       "children": [
        "IPY_MODEL_51352039b0194bb7b97ac25e14288b18",
        "IPY_MODEL_c91d75df8d2e42cc87bc0baa606ff22f"
       ],
       "layout": "IPY_MODEL_5e7809bfd5554467b076c3e7818cb36e"
      }
     },
     "f4a4b4ad5c654f488d31c71bb6a4da9a": {
      "model_module": "@jupyter-widgets/controls",
      "model_module_version": "1.5.0",
      "model_name": "ProgressStyleModel",
      "state": {
       "description_width": "initial"
      }
     },
     "f56d8f93180c49428980ddb1f57fdf2a": {
      "model_module": "@jupyter-widgets/base",
      "model_module_version": "1.2.0",
      "model_name": "LayoutModel",
      "state": {}
     },
     "f5813022c8094a6aa0921f02eb00ac97": {
      "model_module": "@jupyter-widgets/controls",
      "model_module_version": "1.5.0",
      "model_name": "FloatProgressModel",
      "state": {
       "bar_style": "success",
       "description": "[1] 1/12(train): 100%",
       "layout": "IPY_MODEL_7bcb795fc7e540e3a3a28baf046f6bb9",
       "max": 493,
       "style": "IPY_MODEL_3e10e075723e4b258f2c92b2c212b1d7",
       "value": 493
      }
     },
     "f5ec71b82cd1483da4d4e59f69b9f3d7": {
      "model_module": "@jupyter-widgets/controls",
      "model_module_version": "1.5.0",
      "model_name": "HTMLModel",
      "state": {
       "layout": "IPY_MODEL_923ea7baca4946f8aaaa22edf1884af9",
       "style": "IPY_MODEL_9ac06c58dc364465b4fcc5330c3ede26",
       "value": " 3/3 [00:15&lt;00:00,  5.17s/it]"
      }
     },
     "f5fd64ab68e54fb4940931c091a85ee5": {
      "model_module": "@jupyter-widgets/controls",
      "model_module_version": "1.5.0",
      "model_name": "HTMLModel",
      "state": {
       "layout": "IPY_MODEL_1ce54112d2af401080d3585491ab364a",
       "style": "IPY_MODEL_c70341dab1ff4eb2a8c1a990905a73f1",
       "value": " 493/493 [46:24&lt;00:00,  5.65s/it]"
      }
     },
     "f64abfbfff214f3f94ef4fef659ea25f": {
      "model_module": "@jupyter-widgets/base",
      "model_module_version": "1.2.0",
      "model_name": "LayoutModel",
      "state": {}
     },
     "f657230833d241d3ae42654338a4b130": {
      "model_module": "@jupyter-widgets/controls",
      "model_module_version": "1.5.0",
      "model_name": "ProgressStyleModel",
      "state": {
       "description_width": "initial"
      }
     },
     "f65c70576fd1418ea48ea9544fcc916a": {
      "model_module": "@jupyter-widgets/base",
      "model_module_version": "1.2.0",
      "model_name": "LayoutModel",
      "state": {}
     },
     "f682bfa70a1b436fb7203ea3b071a3d5": {
      "model_module": "@jupyter-widgets/base",
      "model_module_version": "1.2.0",
      "model_name": "LayoutModel",
      "state": {}
     },
     "f7b0a45e588443999ff3f709eeb3724f": {
      "model_module": "@jupyter-widgets/controls",
      "model_module_version": "1.5.0",
      "model_name": "HTMLModel",
      "state": {
       "layout": "IPY_MODEL_3542c29509764f37aa9124c682a2fafb",
       "style": "IPY_MODEL_521ca8732a614f40863dd91f97f58eb7",
       "value": " 493/493 [34:52&lt;00:00,  4.24s/it]"
      }
     },
     "f7f31e90a97f487890bc2a79f44a13d8": {
      "model_module": "@jupyter-widgets/controls",
      "model_module_version": "1.5.0",
      "model_name": "HBoxModel",
      "state": {
       "children": [
        "IPY_MODEL_afd74a8d2abc477e8276986f55dc99db",
        "IPY_MODEL_0fb40b40548749eca97160fb1b64bce3"
       ],
       "layout": "IPY_MODEL_618c0d23190f4620ad243043ea4bddb8"
      }
     },
     "f8df7cf5a84b4dd5b5f753574618dc95": {
      "model_module": "@jupyter-widgets/controls",
      "model_module_version": "1.5.0",
      "model_name": "ProgressStyleModel",
      "state": {
       "description_width": "initial"
      }
     },
     "f91703864b7c4d4e8028683ec0cb646a": {
      "model_module": "@jupyter-widgets/base",
      "model_module_version": "1.2.0",
      "model_name": "LayoutModel",
      "state": {}
     },
     "f94e500520e848f7876834843ba9fd05": {
      "model_module": "@jupyter-widgets/controls",
      "model_module_version": "1.5.0",
      "model_name": "HBoxModel",
      "state": {
       "children": [
        "IPY_MODEL_e936672f44f647408266f84534f86623",
        "IPY_MODEL_8284e467212249a0a56f25e7b34b235c"
       ],
       "layout": "IPY_MODEL_263816217fda4e57b53dfa8844ce7088"
      }
     },
     "f9bfc68401bd4ebd86539f4b7ac3a880": {
      "model_module": "@jupyter-widgets/controls",
      "model_module_version": "1.5.0",
      "model_name": "ProgressStyleModel",
      "state": {
       "description_width": "initial"
      }
     },
     "f9e302c602e8498c95531402e278ce60": {
      "model_module": "@jupyter-widgets/controls",
      "model_module_version": "1.5.0",
      "model_name": "FloatProgressModel",
      "state": {
       "bar_style": "success",
       "description": "[1] 7/12(train): 100%",
       "layout": "IPY_MODEL_333534ce00eb48e2830f9b861bebf66d",
       "max": 493,
       "style": "IPY_MODEL_2256c87155f44494ad1bd7dfceaff515",
       "value": 493
      }
     },
     "fa0f021c48d94d3badd242d25f8fa55c": {
      "model_module": "@jupyter-widgets/controls",
      "model_module_version": "1.5.0",
      "model_name": "HTMLModel",
      "state": {
       "layout": "IPY_MODEL_bc92387f222c422a9249a7318e1e454b",
       "style": "IPY_MODEL_5bfbc8efe9804723b290499b859e75ac",
       "value": " 3/3 [00:15&lt;00:00,  5.15s/it]"
      }
     },
     "fa709403d6844fc5af8634dfdbf5ad62": {
      "model_module": "@jupyter-widgets/controls",
      "model_module_version": "1.5.0",
      "model_name": "FloatProgressModel",
      "state": {
       "bar_style": "success",
       "description": "[1] 9/12(val  ): 100%",
       "layout": "IPY_MODEL_ead8ec789bae4adbbd245254e7f525dc",
       "max": 165,
       "style": "IPY_MODEL_157be44435f2467eb63027395ed28852",
       "value": 165
      }
     },
     "faa43a69669c4a4ba137d4f77ccbdbd3": {
      "model_module": "@jupyter-widgets/base",
      "model_module_version": "1.2.0",
      "model_name": "LayoutModel",
      "state": {}
     },
     "fab359eeefe7412c94576e77bf399105": {
      "model_module": "@jupyter-widgets/controls",
      "model_module_version": "1.5.0",
      "model_name": "HTMLModel",
      "state": {
       "layout": "IPY_MODEL_c9fb52ac162247e38eb463cc81bc3922",
       "style": "IPY_MODEL_07ad446dda724dcca011f76ad6524a46",
       "value": " 165/165 [10:55&lt;00:00,  3.97s/it]"
      }
     },
     "faed8d5ce11049e7b6960b9ab3488445": {
      "model_module": "@jupyter-widgets/controls",
      "model_module_version": "1.5.0",
      "model_name": "FloatProgressModel",
      "state": {
       "bar_style": "success",
       "description": "[2] 8/12(val  ): 100%",
       "layout": "IPY_MODEL_2a96f90af8094f8283889ad0cfb8e7ab",
       "max": 165,
       "style": "IPY_MODEL_ef6de8b6a1d840ec877ab95474213bea",
       "value": 165
      }
     },
     "fb03e373fae6492d93dff25ea824b058": {
      "model_module": "@jupyter-widgets/controls",
      "model_module_version": "1.5.0",
      "model_name": "DescriptionStyleModel",
      "state": {
       "description_width": ""
      }
     },
     "fbdd47bcedc147cc8f7e8331942e02fd": {
      "model_module": "@jupyter-widgets/controls",
      "model_module_version": "1.5.0",
      "model_name": "DescriptionStyleModel",
      "state": {
       "description_width": ""
      }
     },
     "fbe4b85f50464aab85c1ff66ef971a7d": {
      "model_module": "@jupyter-widgets/controls",
      "model_module_version": "1.5.0",
      "model_name": "DescriptionStyleModel",
      "state": {
       "description_width": ""
      }
     },
     "fc0c39371caf4ba5854c1ee9cbe12f8c": {
      "model_module": "@jupyter-widgets/controls",
      "model_module_version": "1.5.0",
      "model_name": "ProgressStyleModel",
      "state": {
       "description_width": "initial"
      }
     },
     "fc7a65b3a92442659f41be93b0ad4727": {
      "model_module": "@jupyter-widgets/controls",
      "model_module_version": "1.5.0",
      "model_name": "FloatProgressModel",
      "state": {
       "bar_style": "success",
       "description": "[0] 9/12(train): 100%",
       "layout": "IPY_MODEL_0c9b6f86e14347b2a282ad7c5c4230c4",
       "max": 493,
       "style": "IPY_MODEL_bcbf17e776c54810abc1a3d08d947825",
       "value": 493
      }
     },
     "fc99aa27a2d24420b8f179c8b2b531d1": {
      "model_module": "@jupyter-widgets/controls",
      "model_module_version": "1.5.0",
      "model_name": "FloatProgressModel",
      "state": {
       "bar_style": "success",
       "description": "[2] 1/12(val  ): 100%",
       "layout": "IPY_MODEL_2d872c3259d8461cb4c7fc7556a2ccbe",
       "max": 165,
       "style": "IPY_MODEL_4486de12203a49d080f4e192911b6ba5",
       "value": 165
      }
     },
     "fca2475f75e1435992317035a66f17cc": {
      "model_module": "@jupyter-widgets/controls",
      "model_module_version": "1.5.0",
      "model_name": "FloatProgressModel",
      "state": {
       "bar_style": "success",
       "description": "[3] 1/12(train): 100%",
       "layout": "IPY_MODEL_30b8a33647c348fa9a528768ae3311cf",
       "max": 493,
       "style": "IPY_MODEL_632a7f304482409ea5016027ad60af40",
       "value": 493
      }
     },
     "fcc4718a2ce949cf86745fa6c85f8c71": {
      "model_module": "@jupyter-widgets/controls",
      "model_module_version": "1.5.0",
      "model_name": "FloatProgressModel",
      "state": {
       "bar_style": "success",
       "description": "[1] 3/12(train): 100%",
       "layout": "IPY_MODEL_b8bfaff529034ce6b26e124373f14b5f",
       "max": 493,
       "style": "IPY_MODEL_ccfcedcf96cd4d758cf21d2cae022058",
       "value": 493
      }
     },
     "fd0fd91f63f24030963748b330fcd345": {
      "model_module": "@jupyter-widgets/controls",
      "model_module_version": "1.5.0",
      "model_name": "HBoxModel",
      "state": {
       "children": [
        "IPY_MODEL_9995168fc9b3491c89a89c72b1b47669",
        "IPY_MODEL_fab359eeefe7412c94576e77bf399105"
       ],
       "layout": "IPY_MODEL_c4a0fbdf99d74c0d883486f7b8337444"
      }
     },
     "fd5f8115c7b24a9e903d6c1d85906d32": {
      "model_module": "@jupyter-widgets/controls",
      "model_module_version": "1.5.0",
      "model_name": "FloatProgressModel",
      "state": {
       "bar_style": "success",
       "description": "[3] 10/12(val  ): 100%",
       "layout": "IPY_MODEL_8a6b3d88502842a8b90d3adfbc3dbae6",
       "max": 165,
       "style": "IPY_MODEL_7c32f90255f24d0fa0765b008a561cb4",
       "value": 165
      }
     },
     "fd8b3193ae9e4e79b74164ae4c0d86b6": {
      "model_module": "@jupyter-widgets/base",
      "model_module_version": "1.2.0",
      "model_name": "LayoutModel",
      "state": {}
     },
     "fdcd800935884591b6f05e0337ef73d4": {
      "model_module": "@jupyter-widgets/controls",
      "model_module_version": "1.5.0",
      "model_name": "HBoxModel",
      "state": {
       "children": [
        "IPY_MODEL_aa2d10e703254e2ca3aa04f0f9723818",
        "IPY_MODEL_2c0b116fdec34678abd5be5e43043cbe"
       ],
       "layout": "IPY_MODEL_ff206067fbfa4289a62360fdd9d862fe"
      }
     },
     "fdfa972072c44f9db241e98b3fe1b89d": {
      "model_module": "@jupyter-widgets/controls",
      "model_module_version": "1.5.0",
      "model_name": "HTMLModel",
      "state": {
       "layout": "IPY_MODEL_ebdd1e4c97f04178852d63672354ec4e",
       "style": "IPY_MODEL_c4d47702414548588dafa5e804199cc0",
       "value": " 493/493 [46:44&lt;00:00,  5.69s/it]"
      }
     },
     "fe22dc3c40db46a8af3cb44be9bc2c8d": {
      "model_module": "@jupyter-widgets/controls",
      "model_module_version": "1.5.0",
      "model_name": "FloatProgressModel",
      "state": {
       "bar_style": "success",
       "description": "[2] 1/1(train): 100%",
       "layout": "IPY_MODEL_ac0c9831dd6342e98920300bf8c14884",
       "max": 3,
       "style": "IPY_MODEL_f0d2734704aa4cc1a657d933260d3641",
       "value": 3
      }
     },
     "fe2d5dd04acc409dba160161b12d0cea": {
      "model_module": "@jupyter-widgets/controls",
      "model_module_version": "1.5.0",
      "model_name": "DescriptionStyleModel",
      "state": {
       "description_width": ""
      }
     },
     "fe5fd04e426e4c2b9fe8c5ed6f6b0544": {
      "model_module": "@jupyter-widgets/controls",
      "model_module_version": "1.5.0",
      "model_name": "HBoxModel",
      "state": {
       "children": [
        "IPY_MODEL_48712b94db024752bdf95ae86ab82c34",
        "IPY_MODEL_4209763235694b9f850410e3a3f93b02"
       ],
       "layout": "IPY_MODEL_e9e3d16bbbd942d6957cf2e17e3e9c67"
      }
     },
     "fe7ae47d004047e5a06ed81f44f46314": {
      "model_module": "@jupyter-widgets/controls",
      "model_module_version": "1.5.0",
      "model_name": "HBoxModel",
      "state": {
       "children": [
        "IPY_MODEL_bfa53e57de5e4c3ca021c8fe9430576d",
        "IPY_MODEL_abdc091179bb4644a241c16dade44b28"
       ],
       "layout": "IPY_MODEL_4aeffdd6cf424857badf6eab821726b0"
      }
     },
     "fec4e42aa0a745af9dcadedf15e5f298": {
      "model_module": "@jupyter-widgets/base",
      "model_module_version": "1.2.0",
      "model_name": "LayoutModel",
      "state": {}
     },
     "fefd3fb2691f4b9abe072246d9f93034": {
      "model_module": "@jupyter-widgets/base",
      "model_module_version": "1.2.0",
      "model_name": "LayoutModel",
      "state": {}
     },
     "ff206067fbfa4289a62360fdd9d862fe": {
      "model_module": "@jupyter-widgets/base",
      "model_module_version": "1.2.0",
      "model_name": "LayoutModel",
      "state": {}
     },
     "ff4ff55429634714bd30a609157772e5": {
      "model_module": "@jupyter-widgets/controls",
      "model_module_version": "1.5.0",
      "model_name": "HBoxModel",
      "state": {
       "children": [
        "IPY_MODEL_90c2bd9c90ea44ba94a82c21789060e4",
        "IPY_MODEL_51fa21684a7f49a79aa3a1f2cf27ff5e"
       ],
       "layout": "IPY_MODEL_57a54e8df8064facb7b23471e83300da"
      }
     },
     "ff577b2ee2c7489cbf2fba80009f8f0a": {
      "model_module": "@jupyter-widgets/controls",
      "model_module_version": "1.5.0",
      "model_name": "HTMLModel",
      "state": {
       "layout": "IPY_MODEL_759746388863481b937c81a0a014f195",
       "style": "IPY_MODEL_788855b7ed0648e08d9b7c8b6c6e1fc6",
       "value": " 165/165 [10:51&lt;00:00,  3.95s/it]"
      }
     },
     "ff880da1ca2d47e98849ebf16921fb41": {
      "model_module": "@jupyter-widgets/controls",
      "model_module_version": "1.5.0",
      "model_name": "FloatProgressModel",
      "state": {
       "bar_style": "success",
       "description": "[2] 5/12(train): 100%",
       "layout": "IPY_MODEL_b556b15b41f44c7a8ddf0c74a99dda47",
       "max": 493,
       "style": "IPY_MODEL_9ecf94a956b841a493ca253c4970ae3d",
       "value": 493
      }
     },
     "ffa6bc6a4685457985393b2b6c7b75f2": {
      "model_module": "@jupyter-widgets/base",
      "model_module_version": "1.2.0",
      "model_name": "LayoutModel",
      "state": {}
     },
     "ffbd97a7fb124f779d200ad96368f8cb": {
      "model_module": "@jupyter-widgets/controls",
      "model_module_version": "1.5.0",
      "model_name": "DescriptionStyleModel",
      "state": {
       "description_width": ""
      }
     },
     "ffe5f4bd6c804dcf87a6313e64b17359": {
      "model_module": "@jupyter-widgets/controls",
      "model_module_version": "1.5.0",
      "model_name": "HBoxModel",
      "state": {
       "children": [
        "IPY_MODEL_ec4f34fd7ee84177b2f6dc0890fe3113",
        "IPY_MODEL_efa90dfebbeb49499752e284e4f8c3c3"
       ],
       "layout": "IPY_MODEL_335e159d2c064b96a85d8a8f8c5aca3d"
      }
     }
    },
    "version_major": 2,
    "version_minor": 0
   }
  }
 },
 "nbformat": 4,
 "nbformat_minor": 4
}
