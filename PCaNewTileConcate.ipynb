{
 "cells": [
  {
   "cell_type": "code",
   "execution_count": 1,
   "metadata": {},
   "outputs": [],
   "source": [
    "import os\n",
    "import glob\n",
    "import cv2\n",
    "import time\n",
    "import copy\n",
    "import pickle  # Log dictionary data\n",
    "import numpy as np # linear algebra\n",
    "import pandas as pd # data processing, CSV file I/O (e.g. pd.read_csv)\n",
    "import matplotlib.pyplot as plt\n",
    "import seaborn as sn\n",
    "\n",
    "import torch\n",
    "import torch.nn as nn\n",
    "import torch.optim as optim\n",
    "import torch.nn.functional as F # stateless functions\n",
    "import torchvision.transforms as T\n",
    "import torchvision.models as models\n",
    "\n",
    "import multiprocessing\n",
    "# We must import this explicitly, it is not imported by the top-level\n",
    "# multiprocessing module.\n",
    "import multiprocessing.pool\n",
    "\n",
    "from sklearn.model_selection import StratifiedKFold\n",
    "from sklearn.metrics import cohen_kappa_score,confusion_matrix\n",
    "from tqdm.auto import tqdm\n",
    "from torch.utils.data import Dataset, DataLoader\n",
    "from datetime import datetime\n",
    "from multiprocessing import Manager"
   ]
  },
  {
   "cell_type": "code",
   "execution_count": 2,
   "metadata": {},
   "outputs": [],
   "source": [
    "class CFG:\n",
    "    batch_size = 16\n",
    "    debug = False\n",
    "    device = torch.device('cuda')\n",
    "    dtype = torch.float32\n",
    "    epochs = 15\n",
    "    lr = 1e-4\n",
    "    model_name = 'resnet_head'\n",
    "    num_classes = 6\n",
    "    nworkers = 3\n",
    "    nfolds = 4\n",
    "    n_tile = 12\n",
    "    seed = 524\n",
    "    TRAIN = '../yi_data/panda-16x128x128-tiles-data/train/'\n",
    "    LABELS = '../data/train.csv'"
   ]
  },
  {
   "cell_type": "markdown",
   "metadata": {},
   "source": [
    "# Split Data"
   ]
  },
  {
   "cell_type": "code",
   "execution_count": 3,
   "metadata": {},
   "outputs": [
    {
     "data": {
      "text/html": [
       "<div>\n",
       "<style scoped>\n",
       "    .dataframe tbody tr th:only-of-type {\n",
       "        vertical-align: middle;\n",
       "    }\n",
       "\n",
       "    .dataframe tbody tr th {\n",
       "        vertical-align: top;\n",
       "    }\n",
       "\n",
       "    .dataframe thead th {\n",
       "        text-align: right;\n",
       "    }\n",
       "</style>\n",
       "<table border=\"1\" class=\"dataframe\">\n",
       "  <thead>\n",
       "    <tr style=\"text-align: right;\">\n",
       "      <th></th>\n",
       "      <th>image_id</th>\n",
       "      <th>data_provider</th>\n",
       "      <th>isup_grade</th>\n",
       "      <th>gleason_score</th>\n",
       "      <th>split</th>\n",
       "    </tr>\n",
       "  </thead>\n",
       "  <tbody>\n",
       "    <tr>\n",
       "      <th>0</th>\n",
       "      <td>0005f7aaab2800f6170c399693a96917</td>\n",
       "      <td>karolinska</td>\n",
       "      <td>0</td>\n",
       "      <td>0+0</td>\n",
       "      <td>2</td>\n",
       "    </tr>\n",
       "    <tr>\n",
       "      <th>1</th>\n",
       "      <td>000920ad0b612851f8e01bcc880d9b3d</td>\n",
       "      <td>karolinska</td>\n",
       "      <td>0</td>\n",
       "      <td>0+0</td>\n",
       "      <td>3</td>\n",
       "    </tr>\n",
       "    <tr>\n",
       "      <th>2</th>\n",
       "      <td>0018ae58b01bdadc8e347995b69f99aa</td>\n",
       "      <td>radboud</td>\n",
       "      <td>4</td>\n",
       "      <td>4+4</td>\n",
       "      <td>1</td>\n",
       "    </tr>\n",
       "    <tr>\n",
       "      <th>3</th>\n",
       "      <td>001c62abd11fa4b57bf7a6c603a11bb9</td>\n",
       "      <td>karolinska</td>\n",
       "      <td>4</td>\n",
       "      <td>4+4</td>\n",
       "      <td>1</td>\n",
       "    </tr>\n",
       "    <tr>\n",
       "      <th>4</th>\n",
       "      <td>001d865e65ef5d2579c190a0e0350d8f</td>\n",
       "      <td>karolinska</td>\n",
       "      <td>0</td>\n",
       "      <td>0+0</td>\n",
       "      <td>0</td>\n",
       "    </tr>\n",
       "  </tbody>\n",
       "</table>\n",
       "</div>"
      ],
      "text/plain": [
       "                           image_id data_provider  isup_grade gleason_score  \\\n",
       "0  0005f7aaab2800f6170c399693a96917    karolinska           0           0+0   \n",
       "1  000920ad0b612851f8e01bcc880d9b3d    karolinska           0           0+0   \n",
       "2  0018ae58b01bdadc8e347995b69f99aa       radboud           4           4+4   \n",
       "3  001c62abd11fa4b57bf7a6c603a11bb9    karolinska           4           4+4   \n",
       "4  001d865e65ef5d2579c190a0e0350d8f    karolinska           0           0+0   \n",
       "\n",
       "   split  \n",
       "0      2  \n",
       "1      3  \n",
       "2      1  \n",
       "3      1  \n",
       "4      0  "
      ]
     },
     "execution_count": 3,
     "metadata": {},
     "output_type": "execute_result"
    }
   ],
   "source": [
    "train = pd.read_csv(CFG.LABELS).set_index('image_id')\n",
    "files = sorted(set([p[:32] for p in os.listdir(CFG.TRAIN)]))\n",
    "train = train.loc[files].reset_index()\n",
    "\n",
    "if CFG.debug:\n",
    "    df = train.sample(n=50, random_state=CFG.seed).copy()\n",
    "else:\n",
    "    df = train.copy()\n",
    "\n",
    "# Generate train/validation sets containing the same distribution of isup_grade\n",
    "splits = StratifiedKFold(n_splits=CFG.nfolds, random_state=CFG.seed, shuffle=True)\n",
    "splits = list(splits.split(df,df.isup_grade))\n",
    "# Assign split index to training samples\n",
    "folds_splits = np.zeros(len(df)).astype(np.int)\n",
    "for i in range(CFG.nfolds):\n",
    "    folds_splits[splits[i][1]] = i\n",
    "df['split'] = folds_splits\n",
    "df.head()"
   ]
  },
  {
   "cell_type": "code",
   "execution_count": 4,
   "metadata": {},
   "outputs": [],
   "source": [
    "# https://www.kaggle.com/yasufuminakama/panda-se-resnext50-regression-baseline\n",
    "class TrainDataset(Dataset):\n",
    "    \"\"\"Prostate Cancer Biopsy Dataset\"\"\"\n",
    "    \n",
    "    def __init__(self, df, labels, transform=None):\n",
    "        \"\"\"\n",
    "        Args:\n",
    "            csv_file (string): Path to the csv file\n",
    "            root_dir (string): Path to the directory with all images\n",
    "            transform (callable, optional): Optional transform to be applied on an image sample\n",
    "        \"\"\"\n",
    "        # Shuffle dataframes with fixed seed; otherwise, validation set only get cancerous samples\n",
    "        self.df = df\n",
    "        self.labels = labels\n",
    "        self.transform = transform\n",
    "        \n",
    "    def __len__(self):\n",
    "        return len(self.df)\n",
    "    \n",
    "    def __getitem__(self, idx):\n",
    "        # https://stackoverflow.com/questions/33369832/read-multiple-images-on-a-folder-in-opencv-python\n",
    "        tile_fns = [f\"{CFG.TRAIN}/{self.df['image_id'][idx]}_{sub_id}.png\" for sub_id in range(CFG.n_tile)]\n",
    "        img_tiles = [cv2.imread(fn) for fn in tile_fns]\n",
    "        if self.transform:\n",
    "            img_tiles = list(map(self.transform, img_tiles))\n",
    "            \n",
    "        label = torch.tensor(self.labels[idx])\n",
    "        return (img_tiles, label)"
   ]
  },
  {
   "cell_type": "markdown",
   "metadata": {},
   "source": [
    "## Transforms"
   ]
  },
  {
   "cell_type": "code",
   "execution_count": 5,
   "metadata": {},
   "outputs": [],
   "source": [
    "def get_transforms(phase):\n",
    "    assert phase in {'train', 'val'}\n",
    "    \n",
    "    if phase == 'train':\n",
    "        return T.Compose([\n",
    "            T.ToTensor(),\n",
    "            T.Normalize(\n",
    "                mean=[0.8776, 0.8186, 0.9090],\n",
    "                std=[0.1659, 0.2507, 0.1357],\n",
    "            ),\n",
    "        ])\n",
    "    else:\n",
    "        return T.Compose([\n",
    "            T.ToTensor(),\n",
    "            T.Normalize(\n",
    "                mean=[0.8776, 0.8186, 0.9090],\n",
    "                std=[0.1659, 0.2507, 0.1357],\n",
    "            ),\n",
    "        ])"
   ]
  },
  {
   "cell_type": "code",
   "execution_count": 6,
   "metadata": {},
   "outputs": [
    {
     "data": {
      "text/plain": [
       "\"\\ntransform = get_transforms(phase='train')\\ntrain_dataset = TrainDataset(df.reset_index(drop=True),\\n                             df.reset_index(drop=True)['isup_grade'],\\n                             transform = get_transforms(phase='train'))\\ntiles, label = train_dataset[0]\\ntiles = map(transform, tiles)\\n#print(list(tiles))\\nprint(label)\\n\""
      ]
     },
     "execution_count": 6,
     "metadata": {},
     "output_type": "execute_result"
    }
   ],
   "source": [
    "\"\"\"\n",
    "transform = get_transforms(phase='train')\n",
    "train_dataset = TrainDataset(df.reset_index(drop=True),\n",
    "                             df.reset_index(drop=True)['isup_grade'],\n",
    "                             transform = get_transforms(phase='train'))\n",
    "tiles, label = train_dataset[0]\n",
    "tiles = map(transform, tiles)\n",
    "#print(list(tiles))\n",
    "print(label)\n",
    "\"\"\""
   ]
  },
  {
   "cell_type": "code",
   "execution_count": 7,
   "metadata": {},
   "outputs": [],
   "source": [
    "# Use fold idx as validation set\n",
    "def data_loader(fold_idx):\n",
    "    train_idx = df[df['split'] != fold_idx].index\n",
    "    val_idx = df[df['split'] == fold_idx].index\n",
    "\n",
    "    train_dataset = TrainDataset(df.loc[train_idx].reset_index(drop=True),\n",
    "                                 df.loc[train_idx].reset_index(drop=True)['isup_grade'],\n",
    "                                 transform = get_transforms(phase='train'))\n",
    "    val_dataset = TrainDataset(df.loc[val_idx].reset_index(drop=True),\n",
    "                               df.loc[val_idx].reset_index(drop=True)['isup_grade'],\n",
    "                               transform = get_transforms(phase='train'))\n",
    "    \n",
    "    train_loader = DataLoader(train_dataset, batch_size=CFG.batch_size, shuffle=True, num_workers=CFG.nworkers)\n",
    "    val_loader = DataLoader(val_dataset, batch_size=CFG.batch_size, shuffle=False, num_workers=CFG.nworkers)\n",
    "    return train_loader, val_loader"
   ]
  },
  {
   "cell_type": "code",
   "execution_count": 8,
   "metadata": {},
   "outputs": [],
   "source": [
    "def train_model(model, fold, dataloaders, criterion, optimizer, scheduler, num_epochs=20):\n",
    "    since = time.time()\n",
    "    \n",
    "    # Send the model to GPU/CPU\n",
    "    model = model.to(device=CFG.device)\n",
    "    \n",
    "    train_acc_history = []\n",
    "    val_acc_history = []\n",
    "    loss_history = []\n",
    "    \n",
    "    best_model_wts = copy.deepcopy(model.state_dict())\n",
    "    best_acc = 0.0\n",
    "    \n",
    "    for epoch in range(num_epochs):\n",
    "        \n",
    "        # Each epoch has a training and validation phase\n",
    "        for phase in ['train', 'val']:\n",
    "            if phase == 'train':\n",
    "                model.train()   # Set model to training phase\n",
    "            else:\n",
    "                model.eval()    # Set model to evaluate phase\n",
    "            \n",
    "            avg_loss = 0.0\n",
    "            running_corrects = 0\n",
    "            \n",
    "            print(' ', end='', flush=True)  # To workaround tqdm issue in multiprocess\n",
    "            for inputs, labels in tqdm(dataloaders[phase],\n",
    "                                       desc='[{}] {}/{}({:5s})'.format(fold, epoch+1,num_epochs,phase)):\n",
    "                _, C, H, W = inputs[0].shape\n",
    "                # n_tile[(bs,3,128,128)]-->(bs,n_tile,3,128,128)-->(bs*n_tile,3,128,128)\n",
    "                inputs = torch.stack(inputs, 1).view(-1,C,H,W).to(device=CFG.device, dtype=CFG.dtype)\n",
    "                labels = labels.to(device=CFG.device, dtype=torch.long)\n",
    "                \n",
    "                # Zero the parameter gradients\n",
    "                optimizer.zero_grad()\n",
    "                \n",
    "                # Forward, track history if only in training\n",
    "                with torch.set_grad_enabled(phase == 'train'):\n",
    "                    outputs = model(inputs)\n",
    "                    loss = criterion(outputs, labels)\n",
    "                    \n",
    "                    pred = torch.argmax(outputs, 1)\n",
    "\n",
    "                    # Backward + optimize only if in training phase\n",
    "                    if phase == 'train':\n",
    "                        loss.backward()\n",
    "                        optimizer.step()\n",
    "                    \n",
    "                # Statistics\n",
    "                input_sz = inputs[0].shape[0]\n",
    "                avg_loss += loss.item()*(input_sz/len(dataloaders[phase].dataset))  # len(dataloaders[phase].dataset) not len(dataloaders[phase])\n",
    "                running_corrects += torch.sum(pred == labels)\n",
    "            \n",
    "            # End of epoch\n",
    "            with torch.no_grad():\n",
    "                epoch_acc = running_corrects.double() / len(dataloaders[phase].dataset)\n",
    "\n",
    "                if phase == 'val':\n",
    "                    val_acc_history.append(epoch_acc)\n",
    "                    # deep copy the model\n",
    "                    if epoch_acc > best_acc:\n",
    "                        best_acc = epoch_acc\n",
    "                        best_model_wts = copy.deepcopy(model.state_dict())\n",
    "                    # Apply lr_scheduler\n",
    "                    if scheduler is not None:\n",
    "                        scheduler.step(avg_loss)\n",
    "                else:\n",
    "                    train_acc_history.append(epoch_acc)\n",
    "                    loss_history.append(avg_loss)\n",
    "                print('[{}] {} Loss: {:4f} Acc: {:4f}'.format(fold, phase, avg_loss, epoch_acc))\n",
    "    \n",
    "    time_elapsed = time.time() - since\n",
    "    print('[{}] Training complete in {:.0f}m {:0f}s'.format(fold, time_elapsed//60, time_elapsed%60))\n",
    "    print('[{}] Best val Acc: {:4f}'.format(fold, best_acc))\n",
    "    print()\n",
    "    \n",
    "    model.load_state_dict(best_model_wts)\n",
    "                      \n",
    "    return model, loss_history, train_acc_history, val_acc_history"
   ]
  },
  {
   "cell_type": "markdown",
   "metadata": {},
   "source": [
    "## Layer Utils"
   ]
  },
  {
   "cell_type": "code",
   "execution_count": 9,
   "metadata": {},
   "outputs": [],
   "source": [
    "class AdaptiveConcatPool2d(nn.Module):\n",
    "    \"Layer that concats `AdaptiveAvgPool2d` and `AdaptiveMaxPool2d`.\"\n",
    "    def __init__(self, sz=1):\n",
    "        \"Output will be 2*sz or 2 if sz is None\"\n",
    "        super().__init__()\n",
    "        self.output_size = sz\n",
    "        self.ap = nn.AdaptiveAvgPool2d(self.output_size)\n",
    "        self.mp = nn.AdaptiveMaxPool2d(self.output_size)\n",
    "\n",
    "    def forward(self, x): return torch.cat([self.mp(x), self.ap(x)], 1)\n",
    "\n",
    "# https://www.kaggle.com/nelsongriffiths/mish-activation-and-transfer-learning-pytorch\n",
    "def mish(x):\n",
    "    return (x*torch.tanh(F.softplus(x)))\n",
    "\n",
    "class mish_layer(nn.Module):\n",
    "    def __init__(self):\n",
    "        super(mish_layer, self).__init__()\n",
    "        \n",
    "    def forward(self, input):\n",
    "        return mish(input)\n",
    "    \n",
    "class CustomResnet(nn.Module):\n",
    "    def __init__(self, n=6):\n",
    "        super().__init__()\n",
    "        self.enc = nn.Sequential(*list(models.resnet34(pretrained=False).children())[:-2])\n",
    "        num_ftrs= models.resnet34().fc.in_features\n",
    "        self.head = nn.Sequential(\n",
    "                        AdaptiveConcatPool2d(),\n",
    "                        nn.Flatten(),\n",
    "                        nn.Linear(num_ftrs*2,512),\n",
    "                        mish_layer(),\n",
    "                        nn.BatchNorm1d(512),\n",
    "                        nn.Dropout(0.5),\n",
    "                        nn.Linear(512, n)\n",
    "                    )\n",
    "        \n",
    "    def forward(self, x):\n",
    "        n_tile = CFG.n_tile\n",
    "        enc_out = self.enc(x)\n",
    "        _, C, H, W = enc_out.shape\n",
    "        # (bs,n_tile,512,4,4)-->(bs,512,n_tile,4,4)-->(bs,512,n_tile*4,4)\n",
    "        head_in = enc_out.view(-1,n_tile,C,H,W).permute(0,2,1,3,4)\\\n",
    "                  .contiguous().view(-1,C,n_tile*H,W)\n",
    "        head_out = self.head(head_in)\n",
    "        \n",
    "        return head_out"
   ]
  },
  {
   "cell_type": "code",
   "execution_count": 10,
   "metadata": {},
   "outputs": [],
   "source": [
    "def set_parameter_requires_grad(model, feature_extracting):\n",
    "    if feature_extracting:\n",
    "        for param in model.parameters():\n",
    "            param.requires_grad = False\n",
    "            \n",
    "def initialize_model(model_name, num_classes, feature_extract=False, use_pretrained=False):\n",
    "    \"\"\"\n",
    "    Params:\n",
    "        feature_extract\n",
    "            True - fine tunning\n",
    "            False - fix the model\n",
    "    \"\"\"\n",
    "    model_ft = None\n",
    "    \n",
    "    if model_name == 'alexnet':\n",
    "        \"\"\"AlexNet\n",
    "        \"\"\"\n",
    "        model_ft = models.alexnet(pretrained=use_pretrained)\n",
    "        set_parameter_requires_grad(model_ft, feature_extract)\n",
    "        num_ftrs = model_ft.classifier[6].in_features\n",
    "        model_ft.classifier[6] = nn.Linear(num_ftrs, num_classes)\n",
    "    elif model_name == 'resnet':\n",
    "        \"\"\"Resnet\n",
    "        \"\"\"\n",
    "        model_ft = models.resnet18(pretrained=use_pretrained)\n",
    "        set_parameter_requires_grad(model_ft, feature_extract)\n",
    "        num_ftrs = model_ft.fc.in_features\n",
    "        model_ft.fc = nn.Linear(num_ftrs, num_classes)\n",
    "    elif model_name == 'resnet_head':\n",
    "        \"\"\"Restnet with customized header\n",
    "        \"\"\"\n",
    "        model_ft = CustomResnet(num_classes)\n",
    "    \n",
    "    return model_ft"
   ]
  },
  {
   "cell_type": "code",
   "execution_count": 11,
   "metadata": {},
   "outputs": [
    {
     "data": {
      "text/plain": [
       "'\\nmodel_ft = initialize_model(CFG.model_name, CFG.num_classes, use_pretrained=False)\\ntrain_loader, _ = data_loader(0)\\nfor tiles, _ in train_loader:\\n    print(tiles[0].shape)\\n    #plt.imshow(tiles[0].squeeze().permute(1,2,0))\\n    conv_out = model_ft(tiles)\\n    print(conv_out.shape)\\n    break\\n'"
      ]
     },
     "execution_count": 11,
     "metadata": {},
     "output_type": "execute_result"
    }
   ],
   "source": [
    "\"\"\"\n",
    "model_ft = initialize_model(CFG.model_name, CFG.num_classes, use_pretrained=False)\n",
    "train_loader, _ = data_loader(0)\n",
    "for tiles, _ in train_loader:\n",
    "    print(tiles[0].shape)\n",
    "    #plt.imshow(tiles[0].squeeze().permute(1,2,0))\n",
    "    conv_out = model_ft(tiles)\n",
    "    print(conv_out.shape)\n",
    "    break\n",
    "\"\"\""
   ]
  },
  {
   "cell_type": "code",
   "execution_count": 12,
   "metadata": {},
   "outputs": [],
   "source": [
    "\"\"\"Multiprocessing\n",
    "\"\"\"\n",
    "class NoDaemonProcess(multiprocessing.Process):\n",
    "    # make 'daemon' attribute always return False\n",
    "    def _get_daemon(self):\n",
    "        return False\n",
    "    def _set_daemon(self, value):\n",
    "        pass\n",
    "    daemon = property(_get_daemon, _set_daemon)\n",
    "\n",
    "# We sub-class multiprocessing.pool.Pool instead of multiprocessing.Pool\n",
    "# because the latter is only a wrapper function, not a proper class.\n",
    "class MyPool(multiprocessing.pool.Pool):\n",
    "    Process = NoDaemonProcess\n",
    "\n",
    "def train_fn(fold):\n",
    "    model_ft = initialize_model(CFG.model_name, CFG.num_classes, use_pretrained=True)\n",
    "    \"\"\"\n",
    "    optimizer = optim.SGD(model_ft.parameters(),\n",
    "                          lr=CFG.lr,\n",
    "                          momentum=.9,\n",
    "                          nesterov=True)\n",
    "    \"\"\"\n",
    "    optimizer = optim.Adam(model_ft.parameters(),\n",
    "                           lr=CFG.lr)\n",
    "    scheduler = optim.lr_scheduler.ReduceLROnPlateau(optimizer, mode='min', factor=0.1, patience=2, verbose=True, eps=1e-06)\n",
    "    #print(f'### FOLD: {fold} ###', flush=True)\n",
    "    loader_train, loader_val = data_loader(fold)\n",
    "    best_model, loss_history, train_acc_history, val_acc_history = train_model(model_ft, fold, {'train': loader_train, 'val': loader_val}, F.cross_entropy, optimizer, scheduler, CFG.epochs)\n",
    "\n",
    "    return best_model, loss_history, train_acc_history, val_acc_history\n",
    "\n",
    "def progressor(fold):\n",
    "    best_model, loss_history, train_acc_history, val_acc_history = train_fn(fold)\n",
    "    return {f'best_model_{fold}': best_model.to('cpu'),  # Don't save model as cuda\n",
    "            f'loss_history_{fold}': loss_history,\n",
    "            f'train_acc_history_{fold}': train_acc_history,\n",
    "            f'val_acc_history_{fold}': val_acc_history}"
   ]
  },
  {
   "cell_type": "markdown",
   "metadata": {},
   "source": [
    "## Resnet34\n",
    "Removed Kappa score\n",
    "log: resnet_05_28_2020_14_56.pkl"
   ]
  },
  {
   "cell_type": "code",
   "execution_count": 13,
   "metadata": {
    "scrolled": true
   },
   "outputs": [
    {
     "name": "stdout",
     "output_type": "stream",
     "text": [
      "    "
     ]
    },
    {
     "data": {
      "application/vnd.jupyter.widget-view+json": {
       "model_id": "6864819242384c949327fbd2beea8ad8",
       "version_major": 2,
       "version_minor": 0
      },
      "text/plain": [
       "HBox(children=(FloatProgress(value=0.0, description='[1] 1/15(train)', max=493.0, style=ProgressStyle(descript…"
      ]
     },
     "metadata": {},
     "output_type": "display_data"
    },
    {
     "data": {
      "application/vnd.jupyter.widget-view+json": {
       "model_id": "1429f9264f26455ca1168535a94603b2",
       "version_major": 2,
       "version_minor": 0
      },
      "text/plain": [
       "HBox(children=(FloatProgress(value=0.0, description='[0] 1/15(train)', max=493.0, style=ProgressStyle(descript…"
      ]
     },
     "metadata": {},
     "output_type": "display_data"
    },
    {
     "data": {
      "application/vnd.jupyter.widget-view+json": {
       "model_id": "11341356df404fa0a6b802c79ffe08fa",
       "version_major": 2,
       "version_minor": 0
      },
      "text/plain": [
       "HBox(children=(FloatProgress(value=0.0, description='[2] 1/15(train)', max=493.0, style=ProgressStyle(descript…"
      ]
     },
     "metadata": {},
     "output_type": "display_data"
    },
    {
     "data": {
      "application/vnd.jupyter.widget-view+json": {
       "model_id": "b2330c763eb9444d98d1381259771fa8",
       "version_major": 2,
       "version_minor": 0
      },
      "text/plain": [
       "HBox(children=(FloatProgress(value=0.0, description='[3] 1/15(train)', max=493.0, style=ProgressStyle(descript…"
      ]
     },
     "metadata": {},
     "output_type": "display_data"
    },
    {
     "name": "stdout",
     "output_type": "stream",
     "text": [
      "\n",
      "\n",
      "\n",
      "[3] train Loss: 0.348790 Acc: 0.231267\n",
      " "
     ]
    },
    {
     "data": {
      "application/vnd.jupyter.widget-view+json": {
       "model_id": "494f1e1408e14c94a561a19437daaefb",
       "version_major": 2,
       "version_minor": 0
      },
      "text/plain": [
       "HBox(children=(FloatProgress(value=0.0, description='[3] 1/15(val  )', max=165.0, style=ProgressStyle(descript…"
      ]
     },
     "metadata": {},
     "output_type": "display_data"
    },
    {
     "name": "stdout",
     "output_type": "stream",
     "text": [
      "\n",
      "[3] val Loss: 0.324596 Acc: 0.291746\n",
      " "
     ]
    },
    {
     "data": {
      "application/vnd.jupyter.widget-view+json": {
       "model_id": "498a89af45a94735b58fcb2d7aa00bb3",
       "version_major": 2,
       "version_minor": 0
      },
      "text/plain": [
       "HBox(children=(FloatProgress(value=0.0, description='[3] 2/15(train)', max=493.0, style=ProgressStyle(descript…"
      ]
     },
     "metadata": {},
     "output_type": "display_data"
    },
    {
     "name": "stdout",
     "output_type": "stream",
     "text": [
      "\n",
      "[2] train Loss: 0.341874 Acc: 0.245721\n",
      " "
     ]
    },
    {
     "data": {
      "application/vnd.jupyter.widget-view+json": {
       "model_id": "8c53366da5fc422aafb41065884a1a24",
       "version_major": 2,
       "version_minor": 0
      },
      "text/plain": [
       "HBox(children=(FloatProgress(value=0.0, description='[2] 1/15(val  )', max=165.0, style=ProgressStyle(descript…"
      ]
     },
     "metadata": {},
     "output_type": "display_data"
    },
    {
     "name": "stdout",
     "output_type": "stream",
     "text": [
      "\n",
      "[2] val Loss: 0.294087 Acc: 0.354888\n",
      " "
     ]
    },
    {
     "data": {
      "application/vnd.jupyter.widget-view+json": {
       "model_id": "a2c6824682a240549e62b8b49d599f3c",
       "version_major": 2,
       "version_minor": 0
      },
      "text/plain": [
       "HBox(children=(FloatProgress(value=0.0, description='[2] 2/15(train)', max=493.0, style=ProgressStyle(descript…"
      ]
     },
     "metadata": {},
     "output_type": "display_data"
    },
    {
     "name": "stdout",
     "output_type": "stream",
     "text": [
      "\n",
      "[3] train Loss: 0.309106 Acc: 0.341575\n",
      " "
     ]
    },
    {
     "data": {
      "application/vnd.jupyter.widget-view+json": {
       "model_id": "67459d50437b432dbe99a431fd8e2712",
       "version_major": 2,
       "version_minor": 0
      },
      "text/plain": [
       "HBox(children=(FloatProgress(value=0.0, description='[3] 2/15(val  )', max=165.0, style=ProgressStyle(descript…"
      ]
     },
     "metadata": {},
     "output_type": "display_data"
    },
    {
     "name": "stdout",
     "output_type": "stream",
     "text": [
      "\n",
      "[3] val Loss: 0.308261 Acc: 0.347661\n",
      " "
     ]
    },
    {
     "data": {
      "application/vnd.jupyter.widget-view+json": {
       "model_id": "b01e2871c5044cf088913830913d20af",
       "version_major": 2,
       "version_minor": 0
      },
      "text/plain": [
       "HBox(children=(FloatProgress(value=0.0, description='[3] 3/15(train)', max=493.0, style=ProgressStyle(descript…"
      ]
     },
     "metadata": {},
     "output_type": "display_data"
    },
    {
     "name": "stdout",
     "output_type": "stream",
     "text": [
      "\n",
      "[2] train Loss: 0.308485 Acc: 0.337771\n",
      " "
     ]
    },
    {
     "data": {
      "application/vnd.jupyter.widget-view+json": {
       "model_id": "f99eb1086925481692856241aa9b88e4",
       "version_major": 2,
       "version_minor": 0
      },
      "text/plain": [
       "HBox(children=(FloatProgress(value=0.0, description='[2] 2/15(val  )', max=165.0, style=ProgressStyle(descript…"
      ]
     },
     "metadata": {},
     "output_type": "display_data"
    },
    {
     "name": "stdout",
     "output_type": "stream",
     "text": [
      "\n",
      "[2] val Loss: 0.281663 Acc: 0.412324\n",
      " "
     ]
    },
    {
     "data": {
      "application/vnd.jupyter.widget-view+json": {
       "model_id": "836edcd086fa478a9a9f1ad717a38e6c",
       "version_major": 2,
       "version_minor": 0
      },
      "text/plain": [
       "HBox(children=(FloatProgress(value=0.0, description='[2] 3/15(train)', max=493.0, style=ProgressStyle(descript…"
      ]
     },
     "metadata": {},
     "output_type": "display_data"
    },
    {
     "name": "stdout",
     "output_type": "stream",
     "text": [
      "\n",
      "[3] train Loss: 0.290504 Acc: 0.384557\n",
      " "
     ]
    },
    {
     "data": {
      "application/vnd.jupyter.widget-view+json": {
       "model_id": "f94088b299374615a919fba95ed15878",
       "version_major": 2,
       "version_minor": 0
      },
      "text/plain": [
       "HBox(children=(FloatProgress(value=0.0, description='[3] 3/15(val  )', max=165.0, style=ProgressStyle(descript…"
      ]
     },
     "metadata": {},
     "output_type": "display_data"
    },
    {
     "name": "stdout",
     "output_type": "stream",
     "text": [
      "\n",
      "[3] val Loss: 0.321731 Acc: 0.276911\n",
      " "
     ]
    },
    {
     "data": {
      "application/vnd.jupyter.widget-view+json": {
       "model_id": "b88ff2bd45974adca1ca9057ae269d57",
       "version_major": 2,
       "version_minor": 0
      },
      "text/plain": [
       "HBox(children=(FloatProgress(value=0.0, description='[3] 4/15(train)', max=493.0, style=ProgressStyle(descript…"
      ]
     },
     "metadata": {},
     "output_type": "display_data"
    },
    {
     "name": "stdout",
     "output_type": "stream",
     "text": [
      "\n",
      "[2] train Loss: 0.291258 Acc: 0.364144\n",
      " "
     ]
    },
    {
     "data": {
      "application/vnd.jupyter.widget-view+json": {
       "model_id": "1d32b4955d10456b9204c4917e3aafc7",
       "version_major": 2,
       "version_minor": 0
      },
      "text/plain": [
       "HBox(children=(FloatProgress(value=0.0, description='[2] 3/15(val  )', max=165.0, style=ProgressStyle(descript…"
      ]
     },
     "metadata": {},
     "output_type": "display_data"
    },
    {
     "name": "stdout",
     "output_type": "stream",
     "text": [
      "\n",
      "[2] val Loss: 0.293463 Acc: 0.378471\n",
      " "
     ]
    },
    {
     "data": {
      "application/vnd.jupyter.widget-view+json": {
       "model_id": "b69855b63a6e4cfd997701476a350e7e",
       "version_major": 2,
       "version_minor": 0
      },
      "text/plain": [
       "HBox(children=(FloatProgress(value=0.0, description='[2] 4/15(train)', max=493.0, style=ProgressStyle(descript…"
      ]
     },
     "metadata": {},
     "output_type": "display_data"
    },
    {
     "name": "stdout",
     "output_type": "stream",
     "text": [
      "\n",
      "[3] train Loss: 0.278530 Acc: 0.404970\n",
      " "
     ]
    },
    {
     "data": {
      "application/vnd.jupyter.widget-view+json": {
       "model_id": "dd44f0d6a5cf475481efe2670b2a577a",
       "version_major": 2,
       "version_minor": 0
      },
      "text/plain": [
       "HBox(children=(FloatProgress(value=0.0, description='[3] 4/15(val  )', max=165.0, style=ProgressStyle(descript…"
      ]
     },
     "metadata": {},
     "output_type": "display_data"
    },
    {
     "name": "stdout",
     "output_type": "stream",
     "text": [
      "\n",
      "[3] val Loss: 0.378588 Acc: 0.300875\n",
      " "
     ]
    },
    {
     "data": {
      "application/vnd.jupyter.widget-view+json": {
       "model_id": "7c5dd8016ec140ce92e3501375657e08",
       "version_major": 2,
       "version_minor": 0
      },
      "text/plain": [
       "HBox(children=(FloatProgress(value=0.0, description='[3] 5/15(train)', max=493.0, style=ProgressStyle(descript…"
      ]
     },
     "metadata": {},
     "output_type": "display_data"
    },
    {
     "name": "stdout",
     "output_type": "stream",
     "text": [
      "\n",
      "[2] train Loss: 0.278894 Acc: 0.398884\n",
      " "
     ]
    },
    {
     "data": {
      "application/vnd.jupyter.widget-view+json": {
       "model_id": "4b00af0040ef4055a5c3e17bb0570fdd",
       "version_major": 2,
       "version_minor": 0
      },
      "text/plain": [
       "HBox(children=(FloatProgress(value=0.0, description='[2] 4/15(val  )', max=165.0, style=ProgressStyle(descript…"
      ]
     },
     "metadata": {},
     "output_type": "display_data"
    },
    {
     "name": "stdout",
     "output_type": "stream",
     "text": [
      "\n",
      "[2] val Loss: 0.276853 Acc: 0.405858\n",
      " "
     ]
    },
    {
     "data": {
      "application/vnd.jupyter.widget-view+json": {
       "model_id": "85f49227526c45dd9af9db6f87290eb8",
       "version_major": 2,
       "version_minor": 0
      },
      "text/plain": [
       "HBox(children=(FloatProgress(value=0.0, description='[2] 5/15(train)', max=493.0, style=ProgressStyle(descript…"
      ]
     },
     "metadata": {},
     "output_type": "display_data"
    },
    {
     "name": "stdout",
     "output_type": "stream",
     "text": [
      "\n",
      "[3] train Loss: 0.268258 Acc: 0.423355\n",
      " "
     ]
    },
    {
     "data": {
      "application/vnd.jupyter.widget-view+json": {
       "model_id": "0e159e5cec884e6088e473a1ffb12a3c",
       "version_major": 2,
       "version_minor": 0
      },
      "text/plain": [
       "HBox(children=(FloatProgress(value=0.0, description='[3] 5/15(val  )', max=165.0, style=ProgressStyle(descript…"
      ]
     },
     "metadata": {},
     "output_type": "display_data"
    },
    {
     "name": "stdout",
     "output_type": "stream",
     "text": [
      "\n",
      "[3] val Loss: 0.278990 Acc: 0.396348\n",
      " "
     ]
    },
    {
     "data": {
      "application/vnd.jupyter.widget-view+json": {
       "model_id": "fa0d8cf5271946b090c5db8171d31307",
       "version_major": 2,
       "version_minor": 0
      },
      "text/plain": [
       "HBox(children=(FloatProgress(value=0.0, description='[3] 6/15(train)', max=493.0, style=ProgressStyle(descript…"
      ]
     },
     "metadata": {},
     "output_type": "display_data"
    },
    {
     "name": "stdout",
     "output_type": "stream",
     "text": [
      "\n",
      "[2] train Loss: 0.271525 Acc: 0.408013\n",
      " "
     ]
    },
    {
     "data": {
      "application/vnd.jupyter.widget-view+json": {
       "model_id": "be9a98efed184dd0a77e7a8079c6cd1d",
       "version_major": 2,
       "version_minor": 0
      },
      "text/plain": [
       "HBox(children=(FloatProgress(value=0.0, description='[2] 5/15(val  )', max=165.0, style=ProgressStyle(descript…"
      ]
     },
     "metadata": {},
     "output_type": "display_data"
    },
    {
     "name": "stdout",
     "output_type": "stream",
     "text": [
      "\n",
      "[2] val Loss: 0.391431 Acc: 0.250666\n",
      " "
     ]
    },
    {
     "data": {
      "application/vnd.jupyter.widget-view+json": {
       "model_id": "434a481650db40fbbdc2666a4976b024",
       "version_major": 2,
       "version_minor": 0
      },
      "text/plain": [
       "HBox(children=(FloatProgress(value=0.0, description='[2] 6/15(train)', max=493.0, style=ProgressStyle(descript…"
      ]
     },
     "metadata": {},
     "output_type": "display_data"
    },
    {
     "name": "stdout",
     "output_type": "stream",
     "text": [
      "\n",
      "[3] train Loss: 0.261162 Acc: 0.450108\n",
      " "
     ]
    },
    {
     "data": {
      "application/vnd.jupyter.widget-view+json": {
       "model_id": "192bbaa142174a4f8e224aa39d6da23f",
       "version_major": 2,
       "version_minor": 0
      },
      "text/plain": [
       "HBox(children=(FloatProgress(value=0.0, description='[3] 6/15(val  )', max=165.0, style=ProgressStyle(descript…"
      ]
     },
     "metadata": {},
     "output_type": "display_data"
    },
    {
     "name": "stdout",
     "output_type": "stream",
     "text": [
      "\n",
      "[3] val Loss: 0.262893 Acc: 0.442374\n",
      " "
     ]
    },
    {
     "data": {
      "application/vnd.jupyter.widget-view+json": {
       "model_id": "38f3fde807f14151a98dcaaa022d6d48",
       "version_major": 2,
       "version_minor": 0
      },
      "text/plain": [
       "HBox(children=(FloatProgress(value=0.0, description='[3] 7/15(train)', max=493.0, style=ProgressStyle(descript…"
      ]
     },
     "metadata": {},
     "output_type": "display_data"
    },
    {
     "name": "stdout",
     "output_type": "stream",
     "text": [
      "\n",
      "[2] train Loss: 0.265152 Acc: 0.438443\n",
      " "
     ]
    },
    {
     "data": {
      "application/vnd.jupyter.widget-view+json": {
       "model_id": "ed518b5bfda04c4e87ce65dc654a0c30",
       "version_major": 2,
       "version_minor": 0
      },
      "text/plain": [
       "HBox(children=(FloatProgress(value=0.0, description='[2] 6/15(val  )', max=165.0, style=ProgressStyle(descript…"
      ]
     },
     "metadata": {},
     "output_type": "display_data"
    },
    {
     "name": "stdout",
     "output_type": "stream",
     "text": [
      "\n",
      "[2] val Loss: 0.282774 Acc: 0.407760\n",
      " "
     ]
    },
    {
     "data": {
      "application/vnd.jupyter.widget-view+json": {
       "model_id": "210e5c3e3c304966bfbba4f196374e8c",
       "version_major": 2,
       "version_minor": 0
      },
      "text/plain": [
       "HBox(children=(FloatProgress(value=0.0, description='[2] 7/15(train)', max=493.0, style=ProgressStyle(descript…"
      ]
     },
     "metadata": {},
     "output_type": "display_data"
    },
    {
     "name": "stdout",
     "output_type": "stream",
     "text": [
      "\n",
      "[3] train Loss: 0.254470 Acc: 0.454672\n",
      " "
     ]
    },
    {
     "data": {
      "application/vnd.jupyter.widget-view+json": {
       "model_id": "cefdd429bb0248db92ab6c5457475f98",
       "version_major": 2,
       "version_minor": 0
      },
      "text/plain": [
       "HBox(children=(FloatProgress(value=0.0, description='[3] 7/15(val  )', max=165.0, style=ProgressStyle(descript…"
      ]
     },
     "metadata": {},
     "output_type": "display_data"
    },
    {
     "name": "stdout",
     "output_type": "stream",
     "text": [
      "\n",
      "[3] val Loss: 0.368962 Acc: 0.373146\n",
      " "
     ]
    },
    {
     "data": {
      "application/vnd.jupyter.widget-view+json": {
       "model_id": "e26b372f64004ca597ef857713e2b4c5",
       "version_major": 2,
       "version_minor": 0
      },
      "text/plain": [
       "HBox(children=(FloatProgress(value=0.0, description='[3] 8/15(train)', max=493.0, style=ProgressStyle(descript…"
      ]
     },
     "metadata": {},
     "output_type": "display_data"
    },
    {
     "name": "stdout",
     "output_type": "stream",
     "text": [
      "\n",
      "[2] train Loss: 0.258441 Acc: 0.448206\n",
      " "
     ]
    },
    {
     "data": {
      "application/vnd.jupyter.widget-view+json": {
       "model_id": "7a699e2999ce4877a27bb5b2700e693a",
       "version_major": 2,
       "version_minor": 0
      },
      "text/plain": [
       "HBox(children=(FloatProgress(value=0.0, description='[2] 7/15(val  )', max=165.0, style=ProgressStyle(descript…"
      ]
     },
     "metadata": {},
     "output_type": "display_data"
    },
    {
     "name": "stdout",
     "output_type": "stream",
     "text": [
      "\n",
      "[3] train Loss: 0.250251 Acc: 0.465196\n",
      " "
     ]
    },
    {
     "data": {
      "application/vnd.jupyter.widget-view+json": {
       "model_id": "323caa9ba84146a2962d60f32357acc8",
       "version_major": 2,
       "version_minor": 0
      },
      "text/plain": [
       "HBox(children=(FloatProgress(value=0.0, description='[3] 8/15(val  )', max=165.0, style=ProgressStyle(descript…"
      ]
     },
     "metadata": {},
     "output_type": "display_data"
    },
    {
     "name": "stdout",
     "output_type": "stream",
     "text": [
      "\n",
      "Epoch     7: reducing learning rate of group 0 to 1.0000e-05.\n",
      "[2] val Loss: 0.299220 Acc: 0.397490\n",
      " "
     ]
    },
    {
     "data": {
      "application/vnd.jupyter.widget-view+json": {
       "model_id": "125a30c8591a4c44b9c6b84efd42a8a7",
       "version_major": 2,
       "version_minor": 0
      },
      "text/plain": [
       "HBox(children=(FloatProgress(value=0.0, description='[2] 8/15(train)', max=493.0, style=ProgressStyle(descript…"
      ]
     },
     "metadata": {},
     "output_type": "display_data"
    },
    {
     "name": "stdout",
     "output_type": "stream",
     "text": [
      "\n",
      "[3] val Loss: 0.264237 Acc: 0.447318\n",
      " "
     ]
    },
    {
     "data": {
      "application/vnd.jupyter.widget-view+json": {
       "model_id": "fe01ae06b5c046b598f4e388bb8b4865",
       "version_major": 2,
       "version_minor": 0
      },
      "text/plain": [
       "HBox(children=(FloatProgress(value=0.0, description='[3] 9/15(train)', max=493.0, style=ProgressStyle(descript…"
      ]
     },
     "metadata": {},
     "output_type": "display_data"
    },
    {
     "name": "stdout",
     "output_type": "stream",
     "text": [
      "\n",
      "[3] train Loss: 0.237853 Acc: 0.498922\n",
      " "
     ]
    },
    {
     "data": {
      "application/vnd.jupyter.widget-view+json": {
       "model_id": "3bca03b26e6c4608a095848ba6803bc3",
       "version_major": 2,
       "version_minor": 0
      },
      "text/plain": [
       "HBox(children=(FloatProgress(value=0.0, description='[3] 9/15(val  )', max=165.0, style=ProgressStyle(descript…"
      ]
     },
     "metadata": {},
     "output_type": "display_data"
    },
    {
     "name": "stdout",
     "output_type": "stream",
     "text": [
      "\n",
      "Epoch     9: reducing learning rate of group 0 to 1.0000e-05.\n",
      "[3] val Loss: 0.315953 Acc: 0.338532\n",
      " "
     ]
    },
    {
     "data": {
      "application/vnd.jupyter.widget-view+json": {
       "model_id": "67024c7c573a4831aca863bc282cf569",
       "version_major": 2,
       "version_minor": 0
      },
      "text/plain": [
       "HBox(children=(FloatProgress(value=0.0, description='[3] 10/15(train)', max=493.0, style=ProgressStyle(descrip…"
      ]
     },
     "metadata": {},
     "output_type": "display_data"
    },
    {
     "name": "stdout",
     "output_type": "stream",
     "text": [
      "\n",
      "[2] train Loss: 0.233621 Acc: 0.501331\n",
      " "
     ]
    },
    {
     "data": {
      "application/vnd.jupyter.widget-view+json": {
       "model_id": "235613122e2747c59858d8874d8283cf",
       "version_major": 2,
       "version_minor": 0
      },
      "text/plain": [
       "HBox(children=(FloatProgress(value=0.0, description='[2] 8/15(val  )', max=165.0, style=ProgressStyle(descript…"
      ]
     },
     "metadata": {},
     "output_type": "display_data"
    },
    {
     "name": "stdout",
     "output_type": "stream",
     "text": [
      "\n",
      "[2] val Loss: 0.250333 Acc: 0.473184\n",
      " "
     ]
    },
    {
     "data": {
      "application/vnd.jupyter.widget-view+json": {
       "model_id": "83277906c7de468a830f5128d9600693",
       "version_major": 2,
       "version_minor": 0
      },
      "text/plain": [
       "HBox(children=(FloatProgress(value=0.0, description='[2] 9/15(train)', max=493.0, style=ProgressStyle(descript…"
      ]
     },
     "metadata": {},
     "output_type": "display_data"
    },
    {
     "name": "stdout",
     "output_type": "stream",
     "text": [
      "\n",
      "[3] train Loss: 0.193848 Acc: 0.617218\n",
      " "
     ]
    },
    {
     "data": {
      "application/vnd.jupyter.widget-view+json": {
       "model_id": "79291a2aabad465788ea9daf04825aaa",
       "version_major": 2,
       "version_minor": 0
      },
      "text/plain": [
       "HBox(children=(FloatProgress(value=0.0, description='[3] 10/15(val  )', max=165.0, style=ProgressStyle(descrip…"
      ]
     },
     "metadata": {},
     "output_type": "display_data"
    },
    {
     "name": "stdout",
     "output_type": "stream",
     "text": [
      "\n",
      "[3] val Loss: 0.252166 Acc: 0.469760\n",
      " "
     ]
    },
    {
     "data": {
      "application/vnd.jupyter.widget-view+json": {
       "model_id": "d8a4dbd184574b0d99b417d51639d8da",
       "version_major": 2,
       "version_minor": 0
      },
      "text/plain": [
       "HBox(children=(FloatProgress(value=0.0, description='[3] 11/15(train)', max=493.0, style=ProgressStyle(descrip…"
      ]
     },
     "metadata": {},
     "output_type": "display_data"
    },
    {
     "name": "stdout",
     "output_type": "stream",
     "text": [
      "\n",
      "[2] train Loss: 0.214309 Acc: 0.558387\n",
      " "
     ]
    },
    {
     "data": {
      "application/vnd.jupyter.widget-view+json": {
       "model_id": "6551c38c1e7944e699ab6b2a39fcb8b1",
       "version_major": 2,
       "version_minor": 0
      },
      "text/plain": [
       "HBox(children=(FloatProgress(value=0.0, description='[2] 9/15(val  )', max=165.0, style=ProgressStyle(descript…"
      ]
     },
     "metadata": {},
     "output_type": "display_data"
    },
    {
     "name": "stdout",
     "output_type": "stream",
     "text": [
      "\n",
      "[2] val Loss: 0.242286 Acc: 0.502092\n",
      " "
     ]
    },
    {
     "data": {
      "application/vnd.jupyter.widget-view+json": {
       "model_id": "9eb5e171ad9d459c9b0afbfd2f66cbd1",
       "version_major": 2,
       "version_minor": 0
      },
      "text/plain": [
       "HBox(children=(FloatProgress(value=0.0, description='[2] 10/15(train)', max=493.0, style=ProgressStyle(descrip…"
      ]
     },
     "metadata": {},
     "output_type": "display_data"
    },
    {
     "name": "stdout",
     "output_type": "stream",
     "text": [
      "\n",
      "[3] train Loss: 0.158451 Acc: 0.710790\n",
      " "
     ]
    },
    {
     "data": {
      "application/vnd.jupyter.widget-view+json": {
       "model_id": "f2a2f7cbcda242d9a760fc6466a96db0",
       "version_major": 2,
       "version_minor": 0
      },
      "text/plain": [
       "HBox(children=(FloatProgress(value=0.0, description='[3] 11/15(val  )', max=165.0, style=ProgressStyle(descrip…"
      ]
     },
     "metadata": {},
     "output_type": "display_data"
    },
    {
     "name": "stdout",
     "output_type": "stream",
     "text": [
      "\n",
      "[3] val Loss: 0.262149 Acc: 0.464435\n",
      " "
     ]
    },
    {
     "data": {
      "application/vnd.jupyter.widget-view+json": {
       "model_id": "369df5ec51a34c02a4fa67fe1e4691dd",
       "version_major": 2,
       "version_minor": 0
      },
      "text/plain": [
       "HBox(children=(FloatProgress(value=0.0, description='[3] 12/15(train)', max=493.0, style=ProgressStyle(descrip…"
      ]
     },
     "metadata": {},
     "output_type": "display_data"
    },
    {
     "name": "stdout",
     "output_type": "stream",
     "text": [
      "\n",
      "[2] train Loss: 0.189268 Acc: 0.617852\n",
      " "
     ]
    },
    {
     "data": {
      "application/vnd.jupyter.widget-view+json": {
       "model_id": "779ebca63acd4f45b51a523bf66c918f",
       "version_major": 2,
       "version_minor": 0
      },
      "text/plain": [
       "HBox(children=(FloatProgress(value=0.0, description='[2] 10/15(val  )', max=165.0, style=ProgressStyle(descrip…"
      ]
     },
     "metadata": {},
     "output_type": "display_data"
    },
    {
     "name": "stdout",
     "output_type": "stream",
     "text": [
      "\n",
      "[2] val Loss: 0.247886 Acc: 0.477748\n",
      " "
     ]
    },
    {
     "data": {
      "application/vnd.jupyter.widget-view+json": {
       "model_id": "cd1f8e561d3b4d98a7a8100f6a1e6d76",
       "version_major": 2,
       "version_minor": 0
      },
      "text/plain": [
       "HBox(children=(FloatProgress(value=0.0, description='[2] 11/15(train)', max=493.0, style=ProgressStyle(descrip…"
      ]
     },
     "metadata": {},
     "output_type": "display_data"
    },
    {
     "name": "stdout",
     "output_type": "stream",
     "text": [
      "\n",
      "[3] train Loss: 0.127662 Acc: 0.792443\n",
      " "
     ]
    },
    {
     "data": {
      "application/vnd.jupyter.widget-view+json": {
       "model_id": "16497bd83aaf4effb0677cfab0fc422d",
       "version_major": 2,
       "version_minor": 0
      },
      "text/plain": [
       "HBox(children=(FloatProgress(value=0.0, description='[3] 12/15(val  )', max=165.0, style=ProgressStyle(descrip…"
      ]
     },
     "metadata": {},
     "output_type": "display_data"
    },
    {
     "name": "stdout",
     "output_type": "stream",
     "text": [
      "\n",
      "[3] val Loss: 0.268221 Acc: 0.453024\n",
      " "
     ]
    },
    {
     "data": {
      "application/vnd.jupyter.widget-view+json": {
       "model_id": "dbcb9ac5768c434790d1bec5423a31ef",
       "version_major": 2,
       "version_minor": 0
      },
      "text/plain": [
       "HBox(children=(FloatProgress(value=0.0, description='[3] 13/15(train)', max=493.0, style=ProgressStyle(descrip…"
      ]
     },
     "metadata": {},
     "output_type": "display_data"
    },
    {
     "name": "stdout",
     "output_type": "stream",
     "text": [
      "\n",
      "[2] train Loss: 0.155214 Acc: 0.711170\n",
      " "
     ]
    },
    {
     "data": {
      "application/vnd.jupyter.widget-view+json": {
       "model_id": "c35eb47f198a4ba590e09d6d38a8a068",
       "version_major": 2,
       "version_minor": 0
      },
      "text/plain": [
       "HBox(children=(FloatProgress(value=0.0, description='[2] 11/15(val  )', max=165.0, style=ProgressStyle(descrip…"
      ]
     },
     "metadata": {},
     "output_type": "display_data"
    },
    {
     "name": "stdout",
     "output_type": "stream",
     "text": [
      "\n",
      "[2] val Loss: 0.264117 Acc: 0.452263\n",
      " "
     ]
    },
    {
     "data": {
      "application/vnd.jupyter.widget-view+json": {
       "model_id": "1612abf292fc4345bf7c3f9a8d3a2665",
       "version_major": 2,
       "version_minor": 0
      },
      "text/plain": [
       "HBox(children=(FloatProgress(value=0.0, description='[2] 12/15(train)', max=493.0, style=ProgressStyle(descrip…"
      ]
     },
     "metadata": {},
     "output_type": "display_data"
    },
    {
     "name": "stdout",
     "output_type": "stream",
     "text": [
      "\n",
      "[3] train Loss: 0.096126 Acc: 0.871941\n",
      " "
     ]
    },
    {
     "data": {
      "application/vnd.jupyter.widget-view+json": {
       "model_id": "f1fe8a4f20b24e099ce5f0f22d1db317",
       "version_major": 2,
       "version_minor": 0
      },
      "text/plain": [
       "HBox(children=(FloatProgress(value=0.0, description='[3] 13/15(val  )', max=165.0, style=ProgressStyle(descrip…"
      ]
     },
     "metadata": {},
     "output_type": "display_data"
    },
    {
     "name": "stdout",
     "output_type": "stream",
     "text": [
      "\n",
      "Epoch    13: reducing learning rate of group 0 to 1.0000e-06.\n",
      "[3] val Loss: 0.282800 Acc: 0.441613\n",
      " "
     ]
    },
    {
     "data": {
      "application/vnd.jupyter.widget-view+json": {
       "model_id": "3cbd5c2a35774b6b88f3dc8ed8f3c83c",
       "version_major": 2,
       "version_minor": 0
      },
      "text/plain": [
       "HBox(children=(FloatProgress(value=0.0, description='[3] 14/15(train)', max=493.0, style=ProgressStyle(descrip…"
      ]
     },
     "metadata": {},
     "output_type": "display_data"
    },
    {
     "name": "stdout",
     "output_type": "stream",
     "text": [
      "\n",
      "[2] train Loss: 0.118891 Acc: 0.809053\n",
      " "
     ]
    },
    {
     "data": {
      "application/vnd.jupyter.widget-view+json": {
       "model_id": "4b0cf2c0b5a545a49e02c69c4af91e8d",
       "version_major": 2,
       "version_minor": 0
      },
      "text/plain": [
       "HBox(children=(FloatProgress(value=0.0, description='[2] 12/15(val  )', max=165.0, style=ProgressStyle(descrip…"
      ]
     },
     "metadata": {},
     "output_type": "display_data"
    },
    {
     "name": "stdout",
     "output_type": "stream",
     "text": [
      "\n",
      "Epoch    12: reducing learning rate of group 0 to 1.0000e-06.\n",
      "[2] val Loss: 0.269797 Acc: 0.452263\n",
      " "
     ]
    },
    {
     "data": {
      "application/vnd.jupyter.widget-view+json": {
       "model_id": "7fbccd373d74489ab1e5d7ef3425e3ca",
       "version_major": 2,
       "version_minor": 0
      },
      "text/plain": [
       "HBox(children=(FloatProgress(value=0.0, description='[2] 13/15(train)', max=493.0, style=ProgressStyle(descrip…"
      ]
     },
     "metadata": {},
     "output_type": "display_data"
    },
    {
     "name": "stdout",
     "output_type": "stream",
     "text": [
      "\n",
      "[3] train Loss: 0.070182 Acc: 0.940408\n",
      " "
     ]
    },
    {
     "data": {
      "application/vnd.jupyter.widget-view+json": {
       "model_id": "c215f8296d224f2ebb57a8d6a3bd202a",
       "version_major": 2,
       "version_minor": 0
      },
      "text/plain": [
       "HBox(children=(FloatProgress(value=0.0, description='[3] 14/15(val  )', max=165.0, style=ProgressStyle(descrip…"
      ]
     },
     "metadata": {},
     "output_type": "display_data"
    },
    {
     "name": "stdout",
     "output_type": "stream",
     "text": [
      "\n",
      "[3] val Loss: 0.279419 Acc: 0.438189\n",
      " "
     ]
    },
    {
     "data": {
      "application/vnd.jupyter.widget-view+json": {
       "model_id": "9c036c2f4ac64199a174f1a8e902f467",
       "version_major": 2,
       "version_minor": 0
      },
      "text/plain": [
       "HBox(children=(FloatProgress(value=0.0, description='[3] 15/15(train)', max=493.0, style=ProgressStyle(descrip…"
      ]
     },
     "metadata": {},
     "output_type": "display_data"
    },
    {
     "name": "stdout",
     "output_type": "stream",
     "text": [
      "\n",
      "[2] train Loss: 0.089394 Acc: 0.897299\n",
      " "
     ]
    },
    {
     "data": {
      "application/vnd.jupyter.widget-view+json": {
       "model_id": "7e4bfc1ce79b48d59f776bd7418d0ae0",
       "version_major": 2,
       "version_minor": 0
      },
      "text/plain": [
       "HBox(children=(FloatProgress(value=0.0, description='[2] 13/15(val  )', max=165.0, style=ProgressStyle(descrip…"
      ]
     },
     "metadata": {},
     "output_type": "display_data"
    },
    {
     "name": "stdout",
     "output_type": "stream",
     "text": [
      "\n",
      "[2] val Loss: 0.261761 Acc: 0.465576\n",
      " "
     ]
    },
    {
     "data": {
      "application/vnd.jupyter.widget-view+json": {
       "model_id": "1330de3c311841e0bbbaaae93d9b6efb",
       "version_major": 2,
       "version_minor": 0
      },
      "text/plain": [
       "HBox(children=(FloatProgress(value=0.0, description='[2] 14/15(train)', max=493.0, style=ProgressStyle(descrip…"
      ]
     },
     "metadata": {},
     "output_type": "display_data"
    },
    {
     "name": "stdout",
     "output_type": "stream",
     "text": [
      "\n",
      "[3] train Loss: 0.066964 Acc: 0.947382\n",
      " "
     ]
    },
    {
     "data": {
      "application/vnd.jupyter.widget-view+json": {
       "model_id": "ba70264dafa4427daaf1667c3253319e",
       "version_major": 2,
       "version_minor": 0
      },
      "text/plain": [
       "HBox(children=(FloatProgress(value=0.0, description='[3] 15/15(val  )', max=165.0, style=ProgressStyle(descrip…"
      ]
     },
     "metadata": {},
     "output_type": "display_data"
    },
    {
     "name": "stdout",
     "output_type": "stream",
     "text": [
      "\n",
      "[3] val Loss: 0.281709 Acc: 0.441613\n",
      "[3] Training complete in 285m 21.423690s\n",
      "[3] Best val Acc: 0.469760\n",
      "\n"
     ]
    },
    {
     "name": "stderr",
     "output_type": "stream",
     "text": [
      "Exception in thread Thread-6:\n",
      "Traceback (most recent call last):\n",
      "  File \"/opt/conda/lib/python3.7/threading.py\", line 926, in _bootstrap_inner\n",
      "    self.run()\n",
      "  File \"/opt/conda/lib/python3.7/threading.py\", line 870, in run\n",
      "    self._target(*self._args, **self._kwargs)\n",
      "  File \"/opt/conda/lib/python3.7/multiprocessing/pool.py\", line 470, in _handle_results\n",
      "    task = get()\n",
      "  File \"/opt/conda/lib/python3.7/multiprocessing/connection.py\", line 251, in recv\n",
      "    return _ForkingPickler.loads(buf.getbuffer())\n",
      "  File \"/opt/conda/lib/python3.7/site-packages/torch/multiprocessing/reductions.py\", line 119, in rebuild_cuda_tensor\n",
      "    event_sync_required)\n",
      "RuntimeError: CUDA error: out of memory\n",
      "\n"
     ]
    },
    {
     "name": "stdout",
     "output_type": "stream",
     "text": [
      "\n",
      "[2] train Loss: 0.081846 Acc: 0.912514\n",
      " "
     ]
    },
    {
     "data": {
      "application/vnd.jupyter.widget-view+json": {
       "model_id": "7939fb1ec9d84ba2b2cc7bd413e06e3a",
       "version_major": 2,
       "version_minor": 0
      },
      "text/plain": [
       "HBox(children=(FloatProgress(value=0.0, description='[2] 14/15(val  )', max=165.0, style=ProgressStyle(descrip…"
      ]
     },
     "metadata": {},
     "output_type": "display_data"
    },
    {
     "name": "stdout",
     "output_type": "stream",
     "text": [
      "\n",
      "[2] val Loss: 0.263210 Acc: 0.465196\n",
      " "
     ]
    },
    {
     "data": {
      "application/vnd.jupyter.widget-view+json": {
       "model_id": "d462c7f3d82e42dbbccb0bd3c92546a5",
       "version_major": 2,
       "version_minor": 0
      },
      "text/plain": [
       "HBox(children=(FloatProgress(value=0.0, description='[2] 15/15(train)', max=493.0, style=ProgressStyle(descrip…"
      ]
     },
     "metadata": {},
     "output_type": "display_data"
    },
    {
     "name": "stdout",
     "output_type": "stream",
     "text": [
      "\n",
      "[2] train Loss: 0.079155 Acc: 0.917966\n",
      " "
     ]
    },
    {
     "data": {
      "application/vnd.jupyter.widget-view+json": {
       "model_id": "465504fffa814d8395364704cd0867b5",
       "version_major": 2,
       "version_minor": 0
      },
      "text/plain": [
       "HBox(children=(FloatProgress(value=0.0, description='[2] 15/15(val  )', max=165.0, style=ProgressStyle(descrip…"
      ]
     },
     "metadata": {},
     "output_type": "display_data"
    },
    {
     "name": "stdout",
     "output_type": "stream",
     "text": [
      "\n",
      "[2] val Loss: 0.265510 Acc: 0.465576\n",
      "[2] Training complete in 305m 42.307474s\n",
      "[2] Best val Acc: 0.502092\n",
      "\n"
     ]
    },
    {
     "name": "stderr",
     "output_type": "stream",
     "text": [
      "Process NoDaemonPoolWorker-2:\n",
      "Process NoDaemonPoolWorker-4:\n",
      "Process NoDaemonPoolWorker-3:\n",
      "Process NoDaemonPoolWorker-1:\n",
      "Traceback (most recent call last):\n",
      "Traceback (most recent call last):\n",
      "Traceback (most recent call last):\n",
      "Traceback (most recent call last):\n",
      "  File \"/opt/conda/lib/python3.7/multiprocessing/process.py\", line 297, in _bootstrap\n",
      "    self.run()\n",
      "  File \"/opt/conda/lib/python3.7/multiprocessing/process.py\", line 297, in _bootstrap\n",
      "    self.run()\n",
      "  File \"/opt/conda/lib/python3.7/multiprocessing/process.py\", line 297, in _bootstrap\n",
      "    self.run()\n",
      "  File \"/opt/conda/lib/python3.7/multiprocessing/process.py\", line 297, in _bootstrap\n",
      "    self.run()\n",
      "  File \"/opt/conda/lib/python3.7/multiprocessing/process.py\", line 99, in run\n",
      "    self._target(*self._args, **self._kwargs)\n",
      "  File \"/opt/conda/lib/python3.7/multiprocessing/process.py\", line 99, in run\n",
      "    self._target(*self._args, **self._kwargs)\n",
      "  File \"/opt/conda/lib/python3.7/multiprocessing/process.py\", line 99, in run\n",
      "    self._target(*self._args, **self._kwargs)\n",
      "  File \"/opt/conda/lib/python3.7/multiprocessing/process.py\", line 99, in run\n",
      "    self._target(*self._args, **self._kwargs)\n",
      "  File \"/opt/conda/lib/python3.7/multiprocessing/pool.py\", line 110, in worker\n",
      "    task = get()\n",
      "  File \"/opt/conda/lib/python3.7/multiprocessing/pool.py\", line 110, in worker\n",
      "    task = get()\n",
      "  File \"/opt/conda/lib/python3.7/multiprocessing/pool.py\", line 110, in worker\n",
      "    task = get()\n",
      "  File \"/opt/conda/lib/python3.7/multiprocessing/queues.py\", line 351, in get\n",
      "    with self._rlock:\n",
      "  File \"/opt/conda/lib/python3.7/multiprocessing/queues.py\", line 352, in get\n",
      "    res = self._reader.recv_bytes()\n",
      "  File \"/opt/conda/lib/python3.7/multiprocessing/pool.py\", line 110, in worker\n",
      "    task = get()\n",
      "  File \"/opt/conda/lib/python3.7/multiprocessing/queues.py\", line 351, in get\n",
      "    with self._rlock:\n",
      "  File \"/opt/conda/lib/python3.7/multiprocessing/synchronize.py\", line 95, in __enter__\n",
      "    return self._semlock.__enter__()\n",
      "  File \"/opt/conda/lib/python3.7/multiprocessing/connection.py\", line 216, in recv_bytes\n",
      "    buf = self._recv_bytes(maxlength)\n",
      "  File \"/opt/conda/lib/python3.7/multiprocessing/synchronize.py\", line 95, in __enter__\n",
      "    return self._semlock.__enter__()\n",
      "  File \"/opt/conda/lib/python3.7/multiprocessing/connection.py\", line 407, in _recv_bytes\n",
      "    buf = self._recv(4)\n",
      "  File \"/opt/conda/lib/python3.7/multiprocessing/queues.py\", line 351, in get\n",
      "    with self._rlock:\n",
      "KeyboardInterrupt\n",
      "  File \"/opt/conda/lib/python3.7/multiprocessing/synchronize.py\", line 95, in __enter__\n",
      "    return self._semlock.__enter__()\n",
      "KeyboardInterrupt\n",
      "  File \"/opt/conda/lib/python3.7/multiprocessing/connection.py\", line 379, in _recv\n",
      "    chunk = read(handle, remaining)\n",
      "KeyboardInterrupt\n",
      "KeyboardInterrupt\n"
     ]
    },
    {
     "ename": "KeyboardInterrupt",
     "evalue": "",
     "output_type": "error",
     "traceback": [
      "\u001b[0;31m---------------------------------------------------------------------------\u001b[0m",
      "\u001b[0;31mKeyboardInterrupt\u001b[0m                         Traceback (most recent call last)",
      "\u001b[0;32m<ipython-input-13-dfb0e079becd>\u001b[0m in \u001b[0;36m<module>\u001b[0;34m\u001b[0m\n\u001b[1;32m      8\u001b[0m \u001b[0;34m\u001b[0m\u001b[0m\n\u001b[1;32m      9\u001b[0m \u001b[0mnfold\u001b[0m \u001b[0;34m=\u001b[0m \u001b[0mrange\u001b[0m\u001b[0;34m(\u001b[0m\u001b[0mCFG\u001b[0m\u001b[0;34m.\u001b[0m\u001b[0mnfolds\u001b[0m\u001b[0;34m)\u001b[0m\u001b[0;34m\u001b[0m\u001b[0;34m\u001b[0m\u001b[0m\n\u001b[0;32m---> 10\u001b[0;31m \u001b[0mresult_list\u001b[0m \u001b[0;34m=\u001b[0m \u001b[0mlist\u001b[0m\u001b[0;34m(\u001b[0m\u001b[0mMyPool\u001b[0m\u001b[0;34m(\u001b[0m\u001b[0mCFG\u001b[0m\u001b[0;34m.\u001b[0m\u001b[0mnfolds\u001b[0m\u001b[0;34m)\u001b[0m\u001b[0;34m.\u001b[0m\u001b[0mmap\u001b[0m\u001b[0;34m(\u001b[0m\u001b[0mprogressor\u001b[0m\u001b[0;34m,\u001b[0m \u001b[0mnfold\u001b[0m\u001b[0;34m)\u001b[0m\u001b[0;34m)\u001b[0m\u001b[0;34m\u001b[0m\u001b[0;34m\u001b[0m\u001b[0m\n\u001b[0m\u001b[1;32m     11\u001b[0m \u001b[0;34m\u001b[0m\u001b[0m\n\u001b[1;32m     12\u001b[0m \u001b[0;31m# Accumulate result from each process\u001b[0m\u001b[0;34m\u001b[0m\u001b[0;34m\u001b[0m\u001b[0;34m\u001b[0m\u001b[0m\n",
      "\u001b[0;32m/opt/conda/lib/python3.7/multiprocessing/pool.py\u001b[0m in \u001b[0;36mmap\u001b[0;34m(self, func, iterable, chunksize)\u001b[0m\n\u001b[1;32m    266\u001b[0m         \u001b[0;32min\u001b[0m \u001b[0ma\u001b[0m \u001b[0mlist\u001b[0m \u001b[0mthat\u001b[0m \u001b[0;32mis\u001b[0m \u001b[0mreturned\u001b[0m\u001b[0;34m.\u001b[0m\u001b[0;34m\u001b[0m\u001b[0;34m\u001b[0m\u001b[0m\n\u001b[1;32m    267\u001b[0m         '''\n\u001b[0;32m--> 268\u001b[0;31m         \u001b[0;32mreturn\u001b[0m \u001b[0mself\u001b[0m\u001b[0;34m.\u001b[0m\u001b[0m_map_async\u001b[0m\u001b[0;34m(\u001b[0m\u001b[0mfunc\u001b[0m\u001b[0;34m,\u001b[0m \u001b[0miterable\u001b[0m\u001b[0;34m,\u001b[0m \u001b[0mmapstar\u001b[0m\u001b[0;34m,\u001b[0m \u001b[0mchunksize\u001b[0m\u001b[0;34m)\u001b[0m\u001b[0;34m.\u001b[0m\u001b[0mget\u001b[0m\u001b[0;34m(\u001b[0m\u001b[0;34m)\u001b[0m\u001b[0;34m\u001b[0m\u001b[0;34m\u001b[0m\u001b[0m\n\u001b[0m\u001b[1;32m    269\u001b[0m \u001b[0;34m\u001b[0m\u001b[0m\n\u001b[1;32m    270\u001b[0m     \u001b[0;32mdef\u001b[0m \u001b[0mstarmap\u001b[0m\u001b[0;34m(\u001b[0m\u001b[0mself\u001b[0m\u001b[0;34m,\u001b[0m \u001b[0mfunc\u001b[0m\u001b[0;34m,\u001b[0m \u001b[0miterable\u001b[0m\u001b[0;34m,\u001b[0m \u001b[0mchunksize\u001b[0m\u001b[0;34m=\u001b[0m\u001b[0;32mNone\u001b[0m\u001b[0;34m)\u001b[0m\u001b[0;34m:\u001b[0m\u001b[0;34m\u001b[0m\u001b[0;34m\u001b[0m\u001b[0m\n",
      "\u001b[0;32m/opt/conda/lib/python3.7/multiprocessing/pool.py\u001b[0m in \u001b[0;36mget\u001b[0;34m(self, timeout)\u001b[0m\n\u001b[1;32m    649\u001b[0m \u001b[0;34m\u001b[0m\u001b[0m\n\u001b[1;32m    650\u001b[0m     \u001b[0;32mdef\u001b[0m \u001b[0mget\u001b[0m\u001b[0;34m(\u001b[0m\u001b[0mself\u001b[0m\u001b[0;34m,\u001b[0m \u001b[0mtimeout\u001b[0m\u001b[0;34m=\u001b[0m\u001b[0;32mNone\u001b[0m\u001b[0;34m)\u001b[0m\u001b[0;34m:\u001b[0m\u001b[0;34m\u001b[0m\u001b[0;34m\u001b[0m\u001b[0m\n\u001b[0;32m--> 651\u001b[0;31m         \u001b[0mself\u001b[0m\u001b[0;34m.\u001b[0m\u001b[0mwait\u001b[0m\u001b[0;34m(\u001b[0m\u001b[0mtimeout\u001b[0m\u001b[0;34m)\u001b[0m\u001b[0;34m\u001b[0m\u001b[0;34m\u001b[0m\u001b[0m\n\u001b[0m\u001b[1;32m    652\u001b[0m         \u001b[0;32mif\u001b[0m \u001b[0;32mnot\u001b[0m \u001b[0mself\u001b[0m\u001b[0;34m.\u001b[0m\u001b[0mready\u001b[0m\u001b[0;34m(\u001b[0m\u001b[0;34m)\u001b[0m\u001b[0;34m:\u001b[0m\u001b[0;34m\u001b[0m\u001b[0;34m\u001b[0m\u001b[0m\n\u001b[1;32m    653\u001b[0m             \u001b[0;32mraise\u001b[0m \u001b[0mTimeoutError\u001b[0m\u001b[0;34m\u001b[0m\u001b[0;34m\u001b[0m\u001b[0m\n",
      "\u001b[0;32m/opt/conda/lib/python3.7/multiprocessing/pool.py\u001b[0m in \u001b[0;36mwait\u001b[0;34m(self, timeout)\u001b[0m\n\u001b[1;32m    646\u001b[0m \u001b[0;34m\u001b[0m\u001b[0m\n\u001b[1;32m    647\u001b[0m     \u001b[0;32mdef\u001b[0m \u001b[0mwait\u001b[0m\u001b[0;34m(\u001b[0m\u001b[0mself\u001b[0m\u001b[0;34m,\u001b[0m \u001b[0mtimeout\u001b[0m\u001b[0;34m=\u001b[0m\u001b[0;32mNone\u001b[0m\u001b[0;34m)\u001b[0m\u001b[0;34m:\u001b[0m\u001b[0;34m\u001b[0m\u001b[0;34m\u001b[0m\u001b[0m\n\u001b[0;32m--> 648\u001b[0;31m         \u001b[0mself\u001b[0m\u001b[0;34m.\u001b[0m\u001b[0m_event\u001b[0m\u001b[0;34m.\u001b[0m\u001b[0mwait\u001b[0m\u001b[0;34m(\u001b[0m\u001b[0mtimeout\u001b[0m\u001b[0;34m)\u001b[0m\u001b[0;34m\u001b[0m\u001b[0;34m\u001b[0m\u001b[0m\n\u001b[0m\u001b[1;32m    649\u001b[0m \u001b[0;34m\u001b[0m\u001b[0m\n\u001b[1;32m    650\u001b[0m     \u001b[0;32mdef\u001b[0m \u001b[0mget\u001b[0m\u001b[0;34m(\u001b[0m\u001b[0mself\u001b[0m\u001b[0;34m,\u001b[0m \u001b[0mtimeout\u001b[0m\u001b[0;34m=\u001b[0m\u001b[0;32mNone\u001b[0m\u001b[0;34m)\u001b[0m\u001b[0;34m:\u001b[0m\u001b[0;34m\u001b[0m\u001b[0;34m\u001b[0m\u001b[0m\n",
      "\u001b[0;32m/opt/conda/lib/python3.7/threading.py\u001b[0m in \u001b[0;36mwait\u001b[0;34m(self, timeout)\u001b[0m\n\u001b[1;32m    550\u001b[0m             \u001b[0msignaled\u001b[0m \u001b[0;34m=\u001b[0m \u001b[0mself\u001b[0m\u001b[0;34m.\u001b[0m\u001b[0m_flag\u001b[0m\u001b[0;34m\u001b[0m\u001b[0;34m\u001b[0m\u001b[0m\n\u001b[1;32m    551\u001b[0m             \u001b[0;32mif\u001b[0m \u001b[0;32mnot\u001b[0m \u001b[0msignaled\u001b[0m\u001b[0;34m:\u001b[0m\u001b[0;34m\u001b[0m\u001b[0;34m\u001b[0m\u001b[0m\n\u001b[0;32m--> 552\u001b[0;31m                 \u001b[0msignaled\u001b[0m \u001b[0;34m=\u001b[0m \u001b[0mself\u001b[0m\u001b[0;34m.\u001b[0m\u001b[0m_cond\u001b[0m\u001b[0;34m.\u001b[0m\u001b[0mwait\u001b[0m\u001b[0;34m(\u001b[0m\u001b[0mtimeout\u001b[0m\u001b[0;34m)\u001b[0m\u001b[0;34m\u001b[0m\u001b[0;34m\u001b[0m\u001b[0m\n\u001b[0m\u001b[1;32m    553\u001b[0m             \u001b[0;32mreturn\u001b[0m \u001b[0msignaled\u001b[0m\u001b[0;34m\u001b[0m\u001b[0;34m\u001b[0m\u001b[0m\n\u001b[1;32m    554\u001b[0m \u001b[0;34m\u001b[0m\u001b[0m\n",
      "\u001b[0;32m/opt/conda/lib/python3.7/threading.py\u001b[0m in \u001b[0;36mwait\u001b[0;34m(self, timeout)\u001b[0m\n\u001b[1;32m    294\u001b[0m         \u001b[0;32mtry\u001b[0m\u001b[0;34m:\u001b[0m    \u001b[0;31m# restore state no matter what (e.g., KeyboardInterrupt)\u001b[0m\u001b[0;34m\u001b[0m\u001b[0;34m\u001b[0m\u001b[0m\n\u001b[1;32m    295\u001b[0m             \u001b[0;32mif\u001b[0m \u001b[0mtimeout\u001b[0m \u001b[0;32mis\u001b[0m \u001b[0;32mNone\u001b[0m\u001b[0;34m:\u001b[0m\u001b[0;34m\u001b[0m\u001b[0;34m\u001b[0m\u001b[0m\n\u001b[0;32m--> 296\u001b[0;31m                 \u001b[0mwaiter\u001b[0m\u001b[0;34m.\u001b[0m\u001b[0macquire\u001b[0m\u001b[0;34m(\u001b[0m\u001b[0;34m)\u001b[0m\u001b[0;34m\u001b[0m\u001b[0;34m\u001b[0m\u001b[0m\n\u001b[0m\u001b[1;32m    297\u001b[0m                 \u001b[0mgotit\u001b[0m \u001b[0;34m=\u001b[0m \u001b[0;32mTrue\u001b[0m\u001b[0;34m\u001b[0m\u001b[0;34m\u001b[0m\u001b[0m\n\u001b[1;32m    298\u001b[0m             \u001b[0;32melse\u001b[0m\u001b[0;34m:\u001b[0m\u001b[0;34m\u001b[0m\u001b[0;34m\u001b[0m\u001b[0m\n",
      "\u001b[0;31mKeyboardInterrupt\u001b[0m: "
     ]
    }
   ],
   "source": [
    "log_dict = {'batch_size': CFG.batch_size,\n",
    "            'epochs': CFG.epochs,\n",
    "            'learning_rate': CFG.lr,\n",
    "            'model': CFG.model_name,\n",
    "            'nworkers': CFG.nworkers,\n",
    "            'nfolds': CFG.nfolds,\n",
    "            'random_seed': CFG.seed}\n",
    "\n",
    "nfold = range(CFG.nfolds)\n",
    "result_list = list(MyPool(CFG.nfolds).map(progressor, nfold))\n",
    "\n",
    "# Accumulate result from each process\n",
    "for result in result_list:\n",
    "    log_dict.update(result)\n",
    "\n",
    "# Log results\n",
    "log_file = f'{CFG.model_name}_{datetime.now().strftime(\"%m_%d_%Y_%H_%M\")}.pkl'\n",
    "with open(log_file, 'wb') as pkl_file:\n",
    "    pickle.dump(log_dict, pkl_file)"
   ]
  },
  {
   "cell_type": "code",
   "execution_count": null,
   "metadata": {},
   "outputs": [],
   "source": [
    "\"\"\"\n",
    "for fold in range(CFG.nfolds):\n",
    "    best_model, loss_history, train_acc_history, val_acc_history = train_fn(fold)\n",
    "    log_dict[f'best_model_{fold}'] = best_model\n",
    "    log_dict[f'loss_history_{fold}'] = loss_history\n",
    "    log_dict[f'train_acc_history_{fold}'] = train_acc_history\n",
    "    log_dict[f'val_acc_history_{fold}'] = val_acc_history\n",
    "\"\"\""
   ]
  },
  {
   "cell_type": "markdown",
   "metadata": {},
   "source": [
    "\"\"\"\n",
    "Graphs\n",
    "1. loss vs. iterations\n",
    "2. Train/Validation accuracy along epoch\n",
    "\"\"\"\n",
    "plt.subplot(2,1,1)\n",
    "plt.plot(log_dict['loss_history_0'], 'o')\n",
    "plt.xlabel('epoch')\n",
    "plt.ylabel('loss')\n",
    "\n",
    "plt.subplot(2,1,2)\n",
    "plt.plot(log_dict['train_acc_history_0'], '-o')\n",
    "plt.plot(log_dict['val_acc_history_0'], '-o')\n",
    "plt.legend(['train', 'val'], loc='upper left')\n",
    "plt.xlabel('epoch')\n",
    "plt.ylabel('accuracy')\n",
    "\n",
    "plt.tight_layout(pad=3)\n",
    "plt.show()"
   ]
  },
  {
   "cell_type": "code",
   "execution_count": null,
   "metadata": {},
   "outputs": [],
   "source": [
    "# read python dict back from the file\n",
    "#with open(log_file, 'rb') as pfile:\n",
    "with open('resnet_head_05_29_2020_09_45.pkl', 'rb') as pfile:\n",
    "    test_dict = pickle.load(pfile)\n",
    "\n",
    "\"\"\"\n",
    "Graphs\n",
    "1. loss vs. iterations\n",
    "2. Train/Validation accuracy along epoch\n",
    "\"\"\"\n",
    "plt.subplot(2,1,1)\n",
    "plt.plot(test_dict['loss_history_0'], 'o')\n",
    "plt.xlabel('epoch')\n",
    "plt.ylabel('loss')\n",
    "\n",
    "plt.subplot(2,1,2)\n",
    "plt.plot(test_dict['train_acc_history_0'], '-o')\n",
    "plt.plot(test_dict['val_acc_history_0'], '-o')\n",
    "plt.legend(['train', 'val'], loc='upper left')\n",
    "plt.xlabel('epoch')\n",
    "plt.ylabel('accuracy')\n",
    "\n",
    "plt.tight_layout(pad=3)\n",
    "plt.show()"
   ]
  },
  {
   "cell_type": "code",
   "execution_count": null,
   "metadata": {},
   "outputs": [],
   "source": [
    "preds, targets = [], []\n",
    "for fold in range(CFG.nfolds):\n",
    "    model_fd = test_dict[f'best_model_{fold}'].to(device=CFG.device, dtype=CFG.dtype)\n",
    "    #model_fd = log_dict[f'best_model_{fold}'].to(device=CFG.device, dtype=CFG.dtype)\n",
    "    _, loader_val = data_loader(fold)\n",
    "    for inputs, labels in tqdm(loader_val):\n",
    "        _, C, H, W = inputs[0].shape\n",
    "        # n_tile[(bs,3,128,128)]-->(bs,n_tile,3,128,128)-->(bs*n_tile,3,128,128)\n",
    "        inputs = torch.stack(inputs, 1).view(-1,C,H,W).to(device=CFG.device, dtype=CFG.dtype)\n",
    "        labels = labels.to(device=CFG.device, dtype=torch.long)\n",
    "                \n",
    "        # Forward, track history if only in training\n",
    "        with torch.no_grad():\n",
    "            outputs = model_fd(inputs)\n",
    "            pred = torch.argmax(outputs, 1)\n",
    "        preds.append(pred)\n",
    "        targets.append(labels)"
   ]
  },
  {
   "cell_type": "code",
   "execution_count": null,
   "metadata": {},
   "outputs": [],
   "source": [
    "p = torch.cat(preds).cpu()\n",
    "t = torch.cat(targets).cpu()\n",
    "kappa = cohen_kappa_score(t, p, weights='quadratic')\n",
    "print(f'Kappa: {kappa}')\n",
    "conf_mat = confusion_matrix(t,p)\n",
    "#plt.matshow()\n",
    "plt.figure(figsize=(14,7))\n",
    "sn.heatmap(conf_mat, annot=True)"
   ]
  }
 ],
 "metadata": {
  "kernelspec": {
   "display_name": "Python 3",
   "language": "python",
   "name": "python3"
  },
  "language_info": {
   "codemirror_mode": {
    "name": "ipython",
    "version": 3
   },
   "file_extension": ".py",
   "mimetype": "text/x-python",
   "name": "python",
   "nbconvert_exporter": "python",
   "pygments_lexer": "ipython3",
   "version": "3.7.6"
  },
  "widgets": {
   "application/vnd.jupyter.widget-state+json": {
    "state": {
     "0053fd6fbf9c48299180f6f708987f50": {
      "model_module": "@jupyter-widgets/controls",
      "model_module_version": "1.5.0",
      "model_name": "FloatProgressModel",
      "state": {
       "bar_style": "success",
       "description": "[3] 10/15(val  ): 100%",
       "layout": "IPY_MODEL_f7017a1cfc4f467bbeb8f739db5903d7",
       "max": 165,
       "style": "IPY_MODEL_29809aed13e94fddaecf0ce2a7019883",
       "value": 165
      }
     },
     "032eeb869cee44d8bf7cbd0f3fc0b934": {
      "model_module": "@jupyter-widgets/base",
      "model_module_version": "1.2.0",
      "model_name": "LayoutModel",
      "state": {}
     },
     "038d6580db23458584cae5c06e18537a": {
      "model_module": "@jupyter-widgets/controls",
      "model_module_version": "1.5.0",
      "model_name": "HTMLModel",
      "state": {
       "layout": "IPY_MODEL_4f9dbad9a61c4dce9d8656fbe5230a8f",
       "style": "IPY_MODEL_becafd8f3f204c3497782a5d26280dd1",
       "value": " 165/165 [1:36:31&lt;00:00, 35.10s/it]"
      }
     },
     "03d3719770d24112b4de572121546bd4": {
      "model_module": "@jupyter-widgets/base",
      "model_module_version": "1.2.0",
      "model_name": "LayoutModel",
      "state": {}
     },
     "04156132a3a249e883cb6c6acdd61b6a": {
      "model_module": "@jupyter-widgets/controls",
      "model_module_version": "1.5.0",
      "model_name": "HTMLModel",
      "state": {
       "layout": "IPY_MODEL_83ca0663bb2b4f2aaf81c08068c2bb66",
       "style": "IPY_MODEL_ea8054acb3744c72bff21490e5eb4bca",
       "value": " 493/493 [19:03&lt;00:00,  2.32s/it]"
      }
     },
     "04577dfb9494439490c7bea685f61903": {
      "model_module": "@jupyter-widgets/controls",
      "model_module_version": "1.5.0",
      "model_name": "FloatProgressModel",
      "state": {
       "bar_style": "success",
       "description": "[2] 14/15(train): 100%",
       "layout": "IPY_MODEL_76bedc5e80684457a02efa08b591710c",
       "max": 493,
       "style": "IPY_MODEL_ecbbb39f93c244a3ae550999ca7b4dc4",
       "value": 493
      }
     },
     "05589f84f98b4bbd9b18e5d400e9518a": {
      "model_module": "@jupyter-widgets/base",
      "model_module_version": "1.2.0",
      "model_name": "LayoutModel",
      "state": {}
     },
     "0571d887a52c47f190cca8269005a52f": {
      "model_module": "@jupyter-widgets/base",
      "model_module_version": "1.2.0",
      "model_name": "LayoutModel",
      "state": {}
     },
     "05e3e2e4a5a547b99e5078eb108ae136": {
      "model_module": "@jupyter-widgets/controls",
      "model_module_version": "1.5.0",
      "model_name": "DescriptionStyleModel",
      "state": {
       "description_width": ""
      }
     },
     "0695f6c38cdc457c99fbc078c47ed8d6": {
      "model_module": "@jupyter-widgets/controls",
      "model_module_version": "1.5.0",
      "model_name": "HTMLModel",
      "state": {
       "layout": "IPY_MODEL_a10950d4ed5247a58a54b5d88b1faf5b",
       "style": "IPY_MODEL_82852f909d8b4ad097998bf5ace55317",
       "value": " 165/165 [38:02&lt;00:00, 13.83s/it]"
      }
     },
     "072627fd3c1443deb975e2fd4be28918": {
      "model_module": "@jupyter-widgets/controls",
      "model_module_version": "1.5.0",
      "model_name": "HTMLModel",
      "state": {
       "layout": "IPY_MODEL_e20c490084564132bd94072da2a047a0",
       "style": "IPY_MODEL_dce4d6c25da341b4b62fa5437387a399",
       "value": " 165/165 [45:00&lt;00:00, 16.36s/it]"
      }
     },
     "079bda7a54e644cd92bcc19102d96145": {
      "model_module": "@jupyter-widgets/base",
      "model_module_version": "1.2.0",
      "model_name": "LayoutModel",
      "state": {}
     },
     "08b5bb6ed3a94eb8becda8bab039f383": {
      "model_module": "@jupyter-widgets/controls",
      "model_module_version": "1.5.0",
      "model_name": "DescriptionStyleModel",
      "state": {
       "description_width": ""
      }
     },
     "094921ed107d416d988cbc141c04f6d0": {
      "model_module": "@jupyter-widgets/base",
      "model_module_version": "1.2.0",
      "model_name": "LayoutModel",
      "state": {}
     },
     "09bf746d1f4b41b991c412bece70784a": {
      "model_module": "@jupyter-widgets/base",
      "model_module_version": "1.2.0",
      "model_name": "LayoutModel",
      "state": {}
     },
     "0adf61db192d4715bbce24dd2426b3c3": {
      "model_module": "@jupyter-widgets/controls",
      "model_module_version": "1.5.0",
      "model_name": "HTMLModel",
      "state": {
       "layout": "IPY_MODEL_0d1e76fd716940e2bc0c6c58b4425611",
       "style": "IPY_MODEL_7e31ae2d23f44fb4b16daf689719ccf2",
       "value": " 493/493 [21:48&lt;00:00,  2.66s/it]"
      }
     },
     "0b579a2eecc34f02ac570c4702b5b238": {
      "model_module": "@jupyter-widgets/controls",
      "model_module_version": "1.5.0",
      "model_name": "HTMLModel",
      "state": {
       "layout": "IPY_MODEL_346f2591402444ddb105725beb68b261",
       "style": "IPY_MODEL_b9a0fb048a02421989e6e3d55b37a44e",
       "value": " 165/165 [57:00&lt;00:00, 20.73s/it]"
      }
     },
     "0b596b04cbdf48969e31f5fbc7e0f9bd": {
      "model_module": "@jupyter-widgets/controls",
      "model_module_version": "1.5.0",
      "model_name": "ProgressStyleModel",
      "state": {
       "description_width": "initial"
      }
     },
     "0b82cd3c64db49a9a719fcf0b12c0c92": {
      "model_module": "@jupyter-widgets/base",
      "model_module_version": "1.2.0",
      "model_name": "LayoutModel",
      "state": {}
     },
     "0bc1e88500cb43529ee2d48a8883b6bc": {
      "model_module": "@jupyter-widgets/controls",
      "model_module_version": "1.5.0",
      "model_name": "ProgressStyleModel",
      "state": {
       "description_width": "initial"
      }
     },
     "0d02231d23094399b888c88de9c8ffd3": {
      "model_module": "@jupyter-widgets/base",
      "model_module_version": "1.2.0",
      "model_name": "LayoutModel",
      "state": {}
     },
     "0d1e76fd716940e2bc0c6c58b4425611": {
      "model_module": "@jupyter-widgets/base",
      "model_module_version": "1.2.0",
      "model_name": "LayoutModel",
      "state": {}
     },
     "0d52d14dc32f4901aa213ee162fcb3bb": {
      "model_module": "@jupyter-widgets/base",
      "model_module_version": "1.2.0",
      "model_name": "LayoutModel",
      "state": {}
     },
     "0d628d7b78204db090f39f95e58a31ef": {
      "model_module": "@jupyter-widgets/base",
      "model_module_version": "1.2.0",
      "model_name": "LayoutModel",
      "state": {}
     },
     "0d6828cb7b70488082fdbe7e72d1f712": {
      "model_module": "@jupyter-widgets/base",
      "model_module_version": "1.2.0",
      "model_name": "LayoutModel",
      "state": {}
     },
     "0de553fe939d4f229f36e4534a68e362": {
      "model_module": "@jupyter-widgets/controls",
      "model_module_version": "1.5.0",
      "model_name": "HTMLModel",
      "state": {
       "layout": "IPY_MODEL_0f14415ffb73475f8dbcdba6fd78ab65",
       "style": "IPY_MODEL_33d1f8d0320c4054bbefca15e8a707ce",
       "value": " 165/165 [01:23&lt;00:00,  1.98it/s]"
      }
     },
     "0e159e5cec884e6088e473a1ffb12a3c": {
      "model_module": "@jupyter-widgets/controls",
      "model_module_version": "1.5.0",
      "model_name": "HBoxModel",
      "state": {
       "children": [
        "IPY_MODEL_d69ad366caff439faa7b74038cf8a5fa",
        "IPY_MODEL_9f8164050d354890b2e52779819cb0cb"
       ],
       "layout": "IPY_MODEL_6c7f4dba2960461fbe7438e06a943942"
      }
     },
     "0e188f29dca24608b432c331bcc7c75e": {
      "model_module": "@jupyter-widgets/controls",
      "model_module_version": "1.5.0",
      "model_name": "DescriptionStyleModel",
      "state": {
       "description_width": ""
      }
     },
     "0e230b12577245b8a6936c519b336e6b": {
      "model_module": "@jupyter-widgets/controls",
      "model_module_version": "1.5.0",
      "model_name": "DescriptionStyleModel",
      "state": {
       "description_width": ""
      }
     },
     "0f14415ffb73475f8dbcdba6fd78ab65": {
      "model_module": "@jupyter-widgets/base",
      "model_module_version": "1.2.0",
      "model_name": "LayoutModel",
      "state": {}
     },
     "0f4f8c9402fb43dcb97c1f48d3cd6128": {
      "model_module": "@jupyter-widgets/controls",
      "model_module_version": "1.5.0",
      "model_name": "FloatProgressModel",
      "state": {
       "bar_style": "success",
       "description": "[2] 2/15(train): 100%",
       "layout": "IPY_MODEL_bdff4f9329864918912cfede9af44bde",
       "max": 493,
       "style": "IPY_MODEL_819eee5e88c14d4cb1a5fafe04e67de5",
       "value": 493
      }
     },
     "104160929f154caf843171908cdf9f2a": {
      "model_module": "@jupyter-widgets/controls",
      "model_module_version": "1.5.0",
      "model_name": "HTMLModel",
      "state": {
       "layout": "IPY_MODEL_d25a47f1490f4e2092bed16b6bfe2369",
       "style": "IPY_MODEL_601b03d537c7418da438755caa1d0a7f",
       "value": " 493/493 [20:28&lt;00:00,  2.49s/it]"
      }
     },
     "10dc5269dbd04b658549a304d9dc0291": {
      "model_module": "@jupyter-widgets/controls",
      "model_module_version": "1.5.0",
      "model_name": "FloatProgressModel",
      "state": {
       "bar_style": "success",
       "description": "[2] 4/15(val  ): 100%",
       "layout": "IPY_MODEL_5e09e922115843338c600ca630808b3d",
       "max": 165,
       "style": "IPY_MODEL_d6db0738029e4ab98316db0730157c8d",
       "value": 165
      }
     },
     "11341356df404fa0a6b802c79ffe08fa": {
      "model_module": "@jupyter-widgets/controls",
      "model_module_version": "1.5.0",
      "model_name": "HBoxModel",
      "state": {
       "children": [
        "IPY_MODEL_d1188da0cebc448c8c11664cbfaf1fd0",
        "IPY_MODEL_f8e2d5306d004f07a0e2d60fe83d294f"
       ],
       "layout": "IPY_MODEL_78e0e0efd7e84c678277573c12c38f83"
      }
     },
     "1178cedbf51b44a5830da76589309e1f": {
      "model_module": "@jupyter-widgets/base",
      "model_module_version": "1.2.0",
      "model_name": "LayoutModel",
      "state": {}
     },
     "1228d2509c9d4926991fec4e99b32154": {
      "model_module": "@jupyter-widgets/controls",
      "model_module_version": "1.5.0",
      "model_name": "HBoxModel",
      "state": {
       "children": [
        "IPY_MODEL_ff11c92d04bf4c3e96931e08f34d539f",
        "IPY_MODEL_c2c2352533424a948fc813ddeee91baa"
       ],
       "layout": "IPY_MODEL_f49a77f76cf04c2a8994fe2645cb13b4"
      }
     },
     "123190f1aa3f404aa8d8d3e9d3af438c": {
      "model_module": "@jupyter-widgets/controls",
      "model_module_version": "1.5.0",
      "model_name": "FloatProgressModel",
      "state": {
       "bar_style": "success",
       "description": "[3] 9/15(val  ): 100%",
       "layout": "IPY_MODEL_cfacf8ed4f4249a0b7b56ca418defb9c",
       "max": 165,
       "style": "IPY_MODEL_25260affc782444195439f70b3df0c1b",
       "value": 165
      }
     },
     "125a30c8591a4c44b9c6b84efd42a8a7": {
      "model_module": "@jupyter-widgets/controls",
      "model_module_version": "1.5.0",
      "model_name": "HBoxModel",
      "state": {
       "children": [
        "IPY_MODEL_7fa8fa6d6b334320ab5e777cd4d415b5",
        "IPY_MODEL_72bd164ec4fa4b14887e4c5366566e18"
       ],
       "layout": "IPY_MODEL_2798aceb7add4e95ab202099aee62eb1"
      }
     },
     "13040cc9c49d4d61b2462ea7a58d3f09": {
      "model_module": "@jupyter-widgets/base",
      "model_module_version": "1.2.0",
      "model_name": "LayoutModel",
      "state": {}
     },
     "1330de3c311841e0bbbaaae93d9b6efb": {
      "model_module": "@jupyter-widgets/controls",
      "model_module_version": "1.5.0",
      "model_name": "HBoxModel",
      "state": {
       "children": [
        "IPY_MODEL_04577dfb9494439490c7bea685f61903",
        "IPY_MODEL_485adcc3d92c42b5abe8582222749d70"
       ],
       "layout": "IPY_MODEL_663f92ab22fd4486b6e2e3bb2a3d3091"
      }
     },
     "1429f9264f26455ca1168535a94603b2": {
      "model_module": "@jupyter-widgets/controls",
      "model_module_version": "1.5.0",
      "model_name": "HBoxModel",
      "state": {
       "children": [
        "IPY_MODEL_cb6507e9060245b194961d488b83d496",
        "IPY_MODEL_68458146c91a4af18a59173f04c6a92f"
       ],
       "layout": "IPY_MODEL_4f5c198fdde2473cabb2854b4d8b3b60"
      }
     },
     "142dbd3a07854817a7d07aaaed6f1498": {
      "model_module": "@jupyter-widgets/controls",
      "model_module_version": "1.5.0",
      "model_name": "FloatProgressModel",
      "state": {
       "bar_style": "success",
       "description": "[3] 11/15(train): 100%",
       "layout": "IPY_MODEL_9202e4fcccee49859b510f21ba51c922",
       "max": 493,
       "style": "IPY_MODEL_6656a9b1c8e64b4eb527f4f48b71fef2",
       "value": 493
      }
     },
     "1441ea3dabcd42d6940f03b1ae6db3a8": {
      "model_module": "@jupyter-widgets/controls",
      "model_module_version": "1.5.0",
      "model_name": "ProgressStyleModel",
      "state": {
       "description_width": "initial"
      }
     },
     "1612abf292fc4345bf7c3f9a8d3a2665": {
      "model_module": "@jupyter-widgets/controls",
      "model_module_version": "1.5.0",
      "model_name": "HBoxModel",
      "state": {
       "children": [
        "IPY_MODEL_6d545947afb846ee8b81ad40e5df63cd",
        "IPY_MODEL_4f7748554a5c45f6a547cd55a2be8520"
       ],
       "layout": "IPY_MODEL_21ed4fc3d36d4d71891210ceef94db29"
      }
     },
     "16497bd83aaf4effb0677cfab0fc422d": {
      "model_module": "@jupyter-widgets/controls",
      "model_module_version": "1.5.0",
      "model_name": "HBoxModel",
      "state": {
       "children": [
        "IPY_MODEL_d468d514611f470e8fc1b5693c1bf93c",
        "IPY_MODEL_9cbffc2281a140f48d69b4fd39d6a5ad"
       ],
       "layout": "IPY_MODEL_594633b38d7c4b1f907d435c5dc409e6"
      }
     },
     "179e2624cf9f499a9fc0ddb9412582ce": {
      "model_module": "@jupyter-widgets/base",
      "model_module_version": "1.2.0",
      "model_name": "LayoutModel",
      "state": {}
     },
     "18533bf4d9fc422ba0537cf909954ed8": {
      "model_module": "@jupyter-widgets/controls",
      "model_module_version": "1.5.0",
      "model_name": "DescriptionStyleModel",
      "state": {
       "description_width": ""
      }
     },
     "192bbaa142174a4f8e224aa39d6da23f": {
      "model_module": "@jupyter-widgets/controls",
      "model_module_version": "1.5.0",
      "model_name": "HBoxModel",
      "state": {
       "children": [
        "IPY_MODEL_d6e1437dd7644a758738b6e994404198",
        "IPY_MODEL_3b3e704b58d6483d92ad3374ab532fd5"
       ],
       "layout": "IPY_MODEL_ad2c603f813c4f5e9eb3d1bc60835ba2"
      }
     },
     "1a205886f67f472b94bc2a21280ca074": {
      "model_module": "@jupyter-widgets/controls",
      "model_module_version": "1.5.0",
      "model_name": "DescriptionStyleModel",
      "state": {
       "description_width": ""
      }
     },
     "1ae08d90a622423cb95e0377aafcf0fa": {
      "model_module": "@jupyter-widgets/controls",
      "model_module_version": "1.5.0",
      "model_name": "HBoxModel",
      "state": {
       "children": [
        "IPY_MODEL_7f5dcec85cf442e692cfb6090fc7ef74",
        "IPY_MODEL_85061a3cc1bb4c5ca494ce2aa61d18e8"
       ],
       "layout": "IPY_MODEL_1178cedbf51b44a5830da76589309e1f"
      }
     },
     "1ae564c7eb8140ada2c6aa76fbd4c334": {
      "model_module": "@jupyter-widgets/base",
      "model_module_version": "1.2.0",
      "model_name": "LayoutModel",
      "state": {}
     },
     "1bca3e8f34a4494ba566369aed02686a": {
      "model_module": "@jupyter-widgets/base",
      "model_module_version": "1.2.0",
      "model_name": "LayoutModel",
      "state": {}
     },
     "1c79619a064a4d94b1d7d87ab0aee3a3": {
      "model_module": "@jupyter-widgets/base",
      "model_module_version": "1.2.0",
      "model_name": "LayoutModel",
      "state": {}
     },
     "1cf0fc5c2c3c4a158e9db132493b6421": {
      "model_module": "@jupyter-widgets/controls",
      "model_module_version": "1.5.0",
      "model_name": "ProgressStyleModel",
      "state": {
       "description_width": "initial"
      }
     },
     "1d313722f2cf4efd99fd7e806189cfdc": {
      "model_module": "@jupyter-widgets/base",
      "model_module_version": "1.2.0",
      "model_name": "LayoutModel",
      "state": {}
     },
     "1d31c69b43b1433e99c67be6d1d9bd37": {
      "model_module": "@jupyter-widgets/base",
      "model_module_version": "1.2.0",
      "model_name": "LayoutModel",
      "state": {}
     },
     "1d32b4955d10456b9204c4917e3aafc7": {
      "model_module": "@jupyter-widgets/controls",
      "model_module_version": "1.5.0",
      "model_name": "HBoxModel",
      "state": {
       "children": [
        "IPY_MODEL_4b86e337535b4f5987ac94143736b5d5",
        "IPY_MODEL_072627fd3c1443deb975e2fd4be28918"
       ],
       "layout": "IPY_MODEL_55d80034cb5f48cb9b714d4e33ce9c27"
      }
     },
     "1e4bc264c5474ddaa695d589fbcee6eb": {
      "model_module": "@jupyter-widgets/controls",
      "model_module_version": "1.5.0",
      "model_name": "ProgressStyleModel",
      "state": {
       "description_width": "initial"
      }
     },
     "1f1e2577950e4a13b72eb459741fe4e9": {
      "model_module": "@jupyter-widgets/controls",
      "model_module_version": "1.5.0",
      "model_name": "HTMLModel",
      "state": {
       "layout": "IPY_MODEL_6e51f9500b7849e18132b3f23666132c",
       "style": "IPY_MODEL_fe7eb0511f15479bac09f78779ceb784",
       "value": " 493/493 [18:58&lt;00:00,  2.31s/it]"
      }
     },
     "1f51a625f59a4da4a74fb54e89eb29cc": {
      "model_module": "@jupyter-widgets/controls",
      "model_module_version": "1.5.0",
      "model_name": "ProgressStyleModel",
      "state": {
       "description_width": "initial"
      }
     },
     "1fc0596a4036494a8fd10094af7e2b18": {
      "model_module": "@jupyter-widgets/controls",
      "model_module_version": "1.5.0",
      "model_name": "FloatProgressModel",
      "state": {
       "bar_style": "success",
       "description": "[3] 2/15(val  ): 100%",
       "layout": "IPY_MODEL_7740d11ba5444ddebe7b896f08e68bb7",
       "max": 165,
       "style": "IPY_MODEL_883bb9e1ca9f40dcab6f1e41de73df32",
       "value": 165
      }
     },
     "1fc801e2ebff4f549bdf665aad7a45c6": {
      "model_module": "@jupyter-widgets/base",
      "model_module_version": "1.2.0",
      "model_name": "LayoutModel",
      "state": {}
     },
     "1fe1ac47e3f14efa8814f0ff48476fb6": {
      "model_module": "@jupyter-widgets/base",
      "model_module_version": "1.2.0",
      "model_name": "LayoutModel",
      "state": {}
     },
     "2021b247e9554d18b00b5ec20fe17a73": {
      "model_module": "@jupyter-widgets/base",
      "model_module_version": "1.2.0",
      "model_name": "LayoutModel",
      "state": {}
     },
     "2071e12ed50e445eb09d72f414e45ac9": {
      "model_module": "@jupyter-widgets/base",
      "model_module_version": "1.2.0",
      "model_name": "LayoutModel",
      "state": {}
     },
     "20da514246cf4fd7b581489c9bde350c": {
      "model_module": "@jupyter-widgets/controls",
      "model_module_version": "1.5.0",
      "model_name": "DescriptionStyleModel",
      "state": {
       "description_width": ""
      }
     },
     "20e8c16932774aadb38fc052ce0d4f08": {
      "model_module": "@jupyter-widgets/base",
      "model_module_version": "1.2.0",
      "model_name": "LayoutModel",
      "state": {}
     },
     "2102958c14204c03a4a278e80f68a57b": {
      "model_module": "@jupyter-widgets/controls",
      "model_module_version": "1.5.0",
      "model_name": "ProgressStyleModel",
      "state": {
       "description_width": "initial"
      }
     },
     "210e5c3e3c304966bfbba4f196374e8c": {
      "model_module": "@jupyter-widgets/controls",
      "model_module_version": "1.5.0",
      "model_name": "HBoxModel",
      "state": {
       "children": [
        "IPY_MODEL_b3d1e8fe0d13405c900dfd9765a93ee0",
        "IPY_MODEL_a4ba7f26187648048e7190fa9f8bb690"
       ],
       "layout": "IPY_MODEL_1d313722f2cf4efd99fd7e806189cfdc"
      }
     },
     "21e14318d4ba496cab5e6cb813feb8e1": {
      "model_module": "@jupyter-widgets/controls",
      "model_module_version": "1.5.0",
      "model_name": "ProgressStyleModel",
      "state": {
       "description_width": "initial"
      }
     },
     "21ed4fc3d36d4d71891210ceef94db29": {
      "model_module": "@jupyter-widgets/base",
      "model_module_version": "1.2.0",
      "model_name": "LayoutModel",
      "state": {}
     },
     "227464c8f257470591d4c801a81029f9": {
      "model_module": "@jupyter-widgets/controls",
      "model_module_version": "1.5.0",
      "model_name": "FloatProgressModel",
      "state": {
       "bar_style": "success",
       "description": "[3] 15/15(train): 100%",
       "layout": "IPY_MODEL_b5410bf10dbf4356ac947f3b006875a1",
       "max": 493,
       "style": "IPY_MODEL_0bc1e88500cb43529ee2d48a8883b6bc",
       "value": 493
      }
     },
     "235613122e2747c59858d8874d8283cf": {
      "model_module": "@jupyter-widgets/controls",
      "model_module_version": "1.5.0",
      "model_name": "HBoxModel",
      "state": {
       "children": [
        "IPY_MODEL_544f654faa014d9a99ff6b836f8a56de",
        "IPY_MODEL_0de553fe939d4f229f36e4534a68e362"
       ],
       "layout": "IPY_MODEL_bde385ccdae74284ac5d0f12ed060cc8"
      }
     },
     "23dc0a7d7e384908bb78fff171c566a1": {
      "model_module": "@jupyter-widgets/controls",
      "model_module_version": "1.5.0",
      "model_name": "FloatProgressModel",
      "state": {
       "bar_style": "success",
       "description": "[2] 9/15(train): 100%",
       "layout": "IPY_MODEL_6073824b9573462db17b8a242f6a15f5",
       "max": 493,
       "style": "IPY_MODEL_c9229df96dbc4406a1781cb77fb46d0e",
       "value": 493
      }
     },
     "24beb6e4d36c4219885ec79e979c5e01": {
      "model_module": "@jupyter-widgets/controls",
      "model_module_version": "1.5.0",
      "model_name": "DescriptionStyleModel",
      "state": {
       "description_width": ""
      }
     },
     "25260affc782444195439f70b3df0c1b": {
      "model_module": "@jupyter-widgets/controls",
      "model_module_version": "1.5.0",
      "model_name": "ProgressStyleModel",
      "state": {
       "description_width": "initial"
      }
     },
     "25367643a1c342c1a4f76c2452606e57": {
      "model_module": "@jupyter-widgets/controls",
      "model_module_version": "1.5.0",
      "model_name": "DescriptionStyleModel",
      "state": {
       "description_width": ""
      }
     },
     "27737c4ed18248818eb1f5de6e0e6b28": {
      "model_module": "@jupyter-widgets/base",
      "model_module_version": "1.2.0",
      "model_name": "LayoutModel",
      "state": {}
     },
     "2798aceb7add4e95ab202099aee62eb1": {
      "model_module": "@jupyter-widgets/base",
      "model_module_version": "1.2.0",
      "model_name": "LayoutModel",
      "state": {}
     },
     "2804165df30246659ab164dcf24fabe8": {
      "model_module": "@jupyter-widgets/base",
      "model_module_version": "1.2.0",
      "model_name": "LayoutModel",
      "state": {}
     },
     "2844ab4fdef84c9d9f6ed51e08d51327": {
      "model_module": "@jupyter-widgets/base",
      "model_module_version": "1.2.0",
      "model_name": "LayoutModel",
      "state": {}
     },
     "28f4701dbeb040abb375378c0209b7d6": {
      "model_module": "@jupyter-widgets/base",
      "model_module_version": "1.2.0",
      "model_name": "LayoutModel",
      "state": {}
     },
     "2926dabfaddd4531b9db888638c90de1": {
      "model_module": "@jupyter-widgets/controls",
      "model_module_version": "1.5.0",
      "model_name": "FloatProgressModel",
      "state": {
       "bar_style": "success",
       "description": "[3] 8/15(val  ): 100%",
       "layout": "IPY_MODEL_73eabb60cfcd419e931cb79459b3b0e6",
       "max": 165,
       "style": "IPY_MODEL_69a4878e6a7b4a55b4916d0e30146bfe",
       "value": 165
      }
     },
     "29809aed13e94fddaecf0ce2a7019883": {
      "model_module": "@jupyter-widgets/controls",
      "model_module_version": "1.5.0",
      "model_name": "ProgressStyleModel",
      "state": {
       "description_width": "initial"
      }
     },
     "29b8e50ed26142968707a00735ad9327": {
      "model_module": "@jupyter-widgets/base",
      "model_module_version": "1.2.0",
      "model_name": "LayoutModel",
      "state": {}
     },
     "29c9f671d310440194aa13a535406562": {
      "model_module": "@jupyter-widgets/controls",
      "model_module_version": "1.5.0",
      "model_name": "HTMLModel",
      "state": {
       "layout": "IPY_MODEL_bc6c2c7bed9e46adbeaa93bff5d3186c",
       "style": "IPY_MODEL_0e188f29dca24608b432c331bcc7c75e",
       "value": " 493/493 [21:49&lt;00:00,  2.66s/it]"
      }
     },
     "2a42768da8754459abb8fbe2048e7650": {
      "model_module": "@jupyter-widgets/controls",
      "model_module_version": "1.5.0",
      "model_name": "HTMLModel",
      "state": {
       "layout": "IPY_MODEL_e7cde669b7424bb0ad03e758ba4b24fd",
       "style": "IPY_MODEL_f855e7ae965f494ea038139c06c64a82",
       "value": " 493/493 [21:51&lt;00:00,  2.66s/it]"
      }
     },
     "2acbb44cf06d4158a57c29eeb80263bc": {
      "model_module": "@jupyter-widgets/controls",
      "model_module_version": "1.5.0",
      "model_name": "HTMLModel",
      "state": {
       "layout": "IPY_MODEL_a73d3c033a74423fb98e293c8c790f23",
       "style": "IPY_MODEL_a87a24fbfa7740e8bec66004f9192835",
       "value": " 493/493 [21:45&lt;00:00,  2.65s/it]"
      }
     },
     "2b666f688dd94707a2fa7da592e867ba": {
      "model_module": "@jupyter-widgets/controls",
      "model_module_version": "1.5.0",
      "model_name": "ProgressStyleModel",
      "state": {
       "description_width": "initial"
      }
     },
     "2c0102e1aa2f4112a7d2b236cff32a70": {
      "model_module": "@jupyter-widgets/base",
      "model_module_version": "1.2.0",
      "model_name": "LayoutModel",
      "state": {}
     },
     "2c0cd6b0908a4278a5f65fb0f04a83c2": {
      "model_module": "@jupyter-widgets/controls",
      "model_module_version": "1.5.0",
      "model_name": "FloatProgressModel",
      "state": {
       "bar_style": "success",
       "description": "[3] 14/15(train): 100%",
       "layout": "IPY_MODEL_2071e12ed50e445eb09d72f414e45ac9",
       "max": 493,
       "style": "IPY_MODEL_6f6ff67a170c445a99e0685275638a9d",
       "value": 493
      }
     },
     "2c9dcf23be72447cacc7c45ada62b1d0": {
      "model_module": "@jupyter-widgets/base",
      "model_module_version": "1.2.0",
      "model_name": "LayoutModel",
      "state": {}
     },
     "2ed29a650b9e4e7da1ac1a37750b0227": {
      "model_module": "@jupyter-widgets/base",
      "model_module_version": "1.2.0",
      "model_name": "LayoutModel",
      "state": {}
     },
     "2ed65217d96242ad89bfde12c3349384": {
      "model_module": "@jupyter-widgets/controls",
      "model_module_version": "1.5.0",
      "model_name": "FloatProgressModel",
      "state": {
       "bar_style": "success",
       "description": "[2] 13/15(val  ): 100%",
       "layout": "IPY_MODEL_e72afdce1d4c4c8ba89cc50c08ad2f31",
       "max": 165,
       "style": "IPY_MODEL_fd98e8067fa848a9981bbe1758765f92",
       "value": 165
      }
     },
     "2f828faffe17499a83312543e6f19263": {
      "model_module": "@jupyter-widgets/controls",
      "model_module_version": "1.5.0",
      "model_name": "HTMLModel",
      "state": {
       "layout": "IPY_MODEL_8f4fb9b638df4a13b3ab2155680b733a",
       "style": "IPY_MODEL_685321654ae94733a93c9e32b1e26ae4",
       "value": " 493/493 [1:16:09&lt;00:00,  9.27s/it]"
      }
     },
     "2ffcc91e107b4fa0898a6569c727a08f": {
      "model_module": "@jupyter-widgets/base",
      "model_module_version": "1.2.0",
      "model_name": "LayoutModel",
      "state": {}
     },
     "308c8325a5b14eae9127ef95ffb914ab": {
      "model_module": "@jupyter-widgets/controls",
      "model_module_version": "1.5.0",
      "model_name": "HTMLModel",
      "state": {
       "layout": "IPY_MODEL_fd36235eaa884cf2b70774d59c66588b",
       "style": "IPY_MODEL_3c2258eebb3943eca782811ad5272269",
       "value": " 165/165 [20:25&lt;00:00,  7.43s/it]"
      }
     },
     "30ba660410c041eea1ab5ae8445fb82f": {
      "model_module": "@jupyter-widgets/base",
      "model_module_version": "1.2.0",
      "model_name": "LayoutModel",
      "state": {}
     },
     "30cb0d2361c441169363ce3262a27f3b": {
      "model_module": "@jupyter-widgets/controls",
      "model_module_version": "1.5.0",
      "model_name": "HTMLModel",
      "state": {
       "layout": "IPY_MODEL_2ffcc91e107b4fa0898a6569c727a08f",
       "style": "IPY_MODEL_ed53a7d39ee94d66b10ef9a42779d637",
       "value": " 165/165 [01:15&lt;00:00,  2.20it/s]"
      }
     },
     "3142ddb87ea54683a061eaee97a87ebf": {
      "model_module": "@jupyter-widgets/base",
      "model_module_version": "1.2.0",
      "model_name": "LayoutModel",
      "state": {}
     },
     "323caa9ba84146a2962d60f32357acc8": {
      "model_module": "@jupyter-widgets/controls",
      "model_module_version": "1.5.0",
      "model_name": "HBoxModel",
      "state": {
       "children": [
        "IPY_MODEL_2926dabfaddd4531b9db888638c90de1",
        "IPY_MODEL_ffe1e4a2608440d2bc3e116cd7a1d63c"
       ],
       "layout": "IPY_MODEL_8c81dc8cd89b4c53af0757ae317e82a5"
      }
     },
     "3272bbb211d54789953e9a0287f9e2cc": {
      "model_module": "@jupyter-widgets/base",
      "model_module_version": "1.2.0",
      "model_name": "LayoutModel",
      "state": {}
     },
     "3368a1a38ce4499db7f1cdbec2c5ac28": {
      "model_module": "@jupyter-widgets/controls",
      "model_module_version": "1.5.0",
      "model_name": "ProgressStyleModel",
      "state": {
       "description_width": "initial"
      }
     },
     "33d1f8d0320c4054bbefca15e8a707ce": {
      "model_module": "@jupyter-widgets/controls",
      "model_module_version": "1.5.0",
      "model_name": "DescriptionStyleModel",
      "state": {
       "description_width": ""
      }
     },
     "346f2591402444ddb105725beb68b261": {
      "model_module": "@jupyter-widgets/base",
      "model_module_version": "1.2.0",
      "model_name": "LayoutModel",
      "state": {}
     },
     "349716feede04a0aa14a0cf5189aa025": {
      "model_module": "@jupyter-widgets/base",
      "model_module_version": "1.2.0",
      "model_name": "LayoutModel",
      "state": {}
     },
     "355b1ca5efbf4a3a805cebda88853ad2": {
      "model_module": "@jupyter-widgets/controls",
      "model_module_version": "1.5.0",
      "model_name": "FloatProgressModel",
      "state": {
       "bar_style": "success",
       "description": "100%",
       "layout": "IPY_MODEL_03d3719770d24112b4de572121546bd4",
       "max": 165,
       "style": "IPY_MODEL_e8262b09652b4e4586d200546324b186",
       "value": 165
      }
     },
     "359006297fe44744a389ae8e59466821": {
      "model_module": "@jupyter-widgets/controls",
      "model_module_version": "1.5.0",
      "model_name": "ProgressStyleModel",
      "state": {
       "description_width": "initial"
      }
     },
     "35c8fa0cb7854536b3a389c48d3a0df8": {
      "model_module": "@jupyter-widgets/controls",
      "model_module_version": "1.5.0",
      "model_name": "HTMLModel",
      "state": {
       "layout": "IPY_MODEL_a57cf337deb041239fac13d248a6692f",
       "style": "IPY_MODEL_ac685f3dcde94c348fffff8133bedfea",
       "value": " 493/493 [17:35&lt;00:00,  2.14s/it]"
      }
     },
     "369df5ec51a34c02a4fa67fe1e4691dd": {
      "model_module": "@jupyter-widgets/controls",
      "model_module_version": "1.5.0",
      "model_name": "HBoxModel",
      "state": {
       "children": [
        "IPY_MODEL_bee2e0f9fe864c28971f07aaf624e47f",
        "IPY_MODEL_2f828faffe17499a83312543e6f19263"
       ],
       "layout": "IPY_MODEL_3272bbb211d54789953e9a0287f9e2cc"
      }
     },
     "36ae4426f0854877849733f983e72300": {
      "model_module": "@jupyter-widgets/base",
      "model_module_version": "1.2.0",
      "model_name": "LayoutModel",
      "state": {}
     },
     "372c6ee9e2ce4175843916abd01d2e98": {
      "model_module": "@jupyter-widgets/controls",
      "model_module_version": "1.5.0",
      "model_name": "FloatProgressModel",
      "state": {
       "bar_style": "success",
       "description": "[2] 14/15(val  ): 100%",
       "layout": "IPY_MODEL_6ae7fee900ce4d7a8d2870d7a2fc6424",
       "max": 165,
       "style": "IPY_MODEL_762d172b273948e284608daafeabd33c",
       "value": 165
      }
     },
     "37dc4276bcd94ad0868907fad55ca00f": {
      "model_module": "@jupyter-widgets/controls",
      "model_module_version": "1.5.0",
      "model_name": "DescriptionStyleModel",
      "state": {
       "description_width": ""
      }
     },
     "37e6f9c05a734017ad4013a84ed7155e": {
      "model_module": "@jupyter-widgets/base",
      "model_module_version": "1.2.0",
      "model_name": "LayoutModel",
      "state": {}
     },
     "380f105c13f54bc1b9a9be71ba7bd0d4": {
      "model_module": "@jupyter-widgets/base",
      "model_module_version": "1.2.0",
      "model_name": "LayoutModel",
      "state": {}
     },
     "38c865f01ec142f3aae2a316a0b0c969": {
      "model_module": "@jupyter-widgets/base",
      "model_module_version": "1.2.0",
      "model_name": "LayoutModel",
      "state": {}
     },
     "38f3fde807f14151a98dcaaa022d6d48": {
      "model_module": "@jupyter-widgets/controls",
      "model_module_version": "1.5.0",
      "model_name": "HBoxModel",
      "state": {
       "children": [
        "IPY_MODEL_95b162bb7cd64d99a1941333b4c80195",
        "IPY_MODEL_1f1e2577950e4a13b72eb459741fe4e9"
       ],
       "layout": "IPY_MODEL_d5b96d7136284af18c15dbeb7217f5fa"
      }
     },
     "39ae4280fab0452d8a71646d7e763a1b": {
      "model_module": "@jupyter-widgets/base",
      "model_module_version": "1.2.0",
      "model_name": "LayoutModel",
      "state": {}
     },
     "3a7001b2a92a4a12a9c662ef8ab12dcc": {
      "model_module": "@jupyter-widgets/controls",
      "model_module_version": "1.5.0",
      "model_name": "ProgressStyleModel",
      "state": {
       "description_width": "initial"
      }
     },
     "3b0499b56d274b23bb8fe9bf85d74ac6": {
      "model_module": "@jupyter-widgets/controls",
      "model_module_version": "1.5.0",
      "model_name": "DescriptionStyleModel",
      "state": {
       "description_width": ""
      }
     },
     "3b27339d73fa4a629a455522f1f8e227": {
      "model_module": "@jupyter-widgets/controls",
      "model_module_version": "1.5.0",
      "model_name": "HTMLModel",
      "state": {
       "layout": "IPY_MODEL_94fc52b5e55d4b44b3bdb5c73812422c",
       "style": "IPY_MODEL_7c71c436f6874b8fbc1993f4058b784e",
       "value": " 165/165 [01:19&lt;00:00,  2.08it/s]"
      }
     },
     "3b3e704b58d6483d92ad3374ab532fd5": {
      "model_module": "@jupyter-widgets/controls",
      "model_module_version": "1.5.0",
      "model_name": "HTMLModel",
      "state": {
       "layout": "IPY_MODEL_93360aa3c238462c9e05880e89061d94",
       "style": "IPY_MODEL_ac535832af23478ca37e1f95b0282df2",
       "value": " 165/165 [01:18&lt;00:00,  2.09it/s]"
      }
     },
     "3b73da128e08484c9303e133624f53fc": {
      "model_module": "@jupyter-widgets/base",
      "model_module_version": "1.2.0",
      "model_name": "LayoutModel",
      "state": {}
     },
     "3b910714be2e4af9b998399b70f53739": {
      "model_module": "@jupyter-widgets/controls",
      "model_module_version": "1.5.0",
      "model_name": "HTMLModel",
      "state": {
       "layout": "IPY_MODEL_3f52216cb08a4dcbb55794c8abbf7141",
       "style": "IPY_MODEL_76cccb1438ee47eea5d1b552f5c1a8aa",
       "value": " 493/493 [20:24&lt;00:00,  2.48s/it]"
      }
     },
     "3bca03b26e6c4608a095848ba6803bc3": {
      "model_module": "@jupyter-widgets/controls",
      "model_module_version": "1.5.0",
      "model_name": "HBoxModel",
      "state": {
       "children": [
        "IPY_MODEL_123190f1aa3f404aa8d8d3e9d3af438c",
        "IPY_MODEL_6e429e677f744e0ea7220d70be6a87b7"
       ],
       "layout": "IPY_MODEL_fea56a01038341b3b0d0442f2be82bd3"
      }
     },
     "3bf95dcfcdab4a7690c9390310c90ac7": {
      "model_module": "@jupyter-widgets/controls",
      "model_module_version": "1.5.0",
      "model_name": "HTMLModel",
      "state": {
       "layout": "IPY_MODEL_d6abd0645cc144f1824bca96e4e25877",
       "style": "IPY_MODEL_ba129438315846038d61d564e22e7ac8",
       "value": " 165/165 [01:19&lt;00:00,  2.07it/s]"
      }
     },
     "3c2258eebb3943eca782811ad5272269": {
      "model_module": "@jupyter-widgets/controls",
      "model_module_version": "1.5.0",
      "model_name": "DescriptionStyleModel",
      "state": {
       "description_width": ""
      }
     },
     "3c4920b703494f148934600cf0b09ba1": {
      "model_module": "@jupyter-widgets/controls",
      "model_module_version": "1.5.0",
      "model_name": "ProgressStyleModel",
      "state": {
       "description_width": "initial"
      }
     },
     "3c5912b704834fbfa3e9e439438f6eb8": {
      "model_module": "@jupyter-widgets/base",
      "model_module_version": "1.2.0",
      "model_name": "LayoutModel",
      "state": {}
     },
     "3cb56ffa1729404d8fc9da9f1b9fa49f": {
      "model_module": "@jupyter-widgets/base",
      "model_module_version": "1.2.0",
      "model_name": "LayoutModel",
      "state": {}
     },
     "3cbd5c2a35774b6b88f3dc8ed8f3c83c": {
      "model_module": "@jupyter-widgets/controls",
      "model_module_version": "1.5.0",
      "model_name": "HBoxModel",
      "state": {
       "children": [
        "IPY_MODEL_2c0cd6b0908a4278a5f65fb0f04a83c2",
        "IPY_MODEL_e9967e825d524e68b37e58181f658fd1"
       ],
       "layout": "IPY_MODEL_ddd9397b0ef04c408b3c711355859acf"
      }
     },
     "3d9803a127fa4d51b95e9b71fcf15cbb": {
      "model_module": "@jupyter-widgets/controls",
      "model_module_version": "1.5.0",
      "model_name": "FloatProgressModel",
      "state": {
       "bar_style": "success",
       "description": "[2] 13/15(train): 100%",
       "layout": "IPY_MODEL_8f88bc453c734d55a5607a98894ad8c1",
       "max": 493,
       "style": "IPY_MODEL_3a7001b2a92a4a12a9c662ef8ab12dcc",
       "value": 493
      }
     },
     "3f1fe325b2014c1fb8f19d274ccf63c2": {
      "model_module": "@jupyter-widgets/controls",
      "model_module_version": "1.5.0",
      "model_name": "DescriptionStyleModel",
      "state": {
       "description_width": ""
      }
     },
     "3f52216cb08a4dcbb55794c8abbf7141": {
      "model_module": "@jupyter-widgets/base",
      "model_module_version": "1.2.0",
      "model_name": "LayoutModel",
      "state": {}
     },
     "41b7d5c1d28e484e84779f67d35e8f6b": {
      "model_module": "@jupyter-widgets/base",
      "model_module_version": "1.2.0",
      "model_name": "LayoutModel",
      "state": {}
     },
     "426b6ea70e0b42d2aad2a98c9148cef6": {
      "model_module": "@jupyter-widgets/base",
      "model_module_version": "1.2.0",
      "model_name": "LayoutModel",
      "state": {}
     },
     "430c090d173f4f4b834cb80a2a44cc9d": {
      "model_module": "@jupyter-widgets/base",
      "model_module_version": "1.2.0",
      "model_name": "LayoutModel",
      "state": {}
     },
     "434a481650db40fbbdc2666a4976b024": {
      "model_module": "@jupyter-widgets/controls",
      "model_module_version": "1.5.0",
      "model_name": "HBoxModel",
      "state": {
       "children": [
        "IPY_MODEL_69769d55036141ca90f943c3a7520539",
        "IPY_MODEL_2acbb44cf06d4158a57c29eeb80263bc"
       ],
       "layout": "IPY_MODEL_814b26805ce84180b196cce955dfd8fc"
      }
     },
     "441314c2ece742de8d11693bf90a7773": {
      "model_module": "@jupyter-widgets/controls",
      "model_module_version": "1.5.0",
      "model_name": "DescriptionStyleModel",
      "state": {
       "description_width": ""
      }
     },
     "45abd680d1a24946aad032c1d6803f2d": {
      "model_module": "@jupyter-widgets/controls",
      "model_module_version": "1.5.0",
      "model_name": "ProgressStyleModel",
      "state": {
       "description_width": "initial"
      }
     },
     "463328e251b14f379f83cd95096534b1": {
      "model_module": "@jupyter-widgets/controls",
      "model_module_version": "1.5.0",
      "model_name": "HTMLModel",
      "state": {
       "layout": "IPY_MODEL_7e92e5993a3e4ef38922edf2ec7f67ab",
       "style": "IPY_MODEL_3f1fe325b2014c1fb8f19d274ccf63c2",
       "value": " 165/165 [46:31&lt;00:00, 16.92s/it]"
      }
     },
     "465504fffa814d8395364704cd0867b5": {
      "model_module": "@jupyter-widgets/controls",
      "model_module_version": "1.5.0",
      "model_name": "HBoxModel",
      "state": {
       "children": [
        "IPY_MODEL_642b38f07f03491e81c7f995a005c362",
        "IPY_MODEL_647ec94161d248f3a2ba9463f7509e3a"
       ],
       "layout": "IPY_MODEL_4e4b1a2e3f814c798e189a0cad101641"
      }
     },
     "4687dfac2c654297ad472667ce931e51": {
      "model_module": "@jupyter-widgets/controls",
      "model_module_version": "1.5.0",
      "model_name": "FloatProgressModel",
      "state": {
       "bar_style": "danger",
       "description": "[1] 1/15(train):   0%",
       "layout": "IPY_MODEL_5d6d4330035545ab96994fe08a47b553",
       "max": 493,
       "style": "IPY_MODEL_359006297fe44744a389ae8e59466821"
      }
     },
     "470c5642304b4256ac0e760c64ad4ead": {
      "model_module": "@jupyter-widgets/base",
      "model_module_version": "1.2.0",
      "model_name": "LayoutModel",
      "state": {}
     },
     "47631cea8b5043ea89219e6373e8b5a5": {
      "model_module": "@jupyter-widgets/base",
      "model_module_version": "1.2.0",
      "model_name": "LayoutModel",
      "state": {}
     },
     "47a36213d3214fc68b2ad4d22e2d7d9e": {
      "model_module": "@jupyter-widgets/controls",
      "model_module_version": "1.5.0",
      "model_name": "ProgressStyleModel",
      "state": {
       "description_width": "initial"
      }
     },
     "485adcc3d92c42b5abe8582222749d70": {
      "model_module": "@jupyter-widgets/controls",
      "model_module_version": "1.5.0",
      "model_name": "HTMLModel",
      "state": {
       "layout": "IPY_MODEL_4e636ea35a284a04a558312cde9a59e0",
       "style": "IPY_MODEL_c5b0e1cbd77f4ec59b1f7c116fa18873",
       "value": " 493/493 [23:17&lt;00:00,  2.84s/it]"
      }
     },
     "490ed9ea9dc64756a6bb5c41c8b9cabf": {
      "model_module": "@jupyter-widgets/controls",
      "model_module_version": "1.5.0",
      "model_name": "HTMLModel",
      "state": {
       "layout": "IPY_MODEL_0571d887a52c47f190cca8269005a52f",
       "style": "IPY_MODEL_7330b0b2d16f440eace17a3a8fe37bc4",
       "value": " 165/165 [1:06:45&lt;00:00, 24.27s/it]"
      }
     },
     "4916b3e1d47545359766358574d3d44e": {
      "model_module": "@jupyter-widgets/controls",
      "model_module_version": "1.5.0",
      "model_name": "HTMLModel",
      "state": {
       "layout": "IPY_MODEL_92140950e7cc478a8d8d354001853a66",
       "style": "IPY_MODEL_eb6c9c5679ca4067b1677b1c74144877",
       "value": " 493/493 [21:50&lt;00:00,  2.66s/it]"
      }
     },
     "494f1e1408e14c94a561a19437daaefb": {
      "model_module": "@jupyter-widgets/controls",
      "model_module_version": "1.5.0",
      "model_name": "HBoxModel",
      "state": {
       "children": [
        "IPY_MODEL_e154d770388b44fa9f1863eb4543ba39",
        "IPY_MODEL_6876b3e1e94c4974b5d9a2e67dda1eb3"
       ],
       "layout": "IPY_MODEL_1fe1ac47e3f14efa8814f0ff48476fb6"
      }
     },
     "495e4819b2954de99a9ae3dff132acaf": {
      "model_module": "@jupyter-widgets/controls",
      "model_module_version": "1.5.0",
      "model_name": "FloatProgressModel",
      "state": {
       "bar_style": "success",
       "description": "[2] 10/15(train): 100%",
       "layout": "IPY_MODEL_a77ff7211c4b44ca92b129068c9050b4",
       "max": 493,
       "style": "IPY_MODEL_1f51a625f59a4da4a74fb54e89eb29cc",
       "value": 493
      }
     },
     "498a89af45a94735b58fcb2d7aa00bb3": {
      "model_module": "@jupyter-widgets/controls",
      "model_module_version": "1.5.0",
      "model_name": "HBoxModel",
      "state": {
       "children": [
        "IPY_MODEL_b38605696b114980823fd34e0be177cf",
        "IPY_MODEL_35c8fa0cb7854536b3a389c48d3a0df8"
       ],
       "layout": "IPY_MODEL_c353b597e90847f092414639fb43849e"
      }
     },
     "4a20d704838c4db38ad2af81ee7796e7": {
      "model_module": "@jupyter-widgets/base",
      "model_module_version": "1.2.0",
      "model_name": "LayoutModel",
      "state": {}
     },
     "4ae99e3792894cb28da0844dfd80055e": {
      "model_module": "@jupyter-widgets/controls",
      "model_module_version": "1.5.0",
      "model_name": "FloatProgressModel",
      "state": {
       "bar_style": "success",
       "description": "[2] 6/15(val  ): 100%",
       "layout": "IPY_MODEL_cd2a7ae9fe444594ba0f6a56cf0aaeae",
       "max": 165,
       "style": "IPY_MODEL_45abd680d1a24946aad032c1d6803f2d",
       "value": 165
      }
     },
     "4b00af0040ef4055a5c3e17bb0570fdd": {
      "model_module": "@jupyter-widgets/controls",
      "model_module_version": "1.5.0",
      "model_name": "HBoxModel",
      "state": {
       "children": [
        "IPY_MODEL_10dc5269dbd04b658549a304d9dc0291",
        "IPY_MODEL_7249ed846cdd4b4abc72037446cee42b"
       ],
       "layout": "IPY_MODEL_59e4a9375001484a8ab013dff7897b5a"
      }
     },
     "4b0cf2c0b5a545a49e02c69c4af91e8d": {
      "model_module": "@jupyter-widgets/controls",
      "model_module_version": "1.5.0",
      "model_name": "HBoxModel",
      "state": {
       "children": [
        "IPY_MODEL_f6617614d72a4e07848fde8a6507ac4b",
        "IPY_MODEL_463328e251b14f379f83cd95096534b1"
       ],
       "layout": "IPY_MODEL_c4d9d63e74b442eebeca4eba6c5316c8"
      }
     },
     "4b86e337535b4f5987ac94143736b5d5": {
      "model_module": "@jupyter-widgets/controls",
      "model_module_version": "1.5.0",
      "model_name": "FloatProgressModel",
      "state": {
       "bar_style": "success",
       "description": "[2] 3/15(val  ): 100%",
       "layout": "IPY_MODEL_f9511e08d9f24c3583ee6a3e41057031",
       "max": 165,
       "style": "IPY_MODEL_c26089aea3ad4458886ad427a0031697",
       "value": 165
      }
     },
     "4bb9f664bcee4df1bf9751c9b199e1ab": {
      "model_module": "@jupyter-widgets/controls",
      "model_module_version": "1.5.0",
      "model_name": "DescriptionStyleModel",
      "state": {
       "description_width": ""
      }
     },
     "4c494b5f6cb44ee7a492f682e79ad3ba": {
      "model_module": "@jupyter-widgets/base",
      "model_module_version": "1.2.0",
      "model_name": "LayoutModel",
      "state": {}
     },
     "4c4f03ecb7e9463b9b4646fa81668217": {
      "model_module": "@jupyter-widgets/controls",
      "model_module_version": "1.5.0",
      "model_name": "FloatProgressModel",
      "state": {
       "bar_style": "success",
       "description": "[3] 3/15(train): 100%",
       "layout": "IPY_MODEL_fdedb09989ff456f84ba8d5731335732",
       "max": 493,
       "style": "IPY_MODEL_64f3481517db4f5aa585a192654b45c2",
       "value": 493
      }
     },
     "4d0280c29686494d978f289e97a91a52": {
      "model_module": "@jupyter-widgets/base",
      "model_module_version": "1.2.0",
      "model_name": "LayoutModel",
      "state": {}
     },
     "4d345935543645fea0a5b9b9242906a1": {
      "model_module": "@jupyter-widgets/base",
      "model_module_version": "1.2.0",
      "model_name": "LayoutModel",
      "state": {}
     },
     "4e45916cfd7d4ff1a9de89132838009b": {
      "model_module": "@jupyter-widgets/controls",
      "model_module_version": "1.5.0",
      "model_name": "DescriptionStyleModel",
      "state": {
       "description_width": ""
      }
     },
     "4e4b1a2e3f814c798e189a0cad101641": {
      "model_module": "@jupyter-widgets/base",
      "model_module_version": "1.2.0",
      "model_name": "LayoutModel",
      "state": {}
     },
     "4e636ea35a284a04a558312cde9a59e0": {
      "model_module": "@jupyter-widgets/base",
      "model_module_version": "1.2.0",
      "model_name": "LayoutModel",
      "state": {}
     },
     "4ebe41b921834181b3dcb7564a15359a": {
      "model_module": "@jupyter-widgets/controls",
      "model_module_version": "1.5.0",
      "model_name": "ProgressStyleModel",
      "state": {
       "description_width": "initial"
      }
     },
     "4edb3221e5c742748c95201890c223fd": {
      "model_module": "@jupyter-widgets/base",
      "model_module_version": "1.2.0",
      "model_name": "LayoutModel",
      "state": {}
     },
     "4f5c198fdde2473cabb2854b4d8b3b60": {
      "model_module": "@jupyter-widgets/base",
      "model_module_version": "1.2.0",
      "model_name": "LayoutModel",
      "state": {}
     },
     "4f7748554a5c45f6a547cd55a2be8520": {
      "model_module": "@jupyter-widgets/controls",
      "model_module_version": "1.5.0",
      "model_name": "HTMLModel",
      "state": {
       "layout": "IPY_MODEL_3cb56ffa1729404d8fc9da9f1b9fa49f",
       "style": "IPY_MODEL_7598e8677f564b8cbcb71bcb7145de1e",
       "value": " 493/493 [20:22&lt;00:00,  2.48s/it]"
      }
     },
     "4f9dbad9a61c4dce9d8656fbe5230a8f": {
      "model_module": "@jupyter-widgets/base",
      "model_module_version": "1.2.0",
      "model_name": "LayoutModel",
      "state": {}
     },
     "4fe282014a464cfab9ef48bff4514a7c": {
      "model_module": "@jupyter-widgets/base",
      "model_module_version": "1.2.0",
      "model_name": "LayoutModel",
      "state": {}
     },
     "4ff67b31bdab4ed289c8650d13859e01": {
      "model_module": "@jupyter-widgets/base",
      "model_module_version": "1.2.0",
      "model_name": "LayoutModel",
      "state": {}
     },
     "506de5c5476247818706466340ac423b": {
      "model_module": "@jupyter-widgets/controls",
      "model_module_version": "1.5.0",
      "model_name": "ProgressStyleModel",
      "state": {
       "description_width": "initial"
      }
     },
     "524ec05115d44ac6b9203bcf3f40618e": {
      "model_module": "@jupyter-widgets/controls",
      "model_module_version": "1.5.0",
      "model_name": "FloatProgressModel",
      "state": {
       "bar_style": "success",
       "description": "[2] 15/15(train): 100%",
       "layout": "IPY_MODEL_28f4701dbeb040abb375378c0209b7d6",
       "max": 493,
       "style": "IPY_MODEL_9e6813de6a7442efa267457fad90bdb7",
       "value": 493
      }
     },
     "52d9186bc5ca46628b81d5ad28c1bf10": {
      "model_module": "@jupyter-widgets/controls",
      "model_module_version": "1.5.0",
      "model_name": "FloatProgressModel",
      "state": {
       "bar_style": "success",
       "description": "[2] 3/15(train): 100%",
       "layout": "IPY_MODEL_c6956e59605f44d2ae42c1691fcec68e",
       "max": 493,
       "style": "IPY_MODEL_95b5b7277a084986bfd18e1740081ce8",
       "value": 493
      }
     },
     "53d3b54a4fb543f68bd3484396e3658f": {
      "model_module": "@jupyter-widgets/base",
      "model_module_version": "1.2.0",
      "model_name": "LayoutModel",
      "state": {}
     },
     "544f654faa014d9a99ff6b836f8a56de": {
      "model_module": "@jupyter-widgets/controls",
      "model_module_version": "1.5.0",
      "model_name": "FloatProgressModel",
      "state": {
       "bar_style": "success",
       "description": "[2] 8/15(val  ): 100%",
       "layout": "IPY_MODEL_d63dcb7ec82642f790e086a5b9a1f929",
       "max": 165,
       "style": "IPY_MODEL_b2f888210b0c4d1a8ad528fc50f38eb8",
       "value": 165
      }
     },
     "54aeb73a255c43808cc5f83dc2e5173f": {
      "model_module": "@jupyter-widgets/controls",
      "model_module_version": "1.5.0",
      "model_name": "FloatProgressModel",
      "state": {
       "bar_style": "success",
       "description": "[3] 1/15(train): 100%",
       "layout": "IPY_MODEL_ffaca9599fc14d8eb4699f47cc1621ba",
       "max": 493,
       "style": "IPY_MODEL_83cd5f965f3b4a4295fa38314b9f4647",
       "value": 493
      }
     },
     "54cbfa28747743ab9f8abb22b016c5a8": {
      "model_module": "@jupyter-widgets/base",
      "model_module_version": "1.2.0",
      "model_name": "LayoutModel",
      "state": {}
     },
     "55d80034cb5f48cb9b714d4e33ce9c27": {
      "model_module": "@jupyter-widgets/base",
      "model_module_version": "1.2.0",
      "model_name": "LayoutModel",
      "state": {}
     },
     "56a4f10ba044437f903668c6719de111": {
      "model_module": "@jupyter-widgets/base",
      "model_module_version": "1.2.0",
      "model_name": "LayoutModel",
      "state": {}
     },
     "58698ef3f32c49b8a8673c2475f207b4": {
      "model_module": "@jupyter-widgets/base",
      "model_module_version": "1.2.0",
      "model_name": "LayoutModel",
      "state": {}
     },
     "591b72a949a249a58e5fd7ae901cafe6": {
      "model_module": "@jupyter-widgets/controls",
      "model_module_version": "1.5.0",
      "model_name": "FloatProgressModel",
      "state": {
       "bar_style": "success",
       "description": "[2] 11/15(train): 100%",
       "layout": "IPY_MODEL_094921ed107d416d988cbc141c04f6d0",
       "max": 493,
       "style": "IPY_MODEL_0b596b04cbdf48969e31f5fbc7e0f9bd",
       "value": 493
      }
     },
     "594633b38d7c4b1f907d435c5dc409e6": {
      "model_module": "@jupyter-widgets/base",
      "model_module_version": "1.2.0",
      "model_name": "LayoutModel",
      "state": {}
     },
     "59c66c76232c465f868dabd373768858": {
      "model_module": "@jupyter-widgets/controls",
      "model_module_version": "1.5.0",
      "model_name": "ProgressStyleModel",
      "state": {
       "description_width": "initial"
      }
     },
     "59e4a9375001484a8ab013dff7897b5a": {
      "model_module": "@jupyter-widgets/base",
      "model_module_version": "1.2.0",
      "model_name": "LayoutModel",
      "state": {}
     },
     "5b547ba280d24f1db9b73a9b36fbc88d": {
      "model_module": "@jupyter-widgets/base",
      "model_module_version": "1.2.0",
      "model_name": "LayoutModel",
      "state": {}
     },
     "5c38fea0e5d44be08a482393b7471c13": {
      "model_module": "@jupyter-widgets/controls",
      "model_module_version": "1.5.0",
      "model_name": "DescriptionStyleModel",
      "state": {
       "description_width": ""
      }
     },
     "5d19b1aa999b49a38562bb020eb9c276": {
      "model_module": "@jupyter-widgets/controls",
      "model_module_version": "1.5.0",
      "model_name": "HTMLModel",
      "state": {
       "layout": "IPY_MODEL_e12bad5fce4d48cb84ea49d8ca3463b6",
       "style": "IPY_MODEL_8b1ee41f70ab4f07bf89c1f8ca8ac84e",
       "value": " 165/165 [01:25&lt;00:00,  1.94it/s]"
      }
     },
     "5d30901f37d84e8c9f1afd34178890a9": {
      "model_module": "@jupyter-widgets/controls",
      "model_module_version": "1.5.0",
      "model_name": "HTMLModel",
      "state": {
       "layout": "IPY_MODEL_b4aa2e0df4db4cfcb2bb58095bb96529",
       "style": "IPY_MODEL_9f0dbdc14e524417a30827cbdbe6a403",
       "value": " 493/493 [17:46&lt;00:00,  2.16s/it]"
      }
     },
     "5d6d4330035545ab96994fe08a47b553": {
      "model_module": "@jupyter-widgets/base",
      "model_module_version": "1.2.0",
      "model_name": "LayoutModel",
      "state": {}
     },
     "5e09e922115843338c600ca630808b3d": {
      "model_module": "@jupyter-widgets/base",
      "model_module_version": "1.2.0",
      "model_name": "LayoutModel",
      "state": {}
     },
     "5e92a9d4dc774882955c88cfc4418ac8": {
      "model_module": "@jupyter-widgets/controls",
      "model_module_version": "1.5.0",
      "model_name": "ProgressStyleModel",
      "state": {
       "description_width": "initial"
      }
     },
     "601b03d537c7418da438755caa1d0a7f": {
      "model_module": "@jupyter-widgets/controls",
      "model_module_version": "1.5.0",
      "model_name": "DescriptionStyleModel",
      "state": {
       "description_width": ""
      }
     },
     "6073824b9573462db17b8a242f6a15f5": {
      "model_module": "@jupyter-widgets/base",
      "model_module_version": "1.2.0",
      "model_name": "LayoutModel",
      "state": {}
     },
     "62f0213c12e948e5bb04b72c05e9fe19": {
      "model_module": "@jupyter-widgets/controls",
      "model_module_version": "1.5.0",
      "model_name": "DescriptionStyleModel",
      "state": {
       "description_width": ""
      }
     },
     "642b38f07f03491e81c7f995a005c362": {
      "model_module": "@jupyter-widgets/controls",
      "model_module_version": "1.5.0",
      "model_name": "FloatProgressModel",
      "state": {
       "bar_style": "success",
       "description": "[2] 15/15(val  ): 100%",
       "layout": "IPY_MODEL_e9daa449ac7542259aa87112d8ae31f6",
       "max": 165,
       "style": "IPY_MODEL_ac326dacb7cd453d90d86b0bb628112c",
       "value": 165
      }
     },
     "64587a88036a4a0ab2d06c5da0bb756f": {
      "model_module": "@jupyter-widgets/controls",
      "model_module_version": "1.5.0",
      "model_name": "ProgressStyleModel",
      "state": {
       "description_width": "initial"
      }
     },
     "647ec94161d248f3a2ba9463f7509e3a": {
      "model_module": "@jupyter-widgets/controls",
      "model_module_version": "1.5.0",
      "model_name": "HTMLModel",
      "state": {
       "layout": "IPY_MODEL_1d31c69b43b1433e99c67be6d1d9bd37",
       "style": "IPY_MODEL_18533bf4d9fc422ba0537cf909954ed8",
       "value": " 165/165 [00:43&lt;00:00,  3.80it/s]"
      }
     },
     "64f3481517db4f5aa585a192654b45c2": {
      "model_module": "@jupyter-widgets/controls",
      "model_module_version": "1.5.0",
      "model_name": "ProgressStyleModel",
      "state": {
       "description_width": "initial"
      }
     },
     "6551c38c1e7944e699ab6b2a39fcb8b1": {
      "model_module": "@jupyter-widgets/controls",
      "model_module_version": "1.5.0",
      "model_name": "HBoxModel",
      "state": {
       "children": [
        "IPY_MODEL_7346843415c742e388f6264139c2c1f4",
        "IPY_MODEL_742f16b181af468999616dddcd14fa13"
       ],
       "layout": "IPY_MODEL_811e3aa3d3494f7f81236a6fa135ead4"
      }
     },
     "663f92ab22fd4486b6e2e3bb2a3d3091": {
      "model_module": "@jupyter-widgets/base",
      "model_module_version": "1.2.0",
      "model_name": "LayoutModel",
      "state": {}
     },
     "6656a9b1c8e64b4eb527f4f48b71fef2": {
      "model_module": "@jupyter-widgets/controls",
      "model_module_version": "1.5.0",
      "model_name": "ProgressStyleModel",
      "state": {
       "description_width": "initial"
      }
     },
     "66bc7393a99949d88041c30d94530f07": {
      "model_module": "@jupyter-widgets/controls",
      "model_module_version": "1.5.0",
      "model_name": "HTMLModel",
      "state": {
       "layout": "IPY_MODEL_ca41ac5007b14259ac81d60651651193",
       "style": "IPY_MODEL_8b7d81cc65d149b2a71173a6fb79a628",
       "value": " 493/493 [2:32:26&lt;00:00, 18.55s/it]"
      }
     },
     "66d34a88ec844216937e8e483f7eb0ae": {
      "model_module": "@jupyter-widgets/base",
      "model_module_version": "1.2.0",
      "model_name": "LayoutModel",
      "state": {}
     },
     "67024c7c573a4831aca863bc282cf569": {
      "model_module": "@jupyter-widgets/controls",
      "model_module_version": "1.5.0",
      "model_name": "HBoxModel",
      "state": {
       "children": [
        "IPY_MODEL_f8254902313b4ce099058f32aa12a550",
        "IPY_MODEL_5d30901f37d84e8c9f1afd34178890a9"
       ],
       "layout": "IPY_MODEL_4c494b5f6cb44ee7a492f682e79ad3ba"
      }
     },
     "67459d50437b432dbe99a431fd8e2712": {
      "model_module": "@jupyter-widgets/controls",
      "model_module_version": "1.5.0",
      "model_name": "HBoxModel",
      "state": {
       "children": [
        "IPY_MODEL_1fc0596a4036494a8fd10094af7e2b18",
        "IPY_MODEL_0b579a2eecc34f02ac570c4702b5b238"
       ],
       "layout": "IPY_MODEL_05589f84f98b4bbd9b18e5d400e9518a"
      }
     },
     "6754cb61db244f6481f5e5857991e0c9": {
      "model_module": "@jupyter-widgets/controls",
      "model_module_version": "1.5.0",
      "model_name": "ProgressStyleModel",
      "state": {
       "description_width": "initial"
      }
     },
     "6791a55f834445baaed8d6d084036540": {
      "model_module": "@jupyter-widgets/base",
      "model_module_version": "1.2.0",
      "model_name": "LayoutModel",
      "state": {}
     },
     "67d0cdaca040458f86b285c303f1ca9d": {
      "model_module": "@jupyter-widgets/controls",
      "model_module_version": "1.5.0",
      "model_name": "DescriptionStyleModel",
      "state": {
       "description_width": ""
      }
     },
     "68458146c91a4af18a59173f04c6a92f": {
      "model_module": "@jupyter-widgets/controls",
      "model_module_version": "1.5.0",
      "model_name": "HTMLModel",
      "state": {
       "layout": "IPY_MODEL_3b73da128e08484c9303e133624f53fc",
       "style": "IPY_MODEL_4bb9f664bcee4df1bf9751c9b199e1ab",
       "value": " 1/493 [00:07&lt;59:36,  7.27s/it]"
      }
     },
     "685321654ae94733a93c9e32b1e26ae4": {
      "model_module": "@jupyter-widgets/controls",
      "model_module_version": "1.5.0",
      "model_name": "DescriptionStyleModel",
      "state": {
       "description_width": ""
      }
     },
     "6864819242384c949327fbd2beea8ad8": {
      "model_module": "@jupyter-widgets/controls",
      "model_module_version": "1.5.0",
      "model_name": "HBoxModel",
      "state": {
       "children": [
        "IPY_MODEL_4687dfac2c654297ad472667ce931e51",
        "IPY_MODEL_9605a304f3c44ee5add2cf1caec1ae39"
       ],
       "layout": "IPY_MODEL_f5f02b304a144161b0fffde639ceec5d"
      }
     },
     "6876b3e1e94c4974b5d9a2e67dda1eb3": {
      "model_module": "@jupyter-widgets/controls",
      "model_module_version": "1.5.0",
      "model_name": "HTMLModel",
      "state": {
       "layout": "IPY_MODEL_782cb8e9d9b941e6940702470cd0a82a",
       "style": "IPY_MODEL_efdbb47434a74f919c740b2f546f48c0",
       "value": " 165/165 [01:17&lt;00:00,  2.12it/s]"
      }
     },
     "68a5b3304e4c449d8d2b4fc13ec5c557": {
      "model_module": "@jupyter-widgets/base",
      "model_module_version": "1.2.0",
      "model_name": "LayoutModel",
      "state": {}
     },
     "68eadd8871fd49e9adf43111941c8410": {
      "model_module": "@jupyter-widgets/controls",
      "model_module_version": "1.5.0",
      "model_name": "ProgressStyleModel",
      "state": {
       "description_width": "initial"
      }
     },
     "69769d55036141ca90f943c3a7520539": {
      "model_module": "@jupyter-widgets/controls",
      "model_module_version": "1.5.0",
      "model_name": "FloatProgressModel",
      "state": {
       "bar_style": "success",
       "description": "[2] 6/15(train): 100%",
       "layout": "IPY_MODEL_41b7d5c1d28e484e84779f67d35e8f6b",
       "max": 493,
       "style": "IPY_MODEL_f8e38dad61814c54b8d91cc1e85e435b",
       "value": 493
      }
     },
     "69984d2dfac641d2aed886afac8fa364": {
      "model_module": "@jupyter-widgets/base",
      "model_module_version": "1.2.0",
      "model_name": "LayoutModel",
      "state": {}
     },
     "69a4878e6a7b4a55b4916d0e30146bfe": {
      "model_module": "@jupyter-widgets/controls",
      "model_module_version": "1.5.0",
      "model_name": "ProgressStyleModel",
      "state": {
       "description_width": "initial"
      }
     },
     "6a6132d95f2d444abfb1c4e199220167": {
      "model_module": "@jupyter-widgets/controls",
      "model_module_version": "1.5.0",
      "model_name": "FloatProgressModel",
      "state": {
       "bar_style": "success",
       "description": "[2] 2/15(val  ): 100%",
       "layout": "IPY_MODEL_a09417b1ba86425eb821169bd2ed7127",
       "max": 165,
       "style": "IPY_MODEL_eadc3e4e57524152bffd1fbcf33f415e",
       "value": 165
      }
     },
     "6a72c847c0ca45279432f4a52d141133": {
      "model_module": "@jupyter-widgets/controls",
      "model_module_version": "1.5.0",
      "model_name": "FloatProgressModel",
      "state": {
       "bar_style": "success",
       "description": "100%",
       "layout": "IPY_MODEL_38c865f01ec142f3aae2a316a0b0c969",
       "max": 165,
       "style": "IPY_MODEL_840e43ad5bb74969ad2ae3f348973b61",
       "value": 165
      }
     },
     "6ab3c19a38ce4a6e893d808adbe2131b": {
      "model_module": "@jupyter-widgets/base",
      "model_module_version": "1.2.0",
      "model_name": "LayoutModel",
      "state": {}
     },
     "6ae7fee900ce4d7a8d2870d7a2fc6424": {
      "model_module": "@jupyter-widgets/base",
      "model_module_version": "1.2.0",
      "model_name": "LayoutModel",
      "state": {}
     },
     "6b59835f70534ef7be89cbafaf201623": {
      "model_module": "@jupyter-widgets/base",
      "model_module_version": "1.2.0",
      "model_name": "LayoutModel",
      "state": {}
     },
     "6c7f4dba2960461fbe7438e06a943942": {
      "model_module": "@jupyter-widgets/base",
      "model_module_version": "1.2.0",
      "model_name": "LayoutModel",
      "state": {}
     },
     "6cde28beb7d14e9e9f1f259cfbc94f4a": {
      "model_module": "@jupyter-widgets/controls",
      "model_module_version": "1.5.0",
      "model_name": "HTMLModel",
      "state": {
       "layout": "IPY_MODEL_c79307cfe03d47f0969a82d533fef3d9",
       "style": "IPY_MODEL_e4af65c519004033b987261fb1a9125b",
       "value": " 493/493 [17:41&lt;00:00,  2.15s/it]"
      }
     },
     "6d545947afb846ee8b81ad40e5df63cd": {
      "model_module": "@jupyter-widgets/controls",
      "model_module_version": "1.5.0",
      "model_name": "FloatProgressModel",
      "state": {
       "bar_style": "success",
       "description": "[2] 12/15(train): 100%",
       "layout": "IPY_MODEL_9102e79b3624421bbd6c91429c67fd8e",
       "max": 493,
       "style": "IPY_MODEL_dcbdcbd713534f7ab6f6e368b5d02d25",
       "value": 493
      }
     },
     "6d7651cda0174778ad0656ecb2771785": {
      "model_module": "@jupyter-widgets/controls",
      "model_module_version": "1.5.0",
      "model_name": "DescriptionStyleModel",
      "state": {
       "description_width": ""
      }
     },
     "6d7bdfecfb53471c8a9abdb57b5a8a59": {
      "model_module": "@jupyter-widgets/controls",
      "model_module_version": "1.5.0",
      "model_name": "ProgressStyleModel",
      "state": {
       "description_width": "initial"
      }
     },
     "6dc733ae72164902845ea8388b595640": {
      "model_module": "@jupyter-widgets/base",
      "model_module_version": "1.2.0",
      "model_name": "LayoutModel",
      "state": {}
     },
     "6de3592271654fda922a5ade7396b9fb": {
      "model_module": "@jupyter-widgets/controls",
      "model_module_version": "1.5.0",
      "model_name": "ProgressStyleModel",
      "state": {
       "description_width": "initial"
      }
     },
     "6e429e677f744e0ea7220d70be6a87b7": {
      "model_module": "@jupyter-widgets/controls",
      "model_module_version": "1.5.0",
      "model_name": "HTMLModel",
      "state": {
       "layout": "IPY_MODEL_c20e03b9a58c42b7a8adb87414a349d3",
       "style": "IPY_MODEL_25367643a1c342c1a4f76c2452606e57",
       "value": " 165/165 [1:55:36&lt;00:00, 42.04s/it]"
      }
     },
     "6e51f9500b7849e18132b3f23666132c": {
      "model_module": "@jupyter-widgets/base",
      "model_module_version": "1.2.0",
      "model_name": "LayoutModel",
      "state": {}
     },
     "6f6ff67a170c445a99e0685275638a9d": {
      "model_module": "@jupyter-widgets/controls",
      "model_module_version": "1.5.0",
      "model_name": "ProgressStyleModel",
      "state": {
       "description_width": "initial"
      }
     },
     "7249ed846cdd4b4abc72037446cee42b": {
      "model_module": "@jupyter-widgets/controls",
      "model_module_version": "1.5.0",
      "model_name": "HTMLModel",
      "state": {
       "layout": "IPY_MODEL_79864be8a9094159b0a2598743d913b3",
       "style": "IPY_MODEL_7f39d4d847734ce98602ecca486603e2",
       "value": " 165/165 [01:23&lt;00:00,  1.99it/s]"
      }
     },
     "727760d0c33846438aee5c566eb48b4d": {
      "model_module": "@jupyter-widgets/controls",
      "model_module_version": "1.5.0",
      "model_name": "ProgressStyleModel",
      "state": {
       "description_width": "initial"
      }
     },
     "72b531722e644beeb9d312af9703c002": {
      "model_module": "@jupyter-widgets/controls",
      "model_module_version": "1.5.0",
      "model_name": "DescriptionStyleModel",
      "state": {
       "description_width": ""
      }
     },
     "72bd164ec4fa4b14887e4c5366566e18": {
      "model_module": "@jupyter-widgets/controls",
      "model_module_version": "1.5.0",
      "model_name": "HTMLModel",
      "state": {
       "layout": "IPY_MODEL_179e2624cf9f499a9fc0ddb9412582ce",
       "style": "IPY_MODEL_98af91493129425d8a3fe09807e10e85",
       "value": " 493/493 [2:33:54&lt;00:00, 18.73s/it]"
      }
     },
     "7330b0b2d16f440eace17a3a8fe37bc4": {
      "model_module": "@jupyter-widgets/controls",
      "model_module_version": "1.5.0",
      "model_name": "DescriptionStyleModel",
      "state": {
       "description_width": ""
      }
     },
     "7346843415c742e388f6264139c2c1f4": {
      "model_module": "@jupyter-widgets/controls",
      "model_module_version": "1.5.0",
      "model_name": "FloatProgressModel",
      "state": {
       "bar_style": "success",
       "description": "[2] 9/15(val  ): 100%",
       "layout": "IPY_MODEL_b0f2882d8f3b4fe4acccb44ab770b074",
       "max": 165,
       "style": "IPY_MODEL_5e92a9d4dc774882955c88cfc4418ac8",
       "value": 165
      }
     },
     "73eabb60cfcd419e931cb79459b3b0e6": {
      "model_module": "@jupyter-widgets/base",
      "model_module_version": "1.2.0",
      "model_name": "LayoutModel",
      "state": {}
     },
     "742f16b181af468999616dddcd14fa13": {
      "model_module": "@jupyter-widgets/controls",
      "model_module_version": "1.5.0",
      "model_name": "HTMLModel",
      "state": {
       "layout": "IPY_MODEL_1c79619a064a4d94b1d7d87ab0aee3a3",
       "style": "IPY_MODEL_62f0213c12e948e5bb04b72c05e9fe19",
       "value": " 165/165 [1:51:45&lt;00:00, 40.64s/it]"
      }
     },
     "74c5ad9a68cb441ea156ab51397cfa26": {
      "model_module": "@jupyter-widgets/base",
      "model_module_version": "1.2.0",
      "model_name": "LayoutModel",
      "state": {}
     },
     "7598e8677f564b8cbcb71bcb7145de1e": {
      "model_module": "@jupyter-widgets/controls",
      "model_module_version": "1.5.0",
      "model_name": "DescriptionStyleModel",
      "state": {
       "description_width": ""
      }
     },
     "762d172b273948e284608daafeabd33c": {
      "model_module": "@jupyter-widgets/controls",
      "model_module_version": "1.5.0",
      "model_name": "ProgressStyleModel",
      "state": {
       "description_width": "initial"
      }
     },
     "76bedc5e80684457a02efa08b591710c": {
      "model_module": "@jupyter-widgets/base",
      "model_module_version": "1.2.0",
      "model_name": "LayoutModel",
      "state": {}
     },
     "76cccb1438ee47eea5d1b552f5c1a8aa": {
      "model_module": "@jupyter-widgets/controls",
      "model_module_version": "1.5.0",
      "model_name": "DescriptionStyleModel",
      "state": {
       "description_width": ""
      }
     },
     "7740d11ba5444ddebe7b896f08e68bb7": {
      "model_module": "@jupyter-widgets/base",
      "model_module_version": "1.2.0",
      "model_name": "LayoutModel",
      "state": {}
     },
     "775d5b5223294228bcf92dc6e29c3c58": {
      "model_module": "@jupyter-widgets/controls",
      "model_module_version": "1.5.0",
      "model_name": "ProgressStyleModel",
      "state": {
       "description_width": "initial"
      }
     },
     "779ebca63acd4f45b51a523bf66c918f": {
      "model_module": "@jupyter-widgets/controls",
      "model_module_version": "1.5.0",
      "model_name": "HBoxModel",
      "state": {
       "children": [
        "IPY_MODEL_92e644c1bfbe4b7f8043db9ffe5c0f88",
        "IPY_MODEL_5d19b1aa999b49a38562bb020eb9c276"
       ],
       "layout": "IPY_MODEL_a66362c4cfcf4221b00e80b790d17480"
      }
     },
     "77a1cd3f764841d194aaecb1a706ea6c": {
      "model_module": "@jupyter-widgets/base",
      "model_module_version": "1.2.0",
      "model_name": "LayoutModel",
      "state": {}
     },
     "782cb8e9d9b941e6940702470cd0a82a": {
      "model_module": "@jupyter-widgets/base",
      "model_module_version": "1.2.0",
      "model_name": "LayoutModel",
      "state": {}
     },
     "78e0e0efd7e84c678277573c12c38f83": {
      "model_module": "@jupyter-widgets/base",
      "model_module_version": "1.2.0",
      "model_name": "LayoutModel",
      "state": {}
     },
     "78f8599961fd4035a3cf8e431089828c": {
      "model_module": "@jupyter-widgets/base",
      "model_module_version": "1.2.0",
      "model_name": "LayoutModel",
      "state": {}
     },
     "79291a2aabad465788ea9daf04825aaa": {
      "model_module": "@jupyter-widgets/controls",
      "model_module_version": "1.5.0",
      "model_name": "HBoxModel",
      "state": {
       "children": [
        "IPY_MODEL_0053fd6fbf9c48299180f6f708987f50",
        "IPY_MODEL_038d6580db23458584cae5c06e18537a"
       ],
       "layout": "IPY_MODEL_30ba660410c041eea1ab5ae8445fb82f"
      }
     },
     "7939fb1ec9d84ba2b2cc7bd413e06e3a": {
      "model_module": "@jupyter-widgets/controls",
      "model_module_version": "1.5.0",
      "model_name": "HBoxModel",
      "state": {
       "children": [
        "IPY_MODEL_372c6ee9e2ce4175843916abd01d2e98",
        "IPY_MODEL_e9f0d55c04f4482892fc579c16181424"
       ],
       "layout": "IPY_MODEL_4d0280c29686494d978f289e97a91a52"
      }
     },
     "79864be8a9094159b0a2598743d913b3": {
      "model_module": "@jupyter-widgets/base",
      "model_module_version": "1.2.0",
      "model_name": "LayoutModel",
      "state": {}
     },
     "7a699e2999ce4877a27bb5b2700e693a": {
      "model_module": "@jupyter-widgets/controls",
      "model_module_version": "1.5.0",
      "model_name": "HBoxModel",
      "state": {
       "children": [
        "IPY_MODEL_ce322c3792224e62aedf8b59c964ca67",
        "IPY_MODEL_c95c6df2fd704663bda17b0107480c29"
       ],
       "layout": "IPY_MODEL_9c41f395a14c440e8a323f0d266e8658"
      }
     },
     "7a8d962ad31940a2b5a4d26f910064dd": {
      "model_module": "@jupyter-widgets/controls",
      "model_module_version": "1.5.0",
      "model_name": "FloatProgressModel",
      "state": {
       "bar_style": "success",
       "description": "[3] 5/15(train): 100%",
       "layout": "IPY_MODEL_9085f5c784f44c309e7250be766b91fc",
       "max": 493,
       "style": "IPY_MODEL_2102958c14204c03a4a278e80f68a57b",
       "value": 493
      }
     },
     "7af0b05778064d748ed59ed9a8887e98": {
      "model_module": "@jupyter-widgets/controls",
      "model_module_version": "1.5.0",
      "model_name": "HTMLModel",
      "state": {
       "layout": "IPY_MODEL_6b59835f70534ef7be89cbafaf201623",
       "style": "IPY_MODEL_67d0cdaca040458f86b285c303f1ca9d",
       "value": " 165/165 [01:24&lt;00:00,  1.96it/s]"
      }
     },
     "7b2522a12b1d40da8c648bacdcc6a5c7": {
      "model_module": "@jupyter-widgets/controls",
      "model_module_version": "1.5.0",
      "model_name": "HTMLModel",
      "state": {
       "layout": "IPY_MODEL_fa6f1cebe47b4b25a5d5d52657639b31",
       "style": "IPY_MODEL_f9c757e5a6ef4c9eaa371c539a448ef7",
       "value": " 165/165 [01:23&lt;00:00,  1.97it/s]"
      }
     },
     "7c1a77bde09543318cba1df9695bf86b": {
      "model_module": "@jupyter-widgets/base",
      "model_module_version": "1.2.0",
      "model_name": "LayoutModel",
      "state": {}
     },
     "7c5dd8016ec140ce92e3501375657e08": {
      "model_module": "@jupyter-widgets/controls",
      "model_module_version": "1.5.0",
      "model_name": "HBoxModel",
      "state": {
       "children": [
        "IPY_MODEL_7a8d962ad31940a2b5a4d26f910064dd",
        "IPY_MODEL_6cde28beb7d14e9e9f1f259cfbc94f4a"
       ],
       "layout": "IPY_MODEL_d51a8b36e8074bc195b1f31b13ece71c"
      }
     },
     "7c71c436f6874b8fbc1993f4058b784e": {
      "model_module": "@jupyter-widgets/controls",
      "model_module_version": "1.5.0",
      "model_name": "DescriptionStyleModel",
      "state": {
       "description_width": ""
      }
     },
     "7cf134ff9b2940e980e3e1ba480bb7d2": {
      "model_module": "@jupyter-widgets/controls",
      "model_module_version": "1.5.0",
      "model_name": "FloatProgressModel",
      "state": {
       "bar_style": "success",
       "description": "[3] 13/15(train): 100%",
       "layout": "IPY_MODEL_2c0102e1aa2f4112a7d2b236cff32a70",
       "max": 493,
       "style": "IPY_MODEL_d8808b953ece4d28b8e60498c89a69d1",
       "value": 493
      }
     },
     "7d92429548bd4a93af4ac90fc4459515": {
      "model_module": "@jupyter-widgets/base",
      "model_module_version": "1.2.0",
      "model_name": "LayoutModel",
      "state": {}
     },
     "7da6a5fce2034a53a9d110b7fb1241bd": {
      "model_module": "@jupyter-widgets/base",
      "model_module_version": "1.2.0",
      "model_name": "LayoutModel",
      "state": {}
     },
     "7e31ae2d23f44fb4b16daf689719ccf2": {
      "model_module": "@jupyter-widgets/controls",
      "model_module_version": "1.5.0",
      "model_name": "DescriptionStyleModel",
      "state": {
       "description_width": ""
      }
     },
     "7e42ae51f6b647dbab832ff4d86b04c2": {
      "model_module": "@jupyter-widgets/controls",
      "model_module_version": "1.5.0",
      "model_name": "DescriptionStyleModel",
      "state": {
       "description_width": ""
      }
     },
     "7e4bfc1ce79b48d59f776bd7418d0ae0": {
      "model_module": "@jupyter-widgets/controls",
      "model_module_version": "1.5.0",
      "model_name": "HBoxModel",
      "state": {
       "children": [
        "IPY_MODEL_2ed65217d96242ad89bfde12c3349384",
        "IPY_MODEL_7b2522a12b1d40da8c648bacdcc6a5c7"
       ],
       "layout": "IPY_MODEL_99650eb1efe24d41b2c5762d02b3eb38"
      }
     },
     "7e92e5993a3e4ef38922edf2ec7f67ab": {
      "model_module": "@jupyter-widgets/base",
      "model_module_version": "1.2.0",
      "model_name": "LayoutModel",
      "state": {}
     },
     "7ea85506907544e990d790e1ecbc69c2": {
      "model_module": "@jupyter-widgets/controls",
      "model_module_version": "1.5.0",
      "model_name": "DescriptionStyleModel",
      "state": {
       "description_width": ""
      }
     },
     "7ee3fd19368c47b39e47c3bd7d0f3ddb": {
      "model_module": "@jupyter-widgets/controls",
      "model_module_version": "1.5.0",
      "model_name": "FloatProgressModel",
      "state": {
       "bar_style": "success",
       "description": "[3] 11/15(val  ): 100%",
       "layout": "IPY_MODEL_e8944c0b732041409977d095f6a6358e",
       "max": 165,
       "style": "IPY_MODEL_925a2d528c774d9583e572ce6063d5af",
       "value": 165
      }
     },
     "7f39d4d847734ce98602ecca486603e2": {
      "model_module": "@jupyter-widgets/controls",
      "model_module_version": "1.5.0",
      "model_name": "DescriptionStyleModel",
      "state": {
       "description_width": ""
      }
     },
     "7f5dcec85cf442e692cfb6090fc7ef74": {
      "model_module": "@jupyter-widgets/controls",
      "model_module_version": "1.5.0",
      "model_name": "FloatProgressModel",
      "state": {
       "bar_style": "success",
       "description": "100%",
       "layout": "IPY_MODEL_0d02231d23094399b888c88de9c8ffd3",
       "max": 165,
       "style": "IPY_MODEL_727760d0c33846438aee5c566eb48b4d",
       "value": 165
      }
     },
     "7f91fc21b6c14d8da30634df472e177a": {
      "model_module": "@jupyter-widgets/controls",
      "model_module_version": "1.5.0",
      "model_name": "ProgressStyleModel",
      "state": {
       "description_width": "initial"
      }
     },
     "7fa8fa6d6b334320ab5e777cd4d415b5": {
      "model_module": "@jupyter-widgets/controls",
      "model_module_version": "1.5.0",
      "model_name": "FloatProgressModel",
      "state": {
       "bar_style": "success",
       "description": "[2] 8/15(train): 100%",
       "layout": "IPY_MODEL_2c9dcf23be72447cacc7c45ada62b1d0",
       "max": 493,
       "style": "IPY_MODEL_6de3592271654fda922a5ade7396b9fb",
       "value": 493
      }
     },
     "7fbccd373d74489ab1e5d7ef3425e3ca": {
      "model_module": "@jupyter-widgets/controls",
      "model_module_version": "1.5.0",
      "model_name": "HBoxModel",
      "state": {
       "children": [
        "IPY_MODEL_3d9803a127fa4d51b95e9b71fcf15cbb",
        "IPY_MODEL_2a42768da8754459abb8fbe2048e7650"
       ],
       "layout": "IPY_MODEL_349716feede04a0aa14a0cf5189aa025"
      }
     },
     "811e3aa3d3494f7f81236a6fa135ead4": {
      "model_module": "@jupyter-widgets/base",
      "model_module_version": "1.2.0",
      "model_name": "LayoutModel",
      "state": {}
     },
     "814b26805ce84180b196cce955dfd8fc": {
      "model_module": "@jupyter-widgets/base",
      "model_module_version": "1.2.0",
      "model_name": "LayoutModel",
      "state": {}
     },
     "819eee5e88c14d4cb1a5fafe04e67de5": {
      "model_module": "@jupyter-widgets/controls",
      "model_module_version": "1.5.0",
      "model_name": "ProgressStyleModel",
      "state": {
       "description_width": "initial"
      }
     },
     "820b4d5ac97c4951a310fc02c4a76e10": {
      "model_module": "@jupyter-widgets/controls",
      "model_module_version": "1.5.0",
      "model_name": "HTMLModel",
      "state": {
       "layout": "IPY_MODEL_13040cc9c49d4d61b2462ea7a58d3f09",
       "style": "IPY_MODEL_05e3e2e4a5a547b99e5078eb108ae136",
       "value": " 493/493 [3:10:21&lt;00:00, 23.17s/it]"
      }
     },
     "82852f909d8b4ad097998bf5ace55317": {
      "model_module": "@jupyter-widgets/controls",
      "model_module_version": "1.5.0",
      "model_name": "DescriptionStyleModel",
      "state": {
       "description_width": ""
      }
     },
     "82a8f2e5d70d4117b004724ad5917d2c": {
      "model_module": "@jupyter-widgets/base",
      "model_module_version": "1.2.0",
      "model_name": "LayoutModel",
      "state": {}
     },
     "83277906c7de468a830f5128d9600693": {
      "model_module": "@jupyter-widgets/controls",
      "model_module_version": "1.5.0",
      "model_name": "HBoxModel",
      "state": {
       "children": [
        "IPY_MODEL_23dc0a7d7e384908bb78fff171c566a1",
        "IPY_MODEL_104160929f154caf843171908cdf9f2a"
       ],
       "layout": "IPY_MODEL_996374e144d4481da504d330ba74cef6"
      }
     },
     "836edcd086fa478a9a9f1ad717a38e6c": {
      "model_module": "@jupyter-widgets/controls",
      "model_module_version": "1.5.0",
      "model_name": "HBoxModel",
      "state": {
       "children": [
        "IPY_MODEL_52d9186bc5ca46628b81d5ad28c1bf10",
        "IPY_MODEL_3b910714be2e4af9b998399b70f53739"
       ],
       "layout": "IPY_MODEL_53d3b54a4fb543f68bd3484396e3658f"
      }
     },
     "83ca0663bb2b4f2aaf81c08068c2bb66": {
      "model_module": "@jupyter-widgets/base",
      "model_module_version": "1.2.0",
      "model_name": "LayoutModel",
      "state": {}
     },
     "83cd5f965f3b4a4295fa38314b9f4647": {
      "model_module": "@jupyter-widgets/controls",
      "model_module_version": "1.5.0",
      "model_name": "ProgressStyleModel",
      "state": {
       "description_width": "initial"
      }
     },
     "840e43ad5bb74969ad2ae3f348973b61": {
      "model_module": "@jupyter-widgets/controls",
      "model_module_version": "1.5.0",
      "model_name": "ProgressStyleModel",
      "state": {
       "description_width": "initial"
      }
     },
     "84d1109c39c247fe9f0c42ac0df49262": {
      "model_module": "@jupyter-widgets/base",
      "model_module_version": "1.2.0",
      "model_name": "LayoutModel",
      "state": {}
     },
     "85061a3cc1bb4c5ca494ce2aa61d18e8": {
      "model_module": "@jupyter-widgets/controls",
      "model_module_version": "1.5.0",
      "model_name": "HTMLModel",
      "state": {
       "layout": "IPY_MODEL_4ff67b31bdab4ed289c8650d13859e01",
       "style": "IPY_MODEL_6d7651cda0174778ad0656ecb2771785",
       "value": " 165/165 [00:35&lt;00:00,  4.59it/s]"
      }
     },
     "85f49227526c45dd9af9db6f87290eb8": {
      "model_module": "@jupyter-widgets/controls",
      "model_module_version": "1.5.0",
      "model_name": "HBoxModel",
      "state": {
       "children": [
        "IPY_MODEL_d228a4ff5f0c4afd81bacbf5c70268f5",
        "IPY_MODEL_29c9f671d310440194aa13a535406562"
       ],
       "layout": "IPY_MODEL_fd39f1ffbfc54bec9358aa9119ce8d85"
      }
     },
     "861bb09b2bbd432da12c5383e3f5f707": {
      "model_module": "@jupyter-widgets/base",
      "model_module_version": "1.2.0",
      "model_name": "LayoutModel",
      "state": {}
     },
     "86729fb601ef4d349162bf34760a6755": {
      "model_module": "@jupyter-widgets/base",
      "model_module_version": "1.2.0",
      "model_name": "LayoutModel",
      "state": {}
     },
     "867c03fba8d14f129c743db572923a4b": {
      "model_module": "@jupyter-widgets/controls",
      "model_module_version": "1.5.0",
      "model_name": "FloatProgressModel",
      "state": {
       "bar_style": "success",
       "description": "[3] 3/15(val  ): 100%",
       "layout": "IPY_MODEL_e0a8599719344d4bb87b4a1e2a1ce369",
       "max": 165,
       "style": "IPY_MODEL_3368a1a38ce4499db7f1cdbec2c5ac28",
       "value": 165
      }
     },
     "86a818abc4674ac2b73b1aa8887e1da5": {
      "model_module": "@jupyter-widgets/controls",
      "model_module_version": "1.5.0",
      "model_name": "DescriptionStyleModel",
      "state": {
       "description_width": ""
      }
     },
     "86dc9624cdb447f786b1f1bc4ff0ed1f": {
      "model_module": "@jupyter-widgets/controls",
      "model_module_version": "1.5.0",
      "model_name": "HTMLModel",
      "state": {
       "layout": "IPY_MODEL_86729fb601ef4d349162bf34760a6755",
       "style": "IPY_MODEL_be6e149fb2ee4720a94b808667d01ba4",
       "value": " 493/493 [17:42&lt;00:00,  2.16s/it]"
      }
     },
     "883bb9e1ca9f40dcab6f1e41de73df32": {
      "model_module": "@jupyter-widgets/controls",
      "model_module_version": "1.5.0",
      "model_name": "ProgressStyleModel",
      "state": {
       "description_width": "initial"
      }
     },
     "88c79b6e54c44e68899fddfa8cc486b6": {
      "model_module": "@jupyter-widgets/base",
      "model_module_version": "1.2.0",
      "model_name": "LayoutModel",
      "state": {}
     },
     "8b1ee41f70ab4f07bf89c1f8ca8ac84e": {
      "model_module": "@jupyter-widgets/controls",
      "model_module_version": "1.5.0",
      "model_name": "DescriptionStyleModel",
      "state": {
       "description_width": ""
      }
     },
     "8b7d81cc65d149b2a71173a6fb79a628": {
      "model_module": "@jupyter-widgets/controls",
      "model_module_version": "1.5.0",
      "model_name": "DescriptionStyleModel",
      "state": {
       "description_width": ""
      }
     },
     "8c53366da5fc422aafb41065884a1a24": {
      "model_module": "@jupyter-widgets/controls",
      "model_module_version": "1.5.0",
      "model_name": "HBoxModel",
      "state": {
       "children": [
        "IPY_MODEL_d8f31951840244e1833ca68e4884a017",
        "IPY_MODEL_e193d59db1884e919324d71527ec9c5f"
       ],
       "layout": "IPY_MODEL_dc7edcd80fe144efb86e61c944c4c831"
      }
     },
     "8c81dc8cd89b4c53af0757ae317e82a5": {
      "model_module": "@jupyter-widgets/base",
      "model_module_version": "1.2.0",
      "model_name": "LayoutModel",
      "state": {}
     },
     "8cdd200ad22042488a02dbfa7b83d85d": {
      "model_module": "@jupyter-widgets/controls",
      "model_module_version": "1.5.0",
      "model_name": "HTMLModel",
      "state": {
       "layout": "IPY_MODEL_b11bc4f78e4c43ce811ba5c482c9ebe2",
       "style": "IPY_MODEL_c0a3178f9a5f44faadf968cb05daf69e",
       "value": " 493/493 [17:43&lt;00:00,  2.16s/it]"
      }
     },
     "8d348bbe2be4471da2d4bb612e4debe4": {
      "model_module": "@jupyter-widgets/controls",
      "model_module_version": "1.5.0",
      "model_name": "HTMLModel",
      "state": {
       "layout": "IPY_MODEL_b2aa6c87743543508028516d61433e66",
       "style": "IPY_MODEL_20da514246cf4fd7b581489c9bde350c",
       "value": " 493/493 [20:21&lt;00:00,  2.48s/it]"
      }
     },
     "8f4fb9b638df4a13b3ab2155680b733a": {
      "model_module": "@jupyter-widgets/base",
      "model_module_version": "1.2.0",
      "model_name": "LayoutModel",
      "state": {}
     },
     "8f88bc453c734d55a5607a98894ad8c1": {
      "model_module": "@jupyter-widgets/base",
      "model_module_version": "1.2.0",
      "model_name": "LayoutModel",
      "state": {}
     },
     "905ae71e15914037a4db0a5e1d388840": {
      "model_module": "@jupyter-widgets/controls",
      "model_module_version": "1.5.0",
      "model_name": "HTMLModel",
      "state": {
       "layout": "IPY_MODEL_861bb09b2bbd432da12c5383e3f5f707",
       "style": "IPY_MODEL_3b0499b56d274b23bb8fe9bf85d74ac6",
       "value": " 493/493 [17:49&lt;00:00,  2.17s/it]"
      }
     },
     "9085f5c784f44c309e7250be766b91fc": {
      "model_module": "@jupyter-widgets/base",
      "model_module_version": "1.2.0",
      "model_name": "LayoutModel",
      "state": {}
     },
     "90dc44d2b9534b8394107d15a198edde": {
      "model_module": "@jupyter-widgets/controls",
      "model_module_version": "1.5.0",
      "model_name": "DescriptionStyleModel",
      "state": {
       "description_width": ""
      }
     },
     "9102e79b3624421bbd6c91429c67fd8e": {
      "model_module": "@jupyter-widgets/base",
      "model_module_version": "1.2.0",
      "model_name": "LayoutModel",
      "state": {}
     },
     "9202e4fcccee49859b510f21ba51c922": {
      "model_module": "@jupyter-widgets/base",
      "model_module_version": "1.2.0",
      "model_name": "LayoutModel",
      "state": {}
     },
     "92140950e7cc478a8d8d354001853a66": {
      "model_module": "@jupyter-widgets/base",
      "model_module_version": "1.2.0",
      "model_name": "LayoutModel",
      "state": {}
     },
     "925a2d528c774d9583e572ce6063d5af": {
      "model_module": "@jupyter-widgets/controls",
      "model_module_version": "1.5.0",
      "model_name": "ProgressStyleModel",
      "state": {
       "description_width": "initial"
      }
     },
     "9279ec6113da48eb912a20f45b7a8ec4": {
      "model_module": "@jupyter-widgets/controls",
      "model_module_version": "1.5.0",
      "model_name": "HBoxModel",
      "state": {
       "children": [
        "IPY_MODEL_6a72c847c0ca45279432f4a52d141133",
        "IPY_MODEL_30cb0d2361c441169363ce3262a27f3b"
       ],
       "layout": "IPY_MODEL_78f8599961fd4035a3cf8e431089828c"
      }
     },
     "92e644c1bfbe4b7f8043db9ffe5c0f88": {
      "model_module": "@jupyter-widgets/controls",
      "model_module_version": "1.5.0",
      "model_name": "FloatProgressModel",
      "state": {
       "bar_style": "success",
       "description": "[2] 10/15(val  ): 100%",
       "layout": "IPY_MODEL_c3af83208fe1435e98ab8a3814bc1951",
       "max": 165,
       "style": "IPY_MODEL_1e4bc264c5474ddaa695d589fbcee6eb",
       "value": 165
      }
     },
     "93360aa3c238462c9e05880e89061d94": {
      "model_module": "@jupyter-widgets/base",
      "model_module_version": "1.2.0",
      "model_name": "LayoutModel",
      "state": {}
     },
     "94a5abf95d3f404e822153c56e1fdf79": {
      "model_module": "@jupyter-widgets/controls",
      "model_module_version": "1.5.0",
      "model_name": "ProgressStyleModel",
      "state": {
       "description_width": "initial"
      }
     },
     "94fc52b5e55d4b44b3bdb5c73812422c": {
      "model_module": "@jupyter-widgets/base",
      "model_module_version": "1.2.0",
      "model_name": "LayoutModel",
      "state": {}
     },
     "95b162bb7cd64d99a1941333b4c80195": {
      "model_module": "@jupyter-widgets/controls",
      "model_module_version": "1.5.0",
      "model_name": "FloatProgressModel",
      "state": {
       "bar_style": "success",
       "description": "[3] 7/15(train): 100%",
       "layout": "IPY_MODEL_ccf51fa964cd4e5e831c9d078863a9d7",
       "max": 493,
       "style": "IPY_MODEL_1cf0fc5c2c3c4a158e9db132493b6421",
       "value": 493
      }
     },
     "95b5b7277a084986bfd18e1740081ce8": {
      "model_module": "@jupyter-widgets/controls",
      "model_module_version": "1.5.0",
      "model_name": "ProgressStyleModel",
      "state": {
       "description_width": "initial"
      }
     },
     "95c8b7a45f914782bf141f10f77aa503": {
      "model_module": "@jupyter-widgets/base",
      "model_module_version": "1.2.0",
      "model_name": "LayoutModel",
      "state": {}
     },
     "9605a304f3c44ee5add2cf1caec1ae39": {
      "model_module": "@jupyter-widgets/controls",
      "model_module_version": "1.5.0",
      "model_name": "HTMLModel",
      "state": {
       "layout": "IPY_MODEL_c8e10d8246eb47479ee93a9a18035aac",
       "style": "IPY_MODEL_441314c2ece742de8d11693bf90a7773",
       "value": " 0/493 [00:04&lt;?, ?it/s]"
      }
     },
     "97126dbb323e47908ce1a3de0a235400": {
      "model_module": "@jupyter-widgets/controls",
      "model_module_version": "1.5.0",
      "model_name": "FloatProgressModel",
      "state": {
       "bar_style": "success",
       "description": "[3] 14/15(val  ): 100%",
       "layout": "IPY_MODEL_6791a55f834445baaed8d6d084036540",
       "max": 165,
       "style": "IPY_MODEL_64587a88036a4a0ab2d06c5da0bb756f",
       "value": 165
      }
     },
     "978cacab0add4cc5bdd6a6d3cd7c6b26": {
      "model_module": "@jupyter-widgets/controls",
      "model_module_version": "1.5.0",
      "model_name": "DescriptionStyleModel",
      "state": {
       "description_width": ""
      }
     },
     "97ca973b8d8c4d6fa2ee4e9bb02e6b22": {
      "model_module": "@jupyter-widgets/base",
      "model_module_version": "1.2.0",
      "model_name": "LayoutModel",
      "state": {}
     },
     "97ec105eb5514c8fb17842db18c3eefe": {
      "model_module": "@jupyter-widgets/base",
      "model_module_version": "1.2.0",
      "model_name": "LayoutModel",
      "state": {}
     },
     "98af91493129425d8a3fe09807e10e85": {
      "model_module": "@jupyter-widgets/controls",
      "model_module_version": "1.5.0",
      "model_name": "DescriptionStyleModel",
      "state": {
       "description_width": ""
      }
     },
     "9907d82277f64f1da76c2ee849cf7e20": {
      "model_module": "@jupyter-widgets/controls",
      "model_module_version": "1.5.0",
      "model_name": "HBoxModel",
      "state": {
       "children": [
        "IPY_MODEL_355b1ca5efbf4a3a805cebda88853ad2",
        "IPY_MODEL_e04157707ff14dd8a25189f53f33c0ca"
       ],
       "layout": "IPY_MODEL_032eeb869cee44d8bf7cbd0f3fc0b934"
      }
     },
     "996374e144d4481da504d330ba74cef6": {
      "model_module": "@jupyter-widgets/base",
      "model_module_version": "1.2.0",
      "model_name": "LayoutModel",
      "state": {}
     },
     "99650eb1efe24d41b2c5762d02b3eb38": {
      "model_module": "@jupyter-widgets/base",
      "model_module_version": "1.2.0",
      "model_name": "LayoutModel",
      "state": {}
     },
     "9acde502f55042a994be78bfe75b4103": {
      "model_module": "@jupyter-widgets/base",
      "model_module_version": "1.2.0",
      "model_name": "LayoutModel",
      "state": {}
     },
     "9b1351d31d3a4f64a020fe8480155717": {
      "model_module": "@jupyter-widgets/base",
      "model_module_version": "1.2.0",
      "model_name": "LayoutModel",
      "state": {}
     },
     "9c036c2f4ac64199a174f1a8e902f467": {
      "model_module": "@jupyter-widgets/controls",
      "model_module_version": "1.5.0",
      "model_name": "HBoxModel",
      "state": {
       "children": [
        "IPY_MODEL_227464c8f257470591d4c801a81029f9",
        "IPY_MODEL_dc11c0a5ba95434fa298eb48529212ce"
       ],
       "layout": "IPY_MODEL_5b547ba280d24f1db9b73a9b36fbc88d"
      }
     },
     "9c3367abfce94c63a73eb22b8927aa29": {
      "model_module": "@jupyter-widgets/controls",
      "model_module_version": "1.5.0",
      "model_name": "ProgressStyleModel",
      "state": {
       "description_width": "initial"
      }
     },
     "9c41f395a14c440e8a323f0d266e8658": {
      "model_module": "@jupyter-widgets/base",
      "model_module_version": "1.2.0",
      "model_name": "LayoutModel",
      "state": {}
     },
     "9cbffc2281a140f48d69b4fd39d6a5ad": {
      "model_module": "@jupyter-widgets/controls",
      "model_module_version": "1.5.0",
      "model_name": "HTMLModel",
      "state": {
       "layout": "IPY_MODEL_d8e9432e0248475fa69d0ad6109a32bd",
       "style": "IPY_MODEL_ce2a28a7752e47f6bdf83ccb087cce88",
       "value": " 165/165 [19:01&lt;00:00,  6.92s/it]"
      }
     },
     "9e6813de6a7442efa267457fad90bdb7": {
      "model_module": "@jupyter-widgets/controls",
      "model_module_version": "1.5.0",
      "model_name": "ProgressStyleModel",
      "state": {
       "description_width": "initial"
      }
     },
     "9eb5e171ad9d459c9b0afbfd2f66cbd1": {
      "model_module": "@jupyter-widgets/controls",
      "model_module_version": "1.5.0",
      "model_name": "HBoxModel",
      "state": {
       "children": [
        "IPY_MODEL_495e4819b2954de99a9ae3dff132acaf",
        "IPY_MODEL_4916b3e1d47545359766358574d3d44e"
       ],
       "layout": "IPY_MODEL_470c5642304b4256ac0e760c64ad4ead"
      }
     },
     "9f0dbdc14e524417a30827cbdbe6a403": {
      "model_module": "@jupyter-widgets/controls",
      "model_module_version": "1.5.0",
      "model_name": "DescriptionStyleModel",
      "state": {
       "description_width": ""
      }
     },
     "9f8164050d354890b2e52779819cb0cb": {
      "model_module": "@jupyter-widgets/controls",
      "model_module_version": "1.5.0",
      "model_name": "HTMLModel",
      "state": {
       "layout": "IPY_MODEL_69984d2dfac641d2aed886afac8fa364",
       "style": "IPY_MODEL_08b5bb6ed3a94eb8becda8bab039f383",
       "value": " 165/165 [01:19&lt;00:00,  2.09it/s]"
      }
     },
     "a09417b1ba86425eb821169bd2ed7127": {
      "model_module": "@jupyter-widgets/base",
      "model_module_version": "1.2.0",
      "model_name": "LayoutModel",
      "state": {}
     },
     "a10950d4ed5247a58a54b5d88b1faf5b": {
      "model_module": "@jupyter-widgets/base",
      "model_module_version": "1.2.0",
      "model_name": "LayoutModel",
      "state": {}
     },
     "a2c6824682a240549e62b8b49d599f3c": {
      "model_module": "@jupyter-widgets/controls",
      "model_module_version": "1.5.0",
      "model_name": "HBoxModel",
      "state": {
       "children": [
        "IPY_MODEL_0f4f8c9402fb43dcb97c1f48d3cd6128",
        "IPY_MODEL_8d348bbe2be4471da2d4bb612e4debe4"
       ],
       "layout": "IPY_MODEL_426b6ea70e0b42d2aad2a98c9148cef6"
      }
     },
     "a38f78873c884be5ae38085cdf1ea1f0": {
      "model_module": "@jupyter-widgets/controls",
      "model_module_version": "1.5.0",
      "model_name": "DescriptionStyleModel",
      "state": {
       "description_width": ""
      }
     },
     "a4ba7f26187648048e7190fa9f8bb690": {
      "model_module": "@jupyter-widgets/controls",
      "model_module_version": "1.5.0",
      "model_name": "HTMLModel",
      "state": {
       "layout": "IPY_MODEL_47631cea8b5043ea89219e6373e8b5a5",
       "style": "IPY_MODEL_86a818abc4674ac2b73b1aa8887e1da5",
       "value": " 493/493 [20:22&lt;00:00,  2.48s/it]"
      }
     },
     "a4d0142a0abf4163a2bdfda12f3b598b": {
      "model_module": "@jupyter-widgets/controls",
      "model_module_version": "1.5.0",
      "model_name": "FloatProgressModel",
      "state": {
       "bar_style": "success",
       "description": "[3] 15/15(val  ): 100%",
       "layout": "IPY_MODEL_c494f41ca6384cf2ad66c6409bfd20b3",
       "max": 165,
       "style": "IPY_MODEL_3c4920b703494f148934600cf0b09ba1",
       "value": 165
      }
     },
     "a50a65b8e0894bc7a85bee796ce9c299": {
      "model_module": "@jupyter-widgets/base",
      "model_module_version": "1.2.0",
      "model_name": "LayoutModel",
      "state": {}
     },
     "a57cf337deb041239fac13d248a6692f": {
      "model_module": "@jupyter-widgets/base",
      "model_module_version": "1.2.0",
      "model_name": "LayoutModel",
      "state": {}
     },
     "a5c9a09355564f008f916f839e01fc41": {
      "model_module": "@jupyter-widgets/controls",
      "model_module_version": "1.5.0",
      "model_name": "HTMLModel",
      "state": {
       "layout": "IPY_MODEL_ec07d655093f44538c5a42973bd0855e",
       "style": "IPY_MODEL_c7dabd423fe14dbab098be5b9d57f264",
       "value": " 493/493 [1:33:36&lt;00:00, 11.39s/it]"
      }
     },
     "a632787a3f52450ba8423bb606a98f86": {
      "model_module": "@jupyter-widgets/controls",
      "model_module_version": "1.5.0",
      "model_name": "ProgressStyleModel",
      "state": {
       "description_width": "initial"
      }
     },
     "a657a15b064e44858de80085ef6f45ac": {
      "model_module": "@jupyter-widgets/base",
      "model_module_version": "1.2.0",
      "model_name": "LayoutModel",
      "state": {}
     },
     "a66362c4cfcf4221b00e80b790d17480": {
      "model_module": "@jupyter-widgets/base",
      "model_module_version": "1.2.0",
      "model_name": "LayoutModel",
      "state": {}
     },
     "a73d3c033a74423fb98e293c8c790f23": {
      "model_module": "@jupyter-widgets/base",
      "model_module_version": "1.2.0",
      "model_name": "LayoutModel",
      "state": {}
     },
     "a77ff7211c4b44ca92b129068c9050b4": {
      "model_module": "@jupyter-widgets/base",
      "model_module_version": "1.2.0",
      "model_name": "LayoutModel",
      "state": {}
     },
     "a87a24fbfa7740e8bec66004f9192835": {
      "model_module": "@jupyter-widgets/controls",
      "model_module_version": "1.5.0",
      "model_name": "DescriptionStyleModel",
      "state": {
       "description_width": ""
      }
     },
     "aade49c2565944988a31a59336ef2594": {
      "model_module": "@jupyter-widgets/controls",
      "model_module_version": "1.5.0",
      "model_name": "FloatProgressModel",
      "state": {
       "bar_style": "success",
       "description": "[3] 8/15(train): 100%",
       "layout": "IPY_MODEL_2021b247e9554d18b00b5ec20fe17a73",
       "max": 493,
       "style": "IPY_MODEL_7f91fc21b6c14d8da30634df472e177a",
       "value": 493
      }
     },
     "ac326dacb7cd453d90d86b0bb628112c": {
      "model_module": "@jupyter-widgets/controls",
      "model_module_version": "1.5.0",
      "model_name": "ProgressStyleModel",
      "state": {
       "description_width": "initial"
      }
     },
     "ac535832af23478ca37e1f95b0282df2": {
      "model_module": "@jupyter-widgets/controls",
      "model_module_version": "1.5.0",
      "model_name": "DescriptionStyleModel",
      "state": {
       "description_width": ""
      }
     },
     "ac685f3dcde94c348fffff8133bedfea": {
      "model_module": "@jupyter-widgets/controls",
      "model_module_version": "1.5.0",
      "model_name": "DescriptionStyleModel",
      "state": {
       "description_width": ""
      }
     },
     "ad2c603f813c4f5e9eb3d1bc60835ba2": {
      "model_module": "@jupyter-widgets/base",
      "model_module_version": "1.2.0",
      "model_name": "LayoutModel",
      "state": {}
     },
     "aef34e2316154bac86ae942e8d138ea4": {
      "model_module": "@jupyter-widgets/base",
      "model_module_version": "1.2.0",
      "model_name": "LayoutModel",
      "state": {}
     },
     "b01e2871c5044cf088913830913d20af": {
      "model_module": "@jupyter-widgets/controls",
      "model_module_version": "1.5.0",
      "model_name": "HBoxModel",
      "state": {
       "children": [
        "IPY_MODEL_4c4f03ecb7e9463b9b4646fa81668217",
        "IPY_MODEL_f60cb62a880741259ff61c4d3c2a82e5"
       ],
       "layout": "IPY_MODEL_97ca973b8d8c4d6fa2ee4e9bb02e6b22"
      }
     },
     "b0c52f84d8e04f3997214a53d63cc234": {
      "model_module": "@jupyter-widgets/controls",
      "model_module_version": "1.5.0",
      "model_name": "DescriptionStyleModel",
      "state": {
       "description_width": ""
      }
     },
     "b0f2882d8f3b4fe4acccb44ab770b074": {
      "model_module": "@jupyter-widgets/base",
      "model_module_version": "1.2.0",
      "model_name": "LayoutModel",
      "state": {}
     },
     "b11bc4f78e4c43ce811ba5c482c9ebe2": {
      "model_module": "@jupyter-widgets/base",
      "model_module_version": "1.2.0",
      "model_name": "LayoutModel",
      "state": {}
     },
     "b2330c763eb9444d98d1381259771fa8": {
      "model_module": "@jupyter-widgets/controls",
      "model_module_version": "1.5.0",
      "model_name": "HBoxModel",
      "state": {
       "children": [
        "IPY_MODEL_54aeb73a255c43808cc5f83dc2e5173f",
        "IPY_MODEL_a5c9a09355564f008f916f839e01fc41"
       ],
       "layout": "IPY_MODEL_1ae564c7eb8140ada2c6aa76fbd4c334"
      }
     },
     "b239b5c02fd4459ca6910181b7315db4": {
      "model_module": "@jupyter-widgets/controls",
      "model_module_version": "1.5.0",
      "model_name": "FloatProgressModel",
      "state": {
       "bar_style": "success",
       "description": "[3] 6/15(train): 100%",
       "layout": "IPY_MODEL_380f105c13f54bc1b9a9be71ba7bd0d4",
       "max": 493,
       "style": "IPY_MODEL_2b666f688dd94707a2fa7da592e867ba",
       "value": 493
      }
     },
     "b2aa6c87743543508028516d61433e66": {
      "model_module": "@jupyter-widgets/base",
      "model_module_version": "1.2.0",
      "model_name": "LayoutModel",
      "state": {}
     },
     "b2f888210b0c4d1a8ad528fc50f38eb8": {
      "model_module": "@jupyter-widgets/controls",
      "model_module_version": "1.5.0",
      "model_name": "ProgressStyleModel",
      "state": {
       "description_width": "initial"
      }
     },
     "b32e8354d2ae49ca86ff8cab789d7f69": {
      "model_module": "@jupyter-widgets/controls",
      "model_module_version": "1.5.0",
      "model_name": "HTMLModel",
      "state": {
       "layout": "IPY_MODEL_09bf746d1f4b41b991c412bece70784a",
       "style": "IPY_MODEL_5c38fea0e5d44be08a482393b7471c13",
       "value": " 165/165 [39:28&lt;00:00, 14.36s/it]"
      }
     },
     "b34a2aa90cf14076a2d40899017c8ba7": {
      "model_module": "@jupyter-widgets/controls",
      "model_module_version": "1.5.0",
      "model_name": "HTMLModel",
      "state": {
       "layout": "IPY_MODEL_3c5912b704834fbfa3e9e439438f6eb8",
       "style": "IPY_MODEL_37dc4276bcd94ad0868907fad55ca00f",
       "value": " 165/165 [01:20&lt;00:00,  2.06it/s]"
      }
     },
     "b38605696b114980823fd34e0be177cf": {
      "model_module": "@jupyter-widgets/controls",
      "model_module_version": "1.5.0",
      "model_name": "FloatProgressModel",
      "state": {
       "bar_style": "success",
       "description": "[3] 2/15(train): 100%",
       "layout": "IPY_MODEL_1fc801e2ebff4f549bdf665aad7a45c6",
       "max": 493,
       "style": "IPY_MODEL_a632787a3f52450ba8423bb606a98f86",
       "value": 493
      }
     },
     "b3d1e8fe0d13405c900dfd9765a93ee0": {
      "model_module": "@jupyter-widgets/controls",
      "model_module_version": "1.5.0",
      "model_name": "FloatProgressModel",
      "state": {
       "bar_style": "success",
       "description": "[2] 7/15(train): 100%",
       "layout": "IPY_MODEL_4d345935543645fea0a5b9b9242906a1",
       "max": 493,
       "style": "IPY_MODEL_506de5c5476247818706466340ac423b",
       "value": 493
      }
     },
     "b4aa2e0df4db4cfcb2bb58095bb96529": {
      "model_module": "@jupyter-widgets/base",
      "model_module_version": "1.2.0",
      "model_name": "LayoutModel",
      "state": {}
     },
     "b5410bf10dbf4356ac947f3b006875a1": {
      "model_module": "@jupyter-widgets/base",
      "model_module_version": "1.2.0",
      "model_name": "LayoutModel",
      "state": {}
     },
     "b69855b63a6e4cfd997701476a350e7e": {
      "model_module": "@jupyter-widgets/controls",
      "model_module_version": "1.5.0",
      "model_name": "HBoxModel",
      "state": {
       "children": [
        "IPY_MODEL_c2514addbf94402680d7b1e89f690aa1",
        "IPY_MODEL_0adf61db192d4715bbce24dd2426b3c3"
       ],
       "layout": "IPY_MODEL_3142ddb87ea54683a061eaee97a87ebf"
      }
     },
     "b88ff2bd45974adca1ca9057ae269d57": {
      "model_module": "@jupyter-widgets/controls",
      "model_module_version": "1.5.0",
      "model_name": "HBoxModel",
      "state": {
       "children": [
        "IPY_MODEL_d3cebf78b1db4212ad09d8aeb1bd855f",
        "IPY_MODEL_8cdd200ad22042488a02dbfa7b83d85d"
       ],
       "layout": "IPY_MODEL_58698ef3f32c49b8a8673c2475f207b4"
      }
     },
     "b8d74ab8f16c4d31a3a155d503ea2e7f": {
      "model_module": "@jupyter-widgets/base",
      "model_module_version": "1.2.0",
      "model_name": "LayoutModel",
      "state": {}
     },
     "b9a0fb048a02421989e6e3d55b37a44e": {
      "model_module": "@jupyter-widgets/controls",
      "model_module_version": "1.5.0",
      "model_name": "DescriptionStyleModel",
      "state": {
       "description_width": ""
      }
     },
     "ba129438315846038d61d564e22e7ac8": {
      "model_module": "@jupyter-widgets/controls",
      "model_module_version": "1.5.0",
      "model_name": "DescriptionStyleModel",
      "state": {
       "description_width": ""
      }
     },
     "ba70264dafa4427daaf1667c3253319e": {
      "model_module": "@jupyter-widgets/controls",
      "model_module_version": "1.5.0",
      "model_name": "HBoxModel",
      "state": {
       "children": [
        "IPY_MODEL_a4d0142a0abf4163a2bdfda12f3b598b",
        "IPY_MODEL_3bf95dcfcdab4a7690c9390310c90ac7"
       ],
       "layout": "IPY_MODEL_4fe282014a464cfab9ef48bff4514a7c"
      }
     },
     "bc6c2c7bed9e46adbeaa93bff5d3186c": {
      "model_module": "@jupyter-widgets/base",
      "model_module_version": "1.2.0",
      "model_name": "LayoutModel",
      "state": {}
     },
     "bd23909b5ea440ea935011d8969f241a": {
      "model_module": "@jupyter-widgets/controls",
      "model_module_version": "1.5.0",
      "model_name": "ProgressStyleModel",
      "state": {
       "description_width": "initial"
      }
     },
     "bde385ccdae74284ac5d0f12ed060cc8": {
      "model_module": "@jupyter-widgets/base",
      "model_module_version": "1.2.0",
      "model_name": "LayoutModel",
      "state": {}
     },
     "bdff4f9329864918912cfede9af44bde": {
      "model_module": "@jupyter-widgets/base",
      "model_module_version": "1.2.0",
      "model_name": "LayoutModel",
      "state": {}
     },
     "be6e149fb2ee4720a94b808667d01ba4": {
      "model_module": "@jupyter-widgets/controls",
      "model_module_version": "1.5.0",
      "model_name": "DescriptionStyleModel",
      "state": {
       "description_width": ""
      }
     },
     "be8255047fce40258122f79844c61f34": {
      "model_module": "@jupyter-widgets/controls",
      "model_module_version": "1.5.0",
      "model_name": "ProgressStyleModel",
      "state": {
       "description_width": "initial"
      }
     },
     "be9a98efed184dd0a77e7a8079c6cd1d": {
      "model_module": "@jupyter-widgets/controls",
      "model_module_version": "1.5.0",
      "model_name": "HBoxModel",
      "state": {
       "children": [
        "IPY_MODEL_dacd965ad8ea488bae2639106227a231",
        "IPY_MODEL_cd967238c5224154883bd5b3a7a503b1"
       ],
       "layout": "IPY_MODEL_c6b26d331e874130b5183c166679b633"
      }
     },
     "becafd8f3f204c3497782a5d26280dd1": {
      "model_module": "@jupyter-widgets/controls",
      "model_module_version": "1.5.0",
      "model_name": "DescriptionStyleModel",
      "state": {
       "description_width": ""
      }
     },
     "bee2e0f9fe864c28971f07aaf624e47f": {
      "model_module": "@jupyter-widgets/controls",
      "model_module_version": "1.5.0",
      "model_name": "FloatProgressModel",
      "state": {
       "bar_style": "success",
       "description": "[3] 12/15(train): 100%",
       "layout": "IPY_MODEL_66d34a88ec844216937e8e483f7eb0ae",
       "max": 493,
       "style": "IPY_MODEL_f987b7bf843d46959531c6b0f8d6f901",
       "value": 493
      }
     },
     "c026966da22e46a9a74c5afb684aa336": {
      "model_module": "@jupyter-widgets/base",
      "model_module_version": "1.2.0",
      "model_name": "LayoutModel",
      "state": {}
     },
     "c0a3178f9a5f44faadf968cb05daf69e": {
      "model_module": "@jupyter-widgets/controls",
      "model_module_version": "1.5.0",
      "model_name": "DescriptionStyleModel",
      "state": {
       "description_width": ""
      }
     },
     "c20e03b9a58c42b7a8adb87414a349d3": {
      "model_module": "@jupyter-widgets/base",
      "model_module_version": "1.2.0",
      "model_name": "LayoutModel",
      "state": {}
     },
     "c215f8296d224f2ebb57a8d6a3bd202a": {
      "model_module": "@jupyter-widgets/controls",
      "model_module_version": "1.5.0",
      "model_name": "HBoxModel",
      "state": {
       "children": [
        "IPY_MODEL_97126dbb323e47908ce1a3de0a235400",
        "IPY_MODEL_308c8325a5b14eae9127ef95ffb914ab"
       ],
       "layout": "IPY_MODEL_20e8c16932774aadb38fc052ce0d4f08"
      }
     },
     "c23575775dd54caca4770fc64b403cb1": {
      "model_module": "@jupyter-widgets/controls",
      "model_module_version": "1.5.0",
      "model_name": "ProgressStyleModel",
      "state": {
       "description_width": "initial"
      }
     },
     "c2514addbf94402680d7b1e89f690aa1": {
      "model_module": "@jupyter-widgets/controls",
      "model_module_version": "1.5.0",
      "model_name": "FloatProgressModel",
      "state": {
       "bar_style": "success",
       "description": "[2] 4/15(train): 100%",
       "layout": "IPY_MODEL_c026966da22e46a9a74c5afb684aa336",
       "max": 493,
       "style": "IPY_MODEL_59c66c76232c465f868dabd373768858",
       "value": 493
      }
     },
     "c26089aea3ad4458886ad427a0031697": {
      "model_module": "@jupyter-widgets/controls",
      "model_module_version": "1.5.0",
      "model_name": "ProgressStyleModel",
      "state": {
       "description_width": "initial"
      }
     },
     "c2c2352533424a948fc813ddeee91baa": {
      "model_module": "@jupyter-widgets/controls",
      "model_module_version": "1.5.0",
      "model_name": "HTMLModel",
      "state": {
       "layout": "IPY_MODEL_2844ab4fdef84c9d9f6ed51e08d51327",
       "style": "IPY_MODEL_7e42ae51f6b647dbab832ff4d86b04c2",
       "value": " 165/165 [00:55&lt;00:00,  2.97it/s]"
      }
     },
     "c353b597e90847f092414639fb43849e": {
      "model_module": "@jupyter-widgets/base",
      "model_module_version": "1.2.0",
      "model_name": "LayoutModel",
      "state": {}
     },
     "c35eb47f198a4ba590e09d6d38a8a068": {
      "model_module": "@jupyter-widgets/controls",
      "model_module_version": "1.5.0",
      "model_name": "HBoxModel",
      "state": {
       "children": [
        "IPY_MODEL_eaf0e5711a634064a5cd6379a1ac529c",
        "IPY_MODEL_e5ebe42b73a74bc49a3d9e0fb5d38815"
       ],
       "layout": "IPY_MODEL_1bca3e8f34a4494ba566369aed02686a"
      }
     },
     "c3af83208fe1435e98ab8a3814bc1951": {
      "model_module": "@jupyter-widgets/base",
      "model_module_version": "1.2.0",
      "model_name": "LayoutModel",
      "state": {}
     },
     "c494f41ca6384cf2ad66c6409bfd20b3": {
      "model_module": "@jupyter-widgets/base",
      "model_module_version": "1.2.0",
      "model_name": "LayoutModel",
      "state": {}
     },
     "c4d9d63e74b442eebeca4eba6c5316c8": {
      "model_module": "@jupyter-widgets/base",
      "model_module_version": "1.2.0",
      "model_name": "LayoutModel",
      "state": {}
     },
     "c5b0e1cbd77f4ec59b1f7c116fa18873": {
      "model_module": "@jupyter-widgets/controls",
      "model_module_version": "1.5.0",
      "model_name": "DescriptionStyleModel",
      "state": {
       "description_width": ""
      }
     },
     "c6956e59605f44d2ae42c1691fcec68e": {
      "model_module": "@jupyter-widgets/base",
      "model_module_version": "1.2.0",
      "model_name": "LayoutModel",
      "state": {}
     },
     "c6b26d331e874130b5183c166679b633": {
      "model_module": "@jupyter-widgets/base",
      "model_module_version": "1.2.0",
      "model_name": "LayoutModel",
      "state": {}
     },
     "c79307cfe03d47f0969a82d533fef3d9": {
      "model_module": "@jupyter-widgets/base",
      "model_module_version": "1.2.0",
      "model_name": "LayoutModel",
      "state": {}
     },
     "c7ae3e02c3cb4d56a3539c4c691d5000": {
      "model_module": "@jupyter-widgets/controls",
      "model_module_version": "1.5.0",
      "model_name": "HTMLModel",
      "state": {
       "layout": "IPY_MODEL_4edb3221e5c742748c95201890c223fd",
       "style": "IPY_MODEL_fed258aa91c84266acdaa546576ba105",
       "value": " 493/493 [10:57&lt;00:00,  1.33s/it]"
      }
     },
     "c7d6e8598387447cb158b71326cdc94f": {
      "model_module": "@jupyter-widgets/controls",
      "model_module_version": "1.5.0",
      "model_name": "FloatProgressModel",
      "state": {
       "bar_style": "success",
       "description": "[3] 7/15(val  ): 100%",
       "layout": "IPY_MODEL_aef34e2316154bac86ae942e8d138ea4",
       "max": 165,
       "style": "IPY_MODEL_e478dec95aa643f2a9e864918f72d58b",
       "value": 165
      }
     },
     "c7dabd423fe14dbab098be5b9d57f264": {
      "model_module": "@jupyter-widgets/controls",
      "model_module_version": "1.5.0",
      "model_name": "DescriptionStyleModel",
      "state": {
       "description_width": ""
      }
     },
     "c85038286c624a3493dabebdc8b2fa92": {
      "model_module": "@jupyter-widgets/controls",
      "model_module_version": "1.5.0",
      "model_name": "DescriptionStyleModel",
      "state": {
       "description_width": ""
      }
     },
     "c8e10d8246eb47479ee93a9a18035aac": {
      "model_module": "@jupyter-widgets/base",
      "model_module_version": "1.2.0",
      "model_name": "LayoutModel",
      "state": {}
     },
     "c9229df96dbc4406a1781cb77fb46d0e": {
      "model_module": "@jupyter-widgets/controls",
      "model_module_version": "1.5.0",
      "model_name": "ProgressStyleModel",
      "state": {
       "description_width": "initial"
      }
     },
     "c95c6df2fd704663bda17b0107480c29": {
      "model_module": "@jupyter-widgets/controls",
      "model_module_version": "1.5.0",
      "model_name": "HTMLModel",
      "state": {
       "layout": "IPY_MODEL_54cbfa28747743ab9f8abb22b016c5a8",
       "style": "IPY_MODEL_7ea85506907544e990d790e1ecbc69c2",
       "value": " 165/165 [01:20&lt;00:00,  2.04it/s]"
      }
     },
     "c992274259a24128b1cd3300fafe6cc5": {
      "model_module": "@jupyter-widgets/controls",
      "model_module_version": "1.5.0",
      "model_name": "FloatProgressModel",
      "state": {
       "bar_style": "success",
       "description": "[3] 13/15(val  ): 100%",
       "layout": "IPY_MODEL_a50a65b8e0894bc7a85bee796ce9c299",
       "max": 165,
       "style": "IPY_MODEL_9c3367abfce94c63a73eb22b8927aa29",
       "value": 165
      }
     },
     "ca41ac5007b14259ac81d60651651193": {
      "model_module": "@jupyter-widgets/base",
      "model_module_version": "1.2.0",
      "model_name": "LayoutModel",
      "state": {}
     },
     "cb6507e9060245b194961d488b83d496": {
      "model_module": "@jupyter-widgets/controls",
      "model_module_version": "1.5.0",
      "model_name": "FloatProgressModel",
      "state": {
       "bar_style": "danger",
       "description": "[0] 1/15(train):   0%",
       "layout": "IPY_MODEL_97ec105eb5514c8fb17842db18c3eefe",
       "max": 493,
       "style": "IPY_MODEL_cb7a7105c76c453ab1f7757259d07204",
       "value": 1
      }
     },
     "cb7a7105c76c453ab1f7757259d07204": {
      "model_module": "@jupyter-widgets/controls",
      "model_module_version": "1.5.0",
      "model_name": "ProgressStyleModel",
      "state": {
       "description_width": "initial"
      }
     },
     "ccf51fa964cd4e5e831c9d078863a9d7": {
      "model_module": "@jupyter-widgets/base",
      "model_module_version": "1.2.0",
      "model_name": "LayoutModel",
      "state": {}
     },
     "cd1f8e561d3b4d98a7a8100f6a1e6d76": {
      "model_module": "@jupyter-widgets/controls",
      "model_module_version": "1.5.0",
      "model_name": "HBoxModel",
      "state": {
       "children": [
        "IPY_MODEL_591b72a949a249a58e5fd7ae901cafe6",
        "IPY_MODEL_ce0ac745e45e4723ace86c8ffe59ed62"
       ],
       "layout": "IPY_MODEL_77a1cd3f764841d194aaecb1a706ea6c"
      }
     },
     "cd2a7ae9fe444594ba0f6a56cf0aaeae": {
      "model_module": "@jupyter-widgets/base",
      "model_module_version": "1.2.0",
      "model_name": "LayoutModel",
      "state": {}
     },
     "cd967238c5224154883bd5b3a7a503b1": {
      "model_module": "@jupyter-widgets/controls",
      "model_module_version": "1.5.0",
      "model_name": "HTMLModel",
      "state": {
       "layout": "IPY_MODEL_39ae4280fab0452d8a71646d7e763a1b",
       "style": "IPY_MODEL_24beb6e4d36c4219885ec79e979c5e01",
       "value": " 165/165 [01:30&lt;00:00,  1.83it/s]"
      }
     },
     "ce0ac745e45e4723ace86c8ffe59ed62": {
      "model_module": "@jupyter-widgets/controls",
      "model_module_version": "1.5.0",
      "model_name": "HTMLModel",
      "state": {
       "layout": "IPY_MODEL_68a5b3304e4c449d8d2b4fc13ec5c557",
       "style": "IPY_MODEL_4e45916cfd7d4ff1a9de89132838009b",
       "value": " 493/493 [1:28:35&lt;00:00, 10.78s/it]"
      }
     },
     "ce2a28a7752e47f6bdf83ccb087cce88": {
      "model_module": "@jupyter-widgets/controls",
      "model_module_version": "1.5.0",
      "model_name": "DescriptionStyleModel",
      "state": {
       "description_width": ""
      }
     },
     "ce322c3792224e62aedf8b59c964ca67": {
      "model_module": "@jupyter-widgets/controls",
      "model_module_version": "1.5.0",
      "model_name": "FloatProgressModel",
      "state": {
       "bar_style": "success",
       "description": "[2] 7/15(val  ): 100%",
       "layout": "IPY_MODEL_db7642aebd364ee8bd91dbd6c82b839b",
       "max": 165,
       "style": "IPY_MODEL_6d7bdfecfb53471c8a9abdb57b5a8a59",
       "value": 165
      }
     },
     "ce78affc9cbc4a859bfa02783ffef4d7": {
      "model_module": "@jupyter-widgets/base",
      "model_module_version": "1.2.0",
      "model_name": "LayoutModel",
      "state": {}
     },
     "cefdd429bb0248db92ab6c5457475f98": {
      "model_module": "@jupyter-widgets/controls",
      "model_module_version": "1.5.0",
      "model_name": "HBoxModel",
      "state": {
       "children": [
        "IPY_MODEL_c7d6e8598387447cb158b71326cdc94f",
        "IPY_MODEL_3b27339d73fa4a629a455522f1f8e227"
       ],
       "layout": "IPY_MODEL_e2550f9473994ca5893a2a661ebcca0e"
      }
     },
     "cfacf8ed4f4249a0b7b56ca418defb9c": {
      "model_module": "@jupyter-widgets/base",
      "model_module_version": "1.2.0",
      "model_name": "LayoutModel",
      "state": {}
     },
     "d0261e4d129b49a78e944cbdb6b3793e": {
      "model_module": "@jupyter-widgets/base",
      "model_module_version": "1.2.0",
      "model_name": "LayoutModel",
      "state": {}
     },
     "d1188da0cebc448c8c11664cbfaf1fd0": {
      "model_module": "@jupyter-widgets/controls",
      "model_module_version": "1.5.0",
      "model_name": "FloatProgressModel",
      "state": {
       "bar_style": "success",
       "description": "[2] 1/15(train): 100%",
       "layout": "IPY_MODEL_9acde502f55042a994be78bfe75b4103",
       "max": 493,
       "style": "IPY_MODEL_94a5abf95d3f404e822153c56e1fdf79",
       "value": 493
      }
     },
     "d228a4ff5f0c4afd81bacbf5c70268f5": {
      "model_module": "@jupyter-widgets/controls",
      "model_module_version": "1.5.0",
      "model_name": "FloatProgressModel",
      "state": {
       "bar_style": "success",
       "description": "[2] 5/15(train): 100%",
       "layout": "IPY_MODEL_0b82cd3c64db49a9a719fcf0b12c0c92",
       "max": 493,
       "style": "IPY_MODEL_e5ad78e55fd3412aad4bf085c776d9c8",
       "value": 493
      }
     },
     "d25a47f1490f4e2092bed16b6bfe2369": {
      "model_module": "@jupyter-widgets/base",
      "model_module_version": "1.2.0",
      "model_name": "LayoutModel",
      "state": {}
     },
     "d3cebf78b1db4212ad09d8aeb1bd855f": {
      "model_module": "@jupyter-widgets/controls",
      "model_module_version": "1.5.0",
      "model_name": "FloatProgressModel",
      "state": {
       "bar_style": "success",
       "description": "[3] 4/15(train): 100%",
       "layout": "IPY_MODEL_ea5cf71d66f74d10b9676866c13ce7ee",
       "max": 493,
       "style": "IPY_MODEL_775d5b5223294228bcf92dc6e29c3c58",
       "value": 493
      }
     },
     "d462c7f3d82e42dbbccb0bd3c92546a5": {
      "model_module": "@jupyter-widgets/controls",
      "model_module_version": "1.5.0",
      "model_name": "HBoxModel",
      "state": {
       "children": [
        "IPY_MODEL_524ec05115d44ac6b9203bcf3f40618e",
        "IPY_MODEL_c7ae3e02c3cb4d56a3539c4c691d5000"
       ],
       "layout": "IPY_MODEL_4a20d704838c4db38ad2af81ee7796e7"
      }
     },
     "d468d514611f470e8fc1b5693c1bf93c": {
      "model_module": "@jupyter-widgets/controls",
      "model_module_version": "1.5.0",
      "model_name": "FloatProgressModel",
      "state": {
       "bar_style": "success",
       "description": "[3] 12/15(val  ): 100%",
       "layout": "IPY_MODEL_d4d0c92bb71341788da1482ad56b1131",
       "max": 165,
       "style": "IPY_MODEL_47a36213d3214fc68b2ad4d22e2d7d9e",
       "value": 165
      }
     },
     "d4d0c92bb71341788da1482ad56b1131": {
      "model_module": "@jupyter-widgets/base",
      "model_module_version": "1.2.0",
      "model_name": "LayoutModel",
      "state": {}
     },
     "d501d39a697f4a1386d95b1c84915732": {
      "model_module": "@jupyter-widgets/controls",
      "model_module_version": "1.5.0",
      "model_name": "DescriptionStyleModel",
      "state": {
       "description_width": ""
      }
     },
     "d51a8b36e8074bc195b1f31b13ece71c": {
      "model_module": "@jupyter-widgets/base",
      "model_module_version": "1.2.0",
      "model_name": "LayoutModel",
      "state": {}
     },
     "d582ec91e7214d6bbf93d4c372db10a3": {
      "model_module": "@jupyter-widgets/controls",
      "model_module_version": "1.5.0",
      "model_name": "ProgressStyleModel",
      "state": {
       "description_width": "initial"
      }
     },
     "d5b96d7136284af18c15dbeb7217f5fa": {
      "model_module": "@jupyter-widgets/base",
      "model_module_version": "1.2.0",
      "model_name": "LayoutModel",
      "state": {}
     },
     "d63dcb7ec82642f790e086a5b9a1f929": {
      "model_module": "@jupyter-widgets/base",
      "model_module_version": "1.2.0",
      "model_name": "LayoutModel",
      "state": {}
     },
     "d69ad366caff439faa7b74038cf8a5fa": {
      "model_module": "@jupyter-widgets/controls",
      "model_module_version": "1.5.0",
      "model_name": "FloatProgressModel",
      "state": {
       "bar_style": "success",
       "description": "[3] 5/15(val  ): 100%",
       "layout": "IPY_MODEL_6ab3c19a38ce4a6e893d808adbe2131b",
       "max": 165,
       "style": "IPY_MODEL_f634266dedf14a04b754d119780ee0b1",
       "value": 165
      }
     },
     "d6abd0645cc144f1824bca96e4e25877": {
      "model_module": "@jupyter-widgets/base",
      "model_module_version": "1.2.0",
      "model_name": "LayoutModel",
      "state": {}
     },
     "d6db0738029e4ab98316db0730157c8d": {
      "model_module": "@jupyter-widgets/controls",
      "model_module_version": "1.5.0",
      "model_name": "ProgressStyleModel",
      "state": {
       "description_width": "initial"
      }
     },
     "d6e1437dd7644a758738b6e994404198": {
      "model_module": "@jupyter-widgets/controls",
      "model_module_version": "1.5.0",
      "model_name": "FloatProgressModel",
      "state": {
       "bar_style": "success",
       "description": "[3] 6/15(val  ): 100%",
       "layout": "IPY_MODEL_37e6f9c05a734017ad4013a84ed7155e",
       "max": 165,
       "style": "IPY_MODEL_bd23909b5ea440ea935011d8969f241a",
       "value": 165
      }
     },
     "d8808b953ece4d28b8e60498c89a69d1": {
      "model_module": "@jupyter-widgets/controls",
      "model_module_version": "1.5.0",
      "model_name": "ProgressStyleModel",
      "state": {
       "description_width": "initial"
      }
     },
     "d894faf29ee349f1a1eb251ab1d731e5": {
      "model_module": "@jupyter-widgets/base",
      "model_module_version": "1.2.0",
      "model_name": "LayoutModel",
      "state": {}
     },
     "d8a4dbd184574b0d99b417d51639d8da": {
      "model_module": "@jupyter-widgets/controls",
      "model_module_version": "1.5.0",
      "model_name": "HBoxModel",
      "state": {
       "children": [
        "IPY_MODEL_142dbd3a07854817a7d07aaaed6f1498",
        "IPY_MODEL_04156132a3a249e883cb6c6acdd61b6a"
       ],
       "layout": "IPY_MODEL_feb95ac4cbd2411eb26ad6a7fea102dd"
      }
     },
     "d8e9432e0248475fa69d0ad6109a32bd": {
      "model_module": "@jupyter-widgets/base",
      "model_module_version": "1.2.0",
      "model_name": "LayoutModel",
      "state": {}
     },
     "d8f31951840244e1833ca68e4884a017": {
      "model_module": "@jupyter-widgets/controls",
      "model_module_version": "1.5.0",
      "model_name": "FloatProgressModel",
      "state": {
       "bar_style": "success",
       "description": "[2] 1/15(val  ): 100%",
       "layout": "IPY_MODEL_0d628d7b78204db090f39f95e58a31ef",
       "max": 165,
       "style": "IPY_MODEL_21e14318d4ba496cab5e6cb813feb8e1",
       "value": 165
      }
     },
     "dacd965ad8ea488bae2639106227a231": {
      "model_module": "@jupyter-widgets/controls",
      "model_module_version": "1.5.0",
      "model_name": "FloatProgressModel",
      "state": {
       "bar_style": "success",
       "description": "[2] 5/15(val  ): 100%",
       "layout": "IPY_MODEL_dda61553301f4e1481bd227265f4d23f",
       "max": 165,
       "style": "IPY_MODEL_c23575775dd54caca4770fc64b403cb1",
       "value": 165
      }
     },
     "db7642aebd364ee8bd91dbd6c82b839b": {
      "model_module": "@jupyter-widgets/base",
      "model_module_version": "1.2.0",
      "model_name": "LayoutModel",
      "state": {}
     },
     "dbcb9ac5768c434790d1bec5423a31ef": {
      "model_module": "@jupyter-widgets/controls",
      "model_module_version": "1.5.0",
      "model_name": "HBoxModel",
      "state": {
       "children": [
        "IPY_MODEL_7cf134ff9b2940e980e3e1ba480bb7d2",
        "IPY_MODEL_86dc9624cdb447f786b1f1bc4ff0ed1f"
       ],
       "layout": "IPY_MODEL_2ed29a650b9e4e7da1ac1a37750b0227"
      }
     },
     "dc11c0a5ba95434fa298eb48529212ce": {
      "model_module": "@jupyter-widgets/controls",
      "model_module_version": "1.5.0",
      "model_name": "HTMLModel",
      "state": {
       "layout": "IPY_MODEL_88c79b6e54c44e68899fddfa8cc486b6",
       "style": "IPY_MODEL_d501d39a697f4a1386d95b1c84915732",
       "value": " 493/493 [17:46&lt;00:00,  2.16s/it]"
      }
     },
     "dc7edcd80fe144efb86e61c944c4c831": {
      "model_module": "@jupyter-widgets/base",
      "model_module_version": "1.2.0",
      "model_name": "LayoutModel",
      "state": {}
     },
     "dcbdcbd713534f7ab6f6e368b5d02d25": {
      "model_module": "@jupyter-widgets/controls",
      "model_module_version": "1.5.0",
      "model_name": "ProgressStyleModel",
      "state": {
       "description_width": "initial"
      }
     },
     "dce4d6c25da341b4b62fa5437387a399": {
      "model_module": "@jupyter-widgets/controls",
      "model_module_version": "1.5.0",
      "model_name": "DescriptionStyleModel",
      "state": {
       "description_width": ""
      }
     },
     "dd44f0d6a5cf475481efe2670b2a577a": {
      "model_module": "@jupyter-widgets/controls",
      "model_module_version": "1.5.0",
      "model_name": "HBoxModel",
      "state": {
       "children": [
        "IPY_MODEL_f52144fc93dc4ab8af2b2728c94fbd36",
        "IPY_MODEL_deb02aabc9e6407cbd1caf015262517c"
       ],
       "layout": "IPY_MODEL_6dc733ae72164902845ea8388b595640"
      }
     },
     "dda61553301f4e1481bd227265f4d23f": {
      "model_module": "@jupyter-widgets/base",
      "model_module_version": "1.2.0",
      "model_name": "LayoutModel",
      "state": {}
     },
     "ddd9397b0ef04c408b3c711355859acf": {
      "model_module": "@jupyter-widgets/base",
      "model_module_version": "1.2.0",
      "model_name": "LayoutModel",
      "state": {}
     },
     "deb02aabc9e6407cbd1caf015262517c": {
      "model_module": "@jupyter-widgets/controls",
      "model_module_version": "1.5.0",
      "model_name": "HTMLModel",
      "state": {
       "layout": "IPY_MODEL_e4a263ab53ca433283a4744e7ad720bc",
       "style": "IPY_MODEL_1a205886f67f472b94bc2a21280ca074",
       "value": " 165/165 [19:01&lt;00:00,  6.92s/it]"
      }
     },
     "e04157707ff14dd8a25189f53f33c0ca": {
      "model_module": "@jupyter-widgets/controls",
      "model_module_version": "1.5.0",
      "model_name": "HTMLModel",
      "state": {
       "layout": "IPY_MODEL_27737c4ed18248818eb1f5de6e0e6b28",
       "style": "IPY_MODEL_72b531722e644beeb9d312af9703c002",
       "value": " 165/165 [01:35&lt;00:00,  1.74it/s]"
      }
     },
     "e0a8599719344d4bb87b4a1e2a1ce369": {
      "model_module": "@jupyter-widgets/base",
      "model_module_version": "1.2.0",
      "model_name": "LayoutModel",
      "state": {}
     },
     "e12bad5fce4d48cb84ea49d8ca3463b6": {
      "model_module": "@jupyter-widgets/base",
      "model_module_version": "1.2.0",
      "model_name": "LayoutModel",
      "state": {}
     },
     "e154d770388b44fa9f1863eb4543ba39": {
      "model_module": "@jupyter-widgets/controls",
      "model_module_version": "1.5.0",
      "model_name": "FloatProgressModel",
      "state": {
       "bar_style": "success",
       "description": "[3] 1/15(val  ): 100%",
       "layout": "IPY_MODEL_430c090d173f4f4b834cb80a2a44cc9d",
       "max": 165,
       "style": "IPY_MODEL_4ebe41b921834181b3dcb7564a15359a",
       "value": 165
      }
     },
     "e193d59db1884e919324d71527ec9c5f": {
      "model_module": "@jupyter-widgets/controls",
      "model_module_version": "1.5.0",
      "model_name": "HTMLModel",
      "state": {
       "layout": "IPY_MODEL_95c8b7a45f914782bf141f10f77aa503",
       "style": "IPY_MODEL_0e230b12577245b8a6936c519b336e6b",
       "value": " 165/165 [01:20&lt;00:00,  2.04it/s]"
      }
     },
     "e20c490084564132bd94072da2a047a0": {
      "model_module": "@jupyter-widgets/base",
      "model_module_version": "1.2.0",
      "model_name": "LayoutModel",
      "state": {}
     },
     "e2550f9473994ca5893a2a661ebcca0e": {
      "model_module": "@jupyter-widgets/base",
      "model_module_version": "1.2.0",
      "model_name": "LayoutModel",
      "state": {}
     },
     "e26b372f64004ca597ef857713e2b4c5": {
      "model_module": "@jupyter-widgets/controls",
      "model_module_version": "1.5.0",
      "model_name": "HBoxModel",
      "state": {
       "children": [
        "IPY_MODEL_aade49c2565944988a31a59336ef2594",
        "IPY_MODEL_66bc7393a99949d88041c30d94530f07"
       ],
       "layout": "IPY_MODEL_7da6a5fce2034a53a9d110b7fb1241bd"
      }
     },
     "e478dec95aa643f2a9e864918f72d58b": {
      "model_module": "@jupyter-widgets/controls",
      "model_module_version": "1.5.0",
      "model_name": "ProgressStyleModel",
      "state": {
       "description_width": "initial"
      }
     },
     "e4a263ab53ca433283a4744e7ad720bc": {
      "model_module": "@jupyter-widgets/base",
      "model_module_version": "1.2.0",
      "model_name": "LayoutModel",
      "state": {}
     },
     "e4af65c519004033b987261fb1a9125b": {
      "model_module": "@jupyter-widgets/controls",
      "model_module_version": "1.5.0",
      "model_name": "DescriptionStyleModel",
      "state": {
       "description_width": ""
      }
     },
     "e5ad78e55fd3412aad4bf085c776d9c8": {
      "model_module": "@jupyter-widgets/controls",
      "model_module_version": "1.5.0",
      "model_name": "ProgressStyleModel",
      "state": {
       "description_width": "initial"
      }
     },
     "e5ebe42b73a74bc49a3d9e0fb5d38815": {
      "model_module": "@jupyter-widgets/controls",
      "model_module_version": "1.5.0",
      "model_name": "HTMLModel",
      "state": {
       "layout": "IPY_MODEL_ce78affc9cbc4a859bfa02783ffef4d7",
       "style": "IPY_MODEL_a38f78873c884be5ae38085cdf1ea1f0",
       "value": " 165/165 [21:45&lt;00:00,  7.91s/it]"
      }
     },
     "e72afdce1d4c4c8ba89cc50c08ad2f31": {
      "model_module": "@jupyter-widgets/base",
      "model_module_version": "1.2.0",
      "model_name": "LayoutModel",
      "state": {}
     },
     "e7cde669b7424bb0ad03e758ba4b24fd": {
      "model_module": "@jupyter-widgets/base",
      "model_module_version": "1.2.0",
      "model_name": "LayoutModel",
      "state": {}
     },
     "e8262b09652b4e4586d200546324b186": {
      "model_module": "@jupyter-widgets/controls",
      "model_module_version": "1.5.0",
      "model_name": "ProgressStyleModel",
      "state": {
       "description_width": "initial"
      }
     },
     "e8944c0b732041409977d095f6a6358e": {
      "model_module": "@jupyter-widgets/base",
      "model_module_version": "1.2.0",
      "model_name": "LayoutModel",
      "state": {}
     },
     "e9967e825d524e68b37e58181f658fd1": {
      "model_module": "@jupyter-widgets/controls",
      "model_module_version": "1.5.0",
      "model_name": "HTMLModel",
      "state": {
       "layout": "IPY_MODEL_079bda7a54e644cd92bcc19102d96145",
       "style": "IPY_MODEL_978cacab0add4cc5bdd6a6d3cd7c6b26",
       "value": " 493/493 [17:46&lt;00:00,  2.16s/it]"
      }
     },
     "e9daa449ac7542259aa87112d8ae31f6": {
      "model_module": "@jupyter-widgets/base",
      "model_module_version": "1.2.0",
      "model_name": "LayoutModel",
      "state": {}
     },
     "e9f0d55c04f4482892fc579c16181424": {
      "model_module": "@jupyter-widgets/controls",
      "model_module_version": "1.5.0",
      "model_name": "HTMLModel",
      "state": {
       "layout": "IPY_MODEL_29b8e50ed26142968707a00735ad9327",
       "style": "IPY_MODEL_90dc44d2b9534b8394107d15a198edde",
       "value": " 165/165 [00:47&lt;00:00,  3.48it/s]"
      }
     },
     "ea3dbd06638c4886bfd1e4d498de67e8": {
      "model_module": "@jupyter-widgets/controls",
      "model_module_version": "1.5.0",
      "model_name": "FloatProgressModel",
      "state": {
       "bar_style": "success",
       "description": "[3] 9/15(train): 100%",
       "layout": "IPY_MODEL_7c1a77bde09543318cba1df9695bf86b",
       "max": 493,
       "style": "IPY_MODEL_d582ec91e7214d6bbf93d4c372db10a3",
       "value": 493
      }
     },
     "ea5cf71d66f74d10b9676866c13ce7ee": {
      "model_module": "@jupyter-widgets/base",
      "model_module_version": "1.2.0",
      "model_name": "LayoutModel",
      "state": {}
     },
     "ea8054acb3744c72bff21490e5eb4bca": {
      "model_module": "@jupyter-widgets/controls",
      "model_module_version": "1.5.0",
      "model_name": "DescriptionStyleModel",
      "state": {
       "description_width": ""
      }
     },
     "eadc3e4e57524152bffd1fbcf33f415e": {
      "model_module": "@jupyter-widgets/controls",
      "model_module_version": "1.5.0",
      "model_name": "ProgressStyleModel",
      "state": {
       "description_width": "initial"
      }
     },
     "eaf0e5711a634064a5cd6379a1ac529c": {
      "model_module": "@jupyter-widgets/controls",
      "model_module_version": "1.5.0",
      "model_name": "FloatProgressModel",
      "state": {
       "bar_style": "success",
       "description": "[2] 11/15(val  ): 100%",
       "layout": "IPY_MODEL_84d1109c39c247fe9f0c42ac0df49262",
       "max": 165,
       "style": "IPY_MODEL_68eadd8871fd49e9adf43111941c8410",
       "value": 165
      }
     },
     "eb6c9c5679ca4067b1677b1c74144877": {
      "model_module": "@jupyter-widgets/controls",
      "model_module_version": "1.5.0",
      "model_name": "DescriptionStyleModel",
      "state": {
       "description_width": ""
      }
     },
     "ec07d655093f44538c5a42973bd0855e": {
      "model_module": "@jupyter-widgets/base",
      "model_module_version": "1.2.0",
      "model_name": "LayoutModel",
      "state": {}
     },
     "ecbbb39f93c244a3ae550999ca7b4dc4": {
      "model_module": "@jupyter-widgets/controls",
      "model_module_version": "1.5.0",
      "model_name": "ProgressStyleModel",
      "state": {
       "description_width": "initial"
      }
     },
     "ed518b5bfda04c4e87ce65dc654a0c30": {
      "model_module": "@jupyter-widgets/controls",
      "model_module_version": "1.5.0",
      "model_name": "HBoxModel",
      "state": {
       "children": [
        "IPY_MODEL_4ae99e3792894cb28da0844dfd80055e",
        "IPY_MODEL_7af0b05778064d748ed59ed9a8887e98"
       ],
       "layout": "IPY_MODEL_0d52d14dc32f4901aa213ee162fcb3bb"
      }
     },
     "ed53a7d39ee94d66b10ef9a42779d637": {
      "model_module": "@jupyter-widgets/controls",
      "model_module_version": "1.5.0",
      "model_name": "DescriptionStyleModel",
      "state": {
       "description_width": ""
      }
     },
     "efdbb47434a74f919c740b2f546f48c0": {
      "model_module": "@jupyter-widgets/controls",
      "model_module_version": "1.5.0",
      "model_name": "DescriptionStyleModel",
      "state": {
       "description_width": ""
      }
     },
     "f1fe8a4f20b24e099ce5f0f22d1db317": {
      "model_module": "@jupyter-widgets/controls",
      "model_module_version": "1.5.0",
      "model_name": "HBoxModel",
      "state": {
       "children": [
        "IPY_MODEL_c992274259a24128b1cd3300fafe6cc5",
        "IPY_MODEL_b32e8354d2ae49ca86ff8cab789d7f69"
       ],
       "layout": "IPY_MODEL_b8d74ab8f16c4d31a3a155d503ea2e7f"
      }
     },
     "f2a2f7cbcda242d9a760fc6466a96db0": {
      "model_module": "@jupyter-widgets/controls",
      "model_module_version": "1.5.0",
      "model_name": "HBoxModel",
      "state": {
       "children": [
        "IPY_MODEL_7ee3fd19368c47b39e47c3bd7d0f3ddb",
        "IPY_MODEL_b34a2aa90cf14076a2d40899017c8ba7"
       ],
       "layout": "IPY_MODEL_a657a15b064e44858de80085ef6f45ac"
      }
     },
     "f42ef74b4ddc48e8be0fb2b05e8eba38": {
      "model_module": "@jupyter-widgets/controls",
      "model_module_version": "1.5.0",
      "model_name": "DescriptionStyleModel",
      "state": {
       "description_width": ""
      }
     },
     "f4492b4425e446a294d19b37dd89e964": {
      "model_module": "@jupyter-widgets/controls",
      "model_module_version": "1.5.0",
      "model_name": "ProgressStyleModel",
      "state": {
       "description_width": "initial"
      }
     },
     "f49a77f76cf04c2a8994fe2645cb13b4": {
      "model_module": "@jupyter-widgets/base",
      "model_module_version": "1.2.0",
      "model_name": "LayoutModel",
      "state": {}
     },
     "f52144fc93dc4ab8af2b2728c94fbd36": {
      "model_module": "@jupyter-widgets/controls",
      "model_module_version": "1.5.0",
      "model_name": "FloatProgressModel",
      "state": {
       "bar_style": "success",
       "description": "[3] 4/15(val  ): 100%",
       "layout": "IPY_MODEL_d894faf29ee349f1a1eb251ab1d731e5",
       "max": 165,
       "style": "IPY_MODEL_be8255047fce40258122f79844c61f34",
       "value": 165
      }
     },
     "f5dfdff28da046e0bb5d7eac09b345ee": {
      "model_module": "@jupyter-widgets/base",
      "model_module_version": "1.2.0",
      "model_name": "LayoutModel",
      "state": {}
     },
     "f5f02b304a144161b0fffde639ceec5d": {
      "model_module": "@jupyter-widgets/base",
      "model_module_version": "1.2.0",
      "model_name": "LayoutModel",
      "state": {}
     },
     "f60cb62a880741259ff61c4d3c2a82e5": {
      "model_module": "@jupyter-widgets/controls",
      "model_module_version": "1.5.0",
      "model_name": "HTMLModel",
      "state": {
       "layout": "IPY_MODEL_36ae4426f0854877849733f983e72300",
       "style": "IPY_MODEL_b0c52f84d8e04f3997214a53d63cc234",
       "value": " 493/493 [17:41&lt;00:00,  2.15s/it]"
      }
     },
     "f634266dedf14a04b754d119780ee0b1": {
      "model_module": "@jupyter-widgets/controls",
      "model_module_version": "1.5.0",
      "model_name": "ProgressStyleModel",
      "state": {
       "description_width": "initial"
      }
     },
     "f6617614d72a4e07848fde8a6507ac4b": {
      "model_module": "@jupyter-widgets/controls",
      "model_module_version": "1.5.0",
      "model_name": "FloatProgressModel",
      "state": {
       "bar_style": "success",
       "description": "[2] 12/15(val  ): 100%",
       "layout": "IPY_MODEL_56a4f10ba044437f903668c6719de111",
       "max": 165,
       "style": "IPY_MODEL_6754cb61db244f6481f5e5857991e0c9",
       "value": 165
      }
     },
     "f7017a1cfc4f467bbeb8f739db5903d7": {
      "model_module": "@jupyter-widgets/base",
      "model_module_version": "1.2.0",
      "model_name": "LayoutModel",
      "state": {}
     },
     "f8254902313b4ce099058f32aa12a550": {
      "model_module": "@jupyter-widgets/controls",
      "model_module_version": "1.5.0",
      "model_name": "FloatProgressModel",
      "state": {
       "bar_style": "success",
       "description": "[3] 10/15(train): 100%",
       "layout": "IPY_MODEL_82a8f2e5d70d4117b004724ad5917d2c",
       "max": 493,
       "style": "IPY_MODEL_1441ea3dabcd42d6940f03b1ae6db3a8",
       "value": 493
      }
     },
     "f855e7ae965f494ea038139c06c64a82": {
      "model_module": "@jupyter-widgets/controls",
      "model_module_version": "1.5.0",
      "model_name": "DescriptionStyleModel",
      "state": {
       "description_width": ""
      }
     },
     "f8e2d5306d004f07a0e2d60fe83d294f": {
      "model_module": "@jupyter-widgets/controls",
      "model_module_version": "1.5.0",
      "model_name": "HTMLModel",
      "state": {
       "layout": "IPY_MODEL_d0261e4d129b49a78e944cbdb6b3793e",
       "style": "IPY_MODEL_c85038286c624a3493dabebdc8b2fa92",
       "value": " 493/493 [1:48:31&lt;00:00, 13.21s/it]"
      }
     },
     "f8e38dad61814c54b8d91cc1e85e435b": {
      "model_module": "@jupyter-widgets/controls",
      "model_module_version": "1.5.0",
      "model_name": "ProgressStyleModel",
      "state": {
       "description_width": "initial"
      }
     },
     "f94088b299374615a919fba95ed15878": {
      "model_module": "@jupyter-widgets/controls",
      "model_module_version": "1.5.0",
      "model_name": "HBoxModel",
      "state": {
       "children": [
        "IPY_MODEL_867c03fba8d14f129c743db572923a4b",
        "IPY_MODEL_0695f6c38cdc457c99fbc078c47ed8d6"
       ],
       "layout": "IPY_MODEL_7d92429548bd4a93af4ac90fc4459515"
      }
     },
     "f9511e08d9f24c3583ee6a3e41057031": {
      "model_module": "@jupyter-widgets/base",
      "model_module_version": "1.2.0",
      "model_name": "LayoutModel",
      "state": {}
     },
     "f987b7bf843d46959531c6b0f8d6f901": {
      "model_module": "@jupyter-widgets/controls",
      "model_module_version": "1.5.0",
      "model_name": "ProgressStyleModel",
      "state": {
       "description_width": "initial"
      }
     },
     "f99eb1086925481692856241aa9b88e4": {
      "model_module": "@jupyter-widgets/controls",
      "model_module_version": "1.5.0",
      "model_name": "HBoxModel",
      "state": {
       "children": [
        "IPY_MODEL_6a6132d95f2d444abfb1c4e199220167",
        "IPY_MODEL_490ed9ea9dc64756a6bb5c41c8b9cabf"
       ],
       "layout": "IPY_MODEL_74c5ad9a68cb441ea156ab51397cfa26"
      }
     },
     "f9c757e5a6ef4c9eaa371c539a448ef7": {
      "model_module": "@jupyter-widgets/controls",
      "model_module_version": "1.5.0",
      "model_name": "DescriptionStyleModel",
      "state": {
       "description_width": ""
      }
     },
     "fa0d8cf5271946b090c5db8171d31307": {
      "model_module": "@jupyter-widgets/controls",
      "model_module_version": "1.5.0",
      "model_name": "HBoxModel",
      "state": {
       "children": [
        "IPY_MODEL_b239b5c02fd4459ca6910181b7315db4",
        "IPY_MODEL_820b4d5ac97c4951a310fc02c4a76e10"
       ],
       "layout": "IPY_MODEL_0d6828cb7b70488082fdbe7e72d1f712"
      }
     },
     "fa6f1cebe47b4b25a5d5d52657639b31": {
      "model_module": "@jupyter-widgets/base",
      "model_module_version": "1.2.0",
      "model_name": "LayoutModel",
      "state": {}
     },
     "fd36235eaa884cf2b70774d59c66588b": {
      "model_module": "@jupyter-widgets/base",
      "model_module_version": "1.2.0",
      "model_name": "LayoutModel",
      "state": {}
     },
     "fd39f1ffbfc54bec9358aa9119ce8d85": {
      "model_module": "@jupyter-widgets/base",
      "model_module_version": "1.2.0",
      "model_name": "LayoutModel",
      "state": {}
     },
     "fd98e8067fa848a9981bbe1758765f92": {
      "model_module": "@jupyter-widgets/controls",
      "model_module_version": "1.5.0",
      "model_name": "ProgressStyleModel",
      "state": {
       "description_width": "initial"
      }
     },
     "fdedb09989ff456f84ba8d5731335732": {
      "model_module": "@jupyter-widgets/base",
      "model_module_version": "1.2.0",
      "model_name": "LayoutModel",
      "state": {}
     },
     "fe01ae06b5c046b598f4e388bb8b4865": {
      "model_module": "@jupyter-widgets/controls",
      "model_module_version": "1.5.0",
      "model_name": "HBoxModel",
      "state": {
       "children": [
        "IPY_MODEL_ea3dbd06638c4886bfd1e4d498de67e8",
        "IPY_MODEL_905ae71e15914037a4db0a5e1d388840"
       ],
       "layout": "IPY_MODEL_2804165df30246659ab164dcf24fabe8"
      }
     },
     "fe7eb0511f15479bac09f78779ceb784": {
      "model_module": "@jupyter-widgets/controls",
      "model_module_version": "1.5.0",
      "model_name": "DescriptionStyleModel",
      "state": {
       "description_width": ""
      }
     },
     "fea56a01038341b3b0d0442f2be82bd3": {
      "model_module": "@jupyter-widgets/base",
      "model_module_version": "1.2.0",
      "model_name": "LayoutModel",
      "state": {}
     },
     "feb95ac4cbd2411eb26ad6a7fea102dd": {
      "model_module": "@jupyter-widgets/base",
      "model_module_version": "1.2.0",
      "model_name": "LayoutModel",
      "state": {}
     },
     "fed258aa91c84266acdaa546576ba105": {
      "model_module": "@jupyter-widgets/controls",
      "model_module_version": "1.5.0",
      "model_name": "DescriptionStyleModel",
      "state": {
       "description_width": ""
      }
     },
     "ff11c92d04bf4c3e96931e08f34d539f": {
      "model_module": "@jupyter-widgets/controls",
      "model_module_version": "1.5.0",
      "model_name": "FloatProgressModel",
      "state": {
       "bar_style": "success",
       "description": "100%",
       "layout": "IPY_MODEL_9b1351d31d3a4f64a020fe8480155717",
       "max": 165,
       "style": "IPY_MODEL_f4492b4425e446a294d19b37dd89e964",
       "value": 165
      }
     },
     "ffaca9599fc14d8eb4699f47cc1621ba": {
      "model_module": "@jupyter-widgets/base",
      "model_module_version": "1.2.0",
      "model_name": "LayoutModel",
      "state": {}
     },
     "ffe1e4a2608440d2bc3e116cd7a1d63c": {
      "model_module": "@jupyter-widgets/controls",
      "model_module_version": "1.5.0",
      "model_name": "HTMLModel",
      "state": {
       "layout": "IPY_MODEL_f5dfdff28da046e0bb5d7eac09b345ee",
       "style": "IPY_MODEL_f42ef74b4ddc48e8be0fb2b05e8eba38",
       "value": " 165/165 [01:12&lt;00:00,  2.29it/s]"
      }
     }
    },
    "version_major": 2,
    "version_minor": 0
   }
  }
 },
 "nbformat": 4,
 "nbformat_minor": 4
}
