{
 "cells": [
  {
   "cell_type": "code",
   "execution_count": 1,
   "metadata": {},
   "outputs": [],
   "source": [
    "import os\n",
    "import glob\n",
    "import cv2\n",
    "import time\n",
    "import copy\n",
    "import pickle  # Log dictionary data\n",
    "import numpy as np # linear algebra\n",
    "import pandas as pd # data processing, CSV file I/O (e.g. pd.read_csv)\n",
    "import matplotlib.pyplot as plt\n",
    "import seaborn as sn\n",
    "\n",
    "import torch\n",
    "import torch.nn as nn\n",
    "import torch.optim as optim\n",
    "import torch.nn.functional as F # stateless functions\n",
    "import torchvision.transforms as T\n",
    "import torchvision.models as models\n",
    "\n",
    "import multiprocessing\n",
    "# We must import this explicitly, it is not imported by the top-level\n",
    "# multiprocessing module.\n",
    "import multiprocessing.pool\n",
    "\n",
    "from sklearn.model_selection import StratifiedKFold\n",
    "from sklearn.metrics import cohen_kappa_score,confusion_matrix\n",
    "from tqdm.auto import tqdm\n",
    "from torch.utils.data import Dataset, DataLoader, WeightedRandomSampler\n",
    "from datetime import datetime\n",
    "from multiprocessing import Manager\n",
    "from PIL import Image"
   ]
  },
  {
   "cell_type": "code",
   "execution_count": 2,
   "metadata": {},
   "outputs": [],
   "source": [
    "class CFG:\n",
    "    batch_size = 16\n",
    "    debug = False\n",
    "    device = torch.device('cuda')\n",
    "    dtype = torch.float32\n",
    "    epochs = 16\n",
    "    lr = 1e-4\n",
    "    model_name = 'resnet_head'\n",
    "    num_classes = 6\n",
    "    nworkers = 3\n",
    "    nfolds = 4\n",
    "    n_tile = 11\n",
    "    seed = 524\n",
    "    TRAIN = '../yi_data/panda-16x128x128-tiles-data/train/'\n",
    "    LABELS = '../data/train.csv'"
   ]
  },
  {
   "cell_type": "markdown",
   "metadata": {},
   "source": [
    "# Split Data"
   ]
  },
  {
   "cell_type": "code",
   "execution_count": 3,
   "metadata": {},
   "outputs": [
    {
     "data": {
      "text/html": [
       "<div>\n",
       "<style scoped>\n",
       "    .dataframe tbody tr th:only-of-type {\n",
       "        vertical-align: middle;\n",
       "    }\n",
       "\n",
       "    .dataframe tbody tr th {\n",
       "        vertical-align: top;\n",
       "    }\n",
       "\n",
       "    .dataframe thead th {\n",
       "        text-align: right;\n",
       "    }\n",
       "</style>\n",
       "<table border=\"1\" class=\"dataframe\">\n",
       "  <thead>\n",
       "    <tr style=\"text-align: right;\">\n",
       "      <th></th>\n",
       "      <th>image_id</th>\n",
       "      <th>data_provider</th>\n",
       "      <th>isup_grade</th>\n",
       "      <th>gleason_score</th>\n",
       "      <th>split</th>\n",
       "    </tr>\n",
       "  </thead>\n",
       "  <tbody>\n",
       "    <tr>\n",
       "      <th>0</th>\n",
       "      <td>0005f7aaab2800f6170c399693a96917</td>\n",
       "      <td>karolinska</td>\n",
       "      <td>0</td>\n",
       "      <td>0+0</td>\n",
       "      <td>2</td>\n",
       "    </tr>\n",
       "    <tr>\n",
       "      <th>1</th>\n",
       "      <td>000920ad0b612851f8e01bcc880d9b3d</td>\n",
       "      <td>karolinska</td>\n",
       "      <td>0</td>\n",
       "      <td>0+0</td>\n",
       "      <td>3</td>\n",
       "    </tr>\n",
       "    <tr>\n",
       "      <th>2</th>\n",
       "      <td>0018ae58b01bdadc8e347995b69f99aa</td>\n",
       "      <td>radboud</td>\n",
       "      <td>4</td>\n",
       "      <td>4+4</td>\n",
       "      <td>1</td>\n",
       "    </tr>\n",
       "    <tr>\n",
       "      <th>3</th>\n",
       "      <td>001c62abd11fa4b57bf7a6c603a11bb9</td>\n",
       "      <td>karolinska</td>\n",
       "      <td>4</td>\n",
       "      <td>4+4</td>\n",
       "      <td>1</td>\n",
       "    </tr>\n",
       "    <tr>\n",
       "      <th>4</th>\n",
       "      <td>001d865e65ef5d2579c190a0e0350d8f</td>\n",
       "      <td>karolinska</td>\n",
       "      <td>0</td>\n",
       "      <td>0+0</td>\n",
       "      <td>0</td>\n",
       "    </tr>\n",
       "  </tbody>\n",
       "</table>\n",
       "</div>"
      ],
      "text/plain": [
       "                           image_id data_provider  isup_grade gleason_score  \\\n",
       "0  0005f7aaab2800f6170c399693a96917    karolinska           0           0+0   \n",
       "1  000920ad0b612851f8e01bcc880d9b3d    karolinska           0           0+0   \n",
       "2  0018ae58b01bdadc8e347995b69f99aa       radboud           4           4+4   \n",
       "3  001c62abd11fa4b57bf7a6c603a11bb9    karolinska           4           4+4   \n",
       "4  001d865e65ef5d2579c190a0e0350d8f    karolinska           0           0+0   \n",
       "\n",
       "   split  \n",
       "0      2  \n",
       "1      3  \n",
       "2      1  \n",
       "3      1  \n",
       "4      0  "
      ]
     },
     "execution_count": 3,
     "metadata": {},
     "output_type": "execute_result"
    }
   ],
   "source": [
    "train = pd.read_csv(CFG.LABELS).set_index('image_id')\n",
    "files = sorted(set([p[:32] for p in os.listdir(CFG.TRAIN)]))\n",
    "train = train.loc[files].reset_index()\n",
    "\n",
    "if CFG.debug:\n",
    "    df = train.sample(n=50, random_state=CFG.seed).copy()\n",
    "else:\n",
    "    df = train.copy()\n",
    "\n",
    "# Generate train/validation sets containing the same distribution of isup_grade\n",
    "splits = StratifiedKFold(n_splits=CFG.nfolds, random_state=CFG.seed, shuffle=True)\n",
    "splits = list(splits.split(df,df.isup_grade))\n",
    "# Assign split index to training samples\n",
    "folds_splits = np.zeros(len(df)).astype(np.int)\n",
    "for i in range(CFG.nfolds):\n",
    "    folds_splits[splits[i][1]] = i\n",
    "df['split'] = folds_splits\n",
    "df.head()"
   ]
  },
  {
   "cell_type": "code",
   "execution_count": 4,
   "metadata": {},
   "outputs": [],
   "source": [
    "# https://www.kaggle.com/yasufuminakama/panda-se-resnext50-regression-baseline\n",
    "class TrainDataset(Dataset):\n",
    "    \"\"\"Prostate Cancer Biopsy Dataset\"\"\"\n",
    "    \n",
    "    def __init__(self, df, labels, transform=None):\n",
    "        \"\"\"\n",
    "        Args:\n",
    "            csv_file (string): Path to the csv file\n",
    "            root_dir (string): Path to the directory with all images\n",
    "            transform (callable, optional): Optional transform to be applied on an image sample\n",
    "        \"\"\"\n",
    "        # Shuffle dataframes with fixed seed; otherwise, validation set only get cancerous samples\n",
    "        self.df = df\n",
    "        self.labels = labels\n",
    "        self.transform = transform\n",
    "        #print(len(labels))\n",
    "        class_counts = [len(labels[labels==g]) for g in range(CFG.num_classes)]\n",
    "        self.num_samples = sum(class_counts)\n",
    "        class_weights = [self.num_samples/class_counts[i] for i in range(len(class_counts))]\n",
    "        self.weights = [class_weights[labels[i]] for i in range(self.num_samples)]\n",
    "        \n",
    "    def __len__(self):\n",
    "        return len(self.df)\n",
    "    \n",
    "    def __getitem__(self, idx):\n",
    "        # https://stackoverflow.com/questions/33369832/read-multiple-images-on-a-folder-in-opencv-python\n",
    "        tile_fns = [f\"{CFG.TRAIN}/{self.df['image_id'][idx]}_{sub_id}.png\" for sub_id in range(CFG.n_tile)]\n",
    "        img_tiles = [Image.fromarray(cv2.imread(fn)) for fn in tile_fns]\n",
    "        if self.transform:\n",
    "            img_tiles = list(map(self.transform, img_tiles))\n",
    "        \n",
    "        label = self.labels[idx]\n",
    "        \n",
    "        return (img_tiles, label)"
   ]
  },
  {
   "cell_type": "markdown",
   "metadata": {},
   "source": [
    "## Transforms"
   ]
  },
  {
   "cell_type": "code",
   "execution_count": 5,
   "metadata": {},
   "outputs": [],
   "source": [
    "def get_transforms(phase):\n",
    "    assert phase in {'train', 'val'}\n",
    "    \n",
    "    if phase == 'train':\n",
    "        return T.Compose([\n",
    "            T.RandomHorizontalFlip(),\n",
    "            T.RandomVerticalFlip(),\n",
    "            T.RandomRotation(15),\n",
    "            T.ToTensor(),\n",
    "            T.Normalize(\n",
    "                mean=[0.8776, 0.8186, 0.9090],\n",
    "                std=[0.1659, 0.2507, 0.1357],\n",
    "            ),\n",
    "        ])\n",
    "    else:\n",
    "        return T.Compose([\n",
    "            T.ToTensor(),\n",
    "            T.Normalize(\n",
    "                mean=[0.8776, 0.8186, 0.9090],\n",
    "                std=[0.1659, 0.2507, 0.1357],\n",
    "            ),\n",
    "        ])"
   ]
  },
  {
   "cell_type": "code",
   "execution_count": null,
   "metadata": {},
   "outputs": [],
   "source": [
    "\"\"\"\n",
    "transform = get_transforms(phase='train')\n",
    "train_dataset = TrainDataset(df.reset_index(drop=True),\n",
    "                             df.reset_index(drop=True)['isup_grade'],\n",
    "                             transform = get_transforms(phase='train'))\n",
    "tiles, label = train_dataset[0]\n",
    "#tiles = map(transform, tiles)\n",
    "#print(list(tiles))\n",
    "#print(label)\n",
    "#print(tiles.shape)\n",
    "#print(type(tiles[0]))\n",
    "plt.imshow(tiles[1].permute(1,2,0))\n",
    "#plt.show()\n",
    "#plt.imshow(tiles[0].permute(1,2,0))\n",
    "\"\"\""
   ]
  },
  {
   "cell_type": "code",
   "execution_count": 6,
   "metadata": {},
   "outputs": [],
   "source": [
    "# Use fold idx as validation set\n",
    "def data_loader(fold_idx):\n",
    "    train_idx = df[df['split'] != fold_idx].index\n",
    "    val_idx = df[df['split'] == fold_idx].index\n",
    "\n",
    "    train_dataset = TrainDataset(df.loc[train_idx].reset_index(drop=True),\n",
    "                                 df.loc[train_idx].reset_index(drop=True)['isup_grade'],\n",
    "                                 transform = get_transforms(phase='train'))\n",
    "    val_dataset = TrainDataset(df.loc[val_idx].reset_index(drop=True),\n",
    "                               df.loc[val_idx].reset_index(drop=True)['isup_grade'],\n",
    "                               transform = get_transforms(phase='train'))\n",
    "    \n",
    "    train_sampler = WeightedRandomSampler(weights=train_dataset.weights, num_samples=train_dataset.num_samples)\n",
    "    train_loader = DataLoader(train_dataset, batch_size=CFG.batch_size, sampler=train_sampler, num_workers=CFG.nworkers)\n",
    "    val_loader = DataLoader(val_dataset, batch_size=CFG.batch_size, shuffle=False, num_workers=CFG.nworkers)\n",
    "    return train_loader, val_loader"
   ]
  },
  {
   "cell_type": "code",
   "execution_count": 7,
   "metadata": {},
   "outputs": [],
   "source": [
    "def train_model(model, fold, dataloaders, criterion, optimizer, scheduler, num_epochs=20):\n",
    "    since = time.time()\n",
    "    \n",
    "    # Send the model to GPU/CPU\n",
    "    model = model.to(device=CFG.device)\n",
    "    \n",
    "    train_acc_history = []\n",
    "    val_acc_history = []\n",
    "    loss_history = []\n",
    "    \n",
    "    best_model_wts = copy.deepcopy(model.state_dict())\n",
    "    best_acc = 0.0\n",
    "    \n",
    "    for epoch in range(num_epochs):\n",
    "        \n",
    "        # Each epoch has a training and validation phase\n",
    "        for phase in ['train', 'val']:\n",
    "            if phase == 'train':\n",
    "                model.train()   # Set model to training phase\n",
    "            else:\n",
    "                model.eval()    # Set model to evaluate phase\n",
    "            \n",
    "            avg_loss = 0.0\n",
    "            running_corrects = 0\n",
    "            \n",
    "            print(' ', end='', flush=True)  # To workaround tqdm issue in multiprocess\n",
    "            for inputs, labels in tqdm(dataloaders[phase],\n",
    "                                       desc='[{}] {}/{}({:5s})'.format(fold, epoch+1,num_epochs,phase)):\n",
    "                _, C, H, W = inputs[0].shape\n",
    "                # n_tile[(bs,3,128,128)]-->(bs,n_tile,3,128,128)-->(bs*n_tile,3,128,128)\n",
    "                inputs = torch.stack(inputs, 1).view(-1,C,H,W).to(device=CFG.device, dtype=CFG.dtype)\n",
    "                labels = labels.to(device=CFG.device, dtype=torch.long)\n",
    "                #print(labels)\n",
    "                \n",
    "                # Zero the parameter gradients\n",
    "                optimizer.zero_grad()\n",
    "                \n",
    "                # Forward, track history if only in training\n",
    "                with torch.set_grad_enabled(phase == 'train'):\n",
    "                    outputs = model(inputs)\n",
    "                    loss = criterion(outputs, labels)\n",
    "                    \n",
    "                    pred = torch.argmax(outputs, 1)\n",
    "\n",
    "                    # Backward + optimize only if in training phase\n",
    "                    if phase == 'train':\n",
    "                        loss.backward()\n",
    "                        optimizer.step()\n",
    "                    \n",
    "                # Statistics\n",
    "                input_sz = inputs[0].shape[0]\n",
    "                avg_loss += loss.item()*(input_sz/len(dataloaders[phase].dataset))  # len(dataloaders[phase].dataset) not len(dataloaders[phase])\n",
    "                running_corrects += torch.sum(pred == labels)\n",
    "            \n",
    "            # End of epoch\n",
    "            with torch.no_grad():\n",
    "                epoch_acc = running_corrects.double() / len(dataloaders[phase].dataset)\n",
    "\n",
    "                if phase == 'val':\n",
    "                    val_acc_history.append(epoch_acc)\n",
    "                    # deep copy the model\n",
    "                    if epoch_acc > best_acc:\n",
    "                        best_acc = epoch_acc\n",
    "                        best_model_wts = copy.deepcopy(model.state_dict())\n",
    "                    # Apply lr_scheduler\n",
    "                    if scheduler is not None:\n",
    "                        scheduler.step(avg_loss)\n",
    "                else:\n",
    "                    train_acc_history.append(epoch_acc)\n",
    "                    loss_history.append(avg_loss)\n",
    "                print('[{}] {} Loss: {:4f} Acc: {:4f}'.format(fold, phase, avg_loss, epoch_acc))\n",
    "    \n",
    "    time_elapsed = time.time() - since\n",
    "    print('[{}] Training complete in {:.0f}m {:0f}s'.format(fold, time_elapsed//60, time_elapsed%60))\n",
    "    print('[{}] Best val Acc: {:4f}'.format(fold, best_acc))\n",
    "    print()\n",
    "    \n",
    "    model.load_state_dict(best_model_wts)\n",
    "                      \n",
    "    return model, loss_history, train_acc_history, val_acc_history"
   ]
  },
  {
   "cell_type": "markdown",
   "metadata": {},
   "source": [
    "## Layer Utils"
   ]
  },
  {
   "cell_type": "code",
   "execution_count": 8,
   "metadata": {},
   "outputs": [],
   "source": [
    "class AdaptiveConcatPool2d(nn.Module):\n",
    "    \"Layer that concats `AdaptiveAvgPool2d` and `AdaptiveMaxPool2d`.\"\n",
    "    def __init__(self, sz=1):\n",
    "        \"Output will be 2*sz or 2 if sz is None\"\n",
    "        super().__init__()\n",
    "        self.output_size = sz\n",
    "        self.ap = nn.AdaptiveAvgPool2d(self.output_size)\n",
    "        self.mp = nn.AdaptiveMaxPool2d(self.output_size)\n",
    "\n",
    "    def forward(self, x): return torch.cat([self.mp(x), self.ap(x)], 1)\n",
    "\n",
    "# https://www.kaggle.com/nelsongriffiths/mish-activation-and-transfer-learning-pytorch\n",
    "def mish(x):\n",
    "    return (x*torch.tanh(F.softplus(x)))\n",
    "\n",
    "class mish_layer(nn.Module):\n",
    "    def __init__(self):\n",
    "        super(mish_layer, self).__init__()\n",
    "        \n",
    "    def forward(self, input):\n",
    "        return mish(input)\n",
    "    \n",
    "class CustomResnet(nn.Module):\n",
    "    def __init__(self, n=6):\n",
    "        super().__init__()\n",
    "        self.enc = nn.Sequential(*list(models.resnet18(pretrained=False).children())[:-2])\n",
    "        num_ftrs= models.resnet18().fc.in_features\n",
    "        self.head = nn.Sequential(\n",
    "                        AdaptiveConcatPool2d(),\n",
    "                        nn.Flatten(),\n",
    "                        nn.Linear(num_ftrs*2,512),\n",
    "                        mish_layer(),\n",
    "                        nn.BatchNorm1d(512),\n",
    "                        nn.Dropout(0.5),\n",
    "                        nn.Linear(512, n)\n",
    "                    )\n",
    "        \n",
    "    def forward(self, x):\n",
    "        n_tile = CFG.n_tile\n",
    "        enc_out = self.enc(x)\n",
    "        _, C, H, W = enc_out.shape\n",
    "        # (bs,n_tile,512,4,4)-->(bs,512,n_tile,4,4)-->(bs,512,n_tile*4,4)\n",
    "        head_in = enc_out.view(-1,n_tile,C,H,W).permute(0,2,1,3,4)\\\n",
    "                  .contiguous().view(-1,C,n_tile*H,W)\n",
    "        head_out = self.head(head_in)\n",
    "        \n",
    "        return head_out"
   ]
  },
  {
   "cell_type": "code",
   "execution_count": 9,
   "metadata": {},
   "outputs": [],
   "source": [
    "def set_parameter_requires_grad(model, feature_extracting):\n",
    "    if feature_extracting:\n",
    "        for param in model.parameters():\n",
    "            param.requires_grad = False\n",
    "            \n",
    "def initialize_model(model_name, num_classes, feature_extract=False, use_pretrained=False):\n",
    "    \"\"\"\n",
    "    Params:\n",
    "        feature_extract\n",
    "            True - fine tunning\n",
    "            False - fix the model\n",
    "    \"\"\"\n",
    "    model_ft = None\n",
    "    \n",
    "    if model_name == 'alexnet':\n",
    "        \"\"\"AlexNet\n",
    "        \"\"\"\n",
    "        model_ft = models.alexnet(pretrained=use_pretrained)\n",
    "        set_parameter_requires_grad(model_ft, feature_extract)\n",
    "        num_ftrs = model_ft.classifier[6].in_features\n",
    "        model_ft.classifier[6] = nn.Linear(num_ftrs, num_classes)\n",
    "    elif model_name == 'resnet':\n",
    "        \"\"\"Resnet\n",
    "        \"\"\"\n",
    "        model_ft = models.resnet18(pretrained=use_pretrained)\n",
    "        set_parameter_requires_grad(model_ft, feature_extract)\n",
    "        num_ftrs = model_ft.fc.in_features\n",
    "        model_ft.fc = nn.Linear(num_ftrs, num_classes)\n",
    "    elif model_name == 'resnet_head':\n",
    "        \"\"\"Restnet with customized header\n",
    "        \"\"\"\n",
    "        model_ft = CustomResnet(num_classes)\n",
    "    \n",
    "    return model_ft"
   ]
  },
  {
   "cell_type": "code",
   "execution_count": 10,
   "metadata": {},
   "outputs": [
    {
     "data": {
      "text/plain": [
       "'\\nmodel_ft = initialize_model(CFG.model_name, CFG.num_classes, use_pretrained=False)\\ntrain_loader, _ = data_loader(0)\\nfor tiles, _ in train_loader:\\n    print(tiles[0].shape)\\n    #plt.imshow(tiles[0].squeeze().permute(1,2,0))\\n    conv_out = model_ft(tiles)\\n    print(conv_out.shape)\\n    break\\n'"
      ]
     },
     "execution_count": 10,
     "metadata": {},
     "output_type": "execute_result"
    }
   ],
   "source": [
    "\"\"\"\n",
    "model_ft = initialize_model(CFG.model_name, CFG.num_classes, use_pretrained=False)\n",
    "train_loader, _ = data_loader(0)\n",
    "for tiles, _ in train_loader:\n",
    "    print(tiles[0].shape)\n",
    "    #plt.imshow(tiles[0].squeeze().permute(1,2,0))\n",
    "    conv_out = model_ft(tiles)\n",
    "    print(conv_out.shape)\n",
    "    break\n",
    "\"\"\""
   ]
  },
  {
   "cell_type": "code",
   "execution_count": 11,
   "metadata": {},
   "outputs": [],
   "source": [
    "\"\"\"Multiprocessing\n",
    "\"\"\"\n",
    "class NoDaemonProcess(multiprocessing.Process):\n",
    "    # make 'daemon' attribute always return False\n",
    "    def _get_daemon(self):\n",
    "        return False\n",
    "    def _set_daemon(self, value):\n",
    "        pass\n",
    "    daemon = property(_get_daemon, _set_daemon)\n",
    "\n",
    "# We sub-class multiprocessing.pool.Pool instead of multiprocessing.Pool\n",
    "# because the latter is only a wrapper function, not a proper class.\n",
    "class MyPool(multiprocessing.pool.Pool):\n",
    "    Process = NoDaemonProcess\n",
    "\n",
    "def train_fn(fold):\n",
    "    model_ft = initialize_model(CFG.model_name, CFG.num_classes, use_pretrained=True)\n",
    "    \"\"\"\n",
    "    optimizer = optim.SGD(model_ft.parameters(),\n",
    "                          lr=CFG.lr,\n",
    "                          momentum=.9,\n",
    "                          nesterov=True)\n",
    "    \"\"\"\n",
    "    optimizer = optim.Adam(model_ft.parameters(),\n",
    "                           lr=CFG.lr)\n",
    "    scheduler = optim.lr_scheduler.ReduceLROnPlateau(optimizer, mode='min', factor=0.1, patience=2, verbose=True, eps=1e-06)\n",
    "    #print(f'### FOLD: {fold} ###', flush=True)\n",
    "    loader_train, loader_val = data_loader(fold)\n",
    "    best_model, loss_history, train_acc_history, val_acc_history = train_model(model_ft, fold, {'train': loader_train, 'val': loader_val}, F.cross_entropy, optimizer, scheduler, CFG.epochs)\n",
    "\n",
    "    return best_model, loss_history, train_acc_history, val_acc_history\n",
    "\n",
    "def progressor(fold):\n",
    "    best_model, loss_history, train_acc_history, val_acc_history = train_fn(fold)\n",
    "    return {f'best_model_{fold}': best_model.to('cpu'),  # Don't save model as cuda\n",
    "            f'loss_history_{fold}': loss_history,\n",
    "            f'train_acc_history_{fold}': train_acc_history,\n",
    "            f'val_acc_history_{fold}': val_acc_history}"
   ]
  },
  {
   "cell_type": "markdown",
   "metadata": {},
   "source": [
    "## Resnet18\n",
    "Removed Kappa score\n",
    "log: resnet_05_30_2020_12_56.pkl"
   ]
  },
  {
   "cell_type": "code",
   "execution_count": 12,
   "metadata": {
    "scrolled": true
   },
   "outputs": [
    {
     "name": "stdout",
     "output_type": "stream",
     "text": [
      "    "
     ]
    },
    {
     "data": {
      "application/vnd.jupyter.widget-view+json": {
       "model_id": "39a5648f22854a909262587f18ad610f",
       "version_major": 2,
       "version_minor": 0
      },
      "text/plain": [
       "HBox(children=(FloatProgress(value=0.0, description='[3] 1/16(train)', max=493.0, style=ProgressStyle(descript…"
      ]
     },
     "metadata": {},
     "output_type": "display_data"
    },
    {
     "data": {
      "application/vnd.jupyter.widget-view+json": {
       "model_id": "97ae5841d3924be39dc15ae43b0b81fb",
       "version_major": 2,
       "version_minor": 0
      },
      "text/plain": [
       "HBox(children=(FloatProgress(value=0.0, description='[1] 1/16(train)', max=493.0, style=ProgressStyle(descript…"
      ]
     },
     "metadata": {},
     "output_type": "display_data"
    },
    {
     "data": {
      "application/vnd.jupyter.widget-view+json": {
       "model_id": "d3bb9815f69644a2b8f28037fb3d112c",
       "version_major": 2,
       "version_minor": 0
      },
      "text/plain": [
       "HBox(children=(FloatProgress(value=0.0, description='[2] 1/16(train)', max=493.0, style=ProgressStyle(descript…"
      ]
     },
     "metadata": {},
     "output_type": "display_data"
    },
    {
     "data": {
      "application/vnd.jupyter.widget-view+json": {
       "model_id": "ec0480c61bf346b1aed554175ef8cd90",
       "version_major": 2,
       "version_minor": 0
      },
      "text/plain": [
       "HBox(children=(FloatProgress(value=0.0, description='[0] 1/16(train)', max=493.0, style=ProgressStyle(descript…"
      ]
     },
     "metadata": {},
     "output_type": "display_data"
    },
    {
     "name": "stdout",
     "output_type": "stream",
     "text": [
      "\n",
      "[3] train Loss: 0.350050 Acc: 0.232661\n",
      " "
     ]
    },
    {
     "data": {
      "application/vnd.jupyter.widget-view+json": {
       "model_id": "ba9d1807e4c04aa7a4c523f75855e2b6",
       "version_major": 2,
       "version_minor": 0
      },
      "text/plain": [
       "HBox(children=(FloatProgress(value=0.0, description='[3] 1/16(val  )', max=165.0, style=ProgressStyle(descript…"
      ]
     },
     "metadata": {},
     "output_type": "display_data"
    },
    {
     "name": "stdout",
     "output_type": "stream",
     "text": [
      "\n",
      "[3] val Loss: 0.324812 Acc: 0.281856\n",
      " "
     ]
    },
    {
     "data": {
      "application/vnd.jupyter.widget-view+json": {
       "model_id": "ac403ff2a8004dac8026cd58b79d5558",
       "version_major": 2,
       "version_minor": 0
      },
      "text/plain": [
       "HBox(children=(FloatProgress(value=0.0, description='[3] 2/16(train)', max=493.0, style=ProgressStyle(descript…"
      ]
     },
     "metadata": {},
     "output_type": "display_data"
    },
    {
     "name": "stdout",
     "output_type": "stream",
     "text": [
      "\n",
      "[2] train Loss: 0.345151 Acc: 0.247369\n",
      " "
     ]
    },
    {
     "data": {
      "application/vnd.jupyter.widget-view+json": {
       "model_id": "cdf42064fb2245a58b75e1bab6a26578",
       "version_major": 2,
       "version_minor": 0
      },
      "text/plain": [
       "HBox(children=(FloatProgress(value=0.0, description='[2] 1/16(val  )', max=165.0, style=ProgressStyle(descript…"
      ]
     },
     "metadata": {},
     "output_type": "display_data"
    },
    {
     "name": "stdout",
     "output_type": "stream",
     "text": [
      "\n",
      "[0] train Loss: 0.344524 Acc: 0.239635\n",
      " "
     ]
    },
    {
     "data": {
      "application/vnd.jupyter.widget-view+json": {
       "model_id": "2dcfe0e9016b4361a72c7e65857389ee",
       "version_major": 2,
       "version_minor": 0
      },
      "text/plain": [
       "HBox(children=(FloatProgress(value=0.0, description='[0] 1/16(val  )', max=165.0, style=ProgressStyle(descript…"
      ]
     },
     "metadata": {},
     "output_type": "display_data"
    },
    {
     "name": "stdout",
     "output_type": "stream",
     "text": [
      "\n",
      "[1] train Loss: 0.349037 Acc: 0.228984\n",
      " "
     ]
    },
    {
     "data": {
      "application/vnd.jupyter.widget-view+json": {
       "model_id": "57f7bb979fd6433eafc45473d2f64a92",
       "version_major": 2,
       "version_minor": 0
      },
      "text/plain": [
       "HBox(children=(FloatProgress(value=0.0, description='[1] 1/16(val  )', max=165.0, style=ProgressStyle(descript…"
      ]
     },
     "metadata": {},
     "output_type": "display_data"
    },
    {
     "name": "stdout",
     "output_type": "stream",
     "text": [
      "\n",
      "[2] val Loss: 0.317801 Acc: 0.298212\n",
      " "
     ]
    },
    {
     "data": {
      "application/vnd.jupyter.widget-view+json": {
       "model_id": "1221e6aaab5149f89146586954fec8a6",
       "version_major": 2,
       "version_minor": 0
      },
      "text/plain": [
       "HBox(children=(FloatProgress(value=0.0, description='[2] 2/16(train)', max=493.0, style=ProgressStyle(descript…"
      ]
     },
     "metadata": {},
     "output_type": "display_data"
    },
    {
     "name": "stdout",
     "output_type": "stream",
     "text": [
      "\n",
      "[1] val Loss: 0.323638 Acc: 0.274629\n",
      " "
     ]
    },
    {
     "data": {
      "application/vnd.jupyter.widget-view+json": {
       "model_id": "930511e79d5744389a3e3c5fd0a7967c",
       "version_major": 2,
       "version_minor": 0
      },
      "text/plain": [
       "HBox(children=(FloatProgress(value=0.0, description='[1] 2/16(train)', max=493.0, style=ProgressStyle(descript…"
      ]
     },
     "metadata": {},
     "output_type": "display_data"
    },
    {
     "name": "stdout",
     "output_type": "stream",
     "text": [
      "\n",
      "[0] val Loss: 0.314120 Acc: 0.282617\n",
      " "
     ]
    },
    {
     "data": {
      "application/vnd.jupyter.widget-view+json": {
       "model_id": "8b9cca8c97984351bbf72cbd23aae033",
       "version_major": 2,
       "version_minor": 0
      },
      "text/plain": [
       "HBox(children=(FloatProgress(value=0.0, description='[0] 2/16(train)', max=493.0, style=ProgressStyle(descript…"
      ]
     },
     "metadata": {},
     "output_type": "display_data"
    },
    {
     "name": "stdout",
     "output_type": "stream",
     "text": [
      "\n",
      "[3] train Loss: 0.319953 Acc: 0.286294\n",
      " "
     ]
    },
    {
     "data": {
      "application/vnd.jupyter.widget-view+json": {
       "model_id": "acbef5f13fce4905be1462d32e11db02",
       "version_major": 2,
       "version_minor": 0
      },
      "text/plain": [
       "HBox(children=(FloatProgress(value=0.0, description='[3] 2/16(val  )', max=165.0, style=ProgressStyle(descript…"
      ]
     },
     "metadata": {},
     "output_type": "display_data"
    },
    {
     "name": "stdout",
     "output_type": "stream",
     "text": [
      "\n",
      "[3] val Loss: 0.293516 Acc: 0.362115\n",
      " "
     ]
    },
    {
     "data": {
      "application/vnd.jupyter.widget-view+json": {
       "model_id": "e6ead010139a4c05b306356a3a1c21c5",
       "version_major": 2,
       "version_minor": 0
      },
      "text/plain": [
       "HBox(children=(FloatProgress(value=0.0, description='[3] 3/16(train)', max=493.0, style=ProgressStyle(descript…"
      ]
     },
     "metadata": {},
     "output_type": "display_data"
    },
    {
     "name": "stdout",
     "output_type": "stream",
     "text": [
      "\n",
      "[2] train Loss: 0.321237 Acc: 0.291112\n",
      " "
     ]
    },
    {
     "data": {
      "application/vnd.jupyter.widget-view+json": {
       "model_id": "5e0e70b4946348ecade8ac2e6b9a16c9",
       "version_major": 2,
       "version_minor": 0
      },
      "text/plain": [
       "HBox(children=(FloatProgress(value=0.0, description='[2] 2/16(val  )', max=165.0, style=ProgressStyle(descript…"
      ]
     },
     "metadata": {},
     "output_type": "display_data"
    },
    {
     "name": "stdout",
     "output_type": "stream",
     "text": [
      "\n",
      "[1] train Loss: 0.322768 Acc: 0.284392\n",
      " "
     ]
    },
    {
     "data": {
      "application/vnd.jupyter.widget-view+json": {
       "model_id": "744a54b91a9d49918f36e6ba436fcd9c",
       "version_major": 2,
       "version_minor": 0
      },
      "text/plain": [
       "HBox(children=(FloatProgress(value=0.0, description='[1] 2/16(val  )', max=165.0, style=ProgressStyle(descript…"
      ]
     },
     "metadata": {},
     "output_type": "display_data"
    },
    {
     "name": "stdout",
     "output_type": "stream",
     "text": [
      "\n",
      "[0] train Loss: 0.317884 Acc: 0.282997\n",
      " "
     ]
    },
    {
     "data": {
      "application/vnd.jupyter.widget-view+json": {
       "model_id": "8ba23cab14474b7f9e9a81a2352b360e",
       "version_major": 2,
       "version_minor": 0
      },
      "text/plain": [
       "HBox(children=(FloatProgress(value=0.0, description='[0] 2/16(val  )', max=165.0, style=ProgressStyle(descript…"
      ]
     },
     "metadata": {},
     "output_type": "display_data"
    },
    {
     "name": "stdout",
     "output_type": "stream",
     "text": [
      "\n",
      "[2] val Loss: 0.287358 Acc: 0.368581\n",
      " "
     ]
    },
    {
     "data": {
      "application/vnd.jupyter.widget-view+json": {
       "model_id": "8106388a64834ceba3d3daefb6521894",
       "version_major": 2,
       "version_minor": 0
      },
      "text/plain": [
       "HBox(children=(FloatProgress(value=0.0, description='[2] 3/16(train)', max=493.0, style=ProgressStyle(descript…"
      ]
     },
     "metadata": {},
     "output_type": "display_data"
    },
    {
     "name": "stdout",
     "output_type": "stream",
     "text": [
      "\n",
      "[1] val Loss: 0.301465 Acc: 0.335489\n",
      " "
     ]
    },
    {
     "data": {
      "application/vnd.jupyter.widget-view+json": {
       "model_id": "b8faf74495a34f278c68704dcedb5030",
       "version_major": 2,
       "version_minor": 0
      },
      "text/plain": [
       "HBox(children=(FloatProgress(value=0.0, description='[1] 3/16(train)', max=493.0, style=ProgressStyle(descript…"
      ]
     },
     "metadata": {},
     "output_type": "display_data"
    },
    {
     "name": "stdout",
     "output_type": "stream",
     "text": [
      "\n",
      "[0] val Loss: 0.314169 Acc: 0.352225\n",
      " "
     ]
    },
    {
     "data": {
      "application/vnd.jupyter.widget-view+json": {
       "model_id": "c7c4759b6a6e4bd591d26c27f2be67fa",
       "version_major": 2,
       "version_minor": 0
      },
      "text/plain": [
       "HBox(children=(FloatProgress(value=0.0, description='[0] 3/16(train)', max=493.0, style=ProgressStyle(descript…"
      ]
     },
     "metadata": {},
     "output_type": "display_data"
    },
    {
     "name": "stdout",
     "output_type": "stream",
     "text": [
      "\n",
      "[3] train Loss: 0.304575 Acc: 0.319133\n",
      " "
     ]
    },
    {
     "data": {
      "application/vnd.jupyter.widget-view+json": {
       "model_id": "24e7836f52c041c9825b52ab8bbd37f7",
       "version_major": 2,
       "version_minor": 0
      },
      "text/plain": [
       "HBox(children=(FloatProgress(value=0.0, description='[3] 3/16(val  )', max=165.0, style=ProgressStyle(descript…"
      ]
     },
     "metadata": {},
     "output_type": "display_data"
    },
    {
     "name": "stdout",
     "output_type": "stream",
     "text": [
      "\n",
      "[3] val Loss: 0.288249 Acc: 0.386839\n",
      " "
     ]
    },
    {
     "data": {
      "application/vnd.jupyter.widget-view+json": {
       "model_id": "539fe7f970dc41eb9041e4ed2dcac083",
       "version_major": 2,
       "version_minor": 0
      },
      "text/plain": [
       "HBox(children=(FloatProgress(value=0.0, description='[3] 4/16(train)', max=493.0, style=ProgressStyle(descript…"
      ]
     },
     "metadata": {},
     "output_type": "display_data"
    },
    {
     "name": "stdout",
     "output_type": "stream",
     "text": [
      "\n",
      "[2] train Loss: 0.309807 Acc: 0.308989\n",
      " "
     ]
    },
    {
     "data": {
      "application/vnd.jupyter.widget-view+json": {
       "model_id": "4d0429ff6aee468a905765b5dfad3963",
       "version_major": 2,
       "version_minor": 0
      },
      "text/plain": [
       "HBox(children=(FloatProgress(value=0.0, description='[2] 3/16(val  )', max=165.0, style=ProgressStyle(descript…"
      ]
     },
     "metadata": {},
     "output_type": "display_data"
    },
    {
     "name": "stdout",
     "output_type": "stream",
     "text": [
      "\n",
      "[1] train Loss: 0.308952 Acc: 0.316217\n",
      " "
     ]
    },
    {
     "data": {
      "application/vnd.jupyter.widget-view+json": {
       "model_id": "72acd7ec414649a1be7805c5d4ea2bca",
       "version_major": 2,
       "version_minor": 0
      },
      "text/plain": [
       "HBox(children=(FloatProgress(value=0.0, description='[1] 3/16(val  )', max=165.0, style=ProgressStyle(descript…"
      ]
     },
     "metadata": {},
     "output_type": "display_data"
    },
    {
     "name": "stdout",
     "output_type": "stream",
     "text": [
      "\n",
      "[0] train Loss: 0.302031 Acc: 0.333967\n",
      " "
     ]
    },
    {
     "data": {
      "application/vnd.jupyter.widget-view+json": {
       "model_id": "24782993f3934f39be1a144adec81d89",
       "version_major": 2,
       "version_minor": 0
      },
      "text/plain": [
       "HBox(children=(FloatProgress(value=0.0, description='[0] 3/16(val  )', max=165.0, style=ProgressStyle(descript…"
      ]
     },
     "metadata": {},
     "output_type": "display_data"
    },
    {
     "name": "stdout",
     "output_type": "stream",
     "text": [
      "\n",
      "[2] val Loss: 0.317674 Acc: 0.380753\n",
      " "
     ]
    },
    {
     "data": {
      "application/vnd.jupyter.widget-view+json": {
       "model_id": "7723264e77b5482eb6f97c4214609248",
       "version_major": 2,
       "version_minor": 0
      },
      "text/plain": [
       "HBox(children=(FloatProgress(value=0.0, description='[2] 4/16(train)', max=493.0, style=ProgressStyle(descript…"
      ]
     },
     "metadata": {},
     "output_type": "display_data"
    },
    {
     "name": "stdout",
     "output_type": "stream",
     "text": [
      "\n",
      "[1] val Loss: 0.289881 Acc: 0.380373\n",
      " "
     ]
    },
    {
     "data": {
      "application/vnd.jupyter.widget-view+json": {
       "model_id": "9a76646919b546f1b5487bec4dbe2d11",
       "version_major": 2,
       "version_minor": 0
      },
      "text/plain": [
       "HBox(children=(FloatProgress(value=0.0, description='[1] 4/16(train)', max=493.0, style=ProgressStyle(descript…"
      ]
     },
     "metadata": {},
     "output_type": "display_data"
    },
    {
     "name": "stdout",
     "output_type": "stream",
     "text": [
      "\n",
      "[0] val Loss: 0.275312 Acc: 0.414606\n",
      " "
     ]
    },
    {
     "data": {
      "application/vnd.jupyter.widget-view+json": {
       "model_id": "953dc2880079435d8c8e9cbc108f4039",
       "version_major": 2,
       "version_minor": 0
      },
      "text/plain": [
       "HBox(children=(FloatProgress(value=0.0, description='[0] 4/16(train)', max=493.0, style=ProgressStyle(descript…"
      ]
     },
     "metadata": {},
     "output_type": "display_data"
    },
    {
     "name": "stdout",
     "output_type": "stream",
     "text": [
      "\n",
      "[3] train Loss: 0.299949 Acc: 0.331558\n",
      " "
     ]
    },
    {
     "data": {
      "application/vnd.jupyter.widget-view+json": {
       "model_id": "d91d972e55e24344b477aba176c7574b",
       "version_major": 2,
       "version_minor": 0
      },
      "text/plain": [
       "HBox(children=(FloatProgress(value=0.0, description='[3] 4/16(val  )', max=165.0, style=ProgressStyle(descript…"
      ]
     },
     "metadata": {},
     "output_type": "display_data"
    },
    {
     "name": "stdout",
     "output_type": "stream",
     "text": [
      "\n",
      "[3] val Loss: 0.305470 Acc: 0.375048\n",
      " "
     ]
    },
    {
     "data": {
      "application/vnd.jupyter.widget-view+json": {
       "model_id": "0c777c169a6543e98371811c6cd4a5e3",
       "version_major": 2,
       "version_minor": 0
      },
      "text/plain": [
       "HBox(children=(FloatProgress(value=0.0, description='[3] 5/16(train)', max=493.0, style=ProgressStyle(descript…"
      ]
     },
     "metadata": {},
     "output_type": "display_data"
    },
    {
     "name": "stdout",
     "output_type": "stream",
     "text": [
      "\n",
      "[2] train Loss: 0.297843 Acc: 0.341068\n",
      " "
     ]
    },
    {
     "data": {
      "application/vnd.jupyter.widget-view+json": {
       "model_id": "3d6a3c569bf349e792f0ed1a4873716e",
       "version_major": 2,
       "version_minor": 0
      },
      "text/plain": [
       "HBox(children=(FloatProgress(value=0.0, description='[2] 4/16(val  )', max=165.0, style=ProgressStyle(descript…"
      ]
     },
     "metadata": {},
     "output_type": "display_data"
    },
    {
     "name": "stdout",
     "output_type": "stream",
     "text": [
      "\n",
      "[1] train Loss: 0.299712 Acc: 0.337264\n",
      " "
     ]
    },
    {
     "data": {
      "application/vnd.jupyter.widget-view+json": {
       "model_id": "67cbafcbf81144d78d19ef745323e52e",
       "version_major": 2,
       "version_minor": 0
      },
      "text/plain": [
       "HBox(children=(FloatProgress(value=0.0, description='[1] 4/16(val  )', max=165.0, style=ProgressStyle(descript…"
      ]
     },
     "metadata": {},
     "output_type": "display_data"
    },
    {
     "name": "stdout",
     "output_type": "stream",
     "text": [
      "\n",
      "[0] train Loss: 0.297541 Acc: 0.338659\n",
      " "
     ]
    },
    {
     "data": {
      "application/vnd.jupyter.widget-view+json": {
       "model_id": "afc5b97a3e534305a0e19c334fde7882",
       "version_major": 2,
       "version_minor": 0
      },
      "text/plain": [
       "HBox(children=(FloatProgress(value=0.0, description='[0] 4/16(val  )', max=165.0, style=ProgressStyle(descript…"
      ]
     },
     "metadata": {},
     "output_type": "display_data"
    },
    {
     "name": "stdout",
     "output_type": "stream",
     "text": [
      "\n",
      "[2] val Loss: 0.288453 Acc: 0.359072\n",
      " "
     ]
    },
    {
     "data": {
      "application/vnd.jupyter.widget-view+json": {
       "model_id": "9313c1bc83b14beba4cbfad12965690a",
       "version_major": 2,
       "version_minor": 0
      },
      "text/plain": [
       "HBox(children=(FloatProgress(value=0.0, description='[2] 5/16(train)', max=493.0, style=ProgressStyle(descript…"
      ]
     },
     "metadata": {},
     "output_type": "display_data"
    },
    {
     "name": "stdout",
     "output_type": "stream",
     "text": [
      "\n",
      "[1] val Loss: 0.281706 Acc: 0.390643\n",
      " "
     ]
    },
    {
     "data": {
      "application/vnd.jupyter.widget-view+json": {
       "model_id": "005616297a1648e4aa5e450e8b785cfb",
       "version_major": 2,
       "version_minor": 0
      },
      "text/plain": [
       "HBox(children=(FloatProgress(value=0.0, description='[1] 5/16(train)', max=493.0, style=ProgressStyle(descript…"
      ]
     },
     "metadata": {},
     "output_type": "display_data"
    },
    {
     "name": "stdout",
     "output_type": "stream",
     "text": [
      "\n",
      "[0] val Loss: 0.267727 Acc: 0.404336\n",
      " "
     ]
    },
    {
     "data": {
      "application/vnd.jupyter.widget-view+json": {
       "model_id": "1171a6c8a00846feb590a86648d6a6fd",
       "version_major": 2,
       "version_minor": 0
      },
      "text/plain": [
       "HBox(children=(FloatProgress(value=0.0, description='[0] 5/16(train)', max=493.0, style=ProgressStyle(descript…"
      ]
     },
     "metadata": {},
     "output_type": "display_data"
    },
    {
     "name": "stdout",
     "output_type": "stream",
     "text": [
      "\n",
      "[3] train Loss: 0.295212 Acc: 0.339926\n",
      " "
     ]
    },
    {
     "data": {
      "application/vnd.jupyter.widget-view+json": {
       "model_id": "037f06bd963b4a8db53201a5778e59f1",
       "version_major": 2,
       "version_minor": 0
      },
      "text/plain": [
       "HBox(children=(FloatProgress(value=0.0, description='[3] 5/16(val  )', max=165.0, style=ProgressStyle(descript…"
      ]
     },
     "metadata": {},
     "output_type": "display_data"
    },
    {
     "name": "stdout",
     "output_type": "stream",
     "text": [
      "\n",
      "[3] val Loss: 0.293453 Acc: 0.376569\n",
      " "
     ]
    },
    {
     "data": {
      "application/vnd.jupyter.widget-view+json": {
       "model_id": "92313dd51c93400993d7402dab3db921",
       "version_major": 2,
       "version_minor": 0
      },
      "text/plain": [
       "HBox(children=(FloatProgress(value=0.0, description='[3] 6/16(train)', max=493.0, style=ProgressStyle(descript…"
      ]
     },
     "metadata": {},
     "output_type": "display_data"
    },
    {
     "name": "stdout",
     "output_type": "stream",
     "text": [
      "\n",
      "[2] train Loss: 0.292202 Acc: 0.346012\n",
      " "
     ]
    },
    {
     "data": {
      "application/vnd.jupyter.widget-view+json": {
       "model_id": "9ee16e71d5af42bdafaef6d4f3b2d3c1",
       "version_major": 2,
       "version_minor": 0
      },
      "text/plain": [
       "HBox(children=(FloatProgress(value=0.0, description='[2] 5/16(val  )', max=165.0, style=ProgressStyle(descript…"
      ]
     },
     "metadata": {},
     "output_type": "display_data"
    },
    {
     "name": "stdout",
     "output_type": "stream",
     "text": [
      "\n",
      "[1] train Loss: 0.290623 Acc: 0.349689\n",
      " "
     ]
    },
    {
     "data": {
      "application/vnd.jupyter.widget-view+json": {
       "model_id": "e385a031b6bf4469b1611c5ccf20ea8e",
       "version_major": 2,
       "version_minor": 0
      },
      "text/plain": [
       "HBox(children=(FloatProgress(value=0.0, description='[1] 5/16(val  )', max=165.0, style=ProgressStyle(descript…"
      ]
     },
     "metadata": {},
     "output_type": "display_data"
    },
    {
     "name": "stdout",
     "output_type": "stream",
     "text": [
      "\n",
      "[0] train Loss: 0.289350 Acc: 0.360720\n",
      " "
     ]
    },
    {
     "data": {
      "application/vnd.jupyter.widget-view+json": {
       "model_id": "2a5b6e5911074f8ba9cd24ba77c072c5",
       "version_major": 2,
       "version_minor": 0
      },
      "text/plain": [
       "HBox(children=(FloatProgress(value=0.0, description='[0] 5/16(val  )', max=165.0, style=ProgressStyle(descript…"
      ]
     },
     "metadata": {},
     "output_type": "display_data"
    },
    {
     "name": "stdout",
     "output_type": "stream",
     "text": [
      "\n",
      "[2] val Loss: 0.272613 Acc: 0.417269\n",
      " "
     ]
    },
    {
     "data": {
      "application/vnd.jupyter.widget-view+json": {
       "model_id": "ae7630bebe464d7db5f30270aecf9f8d",
       "version_major": 2,
       "version_minor": 0
      },
      "text/plain": [
       "HBox(children=(FloatProgress(value=0.0, description='[2] 6/16(train)', max=493.0, style=ProgressStyle(descript…"
      ]
     },
     "metadata": {},
     "output_type": "display_data"
    },
    {
     "name": "stdout",
     "output_type": "stream",
     "text": [
      "\n",
      "[1] val Loss: 0.272065 Acc: 0.407379\n",
      " "
     ]
    },
    {
     "data": {
      "application/vnd.jupyter.widget-view+json": {
       "model_id": "199c5ac26714492da6f7852453899d97",
       "version_major": 2,
       "version_minor": 0
      },
      "text/plain": [
       "HBox(children=(FloatProgress(value=0.0, description='[1] 6/16(train)', max=493.0, style=ProgressStyle(descript…"
      ]
     },
     "metadata": {},
     "output_type": "display_data"
    },
    {
     "name": "stdout",
     "output_type": "stream",
     "text": [
      "\n",
      "[0] val Loss: 0.267817 Acc: 0.410422\n",
      " "
     ]
    },
    {
     "data": {
      "application/vnd.jupyter.widget-view+json": {
       "model_id": "0687a90150cd4a9ab984238f5478035b",
       "version_major": 2,
       "version_minor": 0
      },
      "text/plain": [
       "HBox(children=(FloatProgress(value=0.0, description='[0] 6/16(train)', max=493.0, style=ProgressStyle(descript…"
      ]
     },
     "metadata": {},
     "output_type": "display_data"
    },
    {
     "name": "stdout",
     "output_type": "stream",
     "text": [
      "\n",
      "[3] train Loss: 0.288558 Acc: 0.359072\n",
      " "
     ]
    },
    {
     "data": {
      "application/vnd.jupyter.widget-view+json": {
       "model_id": "1ae664b513bd4bfc98556ae69e92abb9",
       "version_major": 2,
       "version_minor": 0
      },
      "text/plain": [
       "HBox(children=(FloatProgress(value=0.0, description='[3] 6/16(val  )', max=165.0, style=ProgressStyle(descript…"
      ]
     },
     "metadata": {},
     "output_type": "display_data"
    },
    {
     "name": "stdout",
     "output_type": "stream",
     "text": [
      "\n",
      "Epoch     6: reducing learning rate of group 0 to 1.0000e-05.\n",
      "[3] val Loss: 0.309145 Acc: 0.309243\n",
      " "
     ]
    },
    {
     "data": {
      "application/vnd.jupyter.widget-view+json": {
       "model_id": "5716a3516f184d01a8422c995778eb1e",
       "version_major": 2,
       "version_minor": 0
      },
      "text/plain": [
       "HBox(children=(FloatProgress(value=0.0, description='[3] 7/16(train)', max=493.0, style=ProgressStyle(descript…"
      ]
     },
     "metadata": {},
     "output_type": "display_data"
    },
    {
     "name": "stdout",
     "output_type": "stream",
     "text": [
      "\n",
      "[2] train Loss: 0.288362 Acc: 0.366172\n",
      " "
     ]
    },
    {
     "data": {
      "application/vnd.jupyter.widget-view+json": {
       "model_id": "ab3e967396d247348f5579df3af095cd",
       "version_major": 2,
       "version_minor": 0
      },
      "text/plain": [
       "HBox(children=(FloatProgress(value=0.0, description='[2] 6/16(val  )', max=165.0, style=ProgressStyle(descript…"
      ]
     },
     "metadata": {},
     "output_type": "display_data"
    },
    {
     "name": "stdout",
     "output_type": "stream",
     "text": [
      "\n",
      "[1] train Loss: 0.286424 Acc: 0.366299\n",
      " "
     ]
    },
    {
     "data": {
      "application/vnd.jupyter.widget-view+json": {
       "model_id": "7bce384c57434c1c9c5fc7b57376bd12",
       "version_major": 2,
       "version_minor": 0
      },
      "text/plain": [
       "HBox(children=(FloatProgress(value=0.0, description='[1] 6/16(val  )', max=165.0, style=ProgressStyle(descript…"
      ]
     },
     "metadata": {},
     "output_type": "display_data"
    },
    {
     "name": "stdout",
     "output_type": "stream",
     "text": [
      "\n",
      "[0] train Loss: 0.283164 Acc: 0.370356\n",
      " "
     ]
    },
    {
     "data": {
      "application/vnd.jupyter.widget-view+json": {
       "model_id": "c9c84b678d734fa1896a7ace1d4bcfa3",
       "version_major": 2,
       "version_minor": 0
      },
      "text/plain": [
       "HBox(children=(FloatProgress(value=0.0, description='[0] 6/16(val  )', max=165.0, style=ProgressStyle(descript…"
      ]
     },
     "metadata": {},
     "output_type": "display_data"
    },
    {
     "name": "stdout",
     "output_type": "stream",
     "text": [
      "\n",
      "[2] val Loss: 0.265325 Acc: 0.425257\n",
      " "
     ]
    },
    {
     "data": {
      "application/vnd.jupyter.widget-view+json": {
       "model_id": "2519347888b7428f8ce15d54b88081b6",
       "version_major": 2,
       "version_minor": 0
      },
      "text/plain": [
       "HBox(children=(FloatProgress(value=0.0, description='[2] 7/16(train)', max=493.0, style=ProgressStyle(descript…"
      ]
     },
     "metadata": {},
     "output_type": "display_data"
    },
    {
     "name": "stdout",
     "output_type": "stream",
     "text": [
      "\n",
      "[1] val Loss: 0.311061 Acc: 0.343857\n",
      " "
     ]
    },
    {
     "data": {
      "application/vnd.jupyter.widget-view+json": {
       "model_id": "f1040f898bfb43e6b35198ae8a2b13cc",
       "version_major": 2,
       "version_minor": 0
      },
      "text/plain": [
       "HBox(children=(FloatProgress(value=0.0, description='[1] 7/16(train)', max=493.0, style=ProgressStyle(descript…"
      ]
     },
     "metadata": {},
     "output_type": "display_data"
    },
    {
     "name": "stdout",
     "output_type": "stream",
     "text": [
      "\n",
      "[0] val Loss: 0.282520 Acc: 0.395207\n",
      " "
     ]
    },
    {
     "data": {
      "application/vnd.jupyter.widget-view+json": {
       "model_id": "f138f29465a145bdbe2624e36beaa246",
       "version_major": 2,
       "version_minor": 0
      },
      "text/plain": [
       "HBox(children=(FloatProgress(value=0.0, description='[0] 7/16(train)', max=493.0, style=ProgressStyle(descript…"
      ]
     },
     "metadata": {},
     "output_type": "display_data"
    },
    {
     "name": "stdout",
     "output_type": "stream",
     "text": [
      "\n",
      "[3] train Loss: 0.277626 Acc: 0.384810\n",
      " "
     ]
    },
    {
     "data": {
      "application/vnd.jupyter.widget-view+json": {
       "model_id": "18f7473dc11145f6acf12a46ccd8ffbd",
       "version_major": 2,
       "version_minor": 0
      },
      "text/plain": [
       "HBox(children=(FloatProgress(value=0.0, description='[3] 7/16(val  )', max=165.0, style=ProgressStyle(descript…"
      ]
     },
     "metadata": {},
     "output_type": "display_data"
    },
    {
     "name": "stdout",
     "output_type": "stream",
     "text": [
      "\n",
      "[3] val Loss: 0.254703 Acc: 0.455687\n",
      " "
     ]
    },
    {
     "data": {
      "application/vnd.jupyter.widget-view+json": {
       "model_id": "f2f8f1741690459eb40495a4d8380a2f",
       "version_major": 2,
       "version_minor": 0
      },
      "text/plain": [
       "HBox(children=(FloatProgress(value=0.0, description='[3] 8/16(train)', max=493.0, style=ProgressStyle(descript…"
      ]
     },
     "metadata": {},
     "output_type": "display_data"
    },
    {
     "name": "stdout",
     "output_type": "stream",
     "text": [
      "\n",
      "[2] train Loss: 0.281069 Acc: 0.380626\n",
      " "
     ]
    },
    {
     "data": {
      "application/vnd.jupyter.widget-view+json": {
       "model_id": "c5b523646a6b415b99d8c7260f41cd84",
       "version_major": 2,
       "version_minor": 0
      },
      "text/plain": [
       "HBox(children=(FloatProgress(value=0.0, description='[2] 7/16(val  )', max=165.0, style=ProgressStyle(descript…"
      ]
     },
     "metadata": {},
     "output_type": "display_data"
    },
    {
     "name": "stdout",
     "output_type": "stream",
     "text": [
      "\n",
      "[1] train Loss: 0.282031 Acc: 0.370737\n",
      " "
     ]
    },
    {
     "data": {
      "application/vnd.jupyter.widget-view+json": {
       "model_id": "9213ae88dd614e4a8e31c83ecb836668",
       "version_major": 2,
       "version_minor": 0
      },
      "text/plain": [
       "HBox(children=(FloatProgress(value=0.0, description='[1] 7/16(val  )', max=165.0, style=ProgressStyle(descript…"
      ]
     },
     "metadata": {},
     "output_type": "display_data"
    },
    {
     "name": "stdout",
     "output_type": "stream",
     "text": [
      "\n",
      "[0] train Loss: 0.282136 Acc: 0.373146\n",
      " "
     ]
    },
    {
     "data": {
      "application/vnd.jupyter.widget-view+json": {
       "model_id": "79bf8bee738d4001a4dfada4d1eaac17",
       "version_major": 2,
       "version_minor": 0
      },
      "text/plain": [
       "HBox(children=(FloatProgress(value=0.0, description='[0] 7/16(val  )', max=165.0, style=ProgressStyle(descript…"
      ]
     },
     "metadata": {},
     "output_type": "display_data"
    },
    {
     "name": "stdout",
     "output_type": "stream",
     "text": [
      "\n",
      "[2] val Loss: 0.292959 Acc: 0.371624\n",
      " "
     ]
    },
    {
     "data": {
      "application/vnd.jupyter.widget-view+json": {
       "model_id": "e3a2c62b0ae2447293132952f1b5acdd",
       "version_major": 2,
       "version_minor": 0
      },
      "text/plain": [
       "HBox(children=(FloatProgress(value=0.0, description='[2] 8/16(train)', max=493.0, style=ProgressStyle(descript…"
      ]
     },
     "metadata": {},
     "output_type": "display_data"
    },
    {
     "name": "stdout",
     "output_type": "stream",
     "text": [
      "\n",
      "[1] val Loss: 0.286696 Acc: 0.414226\n",
      " "
     ]
    },
    {
     "data": {
      "application/vnd.jupyter.widget-view+json": {
       "model_id": "4914a3e75f1347a6a0803258cbbe01f0",
       "version_major": 2,
       "version_minor": 0
      },
      "text/plain": [
       "HBox(children=(FloatProgress(value=0.0, description='[1] 8/16(train)', max=493.0, style=ProgressStyle(descript…"
      ]
     },
     "metadata": {},
     "output_type": "display_data"
    },
    {
     "name": "stdout",
     "output_type": "stream",
     "text": [
      "\n",
      "Epoch     7: reducing learning rate of group 0 to 1.0000e-05.\n",
      "[0] val Loss: 0.286655 Acc: 0.397870\n",
      " "
     ]
    },
    {
     "data": {
      "application/vnd.jupyter.widget-view+json": {
       "model_id": "7257025e87ef4189b54d08ae29e8a95f",
       "version_major": 2,
       "version_minor": 0
      },
      "text/plain": [
       "HBox(children=(FloatProgress(value=0.0, description='[0] 8/16(train)', max=493.0, style=ProgressStyle(descript…"
      ]
     },
     "metadata": {},
     "output_type": "display_data"
    },
    {
     "name": "stdout",
     "output_type": "stream",
     "text": [
      "\n",
      "[3] train Loss: 0.275109 Acc: 0.391911\n",
      " "
     ]
    },
    {
     "data": {
      "application/vnd.jupyter.widget-view+json": {
       "model_id": "d22c54c079bb44dc8b966c3316984c0c",
       "version_major": 2,
       "version_minor": 0
      },
      "text/plain": [
       "HBox(children=(FloatProgress(value=0.0, description='[3] 8/16(val  )', max=165.0, style=ProgressStyle(descript…"
      ]
     },
     "metadata": {},
     "output_type": "display_data"
    },
    {
     "name": "stdout",
     "output_type": "stream",
     "text": [
      "\n",
      "[3] val Loss: 0.253473 Acc: 0.453785\n",
      " "
     ]
    },
    {
     "data": {
      "application/vnd.jupyter.widget-view+json": {
       "model_id": "9568b02b8ff94d77aee6675c6dbc60f7",
       "version_major": 2,
       "version_minor": 0
      },
      "text/plain": [
       "HBox(children=(FloatProgress(value=0.0, description='[3] 9/16(train)', max=493.0, style=ProgressStyle(descript…"
      ]
     },
     "metadata": {},
     "output_type": "display_data"
    },
    {
     "name": "stdout",
     "output_type": "stream",
     "text": [
      "\n",
      "[2] train Loss: 0.280674 Acc: 0.379612\n",
      " "
     ]
    },
    {
     "data": {
      "application/vnd.jupyter.widget-view+json": {
       "model_id": "e14f7f80abdd4dc4a826caf807ff6172",
       "version_major": 2,
       "version_minor": 0
      },
      "text/plain": [
       "HBox(children=(FloatProgress(value=0.0, description='[2] 8/16(val  )', max=165.0, style=ProgressStyle(descript…"
      ]
     },
     "metadata": {},
     "output_type": "display_data"
    },
    {
     "name": "stdout",
     "output_type": "stream",
     "text": [
      "\n",
      "[1] train Loss: 0.279304 Acc: 0.382148\n",
      " "
     ]
    },
    {
     "data": {
      "application/vnd.jupyter.widget-view+json": {
       "model_id": "7a861e3049b14961868b7674938a455b",
       "version_major": 2,
       "version_minor": 0
      },
      "text/plain": [
       "HBox(children=(FloatProgress(value=0.0, description='[1] 8/16(val  )', max=165.0, style=ProgressStyle(descript…"
      ]
     },
     "metadata": {},
     "output_type": "display_data"
    },
    {
     "name": "stdout",
     "output_type": "stream",
     "text": [
      "\n",
      "[0] train Loss: 0.270697 Acc: 0.395714\n",
      " "
     ]
    },
    {
     "data": {
      "application/vnd.jupyter.widget-view+json": {
       "model_id": "5de8860102f94eda903f33abb141ace6",
       "version_major": 2,
       "version_minor": 0
      },
      "text/plain": [
       "HBox(children=(FloatProgress(value=0.0, description='[0] 8/16(val  )', max=165.0, style=ProgressStyle(descript…"
      ]
     },
     "metadata": {},
     "output_type": "display_data"
    },
    {
     "name": "stdout",
     "output_type": "stream",
     "text": [
      "\n",
      "[2] val Loss: 0.260923 Acc: 0.422975\n",
      " "
     ]
    },
    {
     "data": {
      "application/vnd.jupyter.widget-view+json": {
       "model_id": "67b7ac081a02421bbb0c348e0ab6006d",
       "version_major": 2,
       "version_minor": 0
      },
      "text/plain": [
       "HBox(children=(FloatProgress(value=0.0, description='[2] 9/16(train)', max=493.0, style=ProgressStyle(descript…"
      ]
     },
     "metadata": {},
     "output_type": "display_data"
    },
    {
     "name": "stdout",
     "output_type": "stream",
     "text": [
      "\n",
      "[1] val Loss: 0.268376 Acc: 0.426778\n",
      " "
     ]
    },
    {
     "data": {
      "application/vnd.jupyter.widget-view+json": {
       "model_id": "1d860b93e18f40639c4fcd49f8922bec",
       "version_major": 2,
       "version_minor": 0
      },
      "text/plain": [
       "HBox(children=(FloatProgress(value=0.0, description='[1] 9/16(train)', max=493.0, style=ProgressStyle(descript…"
      ]
     },
     "metadata": {},
     "output_type": "display_data"
    },
    {
     "name": "stdout",
     "output_type": "stream",
     "text": [
      "\n",
      "[0] val Loss: 0.254779 Acc: 0.442374\n",
      " "
     ]
    },
    {
     "data": {
      "application/vnd.jupyter.widget-view+json": {
       "model_id": "43792d382f9547a892e14037ec7939e0",
       "version_major": 2,
       "version_minor": 0
      },
      "text/plain": [
       "HBox(children=(FloatProgress(value=0.0, description='[0] 9/16(train)', max=493.0, style=ProgressStyle(descript…"
      ]
     },
     "metadata": {},
     "output_type": "display_data"
    },
    {
     "name": "stdout",
     "output_type": "stream",
     "text": [
      "\n",
      "[3] train Loss: 0.271287 Acc: 0.403449\n",
      " "
     ]
    },
    {
     "data": {
      "application/vnd.jupyter.widget-view+json": {
       "model_id": "d801d78e16eb4cfabee867c6aca9d487",
       "version_major": 2,
       "version_minor": 0
      },
      "text/plain": [
       "HBox(children=(FloatProgress(value=0.0, description='[3] 9/16(val  )', max=165.0, style=ProgressStyle(descript…"
      ]
     },
     "metadata": {},
     "output_type": "display_data"
    },
    {
     "name": "stdout",
     "output_type": "stream",
     "text": [
      "\n",
      "[3] val Loss: 0.250824 Acc: 0.467098\n",
      " "
     ]
    },
    {
     "data": {
      "application/vnd.jupyter.widget-view+json": {
       "model_id": "fcb3c736426149919726b78f2c4bba4c",
       "version_major": 2,
       "version_minor": 0
      },
      "text/plain": [
       "HBox(children=(FloatProgress(value=0.0, description='[3] 10/16(train)', max=493.0, style=ProgressStyle(descrip…"
      ]
     },
     "metadata": {},
     "output_type": "display_data"
    },
    {
     "name": "stdout",
     "output_type": "stream",
     "text": [
      "\n",
      "[2] train Loss: 0.275279 Acc: 0.396348\n",
      " "
     ]
    },
    {
     "data": {
      "application/vnd.jupyter.widget-view+json": {
       "model_id": "34f68e234b4d4d54b23ab10e55697c6c",
       "version_major": 2,
       "version_minor": 0
      },
      "text/plain": [
       "HBox(children=(FloatProgress(value=0.0, description='[2] 9/16(val  )', max=165.0, style=ProgressStyle(descript…"
      ]
     },
     "metadata": {},
     "output_type": "display_data"
    },
    {
     "name": "stdout",
     "output_type": "stream",
     "text": [
      "\n",
      "[1] train Loss: 0.275205 Acc: 0.391530\n",
      " "
     ]
    },
    {
     "data": {
      "application/vnd.jupyter.widget-view+json": {
       "model_id": "4e23192d06394986ab5370abd9176216",
       "version_major": 2,
       "version_minor": 0
      },
      "text/plain": [
       "HBox(children=(FloatProgress(value=0.0, description='[1] 9/16(val  )', max=165.0, style=ProgressStyle(descript…"
      ]
     },
     "metadata": {},
     "output_type": "display_data"
    },
    {
     "name": "stdout",
     "output_type": "stream",
     "text": [
      "\n",
      "[0] train Loss: 0.268896 Acc: 0.411690\n",
      " "
     ]
    },
    {
     "data": {
      "application/vnd.jupyter.widget-view+json": {
       "model_id": "a8f74695247f486fa13dabc886469e2c",
       "version_major": 2,
       "version_minor": 0
      },
      "text/plain": [
       "HBox(children=(FloatProgress(value=0.0, description='[0] 9/16(val  )', max=165.0, style=ProgressStyle(descript…"
      ]
     },
     "metadata": {},
     "output_type": "display_data"
    },
    {
     "name": "stdout",
     "output_type": "stream",
     "text": [
      "\n",
      "[2] val Loss: 0.255319 Acc: 0.453785\n",
      " "
     ]
    },
    {
     "data": {
      "application/vnd.jupyter.widget-view+json": {
       "model_id": "5b7da9fdf04c476b9184c74eca9b69c5",
       "version_major": 2,
       "version_minor": 0
      },
      "text/plain": [
       "HBox(children=(FloatProgress(value=0.0, description='[2] 10/16(train)', max=493.0, style=ProgressStyle(descrip…"
      ]
     },
     "metadata": {},
     "output_type": "display_data"
    },
    {
     "name": "stdout",
     "output_type": "stream",
     "text": [
      "\n",
      "[1] val Loss: 0.281245 Acc: 0.375048\n",
      " "
     ]
    },
    {
     "data": {
      "application/vnd.jupyter.widget-view+json": {
       "model_id": "786781388d954c8b8724fd727d934650",
       "version_major": 2,
       "version_minor": 0
      },
      "text/plain": [
       "HBox(children=(FloatProgress(value=0.0, description='[1] 10/16(train)', max=493.0, style=ProgressStyle(descrip…"
      ]
     },
     "metadata": {},
     "output_type": "display_data"
    },
    {
     "name": "stdout",
     "output_type": "stream",
     "text": [
      "\n",
      "[3] train Loss: 0.271907 Acc: 0.404843\n",
      " "
     ]
    },
    {
     "data": {
      "application/vnd.jupyter.widget-view+json": {
       "model_id": "153bfb2d40b94a589191f9d5131c7ead",
       "version_major": 2,
       "version_minor": 0
      },
      "text/plain": [
       "HBox(children=(FloatProgress(value=0.0, description='[3] 10/16(val  )', max=165.0, style=ProgressStyle(descrip…"
      ]
     },
     "metadata": {},
     "output_type": "display_data"
    },
    {
     "name": "stdout",
     "output_type": "stream",
     "text": [
      "\n",
      "[0] val Loss: 0.252092 Acc: 0.453404\n",
      " "
     ]
    },
    {
     "data": {
      "application/vnd.jupyter.widget-view+json": {
       "model_id": "d965285c8b6c4cc6928ae44066522670",
       "version_major": 2,
       "version_minor": 0
      },
      "text/plain": [
       "HBox(children=(FloatProgress(value=0.0, description='[0] 10/16(train)', max=493.0, style=ProgressStyle(descrip…"
      ]
     },
     "metadata": {},
     "output_type": "display_data"
    },
    {
     "name": "stdout",
     "output_type": "stream",
     "text": [
      "\n",
      "[3] val Loss: 0.251181 Acc: 0.456447\n",
      " "
     ]
    },
    {
     "data": {
      "application/vnd.jupyter.widget-view+json": {
       "model_id": "b3fe5a1c157647ec853365c1f806c0af",
       "version_major": 2,
       "version_minor": 0
      },
      "text/plain": [
       "HBox(children=(FloatProgress(value=0.0, description='[3] 11/16(train)', max=493.0, style=ProgressStyle(descrip…"
      ]
     },
     "metadata": {},
     "output_type": "display_data"
    },
    {
     "name": "stdout",
     "output_type": "stream",
     "text": [
      "\n",
      "[3] train Loss: 0.269094 Acc: 0.409915\n",
      " "
     ]
    },
    {
     "data": {
      "application/vnd.jupyter.widget-view+json": {
       "model_id": "acd9d5afa21444fa99de0c3b562f4074",
       "version_major": 2,
       "version_minor": 0
      },
      "text/plain": [
       "HBox(children=(FloatProgress(value=0.0, description='[3] 11/16(val  )', max=165.0, style=ProgressStyle(descrip…"
      ]
     },
     "metadata": {},
     "output_type": "display_data"
    },
    {
     "name": "stdout",
     "output_type": "stream",
     "text": [
      "\n",
      "[2] train Loss: 0.273308 Acc: 0.400659\n",
      " "
     ]
    },
    {
     "data": {
      "application/vnd.jupyter.widget-view+json": {
       "model_id": "6a00038a720745259b39fa6cc522f118",
       "version_major": 2,
       "version_minor": 0
      },
      "text/plain": [
       "HBox(children=(FloatProgress(value=0.0, description='[2] 10/16(val  )', max=165.0, style=ProgressStyle(descrip…"
      ]
     },
     "metadata": {},
     "output_type": "display_data"
    },
    {
     "name": "stdout",
     "output_type": "stream",
     "text": [
      "\n",
      "[1] train Loss: 0.275588 Acc: 0.390643\n",
      " "
     ]
    },
    {
     "data": {
      "application/vnd.jupyter.widget-view+json": {
       "model_id": "9888cf5b11fd4a77b2a8d687a5f9d10a",
       "version_major": 2,
       "version_minor": 0
      },
      "text/plain": [
       "HBox(children=(FloatProgress(value=0.0, description='[1] 10/16(val  )', max=165.0, style=ProgressStyle(descrip…"
      ]
     },
     "metadata": {},
     "output_type": "display_data"
    },
    {
     "name": "stdout",
     "output_type": "stream",
     "text": [
      "\n",
      "[0] train Loss: 0.270227 Acc: 0.403449\n",
      " "
     ]
    },
    {
     "data": {
      "application/vnd.jupyter.widget-view+json": {
       "model_id": "bdcaa3ef998b407c83f3c9cc562d87c7",
       "version_major": 2,
       "version_minor": 0
      },
      "text/plain": [
       "HBox(children=(FloatProgress(value=0.0, description='[0] 10/16(val  )', max=165.0, style=ProgressStyle(descrip…"
      ]
     },
     "metadata": {},
     "output_type": "display_data"
    },
    {
     "name": "stdout",
     "output_type": "stream",
     "text": [
      "\n",
      "[3] val Loss: 0.250670 Acc: 0.468239\n",
      " "
     ]
    },
    {
     "data": {
      "application/vnd.jupyter.widget-view+json": {
       "model_id": "9e927cf3b650494b9a32a06db48fc255",
       "version_major": 2,
       "version_minor": 0
      },
      "text/plain": [
       "HBox(children=(FloatProgress(value=0.0, description='[3] 12/16(train)', max=493.0, style=ProgressStyle(descrip…"
      ]
     },
     "metadata": {},
     "output_type": "display_data"
    },
    {
     "name": "stdout",
     "output_type": "stream",
     "text": [
      "\n",
      "[2] val Loss: 0.286511 Acc: 0.394827\n",
      " "
     ]
    },
    {
     "data": {
      "application/vnd.jupyter.widget-view+json": {
       "model_id": "46918ec8b1b3440186be6b3050abbd0b",
       "version_major": 2,
       "version_minor": 0
      },
      "text/plain": [
       "HBox(children=(FloatProgress(value=0.0, description='[2] 11/16(train)', max=493.0, style=ProgressStyle(descrip…"
      ]
     },
     "metadata": {},
     "output_type": "display_data"
    },
    {
     "name": "stdout",
     "output_type": "stream",
     "text": [
      "\n",
      "[1] val Loss: 0.268694 Acc: 0.441613\n",
      " "
     ]
    },
    {
     "data": {
      "application/vnd.jupyter.widget-view+json": {
       "model_id": "0bbbbcd5efa448f2b5804e11175a5f6d",
       "version_major": 2,
       "version_minor": 0
      },
      "text/plain": [
       "HBox(children=(FloatProgress(value=0.0, description='[1] 11/16(train)', max=493.0, style=ProgressStyle(descrip…"
      ]
     },
     "metadata": {},
     "output_type": "display_data"
    },
    {
     "name": "stdout",
     "output_type": "stream",
     "text": [
      "\n",
      "[0] val Loss: 0.246969 Acc: 0.472423\n",
      " "
     ]
    },
    {
     "data": {
      "application/vnd.jupyter.widget-view+json": {
       "model_id": "d4726598926c4127baea3af67863d72c",
       "version_major": 2,
       "version_minor": 0
      },
      "text/plain": [
       "HBox(children=(FloatProgress(value=0.0, description='[0] 11/16(train)', max=493.0, style=ProgressStyle(descrip…"
      ]
     },
     "metadata": {},
     "output_type": "display_data"
    },
    {
     "name": "stdout",
     "output_type": "stream",
     "text": [
      "\n",
      "[3] train Loss: 0.268216 Acc: 0.401166\n",
      " "
     ]
    },
    {
     "data": {
      "application/vnd.jupyter.widget-view+json": {
       "model_id": "3c477a68f7d047f69be377f419310573",
       "version_major": 2,
       "version_minor": 0
      },
      "text/plain": [
       "HBox(children=(FloatProgress(value=0.0, description='[3] 12/16(val  )', max=165.0, style=ProgressStyle(descrip…"
      ]
     },
     "metadata": {},
     "output_type": "display_data"
    },
    {
     "name": "stdout",
     "output_type": "stream",
     "text": [
      "\n",
      "[3] val Loss: 0.260893 Acc: 0.440852\n",
      " "
     ]
    },
    {
     "data": {
      "application/vnd.jupyter.widget-view+json": {
       "model_id": "4287bbd0002147809890c2b25960ab75",
       "version_major": 2,
       "version_minor": 0
      },
      "text/plain": [
       "HBox(children=(FloatProgress(value=0.0, description='[3] 13/16(train)', max=493.0, style=ProgressStyle(descrip…"
      ]
     },
     "metadata": {},
     "output_type": "display_data"
    },
    {
     "name": "stdout",
     "output_type": "stream",
     "text": [
      "\n",
      "[2] train Loss: 0.270896 Acc: 0.407886\n",
      " "
     ]
    },
    {
     "data": {
      "application/vnd.jupyter.widget-view+json": {
       "model_id": "0978a915871648949b1e904643487a62",
       "version_major": 2,
       "version_minor": 0
      },
      "text/plain": [
       "HBox(children=(FloatProgress(value=0.0, description='[2] 11/16(val  )', max=165.0, style=ProgressStyle(descrip…"
      ]
     },
     "metadata": {},
     "output_type": "display_data"
    },
    {
     "name": "stdout",
     "output_type": "stream",
     "text": [
      "\n",
      "[1] train Loss: 0.272849 Acc: 0.396222\n",
      " "
     ]
    },
    {
     "data": {
      "application/vnd.jupyter.widget-view+json": {
       "model_id": "1dc18b37478849528d8ad17904638f3d",
       "version_major": 2,
       "version_minor": 0
      },
      "text/plain": [
       "HBox(children=(FloatProgress(value=0.0, description='[1] 11/16(val  )', max=165.0, style=ProgressStyle(descrip…"
      ]
     },
     "metadata": {},
     "output_type": "display_data"
    },
    {
     "name": "stdout",
     "output_type": "stream",
     "text": [
      "\n",
      "[0] train Loss: 0.267577 Acc: 0.410295\n",
      " "
     ]
    },
    {
     "data": {
      "application/vnd.jupyter.widget-view+json": {
       "model_id": "b26f33c6886d4f529b915ec88a2443c4",
       "version_major": 2,
       "version_minor": 0
      },
      "text/plain": [
       "HBox(children=(FloatProgress(value=0.0, description='[0] 11/16(val  )', max=165.0, style=ProgressStyle(descrip…"
      ]
     },
     "metadata": {},
     "output_type": "display_data"
    },
    {
     "name": "stdout",
     "output_type": "stream",
     "text": [
      "\n",
      "[2] val Loss: 0.277662 Acc: 0.433245\n",
      " "
     ]
    },
    {
     "data": {
      "application/vnd.jupyter.widget-view+json": {
       "model_id": "36b3131c2f534797a8a61e5cbe9d71c4",
       "version_major": 2,
       "version_minor": 0
      },
      "text/plain": [
       "HBox(children=(FloatProgress(value=0.0, description='[2] 12/16(train)', max=493.0, style=ProgressStyle(descrip…"
      ]
     },
     "metadata": {},
     "output_type": "display_data"
    },
    {
     "name": "stdout",
     "output_type": "stream",
     "text": [
      "\n",
      "Epoch    11: reducing learning rate of group 0 to 1.0000e-05.\n",
      "[1] val Loss: 0.275610 Acc: 0.410422\n",
      " "
     ]
    },
    {
     "data": {
      "application/vnd.jupyter.widget-view+json": {
       "model_id": "5b6355bf8b0543a0a2ac5a79d27c248a",
       "version_major": 2,
       "version_minor": 0
      },
      "text/plain": [
       "HBox(children=(FloatProgress(value=0.0, description='[1] 12/16(train)', max=493.0, style=ProgressStyle(descrip…"
      ]
     },
     "metadata": {},
     "output_type": "display_data"
    },
    {
     "name": "stdout",
     "output_type": "stream",
     "text": [
      "\n",
      "[0] val Loss: 0.253548 Acc: 0.462153\n",
      " "
     ]
    },
    {
     "data": {
      "application/vnd.jupyter.widget-view+json": {
       "model_id": "6b6267c8f8294688b29da04febf0cb26",
       "version_major": 2,
       "version_minor": 0
      },
      "text/plain": [
       "HBox(children=(FloatProgress(value=0.0, description='[0] 12/16(train)', max=493.0, style=ProgressStyle(descrip…"
      ]
     },
     "metadata": {},
     "output_type": "display_data"
    },
    {
     "name": "stdout",
     "output_type": "stream",
     "text": [
      "\n",
      "[3] train Loss: 0.263987 Acc: 0.421326\n",
      " "
     ]
    },
    {
     "data": {
      "application/vnd.jupyter.widget-view+json": {
       "model_id": "2e16b534f44d4982ab3e8c0c389aaf07",
       "version_major": 2,
       "version_minor": 0
      },
      "text/plain": [
       "HBox(children=(FloatProgress(value=0.0, description='[3] 13/16(val  )', max=165.0, style=ProgressStyle(descrip…"
      ]
     },
     "metadata": {},
     "output_type": "display_data"
    },
    {
     "name": "stdout",
     "output_type": "stream",
     "text": [
      "\n",
      "[3] val Loss: 0.249517 Acc: 0.465957\n",
      " "
     ]
    },
    {
     "data": {
      "application/vnd.jupyter.widget-view+json": {
       "model_id": "c2c7ae90e6a24978b5e571aebbfd768f",
       "version_major": 2,
       "version_minor": 0
      },
      "text/plain": [
       "HBox(children=(FloatProgress(value=0.0, description='[3] 14/16(train)', max=493.0, style=ProgressStyle(descrip…"
      ]
     },
     "metadata": {},
     "output_type": "display_data"
    },
    {
     "name": "stdout",
     "output_type": "stream",
     "text": [
      "\n",
      "[2] train Loss: 0.269069 Acc: 0.411944\n",
      " "
     ]
    },
    {
     "data": {
      "application/vnd.jupyter.widget-view+json": {
       "model_id": "579ed25e481242f185e5e30ca452ec5c",
       "version_major": 2,
       "version_minor": 0
      },
      "text/plain": [
       "HBox(children=(FloatProgress(value=0.0, description='[2] 12/16(val  )', max=165.0, style=ProgressStyle(descrip…"
      ]
     },
     "metadata": {},
     "output_type": "display_data"
    },
    {
     "name": "stdout",
     "output_type": "stream",
     "text": [
      "\n",
      "[1] train Loss: 0.261076 Acc: 0.426905\n",
      " "
     ]
    },
    {
     "data": {
      "application/vnd.jupyter.widget-view+json": {
       "model_id": "57f3617011394aeaaff633b05a7bd161",
       "version_major": 2,
       "version_minor": 0
      },
      "text/plain": [
       "HBox(children=(FloatProgress(value=0.0, description='[1] 12/16(val  )', max=165.0, style=ProgressStyle(descrip…"
      ]
     },
     "metadata": {},
     "output_type": "display_data"
    },
    {
     "name": "stdout",
     "output_type": "stream",
     "text": [
      "\n",
      "[0] train Loss: 0.262877 Acc: 0.424369\n",
      " "
     ]
    },
    {
     "data": {
      "application/vnd.jupyter.widget-view+json": {
       "model_id": "845d4a9ac9cb4cac9df351b44aa9d82c",
       "version_major": 2,
       "version_minor": 0
      },
      "text/plain": [
       "HBox(children=(FloatProgress(value=0.0, description='[0] 12/16(val  )', max=165.0, style=ProgressStyle(descrip…"
      ]
     },
     "metadata": {},
     "output_type": "display_data"
    },
    {
     "name": "stdout",
     "output_type": "stream",
     "text": [
      "\n",
      "Epoch    12: reducing learning rate of group 0 to 1.0000e-05.\n",
      "[2] val Loss: 0.273973 Acc: 0.397870\n",
      " "
     ]
    },
    {
     "data": {
      "application/vnd.jupyter.widget-view+json": {
       "model_id": "2c71854cff914cb8a0c975bbe3bac097",
       "version_major": 2,
       "version_minor": 0
      },
      "text/plain": [
       "HBox(children=(FloatProgress(value=0.0, description='[2] 13/16(train)', max=493.0, style=ProgressStyle(descrip…"
      ]
     },
     "metadata": {},
     "output_type": "display_data"
    },
    {
     "name": "stdout",
     "output_type": "stream",
     "text": [
      "\n",
      "[1] val Loss: 0.243450 Acc: 0.477748\n",
      " "
     ]
    },
    {
     "data": {
      "application/vnd.jupyter.widget-view+json": {
       "model_id": "f3454cb6c96f4254ae3441b14563dad9",
       "version_major": 2,
       "version_minor": 0
      },
      "text/plain": [
       "HBox(children=(FloatProgress(value=0.0, description='[1] 13/16(train)', max=493.0, style=ProgressStyle(descrip…"
      ]
     },
     "metadata": {},
     "output_type": "display_data"
    },
    {
     "name": "stdout",
     "output_type": "stream",
     "text": [
      "\n",
      "[0] val Loss: 0.247786 Acc: 0.459871\n",
      " "
     ]
    },
    {
     "data": {
      "application/vnd.jupyter.widget-view+json": {
       "model_id": "7eb04bb1ba49434f8e44a2ebe423ca8f",
       "version_major": 2,
       "version_minor": 0
      },
      "text/plain": [
       "HBox(children=(FloatProgress(value=0.0, description='[0] 13/16(train)', max=493.0, style=ProgressStyle(descrip…"
      ]
     },
     "metadata": {},
     "output_type": "display_data"
    },
    {
     "name": "stdout",
     "output_type": "stream",
     "text": [
      "\n",
      "[3] train Loss: 0.264999 Acc: 0.420185\n",
      " "
     ]
    },
    {
     "data": {
      "application/vnd.jupyter.widget-view+json": {
       "model_id": "66f5c6208983494c920162cc568322d8",
       "version_major": 2,
       "version_minor": 0
      },
      "text/plain": [
       "HBox(children=(FloatProgress(value=0.0, description='[3] 14/16(val  )', max=165.0, style=ProgressStyle(descrip…"
      ]
     },
     "metadata": {},
     "output_type": "display_data"
    },
    {
     "name": "stdout",
     "output_type": "stream",
     "text": [
      "\n",
      "[3] val Loss: 0.246834 Acc: 0.476607\n",
      " "
     ]
    },
    {
     "data": {
      "application/vnd.jupyter.widget-view+json": {
       "model_id": "86438f0468b94a18851766fd253b7e8a",
       "version_major": 2,
       "version_minor": 0
      },
      "text/plain": [
       "HBox(children=(FloatProgress(value=0.0, description='[3] 15/16(train)', max=493.0, style=ProgressStyle(descrip…"
      ]
     },
     "metadata": {},
     "output_type": "display_data"
    },
    {
     "name": "stdout",
     "output_type": "stream",
     "text": [
      "\n",
      "[2] train Loss: 0.258352 Acc: 0.440472\n",
      " "
     ]
    },
    {
     "data": {
      "application/vnd.jupyter.widget-view+json": {
       "model_id": "c5d7ed2f17634cf580050343bb08077f",
       "version_major": 2,
       "version_minor": 0
      },
      "text/plain": [
       "HBox(children=(FloatProgress(value=0.0, description='[2] 13/16(val  )', max=165.0, style=ProgressStyle(descrip…"
      ]
     },
     "metadata": {},
     "output_type": "display_data"
    },
    {
     "name": "stdout",
     "output_type": "stream",
     "text": [
      "\n",
      "[1] train Loss: 0.256913 Acc: 0.445924\n",
      " "
     ]
    },
    {
     "data": {
      "application/vnd.jupyter.widget-view+json": {
       "model_id": "6fc2edcc24174d4e97a4527ee37ad545",
       "version_major": 2,
       "version_minor": 0
      },
      "text/plain": [
       "HBox(children=(FloatProgress(value=0.0, description='[1] 13/16(val  )', max=165.0, style=ProgressStyle(descrip…"
      ]
     },
     "metadata": {},
     "output_type": "display_data"
    },
    {
     "name": "stdout",
     "output_type": "stream",
     "text": [
      "\n",
      "[0] train Loss: 0.262858 Acc: 0.425637\n",
      " "
     ]
    },
    {
     "data": {
      "application/vnd.jupyter.widget-view+json": {
       "model_id": "b50290bea3b64f2d81eca02d585a59a8",
       "version_major": 2,
       "version_minor": 0
      },
      "text/plain": [
       "HBox(children=(FloatProgress(value=0.0, description='[0] 13/16(val  )', max=165.0, style=ProgressStyle(descrip…"
      ]
     },
     "metadata": {},
     "output_type": "display_data"
    },
    {
     "name": "stdout",
     "output_type": "stream",
     "text": [
      "\n",
      "[2] val Loss: 0.240163 Acc: 0.485356\n",
      " "
     ]
    },
    {
     "data": {
      "application/vnd.jupyter.widget-view+json": {
       "model_id": "3b1bb2f48a3d4d33ac66974c177a55db",
       "version_major": 2,
       "version_minor": 0
      },
      "text/plain": [
       "HBox(children=(FloatProgress(value=0.0, description='[2] 14/16(train)', max=493.0, style=ProgressStyle(descrip…"
      ]
     },
     "metadata": {},
     "output_type": "display_data"
    },
    {
     "name": "stdout",
     "output_type": "stream",
     "text": [
      "\n",
      "[1] val Loss: 0.249623 Acc: 0.463674\n",
      " "
     ]
    },
    {
     "data": {
      "application/vnd.jupyter.widget-view+json": {
       "model_id": "301ca4a43ca145aa84d82e0aa409c549",
       "version_major": 2,
       "version_minor": 0
      },
      "text/plain": [
       "HBox(children=(FloatProgress(value=0.0, description='[1] 14/16(train)', max=493.0, style=ProgressStyle(descrip…"
      ]
     },
     "metadata": {},
     "output_type": "display_data"
    },
    {
     "name": "stdout",
     "output_type": "stream",
     "text": [
      "\n",
      "[0] val Loss: 0.245395 Acc: 0.473944\n",
      " "
     ]
    },
    {
     "data": {
      "application/vnd.jupyter.widget-view+json": {
       "model_id": "7685cdc63c7148bdb89a452aa53dfcda",
       "version_major": 2,
       "version_minor": 0
      },
      "text/plain": [
       "HBox(children=(FloatProgress(value=0.0, description='[0] 14/16(train)', max=493.0, style=ProgressStyle(descrip…"
      ]
     },
     "metadata": {},
     "output_type": "display_data"
    },
    {
     "name": "stdout",
     "output_type": "stream",
     "text": [
      "\n",
      "[3] train Loss: 0.261813 Acc: 0.419678\n",
      " "
     ]
    },
    {
     "data": {
      "application/vnd.jupyter.widget-view+json": {
       "model_id": "adc0c16d0a9d486d91961572f559aad6",
       "version_major": 2,
       "version_minor": 0
      },
      "text/plain": [
       "HBox(children=(FloatProgress(value=0.0, description='[3] 15/16(val  )', max=165.0, style=ProgressStyle(descrip…"
      ]
     },
     "metadata": {},
     "output_type": "display_data"
    },
    {
     "name": "stdout",
     "output_type": "stream",
     "text": [
      "\n",
      "[3] val Loss: 0.244634 Acc: 0.472043\n",
      " "
     ]
    },
    {
     "data": {
      "application/vnd.jupyter.widget-view+json": {
       "model_id": "3fd9eca4bbc04164bea509362deb278c",
       "version_major": 2,
       "version_minor": 0
      },
      "text/plain": [
       "HBox(children=(FloatProgress(value=0.0, description='[3] 16/16(train)', max=493.0, style=ProgressStyle(descrip…"
      ]
     },
     "metadata": {},
     "output_type": "display_data"
    },
    {
     "name": "stdout",
     "output_type": "stream",
     "text": [
      "\n",
      "[2] train Loss: 0.256412 Acc: 0.450108\n",
      " "
     ]
    },
    {
     "data": {
      "application/vnd.jupyter.widget-view+json": {
       "model_id": "77445ec0520447c6981c6f3a258a66f7",
       "version_major": 2,
       "version_minor": 0
      },
      "text/plain": [
       "HBox(children=(FloatProgress(value=0.0, description='[2] 14/16(val  )', max=165.0, style=ProgressStyle(descrip…"
      ]
     },
     "metadata": {},
     "output_type": "display_data"
    },
    {
     "name": "stdout",
     "output_type": "stream",
     "text": [
      "\n",
      "[1] train Loss: 0.256397 Acc: 0.441486\n",
      " "
     ]
    },
    {
     "data": {
      "application/vnd.jupyter.widget-view+json": {
       "model_id": "f19c09db5c7f4f13a8bf84bb288ad9ac",
       "version_major": 2,
       "version_minor": 0
      },
      "text/plain": [
       "HBox(children=(FloatProgress(value=0.0, description='[1] 14/16(val  )', max=165.0, style=ProgressStyle(descrip…"
      ]
     },
     "metadata": {},
     "output_type": "display_data"
    },
    {
     "name": "stdout",
     "output_type": "stream",
     "text": [
      "\n",
      "[0] train Loss: 0.263569 Acc: 0.423735\n",
      " "
     ]
    },
    {
     "data": {
      "application/vnd.jupyter.widget-view+json": {
       "model_id": "bfd9d64a270c4252aa17499a77f3763c",
       "version_major": 2,
       "version_minor": 0
      },
      "text/plain": [
       "HBox(children=(FloatProgress(value=0.0, description='[0] 14/16(val  )', max=165.0, style=ProgressStyle(descrip…"
      ]
     },
     "metadata": {},
     "output_type": "display_data"
    },
    {
     "name": "stdout",
     "output_type": "stream",
     "text": [
      "\n",
      "[2] val Loss: 0.241658 Acc: 0.473564\n",
      " "
     ]
    },
    {
     "data": {
      "application/vnd.jupyter.widget-view+json": {
       "model_id": "9f0821bc48c94b8ab4dff8c7876b5258",
       "version_major": 2,
       "version_minor": 0
      },
      "text/plain": [
       "HBox(children=(FloatProgress(value=0.0, description='[2] 15/16(train)', max=493.0, style=ProgressStyle(descrip…"
      ]
     },
     "metadata": {},
     "output_type": "display_data"
    },
    {
     "name": "stdout",
     "output_type": "stream",
     "text": [
      "\n",
      "[1] val Loss: 0.251062 Acc: 0.463294\n",
      " "
     ]
    },
    {
     "data": {
      "application/vnd.jupyter.widget-view+json": {
       "model_id": "974109356e6944adb9b9868e474e7af7",
       "version_major": 2,
       "version_minor": 0
      },
      "text/plain": [
       "HBox(children=(FloatProgress(value=0.0, description='[1] 15/16(train)', max=493.0, style=ProgressStyle(descrip…"
      ]
     },
     "metadata": {},
     "output_type": "display_data"
    },
    {
     "name": "stdout",
     "output_type": "stream",
     "text": [
      "\n",
      "[0] val Loss: 0.243443 Acc: 0.468619\n",
      " "
     ]
    },
    {
     "data": {
      "application/vnd.jupyter.widget-view+json": {
       "model_id": "c2a4da05c1f2426aab9ba1ac0716d862",
       "version_major": 2,
       "version_minor": 0
      },
      "text/plain": [
       "HBox(children=(FloatProgress(value=0.0, description='[0] 15/16(train)', max=493.0, style=ProgressStyle(descrip…"
      ]
     },
     "metadata": {},
     "output_type": "display_data"
    },
    {
     "name": "stdout",
     "output_type": "stream",
     "text": [
      "\n",
      "[3] train Loss: 0.262084 Acc: 0.428173\n",
      " "
     ]
    },
    {
     "data": {
      "application/vnd.jupyter.widget-view+json": {
       "model_id": "12a935509cdc46408ca599917db2a297",
       "version_major": 2,
       "version_minor": 0
      },
      "text/plain": [
       "HBox(children=(FloatProgress(value=0.0, description='[3] 16/16(val  )', max=165.0, style=ProgressStyle(descrip…"
      ]
     },
     "metadata": {},
     "output_type": "display_data"
    },
    {
     "name": "stdout",
     "output_type": "stream",
     "text": [
      "\n",
      "[3] val Loss: 0.254421 Acc: 0.462533\n",
      "[3] Training complete in 346m 25.154460s\n",
      "[3] Best val Acc: 0.476607\n",
      "\n",
      "\n",
      "[2] train Loss: 0.251089 Acc: 0.455433\n",
      " "
     ]
    },
    {
     "data": {
      "application/vnd.jupyter.widget-view+json": {
       "model_id": "acb72e38f632440794a50f1929f431e9",
       "version_major": 2,
       "version_minor": 0
      },
      "text/plain": [
       "HBox(children=(FloatProgress(value=0.0, description='[2] 15/16(val  )', max=165.0, style=ProgressStyle(descrip…"
      ]
     },
     "metadata": {},
     "output_type": "display_data"
    },
    {
     "name": "stdout",
     "output_type": "stream",
     "text": [
      "\n",
      "[1] train Loss: 0.254845 Acc: 0.443134\n",
      " "
     ]
    },
    {
     "data": {
      "application/vnd.jupyter.widget-view+json": {
       "model_id": "b44cf38172d349a99537284299ba05f8",
       "version_major": 2,
       "version_minor": 0
      },
      "text/plain": [
       "HBox(children=(FloatProgress(value=0.0, description='[1] 15/16(val  )', max=165.0, style=ProgressStyle(descrip…"
      ]
     },
     "metadata": {},
     "output_type": "display_data"
    },
    {
     "name": "stdout",
     "output_type": "stream",
     "text": [
      "\n",
      "[0] train Loss: 0.260448 Acc: 0.437429\n",
      " "
     ]
    },
    {
     "data": {
      "application/vnd.jupyter.widget-view+json": {
       "model_id": "549f413a82074332b56efbc71fbc2877",
       "version_major": 2,
       "version_minor": 0
      },
      "text/plain": [
       "HBox(children=(FloatProgress(value=0.0, description='[0] 15/16(val  )', max=165.0, style=ProgressStyle(descrip…"
      ]
     },
     "metadata": {},
     "output_type": "display_data"
    },
    {
     "name": "stdout",
     "output_type": "stream",
     "text": [
      "\n",
      "[2] val Loss: 0.239730 Acc: 0.491061\n",
      " "
     ]
    },
    {
     "data": {
      "application/vnd.jupyter.widget-view+json": {
       "model_id": "790d754e6b9e499bad66e8b9b9c036cb",
       "version_major": 2,
       "version_minor": 0
      },
      "text/plain": [
       "HBox(children=(FloatProgress(value=0.0, description='[2] 16/16(train)', max=493.0, style=ProgressStyle(descrip…"
      ]
     },
     "metadata": {},
     "output_type": "display_data"
    },
    {
     "name": "stdout",
     "output_type": "stream",
     "text": [
      "\n",
      "Epoch    15: reducing learning rate of group 0 to 1.0000e-06.\n",
      "[1] val Loss: 0.243976 Acc: 0.481932\n",
      " "
     ]
    },
    {
     "data": {
      "application/vnd.jupyter.widget-view+json": {
       "model_id": "651f717c4a0441a5a123e21d91c536ea",
       "version_major": 2,
       "version_minor": 0
      },
      "text/plain": [
       "HBox(children=(FloatProgress(value=0.0, description='[1] 16/16(train)', max=493.0, style=ProgressStyle(descrip…"
      ]
     },
     "metadata": {},
     "output_type": "display_data"
    },
    {
     "name": "stdout",
     "output_type": "stream",
     "text": [
      "\n",
      "[0] val Loss: 0.244596 Acc: 0.471662\n",
      " "
     ]
    },
    {
     "data": {
      "application/vnd.jupyter.widget-view+json": {
       "model_id": "125627de2af5495fbbba14118e245a94",
       "version_major": 2,
       "version_minor": 0
      },
      "text/plain": [
       "HBox(children=(FloatProgress(value=0.0, description='[0] 16/16(train)', max=493.0, style=ProgressStyle(descrip…"
      ]
     },
     "metadata": {},
     "output_type": "display_data"
    },
    {
     "name": "stdout",
     "output_type": "stream",
     "text": [
      "\n",
      "[2] train Loss: 0.252910 Acc: 0.460124\n",
      " "
     ]
    },
    {
     "data": {
      "application/vnd.jupyter.widget-view+json": {
       "model_id": "780ed1dc69724f30817306e4799f73e3",
       "version_major": 2,
       "version_minor": 0
      },
      "text/plain": [
       "HBox(children=(FloatProgress(value=0.0, description='[2] 16/16(val  )', max=165.0, style=ProgressStyle(descrip…"
      ]
     },
     "metadata": {},
     "output_type": "display_data"
    },
    {
     "name": "stdout",
     "output_type": "stream",
     "text": [
      "\n",
      "[1] train Loss: 0.251066 Acc: 0.460251\n",
      " "
     ]
    },
    {
     "data": {
      "application/vnd.jupyter.widget-view+json": {
       "model_id": "7ffe6a566eec46659b8d7d0052635362",
       "version_major": 2,
       "version_minor": 0
      },
      "text/plain": [
       "HBox(children=(FloatProgress(value=0.0, description='[1] 16/16(val  )', max=165.0, style=ProgressStyle(descrip…"
      ]
     },
     "metadata": {},
     "output_type": "display_data"
    },
    {
     "name": "stdout",
     "output_type": "stream",
     "text": [
      "\n",
      "[0] train Loss: 0.257717 Acc: 0.449093\n",
      " "
     ]
    },
    {
     "data": {
      "application/vnd.jupyter.widget-view+json": {
       "model_id": "f3190752bfee415fa13b138bf2ea2f3d",
       "version_major": 2,
       "version_minor": 0
      },
      "text/plain": [
       "HBox(children=(FloatProgress(value=0.0, description='[0] 16/16(val  )', max=165.0, style=ProgressStyle(descrip…"
      ]
     },
     "metadata": {},
     "output_type": "display_data"
    },
    {
     "name": "stdout",
     "output_type": "stream",
     "text": [
      "\n",
      "[2] val Loss: 0.241921 Acc: 0.491061\n",
      "[2] Training complete in 372m 11.171158s\n",
      "[2] Best val Acc: 0.491061\n",
      "\n",
      "\n",
      "[1] val Loss: 0.241666 Acc: 0.491822\n",
      "[1] Training complete in 372m 13.659269s\n",
      "[1] Best val Acc: 0.491822\n",
      "\n",
      "\n",
      "[0] val Loss: 0.250146 Acc: 0.465576\n",
      "[0] Training complete in 372m 15.075963s\n",
      "[0] Best val Acc: 0.473944\n",
      "\n"
     ]
    }
   ],
   "source": [
    "log_dict = {'batch_size': CFG.batch_size,\n",
    "            'epochs': CFG.epochs,\n",
    "            'learning_rate': CFG.lr,\n",
    "            'model': CFG.model_name,\n",
    "            'nworkers': CFG.nworkers,\n",
    "            'nfolds': CFG.nfolds,\n",
    "            'random_seed': CFG.seed}\n",
    "\n",
    "nfold = range(CFG.nfolds)\n",
    "#nfold_left = range(CFG.nfolds//2)\n",
    "#nfold_right = range(CFG.nfolds//2, CFG.nfolds)\n",
    "#print(nfold_left)\n",
    "#print(nfold_right)\n",
    "#result_list = []\n",
    "result_list = list(MyPool(CFG.nfolds).map(progressor, nfold))\n",
    "#result_list.append(list(MyPool(CFG.nfolds).map(progressor, nfold_left)))\n",
    "#result_list.append(list(MyPool(CFG.nfolds).map(progressor, nfold_right)))\n",
    "#progressor(0)\n",
    "\n",
    "# Accumulate result from each process\n",
    "for result in result_list:\n",
    "    log_dict.update(result)\n",
    "\n",
    "# Log results\n",
    "log_file = f'{CFG.model_name}_{datetime.now().strftime(\"%m_%d_%Y_%H_%M\")}.pkl'\n",
    "with open(log_file, 'wb') as pkl_file:\n",
    "    pickle.dump(log_dict, pkl_file)"
   ]
  },
  {
   "cell_type": "code",
   "execution_count": 13,
   "metadata": {},
   "outputs": [
    {
     "data": {
      "text/plain": [
       "\"\\nfor fold in range(CFG.nfolds):\\n    best_model, loss_history, train_acc_history, val_acc_history = train_fn(fold)\\n    log_dict[f'best_model_{fold}'] = best_model\\n    log_dict[f'loss_history_{fold}'] = loss_history\\n    log_dict[f'train_acc_history_{fold}'] = train_acc_history\\n    log_dict[f'val_acc_history_{fold}'] = val_acc_history\\n\""
      ]
     },
     "execution_count": 13,
     "metadata": {},
     "output_type": "execute_result"
    }
   ],
   "source": [
    "\"\"\"\n",
    "for fold in range(CFG.nfolds):\n",
    "    best_model, loss_history, train_acc_history, val_acc_history = train_fn(fold)\n",
    "    log_dict[f'best_model_{fold}'] = best_model\n",
    "    log_dict[f'loss_history_{fold}'] = loss_history\n",
    "    log_dict[f'train_acc_history_{fold}'] = train_acc_history\n",
    "    log_dict[f'val_acc_history_{fold}'] = val_acc_history\n",
    "\"\"\""
   ]
  },
  {
   "cell_type": "code",
   "execution_count": 10,
   "metadata": {},
   "outputs": [
    {
     "data": {
      "image/png": "[encoded data removed]",
      "text/plain": [
       "<Figure size 432x288 with 2 Axes>"
      ]
     },
     "metadata": {
      "needs_background": "light"
     },
     "output_type": "display_data"
    }
   ],
   "source": [
    "# read python dict back from the file\n",
    "#with open(log_file, 'rb') as pfile:\n",
    "with open('resnet_head_05_30_2020_12_56.pkl', 'rb') as pfile:\n",
    "    test_dict = pickle.load(pfile)\n",
    "\n",
    "\"\"\"\n",
    "Graphs\n",
    "1. loss vs. iterations\n",
    "2. Train/Validation accuracy along epoch\n",
    "\"\"\"\n",
    "plt.subplot(2,1,1)\n",
    "plt.plot(test_dict['loss_history_0'], 'o')\n",
    "plt.xlabel('epoch')\n",
    "plt.ylabel('loss')\n",
    "\n",
    "plt.subplot(2,1,2)\n",
    "plt.plot(test_dict['train_acc_history_0'], '-o')\n",
    "plt.plot(test_dict['val_acc_history_0'], '-o')\n",
    "plt.legend(['train', 'val'], loc='upper left')\n",
    "plt.xlabel('epoch')\n",
    "plt.ylabel('accuracy')\n",
    "\n",
    "plt.tight_layout(pad=3)\n",
    "plt.show()"
   ]
  },
  {
   "cell_type": "code",
   "execution_count": 11,
   "metadata": {},
   "outputs": [
    {
     "data": {
      "application/vnd.jupyter.widget-view+json": {
       "model_id": "d7feaf1c1efd402a8752794ecfe0040e",
       "version_major": 2,
       "version_minor": 0
      },
      "text/plain": [
       "HBox(children=(FloatProgress(value=0.0, max=165.0), HTML(value='')))"
      ]
     },
     "metadata": {},
     "output_type": "display_data"
    },
    {
     "name": "stdout",
     "output_type": "stream",
     "text": [
      "\n"
     ]
    },
    {
     "data": {
      "application/vnd.jupyter.widget-view+json": {
       "model_id": "372a96e0efd44fbcbb83a46d60bc04c1",
       "version_major": 2,
       "version_minor": 0
      },
      "text/plain": [
       "HBox(children=(FloatProgress(value=0.0, max=165.0), HTML(value='')))"
      ]
     },
     "metadata": {},
     "output_type": "display_data"
    },
    {
     "name": "stdout",
     "output_type": "stream",
     "text": [
      "\n"
     ]
    },
    {
     "data": {
      "application/vnd.jupyter.widget-view+json": {
       "model_id": "4fba9d3259bd4a7fb769828942e1bb47",
       "version_major": 2,
       "version_minor": 0
      },
      "text/plain": [
       "HBox(children=(FloatProgress(value=0.0, max=165.0), HTML(value='')))"
      ]
     },
     "metadata": {},
     "output_type": "display_data"
    },
    {
     "name": "stdout",
     "output_type": "stream",
     "text": [
      "\n"
     ]
    },
    {
     "data": {
      "application/vnd.jupyter.widget-view+json": {
       "model_id": "7c9cef1a290f475798888a0bdf90ed5c",
       "version_major": 2,
       "version_minor": 0
      },
      "text/plain": [
       "HBox(children=(FloatProgress(value=0.0, max=165.0), HTML(value='')))"
      ]
     },
     "metadata": {},
     "output_type": "display_data"
    },
    {
     "name": "stdout",
     "output_type": "stream",
     "text": [
      "\n"
     ]
    }
   ],
   "source": [
    "preds, targets = [], []\n",
    "for fold in range(CFG.nfolds):\n",
    "    model_fd = test_dict[f'best_model_{fold}'].to(device=CFG.device, dtype=CFG.dtype)\n",
    "    #model_fd = log_dict[f'best_model_{fold}'].to(device=CFG.device, dtype=CFG.dtype)\n",
    "    _, loader_val = data_loader(fold)\n",
    "    for inputs, labels in tqdm(loader_val):\n",
    "        _, C, H, W = inputs[0].shape\n",
    "        # n_tile[(bs,3,128,128)]-->(bs,n_tile,3,128,128)-->(bs*n_tile,3,128,128)\n",
    "        inputs = torch.stack(inputs, 1).view(-1,C,H,W).to(device=CFG.device, dtype=CFG.dtype)\n",
    "        labels = labels.to(device=CFG.device, dtype=torch.long)\n",
    "                \n",
    "        # Forward, track history if only in training\n",
    "        with torch.no_grad():\n",
    "            outputs = model_fd(inputs)\n",
    "            pred = torch.argmax(outputs, 1)\n",
    "        preds.append(pred)\n",
    "        targets.append(labels)"
   ]
  },
  {
   "cell_type": "code",
   "execution_count": 12,
   "metadata": {},
   "outputs": [
    {
     "name": "stdout",
     "output_type": "stream",
     "text": [
      "Kappa: 0.6464890730979544\n"
     ]
    },
    {
     "data": {
      "text/plain": [
       "<matplotlib.axes._subplots.AxesSubplot at 0x7f19fee8d310>"
      ]
     },
     "execution_count": 12,
     "metadata": {},
     "output_type": "execute_result"
    },
    {
     "data": {
      "image/png": "[encoded data removed]",
      "text/plain": [
       "<Figure size 1008x504 with 2 Axes>"
      ]
     },
     "metadata": {
      "needs_background": "light"
     },
     "output_type": "display_data"
    }
   ],
   "source": [
    "p = torch.cat(preds).cpu()\n",
    "t = torch.cat(targets).cpu()\n",
    "kappa = cohen_kappa_score(t, p, weights='quadratic')\n",
    "print(f'Kappa: {kappa}')\n",
    "conf_mat = confusion_matrix(t,p)\n",
    "#plt.matshow()\n",
    "plt.figure(figsize=(14,7))\n",
    "sn.heatmap(conf_mat, annot=True)"
   ]
  }
 ],
 "metadata": {
  "kernelspec": {
   "display_name": "Python 3",
   "language": "python",
   "name": "python3"
  },
  "language_info": {
   "codemirror_mode": {
    "name": "ipython",
    "version": 3
   },
   "file_extension": ".py",
   "mimetype": "text/x-python",
   "name": "python",
   "nbconvert_exporter": "python",
   "pygments_lexer": "ipython3",
   "version": "3.7.6"
  },
  "widgets": {
   "application/vnd.jupyter.widget-state+json": {
    "state": {
     "001840650cf546108c55e5ade6dec5ff": {
      "model_module": "@jupyter-widgets/controls",
      "model_module_version": "1.5.0",
      "model_name": "ProgressStyleModel",
      "state": {
       "description_width": "initial"
      }
     },
     "002a6eeb68444f54a870a1d6a3eeaff9": {
      "model_module": "@jupyter-widgets/controls",
      "model_module_version": "1.5.0",
      "model_name": "ProgressStyleModel",
      "state": {
       "description_width": "initial"
      }
     },
     "00482df19e5e41dbbe28049a3aa0aca6": {
      "model_module": "@jupyter-widgets/controls",
      "model_module_version": "1.5.0",
      "model_name": "HBoxModel",
      "state": {
       "children": [
        "IPY_MODEL_82251f41212d4c9da2a1612ac99a019b",
        "IPY_MODEL_b9e4423a5b98401095cc3a283b65a7a8"
       ],
       "layout": "IPY_MODEL_c99e4420783846f0be6e237c79a3eecc"
      }
     },
     "0053fd6fbf9c48299180f6f708987f50": {
      "model_module": "@jupyter-widgets/controls",
      "model_module_version": "1.5.0",
      "model_name": "FloatProgressModel",
      "state": {
       "bar_style": "success",
       "description": "[3] 10/15(val  ): 100%",
       "layout": "IPY_MODEL_f7017a1cfc4f467bbeb8f739db5903d7",
       "max": 165,
       "style": "IPY_MODEL_29809aed13e94fddaecf0ce2a7019883",
       "value": 165
      }
     },
     "005616297a1648e4aa5e450e8b785cfb": {
      "model_module": "@jupyter-widgets/controls",
      "model_module_version": "1.5.0",
      "model_name": "HBoxModel",
      "state": {
       "children": [
        "IPY_MODEL_05bcae3c6ea2407cb96b9a6fa18dd0b6",
        "IPY_MODEL_b8a4941cc427410bbaa575481e0f0894"
       ],
       "layout": "IPY_MODEL_8a70a43beb454de69c07f4891f20babd"
      }
     },
     "005c61e158454a129558e82828c980f4": {
      "model_module": "@jupyter-widgets/base",
      "model_module_version": "1.2.0",
      "model_name": "LayoutModel",
      "state": {}
     },
     "005fcf72bb934256aa639f026a800c67": {
      "model_module": "@jupyter-widgets/controls",
      "model_module_version": "1.5.0",
      "model_name": "HTMLModel",
      "state": {
       "layout": "IPY_MODEL_979b39579d054611aa046cf3e811b581",
       "style": "IPY_MODEL_e3b55fff345641158f4fbbce5e883737",
       "value": " 3/3 [00:08&lt;00:00,  2.69s/it]"
      }
     },
     "00604eea1f754ea599ac4b7c3f35b148": {
      "model_module": "@jupyter-widgets/base",
      "model_module_version": "1.2.0",
      "model_name": "LayoutModel",
      "state": {}
     },
     "00719ba065494cde85fa3b7dda81de07": {
      "model_module": "@jupyter-widgets/controls",
      "model_module_version": "1.5.0",
      "model_name": "HTMLModel",
      "state": {
       "layout": "IPY_MODEL_f0e111ee6c6d4ef8ba439fd3a7a70e1f",
       "style": "IPY_MODEL_8930b46c3df8400ebaca611e1e408676",
       "value": " 165/165 [01:32&lt;00:00,  1.79it/s]"
      }
     },
     "00b1802ddc974fbb8b186dd2f6edabaa": {
      "model_module": "@jupyter-widgets/base",
      "model_module_version": "1.2.0",
      "model_name": "LayoutModel",
      "state": {}
     },
     "00f93c5fe06b4af1991b085c0c30ca55": {
      "model_module": "@jupyter-widgets/base",
      "model_module_version": "1.2.0",
      "model_name": "LayoutModel",
      "state": {}
     },
     "00fb5b568e8a43f7bbac5adbceb336ad": {
      "model_module": "@jupyter-widgets/base",
      "model_module_version": "1.2.0",
      "model_name": "LayoutModel",
      "state": {}
     },
     "010b129a4ea140898b91eb32cbe3a638": {
      "model_module": "@jupyter-widgets/controls",
      "model_module_version": "1.5.0",
      "model_name": "ProgressStyleModel",
      "state": {
       "description_width": "initial"
      }
     },
     "012b4b646ae7414ca6876538bff8e020": {
      "model_module": "@jupyter-widgets/base",
      "model_module_version": "1.2.0",
      "model_name": "LayoutModel",
      "state": {}
     },
     "014a4fb76b824f79bc9778c41df2f62c": {
      "model_module": "@jupyter-widgets/controls",
      "model_module_version": "1.5.0",
      "model_name": "ProgressStyleModel",
      "state": {
       "description_width": "initial"
      }
     },
     "014ab198f5a8476d8289dc5fbdda2246": {
      "model_module": "@jupyter-widgets/base",
      "model_module_version": "1.2.0",
      "model_name": "LayoutModel",
      "state": {}
     },
     "017d8aa365c847a7ba3352763550ab7b": {
      "model_module": "@jupyter-widgets/controls",
      "model_module_version": "1.5.0",
      "model_name": "FloatProgressModel",
      "state": {
       "bar_style": "success",
       "description": "[0] 4/16(val  ): 100%",
       "layout": "IPY_MODEL_4b8970e7960c47509f191b67c95a6f94",
       "max": 165,
       "style": "IPY_MODEL_ca194275f2a14ef3be61a4d1bd2c7e62",
       "value": 165
      }
     },
     "0185d4d65b444642abe2cfb81f57bac6": {
      "model_module": "@jupyter-widgets/base",
      "model_module_version": "1.2.0",
      "model_name": "LayoutModel",
      "state": {}
     },
     "018ef5f3b1b5423c8b0b9a072a3aff1a": {
      "model_module": "@jupyter-widgets/controls",
      "model_module_version": "1.5.0",
      "model_name": "FloatProgressModel",
      "state": {
       "bar_style": "success",
       "description": "[0] 2/2(val  ): 100%",
       "layout": "IPY_MODEL_d1e1411de9e74b52bf5383a66318066d",
       "max": 1,
       "style": "IPY_MODEL_3263bb2662034d56a07957246f634c48",
       "value": 1
      }
     },
     "01c4ca5785ab49e79c7785d88da5e4be": {
      "model_module": "@jupyter-widgets/base",
      "model_module_version": "1.2.0",
      "model_name": "LayoutModel",
      "state": {}
     },
     "01d16e39d33d4e55b9fcb3afd1a1babc": {
      "model_module": "@jupyter-widgets/controls",
      "model_module_version": "1.5.0",
      "model_name": "HBoxModel",
      "state": {
       "children": [
        "IPY_MODEL_7a86cb26569f42ebada436efae76d683",
        "IPY_MODEL_0ec4af76c72e46ea9d3b2af13c96916d"
       ],
       "layout": "IPY_MODEL_b065218d9b294c708075895ee8944d5d"
      }
     },
     "01e72b61f7e64bcab0213c599df19e25": {
      "model_module": "@jupyter-widgets/controls",
      "model_module_version": "1.5.0",
      "model_name": "HBoxModel",
      "state": {
       "children": [
        "IPY_MODEL_f9432dbcbae940dc8b791cff30f92a2a",
        "IPY_MODEL_7de3f9c01b7c4fa083ddbf0f3cc6aabe"
       ],
       "layout": "IPY_MODEL_276f0c3adcae43e283786316d0edc06d"
      }
     },
     "01f26e0a4cc8481cad9d9cabfa62a0d9": {
      "model_module": "@jupyter-widgets/controls",
      "model_module_version": "1.5.0",
      "model_name": "HBoxModel",
      "state": {
       "children": [
        "IPY_MODEL_872936a59dcb433086598f8d21475170",
        "IPY_MODEL_129fc5c458b14ec9be9b828abcd5667f"
       ],
       "layout": "IPY_MODEL_7d8dc3802a4741b9b0f1509752fa0a19"
      }
     },
     "0207b85c127242a2b5776ea67fae0a6a": {
      "model_module": "@jupyter-widgets/controls",
      "model_module_version": "1.5.0",
      "model_name": "HBoxModel",
      "state": {
       "children": [
        "IPY_MODEL_93936c0a3a0b42dd9cb269665828c297",
        "IPY_MODEL_e4888a5bb66247c686a8946fe481be5e"
       ],
       "layout": "IPY_MODEL_5326736f7154496996fd49b37af92e9c"
      }
     },
     "024a549cab924f83b24ec434a2f038e6": {
      "model_module": "@jupyter-widgets/base",
      "model_module_version": "1.2.0",
      "model_name": "LayoutModel",
      "state": {}
     },
     "025e2e8a592e4948ba841adc4f324c70": {
      "model_module": "@jupyter-widgets/controls",
      "model_module_version": "1.5.0",
      "model_name": "HTMLModel",
      "state": {
       "layout": "IPY_MODEL_57c8540b958141b784e158a2d3ef0172",
       "style": "IPY_MODEL_11e198fd371a4507961281032ad03e01",
       "value": " 165/165 [01:37&lt;00:00,  1.69it/s]"
      }
     },
     "025e41b2fd884aafbf4eefe9de87b6d5": {
      "model_module": "@jupyter-widgets/controls",
      "model_module_version": "1.5.0",
      "model_name": "HTMLModel",
      "state": {
       "layout": "IPY_MODEL_5b06fc6ad1c64d49ab615d5c542606b3",
       "style": "IPY_MODEL_8d6d35493a634f7e87c54084d487738c",
       "value": " 165/165 [01:33&lt;00:00,  1.77it/s]"
      }
     },
     "0270844771b24f819bb06d63d9e1477f": {
      "model_module": "@jupyter-widgets/base",
      "model_module_version": "1.2.0",
      "model_name": "LayoutModel",
      "state": {}
     },
     "027304f3b488490184da7d7bb9ed0da4": {
      "model_module": "@jupyter-widgets/base",
      "model_module_version": "1.2.0",
      "model_name": "LayoutModel",
      "state": {}
     },
     "027e651c44b546479eb93dcb73174c32": {
      "model_module": "@jupyter-widgets/base",
      "model_module_version": "1.2.0",
      "model_name": "LayoutModel",
      "state": {}
     },
     "02939481ca564b008900cebc43c8b8f7": {
      "model_module": "@jupyter-widgets/base",
      "model_module_version": "1.2.0",
      "model_name": "LayoutModel",
      "state": {}
     },
     "02a1fcc4694d4fddbb3bb0dc4ecc1784": {
      "model_module": "@jupyter-widgets/controls",
      "model_module_version": "1.5.0",
      "model_name": "HTMLModel",
      "state": {
       "layout": "IPY_MODEL_7242bf71d984400f8897b52f0e256d6e",
       "style": "IPY_MODEL_b6e3d810a48a4e5685efe511e696380c",
       "value": " 0/493 [00:00&lt;?, ?it/s]"
      }
     },
     "02c44fa67b094d9b95736a92da051318": {
      "model_module": "@jupyter-widgets/base",
      "model_module_version": "1.2.0",
      "model_name": "LayoutModel",
      "state": {}
     },
     "02c6349e153c4a1cb151eb513cd45d8e": {
      "model_module": "@jupyter-widgets/base",
      "model_module_version": "1.2.0",
      "model_name": "LayoutModel",
      "state": {}
     },
     "032eeb869cee44d8bf7cbd0f3fc0b934": {
      "model_module": "@jupyter-widgets/base",
      "model_module_version": "1.2.0",
      "model_name": "LayoutModel",
      "state": {}
     },
     "034483c7cccf46ec904c9d4623c2fca5": {
      "model_module": "@jupyter-widgets/base",
      "model_module_version": "1.2.0",
      "model_name": "LayoutModel",
      "state": {}
     },
     "034c1288b9cc4c4a8391c5305920b04d": {
      "model_module": "@jupyter-widgets/base",
      "model_module_version": "1.2.0",
      "model_name": "LayoutModel",
      "state": {}
     },
     "0359427fb5234a7eb93057131e2f28a9": {
      "model_module": "@jupyter-widgets/base",
      "model_module_version": "1.2.0",
      "model_name": "LayoutModel",
      "state": {}
     },
     "035c98afdae64aa49a55c3ab3c452081": {
      "model_module": "@jupyter-widgets/controls",
      "model_module_version": "1.5.0",
      "model_name": "FloatProgressModel",
      "state": {
       "bar_style": "success",
       "description": "[2] 2/2(val  ): 100%",
       "layout": "IPY_MODEL_48f237bd2b99406da21721f3cb03bcc5",
       "max": 1,
       "style": "IPY_MODEL_3fbc9ac8d7ee48b9b0278adc49911bbf",
       "value": 1
      }
     },
     "03670426e2aa4f138dc5d3d4d67b88b3": {
      "model_module": "@jupyter-widgets/controls",
      "model_module_version": "1.5.0",
      "model_name": "HTMLModel",
      "state": {
       "layout": "IPY_MODEL_179f727f27164ffbb62f3728e1174da2",
       "style": "IPY_MODEL_e5a7247072a0433c879ffc7c4fb3a094",
       "value": " 165/165 [01:38&lt;00:00,  1.68it/s]"
      }
     },
     "0371a2cb6d6047ff83b2edcfb18fc054": {
      "model_module": "@jupyter-widgets/controls",
      "model_module_version": "1.5.0",
      "model_name": "HTMLModel",
      "state": {
       "layout": "IPY_MODEL_500c3eb8b2ae411c8fcf9741b83b0f39",
       "style": "IPY_MODEL_e17f5389fd0b4c9bb675eca9bae56dee",
       "value": " 165/165 [01:38&lt;00:00,  1.68it/s]"
      }
     },
     "037f06bd963b4a8db53201a5778e59f1": {
      "model_module": "@jupyter-widgets/controls",
      "model_module_version": "1.5.0",
      "model_name": "HBoxModel",
      "state": {
       "children": [
        "IPY_MODEL_aedddd306efa4e2a8aa7341042c6d0c3",
        "IPY_MODEL_65da68f1c7ef4d93b89c49d5ea010699"
       ],
       "layout": "IPY_MODEL_e7af090800ba4aec8ca03e4b252c7965"
      }
     },
     "038d6580db23458584cae5c06e18537a": {
      "model_module": "@jupyter-widgets/controls",
      "model_module_version": "1.5.0",
      "model_name": "HTMLModel",
      "state": {
       "layout": "IPY_MODEL_4f9dbad9a61c4dce9d8656fbe5230a8f",
       "style": "IPY_MODEL_becafd8f3f204c3497782a5d26280dd1",
       "value": " 165/165 [1:36:31&lt;00:00, 35.10s/it]"
      }
     },
     "03a0027e68374410a70cd1bf99ff2093": {
      "model_module": "@jupyter-widgets/base",
      "model_module_version": "1.2.0",
      "model_name": "LayoutModel",
      "state": {}
     },
     "03d30cfd138c458db716fc214974d935": {
      "model_module": "@jupyter-widgets/base",
      "model_module_version": "1.2.0",
      "model_name": "LayoutModel",
      "state": {}
     },
     "03d3719770d24112b4de572121546bd4": {
      "model_module": "@jupyter-widgets/base",
      "model_module_version": "1.2.0",
      "model_name": "LayoutModel",
      "state": {}
     },
     "03dba936e93342109d7a5cecb6929fd2": {
      "model_module": "@jupyter-widgets/controls",
      "model_module_version": "1.5.0",
      "model_name": "HTMLModel",
      "state": {
       "layout": "IPY_MODEL_ad6c49628e3c4eea8f11a37320caba96",
       "style": "IPY_MODEL_26455a6cc2b74838ac2e73bb8146c5ed",
       "value": " 493/493 [23:48&lt;00:00,  2.90s/it]"
      }
     },
     "03e0e65e5a1f4760839a00e01756aba7": {
      "model_module": "@jupyter-widgets/base",
      "model_module_version": "1.2.0",
      "model_name": "LayoutModel",
      "state": {}
     },
     "03fefdb3b2fd495bb6cfcfc304a29cfc": {
      "model_module": "@jupyter-widgets/controls",
      "model_module_version": "1.5.0",
      "model_name": "FloatProgressModel",
      "state": {
       "bar_style": "success",
       "description": "[3] 2/2(train): 100%",
       "layout": "IPY_MODEL_46d5cb1c693948fbabf1123c870542bb",
       "max": 3,
       "style": "IPY_MODEL_15a64c65a89240b5bfe658f7f7391a5c",
       "value": 3
      }
     },
     "04050f3926be4338816fb156e4b5331e": {
      "model_module": "@jupyter-widgets/controls",
      "model_module_version": "1.5.0",
      "model_name": "HTMLModel",
      "state": {
       "layout": "IPY_MODEL_3db3529332304ebfa40e26dfa54fc3fe",
       "style": "IPY_MODEL_a9f6878a97a74c6a98ac800aee5591dd",
       "value": " 165/165 [01:32&lt;00:00,  1.79it/s]"
      }
     },
     "04156132a3a249e883cb6c6acdd61b6a": {
      "model_module": "@jupyter-widgets/controls",
      "model_module_version": "1.5.0",
      "model_name": "HTMLModel",
      "state": {
       "layout": "IPY_MODEL_83ca0663bb2b4f2aaf81c08068c2bb66",
       "style": "IPY_MODEL_ea8054acb3744c72bff21490e5eb4bca",
       "value": " 493/493 [19:03&lt;00:00,  2.32s/it]"
      }
     },
     "041afc6a1acc4521a86f16d5f6e103e3": {
      "model_module": "@jupyter-widgets/controls",
      "model_module_version": "1.5.0",
      "model_name": "DescriptionStyleModel",
      "state": {
       "description_width": ""
      }
     },
     "042b00b168d94c3592a35f9d94326b51": {
      "model_module": "@jupyter-widgets/controls",
      "model_module_version": "1.5.0",
      "model_name": "ProgressStyleModel",
      "state": {
       "description_width": "initial"
      }
     },
     "042c3afc4c2e43d69c0cac5c95e450a7": {
      "model_module": "@jupyter-widgets/controls",
      "model_module_version": "1.5.0",
      "model_name": "FloatProgressModel",
      "state": {
       "bar_style": "success",
       "description": "[3] 2/2(val  ): 100%",
       "layout": "IPY_MODEL_39fd583015614cafa2d2361238294f62",
       "max": 1,
       "style": "IPY_MODEL_c29975025bce44fb9cf1a4d47b44f344",
       "value": 1
      }
     },
     "042f1cf1a53f45d2926a5b074bcdab38": {
      "model_module": "@jupyter-widgets/controls",
      "model_module_version": "1.5.0",
      "model_name": "ProgressStyleModel",
      "state": {
       "description_width": "initial"
      }
     },
     "044fd0daf2b140f69ad38b57d5d0816c": {
      "model_module": "@jupyter-widgets/controls",
      "model_module_version": "1.5.0",
      "model_name": "FloatProgressModel",
      "state": {
       "bar_style": "success",
       "description": "[1] 9/15(train): 100%",
       "layout": "IPY_MODEL_9bb250efdc624d0598c1a52b8834a50e",
       "max": 3,
       "style": "IPY_MODEL_001840650cf546108c55e5ade6dec5ff",
       "value": 3
      }
     },
     "04577dfb9494439490c7bea685f61903": {
      "model_module": "@jupyter-widgets/controls",
      "model_module_version": "1.5.0",
      "model_name": "FloatProgressModel",
      "state": {
       "bar_style": "success",
       "description": "[2] 14/15(train): 100%",
       "layout": "IPY_MODEL_76bedc5e80684457a02efa08b591710c",
       "max": 493,
       "style": "IPY_MODEL_ecbbb39f93c244a3ae550999ca7b4dc4",
       "value": 493
      }
     },
     "049be05bb4b34addb32a786c3dbd5369": {
      "model_module": "@jupyter-widgets/controls",
      "model_module_version": "1.5.0",
      "model_name": "HTMLModel",
      "state": {
       "layout": "IPY_MODEL_442d27a5d7e24fe6a041023f1645975a",
       "style": "IPY_MODEL_30ae10e50ef54dfa959bd1d989c1e627",
       "value": " 0/3 [00:00&lt;?, ?it/s]"
      }
     },
     "04b351f36ba646d1a9b8d5206b787c70": {
      "model_module": "@jupyter-widgets/controls",
      "model_module_version": "1.5.0",
      "model_name": "FloatProgressModel",
      "state": {
       "bar_style": "success",
       "description": "[2] 13/16(val  ): 100%",
       "layout": "IPY_MODEL_174232859f0e4bc4806b3fe015e08dff",
       "max": 165,
       "style": "IPY_MODEL_6e96278168ad43dcad3c58bfface6624",
       "value": 165
      }
     },
     "04b92b7929fc4cfe94376b61283155a3": {
      "model_module": "@jupyter-widgets/controls",
      "model_module_version": "1.5.0",
      "model_name": "HBoxModel",
      "state": {
       "children": [
        "IPY_MODEL_0c70159d056f4b5ab05c7f3f53304a12",
        "IPY_MODEL_62fc95606ec441108b3d530d55683725"
       ],
       "layout": "IPY_MODEL_c11c9c4c1f4c4812b4fbd2a1414ec648"
      }
     },
     "04c49e1f6c3a4ab889b09b7cdcb44788": {
      "model_module": "@jupyter-widgets/base",
      "model_module_version": "1.2.0",
      "model_name": "LayoutModel",
      "state": {}
     },
     "04d149a7664b462f86f2c14dead747b5": {
      "model_module": "@jupyter-widgets/controls",
      "model_module_version": "1.5.0",
      "model_name": "FloatProgressModel",
      "state": {
       "bar_style": "success",
       "description": "[1] 3/15(val  ): 100%",
       "layout": "IPY_MODEL_c592b6a177414c59bd013fd968424899",
       "max": 1,
       "style": "IPY_MODEL_002a6eeb68444f54a870a1d6a3eeaff9",
       "value": 1
      }
     },
     "05589f84f98b4bbd9b18e5d400e9518a": {
      "model_module": "@jupyter-widgets/base",
      "model_module_version": "1.2.0",
      "model_name": "LayoutModel",
      "state": {}
     },
     "055ad0aa3f9b4afb8e4aca7c46b411df": {
      "model_module": "@jupyter-widgets/controls",
      "model_module_version": "1.5.0",
      "model_name": "FloatProgressModel",
      "state": {
       "bar_style": "success",
       "description": "[1] 2/2(val  ): 100%",
       "layout": "IPY_MODEL_1f77b476df084cca9dc1f459f2ea8082",
       "max": 1,
       "style": "IPY_MODEL_f0b75fa1bf95428fb1c18c71de7cf64f",
       "value": 1
      }
     },
     "056d61208d744aafaa60bd56d34cdc01": {
      "model_module": "@jupyter-widgets/controls",
      "model_module_version": "1.5.0",
      "model_name": "HTMLModel",
      "state": {
       "layout": "IPY_MODEL_d792216ed8c244819783c2aa5bb4ef3f",
       "style": "IPY_MODEL_9d35b173aa184efcb524936c07cd98c8",
       "value": " 3/3 [00:07&lt;00:00,  2.55s/it]"
      }
     },
     "0571d887a52c47f190cca8269005a52f": {
      "model_module": "@jupyter-widgets/base",
      "model_module_version": "1.2.0",
      "model_name": "LayoutModel",
      "state": {}
     },
     "057efc46cfd64765aedd6d82a12a57cb": {
      "model_module": "@jupyter-widgets/base",
      "model_module_version": "1.2.0",
      "model_name": "LayoutModel",
      "state": {}
     },
     "05bcae3c6ea2407cb96b9a6fa18dd0b6": {
      "model_module": "@jupyter-widgets/controls",
      "model_module_version": "1.5.0",
      "model_name": "FloatProgressModel",
      "state": {
       "bar_style": "success",
       "description": "[1] 5/16(train): 100%",
       "layout": "IPY_MODEL_f2e0cac4dbe04932abe456f67c37ec45",
       "max": 493,
       "style": "IPY_MODEL_b68b8f5fd1904bbe99f866b33e17feb0",
       "value": 493
      }
     },
     "05e3e2e4a5a547b99e5078eb108ae136": {
      "model_module": "@jupyter-widgets/controls",
      "model_module_version": "1.5.0",
      "model_name": "DescriptionStyleModel",
      "state": {
       "description_width": ""
      }
     },
     "05ea9a8d1b4b4309902196b3e0b3b80d": {
      "model_module": "@jupyter-widgets/controls",
      "model_module_version": "1.5.0",
      "model_name": "HTMLModel",
      "state": {
       "layout": "IPY_MODEL_4f7fff3552194cd6adcaa7db10559511",
       "style": "IPY_MODEL_a8e136b278a441e7bbfbc1ea54571534",
       "value": " 3/3 [00:06&lt;00:00,  2.14s/it]"
      }
     },
     "05ecd6c1224c4f5981390502992b4222": {
      "model_module": "@jupyter-widgets/controls",
      "model_module_version": "1.5.0",
      "model_name": "ProgressStyleModel",
      "state": {
       "description_width": "initial"
      }
     },
     "05fad5c7227d4960a5dffe4c85f915e4": {
      "model_module": "@jupyter-widgets/base",
      "model_module_version": "1.2.0",
      "model_name": "LayoutModel",
      "state": {}
     },
     "062ada6555cb4747adf029591d8e4af5": {
      "model_module": "@jupyter-widgets/base",
      "model_module_version": "1.2.0",
      "model_name": "LayoutModel",
      "state": {}
     },
     "063ba95cab4149c0a30d3331939fc6d0": {
      "model_module": "@jupyter-widgets/controls",
      "model_module_version": "1.5.0",
      "model_name": "HTMLModel",
      "state": {
       "layout": "IPY_MODEL_81c9fed7ce1b428da8469bc8a3aec57c",
       "style": "IPY_MODEL_b1065a3d6b9a47aaadd718baf6260045",
       "value": " 3/3 [00:51&lt;00:00, 17.06s/it]"
      }
     },
     "06454f450f0345578a6bd788f51f336d": {
      "model_module": "@jupyter-widgets/base",
      "model_module_version": "1.2.0",
      "model_name": "LayoutModel",
      "state": {}
     },
     "066ffda0a8624a5c9a5478cc392865f7": {
      "model_module": "@jupyter-widgets/controls",
      "model_module_version": "1.5.0",
      "model_name": "FloatProgressModel",
      "state": {
       "bar_style": "success",
       "description": "[3] 16/16(val  ): 100%",
       "layout": "IPY_MODEL_32dd75e2e0164978a04e23568318cb66",
       "max": 165,
       "style": "IPY_MODEL_b2a6507abc3547b4b5dbf8f351aa7e48",
       "value": 165
      }
     },
     "0685a5c5c1b948d98a7e6db4a89b9934": {
      "model_module": "@jupyter-widgets/controls",
      "model_module_version": "1.5.0",
      "model_name": "HTMLModel",
      "state": {
       "layout": "IPY_MODEL_becf2779f1b44d2d875aad71a84c27ce",
       "style": "IPY_MODEL_f2657ff14f6644b59cac8b5843c2ca23",
       "value": " 3/3 [00:06&lt;00:00,  2.00s/it]"
      }
     },
     "0687a90150cd4a9ab984238f5478035b": {
      "model_module": "@jupyter-widgets/controls",
      "model_module_version": "1.5.0",
      "model_name": "HBoxModel",
      "state": {
       "children": [
        "IPY_MODEL_5b04296dbf054c048bb3c2cf9f400548",
        "IPY_MODEL_a5aac586b8a64ddab14d5f1d9c9bf139"
       ],
       "layout": "IPY_MODEL_ad8d48dce4674eff87b4e6b8738be655"
      }
     },
     "0695f6c38cdc457c99fbc078c47ed8d6": {
      "model_module": "@jupyter-widgets/controls",
      "model_module_version": "1.5.0",
      "model_name": "HTMLModel",
      "state": {
       "layout": "IPY_MODEL_a10950d4ed5247a58a54b5d88b1faf5b",
       "style": "IPY_MODEL_82852f909d8b4ad097998bf5ace55317",
       "value": " 165/165 [38:02&lt;00:00, 13.83s/it]"
      }
     },
     "069c22dc89eb42d7899eaddd5d47c557": {
      "model_module": "@jupyter-widgets/controls",
      "model_module_version": "1.5.0",
      "model_name": "FloatProgressModel",
      "state": {
       "bar_style": "success",
       "description": "[1] 2/2(val  ): 100%",
       "layout": "IPY_MODEL_5f4d4c26b4a34e0094d456a4722082e9",
       "max": 1,
       "style": "IPY_MODEL_1ca94eac49b54b3a95a13a3139cce67b",
       "value": 1
      }
     },
     "06a579d497914973b7394adb1ff6029d": {
      "model_module": "@jupyter-widgets/base",
      "model_module_version": "1.2.0",
      "model_name": "LayoutModel",
      "state": {}
     },
     "06a954fe72654fd3ac2d7b9cd9c8fab7": {
      "model_module": "@jupyter-widgets/base",
      "model_module_version": "1.2.0",
      "model_name": "LayoutModel",
      "state": {}
     },
     "06b741e21b494446ba35f846bae29595": {
      "model_module": "@jupyter-widgets/controls",
      "model_module_version": "1.5.0",
      "model_name": "FloatProgressModel",
      "state": {
       "bar_style": "success",
       "description": "[1] 6/15(train): 100%",
       "layout": "IPY_MODEL_885b281a7f4f494db39eddd661e9a22c",
       "max": 3,
       "style": "IPY_MODEL_7766cc3c83f6455684692492067af782",
       "value": 3
      }
     },
     "06b927914b134b12a4ecdf5ce3fe2dbf": {
      "model_module": "@jupyter-widgets/base",
      "model_module_version": "1.2.0",
      "model_name": "LayoutModel",
      "state": {}
     },
     "06ba428bf0e64888ba43a5a315e1d5f4": {
      "model_module": "@jupyter-widgets/controls",
      "model_module_version": "1.5.0",
      "model_name": "DescriptionStyleModel",
      "state": {
       "description_width": ""
      }
     },
     "06bc00f18d714361a5c5b45e304b4dc9": {
      "model_module": "@jupyter-widgets/controls",
      "model_module_version": "1.5.0",
      "model_name": "DescriptionStyleModel",
      "state": {
       "description_width": ""
      }
     },
     "07159b8eb95441d8bb9654bcba4f1d2e": {
      "model_module": "@jupyter-widgets/controls",
      "model_module_version": "1.5.0",
      "model_name": "ProgressStyleModel",
      "state": {
       "description_width": "initial"
      }
     },
     "071b50fa80ec4f78832e8e76ec9bcd8f": {
      "model_module": "@jupyter-widgets/base",
      "model_module_version": "1.2.0",
      "model_name": "LayoutModel",
      "state": {}
     },
     "072627fd3c1443deb975e2fd4be28918": {
      "model_module": "@jupyter-widgets/controls",
      "model_module_version": "1.5.0",
      "model_name": "HTMLModel",
      "state": {
       "layout": "IPY_MODEL_e20c490084564132bd94072da2a047a0",
       "style": "IPY_MODEL_dce4d6c25da341b4b62fa5437387a399",
       "value": " 165/165 [45:00&lt;00:00, 16.36s/it]"
      }
     },
     "0742f38edae649fd972039fecaf19ba8": {
      "model_module": "@jupyter-widgets/base",
      "model_module_version": "1.2.0",
      "model_name": "LayoutModel",
      "state": {}
     },
     "075c7accb3fe412e888d775e57e7a6ac": {
      "model_module": "@jupyter-widgets/controls",
      "model_module_version": "1.5.0",
      "model_name": "FloatProgressModel",
      "state": {
       "bar_style": "success",
       "description": "[1] 1/2(train): 100%",
       "layout": "IPY_MODEL_3f846db1b5e4487d8ae04551f04743f9",
       "max": 3,
       "style": "IPY_MODEL_c974d349a1b147b9878945aa8d06cf0f",
       "value": 3
      }
     },
     "07683e77fda546a8b5ab17ccc122e28f": {
      "model_module": "@jupyter-widgets/base",
      "model_module_version": "1.2.0",
      "model_name": "LayoutModel",
      "state": {}
     },
     "079bda7a54e644cd92bcc19102d96145": {
      "model_module": "@jupyter-widgets/base",
      "model_module_version": "1.2.0",
      "model_name": "LayoutModel",
      "state": {}
     },
     "079f23acd54d4bac8b77579863a1e401": {
      "model_module": "@jupyter-widgets/controls",
      "model_module_version": "1.5.0",
      "model_name": "HBoxModel",
      "state": {
       "children": [
        "IPY_MODEL_d855406734ab4f18a2fa169ec524d5ca",
        "IPY_MODEL_9bfa3e5995074029b10eeee3bf73a4bb"
       ],
       "layout": "IPY_MODEL_64e2244387f147e7b63e4dcea6e27991"
      }
     },
     "07abbcec192f434490bfff64f8a608af": {
      "model_module": "@jupyter-widgets/controls",
      "model_module_version": "1.5.0",
      "model_name": "HBoxModel",
      "state": {
       "children": [
        "IPY_MODEL_738ba56a4b464d3986d7853e9ba348fc",
        "IPY_MODEL_c89a59ab0c5f45da9b04b2f665c934f4"
       ],
       "layout": "IPY_MODEL_1d8b6d22faac426db6c11c28d816472b"
      }
     },
     "07d7b0d40ce449b1ba311d4a8c3bce41": {
      "model_module": "@jupyter-widgets/base",
      "model_module_version": "1.2.0",
      "model_name": "LayoutModel",
      "state": {}
     },
     "081abbcbdbea4bab9457a92729207b16": {
      "model_module": "@jupyter-widgets/controls",
      "model_module_version": "1.5.0",
      "model_name": "FloatProgressModel",
      "state": {
       "bar_style": "success",
       "description": "[0] 12/16(val  ): 100%",
       "layout": "IPY_MODEL_231411380a504c078f4660f9169998d5",
       "max": 165,
       "style": "IPY_MODEL_0946335f04ee47b6bce4785cd7d31f19",
       "value": 165
      }
     },
     "0829946a8b7b4138be560810d9786d81": {
      "model_module": "@jupyter-widgets/controls",
      "model_module_version": "1.5.0",
      "model_name": "ProgressStyleModel",
      "state": {
       "description_width": "initial"
      }
     },
     "083acc7891f546e69e54e549c205badc": {
      "model_module": "@jupyter-widgets/base",
      "model_module_version": "1.2.0",
      "model_name": "LayoutModel",
      "state": {}
     },
     "08440afcacfe4ce3b0154f7cf54f9eb7": {
      "model_module": "@jupyter-widgets/controls",
      "model_module_version": "1.5.0",
      "model_name": "FloatProgressModel",
      "state": {
       "bar_style": "danger",
       "description": "[0] 1/15(train):   0%",
       "layout": "IPY_MODEL_34b43fbe434747409b8dbe2f2e35e114",
       "max": 493,
       "style": "IPY_MODEL_b95853034bba4c6cb4e12dbb3a68e910"
      }
     },
     "08766ac581df4c27bb269d379334200f": {
      "model_module": "@jupyter-widgets/base",
      "model_module_version": "1.2.0",
      "model_name": "LayoutModel",
      "state": {}
     },
     "08a00bf825d14125ae3bf90b65c7c9a6": {
      "model_module": "@jupyter-widgets/base",
      "model_module_version": "1.2.0",
      "model_name": "LayoutModel",
      "state": {}
     },
     "08b5bb6ed3a94eb8becda8bab039f383": {
      "model_module": "@jupyter-widgets/controls",
      "model_module_version": "1.5.0",
      "model_name": "DescriptionStyleModel",
      "state": {
       "description_width": ""
      }
     },
     "08cc2017b381487aa2923541914579dc": {
      "model_module": "@jupyter-widgets/controls",
      "model_module_version": "1.5.0",
      "model_name": "HBoxModel",
      "state": {
       "children": [
        "IPY_MODEL_cfbdb5b818cd469994ace7f5dfc04185",
        "IPY_MODEL_0a200398730b4aad902d86c23656aadf"
       ],
       "layout": "IPY_MODEL_c1b572d09720437fb383b7c211af4308"
      }
     },
     "08f2e2086c2c46829fc6e6148ad853b6": {
      "model_module": "@jupyter-widgets/controls",
      "model_module_version": "1.5.0",
      "model_name": "FloatProgressModel",
      "state": {
       "bar_style": "success",
       "description": "[1] 1/2(val  ): 100%",
       "layout": "IPY_MODEL_c49534cb42294ccc8b4b16828b22b724",
       "max": 1,
       "style": "IPY_MODEL_5964ec9a01c34d01a1ca5ec2ecbcf76a",
       "value": 1
      }
     },
     "09012a1097d54a3fadcf55f68b935ccb": {
      "model_module": "@jupyter-widgets/base",
      "model_module_version": "1.2.0",
      "model_name": "LayoutModel",
      "state": {}
     },
     "09122253fc5f4301a8b82b0848cd0f13": {
      "model_module": "@jupyter-widgets/base",
      "model_module_version": "1.2.0",
      "model_name": "LayoutModel",
      "state": {}
     },
     "0915c661f3d34b66bbbc1892cc371d32": {
      "model_module": "@jupyter-widgets/controls",
      "model_module_version": "1.5.0",
      "model_name": "FloatProgressModel",
      "state": {
       "bar_style": "success",
       "description": "[3] 7/16(train): 100%",
       "layout": "IPY_MODEL_af81c7a1fd764b7287301d55665bda70",
       "max": 493,
       "style": "IPY_MODEL_90102e1a37b94ccf96cfccc5830a79e4",
       "value": 493
      }
     },
     "0946335f04ee47b6bce4785cd7d31f19": {
      "model_module": "@jupyter-widgets/controls",
      "model_module_version": "1.5.0",
      "model_name": "ProgressStyleModel",
      "state": {
       "description_width": "initial"
      }
     },
     "094921ed107d416d988cbc141c04f6d0": {
      "model_module": "@jupyter-widgets/base",
      "model_module_version": "1.2.0",
      "model_name": "LayoutModel",
      "state": {}
     },
     "096980e4201f45a3a72cccade186ea21": {
      "model_module": "@jupyter-widgets/controls",
      "model_module_version": "1.5.0",
      "model_name": "HTMLModel",
      "state": {
       "layout": "IPY_MODEL_39536fec9dd74f878b5cd2b98787443b",
       "style": "IPY_MODEL_f4276ad99e2348f3853bb59fbcc9e3ab",
       "value": " 3/3 [00:07&lt;00:00,  2.57s/it]"
      }
     },
     "0978a915871648949b1e904643487a62": {
      "model_module": "@jupyter-widgets/controls",
      "model_module_version": "1.5.0",
      "model_name": "HBoxModel",
      "state": {
       "children": [
        "IPY_MODEL_d55c5dd1ed65493f9fede39bcdad17b5",
        "IPY_MODEL_9c8e21bad1e44de6ba8006b8f3ffbc29"
       ],
       "layout": "IPY_MODEL_63b2f822834f45c6a409d76bbae3fe8f"
      }
     },
     "099a6e35f6e64c57be4c324e964d8c9b": {
      "model_module": "@jupyter-widgets/controls",
      "model_module_version": "1.5.0",
      "model_name": "HTMLModel",
      "state": {
       "layout": "IPY_MODEL_ae0a63b3f307420386e6eacca0f4f1b6",
       "style": "IPY_MODEL_3a04d9e80fdc47fcbc219e6d15f769be",
       "value": " 493/493 [23:52&lt;00:00,  2.91s/it]"
      }
     },
     "099dacb7ef1148219abff28297fb5280": {
      "model_module": "@jupyter-widgets/controls",
      "model_module_version": "1.5.0",
      "model_name": "DescriptionStyleModel",
      "state": {
       "description_width": ""
      }
     },
     "09bf746d1f4b41b991c412bece70784a": {
      "model_module": "@jupyter-widgets/base",
      "model_module_version": "1.2.0",
      "model_name": "LayoutModel",
      "state": {}
     },
     "09c903f3733e414c9895e84c37a498c3": {
      "model_module": "@jupyter-widgets/base",
      "model_module_version": "1.2.0",
      "model_name": "LayoutModel",
      "state": {}
     },
     "09e88ede09f04082adcaa3c81aa4f2a1": {
      "model_module": "@jupyter-widgets/controls",
      "model_module_version": "1.5.0",
      "model_name": "DescriptionStyleModel",
      "state": {
       "description_width": ""
      }
     },
     "09f9606e9996410ebf30be684f4521ee": {
      "model_module": "@jupyter-widgets/controls",
      "model_module_version": "1.5.0",
      "model_name": "DescriptionStyleModel",
      "state": {
       "description_width": ""
      }
     },
     "0a200398730b4aad902d86c23656aadf": {
      "model_module": "@jupyter-widgets/controls",
      "model_module_version": "1.5.0",
      "model_name": "HTMLModel",
      "state": {
       "layout": "IPY_MODEL_abe0446f0185463983fd0805a9d5e743",
       "style": "IPY_MODEL_78fb566c516941f2a6cf633a2c7b6c55",
       "value": " 3/3 [00:07&lt;00:00,  2.62s/it]"
      }
     },
     "0a23ba68a24b44f7b5cf888e6239d044": {
      "model_module": "@jupyter-widgets/base",
      "model_module_version": "1.2.0",
      "model_name": "LayoutModel",
      "state": {}
     },
     "0a4016a866d144c3984cd2c5db4cfaaa": {
      "model_module": "@jupyter-widgets/base",
      "model_module_version": "1.2.0",
      "model_name": "LayoutModel",
      "state": {}
     },
     "0aa61184a4a149039e87d1cf49af4627": {
      "model_module": "@jupyter-widgets/base",
      "model_module_version": "1.2.0",
      "model_name": "LayoutModel",
      "state": {}
     },
     "0ab3cc57e252418cbef803cc478c3230": {
      "model_module": "@jupyter-widgets/controls",
      "model_module_version": "1.5.0",
      "model_name": "FloatProgressModel",
      "state": {
       "bar_style": "success",
       "description": "[3] 1/2(train): 100%",
       "layout": "IPY_MODEL_74cc64061dae406ca6cfc21b4098c2f4",
       "max": 3,
       "style": "IPY_MODEL_e42cb8a8851848d9889953133c53a406",
       "value": 3
      }
     },
     "0ac83df371494750af267b0fb43febfd": {
      "model_module": "@jupyter-widgets/base",
      "model_module_version": "1.2.0",
      "model_name": "LayoutModel",
      "state": {}
     },
     "0ad74b42f88146cb93010d22515226e3": {
      "model_module": "@jupyter-widgets/controls",
      "model_module_version": "1.5.0",
      "model_name": "DescriptionStyleModel",
      "state": {
       "description_width": ""
      }
     },
     "0adf61db192d4715bbce24dd2426b3c3": {
      "model_module": "@jupyter-widgets/controls",
      "model_module_version": "1.5.0",
      "model_name": "HTMLModel",
      "state": {
       "layout": "IPY_MODEL_0d1e76fd716940e2bc0c6c58b4425611",
       "style": "IPY_MODEL_7e31ae2d23f44fb4b16daf689719ccf2",
       "value": " 493/493 [21:48&lt;00:00,  2.66s/it]"
      }
     },
     "0b15023c4a364393a2f742901998acc7": {
      "model_module": "@jupyter-widgets/controls",
      "model_module_version": "1.5.0",
      "model_name": "FloatProgressModel",
      "state": {
       "bar_style": "success",
       "description": "[0] 7/16(train): 100%",
       "layout": "IPY_MODEL_b2dcfd56136f45fdab9186d051bcbdf4",
       "max": 493,
       "style": "IPY_MODEL_7c1781a1ade4438ea1e36110e6d880db",
       "value": 493
      }
     },
     "0b52ae76bda74249b293d9b6a64c383f": {
      "model_module": "@jupyter-widgets/base",
      "model_module_version": "1.2.0",
      "model_name": "LayoutModel",
      "state": {}
     },
     "0b579a2eecc34f02ac570c4702b5b238": {
      "model_module": "@jupyter-widgets/controls",
      "model_module_version": "1.5.0",
      "model_name": "HTMLModel",
      "state": {
       "layout": "IPY_MODEL_346f2591402444ddb105725beb68b261",
       "style": "IPY_MODEL_b9a0fb048a02421989e6e3d55b37a44e",
       "value": " 165/165 [57:00&lt;00:00, 20.73s/it]"
      }
     },
     "0b596b04cbdf48969e31f5fbc7e0f9bd": {
      "model_module": "@jupyter-widgets/controls",
      "model_module_version": "1.5.0",
      "model_name": "ProgressStyleModel",
      "state": {
       "description_width": "initial"
      }
     },
     "0b6b169f434f4ef28231347946c4fa37": {
      "model_module": "@jupyter-widgets/base",
      "model_module_version": "1.2.0",
      "model_name": "LayoutModel",
      "state": {}
     },
     "0b82cd3c64db49a9a719fcf0b12c0c92": {
      "model_module": "@jupyter-widgets/base",
      "model_module_version": "1.2.0",
      "model_name": "LayoutModel",
      "state": {}
     },
     "0b9b8e99c0f943e0a29c2fda4b8319ab": {
      "model_module": "@jupyter-widgets/controls",
      "model_module_version": "1.5.0",
      "model_name": "DescriptionStyleModel",
      "state": {
       "description_width": ""
      }
     },
     "0bbbbcd5efa448f2b5804e11175a5f6d": {
      "model_module": "@jupyter-widgets/controls",
      "model_module_version": "1.5.0",
      "model_name": "HBoxModel",
      "state": {
       "children": [
        "IPY_MODEL_da7cba5f90bd40aeb8b5545bd0154ed4",
        "IPY_MODEL_932a6976da1c4b978ae3a89b1ef05df8"
       ],
       "layout": "IPY_MODEL_dbb16ecc0e3d42359e79d602d7f2a7cb"
      }
     },
     "0bc1e88500cb43529ee2d48a8883b6bc": {
      "model_module": "@jupyter-widgets/controls",
      "model_module_version": "1.5.0",
      "model_name": "ProgressStyleModel",
      "state": {
       "description_width": "initial"
      }
     },
     "0c06ab5f5bbf437aa00016c7d7f6a0ee": {
      "model_module": "@jupyter-widgets/controls",
      "model_module_version": "1.5.0",
      "model_name": "HBoxModel",
      "state": {
       "children": [
        "IPY_MODEL_aa11c02b5ea9436095e315bf7d3af18e",
        "IPY_MODEL_360d2e835c1c4deebdbb94c3a766f658"
       ],
       "layout": "IPY_MODEL_a6f8fee142dc418588319edcefba1a05"
      }
     },
     "0c250d3895e24ebf859091aa6ba74857": {
      "model_module": "@jupyter-widgets/base",
      "model_module_version": "1.2.0",
      "model_name": "LayoutModel",
      "state": {}
     },
     "0c4417b05fb84536b6fcfca5910e2866": {
      "model_module": "@jupyter-widgets/controls",
      "model_module_version": "1.5.0",
      "model_name": "HTMLModel",
      "state": {
       "layout": "IPY_MODEL_0fc04a2f0aa74f5081dbc7800287bd8a",
       "style": "IPY_MODEL_3a84ec97aa284b02928aea51f648472e",
       "value": " 493/493 [19:51&lt;00:00,  2.42s/it]"
      }
     },
     "0c6b9a07ccbd45c9bedfbd3d79914f1d": {
      "model_module": "@jupyter-widgets/controls",
      "model_module_version": "1.5.0",
      "model_name": "ProgressStyleModel",
      "state": {
       "description_width": "initial"
      }
     },
     "0c70159d056f4b5ab05c7f3f53304a12": {
      "model_module": "@jupyter-widgets/controls",
      "model_module_version": "1.5.0",
      "model_name": "FloatProgressModel",
      "state": {
       "bar_style": "success",
       "description": "[0] 2/2(val  ): 100%",
       "layout": "IPY_MODEL_9baccc7ba8174ac2823c40361fd07b24",
       "max": 1,
       "style": "IPY_MODEL_12e090f4dbc94d73aba1a6d63a49383a",
       "value": 1
      }
     },
     "0c777c169a6543e98371811c6cd4a5e3": {
      "model_module": "@jupyter-widgets/controls",
      "model_module_version": "1.5.0",
      "model_name": "HBoxModel",
      "state": {
       "children": [
        "IPY_MODEL_1db9b4ed1c864c95b7bf7dd3f69599f1",
        "IPY_MODEL_25be828fe8114ff287b2640245ded530"
       ],
       "layout": "IPY_MODEL_d92a11575dbe49d79de9e5158fb19df8"
      }
     },
     "0c7d647eead444bb9c75eb0ce04a94e8": {
      "model_module": "@jupyter-widgets/base",
      "model_module_version": "1.2.0",
      "model_name": "LayoutModel",
      "state": {}
     },
     "0c8d8fd9095a46fda3ec654a4c638267": {
      "model_module": "@jupyter-widgets/controls",
      "model_module_version": "1.5.0",
      "model_name": "HBoxModel",
      "state": {
       "children": [
        "IPY_MODEL_a4b497d17b1649008d519f1be5bdaf8b",
        "IPY_MODEL_20672c963ca84596bc1de199508d74a0"
       ],
       "layout": "IPY_MODEL_f3c6c34b8f9946009a6eafb9823b3094"
      }
     },
     "0cca8ebef2114d7ead1cc179a559fc1d": {
      "model_module": "@jupyter-widgets/base",
      "model_module_version": "1.2.0",
      "model_name": "LayoutModel",
      "state": {}
     },
     "0cf7f04d225d434aad15ac80aded3013": {
      "model_module": "@jupyter-widgets/base",
      "model_module_version": "1.2.0",
      "model_name": "LayoutModel",
      "state": {}
     },
     "0d002cbd67cf4077ba77730c63df98d1": {
      "model_module": "@jupyter-widgets/controls",
      "model_module_version": "1.5.0",
      "model_name": "ProgressStyleModel",
      "state": {
       "description_width": "initial"
      }
     },
     "0d02231d23094399b888c88de9c8ffd3": {
      "model_module": "@jupyter-widgets/base",
      "model_module_version": "1.2.0",
      "model_name": "LayoutModel",
      "state": {}
     },
     "0d1e76fd716940e2bc0c6c58b4425611": {
      "model_module": "@jupyter-widgets/base",
      "model_module_version": "1.2.0",
      "model_name": "LayoutModel",
      "state": {}
     },
     "0d319e73e4a64ddaa3e66814ba137005": {
      "model_module": "@jupyter-widgets/base",
      "model_module_version": "1.2.0",
      "model_name": "LayoutModel",
      "state": {}
     },
     "0d3b3e13fcc7490eb4f07a4f2f9a2450": {
      "model_module": "@jupyter-widgets/base",
      "model_module_version": "1.2.0",
      "model_name": "LayoutModel",
      "state": {}
     },
     "0d52d14dc32f4901aa213ee162fcb3bb": {
      "model_module": "@jupyter-widgets/base",
      "model_module_version": "1.2.0",
      "model_name": "LayoutModel",
      "state": {}
     },
     "0d57ee195519444098ae9d0532220846": {
      "model_module": "@jupyter-widgets/controls",
      "model_module_version": "1.5.0",
      "model_name": "ProgressStyleModel",
      "state": {
       "description_width": "initial"
      }
     },
     "0d59ba285c534b7ba4a3c919a2f080a3": {
      "model_module": "@jupyter-widgets/controls",
      "model_module_version": "1.5.0",
      "model_name": "DescriptionStyleModel",
      "state": {
       "description_width": ""
      }
     },
     "0d5f82f6843e49f0a313aaa14ad9f7ab": {
      "model_module": "@jupyter-widgets/base",
      "model_module_version": "1.2.0",
      "model_name": "LayoutModel",
      "state": {}
     },
     "0d628d7b78204db090f39f95e58a31ef": {
      "model_module": "@jupyter-widgets/base",
      "model_module_version": "1.2.0",
      "model_name": "LayoutModel",
      "state": {}
     },
     "0d6828cb7b70488082fdbe7e72d1f712": {
      "model_module": "@jupyter-widgets/base",
      "model_module_version": "1.2.0",
      "model_name": "LayoutModel",
      "state": {}
     },
     "0d9c1c21492145619dfbf122b131beea": {
      "model_module": "@jupyter-widgets/controls",
      "model_module_version": "1.5.0",
      "model_name": "HTMLModel",
      "state": {
       "layout": "IPY_MODEL_363e4953e1bf45c39fb240b2cae39484",
       "style": "IPY_MODEL_041afc6a1acc4521a86f16d5f6e103e3",
       "value": " 3/3 [00:07&lt;00:00,  2.58s/it]"
      }
     },
     "0da6688a52464bc4b08fba22cbbebf98": {
      "model_module": "@jupyter-widgets/base",
      "model_module_version": "1.2.0",
      "model_name": "LayoutModel",
      "state": {}
     },
     "0de553fe939d4f229f36e4534a68e362": {
      "model_module": "@jupyter-widgets/controls",
      "model_module_version": "1.5.0",
      "model_name": "HTMLModel",
      "state": {
       "layout": "IPY_MODEL_0f14415ffb73475f8dbcdba6fd78ab65",
       "style": "IPY_MODEL_33d1f8d0320c4054bbefca15e8a707ce",
       "value": " 165/165 [01:23&lt;00:00,  1.98it/s]"
      }
     },
     "0e0fd2881a6a4bde9d35e98e4fbdb360": {
      "model_module": "@jupyter-widgets/controls",
      "model_module_version": "1.5.0",
      "model_name": "HBoxModel",
      "state": {
       "children": [
        "IPY_MODEL_f94fcd1224d14bc78b43b6762672a355",
        "IPY_MODEL_ac8cc7c1ddf54de890fc768e5d81c578"
       ],
       "layout": "IPY_MODEL_b725d66a8be74fc0ae545fb43654c79f"
      }
     },
     "0e159e5cec884e6088e473a1ffb12a3c": {
      "model_module": "@jupyter-widgets/controls",
      "model_module_version": "1.5.0",
      "model_name": "HBoxModel",
      "state": {
       "children": [
        "IPY_MODEL_d69ad366caff439faa7b74038cf8a5fa",
        "IPY_MODEL_9f8164050d354890b2e52779819cb0cb"
       ],
       "layout": "IPY_MODEL_6c7f4dba2960461fbe7438e06a943942"
      }
     },
     "0e188f29dca24608b432c331bcc7c75e": {
      "model_module": "@jupyter-widgets/controls",
      "model_module_version": "1.5.0",
      "model_name": "DescriptionStyleModel",
      "state": {
       "description_width": ""
      }
     },
     "0e230b12577245b8a6936c519b336e6b": {
      "model_module": "@jupyter-widgets/controls",
      "model_module_version": "1.5.0",
      "model_name": "DescriptionStyleModel",
      "state": {
       "description_width": ""
      }
     },
     "0e4299cefc004f85a7dcbee6195a061b": {
      "model_module": "@jupyter-widgets/controls",
      "model_module_version": "1.5.0",
      "model_name": "HTMLModel",
      "state": {
       "layout": "IPY_MODEL_944fc0abb76d47729ed2abde857e73d0",
       "style": "IPY_MODEL_6d92128601c641e188d2a8c2f89282d5",
       "value": " 493/493 [47:33&lt;00:00,  5.79s/it]"
      }
     },
     "0e55bf58358a46719286a649e00b10fc": {
      "model_module": "@jupyter-widgets/controls",
      "model_module_version": "1.5.0",
      "model_name": "FloatProgressModel",
      "state": {
       "bar_style": "success",
       "description": "[1] 10/16(val  ): 100%",
       "layout": "IPY_MODEL_a514fceb0c5b409280121f5ee2c84be6",
       "max": 165,
       "style": "IPY_MODEL_7f39640f677e463f9d3e578b1617a5a4",
       "value": 165
      }
     },
     "0e642499333e4b719089af039fff5242": {
      "model_module": "@jupyter-widgets/base",
      "model_module_version": "1.2.0",
      "model_name": "LayoutModel",
      "state": {}
     },
     "0ea60b58a72b46eebc0ef8e6c8fb9640": {
      "model_module": "@jupyter-widgets/controls",
      "model_module_version": "1.5.0",
      "model_name": "DescriptionStyleModel",
      "state": {
       "description_width": ""
      }
     },
     "0eaafa582cdc4086a1d050bbb261fa1a": {
      "model_module": "@jupyter-widgets/controls",
      "model_module_version": "1.5.0",
      "model_name": "HBoxModel",
      "state": {
       "children": [
        "IPY_MODEL_a9c2fed8cef94800bc085a016b0e25ed",
        "IPY_MODEL_f488781f74044dd0b287a25fc5fb8fa3"
       ],
       "layout": "IPY_MODEL_f8dd3a1e81c040b2aa14ee3577cc07e0"
      }
     },
     "0ec38c21ac0e468492112adc74e219c2": {
      "model_module": "@jupyter-widgets/controls",
      "model_module_version": "1.5.0",
      "model_name": "DescriptionStyleModel",
      "state": {
       "description_width": ""
      }
     },
     "0ec4af76c72e46ea9d3b2af13c96916d": {
      "model_module": "@jupyter-widgets/controls",
      "model_module_version": "1.5.0",
      "model_name": "HTMLModel",
      "state": {
       "layout": "IPY_MODEL_2e01f7606d2047eeabafe24720747402",
       "style": "IPY_MODEL_cef91d139d0c4167a56c92d99142f023",
       "value": " 3/3 [00:07&lt;00:00,  2.40s/it]"
      }
     },
     "0ed22efa8bc343b0afa319b3e56420a6": {
      "model_module": "@jupyter-widgets/controls",
      "model_module_version": "1.5.0",
      "model_name": "ProgressStyleModel",
      "state": {
       "description_width": "initial"
      }
     },
     "0ed3868475f146439d6bf1796ec7a1da": {
      "model_module": "@jupyter-widgets/base",
      "model_module_version": "1.2.0",
      "model_name": "LayoutModel",
      "state": {}
     },
     "0efaad6a8a7148658d4bc9d433a7b13a": {
      "model_module": "@jupyter-widgets/controls",
      "model_module_version": "1.5.0",
      "model_name": "HBoxModel",
      "state": {
       "children": [
        "IPY_MODEL_fab732f1978048ad8310913c27a7d7b6",
        "IPY_MODEL_81a9aea728de4db4ad6cc87c22c8dc55"
       ],
       "layout": "IPY_MODEL_49efc18d75c548999d7f58a040e84c50"
      }
     },
     "0f133569f07c4c40a49d21d2e65bcbcc": {
      "model_module": "@jupyter-widgets/base",
      "model_module_version": "1.2.0",
      "model_name": "LayoutModel",
      "state": {}
     },
     "0f14415ffb73475f8dbcdba6fd78ab65": {
      "model_module": "@jupyter-widgets/base",
      "model_module_version": "1.2.0",
      "model_name": "LayoutModel",
      "state": {}
     },
     "0f1d47b889fa47e09fb41cc6bed60601": {
      "model_module": "@jupyter-widgets/controls",
      "model_module_version": "1.5.0",
      "model_name": "ProgressStyleModel",
      "state": {
       "description_width": "initial"
      }
     },
     "0f439da41a0c4c91aedb75ad4fa6f2d4": {
      "model_module": "@jupyter-widgets/controls",
      "model_module_version": "1.5.0",
      "model_name": "FloatProgressModel",
      "state": {
       "bar_style": "success",
       "description": "[0] 13/16(val  ): 100%",
       "layout": "IPY_MODEL_a01f91728d3046ee8c80bb355ad23b25",
       "max": 165,
       "style": "IPY_MODEL_dcb1cc84faf647a69932d48b80a14f40",
       "value": 165
      }
     },
     "0f4f8c9402fb43dcb97c1f48d3cd6128": {
      "model_module": "@jupyter-widgets/controls",
      "model_module_version": "1.5.0",
      "model_name": "FloatProgressModel",
      "state": {
       "bar_style": "success",
       "description": "[2] 2/15(train): 100%",
       "layout": "IPY_MODEL_bdff4f9329864918912cfede9af44bde",
       "max": 493,
       "style": "IPY_MODEL_819eee5e88c14d4cb1a5fafe04e67de5",
       "value": 493
      }
     },
     "0f72e8e4e5fd491db9ff2532d9e84409": {
      "model_module": "@jupyter-widgets/controls",
      "model_module_version": "1.5.0",
      "model_name": "ProgressStyleModel",
      "state": {
       "description_width": "initial"
      }
     },
     "0f83d4987550402bb2e1f6fea45c77e6": {
      "model_module": "@jupyter-widgets/controls",
      "model_module_version": "1.5.0",
      "model_name": "ProgressStyleModel",
      "state": {
       "description_width": "initial"
      }
     },
     "0fc04a2f0aa74f5081dbc7800287bd8a": {
      "model_module": "@jupyter-widgets/base",
      "model_module_version": "1.2.0",
      "model_name": "LayoutModel",
      "state": {}
     },
     "0fca37247f814188893b763e71e37a38": {
      "model_module": "@jupyter-widgets/base",
      "model_module_version": "1.2.0",
      "model_name": "LayoutModel",
      "state": {}
     },
     "1004be4680ea47a78d97fdd510c570d2": {
      "model_module": "@jupyter-widgets/controls",
      "model_module_version": "1.5.0",
      "model_name": "ProgressStyleModel",
      "state": {
       "description_width": "initial"
      }
     },
     "101122ffcd0842698e74cde337df091e": {
      "model_module": "@jupyter-widgets/controls",
      "model_module_version": "1.5.0",
      "model_name": "ProgressStyleModel",
      "state": {
       "description_width": "initial"
      }
     },
     "102c0d66fc934e9ab08f07a7ac4e0a57": {
      "model_module": "@jupyter-widgets/base",
      "model_module_version": "1.2.0",
      "model_name": "LayoutModel",
      "state": {}
     },
     "104160929f154caf843171908cdf9f2a": {
      "model_module": "@jupyter-widgets/controls",
      "model_module_version": "1.5.0",
      "model_name": "HTMLModel",
      "state": {
       "layout": "IPY_MODEL_d25a47f1490f4e2092bed16b6bfe2369",
       "style": "IPY_MODEL_601b03d537c7418da438755caa1d0a7f",
       "value": " 493/493 [20:28&lt;00:00,  2.49s/it]"
      }
     },
     "105e8c9b61694e0ca392c7b36e91d554": {
      "model_module": "@jupyter-widgets/controls",
      "model_module_version": "1.5.0",
      "model_name": "FloatProgressModel",
      "state": {
       "bar_style": "danger",
       "description": "[0] 1/15(train):   0%",
       "layout": "IPY_MODEL_ce64c22777cc442a9a6b4ae9c7456577",
       "max": 493,
       "style": "IPY_MODEL_6208230217d24f4a9f761d1bfc7d8ca5"
      }
     },
     "107390c6d72d451a918da7a832eff661": {
      "model_module": "@jupyter-widgets/base",
      "model_module_version": "1.2.0",
      "model_name": "LayoutModel",
      "state": {}
     },
     "107de244e7ea47e29deeb310bc4c4823": {
      "model_module": "@jupyter-widgets/controls",
      "model_module_version": "1.5.0",
      "model_name": "FloatProgressModel",
      "state": {
       "bar_style": "success",
       "description": "[2] 16/16(train): 100%",
       "layout": "IPY_MODEL_74ce5cfbae62402c8a8724114f278fbb",
       "max": 493,
       "style": "IPY_MODEL_6cdd724a7f724e4180a28e6618cd4802",
       "value": 493
      }
     },
     "10b8a5a74d1241ec917736c62de525ea": {
      "model_module": "@jupyter-widgets/base",
      "model_module_version": "1.2.0",
      "model_name": "LayoutModel",
      "state": {}
     },
     "10bfbbc2532046ed864cdfb357da0a79": {
      "model_module": "@jupyter-widgets/controls",
      "model_module_version": "1.5.0",
      "model_name": "ProgressStyleModel",
      "state": {
       "description_width": "initial"
      }
     },
     "10dc5269dbd04b658549a304d9dc0291": {
      "model_module": "@jupyter-widgets/controls",
      "model_module_version": "1.5.0",
      "model_name": "FloatProgressModel",
      "state": {
       "bar_style": "success",
       "description": "[2] 4/15(val  ): 100%",
       "layout": "IPY_MODEL_5e09e922115843338c600ca630808b3d",
       "max": 165,
       "style": "IPY_MODEL_d6db0738029e4ab98316db0730157c8d",
       "value": 165
      }
     },
     "10f1d9db4ce04c3fbc27c6bf29f0e8e3": {
      "model_module": "@jupyter-widgets/controls",
      "model_module_version": "1.5.0",
      "model_name": "HTMLModel",
      "state": {
       "layout": "IPY_MODEL_d630e5c8eb9544d7b6c2e6b56f15aede",
       "style": "IPY_MODEL_c71b47e42c724738955caab0f2c83682",
       "value": " 3/3 [00:19&lt;00:00,  6.44s/it]"
      }
     },
     "110b489acdc2484cb28fe72e7251adaf": {
      "model_module": "@jupyter-widgets/controls",
      "model_module_version": "1.5.0",
      "model_name": "ProgressStyleModel",
      "state": {
       "description_width": "initial"
      }
     },
     "1116784c9d684e2290dc1e5b577e55ff": {
      "model_module": "@jupyter-widgets/controls",
      "model_module_version": "1.5.0",
      "model_name": "FloatProgressModel",
      "state": {
       "bar_style": "success",
       "description": "[0] 15/16(val  ): 100%",
       "layout": "IPY_MODEL_1d3797557da24725b61eb1251207e7f6",
       "max": 165,
       "style": "IPY_MODEL_d23e926bfe86466391bf94dd9a57e4fa",
       "value": 165
      }
     },
     "11341356df404fa0a6b802c79ffe08fa": {
      "model_module": "@jupyter-widgets/controls",
      "model_module_version": "1.5.0",
      "model_name": "HBoxModel",
      "state": {
       "children": [
        "IPY_MODEL_d1188da0cebc448c8c11664cbfaf1fd0",
        "IPY_MODEL_f8e2d5306d004f07a0e2d60fe83d294f"
       ],
       "layout": "IPY_MODEL_78e0e0efd7e84c678277573c12c38f83"
      }
     },
     "1166e82cfabd439c8243f1f4feb1af77": {
      "model_module": "@jupyter-widgets/base",
      "model_module_version": "1.2.0",
      "model_name": "LayoutModel",
      "state": {}
     },
     "1171a6c8a00846feb590a86648d6a6fd": {
      "model_module": "@jupyter-widgets/controls",
      "model_module_version": "1.5.0",
      "model_name": "HBoxModel",
      "state": {
       "children": [
        "IPY_MODEL_69b4c156a3784fbf897e318e73ae89ed",
        "IPY_MODEL_d356064590524615a12fa42db3425ff1"
       ],
       "layout": "IPY_MODEL_a67621ac7d194b9ea9a96c5f2dee4721"
      }
     },
     "11733a9b45f24b509936f425c27705df": {
      "model_module": "@jupyter-widgets/base",
      "model_module_version": "1.2.0",
      "model_name": "LayoutModel",
      "state": {}
     },
     "1178cedbf51b44a5830da76589309e1f": {
      "model_module": "@jupyter-widgets/base",
      "model_module_version": "1.2.0",
      "model_name": "LayoutModel",
      "state": {}
     },
     "1189c5faf1464879acd01eb79d21b845": {
      "model_module": "@jupyter-widgets/controls",
      "model_module_version": "1.5.0",
      "model_name": "HTMLModel",
      "state": {
       "layout": "IPY_MODEL_f31087e7e917424697d7c1bfdd0623e2",
       "style": "IPY_MODEL_aa52e1cc0b0a480480f0c12c1de3f89d",
       "value": " 493/493 [22:11&lt;00:00,  2.70s/it]"
      }
     },
     "11974dea0eac4e23b48f10e481873231": {
      "model_module": "@jupyter-widgets/controls",
      "model_module_version": "1.5.0",
      "model_name": "ProgressStyleModel",
      "state": {
       "description_width": "initial"
      }
     },
     "1198bdc9a80b44b1a1e4ca134c997fbe": {
      "model_module": "@jupyter-widgets/base",
      "model_module_version": "1.2.0",
      "model_name": "LayoutModel",
      "state": {}
     },
     "11ac10cc66d54257bd767c4e38357c3a": {
      "model_module": "@jupyter-widgets/base",
      "model_module_version": "1.2.0",
      "model_name": "LayoutModel",
      "state": {}
     },
     "11bf71a29f3347a4abbb35b0e6abe40c": {
      "model_module": "@jupyter-widgets/controls",
      "model_module_version": "1.5.0",
      "model_name": "ProgressStyleModel",
      "state": {
       "description_width": "initial"
      }
     },
     "11ca005a77204ee9b95ea8ed636d9219": {
      "model_module": "@jupyter-widgets/base",
      "model_module_version": "1.2.0",
      "model_name": "LayoutModel",
      "state": {}
     },
     "11e198fd371a4507961281032ad03e01": {
      "model_module": "@jupyter-widgets/controls",
      "model_module_version": "1.5.0",
      "model_name": "DescriptionStyleModel",
      "state": {
       "description_width": ""
      }
     },
     "11ea4ae3457c48d6bb3b7260d63e62d6": {
      "model_module": "@jupyter-widgets/controls",
      "model_module_version": "1.5.0",
      "model_name": "HTMLModel",
      "state": {
       "layout": "IPY_MODEL_2692508a0ae14fd1b77cccb6735b355b",
       "style": "IPY_MODEL_39497d6c6117403f87afe4201d23f99a",
       "value": " 165/165 [23:52&lt;00:00,  8.68s/it]"
      }
     },
     "12021a19fb6e497ebc127bcf5a2e4ee8": {
      "model_module": "@jupyter-widgets/controls",
      "model_module_version": "1.5.0",
      "model_name": "ProgressStyleModel",
      "state": {
       "description_width": "initial"
      }
     },
     "1221e6aaab5149f89146586954fec8a6": {
      "model_module": "@jupyter-widgets/controls",
      "model_module_version": "1.5.0",
      "model_name": "HBoxModel",
      "state": {
       "children": [
        "IPY_MODEL_a741572ed9f5473eb2f3041baa6604d9",
        "IPY_MODEL_03dba936e93342109d7a5cecb6929fd2"
       ],
       "layout": "IPY_MODEL_ca916c25eaab434bbb3a6938c6b12e48"
      }
     },
     "1228d2509c9d4926991fec4e99b32154": {
      "model_module": "@jupyter-widgets/controls",
      "model_module_version": "1.5.0",
      "model_name": "HBoxModel",
      "state": {
       "children": [
        "IPY_MODEL_ff11c92d04bf4c3e96931e08f34d539f",
        "IPY_MODEL_c2c2352533424a948fc813ddeee91baa"
       ],
       "layout": "IPY_MODEL_f49a77f76cf04c2a8994fe2645cb13b4"
      }
     },
     "123190f1aa3f404aa8d8d3e9d3af438c": {
      "model_module": "@jupyter-widgets/controls",
      "model_module_version": "1.5.0",
      "model_name": "FloatProgressModel",
      "state": {
       "bar_style": "success",
       "description": "[3] 9/15(val  ): 100%",
       "layout": "IPY_MODEL_cfacf8ed4f4249a0b7b56ca418defb9c",
       "max": 165,
       "style": "IPY_MODEL_25260affc782444195439f70b3df0c1b",
       "value": 165
      }
     },
     "125627de2af5495fbbba14118e245a94": {
      "model_module": "@jupyter-widgets/controls",
      "model_module_version": "1.5.0",
      "model_name": "HBoxModel",
      "state": {
       "children": [
        "IPY_MODEL_d49bd50498e24103b19f6a85a481ff68",
        "IPY_MODEL_4835eddbe76646dc8361d5c02cb9ad0a"
       ],
       "layout": "IPY_MODEL_cd08c6c7cd1e451dbb37907c4ee76903"
      }
     },
     "125a30c8591a4c44b9c6b84efd42a8a7": {
      "model_module": "@jupyter-widgets/controls",
      "model_module_version": "1.5.0",
      "model_name": "HBoxModel",
      "state": {
       "children": [
        "IPY_MODEL_7fa8fa6d6b334320ab5e777cd4d415b5",
        "IPY_MODEL_72bd164ec4fa4b14887e4c5366566e18"
       ],
       "layout": "IPY_MODEL_2798aceb7add4e95ab202099aee62eb1"
      }
     },
     "128f2e24a2ca495f8ad53fcdc9e4e499": {
      "model_module": "@jupyter-widgets/controls",
      "model_module_version": "1.5.0",
      "model_name": "ProgressStyleModel",
      "state": {
       "description_width": "initial"
      }
     },
     "129fc5c458b14ec9be9b828abcd5667f": {
      "model_module": "@jupyter-widgets/controls",
      "model_module_version": "1.5.0",
      "model_name": "HTMLModel",
      "state": {
       "layout": "IPY_MODEL_fb02c161e2414b4aa7c3ce211c327170",
       "style": "IPY_MODEL_e8146de4bda74232baf9b70071838fe9",
       "value": " 3/3 [00:07&lt;00:00,  2.52s/it]"
      }
     },
     "12a935509cdc46408ca599917db2a297": {
      "model_module": "@jupyter-widgets/controls",
      "model_module_version": "1.5.0",
      "model_name": "HBoxModel",
      "state": {
       "children": [
        "IPY_MODEL_066ffda0a8624a5c9a5478cc392865f7",
        "IPY_MODEL_7bc2fc4d397b4cb39d3daf4bc3020d93"
       ],
       "layout": "IPY_MODEL_a88c4ab01f1240308f73c60196d9a21a"
      }
     },
     "12bf3d4a23784d5abdc6afcd6b219851": {
      "model_module": "@jupyter-widgets/base",
      "model_module_version": "1.2.0",
      "model_name": "LayoutModel",
      "state": {}
     },
     "12cb01313635475fadc3d794aea061b2": {
      "model_module": "@jupyter-widgets/base",
      "model_module_version": "1.2.0",
      "model_name": "LayoutModel",
      "state": {}
     },
     "12d36cf231f3486a88c19de463b8d711": {
      "model_module": "@jupyter-widgets/controls",
      "model_module_version": "1.5.0",
      "model_name": "DescriptionStyleModel",
      "state": {
       "description_width": ""
      }
     },
     "12e090f4dbc94d73aba1a6d63a49383a": {
      "model_module": "@jupyter-widgets/controls",
      "model_module_version": "1.5.0",
      "model_name": "ProgressStyleModel",
      "state": {
       "description_width": "initial"
      }
     },
     "13040cc9c49d4d61b2462ea7a58d3f09": {
      "model_module": "@jupyter-widgets/base",
      "model_module_version": "1.2.0",
      "model_name": "LayoutModel",
      "state": {}
     },
     "1330de3c311841e0bbbaaae93d9b6efb": {
      "model_module": "@jupyter-widgets/controls",
      "model_module_version": "1.5.0",
      "model_name": "HBoxModel",
      "state": {
       "children": [
        "IPY_MODEL_04577dfb9494439490c7bea685f61903",
        "IPY_MODEL_485adcc3d92c42b5abe8582222749d70"
       ],
       "layout": "IPY_MODEL_663f92ab22fd4486b6e2e3bb2a3d3091"
      }
     },
     "135c63c19a4f4cccbb9ae249f6a31ee8": {
      "model_module": "@jupyter-widgets/controls",
      "model_module_version": "1.5.0",
      "model_name": "ProgressStyleModel",
      "state": {
       "description_width": "initial"
      }
     },
     "13616d86161248239e434b27f6d39a85": {
      "model_module": "@jupyter-widgets/controls",
      "model_module_version": "1.5.0",
      "model_name": "DescriptionStyleModel",
      "state": {
       "description_width": ""
      }
     },
     "13831fa4195247f98bb16f5ce95a5e23": {
      "model_module": "@jupyter-widgets/base",
      "model_module_version": "1.2.0",
      "model_name": "LayoutModel",
      "state": {}
     },
     "13910667edac4c28879dc32095d71a68": {
      "model_module": "@jupyter-widgets/base",
      "model_module_version": "1.2.0",
      "model_name": "LayoutModel",
      "state": {}
     },
     "139f850bbee34245a8be2ec9c3771353": {
      "model_module": "@jupyter-widgets/base",
      "model_module_version": "1.2.0",
      "model_name": "LayoutModel",
      "state": {}
     },
     "141d3df6d3464113b98f42df0d30fd87": {
      "model_module": "@jupyter-widgets/controls",
      "model_module_version": "1.5.0",
      "model_name": "DescriptionStyleModel",
      "state": {
       "description_width": ""
      }
     },
     "1429f9264f26455ca1168535a94603b2": {
      "model_module": "@jupyter-widgets/controls",
      "model_module_version": "1.5.0",
      "model_name": "HBoxModel",
      "state": {
       "children": [
        "IPY_MODEL_cb6507e9060245b194961d488b83d496",
        "IPY_MODEL_68458146c91a4af18a59173f04c6a92f"
       ],
       "layout": "IPY_MODEL_4f5c198fdde2473cabb2854b4d8b3b60"
      }
     },
     "142dbd3a07854817a7d07aaaed6f1498": {
      "model_module": "@jupyter-widgets/controls",
      "model_module_version": "1.5.0",
      "model_name": "FloatProgressModel",
      "state": {
       "bar_style": "success",
       "description": "[3] 11/15(train): 100%",
       "layout": "IPY_MODEL_9202e4fcccee49859b510f21ba51c922",
       "max": 493,
       "style": "IPY_MODEL_6656a9b1c8e64b4eb527f4f48b71fef2",
       "value": 493
      }
     },
     "1441ea3dabcd42d6940f03b1ae6db3a8": {
      "model_module": "@jupyter-widgets/controls",
      "model_module_version": "1.5.0",
      "model_name": "ProgressStyleModel",
      "state": {
       "description_width": "initial"
      }
     },
     "147592b50b164b87b84f1492dda8e965": {
      "model_module": "@jupyter-widgets/controls",
      "model_module_version": "1.5.0",
      "model_name": "HTMLModel",
      "state": {
       "layout": "IPY_MODEL_8eda70558426456cb4530e8b428947d1",
       "style": "IPY_MODEL_27cbcb30554a43d2bdec02b7391f59f6",
       "value": " 1/493 [00:04&lt;39:47,  4.85s/it]"
      }
     },
     "14a2b6f79b614bee80d3d4dc23328b82": {
      "model_module": "@jupyter-widgets/base",
      "model_module_version": "1.2.0",
      "model_name": "LayoutModel",
      "state": {}
     },
     "14b0fb2a853a44e88c750e76a0cb219d": {
      "model_module": "@jupyter-widgets/base",
      "model_module_version": "1.2.0",
      "model_name": "LayoutModel",
      "state": {}
     },
     "14b95c5cbb8c45edb6e4b3d0b897164e": {
      "model_module": "@jupyter-widgets/controls",
      "model_module_version": "1.5.0",
      "model_name": "DescriptionStyleModel",
      "state": {
       "description_width": ""
      }
     },
     "153524039be749d78f009dc2b58ca584": {
      "model_module": "@jupyter-widgets/controls",
      "model_module_version": "1.5.0",
      "model_name": "FloatProgressModel",
      "state": {
       "bar_style": "success",
       "description": "[3] 9/16(train): 100%",
       "layout": "IPY_MODEL_eb3a5b2b8c424fa8bd97eb92f384f172",
       "max": 493,
       "style": "IPY_MODEL_9b2b4d9283df4c7a9f3687eda4767f71",
       "value": 493
      }
     },
     "153bfb2d40b94a589191f9d5131c7ead": {
      "model_module": "@jupyter-widgets/controls",
      "model_module_version": "1.5.0",
      "model_name": "HBoxModel",
      "state": {
       "children": [
        "IPY_MODEL_2faa54500e4842dd91da61979f92a483",
        "IPY_MODEL_0371a2cb6d6047ff83b2edcfb18fc054"
       ],
       "layout": "IPY_MODEL_0fca37247f814188893b763e71e37a38"
      }
     },
     "159fa54d6afc4a329b7ed94b492a712a": {
      "model_module": "@jupyter-widgets/base",
      "model_module_version": "1.2.0",
      "model_name": "LayoutModel",
      "state": {}
     },
     "15a64c65a89240b5bfe658f7f7391a5c": {
      "model_module": "@jupyter-widgets/controls",
      "model_module_version": "1.5.0",
      "model_name": "ProgressStyleModel",
      "state": {
       "description_width": "initial"
      }
     },
     "1612abf292fc4345bf7c3f9a8d3a2665": {
      "model_module": "@jupyter-widgets/controls",
      "model_module_version": "1.5.0",
      "model_name": "HBoxModel",
      "state": {
       "children": [
        "IPY_MODEL_6d545947afb846ee8b81ad40e5df63cd",
        "IPY_MODEL_4f7748554a5c45f6a547cd55a2be8520"
       ],
       "layout": "IPY_MODEL_21ed4fc3d36d4d71891210ceef94db29"
      }
     },
     "1623e883bd064a5ea7640090433c89e7": {
      "model_module": "@jupyter-widgets/base",
      "model_module_version": "1.2.0",
      "model_name": "LayoutModel",
      "state": {}
     },
     "162c2e42fc6946d8b013d72be7ce56f6": {
      "model_module": "@jupyter-widgets/base",
      "model_module_version": "1.2.0",
      "model_name": "LayoutModel",
      "state": {}
     },
     "16300f1088cd4ebe9e2d8b04e05e5830": {
      "model_module": "@jupyter-widgets/base",
      "model_module_version": "1.2.0",
      "model_name": "LayoutModel",
      "state": {}
     },
     "16497bd83aaf4effb0677cfab0fc422d": {
      "model_module": "@jupyter-widgets/controls",
      "model_module_version": "1.5.0",
      "model_name": "HBoxModel",
      "state": {
       "children": [
        "IPY_MODEL_d468d514611f470e8fc1b5693c1bf93c",
        "IPY_MODEL_9cbffc2281a140f48d69b4fd39d6a5ad"
       ],
       "layout": "IPY_MODEL_594633b38d7c4b1f907d435c5dc409e6"
      }
     },
     "16b5acfa76944b749432e2134c1cfc43": {
      "model_module": "@jupyter-widgets/base",
      "model_module_version": "1.2.0",
      "model_name": "LayoutModel",
      "state": {}
     },
     "16ba2e58a98d40deb6b0de248bfcecd6": {
      "model_module": "@jupyter-widgets/base",
      "model_module_version": "1.2.0",
      "model_name": "LayoutModel",
      "state": {}
     },
     "16c811c992594adb9b98a699e1a445f9": {
      "model_module": "@jupyter-widgets/controls",
      "model_module_version": "1.5.0",
      "model_name": "HTMLModel",
      "state": {
       "layout": "IPY_MODEL_a74cd05d66744638a15970295c42f6f0",
       "style": "IPY_MODEL_1a378b548c734b1dba2d940092740310",
       "value": " 165/165 [01:31&lt;00:00,  1.80it/s]"
      }
     },
     "16dfea50af6f41bdb24ec49ffad28cb3": {
      "model_module": "@jupyter-widgets/controls",
      "model_module_version": "1.5.0",
      "model_name": "DescriptionStyleModel",
      "state": {
       "description_width": ""
      }
     },
     "174232859f0e4bc4806b3fe015e08dff": {
      "model_module": "@jupyter-widgets/base",
      "model_module_version": "1.2.0",
      "model_name": "LayoutModel",
      "state": {}
     },
     "1746f8582ad24227b5454823401dab7a": {
      "model_module": "@jupyter-widgets/controls",
      "model_module_version": "1.5.0",
      "model_name": "ProgressStyleModel",
      "state": {
       "description_width": "initial"
      }
     },
     "1747ea626431440cbd4c10a19c6365a1": {
      "model_module": "@jupyter-widgets/controls",
      "model_module_version": "1.5.0",
      "model_name": "HBoxModel",
      "state": {
       "children": [
        "IPY_MODEL_6e503ea91a1b4c83a0caa0c44d572988",
        "IPY_MODEL_ec8f74cc63f84710bd41b3c5db9d5532"
       ],
       "layout": "IPY_MODEL_90cc7133338c48bf809edefce06122af"
      }
     },
     "1749db4c15e44d21968d535c1d745676": {
      "model_module": "@jupyter-widgets/controls",
      "model_module_version": "1.5.0",
      "model_name": "HTMLModel",
      "state": {
       "layout": "IPY_MODEL_b2e7d122d8714641845e150a501fdac1",
       "style": "IPY_MODEL_fe213dfbe7a844a2872a6c60438f92bf",
       "value": " 3/3 [00:07&lt;00:00,  2.59s/it]"
      }
     },
     "179e2624cf9f499a9fc0ddb9412582ce": {
      "model_module": "@jupyter-widgets/base",
      "model_module_version": "1.2.0",
      "model_name": "LayoutModel",
      "state": {}
     },
     "179f727f27164ffbb62f3728e1174da2": {
      "model_module": "@jupyter-widgets/base",
      "model_module_version": "1.2.0",
      "model_name": "LayoutModel",
      "state": {}
     },
     "17b7abf4461c4257b56e9af6b284b9ae": {
      "model_module": "@jupyter-widgets/base",
      "model_module_version": "1.2.0",
      "model_name": "LayoutModel",
      "state": {}
     },
     "17c87f3de03c4761a76201ee7a6ff0e9": {
      "model_module": "@jupyter-widgets/controls",
      "model_module_version": "1.5.0",
      "model_name": "HTMLModel",
      "state": {
       "layout": "IPY_MODEL_11ca005a77204ee9b95ea8ed636d9219",
       "style": "IPY_MODEL_4f78236c62aa46cf87949c64dcbdfc14",
       "value": " 493/493 [21:37&lt;00:00,  2.63s/it]"
      }
     },
     "17f44123bc144dd281c55fa22c87d29b": {
      "model_module": "@jupyter-widgets/controls",
      "model_module_version": "1.5.0",
      "model_name": "DescriptionStyleModel",
      "state": {
       "description_width": ""
      }
     },
     "17fa9b71331a4f11b04ea9c4934b7287": {
      "model_module": "@jupyter-widgets/controls",
      "model_module_version": "1.5.0",
      "model_name": "ProgressStyleModel",
      "state": {
       "description_width": "initial"
      }
     },
     "18090d3b7c0e4c2a953239b21d57047c": {
      "model_module": "@jupyter-widgets/base",
      "model_module_version": "1.2.0",
      "model_name": "LayoutModel",
      "state": {}
     },
     "1842adaff401484d9c02a8d320e5a913": {
      "model_module": "@jupyter-widgets/base",
      "model_module_version": "1.2.0",
      "model_name": "LayoutModel",
      "state": {}
     },
     "18533bf4d9fc422ba0537cf909954ed8": {
      "model_module": "@jupyter-widgets/controls",
      "model_module_version": "1.5.0",
      "model_name": "DescriptionStyleModel",
      "state": {
       "description_width": ""
      }
     },
     "189b365583c243409851b6c1fda09d9a": {
      "model_module": "@jupyter-widgets/base",
      "model_module_version": "1.2.0",
      "model_name": "LayoutModel",
      "state": {}
     },
     "18a1dbd44f7449c6a1a20bb4c1533ca8": {
      "model_module": "@jupyter-widgets/controls",
      "model_module_version": "1.5.0",
      "model_name": "HBoxModel",
      "state": {
       "children": [
        "IPY_MODEL_f91119e8f4724762a778936a659245a4",
        "IPY_MODEL_f270330ee42246ada8f67898c991ab2d"
       ],
       "layout": "IPY_MODEL_4d6ffbe986724e019c85817880b2ba98"
      }
     },
     "18a66c58bdb84727aa61f9072c6b1687": {
      "model_module": "@jupyter-widgets/base",
      "model_module_version": "1.2.0",
      "model_name": "LayoutModel",
      "state": {}
     },
     "18aeb43f1d2048ab8eea0d589247287f": {
      "model_module": "@jupyter-widgets/controls",
      "model_module_version": "1.5.0",
      "model_name": "HBoxModel",
      "state": {
       "children": [
        "IPY_MODEL_c3a4a9da2db24741a47d3afdd4712302",
        "IPY_MODEL_4096c0c59b8f440da0224ea1ccb6fbe9"
       ],
       "layout": "IPY_MODEL_07d7b0d40ce449b1ba311d4a8c3bce41"
      }
     },
     "18b92c80aa9c4fb2804ca3529c7ffa08": {
      "model_module": "@jupyter-widgets/controls",
      "model_module_version": "1.5.0",
      "model_name": "DescriptionStyleModel",
      "state": {
       "description_width": ""
      }
     },
     "18d269f4bde24121bd4cc8f7f23cc299": {
      "model_module": "@jupyter-widgets/base",
      "model_module_version": "1.2.0",
      "model_name": "LayoutModel",
      "state": {}
     },
     "18dfbd40b5754f3b94fa292f17115cca": {
      "model_module": "@jupyter-widgets/controls",
      "model_module_version": "1.5.0",
      "model_name": "DescriptionStyleModel",
      "state": {
       "description_width": ""
      }
     },
     "18f7473dc11145f6acf12a46ccd8ffbd": {
      "model_module": "@jupyter-widgets/controls",
      "model_module_version": "1.5.0",
      "model_name": "HBoxModel",
      "state": {
       "children": [
        "IPY_MODEL_3469e83ab40f41b3a7ebbac335be6416",
        "IPY_MODEL_03670426e2aa4f138dc5d3d4d67b88b3"
       ],
       "layout": "IPY_MODEL_c24bfc69a9a64f11bbf8f80eb9119b31"
      }
     },
     "19133d298931409ea9345dd6f804fe91": {
      "model_module": "@jupyter-widgets/base",
      "model_module_version": "1.2.0",
      "model_name": "LayoutModel",
      "state": {}
     },
     "19215a9b21e44bb5a97906bf4838ea33": {
      "model_module": "@jupyter-widgets/base",
      "model_module_version": "1.2.0",
      "model_name": "LayoutModel",
      "state": {}
     },
     "192bbaa142174a4f8e224aa39d6da23f": {
      "model_module": "@jupyter-widgets/controls",
      "model_module_version": "1.5.0",
      "model_name": "HBoxModel",
      "state": {
       "children": [
        "IPY_MODEL_d6e1437dd7644a758738b6e994404198",
        "IPY_MODEL_3b3e704b58d6483d92ad3374ab532fd5"
       ],
       "layout": "IPY_MODEL_ad2c603f813c4f5e9eb3d1bc60835ba2"
      }
     },
     "193c498d40084170b217b11cc3732f50": {
      "model_module": "@jupyter-widgets/controls",
      "model_module_version": "1.5.0",
      "model_name": "FloatProgressModel",
      "state": {
       "bar_style": "success",
       "description": "[0] 11/16(val  ): 100%",
       "layout": "IPY_MODEL_eec974891bac4b2395fb345dbb7edbbd",
       "max": 165,
       "style": "IPY_MODEL_e37f78a23af942488fd5ad9167234cbd",
       "value": 165
      }
     },
     "196479d419a34a7cbae0f2220a87c6d8": {
      "model_module": "@jupyter-widgets/controls",
      "model_module_version": "1.5.0",
      "model_name": "HTMLModel",
      "state": {
       "layout": "IPY_MODEL_1b9236217b244a88a4403d83c04d0529",
       "style": "IPY_MODEL_4c8f3ff9a5be40c4842591311140f0bb",
       "value": " 165/165 [01:32&lt;00:00,  1.79it/s]"
      }
     },
     "1968a2a6b62448dea6a9328bda68315f": {
      "model_module": "@jupyter-widgets/base",
      "model_module_version": "1.2.0",
      "model_name": "LayoutModel",
      "state": {}
     },
     "196d1e35298d41039a015a6e666c746d": {
      "model_module": "@jupyter-widgets/controls",
      "model_module_version": "1.5.0",
      "model_name": "DescriptionStyleModel",
      "state": {
       "description_width": ""
      }
     },
     "197a587a184343a78c030b8f525ab709": {
      "model_module": "@jupyter-widgets/base",
      "model_module_version": "1.2.0",
      "model_name": "LayoutModel",
      "state": {}
     },
     "1985e60ece984142807d186082da2aa3": {
      "model_module": "@jupyter-widgets/base",
      "model_module_version": "1.2.0",
      "model_name": "LayoutModel",
      "state": {}
     },
     "199b280d1a794d1898b93e3e311ee1a0": {
      "model_module": "@jupyter-widgets/base",
      "model_module_version": "1.2.0",
      "model_name": "LayoutModel",
      "state": {}
     },
     "199c5ac26714492da6f7852453899d97": {
      "model_module": "@jupyter-widgets/controls",
      "model_module_version": "1.5.0",
      "model_name": "HBoxModel",
      "state": {
       "children": [
        "IPY_MODEL_6fde8e972b314a5ab91d6f2843a9d031",
        "IPY_MODEL_4df58c14e41941e7a290b30cc5638453"
       ],
       "layout": "IPY_MODEL_7ae9d988b45842eaa20aaef9f8cc5a3b"
      }
     },
     "1a153be7723f48eea9c93dbc38f23452": {
      "model_module": "@jupyter-widgets/controls",
      "model_module_version": "1.5.0",
      "model_name": "HBoxModel",
      "state": {
       "children": [
        "IPY_MODEL_dfb81104b3ce4c2f8b7b756e4e5335f3",
        "IPY_MODEL_8f26015f154c4971b63214047adc6b0c"
       ],
       "layout": "IPY_MODEL_76230118c7b642159e6a0357e8d19e9b"
      }
     },
     "1a205886f67f472b94bc2a21280ca074": {
      "model_module": "@jupyter-widgets/controls",
      "model_module_version": "1.5.0",
      "model_name": "DescriptionStyleModel",
      "state": {
       "description_width": ""
      }
     },
     "1a281764cc5546adac8414f434c0a771": {
      "model_module": "@jupyter-widgets/controls",
      "model_module_version": "1.5.0",
      "model_name": "DescriptionStyleModel",
      "state": {
       "description_width": ""
      }
     },
     "1a2e7b95216746d8b835f99d20c93ef7": {
      "model_module": "@jupyter-widgets/controls",
      "model_module_version": "1.5.0",
      "model_name": "FloatProgressModel",
      "state": {
       "bar_style": "success",
       "description": "[2] 1/2(train): 100%",
       "layout": "IPY_MODEL_7d5115061e8e4f2097fc0e444e221136",
       "max": 3,
       "style": "IPY_MODEL_e756b6e5c9184ca6a12680aca6a2d460",
       "value": 3
      }
     },
     "1a32fb0e30db4c69a8c78bf2a28c2ebd": {
      "model_module": "@jupyter-widgets/controls",
      "model_module_version": "1.5.0",
      "model_name": "FloatProgressModel",
      "state": {
       "bar_style": "success",
       "description": "[3] 2/2(train): 100%",
       "layout": "IPY_MODEL_7e56f52696344e568885568553d8b8b5",
       "max": 3,
       "style": "IPY_MODEL_2dc6fe5c426f41e5bea62631b03a0e8b",
       "value": 3
      }
     },
     "1a378b548c734b1dba2d940092740310": {
      "model_module": "@jupyter-widgets/controls",
      "model_module_version": "1.5.0",
      "model_name": "DescriptionStyleModel",
      "state": {
       "description_width": ""
      }
     },
     "1a4a461b83da484fa90fd7ff7c019005": {
      "model_module": "@jupyter-widgets/base",
      "model_module_version": "1.2.0",
      "model_name": "LayoutModel",
      "state": {}
     },
     "1a584677088844d1b54756fc58dbbacc": {
      "model_module": "@jupyter-widgets/base",
      "model_module_version": "1.2.0",
      "model_name": "LayoutModel",
      "state": {}
     },
     "1a644d84552649be9bab27b02f56d407": {
      "model_module": "@jupyter-widgets/controls",
      "model_module_version": "1.5.0",
      "model_name": "DescriptionStyleModel",
      "state": {
       "description_width": ""
      }
     },
     "1a7237f168e142ab8e0de0859b072f2b": {
      "model_module": "@jupyter-widgets/controls",
      "model_module_version": "1.5.0",
      "model_name": "HTMLModel",
      "state": {
       "layout": "IPY_MODEL_caa3a4bf2ce74a909ed94597ce3c0bff",
       "style": "IPY_MODEL_d734187ff14b45218ace8f0923637d87",
       "value": " 165/165 [2:53:58&lt;00:00, 63.26s/it]"
      }
     },
     "1ae08d90a622423cb95e0377aafcf0fa": {
      "model_module": "@jupyter-widgets/controls",
      "model_module_version": "1.5.0",
      "model_name": "HBoxModel",
      "state": {
       "children": [
        "IPY_MODEL_7f5dcec85cf442e692cfb6090fc7ef74",
        "IPY_MODEL_85061a3cc1bb4c5ca494ce2aa61d18e8"
       ],
       "layout": "IPY_MODEL_1178cedbf51b44a5830da76589309e1f"
      }
     },
     "1ae564c7eb8140ada2c6aa76fbd4c334": {
      "model_module": "@jupyter-widgets/base",
      "model_module_version": "1.2.0",
      "model_name": "LayoutModel",
      "state": {}
     },
     "1ae664b513bd4bfc98556ae69e92abb9": {
      "model_module": "@jupyter-widgets/controls",
      "model_module_version": "1.5.0",
      "model_name": "HBoxModel",
      "state": {
       "children": [
        "IPY_MODEL_573ec5a2fe8942ca9a09545983247e08",
        "IPY_MODEL_8721ec488ccb4f438f62569d7ccd0e10"
       ],
       "layout": "IPY_MODEL_0f133569f07c4c40a49d21d2e65bcbcc"
      }
     },
     "1b120e05297e40d6b0f7815bf7156864": {
      "model_module": "@jupyter-widgets/base",
      "model_module_version": "1.2.0",
      "model_name": "LayoutModel",
      "state": {}
     },
     "1b1267bde9614eb69e21cdb71a7b4543": {
      "model_module": "@jupyter-widgets/controls",
      "model_module_version": "1.5.0",
      "model_name": "ProgressStyleModel",
      "state": {
       "description_width": "initial"
      }
     },
     "1b21e584b1fc459fa224a9b3922fce5c": {
      "model_module": "@jupyter-widgets/base",
      "model_module_version": "1.2.0",
      "model_name": "LayoutModel",
      "state": {}
     },
     "1b3ff726cc0b459294d72714e64c4d11": {
      "model_module": "@jupyter-widgets/controls",
      "model_module_version": "1.5.0",
      "model_name": "HTMLModel",
      "state": {
       "layout": "IPY_MODEL_4f365718adcd40b69e2a9bb58d440950",
       "style": "IPY_MODEL_59fc7cad7b1942d0a3451c71a5d2e305",
       "value": " 3/3 [00:07&lt;00:00,  2.55s/it]"
      }
     },
     "1b438027b3ac43c68cd305f14e9b7f4c": {
      "model_module": "@jupyter-widgets/controls",
      "model_module_version": "1.5.0",
      "model_name": "HBoxModel",
      "state": {
       "children": [
        "IPY_MODEL_effbdef35d3a41d29700d1b2c96be6a0",
        "IPY_MODEL_7e857ff5d74946ada3797855ff734bfc"
       ],
       "layout": "IPY_MODEL_4d278dc9dac948848c77386278f141e5"
      }
     },
     "1b80b59b0c4147fe8edca43559858dae": {
      "model_module": "@jupyter-widgets/controls",
      "model_module_version": "1.5.0",
      "model_name": "HTMLModel",
      "state": {
       "layout": "IPY_MODEL_4fe23dd4fceb4075a2ef2312fe7e4caf",
       "style": "IPY_MODEL_d9de50620d7648fbae887ac661b5da20",
       "value": " 493/493 [23:49&lt;00:00,  2.90s/it]"
      }
     },
     "1b8f80fc91144291ba30d8c99469f92e": {
      "model_module": "@jupyter-widgets/controls",
      "model_module_version": "1.5.0",
      "model_name": "ProgressStyleModel",
      "state": {
       "description_width": "initial"
      }
     },
     "1b9236217b244a88a4403d83c04d0529": {
      "model_module": "@jupyter-widgets/base",
      "model_module_version": "1.2.0",
      "model_name": "LayoutModel",
      "state": {}
     },
     "1b96eaf2674849e58f5fe41acb7fd954": {
      "model_module": "@jupyter-widgets/base",
      "model_module_version": "1.2.0",
      "model_name": "LayoutModel",
      "state": {}
     },
     "1bbda7082abf44b5b3152761ac2ec430": {
      "model_module": "@jupyter-widgets/controls",
      "model_module_version": "1.5.0",
      "model_name": "HTMLModel",
      "state": {
       "layout": "IPY_MODEL_6917f9d08c7f4d29a4a63a1918fa8865",
       "style": "IPY_MODEL_539b8bf42f1a4ab4a070a7490201676b",
       "value": " 493/493 [22:17&lt;00:00,  2.71s/it]"
      }
     },
     "1bca3e8f34a4494ba566369aed02686a": {
      "model_module": "@jupyter-widgets/base",
      "model_module_version": "1.2.0",
      "model_name": "LayoutModel",
      "state": {}
     },
     "1be701a3337f4b7d890d43adbdd657a5": {
      "model_module": "@jupyter-widgets/base",
      "model_module_version": "1.2.0",
      "model_name": "LayoutModel",
      "state": {}
     },
     "1c3afb95f5744d3c826d6b991cb21c70": {
      "model_module": "@jupyter-widgets/base",
      "model_module_version": "1.2.0",
      "model_name": "LayoutModel",
      "state": {}
     },
     "1c79619a064a4d94b1d7d87ab0aee3a3": {
      "model_module": "@jupyter-widgets/base",
      "model_module_version": "1.2.0",
      "model_name": "LayoutModel",
      "state": {}
     },
     "1ca94eac49b54b3a95a13a3139cce67b": {
      "model_module": "@jupyter-widgets/controls",
      "model_module_version": "1.5.0",
      "model_name": "ProgressStyleModel",
      "state": {
       "description_width": "initial"
      }
     },
     "1cd22d44ec054970953b0c6989f5607b": {
      "model_module": "@jupyter-widgets/base",
      "model_module_version": "1.2.0",
      "model_name": "LayoutModel",
      "state": {}
     },
     "1cd3b8f5b53e4af08c3c22bd7956474f": {
      "model_module": "@jupyter-widgets/base",
      "model_module_version": "1.2.0",
      "model_name": "LayoutModel",
      "state": {}
     },
     "1cdc24cee8fd4dd9b8f78648fcf67b6e": {
      "model_module": "@jupyter-widgets/controls",
      "model_module_version": "1.5.0",
      "model_name": "FloatProgressModel",
      "state": {
       "bar_style": "success",
       "description": "[1] 7/15(train): 100%",
       "layout": "IPY_MODEL_e2c6549fe4184381ac4c9ed2b6176ea3",
       "max": 3,
       "style": "IPY_MODEL_623f842505eb48d4a37db644fb1558fd",
       "value": 3
      }
     },
     "1cf0fc5c2c3c4a158e9db132493b6421": {
      "model_module": "@jupyter-widgets/controls",
      "model_module_version": "1.5.0",
      "model_name": "ProgressStyleModel",
      "state": {
       "description_width": "initial"
      }
     },
     "1d16467c35c54b56bf68188c3149ed14": {
      "model_module": "@jupyter-widgets/controls",
      "model_module_version": "1.5.0",
      "model_name": "HTMLModel",
      "state": {
       "layout": "IPY_MODEL_4d69aabf34f740b7922d14cd3c6088bf",
       "style": "IPY_MODEL_293d25c5d5014ad4ad37c23965ff2f99",
       "value": " 1/1 [00:00&lt;00:00,  1.17it/s]"
      }
     },
     "1d313722f2cf4efd99fd7e806189cfdc": {
      "model_module": "@jupyter-widgets/base",
      "model_module_version": "1.2.0",
      "model_name": "LayoutModel",
      "state": {}
     },
     "1d31c69b43b1433e99c67be6d1d9bd37": {
      "model_module": "@jupyter-widgets/base",
      "model_module_version": "1.2.0",
      "model_name": "LayoutModel",
      "state": {}
     },
     "1d32b4955d10456b9204c4917e3aafc7": {
      "model_module": "@jupyter-widgets/controls",
      "model_module_version": "1.5.0",
      "model_name": "HBoxModel",
      "state": {
       "children": [
        "IPY_MODEL_4b86e337535b4f5987ac94143736b5d5",
        "IPY_MODEL_072627fd3c1443deb975e2fd4be28918"
       ],
       "layout": "IPY_MODEL_55d80034cb5f48cb9b714d4e33ce9c27"
      }
     },
     "1d3797557da24725b61eb1251207e7f6": {
      "model_module": "@jupyter-widgets/base",
      "model_module_version": "1.2.0",
      "model_name": "LayoutModel",
      "state": {}
     },
     "1d620a81c3424f3fb9b61a1550c89610": {
      "model_module": "@jupyter-widgets/base",
      "model_module_version": "1.2.0",
      "model_name": "LayoutModel",
      "state": {}
     },
     "1d69a2bf8bd3441faa75bc4e7ddbfd6e": {
      "model_module": "@jupyter-widgets/controls",
      "model_module_version": "1.5.0",
      "model_name": "HBoxModel",
      "state": {
       "children": [
        "IPY_MODEL_aa085558d85046e59f485724f23e6ddd",
        "IPY_MODEL_ad86bc4c61c14ee9a9343b3946aea35a"
       ],
       "layout": "IPY_MODEL_6384c56d787443d48f82a84383af6d04"
      }
     },
     "1d860b93e18f40639c4fcd49f8922bec": {
      "model_module": "@jupyter-widgets/controls",
      "model_module_version": "1.5.0",
      "model_name": "HBoxModel",
      "state": {
       "children": [
        "IPY_MODEL_52f1d732ef454a5eaa509f654b1b10cb",
        "IPY_MODEL_099a6e35f6e64c57be4c324e964d8c9b"
       ],
       "layout": "IPY_MODEL_d9fa4d63a14e470d85934fa19537519e"
      }
     },
     "1d8b6d22faac426db6c11c28d816472b": {
      "model_module": "@jupyter-widgets/base",
      "model_module_version": "1.2.0",
      "model_name": "LayoutModel",
      "state": {}
     },
     "1d8fb6bbb6d24e48bd04d29947d845eb": {
      "model_module": "@jupyter-widgets/base",
      "model_module_version": "1.2.0",
      "model_name": "LayoutModel",
      "state": {}
     },
     "1d9aad0a68c04670aaf8e26e3afb510e": {
      "model_module": "@jupyter-widgets/controls",
      "model_module_version": "1.5.0",
      "model_name": "DescriptionStyleModel",
      "state": {
       "description_width": ""
      }
     },
     "1db2f55dde444434986b254f2d8445b7": {
      "model_module": "@jupyter-widgets/base",
      "model_module_version": "1.2.0",
      "model_name": "LayoutModel",
      "state": {}
     },
     "1db9b4ed1c864c95b7bf7dd3f69599f1": {
      "model_module": "@jupyter-widgets/controls",
      "model_module_version": "1.5.0",
      "model_name": "FloatProgressModel",
      "state": {
       "bar_style": "success",
       "description": "[3] 5/16(train): 100%",
       "layout": "IPY_MODEL_5f73047ecefa4687b7b27ccf509f5876",
       "max": 493,
       "style": "IPY_MODEL_3aace241c85443fab47533a465ebc387",
       "value": 493
      }
     },
     "1dc18b37478849528d8ad17904638f3d": {
      "model_module": "@jupyter-widgets/controls",
      "model_module_version": "1.5.0",
      "model_name": "HBoxModel",
      "state": {
       "children": [
        "IPY_MODEL_de717636f4ac4331a7564b67dc5445ee",
        "IPY_MODEL_c0de38ccd8bb4a788e9c97cd72004c91"
       ],
       "layout": "IPY_MODEL_3dd377ccd30c41a280523c06c5817966"
      }
     },
     "1dea214818034f108439314f1412e7e5": {
      "model_module": "@jupyter-widgets/base",
      "model_module_version": "1.2.0",
      "model_name": "LayoutModel",
      "state": {}
     },
     "1df860ddbc99449caf266c3cb1478887": {
      "model_module": "@jupyter-widgets/controls",
      "model_module_version": "1.5.0",
      "model_name": "HTMLModel",
      "state": {
       "layout": "IPY_MODEL_2be277196d7449ca9d1a19d26eee07d2",
       "style": "IPY_MODEL_27e5bd1f87b74acf888bc9f71f743087",
       "value": " 493/493 [22:19&lt;00:00,  2.72s/it]"
      }
     },
     "1e1f02f299c84da2800354e80de102ce": {
      "model_module": "@jupyter-widgets/controls",
      "model_module_version": "1.5.0",
      "model_name": "ProgressStyleModel",
      "state": {
       "description_width": "initial"
      }
     },
     "1e3833fe11134dd4b06c91cf026e968f": {
      "model_module": "@jupyter-widgets/controls",
      "model_module_version": "1.5.0",
      "model_name": "HTMLModel",
      "state": {
       "layout": "IPY_MODEL_7769048d7b514587ab345c2b7d8e9358",
       "style": "IPY_MODEL_fc315f4a3e1140ebb7440fe2402b7d78",
       "value": " 165/165 [01:33&lt;00:00,  1.76it/s]"
      }
     },
     "1e4bc264c5474ddaa695d589fbcee6eb": {
      "model_module": "@jupyter-widgets/controls",
      "model_module_version": "1.5.0",
      "model_name": "ProgressStyleModel",
      "state": {
       "description_width": "initial"
      }
     },
     "1e503479f2d740e2be1808d6b2f3a803": {
      "model_module": "@jupyter-widgets/controls",
      "model_module_version": "1.5.0",
      "model_name": "ProgressStyleModel",
      "state": {
       "description_width": "initial"
      }
     },
     "1e92dbac16de4a6ebc4b73419cd34b35": {
      "model_module": "@jupyter-widgets/controls",
      "model_module_version": "1.5.0",
      "model_name": "HTMLModel",
      "state": {
       "layout": "IPY_MODEL_2e5e472842d64224b993d858afff65b2",
       "style": "IPY_MODEL_a5d14a6891d4484c9a9a623a79de6cba",
       "value": " 1/1 [00:00&lt;00:00,  1.51it/s]"
      }
     },
     "1ecd87b9782a427f9ac27153fc05b52c": {
      "model_module": "@jupyter-widgets/controls",
      "model_module_version": "1.5.0",
      "model_name": "FloatProgressModel",
      "state": {
       "bar_style": "success",
       "description": "[1] 14/16(val  ): 100%",
       "layout": "IPY_MODEL_e4c8d514a7804489911ab43c8871552a",
       "max": 165,
       "style": "IPY_MODEL_edc6b45c2be240e9a8252ffc7da11011",
       "value": 165
      }
     },
     "1ef1aa67aec14f15bc40a865db98f57c": {
      "model_module": "@jupyter-widgets/base",
      "model_module_version": "1.2.0",
      "model_name": "LayoutModel",
      "state": {}
     },
     "1f1e2577950e4a13b72eb459741fe4e9": {
      "model_module": "@jupyter-widgets/controls",
      "model_module_version": "1.5.0",
      "model_name": "HTMLModel",
      "state": {
       "layout": "IPY_MODEL_6e51f9500b7849e18132b3f23666132c",
       "style": "IPY_MODEL_fe7eb0511f15479bac09f78779ceb784",
       "value": " 493/493 [18:58&lt;00:00,  2.31s/it]"
      }
     },
     "1f3fc874f6f24e97826bec657750e186": {
      "model_module": "@jupyter-widgets/controls",
      "model_module_version": "1.5.0",
      "model_name": "ProgressStyleModel",
      "state": {
       "description_width": "initial"
      }
     },
     "1f51a625f59a4da4a74fb54e89eb29cc": {
      "model_module": "@jupyter-widgets/controls",
      "model_module_version": "1.5.0",
      "model_name": "ProgressStyleModel",
      "state": {
       "description_width": "initial"
      }
     },
     "1f56be568f534afdb9d0c8c00ede8f92": {
      "model_module": "@jupyter-widgets/base",
      "model_module_version": "1.2.0",
      "model_name": "LayoutModel",
      "state": {}
     },
     "1f77b476df084cca9dc1f459f2ea8082": {
      "model_module": "@jupyter-widgets/base",
      "model_module_version": "1.2.0",
      "model_name": "LayoutModel",
      "state": {}
     },
     "1faf5ca543554068863653444a9000ad": {
      "model_module": "@jupyter-widgets/base",
      "model_module_version": "1.2.0",
      "model_name": "LayoutModel",
      "state": {}
     },
     "1fc0596a4036494a8fd10094af7e2b18": {
      "model_module": "@jupyter-widgets/controls",
      "model_module_version": "1.5.0",
      "model_name": "FloatProgressModel",
      "state": {
       "bar_style": "success",
       "description": "[3] 2/15(val  ): 100%",
       "layout": "IPY_MODEL_7740d11ba5444ddebe7b896f08e68bb7",
       "max": 165,
       "style": "IPY_MODEL_883bb9e1ca9f40dcab6f1e41de73df32",
       "value": 165
      }
     },
     "1fc4f7b617734e578ec3b764114ee6e6": {
      "model_module": "@jupyter-widgets/base",
      "model_module_version": "1.2.0",
      "model_name": "LayoutModel",
      "state": {}
     },
     "1fc801e2ebff4f549bdf665aad7a45c6": {
      "model_module": "@jupyter-widgets/base",
      "model_module_version": "1.2.0",
      "model_name": "LayoutModel",
      "state": {}
     },
     "1fdf49a56fdc4a89bf016fc6d273156c": {
      "model_module": "@jupyter-widgets/controls",
      "model_module_version": "1.5.0",
      "model_name": "FloatProgressModel",
      "state": {
       "bar_style": "success",
       "description": "[1] 1/2(val  ): 100%",
       "layout": "IPY_MODEL_e4aaa71b4a914dabaf8b5b7c31177e5f",
       "max": 1,
       "style": "IPY_MODEL_f53c8d27f80e4ce9acd1b7b9f9a6ba6e",
       "value": 1
      }
     },
     "1fe1ac47e3f14efa8814f0ff48476fb6": {
      "model_module": "@jupyter-widgets/base",
      "model_module_version": "1.2.0",
      "model_name": "LayoutModel",
      "state": {}
     },
     "1fe46005cc024ff18fd4fdfd7f8f1cd3": {
      "model_module": "@jupyter-widgets/controls",
      "model_module_version": "1.5.0",
      "model_name": "FloatProgressModel",
      "state": {
       "bar_style": "success",
       "description": "[2] 5/16(val  ): 100%",
       "layout": "IPY_MODEL_9d63591e35be4fbcb288dda79428156b",
       "max": 165,
       "style": "IPY_MODEL_b9d2d92f0cfe400baa9641018051702e",
       "value": 165
      }
     },
     "1fefdf4615924ed6adde601b67684f10": {
      "model_module": "@jupyter-widgets/base",
      "model_module_version": "1.2.0",
      "model_name": "LayoutModel",
      "state": {}
     },
     "2004d6ae584c4efcb1efa4703b44626e": {
      "model_module": "@jupyter-widgets/base",
      "model_module_version": "1.2.0",
      "model_name": "LayoutModel",
      "state": {}
     },
     "2021b247e9554d18b00b5ec20fe17a73": {
      "model_module": "@jupyter-widgets/base",
      "model_module_version": "1.2.0",
      "model_name": "LayoutModel",
      "state": {}
     },
     "203b3325eca545aaa2c211890466b252": {
      "model_module": "@jupyter-widgets/controls",
      "model_module_version": "1.5.0",
      "model_name": "HTMLModel",
      "state": {
       "layout": "IPY_MODEL_03e0e65e5a1f4760839a00e01756aba7",
       "style": "IPY_MODEL_c544aad96e4a4826b2fe4c727cde0209",
       "value": " 3/3 [00:07&lt;00:00,  2.56s/it]"
      }
     },
     "203bab7e15d840d5bc1c4399e1985290": {
      "model_module": "@jupyter-widgets/base",
      "model_module_version": "1.2.0",
      "model_name": "LayoutModel",
      "state": {}
     },
     "203c654e564c4f9bac153d19d6aba42d": {
      "model_module": "@jupyter-widgets/controls",
      "model_module_version": "1.5.0",
      "model_name": "DescriptionStyleModel",
      "state": {
       "description_width": ""
      }
     },
     "2040eb62077e4f6f81b62fdcf7ff1277": {
      "model_module": "@jupyter-widgets/base",
      "model_module_version": "1.2.0",
      "model_name": "LayoutModel",
      "state": {}
     },
     "205cec88870f4c4684c5216357024f3c": {
      "model_module": "@jupyter-widgets/controls",
      "model_module_version": "1.5.0",
      "model_name": "HBoxModel",
      "state": {
       "children": [
        "IPY_MODEL_77731cc056e54ccab8376520108cf9c4",
        "IPY_MODEL_d08faf6880634d3fa80382ce435f8c1c"
       ],
       "layout": "IPY_MODEL_102c0d66fc934e9ab08f07a7ac4e0a57"
      }
     },
     "20672c963ca84596bc1de199508d74a0": {
      "model_module": "@jupyter-widgets/controls",
      "model_module_version": "1.5.0",
      "model_name": "HTMLModel",
      "state": {
       "layout": "IPY_MODEL_657e0ee880584691853a370d948b69f1",
       "style": "IPY_MODEL_69dcc7e6d1da49c085a74650c6f403e6",
       "value": " 1/1 [00:00&lt;00:00,  1.23it/s]"
      }
     },
     "2071e12ed50e445eb09d72f414e45ac9": {
      "model_module": "@jupyter-widgets/base",
      "model_module_version": "1.2.0",
      "model_name": "LayoutModel",
      "state": {}
     },
     "2077cdb8a4134093aeacf5495bf9ce41": {
      "model_module": "@jupyter-widgets/base",
      "model_module_version": "1.2.0",
      "model_name": "LayoutModel",
      "state": {}
     },
     "208011aa2ac3462aa78e20b9dc5fca23": {
      "model_module": "@jupyter-widgets/controls",
      "model_module_version": "1.5.0",
      "model_name": "DescriptionStyleModel",
      "state": {
       "description_width": ""
      }
     },
     "208c87794b994c99b9afad0894716659": {
      "model_module": "@jupyter-widgets/base",
      "model_module_version": "1.2.0",
      "model_name": "LayoutModel",
      "state": {}
     },
     "20da514246cf4fd7b581489c9bde350c": {
      "model_module": "@jupyter-widgets/controls",
      "model_module_version": "1.5.0",
      "model_name": "DescriptionStyleModel",
      "state": {
       "description_width": ""
      }
     },
     "20e7c0e5cd7e4d7e8ceff92e562c7acb": {
      "model_module": "@jupyter-widgets/controls",
      "model_module_version": "1.5.0",
      "model_name": "HBoxModel",
      "state": {
       "children": [
        "IPY_MODEL_6e9ee147d36b462da72a708b1937b23b",
        "IPY_MODEL_05ea9a8d1b4b4309902196b3e0b3b80d"
       ],
       "layout": "IPY_MODEL_51696acb96014c638d56bc82dd2739e6"
      }
     },
     "20e8c16932774aadb38fc052ce0d4f08": {
      "model_module": "@jupyter-widgets/base",
      "model_module_version": "1.2.0",
      "model_name": "LayoutModel",
      "state": {}
     },
     "2102958c14204c03a4a278e80f68a57b": {
      "model_module": "@jupyter-widgets/controls",
      "model_module_version": "1.5.0",
      "model_name": "ProgressStyleModel",
      "state": {
       "description_width": "initial"
      }
     },
     "210d62501b344535bbe5ba6123c89c2e": {
      "model_module": "@jupyter-widgets/controls",
      "model_module_version": "1.5.0",
      "model_name": "HTMLModel",
      "state": {
       "layout": "IPY_MODEL_64f5bd55ca864d92b41f0c024646599b",
       "style": "IPY_MODEL_afc0a81652a6494bb5b563b62bbd8a5a",
       "value": " 493/493 [23:54&lt;00:00,  2.91s/it]"
      }
     },
     "210e5c3e3c304966bfbba4f196374e8c": {
      "model_module": "@jupyter-widgets/controls",
      "model_module_version": "1.5.0",
      "model_name": "HBoxModel",
      "state": {
       "children": [
        "IPY_MODEL_b3d1e8fe0d13405c900dfd9765a93ee0",
        "IPY_MODEL_a4ba7f26187648048e7190fa9f8bb690"
       ],
       "layout": "IPY_MODEL_1d313722f2cf4efd99fd7e806189cfdc"
      }
     },
     "217b7d7e9b744c258b5a51f598189130": {
      "model_module": "@jupyter-widgets/controls",
      "model_module_version": "1.5.0",
      "model_name": "HTMLModel",
      "state": {
       "layout": "IPY_MODEL_673223383d194384ab14d3cb89115d7e",
       "style": "IPY_MODEL_9275b9a91f2e41b983e0d326f064ea72",
       "value": " 16/493 [00:44&lt;21:34,  2.71s/it]"
      }
     },
     "2181c944ecf74b44b8ee03f5a7ff6326": {
      "model_module": "@jupyter-widgets/controls",
      "model_module_version": "1.5.0",
      "model_name": "DescriptionStyleModel",
      "state": {
       "description_width": ""
      }
     },
     "218551e2c5f24218ad20b03a3cc36e28": {
      "model_module": "@jupyter-widgets/controls",
      "model_module_version": "1.5.0",
      "model_name": "ProgressStyleModel",
      "state": {
       "description_width": "initial"
      }
     },
     "21a3d5cff0f840f68a562f37c176fe8f": {
      "model_module": "@jupyter-widgets/controls",
      "model_module_version": "1.5.0",
      "model_name": "ProgressStyleModel",
      "state": {
       "description_width": "initial"
      }
     },
     "21b82c571fd84f3cbe2107e0bfa754a8": {
      "model_module": "@jupyter-widgets/controls",
      "model_module_version": "1.5.0",
      "model_name": "HBoxModel",
      "state": {
       "children": [
        "IPY_MODEL_8adec880647f49ec9428c01fab914c4b",
        "IPY_MODEL_727bf1cdd3f44a61a72ccecc2593f265"
       ],
       "layout": "IPY_MODEL_757cfefffbab409881a5bfe427160ad7"
      }
     },
     "21c1352fac8f4ffda77d8281aa4afc36": {
      "model_module": "@jupyter-widgets/base",
      "model_module_version": "1.2.0",
      "model_name": "LayoutModel",
      "state": {}
     },
     "21c62d94800d430995f60da8fb2ca179": {
      "model_module": "@jupyter-widgets/controls",
      "model_module_version": "1.5.0",
      "model_name": "ProgressStyleModel",
      "state": {
       "description_width": "initial"
      }
     },
     "21dce1536a314fb5b7aebd74b5f4f3e8": {
      "model_module": "@jupyter-widgets/controls",
      "model_module_version": "1.5.0",
      "model_name": "FloatProgressModel",
      "state": {
       "bar_style": "success",
       "description": "[2] 1/2(train): 100%",
       "layout": "IPY_MODEL_5364ec2a84e6422b8f43cdfdc36e5f92",
       "max": 3,
       "style": "IPY_MODEL_67d52830781245e1ac54e82ed591e2d9",
       "value": 3
      }
     },
     "21e14318d4ba496cab5e6cb813feb8e1": {
      "model_module": "@jupyter-widgets/controls",
      "model_module_version": "1.5.0",
      "model_name": "ProgressStyleModel",
      "state": {
       "description_width": "initial"
      }
     },
     "21e28111db7441f78ba193fd16c5137e": {
      "model_module": "@jupyter-widgets/controls",
      "model_module_version": "1.5.0",
      "model_name": "FloatProgressModel",
      "state": {
       "bar_style": "danger",
       "description": "[0] 1/15(train):   0%",
       "layout": "IPY_MODEL_35924916ab344e46a29599bd5dc773fc",
       "max": 493,
       "style": "IPY_MODEL_563fb984feea48dc865a34c75416d1b7"
      }
     },
     "21ed4fc3d36d4d71891210ceef94db29": {
      "model_module": "@jupyter-widgets/base",
      "model_module_version": "1.2.0",
      "model_name": "LayoutModel",
      "state": {}
     },
     "21faaa73170d411c9188ae4de83ca1e4": {
      "model_module": "@jupyter-widgets/controls",
      "model_module_version": "1.5.0",
      "model_name": "HBoxModel",
      "state": {
       "children": [
        "IPY_MODEL_06b741e21b494446ba35f846bae29595",
        "IPY_MODEL_d35ac25c355b4f3b80e3aac28502970c"
       ],
       "layout": "IPY_MODEL_5ddf167fa734439d85e7dd7749ed186d"
      }
     },
     "226c3a98018e46de8155ceed690a7b48": {
      "model_module": "@jupyter-widgets/controls",
      "model_module_version": "1.5.0",
      "model_name": "DescriptionStyleModel",
      "state": {
       "description_width": ""
      }
     },
     "226c40744e3741438e9fac652adddbda": {
      "model_module": "@jupyter-widgets/controls",
      "model_module_version": "1.5.0",
      "model_name": "FloatProgressModel",
      "state": {
       "bar_style": "success",
       "description": "[1] 2/2(train): 100%",
       "layout": "IPY_MODEL_dbb0306977904ce9bb81d944ace4a4ab",
       "max": 3,
       "style": "IPY_MODEL_a8320cc08c314cea90ccbdd18f8f5d04",
       "value": 3
      }
     },
     "227464c8f257470591d4c801a81029f9": {
      "model_module": "@jupyter-widgets/controls",
      "model_module_version": "1.5.0",
      "model_name": "FloatProgressModel",
      "state": {
       "bar_style": "success",
       "description": "[3] 15/15(train): 100%",
       "layout": "IPY_MODEL_b5410bf10dbf4356ac947f3b006875a1",
       "max": 493,
       "style": "IPY_MODEL_0bc1e88500cb43529ee2d48a8883b6bc",
       "value": 493
      }
     },
     "2299fc035faa4777aa8306322030fc38": {
      "model_module": "@jupyter-widgets/controls",
      "model_module_version": "1.5.0",
      "model_name": "DescriptionStyleModel",
      "state": {
       "description_width": ""
      }
     },
     "22b797b3c2ba4d61b393e873d3d5c839": {
      "model_module": "@jupyter-widgets/base",
      "model_module_version": "1.2.0",
      "model_name": "LayoutModel",
      "state": {}
     },
     "22bf33e1233e407aac1493a50b0c8d8e": {
      "model_module": "@jupyter-widgets/controls",
      "model_module_version": "1.5.0",
      "model_name": "HBoxModel",
      "state": {
       "children": [
        "IPY_MODEL_c534ed2cd74148d0b8dc7ed65bf08c8a",
        "IPY_MODEL_b811a9b77e6b45608ce6a58b24fa470f"
       ],
       "layout": "IPY_MODEL_30f8b80f15714b6ab799983e6c41bb66"
      }
     },
     "22c0e678e8784cbc915f930ea7fd557e": {
      "model_module": "@jupyter-widgets/base",
      "model_module_version": "1.2.0",
      "model_name": "LayoutModel",
      "state": {}
     },
     "22cae115e8d14d5890ed50da566d6f66": {
      "model_module": "@jupyter-widgets/base",
      "model_module_version": "1.2.0",
      "model_name": "LayoutModel",
      "state": {}
     },
     "22d6b86ea1c844a481429f831864e10a": {
      "model_module": "@jupyter-widgets/base",
      "model_module_version": "1.2.0",
      "model_name": "LayoutModel",
      "state": {}
     },
     "22ec1dabfb924599a6728ba86c3ca7bd": {
      "model_module": "@jupyter-widgets/base",
      "model_module_version": "1.2.0",
      "model_name": "LayoutModel",
      "state": {}
     },
     "22ed21d7da82494e8e1105764ea16971": {
      "model_module": "@jupyter-widgets/base",
      "model_module_version": "1.2.0",
      "model_name": "LayoutModel",
      "state": {}
     },
     "22f671f75eb3481990c4ded44b89d4ab": {
      "model_module": "@jupyter-widgets/controls",
      "model_module_version": "1.5.0",
      "model_name": "HTMLModel",
      "state": {
       "layout": "IPY_MODEL_1985e60ece984142807d186082da2aa3",
       "style": "IPY_MODEL_7ff28395d27849d4890d82e44d787fa9",
       "value": " 165/165 [01:02&lt;00:00,  2.62it/s]"
      }
     },
     "22fdee887954495b9cae87eb0ac8e713": {
      "model_module": "@jupyter-widgets/controls",
      "model_module_version": "1.5.0",
      "model_name": "HTMLModel",
      "state": {
       "layout": "IPY_MODEL_2dd28eedbe5c4feb8616d0e1d0aa5f43",
       "style": "IPY_MODEL_91b7580a3a8c46e2afad7b2ceb789715",
       "value": " 1/1 [00:00&lt;00:00,  1.12it/s]"
      }
     },
     "230221ca059146b9a296750c0aa376e2": {
      "model_module": "@jupyter-widgets/base",
      "model_module_version": "1.2.0",
      "model_name": "LayoutModel",
      "state": {}
     },
     "231411380a504c078f4660f9169998d5": {
      "model_module": "@jupyter-widgets/base",
      "model_module_version": "1.2.0",
      "model_name": "LayoutModel",
      "state": {}
     },
     "232ffa327bf64df8b962ba4cf7f6f590": {
      "model_module": "@jupyter-widgets/controls",
      "model_module_version": "1.5.0",
      "model_name": "HBoxModel",
      "state": {
       "children": [
        "IPY_MODEL_3c22891da4694ae0b6d295967099ba88",
        "IPY_MODEL_02a1fcc4694d4fddbb3bb0dc4ecc1784"
       ],
       "layout": "IPY_MODEL_fb347460bab54420b74d8ada07e41dbd"
      }
     },
     "234db69ce9f94fc0ad6db6adbe54b240": {
      "model_module": "@jupyter-widgets/base",
      "model_module_version": "1.2.0",
      "model_name": "LayoutModel",
      "state": {}
     },
     "235613122e2747c59858d8874d8283cf": {
      "model_module": "@jupyter-widgets/controls",
      "model_module_version": "1.5.0",
      "model_name": "HBoxModel",
      "state": {
       "children": [
        "IPY_MODEL_544f654faa014d9a99ff6b836f8a56de",
        "IPY_MODEL_0de553fe939d4f229f36e4534a68e362"
       ],
       "layout": "IPY_MODEL_bde385ccdae74284ac5d0f12ed060cc8"
      }
     },
     "2369de30b9ed4f9cbf9cfe00a5dd050c": {
      "model_module": "@jupyter-widgets/controls",
      "model_module_version": "1.5.0",
      "model_name": "HBoxModel",
      "state": {
       "children": [
        "IPY_MODEL_574ea80e593a46ad8c5f8fefef26696f",
        "IPY_MODEL_3fa475f1b57d4d3b83bbd25544bd3136"
       ],
       "layout": "IPY_MODEL_4b45d780cb1c4a32965f772209db1ca0"
      }
     },
     "23873e4de0144d15aba42833e863f24d": {
      "model_module": "@jupyter-widgets/controls",
      "model_module_version": "1.5.0",
      "model_name": "ProgressStyleModel",
      "state": {
       "description_width": "initial"
      }
     },
     "23be354f0faf4ee3a222f11630ec41bc": {
      "model_module": "@jupyter-widgets/controls",
      "model_module_version": "1.5.0",
      "model_name": "DescriptionStyleModel",
      "state": {
       "description_width": ""
      }
     },
     "23dc0a7d7e384908bb78fff171c566a1": {
      "model_module": "@jupyter-widgets/controls",
      "model_module_version": "1.5.0",
      "model_name": "FloatProgressModel",
      "state": {
       "bar_style": "success",
       "description": "[2] 9/15(train): 100%",
       "layout": "IPY_MODEL_6073824b9573462db17b8a242f6a15f5",
       "max": 493,
       "style": "IPY_MODEL_c9229df96dbc4406a1781cb77fb46d0e",
       "value": 493
      }
     },
     "241ce786bd9a4480bbb18d237adfd77b": {
      "model_module": "@jupyter-widgets/controls",
      "model_module_version": "1.5.0",
      "model_name": "ProgressStyleModel",
      "state": {
       "description_width": "initial"
      }
     },
     "24212ee5a32745f2ad2ed7b8c17ad652": {
      "model_module": "@jupyter-widgets/base",
      "model_module_version": "1.2.0",
      "model_name": "LayoutModel",
      "state": {}
     },
     "24771dc60bac43e9a98a79f7da3253c6": {
      "model_module": "@jupyter-widgets/controls",
      "model_module_version": "1.5.0",
      "model_name": "HBoxModel",
      "state": {
       "children": [
        "IPY_MODEL_258f964f439f4ec6bd30b87e4d1a63a3",
        "IPY_MODEL_b6ef6f6c755f4f41aebc0c2c4c93cf8d"
       ],
       "layout": "IPY_MODEL_d3c5a22e4afc4b66999d98e2336285eb"
      }
     },
     "24782993f3934f39be1a144adec81d89": {
      "model_module": "@jupyter-widgets/controls",
      "model_module_version": "1.5.0",
      "model_name": "HBoxModel",
      "state": {
       "children": [
        "IPY_MODEL_6e57339347c145cdb08b03c483fa856f",
        "IPY_MODEL_a5f260e027e14f93bdc9ffa8b7fea7a6"
       ],
       "layout": "IPY_MODEL_7f13a297149c4f95975cc4a4733e5826"
      }
     },
     "247b9d38d210499ca5a5e0dc49267f45": {
      "model_module": "@jupyter-widgets/controls",
      "model_module_version": "1.5.0",
      "model_name": "ProgressStyleModel",
      "state": {
       "description_width": "initial"
      }
     },
     "24bb9937ee3542eebdcfc278f0dc3b49": {
      "model_module": "@jupyter-widgets/controls",
      "model_module_version": "1.5.0",
      "model_name": "FloatProgressModel",
      "state": {
       "bar_style": "success",
       "description": "[1] 1/15(val  ): 100%",
       "layout": "IPY_MODEL_3412b40eea3a4f39b3924ae782dd94b1",
       "max": 1,
       "style": "IPY_MODEL_3b503c75d9bd437899ace7d7ce5ccf7f",
       "value": 1
      }
     },
     "24beb6e4d36c4219885ec79e979c5e01": {
      "model_module": "@jupyter-widgets/controls",
      "model_module_version": "1.5.0",
      "model_name": "DescriptionStyleModel",
      "state": {
       "description_width": ""
      }
     },
     "24c9098d6ef84e77b282fdf682e34d49": {
      "model_module": "@jupyter-widgets/base",
      "model_module_version": "1.2.0",
      "model_name": "LayoutModel",
      "state": {}
     },
     "24da71274e8a4b23a14ae2f664a3013f": {
      "model_module": "@jupyter-widgets/controls",
      "model_module_version": "1.5.0",
      "model_name": "FloatProgressModel",
      "state": {
       "bar_style": "success",
       "description": "[0] 7/15(val  ): 100%",
       "layout": "IPY_MODEL_3db625b8e2494d1e95eb609a16428f7c",
       "max": 1,
       "style": "IPY_MODEL_128f2e24a2ca495f8ad53fcdc9e4e499",
       "value": 1
      }
     },
     "24e7836f52c041c9825b52ab8bbd37f7": {
      "model_module": "@jupyter-widgets/controls",
      "model_module_version": "1.5.0",
      "model_name": "HBoxModel",
      "state": {
       "children": [
        "IPY_MODEL_89ba9ae66b5048c79e4fed233ac39ea5",
        "IPY_MODEL_025e2e8a592e4948ba841adc4f324c70"
       ],
       "layout": "IPY_MODEL_56f6a749ff1a449396c1799a691f0f34"
      }
     },
     "24ee4978b0c04c949cbe577cf42fe41a": {
      "model_module": "@jupyter-widgets/controls",
      "model_module_version": "1.5.0",
      "model_name": "FloatProgressModel",
      "state": {
       "bar_style": "success",
       "description": "[3] 10/16(train): 100%",
       "layout": "IPY_MODEL_839b84e4966f4401a09701dff95365d2",
       "max": 493,
       "style": "IPY_MODEL_4a52051da369410887db04910edd620e",
       "value": 493
      }
     },
     "24f44dca233944c6945486587be380cf": {
      "model_module": "@jupyter-widgets/controls",
      "model_module_version": "1.5.0",
      "model_name": "ProgressStyleModel",
      "state": {
       "description_width": "initial"
      }
     },
     "24faab4c77a542c489868ee8d691d4fc": {
      "model_module": "@jupyter-widgets/controls",
      "model_module_version": "1.5.0",
      "model_name": "ProgressStyleModel",
      "state": {
       "description_width": "initial"
      }
     },
     "250be4ce58144dec892348d52f02d074": {
      "model_module": "@jupyter-widgets/controls",
      "model_module_version": "1.5.0",
      "model_name": "FloatProgressModel",
      "state": {
       "bar_style": "success",
       "description": "[2] 1/2(val  ): 100%",
       "layout": "IPY_MODEL_ab74da4efdcc493581ba8dd9732f8989",
       "max": 1,
       "style": "IPY_MODEL_b6504788f91e40ac977e3b3bc7f13d8e",
       "value": 1
      }
     },
     "251002c54da048a297e29f28f4e60258": {
      "model_module": "@jupyter-widgets/controls",
      "model_module_version": "1.5.0",
      "model_name": "FloatProgressModel",
      "state": {
       "bar_style": "success",
       "description": "[0] 2/2(train): 100%",
       "layout": "IPY_MODEL_4c62a610e0504069b7182fffde848006",
       "max": 3,
       "style": "IPY_MODEL_de96cd629a664e54b1b81cc806464f19",
       "value": 3
      }
     },
     "2519347888b7428f8ce15d54b88081b6": {
      "model_module": "@jupyter-widgets/controls",
      "model_module_version": "1.5.0",
      "model_name": "HBoxModel",
      "state": {
       "children": [
        "IPY_MODEL_8d34a8cb92f143a9b8e67e15c03aacee",
        "IPY_MODEL_1b80b59b0c4147fe8edca43559858dae"
       ],
       "layout": "IPY_MODEL_d4e04af46455400b9abb2d43db97ff4f"
      }
     },
     "2522252acbc04cd6be85c93d648eef54": {
      "model_module": "@jupyter-widgets/controls",
      "model_module_version": "1.5.0",
      "model_name": "HTMLModel",
      "state": {
       "layout": "IPY_MODEL_5df04e722cc249229ebcd428b5780589",
       "style": "IPY_MODEL_43ad75eb06af499ab2d4078b6160d688",
       "value": " 165/165 [01:31&lt;00:00,  1.80it/s]"
      }
     },
     "25260affc782444195439f70b3df0c1b": {
      "model_module": "@jupyter-widgets/controls",
      "model_module_version": "1.5.0",
      "model_name": "ProgressStyleModel",
      "state": {
       "description_width": "initial"
      }
     },
     "25367643a1c342c1a4f76c2452606e57": {
      "model_module": "@jupyter-widgets/controls",
      "model_module_version": "1.5.0",
      "model_name": "DescriptionStyleModel",
      "state": {
       "description_width": ""
      }
     },
     "253f3ec417e54482bfd35ae307c9b9ec": {
      "model_module": "@jupyter-widgets/base",
      "model_module_version": "1.2.0",
      "model_name": "LayoutModel",
      "state": {}
     },
     "25528e55ed974187977d2789831edd26": {
      "model_module": "@jupyter-widgets/controls",
      "model_module_version": "1.5.0",
      "model_name": "FloatProgressModel",
      "state": {
       "bar_style": "success",
       "description": "[1] 12/15(val  ): 100%",
       "layout": "IPY_MODEL_b40431961fd04519a7d21dc1926136f7",
       "max": 1,
       "style": "IPY_MODEL_78190f1e13af4060881ffca7b26c6863",
       "value": 1
      }
     },
     "258b51a3cf1f4563abf704bcff60201d": {
      "model_module": "@jupyter-widgets/controls",
      "model_module_version": "1.5.0",
      "model_name": "DescriptionStyleModel",
      "state": {
       "description_width": ""
      }
     },
     "258f964f439f4ec6bd30b87e4d1a63a3": {
      "model_module": "@jupyter-widgets/controls",
      "model_module_version": "1.5.0",
      "model_name": "FloatProgressModel",
      "state": {
       "bar_style": "success",
       "description": "[0] 1/2(val  ): 100%",
       "layout": "IPY_MODEL_14a2b6f79b614bee80d3d4dc23328b82",
       "max": 1,
       "style": "IPY_MODEL_e58df6fdc5924887b1d686caad13ec55",
       "value": 1
      }
     },
     "25be828fe8114ff287b2640245ded530": {
      "model_module": "@jupyter-widgets/controls",
      "model_module_version": "1.5.0",
      "model_name": "HTMLModel",
      "state": {
       "layout": "IPY_MODEL_1ef1aa67aec14f15bc40a865db98f57c",
       "style": "IPY_MODEL_88eb4fec23b34b6b8ac2c1bb02220fa2",
       "value": " 493/493 [1:47:50&lt;00:00, 13.12s/it]"
      }
     },
     "25ccc2c28ccd45158ad5e4665b25d9f6": {
      "model_module": "@jupyter-widgets/base",
      "model_module_version": "1.2.0",
      "model_name": "LayoutModel",
      "state": {}
     },
     "25f9a869f8194c1a99c029c31858fe69": {
      "model_module": "@jupyter-widgets/base",
      "model_module_version": "1.2.0",
      "model_name": "LayoutModel",
      "state": {}
     },
     "25ff2966110243f9aec6378619fa2905": {
      "model_module": "@jupyter-widgets/base",
      "model_module_version": "1.2.0",
      "model_name": "LayoutModel",
      "state": {}
     },
     "2628676b8299423f9f3c341c0755440a": {
      "model_module": "@jupyter-widgets/controls",
      "model_module_version": "1.5.0",
      "model_name": "DescriptionStyleModel",
      "state": {
       "description_width": ""
      }
     },
     "26455a6cc2b74838ac2e73bb8146c5ed": {
      "model_module": "@jupyter-widgets/controls",
      "model_module_version": "1.5.0",
      "model_name": "DescriptionStyleModel",
      "state": {
       "description_width": ""
      }
     },
     "265d6cc240a343cd8373e780f50fae15": {
      "model_module": "@jupyter-widgets/base",
      "model_module_version": "1.2.0",
      "model_name": "LayoutModel",
      "state": {}
     },
     "2692508a0ae14fd1b77cccb6735b355b": {
      "model_module": "@jupyter-widgets/base",
      "model_module_version": "1.2.0",
      "model_name": "LayoutModel",
      "state": {}
     },
     "2696af95d3014a2ca2606b570a9fa2a2": {
      "model_module": "@jupyter-widgets/controls",
      "model_module_version": "1.5.0",
      "model_name": "HTMLModel",
      "state": {
       "layout": "IPY_MODEL_d4633651de074dd7b4c929c510f751d8",
       "style": "IPY_MODEL_3ea1b7b40dea49bbae526ea56fea55e7",
       "value": " 493/493 [17:46&lt;00:00,  2.16s/it]"
      }
     },
     "269a8736753c44eea04878b226a5568d": {
      "model_module": "@jupyter-widgets/controls",
      "model_module_version": "1.5.0",
      "model_name": "FloatProgressModel",
      "state": {
       "bar_style": "success",
       "description": "[2] 1/2(val  ): 100%",
       "layout": "IPY_MODEL_40ae96044fc04455bd743faf7159714c",
       "max": 1,
       "style": "IPY_MODEL_042b00b168d94c3592a35f9d94326b51",
       "value": 1
      }
     },
     "269aff19b0d3443ea2ae256ddd79cdd5": {
      "model_module": "@jupyter-widgets/controls",
      "model_module_version": "1.5.0",
      "model_name": "ProgressStyleModel",
      "state": {
       "description_width": "initial"
      }
     },
     "26a88278e0104460a3fadc7e34c5a695": {
      "model_module": "@jupyter-widgets/controls",
      "model_module_version": "1.5.0",
      "model_name": "DescriptionStyleModel",
      "state": {
       "description_width": ""
      }
     },
     "26b94d80e78e4a69864fafcea6ec3cba": {
      "model_module": "@jupyter-widgets/controls",
      "model_module_version": "1.5.0",
      "model_name": "HBoxModel",
      "state": {
       "children": [
        "IPY_MODEL_1a32fb0e30db4c69a8c78bf2a28c2ebd",
        "IPY_MODEL_b894dd9d02c6439e8dfc2c770597f11a"
       ],
       "layout": "IPY_MODEL_d4004c2cccf74f6488c9e39c288c92dc"
      }
     },
     "26c5fdf5771b40e0b410607a7922f7a7": {
      "model_module": "@jupyter-widgets/base",
      "model_module_version": "1.2.0",
      "model_name": "LayoutModel",
      "state": {}
     },
     "26e5112d0b17418ea4bfa102c7e10997": {
      "model_module": "@jupyter-widgets/controls",
      "model_module_version": "1.5.0",
      "model_name": "ProgressStyleModel",
      "state": {
       "description_width": "initial"
      }
     },
     "26fe0686238144c4a52f182d1c980cb2": {
      "model_module": "@jupyter-widgets/controls",
      "model_module_version": "1.5.0",
      "model_name": "HTMLModel",
      "state": {
       "layout": "IPY_MODEL_d4e37a7fe5b041a8bc4998208eb3ad83",
       "style": "IPY_MODEL_3d2a234c7cfc41068081fd91cb56edd0",
       "value": " 3/3 [00:51&lt;00:00, 17.13s/it]"
      }
     },
     "270605d8156547f996b0930f49991d67": {
      "model_module": "@jupyter-widgets/base",
      "model_module_version": "1.2.0",
      "model_name": "LayoutModel",
      "state": {}
     },
     "27102f0cacc64b1199a8ded66b80fa9b": {
      "model_module": "@jupyter-widgets/controls",
      "model_module_version": "1.5.0",
      "model_name": "DescriptionStyleModel",
      "state": {
       "description_width": ""
      }
     },
     "274dda66108b45e99dfb471667bd0d96": {
      "model_module": "@jupyter-widgets/base",
      "model_module_version": "1.2.0",
      "model_name": "LayoutModel",
      "state": {}
     },
     "2757585afe184c99ac6f97349984d38a": {
      "model_module": "@jupyter-widgets/base",
      "model_module_version": "1.2.0",
      "model_name": "LayoutModel",
      "state": {}
     },
     "276f0c3adcae43e283786316d0edc06d": {
      "model_module": "@jupyter-widgets/base",
      "model_module_version": "1.2.0",
      "model_name": "LayoutModel",
      "state": {}
     },
     "27737c4ed18248818eb1f5de6e0e6b28": {
      "model_module": "@jupyter-widgets/base",
      "model_module_version": "1.2.0",
      "model_name": "LayoutModel",
      "state": {}
     },
     "277b4dff6c8046dfa224c03e43d38b08": {
      "model_module": "@jupyter-widgets/base",
      "model_module_version": "1.2.0",
      "model_name": "LayoutModel",
      "state": {}
     },
     "2789bc4eab4648f7a76113f5a12f9f33": {
      "model_module": "@jupyter-widgets/controls",
      "model_module_version": "1.5.0",
      "model_name": "ProgressStyleModel",
      "state": {
       "description_width": "initial"
      }
     },
     "278e3b5f802e4bb68ea769d7f200ce26": {
      "model_module": "@jupyter-widgets/controls",
      "model_module_version": "1.5.0",
      "model_name": "HTMLModel",
      "state": {
       "layout": "IPY_MODEL_61730af7b8494a5a87b50c7e5094fdb2",
       "style": "IPY_MODEL_9857d9a924174f2287abfbcdf99f324f",
       "value": " 165/165 [01:33&lt;00:00,  1.76it/s]"
      }
     },
     "2798aceb7add4e95ab202099aee62eb1": {
      "model_module": "@jupyter-widgets/base",
      "model_module_version": "1.2.0",
      "model_name": "LayoutModel",
      "state": {}
     },
     "27a45107780f4a16ac23226ea2757e91": {
      "model_module": "@jupyter-widgets/controls",
      "model_module_version": "1.5.0",
      "model_name": "HTMLModel",
      "state": {
       "layout": "IPY_MODEL_f1a82bbb84d44bb0901ff3e25f2a8e1c",
       "style": "IPY_MODEL_8ef3e80c8b144af7838c17962ded7f13",
       "value": " 3/3 [00:06&lt;00:00,  2.13s/it]"
      }
     },
     "27cbcb30554a43d2bdec02b7391f59f6": {
      "model_module": "@jupyter-widgets/controls",
      "model_module_version": "1.5.0",
      "model_name": "DescriptionStyleModel",
      "state": {
       "description_width": ""
      }
     },
     "27d3bf535a6641219d1a88160aa834b8": {
      "model_module": "@jupyter-widgets/controls",
      "model_module_version": "1.5.0",
      "model_name": "FloatProgressModel",
      "state": {
       "bar_style": "success",
       "description": "[1] 4/16(val  ): 100%",
       "layout": "IPY_MODEL_364f0c19953b499ba042d2639ea6ad35",
       "max": 165,
       "style": "IPY_MODEL_fe61468dd9f74ba8911006e23efa4e90",
       "value": 165
      }
     },
     "27e5bd1f87b74acf888bc9f71f743087": {
      "model_module": "@jupyter-widgets/controls",
      "model_module_version": "1.5.0",
      "model_name": "DescriptionStyleModel",
      "state": {
       "description_width": ""
      }
     },
     "27e8456ed10542caabd0b32ab2394144": {
      "model_module": "@jupyter-widgets/controls",
      "model_module_version": "1.5.0",
      "model_name": "ProgressStyleModel",
      "state": {
       "description_width": "initial"
      }
     },
     "2804165df30246659ab164dcf24fabe8": {
      "model_module": "@jupyter-widgets/base",
      "model_module_version": "1.2.0",
      "model_name": "LayoutModel",
      "state": {}
     },
     "280721bd87c74fe38061bce85930a8de": {
      "model_module": "@jupyter-widgets/controls",
      "model_module_version": "1.5.0",
      "model_name": "ProgressStyleModel",
      "state": {
       "description_width": "initial"
      }
     },
     "2809cce8badc4e56b2330fcd0df9ab5f": {
      "model_module": "@jupyter-widgets/controls",
      "model_module_version": "1.5.0",
      "model_name": "HBoxModel",
      "state": {
       "children": [
        "IPY_MODEL_785bf4ba954640b285b7dd10304b17bb",
        "IPY_MODEL_afa1a052a3234c11b66969f2c91e3cad"
       ],
       "layout": "IPY_MODEL_eca400721d1f4bda892ce50d23515f1c"
      }
     },
     "2844ab4fdef84c9d9f6ed51e08d51327": {
      "model_module": "@jupyter-widgets/base",
      "model_module_version": "1.2.0",
      "model_name": "LayoutModel",
      "state": {}
     },
     "286a9e6bc4654c0a810d455127626df6": {
      "model_module": "@jupyter-widgets/base",
      "model_module_version": "1.2.0",
      "model_name": "LayoutModel",
      "state": {}
     },
     "287f62a1817b49bd9077c708cb2c46b5": {
      "model_module": "@jupyter-widgets/controls",
      "model_module_version": "1.5.0",
      "model_name": "ProgressStyleModel",
      "state": {
       "description_width": "initial"
      }
     },
     "28b5207390404d6aae3f0ad6ce7555c1": {
      "model_module": "@jupyter-widgets/controls",
      "model_module_version": "1.5.0",
      "model_name": "HTMLModel",
      "state": {
       "layout": "IPY_MODEL_b6bae7347ecd46fabede905ffb41e413",
       "style": "IPY_MODEL_f393473a11fb4aa983a01ba4e3e0f089",
       "value": " 0/493 [00:00&lt;?, ?it/s]"
      }
     },
     "28f4701dbeb040abb375378c0209b7d6": {
      "model_module": "@jupyter-widgets/base",
      "model_module_version": "1.2.0",
      "model_name": "LayoutModel",
      "state": {}
     },
     "2926dabfaddd4531b9db888638c90de1": {
      "model_module": "@jupyter-widgets/controls",
      "model_module_version": "1.5.0",
      "model_name": "FloatProgressModel",
      "state": {
       "bar_style": "success",
       "description": "[3] 8/15(val  ): 100%",
       "layout": "IPY_MODEL_73eabb60cfcd419e931cb79459b3b0e6",
       "max": 165,
       "style": "IPY_MODEL_69a4878e6a7b4a55b4916d0e30146bfe",
       "value": 165
      }
     },
     "293d25c5d5014ad4ad37c23965ff2f99": {
      "model_module": "@jupyter-widgets/controls",
      "model_module_version": "1.5.0",
      "model_name": "DescriptionStyleModel",
      "state": {
       "description_width": ""
      }
     },
     "29809aed13e94fddaecf0ce2a7019883": {
      "model_module": "@jupyter-widgets/controls",
      "model_module_version": "1.5.0",
      "model_name": "ProgressStyleModel",
      "state": {
       "description_width": "initial"
      }
     },
     "2985aa665dfc47238f08b0752984643b": {
      "model_module": "@jupyter-widgets/base",
      "model_module_version": "1.2.0",
      "model_name": "LayoutModel",
      "state": {}
     },
     "29a6e101144e46e2aab54118927c7ae5": {
      "model_module": "@jupyter-widgets/controls",
      "model_module_version": "1.5.0",
      "model_name": "DescriptionStyleModel",
      "state": {
       "description_width": ""
      }
     },
     "29ae1ac42d514a81acc17e5af98fad8f": {
      "model_module": "@jupyter-widgets/base",
      "model_module_version": "1.2.0",
      "model_name": "LayoutModel",
      "state": {}
     },
     "29b8e50ed26142968707a00735ad9327": {
      "model_module": "@jupyter-widgets/base",
      "model_module_version": "1.2.0",
      "model_name": "LayoutModel",
      "state": {}
     },
     "29c9f671d310440194aa13a535406562": {
      "model_module": "@jupyter-widgets/controls",
      "model_module_version": "1.5.0",
      "model_name": "HTMLModel",
      "state": {
       "layout": "IPY_MODEL_bc6c2c7bed9e46adbeaa93bff5d3186c",
       "style": "IPY_MODEL_0e188f29dca24608b432c331bcc7c75e",
       "value": " 493/493 [21:49&lt;00:00,  2.66s/it]"
      }
     },
     "2a3970ab840d43bb8cb94c2dddfe0bf6": {
      "model_module": "@jupyter-widgets/controls",
      "model_module_version": "1.5.0",
      "model_name": "FloatProgressModel",
      "state": {
       "bar_style": "success",
       "description": "[2] 8/16(train): 100%",
       "layout": "IPY_MODEL_be23974bf4404e169cb86819c71c7e7b",
       "max": 493,
       "style": "IPY_MODEL_ead6f71b0b05429e8ec8a21782e8fe8b",
       "value": 493
      }
     },
     "2a42768da8754459abb8fbe2048e7650": {
      "model_module": "@jupyter-widgets/controls",
      "model_module_version": "1.5.0",
      "model_name": "HTMLModel",
      "state": {
       "layout": "IPY_MODEL_e7cde669b7424bb0ad03e758ba4b24fd",
       "style": "IPY_MODEL_f855e7ae965f494ea038139c06c64a82",
       "value": " 493/493 [21:51&lt;00:00,  2.66s/it]"
      }
     },
     "2a5b6e5911074f8ba9cd24ba77c072c5": {
      "model_module": "@jupyter-widgets/controls",
      "model_module_version": "1.5.0",
      "model_name": "HBoxModel",
      "state": {
       "children": [
        "IPY_MODEL_49d09c71276644719ac4a7e761f468da",
        "IPY_MODEL_9cf7a466b2194f33824c911fca431800"
       ],
       "layout": "IPY_MODEL_cd99256d3c40467385f2be7e01fa183d"
      }
     },
     "2a65035c6aa84d4c8e7372755289f9fc": {
      "model_module": "@jupyter-widgets/base",
      "model_module_version": "1.2.0",
      "model_name": "LayoutModel",
      "state": {}
     },
     "2a8ce145a811483697ca0a9f826353b2": {
      "model_module": "@jupyter-widgets/base",
      "model_module_version": "1.2.0",
      "model_name": "LayoutModel",
      "state": {}
     },
     "2a8efcdee5fa4130bbe5b894a532d1c0": {
      "model_module": "@jupyter-widgets/controls",
      "model_module_version": "1.5.0",
      "model_name": "DescriptionStyleModel",
      "state": {
       "description_width": ""
      }
     },
     "2acbb44cf06d4158a57c29eeb80263bc": {
      "model_module": "@jupyter-widgets/controls",
      "model_module_version": "1.5.0",
      "model_name": "HTMLModel",
      "state": {
       "layout": "IPY_MODEL_a73d3c033a74423fb98e293c8c790f23",
       "style": "IPY_MODEL_a87a24fbfa7740e8bec66004f9192835",
       "value": " 493/493 [21:45&lt;00:00,  2.65s/it]"
      }
     },
     "2acdc3f7b32e45f0939a3d5ecfc5bb32": {
      "model_module": "@jupyter-widgets/base",
      "model_module_version": "1.2.0",
      "model_name": "LayoutModel",
      "state": {}
     },
     "2ae3c851dadf4032897096253cf5eafe": {
      "model_module": "@jupyter-widgets/controls",
      "model_module_version": "1.5.0",
      "model_name": "HTMLModel",
      "state": {
       "layout": "IPY_MODEL_ec823aafba0e4ab28f7159b11d2e294b",
       "style": "IPY_MODEL_684026d7f35a47f482d0da66b01ee1b6",
       "value": " 3/3 [00:07&lt;00:00,  2.49s/it]"
      }
     },
     "2af1f310ee2e499ca4505118e2611527": {
      "model_module": "@jupyter-widgets/controls",
      "model_module_version": "1.5.0",
      "model_name": "HBoxModel",
      "state": {
       "children": [
        "IPY_MODEL_055ad0aa3f9b4afb8e4aca7c46b411df",
        "IPY_MODEL_e9cfc23f175d49ba864de1bc8990cf7f"
       ],
       "layout": "IPY_MODEL_a037c3bb48064187a9a52e94c9d6db75"
      }
     },
     "2af35a5df2f34e438aa92f07f94247d4": {
      "model_module": "@jupyter-widgets/base",
      "model_module_version": "1.2.0",
      "model_name": "LayoutModel",
      "state": {}
     },
     "2b08db70ea19455a8327e289bedbbb09": {
      "model_module": "@jupyter-widgets/controls",
      "model_module_version": "1.5.0",
      "model_name": "HTMLModel",
      "state": {
       "layout": "IPY_MODEL_1166e82cfabd439c8243f1f4feb1af77",
       "style": "IPY_MODEL_2c9a0793716b4fd8a6040ce7732ff877",
       "value": " 3/3 [00:38&lt;00:00, 12.73s/it]"
      }
     },
     "2b484b69428a4bb2997026e981dfe85a": {
      "model_module": "@jupyter-widgets/controls",
      "model_module_version": "1.5.0",
      "model_name": "HTMLModel",
      "state": {
       "layout": "IPY_MODEL_625932a9791240dfa935a0fb1c01edbb",
       "style": "IPY_MODEL_d95a414a4d0b4ce6be8b398ae66a59ea",
       "value": " 493/493 [21:35&lt;00:00,  2.63s/it]"
      }
     },
     "2b538c77e3e14ecbb4adfab0ceb90a1d": {
      "model_module": "@jupyter-widgets/controls",
      "model_module_version": "1.5.0",
      "model_name": "FloatProgressModel",
      "state": {
       "bar_style": "success",
       "description": "[3] 2/2(val  ): 100%",
       "layout": "IPY_MODEL_33c29410128b462d87c602fdd4cc7345",
       "max": 1,
       "style": "IPY_MODEL_ac1e60112ea54e70bc228e5d3d1e7cd7",
       "value": 1
      }
     },
     "2b6410d9f6cb4ce5889fb5f3f6d6f957": {
      "model_module": "@jupyter-widgets/controls",
      "model_module_version": "1.5.0",
      "model_name": "HBoxModel",
      "state": {
       "children": [
        "IPY_MODEL_73e3aa9516744bdd92b770b5ff2a07ec",
        "IPY_MODEL_72cf073af7124532af33e7460d4a11ef"
       ],
       "layout": "IPY_MODEL_4c58595a84324a109dfee7aa054dc003"
      }
     },
     "2b666f688dd94707a2fa7da592e867ba": {
      "model_module": "@jupyter-widgets/controls",
      "model_module_version": "1.5.0",
      "model_name": "ProgressStyleModel",
      "state": {
       "description_width": "initial"
      }
     },
     "2b7fcc243d794f56b27a88490f8c9466": {
      "model_module": "@jupyter-widgets/controls",
      "model_module_version": "1.5.0",
      "model_name": "HTMLModel",
      "state": {
       "layout": "IPY_MODEL_d9ef13ba054e477381edf7492b5464b0",
       "style": "IPY_MODEL_7188d21e29f84397b79bc141f7aba800",
       "value": " 3/3 [00:06&lt;00:00,  2.11s/it]"
      }
     },
     "2b842f6742574074b1499591187259ba": {
      "model_module": "@jupyter-widgets/controls",
      "model_module_version": "1.5.0",
      "model_name": "DescriptionStyleModel",
      "state": {
       "description_width": ""
      }
     },
     "2bb1b8259d9c4e4c979201efdc744e28": {
      "model_module": "@jupyter-widgets/base",
      "model_module_version": "1.2.0",
      "model_name": "LayoutModel",
      "state": {}
     },
     "2be277196d7449ca9d1a19d26eee07d2": {
      "model_module": "@jupyter-widgets/base",
      "model_module_version": "1.2.0",
      "model_name": "LayoutModel",
      "state": {}
     },
     "2c0102e1aa2f4112a7d2b236cff32a70": {
      "model_module": "@jupyter-widgets/base",
      "model_module_version": "1.2.0",
      "model_name": "LayoutModel",
      "state": {}
     },
     "2c0cd6b0908a4278a5f65fb0f04a83c2": {
      "model_module": "@jupyter-widgets/controls",
      "model_module_version": "1.5.0",
      "model_name": "FloatProgressModel",
      "state": {
       "bar_style": "success",
       "description": "[3] 14/15(train): 100%",
       "layout": "IPY_MODEL_2071e12ed50e445eb09d72f414e45ac9",
       "max": 493,
       "style": "IPY_MODEL_6f6ff67a170c445a99e0685275638a9d",
       "value": 493
      }
     },
     "2c53e18b3fd44eb38cda3860d08cffef": {
      "model_module": "@jupyter-widgets/base",
      "model_module_version": "1.2.0",
      "model_name": "LayoutModel",
      "state": {}
     },
     "2c53f20b914347dd99a9b3d2031133af": {
      "model_module": "@jupyter-widgets/controls",
      "model_module_version": "1.5.0",
      "model_name": "ProgressStyleModel",
      "state": {
       "description_width": "initial"
      }
     },
     "2c6a92f01cda46b482e836ac3405cdd2": {
      "model_module": "@jupyter-widgets/base",
      "model_module_version": "1.2.0",
      "model_name": "LayoutModel",
      "state": {}
     },
     "2c71854cff914cb8a0c975bbe3bac097": {
      "model_module": "@jupyter-widgets/controls",
      "model_module_version": "1.5.0",
      "model_name": "HBoxModel",
      "state": {
       "children": [
        "IPY_MODEL_7b82d333cdfb4266b03dee84031145ac",
        "IPY_MODEL_bf1fe0464a984513ad35021bcfbcb0ac"
       ],
       "layout": "IPY_MODEL_afcb6ade47f14ff5a1429e7532b1b55e"
      }
     },
     "2c7ce9ab1ee848a1b5de3c20b709d241": {
      "model_module": "@jupyter-widgets/base",
      "model_module_version": "1.2.0",
      "model_name": "LayoutModel",
      "state": {}
     },
     "2c9a0793716b4fd8a6040ce7732ff877": {
      "model_module": "@jupyter-widgets/controls",
      "model_module_version": "1.5.0",
      "model_name": "DescriptionStyleModel",
      "state": {
       "description_width": ""
      }
     },
     "2c9dcf23be72447cacc7c45ada62b1d0": {
      "model_module": "@jupyter-widgets/base",
      "model_module_version": "1.2.0",
      "model_name": "LayoutModel",
      "state": {}
     },
     "2ca222e074fa41579bf91c7ea3cb16bc": {
      "model_module": "@jupyter-widgets/base",
      "model_module_version": "1.2.0",
      "model_name": "LayoutModel",
      "state": {}
     },
     "2ce0db80fdbe481ea5c48223d23180f9": {
      "model_module": "@jupyter-widgets/controls",
      "model_module_version": "1.5.0",
      "model_name": "HTMLModel",
      "state": {
       "layout": "IPY_MODEL_d7048de077994e269152d33a1b27bc58",
       "style": "IPY_MODEL_e46615da56c644f290907606a000a08b",
       "value": " 493/493 [23:48&lt;00:00,  2.90s/it]"
      }
     },
     "2ce45280024040e9a9e4077237fb2533": {
      "model_module": "@jupyter-widgets/controls",
      "model_module_version": "1.5.0",
      "model_name": "ProgressStyleModel",
      "state": {
       "description_width": "initial"
      }
     },
     "2d4e0e639c2a4701a4697c55e463a70d": {
      "model_module": "@jupyter-widgets/base",
      "model_module_version": "1.2.0",
      "model_name": "LayoutModel",
      "state": {}
     },
     "2d707247b48941879b2a6d91ae18d57b": {
      "model_module": "@jupyter-widgets/controls",
      "model_module_version": "1.5.0",
      "model_name": "HTMLModel",
      "state": {
       "layout": "IPY_MODEL_e1b6291f71574db4939fb97ff3afae1c",
       "style": "IPY_MODEL_e81be179050541b68ce766a1ef17a1a6",
       "value": " 3/3 [00:07&lt;00:00,  2.63s/it]"
      }
     },
     "2db4263d693345c180a3a214c68cc111": {
      "model_module": "@jupyter-widgets/controls",
      "model_module_version": "1.5.0",
      "model_name": "FloatProgressModel",
      "state": {
       "bar_style": "success",
       "description": "[3] 1/2(val  ): 100%",
       "layout": "IPY_MODEL_63adb0c82262413d91728ac645eebff8",
       "max": 1,
       "style": "IPY_MODEL_9adf5b1b651a42b78a11552666be02f9",
       "value": 1
      }
     },
     "2db5e1acdeea4a46a9bb6d2695e9916f": {
      "model_module": "@jupyter-widgets/controls",
      "model_module_version": "1.5.0",
      "model_name": "DescriptionStyleModel",
      "state": {
       "description_width": ""
      }
     },
     "2dc5e97037aa4bc5b4ad523944cf8d8d": {
      "model_module": "@jupyter-widgets/controls",
      "model_module_version": "1.5.0",
      "model_name": "DescriptionStyleModel",
      "state": {
       "description_width": ""
      }
     },
     "2dc6fe5c426f41e5bea62631b03a0e8b": {
      "model_module": "@jupyter-widgets/controls",
      "model_module_version": "1.5.0",
      "model_name": "ProgressStyleModel",
      "state": {
       "description_width": "initial"
      }
     },
     "2dcfe0e9016b4361a72c7e65857389ee": {
      "model_module": "@jupyter-widgets/controls",
      "model_module_version": "1.5.0",
      "model_name": "HBoxModel",
      "state": {
       "children": [
        "IPY_MODEL_a4ab78c41afe41d3901f5d0beed891bd",
        "IPY_MODEL_ffa62d3e629640679e4df938392d1c09"
       ],
       "layout": "IPY_MODEL_af5edcab20834d05b0d25f28ebca846f"
      }
     },
     "2dd28eedbe5c4feb8616d0e1d0aa5f43": {
      "model_module": "@jupyter-widgets/base",
      "model_module_version": "1.2.0",
      "model_name": "LayoutModel",
      "state": {}
     },
     "2ddca1cba6b54dc5bb1cfe5c1ce8a249": {
      "model_module": "@jupyter-widgets/controls",
      "model_module_version": "1.5.0",
      "model_name": "ProgressStyleModel",
      "state": {
       "description_width": "initial"
      }
     },
     "2de25968b034429c8a9ebafcdf38b969": {
      "model_module": "@jupyter-widgets/controls",
      "model_module_version": "1.5.0",
      "model_name": "DescriptionStyleModel",
      "state": {
       "description_width": ""
      }
     },
     "2de9b1b0c59e455ba38eec06b853ac27": {
      "model_module": "@jupyter-widgets/controls",
      "model_module_version": "1.5.0",
      "model_name": "FloatProgressModel",
      "state": {
       "bar_style": "success",
       "description": "[2] 2/2(train): 100%",
       "layout": "IPY_MODEL_60ff72db76254c1d89656eb06e1029d1",
       "max": 3,
       "style": "IPY_MODEL_cb508a9f80a34664af3c3fb24f0b7cd0",
       "value": 3
      }
     },
     "2df7872075b24db8813befaea6a256d4": {
      "model_module": "@jupyter-widgets/base",
      "model_module_version": "1.2.0",
      "model_name": "LayoutModel",
      "state": {}
     },
     "2e01f7606d2047eeabafe24720747402": {
      "model_module": "@jupyter-widgets/base",
      "model_module_version": "1.2.0",
      "model_name": "LayoutModel",
      "state": {}
     },
     "2e06c486d50343ef8015bc2fe5cccec3": {
      "model_module": "@jupyter-widgets/base",
      "model_module_version": "1.2.0",
      "model_name": "LayoutModel",
      "state": {}
     },
     "2e16b534f44d4982ab3e8c0c389aaf07": {
      "model_module": "@jupyter-widgets/controls",
      "model_module_version": "1.5.0",
      "model_name": "HBoxModel",
      "state": {
       "children": [
        "IPY_MODEL_7dddd82a2ea44129b76a8b6d2ab0a117",
        "IPY_MODEL_947ec91315844c06864c6e74b5104bc0"
       ],
       "layout": "IPY_MODEL_ee692ff5ccb84546ae87e7eceddb8c46"
      }
     },
     "2e3157fe4f4442b798a0651d02b9eab4": {
      "model_module": "@jupyter-widgets/base",
      "model_module_version": "1.2.0",
      "model_name": "LayoutModel",
      "state": {}
     },
     "2e39dc3ece7346d1b078ce618c88d939": {
      "model_module": "@jupyter-widgets/controls",
      "model_module_version": "1.5.0",
      "model_name": "HTMLModel",
      "state": {
       "layout": "IPY_MODEL_7d024dc86fb541139da2f12a8362871c",
       "style": "IPY_MODEL_be5f84380e5643fd8ea964e3f42b82fb",
       "value": " 1/1 [00:00&lt;00:00,  1.35it/s]"
      }
     },
     "2e5e472842d64224b993d858afff65b2": {
      "model_module": "@jupyter-widgets/base",
      "model_module_version": "1.2.0",
      "model_name": "LayoutModel",
      "state": {}
     },
     "2e6fe4cb50654e5ba502a40427e96838": {
      "model_module": "@jupyter-widgets/base",
      "model_module_version": "1.2.0",
      "model_name": "LayoutModel",
      "state": {}
     },
     "2e702685e1b7469da7e21979ac1bae6e": {
      "model_module": "@jupyter-widgets/base",
      "model_module_version": "1.2.0",
      "model_name": "LayoutModel",
      "state": {}
     },
     "2e7093c9f59f4577bd709f7c1b1be9c7": {
      "model_module": "@jupyter-widgets/controls",
      "model_module_version": "1.5.0",
      "model_name": "FloatProgressModel",
      "state": {
       "bar_style": "danger",
       "description": "[0] 1/15(train):   0%",
       "layout": "IPY_MODEL_7aa538e97f844662946d0789fef4835d",
       "max": 493,
       "style": "IPY_MODEL_6f32d4de3d904d5ead0e5155953b2ab0"
      }
     },
     "2ea0e59a3e2e47749715784f457a8c9a": {
      "model_module": "@jupyter-widgets/controls",
      "model_module_version": "1.5.0",
      "model_name": "HBoxModel",
      "state": {
       "children": [
        "IPY_MODEL_3c5cb27abac9453a99003afa4159cb7c",
        "IPY_MODEL_26fe0686238144c4a52f182d1c980cb2"
       ],
       "layout": "IPY_MODEL_54ceb687c30d490ca8046b3d8dfac439"
      }
     },
     "2ea1799e77154b3db483af56850b4878": {
      "model_module": "@jupyter-widgets/controls",
      "model_module_version": "1.5.0",
      "model_name": "DescriptionStyleModel",
      "state": {
       "description_width": ""
      }
     },
     "2ed29a650b9e4e7da1ac1a37750b0227": {
      "model_module": "@jupyter-widgets/base",
      "model_module_version": "1.2.0",
      "model_name": "LayoutModel",
      "state": {}
     },
     "2ed65217d96242ad89bfde12c3349384": {
      "model_module": "@jupyter-widgets/controls",
      "model_module_version": "1.5.0",
      "model_name": "FloatProgressModel",
      "state": {
       "bar_style": "success",
       "description": "[2] 13/15(val  ): 100%",
       "layout": "IPY_MODEL_e72afdce1d4c4c8ba89cc50c08ad2f31",
       "max": 165,
       "style": "IPY_MODEL_fd98e8067fa848a9981bbe1758765f92",
       "value": 165
      }
     },
     "2f362e77ee3942faa9db54c1190d079d": {
      "model_module": "@jupyter-widgets/controls",
      "model_module_version": "1.5.0",
      "model_name": "FloatProgressModel",
      "state": {
       "bar_style": "success",
       "description": "[2] 15/16(train): 100%",
       "layout": "IPY_MODEL_a91578117c1f46258630b26776ccf8d1",
       "max": 493,
       "style": "IPY_MODEL_d17bc9e6edf54805b7810eab2e096555",
       "value": 493
      }
     },
     "2f3933fc79eb4e5190322248484b00be": {
      "model_module": "@jupyter-widgets/controls",
      "model_module_version": "1.5.0",
      "model_name": "DescriptionStyleModel",
      "state": {
       "description_width": ""
      }
     },
     "2f5a1acbd8e24f3f8bc3e304b93b4881": {
      "model_module": "@jupyter-widgets/base",
      "model_module_version": "1.2.0",
      "model_name": "LayoutModel",
      "state": {}
     },
     "2f687093a58e4b08bdad051e5f069f38": {
      "model_module": "@jupyter-widgets/controls",
      "model_module_version": "1.5.0",
      "model_name": "DescriptionStyleModel",
      "state": {
       "description_width": ""
      }
     },
     "2f828faffe17499a83312543e6f19263": {
      "model_module": "@jupyter-widgets/controls",
      "model_module_version": "1.5.0",
      "model_name": "HTMLModel",
      "state": {
       "layout": "IPY_MODEL_8f4fb9b638df4a13b3ab2155680b733a",
       "style": "IPY_MODEL_685321654ae94733a93c9e32b1e26ae4",
       "value": " 493/493 [1:16:09&lt;00:00,  9.27s/it]"
      }
     },
     "2f9445866943480f9b6890999a4f3fd3": {
      "model_module": "@jupyter-widgets/controls",
      "model_module_version": "1.5.0",
      "model_name": "FloatProgressModel",
      "state": {
       "bar_style": "success",
       "description": "[3] 9/16(val  ): 100%",
       "layout": "IPY_MODEL_c91fa8b6426f4c0a9a824da46c1b7668",
       "max": 165,
       "style": "IPY_MODEL_3d181a6da62e4e489eb29351f44e257c",
       "value": 165
      }
     },
     "2faa54500e4842dd91da61979f92a483": {
      "model_module": "@jupyter-widgets/controls",
      "model_module_version": "1.5.0",
      "model_name": "FloatProgressModel",
      "state": {
       "bar_style": "success",
       "description": "[3] 10/16(val  ): 100%",
       "layout": "IPY_MODEL_0d5f82f6843e49f0a313aaa14ad9f7ab",
       "max": 165,
       "style": "IPY_MODEL_4aa7bef705614a67abbbe45ba6b7bb4c",
       "value": 165
      }
     },
     "2fcbf589767f4ed18e5af302ca0b5917": {
      "model_module": "@jupyter-widgets/controls",
      "model_module_version": "1.5.0",
      "model_name": "HTMLModel",
      "state": {
       "layout": "IPY_MODEL_4b6713ce64dd49559470d7b4b17bbbf6",
       "style": "IPY_MODEL_8f106c6148374939b178bf1602235ed0",
       "value": " 3/3 [00:07&lt;00:00,  2.38s/it]"
      }
     },
     "2fdb67fe4202491faf2612917a4aa579": {
      "model_module": "@jupyter-widgets/controls",
      "model_module_version": "1.5.0",
      "model_name": "ProgressStyleModel",
      "state": {
       "description_width": "initial"
      }
     },
     "2fddaf3b92344e01acfae312ca94d724": {
      "model_module": "@jupyter-widgets/base",
      "model_module_version": "1.2.0",
      "model_name": "LayoutModel",
      "state": {}
     },
     "2fde27c406cd4a2abc713c431b7f1370": {
      "model_module": "@jupyter-widgets/base",
      "model_module_version": "1.2.0",
      "model_name": "LayoutModel",
      "state": {}
     },
     "2ffcc91e107b4fa0898a6569c727a08f": {
      "model_module": "@jupyter-widgets/base",
      "model_module_version": "1.2.0",
      "model_name": "LayoutModel",
      "state": {}
     },
     "300ac14b3ad54b45a33136780bd5a468": {
      "model_module": "@jupyter-widgets/controls",
      "model_module_version": "1.5.0",
      "model_name": "ProgressStyleModel",
      "state": {
       "description_width": "initial"
      }
     },
     "301ca4a43ca145aa84d82e0aa409c549": {
      "model_module": "@jupyter-widgets/controls",
      "model_module_version": "1.5.0",
      "model_name": "HBoxModel",
      "state": {
       "children": [
        "IPY_MODEL_d435b362e50f45b18c8aaeaa868e033e",
        "IPY_MODEL_8a398ff403154eb0b10c437755c5f54a"
       ],
       "layout": "IPY_MODEL_1842adaff401484d9c02a8d320e5a913"
      }
     },
     "3021820bcd4a41049477aadaa73b27b3": {
      "model_module": "@jupyter-widgets/base",
      "model_module_version": "1.2.0",
      "model_name": "LayoutModel",
      "state": {}
     },
     "3025f5b988164565b5a6ce40ca64ce9b": {
      "model_module": "@jupyter-widgets/controls",
      "model_module_version": "1.5.0",
      "model_name": "ProgressStyleModel",
      "state": {
       "description_width": "initial"
      }
     },
     "3032c3420a244ecb9f537ff6fa271e3a": {
      "model_module": "@jupyter-widgets/controls",
      "model_module_version": "1.5.0",
      "model_name": "HBoxModel",
      "state": {
       "children": [
        "IPY_MODEL_f35e4e5ff0524c6eac970cbcb52d16c7",
        "IPY_MODEL_2fcbf589767f4ed18e5af302ca0b5917"
       ],
       "layout": "IPY_MODEL_ab38d85a4d0e4cb697a94dcb257cbc7a"
      }
     },
     "306bc0c37d864153a208c92f5bdf4ff2": {
      "model_module": "@jupyter-widgets/base",
      "model_module_version": "1.2.0",
      "model_name": "LayoutModel",
      "state": {}
     },
     "3088fcdd947a42ecb0e13657dccc04e3": {
      "model_module": "@jupyter-widgets/controls",
      "model_module_version": "1.5.0",
      "model_name": "HTMLModel",
      "state": {
       "layout": "IPY_MODEL_5e550528a11847f88d76315bd7670f1d",
       "style": "IPY_MODEL_17f44123bc144dd281c55fa22c87d29b",
       "value": " 1/1 [00:00&lt;00:00,  1.51it/s]"
      }
     },
     "308c8325a5b14eae9127ef95ffb914ab": {
      "model_module": "@jupyter-widgets/controls",
      "model_module_version": "1.5.0",
      "model_name": "HTMLModel",
      "state": {
       "layout": "IPY_MODEL_fd36235eaa884cf2b70774d59c66588b",
       "style": "IPY_MODEL_3c2258eebb3943eca782811ad5272269",
       "value": " 165/165 [20:25&lt;00:00,  7.43s/it]"
      }
     },
     "308cba65bd9a45e6a608f74fcc5f7819": {
      "model_module": "@jupyter-widgets/controls",
      "model_module_version": "1.5.0",
      "model_name": "ProgressStyleModel",
      "state": {
       "description_width": "initial"
      }
     },
     "30ae10e50ef54dfa959bd1d989c1e627": {
      "model_module": "@jupyter-widgets/controls",
      "model_module_version": "1.5.0",
      "model_name": "DescriptionStyleModel",
      "state": {
       "description_width": ""
      }
     },
     "30b9f7ad0c8841158ec552bc640630a7": {
      "model_module": "@jupyter-widgets/controls",
      "model_module_version": "1.5.0",
      "model_name": "HTMLModel",
      "state": {
       "layout": "IPY_MODEL_dc5223e6e9b04c26931fe3ab0051221d",
       "style": "IPY_MODEL_cc3c73d793d0419bbda74c605c976210",
       "value": " 1/1 [00:00&lt;00:00,  1.30it/s]"
      }
     },
     "30ba660410c041eea1ab5ae8445fb82f": {
      "model_module": "@jupyter-widgets/base",
      "model_module_version": "1.2.0",
      "model_name": "LayoutModel",
      "state": {}
     },
     "30bb7c94be2d40739e883429b93fdda2": {
      "model_module": "@jupyter-widgets/base",
      "model_module_version": "1.2.0",
      "model_name": "LayoutModel",
      "state": {}
     },
     "30cb0d2361c441169363ce3262a27f3b": {
      "model_module": "@jupyter-widgets/controls",
      "model_module_version": "1.5.0",
      "model_name": "HTMLModel",
      "state": {
       "layout": "IPY_MODEL_2ffcc91e107b4fa0898a6569c727a08f",
       "style": "IPY_MODEL_ed53a7d39ee94d66b10ef9a42779d637",
       "value": " 165/165 [01:15&lt;00:00,  2.20it/s]"
      }
     },
     "30e1b801e41a4af7ac61e84ade04e2d3": {
      "model_module": "@jupyter-widgets/base",
      "model_module_version": "1.2.0",
      "model_name": "LayoutModel",
      "state": {}
     },
     "30ed745b868149ed9827cd57c2dff34b": {
      "model_module": "@jupyter-widgets/base",
      "model_module_version": "1.2.0",
      "model_name": "LayoutModel",
      "state": {}
     },
     "30f2a3b2a0a646bba5067c8f66b7f4d4": {
      "model_module": "@jupyter-widgets/controls",
      "model_module_version": "1.5.0",
      "model_name": "DescriptionStyleModel",
      "state": {
       "description_width": ""
      }
     },
     "30f385e2e89342c785ee4f665bdca5e4": {
      "model_module": "@jupyter-widgets/controls",
      "model_module_version": "1.5.0",
      "model_name": "FloatProgressModel",
      "state": {
       "bar_style": "success",
       "description": "[0] 2/16(val  ): 100%",
       "layout": "IPY_MODEL_bfc9a5afa137456c96858e620fdecf21",
       "max": 165,
       "style": "IPY_MODEL_553fe88d28544bd1b3d76385b5861291",
       "value": 165
      }
     },
     "30f8b80f15714b6ab799983e6c41bb66": {
      "model_module": "@jupyter-widgets/base",
      "model_module_version": "1.2.0",
      "model_name": "LayoutModel",
      "state": {}
     },
     "3128dad8215e43c6b52763766646870f": {
      "model_module": "@jupyter-widgets/controls",
      "model_module_version": "1.5.0",
      "model_name": "ProgressStyleModel",
      "state": {
       "description_width": "initial"
      }
     },
     "313b11559aa34cf28087992959d8b9c9": {
      "model_module": "@jupyter-widgets/controls",
      "model_module_version": "1.5.0",
      "model_name": "ProgressStyleModel",
      "state": {
       "description_width": "initial"
      }
     },
     "31402d8dceba4c16896936f651f4da96": {
      "model_module": "@jupyter-widgets/base",
      "model_module_version": "1.2.0",
      "model_name": "LayoutModel",
      "state": {}
     },
     "314272ef021b45d0b334db3b1136f4fe": {
      "model_module": "@jupyter-widgets/controls",
      "model_module_version": "1.5.0",
      "model_name": "HTMLModel",
      "state": {
       "layout": "IPY_MODEL_454a78461ac2479e8fe7f8e9a9566dd1",
       "style": "IPY_MODEL_e197f84d52d243aa8bf69aea773c340a",
       "value": " 1/1 [00:00&lt;00:00,  1.37it/s]"
      }
     },
     "3142ddb87ea54683a061eaee97a87ebf": {
      "model_module": "@jupyter-widgets/base",
      "model_module_version": "1.2.0",
      "model_name": "LayoutModel",
      "state": {}
     },
     "3149f54f0db94d42b900448e27762d7b": {
      "model_module": "@jupyter-widgets/controls",
      "model_module_version": "1.5.0",
      "model_name": "HTMLModel",
      "state": {
       "layout": "IPY_MODEL_162c2e42fc6946d8b013d72be7ce56f6",
       "style": "IPY_MODEL_69bb393125d74f979aba008260d8d9e9",
       "value": " 1/1 [00:00&lt;00:00,  1.06it/s]"
      }
     },
     "317e0d0895064fc893a8ac876f15e599": {
      "model_module": "@jupyter-widgets/controls",
      "model_module_version": "1.5.0",
      "model_name": "FloatProgressModel",
      "state": {
       "bar_style": "success",
       "description": "[0] 6/15(train): 100%",
       "layout": "IPY_MODEL_9183aebc71ce48b5b4d137f65a3a11fc",
       "max": 3,
       "style": "IPY_MODEL_a85817a303f94eb3bfed0475326474ce",
       "value": 3
      }
     },
     "318e06e7b2fa4e97aa6d7fb2e2d3185a": {
      "model_module": "@jupyter-widgets/base",
      "model_module_version": "1.2.0",
      "model_name": "LayoutModel",
      "state": {}
     },
     "31c31223ee474a2fa1566682d555e2a1": {
      "model_module": "@jupyter-widgets/base",
      "model_module_version": "1.2.0",
      "model_name": "LayoutModel",
      "state": {}
     },
     "31cd90b5655c4c4591c29cc51296520c": {
      "model_module": "@jupyter-widgets/base",
      "model_module_version": "1.2.0",
      "model_name": "LayoutModel",
      "state": {}
     },
     "323caa9ba84146a2962d60f32357acc8": {
      "model_module": "@jupyter-widgets/controls",
      "model_module_version": "1.5.0",
      "model_name": "HBoxModel",
      "state": {
       "children": [
        "IPY_MODEL_2926dabfaddd4531b9db888638c90de1",
        "IPY_MODEL_ffe1e4a2608440d2bc3e116cd7a1d63c"
       ],
       "layout": "IPY_MODEL_8c81dc8cd89b4c53af0757ae317e82a5"
      }
     },
     "32586a6d92ba4ae68c2dfe1641e90d77": {
      "model_module": "@jupyter-widgets/base",
      "model_module_version": "1.2.0",
      "model_name": "LayoutModel",
      "state": {}
     },
     "3263bb2662034d56a07957246f634c48": {
      "model_module": "@jupyter-widgets/controls",
      "model_module_version": "1.5.0",
      "model_name": "ProgressStyleModel",
      "state": {
       "description_width": "initial"
      }
     },
     "3272bbb211d54789953e9a0287f9e2cc": {
      "model_module": "@jupyter-widgets/base",
      "model_module_version": "1.2.0",
      "model_name": "LayoutModel",
      "state": {}
     },
     "327ee1aed8a042099ec4c6ac6b898c54": {
      "model_module": "@jupyter-widgets/base",
      "model_module_version": "1.2.0",
      "model_name": "LayoutModel",
      "state": {}
     },
     "3291443c548b43f3b4175c9b6f168779": {
      "model_module": "@jupyter-widgets/controls",
      "model_module_version": "1.5.0",
      "model_name": "FloatProgressModel",
      "state": {
       "bar_style": "success",
       "description": "[3] 1/16(train): 100%",
       "layout": "IPY_MODEL_c9dec5c2d3d54c1b87cd1092de43061e",
       "max": 493,
       "style": "IPY_MODEL_5a084b2203ba4c739532b72604a4c973",
       "value": 493
      }
     },
     "32dd75e2e0164978a04e23568318cb66": {
      "model_module": "@jupyter-widgets/base",
      "model_module_version": "1.2.0",
      "model_name": "LayoutModel",
      "state": {}
     },
     "32e561ba30324baf8c4bd3ddf7e16ee2": {
      "model_module": "@jupyter-widgets/controls",
      "model_module_version": "1.5.0",
      "model_name": "HBoxModel",
      "state": {
       "children": [
        "IPY_MODEL_f90758d4a6bd4827b0e01d77aad2f431",
        "IPY_MODEL_f59f1d1cae9e41b58f9038db174951ff"
       ]
      }
     },
     "32f88a43324f4775b8852095e8f328be": {
      "model_module": "@jupyter-widgets/controls",
      "model_module_version": "1.5.0",
      "model_name": "HBoxModel",
      "state": {
       "children": [
        "IPY_MODEL_be3af3075d2a45f6add5ffd3e083ed2c",
        "IPY_MODEL_8c400ce36b6c42a19c90a9420cf44081"
       ],
       "layout": "IPY_MODEL_4332be1d7e0845c38bc84e78ffab0cde"
      }
     },
     "32faff58242a4ae4b600aad2aeb3ab6c": {
      "model_module": "@jupyter-widgets/controls",
      "model_module_version": "1.5.0",
      "model_name": "HTMLModel",
      "state": {
       "layout": "IPY_MODEL_3d266a64a12747f1b3cb5b4f053b7a63",
       "style": "IPY_MODEL_a345cdd61f174db2bcda4b37d4525024",
       "value": " 3/3 [00:07&lt;00:00,  2.58s/it]"
      }
     },
     "332bad7a4d3e482ba435ce78a6c40d16": {
      "model_module": "@jupyter-widgets/controls",
      "model_module_version": "1.5.0",
      "model_name": "DescriptionStyleModel",
      "state": {
       "description_width": ""
      }
     },
     "3351751f440d470b893e3f53bda903ec": {
      "model_module": "@jupyter-widgets/controls",
      "model_module_version": "1.5.0",
      "model_name": "HBoxModel",
      "state": {
       "children": [
        "IPY_MODEL_b9b1868b83b14596ae3f93b7edc0d128",
        "IPY_MODEL_511450480bf04aa9b8caae81a30ddeea"
       ],
       "layout": "IPY_MODEL_e87a8856c0a34437a64085bd8d68cf3e"
      }
     },
     "335d5494e25447d7b1fea87fb468b07d": {
      "model_module": "@jupyter-widgets/base",
      "model_module_version": "1.2.0",
      "model_name": "LayoutModel",
      "state": {}
     },
     "3360d6d4680c4f24aa0506753aab5813": {
      "model_module": "@jupyter-widgets/controls",
      "model_module_version": "1.5.0",
      "model_name": "FloatProgressModel",
      "state": {
       "bar_style": "success",
       "description": "[0] 7/16(val  ): 100%",
       "layout": "IPY_MODEL_e2217e4f3ccc4b57a1aeae67dedeb2af",
       "max": 165,
       "style": "IPY_MODEL_59704b22b72843b39c42f32bc3778954",
       "value": 165
      }
     },
     "3368a1a38ce4499db7f1cdbec2c5ac28": {
      "model_module": "@jupyter-widgets/controls",
      "model_module_version": "1.5.0",
      "model_name": "ProgressStyleModel",
      "state": {
       "description_width": "initial"
      }
     },
     "33bf5356a0cc463a9e26f9a0a6e5847b": {
      "model_module": "@jupyter-widgets/base",
      "model_module_version": "1.2.0",
      "model_name": "LayoutModel",
      "state": {}
     },
     "33c29410128b462d87c602fdd4cc7345": {
      "model_module": "@jupyter-widgets/base",
      "model_module_version": "1.2.0",
      "model_name": "LayoutModel",
      "state": {}
     },
     "33c460c2fc5243ecb7dfbc1b2fa3fce2": {
      "model_module": "@jupyter-widgets/controls",
      "model_module_version": "1.5.0",
      "model_name": "FloatProgressModel",
      "state": {
       "bar_style": "success",
       "description": "[3] 1/16(val  ): 100%",
       "layout": "IPY_MODEL_c48207c74a284eeaa3365d38464a7bde",
       "max": 165,
       "style": "IPY_MODEL_751b42e615764841b90ac710dfcdc369",
       "value": 165
      }
     },
     "33d1f8d0320c4054bbefca15e8a707ce": {
      "model_module": "@jupyter-widgets/controls",
      "model_module_version": "1.5.0",
      "model_name": "DescriptionStyleModel",
      "state": {
       "description_width": ""
      }
     },
     "33e90b6366ee4e688051f925e138d835": {
      "model_module": "@jupyter-widgets/controls",
      "model_module_version": "1.5.0",
      "model_name": "HTMLModel",
      "state": {
       "layout": "IPY_MODEL_8fca30db5a9a46989538f3b14d0568ab",
       "style": "IPY_MODEL_f9d81ae74bfc49e0ad3bbd9e7e868072",
       "value": " 3/3 [00:05&lt;00:00,  1.87s/it]"
      }
     },
     "3412b40eea3a4f39b3924ae782dd94b1": {
      "model_module": "@jupyter-widgets/base",
      "model_module_version": "1.2.0",
      "model_name": "LayoutModel",
      "state": {}
     },
     "343bed8f47c34019a371cc2c5359bb44": {
      "model_module": "@jupyter-widgets/controls",
      "model_module_version": "1.5.0",
      "model_name": "HTMLModel",
      "state": {
       "layout": "IPY_MODEL_456a48a6c0fd4ac2aaa21ffa5cc22ac0",
       "style": "IPY_MODEL_981d20f2ad6843399cd7f5ebde128e0e",
       "value": " 1/1 [00:00&lt;00:00,  1.34it/s]"
      }
     },
     "34458b8524934adfa7420d0695e5f057": {
      "model_module": "@jupyter-widgets/base",
      "model_module_version": "1.2.0",
      "model_name": "LayoutModel",
      "state": {}
     },
     "346692ff18ef40b998ce5b208ab1bff3": {
      "model_module": "@jupyter-widgets/controls",
      "model_module_version": "1.5.0",
      "model_name": "HTMLModel",
      "state": {
       "layout": "IPY_MODEL_84bb438fdbb04b35b94d4abc000a1467",
       "style": "IPY_MODEL_2f687093a58e4b08bdad051e5f069f38",
       "value": " 1/1 [00:00&lt;00:00,  1.08it/s]"
      }
     },
     "3469e83ab40f41b3a7ebbac335be6416": {
      "model_module": "@jupyter-widgets/controls",
      "model_module_version": "1.5.0",
      "model_name": "FloatProgressModel",
      "state": {
       "bar_style": "success",
       "description": "[3] 7/16(val  ): 100%",
       "layout": "IPY_MODEL_2af35a5df2f34e438aa92f07f94247d4",
       "max": 165,
       "style": "IPY_MODEL_b585852a889e46bfbe9428bf7d1b6ec8",
       "value": 165
      }
     },
     "346f2591402444ddb105725beb68b261": {
      "model_module": "@jupyter-widgets/base",
      "model_module_version": "1.2.0",
      "model_name": "LayoutModel",
      "state": {}
     },
     "3485d2e3fc3646f2be0a01715bece96b": {
      "model_module": "@jupyter-widgets/controls",
      "model_module_version": "1.5.0",
      "model_name": "HBoxModel",
      "state": {
       "children": [
        "IPY_MODEL_4b7ae8d57194483683573b6568a71b2e",
        "IPY_MODEL_d5c9ff85405d420eb155e36c16de4948"
       ],
       "layout": "IPY_MODEL_a47391d25c934b7bb31535ef67a50510"
      }
     },
     "34951680ab904391bc9a12fc724ac305": {
      "model_module": "@jupyter-widgets/controls",
      "model_module_version": "1.5.0",
      "model_name": "DescriptionStyleModel",
      "state": {
       "description_width": ""
      }
     },
     "349716feede04a0aa14a0cf5189aa025": {
      "model_module": "@jupyter-widgets/base",
      "model_module_version": "1.2.0",
      "model_name": "LayoutModel",
      "state": {}
     },
     "349ad7e3094c44219fc89df0982257ea": {
      "model_module": "@jupyter-widgets/controls",
      "model_module_version": "1.5.0",
      "model_name": "HBoxModel",
      "state": {
       "children": [
        "IPY_MODEL_4736b59229cc4acb832df0c366c892fb",
        "IPY_MODEL_096980e4201f45a3a72cccade186ea21"
       ],
       "layout": "IPY_MODEL_720e183c852e44af8468a03edaf6fac3"
      }
     },
     "349f08f82e9d48e1aed1c7070b0cf4bd": {
      "model_module": "@jupyter-widgets/controls",
      "model_module_version": "1.5.0",
      "model_name": "FloatProgressModel",
      "state": {
       "bar_style": "success",
       "description": "[0] 4/16(train): 100%",
       "layout": "IPY_MODEL_c6ff502bc8094ad3af639dc1dff66dc9",
       "max": 493,
       "style": "IPY_MODEL_ac58d650ea374e12964e2d3dd0d8beca",
       "value": 493
      }
     },
     "34b43fbe434747409b8dbe2f2e35e114": {
      "model_module": "@jupyter-widgets/base",
      "model_module_version": "1.2.0",
      "model_name": "LayoutModel",
      "state": {}
     },
     "34e30f4d6f6a44e2926a33917f49a7bd": {
      "model_module": "@jupyter-widgets/controls",
      "model_module_version": "1.5.0",
      "model_name": "FloatProgressModel",
      "state": {
       "bar_style": "success",
       "description": "[2] 1/2(val  ): 100%",
       "layout": "IPY_MODEL_0da6688a52464bc4b08fba22cbbebf98",
       "max": 1,
       "style": "IPY_MODEL_38982ba1df2d461695b75de104e52126",
       "value": 1
      }
     },
     "34f68e234b4d4d54b23ab10e55697c6c": {
      "model_module": "@jupyter-widgets/controls",
      "model_module_version": "1.5.0",
      "model_name": "HBoxModel",
      "state": {
       "children": [
        "IPY_MODEL_c89acadff6354765a856647a504c4956",
        "IPY_MODEL_6604d9e2da7a461299ae42e2e03abe6d"
       ],
       "layout": "IPY_MODEL_e0f1b239f6324df5a22984434afed6b9"
      }
     },
     "350e368e82ce409db990f9a895f20aa3": {
      "model_module": "@jupyter-widgets/controls",
      "model_module_version": "1.5.0",
      "model_name": "HTMLModel",
      "state": {
       "layout": "IPY_MODEL_611a4fa15bb74bfbaa32aeb9c7df2609",
       "style": "IPY_MODEL_18dfbd40b5754f3b94fa292f17115cca",
       "value": " 165/165 [01:34&lt;00:00,  1.74it/s]"
      }
     },
     "352f20239e674ed9ab78d88085b3d3e5": {
      "model_module": "@jupyter-widgets/base",
      "model_module_version": "1.2.0",
      "model_name": "LayoutModel",
      "state": {}
     },
     "35494beec05242b4a7fe310ec5f71982": {
      "model_module": "@jupyter-widgets/controls",
      "model_module_version": "1.5.0",
      "model_name": "FloatProgressModel",
      "state": {
       "bar_style": "success",
       "description": "[1] 5/16(val  ): 100%",
       "layout": "IPY_MODEL_3f66c0f1883d42819cb67cd6ffb07977",
       "max": 165,
       "style": "IPY_MODEL_aec2f67121ae417399e0f0b3ca60b514",
       "value": 165
      }
     },
     "3550485c465c4f44b2e891ff93489834": {
      "model_module": "@jupyter-widgets/base",
      "model_module_version": "1.2.0",
      "model_name": "LayoutModel",
      "state": {}
     },
     "35574439675a4d4e890220d8173536f0": {
      "model_module": "@jupyter-widgets/controls",
      "model_module_version": "1.5.0",
      "model_name": "HTMLModel",
      "state": {
       "layout": "IPY_MODEL_c361f79434a2480fa2d9c99392cce301",
       "style": "IPY_MODEL_92b20eaea91d46f7bdb7b23ce6e31b30",
       "value": " 1/1 [00:00&lt;00:00,  1.19it/s]"
      }
     },
     "355b1ca5efbf4a3a805cebda88853ad2": {
      "model_module": "@jupyter-widgets/controls",
      "model_module_version": "1.5.0",
      "model_name": "FloatProgressModel",
      "state": {
       "bar_style": "success",
       "description": "100%",
       "layout": "IPY_MODEL_03d3719770d24112b4de572121546bd4",
       "max": 165,
       "style": "IPY_MODEL_e8262b09652b4e4586d200546324b186",
       "value": 165
      }
     },
     "358807d762014c4892f7f4e0a067fadb": {
      "model_module": "@jupyter-widgets/base",
      "model_module_version": "1.2.0",
      "model_name": "LayoutModel",
      "state": {}
     },
     "358d8142ba6e4382a3a783dc58a51165": {
      "model_module": "@jupyter-widgets/base",
      "model_module_version": "1.2.0",
      "model_name": "LayoutModel",
      "state": {}
     },
     "359006297fe44744a389ae8e59466821": {
      "model_module": "@jupyter-widgets/controls",
      "model_module_version": "1.5.0",
      "model_name": "ProgressStyleModel",
      "state": {
       "description_width": "initial"
      }
     },
     "35911e6f4e834b3183e42efe09e5701a": {
      "model_module": "@jupyter-widgets/controls",
      "model_module_version": "1.5.0",
      "model_name": "HBoxModel",
      "state": {
       "children": [
        "IPY_MODEL_d08685b544a54602bf55f6b33ccb5b49",
        "IPY_MODEL_d7214cd5943941688c70c50e3f29a5e2"
       ],
       "layout": "IPY_MODEL_22b797b3c2ba4d61b393e873d3d5c839"
      }
     },
     "35924916ab344e46a29599bd5dc773fc": {
      "model_module": "@jupyter-widgets/base",
      "model_module_version": "1.2.0",
      "model_name": "LayoutModel",
      "state": {}
     },
     "35a0b02eb451434a9d30d3796d0c31e3": {
      "model_module": "@jupyter-widgets/controls",
      "model_module_version": "1.5.0",
      "model_name": "HTMLModel",
      "state": {
       "layout": "IPY_MODEL_4663fe02877e469ea49189cc8be174c9",
       "style": "IPY_MODEL_cde06e2646504bb3a4a26bcd376199fa",
       "value": " 165/165 [01:37&lt;00:00,  1.69it/s]"
      }
     },
     "35c8fa0cb7854536b3a389c48d3a0df8": {
      "model_module": "@jupyter-widgets/controls",
      "model_module_version": "1.5.0",
      "model_name": "HTMLModel",
      "state": {
       "layout": "IPY_MODEL_a57cf337deb041239fac13d248a6692f",
       "style": "IPY_MODEL_ac685f3dcde94c348fffff8133bedfea",
       "value": " 493/493 [17:35&lt;00:00,  2.14s/it]"
      }
     },
     "35ced6e844574c8bb157205164bc9bc0": {
      "model_module": "@jupyter-widgets/controls",
      "model_module_version": "1.5.0",
      "model_name": "FloatProgressModel",
      "state": {
       "bar_style": "success",
       "description": "[1] 1/2(train): 100%",
       "layout": "IPY_MODEL_3665d52212ee46f4b7af7a0490ee5662",
       "max": 3,
       "style": "IPY_MODEL_910646b02118490598907898a1f0c864",
       "value": 3
      }
     },
     "35d9a6599d1246b78cd2d2f3043b92ea": {
      "model_module": "@jupyter-widgets/controls",
      "model_module_version": "1.5.0",
      "model_name": "DescriptionStyleModel",
      "state": {
       "description_width": ""
      }
     },
     "360d2e835c1c4deebdbb94c3a766f658": {
      "model_module": "@jupyter-widgets/controls",
      "model_module_version": "1.5.0",
      "model_name": "HTMLModel",
      "state": {
       "layout": "IPY_MODEL_3f3ff3df8c98499a9569efd93ca9d60d",
       "style": "IPY_MODEL_14b95c5cbb8c45edb6e4b3d0b897164e",
       "value": " 0/3 [00:01&lt;?, ?it/s]"
      }
     },
     "3639104acbe9413890c305961d8ef2ba": {
      "model_module": "@jupyter-widgets/base",
      "model_module_version": "1.2.0",
      "model_name": "LayoutModel",
      "state": {}
     },
     "363e4953e1bf45c39fb240b2cae39484": {
      "model_module": "@jupyter-widgets/base",
      "model_module_version": "1.2.0",
      "model_name": "LayoutModel",
      "state": {}
     },
     "364f0c19953b499ba042d2639ea6ad35": {
      "model_module": "@jupyter-widgets/base",
      "model_module_version": "1.2.0",
      "model_name": "LayoutModel",
      "state": {}
     },
     "3665d52212ee46f4b7af7a0490ee5662": {
      "model_module": "@jupyter-widgets/base",
      "model_module_version": "1.2.0",
      "model_name": "LayoutModel",
      "state": {}
     },
     "369afe0660c546a2bc62f974681f140f": {
      "model_module": "@jupyter-widgets/controls",
      "model_module_version": "1.5.0",
      "model_name": "DescriptionStyleModel",
      "state": {
       "description_width": ""
      }
     },
     "369df5ec51a34c02a4fa67fe1e4691dd": {
      "model_module": "@jupyter-widgets/controls",
      "model_module_version": "1.5.0",
      "model_name": "HBoxModel",
      "state": {
       "children": [
        "IPY_MODEL_bee2e0f9fe864c28971f07aaf624e47f",
        "IPY_MODEL_2f828faffe17499a83312543e6f19263"
       ],
       "layout": "IPY_MODEL_3272bbb211d54789953e9a0287f9e2cc"
      }
     },
     "36a1e0f495d94dbf9185a5cf1ec129d5": {
      "model_module": "@jupyter-widgets/controls",
      "model_module_version": "1.5.0",
      "model_name": "FloatProgressModel",
      "state": {
       "bar_style": "success",
       "description": "[0] 3/15(val  ): 100%",
       "layout": "IPY_MODEL_82c9843f0d3f49b48410609694e9639b",
       "max": 1,
       "style": "IPY_MODEL_739ba04bc6f5432aab2543c4616cc787",
       "value": 1
      }
     },
     "36ae4426f0854877849733f983e72300": {
      "model_module": "@jupyter-widgets/base",
      "model_module_version": "1.2.0",
      "model_name": "LayoutModel",
      "state": {}
     },
     "36b3131c2f534797a8a61e5cbe9d71c4": {
      "model_module": "@jupyter-widgets/controls",
      "model_module_version": "1.5.0",
      "model_name": "HBoxModel",
      "state": {
       "children": [
        "IPY_MODEL_c80a4afcf3664c1eb09d85858a85c90b",
        "IPY_MODEL_e59f77a837974802980a2cac0c8ebb9f"
       ],
       "layout": "IPY_MODEL_9375a1d80951443280bc133c26f54eb5"
      }
     },
     "36c1d25add2342349443ad5c92b3a707": {
      "model_module": "@jupyter-widgets/controls",
      "model_module_version": "1.5.0",
      "model_name": "HTMLModel",
      "state": {
       "layout": "IPY_MODEL_0c250d3895e24ebf859091aa6ba74857",
       "style": "IPY_MODEL_7c8530b117d346bc8b85a96cddd18661",
       "value": " 1/1 [00:00&lt;00:00,  1.26it/s]"
      }
     },
     "372c6ee9e2ce4175843916abd01d2e98": {
      "model_module": "@jupyter-widgets/controls",
      "model_module_version": "1.5.0",
      "model_name": "FloatProgressModel",
      "state": {
       "bar_style": "success",
       "description": "[2] 14/15(val  ): 100%",
       "layout": "IPY_MODEL_6ae7fee900ce4d7a8d2870d7a2fc6424",
       "max": 165,
       "style": "IPY_MODEL_762d172b273948e284608daafeabd33c",
       "value": 165
      }
     },
     "373875d3e29e454dbb2eec29ccfaf418": {
      "model_module": "@jupyter-widgets/base",
      "model_module_version": "1.2.0",
      "model_name": "LayoutModel",
      "state": {}
     },
     "3754dee1c7c64413bb10f32e7ee84db3": {
      "model_module": "@jupyter-widgets/base",
      "model_module_version": "1.2.0",
      "model_name": "LayoutModel",
      "state": {}
     },
     "376613436364489cb8013b5844ecbdf2": {
      "model_module": "@jupyter-widgets/base",
      "model_module_version": "1.2.0",
      "model_name": "LayoutModel",
      "state": {}
     },
     "379644c2c49141d3bc1ded8fa79b72f0": {
      "model_module": "@jupyter-widgets/controls",
      "model_module_version": "1.5.0",
      "model_name": "DescriptionStyleModel",
      "state": {
       "description_width": ""
      }
     },
     "37c78ab680294dd5b20b42aee8a62762": {
      "model_module": "@jupyter-widgets/controls",
      "model_module_version": "1.5.0",
      "model_name": "HBoxModel",
      "state": {
       "children": [
        "IPY_MODEL_075c7accb3fe412e888d775e57e7a6ac",
        "IPY_MODEL_4bfede7708324be6823c6446dec33bae"
       ],
       "layout": "IPY_MODEL_ef82460b54f64183b5ffb30c5286218f"
      }
     },
     "37c7fd4044cd49c6b027f073705623f0": {
      "model_module": "@jupyter-widgets/base",
      "model_module_version": "1.2.0",
      "model_name": "LayoutModel",
      "state": {}
     },
     "37d5a0ec4dcb4eeeb817c21ac4c849e7": {
      "model_module": "@jupyter-widgets/base",
      "model_module_version": "1.2.0",
      "model_name": "LayoutModel",
      "state": {}
     },
     "37dc4276bcd94ad0868907fad55ca00f": {
      "model_module": "@jupyter-widgets/controls",
      "model_module_version": "1.5.0",
      "model_name": "DescriptionStyleModel",
      "state": {
       "description_width": ""
      }
     },
     "37e6f9c05a734017ad4013a84ed7155e": {
      "model_module": "@jupyter-widgets/base",
      "model_module_version": "1.2.0",
      "model_name": "LayoutModel",
      "state": {}
     },
     "37eb4a68893c421e909ac73a9ef4e1cc": {
      "model_module": "@jupyter-widgets/controls",
      "model_module_version": "1.5.0",
      "model_name": "DescriptionStyleModel",
      "state": {
       "description_width": ""
      }
     },
     "380ad89e9fcb4cafa40e1e8ccac32cf6": {
      "model_module": "@jupyter-widgets/controls",
      "model_module_version": "1.5.0",
      "model_name": "FloatProgressModel",
      "state": {
       "bar_style": "success",
       "description": "[3] 1/2(train): 100%",
       "layout": "IPY_MODEL_f8eee3e0c2ea4acb9c1c3d13311ce8fb",
       "max": 3,
       "style": "IPY_MODEL_8814dddaf5804525ae50990ca62f982c",
       "value": 3
      }
     },
     "380f105c13f54bc1b9a9be71ba7bd0d4": {
      "model_module": "@jupyter-widgets/base",
      "model_module_version": "1.2.0",
      "model_name": "LayoutModel",
      "state": {}
     },
     "3847a7e2c65b434b95765aa8b966fe7d": {
      "model_module": "@jupyter-widgets/controls",
      "model_module_version": "1.5.0",
      "model_name": "HBoxModel",
      "state": {
       "children": [
        "IPY_MODEL_40230b59fb604d3aaba9da1f96ff2851",
        "IPY_MODEL_d8fda21a764b4bb185fb7a2d7934fda1"
       ],
       "layout": "IPY_MODEL_d4888b3330614c869588bf0f07d132be"
      }
     },
     "38982ba1df2d461695b75de104e52126": {
      "model_module": "@jupyter-widgets/controls",
      "model_module_version": "1.5.0",
      "model_name": "ProgressStyleModel",
      "state": {
       "description_width": "initial"
      }
     },
     "38c781293a0f47eea36f451f089cc616": {
      "model_module": "@jupyter-widgets/base",
      "model_module_version": "1.2.0",
      "model_name": "LayoutModel",
      "state": {}
     },
     "38c865f01ec142f3aae2a316a0b0c969": {
      "model_module": "@jupyter-widgets/base",
      "model_module_version": "1.2.0",
      "model_name": "LayoutModel",
      "state": {}
     },
     "38e017e6f50d44f9851d624edb3bbf04": {
      "model_module": "@jupyter-widgets/base",
      "model_module_version": "1.2.0",
      "model_name": "LayoutModel",
      "state": {}
     },
     "38f3fde807f14151a98dcaaa022d6d48": {
      "model_module": "@jupyter-widgets/controls",
      "model_module_version": "1.5.0",
      "model_name": "HBoxModel",
      "state": {
       "children": [
        "IPY_MODEL_95b162bb7cd64d99a1941333b4c80195",
        "IPY_MODEL_1f1e2577950e4a13b72eb459741fe4e9"
       ],
       "layout": "IPY_MODEL_d5b96d7136284af18c15dbeb7217f5fa"
      }
     },
     "3937ecdb782f4846a047765401d84e2a": {
      "model_module": "@jupyter-widgets/controls",
      "model_module_version": "1.5.0",
      "model_name": "HBoxModel",
      "state": {
       "children": [
        "IPY_MODEL_f0e4c1e0d1c94e48b74fc54616467e96",
        "IPY_MODEL_2b7fcc243d794f56b27a88490f8c9466"
       ],
       "layout": "IPY_MODEL_61c1efb2b7d84dc4b2e05a547a489cbc"
      }
     },
     "39497d6c6117403f87afe4201d23f99a": {
      "model_module": "@jupyter-widgets/controls",
      "model_module_version": "1.5.0",
      "model_name": "DescriptionStyleModel",
      "state": {
       "description_width": ""
      }
     },
     "39536fec9dd74f878b5cd2b98787443b": {
      "model_module": "@jupyter-widgets/base",
      "model_module_version": "1.2.0",
      "model_name": "LayoutModel",
      "state": {}
     },
     "3992adc17eb04c56ad804d677cfa892f": {
      "model_module": "@jupyter-widgets/base",
      "model_module_version": "1.2.0",
      "model_name": "LayoutModel",
      "state": {}
     },
     "39a5648f22854a909262587f18ad610f": {
      "model_module": "@jupyter-widgets/controls",
      "model_module_version": "1.5.0",
      "model_name": "HBoxModel",
      "state": {
       "children": [
        "IPY_MODEL_3291443c548b43f3b4175c9b6f168779",
        "IPY_MODEL_5de24a07b88c466d97d1aece7e742b6f"
       ],
       "layout": "IPY_MODEL_32586a6d92ba4ae68c2dfe1641e90d77"
      }
     },
     "39ae4280fab0452d8a71646d7e763a1b": {
      "model_module": "@jupyter-widgets/base",
      "model_module_version": "1.2.0",
      "model_name": "LayoutModel",
      "state": {}
     },
     "39e89b2b7df649ff874d021b9c50650e": {
      "model_module": "@jupyter-widgets/controls",
      "model_module_version": "1.5.0",
      "model_name": "ProgressStyleModel",
      "state": {
       "description_width": "initial"
      }
     },
     "39fd583015614cafa2d2361238294f62": {
      "model_module": "@jupyter-widgets/base",
      "model_module_version": "1.2.0",
      "model_name": "LayoutModel",
      "state": {}
     },
     "3a04d9e80fdc47fcbc219e6d15f769be": {
      "model_module": "@jupyter-widgets/controls",
      "model_module_version": "1.5.0",
      "model_name": "DescriptionStyleModel",
      "state": {
       "description_width": ""
      }
     },
     "3a0568e5a95741de8c1de6b0a7598f65": {
      "model_module": "@jupyter-widgets/controls",
      "model_module_version": "1.5.0",
      "model_name": "HTMLModel",
      "state": {
       "layout": "IPY_MODEL_bd36f27bd2f34f65bc021bd4ede6d54d",
       "style": "IPY_MODEL_f8a51f3574e349729083650a9607a672",
       "value": " 493/493 [23:40&lt;00:00,  2.88s/it]"
      }
     },
     "3a471f1e66014da1b3fb8f3482c0c08b": {
      "model_module": "@jupyter-widgets/controls",
      "model_module_version": "1.5.0",
      "model_name": "HTMLModel",
      "state": {
       "layout": "IPY_MODEL_8e7b262d2c394b55a8c7534a03df32c7",
       "style": "IPY_MODEL_7f81727d670240e596fd719e47e38ef3",
       "value": " 1/1 [00:00&lt;00:00,  1.23it/s]"
      }
     },
     "3a5257f2c332458682498c1d25e3f319": {
      "model_module": "@jupyter-widgets/controls",
      "model_module_version": "1.5.0",
      "model_name": "FloatProgressModel",
      "state": {
       "bar_style": "success",
       "description": "[3] 1/2(val  ): 100%",
       "layout": "IPY_MODEL_d1990a28c28f4177b33bf0f24e7a5c76",
       "max": 1,
       "style": "IPY_MODEL_24f44dca233944c6945486587be380cf",
       "value": 1
      }
     },
     "3a670da664a848379146f862e7ae5ebf": {
      "model_module": "@jupyter-widgets/controls",
      "model_module_version": "1.5.0",
      "model_name": "FloatProgressModel",
      "state": {
       "bar_style": "success",
       "description": "[1] 6/16(val  ): 100%",
       "layout": "IPY_MODEL_943effe1aeef469399bd367eebeacd1f",
       "max": 165,
       "style": "IPY_MODEL_10bfbbc2532046ed864cdfb357da0a79",
       "value": 165
      }
     },
     "3a7001b2a92a4a12a9c662ef8ab12dcc": {
      "model_module": "@jupyter-widgets/controls",
      "model_module_version": "1.5.0",
      "model_name": "ProgressStyleModel",
      "state": {
       "description_width": "initial"
      }
     },
     "3a84ec97aa284b02928aea51f648472e": {
      "model_module": "@jupyter-widgets/controls",
      "model_module_version": "1.5.0",
      "model_name": "DescriptionStyleModel",
      "state": {
       "description_width": ""
      }
     },
     "3a85ca1ba6d642f285c9d7bc102f4a58": {
      "model_module": "@jupyter-widgets/controls",
      "model_module_version": "1.5.0",
      "model_name": "ProgressStyleModel",
      "state": {
       "description_width": "initial"
      }
     },
     "3aace241c85443fab47533a465ebc387": {
      "model_module": "@jupyter-widgets/controls",
      "model_module_version": "1.5.0",
      "model_name": "ProgressStyleModel",
      "state": {
       "description_width": "initial"
      }
     },
     "3ab596950ee3418ab80d774f499bc7b6": {
      "model_module": "@jupyter-widgets/controls",
      "model_module_version": "1.5.0",
      "model_name": "DescriptionStyleModel",
      "state": {
       "description_width": ""
      }
     },
     "3acf8fafdf134b699c33eacb2c0372af": {
      "model_module": "@jupyter-widgets/base",
      "model_module_version": "1.2.0",
      "model_name": "LayoutModel",
      "state": {}
     },
     "3ad39046f3354d95a4f1727e21116fd0": {
      "model_module": "@jupyter-widgets/controls",
      "model_module_version": "1.5.0",
      "model_name": "DescriptionStyleModel",
      "state": {
       "description_width": ""
      }
     },
     "3ad5247e108f401fb2aa4afe79cdd401": {
      "model_module": "@jupyter-widgets/base",
      "model_module_version": "1.2.0",
      "model_name": "LayoutModel",
      "state": {}
     },
     "3afb00ce37a0494889ce6c1c596a78e2": {
      "model_module": "@jupyter-widgets/controls",
      "model_module_version": "1.5.0",
      "model_name": "ProgressStyleModel",
      "state": {
       "description_width": "initial"
      }
     },
     "3b0499b56d274b23bb8fe9bf85d74ac6": {
      "model_module": "@jupyter-widgets/controls",
      "model_module_version": "1.5.0",
      "model_name": "DescriptionStyleModel",
      "state": {
       "description_width": ""
      }
     },
     "3b148a22fea4475e9d31b34971dea180": {
      "model_module": "@jupyter-widgets/controls",
      "model_module_version": "1.5.0",
      "model_name": "HTMLModel",
      "state": {
       "layout": "IPY_MODEL_4e6401d8f2b04332b37d96bed42bcef9",
       "style": "IPY_MODEL_4082bfd462e74d40ad04e06c5fccbf4d",
       "value": " 493/493 [19:54&lt;00:00,  2.42s/it]"
      }
     },
     "3b1bb2f48a3d4d33ac66974c177a55db": {
      "model_module": "@jupyter-widgets/controls",
      "model_module_version": "1.5.0",
      "model_name": "HBoxModel",
      "state": {
       "children": [
        "IPY_MODEL_a3db152a033a454eb3a428d81084ddb4",
        "IPY_MODEL_52be65e5c13049679fca67d6bf28e99d"
       ],
       "layout": "IPY_MODEL_062ada6555cb4747adf029591d8e4af5"
      }
     },
     "3b1e9ed95a6e459b81264cc2fdf1f54f": {
      "model_module": "@jupyter-widgets/base",
      "model_module_version": "1.2.0",
      "model_name": "LayoutModel",
      "state": {}
     },
     "3b27339d73fa4a629a455522f1f8e227": {
      "model_module": "@jupyter-widgets/controls",
      "model_module_version": "1.5.0",
      "model_name": "HTMLModel",
      "state": {
       "layout": "IPY_MODEL_94fc52b5e55d4b44b3bdb5c73812422c",
       "style": "IPY_MODEL_7c71c436f6874b8fbc1993f4058b784e",
       "value": " 165/165 [01:19&lt;00:00,  2.08it/s]"
      }
     },
     "3b31e72c45604eda9dfcf961443aef71": {
      "model_module": "@jupyter-widgets/base",
      "model_module_version": "1.2.0",
      "model_name": "LayoutModel",
      "state": {}
     },
     "3b3e704b58d6483d92ad3374ab532fd5": {
      "model_module": "@jupyter-widgets/controls",
      "model_module_version": "1.5.0",
      "model_name": "HTMLModel",
      "state": {
       "layout": "IPY_MODEL_93360aa3c238462c9e05880e89061d94",
       "style": "IPY_MODEL_ac535832af23478ca37e1f95b0282df2",
       "value": " 165/165 [01:18&lt;00:00,  2.09it/s]"
      }
     },
     "3b503c75d9bd437899ace7d7ce5ccf7f": {
      "model_module": "@jupyter-widgets/controls",
      "model_module_version": "1.5.0",
      "model_name": "ProgressStyleModel",
      "state": {
       "description_width": "initial"
      }
     },
     "3b531f06ff2840fa81dbe36a2aa4c8bb": {
      "model_module": "@jupyter-widgets/base",
      "model_module_version": "1.2.0",
      "model_name": "LayoutModel",
      "state": {}
     },
     "3b6e29c412534990b60f209c3ed5e655": {
      "model_module": "@jupyter-widgets/controls",
      "model_module_version": "1.5.0",
      "model_name": "ProgressStyleModel",
      "state": {
       "description_width": "initial"
      }
     },
     "3b73da128e08484c9303e133624f53fc": {
      "model_module": "@jupyter-widgets/base",
      "model_module_version": "1.2.0",
      "model_name": "LayoutModel",
      "state": {}
     },
     "3b873f99757b4e309be49d8299714486": {
      "model_module": "@jupyter-widgets/controls",
      "model_module_version": "1.5.0",
      "model_name": "ProgressStyleModel",
      "state": {
       "description_width": "initial"
      }
     },
     "3b910714be2e4af9b998399b70f53739": {
      "model_module": "@jupyter-widgets/controls",
      "model_module_version": "1.5.0",
      "model_name": "HTMLModel",
      "state": {
       "layout": "IPY_MODEL_3f52216cb08a4dcbb55794c8abbf7141",
       "style": "IPY_MODEL_76cccb1438ee47eea5d1b552f5c1a8aa",
       "value": " 493/493 [20:24&lt;00:00,  2.48s/it]"
      }
     },
     "3ba6f20a891e406daa9e9f86cb6f3887": {
      "model_module": "@jupyter-widgets/controls",
      "model_module_version": "1.5.0",
      "model_name": "DescriptionStyleModel",
      "state": {
       "description_width": ""
      }
     },
     "3bc9d64a392042a7ad8dc86e9bd30ff7": {
      "model_module": "@jupyter-widgets/base",
      "model_module_version": "1.2.0",
      "model_name": "LayoutModel",
      "state": {}
     },
     "3bca03b26e6c4608a095848ba6803bc3": {
      "model_module": "@jupyter-widgets/controls",
      "model_module_version": "1.5.0",
      "model_name": "HBoxModel",
      "state": {
       "children": [
        "IPY_MODEL_123190f1aa3f404aa8d8d3e9d3af438c",
        "IPY_MODEL_6e429e677f744e0ea7220d70be6a87b7"
       ],
       "layout": "IPY_MODEL_fea56a01038341b3b0d0442f2be82bd3"
      }
     },
     "3bd7f38f3196497696bf18c5ef65f7b3": {
      "model_module": "@jupyter-widgets/controls",
      "model_module_version": "1.5.0",
      "model_name": "DescriptionStyleModel",
      "state": {
       "description_width": ""
      }
     },
     "3bdb3196bb7941ca945d5d722fa29980": {
      "model_module": "@jupyter-widgets/controls",
      "model_module_version": "1.5.0",
      "model_name": "FloatProgressModel",
      "state": {
       "bar_style": "success",
       "description": "[0] 12/15(train): 100%",
       "layout": "IPY_MODEL_ccd36714f9de414b870f63f49c4944a8",
       "max": 3,
       "style": "IPY_MODEL_2ce45280024040e9a9e4077237fb2533",
       "value": 3
      }
     },
     "3bde2d9bc7e54b568b29b4c706cc5b80": {
      "model_module": "@jupyter-widgets/base",
      "model_module_version": "1.2.0",
      "model_name": "LayoutModel",
      "state": {}
     },
     "3befb2da1eda4569b981ab619034c5f2": {
      "model_module": "@jupyter-widgets/controls",
      "model_module_version": "1.5.0",
      "model_name": "HTMLModel",
      "state": {
       "layout": "IPY_MODEL_f0c169d2dcd74ac9989e20312e2133fd",
       "style": "IPY_MODEL_d4eb8b02828d4f91bcfc7bf7cf3e49ac",
       "value": " 165/165 [01:01&lt;00:00,  2.67it/s]"
      }
     },
     "3bf95dcfcdab4a7690c9390310c90ac7": {
      "model_module": "@jupyter-widgets/controls",
      "model_module_version": "1.5.0",
      "model_name": "HTMLModel",
      "state": {
       "layout": "IPY_MODEL_d6abd0645cc144f1824bca96e4e25877",
       "style": "IPY_MODEL_ba129438315846038d61d564e22e7ac8",
       "value": " 165/165 [01:19&lt;00:00,  2.07it/s]"
      }
     },
     "3c05135c23494acb98a83c7588a8d4fa": {
      "model_module": "@jupyter-widgets/controls",
      "model_module_version": "1.5.0",
      "model_name": "HTMLModel",
      "state": {
       "layout": "IPY_MODEL_274dda66108b45e99dfb471667bd0d96",
       "style": "IPY_MODEL_37eb4a68893c421e909ac73a9ef4e1cc",
       "value": " 165/165 [17:46&lt;00:00,  6.46s/it]"
      }
     },
     "3c0c060c138f42eab2d3a4cc15918fe0": {
      "model_module": "@jupyter-widgets/controls",
      "model_module_version": "1.5.0",
      "model_name": "HBoxModel",
      "state": {
       "children": [
        "IPY_MODEL_5e49cdf1a5e848969b20eac3d4611d0b",
        "IPY_MODEL_0d9c1c21492145619dfbf122b131beea"
       ],
       "layout": "IPY_MODEL_842977775d9548db8eb58666d2b78afa"
      }
     },
     "3c15bf52e90a417f9bfa729476ec4fb9": {
      "model_module": "@jupyter-widgets/base",
      "model_module_version": "1.2.0",
      "model_name": "LayoutModel",
      "state": {}
     },
     "3c2258eebb3943eca782811ad5272269": {
      "model_module": "@jupyter-widgets/controls",
      "model_module_version": "1.5.0",
      "model_name": "DescriptionStyleModel",
      "state": {
       "description_width": ""
      }
     },
     "3c22891da4694ae0b6d295967099ba88": {
      "model_module": "@jupyter-widgets/controls",
      "model_module_version": "1.5.0",
      "model_name": "FloatProgressModel",
      "state": {
       "bar_style": "danger",
       "description": "[0] 1/15(train):   0%",
       "layout": "IPY_MODEL_de647ab84adc48109dc0e2db6a377cdf",
       "max": 493,
       "style": "IPY_MODEL_5840c79772214abba51e1aa316305211"
      }
     },
     "3c477a68f7d047f69be377f419310573": {
      "model_module": "@jupyter-widgets/controls",
      "model_module_version": "1.5.0",
      "model_name": "HBoxModel",
      "state": {
       "children": [
        "IPY_MODEL_77bdc3c29980490595cae8a378e47b72",
        "IPY_MODEL_613fd78003704c65829d89c9a21a861e"
       ],
       "layout": "IPY_MODEL_d89537044b974e58a5ce23e85d0cb005"
      }
     },
     "3c4920b703494f148934600cf0b09ba1": {
      "model_module": "@jupyter-widgets/controls",
      "model_module_version": "1.5.0",
      "model_name": "ProgressStyleModel",
      "state": {
       "description_width": "initial"
      }
     },
     "3c5912b704834fbfa3e9e439438f6eb8": {
      "model_module": "@jupyter-widgets/base",
      "model_module_version": "1.2.0",
      "model_name": "LayoutModel",
      "state": {}
     },
     "3c5cb27abac9453a99003afa4159cb7c": {
      "model_module": "@jupyter-widgets/controls",
      "model_module_version": "1.5.0",
      "model_name": "FloatProgressModel",
      "state": {
       "bar_style": "success",
       "description": "[0] 1/15(train): 100%",
       "layout": "IPY_MODEL_ad2f9c83fd984e629a7481fc380f29a6",
       "max": 3,
       "style": "IPY_MODEL_4c95e8d4fe7b45108c7d69702ad69e0a",
       "value": 3
      }
     },
     "3c7c9a3bfa2e4a9eaa4a2750d70b1fa8": {
      "model_module": "@jupyter-widgets/controls",
      "model_module_version": "1.5.0",
      "model_name": "DescriptionStyleModel",
      "state": {
       "description_width": ""
      }
     },
     "3c99e127e8ee48358dc6d0eb6fcd5db4": {
      "model_module": "@jupyter-widgets/controls",
      "model_module_version": "1.5.0",
      "model_name": "HBoxModel",
      "state": {
       "children": [
        "IPY_MODEL_35ced6e844574c8bb157205164bc9bc0",
        "IPY_MODEL_ec990dd3aa1d4991bf6e347a97894b98"
       ],
       "layout": "IPY_MODEL_b47feb7fcd684f478e4c527841675f6a"
      }
     },
     "3cb56ffa1729404d8fc9da9f1b9fa49f": {
      "model_module": "@jupyter-widgets/base",
      "model_module_version": "1.2.0",
      "model_name": "LayoutModel",
      "state": {}
     },
     "3cb5df6d0c2244f2b7738a02aaf63f31": {
      "model_module": "@jupyter-widgets/base",
      "model_module_version": "1.2.0",
      "model_name": "LayoutModel",
      "state": {}
     },
     "3cbbcea2d20745cf992886b0455ba76d": {
      "model_module": "@jupyter-widgets/controls",
      "model_module_version": "1.5.0",
      "model_name": "HBoxModel",
      "state": {
       "children": [
        "IPY_MODEL_843b0cb6c8614ebcb83d9100a5abab2a",
        "IPY_MODEL_48d973791c584af3b1c1f676eb9a1fcb"
       ],
       "layout": "IPY_MODEL_a2f68009a5f943a18ded13c2d95f07fa"
      }
     },
     "3cbd5c2a35774b6b88f3dc8ed8f3c83c": {
      "model_module": "@jupyter-widgets/controls",
      "model_module_version": "1.5.0",
      "model_name": "HBoxModel",
      "state": {
       "children": [
        "IPY_MODEL_2c0cd6b0908a4278a5f65fb0f04a83c2",
        "IPY_MODEL_e9967e825d524e68b37e58181f658fd1"
       ],
       "layout": "IPY_MODEL_ddd9397b0ef04c408b3c711355859acf"
      }
     },
     "3cc8393b1c034416acae3edeeb06c6b8": {
      "model_module": "@jupyter-widgets/controls",
      "model_module_version": "1.5.0",
      "model_name": "ProgressStyleModel",
      "state": {
       "description_width": "initial"
      }
     },
     "3cd0131160364f038d53b9f9f678e173": {
      "model_module": "@jupyter-widgets/base",
      "model_module_version": "1.2.0",
      "model_name": "LayoutModel",
      "state": {}
     },
     "3cd2d86f8f934946b4db4d34f82bea01": {
      "model_module": "@jupyter-widgets/controls",
      "model_module_version": "1.5.0",
      "model_name": "DescriptionStyleModel",
      "state": {
       "description_width": ""
      }
     },
     "3ce17125f6cf41848d56f751edc21d50": {
      "model_module": "@jupyter-widgets/controls",
      "model_module_version": "1.5.0",
      "model_name": "HBoxModel",
      "state": {
       "children": [
        "IPY_MODEL_ccec28edc0f346dea8509e2fcfd8a6cf",
        "IPY_MODEL_69a02f917d23474fa895f9557786a3bf"
       ],
       "layout": "IPY_MODEL_8ebbc1c352584b729ad0acf2adfeae88"
      }
     },
     "3d181a6da62e4e489eb29351f44e257c": {
      "model_module": "@jupyter-widgets/controls",
      "model_module_version": "1.5.0",
      "model_name": "ProgressStyleModel",
      "state": {
       "description_width": "initial"
      }
     },
     "3d266a64a12747f1b3cb5b4f053b7a63": {
      "model_module": "@jupyter-widgets/base",
      "model_module_version": "1.2.0",
      "model_name": "LayoutModel",
      "state": {}
     },
     "3d2a234c7cfc41068081fd91cb56edd0": {
      "model_module": "@jupyter-widgets/controls",
      "model_module_version": "1.5.0",
      "model_name": "DescriptionStyleModel",
      "state": {
       "description_width": ""
      }
     },
     "3d2eabeb860740e18770cf9f5129e6e4": {
      "model_module": "@jupyter-widgets/controls",
      "model_module_version": "1.5.0",
      "model_name": "FloatProgressModel",
      "state": {
       "bar_style": "success",
       "description": "[2] 5/16(train): 100%",
       "layout": "IPY_MODEL_eb456ba44e9d4e5398150738bf942486",
       "max": 493,
       "style": "IPY_MODEL_5bdd0bdea22a4018ab57532bcd5a469a",
       "value": 493
      }
     },
     "3d3248d711d2421198dd9e316f74e738": {
      "model_module": "@jupyter-widgets/controls",
      "model_module_version": "1.5.0",
      "model_name": "HTMLModel",
      "state": {
       "layout": "IPY_MODEL_474e31e3ba7d42778ce861d7e0bdf54b",
       "style": "IPY_MODEL_141d3df6d3464113b98f42df0d30fd87",
       "value": " 493/493 [23:47&lt;00:00,  2.90s/it]"
      }
     },
     "3d6a3c569bf349e792f0ed1a4873716e": {
      "model_module": "@jupyter-widgets/controls",
      "model_module_version": "1.5.0",
      "model_name": "HBoxModel",
      "state": {
       "children": [
        "IPY_MODEL_5111bdd507d2493387746b8f10acb943",
        "IPY_MODEL_948c38930b304389806f7ee398a87ea0"
       ],
       "layout": "IPY_MODEL_9600abb1d35b4a6e8bf181ede82d5a66"
      }
     },
     "3d70c8adc8da416396082e58a10f3bc8": {
      "model_module": "@jupyter-widgets/controls",
      "model_module_version": "1.5.0",
      "model_name": "ProgressStyleModel",
      "state": {
       "description_width": "initial"
      }
     },
     "3d9803a127fa4d51b95e9b71fcf15cbb": {
      "model_module": "@jupyter-widgets/controls",
      "model_module_version": "1.5.0",
      "model_name": "FloatProgressModel",
      "state": {
       "bar_style": "success",
       "description": "[2] 13/15(train): 100%",
       "layout": "IPY_MODEL_8f88bc453c734d55a5607a98894ad8c1",
       "max": 493,
       "style": "IPY_MODEL_3a7001b2a92a4a12a9c662ef8ab12dcc",
       "value": 493
      }
     },
     "3db3529332304ebfa40e26dfa54fc3fe": {
      "model_module": "@jupyter-widgets/base",
      "model_module_version": "1.2.0",
      "model_name": "LayoutModel",
      "state": {}
     },
     "3db625b8e2494d1e95eb609a16428f7c": {
      "model_module": "@jupyter-widgets/base",
      "model_module_version": "1.2.0",
      "model_name": "LayoutModel",
      "state": {}
     },
     "3db6f8838c9f49fbb659776ca4f126e9": {
      "model_module": "@jupyter-widgets/controls",
      "model_module_version": "1.5.0",
      "model_name": "FloatProgressModel",
      "state": {
       "bar_style": "success",
       "description": "[0] 5/15(val  ): 100%",
       "layout": "IPY_MODEL_2fde27c406cd4a2abc713c431b7f1370",
       "max": 1,
       "style": "IPY_MODEL_58366c89b8e645f6b242eada6f6a61ef",
       "value": 1
      }
     },
     "3dd377ccd30c41a280523c06c5817966": {
      "model_module": "@jupyter-widgets/base",
      "model_module_version": "1.2.0",
      "model_name": "LayoutModel",
      "state": {}
     },
     "3de4f584775c4ebcb5b5e28932c4ca9b": {
      "model_module": "@jupyter-widgets/controls",
      "model_module_version": "1.5.0",
      "model_name": "HBoxModel",
      "state": {
       "children": [
        "IPY_MODEL_415c5e1347e84d8c870199e821430c1d",
        "IPY_MODEL_cce42d4ce3074c459c091629ab7705e6"
       ],
       "layout": "IPY_MODEL_9e16cfdf3c9448188b4d9012c971f1da"
      }
     },
     "3e012cbb822c4338a4b727f1a9f6bbfd": {
      "model_module": "@jupyter-widgets/base",
      "model_module_version": "1.2.0",
      "model_name": "LayoutModel",
      "state": {}
     },
     "3e09c8a45c224ea4b0e4b1bc9f050de0": {
      "model_module": "@jupyter-widgets/controls",
      "model_module_version": "1.5.0",
      "model_name": "ProgressStyleModel",
      "state": {
       "description_width": "initial"
      }
     },
     "3e1695460b3a4390a2bfc0a29dddb118": {
      "model_module": "@jupyter-widgets/controls",
      "model_module_version": "1.5.0",
      "model_name": "ProgressStyleModel",
      "state": {
       "description_width": "initial"
      }
     },
     "3e5cc57385fe419b95a91ff8cf531823": {
      "model_module": "@jupyter-widgets/base",
      "model_module_version": "1.2.0",
      "model_name": "LayoutModel",
      "state": {}
     },
     "3e7615f731c146c0bf541a0ba874dde9": {
      "model_module": "@jupyter-widgets/controls",
      "model_module_version": "1.5.0",
      "model_name": "HTMLModel",
      "state": {
       "layout": "IPY_MODEL_4c0d63893c334a1e9ef1559b1a91dd78",
       "style": "IPY_MODEL_b4cab49cd04c435c845cd8f8dfef989d",
       "value": " 165/165 [01:31&lt;00:00,  1.80it/s]"
      }
     },
     "3e767bd59b664b7f920cb3096c1da889": {
      "model_module": "@jupyter-widgets/controls",
      "model_module_version": "1.5.0",
      "model_name": "DescriptionStyleModel",
      "state": {
       "description_width": ""
      }
     },
     "3ea1b7b40dea49bbae526ea56fea55e7": {
      "model_module": "@jupyter-widgets/controls",
      "model_module_version": "1.5.0",
      "model_name": "DescriptionStyleModel",
      "state": {
       "description_width": ""
      }
     },
     "3edbb14ba7ee4e1e9be1a435c7c14fca": {
      "model_module": "@jupyter-widgets/controls",
      "model_module_version": "1.5.0",
      "model_name": "HTMLModel",
      "state": {
       "layout": "IPY_MODEL_50b40e4433ea41aba444ac2efb3ebc07",
       "style": "IPY_MODEL_7a1a40902289426287bae65e84b0659e",
       "value": " 165/165 [01:36&lt;00:00,  1.72it/s]"
      }
     },
     "3ef7284e34ea46bca179e563d9e1fccb": {
      "model_module": "@jupyter-widgets/controls",
      "model_module_version": "1.5.0",
      "model_name": "ProgressStyleModel",
      "state": {
       "description_width": "initial"
      }
     },
     "3f040dfc21e64fc9a36368bc73d09169": {
      "model_module": "@jupyter-widgets/controls",
      "model_module_version": "1.5.0",
      "model_name": "FloatProgressModel",
      "state": {
       "bar_style": "success",
       "description": "[0] 9/16(val  ): 100%",
       "layout": "IPY_MODEL_d4562bf43e29472f9dfb9039b1b4cde8",
       "max": 165,
       "style": "IPY_MODEL_11974dea0eac4e23b48f10e481873231",
       "value": 165
      }
     },
     "3f1fe325b2014c1fb8f19d274ccf63c2": {
      "model_module": "@jupyter-widgets/controls",
      "model_module_version": "1.5.0",
      "model_name": "DescriptionStyleModel",
      "state": {
       "description_width": ""
      }
     },
     "3f24cf17ea4c4994880ffe068785ee27": {
      "model_module": "@jupyter-widgets/controls",
      "model_module_version": "1.5.0",
      "model_name": "ProgressStyleModel",
      "state": {
       "description_width": "initial"
      }
     },
     "3f292c5b734040dea6d0048be6254796": {
      "model_module": "@jupyter-widgets/base",
      "model_module_version": "1.2.0",
      "model_name": "LayoutModel",
      "state": {}
     },
     "3f36b22b9c3b4f8ab3b62e5b2aa3bd15": {
      "model_module": "@jupyter-widgets/controls",
      "model_module_version": "1.5.0",
      "model_name": "DescriptionStyleModel",
      "state": {
       "description_width": ""
      }
     },
     "3f3ff3df8c98499a9569efd93ca9d60d": {
      "model_module": "@jupyter-widgets/base",
      "model_module_version": "1.2.0",
      "model_name": "LayoutModel",
      "state": {}
     },
     "3f44225943be45dc9a34868b32b1efd5": {
      "model_module": "@jupyter-widgets/controls",
      "model_module_version": "1.5.0",
      "model_name": "HBoxModel",
      "state": {
       "children": [
        "IPY_MODEL_044fd0daf2b140f69ad38b57d5d0816c",
        "IPY_MODEL_fa17c3c9f0e2448d9c6f0a380216e13d"
       ],
       "layout": "IPY_MODEL_5f3e06e600aa4d258362d7fbf62e5f18"
      }
     },
     "3f46127237b041589f67dc1c1432a968": {
      "model_module": "@jupyter-widgets/controls",
      "model_module_version": "1.5.0",
      "model_name": "FloatProgressModel",
      "state": {
       "bar_style": "success",
       "description": "[0] 1/2(train): 100%",
       "layout": "IPY_MODEL_c082c86fcc994329b046cc9c606e03df",
       "max": 3,
       "style": "IPY_MODEL_ff48131986004299b4358b5e8946eb3b",
       "value": 3
      }
     },
     "3f52216cb08a4dcbb55794c8abbf7141": {
      "model_module": "@jupyter-widgets/base",
      "model_module_version": "1.2.0",
      "model_name": "LayoutModel",
      "state": {}
     },
     "3f66c0f1883d42819cb67cd6ffb07977": {
      "model_module": "@jupyter-widgets/base",
      "model_module_version": "1.2.0",
      "model_name": "LayoutModel",
      "state": {}
     },
     "3f846db1b5e4487d8ae04551f04743f9": {
      "model_module": "@jupyter-widgets/base",
      "model_module_version": "1.2.0",
      "model_name": "LayoutModel",
      "state": {}
     },
     "3f9c31631ecc42789866f93a973c7a73": {
      "model_module": "@jupyter-widgets/controls",
      "model_module_version": "1.5.0",
      "model_name": "HTMLModel",
      "state": {
       "layout": "IPY_MODEL_652003c0fbca4fa480aeed2ac2486923",
       "style": "IPY_MODEL_a127b8f7cfab49399966b9571461a320",
       "value": " 3/3 [00:06&lt;00:00,  2.11s/it]"
      }
     },
     "3f9fd77afc064b589a21ff2ef8169321": {
      "model_module": "@jupyter-widgets/controls",
      "model_module_version": "1.5.0",
      "model_name": "DescriptionStyleModel",
      "state": {
       "description_width": ""
      }
     },
     "3fa475f1b57d4d3b83bbd25544bd3136": {
      "model_module": "@jupyter-widgets/controls",
      "model_module_version": "1.5.0",
      "model_name": "HTMLModel",
      "state": {
       "layout": "IPY_MODEL_9564b5aa82b44ff0a1ea5008c9a1962c",
       "style": "IPY_MODEL_9309f06fb239467b82d2b2516d6d7ec3",
       "value": " 1/1 [00:00&lt;00:00,  1.59it/s]"
      }
     },
     "3fa820f95f1b4d21ac1b73ab3e4db2ed": {
      "model_module": "@jupyter-widgets/controls",
      "model_module_version": "1.5.0",
      "model_name": "ProgressStyleModel",
      "state": {
       "description_width": "initial"
      }
     },
     "3fb2e108d89f431ea1eabbae5785ba0e": {
      "model_module": "@jupyter-widgets/controls",
      "model_module_version": "1.5.0",
      "model_name": "FloatProgressModel",
      "state": {
       "bar_style": "success",
       "description": "[3] 14/16(val  ): 100%",
       "layout": "IPY_MODEL_270605d8156547f996b0930f49991d67",
       "max": 165,
       "style": "IPY_MODEL_c63c22422c954c289df9a262abc7ee93",
       "value": 165
      }
     },
     "3fbc9ac8d7ee48b9b0278adc49911bbf": {
      "model_module": "@jupyter-widgets/controls",
      "model_module_version": "1.5.0",
      "model_name": "ProgressStyleModel",
      "state": {
       "description_width": "initial"
      }
     },
     "3fd9eca4bbc04164bea509362deb278c": {
      "model_module": "@jupyter-widgets/controls",
      "model_module_version": "1.5.0",
      "model_name": "HBoxModel",
      "state": {
       "children": [
        "IPY_MODEL_8219760fdaa944438ba07a8ca0b0d723",
        "IPY_MODEL_db262f8ce2fd46bdb3610d832908f3a7"
       ],
       "layout": "IPY_MODEL_416e5225494444b08a363313386448d5"
      }
     },
     "4000e3114f164c61ab907c2b7bbdbfd3": {
      "model_module": "@jupyter-widgets/controls",
      "model_module_version": "1.5.0",
      "model_name": "HTMLModel",
      "state": {
       "layout": "IPY_MODEL_e6127391fd46405f8e5e8b2f421de5b7",
       "style": "IPY_MODEL_a68e46d43b5144f1b617403a05f1cdc2",
       "value": " 165/165 [01:30&lt;00:00,  1.83it/s]"
      }
     },
     "401d07ca2db34920b6939e9d4ab2808a": {
      "model_module": "@jupyter-widgets/base",
      "model_module_version": "1.2.0",
      "model_name": "LayoutModel",
      "state": {}
     },
     "40230b59fb604d3aaba9da1f96ff2851": {
      "model_module": "@jupyter-widgets/controls",
      "model_module_version": "1.5.0",
      "model_name": "FloatProgressModel",
      "state": {
       "bar_style": "danger",
       "description": "[1] 1/15(train):   0%",
       "layout": "IPY_MODEL_5f8c349352d0433bbca36483460e1f29",
       "max": 493,
       "style": "IPY_MODEL_d803b44dbda640d6926aea1a429e6695"
      }
     },
     "402deb822bbb49a498519315cd1500b6": {
      "model_module": "@jupyter-widgets/controls",
      "model_module_version": "1.5.0",
      "model_name": "FloatProgressModel",
      "state": {
       "bar_style": "success",
       "description": "[1] 2/2(val  ): 100%",
       "layout": "IPY_MODEL_d60f2a6b74354e8e893b0b29010caf66",
       "max": 1,
       "style": "IPY_MODEL_fa648194fcbf453db6ff955ab0e83d9c",
       "value": 1
      }
     },
     "403f0c064ba2407fb7d9211233792965": {
      "model_module": "@jupyter-widgets/base",
      "model_module_version": "1.2.0",
      "model_name": "LayoutModel",
      "state": {}
     },
     "4064763e0b8249a1b66d43a2b558f53e": {
      "model_module": "@jupyter-widgets/controls",
      "model_module_version": "1.5.0",
      "model_name": "FloatProgressModel",
      "state": {
       "bar_style": "success",
       "description": "[3] 8/16(train): 100%",
       "layout": "IPY_MODEL_5f1f81d3ebff442992fa233d6fe50357",
       "max": 493,
       "style": "IPY_MODEL_0f83d4987550402bb2e1f6fea45c77e6",
       "value": 493
      }
     },
     "4065ceebcb9b42af9541bde440382b74": {
      "model_module": "@jupyter-widgets/base",
      "model_module_version": "1.2.0",
      "model_name": "LayoutModel",
      "state": {}
     },
     "4070e0baa6e64e6cb4340e6767e4bbfe": {
      "model_module": "@jupyter-widgets/controls",
      "model_module_version": "1.5.0",
      "model_name": "FloatProgressModel",
      "state": {
       "bar_style": "success",
       "description": "[0] 1/2(val  ): 100%",
       "layout": "IPY_MODEL_e4e8d9753a1c429f9b6e885d48df64bb",
       "max": 1,
       "style": "IPY_MODEL_75f53fabc42742e9874ca59cc60e746f",
       "value": 1
      }
     },
     "4082bfd462e74d40ad04e06c5fccbf4d": {
      "model_module": "@jupyter-widgets/controls",
      "model_module_version": "1.5.0",
      "model_name": "DescriptionStyleModel",
      "state": {
       "description_width": ""
      }
     },
     "4096c0c59b8f440da0224ea1ccb6fbe9": {
      "model_module": "@jupyter-widgets/controls",
      "model_module_version": "1.5.0",
      "model_name": "HTMLModel",
      "state": {
       "layout": "IPY_MODEL_f5ccd227902b44cd892b5ff50dee651b",
       "style": "IPY_MODEL_c25388fa0b654d2ea9ceaf37b027081c",
       "value": " 1/1 [00:00&lt;00:00,  1.44it/s]"
      }
     },
     "40ae96044fc04455bd743faf7159714c": {
      "model_module": "@jupyter-widgets/base",
      "model_module_version": "1.2.0",
      "model_name": "LayoutModel",
      "state": {}
     },
     "40b77b92c4a44d3ab9bb04143b2cea5d": {
      "model_module": "@jupyter-widgets/base",
      "model_module_version": "1.2.0",
      "model_name": "LayoutModel",
      "state": {}
     },
     "4129ca15b25745ba96e6cd612aab1d26": {
      "model_module": "@jupyter-widgets/base",
      "model_module_version": "1.2.0",
      "model_name": "LayoutModel",
      "state": {}
     },
     "414e6546daf7473eb99b9dcf65bad865": {
      "model_module": "@jupyter-widgets/controls",
      "model_module_version": "1.5.0",
      "model_name": "DescriptionStyleModel",
      "state": {
       "description_width": ""
      }
     },
     "415c5e1347e84d8c870199e821430c1d": {
      "model_module": "@jupyter-widgets/controls",
      "model_module_version": "1.5.0",
      "model_name": "FloatProgressModel",
      "state": {
       "bar_style": "success",
       "description": "[0] 2/2(train): 100%",
       "layout": "IPY_MODEL_01c4ca5785ab49e79c7785d88da5e4be",
       "max": 3,
       "style": "IPY_MODEL_dd0774e604724cb2817d0fd9326f4d80",
       "value": 3
      }
     },
     "416e5225494444b08a363313386448d5": {
      "model_module": "@jupyter-widgets/base",
      "model_module_version": "1.2.0",
      "model_name": "LayoutModel",
      "state": {}
     },
     "419d7929cf1d41c8a8c680b3137f1860": {
      "model_module": "@jupyter-widgets/base",
      "model_module_version": "1.2.0",
      "model_name": "LayoutModel",
      "state": {}
     },
     "41a13d0345ee48db86b9bb388c2a046e": {
      "model_module": "@jupyter-widgets/controls",
      "model_module_version": "1.5.0",
      "model_name": "HBoxModel",
      "state": {
       "children": [
        "IPY_MODEL_658c5c673455471592e057a0c76d8432",
        "IPY_MODEL_7e177db69ee04998bf425dc47fdcc327"
       ],
       "layout": "IPY_MODEL_eaa22298d915469d8e511c26e732a13b"
      }
     },
     "41b7d5c1d28e484e84779f67d35e8f6b": {
      "model_module": "@jupyter-widgets/base",
      "model_module_version": "1.2.0",
      "model_name": "LayoutModel",
      "state": {}
     },
     "41dd49038f724b728f80e746955950e6": {
      "model_module": "@jupyter-widgets/controls",
      "model_module_version": "1.5.0",
      "model_name": "HTMLModel",
      "state": {
       "layout": "IPY_MODEL_0c7d647eead444bb9c75eb0ce04a94e8",
       "style": "IPY_MODEL_59a5c2d185ee42d4bb84a19db598e0f2",
       "value": " 493/493 [23:50&lt;00:00,  2.90s/it]"
      }
     },
     "421833bcfe7447abb7138969101c81c6": {
      "model_module": "@jupyter-widgets/base",
      "model_module_version": "1.2.0",
      "model_name": "LayoutModel",
      "state": {}
     },
     "421ddde5fd534dbf99cb9ab8ba6fc148": {
      "model_module": "@jupyter-widgets/controls",
      "model_module_version": "1.5.0",
      "model_name": "FloatProgressModel",
      "state": {
       "bar_style": "success",
       "description": "[0] 2/16(train): 100%",
       "layout": "IPY_MODEL_903335863e5f46408f6bcdb25ab0ec86",
       "max": 493,
       "style": "IPY_MODEL_26e5112d0b17418ea4bfa102c7e10997",
       "value": 493
      }
     },
     "426b6ea70e0b42d2aad2a98c9148cef6": {
      "model_module": "@jupyter-widgets/base",
      "model_module_version": "1.2.0",
      "model_name": "LayoutModel",
      "state": {}
     },
     "4287bbd0002147809890c2b25960ab75": {
      "model_module": "@jupyter-widgets/controls",
      "model_module_version": "1.5.0",
      "model_name": "HBoxModel",
      "state": {
       "children": [
        "IPY_MODEL_47e7b01db830487580adc60f7f664dcf",
        "IPY_MODEL_731782042a0442019651d86fb42ccbfa"
       ],
       "layout": "IPY_MODEL_f13ba15ff9f34378bd7ffe9059546b91"
      }
     },
     "42ba60ef484f44b08560b053d697e9d0": {
      "model_module": "@jupyter-widgets/controls",
      "model_module_version": "1.5.0",
      "model_name": "HTMLModel",
      "state": {
       "layout": "IPY_MODEL_e1e5b39587b84525b1ac8131dd94f5db",
       "style": "IPY_MODEL_f53242acd17b40bb956ac32d03036064",
       "value": " 493/493 [21:30&lt;00:00,  2.62s/it]"
      }
     },
     "42fd4c2f0c6a4e968b9d9bda2909d4cc": {
      "model_module": "@jupyter-widgets/controls",
      "model_module_version": "1.5.0",
      "model_name": "DescriptionStyleModel",
      "state": {
       "description_width": ""
      }
     },
     "430c090d173f4f4b834cb80a2a44cc9d": {
      "model_module": "@jupyter-widgets/base",
      "model_module_version": "1.2.0",
      "model_name": "LayoutModel",
      "state": {}
     },
     "4332be1d7e0845c38bc84e78ffab0cde": {
      "model_module": "@jupyter-widgets/base",
      "model_module_version": "1.2.0",
      "model_name": "LayoutModel",
      "state": {}
     },
     "434a481650db40fbbdc2666a4976b024": {
      "model_module": "@jupyter-widgets/controls",
      "model_module_version": "1.5.0",
      "model_name": "HBoxModel",
      "state": {
       "children": [
        "IPY_MODEL_69769d55036141ca90f943c3a7520539",
        "IPY_MODEL_2acbb44cf06d4158a57c29eeb80263bc"
       ],
       "layout": "IPY_MODEL_814b26805ce84180b196cce955dfd8fc"
      }
     },
     "435e9d6e7e0a426280fb13e60dcf3c5e": {
      "model_module": "@jupyter-widgets/controls",
      "model_module_version": "1.5.0",
      "model_name": "DescriptionStyleModel",
      "state": {
       "description_width": ""
      }
     },
     "436c91fc6ec7476286de1e435ab1234e": {
      "model_module": "@jupyter-widgets/base",
      "model_module_version": "1.2.0",
      "model_name": "LayoutModel",
      "state": {}
     },
     "43792d382f9547a892e14037ec7939e0": {
      "model_module": "@jupyter-widgets/controls",
      "model_module_version": "1.5.0",
      "model_name": "HBoxModel",
      "state": {
       "children": [
        "IPY_MODEL_fb107078a4d7455a9f677610151fe6a8",
        "IPY_MODEL_41dd49038f724b728f80e746955950e6"
       ],
       "layout": "IPY_MODEL_9f077f6cf251461987f8238ec1b47c8e"
      }
     },
     "43906658b0774c118284591fcfe5e289": {
      "model_module": "@jupyter-widgets/base",
      "model_module_version": "1.2.0",
      "model_name": "LayoutModel",
      "state": {}
     },
     "4395fad6f00d40ccab6df1893b65b3c2": {
      "model_module": "@jupyter-widgets/base",
      "model_module_version": "1.2.0",
      "model_name": "LayoutModel",
      "state": {}
     },
     "43a6df63e91a4cb6966fc64f6c5c646b": {
      "model_module": "@jupyter-widgets/controls",
      "model_module_version": "1.5.0",
      "model_name": "HTMLModel",
      "state": {
       "layout": "IPY_MODEL_947304e9b427483dbf9cfc38fcfdc5a9",
       "style": "IPY_MODEL_eb269be3ccc142159130f43678672200",
       "value": " 493/493 [3:10:35&lt;00:00, 23.20s/it]"
      }
     },
     "43ad75eb06af499ab2d4078b6160d688": {
      "model_module": "@jupyter-widgets/controls",
      "model_module_version": "1.5.0",
      "model_name": "DescriptionStyleModel",
      "state": {
       "description_width": ""
      }
     },
     "43b9e276160e4b339f911f0827ae0a3d": {
      "model_module": "@jupyter-widgets/controls",
      "model_module_version": "1.5.0",
      "model_name": "HTMLModel",
      "state": {
       "layout": "IPY_MODEL_a85656354c9d4cc0ad463fc64a380177",
       "style": "IPY_MODEL_646330ffd1b04e798437e3999fb32286",
       "value": " 165/165 [01:32&lt;00:00,  1.78it/s]"
      }
     },
     "43d0a18b31b14b38ba03127b978e2168": {
      "model_module": "@jupyter-widgets/base",
      "model_module_version": "1.2.0",
      "model_name": "LayoutModel",
      "state": {}
     },
     "441314c2ece742de8d11693bf90a7773": {
      "model_module": "@jupyter-widgets/controls",
      "model_module_version": "1.5.0",
      "model_name": "DescriptionStyleModel",
      "state": {
       "description_width": ""
      }
     },
     "442d27a5d7e24fe6a041023f1645975a": {
      "model_module": "@jupyter-widgets/base",
      "model_module_version": "1.2.0",
      "model_name": "LayoutModel",
      "state": {}
     },
     "4441744c66b047af8ae166acbbd3b3f7": {
      "model_module": "@jupyter-widgets/base",
      "model_module_version": "1.2.0",
      "model_name": "LayoutModel",
      "state": {}
     },
     "447abf4f161848b2b5bf6bcc6c31f573": {
      "model_module": "@jupyter-widgets/controls",
      "model_module_version": "1.5.0",
      "model_name": "DescriptionStyleModel",
      "state": {
       "description_width": ""
      }
     },
     "44897a2cbfbd4592aea23355199b2639": {
      "model_module": "@jupyter-widgets/base",
      "model_module_version": "1.2.0",
      "model_name": "LayoutModel",
      "state": {}
     },
     "44936e9c93b9402f9ba0ccd6bcccd20f": {
      "model_module": "@jupyter-widgets/base",
      "model_module_version": "1.2.0",
      "model_name": "LayoutModel",
      "state": {}
     },
     "44986f80e91346e5b87b96ea5e8683d4": {
      "model_module": "@jupyter-widgets/controls",
      "model_module_version": "1.5.0",
      "model_name": "DescriptionStyleModel",
      "state": {
       "description_width": ""
      }
     },
     "449ee1d47b504ecab237bcb4c6428f79": {
      "model_module": "@jupyter-widgets/controls",
      "model_module_version": "1.5.0",
      "model_name": "ProgressStyleModel",
      "state": {
       "description_width": "initial"
      }
     },
     "454a78461ac2479e8fe7f8e9a9566dd1": {
      "model_module": "@jupyter-widgets/base",
      "model_module_version": "1.2.0",
      "model_name": "LayoutModel",
      "state": {}
     },
     "4555bb7c8d9d4b4b9fbab1e5eed06e7a": {
      "model_module": "@jupyter-widgets/controls",
      "model_module_version": "1.5.0",
      "model_name": "DescriptionStyleModel",
      "state": {
       "description_width": ""
      }
     },
     "456a48a6c0fd4ac2aaa21ffa5cc22ac0": {
      "model_module": "@jupyter-widgets/base",
      "model_module_version": "1.2.0",
      "model_name": "LayoutModel",
      "state": {}
     },
     "45abd680d1a24946aad032c1d6803f2d": {
      "model_module": "@jupyter-widgets/controls",
      "model_module_version": "1.5.0",
      "model_name": "ProgressStyleModel",
      "state": {
       "description_width": "initial"
      }
     },
     "45d51aef46e94d0f9d429346faaa1f44": {
      "model_module": "@jupyter-widgets/controls",
      "model_module_version": "1.5.0",
      "model_name": "ProgressStyleModel",
      "state": {
       "description_width": "initial"
      }
     },
     "4614fe83358d4098aec3d1d8fc67959f": {
      "model_module": "@jupyter-widgets/base",
      "model_module_version": "1.2.0",
      "model_name": "LayoutModel",
      "state": {}
     },
     "461a5c88f7734943b914709cc5e358f7": {
      "model_module": "@jupyter-widgets/controls",
      "model_module_version": "1.5.0",
      "model_name": "HTMLModel",
      "state": {
       "layout": "IPY_MODEL_a9628001826c45fa81349a6df97b8c3f",
       "style": "IPY_MODEL_855d050b046148fb8318be943abbac4b",
       "value": " 1/1 [00:01&lt;00:00,  1.08s/it]"
      }
     },
     "463328e251b14f379f83cd95096534b1": {
      "model_module": "@jupyter-widgets/controls",
      "model_module_version": "1.5.0",
      "model_name": "HTMLModel",
      "state": {
       "layout": "IPY_MODEL_7e92e5993a3e4ef38922edf2ec7f67ab",
       "style": "IPY_MODEL_3f1fe325b2014c1fb8f19d274ccf63c2",
       "value": " 165/165 [46:31&lt;00:00, 16.92s/it]"
      }
     },
     "465504fffa814d8395364704cd0867b5": {
      "model_module": "@jupyter-widgets/controls",
      "model_module_version": "1.5.0",
      "model_name": "HBoxModel",
      "state": {
       "children": [
        "IPY_MODEL_642b38f07f03491e81c7f995a005c362",
        "IPY_MODEL_647ec94161d248f3a2ba9463f7509e3a"
       ],
       "layout": "IPY_MODEL_4e4b1a2e3f814c798e189a0cad101641"
      }
     },
     "4663fe02877e469ea49189cc8be174c9": {
      "model_module": "@jupyter-widgets/base",
      "model_module_version": "1.2.0",
      "model_name": "LayoutModel",
      "state": {}
     },
     "4687dfac2c654297ad472667ce931e51": {
      "model_module": "@jupyter-widgets/controls",
      "model_module_version": "1.5.0",
      "model_name": "FloatProgressModel",
      "state": {
       "bar_style": "danger",
       "description": "[1] 1/15(train):   0%",
       "layout": "IPY_MODEL_5d6d4330035545ab96994fe08a47b553",
       "max": 493,
       "style": "IPY_MODEL_359006297fe44744a389ae8e59466821"
      }
     },
     "46918ec8b1b3440186be6b3050abbd0b": {
      "model_module": "@jupyter-widgets/controls",
      "model_module_version": "1.5.0",
      "model_name": "HBoxModel",
      "state": {
       "children": [
        "IPY_MODEL_705b2405b32c4bdf9d65595fa869e582",
        "IPY_MODEL_78f489609aaa48b1beb8491f9bb923d2"
       ],
       "layout": "IPY_MODEL_31c31223ee474a2fa1566682d555e2a1"
      }
     },
     "4695a4df08b04d66a630860a41540e40": {
      "model_module": "@jupyter-widgets/base",
      "model_module_version": "1.2.0",
      "model_name": "LayoutModel",
      "state": {}
     },
     "4699ec2503574d4181f4d83cd1da44cb": {
      "model_module": "@jupyter-widgets/base",
      "model_module_version": "1.2.0",
      "model_name": "LayoutModel",
      "state": {}
     },
     "46d3491b0d464b5dafe8034fe930b563": {
      "model_module": "@jupyter-widgets/controls",
      "model_module_version": "1.5.0",
      "model_name": "ProgressStyleModel",
      "state": {
       "description_width": "initial"
      }
     },
     "46d5cb1c693948fbabf1123c870542bb": {
      "model_module": "@jupyter-widgets/base",
      "model_module_version": "1.2.0",
      "model_name": "LayoutModel",
      "state": {}
     },
     "46d67ed7e3ed49dc8997659b549e3edd": {
      "model_module": "@jupyter-widgets/controls",
      "model_module_version": "1.5.0",
      "model_name": "ProgressStyleModel",
      "state": {
       "description_width": "initial"
      }
     },
     "46df59c5e8ff41d0b91791af8b5af208": {
      "model_module": "@jupyter-widgets/controls",
      "model_module_version": "1.5.0",
      "model_name": "FloatProgressModel",
      "state": {
       "bar_style": "success",
       "description": "[0] 15/16(train): 100%",
       "layout": "IPY_MODEL_9c2579015f9b4b5193d27e8a10eaf4c9",
       "max": 493,
       "style": "IPY_MODEL_5b22a55f3b5944a190f45c9b08796384",
       "value": 493
      }
     },
     "470c5642304b4256ac0e760c64ad4ead": {
      "model_module": "@jupyter-widgets/base",
      "model_module_version": "1.2.0",
      "model_name": "LayoutModel",
      "state": {}
     },
     "4736b59229cc4acb832df0c366c892fb": {
      "model_module": "@jupyter-widgets/controls",
      "model_module_version": "1.5.0",
      "model_name": "FloatProgressModel",
      "state": {
       "bar_style": "success",
       "description": "[1] 2/2(train): 100%",
       "layout": "IPY_MODEL_06a954fe72654fd3ac2d7b9cd9c8fab7",
       "max": 3,
       "style": "IPY_MODEL_b09b8a0bdd4844d0870f179410d1ed37",
       "value": 3
      }
     },
     "474e31e3ba7d42778ce861d7e0bdf54b": {
      "model_module": "@jupyter-widgets/base",
      "model_module_version": "1.2.0",
      "model_name": "LayoutModel",
      "state": {}
     },
     "475d01571f3e43fa8fcbe875b6176e93": {
      "model_module": "@jupyter-widgets/controls",
      "model_module_version": "1.5.0",
      "model_name": "FloatProgressModel",
      "state": {
       "bar_style": "success",
       "description": "[0] 14/16(train): 100%",
       "layout": "IPY_MODEL_7447648479674929b0a92fed343c53b8",
       "max": 493,
       "style": "IPY_MODEL_2c53f20b914347dd99a9b3d2031133af",
       "value": 493
      }
     },
     "47631cea8b5043ea89219e6373e8b5a5": {
      "model_module": "@jupyter-widgets/base",
      "model_module_version": "1.2.0",
      "model_name": "LayoutModel",
      "state": {}
     },
     "4781330b103e4737918cdfd3d477f2f5": {
      "model_module": "@jupyter-widgets/base",
      "model_module_version": "1.2.0",
      "model_name": "LayoutModel",
      "state": {}
     },
     "47a36213d3214fc68b2ad4d22e2d7d9e": {
      "model_module": "@jupyter-widgets/controls",
      "model_module_version": "1.5.0",
      "model_name": "ProgressStyleModel",
      "state": {
       "description_width": "initial"
      }
     },
     "47c1ce939ba445cdb387146eb62f6729": {
      "model_module": "@jupyter-widgets/controls",
      "model_module_version": "1.5.0",
      "model_name": "ProgressStyleModel",
      "state": {
       "description_width": "initial"
      }
     },
     "47e7b01db830487580adc60f7f664dcf": {
      "model_module": "@jupyter-widgets/controls",
      "model_module_version": "1.5.0",
      "model_name": "FloatProgressModel",
      "state": {
       "bar_style": "success",
       "description": "[3] 13/16(train): 100%",
       "layout": "IPY_MODEL_2c53e18b3fd44eb38cda3860d08cffef",
       "max": 493,
       "style": "IPY_MODEL_e11011279a9c4507842caf19ff46c37a",
       "value": 493
      }
     },
     "48011c965ec44698903ca9295ebd927a": {
      "model_module": "@jupyter-widgets/controls",
      "model_module_version": "1.5.0",
      "model_name": "FloatProgressModel",
      "state": {
       "bar_style": "success",
       "description": "[0] 1/2(train): 100%",
       "layout": "IPY_MODEL_1fefdf4615924ed6adde601b67684f10",
       "max": 3,
       "style": "IPY_MODEL_05ecd6c1224c4f5981390502992b4222",
       "value": 3
      }
     },
     "4835eddbe76646dc8361d5c02cb9ad0a": {
      "model_module": "@jupyter-widgets/controls",
      "model_module_version": "1.5.0",
      "model_name": "HTMLModel",
      "state": {
       "layout": "IPY_MODEL_a114c56613b44b07aaf7e86ed725367d",
       "style": "IPY_MODEL_f1cec599c80148c09909ce307846ea1f",
       "value": " 493/493 [16:43&lt;00:00,  2.04s/it]"
      }
     },
     "483a0b5859ba4684a8efe4a3185cbc83": {
      "model_module": "@jupyter-widgets/base",
      "model_module_version": "1.2.0",
      "model_name": "LayoutModel",
      "state": {}
     },
     "485adcc3d92c42b5abe8582222749d70": {
      "model_module": "@jupyter-widgets/controls",
      "model_module_version": "1.5.0",
      "model_name": "HTMLModel",
      "state": {
       "layout": "IPY_MODEL_4e636ea35a284a04a558312cde9a59e0",
       "style": "IPY_MODEL_c5b0e1cbd77f4ec59b1f7c116fa18873",
       "value": " 493/493 [23:17&lt;00:00,  2.84s/it]"
      }
     },
     "48b5ab7255bd4c1aa7177f9fe74053ab": {
      "model_module": "@jupyter-widgets/controls",
      "model_module_version": "1.5.0",
      "model_name": "ProgressStyleModel",
      "state": {
       "description_width": "initial"
      }
     },
     "48b8cc61c50e4713a1d448b89574c3a1": {
      "model_module": "@jupyter-widgets/base",
      "model_module_version": "1.2.0",
      "model_name": "LayoutModel",
      "state": {}
     },
     "48c0be2b50a3403891307715023ac59c": {
      "model_module": "@jupyter-widgets/controls",
      "model_module_version": "1.5.0",
      "model_name": "DescriptionStyleModel",
      "state": {
       "description_width": ""
      }
     },
     "48d973791c584af3b1c1f676eb9a1fcb": {
      "model_module": "@jupyter-widgets/controls",
      "model_module_version": "1.5.0",
      "model_name": "HTMLModel",
      "state": {
       "layout": "IPY_MODEL_b101a1c22c2944bba634d099cf619f3d",
       "style": "IPY_MODEL_71b1ce10b7024016bec018b817f63292",
       "value": " 1/1 [00:03&lt;00:00,  3.25s/it]"
      }
     },
     "48f237bd2b99406da21721f3cb03bcc5": {
      "model_module": "@jupyter-widgets/base",
      "model_module_version": "1.2.0",
      "model_name": "LayoutModel",
      "state": {}
     },
     "48f994eb73fb4a318e9540dcae34fc76": {
      "model_module": "@jupyter-widgets/controls",
      "model_module_version": "1.5.0",
      "model_name": "ProgressStyleModel",
      "state": {
       "description_width": "initial"
      }
     },
     "48fce7ad200d40e891f9d31595cbf749": {
      "model_module": "@jupyter-widgets/controls",
      "model_module_version": "1.5.0",
      "model_name": "FloatProgressModel",
      "state": {
       "bar_style": "success",
       "description": "[1] 10/16(train): 100%",
       "layout": "IPY_MODEL_76b11b480b6642fea1acf3582fcc2f91",
       "max": 493,
       "style": "IPY_MODEL_4c747e32a3294be5909c58d46ab76415",
       "value": 493
      }
     },
     "490ed9ea9dc64756a6bb5c41c8b9cabf": {
      "model_module": "@jupyter-widgets/controls",
      "model_module_version": "1.5.0",
      "model_name": "HTMLModel",
      "state": {
       "layout": "IPY_MODEL_0571d887a52c47f190cca8269005a52f",
       "style": "IPY_MODEL_7330b0b2d16f440eace17a3a8fe37bc4",
       "value": " 165/165 [1:06:45&lt;00:00, 24.27s/it]"
      }
     },
     "4914a3e75f1347a6a0803258cbbe01f0": {
      "model_module": "@jupyter-widgets/controls",
      "model_module_version": "1.5.0",
      "model_name": "HBoxModel",
      "state": {
       "children": [
        "IPY_MODEL_d02f0dbc877e434087a8d8895c3db90d",
        "IPY_MODEL_55d42a81e1084179a94d1a8d73e144ed"
       ],
       "layout": "IPY_MODEL_6e6871be8fb9405e970bd99fda1450ce"
      }
     },
     "4916b3e1d47545359766358574d3d44e": {
      "model_module": "@jupyter-widgets/controls",
      "model_module_version": "1.5.0",
      "model_name": "HTMLModel",
      "state": {
       "layout": "IPY_MODEL_92140950e7cc478a8d8d354001853a66",
       "style": "IPY_MODEL_eb6c9c5679ca4067b1677b1c74144877",
       "value": " 493/493 [21:50&lt;00:00,  2.66s/it]"
      }
     },
     "492494761bc44db283b07e9450a8c8b0": {
      "model_module": "@jupyter-widgets/controls",
      "model_module_version": "1.5.0",
      "model_name": "HBoxModel",
      "state": {
       "children": [
        "IPY_MODEL_1a2e7b95216746d8b835f99d20c93ef7",
        "IPY_MODEL_7dad50c0c82f45faa11db8b9437557d6"
       ],
       "layout": "IPY_MODEL_071b50fa80ec4f78832e8e76ec9bcd8f"
      }
     },
     "493fbe3bcc424c469f13215809f0c7f2": {
      "model_module": "@jupyter-widgets/controls",
      "model_module_version": "1.5.0",
      "model_name": "DescriptionStyleModel",
      "state": {
       "description_width": ""
      }
     },
     "494f1e1408e14c94a561a19437daaefb": {
      "model_module": "@jupyter-widgets/controls",
      "model_module_version": "1.5.0",
      "model_name": "HBoxModel",
      "state": {
       "children": [
        "IPY_MODEL_e154d770388b44fa9f1863eb4543ba39",
        "IPY_MODEL_6876b3e1e94c4974b5d9a2e67dda1eb3"
       ],
       "layout": "IPY_MODEL_1fe1ac47e3f14efa8814f0ff48476fb6"
      }
     },
     "495816c35f86406e874e0237f52dd261": {
      "model_module": "@jupyter-widgets/controls",
      "model_module_version": "1.5.0",
      "model_name": "HBoxModel",
      "state": {
       "children": [
        "IPY_MODEL_af7b923a53324030a4774f6348090257",
        "IPY_MODEL_a44e7b898ca249efad607794dbde6be9"
       ],
       "layout": "IPY_MODEL_ed9b22cd204943ffbad799584349118f"
      }
     },
     "495e4819b2954de99a9ae3dff132acaf": {
      "model_module": "@jupyter-widgets/controls",
      "model_module_version": "1.5.0",
      "model_name": "FloatProgressModel",
      "state": {
       "bar_style": "success",
       "description": "[2] 10/15(train): 100%",
       "layout": "IPY_MODEL_a77ff7211c4b44ca92b129068c9050b4",
       "max": 493,
       "style": "IPY_MODEL_1f51a625f59a4da4a74fb54e89eb29cc",
       "value": 493
      }
     },
     "497fb6e46f5d4c9f85c0cc55c82aee18": {
      "model_module": "@jupyter-widgets/controls",
      "model_module_version": "1.5.0",
      "model_name": "HTMLModel",
      "state": {
       "layout": "IPY_MODEL_a5e8bde7b26141d6a74e8f13506f914e",
       "style": "IPY_MODEL_568f1ac49fba457396eca384d2783b66",
       "value": " 1/1 [00:00&lt;00:00,  1.13it/s]"
      }
     },
     "497fd752976847e4bf5539a742e227bd": {
      "model_module": "@jupyter-widgets/controls",
      "model_module_version": "1.5.0",
      "model_name": "ProgressStyleModel",
      "state": {
       "description_width": "initial"
      }
     },
     "4989d8572650481d90d67982c64852fb": {
      "model_module": "@jupyter-widgets/controls",
      "model_module_version": "1.5.0",
      "model_name": "HTMLModel",
      "state": {
       "layout": "IPY_MODEL_80bcc5ac50404245a8365e017e6a91fa",
       "style": "IPY_MODEL_6199f7e42c264822b2bf791190a11dc5",
       "value": " 1/1 [00:00&lt;00:00,  1.27it/s]"
      }
     },
     "498a89af45a94735b58fcb2d7aa00bb3": {
      "model_module": "@jupyter-widgets/controls",
      "model_module_version": "1.5.0",
      "model_name": "HBoxModel",
      "state": {
       "children": [
        "IPY_MODEL_b38605696b114980823fd34e0be177cf",
        "IPY_MODEL_35c8fa0cb7854536b3a389c48d3a0df8"
       ],
       "layout": "IPY_MODEL_c353b597e90847f092414639fb43849e"
      }
     },
     "49c9ff180b8747adbf404650fc69efd4": {
      "model_module": "@jupyter-widgets/controls",
      "model_module_version": "1.5.0",
      "model_name": "HTMLModel",
      "state": {
       "layout": "IPY_MODEL_3021820bcd4a41049477aadaa73b27b3",
       "style": "IPY_MODEL_493fbe3bcc424c469f13215809f0c7f2",
       "value": " 1/1 [00:00&lt;00:00,  1.09it/s]"
      }
     },
     "49d09c71276644719ac4a7e761f468da": {
      "model_module": "@jupyter-widgets/controls",
      "model_module_version": "1.5.0",
      "model_name": "FloatProgressModel",
      "state": {
       "bar_style": "success",
       "description": "[0] 5/16(val  ): 100%",
       "layout": "IPY_MODEL_1623e883bd064a5ea7640090433c89e7",
       "max": 165,
       "style": "IPY_MODEL_96954d44319948d8810aacecc8630b04",
       "value": 165
      }
     },
     "49efc18d75c548999d7f58a040e84c50": {
      "model_module": "@jupyter-widgets/base",
      "model_module_version": "1.2.0",
      "model_name": "LayoutModel",
      "state": {}
     },
     "49f9b6a5a7344f1d90ff70b1288419d7": {
      "model_module": "@jupyter-widgets/base",
      "model_module_version": "1.2.0",
      "model_name": "LayoutModel",
      "state": {}
     },
     "4a20d704838c4db38ad2af81ee7796e7": {
      "model_module": "@jupyter-widgets/base",
      "model_module_version": "1.2.0",
      "model_name": "LayoutModel",
      "state": {}
     },
     "4a52051da369410887db04910edd620e": {
      "model_module": "@jupyter-widgets/controls",
      "model_module_version": "1.5.0",
      "model_name": "ProgressStyleModel",
      "state": {
       "description_width": "initial"
      }
     },
     "4aa7bef705614a67abbbe45ba6b7bb4c": {
      "model_module": "@jupyter-widgets/controls",
      "model_module_version": "1.5.0",
      "model_name": "ProgressStyleModel",
      "state": {
       "description_width": "initial"
      }
     },
     "4ac2c5c21ae6491cbfa6e637f171c54b": {
      "model_module": "@jupyter-widgets/base",
      "model_module_version": "1.2.0",
      "model_name": "LayoutModel",
      "state": {}
     },
     "4aceac01cc7f49c59638a6f2d43d6061": {
      "model_module": "@jupyter-widgets/controls",
      "model_module_version": "1.5.0",
      "model_name": "ProgressStyleModel",
      "state": {
       "description_width": "initial"
      }
     },
     "4ae99e3792894cb28da0844dfd80055e": {
      "model_module": "@jupyter-widgets/controls",
      "model_module_version": "1.5.0",
      "model_name": "FloatProgressModel",
      "state": {
       "bar_style": "success",
       "description": "[2] 6/15(val  ): 100%",
       "layout": "IPY_MODEL_cd2a7ae9fe444594ba0f6a56cf0aaeae",
       "max": 165,
       "style": "IPY_MODEL_45abd680d1a24946aad032c1d6803f2d",
       "value": 165
      }
     },
     "4afbba407cf84c7ca25e8dd53405df37": {
      "model_module": "@jupyter-widgets/controls",
      "model_module_version": "1.5.0",
      "model_name": "HBoxModel",
      "state": {
       "children": [
        "IPY_MODEL_04d149a7664b462f86f2c14dead747b5",
        "IPY_MODEL_65157baac7404f3cb6dc8d169a9c1192"
       ],
       "layout": "IPY_MODEL_5641dd194a224bb6adac4fbd827983e3"
      }
     },
     "4afe130464d84eb3a61b7765eb3b510e": {
      "model_module": "@jupyter-widgets/base",
      "model_module_version": "1.2.0",
      "model_name": "LayoutModel",
      "state": {}
     },
     "4b00af0040ef4055a5c3e17bb0570fdd": {
      "model_module": "@jupyter-widgets/controls",
      "model_module_version": "1.5.0",
      "model_name": "HBoxModel",
      "state": {
       "children": [
        "IPY_MODEL_10dc5269dbd04b658549a304d9dc0291",
        "IPY_MODEL_7249ed846cdd4b4abc72037446cee42b"
       ],
       "layout": "IPY_MODEL_59e4a9375001484a8ab013dff7897b5a"
      }
     },
     "4b0cf2c0b5a545a49e02c69c4af91e8d": {
      "model_module": "@jupyter-widgets/controls",
      "model_module_version": "1.5.0",
      "model_name": "HBoxModel",
      "state": {
       "children": [
        "IPY_MODEL_f6617614d72a4e07848fde8a6507ac4b",
        "IPY_MODEL_463328e251b14f379f83cd95096534b1"
       ],
       "layout": "IPY_MODEL_c4d9d63e74b442eebeca4eba6c5316c8"
      }
     },
     "4b1c258f76c740158cff976b86ac49a0": {
      "model_module": "@jupyter-widgets/controls",
      "model_module_version": "1.5.0",
      "model_name": "HTMLModel",
      "state": {
       "layout": "IPY_MODEL_005c61e158454a129558e82828c980f4",
       "style": "IPY_MODEL_42fd4c2f0c6a4e968b9d9bda2909d4cc",
       "value": " 1/1 [00:07&lt;00:00,  7.04s/it]"
      }
     },
     "4b29dcd7137c4390bd68d552f07292ad": {
      "model_module": "@jupyter-widgets/controls",
      "model_module_version": "1.5.0",
      "model_name": "FloatProgressModel",
      "state": {
       "bar_style": "success",
       "description": "[2] 1/2(train): 100%",
       "layout": "IPY_MODEL_d73da38a695a4259b5e637d1278dd10b",
       "max": 3,
       "style": "IPY_MODEL_014a4fb76b824f79bc9778c41df2f62c",
       "value": 3
      }
     },
     "4b38a536a9c04f248c9657467975b019": {
      "model_module": "@jupyter-widgets/controls",
      "model_module_version": "1.5.0",
      "model_name": "DescriptionStyleModel",
      "state": {
       "description_width": ""
      }
     },
     "4b45d780cb1c4a32965f772209db1ca0": {
      "model_module": "@jupyter-widgets/base",
      "model_module_version": "1.2.0",
      "model_name": "LayoutModel",
      "state": {}
     },
     "4b6713ce64dd49559470d7b4b17bbbf6": {
      "model_module": "@jupyter-widgets/base",
      "model_module_version": "1.2.0",
      "model_name": "LayoutModel",
      "state": {}
     },
     "4b6b59effc9f4121b73633c0b0f7fec1": {
      "model_module": "@jupyter-widgets/controls",
      "model_module_version": "1.5.0",
      "model_name": "ProgressStyleModel",
      "state": {
       "description_width": "initial"
      }
     },
     "4b6fe3f6b4f943a4bb4538b44c82ed36": {
      "model_module": "@jupyter-widgets/controls",
      "model_module_version": "1.5.0",
      "model_name": "FloatProgressModel",
      "state": {
       "bar_style": "success",
       "description": "[0] 10/16(train): 100%",
       "layout": "IPY_MODEL_bd4c4288def646c28952c9d48794d2f4",
       "max": 493,
       "style": "IPY_MODEL_8221cd03c4e14554a036da73a321f954",
       "value": 493
      }
     },
     "4b7ae8d57194483683573b6568a71b2e": {
      "model_module": "@jupyter-widgets/controls",
      "model_module_version": "1.5.0",
      "model_name": "FloatProgressModel",
      "state": {
       "bar_style": "success",
       "description": "[2] 1/2(val  ): 100%",
       "layout": "IPY_MODEL_cb2d5fa2cee24352973d5508a7a14704",
       "max": 1,
       "style": "IPY_MODEL_c2e8a047669e484d9a6085be8ec3cfbb",
       "value": 1
      }
     },
     "4b86e337535b4f5987ac94143736b5d5": {
      "model_module": "@jupyter-widgets/controls",
      "model_module_version": "1.5.0",
      "model_name": "FloatProgressModel",
      "state": {
       "bar_style": "success",
       "description": "[2] 3/15(val  ): 100%",
       "layout": "IPY_MODEL_f9511e08d9f24c3583ee6a3e41057031",
       "max": 165,
       "style": "IPY_MODEL_c26089aea3ad4458886ad427a0031697",
       "value": 165
      }
     },
     "4b8970e7960c47509f191b67c95a6f94": {
      "model_module": "@jupyter-widgets/base",
      "model_module_version": "1.2.0",
      "model_name": "LayoutModel",
      "state": {}
     },
     "4b98215a62004ecf899c7460c85ab80e": {
      "model_module": "@jupyter-widgets/base",
      "model_module_version": "1.2.0",
      "model_name": "LayoutModel",
      "state": {}
     },
     "4ba4b99b7e6f42329ef61a554adeb5e5": {
      "model_module": "@jupyter-widgets/base",
      "model_module_version": "1.2.0",
      "model_name": "LayoutModel",
      "state": {}
     },
     "4bb9f664bcee4df1bf9751c9b199e1ab": {
      "model_module": "@jupyter-widgets/controls",
      "model_module_version": "1.5.0",
      "model_name": "DescriptionStyleModel",
      "state": {
       "description_width": ""
      }
     },
     "4bd4f5cd024d4d21af23c02f7e94f97e": {
      "model_module": "@jupyter-widgets/controls",
      "model_module_version": "1.5.0",
      "model_name": "FloatProgressModel",
      "state": {
       "bar_style": "success",
       "description": "[0] 1/2(val  ): 100%",
       "layout": "IPY_MODEL_7dd30866e01745c3965afe7487e4775b",
       "max": 1,
       "style": "IPY_MODEL_ebbb92d5e55c465aaaf7a561f0c9ee52",
       "value": 1
      }
     },
     "4bd75ff2ddb241aebf473f57265e1fc3": {
      "model_module": "@jupyter-widgets/controls",
      "model_module_version": "1.5.0",
      "model_name": "DescriptionStyleModel",
      "state": {
       "description_width": ""
      }
     },
     "4bdb4b4a731349dea5bf3be7d2d1e490": {
      "model_module": "@jupyter-widgets/base",
      "model_module_version": "1.2.0",
      "model_name": "LayoutModel",
      "state": {}
     },
     "4bdbecc8aa4d49cb8994d3b81cfaf2d1": {
      "model_module": "@jupyter-widgets/controls",
      "model_module_version": "1.5.0",
      "model_name": "DescriptionStyleModel",
      "state": {
       "description_width": ""
      }
     },
     "4bf05dbb4f7a492dbac1a7eb8d908f2f": {
      "model_module": "@jupyter-widgets/base",
      "model_module_version": "1.2.0",
      "model_name": "LayoutModel",
      "state": {}
     },
     "4bfd705aa11941daa9b02e798fd2e143": {
      "model_module": "@jupyter-widgets/base",
      "model_module_version": "1.2.0",
      "model_name": "LayoutModel",
      "state": {}
     },
     "4bfede7708324be6823c6446dec33bae": {
      "model_module": "@jupyter-widgets/controls",
      "model_module_version": "1.5.0",
      "model_name": "HTMLModel",
      "state": {
       "layout": "IPY_MODEL_6d50206b031e4afd9f31f50ce530aa02",
       "style": "IPY_MODEL_931f7f331d744b2e991918d7e4c27f3b",
       "value": " 3/3 [00:13&lt;00:00,  4.47s/it]"
      }
     },
     "4c085c2eeb9e405b995b5f913235cbb3": {
      "model_module": "@jupyter-widgets/controls",
      "model_module_version": "1.5.0",
      "model_name": "HBoxModel",
      "state": {
       "children": [
        "IPY_MODEL_9773429cbf7644adaf6db2ded66ac70d",
        "IPY_MODEL_7ad08000e0154bb686e42bbac737b886"
       ],
       "layout": "IPY_MODEL_9a46540934ff42d696603f686f117390"
      }
     },
     "4c0a69a2e5e2445fa39655f62564ae93": {
      "model_module": "@jupyter-widgets/base",
      "model_module_version": "1.2.0",
      "model_name": "LayoutModel",
      "state": {}
     },
     "4c0d63893c334a1e9ef1559b1a91dd78": {
      "model_module": "@jupyter-widgets/base",
      "model_module_version": "1.2.0",
      "model_name": "LayoutModel",
      "state": {}
     },
     "4c13a593a9fd4f63be3e2b20e5e8a0e1": {
      "model_module": "@jupyter-widgets/controls",
      "model_module_version": "1.5.0",
      "model_name": "DescriptionStyleModel",
      "state": {
       "description_width": ""
      }
     },
     "4c2bf4ba64644e98b4598e34552927ff": {
      "model_module": "@jupyter-widgets/controls",
      "model_module_version": "1.5.0",
      "model_name": "HBoxModel",
      "state": {
       "children": [
        "IPY_MODEL_08f2e2086c2c46829fc6e6148ad853b6",
        "IPY_MODEL_4989d8572650481d90d67982c64852fb"
       ],
       "layout": "IPY_MODEL_9cd96efff9fd4731a3442b57eda71091"
      }
     },
     "4c494b5f6cb44ee7a492f682e79ad3ba": {
      "model_module": "@jupyter-widgets/base",
      "model_module_version": "1.2.0",
      "model_name": "LayoutModel",
      "state": {}
     },
     "4c4f03ecb7e9463b9b4646fa81668217": {
      "model_module": "@jupyter-widgets/controls",
      "model_module_version": "1.5.0",
      "model_name": "FloatProgressModel",
      "state": {
       "bar_style": "success",
       "description": "[3] 3/15(train): 100%",
       "layout": "IPY_MODEL_fdedb09989ff456f84ba8d5731335732",
       "max": 493,
       "style": "IPY_MODEL_64f3481517db4f5aa585a192654b45c2",
       "value": 493
      }
     },
     "4c58595a84324a109dfee7aa054dc003": {
      "model_module": "@jupyter-widgets/base",
      "model_module_version": "1.2.0",
      "model_name": "LayoutModel",
      "state": {}
     },
     "4c62a610e0504069b7182fffde848006": {
      "model_module": "@jupyter-widgets/base",
      "model_module_version": "1.2.0",
      "model_name": "LayoutModel",
      "state": {}
     },
     "4c6f0ed3a0ad4ec5bb6cf3f57c78b459": {
      "model_module": "@jupyter-widgets/controls",
      "model_module_version": "1.5.0",
      "model_name": "HTMLModel",
      "state": {
       "layout": "IPY_MODEL_71d239df71614c0aa4f47057b695f819",
       "style": "IPY_MODEL_b242c093f570400994a4325d122cad70",
       "value": " 165/165 [1:36:40&lt;00:00, 35.15s/it]"
      }
     },
     "4c747e32a3294be5909c58d46ab76415": {
      "model_module": "@jupyter-widgets/controls",
      "model_module_version": "1.5.0",
      "model_name": "ProgressStyleModel",
      "state": {
       "description_width": "initial"
      }
     },
     "4c8f3ff9a5be40c4842591311140f0bb": {
      "model_module": "@jupyter-widgets/controls",
      "model_module_version": "1.5.0",
      "model_name": "DescriptionStyleModel",
      "state": {
       "description_width": ""
      }
     },
     "4c95e8d4fe7b45108c7d69702ad69e0a": {
      "model_module": "@jupyter-widgets/controls",
      "model_module_version": "1.5.0",
      "model_name": "ProgressStyleModel",
      "state": {
       "description_width": "initial"
      }
     },
     "4caedb2b12d0441d8c2b902d6af4401a": {
      "model_module": "@jupyter-widgets/base",
      "model_module_version": "1.2.0",
      "model_name": "LayoutModel",
      "state": {}
     },
     "4cdf249060ce4452a211003a767d01c3": {
      "model_module": "@jupyter-widgets/controls",
      "model_module_version": "1.5.0",
      "model_name": "DescriptionStyleModel",
      "state": {
       "description_width": ""
      }
     },
     "4d0280c29686494d978f289e97a91a52": {
      "model_module": "@jupyter-widgets/base",
      "model_module_version": "1.2.0",
      "model_name": "LayoutModel",
      "state": {}
     },
     "4d0429ff6aee468a905765b5dfad3963": {
      "model_module": "@jupyter-widgets/controls",
      "model_module_version": "1.5.0",
      "model_name": "HBoxModel",
      "state": {
       "children": [
        "IPY_MODEL_f969cdd06d7d4d12acd724736e4b7b4c",
        "IPY_MODEL_dbe6d7554bb843098c5e897712e20434"
       ],
       "layout": "IPY_MODEL_82cdf9bbafdd4ac5bf16bf342403ceb0"
      }
     },
     "4d0ebe3efeb34818a75b071bf7e2802d": {
      "model_module": "@jupyter-widgets/controls",
      "model_module_version": "1.5.0",
      "model_name": "ProgressStyleModel",
      "state": {
       "description_width": "initial"
      }
     },
     "4d278dc9dac948848c77386278f141e5": {
      "model_module": "@jupyter-widgets/base",
      "model_module_version": "1.2.0",
      "model_name": "LayoutModel",
      "state": {}
     },
     "4d345935543645fea0a5b9b9242906a1": {
      "model_module": "@jupyter-widgets/base",
      "model_module_version": "1.2.0",
      "model_name": "LayoutModel",
      "state": {}
     },
     "4d3fe2e1916943d0bddddb78696271cb": {
      "model_module": "@jupyter-widgets/controls",
      "model_module_version": "1.5.0",
      "model_name": "DescriptionStyleModel",
      "state": {
       "description_width": ""
      }
     },
     "4d4144fbcc524e03a9af168d4e34e948": {
      "model_module": "@jupyter-widgets/controls",
      "model_module_version": "1.5.0",
      "model_name": "FloatProgressModel",
      "state": {
       "bar_style": "success",
       "description": "[1] 4/15(train): 100%",
       "layout": "IPY_MODEL_8da58edcf1c94ce5a32cfd7a0d06d77a",
       "max": 3,
       "style": "IPY_MODEL_a3e414ae18704ee5966c8dd55a6d99e4",
       "value": 3
      }
     },
     "4d69aabf34f740b7922d14cd3c6088bf": {
      "model_module": "@jupyter-widgets/base",
      "model_module_version": "1.2.0",
      "model_name": "LayoutModel",
      "state": {}
     },
     "4d6ffbe986724e019c85817880b2ba98": {
      "model_module": "@jupyter-widgets/base",
      "model_module_version": "1.2.0",
      "model_name": "LayoutModel",
      "state": {}
     },
     "4d89327fc2914aaebc49e0b7d6ceb397": {
      "model_module": "@jupyter-widgets/controls",
      "model_module_version": "1.5.0",
      "model_name": "FloatProgressModel",
      "state": {
       "bar_style": "success",
       "description": "[1] 2/2(val  ): 100%",
       "layout": "IPY_MODEL_a4fb43ff6f244acca099794ce7700343",
       "max": 1,
       "style": "IPY_MODEL_5b7e200188584ea8a557b60164c8f5f2",
       "value": 1
      }
     },
     "4d8f4f87d4e74c97b90ca271047d32ce": {
      "model_module": "@jupyter-widgets/base",
      "model_module_version": "1.2.0",
      "model_name": "LayoutModel",
      "state": {}
     },
     "4da47b0e8d62407fb546178d2929252b": {
      "model_module": "@jupyter-widgets/base",
      "model_module_version": "1.2.0",
      "model_name": "LayoutModel",
      "state": {}
     },
     "4df58c14e41941e7a290b30cc5638453": {
      "model_module": "@jupyter-widgets/controls",
      "model_module_version": "1.5.0",
      "model_name": "HTMLModel",
      "state": {
       "layout": "IPY_MODEL_63db3721bba24de596c8b0e094b08620",
       "style": "IPY_MODEL_d20c63fff27148feb9f059de35a81876",
       "value": " 493/493 [23:49&lt;00:00,  2.90s/it]"
      }
     },
     "4e0bbd9517504908a1cde34640738637": {
      "model_module": "@jupyter-widgets/controls",
      "model_module_version": "1.5.0",
      "model_name": "HTMLModel",
      "state": {
       "layout": "IPY_MODEL_e653b5fcae344008be2f997e30ad9fa5",
       "style": "IPY_MODEL_d1b06b7f8543487793b366f8d7793cc5",
       "value": " 1/1 [00:01&lt;00:00,  1.10s/it]"
      }
     },
     "4e23192d06394986ab5370abd9176216": {
      "model_module": "@jupyter-widgets/controls",
      "model_module_version": "1.5.0",
      "model_name": "HBoxModel",
      "state": {
       "children": [
        "IPY_MODEL_b6b62626fd4943f8a1c75734d3a170b3",
        "IPY_MODEL_71c8c162ea9147c7bd6db7caa7763183"
       ],
       "layout": "IPY_MODEL_61a1a808566343b1ab348c41ad0834b1"
      }
     },
     "4e45916cfd7d4ff1a9de89132838009b": {
      "model_module": "@jupyter-widgets/controls",
      "model_module_version": "1.5.0",
      "model_name": "DescriptionStyleModel",
      "state": {
       "description_width": ""
      }
     },
     "4e4b1a2e3f814c798e189a0cad101641": {
      "model_module": "@jupyter-widgets/base",
      "model_module_version": "1.2.0",
      "model_name": "LayoutModel",
      "state": {}
     },
     "4e636ea35a284a04a558312cde9a59e0": {
      "model_module": "@jupyter-widgets/base",
      "model_module_version": "1.2.0",
      "model_name": "LayoutModel",
      "state": {}
     },
     "4e6401d8f2b04332b37d96bed42bcef9": {
      "model_module": "@jupyter-widgets/base",
      "model_module_version": "1.2.0",
      "model_name": "LayoutModel",
      "state": {}
     },
     "4ebe41b921834181b3dcb7564a15359a": {
      "model_module": "@jupyter-widgets/controls",
      "model_module_version": "1.5.0",
      "model_name": "ProgressStyleModel",
      "state": {
       "description_width": "initial"
      }
     },
     "4ec8a2b21d05439aa678d04f1e260e18": {
      "model_module": "@jupyter-widgets/controls",
      "model_module_version": "1.5.0",
      "model_name": "FloatProgressModel",
      "state": {
       "bar_style": "success",
       "description": "[3] 11/16(val  ): 100%",
       "layout": "IPY_MODEL_8d6340ce8f0f4c1fab0fceb61a706286",
       "max": 165,
       "style": "IPY_MODEL_630c6d5479534ac580ef54fe2c4569a0",
       "value": 165
      }
     },
     "4edb3221e5c742748c95201890c223fd": {
      "model_module": "@jupyter-widgets/base",
      "model_module_version": "1.2.0",
      "model_name": "LayoutModel",
      "state": {}
     },
     "4ee1c6a2063b44d68597e43620ddb60a": {
      "model_module": "@jupyter-widgets/controls",
      "model_module_version": "1.5.0",
      "model_name": "HBoxModel",
      "state": {
       "children": [
        "IPY_MODEL_8cd7d7386144483abe1ea204bffc2d04",
        "IPY_MODEL_b79bd2b310e24694867d02e7ebe73a05"
       ],
       "layout": "IPY_MODEL_8f276170b45a454a9d74b6bf2be84bd0"
      }
     },
     "4f121d51dffa4c76a7fe6881fd84e352": {
      "model_module": "@jupyter-widgets/base",
      "model_module_version": "1.2.0",
      "model_name": "LayoutModel",
      "state": {}
     },
     "4f365718adcd40b69e2a9bb58d440950": {
      "model_module": "@jupyter-widgets/base",
      "model_module_version": "1.2.0",
      "model_name": "LayoutModel",
      "state": {}
     },
     "4f579fca804a41ff90268cd4b1f4cf76": {
      "model_module": "@jupyter-widgets/controls",
      "model_module_version": "1.5.0",
      "model_name": "FloatProgressModel",
      "state": {
       "bar_style": "success",
       "description": "[1] 2/16(val  ): 100%",
       "layout": "IPY_MODEL_2fddaf3b92344e01acfae312ca94d724",
       "max": 165,
       "style": "IPY_MODEL_55f3f0efe8734e2db0f7cdc46b469c9a",
       "value": 165
      }
     },
     "4f5a8b680a084c50866816a7732ad4da": {
      "model_module": "@jupyter-widgets/controls",
      "model_module_version": "1.5.0",
      "model_name": "FloatProgressModel",
      "state": {
       "bar_style": "success",
       "description": "[2] 1/2(train): 100%",
       "layout": "IPY_MODEL_1be701a3337f4b7d890d43adbdd657a5",
       "max": 3,
       "style": "IPY_MODEL_9b35ec75f8ec4f2c8f5df284ec1047ef",
       "value": 3
      }
     },
     "4f5c198fdde2473cabb2854b4d8b3b60": {
      "model_module": "@jupyter-widgets/base",
      "model_module_version": "1.2.0",
      "model_name": "LayoutModel",
      "state": {}
     },
     "4f7748554a5c45f6a547cd55a2be8520": {
      "model_module": "@jupyter-widgets/controls",
      "model_module_version": "1.5.0",
      "model_name": "HTMLModel",
      "state": {
       "layout": "IPY_MODEL_3cb56ffa1729404d8fc9da9f1b9fa49f",
       "style": "IPY_MODEL_7598e8677f564b8cbcb71bcb7145de1e",
       "value": " 493/493 [20:22&lt;00:00,  2.48s/it]"
      }
     },
     "4f78236c62aa46cf87949c64dcbdfc14": {
      "model_module": "@jupyter-widgets/controls",
      "model_module_version": "1.5.0",
      "model_name": "DescriptionStyleModel",
      "state": {
       "description_width": ""
      }
     },
     "4f7fff3552194cd6adcaa7db10559511": {
      "model_module": "@jupyter-widgets/base",
      "model_module_version": "1.2.0",
      "model_name": "LayoutModel",
      "state": {}
     },
     "4f8af2004d114d4dbe2838fa533cc799": {
      "model_module": "@jupyter-widgets/controls",
      "model_module_version": "1.5.0",
      "model_name": "HTMLModel",
      "state": {
       "layout": "IPY_MODEL_6f24643788a449d28f0ad34b6c945e1f",
       "style": "IPY_MODEL_b57f9b187e1646e8b65f2e5d33a620eb",
       "value": " 1/1 [00:01&lt;00:00,  1.07s/it]"
      }
     },
     "4f9dbad9a61c4dce9d8656fbe5230a8f": {
      "model_module": "@jupyter-widgets/base",
      "model_module_version": "1.2.0",
      "model_name": "LayoutModel",
      "state": {}
     },
     "4fe23dd4fceb4075a2ef2312fe7e4caf": {
      "model_module": "@jupyter-widgets/base",
      "model_module_version": "1.2.0",
      "model_name": "LayoutModel",
      "state": {}
     },
     "4fe282014a464cfab9ef48bff4514a7c": {
      "model_module": "@jupyter-widgets/base",
      "model_module_version": "1.2.0",
      "model_name": "LayoutModel",
      "state": {}
     },
     "4fe5360abc584da6bf43b8ae2c82f3d6": {
      "model_module": "@jupyter-widgets/base",
      "model_module_version": "1.2.0",
      "model_name": "LayoutModel",
      "state": {}
     },
     "4fe67fe3d22a4e0c8342bab4981242c3": {
      "model_module": "@jupyter-widgets/base",
      "model_module_version": "1.2.0",
      "model_name": "LayoutModel",
      "state": {}
     },
     "4fe8bb554a984f7da0ce03618077ee0c": {
      "model_module": "@jupyter-widgets/controls",
      "model_module_version": "1.5.0",
      "model_name": "DescriptionStyleModel",
      "state": {
       "description_width": ""
      }
     },
     "4ff67b31bdab4ed289c8650d13859e01": {
      "model_module": "@jupyter-widgets/base",
      "model_module_version": "1.2.0",
      "model_name": "LayoutModel",
      "state": {}
     },
     "5006f9d80d714337a009855d06ea8e9b": {
      "model_module": "@jupyter-widgets/controls",
      "model_module_version": "1.5.0",
      "model_name": "HBoxModel",
      "state": {
       "children": [
        "IPY_MODEL_72f2d36731bd434bb8d202d8de0ec7a3",
        "IPY_MODEL_e5d2a6a4128f44abbd0cb967cd9cd9e9"
       ],
       "layout": "IPY_MODEL_795b8c84667c493d80189ff42f68b118"
      }
     },
     "500c3eb8b2ae411c8fcf9741b83b0f39": {
      "model_module": "@jupyter-widgets/base",
      "model_module_version": "1.2.0",
      "model_name": "LayoutModel",
      "state": {}
     },
     "50184768d8bf476a82a850e58c003a6a": {
      "model_module": "@jupyter-widgets/base",
      "model_module_version": "1.2.0",
      "model_name": "LayoutModel",
      "state": {}
     },
     "502820db155b4853ad7a52f06552b8f0": {
      "model_module": "@jupyter-widgets/base",
      "model_module_version": "1.2.0",
      "model_name": "LayoutModel",
      "state": {}
     },
     "50496dc8cc86453d8d7fd3d44f170314": {
      "model_module": "@jupyter-widgets/controls",
      "model_module_version": "1.5.0",
      "model_name": "FloatProgressModel",
      "state": {
       "bar_style": "success",
       "description": "[3] 8/16(val  ): 100%",
       "layout": "IPY_MODEL_18090d3b7c0e4c2a953239b21d57047c",
       "max": 165,
       "style": "IPY_MODEL_27e8456ed10542caabd0b32ab2394144",
       "value": 165
      }
     },
     "506de5c5476247818706466340ac423b": {
      "model_module": "@jupyter-widgets/controls",
      "model_module_version": "1.5.0",
      "model_name": "ProgressStyleModel",
      "state": {
       "description_width": "initial"
      }
     },
     "50718c505e104a80bc3b311d9be5f4c4": {
      "model_module": "@jupyter-widgets/controls",
      "model_module_version": "1.5.0",
      "model_name": "ProgressStyleModel",
      "state": {
       "description_width": "initial"
      }
     },
     "5091c8cdbbef4e9a826e70dd78e5f6b1": {
      "model_module": "@jupyter-widgets/controls",
      "model_module_version": "1.5.0",
      "model_name": "HBoxModel",
      "state": {
       "children": [
        "IPY_MODEL_3f46127237b041589f67dc1c1432a968",
        "IPY_MODEL_9f6d66db91e44dd0934470773b873d58"
       ],
       "layout": "IPY_MODEL_bfa59187fdf44a87bcb4ac8f3514c21c"
      }
     },
     "50969d3a7f23479f811a324268eb30ba": {
      "model_module": "@jupyter-widgets/controls",
      "model_module_version": "1.5.0",
      "model_name": "FloatProgressModel",
      "state": {
       "bar_style": "success",
       "description": "[2] 1/16(val  ): 100%",
       "layout": "IPY_MODEL_e369453038724892a8fd239164e9cf4f",
       "max": 165,
       "style": "IPY_MODEL_87815bf52662417b83d6f287d853e853",
       "value": 165
      }
     },
     "50b40e4433ea41aba444ac2efb3ebc07": {
      "model_module": "@jupyter-widgets/base",
      "model_module_version": "1.2.0",
      "model_name": "LayoutModel",
      "state": {}
     },
     "50b8ed72fcd64856ba7601125a8cd470": {
      "model_module": "@jupyter-widgets/base",
      "model_module_version": "1.2.0",
      "model_name": "LayoutModel",
      "state": {}
     },
     "50e0315fa8064e4691317722f3added0": {
      "model_module": "@jupyter-widgets/controls",
      "model_module_version": "1.5.0",
      "model_name": "ProgressStyleModel",
      "state": {
       "description_width": "initial"
      }
     },
     "5111bdd507d2493387746b8f10acb943": {
      "model_module": "@jupyter-widgets/controls",
      "model_module_version": "1.5.0",
      "model_name": "FloatProgressModel",
      "state": {
       "bar_style": "success",
       "description": "[2] 4/16(val  ): 100%",
       "layout": "IPY_MODEL_e070f709337f44c2b9cf45b1019746d1",
       "max": 165,
       "style": "IPY_MODEL_ad1f7e0f9c004d2f8ca916dd5d09870b",
       "value": 165
      }
     },
     "511450480bf04aa9b8caae81a30ddeea": {
      "model_module": "@jupyter-widgets/controls",
      "model_module_version": "1.5.0",
      "model_name": "HTMLModel",
      "state": {
       "layout": "IPY_MODEL_d6506425b2f34ab68a1f174984841fe2",
       "style": "IPY_MODEL_9d3cb9a51656403d89865eff97c4996f",
       "value": " 3/3 [00:07&lt;00:00,  2.53s/it]"
      }
     },
     "516929a5413b4020a6918cc9bdc1e3a1": {
      "model_module": "@jupyter-widgets/controls",
      "model_module_version": "1.5.0",
      "model_name": "FloatProgressModel",
      "state": {
       "bar_style": "success",
       "description": "[1] 13/16(train): 100%",
       "layout": "IPY_MODEL_69a6724dfdbf45d89e632845bb19c761",
       "max": 493,
       "style": "IPY_MODEL_287f62a1817b49bd9077c708cb2c46b5",
       "value": 493
      }
     },
     "51696acb96014c638d56bc82dd2739e6": {
      "model_module": "@jupyter-widgets/base",
      "model_module_version": "1.2.0",
      "model_name": "LayoutModel",
      "state": {}
     },
     "51e57f3e824940798224d541939db348": {
      "model_module": "@jupyter-widgets/controls",
      "model_module_version": "1.5.0",
      "model_name": "HTMLModel",
      "state": {
       "layout": "IPY_MODEL_779514f7f092478cb9abe3934ad4c06f",
       "style": "IPY_MODEL_1d9aad0a68c04670aaf8e26e3afb510e",
       "value": " 1/1 [00:00&lt;00:00,  1.35it/s]"
      }
     },
     "51f537cd816e4c499946f2e735a7d721": {
      "model_module": "@jupyter-widgets/base",
      "model_module_version": "1.2.0",
      "model_name": "LayoutModel",
      "state": {}
     },
     "5218f4be44bd4ab6abae541019200635": {
      "model_module": "@jupyter-widgets/base",
      "model_module_version": "1.2.0",
      "model_name": "LayoutModel",
      "state": {}
     },
     "524ec05115d44ac6b9203bcf3f40618e": {
      "model_module": "@jupyter-widgets/controls",
      "model_module_version": "1.5.0",
      "model_name": "FloatProgressModel",
      "state": {
       "bar_style": "success",
       "description": "[2] 15/15(train): 100%",
       "layout": "IPY_MODEL_28f4701dbeb040abb375378c0209b7d6",
       "max": 493,
       "style": "IPY_MODEL_9e6813de6a7442efa267457fad90bdb7",
       "value": 493
      }
     },
     "524eef53c5f7412aa00d1f7492e9b8f3": {
      "model_module": "@jupyter-widgets/controls",
      "model_module_version": "1.5.0",
      "model_name": "HBoxModel",
      "state": {
       "children": [
        "IPY_MODEL_a3e0183b233e424da18c90b0882c9c43",
        "IPY_MODEL_90ccde1815cf4ca09a6f4ff6004e3adf"
       ],
       "layout": "IPY_MODEL_ef8fefd84c0f49ee80535028346e41a9"
      }
     },
     "5260d9adbc934276ac046e3e0d148fe7": {
      "model_module": "@jupyter-widgets/controls",
      "model_module_version": "1.5.0",
      "model_name": "FloatProgressModel",
      "state": {
       "description": "[2] 1/16(train):   3%",
       "layout": "IPY_MODEL_86bfaf3dd4b34992b121f37593cdd8b8",
       "max": 493,
       "style": "IPY_MODEL_71941943694742ab808e20fecc6205c7",
       "value": 16
      }
     },
     "529a1f93ec4b44f4b63b0ee46b27724f": {
      "model_module": "@jupyter-widgets/controls",
      "model_module_version": "1.5.0",
      "model_name": "FloatProgressModel",
      "state": {
       "bar_style": "success",
       "description": "[3] 14/16(train): 100%",
       "layout": "IPY_MODEL_9609e99928ab4b178eda98f37e3f83b3",
       "max": 493,
       "style": "IPY_MODEL_d701278f01c5431680f340938f299ef9",
       "value": 493
      }
     },
     "529f65de4b51424da32ace044bf1a24e": {
      "model_module": "@jupyter-widgets/base",
      "model_module_version": "1.2.0",
      "model_name": "LayoutModel",
      "state": {}
     },
     "52a06ba662bf4bd890baab9112cfd42d": {
      "model_module": "@jupyter-widgets/controls",
      "model_module_version": "1.5.0",
      "model_name": "HBoxModel",
      "state": {
       "children": [
        "IPY_MODEL_6e0f7168d63e4a0c84cdb01bfc0cd57d",
        "IPY_MODEL_2d707247b48941879b2a6d91ae18d57b"
       ],
       "layout": "IPY_MODEL_06a579d497914973b7394adb1ff6029d"
      }
     },
     "52be65e5c13049679fca67d6bf28e99d": {
      "model_module": "@jupyter-widgets/controls",
      "model_module_version": "1.5.0",
      "model_name": "HTMLModel",
      "state": {
       "layout": "IPY_MODEL_be7d466d72724cc881f6b43052329ee2",
       "style": "IPY_MODEL_35d9a6599d1246b78cd2d2f3043b92ea",
       "value": " 493/493 [23:49&lt;00:00,  2.90s/it]"
      }
     },
     "52d626f3714f4f6ea9636193ec95fed2": {
      "model_module": "@jupyter-widgets/controls",
      "model_module_version": "1.5.0",
      "model_name": "HTMLModel",
      "state": {
       "layout": "IPY_MODEL_a75cb71c7a014847835951dd01a2a7c4",
       "style": "IPY_MODEL_5f613d23d6c2418580f932f5271a12fc",
       "value": " 3/3 [00:06&lt;00:00,  2.28s/it]"
      }
     },
     "52d9186bc5ca46628b81d5ad28c1bf10": {
      "model_module": "@jupyter-widgets/controls",
      "model_module_version": "1.5.0",
      "model_name": "FloatProgressModel",
      "state": {
       "bar_style": "success",
       "description": "[2] 3/15(train): 100%",
       "layout": "IPY_MODEL_c6956e59605f44d2ae42c1691fcec68e",
       "max": 493,
       "style": "IPY_MODEL_95b5b7277a084986bfd18e1740081ce8",
       "value": 493
      }
     },
     "52da6038b3344bf3826ec8ae1ddc2737": {
      "model_module": "@jupyter-widgets/controls",
      "model_module_version": "1.5.0",
      "model_name": "ProgressStyleModel",
      "state": {
       "description_width": "initial"
      }
     },
     "52ed21d506ed4274beb30d64cf68e29b": {
      "model_module": "@jupyter-widgets/controls",
      "model_module_version": "1.5.0",
      "model_name": "DescriptionStyleModel",
      "state": {
       "description_width": ""
      }
     },
     "52f1d732ef454a5eaa509f654b1b10cb": {
      "model_module": "@jupyter-widgets/controls",
      "model_module_version": "1.5.0",
      "model_name": "FloatProgressModel",
      "state": {
       "bar_style": "success",
       "description": "[1] 9/16(train): 100%",
       "layout": "IPY_MODEL_ff7bdb8099ac49c5a67d5c24f0e4cb32",
       "max": 493,
       "style": "IPY_MODEL_c05add7c3b44400d986964a240f4a6a3",
       "value": 493
      }
     },
     "5326736f7154496996fd49b37af92e9c": {
      "model_module": "@jupyter-widgets/base",
      "model_module_version": "1.2.0",
      "model_name": "LayoutModel",
      "state": {}
     },
     "5364ec2a84e6422b8f43cdfdc36e5f92": {
      "model_module": "@jupyter-widgets/base",
      "model_module_version": "1.2.0",
      "model_name": "LayoutModel",
      "state": {}
     },
     "538139514d584cc6affb3415e3737201": {
      "model_module": "@jupyter-widgets/base",
      "model_module_version": "1.2.0",
      "model_name": "LayoutModel",
      "state": {}
     },
     "538335aa2eb44c0d94fba2e9cf58a2b2": {
      "model_module": "@jupyter-widgets/base",
      "model_module_version": "1.2.0",
      "model_name": "LayoutModel",
      "state": {}
     },
     "5392c04fba3f4c5dba01d9f8b60b6850": {
      "model_module": "@jupyter-widgets/base",
      "model_module_version": "1.2.0",
      "model_name": "LayoutModel",
      "state": {}
     },
     "539b8bf42f1a4ab4a070a7490201676b": {
      "model_module": "@jupyter-widgets/controls",
      "model_module_version": "1.5.0",
      "model_name": "DescriptionStyleModel",
      "state": {
       "description_width": ""
      }
     },
     "539fe7f970dc41eb9041e4ed2dcac083": {
      "model_module": "@jupyter-widgets/controls",
      "model_module_version": "1.5.0",
      "model_name": "HBoxModel",
      "state": {
       "children": [
        "IPY_MODEL_7886d1c1ecc041eab3210b5747e4c0fa",
        "IPY_MODEL_c9d752082d334af992b381e7f28deef0"
       ],
       "layout": "IPY_MODEL_c129c89ddf7f40abb1e3d32a856cdf16"
      }
     },
     "53d3b54a4fb543f68bd3484396e3658f": {
      "model_module": "@jupyter-widgets/base",
      "model_module_version": "1.2.0",
      "model_name": "LayoutModel",
      "state": {}
     },
     "53e9f65f8ade42768c49946a51e21ee9": {
      "model_module": "@jupyter-widgets/controls",
      "model_module_version": "1.5.0",
      "model_name": "HTMLModel",
      "state": {
       "layout": "IPY_MODEL_0b6b169f434f4ef28231347946c4fa37",
       "style": "IPY_MODEL_3f36b22b9c3b4f8ab3b62e5b2aa3bd15",
       "value": " 165/165 [01:33&lt;00:00,  1.77it/s]"
      }
     },
     "53ee141a72e5481a9644b8d5d1227235": {
      "model_module": "@jupyter-widgets/controls",
      "model_module_version": "1.5.0",
      "model_name": "ProgressStyleModel",
      "state": {
       "description_width": "initial"
      }
     },
     "5415eb0fafab4afb82d50bf78bae6359": {
      "model_module": "@jupyter-widgets/base",
      "model_module_version": "1.2.0",
      "model_name": "LayoutModel",
      "state": {}
     },
     "544f654faa014d9a99ff6b836f8a56de": {
      "model_module": "@jupyter-widgets/controls",
      "model_module_version": "1.5.0",
      "model_name": "FloatProgressModel",
      "state": {
       "bar_style": "success",
       "description": "[2] 8/15(val  ): 100%",
       "layout": "IPY_MODEL_d63dcb7ec82642f790e086a5b9a1f929",
       "max": 165,
       "style": "IPY_MODEL_b2f888210b0c4d1a8ad528fc50f38eb8",
       "value": 165
      }
     },
     "547a39eb6d1a491784c51fdf8b1cc64d": {
      "model_module": "@jupyter-widgets/controls",
      "model_module_version": "1.5.0",
      "model_name": "ProgressStyleModel",
      "state": {
       "description_width": "initial"
      }
     },
     "547ad9202ab041aca50d72bfb2d7e38b": {
      "model_module": "@jupyter-widgets/base",
      "model_module_version": "1.2.0",
      "model_name": "LayoutModel",
      "state": {}
     },
     "549b85cf0c9a4d6888b3f491969ab971": {
      "model_module": "@jupyter-widgets/controls",
      "model_module_version": "1.5.0",
      "model_name": "HBoxModel",
      "state": {
       "children": [
        "IPY_MODEL_a5fa90b4d60d4640a2ff2773451c37e3",
        "IPY_MODEL_a8a3b1e3a3b5402aa59c800392e1ae6d"
       ],
       "layout": "IPY_MODEL_c5c85a58ad2642178fe14643723d44b1"
      }
     },
     "549d21345d544b8d85bb1046006335ee": {
      "model_module": "@jupyter-widgets/base",
      "model_module_version": "1.2.0",
      "model_name": "LayoutModel",
      "state": {}
     },
     "549f413a82074332b56efbc71fbc2877": {
      "model_module": "@jupyter-widgets/controls",
      "model_module_version": "1.5.0",
      "model_name": "HBoxModel",
      "state": {
       "children": [
        "IPY_MODEL_1116784c9d684e2290dc1e5b577e55ff",
        "IPY_MODEL_3c05135c23494acb98a83c7588a8d4fa"
       ],
       "layout": "IPY_MODEL_a6fb6d43f8774e3bbbd4c82f42e45568"
      }
     },
     "54aeb73a255c43808cc5f83dc2e5173f": {
      "model_module": "@jupyter-widgets/controls",
      "model_module_version": "1.5.0",
      "model_name": "FloatProgressModel",
      "state": {
       "bar_style": "success",
       "description": "[3] 1/15(train): 100%",
       "layout": "IPY_MODEL_ffaca9599fc14d8eb4699f47cc1621ba",
       "max": 493,
       "style": "IPY_MODEL_83cd5f965f3b4a4295fa38314b9f4647",
       "value": 493
      }
     },
     "54cbfa28747743ab9f8abb22b016c5a8": {
      "model_module": "@jupyter-widgets/base",
      "model_module_version": "1.2.0",
      "model_name": "LayoutModel",
      "state": {}
     },
     "54ceb687c30d490ca8046b3d8dfac439": {
      "model_module": "@jupyter-widgets/base",
      "model_module_version": "1.2.0",
      "model_name": "LayoutModel",
      "state": {}
     },
     "54dd88934db245a6b7a2e6101f675b70": {
      "model_module": "@jupyter-widgets/controls",
      "model_module_version": "1.5.0",
      "model_name": "FloatProgressModel",
      "state": {
       "bar_style": "success",
       "description": "[3] 1/2(train): 100%",
       "layout": "IPY_MODEL_b0b533a280a64a679c1bbcd55f10aed5",
       "max": 3,
       "style": "IPY_MODEL_f069d15226b647589ccff740f30a5acb",
       "value": 3
      }
     },
     "553fe88d28544bd1b3d76385b5861291": {
      "model_module": "@jupyter-widgets/controls",
      "model_module_version": "1.5.0",
      "model_name": "ProgressStyleModel",
      "state": {
       "description_width": "initial"
      }
     },
     "554d2f1beddd43999288ef041656acdf": {
      "model_module": "@jupyter-widgets/base",
      "model_module_version": "1.2.0",
      "model_name": "LayoutModel",
      "state": {}
     },
     "556c84169c6f4e34be576b392cdf59dc": {
      "model_module": "@jupyter-widgets/controls",
      "model_module_version": "1.5.0",
      "model_name": "ProgressStyleModel",
      "state": {
       "description_width": "initial"
      }
     },
     "55a3fe282b734ffdb51950a4403b4aac": {
      "model_module": "@jupyter-widgets/controls",
      "model_module_version": "1.5.0",
      "model_name": "DescriptionStyleModel",
      "state": {
       "description_width": ""
      }
     },
     "55d42a81e1084179a94d1a8d73e144ed": {
      "model_module": "@jupyter-widgets/controls",
      "model_module_version": "1.5.0",
      "model_name": "HTMLModel",
      "state": {
       "layout": "IPY_MODEL_de1e9a66659c465c8baefb06ca175126",
       "style": "IPY_MODEL_b2400a4ca13c4df38e64fd9092277932",
       "value": " 493/493 [23:47&lt;00:00,  2.90s/it]"
      }
     },
     "55d80034cb5f48cb9b714d4e33ce9c27": {
      "model_module": "@jupyter-widgets/base",
      "model_module_version": "1.2.0",
      "model_name": "LayoutModel",
      "state": {}
     },
     "55e800c4cae847d996ceb1b065b8426d": {
      "model_module": "@jupyter-widgets/controls",
      "model_module_version": "1.5.0",
      "model_name": "ProgressStyleModel",
      "state": {
       "description_width": "initial"
      }
     },
     "55f3f0efe8734e2db0f7cdc46b469c9a": {
      "model_module": "@jupyter-widgets/controls",
      "model_module_version": "1.5.0",
      "model_name": "ProgressStyleModel",
      "state": {
       "description_width": "initial"
      }
     },
     "5636e140d4174c069067aaba42469f45": {
      "model_module": "@jupyter-widgets/controls",
      "model_module_version": "1.5.0",
      "model_name": "ProgressStyleModel",
      "state": {
       "description_width": "initial"
      }
     },
     "563fb984feea48dc865a34c75416d1b7": {
      "model_module": "@jupyter-widgets/controls",
      "model_module_version": "1.5.0",
      "model_name": "ProgressStyleModel",
      "state": {
       "description_width": "initial"
      }
     },
     "5641dd194a224bb6adac4fbd827983e3": {
      "model_module": "@jupyter-widgets/base",
      "model_module_version": "1.2.0",
      "model_name": "LayoutModel",
      "state": {}
     },
     "56612f780f0a431f896b80128eae696a": {
      "model_module": "@jupyter-widgets/controls",
      "model_module_version": "1.5.0",
      "model_name": "ProgressStyleModel",
      "state": {
       "description_width": "initial"
      }
     },
     "568284c3eb9c4bfa88d247db43ab9d37": {
      "model_module": "@jupyter-widgets/base",
      "model_module_version": "1.2.0",
      "model_name": "LayoutModel",
      "state": {}
     },
     "568f1ac49fba457396eca384d2783b66": {
      "model_module": "@jupyter-widgets/controls",
      "model_module_version": "1.5.0",
      "model_name": "DescriptionStyleModel",
      "state": {
       "description_width": ""
      }
     },
     "568fc2b2697a4c469d3b677dec8b0048": {
      "model_module": "@jupyter-widgets/controls",
      "model_module_version": "1.5.0",
      "model_name": "HTMLModel",
      "state": {
       "layout": "IPY_MODEL_34458b8524934adfa7420d0695e5f057",
       "style": "IPY_MODEL_4bd75ff2ddb241aebf473f57265e1fc3",
       "value": " 16/493 [00:46&lt;21:29,  2.70s/it]"
      }
     },
     "5693fe3de8794373b4107b9a1274f283": {
      "model_module": "@jupyter-widgets/controls",
      "model_module_version": "1.5.0",
      "model_name": "FloatProgressModel",
      "state": {
       "bar_style": "success",
       "description": "[3] 2/16(train): 100%",
       "layout": "IPY_MODEL_c3583fdab5e244ac96b8b093d7877816",
       "max": 493,
       "style": "IPY_MODEL_b67e2f103c434c419852c56da0f2e726",
       "value": 493
      }
     },
     "56a4f10ba044437f903668c6719de111": {
      "model_module": "@jupyter-widgets/base",
      "model_module_version": "1.2.0",
      "model_name": "LayoutModel",
      "state": {}
     },
     "56b4af85871a472abdf0dc7bb8eb9579": {
      "model_module": "@jupyter-widgets/controls",
      "model_module_version": "1.5.0",
      "model_name": "HTMLModel",
      "state": {
       "layout": "IPY_MODEL_728808550bff4ad5b3313d248930ca9b",
       "style": "IPY_MODEL_7bf5a48546af45cead18449fb2753b07",
       "value": " 493/493 [23:49&lt;00:00,  2.90s/it]"
      }
     },
     "56c07417fc44458bb3b4479221f7d8a0": {
      "model_module": "@jupyter-widgets/controls",
      "model_module_version": "1.5.0",
      "model_name": "HTMLModel",
      "state": {
       "layout": "IPY_MODEL_89dff2d302a54eb4aab123050680e972",
       "style": "IPY_MODEL_b838a02a724c42f5b17117d6701ee056",
       "value": " 165/165 [01:33&lt;00:00,  1.77it/s]"
      }
     },
     "56d02421e0a84305a1c2ffdc6aa56d55": {
      "model_module": "@jupyter-widgets/controls",
      "model_module_version": "1.5.0",
      "model_name": "HBoxModel",
      "state": {
       "children": [
        "IPY_MODEL_5e969a89397042928ced5f4149482978",
        "IPY_MODEL_049be05bb4b34addb32a786c3dbd5369"
       ],
       "layout": "IPY_MODEL_3b531f06ff2840fa81dbe36a2aa4c8bb"
      }
     },
     "56dcb90da8f74007acba0f65c31e68b8": {
      "model_module": "@jupyter-widgets/controls",
      "model_module_version": "1.5.0",
      "model_name": "FloatProgressModel",
      "state": {
       "description": "[1] 1/16(train):   3%",
       "layout": "IPY_MODEL_50b8ed72fcd64856ba7601125a8cd470",
       "max": 493,
       "style": "IPY_MODEL_ff4d1e73758e47d2920c3a13175d58f3",
       "value": 16
      }
     },
     "56df043ccdcd4dbe80dfc73fff02fbdb": {
      "model_module": "@jupyter-widgets/base",
      "model_module_version": "1.2.0",
      "model_name": "LayoutModel",
      "state": {}
     },
     "56f6a749ff1a449396c1799a691f0f34": {
      "model_module": "@jupyter-widgets/base",
      "model_module_version": "1.2.0",
      "model_name": "LayoutModel",
      "state": {}
     },
     "5716a3516f184d01a8422c995778eb1e": {
      "model_module": "@jupyter-widgets/controls",
      "model_module_version": "1.5.0",
      "model_name": "HBoxModel",
      "state": {
       "children": [
        "IPY_MODEL_0915c661f3d34b66bbbc1892cc371d32",
        "IPY_MODEL_2b484b69428a4bb2997026e981dfe85a"
       ],
       "layout": "IPY_MODEL_ebfed5eac45542eca36caba43b10ab46"
      }
     },
     "5735891c4cc840719a1b5991ad0919e1": {
      "model_module": "@jupyter-widgets/controls",
      "model_module_version": "1.5.0",
      "model_name": "FloatProgressModel",
      "state": {
       "bar_style": "success",
       "description": "[2] 6/16(val  ): 100%",
       "layout": "IPY_MODEL_31402d8dceba4c16896936f651f4da96",
       "max": 165,
       "style": "IPY_MODEL_fd53723ec314456aaa89f70e5173d98a",
       "value": 165
      }
     },
     "573ec5a2fe8942ca9a09545983247e08": {
      "model_module": "@jupyter-widgets/controls",
      "model_module_version": "1.5.0",
      "model_name": "FloatProgressModel",
      "state": {
       "bar_style": "success",
       "description": "[3] 6/16(val  ): 100%",
       "layout": "IPY_MODEL_421833bcfe7447abb7138969101c81c6",
       "max": 165,
       "style": "IPY_MODEL_a98a584a776a4b6c9e4cd2d4ee4c1aa6",
       "value": 165
      }
     },
     "574ea80e593a46ad8c5f8fefef26696f": {
      "model_module": "@jupyter-widgets/controls",
      "model_module_version": "1.5.0",
      "model_name": "FloatProgressModel",
      "state": {
       "bar_style": "success",
       "description": "[1] 2/15(val  ): 100%",
       "layout": "IPY_MODEL_0270844771b24f819bb06d63d9e1477f",
       "max": 1,
       "style": "IPY_MODEL_cbe77e7ce6cb43489aee8fcd81dbadb5",
       "value": 1
      }
     },
     "575c0289bd994056b4632fb1f3e1b92d": {
      "model_module": "@jupyter-widgets/base",
      "model_module_version": "1.2.0",
      "model_name": "LayoutModel",
      "state": {}
     },
     "577984a2d18c44f68b15e6b05ca8f10a": {
      "model_module": "@jupyter-widgets/controls",
      "model_module_version": "1.5.0",
      "model_name": "FloatProgressModel",
      "state": {
       "bar_style": "success",
       "description": "[1] 2/15(train): 100%",
       "layout": "IPY_MODEL_6f4571d078be41faaecf2c2f95cbe408",
       "max": 3,
       "style": "IPY_MODEL_ed5263ae71464a08bb878a99e2cdaaec",
       "value": 3
      }
     },
     "57877fe14c8c44b4a165b01e59f98a68": {
      "model_module": "@jupyter-widgets/base",
      "model_module_version": "1.2.0",
      "model_name": "LayoutModel",
      "state": {}
     },
     "578c3f435e624d6f963f92682d16aba7": {
      "model_module": "@jupyter-widgets/base",
      "model_module_version": "1.2.0",
      "model_name": "LayoutModel",
      "state": {}
     },
     "579479a4aaeb414da642cfabe3101c5d": {
      "model_module": "@jupyter-widgets/base",
      "model_module_version": "1.2.0",
      "model_name": "LayoutModel",
      "state": {}
     },
     "579ed25e481242f185e5e30ca452ec5c": {
      "model_module": "@jupyter-widgets/controls",
      "model_module_version": "1.5.0",
      "model_name": "HBoxModel",
      "state": {
       "children": [
        "IPY_MODEL_c4ac04956fc8449eac1b8069132c5976",
        "IPY_MODEL_11ea4ae3457c48d6bb3b7260d63e62d6"
       ],
       "layout": "IPY_MODEL_f3fa559fd08846989bb1291ab0deb204"
      }
     },
     "57a4188298f74c139d4541e6000e1f99": {
      "model_module": "@jupyter-widgets/base",
      "model_module_version": "1.2.0",
      "model_name": "LayoutModel",
      "state": {}
     },
     "57c4ba95b6f748ca95156ef63a9c69db": {
      "model_module": "@jupyter-widgets/controls",
      "model_module_version": "1.5.0",
      "model_name": "ProgressStyleModel",
      "state": {
       "description_width": "initial"
      }
     },
     "57c8540b958141b784e158a2d3ef0172": {
      "model_module": "@jupyter-widgets/base",
      "model_module_version": "1.2.0",
      "model_name": "LayoutModel",
      "state": {}
     },
     "57edffe14cff48138a52ebcd616d2a49": {
      "model_module": "@jupyter-widgets/controls",
      "model_module_version": "1.5.0",
      "model_name": "HTMLModel",
      "state": {
       "layout": "IPY_MODEL_5392c04fba3f4c5dba01d9f8b60b6850",
       "style": "IPY_MODEL_d9bf379c3e1549eab92a7e59e5e0bfd9",
       "value": " 3/3 [00:06&lt;00:00,  2.14s/it]"
      }
     },
     "57f3617011394aeaaff633b05a7bd161": {
      "model_module": "@jupyter-widgets/controls",
      "model_module_version": "1.5.0",
      "model_name": "HBoxModel",
      "state": {
       "children": [
        "IPY_MODEL_f0d574b9d6bf4b50ac8c304a102d319d",
        "IPY_MODEL_f4fa1e8eb8ca46bca643cc65db8f7e18"
       ],
       "layout": "IPY_MODEL_25ccc2c28ccd45158ad5e4665b25d9f6"
      }
     },
     "57f7bb979fd6433eafc45473d2f64a92": {
      "model_module": "@jupyter-widgets/controls",
      "model_module_version": "1.5.0",
      "model_name": "HBoxModel",
      "state": {
       "children": [
        "IPY_MODEL_e05b128793ac4812b8d9bd313aa4f0f7",
        "IPY_MODEL_a13a203f5c2b41b98cfb0fa7344c7b65"
       ],
       "layout": "IPY_MODEL_3bde2d9bc7e54b568b29b4c706cc5b80"
      }
     },
     "580ae2801b6849179ad63b38fafd9e86": {
      "model_module": "@jupyter-widgets/controls",
      "model_module_version": "1.5.0",
      "model_name": "DescriptionStyleModel",
      "state": {
       "description_width": ""
      }
     },
     "5819439a03db4864b375617e0ecb68fc": {
      "model_module": "@jupyter-widgets/base",
      "model_module_version": "1.2.0",
      "model_name": "LayoutModel",
      "state": {}
     },
     "58366c89b8e645f6b242eada6f6a61ef": {
      "model_module": "@jupyter-widgets/controls",
      "model_module_version": "1.5.0",
      "model_name": "ProgressStyleModel",
      "state": {
       "description_width": "initial"
      }
     },
     "5840c79772214abba51e1aa316305211": {
      "model_module": "@jupyter-widgets/controls",
      "model_module_version": "1.5.0",
      "model_name": "ProgressStyleModel",
      "state": {
       "description_width": "initial"
      }
     },
     "58698ef3f32c49b8a8673c2475f207b4": {
      "model_module": "@jupyter-widgets/base",
      "model_module_version": "1.2.0",
      "model_name": "LayoutModel",
      "state": {}
     },
     "58cbdecf8da545b2bd22683e3e5f2454": {
      "model_module": "@jupyter-widgets/controls",
      "model_module_version": "1.5.0",
      "model_name": "DescriptionStyleModel",
      "state": {
       "description_width": ""
      }
     },
     "58d2f0d0518c4cfe8dcfca09a9ff5c79": {
      "model_module": "@jupyter-widgets/base",
      "model_module_version": "1.2.0",
      "model_name": "LayoutModel",
      "state": {}
     },
     "58dbe3617f004e2bac8ba6f19f37bad8": {
      "model_module": "@jupyter-widgets/base",
      "model_module_version": "1.2.0",
      "model_name": "LayoutModel",
      "state": {}
     },
     "5903d2b6c430442f931dfd40d2a2e496": {
      "model_module": "@jupyter-widgets/base",
      "model_module_version": "1.2.0",
      "model_name": "LayoutModel",
      "state": {}
     },
     "591b72a949a249a58e5fd7ae901cafe6": {
      "model_module": "@jupyter-widgets/controls",
      "model_module_version": "1.5.0",
      "model_name": "FloatProgressModel",
      "state": {
       "bar_style": "success",
       "description": "[2] 11/15(train): 100%",
       "layout": "IPY_MODEL_094921ed107d416d988cbc141c04f6d0",
       "max": 493,
       "style": "IPY_MODEL_0b596b04cbdf48969e31f5fbc7e0f9bd",
       "value": 493
      }
     },
     "594633b38d7c4b1f907d435c5dc409e6": {
      "model_module": "@jupyter-widgets/base",
      "model_module_version": "1.2.0",
      "model_name": "LayoutModel",
      "state": {}
     },
     "5964ec9a01c34d01a1ca5ec2ecbcf76a": {
      "model_module": "@jupyter-widgets/controls",
      "model_module_version": "1.5.0",
      "model_name": "ProgressStyleModel",
      "state": {
       "description_width": "initial"
      }
     },
     "59704b22b72843b39c42f32bc3778954": {
      "model_module": "@jupyter-widgets/controls",
      "model_module_version": "1.5.0",
      "model_name": "ProgressStyleModel",
      "state": {
       "description_width": "initial"
      }
     },
     "5981c86a9894437cb90304962bd218cc": {
      "model_module": "@jupyter-widgets/base",
      "model_module_version": "1.2.0",
      "model_name": "LayoutModel",
      "state": {}
     },
     "599871acf2f64001ae44460c8959171e": {
      "model_module": "@jupyter-widgets/controls",
      "model_module_version": "1.5.0",
      "model_name": "FloatProgressModel",
      "state": {
       "bar_style": "success",
       "description": "[3] 1/2(val  ): 100%",
       "layout": "IPY_MODEL_2e702685e1b7469da7e21979ac1bae6e",
       "max": 1,
       "style": "IPY_MODEL_7cd31a174a2a4fafb83037544be7b8b7",
       "value": 1
      }
     },
     "599a35769c4741e9841b1a6eb2934ee1": {
      "model_module": "@jupyter-widgets/base",
      "model_module_version": "1.2.0",
      "model_name": "LayoutModel",
      "state": {}
     },
     "59a5c2d185ee42d4bb84a19db598e0f2": {
      "model_module": "@jupyter-widgets/controls",
      "model_module_version": "1.5.0",
      "model_name": "DescriptionStyleModel",
      "state": {
       "description_width": ""
      }
     },
     "59c66c76232c465f868dabd373768858": {
      "model_module": "@jupyter-widgets/controls",
      "model_module_version": "1.5.0",
      "model_name": "ProgressStyleModel",
      "state": {
       "description_width": "initial"
      }
     },
     "59c87cfd78064560ad55b9675ed4bec3": {
      "model_module": "@jupyter-widgets/controls",
      "model_module_version": "1.5.0",
      "model_name": "HBoxModel",
      "state": {
       "children": [
        "IPY_MODEL_618db85e8ccb4c9db2b5e79ec3280209",
        "IPY_MODEL_921ad03d867740de91cf46dccec12529"
       ],
       "layout": "IPY_MODEL_5218f4be44bd4ab6abae541019200635"
      }
     },
     "59df5b3e64aa44fda1027db1cea40c2b": {
      "model_module": "@jupyter-widgets/base",
      "model_module_version": "1.2.0",
      "model_name": "LayoutModel",
      "state": {}
     },
     "59e4a9375001484a8ab013dff7897b5a": {
      "model_module": "@jupyter-widgets/base",
      "model_module_version": "1.2.0",
      "model_name": "LayoutModel",
      "state": {}
     },
     "59fc7cad7b1942d0a3451c71a5d2e305": {
      "model_module": "@jupyter-widgets/controls",
      "model_module_version": "1.5.0",
      "model_name": "DescriptionStyleModel",
      "state": {
       "description_width": ""
      }
     },
     "59fe94488bf54b0e9e4d61fe7b7aa9a3": {
      "model_module": "@jupyter-widgets/base",
      "model_module_version": "1.2.0",
      "model_name": "LayoutModel",
      "state": {}
     },
     "5a084b2203ba4c739532b72604a4c973": {
      "model_module": "@jupyter-widgets/controls",
      "model_module_version": "1.5.0",
      "model_name": "ProgressStyleModel",
      "state": {
       "description_width": "initial"
      }
     },
     "5a2f51433360447f9066f17be641b979": {
      "model_module": "@jupyter-widgets/controls",
      "model_module_version": "1.5.0",
      "model_name": "DescriptionStyleModel",
      "state": {
       "description_width": ""
      }
     },
     "5a93a6eb71d44c138479c01d6979d70d": {
      "model_module": "@jupyter-widgets/controls",
      "model_module_version": "1.5.0",
      "model_name": "HTMLModel",
      "state": {
       "layout": "IPY_MODEL_2004d6ae584c4efcb1efa4703b44626e",
       "style": "IPY_MODEL_23be354f0faf4ee3a222f11630ec41bc",
       "value": " 3/3 [00:07&lt;00:00,  2.47s/it]"
      }
     },
     "5a958f43195849258a14e69fd32e3875": {
      "model_module": "@jupyter-widgets/base",
      "model_module_version": "1.2.0",
      "model_name": "LayoutModel",
      "state": {}
     },
     "5a98103ef41b4a299af33bc5287a35d0": {
      "model_module": "@jupyter-widgets/base",
      "model_module_version": "1.2.0",
      "model_name": "LayoutModel",
      "state": {}
     },
     "5acc1cf9aeca4e148cd7c6b02fb006ae": {
      "model_module": "@jupyter-widgets/controls",
      "model_module_version": "1.5.0",
      "model_name": "DescriptionStyleModel",
      "state": {
       "description_width": ""
      }
     },
     "5b04296dbf054c048bb3c2cf9f400548": {
      "model_module": "@jupyter-widgets/controls",
      "model_module_version": "1.5.0",
      "model_name": "FloatProgressModel",
      "state": {
       "bar_style": "success",
       "description": "[0] 6/16(train): 100%",
       "layout": "IPY_MODEL_60957b61f4484a90b8398aa2f5d91f63",
       "max": 493,
       "style": "IPY_MODEL_3f24cf17ea4c4994880ffe068785ee27",
       "value": 493
      }
     },
     "5b06fc6ad1c64d49ab615d5c542606b3": {
      "model_module": "@jupyter-widgets/base",
      "model_module_version": "1.2.0",
      "model_name": "LayoutModel",
      "state": {}
     },
     "5b22a55f3b5944a190f45c9b08796384": {
      "model_module": "@jupyter-widgets/controls",
      "model_module_version": "1.5.0",
      "model_name": "ProgressStyleModel",
      "state": {
       "description_width": "initial"
      }
     },
     "5b547ba280d24f1db9b73a9b36fbc88d": {
      "model_module": "@jupyter-widgets/base",
      "model_module_version": "1.2.0",
      "model_name": "LayoutModel",
      "state": {}
     },
     "5b6355bf8b0543a0a2ac5a79d27c248a": {
      "model_module": "@jupyter-widgets/controls",
      "model_module_version": "1.5.0",
      "model_name": "HBoxModel",
      "state": {
       "children": [
        "IPY_MODEL_9b94beca99034620a5a996b36a06c8e2",
        "IPY_MODEL_c5827ffd7a4144bd937df5990b12a018"
       ],
       "layout": "IPY_MODEL_dd5c97c4a96b4e44a96e3f2f3f65ffcc"
      }
     },
     "5b79d6a474594f2391a67dc3828f01c7": {
      "model_module": "@jupyter-widgets/controls",
      "model_module_version": "1.5.0",
      "model_name": "HTMLModel",
      "state": {
       "layout": "IPY_MODEL_e342905037a2454794b5d61437e3e571",
       "style": "IPY_MODEL_92dd527bcea4442c9452ff5dc1ceac06",
       "value": " 1/1 [00:00&lt;00:00,  1.22it/s]"
      }
     },
     "5b7da9fdf04c476b9184c74eca9b69c5": {
      "model_module": "@jupyter-widgets/controls",
      "model_module_version": "1.5.0",
      "model_name": "HBoxModel",
      "state": {
       "children": [
        "IPY_MODEL_e7cd7656ffaf4f9aa511fb17883bc9af",
        "IPY_MODEL_e33f80e22c0247c489f2b08a64220714"
       ],
       "layout": "IPY_MODEL_e7e766517c9a4391b729cf5a48ed2166"
      }
     },
     "5b7e200188584ea8a557b60164c8f5f2": {
      "model_module": "@jupyter-widgets/controls",
      "model_module_version": "1.5.0",
      "model_name": "ProgressStyleModel",
      "state": {
       "description_width": "initial"
      }
     },
     "5bae2c71499b49ed85fdc52524b7a502": {
      "model_module": "@jupyter-widgets/base",
      "model_module_version": "1.2.0",
      "model_name": "LayoutModel",
      "state": {}
     },
     "5bc486f9af2c467e8d1de8d7222cebec": {
      "model_module": "@jupyter-widgets/controls",
      "model_module_version": "1.5.0",
      "model_name": "DescriptionStyleModel",
      "state": {
       "description_width": ""
      }
     },
     "5bdd0bdea22a4018ab57532bcd5a469a": {
      "model_module": "@jupyter-widgets/controls",
      "model_module_version": "1.5.0",
      "model_name": "ProgressStyleModel",
      "state": {
       "description_width": "initial"
      }
     },
     "5c0e00f475ed4da8a6b964780734da37": {
      "model_module": "@jupyter-widgets/controls",
      "model_module_version": "1.5.0",
      "model_name": "DescriptionStyleModel",
      "state": {
       "description_width": ""
      }
     },
     "5c38fea0e5d44be08a482393b7471c13": {
      "model_module": "@jupyter-widgets/controls",
      "model_module_version": "1.5.0",
      "model_name": "DescriptionStyleModel",
      "state": {
       "description_width": ""
      }
     },
     "5c5ff17dee9b4e5b81021fec1cece09f": {
      "model_module": "@jupyter-widgets/controls",
      "model_module_version": "1.5.0",
      "model_name": "ProgressStyleModel",
      "state": {
       "description_width": "initial"
      }
     },
     "5ccf7dcc291048de997532da0f9216c4": {
      "model_module": "@jupyter-widgets/controls",
      "model_module_version": "1.5.0",
      "model_name": "ProgressStyleModel",
      "state": {
       "description_width": "initial"
      }
     },
     "5cdaaf0a589d49fd9019f529d2905942": {
      "model_module": "@jupyter-widgets/controls",
      "model_module_version": "1.5.0",
      "model_name": "FloatProgressModel",
      "state": {
       "bar_style": "success",
       "description": "[1] 2/2(val  ): 100%",
       "layout": "IPY_MODEL_7890a3f64cdc49cbb8b7022988fbfd04",
       "max": 1,
       "style": "IPY_MODEL_72183924a27c4a959ea5cdc803e1ed7f",
       "value": 1
      }
     },
     "5ceabbb4fd3345f4bf4b85da6818a7c8": {
      "model_module": "@jupyter-widgets/base",
      "model_module_version": "1.2.0",
      "model_name": "LayoutModel",
      "state": {}
     },
     "5cfda672b28e4b0f903a2b19030d6d3e": {
      "model_module": "@jupyter-widgets/controls",
      "model_module_version": "1.5.0",
      "model_name": "FloatProgressModel",
      "state": {
       "bar_style": "success",
       "description": "[1] 7/16(val  ): 100%",
       "layout": "IPY_MODEL_403f0c064ba2407fb7d9211233792965",
       "max": 165,
       "style": "IPY_MODEL_47c1ce939ba445cdb387146eb62f6729",
       "value": 165
      }
     },
     "5cff2881a02f414c8675c271abc35503": {
      "model_module": "@jupyter-widgets/controls",
      "model_module_version": "1.5.0",
      "model_name": "FloatProgressModel",
      "state": {
       "bar_style": "success",
       "description": "[0] 11/16(train): 100%",
       "layout": "IPY_MODEL_76a87ec8f7af495a80e8890b773a804d",
       "max": 493,
       "style": "IPY_MODEL_241ce786bd9a4480bbb18d237adfd77b",
       "value": 493
      }
     },
     "5d0c5c08aed14698a956d0d0ac9f10b9": {
      "model_module": "@jupyter-widgets/controls",
      "model_module_version": "1.5.0",
      "model_name": "ProgressStyleModel",
      "state": {
       "description_width": "initial"
      }
     },
     "5d19b1aa999b49a38562bb020eb9c276": {
      "model_module": "@jupyter-widgets/controls",
      "model_module_version": "1.5.0",
      "model_name": "HTMLModel",
      "state": {
       "layout": "IPY_MODEL_e12bad5fce4d48cb84ea49d8ca3463b6",
       "style": "IPY_MODEL_8b1ee41f70ab4f07bf89c1f8ca8ac84e",
       "value": " 165/165 [01:25&lt;00:00,  1.94it/s]"
      }
     },
     "5d2ddd1be3254480a45b2c6210102cfb": {
      "model_module": "@jupyter-widgets/controls",
      "model_module_version": "1.5.0",
      "model_name": "HBoxModel",
      "state": {
       "children": [
        "IPY_MODEL_6d49865a453340ad9f90622ad609e572",
        "IPY_MODEL_33e90b6366ee4e688051f925e138d835"
       ],
       "layout": "IPY_MODEL_85d112099ce148b1837356c9cb51f23c"
      }
     },
     "5d30901f37d84e8c9f1afd34178890a9": {
      "model_module": "@jupyter-widgets/controls",
      "model_module_version": "1.5.0",
      "model_name": "HTMLModel",
      "state": {
       "layout": "IPY_MODEL_b4aa2e0df4db4cfcb2bb58095bb96529",
       "style": "IPY_MODEL_9f0dbdc14e524417a30827cbdbe6a403",
       "value": " 493/493 [17:46&lt;00:00,  2.16s/it]"
      }
     },
     "5d5d10b6c5c64406850e19afd46bc87b": {
      "model_module": "@jupyter-widgets/base",
      "model_module_version": "1.2.0",
      "model_name": "LayoutModel",
      "state": {}
     },
     "5d63717c2428440ca10565415c2e6c72": {
      "model_module": "@jupyter-widgets/base",
      "model_module_version": "1.2.0",
      "model_name": "LayoutModel",
      "state": {}
     },
     "5d6d117744c949b09007938382432970": {
      "model_module": "@jupyter-widgets/base",
      "model_module_version": "1.2.0",
      "model_name": "LayoutModel",
      "state": {}
     },
     "5d6d4330035545ab96994fe08a47b553": {
      "model_module": "@jupyter-widgets/base",
      "model_module_version": "1.2.0",
      "model_name": "LayoutModel",
      "state": {}
     },
     "5d79727ec28046f3bb890b4283baa727": {
      "model_module": "@jupyter-widgets/base",
      "model_module_version": "1.2.0",
      "model_name": "LayoutModel",
      "state": {}
     },
     "5d7ccc90388c43d8959d5e386d82faeb": {
      "model_module": "@jupyter-widgets/controls",
      "model_module_version": "1.5.0",
      "model_name": "DescriptionStyleModel",
      "state": {
       "description_width": ""
      }
     },
     "5d8c2cf8dc614163aa9c9a68c981432c": {
      "model_module": "@jupyter-widgets/controls",
      "model_module_version": "1.5.0",
      "model_name": "FloatProgressModel",
      "state": {
       "bar_style": "success",
       "description": "[1] 1/2(train): 100%",
       "layout": "IPY_MODEL_4ba4b99b7e6f42329ef61a554adeb5e5",
       "max": 3,
       "style": "IPY_MODEL_f68c4e466690404bbc349631681df9f4",
       "value": 3
      }
     },
     "5dde37d634644d5f9991e793eab29e78": {
      "model_module": "@jupyter-widgets/controls",
      "model_module_version": "1.5.0",
      "model_name": "FloatProgressModel",
      "state": {
       "description": "[3] 1/16(train):   3%",
       "layout": "IPY_MODEL_0ac83df371494750af267b0fb43febfd",
       "max": 493,
       "style": "IPY_MODEL_135c63c19a4f4cccbb9ae249f6a31ee8",
       "value": 16
      }
     },
     "5ddf167fa734439d85e7dd7749ed186d": {
      "model_module": "@jupyter-widgets/base",
      "model_module_version": "1.2.0",
      "model_name": "LayoutModel",
      "state": {}
     },
     "5de24a07b88c466d97d1aece7e742b6f": {
      "model_module": "@jupyter-widgets/controls",
      "model_module_version": "1.5.0",
      "model_name": "HTMLModel",
      "state": {
       "layout": "IPY_MODEL_b6dbfb8e2cfd4012a7dda7cc43517478",
       "style": "IPY_MODEL_5d7ccc90388c43d8959d5e386d82faeb",
       "value": " 493/493 [3:14:37&lt;00:00, 23.69s/it]"
      }
     },
     "5de8860102f94eda903f33abb141ace6": {
      "model_module": "@jupyter-widgets/controls",
      "model_module_version": "1.5.0",
      "model_name": "HBoxModel",
      "state": {
       "children": [
        "IPY_MODEL_efc8c243134f46ffa1e89e14a0b83fa1",
        "IPY_MODEL_1e3833fe11134dd4b06c91cf026e968f"
       ],
       "layout": "IPY_MODEL_f0fd69fbaf2a4bd1acc1a59b1735f309"
      }
     },
     "5df04e722cc249229ebcd428b5780589": {
      "model_module": "@jupyter-widgets/base",
      "model_module_version": "1.2.0",
      "model_name": "LayoutModel",
      "state": {}
     },
     "5dff514e5e9c461a99add8251747fc55": {
      "model_module": "@jupyter-widgets/base",
      "model_module_version": "1.2.0",
      "model_name": "LayoutModel",
      "state": {}
     },
     "5e09e922115843338c600ca630808b3d": {
      "model_module": "@jupyter-widgets/base",
      "model_module_version": "1.2.0",
      "model_name": "LayoutModel",
      "state": {}
     },
     "5e0e70b4946348ecade8ac2e6b9a16c9": {
      "model_module": "@jupyter-widgets/controls",
      "model_module_version": "1.5.0",
      "model_name": "HBoxModel",
      "state": {
       "children": [
        "IPY_MODEL_721f3f82e0e7432585b9d79a612dad51",
        "IPY_MODEL_43b9e276160e4b339f911f0827ae0a3d"
       ],
       "layout": "IPY_MODEL_f96d19f59c38456b95ab2803ce3bb929"
      }
     },
     "5e26fd2ddc024d589d3f4e5d8ca7a64f": {
      "model_module": "@jupyter-widgets/controls",
      "model_module_version": "1.5.0",
      "model_name": "ProgressStyleModel",
      "state": {
       "description_width": "initial"
      }
     },
     "5e410ed315404212abd57c14f374960e": {
      "model_module": "@jupyter-widgets/controls",
      "model_module_version": "1.5.0",
      "model_name": "FloatProgressModel",
      "state": {
       "bar_style": "success",
       "description": "[1] 8/16(val  ): 100%",
       "layout": "IPY_MODEL_afba84b2d96540fda7bac9e4e4b8b5f8",
       "max": 165,
       "style": "IPY_MODEL_1746f8582ad24227b5454823401dab7a",
       "value": 165
      }
     },
     "5e49cdf1a5e848969b20eac3d4611d0b": {
      "model_module": "@jupyter-widgets/controls",
      "model_module_version": "1.5.0",
      "model_name": "FloatProgressModel",
      "state": {
       "bar_style": "success",
       "description": "[2] 2/2(train): 100%",
       "layout": "IPY_MODEL_37d5a0ec4dcb4eeeb817c21ac4c849e7",
       "max": 3,
       "style": "IPY_MODEL_f595011d47cb41319dda084dddf4b924",
       "value": 3
      }
     },
     "5e550528a11847f88d76315bd7670f1d": {
      "model_module": "@jupyter-widgets/base",
      "model_module_version": "1.2.0",
      "model_name": "LayoutModel",
      "state": {}
     },
     "5e65f0b10b744a488b81b0c9b01546c4": {
      "model_module": "@jupyter-widgets/controls",
      "model_module_version": "1.5.0",
      "model_name": "FloatProgressModel",
      "state": {
       "bar_style": "success",
       "description": "[0] 11/15(train): 100%",
       "layout": "IPY_MODEL_e9710f47a8294399b3fd2dc55e1e3c29",
       "max": 3,
       "style": "IPY_MODEL_83277a46c35c4d23966791be1e69e3ff",
       "value": 3
      }
     },
     "5e66b4b89ce942f2bcef07a74fb59664": {
      "model_module": "@jupyter-widgets/controls",
      "model_module_version": "1.5.0",
      "model_name": "HBoxModel",
      "state": {
       "children": [
        "IPY_MODEL_9525274b974240bdb864b9075139f882",
        "IPY_MODEL_a61965fab1444f25ad8ffec1deef773e"
       ],
       "layout": "IPY_MODEL_43906658b0774c118284591fcfe5e289"
      }
     },
     "5e89dd4a9dd6453680be36d22b5b399a": {
      "model_module": "@jupyter-widgets/base",
      "model_module_version": "1.2.0",
      "model_name": "LayoutModel",
      "state": {}
     },
     "5e92a9d4dc774882955c88cfc4418ac8": {
      "model_module": "@jupyter-widgets/controls",
      "model_module_version": "1.5.0",
      "model_name": "ProgressStyleModel",
      "state": {
       "description_width": "initial"
      }
     },
     "5e969a89397042928ced5f4149482978": {
      "model_module": "@jupyter-widgets/controls",
      "model_module_version": "1.5.0",
      "model_name": "FloatProgressModel",
      "state": {
       "description": "[0] 13/15(train):   0%",
       "layout": "IPY_MODEL_4065ceebcb9b42af9541bde440382b74",
       "max": 3,
       "style": "IPY_MODEL_e2371f10209e4c4692d7170f0dca4229"
      }
     },
     "5f1ddc6521dc43b0893b5d91da9a33e6": {
      "model_module": "@jupyter-widgets/controls",
      "model_module_version": "1.5.0",
      "model_name": "DescriptionStyleModel",
      "state": {
       "description_width": ""
      }
     },
     "5f1f81d3ebff442992fa233d6fe50357": {
      "model_module": "@jupyter-widgets/base",
      "model_module_version": "1.2.0",
      "model_name": "LayoutModel",
      "state": {}
     },
     "5f3e06e600aa4d258362d7fbf62e5f18": {
      "model_module": "@jupyter-widgets/base",
      "model_module_version": "1.2.0",
      "model_name": "LayoutModel",
      "state": {}
     },
     "5f4d4c26b4a34e0094d456a4722082e9": {
      "model_module": "@jupyter-widgets/base",
      "model_module_version": "1.2.0",
      "model_name": "LayoutModel",
      "state": {}
     },
     "5f58d06558f1497f8b7d7b1bd1ce8f62": {
      "model_module": "@jupyter-widgets/controls",
      "model_module_version": "1.5.0",
      "model_name": "FloatProgressModel",
      "state": {
       "bar_style": "success",
       "description": "[0] 8/15(val  ): 100%",
       "layout": "IPY_MODEL_767aec75a212486eb40cf9a7ba74b129",
       "max": 1,
       "style": "IPY_MODEL_9143ed9c4bb6481fa6559cfcccc6c121",
       "value": 1
      }
     },
     "5f613d23d6c2418580f932f5271a12fc": {
      "model_module": "@jupyter-widgets/controls",
      "model_module_version": "1.5.0",
      "model_name": "DescriptionStyleModel",
      "state": {
       "description_width": ""
      }
     },
     "5f73047ecefa4687b7b27ccf509f5876": {
      "model_module": "@jupyter-widgets/base",
      "model_module_version": "1.2.0",
      "model_name": "LayoutModel",
      "state": {}
     },
     "5f75bae5441749d5b8f7bf9d7ca5935c": {
      "model_module": "@jupyter-widgets/controls",
      "model_module_version": "1.5.0",
      "model_name": "ProgressStyleModel",
      "state": {
       "description_width": "initial"
      }
     },
     "5f8c349352d0433bbca36483460e1f29": {
      "model_module": "@jupyter-widgets/base",
      "model_module_version": "1.2.0",
      "model_name": "LayoutModel",
      "state": {}
     },
     "5fa3cb48e87241d7887ac557b50084de": {
      "model_module": "@jupyter-widgets/controls",
      "model_module_version": "1.5.0",
      "model_name": "HTMLModel",
      "state": {
       "layout": "IPY_MODEL_cf7b0bcbca6e4025bd595c79d520928b",
       "style": "IPY_MODEL_379644c2c49141d3bc1ded8fa79b72f0",
       "value": " 165/165 [01:30&lt;00:00,  1.83it/s]"
      }
     },
     "601b03d537c7418da438755caa1d0a7f": {
      "model_module": "@jupyter-widgets/controls",
      "model_module_version": "1.5.0",
      "model_name": "DescriptionStyleModel",
      "state": {
       "description_width": ""
      }
     },
     "60654ead66a947c68070b6c67d3ee6f6": {
      "model_module": "@jupyter-widgets/controls",
      "model_module_version": "1.5.0",
      "model_name": "ProgressStyleModel",
      "state": {
       "description_width": "initial"
      }
     },
     "6073824b9573462db17b8a242f6a15f5": {
      "model_module": "@jupyter-widgets/base",
      "model_module_version": "1.2.0",
      "model_name": "LayoutModel",
      "state": {}
     },
     "608d017abb6e4c3e983abdaf38c23f73": {
      "model_module": "@jupyter-widgets/controls",
      "model_module_version": "1.5.0",
      "model_name": "ProgressStyleModel",
      "state": {
       "description_width": "initial"
      }
     },
     "60957b61f4484a90b8398aa2f5d91f63": {
      "model_module": "@jupyter-widgets/base",
      "model_module_version": "1.2.0",
      "model_name": "LayoutModel",
      "state": {}
     },
     "60c209f8ffb249f290aaa3f725acc911": {
      "model_module": "@jupyter-widgets/controls",
      "model_module_version": "1.5.0",
      "model_name": "DescriptionStyleModel",
      "state": {
       "description_width": ""
      }
     },
     "60c5283ee2104fabbf1041e442f6426f": {
      "model_module": "@jupyter-widgets/controls",
      "model_module_version": "1.5.0",
      "model_name": "ProgressStyleModel",
      "state": {
       "description_width": "initial"
      }
     },
     "60ed321140e446b4bf7c99b0928f25d1": {
      "model_module": "@jupyter-widgets/base",
      "model_module_version": "1.2.0",
      "model_name": "LayoutModel",
      "state": {}
     },
     "60ff72db76254c1d89656eb06e1029d1": {
      "model_module": "@jupyter-widgets/base",
      "model_module_version": "1.2.0",
      "model_name": "LayoutModel",
      "state": {}
     },
     "610fb15e5694491eb4904c9ac6a2b95a": {
      "model_module": "@jupyter-widgets/base",
      "model_module_version": "1.2.0",
      "model_name": "LayoutModel",
      "state": {}
     },
     "611a4fa15bb74bfbaa32aeb9c7df2609": {
      "model_module": "@jupyter-widgets/base",
      "model_module_version": "1.2.0",
      "model_name": "LayoutModel",
      "state": {}
     },
     "61250cfd548d476fa9f5f972470734f1": {
      "model_module": "@jupyter-widgets/controls",
      "model_module_version": "1.5.0",
      "model_name": "DescriptionStyleModel",
      "state": {
       "description_width": ""
      }
     },
     "613c090a45ae4e7a806032758d9dd8f5": {
      "model_module": "@jupyter-widgets/base",
      "model_module_version": "1.2.0",
      "model_name": "LayoutModel",
      "state": {}
     },
     "613fd78003704c65829d89c9a21a861e": {
      "model_module": "@jupyter-widgets/controls",
      "model_module_version": "1.5.0",
      "model_name": "HTMLModel",
      "state": {
       "layout": "IPY_MODEL_651ca6559c4a4ad1882ca48eca009ffa",
       "style": "IPY_MODEL_0ad74b42f88146cb93010d22515226e3",
       "value": " 165/165 [01:38&lt;00:00,  1.68it/s]"
      }
     },
     "61730af7b8494a5a87b50c7e5094fdb2": {
      "model_module": "@jupyter-widgets/base",
      "model_module_version": "1.2.0",
      "model_name": "LayoutModel",
      "state": {}
     },
     "618db85e8ccb4c9db2b5e79ec3280209": {
      "model_module": "@jupyter-widgets/controls",
      "model_module_version": "1.5.0",
      "model_name": "FloatProgressModel",
      "state": {
       "bar_style": "success",
       "description": "[0] 2/2(val  ): 100%",
       "layout": "IPY_MODEL_8aa35a82099744d28180c61d65878119",
       "max": 1,
       "style": "IPY_MODEL_c94a4100d3034f4fac3783f07896300e",
       "value": 1
      }
     },
     "6199f7e42c264822b2bf791190a11dc5": {
      "model_module": "@jupyter-widgets/controls",
      "model_module_version": "1.5.0",
      "model_name": "DescriptionStyleModel",
      "state": {
       "description_width": ""
      }
     },
     "61a1a808566343b1ab348c41ad0834b1": {
      "model_module": "@jupyter-widgets/base",
      "model_module_version": "1.2.0",
      "model_name": "LayoutModel",
      "state": {}
     },
     "61c1efb2b7d84dc4b2e05a547a489cbc": {
      "model_module": "@jupyter-widgets/base",
      "model_module_version": "1.2.0",
      "model_name": "LayoutModel",
      "state": {}
     },
     "6208230217d24f4a9f761d1bfc7d8ca5": {
      "model_module": "@jupyter-widgets/controls",
      "model_module_version": "1.5.0",
      "model_name": "ProgressStyleModel",
      "state": {
       "description_width": "initial"
      }
     },
     "62230c465a3d47ef89f94cb8d8760ca9": {
      "model_module": "@jupyter-widgets/controls",
      "model_module_version": "1.5.0",
      "model_name": "ProgressStyleModel",
      "state": {
       "description_width": "initial"
      }
     },
     "622b38a3bc574e80bfd9c0f83c1ccd37": {
      "model_module": "@jupyter-widgets/base",
      "model_module_version": "1.2.0",
      "model_name": "LayoutModel",
      "state": {}
     },
     "623f842505eb48d4a37db644fb1558fd": {
      "model_module": "@jupyter-widgets/controls",
      "model_module_version": "1.5.0",
      "model_name": "ProgressStyleModel",
      "state": {
       "description_width": "initial"
      }
     },
     "62432197a0c742cf8648dd0936077ed4": {
      "model_module": "@jupyter-widgets/base",
      "model_module_version": "1.2.0",
      "model_name": "LayoutModel",
      "state": {}
     },
     "62456bf5a2714fa08622f7ce93e52fd0": {
      "model_module": "@jupyter-widgets/controls",
      "model_module_version": "1.5.0",
      "model_name": "ProgressStyleModel",
      "state": {
       "description_width": "initial"
      }
     },
     "625932a9791240dfa935a0fb1c01edbb": {
      "model_module": "@jupyter-widgets/base",
      "model_module_version": "1.2.0",
      "model_name": "LayoutModel",
      "state": {}
     },
     "629c56f4475846cca619b8b439ae3c9d": {
      "model_module": "@jupyter-widgets/controls",
      "model_module_version": "1.5.0",
      "model_name": "FloatProgressModel",
      "state": {
       "bar_style": "success",
       "description": "[0] 2/2(val  ): 100%",
       "layout": "IPY_MODEL_c93a5974216f45a698d5b7c8b2b59896",
       "max": 1,
       "style": "IPY_MODEL_928fa86d18474d7e990d5361466f2765",
       "value": 1
      }
     },
     "62dd02ee46d9476897d66785a3b87f75": {
      "model_module": "@jupyter-widgets/controls",
      "model_module_version": "1.5.0",
      "model_name": "HBoxModel",
      "state": {
       "children": [
        "IPY_MODEL_c15d4dd755a544fba9c8e30b909c073f",
        "IPY_MODEL_203b3325eca545aaa2c211890466b252"
       ],
       "layout": "IPY_MODEL_ed37b408867547c39b5e8e670b46a94d"
      }
     },
     "62f0213c12e948e5bb04b72c05e9fe19": {
      "model_module": "@jupyter-widgets/controls",
      "model_module_version": "1.5.0",
      "model_name": "DescriptionStyleModel",
      "state": {
       "description_width": ""
      }
     },
     "62fc95606ec441108b3d530d55683725": {
      "model_module": "@jupyter-widgets/controls",
      "model_module_version": "1.5.0",
      "model_name": "HTMLModel",
      "state": {
       "layout": "IPY_MODEL_4f121d51dffa4c76a7fe6881fd84e352",
       "style": "IPY_MODEL_66f5515670d04e7093628ca8675d5f19",
       "value": " 1/1 [00:00&lt;00:00,  1.06it/s]"
      }
     },
     "630c6d5479534ac580ef54fe2c4569a0": {
      "model_module": "@jupyter-widgets/controls",
      "model_module_version": "1.5.0",
      "model_name": "ProgressStyleModel",
      "state": {
       "description_width": "initial"
      }
     },
     "631588e9e9264dbda4d8dc94244427e5": {
      "model_module": "@jupyter-widgets/controls",
      "model_module_version": "1.5.0",
      "model_name": "HTMLModel",
      "state": {
       "layout": "IPY_MODEL_b6093010c26842b286c9367b194a1e3f",
       "style": "IPY_MODEL_580ae2801b6849179ad63b38fafd9e86",
       "value": " 3/3 [00:07&lt;00:00,  2.62s/it]"
      }
     },
     "632413d7154a49599d422e5a663f411e": {
      "model_module": "@jupyter-widgets/base",
      "model_module_version": "1.2.0",
      "model_name": "LayoutModel",
      "state": {}
     },
     "633e2aaf3c124f22bd6ebb54da69c73c": {
      "model_module": "@jupyter-widgets/controls",
      "model_module_version": "1.5.0",
      "model_name": "ProgressStyleModel",
      "state": {
       "description_width": "initial"
      }
     },
     "6348084682a54ead81ad84cb2b83de98": {
      "model_module": "@jupyter-widgets/controls",
      "model_module_version": "1.5.0",
      "model_name": "FloatProgressModel",
      "state": {
       "bar_style": "success",
       "description": "[0] 3/16(train): 100%",
       "layout": "IPY_MODEL_b12648f270c349608b07455230141243",
       "max": 493,
       "style": "IPY_MODEL_ad350c7a0f8b4cf6b4371161f23e9dbb",
       "value": 493
      }
     },
     "637bad66344f4b46a46a1c800b0ed412": {
      "model_module": "@jupyter-widgets/controls",
      "model_module_version": "1.5.0",
      "model_name": "ProgressStyleModel",
      "state": {
       "description_width": "initial"
      }
     },
     "6384c56d787443d48f82a84383af6d04": {
      "model_module": "@jupyter-widgets/base",
      "model_module_version": "1.2.0",
      "model_name": "LayoutModel",
      "state": {}
     },
     "63adb0c82262413d91728ac645eebff8": {
      "model_module": "@jupyter-widgets/base",
      "model_module_version": "1.2.0",
      "model_name": "LayoutModel",
      "state": {}
     },
     "63b2f822834f45c6a409d76bbae3fe8f": {
      "model_module": "@jupyter-widgets/base",
      "model_module_version": "1.2.0",
      "model_name": "LayoutModel",
      "state": {}
     },
     "63db3721bba24de596c8b0e094b08620": {
      "model_module": "@jupyter-widgets/base",
      "model_module_version": "1.2.0",
      "model_name": "LayoutModel",
      "state": {}
     },
     "642b38f07f03491e81c7f995a005c362": {
      "model_module": "@jupyter-widgets/controls",
      "model_module_version": "1.5.0",
      "model_name": "FloatProgressModel",
      "state": {
       "bar_style": "success",
       "description": "[2] 15/15(val  ): 100%",
       "layout": "IPY_MODEL_e9daa449ac7542259aa87112d8ae31f6",
       "max": 165,
       "style": "IPY_MODEL_ac326dacb7cd453d90d86b0bb628112c",
       "value": 165
      }
     },
     "64587a88036a4a0ab2d06c5da0bb756f": {
      "model_module": "@jupyter-widgets/controls",
      "model_module_version": "1.5.0",
      "model_name": "ProgressStyleModel",
      "state": {
       "description_width": "initial"
      }
     },
     "646330ffd1b04e798437e3999fb32286": {
      "model_module": "@jupyter-widgets/controls",
      "model_module_version": "1.5.0",
      "model_name": "DescriptionStyleModel",
      "state": {
       "description_width": ""
      }
     },
     "647ec94161d248f3a2ba9463f7509e3a": {
      "model_module": "@jupyter-widgets/controls",
      "model_module_version": "1.5.0",
      "model_name": "HTMLModel",
      "state": {
       "layout": "IPY_MODEL_1d31c69b43b1433e99c67be6d1d9bd37",
       "style": "IPY_MODEL_18533bf4d9fc422ba0537cf909954ed8",
       "value": " 165/165 [00:43&lt;00:00,  3.80it/s]"
      }
     },
     "64825f24e48346588c59f013b1812e3c": {
      "model_module": "@jupyter-widgets/controls",
      "model_module_version": "1.5.0",
      "model_name": "DescriptionStyleModel",
      "state": {
       "description_width": ""
      }
     },
     "64a5f9abf4d54e28989e3905d6e46e98": {
      "model_module": "@jupyter-widgets/base",
      "model_module_version": "1.2.0",
      "model_name": "LayoutModel",
      "state": {}
     },
     "64e2244387f147e7b63e4dcea6e27991": {
      "model_module": "@jupyter-widgets/base",
      "model_module_version": "1.2.0",
      "model_name": "LayoutModel",
      "state": {}
     },
     "64f3481517db4f5aa585a192654b45c2": {
      "model_module": "@jupyter-widgets/controls",
      "model_module_version": "1.5.0",
      "model_name": "ProgressStyleModel",
      "state": {
       "description_width": "initial"
      }
     },
     "64f5bd55ca864d92b41f0c024646599b": {
      "model_module": "@jupyter-widgets/base",
      "model_module_version": "1.2.0",
      "model_name": "LayoutModel",
      "state": {}
     },
     "651064be43c5443cadee5cf122e2a940": {
      "model_module": "@jupyter-widgets/base",
      "model_module_version": "1.2.0",
      "model_name": "LayoutModel",
      "state": {}
     },
     "65157baac7404f3cb6dc8d169a9c1192": {
      "model_module": "@jupyter-widgets/controls",
      "model_module_version": "1.5.0",
      "model_name": "HTMLModel",
      "state": {
       "layout": "IPY_MODEL_24212ee5a32745f2ad2ed7b8c17ad652",
       "style": "IPY_MODEL_d8b55bfe972b46fbb009a6ad64c951e3",
       "value": " 1/1 [00:00&lt;00:00,  1.08it/s]"
      }
     },
     "651ca6559c4a4ad1882ca48eca009ffa": {
      "model_module": "@jupyter-widgets/base",
      "model_module_version": "1.2.0",
      "model_name": "LayoutModel",
      "state": {}
     },
     "651f717c4a0441a5a123e21d91c536ea": {
      "model_module": "@jupyter-widgets/controls",
      "model_module_version": "1.5.0",
      "model_name": "HBoxModel",
      "state": {
       "children": [
        "IPY_MODEL_6db5e237734b401080863581021d975a",
        "IPY_MODEL_2696af95d3014a2ca2606b570a9fa2a2"
       ],
       "layout": "IPY_MODEL_9cb492de2bcf415d92b0f2ecfab5fdd3"
      }
     },
     "652003c0fbca4fa480aeed2ac2486923": {
      "model_module": "@jupyter-widgets/base",
      "model_module_version": "1.2.0",
      "model_name": "LayoutModel",
      "state": {}
     },
     "6522d08c44784db48b572138f56b319a": {
      "model_module": "@jupyter-widgets/base",
      "model_module_version": "1.2.0",
      "model_name": "LayoutModel",
      "state": {}
     },
     "653102f10a83421db8b5d733bc3ff021": {
      "model_module": "@jupyter-widgets/base",
      "model_module_version": "1.2.0",
      "model_name": "LayoutModel",
      "state": {}
     },
     "653355d871ea41dcaf53ff8397da7677": {
      "model_module": "@jupyter-widgets/controls",
      "model_module_version": "1.5.0",
      "model_name": "HBoxModel",
      "state": {
       "children": [
        "IPY_MODEL_e6e95c3ecce84e1e93f74b590c4d4b11",
        "IPY_MODEL_cb14b1ec772445f7a8492616180a78a0"
       ],
       "layout": "IPY_MODEL_a7d767804f5143fd8d922dc4cecec781"
      }
     },
     "6539e5ff5a3b4ddaa0f75c2d3e29dc12": {
      "model_module": "@jupyter-widgets/base",
      "model_module_version": "1.2.0",
      "model_name": "LayoutModel",
      "state": {}
     },
     "6551c38c1e7944e699ab6b2a39fcb8b1": {
      "model_module": "@jupyter-widgets/controls",
      "model_module_version": "1.5.0",
      "model_name": "HBoxModel",
      "state": {
       "children": [
        "IPY_MODEL_7346843415c742e388f6264139c2c1f4",
        "IPY_MODEL_742f16b181af468999616dddcd14fa13"
       ],
       "layout": "IPY_MODEL_811e3aa3d3494f7f81236a6fa135ead4"
      }
     },
     "657e0ee880584691853a370d948b69f1": {
      "model_module": "@jupyter-widgets/base",
      "model_module_version": "1.2.0",
      "model_name": "LayoutModel",
      "state": {}
     },
     "658c5c673455471592e057a0c76d8432": {
      "model_module": "@jupyter-widgets/controls",
      "model_module_version": "1.5.0",
      "model_name": "FloatProgressModel",
      "state": {
       "description": "[1] 13/15(train):   0%",
       "layout": "IPY_MODEL_aab510427ccb447aa193204eb06dd382",
       "max": 3,
       "style": "IPY_MODEL_5e26fd2ddc024d589d3f4e5d8ca7a64f"
      }
     },
     "65da68f1c7ef4d93b89c49d5ea010699": {
      "model_module": "@jupyter-widgets/controls",
      "model_module_version": "1.5.0",
      "model_name": "HTMLModel",
      "state": {
       "layout": "IPY_MODEL_7d48b500a7b64af995a1641697681b86",
       "style": "IPY_MODEL_58cbdecf8da545b2bd22683e3e5f2454",
       "value": " 165/165 [21:34&lt;00:00,  7.84s/it]"
      }
     },
     "65f3085fbaf74784af5141ca36c62fea": {
      "model_module": "@jupyter-widgets/base",
      "model_module_version": "1.2.0",
      "model_name": "LayoutModel",
      "state": {}
     },
     "6604d9e2da7a461299ae42e2e03abe6d": {
      "model_module": "@jupyter-widgets/controls",
      "model_module_version": "1.5.0",
      "model_name": "HTMLModel",
      "state": {
       "layout": "IPY_MODEL_d8b03b13a55f4d0d80cd7f0994334cff",
       "style": "IPY_MODEL_b8d31d937c074c21916fa6740bd40ced",
       "value": " 165/165 [25:14&lt;00:00,  9.18s/it]"
      }
     },
     "663f92ab22fd4486b6e2e3bb2a3d3091": {
      "model_module": "@jupyter-widgets/base",
      "model_module_version": "1.2.0",
      "model_name": "LayoutModel",
      "state": {}
     },
     "6656a9b1c8e64b4eb527f4f48b71fef2": {
      "model_module": "@jupyter-widgets/controls",
      "model_module_version": "1.5.0",
      "model_name": "ProgressStyleModel",
      "state": {
       "description_width": "initial"
      }
     },
     "66bc7393a99949d88041c30d94530f07": {
      "model_module": "@jupyter-widgets/controls",
      "model_module_version": "1.5.0",
      "model_name": "HTMLModel",
      "state": {
       "layout": "IPY_MODEL_ca41ac5007b14259ac81d60651651193",
       "style": "IPY_MODEL_8b7d81cc65d149b2a71173a6fb79a628",
       "value": " 493/493 [2:32:26&lt;00:00, 18.55s/it]"
      }
     },
     "66d34a88ec844216937e8e483f7eb0ae": {
      "model_module": "@jupyter-widgets/base",
      "model_module_version": "1.2.0",
      "model_name": "LayoutModel",
      "state": {}
     },
     "66eec966296e46c89cade9831329aae6": {
      "model_module": "@jupyter-widgets/controls",
      "model_module_version": "1.5.0",
      "model_name": "HTMLModel",
      "state": {
       "layout": "IPY_MODEL_85ca67185ab641e8962f65c13fdeb5a8",
       "style": "IPY_MODEL_c841b423eda94a78a12391ba7ba1bdcc",
       "value": " 493/493 [19:55&lt;00:00,  2.42s/it]"
      }
     },
     "66f5515670d04e7093628ca8675d5f19": {
      "model_module": "@jupyter-widgets/controls",
      "model_module_version": "1.5.0",
      "model_name": "DescriptionStyleModel",
      "state": {
       "description_width": ""
      }
     },
     "66f5c6208983494c920162cc568322d8": {
      "model_module": "@jupyter-widgets/controls",
      "model_module_version": "1.5.0",
      "model_name": "HBoxModel",
      "state": {
       "children": [
        "IPY_MODEL_3fb2e108d89f431ea1eabbae5785ba0e",
        "IPY_MODEL_e16818465c5a4c879c5cae7a55951009"
       ],
       "layout": "IPY_MODEL_25f9a869f8194c1a99c029c31858fe69"
      }
     },
     "67024c7c573a4831aca863bc282cf569": {
      "model_module": "@jupyter-widgets/controls",
      "model_module_version": "1.5.0",
      "model_name": "HBoxModel",
      "state": {
       "children": [
        "IPY_MODEL_f8254902313b4ce099058f32aa12a550",
        "IPY_MODEL_5d30901f37d84e8c9f1afd34178890a9"
       ],
       "layout": "IPY_MODEL_4c494b5f6cb44ee7a492f682e79ad3ba"
      }
     },
     "6707a3833df74212b62872927f2caf76": {
      "model_module": "@jupyter-widgets/base",
      "model_module_version": "1.2.0",
      "model_name": "LayoutModel",
      "state": {}
     },
     "672361c7551749ff8d204f3c783b6d5e": {
      "model_module": "@jupyter-widgets/controls",
      "model_module_version": "1.5.0",
      "model_name": "HBoxModel",
      "state": {
       "children": [
        "IPY_MODEL_251002c54da048a297e29f28f4e60258",
        "IPY_MODEL_c57d5896e73c41d8af7642a17a4ba82c"
       ],
       "layout": "IPY_MODEL_07683e77fda546a8b5ab17ccc122e28f"
      }
     },
     "672577f181f8482da5cc7ba3f79c4891": {
      "model_module": "@jupyter-widgets/controls",
      "model_module_version": "1.5.0",
      "model_name": "FloatProgressModel",
      "state": {
       "bar_style": "success",
       "description": "[1] 15/16(train): 100%",
       "layout": "IPY_MODEL_613c090a45ae4e7a806032758d9dd8f5",
       "max": 493,
       "style": "IPY_MODEL_3afb00ce37a0494889ce6c1c596a78e2",
       "value": 493
      }
     },
     "672c89ae2a4d460b9077b335e7c3ef82": {
      "model_module": "@jupyter-widgets/base",
      "model_module_version": "1.2.0",
      "model_name": "LayoutModel",
      "state": {}
     },
     "673223383d194384ab14d3cb89115d7e": {
      "model_module": "@jupyter-widgets/base",
      "model_module_version": "1.2.0",
      "model_name": "LayoutModel",
      "state": {}
     },
     "673566125a7447738f809ecc46aeb6a7": {
      "model_module": "@jupyter-widgets/controls",
      "model_module_version": "1.5.0",
      "model_name": "FloatProgressModel",
      "state": {
       "bar_style": "success",
       "description": "[3] 2/2(train): 100%",
       "layout": "IPY_MODEL_43d0a18b31b14b38ba03127b978e2168",
       "max": 3,
       "style": "IPY_MODEL_ac86aef42b9d4c35b792759a81d69b6f",
       "value": 3
      }
     },
     "67459d50437b432dbe99a431fd8e2712": {
      "model_module": "@jupyter-widgets/controls",
      "model_module_version": "1.5.0",
      "model_name": "HBoxModel",
      "state": {
       "children": [
        "IPY_MODEL_1fc0596a4036494a8fd10094af7e2b18",
        "IPY_MODEL_0b579a2eecc34f02ac570c4702b5b238"
       ],
       "layout": "IPY_MODEL_05589f84f98b4bbd9b18e5d400e9518a"
      }
     },
     "6754cb61db244f6481f5e5857991e0c9": {
      "model_module": "@jupyter-widgets/controls",
      "model_module_version": "1.5.0",
      "model_name": "ProgressStyleModel",
      "state": {
       "description_width": "initial"
      }
     },
     "676de85779d8466993f9205043b426cd": {
      "model_module": "@jupyter-widgets/base",
      "model_module_version": "1.2.0",
      "model_name": "LayoutModel",
      "state": {}
     },
     "6791a55f834445baaed8d6d084036540": {
      "model_module": "@jupyter-widgets/base",
      "model_module_version": "1.2.0",
      "model_name": "LayoutModel",
      "state": {}
     },
     "67b7ac081a02421bbb0c348e0ab6006d": {
      "model_module": "@jupyter-widgets/controls",
      "model_module_version": "1.5.0",
      "model_name": "HBoxModel",
      "state": {
       "children": [
        "IPY_MODEL_cc2440d6c3844268838c9b08db654e8a",
        "IPY_MODEL_cccda850c3f84078a55ce5bdd9b9ed4d"
       ],
       "layout": "IPY_MODEL_dc2129be34254111b9a39623a8588ca0"
      }
     },
     "67cbafcbf81144d78d19ef745323e52e": {
      "model_module": "@jupyter-widgets/controls",
      "model_module_version": "1.5.0",
      "model_name": "HBoxModel",
      "state": {
       "children": [
        "IPY_MODEL_27d3bf535a6641219d1a88160aa834b8",
        "IPY_MODEL_864ed5704d064fa68f583914889365c0"
       ],
       "layout": "IPY_MODEL_0742f38edae649fd972039fecaf19ba8"
      }
     },
     "67d0cdaca040458f86b285c303f1ca9d": {
      "model_module": "@jupyter-widgets/controls",
      "model_module_version": "1.5.0",
      "model_name": "DescriptionStyleModel",
      "state": {
       "description_width": ""
      }
     },
     "67d52830781245e1ac54e82ed591e2d9": {
      "model_module": "@jupyter-widgets/controls",
      "model_module_version": "1.5.0",
      "model_name": "ProgressStyleModel",
      "state": {
       "description_width": "initial"
      }
     },
     "67dbe76197464d1096d15006c27f3c25": {
      "model_module": "@jupyter-widgets/controls",
      "model_module_version": "1.5.0",
      "model_name": "HBoxModel",
      "state": {
       "children": [
        "IPY_MODEL_24bb9937ee3542eebdcfc278f0dc3b49",
        "IPY_MODEL_73ebb38d61f847d8942654ba5cbde7b4"
       ],
       "layout": "IPY_MODEL_acbafc2ab17f479fb7a6d87834246bbf"
      }
     },
     "684026d7f35a47f482d0da66b01ee1b6": {
      "model_module": "@jupyter-widgets/controls",
      "model_module_version": "1.5.0",
      "model_name": "DescriptionStyleModel",
      "state": {
       "description_width": ""
      }
     },
     "68458146c91a4af18a59173f04c6a92f": {
      "model_module": "@jupyter-widgets/controls",
      "model_module_version": "1.5.0",
      "model_name": "HTMLModel",
      "state": {
       "layout": "IPY_MODEL_3b73da128e08484c9303e133624f53fc",
       "style": "IPY_MODEL_4bb9f664bcee4df1bf9751c9b199e1ab",
       "value": " 1/493 [00:07&lt;59:36,  7.27s/it]"
      }
     },
     "685180bc2eae4165931eaed505374462": {
      "model_module": "@jupyter-widgets/controls",
      "model_module_version": "1.5.0",
      "model_name": "HBoxModel",
      "state": {
       "children": [
        "IPY_MODEL_3a5257f2c332458682498c1d25e3f319",
        "IPY_MODEL_990a2026fe96427197db618dbabdc857"
       ],
       "layout": "IPY_MODEL_b3709e9813a94dca8c6563772880a81c"
      }
     },
     "685321654ae94733a93c9e32b1e26ae4": {
      "model_module": "@jupyter-widgets/controls",
      "model_module_version": "1.5.0",
      "model_name": "DescriptionStyleModel",
      "state": {
       "description_width": ""
      }
     },
     "6856e91403a947aba353532cd91e1f9d": {
      "model_module": "@jupyter-widgets/controls",
      "model_module_version": "1.5.0",
      "model_name": "FloatProgressModel",
      "state": {
       "bar_style": "success",
       "description": "[2] 2/2(train): 100%",
       "layout": "IPY_MODEL_d6086427663a41a59ffd77fabfc75eec",
       "max": 3,
       "style": "IPY_MODEL_76d71383db3e4770bb1566831f4aa0b8",
       "value": 3
      }
     },
     "6864819242384c949327fbd2beea8ad8": {
      "model_module": "@jupyter-widgets/controls",
      "model_module_version": "1.5.0",
      "model_name": "HBoxModel",
      "state": {
       "children": [
        "IPY_MODEL_4687dfac2c654297ad472667ce931e51",
        "IPY_MODEL_9605a304f3c44ee5add2cf1caec1ae39"
       ],
       "layout": "IPY_MODEL_f5f02b304a144161b0fffde639ceec5d"
      }
     },
     "6876b3e1e94c4974b5d9a2e67dda1eb3": {
      "model_module": "@jupyter-widgets/controls",
      "model_module_version": "1.5.0",
      "model_name": "HTMLModel",
      "state": {
       "layout": "IPY_MODEL_782cb8e9d9b941e6940702470cd0a82a",
       "style": "IPY_MODEL_efdbb47434a74f919c740b2f546f48c0",
       "value": " 165/165 [01:17&lt;00:00,  2.12it/s]"
      }
     },
     "68779e05e31449d3af33b859c88e7340": {
      "model_module": "@jupyter-widgets/base",
      "model_module_version": "1.2.0",
      "model_name": "LayoutModel",
      "state": {}
     },
     "6890f3b4dcb0437781376e8895275964": {
      "model_module": "@jupyter-widgets/base",
      "model_module_version": "1.2.0",
      "model_name": "LayoutModel",
      "state": {}
     },
     "68a5b3304e4c449d8d2b4fc13ec5c557": {
      "model_module": "@jupyter-widgets/base",
      "model_module_version": "1.2.0",
      "model_name": "LayoutModel",
      "state": {}
     },
     "68c9b653f13c4781905621b9789bfcfe": {
      "model_module": "@jupyter-widgets/base",
      "model_module_version": "1.2.0",
      "model_name": "LayoutModel",
      "state": {}
     },
     "68eadd8871fd49e9adf43111941c8410": {
      "model_module": "@jupyter-widgets/controls",
      "model_module_version": "1.5.0",
      "model_name": "ProgressStyleModel",
      "state": {
       "description_width": "initial"
      }
     },
     "6917f9d08c7f4d29a4a63a1918fa8865": {
      "model_module": "@jupyter-widgets/base",
      "model_module_version": "1.2.0",
      "model_name": "LayoutModel",
      "state": {}
     },
     "694835840ecc4be4a0693268cd799823": {
      "model_module": "@jupyter-widgets/controls",
      "model_module_version": "1.5.0",
      "model_name": "HBoxModel",
      "state": {
       "children": [
        "IPY_MODEL_bd3314d1ba94422b8491cedabcf5ebab",
        "IPY_MODEL_8d26b522e1cf4edca7459ecc274e0db1"
       ],
       "layout": "IPY_MODEL_cdb9d6f8f9d249ddb97063c20b4f0bf3"
      }
     },
     "696564f6da6d47f08f8bf62182277303": {
      "model_module": "@jupyter-widgets/controls",
      "model_module_version": "1.5.0",
      "model_name": "DescriptionStyleModel",
      "state": {
       "description_width": ""
      }
     },
     "69769d55036141ca90f943c3a7520539": {
      "model_module": "@jupyter-widgets/controls",
      "model_module_version": "1.5.0",
      "model_name": "FloatProgressModel",
      "state": {
       "bar_style": "success",
       "description": "[2] 6/15(train): 100%",
       "layout": "IPY_MODEL_41b7d5c1d28e484e84779f67d35e8f6b",
       "max": 493,
       "style": "IPY_MODEL_f8e38dad61814c54b8d91cc1e85e435b",
       "value": 493
      }
     },
     "69779dc035cd49c49daf2bc604d7cc91": {
      "model_module": "@jupyter-widgets/controls",
      "model_module_version": "1.5.0",
      "model_name": "HTMLModel",
      "state": {
       "layout": "IPY_MODEL_0cf7f04d225d434aad15ac80aded3013",
       "style": "IPY_MODEL_3f9fd77afc064b589a21ff2ef8169321",
       "value": " 493/493 [1:57:31&lt;00:00, 14.30s/it]"
      }
     },
     "69984d2dfac641d2aed886afac8fa364": {
      "model_module": "@jupyter-widgets/base",
      "model_module_version": "1.2.0",
      "model_name": "LayoutModel",
      "state": {}
     },
     "6998f6fa3ec14ad0ad64df7680f7bbd0": {
      "model_module": "@jupyter-widgets/controls",
      "model_module_version": "1.5.0",
      "model_name": "ProgressStyleModel",
      "state": {
       "description_width": "initial"
      }
     },
     "69a02f917d23474fa895f9557786a3bf": {
      "model_module": "@jupyter-widgets/controls",
      "model_module_version": "1.5.0",
      "model_name": "HTMLModel",
      "state": {
       "layout": "IPY_MODEL_197a587a184343a78c030b8f525ab709",
       "style": "IPY_MODEL_e430a5f311c04d3394abb6b846c2afba",
       "value": " 1/1 [00:07&lt;00:00,  7.04s/it]"
      }
     },
     "69a4878e6a7b4a55b4916d0e30146bfe": {
      "model_module": "@jupyter-widgets/controls",
      "model_module_version": "1.5.0",
      "model_name": "ProgressStyleModel",
      "state": {
       "description_width": "initial"
      }
     },
     "69a6724dfdbf45d89e632845bb19c761": {
      "model_module": "@jupyter-widgets/base",
      "model_module_version": "1.2.0",
      "model_name": "LayoutModel",
      "state": {}
     },
     "69b4c156a3784fbf897e318e73ae89ed": {
      "model_module": "@jupyter-widgets/controls",
      "model_module_version": "1.5.0",
      "model_name": "FloatProgressModel",
      "state": {
       "bar_style": "success",
       "description": "[0] 5/16(train): 100%",
       "layout": "IPY_MODEL_a3c42059fff5468896efcbbe852e2f42",
       "max": 493,
       "style": "IPY_MODEL_6eddae75244c49cca333c50d76426fb1",
       "value": 493
      }
     },
     "69bb393125d74f979aba008260d8d9e9": {
      "model_module": "@jupyter-widgets/controls",
      "model_module_version": "1.5.0",
      "model_name": "DescriptionStyleModel",
      "state": {
       "description_width": ""
      }
     },
     "69bd364e4a0f4aa4b0bec831614e9ec0": {
      "model_module": "@jupyter-widgets/controls",
      "model_module_version": "1.5.0",
      "model_name": "HTMLModel",
      "state": {
       "layout": "IPY_MODEL_13831fa4195247f98bb16f5ce95a5e23",
       "style": "IPY_MODEL_b92ae16e22a543b5aabcbbc3de423f8a",
       "value": " 1/1 [00:00&lt;00:00,  1.71it/s]"
      }
     },
     "69c7b42417ad4e258813feb8181c0472": {
      "model_module": "@jupyter-widgets/controls",
      "model_module_version": "1.5.0",
      "model_name": "FloatProgressModel",
      "state": {
       "bar_style": "success",
       "description": "[2] 10/16(val  ): 100%",
       "layout": "IPY_MODEL_0a23ba68a24b44f7b5cf888e6239d044",
       "max": 165,
       "style": "IPY_MODEL_c2724e841f784a7aa2451fd65d459912",
       "value": 165
      }
     },
     "69cb66917886498d91f403f20681fae8": {
      "model_module": "@jupyter-widgets/base",
      "model_module_version": "1.2.0",
      "model_name": "LayoutModel",
      "state": {}
     },
     "69dcc7e6d1da49c085a74650c6f403e6": {
      "model_module": "@jupyter-widgets/controls",
      "model_module_version": "1.5.0",
      "model_name": "DescriptionStyleModel",
      "state": {
       "description_width": ""
      }
     },
     "69e7331ef389447ba1cc7dc22bef66ce": {
      "model_module": "@jupyter-widgets/controls",
      "model_module_version": "1.5.0",
      "model_name": "HBoxModel",
      "state": {
       "children": [
        "IPY_MODEL_018ef5f3b1b5423c8b0b9a072a3aff1a",
        "IPY_MODEL_3088fcdd947a42ecb0e13657dccc04e3"
       ],
       "layout": "IPY_MODEL_f3f43c55236345fc968582159cf229eb"
      }
     },
     "6a00038a720745259b39fa6cc522f118": {
      "model_module": "@jupyter-widgets/controls",
      "model_module_version": "1.5.0",
      "model_name": "HBoxModel",
      "state": {
       "children": [
        "IPY_MODEL_69c7b42417ad4e258813feb8181c0472",
        "IPY_MODEL_7cefcb7e92034d13b6a7e0634d9cb76a"
       ],
       "layout": "IPY_MODEL_50184768d8bf476a82a850e58c003a6a"
      }
     },
     "6a0dc7debf6c46a588307608f53bd9a6": {
      "model_module": "@jupyter-widgets/controls",
      "model_module_version": "1.5.0",
      "model_name": "DescriptionStyleModel",
      "state": {
       "description_width": ""
      }
     },
     "6a175f83c06e4e6bbcd24761dedc7731": {
      "model_module": "@jupyter-widgets/controls",
      "model_module_version": "1.5.0",
      "model_name": "FloatProgressModel",
      "state": {
       "bar_style": "success",
       "description": "[0] 14/16(val  ): 100%",
       "layout": "IPY_MODEL_96e5a50481b44232a63b5533a078e211",
       "max": 165,
       "style": "IPY_MODEL_830b693cb4b94c5a8b49a25198cd1ad9",
       "value": 165
      }
     },
     "6a2cd30e4fa546bf9c19aea6757b52f7": {
      "model_module": "@jupyter-widgets/controls",
      "model_module_version": "1.5.0",
      "model_name": "HTMLModel",
      "state": {
       "layout": "IPY_MODEL_16ba2e58a98d40deb6b0de248bfcecd6",
       "style": "IPY_MODEL_7d8e6ee7fcf843a98d0e228a8f7a97eb",
       "value": " 165/165 [01:29&lt;00:00,  1.84it/s]"
      }
     },
     "6a6132d95f2d444abfb1c4e199220167": {
      "model_module": "@jupyter-widgets/controls",
      "model_module_version": "1.5.0",
      "model_name": "FloatProgressModel",
      "state": {
       "bar_style": "success",
       "description": "[2] 2/15(val  ): 100%",
       "layout": "IPY_MODEL_a09417b1ba86425eb821169bd2ed7127",
       "max": 165,
       "style": "IPY_MODEL_eadc3e4e57524152bffd1fbcf33f415e",
       "value": 165
      }
     },
     "6a72c847c0ca45279432f4a52d141133": {
      "model_module": "@jupyter-widgets/controls",
      "model_module_version": "1.5.0",
      "model_name": "FloatProgressModel",
      "state": {
       "bar_style": "success",
       "description": "100%",
       "layout": "IPY_MODEL_38c865f01ec142f3aae2a316a0b0c969",
       "max": 165,
       "style": "IPY_MODEL_840e43ad5bb74969ad2ae3f348973b61",
       "value": 165
      }
     },
     "6a9fd57e088643eeb1261cf80d55c47d": {
      "model_module": "@jupyter-widgets/controls",
      "model_module_version": "1.5.0",
      "model_name": "HBoxModel",
      "state": {
       "children": [
        "IPY_MODEL_5260d9adbc934276ac046e3e0d148fe7",
        "IPY_MODEL_217b7d7e9b744c258b5a51f598189130"
       ],
       "layout": "IPY_MODEL_b9278a5c98d346e8b7efa5e5b3d57b8b"
      }
     },
     "6ab3c19a38ce4a6e893d808adbe2131b": {
      "model_module": "@jupyter-widgets/base",
      "model_module_version": "1.2.0",
      "model_name": "LayoutModel",
      "state": {}
     },
     "6ae7e920009d492aa007df21c7407c08": {
      "model_module": "@jupyter-widgets/base",
      "model_module_version": "1.2.0",
      "model_name": "LayoutModel",
      "state": {}
     },
     "6ae7fee900ce4d7a8d2870d7a2fc6424": {
      "model_module": "@jupyter-widgets/base",
      "model_module_version": "1.2.0",
      "model_name": "LayoutModel",
      "state": {}
     },
     "6b22ccb6ead54700baff9f1dcebdfa2a": {
      "model_module": "@jupyter-widgets/controls",
      "model_module_version": "1.5.0",
      "model_name": "ProgressStyleModel",
      "state": {
       "description_width": "initial"
      }
     },
     "6b436031aea642da915106d07f79cd5e": {
      "model_module": "@jupyter-widgets/controls",
      "model_module_version": "1.5.0",
      "model_name": "DescriptionStyleModel",
      "state": {
       "description_width": ""
      }
     },
     "6b59835f70534ef7be89cbafaf201623": {
      "model_module": "@jupyter-widgets/base",
      "model_module_version": "1.2.0",
      "model_name": "LayoutModel",
      "state": {}
     },
     "6b6267c8f8294688b29da04febf0cb26": {
      "model_module": "@jupyter-widgets/controls",
      "model_module_version": "1.5.0",
      "model_name": "HBoxModel",
      "state": {
       "children": [
        "IPY_MODEL_788875bd23f54272afff318d9fb37a7d",
        "IPY_MODEL_1bbda7082abf44b5b3152761ac2ec430"
       ],
       "layout": "IPY_MODEL_502820db155b4853ad7a52f06552b8f0"
      }
     },
     "6b648202e5814010a08b97e87fee35da": {
      "model_module": "@jupyter-widgets/controls",
      "model_module_version": "1.5.0",
      "model_name": "DescriptionStyleModel",
      "state": {
       "description_width": ""
      }
     },
     "6b871ec08c8a4ac2bfabafa8d3c7b0f3": {
      "model_module": "@jupyter-widgets/base",
      "model_module_version": "1.2.0",
      "model_name": "LayoutModel",
      "state": {}
     },
     "6bb4a1e1f2c341ad8130d09f1930ff03": {
      "model_module": "@jupyter-widgets/controls",
      "model_module_version": "1.5.0",
      "model_name": "HBoxModel",
      "state": {
       "children": [
        "IPY_MODEL_673566125a7447738f809ecc46aeb6a7",
        "IPY_MODEL_0685a5c5c1b948d98a7e6db4a89b9934"
       ],
       "layout": "IPY_MODEL_855d9431a16a4a2594e7c7aecfe7c648"
      }
     },
     "6c7f4dba2960461fbe7438e06a943942": {
      "model_module": "@jupyter-widgets/base",
      "model_module_version": "1.2.0",
      "model_name": "LayoutModel",
      "state": {}
     },
     "6c8d60b6e1a940f8aaf16a5580775fe5": {
      "model_module": "@jupyter-widgets/base",
      "model_module_version": "1.2.0",
      "model_name": "LayoutModel",
      "state": {}
     },
     "6caddd3d1cee4ab38e589cdaa59f22d9": {
      "model_module": "@jupyter-widgets/controls",
      "model_module_version": "1.5.0",
      "model_name": "HTMLModel",
      "state": {
       "layout": "IPY_MODEL_33bf5356a0cc463a9e26f9a0a6e5847b",
       "style": "IPY_MODEL_2299fc035faa4777aa8306322030fc38",
       "value": " 165/165 [01:34&lt;00:00,  1.74it/s]"
      }
     },
     "6cb27813a8cf40b0904c7de28b063e26": {
      "model_module": "@jupyter-widgets/base",
      "model_module_version": "1.2.0",
      "model_name": "LayoutModel",
      "state": {}
     },
     "6cc7f2f79f7649a19c25622e610f1496": {
      "model_module": "@jupyter-widgets/controls",
      "model_module_version": "1.5.0",
      "model_name": "HBoxModel",
      "state": {
       "children": [
        "IPY_MODEL_34e30f4d6f6a44e2926a33917f49a7bd",
        "IPY_MODEL_22fdee887954495b9cae87eb0ac8e713"
       ],
       "layout": "IPY_MODEL_3754dee1c7c64413bb10f32e7ee84db3"
      }
     },
     "6cdd724a7f724e4180a28e6618cd4802": {
      "model_module": "@jupyter-widgets/controls",
      "model_module_version": "1.5.0",
      "model_name": "ProgressStyleModel",
      "state": {
       "description_width": "initial"
      }
     },
     "6cde28beb7d14e9e9f1f259cfbc94f4a": {
      "model_module": "@jupyter-widgets/controls",
      "model_module_version": "1.5.0",
      "model_name": "HTMLModel",
      "state": {
       "layout": "IPY_MODEL_c79307cfe03d47f0969a82d533fef3d9",
       "style": "IPY_MODEL_e4af65c519004033b987261fb1a9125b",
       "value": " 493/493 [17:41&lt;00:00,  2.15s/it]"
      }
     },
     "6d136e3dc6214eca995c9b1e40677730": {
      "model_module": "@jupyter-widgets/base",
      "model_module_version": "1.2.0",
      "model_name": "LayoutModel",
      "state": {}
     },
     "6d397861f4fd4ea8ba265d271a2dc2ab": {
      "model_module": "@jupyter-widgets/controls",
      "model_module_version": "1.5.0",
      "model_name": "DescriptionStyleModel",
      "state": {
       "description_width": ""
      }
     },
     "6d3b19b8b4a7460cbd16d525e457e627": {
      "model_module": "@jupyter-widgets/controls",
      "model_module_version": "1.5.0",
      "model_name": "ProgressStyleModel",
      "state": {
       "description_width": "initial"
      }
     },
     "6d49865a453340ad9f90622ad609e572": {
      "model_module": "@jupyter-widgets/controls",
      "model_module_version": "1.5.0",
      "model_name": "FloatProgressModel",
      "state": {
       "bar_style": "success",
       "description": "[1] 11/15(train): 100%",
       "layout": "IPY_MODEL_ad1868d20051463aaa75925535afdd1e",
       "max": 3,
       "style": "IPY_MODEL_75a09f864c774e7da317d1bae91a4bdf",
       "value": 3
      }
     },
     "6d50206b031e4afd9f31f50ce530aa02": {
      "model_module": "@jupyter-widgets/base",
      "model_module_version": "1.2.0",
      "model_name": "LayoutModel",
      "state": {}
     },
     "6d545947afb846ee8b81ad40e5df63cd": {
      "model_module": "@jupyter-widgets/controls",
      "model_module_version": "1.5.0",
      "model_name": "FloatProgressModel",
      "state": {
       "bar_style": "success",
       "description": "[2] 12/15(train): 100%",
       "layout": "IPY_MODEL_9102e79b3624421bbd6c91429c67fd8e",
       "max": 493,
       "style": "IPY_MODEL_dcbdcbd713534f7ab6f6e368b5d02d25",
       "value": 493
      }
     },
     "6d6e3c93149642d59f105eeb899c00b0": {
      "model_module": "@jupyter-widgets/controls",
      "model_module_version": "1.5.0",
      "model_name": "HBoxModel",
      "state": {
       "children": [
        "IPY_MODEL_80964f49c28b4f6aaac8981ebb7d491e",
        "IPY_MODEL_343bed8f47c34019a371cc2c5359bb44"
       ],
       "layout": "IPY_MODEL_3cd0131160364f038d53b9f9f678e173"
      }
     },
     "6d7651cda0174778ad0656ecb2771785": {
      "model_module": "@jupyter-widgets/controls",
      "model_module_version": "1.5.0",
      "model_name": "DescriptionStyleModel",
      "state": {
       "description_width": ""
      }
     },
     "6d7bdfecfb53471c8a9abdb57b5a8a59": {
      "model_module": "@jupyter-widgets/controls",
      "model_module_version": "1.5.0",
      "model_name": "ProgressStyleModel",
      "state": {
       "description_width": "initial"
      }
     },
     "6d92128601c641e188d2a8c2f89282d5": {
      "model_module": "@jupyter-widgets/controls",
      "model_module_version": "1.5.0",
      "model_name": "DescriptionStyleModel",
      "state": {
       "description_width": ""
      }
     },
     "6db5e237734b401080863581021d975a": {
      "model_module": "@jupyter-widgets/controls",
      "model_module_version": "1.5.0",
      "model_name": "FloatProgressModel",
      "state": {
       "bar_style": "success",
       "description": "[1] 16/16(train): 100%",
       "layout": "IPY_MODEL_8f8227122fd94668b04cf790cf6a4454",
       "max": 493,
       "style": "IPY_MODEL_e9cd0edaee2a42599ae3941372a6b9fb",
       "value": 493
      }
     },
     "6dc733ae72164902845ea8388b595640": {
      "model_module": "@jupyter-widgets/base",
      "model_module_version": "1.2.0",
      "model_name": "LayoutModel",
      "state": {}
     },
     "6de3592271654fda922a5ade7396b9fb": {
      "model_module": "@jupyter-widgets/controls",
      "model_module_version": "1.5.0",
      "model_name": "ProgressStyleModel",
      "state": {
       "description_width": "initial"
      }
     },
     "6df446a7f2d540a5ae2ba992a7ec40c5": {
      "model_module": "@jupyter-widgets/controls",
      "model_module_version": "1.5.0",
      "model_name": "FloatProgressModel",
      "state": {
       "bar_style": "success",
       "description": "[0] 8/15(train): 100%",
       "layout": "IPY_MODEL_f6ec86695b894159b454ae3f57079614",
       "max": 3,
       "style": "IPY_MODEL_449ee1d47b504ecab237bcb4c6428f79",
       "value": 3
      }
     },
     "6e0f7168d63e4a0c84cdb01bfc0cd57d": {
      "model_module": "@jupyter-widgets/controls",
      "model_module_version": "1.5.0",
      "model_name": "FloatProgressModel",
      "state": {
       "bar_style": "success",
       "description": "[0] 1/2(train): 100%",
       "layout": "IPY_MODEL_a66e6580711e4c1da9435ff181fdcaba",
       "max": 3,
       "style": "IPY_MODEL_3cc8393b1c034416acae3edeeb06c6b8",
       "value": 3
      }
     },
     "6e12f5f4f1b34d23a11f967e7fdd7a12": {
      "model_module": "@jupyter-widgets/controls",
      "model_module_version": "1.5.0",
      "model_name": "HTMLModel",
      "state": {
       "layout": "IPY_MODEL_00fb5b568e8a43f7bbac5adbceb336ad",
       "style": "IPY_MODEL_aa79b1a187854a9580eb7a1299cd3710",
       "value": " 3/3 [00:06&lt;00:00,  2.17s/it]"
      }
     },
     "6e429e677f744e0ea7220d70be6a87b7": {
      "model_module": "@jupyter-widgets/controls",
      "model_module_version": "1.5.0",
      "model_name": "HTMLModel",
      "state": {
       "layout": "IPY_MODEL_c20e03b9a58c42b7a8adb87414a349d3",
       "style": "IPY_MODEL_25367643a1c342c1a4f76c2452606e57",
       "value": " 165/165 [1:55:36&lt;00:00, 42.04s/it]"
      }
     },
     "6e503ea91a1b4c83a0caa0c44d572988": {
      "model_module": "@jupyter-widgets/controls",
      "model_module_version": "1.5.0",
      "model_name": "FloatProgressModel",
      "state": {
       "description": "[0] 1/16(train):   3%",
       "layout": "IPY_MODEL_774e942364f546e9a06589197db8be19",
       "max": 493,
       "style": "IPY_MODEL_280721bd87c74fe38061bce85930a8de",
       "value": 17
      }
     },
     "6e51f9500b7849e18132b3f23666132c": {
      "model_module": "@jupyter-widgets/base",
      "model_module_version": "1.2.0",
      "model_name": "LayoutModel",
      "state": {}
     },
     "6e57339347c145cdb08b03c483fa856f": {
      "model_module": "@jupyter-widgets/controls",
      "model_module_version": "1.5.0",
      "model_name": "FloatProgressModel",
      "state": {
       "bar_style": "success",
       "description": "[0] 3/16(val  ): 100%",
       "layout": "IPY_MODEL_c90b1dd90d244612ba8aa64893a17d48",
       "max": 165,
       "style": "IPY_MODEL_fc829f64933a4cc09c7e90d04b27c83d",
       "value": 165
      }
     },
     "6e6871be8fb9405e970bd99fda1450ce": {
      "model_module": "@jupyter-widgets/base",
      "model_module_version": "1.2.0",
      "model_name": "LayoutModel",
      "state": {}
     },
     "6e96278168ad43dcad3c58bfface6624": {
      "model_module": "@jupyter-widgets/controls",
      "model_module_version": "1.5.0",
      "model_name": "ProgressStyleModel",
      "state": {
       "description_width": "initial"
      }
     },
     "6e9ee147d36b462da72a708b1937b23b": {
      "model_module": "@jupyter-widgets/controls",
      "model_module_version": "1.5.0",
      "model_name": "FloatProgressModel",
      "state": {
       "bar_style": "success",
       "description": "[0] 5/15(train): 100%",
       "layout": "IPY_MODEL_610fb15e5694491eb4904c9ac6a2b95a",
       "max": 3,
       "style": "IPY_MODEL_3fa820f95f1b4d21ac1b73ab3e4db2ed",
       "value": 3
      }
     },
     "6eddae75244c49cca333c50d76426fb1": {
      "model_module": "@jupyter-widgets/controls",
      "model_module_version": "1.5.0",
      "model_name": "ProgressStyleModel",
      "state": {
       "description_width": "initial"
      }
     },
     "6ef01754dcab4f869d4ed4bd4c6a4a7f": {
      "model_module": "@jupyter-widgets/base",
      "model_module_version": "1.2.0",
      "model_name": "LayoutModel",
      "state": {}
     },
     "6f0a8657681c4a0ca73bcf40556ff8bf": {
      "model_module": "@jupyter-widgets/controls",
      "model_module_version": "1.5.0",
      "model_name": "HTMLModel",
      "state": {
       "layout": "IPY_MODEL_6890f3b4dcb0437781376e8895275964",
       "style": "IPY_MODEL_5acc1cf9aeca4e148cd7c6b02fb006ae",
       "value": " 1/1 [00:00&lt;00:00,  1.20it/s]"
      }
     },
     "6f24643788a449d28f0ad34b6c945e1f": {
      "model_module": "@jupyter-widgets/base",
      "model_module_version": "1.2.0",
      "model_name": "LayoutModel",
      "state": {}
     },
     "6f32d4de3d904d5ead0e5155953b2ab0": {
      "model_module": "@jupyter-widgets/controls",
      "model_module_version": "1.5.0",
      "model_name": "ProgressStyleModel",
      "state": {
       "description_width": "initial"
      }
     },
     "6f4571d078be41faaecf2c2f95cbe408": {
      "model_module": "@jupyter-widgets/base",
      "model_module_version": "1.2.0",
      "model_name": "LayoutModel",
      "state": {}
     },
     "6f4d8c197eb648ffb5ef919a08276165": {
      "model_module": "@jupyter-widgets/controls",
      "model_module_version": "1.5.0",
      "model_name": "DescriptionStyleModel",
      "state": {
       "description_width": ""
      }
     },
     "6f6ff67a170c445a99e0685275638a9d": {
      "model_module": "@jupyter-widgets/controls",
      "model_module_version": "1.5.0",
      "model_name": "ProgressStyleModel",
      "state": {
       "description_width": "initial"
      }
     },
     "6f85a03a25a54c6daef28777438dc8e5": {
      "model_module": "@jupyter-widgets/controls",
      "model_module_version": "1.5.0",
      "model_name": "HBoxModel",
      "state": {
       "children": [
        "IPY_MODEL_7d39d6f4b65d4f9ba0c370069e6a0f3a",
        "IPY_MODEL_147592b50b164b87b84f1492dda8e965"
       ],
       "layout": "IPY_MODEL_b4c76e54efd64d549a6c227dfc437e25"
      }
     },
     "6fb8c90de32440b1a842ca8ebfa38c3a": {
      "model_module": "@jupyter-widgets/controls",
      "model_module_version": "1.5.0",
      "model_name": "HTMLModel",
      "state": {
       "layout": "IPY_MODEL_b417fed245404d8b963b7f5f37186d91",
       "style": "IPY_MODEL_5a2f51433360447f9066f17be641b979",
       "value": " 1/1 [00:00&lt;00:00,  1.29it/s]"
      }
     },
     "6fc2edcc24174d4e97a4527ee37ad545": {
      "model_module": "@jupyter-widgets/controls",
      "model_module_version": "1.5.0",
      "model_name": "HBoxModel",
      "state": {
       "children": [
        "IPY_MODEL_a066e90acb7f49efb52042b784bd88cf",
        "IPY_MODEL_278e3b5f802e4bb68ea769d7f200ce26"
       ],
       "layout": "IPY_MODEL_3992adc17eb04c56ad804d677cfa892f"
      }
     },
     "6fde8e972b314a5ab91d6f2843a9d031": {
      "model_module": "@jupyter-widgets/controls",
      "model_module_version": "1.5.0",
      "model_name": "FloatProgressModel",
      "state": {
       "bar_style": "success",
       "description": "[1] 6/16(train): 100%",
       "layout": "IPY_MODEL_0d3b3e13fcc7490eb4f07a4f2f9a2450",
       "max": 493,
       "style": "IPY_MODEL_a0d868d1ebb44772a8d69a968a15e8f0",
       "value": 493
      }
     },
     "6fe2595b9626450a934eada5cd047463": {
      "model_module": "@jupyter-widgets/base",
      "model_module_version": "1.2.0",
      "model_name": "LayoutModel",
      "state": {}
     },
     "702dd8bd36d94351a49d8522af644dd8": {
      "model_module": "@jupyter-widgets/controls",
      "model_module_version": "1.5.0",
      "model_name": "FloatProgressModel",
      "state": {
       "bar_style": "success",
       "description": "[2] 8/16(val  ): 100%",
       "layout": "IPY_MODEL_f15048fcff0f44f6b43c0ef03a3405b0",
       "max": 165,
       "style": "IPY_MODEL_3b6e29c412534990b60f209c3ed5e655",
       "value": 165
      }
     },
     "705b2405b32c4bdf9d65595fa869e582": {
      "model_module": "@jupyter-widgets/controls",
      "model_module_version": "1.5.0",
      "model_name": "FloatProgressModel",
      "state": {
       "bar_style": "success",
       "description": "[2] 11/16(train): 100%",
       "layout": "IPY_MODEL_676de85779d8466993f9205043b426cd",
       "max": 493,
       "style": "IPY_MODEL_21a3d5cff0f840f68a562f37c176fe8f",
       "value": 493
      }
     },
     "7069fc19a4574a4f897fca9bf1eaffb4": {
      "model_module": "@jupyter-widgets/controls",
      "model_module_version": "1.5.0",
      "model_name": "ProgressStyleModel",
      "state": {
       "description_width": "initial"
      }
     },
     "70778914157643e88c98f2fe9ecd5c93": {
      "model_module": "@jupyter-widgets/controls",
      "model_module_version": "1.5.0",
      "model_name": "HTMLModel",
      "state": {
       "layout": "IPY_MODEL_cc087c5636904c6ab2642f0cf6d93c46",
       "style": "IPY_MODEL_c89c968bec324558988282e7965a0f6c",
       "value": " 165/165 [01:23&lt;00:00,  1.97it/s]"
      }
     },
     "70b9ab5068a34105aae99220a8b88156": {
      "model_module": "@jupyter-widgets/controls",
      "model_module_version": "1.5.0",
      "model_name": "DescriptionStyleModel",
      "state": {
       "description_width": ""
      }
     },
     "70ba1598675149b495f63bbdee3fe550": {
      "model_module": "@jupyter-widgets/controls",
      "model_module_version": "1.5.0",
      "model_name": "FloatProgressModel",
      "state": {
       "bar_style": "success",
       "description": "[0] 13/16(train): 100%",
       "layout": "IPY_MODEL_1d620a81c3424f3fb9b61a1550c89610",
       "max": 493,
       "style": "IPY_MODEL_d270e549778a48e4b4d8f2cdc99a9050",
       "value": 493
      }
     },
     "70bef141524546139d5e90919dbc43f6": {
      "model_module": "@jupyter-widgets/controls",
      "model_module_version": "1.5.0",
      "model_name": "HTMLModel",
      "state": {
       "layout": "IPY_MODEL_56df043ccdcd4dbe80dfc73fff02fbdb",
       "style": "IPY_MODEL_bd729702f5cd43fea0033d2576355548",
       "value": " 66/493 [01:42&lt;11:00,  1.55s/it]"
      }
     },
     "70f2ce6823e248d1ad83a00feaf6bfe8": {
      "model_module": "@jupyter-widgets/controls",
      "model_module_version": "1.5.0",
      "model_name": "HBoxModel",
      "state": {
       "children": [
        "IPY_MODEL_77e3a9234f3d4185820f8e13220df9de",
        "IPY_MODEL_e91a802c6c174145a7fb9a1b816b886e"
       ],
       "layout": "IPY_MODEL_286a9e6bc4654c0a810d455127626df6"
      }
     },
     "710c2b6b5b1945b7a0935d0ec5bdb64d": {
      "model_module": "@jupyter-widgets/controls",
      "model_module_version": "1.5.0",
      "model_name": "HBoxModel",
      "state": {
       "children": [
        "IPY_MODEL_226c40744e3741438e9fac652adddbda",
        "IPY_MODEL_005fcf72bb934256aa639f026a800c67"
       ],
       "layout": "IPY_MODEL_6b871ec08c8a4ac2bfabafa8d3c7b0f3"
      }
     },
     "71184de0149b42db9495f01fa6dcd2c6": {
      "model_module": "@jupyter-widgets/base",
      "model_module_version": "1.2.0",
      "model_name": "LayoutModel",
      "state": {}
     },
     "712d8558d6da47f4bda083f4047ddbf2": {
      "model_module": "@jupyter-widgets/controls",
      "model_module_version": "1.5.0",
      "model_name": "HBoxModel",
      "state": {
       "children": [
        "IPY_MODEL_599871acf2f64001ae44460c8959171e",
        "IPY_MODEL_9f13d64085934881a6dd0ca52a161628"
       ],
       "layout": "IPY_MODEL_fb86eeec5aba4657af9d55e310b8ad16"
      }
     },
     "7160883d624945a4a72ee8a6d5a37795": {
      "model_module": "@jupyter-widgets/controls",
      "model_module_version": "1.5.0",
      "model_name": "HBoxModel",
      "state": {
       "children": [
        "IPY_MODEL_eacfd082060b4f98961b9072e9ff75c4",
        "IPY_MODEL_847724cc811a4bb0b21c1596a9e036a4"
       ],
       "layout": "IPY_MODEL_30ed745b868149ed9827cd57c2dff34b"
      }
     },
     "717403e30f744367854dcc6cea8d5195": {
      "model_module": "@jupyter-widgets/controls",
      "model_module_version": "1.5.0",
      "model_name": "FloatProgressModel",
      "state": {
       "bar_style": "success",
       "description": "[3] 2/2(val  ): 100%",
       "layout": "IPY_MODEL_578c3f435e624d6f963f92682d16aba7",
       "max": 1,
       "style": "IPY_MODEL_3d70c8adc8da416396082e58a10f3bc8",
       "value": 1
      }
     },
     "7188d21e29f84397b79bc141f7aba800": {
      "model_module": "@jupyter-widgets/controls",
      "model_module_version": "1.5.0",
      "model_name": "DescriptionStyleModel",
      "state": {
       "description_width": ""
      }
     },
     "71941943694742ab808e20fecc6205c7": {
      "model_module": "@jupyter-widgets/controls",
      "model_module_version": "1.5.0",
      "model_name": "ProgressStyleModel",
      "state": {
       "description_width": "initial"
      }
     },
     "71b1ce10b7024016bec018b817f63292": {
      "model_module": "@jupyter-widgets/controls",
      "model_module_version": "1.5.0",
      "model_name": "DescriptionStyleModel",
      "state": {
       "description_width": ""
      }
     },
     "71c8c162ea9147c7bd6db7caa7763183": {
      "model_module": "@jupyter-widgets/controls",
      "model_module_version": "1.5.0",
      "model_name": "HTMLModel",
      "state": {
       "layout": "IPY_MODEL_b6f301e24f284e00b976340a517ef51a",
       "style": "IPY_MODEL_eebf6a0e3eab4828b5ae39073deb2be7",
       "value": " 165/165 [01:32&lt;00:00,  1.78it/s]"
      }
     },
     "71d239df71614c0aa4f47057b695f819": {
      "model_module": "@jupyter-widgets/base",
      "model_module_version": "1.2.0",
      "model_name": "LayoutModel",
      "state": {}
     },
     "720e183c852e44af8468a03edaf6fac3": {
      "model_module": "@jupyter-widgets/base",
      "model_module_version": "1.2.0",
      "model_name": "LayoutModel",
      "state": {}
     },
     "72183924a27c4a959ea5cdc803e1ed7f": {
      "model_module": "@jupyter-widgets/controls",
      "model_module_version": "1.5.0",
      "model_name": "ProgressStyleModel",
      "state": {
       "description_width": "initial"
      }
     },
     "721f3f82e0e7432585b9d79a612dad51": {
      "model_module": "@jupyter-widgets/controls",
      "model_module_version": "1.5.0",
      "model_name": "FloatProgressModel",
      "state": {
       "bar_style": "success",
       "description": "[2] 2/16(val  ): 100%",
       "layout": "IPY_MODEL_82a16ecb9d5f4b5a966e195fae0e686d",
       "max": 165,
       "style": "IPY_MODEL_2ddca1cba6b54dc5bb1cfe5c1ce8a249",
       "value": 165
      }
     },
     "7242bf71d984400f8897b52f0e256d6e": {
      "model_module": "@jupyter-widgets/base",
      "model_module_version": "1.2.0",
      "model_name": "LayoutModel",
      "state": {}
     },
     "7249ed846cdd4b4abc72037446cee42b": {
      "model_module": "@jupyter-widgets/controls",
      "model_module_version": "1.5.0",
      "model_name": "HTMLModel",
      "state": {
       "layout": "IPY_MODEL_79864be8a9094159b0a2598743d913b3",
       "style": "IPY_MODEL_7f39d4d847734ce98602ecca486603e2",
       "value": " 165/165 [01:23&lt;00:00,  1.99it/s]"
      }
     },
     "7257025e87ef4189b54d08ae29e8a95f": {
      "model_module": "@jupyter-widgets/controls",
      "model_module_version": "1.5.0",
      "model_name": "HBoxModel",
      "state": {
       "children": [
        "IPY_MODEL_92db22e8f0d348a2b209613e46c35e35",
        "IPY_MODEL_b4ea25a158a04f6bbad0c2220f889325"
       ],
       "layout": "IPY_MODEL_739080b86d5746ebbc25fc8086e3c9ed"
      }
     },
     "726141753e7c4a85ae15d530e0c03b7c": {
      "model_module": "@jupyter-widgets/controls",
      "model_module_version": "1.5.0",
      "model_name": "ProgressStyleModel",
      "state": {
       "description_width": "initial"
      }
     },
     "727760d0c33846438aee5c566eb48b4d": {
      "model_module": "@jupyter-widgets/controls",
      "model_module_version": "1.5.0",
      "model_name": "ProgressStyleModel",
      "state": {
       "description_width": "initial"
      }
     },
     "727bf1cdd3f44a61a72ccecc2593f265": {
      "model_module": "@jupyter-widgets/controls",
      "model_module_version": "1.5.0",
      "model_name": "HTMLModel",
      "state": {
       "layout": "IPY_MODEL_90a8efc5f4ea43ad80a35e1a910fd061",
       "style": "IPY_MODEL_2de25968b034429c8a9ebafcdf38b969",
       "value": " 1/1 [00:00&lt;00:00,  1.20it/s]"
      }
     },
     "727ca475a44d4377895296f44dcd169e": {
      "model_module": "@jupyter-widgets/base",
      "model_module_version": "1.2.0",
      "model_name": "LayoutModel",
      "state": {}
     },
     "7286136f9bc847f187848af5bb52df0c": {
      "model_module": "@jupyter-widgets/controls",
      "model_module_version": "1.5.0",
      "model_name": "HTMLModel",
      "state": {
       "layout": "IPY_MODEL_4fe67fe3d22a4e0c8342bab4981242c3",
       "style": "IPY_MODEL_c1e5088337fb4b49b3e920ea129ad998",
       "value": " 3/3 [00:07&lt;00:00,  2.49s/it]"
      }
     },
     "728808550bff4ad5b3313d248930ca9b": {
      "model_module": "@jupyter-widgets/base",
      "model_module_version": "1.2.0",
      "model_name": "LayoutModel",
      "state": {}
     },
     "72887f5534cc4c589bd4d71403d33e27": {
      "model_module": "@jupyter-widgets/controls",
      "model_module_version": "1.5.0",
      "model_name": "ProgressStyleModel",
      "state": {
       "description_width": "initial"
      }
     },
     "728ad24eb4bc464bb826da70bbd86347": {
      "model_module": "@jupyter-widgets/base",
      "model_module_version": "1.2.0",
      "model_name": "LayoutModel",
      "state": {}
     },
     "72acd7ec414649a1be7805c5d4ea2bca": {
      "model_module": "@jupyter-widgets/controls",
      "model_module_version": "1.5.0",
      "model_name": "HBoxModel",
      "state": {
       "children": [
        "IPY_MODEL_dd2c3386dd9048f7beb67d2464f84b4f",
        "IPY_MODEL_aebea14e66074e9a94544b022b8a717c"
       ],
       "layout": "IPY_MODEL_8b14c964fc494cbbb0a2eff10ffb236f"
      }
     },
     "72b531722e644beeb9d312af9703c002": {
      "model_module": "@jupyter-widgets/controls",
      "model_module_version": "1.5.0",
      "model_name": "DescriptionStyleModel",
      "state": {
       "description_width": ""
      }
     },
     "72bd164ec4fa4b14887e4c5366566e18": {
      "model_module": "@jupyter-widgets/controls",
      "model_module_version": "1.5.0",
      "model_name": "HTMLModel",
      "state": {
       "layout": "IPY_MODEL_179e2624cf9f499a9fc0ddb9412582ce",
       "style": "IPY_MODEL_98af91493129425d8a3fe09807e10e85",
       "value": " 493/493 [2:33:54&lt;00:00, 18.73s/it]"
      }
     },
     "72beb9beb3284c9c81b98ba6df130894": {
      "model_module": "@jupyter-widgets/controls",
      "model_module_version": "1.5.0",
      "model_name": "DescriptionStyleModel",
      "state": {
       "description_width": ""
      }
     },
     "72c958d1f8564d7cbc91894be7b914dc": {
      "model_module": "@jupyter-widgets/base",
      "model_module_version": "1.2.0",
      "model_name": "LayoutModel",
      "state": {}
     },
     "72cf073af7124532af33e7460d4a11ef": {
      "model_module": "@jupyter-widgets/controls",
      "model_module_version": "1.5.0",
      "model_name": "HTMLModel",
      "state": {
       "layout": "IPY_MODEL_554d2f1beddd43999288ef041656acdf",
       "style": "IPY_MODEL_aea01d1a073040a79861b5b8c1bc8f58",
       "value": " 1/1 [00:00&lt;00:00,  1.42it/s]"
      }
     },
     "72d0369a3393471ba7a42dbc78b15642": {
      "model_module": "@jupyter-widgets/controls",
      "model_module_version": "1.5.0",
      "model_name": "HBoxModel",
      "state": {
       "children": [
        "IPY_MODEL_03fefdb3b2fd495bb6cfcfc304a29cfc",
        "IPY_MODEL_c74f150adb244852969b0a92e0792066"
       ],
       "layout": "IPY_MODEL_2f5a1acbd8e24f3f8bc3e304b93b4881"
      }
     },
     "72e3d68012774e2a9b6ab0a9f5337a94": {
      "model_module": "@jupyter-widgets/controls",
      "model_module_version": "1.5.0",
      "model_name": "FloatProgressModel",
      "state": {
       "bar_style": "success",
       "description": "[1] 1/15(train): 100%",
       "layout": "IPY_MODEL_b57be79870844e2bb03df23e31ef4ab3",
       "max": 3,
       "style": "IPY_MODEL_0f1d47b889fa47e09fb41cc6bed60601",
       "value": 3
      }
     },
     "72f2d36731bd434bb8d202d8de0ec7a3": {
      "model_module": "@jupyter-widgets/controls",
      "model_module_version": "1.5.0",
      "model_name": "FloatProgressModel",
      "state": {
       "bar_style": "success",
       "description": "[2] 2/2(train): 100%",
       "layout": "IPY_MODEL_ebff46233b6644b78a00b25b5c53b675",
       "max": 3,
       "style": "IPY_MODEL_82b07d90363046fbbc767248b2f35d20",
       "value": 3
      }
     },
     "72f7bd4d91bd4b7c8e0f375b20591be6": {
      "model_module": "@jupyter-widgets/controls",
      "model_module_version": "1.5.0",
      "model_name": "DescriptionStyleModel",
      "state": {
       "description_width": ""
      }
     },
     "731782042a0442019651d86fb42ccbfa": {
      "model_module": "@jupyter-widgets/controls",
      "model_module_version": "1.5.0",
      "model_name": "HTMLModel",
      "state": {
       "layout": "IPY_MODEL_bffc87302fd34b3e91ebf9d6bf7ccf77",
       "style": "IPY_MODEL_a63e4db04d3b417f82dac7768d1ce10c",
       "value": " 493/493 [19:58&lt;00:00,  2.43s/it]"
      }
     },
     "7330b0b2d16f440eace17a3a8fe37bc4": {
      "model_module": "@jupyter-widgets/controls",
      "model_module_version": "1.5.0",
      "model_name": "DescriptionStyleModel",
      "state": {
       "description_width": ""
      }
     },
     "7342456371774830bba6d1111e6d1e03": {
      "model_module": "@jupyter-widgets/base",
      "model_module_version": "1.2.0",
      "model_name": "LayoutModel",
      "state": {}
     },
     "7346843415c742e388f6264139c2c1f4": {
      "model_module": "@jupyter-widgets/controls",
      "model_module_version": "1.5.0",
      "model_name": "FloatProgressModel",
      "state": {
       "bar_style": "success",
       "description": "[2] 9/15(val  ): 100%",
       "layout": "IPY_MODEL_b0f2882d8f3b4fe4acccb44ab770b074",
       "max": 165,
       "style": "IPY_MODEL_5e92a9d4dc774882955c88cfc4418ac8",
       "value": 165
      }
     },
     "73601ff127a14a1db77793bd47c2898a": {
      "model_module": "@jupyter-widgets/controls",
      "model_module_version": "1.5.0",
      "model_name": "DescriptionStyleModel",
      "state": {
       "description_width": ""
      }
     },
     "73852ae2ff4f43f69ab211e3de9bb2b0": {
      "model_module": "@jupyter-widgets/controls",
      "model_module_version": "1.5.0",
      "model_name": "DescriptionStyleModel",
      "state": {
       "description_width": ""
      }
     },
     "738ba56a4b464d3986d7853e9ba348fc": {
      "model_module": "@jupyter-widgets/controls",
      "model_module_version": "1.5.0",
      "model_name": "FloatProgressModel",
      "state": {
       "bar_style": "success",
       "description": "[2] 2/2(val  ): 100%",
       "layout": "IPY_MODEL_21c1352fac8f4ffda77d8281aa4afc36",
       "max": 1,
       "style": "IPY_MODEL_57c4ba95b6f748ca95156ef63a9c69db",
       "value": 1
      }
     },
     "739080b86d5746ebbc25fc8086e3c9ed": {
      "model_module": "@jupyter-widgets/base",
      "model_module_version": "1.2.0",
      "model_name": "LayoutModel",
      "state": {}
     },
     "739ba04bc6f5432aab2543c4616cc787": {
      "model_module": "@jupyter-widgets/controls",
      "model_module_version": "1.5.0",
      "model_name": "ProgressStyleModel",
      "state": {
       "description_width": "initial"
      }
     },
     "73b7485529c94c63ba6fd989b3c5f142": {
      "model_module": "@jupyter-widgets/controls",
      "model_module_version": "1.5.0",
      "model_name": "FloatProgressModel",
      "state": {
       "bar_style": "success",
       "description": "[2] 16/16(val  ): 100%",
       "layout": "IPY_MODEL_c4bb226199be45e282a0480b3d94c3d1",
       "max": 165,
       "style": "IPY_MODEL_1b8f80fc91144291ba30d8c99469f92e",
       "value": 165
      }
     },
     "73c10b6f6e0648d4a2129a2d660aa9b8": {
      "model_module": "@jupyter-widgets/controls",
      "model_module_version": "1.5.0",
      "model_name": "HBoxModel",
      "state": {
       "children": [
        "IPY_MODEL_fb3866fb6f754b8289ebb5e26a074665",
        "IPY_MODEL_cba7f49623b9480fad10d8b6f7a5aa7e"
       ],
       "layout": "IPY_MODEL_93d44f05ee64484fab114e3308f29537"
      }
     },
     "73e3aa9516744bdd92b770b5ff2a07ec": {
      "model_module": "@jupyter-widgets/controls",
      "model_module_version": "1.5.0",
      "model_name": "FloatProgressModel",
      "state": {
       "bar_style": "success",
       "description": "[0] 10/15(val  ): 100%",
       "layout": "IPY_MODEL_5d63717c2428440ca10565415c2e6c72",
       "max": 1,
       "style": "IPY_MODEL_fa645dea96544fc0a4faedc919811e8e",
       "value": 1
      }
     },
     "73eabb60cfcd419e931cb79459b3b0e6": {
      "model_module": "@jupyter-widgets/base",
      "model_module_version": "1.2.0",
      "model_name": "LayoutModel",
      "state": {}
     },
     "73ebb38d61f847d8942654ba5cbde7b4": {
      "model_module": "@jupyter-widgets/controls",
      "model_module_version": "1.5.0",
      "model_name": "HTMLModel",
      "state": {
       "layout": "IPY_MODEL_efd8f3668483485c824f62f6cd423193",
       "style": "IPY_MODEL_eb41829644ea4567a58beb31db6668c6",
       "value": " 1/1 [00:00&lt;00:00,  1.34it/s]"
      }
     },
     "742f16b181af468999616dddcd14fa13": {
      "model_module": "@jupyter-widgets/controls",
      "model_module_version": "1.5.0",
      "model_name": "HTMLModel",
      "state": {
       "layout": "IPY_MODEL_1c79619a064a4d94b1d7d87ab0aee3a3",
       "style": "IPY_MODEL_62f0213c12e948e5bb04b72c05e9fe19",
       "value": " 165/165 [1:51:45&lt;00:00, 40.64s/it]"
      }
     },
     "7436b4ef5a6b4f599e52a165c7fecf28": {
      "model_module": "@jupyter-widgets/controls",
      "model_module_version": "1.5.0",
      "model_name": "ProgressStyleModel",
      "state": {
       "description_width": "initial"
      }
     },
     "743e634a353c47d29f35ab93bb3f1e30": {
      "model_module": "@jupyter-widgets/controls",
      "model_module_version": "1.5.0",
      "model_name": "DescriptionStyleModel",
      "state": {
       "description_width": ""
      }
     },
     "7447648479674929b0a92fed343c53b8": {
      "model_module": "@jupyter-widgets/base",
      "model_module_version": "1.2.0",
      "model_name": "LayoutModel",
      "state": {}
     },
     "744a54b91a9d49918f36e6ba436fcd9c": {
      "model_module": "@jupyter-widgets/controls",
      "model_module_version": "1.5.0",
      "model_name": "HBoxModel",
      "state": {
       "children": [
        "IPY_MODEL_4f579fca804a41ff90268cd4b1f4cf76",
        "IPY_MODEL_ad40f61bf11b419f97e5a3e3b458dcb2"
       ],
       "layout": "IPY_MODEL_2e06c486d50343ef8015bc2fe5cccec3"
      }
     },
     "745bbcbc060d412cb34c4524f07ba3c5": {
      "model_module": "@jupyter-widgets/base",
      "model_module_version": "1.2.0",
      "model_name": "LayoutModel",
      "state": {}
     },
     "746a82b38e004deb980c669dca45477d": {
      "model_module": "@jupyter-widgets/controls",
      "model_module_version": "1.5.0",
      "model_name": "FloatProgressModel",
      "state": {
       "bar_style": "success",
       "description": "[1] 1/2(train): 100%",
       "layout": "IPY_MODEL_c646cb0926b24a7b953b7b298e7a2e38",
       "max": 3,
       "style": "IPY_MODEL_b7e5b19e2a8f484dabd4c629f68e65c2",
       "value": 3
      }
     },
     "74793939727846cd8710188bd6876e58": {
      "model_module": "@jupyter-widgets/base",
      "model_module_version": "1.2.0",
      "model_name": "LayoutModel",
      "state": {}
     },
     "7487988cb20a4609abef34dc88d2f4ca": {
      "model_module": "@jupyter-widgets/controls",
      "model_module_version": "1.5.0",
      "model_name": "HTMLModel",
      "state": {
       "layout": "IPY_MODEL_4fe5360abc584da6bf43b8ae2c82f3d6",
       "style": "IPY_MODEL_c0aad0c20b3743038ef1ae72d9fb96a7",
       "value": " 1/1 [00:01&lt;00:00,  1.46s/it]"
      }
     },
     "74c5ad9a68cb441ea156ab51397cfa26": {
      "model_module": "@jupyter-widgets/base",
      "model_module_version": "1.2.0",
      "model_name": "LayoutModel",
      "state": {}
     },
     "74cc64061dae406ca6cfc21b4098c2f4": {
      "model_module": "@jupyter-widgets/base",
      "model_module_version": "1.2.0",
      "model_name": "LayoutModel",
      "state": {}
     },
     "74ce5cfbae62402c8a8724114f278fbb": {
      "model_module": "@jupyter-widgets/base",
      "model_module_version": "1.2.0",
      "model_name": "LayoutModel",
      "state": {}
     },
     "74d75f1028774d398d80957f4f012437": {
      "model_module": "@jupyter-widgets/controls",
      "model_module_version": "1.5.0",
      "model_name": "DescriptionStyleModel",
      "state": {
       "description_width": ""
      }
     },
     "74f6121ba19c4461aa4fb8baf44e501b": {
      "model_module": "@jupyter-widgets/controls",
      "model_module_version": "1.5.0",
      "model_name": "DescriptionStyleModel",
      "state": {
       "description_width": ""
      }
     },
     "75122238df1f4919b07ca1ac6b00bcf2": {
      "model_module": "@jupyter-widgets/controls",
      "model_module_version": "1.5.0",
      "model_name": "HTMLModel",
      "state": {
       "layout": "IPY_MODEL_0ed3868475f146439d6bf1796ec7a1da",
       "style": "IPY_MODEL_7a6b5d5341a340e9bc2deb0880c3f4ee",
       "value": " 1/1 [00:07&lt;00:00,  7.37s/it]"
      }
     },
     "751b42e615764841b90ac710dfcdc369": {
      "model_module": "@jupyter-widgets/controls",
      "model_module_version": "1.5.0",
      "model_name": "ProgressStyleModel",
      "state": {
       "description_width": "initial"
      }
     },
     "75281d422f2a428c9f8e3b5a49f413bb": {
      "model_module": "@jupyter-widgets/base",
      "model_module_version": "1.2.0",
      "model_name": "LayoutModel",
      "state": {}
     },
     "7552f21f12b04e7c81eb95cb213f7c4f": {
      "model_module": "@jupyter-widgets/controls",
      "model_module_version": "1.5.0",
      "model_name": "HTMLModel",
      "state": {
       "layout": "IPY_MODEL_f681539ea2c442c58b2b9cac6cff15e7",
       "style": "IPY_MODEL_73852ae2ff4f43f69ab211e3de9bb2b0",
       "value": " 3/3 [00:07&lt;00:00,  2.46s/it]"
      }
     },
     "757cfefffbab409881a5bfe427160ad7": {
      "model_module": "@jupyter-widgets/base",
      "model_module_version": "1.2.0",
      "model_name": "LayoutModel",
      "state": {}
     },
     "7598e8677f564b8cbcb71bcb7145de1e": {
      "model_module": "@jupyter-widgets/controls",
      "model_module_version": "1.5.0",
      "model_name": "DescriptionStyleModel",
      "state": {
       "description_width": ""
      }
     },
     "75a09f864c774e7da317d1bae91a4bdf": {
      "model_module": "@jupyter-widgets/controls",
      "model_module_version": "1.5.0",
      "model_name": "ProgressStyleModel",
      "state": {
       "description_width": "initial"
      }
     },
     "75a27ae34688411e8efa4871fcd6b6f1": {
      "model_module": "@jupyter-widgets/controls",
      "model_module_version": "1.5.0",
      "model_name": "HBoxModel",
      "state": {
       "children": [
        "IPY_MODEL_5dde37d634644d5f9991e793eab29e78",
        "IPY_MODEL_568fc2b2697a4c469d3b677dec8b0048"
       ],
       "layout": "IPY_MODEL_6522d08c44784db48b572138f56b319a"
      }
     },
     "75f53fabc42742e9874ca59cc60e746f": {
      "model_module": "@jupyter-widgets/controls",
      "model_module_version": "1.5.0",
      "model_name": "ProgressStyleModel",
      "state": {
       "description_width": "initial"
      }
     },
     "75fbd9288aa6455bbf0cdef15ecfc02a": {
      "model_module": "@jupyter-widgets/base",
      "model_module_version": "1.2.0",
      "model_name": "LayoutModel",
      "state": {}
     },
     "76230118c7b642159e6a0357e8d19e9b": {
      "model_module": "@jupyter-widgets/base",
      "model_module_version": "1.2.0",
      "model_name": "LayoutModel",
      "state": {}
     },
     "762d172b273948e284608daafeabd33c": {
      "model_module": "@jupyter-widgets/controls",
      "model_module_version": "1.5.0",
      "model_name": "ProgressStyleModel",
      "state": {
       "description_width": "initial"
      }
     },
     "76320f05592a4ff2ac7a5d0ffe815809": {
      "model_module": "@jupyter-widgets/controls",
      "model_module_version": "1.5.0",
      "model_name": "DescriptionStyleModel",
      "state": {
       "description_width": ""
      }
     },
     "7675a530c7e245ebaa9897858c097ef9": {
      "model_module": "@jupyter-widgets/base",
      "model_module_version": "1.2.0",
      "model_name": "LayoutModel",
      "state": {}
     },
     "767aec75a212486eb40cf9a7ba74b129": {
      "model_module": "@jupyter-widgets/base",
      "model_module_version": "1.2.0",
      "model_name": "LayoutModel",
      "state": {}
     },
     "7685cdc63c7148bdb89a452aa53dfcda": {
      "model_module": "@jupyter-widgets/controls",
      "model_module_version": "1.5.0",
      "model_name": "HBoxModel",
      "state": {
       "children": [
        "IPY_MODEL_475d01571f3e43fa8fcbe875b6176e93",
        "IPY_MODEL_3d3248d711d2421198dd9e316f74e738"
       ],
       "layout": "IPY_MODEL_5e89dd4a9dd6453680be36d22b5b399a"
      }
     },
     "76a87ec8f7af495a80e8890b773a804d": {
      "model_module": "@jupyter-widgets/base",
      "model_module_version": "1.2.0",
      "model_name": "LayoutModel",
      "state": {}
     },
     "76b11b480b6642fea1acf3582fcc2f91": {
      "model_module": "@jupyter-widgets/base",
      "model_module_version": "1.2.0",
      "model_name": "LayoutModel",
      "state": {}
     },
     "76b7f6a39e564b64b3a2ed9171ca2d5e": {
      "model_module": "@jupyter-widgets/controls",
      "model_module_version": "1.5.0",
      "model_name": "HBoxModel",
      "state": {
       "children": [
        "IPY_MODEL_25528e55ed974187977d2789831edd26",
        "IPY_MODEL_69bd364e4a0f4aa4b0bec831614e9ec0"
       ],
       "layout": "IPY_MODEL_cc72d68849c14756926e09ca8f08e983"
      }
     },
     "76bedc5e80684457a02efa08b591710c": {
      "model_module": "@jupyter-widgets/base",
      "model_module_version": "1.2.0",
      "model_name": "LayoutModel",
      "state": {}
     },
     "76cccb1438ee47eea5d1b552f5c1a8aa": {
      "model_module": "@jupyter-widgets/controls",
      "model_module_version": "1.5.0",
      "model_name": "DescriptionStyleModel",
      "state": {
       "description_width": ""
      }
     },
     "76d71383db3e4770bb1566831f4aa0b8": {
      "model_module": "@jupyter-widgets/controls",
      "model_module_version": "1.5.0",
      "model_name": "ProgressStyleModel",
      "state": {
       "description_width": "initial"
      }
     },
     "7723264e77b5482eb6f97c4214609248": {
      "model_module": "@jupyter-widgets/controls",
      "model_module_version": "1.5.0",
      "model_name": "HBoxModel",
      "state": {
       "children": [
        "IPY_MODEL_93e714ed25704bdabab8ed31d4ba3a5a",
        "IPY_MODEL_bf97e81c293c4674bdc33be2b7c3acea"
       ],
       "layout": "IPY_MODEL_d9a082bb7d6347618707b7ded1db485b"
      }
     },
     "7740d11ba5444ddebe7b896f08e68bb7": {
      "model_module": "@jupyter-widgets/base",
      "model_module_version": "1.2.0",
      "model_name": "LayoutModel",
      "state": {}
     },
     "7741c15baeb8483099ba98e1c2e90e7d": {
      "model_module": "@jupyter-widgets/controls",
      "model_module_version": "1.5.0",
      "model_name": "DescriptionStyleModel",
      "state": {
       "description_width": ""
      }
     },
     "77445ec0520447c6981c6f3a258a66f7": {
      "model_module": "@jupyter-widgets/controls",
      "model_module_version": "1.5.0",
      "model_name": "HBoxModel",
      "state": {
       "children": [
        "IPY_MODEL_f1f296b890e2419592e74ee69ecccb9e",
        "IPY_MODEL_f61a6178ab954965a17a691cb3adcfda"
       ],
       "layout": "IPY_MODEL_5819439a03db4864b375617e0ecb68fc"
      }
     },
     "774e942364f546e9a06589197db8be19": {
      "model_module": "@jupyter-widgets/base",
      "model_module_version": "1.2.0",
      "model_name": "LayoutModel",
      "state": {}
     },
     "7756e25604eb4ede930a23096796e236": {
      "model_module": "@jupyter-widgets/base",
      "model_module_version": "1.2.0",
      "model_name": "LayoutModel",
      "state": {}
     },
     "775d5b5223294228bcf92dc6e29c3c58": {
      "model_module": "@jupyter-widgets/controls",
      "model_module_version": "1.5.0",
      "model_name": "ProgressStyleModel",
      "state": {
       "description_width": "initial"
      }
     },
     "775d773547ee4decbf153e7559ecda57": {
      "model_module": "@jupyter-widgets/base",
      "model_module_version": "1.2.0",
      "model_name": "LayoutModel",
      "state": {}
     },
     "7766cc3c83f6455684692492067af782": {
      "model_module": "@jupyter-widgets/controls",
      "model_module_version": "1.5.0",
      "model_name": "ProgressStyleModel",
      "state": {
       "description_width": "initial"
      }
     },
     "7769048d7b514587ab345c2b7d8e9358": {
      "model_module": "@jupyter-widgets/base",
      "model_module_version": "1.2.0",
      "model_name": "LayoutModel",
      "state": {}
     },
     "77731cc056e54ccab8376520108cf9c4": {
      "model_module": "@jupyter-widgets/controls",
      "model_module_version": "1.5.0",
      "model_name": "FloatProgressModel",
      "state": {
       "bar_style": "success",
       "description": "[0] 1/2(val  ): 100%",
       "layout": "IPY_MODEL_e2c4d97d2b80464c9e102c09b97a651f",
       "max": 1,
       "style": "IPY_MODEL_d9e4de39017641ffa679bf7ae367b755",
       "value": 1
      }
     },
     "779514f7f092478cb9abe3934ad4c06f": {
      "model_module": "@jupyter-widgets/base",
      "model_module_version": "1.2.0",
      "model_name": "LayoutModel",
      "state": {}
     },
     "779ebca63acd4f45b51a523bf66c918f": {
      "model_module": "@jupyter-widgets/controls",
      "model_module_version": "1.5.0",
      "model_name": "HBoxModel",
      "state": {
       "children": [
        "IPY_MODEL_92e644c1bfbe4b7f8043db9ffe5c0f88",
        "IPY_MODEL_5d19b1aa999b49a38562bb020eb9c276"
       ],
       "layout": "IPY_MODEL_a66362c4cfcf4221b00e80b790d17480"
      }
     },
     "77a1cd3f764841d194aaecb1a706ea6c": {
      "model_module": "@jupyter-widgets/base",
      "model_module_version": "1.2.0",
      "model_name": "LayoutModel",
      "state": {}
     },
     "77bdc3c29980490595cae8a378e47b72": {
      "model_module": "@jupyter-widgets/controls",
      "model_module_version": "1.5.0",
      "model_name": "FloatProgressModel",
      "state": {
       "bar_style": "success",
       "description": "[3] 12/16(val  ): 100%",
       "layout": "IPY_MODEL_e1c78b1d280b443b93c05008b5a9e41f",
       "max": 165,
       "style": "IPY_MODEL_12021a19fb6e497ebc127bcf5a2e4ee8",
       "value": 165
      }
     },
     "77e3a9234f3d4185820f8e13220df9de": {
      "model_module": "@jupyter-widgets/controls",
      "model_module_version": "1.5.0",
      "model_name": "FloatProgressModel",
      "state": {
       "bar_style": "success",
       "description": "[1] 2/2(val  ): 100%",
       "layout": "IPY_MODEL_1d8fb6bbb6d24e48bd04d29947d845eb",
       "max": 1,
       "style": "IPY_MODEL_53ee141a72e5481a9644b8d5d1227235",
       "value": 1
      }
     },
     "780ed1dc69724f30817306e4799f73e3": {
      "model_module": "@jupyter-widgets/controls",
      "model_module_version": "1.5.0",
      "model_name": "HBoxModel",
      "state": {
       "children": [
        "IPY_MODEL_73b7485529c94c63ba6fd989b3c5f142",
        "IPY_MODEL_c1243ca4927b41b3b62c83a269e4ecea"
       ],
       "layout": "IPY_MODEL_ef78faf2eb5340fe9a59c2e32a9b96cd"
      }
     },
     "78190f1e13af4060881ffca7b26c6863": {
      "model_module": "@jupyter-widgets/controls",
      "model_module_version": "1.5.0",
      "model_name": "ProgressStyleModel",
      "state": {
       "description_width": "initial"
      }
     },
     "781c5e9bab064b55853ae9cbeffbff47": {
      "model_module": "@jupyter-widgets/base",
      "model_module_version": "1.2.0",
      "model_name": "LayoutModel",
      "state": {}
     },
     "78200d6298f945e49770a0e48d53986c": {
      "model_module": "@jupyter-widgets/controls",
      "model_module_version": "1.5.0",
      "model_name": "ProgressStyleModel",
      "state": {
       "description_width": "initial"
      }
     },
     "782cb8e9d9b941e6940702470cd0a82a": {
      "model_module": "@jupyter-widgets/base",
      "model_module_version": "1.2.0",
      "model_name": "LayoutModel",
      "state": {}
     },
     "783dea54aaf443caa3990ee96cd7a99a": {
      "model_module": "@jupyter-widgets/controls",
      "model_module_version": "1.5.0",
      "model_name": "FloatProgressModel",
      "state": {
       "bar_style": "success",
       "description": "[1] 8/15(val  ): 100%",
       "layout": "IPY_MODEL_f64da3cc9b404feb923ae9e842db9d16",
       "max": 1,
       "style": "IPY_MODEL_d0ccf1781ffc4f35a0029fdc8c673391",
       "value": 1
      }
     },
     "78529dd4ebec4f14ba61fdef81c7bdd4": {
      "model_module": "@jupyter-widgets/controls",
      "model_module_version": "1.5.0",
      "model_name": "HBoxModel",
      "state": {
       "children": [
        "IPY_MODEL_8a3bd0ff884a4c54b086ddf280fdce05",
        "IPY_MODEL_c2fc05f38506485c881e5fa1e6847d7f"
       ],
       "layout": "IPY_MODEL_b2b432fc40304ba0b3afe561aab48a2e"
      }
     },
     "785bf4ba954640b285b7dd10304b17bb": {
      "model_module": "@jupyter-widgets/controls",
      "model_module_version": "1.5.0",
      "model_name": "FloatProgressModel",
      "state": {
       "bar_style": "danger",
       "description": "[0] 1/15(train):   0%",
       "layout": "IPY_MODEL_19133d298931409ea9345dd6f804fe91",
       "max": 493,
       "style": "IPY_MODEL_46d3491b0d464b5dafe8034fe930b563"
      }
     },
     "786781388d954c8b8724fd727d934650": {
      "model_module": "@jupyter-widgets/controls",
      "model_module_version": "1.5.0",
      "model_name": "HBoxModel",
      "state": {
       "children": [
        "IPY_MODEL_48fce7ad200d40e891f9d31595cbf749",
        "IPY_MODEL_e0a797432e5944d08f9590887dd11ebe"
       ],
       "layout": "IPY_MODEL_8ab46388e1ea4bdfae0046b2744c44c1"
      }
     },
     "7886d1c1ecc041eab3210b5747e4c0fa": {
      "model_module": "@jupyter-widgets/controls",
      "model_module_version": "1.5.0",
      "model_name": "FloatProgressModel",
      "state": {
       "bar_style": "success",
       "description": "[3] 4/16(train): 100%",
       "layout": "IPY_MODEL_fb73603cf0ea462781e9dc01900f1dab",
       "max": 493,
       "style": "IPY_MODEL_55e800c4cae847d996ceb1b065b8426d",
       "value": 493
      }
     },
     "788875bd23f54272afff318d9fb37a7d": {
      "model_module": "@jupyter-widgets/controls",
      "model_module_version": "1.5.0",
      "model_name": "FloatProgressModel",
      "state": {
       "bar_style": "success",
       "description": "[0] 12/16(train): 100%",
       "layout": "IPY_MODEL_5a98103ef41b4a299af33bc5287a35d0",
       "max": 493,
       "style": "IPY_MODEL_7bbaf736e35c4780b12d9d06eede9a20",
       "value": 493
      }
     },
     "7890a3f64cdc49cbb8b7022988fbfd04": {
      "model_module": "@jupyter-widgets/base",
      "model_module_version": "1.2.0",
      "model_name": "LayoutModel",
      "state": {}
     },
     "78ad0d74f9084312a6a9416b8f0891d4": {
      "model_module": "@jupyter-widgets/controls",
      "model_module_version": "1.5.0",
      "model_name": "HBoxModel",
      "state": {
       "children": [
        "IPY_MODEL_e6e1e2a6ce9246bea94488f4a0f130a7",
        "IPY_MODEL_86f7af6c0f9d4420ac5bde0c889424b8"
       ],
       "layout": "IPY_MODEL_fa8f292be485435fbe505ba623f76962"
      }
     },
     "78e0e0efd7e84c678277573c12c38f83": {
      "model_module": "@jupyter-widgets/base",
      "model_module_version": "1.2.0",
      "model_name": "LayoutModel",
      "state": {}
     },
     "78eac640c66747bdaee8d4cc5f87b0ff": {
      "model_module": "@jupyter-widgets/base",
      "model_module_version": "1.2.0",
      "model_name": "LayoutModel",
      "state": {}
     },
     "78ee6be9dc2c48019969ba4ca5d32109": {
      "model_module": "@jupyter-widgets/controls",
      "model_module_version": "1.5.0",
      "model_name": "FloatProgressModel",
      "state": {
       "bar_style": "success",
       "description": "[2] 1/2(val  ): 100%",
       "layout": "IPY_MODEL_a67691fcefff409fa77e12297011cd6d",
       "max": 1,
       "style": "IPY_MODEL_1b1267bde9614eb69e21cdb71a7b4543",
       "value": 1
      }
     },
     "78f489609aaa48b1beb8491f9bb923d2": {
      "model_module": "@jupyter-widgets/controls",
      "model_module_version": "1.5.0",
      "model_name": "HTMLModel",
      "state": {
       "layout": "IPY_MODEL_f3a158d1bf5f40e18aac4f1426c71697",
       "style": "IPY_MODEL_09f9606e9996410ebf30be684f4521ee",
       "value": " 493/493 [22:17&lt;00:00,  2.71s/it]"
      }
     },
     "78f8599961fd4035a3cf8e431089828c": {
      "model_module": "@jupyter-widgets/base",
      "model_module_version": "1.2.0",
      "model_name": "LayoutModel",
      "state": {}
     },
     "78fb566c516941f2a6cf633a2c7b6c55": {
      "model_module": "@jupyter-widgets/controls",
      "model_module_version": "1.5.0",
      "model_name": "DescriptionStyleModel",
      "state": {
       "description_width": ""
      }
     },
     "7906e6a35ed24ed1bdf8cf6c8120be16": {
      "model_module": "@jupyter-widgets/base",
      "model_module_version": "1.2.0",
      "model_name": "LayoutModel",
      "state": {}
     },
     "7907a7bb2c504014b74b5fce47d6c060": {
      "model_module": "@jupyter-widgets/controls",
      "model_module_version": "1.5.0",
      "model_name": "HBoxModel",
      "state": {
       "children": [
        "IPY_MODEL_577984a2d18c44f68b15e6b05ca8f10a",
        "IPY_MODEL_cd42538397174249856b922b5228c00e"
       ],
       "layout": "IPY_MODEL_1b96eaf2674849e58f5fe41acb7fd954"
      }
     },
     "7908cf1fc28c4048969cae54024e7396": {
      "model_module": "@jupyter-widgets/controls",
      "model_module_version": "1.5.0",
      "model_name": "ProgressStyleModel",
      "state": {
       "description_width": "initial"
      }
     },
     "790d754e6b9e499bad66e8b9b9c036cb": {
      "model_module": "@jupyter-widgets/controls",
      "model_module_version": "1.5.0",
      "model_name": "HBoxModel",
      "state": {
       "children": [
        "IPY_MODEL_107de244e7ea47e29deeb310bc4c4823",
        "IPY_MODEL_e55a9af8ae6a4c1b83fc49569de7caa3"
       ],
       "layout": "IPY_MODEL_a604a7decfb54a14820fd0a083a01a07"
      }
     },
     "79291a2aabad465788ea9daf04825aaa": {
      "model_module": "@jupyter-widgets/controls",
      "model_module_version": "1.5.0",
      "model_name": "HBoxModel",
      "state": {
       "children": [
        "IPY_MODEL_0053fd6fbf9c48299180f6f708987f50",
        "IPY_MODEL_038d6580db23458584cae5c06e18537a"
       ],
       "layout": "IPY_MODEL_30ba660410c041eea1ab5ae8445fb82f"
      }
     },
     "7939fb1ec9d84ba2b2cc7bd413e06e3a": {
      "model_module": "@jupyter-widgets/controls",
      "model_module_version": "1.5.0",
      "model_name": "HBoxModel",
      "state": {
       "children": [
        "IPY_MODEL_372c6ee9e2ce4175843916abd01d2e98",
        "IPY_MODEL_e9f0d55c04f4482892fc579c16181424"
       ],
       "layout": "IPY_MODEL_4d0280c29686494d978f289e97a91a52"
      }
     },
     "795b8c84667c493d80189ff42f68b118": {
      "model_module": "@jupyter-widgets/base",
      "model_module_version": "1.2.0",
      "model_name": "LayoutModel",
      "state": {}
     },
     "796144f46d9f44b9adf83845e714ec6b": {
      "model_module": "@jupyter-widgets/controls",
      "model_module_version": "1.5.0",
      "model_name": "HBoxModel",
      "state": {
       "children": [
        "IPY_MODEL_54dd88934db245a6b7a2e6101f675b70",
        "IPY_MODEL_631588e9e9264dbda4d8dc94244427e5"
       ],
       "layout": "IPY_MODEL_2df7872075b24db8813befaea6a256d4"
      }
     },
     "797d8eadf84f48cc9e03c9ed65c2d52e": {
      "model_module": "@jupyter-widgets/base",
      "model_module_version": "1.2.0",
      "model_name": "LayoutModel",
      "state": {}
     },
     "79864be8a9094159b0a2598743d913b3": {
      "model_module": "@jupyter-widgets/base",
      "model_module_version": "1.2.0",
      "model_name": "LayoutModel",
      "state": {}
     },
     "79a0c178ee8549a58fe127ebf5d2e4f4": {
      "model_module": "@jupyter-widgets/controls",
      "model_module_version": "1.5.0",
      "model_name": "HBoxModel",
      "state": {
       "children": [
        "IPY_MODEL_24da71274e8a4b23a14ae2f664a3013f",
        "IPY_MODEL_30b9f7ad0c8841158ec552bc640630a7"
       ],
       "layout": "IPY_MODEL_3b1e9ed95a6e459b81264cc2fdf1f54f"
      }
     },
     "79bbd07e024a43159c3f9d3aeade2db0": {
      "model_module": "@jupyter-widgets/controls",
      "model_module_version": "1.5.0",
      "model_name": "ProgressStyleModel",
      "state": {
       "description_width": "initial"
      }
     },
     "79bd0cb1b5284755b2dafc627885df62": {
      "model_module": "@jupyter-widgets/base",
      "model_module_version": "1.2.0",
      "model_name": "LayoutModel",
      "state": {}
     },
     "79bf8bee738d4001a4dfada4d1eaac17": {
      "model_module": "@jupyter-widgets/controls",
      "model_module_version": "1.5.0",
      "model_name": "HBoxModel",
      "state": {
       "children": [
        "IPY_MODEL_3360d6d4680c4f24aa0506753aab5813",
        "IPY_MODEL_025e41b2fd884aafbf4eefe9de87b6d5"
       ],
       "layout": "IPY_MODEL_6d136e3dc6214eca995c9b1e40677730"
      }
     },
     "79fe98e3cc504d1e8954f8f6e7a788cd": {
      "model_module": "@jupyter-widgets/controls",
      "model_module_version": "1.5.0",
      "model_name": "HBoxModel",
      "state": {
       "children": [
        "IPY_MODEL_317e0d0895064fc893a8ac876f15e599",
        "IPY_MODEL_10f1d9db4ce04c3fbc27c6bf29f0e8e3"
       ],
       "layout": "IPY_MODEL_4614fe83358d4098aec3d1d8fc67959f"
      }
     },
     "7a1a40902289426287bae65e84b0659e": {
      "model_module": "@jupyter-widgets/controls",
      "model_module_version": "1.5.0",
      "model_name": "DescriptionStyleModel",
      "state": {
       "description_width": ""
      }
     },
     "7a25c3672b4549b89ed82a91ebcd3147": {
      "model_module": "@jupyter-widgets/base",
      "model_module_version": "1.2.0",
      "model_name": "LayoutModel",
      "state": {}
     },
     "7a699e2999ce4877a27bb5b2700e693a": {
      "model_module": "@jupyter-widgets/controls",
      "model_module_version": "1.5.0",
      "model_name": "HBoxModel",
      "state": {
       "children": [
        "IPY_MODEL_ce322c3792224e62aedf8b59c964ca67",
        "IPY_MODEL_c95c6df2fd704663bda17b0107480c29"
       ],
       "layout": "IPY_MODEL_9c41f395a14c440e8a323f0d266e8658"
      }
     },
     "7a6b5d5341a340e9bc2deb0880c3f4ee": {
      "model_module": "@jupyter-widgets/controls",
      "model_module_version": "1.5.0",
      "model_name": "DescriptionStyleModel",
      "state": {
       "description_width": ""
      }
     },
     "7a7b9855b00b48a09fd1a7f793ab7da6": {
      "model_module": "@jupyter-widgets/base",
      "model_module_version": "1.2.0",
      "model_name": "LayoutModel",
      "state": {}
     },
     "7a861e3049b14961868b7674938a455b": {
      "model_module": "@jupyter-widgets/controls",
      "model_module_version": "1.5.0",
      "model_name": "HBoxModel",
      "state": {
       "children": [
        "IPY_MODEL_5e410ed315404212abd57c14f374960e",
        "IPY_MODEL_196479d419a34a7cbae0f2220a87c6d8"
       ],
       "layout": "IPY_MODEL_ccc1232ff42549a2b2717b1a8f74e7fe"
      }
     },
     "7a86cb26569f42ebada436efae76d683": {
      "model_module": "@jupyter-widgets/controls",
      "model_module_version": "1.5.0",
      "model_name": "FloatProgressModel",
      "state": {
       "bar_style": "success",
       "description": "[0] 2/2(train): 100%",
       "layout": "IPY_MODEL_1faf5ca543554068863653444a9000ad",
       "max": 3,
       "style": "IPY_MODEL_7069fc19a4574a4f897fca9bf1eaffb4",
       "value": 3
      }
     },
     "7a8d962ad31940a2b5a4d26f910064dd": {
      "model_module": "@jupyter-widgets/controls",
      "model_module_version": "1.5.0",
      "model_name": "FloatProgressModel",
      "state": {
       "bar_style": "success",
       "description": "[3] 5/15(train): 100%",
       "layout": "IPY_MODEL_9085f5c784f44c309e7250be766b91fc",
       "max": 493,
       "style": "IPY_MODEL_2102958c14204c03a4a278e80f68a57b",
       "value": 493
      }
     },
     "7aa538e97f844662946d0789fef4835d": {
      "model_module": "@jupyter-widgets/base",
      "model_module_version": "1.2.0",
      "model_name": "LayoutModel",
      "state": {}
     },
     "7ad08000e0154bb686e42bbac737b886": {
      "model_module": "@jupyter-widgets/controls",
      "model_module_version": "1.5.0",
      "model_name": "HTMLModel",
      "state": {
       "layout": "IPY_MODEL_e6e4b91296b4450fa864703c0fb9f704",
       "style": "IPY_MODEL_822946ece10b4bababa59a556844b440",
       "value": " 3/3 [00:07&lt;00:00,  2.59s/it]"
      }
     },
     "7ae9d988b45842eaa20aaef9f8cc5a3b": {
      "model_module": "@jupyter-widgets/base",
      "model_module_version": "1.2.0",
      "model_name": "LayoutModel",
      "state": {}
     },
     "7af0b05778064d748ed59ed9a8887e98": {
      "model_module": "@jupyter-widgets/controls",
      "model_module_version": "1.5.0",
      "model_name": "HTMLModel",
      "state": {
       "layout": "IPY_MODEL_6b59835f70534ef7be89cbafaf201623",
       "style": "IPY_MODEL_67d0cdaca040458f86b285c303f1ca9d",
       "value": " 165/165 [01:24&lt;00:00,  1.96it/s]"
      }
     },
     "7b2522a12b1d40da8c648bacdcc6a5c7": {
      "model_module": "@jupyter-widgets/controls",
      "model_module_version": "1.5.0",
      "model_name": "HTMLModel",
      "state": {
       "layout": "IPY_MODEL_fa6f1cebe47b4b25a5d5d52657639b31",
       "style": "IPY_MODEL_f9c757e5a6ef4c9eaa371c539a448ef7",
       "value": " 165/165 [01:23&lt;00:00,  1.97it/s]"
      }
     },
     "7b82d333cdfb4266b03dee84031145ac": {
      "model_module": "@jupyter-widgets/controls",
      "model_module_version": "1.5.0",
      "model_name": "FloatProgressModel",
      "state": {
       "bar_style": "success",
       "description": "[2] 13/16(train): 100%",
       "layout": "IPY_MODEL_745bbcbc060d412cb34c4524f07ba3c5",
       "max": 493,
       "style": "IPY_MODEL_a986604cf8884dada1cdf9d2752304e1",
       "value": 493
      }
     },
     "7b902e47eb5b4c20be075bdbf243c996": {
      "model_module": "@jupyter-widgets/base",
      "model_module_version": "1.2.0",
      "model_name": "LayoutModel",
      "state": {}
     },
     "7ba424af770247128c6defd3c4a5a6f6": {
      "model_module": "@jupyter-widgets/controls",
      "model_module_version": "1.5.0",
      "model_name": "ProgressStyleModel",
      "state": {
       "description_width": "initial"
      }
     },
     "7bb3a2e9d5cd40f889f4be17286211f6": {
      "model_module": "@jupyter-widgets/controls",
      "model_module_version": "1.5.0",
      "model_name": "HTMLModel",
      "state": {
       "layout": "IPY_MODEL_d208005d6e6c440ab3aa95164d4073cf",
       "style": "IPY_MODEL_ee81c56e29894622a6c6e6691e05792b",
       "value": " 3/3 [00:13&lt;00:00,  4.50s/it]"
      }
     },
     "7bb417ff743842a4b5f4e9f58a2a6dfd": {
      "model_module": "@jupyter-widgets/controls",
      "model_module_version": "1.5.0",
      "model_name": "FloatProgressModel",
      "state": {
       "bar_style": "success",
       "description": "[0] 16/16(val  ): 100%",
       "layout": "IPY_MODEL_3b31e72c45604eda9dfcf961443aef71",
       "max": 165,
       "style": "IPY_MODEL_fca32a7adc8542948317161923296841",
       "value": 165
      }
     },
     "7bbaf736e35c4780b12d9d06eede9a20": {
      "model_module": "@jupyter-widgets/controls",
      "model_module_version": "1.5.0",
      "model_name": "ProgressStyleModel",
      "state": {
       "description_width": "initial"
      }
     },
     "7bc2fc4d397b4cb39d3daf4bc3020d93": {
      "model_module": "@jupyter-widgets/controls",
      "model_module_version": "1.5.0",
      "model_name": "HTMLModel",
      "state": {
       "layout": "IPY_MODEL_b507d8e52a3e488f821a9affdc4947ab",
       "style": "IPY_MODEL_52ed21d506ed4274beb30d64cf68e29b",
       "value": " 165/165 [01:36&lt;00:00,  1.71it/s]"
      }
     },
     "7bce384c57434c1c9c5fc7b57376bd12": {
      "model_module": "@jupyter-widgets/controls",
      "model_module_version": "1.5.0",
      "model_name": "HBoxModel",
      "state": {
       "children": [
        "IPY_MODEL_3a670da664a848379146f862e7ae5ebf",
        "IPY_MODEL_00719ba065494cde85fa3b7dda81de07"
       ],
       "layout": "IPY_MODEL_9c2ffc89213d444a9e5abbc3f9e1d7f6"
      }
     },
     "7bf5a48546af45cead18449fb2753b07": {
      "model_module": "@jupyter-widgets/controls",
      "model_module_version": "1.5.0",
      "model_name": "DescriptionStyleModel",
      "state": {
       "description_width": ""
      }
     },
     "7bf80741b2a24e50b8e4815dade15792": {
      "model_module": "@jupyter-widgets/controls",
      "model_module_version": "1.5.0",
      "model_name": "DescriptionStyleModel",
      "state": {
       "description_width": ""
      }
     },
     "7bf9c1d65ffa40598586272a162ff883": {
      "model_module": "@jupyter-widgets/controls",
      "model_module_version": "1.5.0",
      "model_name": "HBoxModel",
      "state": {
       "children": [
        "IPY_MODEL_b3ac3658a5204ea1902f306956195174",
        "IPY_MODEL_1749db4c15e44d21968d535c1d745676"
       ],
       "layout": "IPY_MODEL_7a7b9855b00b48a09fd1a7f793ab7da6"
      }
     },
     "7c0f0e95ef8e4c60a1adda90c0c5a924": {
      "model_module": "@jupyter-widgets/controls",
      "model_module_version": "1.5.0",
      "model_name": "HTMLModel",
      "state": {
       "layout": "IPY_MODEL_98abde47e917418a872b567ff027b268",
       "style": "IPY_MODEL_974fb929d46c4fb3ab4d3c8e24ccf14b",
       "value": " 165/165 [21:25&lt;00:00,  7.79s/it]"
      }
     },
     "7c13fd1238d948ceacbdbafb0c96a7b1": {
      "model_module": "@jupyter-widgets/controls",
      "model_module_version": "1.5.0",
      "model_name": "FloatProgressModel",
      "state": {
       "bar_style": "success",
       "description": "[1] 4/15(val  ): 100%",
       "layout": "IPY_MODEL_358807d762014c4892f7f4e0a067fadb",
       "max": 1,
       "style": "IPY_MODEL_0829946a8b7b4138be560810d9786d81",
       "value": 1
      }
     },
     "7c1781a1ade4438ea1e36110e6d880db": {
      "model_module": "@jupyter-widgets/controls",
      "model_module_version": "1.5.0",
      "model_name": "ProgressStyleModel",
      "state": {
       "description_width": "initial"
      }
     },
     "7c1a77bde09543318cba1df9695bf86b": {
      "model_module": "@jupyter-widgets/base",
      "model_module_version": "1.2.0",
      "model_name": "LayoutModel",
      "state": {}
     },
     "7c2dbee8d453460ca69a9461c61826c9": {
      "model_module": "@jupyter-widgets/base",
      "model_module_version": "1.2.0",
      "model_name": "LayoutModel",
      "state": {}
     },
     "7c44d4ff6b924e078753165c117e6b5e": {
      "model_module": "@jupyter-widgets/controls",
      "model_module_version": "1.5.0",
      "model_name": "FloatProgressModel",
      "state": {
       "bar_style": "success",
       "description": "[2] 3/16(train): 100%",
       "layout": "IPY_MODEL_f71ec644a8ac47bd951dd82d46f6e815",
       "max": 493,
       "style": "IPY_MODEL_21c62d94800d430995f60da8fb2ca179",
       "value": 493
      }
     },
     "7c5dd8016ec140ce92e3501375657e08": {
      "model_module": "@jupyter-widgets/controls",
      "model_module_version": "1.5.0",
      "model_name": "HBoxModel",
      "state": {
       "children": [
        "IPY_MODEL_7a8d962ad31940a2b5a4d26f910064dd",
        "IPY_MODEL_6cde28beb7d14e9e9f1f259cfbc94f4a"
       ],
       "layout": "IPY_MODEL_d51a8b36e8074bc195b1f31b13ece71c"
      }
     },
     "7c71c436f6874b8fbc1993f4058b784e": {
      "model_module": "@jupyter-widgets/controls",
      "model_module_version": "1.5.0",
      "model_name": "DescriptionStyleModel",
      "state": {
       "description_width": ""
      }
     },
     "7c7f80cac0424c2b949a1980ef885dac": {
      "model_module": "@jupyter-widgets/controls",
      "model_module_version": "1.5.0",
      "model_name": "HTMLModel",
      "state": {
       "layout": "IPY_MODEL_e7161539a6714324981c2fb9070a5a8d",
       "style": "IPY_MODEL_fd717bafc81f43e3b9a0b2bd7b96d746",
       "value": " 3/3 [00:07&lt;00:00,  2.43s/it]"
      }
     },
     "7c8530b117d346bc8b85a96cddd18661": {
      "model_module": "@jupyter-widgets/controls",
      "model_module_version": "1.5.0",
      "model_name": "DescriptionStyleModel",
      "state": {
       "description_width": ""
      }
     },
     "7c9d77fc5d6f4225abf9a27d3f2284ac": {
      "model_module": "@jupyter-widgets/base",
      "model_module_version": "1.2.0",
      "model_name": "LayoutModel",
      "state": {}
     },
     "7cd31a174a2a4fafb83037544be7b8b7": {
      "model_module": "@jupyter-widgets/controls",
      "model_module_version": "1.5.0",
      "model_name": "ProgressStyleModel",
      "state": {
       "description_width": "initial"
      }
     },
     "7cdd2bc65f7d4ad69f58ab33ddb509e4": {
      "model_module": "@jupyter-widgets/base",
      "model_module_version": "1.2.0",
      "model_name": "LayoutModel",
      "state": {}
     },
     "7cefcb7e92034d13b6a7e0634d9cb76a": {
      "model_module": "@jupyter-widgets/controls",
      "model_module_version": "1.5.0",
      "model_name": "HTMLModel",
      "state": {
       "layout": "IPY_MODEL_0a4016a866d144c3984cd2c5db4cfaaa",
       "style": "IPY_MODEL_9ab029c451e6482c929e1cf407827a0b",
       "value": " 165/165 [01:24&lt;00:00,  1.96it/s]"
      }
     },
     "7cf134ff9b2940e980e3e1ba480bb7d2": {
      "model_module": "@jupyter-widgets/controls",
      "model_module_version": "1.5.0",
      "model_name": "FloatProgressModel",
      "state": {
       "bar_style": "success",
       "description": "[3] 13/15(train): 100%",
       "layout": "IPY_MODEL_2c0102e1aa2f4112a7d2b236cff32a70",
       "max": 493,
       "style": "IPY_MODEL_d8808b953ece4d28b8e60498c89a69d1",
       "value": 493
      }
     },
     "7d024dc86fb541139da2f12a8362871c": {
      "model_module": "@jupyter-widgets/base",
      "model_module_version": "1.2.0",
      "model_name": "LayoutModel",
      "state": {}
     },
     "7d0571e5117449dca814950a9e30573e": {
      "model_module": "@jupyter-widgets/controls",
      "model_module_version": "1.5.0",
      "model_name": "HBoxModel",
      "state": {
       "children": [
        "IPY_MODEL_5f58d06558f1497f8b7d7b1bd1ce8f62",
        "IPY_MODEL_4e0bbd9517504908a1cde34640738637"
       ],
       "layout": "IPY_MODEL_7756e25604eb4ede930a23096796e236"
      }
     },
     "7d39d6f4b65d4f9ba0c370069e6a0f3a": {
      "model_module": "@jupyter-widgets/controls",
      "model_module_version": "1.5.0",
      "model_name": "FloatProgressModel",
      "state": {
       "bar_style": "danger",
       "description": "[2] 1/15(train):   0%",
       "layout": "IPY_MODEL_9eb360dc3aca4898933b0c46a6bdebaa",
       "max": 493,
       "style": "IPY_MODEL_e6fc2f1e7f084886aee3e3192dade0cf",
       "value": 1
      }
     },
     "7d48b500a7b64af995a1641697681b86": {
      "model_module": "@jupyter-widgets/base",
      "model_module_version": "1.2.0",
      "model_name": "LayoutModel",
      "state": {}
     },
     "7d4f3020792c4c1f9825435fc0a589f5": {
      "model_module": "@jupyter-widgets/base",
      "model_module_version": "1.2.0",
      "model_name": "LayoutModel",
      "state": {}
     },
     "7d5115061e8e4f2097fc0e444e221136": {
      "model_module": "@jupyter-widgets/base",
      "model_module_version": "1.2.0",
      "model_name": "LayoutModel",
      "state": {}
     },
     "7d5edc1e5776439eab3e2739ace26434": {
      "model_module": "@jupyter-widgets/controls",
      "model_module_version": "1.5.0",
      "model_name": "FloatProgressModel",
      "state": {
       "bar_style": "success",
       "description": "[0] 2/15(val  ): 100%",
       "layout": "IPY_MODEL_16300f1088cd4ebe9e2d8b04e05e5830",
       "max": 1,
       "style": "IPY_MODEL_62230c465a3d47ef89f94cb8d8760ca9",
       "value": 1
      }
     },
     "7d80c5888f6f4159a4f9e8d56d25bb56": {
      "model_module": "@jupyter-widgets/controls",
      "model_module_version": "1.5.0",
      "model_name": "FloatProgressModel",
      "state": {
       "bar_style": "success",
       "description": "[3] 4/16(val  ): 100%",
       "layout": "IPY_MODEL_f216a25426044b579356e1967395ec68",
       "max": 165,
       "style": "IPY_MODEL_e85a9bf481fa45239d8eab682cd5bf75",
       "value": 165
      }
     },
     "7d8dc3802a4741b9b0f1509752fa0a19": {
      "model_module": "@jupyter-widgets/base",
      "model_module_version": "1.2.0",
      "model_name": "LayoutModel",
      "state": {}
     },
     "7d8e6ee7fcf843a98d0e228a8f7a97eb": {
      "model_module": "@jupyter-widgets/controls",
      "model_module_version": "1.5.0",
      "model_name": "DescriptionStyleModel",
      "state": {
       "description_width": ""
      }
     },
     "7d92429548bd4a93af4ac90fc4459515": {
      "model_module": "@jupyter-widgets/base",
      "model_module_version": "1.2.0",
      "model_name": "LayoutModel",
      "state": {}
     },
     "7d96568b23414ff399f6d62deb39fecc": {
      "model_module": "@jupyter-widgets/controls",
      "model_module_version": "1.5.0",
      "model_name": "ProgressStyleModel",
      "state": {
       "description_width": "initial"
      }
     },
     "7da6a5fce2034a53a9d110b7fb1241bd": {
      "model_module": "@jupyter-widgets/base",
      "model_module_version": "1.2.0",
      "model_name": "LayoutModel",
      "state": {}
     },
     "7dad50c0c82f45faa11db8b9437557d6": {
      "model_module": "@jupyter-widgets/controls",
      "model_module_version": "1.5.0",
      "model_name": "HTMLModel",
      "state": {
       "layout": "IPY_MODEL_baef2218c9074e658878479b33423d9c",
       "style": "IPY_MODEL_16dfea50af6f41bdb24ec49ffad28cb3",
       "value": " 3/3 [00:07&lt;00:00,  2.54s/it]"
      }
     },
     "7dce50f587a345dcb3de37edc6186209": {
      "model_module": "@jupyter-widgets/controls",
      "model_module_version": "1.5.0",
      "model_name": "HBoxModel",
      "state": {
       "children": [
        "IPY_MODEL_3db6f8838c9f49fbb659776ca4f126e9",
        "IPY_MODEL_f7e496863e9d4b4a922af2cd99b8418f"
       ],
       "layout": "IPY_MODEL_8300d0a20b5747fdb4db27688d29a66a"
      }
     },
     "7dd30866e01745c3965afe7487e4775b": {
      "model_module": "@jupyter-widgets/base",
      "model_module_version": "1.2.0",
      "model_name": "LayoutModel",
      "state": {}
     },
     "7dddd82a2ea44129b76a8b6d2ab0a117": {
      "model_module": "@jupyter-widgets/controls",
      "model_module_version": "1.5.0",
      "model_name": "FloatProgressModel",
      "state": {
       "bar_style": "success",
       "description": "[3] 13/16(val  ): 100%",
       "layout": "IPY_MODEL_139f850bbee34245a8be2ec9c3771353",
       "max": 165,
       "style": "IPY_MODEL_3a85ca1ba6d642f285c9d7bc102f4a58",
       "value": 165
      }
     },
     "7de3f9c01b7c4fa083ddbf0f3cc6aabe": {
      "model_module": "@jupyter-widgets/controls",
      "model_module_version": "1.5.0",
      "model_name": "HTMLModel",
      "state": {
       "layout": "IPY_MODEL_3ad5247e108f401fb2aa4afe79cdd401",
       "style": "IPY_MODEL_a0d05364633244c98711246ecf95ce8d",
       "value": " 3/3 [00:06&lt;00:00,  2.15s/it]"
      }
     },
     "7e177db69ee04998bf425dc47fdcc327": {
      "model_module": "@jupyter-widgets/controls",
      "model_module_version": "1.5.0",
      "model_name": "HTMLModel",
      "state": {
       "layout": "IPY_MODEL_24c9098d6ef84e77b282fdf682e34d49",
       "style": "IPY_MODEL_abeaaee1a0734ed4b5202673f8d0305d",
       "value": " 0/3 [00:00&lt;?, ?it/s]"
      }
     },
     "7e31ae2d23f44fb4b16daf689719ccf2": {
      "model_module": "@jupyter-widgets/controls",
      "model_module_version": "1.5.0",
      "model_name": "DescriptionStyleModel",
      "state": {
       "description_width": ""
      }
     },
     "7e42ae51f6b647dbab832ff4d86b04c2": {
      "model_module": "@jupyter-widgets/controls",
      "model_module_version": "1.5.0",
      "model_name": "DescriptionStyleModel",
      "state": {
       "description_width": ""
      }
     },
     "7e4a6b9b4a2548a9a3048a68149dce5c": {
      "model_module": "@jupyter-widgets/controls",
      "model_module_version": "1.5.0",
      "model_name": "DescriptionStyleModel",
      "state": {
       "description_width": ""
      }
     },
     "7e4bfc1ce79b48d59f776bd7418d0ae0": {
      "model_module": "@jupyter-widgets/controls",
      "model_module_version": "1.5.0",
      "model_name": "HBoxModel",
      "state": {
       "children": [
        "IPY_MODEL_2ed65217d96242ad89bfde12c3349384",
        "IPY_MODEL_7b2522a12b1d40da8c648bacdcc6a5c7"
       ],
       "layout": "IPY_MODEL_99650eb1efe24d41b2c5762d02b3eb38"
      }
     },
     "7e566dbcedd0480bb22880290d54e60e": {
      "model_module": "@jupyter-widgets/controls",
      "model_module_version": "1.5.0",
      "model_name": "HBoxModel",
      "state": {
       "children": [
        "IPY_MODEL_7d5edc1e5776439eab3e2739ace26434",
        "IPY_MODEL_6fb8c90de32440b1a842ca8ebfa38c3a"
       ],
       "layout": "IPY_MODEL_2c6a92f01cda46b482e836ac3405cdd2"
      }
     },
     "7e56f52696344e568885568553d8b8b5": {
      "model_module": "@jupyter-widgets/base",
      "model_module_version": "1.2.0",
      "model_name": "LayoutModel",
      "state": {}
     },
     "7e857ff5d74946ada3797855ff734bfc": {
      "model_module": "@jupyter-widgets/controls",
      "model_module_version": "1.5.0",
      "model_name": "HTMLModel",
      "state": {
       "layout": "IPY_MODEL_f9bc65b8bb12425b817de67da564550d",
       "style": "IPY_MODEL_9383baef6656438286b22324e2b6dcaa",
       "value": " 3/3 [00:07&lt;00:00,  2.60s/it]"
      }
     },
     "7e92e5993a3e4ef38922edf2ec7f67ab": {
      "model_module": "@jupyter-widgets/base",
      "model_module_version": "1.2.0",
      "model_name": "LayoutModel",
      "state": {}
     },
     "7ea85506907544e990d790e1ecbc69c2": {
      "model_module": "@jupyter-widgets/controls",
      "model_module_version": "1.5.0",
      "model_name": "DescriptionStyleModel",
      "state": {
       "description_width": ""
      }
     },
     "7eb04bb1ba49434f8e44a2ebe423ca8f": {
      "model_module": "@jupyter-widgets/controls",
      "model_module_version": "1.5.0",
      "model_name": "HBoxModel",
      "state": {
       "children": [
        "IPY_MODEL_70ba1598675149b495f63bbdee3fe550",
        "IPY_MODEL_1df860ddbc99449caf266c3cb1478887"
       ],
       "layout": "IPY_MODEL_a223c92652664fe2a0ab1f88742cf4f1"
      }
     },
     "7ed0b9d53b7f47098b3c8ff1aff7bdd2": {
      "model_module": "@jupyter-widgets/controls",
      "model_module_version": "1.5.0",
      "model_name": "FloatProgressModel",
      "state": {
       "bar_style": "success",
       "description": "[2] 2/2(train): 100%",
       "layout": "IPY_MODEL_59df5b3e64aa44fda1027db1cea40c2b",
       "max": 3,
       "style": "IPY_MODEL_110b489acdc2484cb28fe72e7251adaf",
       "value": 3
      }
     },
     "7ee3fd19368c47b39e47c3bd7d0f3ddb": {
      "model_module": "@jupyter-widgets/controls",
      "model_module_version": "1.5.0",
      "model_name": "FloatProgressModel",
      "state": {
       "bar_style": "success",
       "description": "[3] 11/15(val  ): 100%",
       "layout": "IPY_MODEL_e8944c0b732041409977d095f6a6358e",
       "max": 165,
       "style": "IPY_MODEL_925a2d528c774d9583e572ce6063d5af",
       "value": 165
      }
     },
     "7f13a297149c4f95975cc4a4733e5826": {
      "model_module": "@jupyter-widgets/base",
      "model_module_version": "1.2.0",
      "model_name": "LayoutModel",
      "state": {}
     },
     "7f17e8d4da6249aa94e46c84b438237d": {
      "model_module": "@jupyter-widgets/controls",
      "model_module_version": "1.5.0",
      "model_name": "HTMLModel",
      "state": {
       "layout": "IPY_MODEL_622b38a3bc574e80bfd9c0f83c1ccd37",
       "style": "IPY_MODEL_91a03d13fac2496eb22d0e5f4c6e42d9",
       "value": " 3/3 [00:07&lt;00:00,  2.58s/it]"
      }
     },
     "7f39640f677e463f9d3e578b1617a5a4": {
      "model_module": "@jupyter-widgets/controls",
      "model_module_version": "1.5.0",
      "model_name": "ProgressStyleModel",
      "state": {
       "description_width": "initial"
      }
     },
     "7f39d4d847734ce98602ecca486603e2": {
      "model_module": "@jupyter-widgets/controls",
      "model_module_version": "1.5.0",
      "model_name": "DescriptionStyleModel",
      "state": {
       "description_width": ""
      }
     },
     "7f5dcec85cf442e692cfb6090fc7ef74": {
      "model_module": "@jupyter-widgets/controls",
      "model_module_version": "1.5.0",
      "model_name": "FloatProgressModel",
      "state": {
       "bar_style": "success",
       "description": "100%",
       "layout": "IPY_MODEL_0d02231d23094399b888c88de9c8ffd3",
       "max": 165,
       "style": "IPY_MODEL_727760d0c33846438aee5c566eb48b4d",
       "value": 165
      }
     },
     "7f5f49e0fa714e85a04a6a719dd3e4f2": {
      "model_module": "@jupyter-widgets/controls",
      "model_module_version": "1.5.0",
      "model_name": "ProgressStyleModel",
      "state": {
       "description_width": "initial"
      }
     },
     "7f81727d670240e596fd719e47e38ef3": {
      "model_module": "@jupyter-widgets/controls",
      "model_module_version": "1.5.0",
      "model_name": "DescriptionStyleModel",
      "state": {
       "description_width": ""
      }
     },
     "7f91fc21b6c14d8da30634df472e177a": {
      "model_module": "@jupyter-widgets/controls",
      "model_module_version": "1.5.0",
      "model_name": "ProgressStyleModel",
      "state": {
       "description_width": "initial"
      }
     },
     "7fa8fa6d6b334320ab5e777cd4d415b5": {
      "model_module": "@jupyter-widgets/controls",
      "model_module_version": "1.5.0",
      "model_name": "FloatProgressModel",
      "state": {
       "bar_style": "success",
       "description": "[2] 8/15(train): 100%",
       "layout": "IPY_MODEL_2c9dcf23be72447cacc7c45ada62b1d0",
       "max": 493,
       "style": "IPY_MODEL_6de3592271654fda922a5ade7396b9fb",
       "value": 493
      }
     },
     "7fbccd373d74489ab1e5d7ef3425e3ca": {
      "model_module": "@jupyter-widgets/controls",
      "model_module_version": "1.5.0",
      "model_name": "HBoxModel",
      "state": {
       "children": [
        "IPY_MODEL_3d9803a127fa4d51b95e9b71fcf15cbb",
        "IPY_MODEL_2a42768da8754459abb8fbe2048e7650"
       ],
       "layout": "IPY_MODEL_349716feede04a0aa14a0cf5189aa025"
      }
     },
     "7fed5b8a0aad4ec39b12928a7cc60fd9": {
      "model_module": "@jupyter-widgets/base",
      "model_module_version": "1.2.0",
      "model_name": "LayoutModel",
      "state": {}
     },
     "7ff28395d27849d4890d82e44d787fa9": {
      "model_module": "@jupyter-widgets/controls",
      "model_module_version": "1.5.0",
      "model_name": "DescriptionStyleModel",
      "state": {
       "description_width": ""
      }
     },
     "7ffe6a566eec46659b8d7d0052635362": {
      "model_module": "@jupyter-widgets/controls",
      "model_module_version": "1.5.0",
      "model_name": "HBoxModel",
      "state": {
       "children": [
        "IPY_MODEL_980ad1afe0bc441bb5a737fc8c4ee901",
        "IPY_MODEL_86ffd1b1f2cd437281ffef0e5530f932"
       ],
       "layout": "IPY_MODEL_888dab9f6a8d482ebb75b515a2e0a2ed"
      }
     },
     "8020dbb48e83413cb8bb9e8160b51524": {
      "model_module": "@jupyter-widgets/controls",
      "model_module_version": "1.5.0",
      "model_name": "HBoxModel",
      "state": {
       "children": [
        "IPY_MODEL_99645e1f3b43417f86e5d47377c9a2d3",
        "IPY_MODEL_3149f54f0db94d42b900448e27762d7b"
       ],
       "layout": "IPY_MODEL_1b120e05297e40d6b0f7815bf7156864"
      }
     },
     "803daa302e314f80b21719c43d130db0": {
      "model_module": "@jupyter-widgets/controls",
      "model_module_version": "1.5.0",
      "model_name": "HTMLModel",
      "state": {
       "layout": "IPY_MODEL_c57568d755864e779bdd5987ea3618ae",
       "style": "IPY_MODEL_203c654e564c4f9bac153d19d6aba42d",
       "value": " 165/165 [01:37&lt;00:00,  1.69it/s]"
      }
     },
     "803f7d4888ce4a0286d7689b75a5989a": {
      "model_module": "@jupyter-widgets/controls",
      "model_module_version": "1.5.0",
      "model_name": "HBoxModel",
      "state": {
       "children": [
        "IPY_MODEL_b8d8d0820af7408590f80e9a7a20efea",
        "IPY_MODEL_a2deaf2a0cd245c9bcafd978e56dbb49"
       ],
       "layout": "IPY_MODEL_30e1b801e41a4af7ac61e84ade04e2d3"
      }
     },
     "8044ad4bae004651b999803964b901df": {
      "model_module": "@jupyter-widgets/controls",
      "model_module_version": "1.5.0",
      "model_name": "FloatProgressModel",
      "state": {
       "bar_style": "success",
       "description": "[1] 1/2(val  ): 100%",
       "layout": "IPY_MODEL_3cb5df6d0c2244f2b7738a02aaf63f31",
       "max": 1,
       "style": "IPY_MODEL_313b11559aa34cf28087992959d8b9c9",
       "value": 1
      }
     },
     "806f28ada0914b28af34c82c8e01961f": {
      "model_module": "@jupyter-widgets/base",
      "model_module_version": "1.2.0",
      "model_name": "LayoutModel",
      "state": {}
     },
     "80964f49c28b4f6aaac8981ebb7d491e": {
      "model_module": "@jupyter-widgets/controls",
      "model_module_version": "1.5.0",
      "model_name": "FloatProgressModel",
      "state": {
       "bar_style": "success",
       "description": "[1] 7/15(val  ): 100%",
       "layout": "IPY_MODEL_cd37b18c90274a6cafc3134428c2190b",
       "max": 1,
       "style": "IPY_MODEL_de85af03b2d544b8a676a51a7761d7cc",
       "value": 1
      }
     },
     "80992d1f9067436e9efb3b3efe0acf63": {
      "model_module": "@jupyter-widgets/controls",
      "model_module_version": "1.5.0",
      "model_name": "FloatProgressModel",
      "state": {
       "bar_style": "success",
       "description": "[1] 2/16(train): 100%",
       "layout": "IPY_MODEL_cd535465d7dc4f35a97125b9531e05cb",
       "max": 493,
       "style": "IPY_MODEL_6d3b19b8b4a7460cbd16d525e457e627",
       "value": 493
      }
     },
     "80a3a961262945e495c702931da1c839": {
      "model_module": "@jupyter-widgets/controls",
      "model_module_version": "1.5.0",
      "model_name": "HTMLModel",
      "state": {
       "layout": "IPY_MODEL_ad3324e283614c7faae0a03d7ed2be9f",
       "style": "IPY_MODEL_2181c944ecf74b44b8ee03f5a7ff6326",
       "value": " 0/493 [00:03&lt;?, ?it/s]"
      }
     },
     "80bcc5ac50404245a8365e017e6a91fa": {
      "model_module": "@jupyter-widgets/base",
      "model_module_version": "1.2.0",
      "model_name": "LayoutModel",
      "state": {}
     },
     "80fdc8c7a7894951bc1c3597187fa578": {
      "model_module": "@jupyter-widgets/base",
      "model_module_version": "1.2.0",
      "model_name": "LayoutModel",
      "state": {}
     },
     "81013066d5f34a4683b381d514f42fdc": {
      "model_module": "@jupyter-widgets/controls",
      "model_module_version": "1.5.0",
      "model_name": "ProgressStyleModel",
      "state": {
       "description_width": "initial"
      }
     },
     "8105a9bb4a114cf9a558e07e4fbc2a6b": {
      "model_module": "@jupyter-widgets/controls",
      "model_module_version": "1.5.0",
      "model_name": "HBoxModel",
      "state": {
       "children": [
        "IPY_MODEL_9c8a5e3e71474f1d9847031fe2ed7cd3",
        "IPY_MODEL_c1bf8ece2e67407a8a9f35c1b4b794a6"
       ],
       "layout": "IPY_MODEL_4da47b0e8d62407fb546178d2929252b"
      }
     },
     "8106388a64834ceba3d3daefb6521894": {
      "model_module": "@jupyter-widgets/controls",
      "model_module_version": "1.5.0",
      "model_name": "HBoxModel",
      "state": {
       "children": [
        "IPY_MODEL_7c44d4ff6b924e078753165c117e6b5e",
        "IPY_MODEL_af78458405454744965127bcbe441d6f"
       ],
       "layout": "IPY_MODEL_8eb7b5a2fbfe4acc98ee4dc933f3a29a"
      }
     },
     "8117fe6739a64faa8fbac3d65014c0a5": {
      "model_module": "@jupyter-widgets/controls",
      "model_module_version": "1.5.0",
      "model_name": "ProgressStyleModel",
      "state": {
       "description_width": "initial"
      }
     },
     "811e3aa3d3494f7f81236a6fa135ead4": {
      "model_module": "@jupyter-widgets/base",
      "model_module_version": "1.2.0",
      "model_name": "LayoutModel",
      "state": {}
     },
     "8135b0bb71e24148a6cd5fbfe19bb1ce": {
      "model_module": "@jupyter-widgets/controls",
      "model_module_version": "1.5.0",
      "model_name": "DescriptionStyleModel",
      "state": {
       "description_width": ""
      }
     },
     "814b26805ce84180b196cce955dfd8fc": {
      "model_module": "@jupyter-widgets/base",
      "model_module_version": "1.2.0",
      "model_name": "LayoutModel",
      "state": {}
     },
     "816d900f53b9442e9eab05c26c64bdb3": {
      "model_module": "@jupyter-widgets/controls",
      "model_module_version": "1.5.0",
      "model_name": "DescriptionStyleModel",
      "state": {
       "description_width": ""
      }
     },
     "81933fc2d32e4f4e8a7eeca39091e38a": {
      "model_module": "@jupyter-widgets/controls",
      "model_module_version": "1.5.0",
      "model_name": "HBoxModel",
      "state": {
       "children": [
        "IPY_MODEL_2db4263d693345c180a3a214c68cc111",
        "IPY_MODEL_a319de5f06ac419584594fc7bdf149da"
       ],
       "layout": "IPY_MODEL_ef7ed001f4f34cbfa2835f7f4359a6c2"
      }
     },
     "819eee5e88c14d4cb1a5fafe04e67de5": {
      "model_module": "@jupyter-widgets/controls",
      "model_module_version": "1.5.0",
      "model_name": "ProgressStyleModel",
      "state": {
       "description_width": "initial"
      }
     },
     "81a9aea728de4db4ad6cc87c22c8dc55": {
      "model_module": "@jupyter-widgets/controls",
      "model_module_version": "1.5.0",
      "model_name": "HTMLModel",
      "state": {
       "layout": "IPY_MODEL_fd113c2751c846b18eff85b89b2a03e4",
       "style": "IPY_MODEL_f28a4c7caeb64b3aa416e71bc60b0d65",
       "value": " 3/3 [00:09&lt;00:00,  3.19s/it]"
      }
     },
     "81c9fed7ce1b428da8469bc8a3aec57c": {
      "model_module": "@jupyter-widgets/base",
      "model_module_version": "1.2.0",
      "model_name": "LayoutModel",
      "state": {}
     },
     "820b4d5ac97c4951a310fc02c4a76e10": {
      "model_module": "@jupyter-widgets/controls",
      "model_module_version": "1.5.0",
      "model_name": "HTMLModel",
      "state": {
       "layout": "IPY_MODEL_13040cc9c49d4d61b2462ea7a58d3f09",
       "style": "IPY_MODEL_05e3e2e4a5a547b99e5078eb108ae136",
       "value": " 493/493 [3:10:21&lt;00:00, 23.17s/it]"
      }
     },
     "8219760fdaa944438ba07a8ca0b0d723": {
      "model_module": "@jupyter-widgets/controls",
      "model_module_version": "1.5.0",
      "model_name": "FloatProgressModel",
      "state": {
       "bar_style": "success",
       "description": "[3] 16/16(train): 100%",
       "layout": "IPY_MODEL_575c0289bd994056b4632fb1f3e1b92d",
       "max": 493,
       "style": "IPY_MODEL_3b873f99757b4e309be49d8299714486",
       "value": 493
      }
     },
     "8221cd03c4e14554a036da73a321f954": {
      "model_module": "@jupyter-widgets/controls",
      "model_module_version": "1.5.0",
      "model_name": "ProgressStyleModel",
      "state": {
       "description_width": "initial"
      }
     },
     "82251f41212d4c9da2a1612ac99a019b": {
      "model_module": "@jupyter-widgets/controls",
      "model_module_version": "1.5.0",
      "model_name": "FloatProgressModel",
      "state": {
       "bar_style": "success",
       "description": "[3] 1/2(val  ): 100%",
       "layout": "IPY_MODEL_ac08d8a3a596427b97cf5099e7135ef3",
       "max": 1,
       "style": "IPY_MODEL_010b129a4ea140898b91eb32cbe3a638",
       "value": 1
      }
     },
     "822946ece10b4bababa59a556844b440": {
      "model_module": "@jupyter-widgets/controls",
      "model_module_version": "1.5.0",
      "model_name": "DescriptionStyleModel",
      "state": {
       "description_width": ""
      }
     },
     "823aa42d9f4646d6b8aed606bef9ec40": {
      "model_module": "@jupyter-widgets/controls",
      "model_module_version": "1.5.0",
      "model_name": "HTMLModel",
      "state": {
       "layout": "IPY_MODEL_4caedb2b12d0441d8c2b902d6af4401a",
       "style": "IPY_MODEL_44986f80e91346e5b87b96ea5e8683d4",
       "value": " 3/3 [00:07&lt;00:00,  2.56s/it]"
      }
     },
     "827e99ce25ef40a1a2cdbe2e120f35fd": {
      "model_module": "@jupyter-widgets/base",
      "model_module_version": "1.2.0",
      "model_name": "LayoutModel",
      "state": {}
     },
     "82852f909d8b4ad097998bf5ace55317": {
      "model_module": "@jupyter-widgets/controls",
      "model_module_version": "1.5.0",
      "model_name": "DescriptionStyleModel",
      "state": {
       "description_width": ""
      }
     },
     "829789c00a29486fa845cf18377e27d9": {
      "model_module": "@jupyter-widgets/controls",
      "model_module_version": "1.5.0",
      "model_name": "ProgressStyleModel",
      "state": {
       "description_width": "initial"
      }
     },
     "82a16ecb9d5f4b5a966e195fae0e686d": {
      "model_module": "@jupyter-widgets/base",
      "model_module_version": "1.2.0",
      "model_name": "LayoutModel",
      "state": {}
     },
     "82a8f2e5d70d4117b004724ad5917d2c": {
      "model_module": "@jupyter-widgets/base",
      "model_module_version": "1.2.0",
      "model_name": "LayoutModel",
      "state": {}
     },
     "82b07d90363046fbbc767248b2f35d20": {
      "model_module": "@jupyter-widgets/controls",
      "model_module_version": "1.5.0",
      "model_name": "ProgressStyleModel",
      "state": {
       "description_width": "initial"
      }
     },
     "82c9843f0d3f49b48410609694e9639b": {
      "model_module": "@jupyter-widgets/base",
      "model_module_version": "1.2.0",
      "model_name": "LayoutModel",
      "state": {}
     },
     "82cace1779474e83bcfe4c29d82a8a19": {
      "model_module": "@jupyter-widgets/controls",
      "model_module_version": "1.5.0",
      "model_name": "HTMLModel",
      "state": {
       "layout": "IPY_MODEL_90fbef26ad604c8e9eb428124acf0406",
       "style": "IPY_MODEL_74f6121ba19c4461aa4fb8baf44e501b",
       "value": " 1/1 [00:00&lt;00:00,  1.68it/s]"
      }
     },
     "82cdf9bbafdd4ac5bf16bf342403ceb0": {
      "model_module": "@jupyter-widgets/base",
      "model_module_version": "1.2.0",
      "model_name": "LayoutModel",
      "state": {}
     },
     "8300d0a20b5747fdb4db27688d29a66a": {
      "model_module": "@jupyter-widgets/base",
      "model_module_version": "1.2.0",
      "model_name": "LayoutModel",
      "state": {}
     },
     "830b693cb4b94c5a8b49a25198cd1ad9": {
      "model_module": "@jupyter-widgets/controls",
      "model_module_version": "1.5.0",
      "model_name": "ProgressStyleModel",
      "state": {
       "description_width": "initial"
      }
     },
     "83277906c7de468a830f5128d9600693": {
      "model_module": "@jupyter-widgets/controls",
      "model_module_version": "1.5.0",
      "model_name": "HBoxModel",
      "state": {
       "children": [
        "IPY_MODEL_23dc0a7d7e384908bb78fff171c566a1",
        "IPY_MODEL_104160929f154caf843171908cdf9f2a"
       ],
       "layout": "IPY_MODEL_996374e144d4481da504d330ba74cef6"
      }
     },
     "83277a46c35c4d23966791be1e69e3ff": {
      "model_module": "@jupyter-widgets/controls",
      "model_module_version": "1.5.0",
      "model_name": "ProgressStyleModel",
      "state": {
       "description_width": "initial"
      }
     },
     "83686da2c3194353a6e620de6c968e93": {
      "model_module": "@jupyter-widgets/base",
      "model_module_version": "1.2.0",
      "model_name": "LayoutModel",
      "state": {}
     },
     "836edcd086fa478a9a9f1ad717a38e6c": {
      "model_module": "@jupyter-widgets/controls",
      "model_module_version": "1.5.0",
      "model_name": "HBoxModel",
      "state": {
       "children": [
        "IPY_MODEL_52d9186bc5ca46628b81d5ad28c1bf10",
        "IPY_MODEL_3b910714be2e4af9b998399b70f53739"
       ],
       "layout": "IPY_MODEL_53d3b54a4fb543f68bd3484396e3658f"
      }
     },
     "839b84e4966f4401a09701dff95365d2": {
      "model_module": "@jupyter-widgets/base",
      "model_module_version": "1.2.0",
      "model_name": "LayoutModel",
      "state": {}
     },
     "83ca0663bb2b4f2aaf81c08068c2bb66": {
      "model_module": "@jupyter-widgets/base",
      "model_module_version": "1.2.0",
      "model_name": "LayoutModel",
      "state": {}
     },
     "83cd5f965f3b4a4295fa38314b9f4647": {
      "model_module": "@jupyter-widgets/controls",
      "model_module_version": "1.5.0",
      "model_name": "ProgressStyleModel",
      "state": {
       "description_width": "initial"
      }
     },
     "83d3b71251f9400897cda9f3629c4af2": {
      "model_module": "@jupyter-widgets/base",
      "model_module_version": "1.2.0",
      "model_name": "LayoutModel",
      "state": {}
     },
     "840e43ad5bb74969ad2ae3f348973b61": {
      "model_module": "@jupyter-widgets/controls",
      "model_module_version": "1.5.0",
      "model_name": "ProgressStyleModel",
      "state": {
       "description_width": "initial"
      }
     },
     "8412d8e9e9ce459fa6776c0a36bb7fda": {
      "model_module": "@jupyter-widgets/controls",
      "model_module_version": "1.5.0",
      "model_name": "HBoxModel",
      "state": {
       "children": [
        "IPY_MODEL_7c13fd1238d948ceacbdbafb0c96a7b1",
        "IPY_MODEL_854e2238da014902a4a5a3310c9921bb"
       ],
       "layout": "IPY_MODEL_cf76081a296f46d28daff34084f92da5"
      }
     },
     "84151d9af71f4f8b82d67e48d4792e8c": {
      "model_module": "@jupyter-widgets/base",
      "model_module_version": "1.2.0",
      "model_name": "LayoutModel",
      "state": {}
     },
     "8426c8ae00874cb2b91eaa752a1c13ab": {
      "model_module": "@jupyter-widgets/controls",
      "model_module_version": "1.5.0",
      "model_name": "HBoxModel",
      "state": {
       "children": [
        "IPY_MODEL_4bd4f5cd024d4d21af23c02f7e94f97e",
        "IPY_MODEL_d28ff0eefb3045b09c086161973c549e"
       ],
       "layout": "IPY_MODEL_5d79727ec28046f3bb890b4283baa727"
      }
     },
     "842977775d9548db8eb58666d2b78afa": {
      "model_module": "@jupyter-widgets/base",
      "model_module_version": "1.2.0",
      "model_name": "LayoutModel",
      "state": {}
     },
     "843b0cb6c8614ebcb83d9100a5abab2a": {
      "model_module": "@jupyter-widgets/controls",
      "model_module_version": "1.5.0",
      "model_name": "FloatProgressModel",
      "state": {
       "bar_style": "success",
       "description": "[1] 11/15(val  ): 100%",
       "layout": "IPY_MODEL_549d21345d544b8d85bb1046006335ee",
       "max": 1,
       "style": "IPY_MODEL_bfaaa1d807da4df1a2d68f68d17294dc",
       "value": 1
      }
     },
     "845d4a9ac9cb4cac9df351b44aa9d82c": {
      "model_module": "@jupyter-widgets/controls",
      "model_module_version": "1.5.0",
      "model_name": "HBoxModel",
      "state": {
       "children": [
        "IPY_MODEL_081abbcbdbea4bab9457a92729207b16",
        "IPY_MODEL_6caddd3d1cee4ab38e589cdaa59f22d9"
       ],
       "layout": "IPY_MODEL_b9095ac234b740d8af5fb6d5d3c7069b"
      }
     },
     "8469fa5ed4964f43846e8e167ff23510": {
      "model_module": "@jupyter-widgets/controls",
      "model_module_version": "1.5.0",
      "model_name": "ProgressStyleModel",
      "state": {
       "description_width": "initial"
      }
     },
     "847724cc811a4bb0b21c1596a9e036a4": {
      "model_module": "@jupyter-widgets/controls",
      "model_module_version": "1.5.0",
      "model_name": "HTMLModel",
      "state": {
       "layout": "IPY_MODEL_78eac640c66747bdaee8d4cc5f87b0ff",
       "style": "IPY_MODEL_64825f24e48346588c59f013b1812e3c",
       "value": " 3/3 [00:06&lt;00:00,  2.16s/it]"
      }
     },
     "8494d24558954394ba597bd1f0c6b226": {
      "model_module": "@jupyter-widgets/base",
      "model_module_version": "1.2.0",
      "model_name": "LayoutModel",
      "state": {}
     },
     "84bb438fdbb04b35b94d4abc000a1467": {
      "model_module": "@jupyter-widgets/base",
      "model_module_version": "1.2.0",
      "model_name": "LayoutModel",
      "state": {}
     },
     "84d1109c39c247fe9f0c42ac0df49262": {
      "model_module": "@jupyter-widgets/base",
      "model_module_version": "1.2.0",
      "model_name": "LayoutModel",
      "state": {}
     },
     "85061a3cc1bb4c5ca494ce2aa61d18e8": {
      "model_module": "@jupyter-widgets/controls",
      "model_module_version": "1.5.0",
      "model_name": "HTMLModel",
      "state": {
       "layout": "IPY_MODEL_4ff67b31bdab4ed289c8650d13859e01",
       "style": "IPY_MODEL_6d7651cda0174778ad0656ecb2771785",
       "value": " 165/165 [00:35&lt;00:00,  4.59it/s]"
      }
     },
     "8530c4e4ff414723b365b13122dd9548": {
      "model_module": "@jupyter-widgets/controls",
      "model_module_version": "1.5.0",
      "model_name": "HBoxModel",
      "state": {
       "children": [
        "IPY_MODEL_87de2782b4de4de1ae7af47e6b53fa91",
        "IPY_MODEL_de7dd45645334e51a1f7f679dd1bbc0d"
       ],
       "layout": "IPY_MODEL_06b927914b134b12a4ecdf5ce3fe2dbf"
      }
     },
     "854e2238da014902a4a5a3310c9921bb": {
      "model_module": "@jupyter-widgets/controls",
      "model_module_version": "1.5.0",
      "model_name": "HTMLModel",
      "state": {
       "layout": "IPY_MODEL_9e4e278add3c420f9f34355d4eba5575",
       "style": "IPY_MODEL_a8ac0eb7f3a34e6ca9f4bc17ba0a9ef7",
       "value": " 1/1 [00:06&lt;00:00,  6.96s/it]"
      }
     },
     "855d050b046148fb8318be943abbac4b": {
      "model_module": "@jupyter-widgets/controls",
      "model_module_version": "1.5.0",
      "model_name": "DescriptionStyleModel",
      "state": {
       "description_width": ""
      }
     },
     "855d9431a16a4a2594e7c7aecfe7c648": {
      "model_module": "@jupyter-widgets/base",
      "model_module_version": "1.2.0",
      "model_name": "LayoutModel",
      "state": {}
     },
     "8572728350644e1e803d8b74832d5fa8": {
      "model_module": "@jupyter-widgets/controls",
      "model_module_version": "1.5.0",
      "model_name": "HTMLModel",
      "state": {
       "layout": "IPY_MODEL_c47a5e4de945400ab031013d5b4f763d",
       "style": "IPY_MODEL_db0c3271a6f745e9a270fa18e5a7981d",
       "value": " 165/165 [23:50&lt;00:00,  8.67s/it]"
      }
     },
     "85ac4f1db7b84382bd8e234db919a0c8": {
      "model_module": "@jupyter-widgets/base",
      "model_module_version": "1.2.0",
      "model_name": "LayoutModel",
      "state": {}
     },
     "85ca67185ab641e8962f65c13fdeb5a8": {
      "model_module": "@jupyter-widgets/base",
      "model_module_version": "1.2.0",
      "model_name": "LayoutModel",
      "state": {}
     },
     "85d112099ce148b1837356c9cb51f23c": {
      "model_module": "@jupyter-widgets/base",
      "model_module_version": "1.2.0",
      "model_name": "LayoutModel",
      "state": {}
     },
     "85f49227526c45dd9af9db6f87290eb8": {
      "model_module": "@jupyter-widgets/controls",
      "model_module_version": "1.5.0",
      "model_name": "HBoxModel",
      "state": {
       "children": [
        "IPY_MODEL_d228a4ff5f0c4afd81bacbf5c70268f5",
        "IPY_MODEL_29c9f671d310440194aa13a535406562"
       ],
       "layout": "IPY_MODEL_fd39f1ffbfc54bec9358aa9119ce8d85"
      }
     },
     "861bb09b2bbd432da12c5383e3f5f707": {
      "model_module": "@jupyter-widgets/base",
      "model_module_version": "1.2.0",
      "model_name": "LayoutModel",
      "state": {}
     },
     "8622294d5c524ac488057f89b26d4253": {
      "model_module": "@jupyter-widgets/base",
      "model_module_version": "1.2.0",
      "model_name": "LayoutModel",
      "state": {}
     },
     "86438f0468b94a18851766fd253b7e8a": {
      "model_module": "@jupyter-widgets/controls",
      "model_module_version": "1.5.0",
      "model_name": "HBoxModel",
      "state": {
       "children": [
        "IPY_MODEL_b4e1703dcc0d4dd7b5a634f149475721",
        "IPY_MODEL_ddd7acbd8e1246abbf6c7adf1b421c62"
       ],
       "layout": "IPY_MODEL_2e6fe4cb50654e5ba502a40427e96838"
      }
     },
     "8647aca6de4f4d4aaa0133644bc0a078": {
      "model_module": "@jupyter-widgets/controls",
      "model_module_version": "1.5.0",
      "model_name": "HBoxModel",
      "state": {
       "children": [
        "IPY_MODEL_5d8c2cf8dc614163aa9c9a68c981432c",
        "IPY_MODEL_b48d9ea41774449da38a078dad21dfe5"
       ],
       "layout": "IPY_MODEL_a086a6c08b764d83b95be70e84bca87f"
      }
     },
     "864ed5704d064fa68f583914889365c0": {
      "model_module": "@jupyter-widgets/controls",
      "model_module_version": "1.5.0",
      "model_name": "HTMLModel",
      "state": {
       "layout": "IPY_MODEL_5a958f43195849258a14e69fd32e3875",
       "style": "IPY_MODEL_7bf80741b2a24e50b8e4815dade15792",
       "value": " 165/165 [01:31&lt;00:00,  1.81it/s]"
      }
     },
     "86729fb601ef4d349162bf34760a6755": {
      "model_module": "@jupyter-widgets/base",
      "model_module_version": "1.2.0",
      "model_name": "LayoutModel",
      "state": {}
     },
     "867c03fba8d14f129c743db572923a4b": {
      "model_module": "@jupyter-widgets/controls",
      "model_module_version": "1.5.0",
      "model_name": "FloatProgressModel",
      "state": {
       "bar_style": "success",
       "description": "[3] 3/15(val  ): 100%",
       "layout": "IPY_MODEL_e0a8599719344d4bb87b4a1e2a1ce369",
       "max": 165,
       "style": "IPY_MODEL_3368a1a38ce4499db7f1cdbec2c5ac28",
       "value": 165
      }
     },
     "86a818abc4674ac2b73b1aa8887e1da5": {
      "model_module": "@jupyter-widgets/controls",
      "model_module_version": "1.5.0",
      "model_name": "DescriptionStyleModel",
      "state": {
       "description_width": ""
      }
     },
     "86bfaf3dd4b34992b121f37593cdd8b8": {
      "model_module": "@jupyter-widgets/base",
      "model_module_version": "1.2.0",
      "model_name": "LayoutModel",
      "state": {}
     },
     "86dc9624cdb447f786b1f1bc4ff0ed1f": {
      "model_module": "@jupyter-widgets/controls",
      "model_module_version": "1.5.0",
      "model_name": "HTMLModel",
      "state": {
       "layout": "IPY_MODEL_86729fb601ef4d349162bf34760a6755",
       "style": "IPY_MODEL_be6e149fb2ee4720a94b808667d01ba4",
       "value": " 493/493 [17:42&lt;00:00,  2.16s/it]"
      }
     },
     "86f7af6c0f9d4420ac5bde0c889424b8": {
      "model_module": "@jupyter-widgets/controls",
      "model_module_version": "1.5.0",
      "model_name": "HTMLModel",
      "state": {
       "layout": "IPY_MODEL_f0e8b03d7b86455ca62edc0dff866711",
       "style": "IPY_MODEL_61250cfd548d476fa9f5f972470734f1",
       "value": " 10/493 [00:48&lt;39:03,  4.85s/it]"
      }
     },
     "86ffd1b1f2cd437281ffef0e5530f932": {
      "model_module": "@jupyter-widgets/controls",
      "model_module_version": "1.5.0",
      "model_name": "HTMLModel",
      "state": {
       "layout": "IPY_MODEL_c90da9b534234812a30f2bbd4e3426e9",
       "style": "IPY_MODEL_6a0dc7debf6c46a588307608f53bd9a6",
       "value": " 165/165 [01:02&lt;00:00,  2.63it/s]"
      }
     },
     "8721ec488ccb4f438f62569d7ccd0e10": {
      "model_module": "@jupyter-widgets/controls",
      "model_module_version": "1.5.0",
      "model_name": "HTMLModel",
      "state": {
       "layout": "IPY_MODEL_672c89ae2a4d460b9077b335e7c3ef82",
       "style": "IPY_MODEL_226c3a98018e46de8155ceed690a7b48",
       "value": " 165/165 [1:06:29&lt;00:00, 24.18s/it]"
      }
     },
     "872936a59dcb433086598f8d21475170": {
      "model_module": "@jupyter-widgets/controls",
      "model_module_version": "1.5.0",
      "model_name": "FloatProgressModel",
      "state": {
       "bar_style": "success",
       "description": "[0] 1/2(train): 100%",
       "layout": "IPY_MODEL_18d269f4bde24121bd4cc8f7f23cc299",
       "max": 3,
       "style": "IPY_MODEL_5ccf7dcc291048de997532da0f9216c4",
       "value": 3
      }
     },
     "8754b6dfcd624508b995ebbb664f3beb": {
      "model_module": "@jupyter-widgets/base",
      "model_module_version": "1.2.0",
      "model_name": "LayoutModel",
      "state": {}
     },
     "875f2028ba854b98bdfd7eaf7aed29b7": {
      "model_module": "@jupyter-widgets/controls",
      "model_module_version": "1.5.0",
      "model_name": "FloatProgressModel",
      "state": {
       "bar_style": "success",
       "description": "[2] 1/16(train): 100%",
       "layout": "IPY_MODEL_913597822f4346508c971160cc42dd58",
       "max": 493,
       "style": "IPY_MODEL_829789c00a29486fa845cf18377e27d9",
       "value": 493
      }
     },
     "87815bf52662417b83d6f287d853e853": {
      "model_module": "@jupyter-widgets/controls",
      "model_module_version": "1.5.0",
      "model_name": "ProgressStyleModel",
      "state": {
       "description_width": "initial"
      }
     },
     "87966e9f17124e3baf9b4f851c862630": {
      "model_module": "@jupyter-widgets/base",
      "model_module_version": "1.2.0",
      "model_name": "LayoutModel",
      "state": {}
     },
     "87de2782b4de4de1ae7af47e6b53fa91": {
      "model_module": "@jupyter-widgets/controls",
      "model_module_version": "1.5.0",
      "model_name": "FloatProgressModel",
      "state": {
       "bar_style": "danger",
       "description": "[0] 1/15(train):   0%",
       "layout": "IPY_MODEL_4d8f4f87d4e74c97b90ca271047d32ce",
       "max": 3,
       "style": "IPY_MODEL_218551e2c5f24218ad20b03a3cc36e28"
      }
     },
     "880b9ffede58407883d6082409600c68": {
      "model_module": "@jupyter-widgets/base",
      "model_module_version": "1.2.0",
      "model_name": "LayoutModel",
      "state": {}
     },
     "8814dddaf5804525ae50990ca62f982c": {
      "model_module": "@jupyter-widgets/controls",
      "model_module_version": "1.5.0",
      "model_name": "ProgressStyleModel",
      "state": {
       "description_width": "initial"
      }
     },
     "883bb9e1ca9f40dcab6f1e41de73df32": {
      "model_module": "@jupyter-widgets/controls",
      "model_module_version": "1.5.0",
      "model_name": "ProgressStyleModel",
      "state": {
       "description_width": "initial"
      }
     },
     "8844e43ecc0f4cf28f129add597eb159": {
      "model_module": "@jupyter-widgets/controls",
      "model_module_version": "1.5.0",
      "model_name": "FloatProgressModel",
      "state": {
       "bar_style": "success",
       "description": "[2] 1/2(val  ): 100%",
       "layout": "IPY_MODEL_ab6c58c1d85b426e9ca1f2272213ae0e",
       "max": 1,
       "style": "IPY_MODEL_9d1e3d28bd6e41c5ab45692d2761f500",
       "value": 1
      }
     },
     "885b281a7f4f494db39eddd661e9a22c": {
      "model_module": "@jupyter-widgets/base",
      "model_module_version": "1.2.0",
      "model_name": "LayoutModel",
      "state": {}
     },
     "888dab9f6a8d482ebb75b515a2e0a2ed": {
      "model_module": "@jupyter-widgets/base",
      "model_module_version": "1.2.0",
      "model_name": "LayoutModel",
      "state": {}
     },
     "88c79b6e54c44e68899fddfa8cc486b6": {
      "model_module": "@jupyter-widgets/base",
      "model_module_version": "1.2.0",
      "model_name": "LayoutModel",
      "state": {}
     },
     "88eb4fec23b34b6b8ac2c1bb02220fa2": {
      "model_module": "@jupyter-widgets/controls",
      "model_module_version": "1.5.0",
      "model_name": "DescriptionStyleModel",
      "state": {
       "description_width": ""
      }
     },
     "8930b46c3df8400ebaca611e1e408676": {
      "model_module": "@jupyter-widgets/controls",
      "model_module_version": "1.5.0",
      "model_name": "DescriptionStyleModel",
      "state": {
       "description_width": ""
      }
     },
     "8971910beb3047aa840dc49179767a7f": {
      "model_module": "@jupyter-widgets/controls",
      "model_module_version": "1.5.0",
      "model_name": "HBoxModel",
      "state": {
       "children": [
        "IPY_MODEL_3bdb3196bb7941ca945d5d722fa29980",
        "IPY_MODEL_d46c98379c9b4057a0ca663d91de2428"
       ],
       "layout": "IPY_MODEL_f896e764c61a4662886d3995407e4c52"
      }
     },
     "89ba9ae66b5048c79e4fed233ac39ea5": {
      "model_module": "@jupyter-widgets/controls",
      "model_module_version": "1.5.0",
      "model_name": "FloatProgressModel",
      "state": {
       "bar_style": "success",
       "description": "[3] 3/16(val  ): 100%",
       "layout": "IPY_MODEL_b1430724cc824a81a8e2d3ff32ea8a17",
       "max": 165,
       "style": "IPY_MODEL_ee40a0fbb7254e68871edbd9c671be40",
       "value": 165
      }
     },
     "89cbb8f42a1b40178f46e091109e0d87": {
      "model_module": "@jupyter-widgets/controls",
      "model_module_version": "1.5.0",
      "model_name": "DescriptionStyleModel",
      "state": {
       "description_width": ""
      }
     },
     "89dff2d302a54eb4aab123050680e972": {
      "model_module": "@jupyter-widgets/base",
      "model_module_version": "1.2.0",
      "model_name": "LayoutModel",
      "state": {}
     },
     "89e282e986914c5d9525981f38de5cc7": {
      "model_module": "@jupyter-widgets/controls",
      "model_module_version": "1.5.0",
      "model_name": "DescriptionStyleModel",
      "state": {
       "description_width": ""
      }
     },
     "89e2dfe111124f1487352f427c63b9da": {
      "model_module": "@jupyter-widgets/controls",
      "model_module_version": "1.5.0",
      "model_name": "DescriptionStyleModel",
      "state": {
       "description_width": ""
      }
     },
     "8a20302a4e4c4e06838a006a8d1bb8b7": {
      "model_module": "@jupyter-widgets/base",
      "model_module_version": "1.2.0",
      "model_name": "LayoutModel",
      "state": {}
     },
     "8a2e85717543474a8c73830bd25237e0": {
      "model_module": "@jupyter-widgets/controls",
      "model_module_version": "1.5.0",
      "model_name": "HBoxModel",
      "state": {
       "children": [
        "IPY_MODEL_df468f15eb6e429991d6bb4ccc8d926b",
        "IPY_MODEL_5b79d6a474594f2391a67dc3828f01c7"
       ],
       "layout": "IPY_MODEL_83686da2c3194353a6e620de6c968e93"
      }
     },
     "8a398ff403154eb0b10c437755c5f54a": {
      "model_module": "@jupyter-widgets/controls",
      "model_module_version": "1.5.0",
      "model_name": "HTMLModel",
      "state": {
       "layout": "IPY_MODEL_952b7359d8da4ba3b544f89a7484a1bd",
       "style": "IPY_MODEL_4fe8bb554a984f7da0ce03618077ee0c",
       "value": " 493/493 [22:17&lt;00:00,  2.71s/it]"
      }
     },
     "8a3bd0ff884a4c54b086ddf280fdce05": {
      "model_module": "@jupyter-widgets/controls",
      "model_module_version": "1.5.0",
      "model_name": "FloatProgressModel",
      "state": {
       "bar_style": "success",
       "description": "[1] 10/15(val  ): 100%",
       "layout": "IPY_MODEL_1c3afb95f5744d3c826d6b991cb21c70",
       "max": 1,
       "style": "IPY_MODEL_a1383d2900544531a7f38b761b92244f",
       "value": 1
      }
     },
     "8a70a43beb454de69c07f4891f20babd": {
      "model_module": "@jupyter-widgets/base",
      "model_module_version": "1.2.0",
      "model_name": "LayoutModel",
      "state": {}
     },
     "8aa35a82099744d28180c61d65878119": {
      "model_module": "@jupyter-widgets/base",
      "model_module_version": "1.2.0",
      "model_name": "LayoutModel",
      "state": {}
     },
     "8ab46388e1ea4bdfae0046b2744c44c1": {
      "model_module": "@jupyter-widgets/base",
      "model_module_version": "1.2.0",
      "model_name": "LayoutModel",
      "state": {}
     },
     "8abe48bfae2d455e959e6d613478f7ce": {
      "model_module": "@jupyter-widgets/controls",
      "model_module_version": "1.5.0",
      "model_name": "ProgressStyleModel",
      "state": {
       "description_width": "initial"
      }
     },
     "8addcfeb73234849b1c231e1ef214385": {
      "model_module": "@jupyter-widgets/base",
      "model_module_version": "1.2.0",
      "model_name": "LayoutModel",
      "state": {}
     },
     "8adec880647f49ec9428c01fab914c4b": {
      "model_module": "@jupyter-widgets/controls",
      "model_module_version": "1.5.0",
      "model_name": "FloatProgressModel",
      "state": {
       "bar_style": "success",
       "description": "[3] 2/2(val  ): 100%",
       "layout": "IPY_MODEL_979bcf8718df411c95665d25888fd8b6",
       "max": 1,
       "style": "IPY_MODEL_300ac14b3ad54b45a33136780bd5a468",
       "value": 1
      }
     },
     "8b14c964fc494cbbb0a2eff10ffb236f": {
      "model_module": "@jupyter-widgets/base",
      "model_module_version": "1.2.0",
      "model_name": "LayoutModel",
      "state": {}
     },
     "8b1ee41f70ab4f07bf89c1f8ca8ac84e": {
      "model_module": "@jupyter-widgets/controls",
      "model_module_version": "1.5.0",
      "model_name": "DescriptionStyleModel",
      "state": {
       "description_width": ""
      }
     },
     "8b3cfbd43e8843f6a63903101cf61840": {
      "model_module": "@jupyter-widgets/base",
      "model_module_version": "1.2.0",
      "model_name": "LayoutModel",
      "state": {}
     },
     "8b7d81cc65d149b2a71173a6fb79a628": {
      "model_module": "@jupyter-widgets/controls",
      "model_module_version": "1.5.0",
      "model_name": "DescriptionStyleModel",
      "state": {
       "description_width": ""
      }
     },
     "8b9cca8c97984351bbf72cbd23aae033": {
      "model_module": "@jupyter-widgets/controls",
      "model_module_version": "1.5.0",
      "model_name": "HBoxModel",
      "state": {
       "children": [
        "IPY_MODEL_421ddde5fd534dbf99cb9ab8ba6fc148",
        "IPY_MODEL_56b4af85871a472abdf0dc7bb8eb9579"
       ],
       "layout": "IPY_MODEL_b3bc3cac77ab4502be47d8b476145ab5"
      }
     },
     "8ba23cab14474b7f9e9a81a2352b360e": {
      "model_module": "@jupyter-widgets/controls",
      "model_module_version": "1.5.0",
      "model_name": "HBoxModel",
      "state": {
       "children": [
        "IPY_MODEL_30f385e2e89342c785ee4f665bdca5e4",
        "IPY_MODEL_e65f5d7ba040474c99524494df30df7f"
       ],
       "layout": "IPY_MODEL_107390c6d72d451a918da7a832eff661"
      }
     },
     "8bd48e57168b49cfaa5654d7dfa81fbd": {
      "model_module": "@jupyter-widgets/controls",
      "model_module_version": "1.5.0",
      "model_name": "DescriptionStyleModel",
      "state": {
       "description_width": ""
      }
     },
     "8bf12e7e06ba44f8beff100070d166d7": {
      "model_module": "@jupyter-widgets/controls",
      "model_module_version": "1.5.0",
      "model_name": "DescriptionStyleModel",
      "state": {
       "description_width": ""
      }
     },
     "8c400ce36b6c42a19c90a9420cf44081": {
      "model_module": "@jupyter-widgets/controls",
      "model_module_version": "1.5.0",
      "model_name": "HTMLModel",
      "state": {
       "layout": "IPY_MODEL_2a8ce145a811483697ca0a9f826353b2",
       "style": "IPY_MODEL_89e282e986914c5d9525981f38de5cc7",
       "value": " 1/1 [00:00&lt;00:00,  1.22it/s]"
      }
     },
     "8c53366da5fc422aafb41065884a1a24": {
      "model_module": "@jupyter-widgets/controls",
      "model_module_version": "1.5.0",
      "model_name": "HBoxModel",
      "state": {
       "children": [
        "IPY_MODEL_d8f31951840244e1833ca68e4884a017",
        "IPY_MODEL_e193d59db1884e919324d71527ec9c5f"
       ],
       "layout": "IPY_MODEL_dc7edcd80fe144efb86e61c944c4c831"
      }
     },
     "8c6bd7f61c5049c6b5aac69352cdcbe7": {
      "model_module": "@jupyter-widgets/controls",
      "model_module_version": "1.5.0",
      "model_name": "DescriptionStyleModel",
      "state": {
       "description_width": ""
      }
     },
     "8c792a01de50437f8c3b71749fd201a0": {
      "model_module": "@jupyter-widgets/controls",
      "model_module_version": "1.5.0",
      "model_name": "HTMLModel",
      "state": {
       "layout": "IPY_MODEL_e63e4082632744cf9d9dcd0e1c320c91",
       "style": "IPY_MODEL_6b436031aea642da915106d07f79cd5e",
       "value": " 1/1 [00:00&lt;00:00,  1.20it/s]"
      }
     },
     "8c79e620583b44fdb4eab1471d08ef37": {
      "model_module": "@jupyter-widgets/controls",
      "model_module_version": "1.5.0",
      "model_name": "FloatProgressModel",
      "state": {
       "bar_style": "success",
       "description": "[3] 3/16(train): 100%",
       "layout": "IPY_MODEL_c3816f85ae6545ddb7230a93b074cc61",
       "max": 493,
       "style": "IPY_MODEL_48f994eb73fb4a318e9540dcae34fc76",
       "value": 493
      }
     },
     "8c81dc8cd89b4c53af0757ae317e82a5": {
      "model_module": "@jupyter-widgets/base",
      "model_module_version": "1.2.0",
      "model_name": "LayoutModel",
      "state": {}
     },
     "8c8b8c225cca4eb8abddc7a6915bfc20": {
      "model_module": "@jupyter-widgets/controls",
      "model_module_version": "1.5.0",
      "model_name": "HTMLModel",
      "state": {
       "layout": "IPY_MODEL_d1eee96eb0b4402bb997645e770903c2",
       "style": "IPY_MODEL_0ea60b58a72b46eebc0ef8e6c8fb9640",
       "value": " 1/1 [00:07&lt;00:00,  7.32s/it]"
      }
     },
     "8cd352e5c89546f1a5015fb4d6200056": {
      "model_module": "@jupyter-widgets/controls",
      "model_module_version": "1.5.0",
      "model_name": "ProgressStyleModel",
      "state": {
       "description_width": "initial"
      }
     },
     "8cd7d7386144483abe1ea204bffc2d04": {
      "model_module": "@jupyter-widgets/controls",
      "model_module_version": "1.5.0",
      "model_name": "FloatProgressModel",
      "state": {
       "bar_style": "success",
       "description": "[1] 2/2(train): 100%",
       "layout": "IPY_MODEL_189b365583c243409851b6c1fda09d9a",
       "max": 3,
       "style": "IPY_MODEL_24faab4c77a542c489868ee8d691d4fc",
       "value": 3
      }
     },
     "8cdd200ad22042488a02dbfa7b83d85d": {
      "model_module": "@jupyter-widgets/controls",
      "model_module_version": "1.5.0",
      "model_name": "HTMLModel",
      "state": {
       "layout": "IPY_MODEL_b11bc4f78e4c43ce811ba5c482c9ebe2",
       "style": "IPY_MODEL_c0a3178f9a5f44faadf968cb05daf69e",
       "value": " 493/493 [17:43&lt;00:00,  2.16s/it]"
      }
     },
     "8d26b522e1cf4edca7459ecc274e0db1": {
      "model_module": "@jupyter-widgets/controls",
      "model_module_version": "1.5.0",
      "model_name": "HTMLModel",
      "state": {
       "layout": "IPY_MODEL_cb5bec33916047aa88903bda9716e764",
       "style": "IPY_MODEL_70b9ab5068a34105aae99220a8b88156",
       "value": " 1/1 [00:00&lt;00:00,  1.30it/s]"
      }
     },
     "8d348bbe2be4471da2d4bb612e4debe4": {
      "model_module": "@jupyter-widgets/controls",
      "model_module_version": "1.5.0",
      "model_name": "HTMLModel",
      "state": {
       "layout": "IPY_MODEL_b2aa6c87743543508028516d61433e66",
       "style": "IPY_MODEL_20da514246cf4fd7b581489c9bde350c",
       "value": " 493/493 [20:21&lt;00:00,  2.48s/it]"
      }
     },
     "8d34a8cb92f143a9b8e67e15c03aacee": {
      "model_module": "@jupyter-widgets/controls",
      "model_module_version": "1.5.0",
      "model_name": "FloatProgressModel",
      "state": {
       "bar_style": "success",
       "description": "[2] 7/16(train): 100%",
       "layout": "IPY_MODEL_c4c7acecd4184bcb8aa0f2af71a0310f",
       "max": 493,
       "style": "IPY_MODEL_60c5283ee2104fabbf1041e442f6426f",
       "value": 493
      }
     },
     "8d5fb126f3a04e8ca05861f262d7790c": {
      "model_module": "@jupyter-widgets/base",
      "model_module_version": "1.2.0",
      "model_name": "LayoutModel",
      "state": {}
     },
     "8d6340ce8f0f4c1fab0fceb61a706286": {
      "model_module": "@jupyter-widgets/base",
      "model_module_version": "1.2.0",
      "model_name": "LayoutModel",
      "state": {}
     },
     "8d6d35493a634f7e87c54084d487738c": {
      "model_module": "@jupyter-widgets/controls",
      "model_module_version": "1.5.0",
      "model_name": "DescriptionStyleModel",
      "state": {
       "description_width": ""
      }
     },
     "8d7d764b112049b4937325709f00e663": {
      "model_module": "@jupyter-widgets/controls",
      "model_module_version": "1.5.0",
      "model_name": "HBoxModel",
      "state": {
       "children": [
        "IPY_MODEL_78ee6be9dc2c48019969ba4ca5d32109",
        "IPY_MODEL_eb27bb0c1ca84e58ad10867c1e203766"
       ],
       "layout": "IPY_MODEL_5dff514e5e9c461a99add8251747fc55"
      }
     },
     "8da58edcf1c94ce5a32cfd7a0d06d77a": {
      "model_module": "@jupyter-widgets/base",
      "model_module_version": "1.2.0",
      "model_name": "LayoutModel",
      "state": {}
     },
     "8e0d8cc5fba54affa64e3f9f459f8d5e": {
      "model_module": "@jupyter-widgets/base",
      "model_module_version": "1.2.0",
      "model_name": "LayoutModel",
      "state": {}
     },
     "8e7b262d2c394b55a8c7534a03df32c7": {
      "model_module": "@jupyter-widgets/base",
      "model_module_version": "1.2.0",
      "model_name": "LayoutModel",
      "state": {}
     },
     "8e92648b4c0d423cbd51c1883aa26e37": {
      "model_module": "@jupyter-widgets/controls",
      "model_module_version": "1.5.0",
      "model_name": "DescriptionStyleModel",
      "state": {
       "description_width": ""
      }
     },
     "8e960ebb1dd54889b75a18f7a467ce03": {
      "model_module": "@jupyter-widgets/base",
      "model_module_version": "1.2.0",
      "model_name": "LayoutModel",
      "state": {}
     },
     "8ea065a9fe1c4f2fb8c904d68f2f2b83": {
      "model_module": "@jupyter-widgets/base",
      "model_module_version": "1.2.0",
      "model_name": "LayoutModel",
      "state": {}
     },
     "8eb7b5a2fbfe4acc98ee4dc933f3a29a": {
      "model_module": "@jupyter-widgets/base",
      "model_module_version": "1.2.0",
      "model_name": "LayoutModel",
      "state": {}
     },
     "8ebbc1c352584b729ad0acf2adfeae88": {
      "model_module": "@jupyter-widgets/base",
      "model_module_version": "1.2.0",
      "model_name": "LayoutModel",
      "state": {}
     },
     "8eda70558426456cb4530e8b428947d1": {
      "model_module": "@jupyter-widgets/base",
      "model_module_version": "1.2.0",
      "model_name": "LayoutModel",
      "state": {}
     },
     "8ef3e80c8b144af7838c17962ded7f13": {
      "model_module": "@jupyter-widgets/controls",
      "model_module_version": "1.5.0",
      "model_name": "DescriptionStyleModel",
      "state": {
       "description_width": ""
      }
     },
     "8f08c76a1b62460bb1e74e53f6c6902f": {
      "model_module": "@jupyter-widgets/controls",
      "model_module_version": "1.5.0",
      "model_name": "HTMLModel",
      "state": {
       "layout": "IPY_MODEL_7c9d77fc5d6f4225abf9a27d3f2284ac",
       "style": "IPY_MODEL_099dacb7ef1148219abff28297fb5280",
       "value": " 493/493 [23:53&lt;00:00,  2.91s/it]"
      }
     },
     "8f106c6148374939b178bf1602235ed0": {
      "model_module": "@jupyter-widgets/controls",
      "model_module_version": "1.5.0",
      "model_name": "DescriptionStyleModel",
      "state": {
       "description_width": ""
      }
     },
     "8f26015f154c4971b63214047adc6b0c": {
      "model_module": "@jupyter-widgets/controls",
      "model_module_version": "1.5.0",
      "model_name": "HTMLModel",
      "state": {
       "layout": "IPY_MODEL_cb453e23423f4d08a14a7930bcdb5623",
       "style": "IPY_MODEL_0d59ba285c534b7ba4a3c919a2f080a3",
       "value": " 1/1 [00:07&lt;00:00,  7.03s/it]"
      }
     },
     "8f276170b45a454a9d74b6bf2be84bd0": {
      "model_module": "@jupyter-widgets/base",
      "model_module_version": "1.2.0",
      "model_name": "LayoutModel",
      "state": {}
     },
     "8f4fb9b638df4a13b3ab2155680b733a": {
      "model_module": "@jupyter-widgets/base",
      "model_module_version": "1.2.0",
      "model_name": "LayoutModel",
      "state": {}
     },
     "8f5ecb5672bb43fa988c9c903568ea0c": {
      "model_module": "@jupyter-widgets/controls",
      "model_module_version": "1.5.0",
      "model_name": "DescriptionStyleModel",
      "state": {
       "description_width": ""
      }
     },
     "8f68290cc79044ab8eeb20ad08271527": {
      "model_module": "@jupyter-widgets/controls",
      "model_module_version": "1.5.0",
      "model_name": "HBoxModel",
      "state": {
       "children": [
        "IPY_MODEL_df3386547351411f91d5d14f291dbfe7",
        "IPY_MODEL_056d61208d744aafaa60bd56d34cdc01"
       ],
       "layout": "IPY_MODEL_bc89e55b5a4e48b493d1247c499c5855"
      }
     },
     "8f8227122fd94668b04cf790cf6a4454": {
      "model_module": "@jupyter-widgets/base",
      "model_module_version": "1.2.0",
      "model_name": "LayoutModel",
      "state": {}
     },
     "8f88bc453c734d55a5607a98894ad8c1": {
      "model_module": "@jupyter-widgets/base",
      "model_module_version": "1.2.0",
      "model_name": "LayoutModel",
      "state": {}
     },
     "8f9f7faef2ac4541a81a36333a90939b": {
      "model_module": "@jupyter-widgets/controls",
      "model_module_version": "1.5.0",
      "model_name": "FloatProgressModel",
      "state": {
       "bar_style": "success",
       "description": "[3] 6/16(train): 100%",
       "layout": "IPY_MODEL_234db69ce9f94fc0ad6db6adbe54b240",
       "max": 493,
       "style": "IPY_MODEL_5636e140d4174c069067aaba42469f45",
       "value": 493
      }
     },
     "8fca30db5a9a46989538f3b14d0568ab": {
      "model_module": "@jupyter-widgets/base",
      "model_module_version": "1.2.0",
      "model_name": "LayoutModel",
      "state": {}
     },
     "90102e1a37b94ccf96cfccc5830a79e4": {
      "model_module": "@jupyter-widgets/controls",
      "model_module_version": "1.5.0",
      "model_name": "ProgressStyleModel",
      "state": {
       "description_width": "initial"
      }
     },
     "9010e50799ed42fea2a7587e5d8f751c": {
      "model_module": "@jupyter-widgets/base",
      "model_module_version": "1.2.0",
      "model_name": "LayoutModel",
      "state": {}
     },
     "903335863e5f46408f6bcdb25ab0ec86": {
      "model_module": "@jupyter-widgets/base",
      "model_module_version": "1.2.0",
      "model_name": "LayoutModel",
      "state": {}
     },
     "904d2d2db7cf4100871e7e1cd431a887": {
      "model_module": "@jupyter-widgets/controls",
      "model_module_version": "1.5.0",
      "model_name": "HBoxModel",
      "state": {
       "children": [
        "IPY_MODEL_36a1e0f495d94dbf9185a5cf1ec129d5",
        "IPY_MODEL_ab812a072e304e638cf06d8f9df8dbe5"
       ],
       "layout": "IPY_MODEL_1a584677088844d1b54756fc58dbbacc"
      }
     },
     "90549020a537477285aa4074b4a47096": {
      "model_module": "@jupyter-widgets/base",
      "model_module_version": "1.2.0",
      "model_name": "LayoutModel",
      "state": {}
     },
     "905ae71e15914037a4db0a5e1d388840": {
      "model_module": "@jupyter-widgets/controls",
      "model_module_version": "1.5.0",
      "model_name": "HTMLModel",
      "state": {
       "layout": "IPY_MODEL_861bb09b2bbd432da12c5383e3f5f707",
       "style": "IPY_MODEL_3b0499b56d274b23bb8fe9bf85d74ac6",
       "value": " 493/493 [17:49&lt;00:00,  2.17s/it]"
      }
     },
     "9085f5c784f44c309e7250be766b91fc": {
      "model_module": "@jupyter-widgets/base",
      "model_module_version": "1.2.0",
      "model_name": "LayoutModel",
      "state": {}
     },
     "908db9efa0ee42cca845c9c9d98611d6": {
      "model_module": "@jupyter-widgets/controls",
      "model_module_version": "1.5.0",
      "model_name": "FloatProgressModel",
      "state": {
       "bar_style": "success",
       "description": "[0] 2/2(train): 100%",
       "layout": "IPY_MODEL_0b52ae76bda74249b293d9b6a64c383f",
       "max": 3,
       "style": "IPY_MODEL_3025f5b988164565b5a6ce40ca64ce9b",
       "value": 3
      }
     },
     "90a8efc5f4ea43ad80a35e1a910fd061": {
      "model_module": "@jupyter-widgets/base",
      "model_module_version": "1.2.0",
      "model_name": "LayoutModel",
      "state": {}
     },
     "90cc7133338c48bf809edefce06122af": {
      "model_module": "@jupyter-widgets/base",
      "model_module_version": "1.2.0",
      "model_name": "LayoutModel",
      "state": {}
     },
     "90ccde1815cf4ca09a6f4ff6004e3adf": {
      "model_module": "@jupyter-widgets/controls",
      "model_module_version": "1.5.0",
      "model_name": "HTMLModel",
      "state": {
       "layout": "IPY_MODEL_0185d4d65b444642abe2cfb81f57bac6",
       "style": "IPY_MODEL_27102f0cacc64b1199a8ded66b80fa9b",
       "value": " 0/493 [00:02&lt;?, ?it/s]"
      }
     },
     "90dc44d2b9534b8394107d15a198edde": {
      "model_module": "@jupyter-widgets/controls",
      "model_module_version": "1.5.0",
      "model_name": "DescriptionStyleModel",
      "state": {
       "description_width": ""
      }
     },
     "90e395e8440340ad8d8877a517d33404": {
      "model_module": "@jupyter-widgets/controls",
      "model_module_version": "1.5.0",
      "model_name": "ProgressStyleModel",
      "state": {
       "description_width": "initial"
      }
     },
     "90fbef26ad604c8e9eb428124acf0406": {
      "model_module": "@jupyter-widgets/base",
      "model_module_version": "1.2.0",
      "model_name": "LayoutModel",
      "state": {}
     },
     "9102e79b3624421bbd6c91429c67fd8e": {
      "model_module": "@jupyter-widgets/base",
      "model_module_version": "1.2.0",
      "model_name": "LayoutModel",
      "state": {}
     },
     "910646b02118490598907898a1f0c864": {
      "model_module": "@jupyter-widgets/controls",
      "model_module_version": "1.5.0",
      "model_name": "ProgressStyleModel",
      "state": {
       "description_width": "initial"
      }
     },
     "913597822f4346508c971160cc42dd58": {
      "model_module": "@jupyter-widgets/base",
      "model_module_version": "1.2.0",
      "model_name": "LayoutModel",
      "state": {}
     },
     "9143ed9c4bb6481fa6559cfcccc6c121": {
      "model_module": "@jupyter-widgets/controls",
      "model_module_version": "1.5.0",
      "model_name": "ProgressStyleModel",
      "state": {
       "description_width": "initial"
      }
     },
     "915c144612d149c88df07a6ceefdd55f": {
      "model_module": "@jupyter-widgets/controls",
      "model_module_version": "1.5.0",
      "model_name": "ProgressStyleModel",
      "state": {
       "description_width": "initial"
      }
     },
     "9183aebc71ce48b5b4d137f65a3a11fc": {
      "model_module": "@jupyter-widgets/base",
      "model_module_version": "1.2.0",
      "model_name": "LayoutModel",
      "state": {}
     },
     "91a03d13fac2496eb22d0e5f4c6e42d9": {
      "model_module": "@jupyter-widgets/controls",
      "model_module_version": "1.5.0",
      "model_name": "DescriptionStyleModel",
      "state": {
       "description_width": ""
      }
     },
     "91b7580a3a8c46e2afad7b2ceb789715": {
      "model_module": "@jupyter-widgets/controls",
      "model_module_version": "1.5.0",
      "model_name": "DescriptionStyleModel",
      "state": {
       "description_width": ""
      }
     },
     "91da504999da4097a5d44ce3ae2516e5": {
      "model_module": "@jupyter-widgets/controls",
      "model_module_version": "1.5.0",
      "model_name": "FloatProgressModel",
      "state": {
       "bar_style": "success",
       "description": "[3] 2/2(train): 100%",
       "layout": "IPY_MODEL_aea3b5a49b0f41a08468dbef61f4e689",
       "max": 3,
       "style": "IPY_MODEL_7ba424af770247128c6defd3c4a5a6f6",
       "value": 3
      }
     },
     "9202e4fcccee49859b510f21ba51c922": {
      "model_module": "@jupyter-widgets/base",
      "model_module_version": "1.2.0",
      "model_name": "LayoutModel",
      "state": {}
     },
     "9213ae88dd614e4a8e31c83ecb836668": {
      "model_module": "@jupyter-widgets/controls",
      "model_module_version": "1.5.0",
      "model_name": "HBoxModel",
      "state": {
       "children": [
        "IPY_MODEL_5cfda672b28e4b0f903a2b19030d6d3e",
        "IPY_MODEL_6a2cd30e4fa546bf9c19aea6757b52f7"
       ],
       "layout": "IPY_MODEL_012b4b646ae7414ca6876538bff8e020"
      }
     },
     "92140950e7cc478a8d8d354001853a66": {
      "model_module": "@jupyter-widgets/base",
      "model_module_version": "1.2.0",
      "model_name": "LayoutModel",
      "state": {}
     },
     "921a40bd2bbb4d5888366a7017172079": {
      "model_module": "@jupyter-widgets/controls",
      "model_module_version": "1.5.0",
      "model_name": "FloatProgressModel",
      "state": {
       "bar_style": "success",
       "description": "[1] 3/16(train): 100%",
       "layout": "IPY_MODEL_05fad5c7227d4960a5dffe4c85f915e4",
       "max": 493,
       "style": "IPY_MODEL_e2cee0daca1f47b68df9910c85e2001c",
       "value": 493
      }
     },
     "921ad03d867740de91cf46dccec12529": {
      "model_module": "@jupyter-widgets/controls",
      "model_module_version": "1.5.0",
      "model_name": "HTMLModel",
      "state": {
       "layout": "IPY_MODEL_a6e31d37254b4953b063d5dec408b858",
       "style": "IPY_MODEL_447abf4f161848b2b5bf6bcc6c31f573",
       "value": " 1/1 [00:01&lt;00:00,  1.21s/it]"
      }
     },
     "9230036a075e426699b967a7dc2f5291": {
      "model_module": "@jupyter-widgets/base",
      "model_module_version": "1.2.0",
      "model_name": "LayoutModel",
      "state": {}
     },
     "92313dd51c93400993d7402dab3db921": {
      "model_module": "@jupyter-widgets/controls",
      "model_module_version": "1.5.0",
      "model_name": "HBoxModel",
      "state": {
       "children": [
        "IPY_MODEL_8f9f7faef2ac4541a81a36333a90939b",
        "IPY_MODEL_dd6d181ddb1048f183f1d88f1aad88fd"
       ],
       "layout": "IPY_MODEL_ba2e225ef9a640f888a26586f8023e6f"
      }
     },
     "925a2d528c774d9583e572ce6063d5af": {
      "model_module": "@jupyter-widgets/controls",
      "model_module_version": "1.5.0",
      "model_name": "ProgressStyleModel",
      "state": {
       "description_width": "initial"
      }
     },
     "9275b9a91f2e41b983e0d326f064ea72": {
      "model_module": "@jupyter-widgets/controls",
      "model_module_version": "1.5.0",
      "model_name": "DescriptionStyleModel",
      "state": {
       "description_width": ""
      }
     },
     "9279ec6113da48eb912a20f45b7a8ec4": {
      "model_module": "@jupyter-widgets/controls",
      "model_module_version": "1.5.0",
      "model_name": "HBoxModel",
      "state": {
       "children": [
        "IPY_MODEL_6a72c847c0ca45279432f4a52d141133",
        "IPY_MODEL_30cb0d2361c441169363ce3262a27f3b"
       ],
       "layout": "IPY_MODEL_78f8599961fd4035a3cf8e431089828c"
      }
     },
     "927c41163ffd4c2d993a57771622d8ba": {
      "model_module": "@jupyter-widgets/base",
      "model_module_version": "1.2.0",
      "model_name": "LayoutModel",
      "state": {}
     },
     "928fa86d18474d7e990d5361466f2765": {
      "model_module": "@jupyter-widgets/controls",
      "model_module_version": "1.5.0",
      "model_name": "ProgressStyleModel",
      "state": {
       "description_width": "initial"
      }
     },
     "929ee2789fd948b0bf09b0e292a94471": {
      "model_module": "@jupyter-widgets/controls",
      "model_module_version": "1.5.0",
      "model_name": "DescriptionStyleModel",
      "state": {
       "description_width": ""
      }
     },
     "92b20eaea91d46f7bdb7b23ce6e31b30": {
      "model_module": "@jupyter-widgets/controls",
      "model_module_version": "1.5.0",
      "model_name": "DescriptionStyleModel",
      "state": {
       "description_width": ""
      }
     },
     "92db22e8f0d348a2b209613e46c35e35": {
      "model_module": "@jupyter-widgets/controls",
      "model_module_version": "1.5.0",
      "model_name": "FloatProgressModel",
      "state": {
       "bar_style": "success",
       "description": "[0] 8/16(train): 100%",
       "layout": "IPY_MODEL_fed8953d63614f1fa0ad4a351d98e4e1",
       "max": 493,
       "style": "IPY_MODEL_81013066d5f34a4683b381d514f42fdc",
       "value": 493
      }
     },
     "92dd527bcea4442c9452ff5dc1ceac06": {
      "model_module": "@jupyter-widgets/controls",
      "model_module_version": "1.5.0",
      "model_name": "DescriptionStyleModel",
      "state": {
       "description_width": ""
      }
     },
     "92e644c1bfbe4b7f8043db9ffe5c0f88": {
      "model_module": "@jupyter-widgets/controls",
      "model_module_version": "1.5.0",
      "model_name": "FloatProgressModel",
      "state": {
       "bar_style": "success",
       "description": "[2] 10/15(val  ): 100%",
       "layout": "IPY_MODEL_c3af83208fe1435e98ab8a3814bc1951",
       "max": 165,
       "style": "IPY_MODEL_1e4bc264c5474ddaa695d589fbcee6eb",
       "value": 165
      }
     },
     "92ebe1b6bd9b435e9fcad1c44664f64e": {
      "model_module": "@jupyter-widgets/controls",
      "model_module_version": "1.5.0",
      "model_name": "HTMLModel",
      "state": {
       "layout": "IPY_MODEL_11ac10cc66d54257bd767c4e38357c3a",
       "style": "IPY_MODEL_c36070156b254775b0b3ed9d43d09e73",
       "value": " 165/165 [01:39&lt;00:00,  1.66it/s]"
      }
     },
     "92f926df6d1c4b348b8c9c363995b94c": {
      "model_module": "@jupyter-widgets/base",
      "model_module_version": "1.2.0",
      "model_name": "LayoutModel",
      "state": {}
     },
     "930511e79d5744389a3e3c5fd0a7967c": {
      "model_module": "@jupyter-widgets/controls",
      "model_module_version": "1.5.0",
      "model_name": "HBoxModel",
      "state": {
       "children": [
        "IPY_MODEL_80992d1f9067436e9efb3b3efe0acf63",
        "IPY_MODEL_2ce0db80fdbe481ea5c48223d23180f9"
       ],
       "layout": "IPY_MODEL_e4f8cdc0fd9140b8a4af32350c141ce9"
      }
     },
     "9309f06fb239467b82d2b2516d6d7ec3": {
      "model_module": "@jupyter-widgets/controls",
      "model_module_version": "1.5.0",
      "model_name": "DescriptionStyleModel",
      "state": {
       "description_width": ""
      }
     },
     "9313c1bc83b14beba4cbfad12965690a": {
      "model_module": "@jupyter-widgets/controls",
      "model_module_version": "1.5.0",
      "model_name": "HBoxModel",
      "state": {
       "children": [
        "IPY_MODEL_3d2eabeb860740e18770cf9f5129e6e4",
        "IPY_MODEL_69779dc035cd49c49daf2bc604d7cc91"
       ],
       "layout": "IPY_MODEL_a06da516041e4e1887b29b25ad619a87"
      }
     },
     "931f7f331d744b2e991918d7e4c27f3b": {
      "model_module": "@jupyter-widgets/controls",
      "model_module_version": "1.5.0",
      "model_name": "DescriptionStyleModel",
      "state": {
       "description_width": ""
      }
     },
     "932a6976da1c4b978ae3a89b1ef05df8": {
      "model_module": "@jupyter-widgets/controls",
      "model_module_version": "1.5.0",
      "model_name": "HTMLModel",
      "state": {
       "layout": "IPY_MODEL_60ed321140e446b4bf7c99b0928f25d1",
       "style": "IPY_MODEL_b3ca3e548ac242f2b2d93dda3552898d",
       "value": " 493/493 [23:49&lt;00:00,  2.90s/it]"
      }
     },
     "93360aa3c238462c9e05880e89061d94": {
      "model_module": "@jupyter-widgets/base",
      "model_module_version": "1.2.0",
      "model_name": "LayoutModel",
      "state": {}
     },
     "9337e0fb7c2147cbbb86af941561b4eb": {
      "model_module": "@jupyter-widgets/controls",
      "model_module_version": "1.5.0",
      "model_name": "DescriptionStyleModel",
      "state": {
       "description_width": ""
      }
     },
     "93490ad8e9664de6ba9d18d4dedf0eed": {
      "model_module": "@jupyter-widgets/controls",
      "model_module_version": "1.5.0",
      "model_name": "HTMLModel",
      "state": {
       "layout": "IPY_MODEL_38c781293a0f47eea36f451f089cc616",
       "style": "IPY_MODEL_9ae46908bc7947069ffc6436aea78fd6",
       "value": " 165/165 [01:38&lt;00:00,  1.67it/s]"
      }
     },
     "9375a1d80951443280bc133c26f54eb5": {
      "model_module": "@jupyter-widgets/base",
      "model_module_version": "1.2.0",
      "model_name": "LayoutModel",
      "state": {}
     },
     "9383baef6656438286b22324e2b6dcaa": {
      "model_module": "@jupyter-widgets/controls",
      "model_module_version": "1.5.0",
      "model_name": "DescriptionStyleModel",
      "state": {
       "description_width": ""
      }
     },
     "93936c0a3a0b42dd9cb269665828c297": {
      "model_module": "@jupyter-widgets/controls",
      "model_module_version": "1.5.0",
      "model_name": "FloatProgressModel",
      "state": {
       "bar_style": "success",
       "description": "[1] 10/15(train): 100%",
       "layout": "IPY_MODEL_927c41163ffd4c2d993a57771622d8ba",
       "max": 3,
       "style": "IPY_MODEL_d9ccf24150574b24b05899b3eb51d816",
       "value": 3
      }
     },
     "93b1ce9ad8f34f9dad398ae19d95af63": {
      "model_module": "@jupyter-widgets/base",
      "model_module_version": "1.2.0",
      "model_name": "LayoutModel",
      "state": {}
     },
     "93c3387774734beaaebb6608ba76a3cb": {
      "model_module": "@jupyter-widgets/base",
      "model_module_version": "1.2.0",
      "model_name": "LayoutModel",
      "state": {}
     },
     "93d44f05ee64484fab114e3308f29537": {
      "model_module": "@jupyter-widgets/base",
      "model_module_version": "1.2.0",
      "model_name": "LayoutModel",
      "state": {}
     },
     "93e714ed25704bdabab8ed31d4ba3a5a": {
      "model_module": "@jupyter-widgets/controls",
      "model_module_version": "1.5.0",
      "model_name": "FloatProgressModel",
      "state": {
       "bar_style": "success",
       "description": "[2] 4/16(train): 100%",
       "layout": "IPY_MODEL_02939481ca564b008900cebc43c8b8f7",
       "max": 493,
       "style": "IPY_MODEL_5c5ff17dee9b4e5b81021fec1cece09f",
       "value": 493
      }
     },
     "9427e7a766b546cdbb9bd2f18c36998d": {
      "model_module": "@jupyter-widgets/controls",
      "model_module_version": "1.5.0",
      "model_name": "HTMLModel",
      "state": {
       "layout": "IPY_MODEL_dfc4a3fab5e84441aef6a2d89267ed50",
       "style": "IPY_MODEL_48c0be2b50a3403891307715023ac59c",
       "value": " 165/165 [01:32&lt;00:00,  1.79it/s]"
      }
     },
     "943effe1aeef469399bd367eebeacd1f": {
      "model_module": "@jupyter-widgets/base",
      "model_module_version": "1.2.0",
      "model_name": "LayoutModel",
      "state": {}
     },
     "944fc0abb76d47729ed2abde857e73d0": {
      "model_module": "@jupyter-widgets/base",
      "model_module_version": "1.2.0",
      "model_name": "LayoutModel",
      "state": {}
     },
     "9467f61d839246ae8ab1d106df2ac8a2": {
      "model_module": "@jupyter-widgets/base",
      "model_module_version": "1.2.0",
      "model_name": "LayoutModel",
      "state": {}
     },
     "947304e9b427483dbf9cfc38fcfdc5a9": {
      "model_module": "@jupyter-widgets/base",
      "model_module_version": "1.2.0",
      "model_name": "LayoutModel",
      "state": {}
     },
     "947ec91315844c06864c6e74b5104bc0": {
      "model_module": "@jupyter-widgets/controls",
      "model_module_version": "1.5.0",
      "model_name": "HTMLModel",
      "state": {
       "layout": "IPY_MODEL_68c9b653f13c4781905621b9789bfcfe",
       "style": "IPY_MODEL_3e767bd59b664b7f920cb3096c1da889",
       "value": " 165/165 [21:32&lt;00:00,  7.83s/it]"
      }
     },
     "948c38930b304389806f7ee398a87ea0": {
      "model_module": "@jupyter-widgets/controls",
      "model_module_version": "1.5.0",
      "model_name": "HTMLModel",
      "state": {
       "layout": "IPY_MODEL_1cd3b8f5b53e4af08c3c22bd7956474f",
       "style": "IPY_MODEL_a820cf54ee9346c8a96be162827baf76",
       "value": " 165/165 [01:33&lt;00:00,  1.77it/s]"
      }
     },
     "94a5abf95d3f404e822153c56e1fdf79": {
      "model_module": "@jupyter-widgets/controls",
      "model_module_version": "1.5.0",
      "model_name": "ProgressStyleModel",
      "state": {
       "description_width": "initial"
      }
     },
     "94c00b4c288246bb852b2a2dc6948652": {
      "model_module": "@jupyter-widgets/base",
      "model_module_version": "1.2.0",
      "model_name": "LayoutModel",
      "state": {}
     },
     "94d5fac8e557476c9d4d632ba296e2cb": {
      "model_module": "@jupyter-widgets/controls",
      "model_module_version": "1.5.0",
      "model_name": "ProgressStyleModel",
      "state": {
       "description_width": "initial"
      }
     },
     "94ebf9faaff64e36824e0922e70f3287": {
      "model_module": "@jupyter-widgets/controls",
      "model_module_version": "1.5.0",
      "model_name": "ProgressStyleModel",
      "state": {
       "description_width": "initial"
      }
     },
     "94fc52b5e55d4b44b3bdb5c73812422c": {
      "model_module": "@jupyter-widgets/base",
      "model_module_version": "1.2.0",
      "model_name": "LayoutModel",
      "state": {}
     },
     "94fe25857056441692e702039d0ff48c": {
      "model_module": "@jupyter-widgets/base",
      "model_module_version": "1.2.0",
      "model_name": "LayoutModel",
      "state": {}
     },
     "950a88680c8c4e66a332dc71c267fbd4": {
      "model_module": "@jupyter-widgets/base",
      "model_module_version": "1.2.0",
      "model_name": "LayoutModel",
      "state": {}
     },
     "950dc800e36f4aa594120fed91e28816": {
      "model_module": "@jupyter-widgets/base",
      "model_module_version": "1.2.0",
      "model_name": "LayoutModel",
      "state": {}
     },
     "9525274b974240bdb864b9075139f882": {
      "model_module": "@jupyter-widgets/controls",
      "model_module_version": "1.5.0",
      "model_name": "FloatProgressModel",
      "state": {
       "bar_style": "success",
       "description": "[1] 3/15(train): 100%",
       "layout": "IPY_MODEL_027304f3b488490184da7d7bb9ed0da4",
       "max": 3,
       "style": "IPY_MODEL_9b3c0cf122714ccf986aac91c74c718d",
       "value": 3
      }
     },
     "952b7359d8da4ba3b544f89a7484a1bd": {
      "model_module": "@jupyter-widgets/base",
      "model_module_version": "1.2.0",
      "model_name": "LayoutModel",
      "state": {}
     },
     "953d32c65d3345c2aeb5ddbf989d4546": {
      "model_module": "@jupyter-widgets/base",
      "model_module_version": "1.2.0",
      "model_name": "LayoutModel",
      "state": {}
     },
     "953dc2880079435d8c8e9cbc108f4039": {
      "model_module": "@jupyter-widgets/controls",
      "model_module_version": "1.5.0",
      "model_name": "HBoxModel",
      "state": {
       "children": [
        "IPY_MODEL_349f08f82e9d48e1aed1c7070b0cf4bd",
        "IPY_MODEL_8f08c76a1b62460bb1e74e53f6c6902f"
       ],
       "layout": "IPY_MODEL_0cca8ebef2114d7ead1cc179a559fc1d"
      }
     },
     "9564b5aa82b44ff0a1ea5008c9a1962c": {
      "model_module": "@jupyter-widgets/base",
      "model_module_version": "1.2.0",
      "model_name": "LayoutModel",
      "state": {}
     },
     "9568b02b8ff94d77aee6675c6dbc60f7": {
      "model_module": "@jupyter-widgets/controls",
      "model_module_version": "1.5.0",
      "model_name": "HBoxModel",
      "state": {
       "children": [
        "IPY_MODEL_153524039be749d78f009dc2b58ca584",
        "IPY_MODEL_17c87f3de03c4761a76201ee7a6ff0e9"
       ],
       "layout": "IPY_MODEL_fd30e3e24fcf4bdca1563a3fa3b34797"
      }
     },
     "95ac7db5685341c2861d97eaebc71698": {
      "model_module": "@jupyter-widgets/base",
      "model_module_version": "1.2.0",
      "model_name": "LayoutModel",
      "state": {}
     },
     "95b162bb7cd64d99a1941333b4c80195": {
      "model_module": "@jupyter-widgets/controls",
      "model_module_version": "1.5.0",
      "model_name": "FloatProgressModel",
      "state": {
       "bar_style": "success",
       "description": "[3] 7/15(train): 100%",
       "layout": "IPY_MODEL_ccf51fa964cd4e5e831c9d078863a9d7",
       "max": 493,
       "style": "IPY_MODEL_1cf0fc5c2c3c4a158e9db132493b6421",
       "value": 493
      }
     },
     "95b5b7277a084986bfd18e1740081ce8": {
      "model_module": "@jupyter-widgets/controls",
      "model_module_version": "1.5.0",
      "model_name": "ProgressStyleModel",
      "state": {
       "description_width": "initial"
      }
     },
     "95c8b7a45f914782bf141f10f77aa503": {
      "model_module": "@jupyter-widgets/base",
      "model_module_version": "1.2.0",
      "model_name": "LayoutModel",
      "state": {}
     },
     "95da06a79c6540219b45c90ddd622280": {
      "model_module": "@jupyter-widgets/controls",
      "model_module_version": "1.5.0",
      "model_name": "FloatProgressModel",
      "state": {
       "bar_style": "success",
       "description": "[3] 2/2(val  ): 100%",
       "layout": "IPY_MODEL_8622294d5c524ac488057f89b26d4253",
       "max": 1,
       "style": "IPY_MODEL_c0b4094fbae141e38cd4fd41700c8625",
       "value": 1
      }
     },
     "9600abb1d35b4a6e8bf181ede82d5a66": {
      "model_module": "@jupyter-widgets/base",
      "model_module_version": "1.2.0",
      "model_name": "LayoutModel",
      "state": {}
     },
     "9605a304f3c44ee5add2cf1caec1ae39": {
      "model_module": "@jupyter-widgets/controls",
      "model_module_version": "1.5.0",
      "model_name": "HTMLModel",
      "state": {
       "layout": "IPY_MODEL_c8e10d8246eb47479ee93a9a18035aac",
       "style": "IPY_MODEL_441314c2ece742de8d11693bf90a7773",
       "value": " 0/493 [00:04&lt;?, ?it/s]"
      }
     },
     "9609e99928ab4b178eda98f37e3f83b3": {
      "model_module": "@jupyter-widgets/base",
      "model_module_version": "1.2.0",
      "model_name": "LayoutModel",
      "state": {}
     },
     "961d969799c14219b951c90f65c163a9": {
      "model_module": "@jupyter-widgets/base",
      "model_module_version": "1.2.0",
      "model_name": "LayoutModel",
      "state": {}
     },
     "96380cc222754f998cab6c45d3cabda9": {
      "model_module": "@jupyter-widgets/controls",
      "model_module_version": "1.5.0",
      "model_name": "DescriptionStyleModel",
      "state": {
       "description_width": ""
      }
     },
     "96443e96e5c0494eb3af768b2cf80ff0": {
      "model_module": "@jupyter-widgets/base",
      "model_module_version": "1.2.0",
      "model_name": "LayoutModel",
      "state": {}
     },
     "9666fcaf7316488d82f0163cb828a82a": {
      "model_module": "@jupyter-widgets/controls",
      "model_module_version": "1.5.0",
      "model_name": "HBoxModel",
      "state": {
       "children": [
        "IPY_MODEL_d88a6f405f174778a21b16829300a1bf",
        "IPY_MODEL_4f8af2004d114d4dbe2838fa533cc799"
       ],
       "layout": "IPY_MODEL_3acf8fafdf134b699c33eacb2c0372af"
      }
     },
     "96954d44319948d8810aacecc8630b04": {
      "model_module": "@jupyter-widgets/controls",
      "model_module_version": "1.5.0",
      "model_name": "ProgressStyleModel",
      "state": {
       "description_width": "initial"
      }
     },
     "96db646338ca48da962caedadc30407b": {
      "model_module": "@jupyter-widgets/controls",
      "model_module_version": "1.5.0",
      "model_name": "ProgressStyleModel",
      "state": {
       "description_width": "initial"
      }
     },
     "96e5a50481b44232a63b5533a078e211": {
      "model_module": "@jupyter-widgets/base",
      "model_module_version": "1.2.0",
      "model_name": "LayoutModel",
      "state": {}
     },
     "96e6b17354c34b7f99b5ed9530427706": {
      "model_module": "@jupyter-widgets/controls",
      "model_module_version": "1.5.0",
      "model_name": "FloatProgressModel",
      "state": {
       "bar_style": "success",
       "description": "[1] 2/2(train): 100%",
       "layout": "IPY_MODEL_2040eb62077e4f6f81b62fdcf7ff1277",
       "max": 3,
       "style": "IPY_MODEL_5f75bae5441749d5b8f7bf9d7ca5935c",
       "value": 3
      }
     },
     "97126dbb323e47908ce1a3de0a235400": {
      "model_module": "@jupyter-widgets/controls",
      "model_module_version": "1.5.0",
      "model_name": "FloatProgressModel",
      "state": {
       "bar_style": "success",
       "description": "[3] 14/15(val  ): 100%",
       "layout": "IPY_MODEL_6791a55f834445baaed8d6d084036540",
       "max": 165,
       "style": "IPY_MODEL_64587a88036a4a0ab2d06c5da0bb756f",
       "value": 165
      }
     },
     "974109356e6944adb9b9868e474e7af7": {
      "model_module": "@jupyter-widgets/controls",
      "model_module_version": "1.5.0",
      "model_name": "HBoxModel",
      "state": {
       "children": [
        "IPY_MODEL_672577f181f8482da5cc7ba3f79c4891",
        "IPY_MODEL_3b148a22fea4475e9d31b34971dea180"
       ],
       "layout": "IPY_MODEL_96443e96e5c0494eb3af768b2cf80ff0"
      }
     },
     "974fb929d46c4fb3ab4d3c8e24ccf14b": {
      "model_module": "@jupyter-widgets/controls",
      "model_module_version": "1.5.0",
      "model_name": "DescriptionStyleModel",
      "state": {
       "description_width": ""
      }
     },
     "975b6a8def8e41d78fef2dd2336b143a": {
      "model_module": "@jupyter-widgets/base",
      "model_module_version": "1.2.0",
      "model_name": "LayoutModel",
      "state": {}
     },
     "9773429cbf7644adaf6db2ded66ac70d": {
      "model_module": "@jupyter-widgets/controls",
      "model_module_version": "1.5.0",
      "model_name": "FloatProgressModel",
      "state": {
       "bar_style": "success",
       "description": "[0] 1/2(train): 100%",
       "layout": "IPY_MODEL_16b5acfa76944b749432e2134c1cfc43",
       "max": 3,
       "style": "IPY_MODEL_101122ffcd0842698e74cde337df091e",
       "value": 3
      }
     },
     "978cacab0add4cc5bdd6a6d3cd7c6b26": {
      "model_module": "@jupyter-widgets/controls",
      "model_module_version": "1.5.0",
      "model_name": "DescriptionStyleModel",
      "state": {
       "description_width": ""
      }
     },
     "979b39579d054611aa046cf3e811b581": {
      "model_module": "@jupyter-widgets/base",
      "model_module_version": "1.2.0",
      "model_name": "LayoutModel",
      "state": {}
     },
     "979bcf8718df411c95665d25888fd8b6": {
      "model_module": "@jupyter-widgets/base",
      "model_module_version": "1.2.0",
      "model_name": "LayoutModel",
      "state": {}
     },
     "97a259713f034151ac8046735129a109": {
      "model_module": "@jupyter-widgets/controls",
      "model_module_version": "1.5.0",
      "model_name": "ProgressStyleModel",
      "state": {
       "description_width": "initial"
      }
     },
     "97ae5841d3924be39dc15ae43b0b81fb": {
      "model_module": "@jupyter-widgets/controls",
      "model_module_version": "1.5.0",
      "model_name": "HBoxModel",
      "state": {
       "children": [
        "IPY_MODEL_ef16381b45524201ae16e3e478c33977",
        "IPY_MODEL_43a6df63e91a4cb6966fc64f6c5c646b"
       ],
       "layout": "IPY_MODEL_c0deb37c5b3343d0bf155b65f6473d3b"
      }
     },
     "97ca973b8d8c4d6fa2ee4e9bb02e6b22": {
      "model_module": "@jupyter-widgets/base",
      "model_module_version": "1.2.0",
      "model_name": "LayoutModel",
      "state": {}
     },
     "97cf8271de29406ea12ca16d73aa3531": {
      "model_module": "@jupyter-widgets/base",
      "model_module_version": "1.2.0",
      "model_name": "LayoutModel",
      "state": {}
     },
     "97cf873318044bc3a9d4598f2951c849": {
      "model_module": "@jupyter-widgets/base",
      "model_module_version": "1.2.0",
      "model_name": "LayoutModel",
      "state": {}
     },
     "97ec105eb5514c8fb17842db18c3eefe": {
      "model_module": "@jupyter-widgets/base",
      "model_module_version": "1.2.0",
      "model_name": "LayoutModel",
      "state": {}
     },
     "97f35b9c481b42fcaf1b69e94927f83b": {
      "model_module": "@jupyter-widgets/controls",
      "model_module_version": "1.5.0",
      "model_name": "HBoxModel",
      "state": {
       "children": [
        "IPY_MODEL_d8a9be09f5214aca91a97c7c34f70cfc",
        "IPY_MODEL_27a45107780f4a16ac23226ea2757e91"
       ],
       "layout": "IPY_MODEL_5ceabbb4fd3345f4bf4b85da6818a7c8"
      }
     },
     "97f5f2e4d12544f29487423ee04b3864": {
      "model_module": "@jupyter-widgets/base",
      "model_module_version": "1.2.0",
      "model_name": "LayoutModel",
      "state": {}
     },
     "980ad1afe0bc441bb5a737fc8c4ee901": {
      "model_module": "@jupyter-widgets/controls",
      "model_module_version": "1.5.0",
      "model_name": "FloatProgressModel",
      "state": {
       "bar_style": "success",
       "description": "[1] 16/16(val  ): 100%",
       "layout": "IPY_MODEL_9a3f90801b124b0199b6d29ecc5a96af",
       "max": 165,
       "style": "IPY_MODEL_7436b4ef5a6b4f599e52a165c7fecf28",
       "value": 165
      }
     },
     "981d20f2ad6843399cd7f5ebde128e0e": {
      "model_module": "@jupyter-widgets/controls",
      "model_module_version": "1.5.0",
      "model_name": "DescriptionStyleModel",
      "state": {
       "description_width": ""
      }
     },
     "9857d9a924174f2287abfbcdf99f324f": {
      "model_module": "@jupyter-widgets/controls",
      "model_module_version": "1.5.0",
      "model_name": "DescriptionStyleModel",
      "state": {
       "description_width": ""
      }
     },
     "9888cf5b11fd4a77b2a8d687a5f9d10a": {
      "model_module": "@jupyter-widgets/controls",
      "model_module_version": "1.5.0",
      "model_name": "HBoxModel",
      "state": {
       "children": [
        "IPY_MODEL_0e55bf58358a46719286a649e00b10fc",
        "IPY_MODEL_e43adb9e25c64a11931a1a993f9b809d"
       ],
       "layout": "IPY_MODEL_4129ca15b25745ba96e6cd612aab1d26"
      }
     },
     "988ec4c820294429868a43c020aeeacc": {
      "model_module": "@jupyter-widgets/controls",
      "model_module_version": "1.5.0",
      "model_name": "HBoxModel",
      "state": {
       "children": [
        "IPY_MODEL_783dea54aaf443caa3990ee96cd7a99a",
        "IPY_MODEL_461a5c88f7734943b914709cc5e358f7"
       ],
       "layout": "IPY_MODEL_bcd10ee10cbf41dea6714cbed3792cdb"
      }
     },
     "98abde47e917418a872b567ff027b268": {
      "model_module": "@jupyter-widgets/base",
      "model_module_version": "1.2.0",
      "model_name": "LayoutModel",
      "state": {}
     },
     "98af91493129425d8a3fe09807e10e85": {
      "model_module": "@jupyter-widgets/controls",
      "model_module_version": "1.5.0",
      "model_name": "DescriptionStyleModel",
      "state": {
       "description_width": ""
      }
     },
     "98ca9a7e2959402aa1178061cec667d4": {
      "model_module": "@jupyter-widgets/base",
      "model_module_version": "1.2.0",
      "model_name": "LayoutModel",
      "state": {}
     },
     "98d76924c6cd4411b691e2b522aea187": {
      "model_module": "@jupyter-widgets/base",
      "model_module_version": "1.2.0",
      "model_name": "LayoutModel",
      "state": {}
     },
     "9907d82277f64f1da76c2ee849cf7e20": {
      "model_module": "@jupyter-widgets/controls",
      "model_module_version": "1.5.0",
      "model_name": "HBoxModel",
      "state": {
       "children": [
        "IPY_MODEL_355b1ca5efbf4a3a805cebda88853ad2",
        "IPY_MODEL_e04157707ff14dd8a25189f53f33c0ca"
       ],
       "layout": "IPY_MODEL_032eeb869cee44d8bf7cbd0f3fc0b934"
      }
     },
     "990a2026fe96427197db618dbabdc857": {
      "model_module": "@jupyter-widgets/controls",
      "model_module_version": "1.5.0",
      "model_name": "HTMLModel",
      "state": {
       "layout": "IPY_MODEL_c17abd09528646449c184cae149dbf9d",
       "style": "IPY_MODEL_4bdbecc8aa4d49cb8994d3b81cfaf2d1",
       "value": " 1/1 [00:00&lt;00:00,  1.44it/s]"
      }
     },
     "991acd68a2104c72aae15ed4c800364f": {
      "model_module": "@jupyter-widgets/base",
      "model_module_version": "1.2.0",
      "model_name": "LayoutModel",
      "state": {}
     },
     "996374e144d4481da504d330ba74cef6": {
      "model_module": "@jupyter-widgets/base",
      "model_module_version": "1.2.0",
      "model_name": "LayoutModel",
      "state": {}
     },
     "99645e1f3b43417f86e5d47377c9a2d3": {
      "model_module": "@jupyter-widgets/controls",
      "model_module_version": "1.5.0",
      "model_name": "FloatProgressModel",
      "state": {
       "bar_style": "success",
       "description": "[0] 11/15(val  ): 100%",
       "layout": "IPY_MODEL_230221ca059146b9a296750c0aa376e2",
       "max": 1,
       "style": "IPY_MODEL_fda9f131d18a4b448869700114d04320",
       "value": 1
      }
     },
     "99650eb1efe24d41b2c5762d02b3eb38": {
      "model_module": "@jupyter-widgets/base",
      "model_module_version": "1.2.0",
      "model_name": "LayoutModel",
      "state": {}
     },
     "998cde10031149c1911e564fea0474fe": {
      "model_module": "@jupyter-widgets/base",
      "model_module_version": "1.2.0",
      "model_name": "LayoutModel",
      "state": {}
     },
     "99a29198bde948ca92f7f6055d6c0b4f": {
      "model_module": "@jupyter-widgets/base",
      "model_module_version": "1.2.0",
      "model_name": "LayoutModel",
      "state": {}
     },
     "99ae8c0c7d9642d680dc2bcabacd104d": {
      "model_module": "@jupyter-widgets/controls",
      "model_module_version": "1.5.0",
      "model_name": "DescriptionStyleModel",
      "state": {
       "description_width": ""
      }
     },
     "99fc0b1509414c95acd7d3f3868ebd27": {
      "model_module": "@jupyter-widgets/controls",
      "model_module_version": "1.5.0",
      "model_name": "DescriptionStyleModel",
      "state": {
       "description_width": ""
      }
     },
     "9a3f90801b124b0199b6d29ecc5a96af": {
      "model_module": "@jupyter-widgets/base",
      "model_module_version": "1.2.0",
      "model_name": "LayoutModel",
      "state": {}
     },
     "9a46540934ff42d696603f686f117390": {
      "model_module": "@jupyter-widgets/base",
      "model_module_version": "1.2.0",
      "model_name": "LayoutModel",
      "state": {}
     },
     "9a76646919b546f1b5487bec4dbe2d11": {
      "model_module": "@jupyter-widgets/controls",
      "model_module_version": "1.5.0",
      "model_name": "HBoxModel",
      "state": {
       "children": [
        "IPY_MODEL_a8e941c32ca844a38babcc8d8676bf38",
        "IPY_MODEL_fe583c36c23745f98ee5efd86e296c5c"
       ],
       "layout": "IPY_MODEL_aa4ad870587e4bf5be1917cd8d05d621"
      }
     },
     "9a89a3b101cd47ecbb75092a43d71822": {
      "model_module": "@jupyter-widgets/controls",
      "model_module_version": "1.5.0",
      "model_name": "ProgressStyleModel",
      "state": {
       "description_width": "initial"
      }
     },
     "9ab029c451e6482c929e1cf407827a0b": {
      "model_module": "@jupyter-widgets/controls",
      "model_module_version": "1.5.0",
      "model_name": "DescriptionStyleModel",
      "state": {
       "description_width": ""
      }
     },
     "9acde502f55042a994be78bfe75b4103": {
      "model_module": "@jupyter-widgets/base",
      "model_module_version": "1.2.0",
      "model_name": "LayoutModel",
      "state": {}
     },
     "9adf5b1b651a42b78a11552666be02f9": {
      "model_module": "@jupyter-widgets/controls",
      "model_module_version": "1.5.0",
      "model_name": "ProgressStyleModel",
      "state": {
       "description_width": "initial"
      }
     },
     "9ae46908bc7947069ffc6436aea78fd6": {
      "model_module": "@jupyter-widgets/controls",
      "model_module_version": "1.5.0",
      "model_name": "DescriptionStyleModel",
      "state": {
       "description_width": ""
      }
     },
     "9b1351d31d3a4f64a020fe8480155717": {
      "model_module": "@jupyter-widgets/base",
      "model_module_version": "1.2.0",
      "model_name": "LayoutModel",
      "state": {}
     },
     "9b2b4d9283df4c7a9f3687eda4767f71": {
      "model_module": "@jupyter-widgets/controls",
      "model_module_version": "1.5.0",
      "model_name": "ProgressStyleModel",
      "state": {
       "description_width": "initial"
      }
     },
     "9b35ec75f8ec4f2c8f5df284ec1047ef": {
      "model_module": "@jupyter-widgets/controls",
      "model_module_version": "1.5.0",
      "model_name": "ProgressStyleModel",
      "state": {
       "description_width": "initial"
      }
     },
     "9b3c0cf122714ccf986aac91c74c718d": {
      "model_module": "@jupyter-widgets/controls",
      "model_module_version": "1.5.0",
      "model_name": "ProgressStyleModel",
      "state": {
       "description_width": "initial"
      }
     },
     "9b50a93a35c14245ac5c98b756e7cf67": {
      "model_module": "@jupyter-widgets/base",
      "model_module_version": "1.2.0",
      "model_name": "LayoutModel",
      "state": {}
     },
     "9b94beca99034620a5a996b36a06c8e2": {
      "model_module": "@jupyter-widgets/controls",
      "model_module_version": "1.5.0",
      "model_name": "FloatProgressModel",
      "state": {
       "bar_style": "success",
       "description": "[1] 12/16(train): 100%",
       "layout": "IPY_MODEL_3f292c5b734040dea6d0048be6254796",
       "max": 493,
       "style": "IPY_MODEL_78200d6298f945e49770a0e48d53986c",
       "value": 493
      }
     },
     "9ba9f5b6f5f24e14a3032a3bf2f595cf": {
      "model_module": "@jupyter-widgets/controls",
      "model_module_version": "1.5.0",
      "model_name": "HBoxModel",
      "state": {
       "children": [
        "IPY_MODEL_4d4144fbcc524e03a9af168d4e34e948",
        "IPY_MODEL_9bfe3abb80f14c2690db2b03a0f1c885"
       ],
       "layout": "IPY_MODEL_797d8eadf84f48cc9e03c9ed65c2d52e"
      }
     },
     "9baccc7ba8174ac2823c40361fd07b24": {
      "model_module": "@jupyter-widgets/base",
      "model_module_version": "1.2.0",
      "model_name": "LayoutModel",
      "state": {}
     },
     "9bb250efdc624d0598c1a52b8834a50e": {
      "model_module": "@jupyter-widgets/base",
      "model_module_version": "1.2.0",
      "model_name": "LayoutModel",
      "state": {}
     },
     "9bfa3e5995074029b10eeee3bf73a4bb": {
      "model_module": "@jupyter-widgets/controls",
      "model_module_version": "1.5.0",
      "model_name": "HTMLModel",
      "state": {
       "layout": "IPY_MODEL_529f65de4b51424da32ace044bf1a24e",
       "style": "IPY_MODEL_a0d253f6ee02491a8cc260757f8ef62d",
       "value": " 3/3 [00:06&lt;00:00,  2.24s/it]"
      }
     },
     "9bfe3abb80f14c2690db2b03a0f1c885": {
      "model_module": "@jupyter-widgets/controls",
      "model_module_version": "1.5.0",
      "model_name": "HTMLModel",
      "state": {
       "layout": "IPY_MODEL_253f3ec417e54482bfd35ae307c9b9ec",
       "style": "IPY_MODEL_ccfa2f0260614d9e8150c216f0c80dd2",
       "value": " 3/3 [00:31&lt;00:00, 10.60s/it]"
      }
     },
     "9c036c2f4ac64199a174f1a8e902f467": {
      "model_module": "@jupyter-widgets/controls",
      "model_module_version": "1.5.0",
      "model_name": "HBoxModel",
      "state": {
       "children": [
        "IPY_MODEL_227464c8f257470591d4c801a81029f9",
        "IPY_MODEL_dc11c0a5ba95434fa298eb48529212ce"
       ],
       "layout": "IPY_MODEL_5b547ba280d24f1db9b73a9b36fbc88d"
      }
     },
     "9c2579015f9b4b5193d27e8a10eaf4c9": {
      "model_module": "@jupyter-widgets/base",
      "model_module_version": "1.2.0",
      "model_name": "LayoutModel",
      "state": {}
     },
     "9c2ffc89213d444a9e5abbc3f9e1d7f6": {
      "model_module": "@jupyter-widgets/base",
      "model_module_version": "1.2.0",
      "model_name": "LayoutModel",
      "state": {}
     },
     "9c3367abfce94c63a73eb22b8927aa29": {
      "model_module": "@jupyter-widgets/controls",
      "model_module_version": "1.5.0",
      "model_name": "ProgressStyleModel",
      "state": {
       "description_width": "initial"
      }
     },
     "9c41f395a14c440e8a323f0d266e8658": {
      "model_module": "@jupyter-widgets/base",
      "model_module_version": "1.2.0",
      "model_name": "LayoutModel",
      "state": {}
     },
     "9c8a5e3e71474f1d9847031fe2ed7cd3": {
      "model_module": "@jupyter-widgets/controls",
      "model_module_version": "1.5.0",
      "model_name": "FloatProgressModel",
      "state": {
       "bar_style": "success",
       "description": "[3] 2/2(train): 100%",
       "layout": "IPY_MODEL_953d32c65d3345c2aeb5ddbf989d4546",
       "max": 3,
       "style": "IPY_MODEL_269aff19b0d3443ea2ae256ddd79cdd5",
       "value": 3
      }
     },
     "9c8e21bad1e44de6ba8006b8f3ffbc29": {
      "model_module": "@jupyter-widgets/controls",
      "model_module_version": "1.5.0",
      "model_name": "HTMLModel",
      "state": {
       "layout": "IPY_MODEL_950a88680c8c4e66a332dc71c267fbd4",
       "style": "IPY_MODEL_55a3fe282b734ffdb51950a4403b4aac",
       "value": " 165/165 [01:32&lt;00:00,  1.79it/s]"
      }
     },
     "9c9ddd885fac4392bb3f1bd68cf8d355": {
      "model_module": "@jupyter-widgets/base",
      "model_module_version": "1.2.0",
      "model_name": "LayoutModel",
      "state": {}
     },
     "9cb492de2bcf415d92b0f2ecfab5fdd3": {
      "model_module": "@jupyter-widgets/base",
      "model_module_version": "1.2.0",
      "model_name": "LayoutModel",
      "state": {}
     },
     "9cbffc2281a140f48d69b4fd39d6a5ad": {
      "model_module": "@jupyter-widgets/controls",
      "model_module_version": "1.5.0",
      "model_name": "HTMLModel",
      "state": {
       "layout": "IPY_MODEL_d8e9432e0248475fa69d0ad6109a32bd",
       "style": "IPY_MODEL_ce2a28a7752e47f6bdf83ccb087cce88",
       "value": " 165/165 [19:01&lt;00:00,  6.92s/it]"
      }
     },
     "9cd96efff9fd4731a3442b57eda71091": {
      "model_module": "@jupyter-widgets/base",
      "model_module_version": "1.2.0",
      "model_name": "LayoutModel",
      "state": {}
     },
     "9cdee8d5943f4cefb24ccba717055ae6": {
      "model_module": "@jupyter-widgets/controls",
      "model_module_version": "1.5.0",
      "model_name": "HBoxModel",
      "state": {
       "children": [
        "IPY_MODEL_8844e43ecc0f4cf28f129add597eb159",
        "IPY_MODEL_b6fdf80375e94516aa79338644eefafe"
       ],
       "layout": "IPY_MODEL_f3e4578af0014f209611ddb70f99d76f"
      }
     },
     "9cf7a466b2194f33824c911fca431800": {
      "model_module": "@jupyter-widgets/controls",
      "model_module_version": "1.5.0",
      "model_name": "HTMLModel",
      "state": {
       "layout": "IPY_MODEL_5981c86a9894437cb90304962bd218cc",
       "style": "IPY_MODEL_6f4d8c197eb648ffb5ef919a08276165",
       "value": " 165/165 [23:49&lt;00:00,  8.66s/it]"
      }
     },
     "9cf7c5ed1a134edea401aa6f4df94276": {
      "model_module": "@jupyter-widgets/controls",
      "model_module_version": "1.5.0",
      "model_name": "DescriptionStyleModel",
      "state": {
       "description_width": ""
      }
     },
     "9cfebbbb270d4a7ea50fddb7558917d3": {
      "model_module": "@jupyter-widgets/base",
      "model_module_version": "1.2.0",
      "model_name": "LayoutModel",
      "state": {}
     },
     "9d1e3d28bd6e41c5ab45692d2761f500": {
      "model_module": "@jupyter-widgets/controls",
      "model_module_version": "1.5.0",
      "model_name": "ProgressStyleModel",
      "state": {
       "description_width": "initial"
      }
     },
     "9d35b173aa184efcb524936c07cd98c8": {
      "model_module": "@jupyter-widgets/controls",
      "model_module_version": "1.5.0",
      "model_name": "DescriptionStyleModel",
      "state": {
       "description_width": ""
      }
     },
     "9d3cb9a51656403d89865eff97c4996f": {
      "model_module": "@jupyter-widgets/controls",
      "model_module_version": "1.5.0",
      "model_name": "DescriptionStyleModel",
      "state": {
       "description_width": ""
      }
     },
     "9d4b05e9197542d6b75239bd8541ca39": {
      "model_module": "@jupyter-widgets/controls",
      "model_module_version": "1.5.0",
      "model_name": "HBoxModel",
      "state": {
       "children": [
        "IPY_MODEL_d23562cf7f434f39a09d32c6702c134c",
        "IPY_MODEL_7487988cb20a4609abef34dc88d2f4ca"
       ],
       "layout": "IPY_MODEL_f5b1d55a100b4b9aad3cf4118cd8bae0"
      }
     },
     "9d63591e35be4fbcb288dda79428156b": {
      "model_module": "@jupyter-widgets/base",
      "model_module_version": "1.2.0",
      "model_name": "LayoutModel",
      "state": {}
     },
     "9d647f47e6184d65b8d7e3a8b5a1836f": {
      "model_module": "@jupyter-widgets/base",
      "model_module_version": "1.2.0",
      "model_name": "LayoutModel",
      "state": {}
     },
     "9e07a0656e42402185db958875863c4a": {
      "model_module": "@jupyter-widgets/base",
      "model_module_version": "1.2.0",
      "model_name": "LayoutModel",
      "state": {}
     },
     "9e107bf1fef74927b90e3f44c82b1f9b": {
      "model_module": "@jupyter-widgets/controls",
      "model_module_version": "1.5.0",
      "model_name": "ProgressStyleModel",
      "state": {
       "description_width": "initial"
      }
     },
     "9e16cfdf3c9448188b4d9012c971f1da": {
      "model_module": "@jupyter-widgets/base",
      "model_module_version": "1.2.0",
      "model_name": "LayoutModel",
      "state": {}
     },
     "9e396be02f6f4394ae8cc2007e7461eb": {
      "model_module": "@jupyter-widgets/base",
      "model_module_version": "1.2.0",
      "model_name": "LayoutModel",
      "state": {}
     },
     "9e4a851aed63480f883dc1e4cddc5879": {
      "model_module": "@jupyter-widgets/base",
      "model_module_version": "1.2.0",
      "model_name": "LayoutModel",
      "state": {}
     },
     "9e4e278add3c420f9f34355d4eba5575": {
      "model_module": "@jupyter-widgets/base",
      "model_module_version": "1.2.0",
      "model_name": "LayoutModel",
      "state": {}
     },
     "9e6813de6a7442efa267457fad90bdb7": {
      "model_module": "@jupyter-widgets/controls",
      "model_module_version": "1.5.0",
      "model_name": "ProgressStyleModel",
      "state": {
       "description_width": "initial"
      }
     },
     "9e6cf37c30064701a51bda6a0a33a436": {
      "model_module": "@jupyter-widgets/base",
      "model_module_version": "1.2.0",
      "model_name": "LayoutModel",
      "state": {}
     },
     "9e927cf3b650494b9a32a06db48fc255": {
      "model_module": "@jupyter-widgets/controls",
      "model_module_version": "1.5.0",
      "model_name": "HBoxModel",
      "state": {
       "children": [
        "IPY_MODEL_9f695a297821490f9419b87639e72d59",
        "IPY_MODEL_1189c5faf1464879acd01eb79d21b845"
       ],
       "layout": "IPY_MODEL_203bab7e15d840d5bc1c4399e1985290"
      }
     },
     "9eb360dc3aca4898933b0c46a6bdebaa": {
      "model_module": "@jupyter-widgets/base",
      "model_module_version": "1.2.0",
      "model_name": "LayoutModel",
      "state": {}
     },
     "9eb5e171ad9d459c9b0afbfd2f66cbd1": {
      "model_module": "@jupyter-widgets/controls",
      "model_module_version": "1.5.0",
      "model_name": "HBoxModel",
      "state": {
       "children": [
        "IPY_MODEL_495e4819b2954de99a9ae3dff132acaf",
        "IPY_MODEL_4916b3e1d47545359766358574d3d44e"
       ],
       "layout": "IPY_MODEL_470c5642304b4256ac0e760c64ad4ead"
      }
     },
     "9ee16e71d5af42bdafaef6d4f3b2d3c1": {
      "model_module": "@jupyter-widgets/controls",
      "model_module_version": "1.5.0",
      "model_name": "HBoxModel",
      "state": {
       "children": [
        "IPY_MODEL_1fe46005cc024ff18fd4fdfd7f8f1cd3",
        "IPY_MODEL_5fa3cb48e87241d7887ac557b50084de"
       ],
       "layout": "IPY_MODEL_9467f61d839246ae8ab1d106df2ac8a2"
      }
     },
     "9f077f6cf251461987f8238ec1b47c8e": {
      "model_module": "@jupyter-widgets/base",
      "model_module_version": "1.2.0",
      "model_name": "LayoutModel",
      "state": {}
     },
     "9f0821bc48c94b8ab4dff8c7876b5258": {
      "model_module": "@jupyter-widgets/controls",
      "model_module_version": "1.5.0",
      "model_name": "HBoxModel",
      "state": {
       "children": [
        "IPY_MODEL_2f362e77ee3942faa9db54c1190d079d",
        "IPY_MODEL_d4bf68e5d9b34effb017d90a8b975309"
       ],
       "layout": "IPY_MODEL_2bb1b8259d9c4e4c979201efdc744e28"
      }
     },
     "9f0dbdc14e524417a30827cbdbe6a403": {
      "model_module": "@jupyter-widgets/controls",
      "model_module_version": "1.5.0",
      "model_name": "DescriptionStyleModel",
      "state": {
       "description_width": ""
      }
     },
     "9f13d64085934881a6dd0ca52a161628": {
      "model_module": "@jupyter-widgets/controls",
      "model_module_version": "1.5.0",
      "model_name": "HTMLModel",
      "state": {
       "layout": "IPY_MODEL_30bb7c94be2d40739e883429b93fdda2",
       "style": "IPY_MODEL_8bd48e57168b49cfaa5654d7dfa81fbd",
       "value": " 1/1 [00:00&lt;00:00,  1.25it/s]"
      }
     },
     "9f695a297821490f9419b87639e72d59": {
      "model_module": "@jupyter-widgets/controls",
      "model_module_version": "1.5.0",
      "model_name": "FloatProgressModel",
      "state": {
       "bar_style": "success",
       "description": "[3] 12/16(train): 100%",
       "layout": "IPY_MODEL_7cdd2bc65f7d4ad69f58ab33ddb509e4",
       "max": 493,
       "style": "IPY_MODEL_8117fe6739a64faa8fbac3d65014c0a5",
       "value": 493
      }
     },
     "9f6d66db91e44dd0934470773b873d58": {
      "model_module": "@jupyter-widgets/controls",
      "model_module_version": "1.5.0",
      "model_name": "HTMLModel",
      "state": {
       "layout": "IPY_MODEL_11733a9b45f24b509936f425c27705df",
       "style": "IPY_MODEL_4555bb7c8d9d4b4b9fbab1e5eed06e7a",
       "value": " 3/3 [00:07&lt;00:00,  2.47s/it]"
      }
     },
     "9f8164050d354890b2e52779819cb0cb": {
      "model_module": "@jupyter-widgets/controls",
      "model_module_version": "1.5.0",
      "model_name": "HTMLModel",
      "state": {
       "layout": "IPY_MODEL_69984d2dfac641d2aed886afac8fa364",
       "style": "IPY_MODEL_08b5bb6ed3a94eb8becda8bab039f383",
       "value": " 165/165 [01:19&lt;00:00,  2.09it/s]"
      }
     },
     "9fd4c14381264f23bd1ac03aa5e25364": {
      "model_module": "@jupyter-widgets/base",
      "model_module_version": "1.2.0",
      "model_name": "LayoutModel",
      "state": {}
     },
     "9ff2a1b81aaf4553b9c6c475cf3b7ac5": {
      "model_module": "@jupyter-widgets/base",
      "model_module_version": "1.2.0",
      "model_name": "LayoutModel",
      "state": {}
     },
     "a00ed3db9d804650967c1b73ba6965f8": {
      "model_module": "@jupyter-widgets/controls",
      "model_module_version": "1.5.0",
      "model_name": "FloatProgressModel",
      "state": {
       "bar_style": "success",
       "description": "[0] 6/16(val  ): 100%",
       "layout": "IPY_MODEL_00f93c5fe06b4af1991b085c0c30ca55",
       "max": 165,
       "style": "IPY_MODEL_a1cbb11b7fcf4756b29a1bd315b172b6",
       "value": 165
      }
     },
     "a01f91728d3046ee8c80bb355ad23b25": {
      "model_module": "@jupyter-widgets/base",
      "model_module_version": "1.2.0",
      "model_name": "LayoutModel",
      "state": {}
     },
     "a037c3bb48064187a9a52e94c9d6db75": {
      "model_module": "@jupyter-widgets/base",
      "model_module_version": "1.2.0",
      "model_name": "LayoutModel",
      "state": {}
     },
     "a066e90acb7f49efb52042b784bd88cf": {
      "model_module": "@jupyter-widgets/controls",
      "model_module_version": "1.5.0",
      "model_name": "FloatProgressModel",
      "state": {
       "bar_style": "success",
       "description": "[1] 13/16(val  ): 100%",
       "layout": "IPY_MODEL_6fe2595b9626450a934eada5cd047463",
       "max": 165,
       "style": "IPY_MODEL_fbf0a31d662e4890b1f8cbd0b60ba1d3",
       "value": 165
      }
     },
     "a06da516041e4e1887b29b25ad619a87": {
      "model_module": "@jupyter-widgets/base",
      "model_module_version": "1.2.0",
      "model_name": "LayoutModel",
      "state": {}
     },
     "a071dd7fcb1f471f9367e3bb345cc3bd": {
      "model_module": "@jupyter-widgets/controls",
      "model_module_version": "1.5.0",
      "model_name": "HTMLModel",
      "state": {
       "layout": "IPY_MODEL_09012a1097d54a3fadcf55f68b935ccb",
       "style": "IPY_MODEL_6d397861f4fd4ea8ba265d271a2dc2ab",
       "value": " 1/1 [00:01&lt;00:00,  1.28s/it]"
      }
     },
     "a07e2af6b8d24a9bb3a75aa39ec7a814": {
      "model_module": "@jupyter-widgets/base",
      "model_module_version": "1.2.0",
      "model_name": "LayoutModel",
      "state": {}
     },
     "a086a6c08b764d83b95be70e84bca87f": {
      "model_module": "@jupyter-widgets/base",
      "model_module_version": "1.2.0",
      "model_name": "LayoutModel",
      "state": {}
     },
     "a09417b1ba86425eb821169bd2ed7127": {
      "model_module": "@jupyter-widgets/base",
      "model_module_version": "1.2.0",
      "model_name": "LayoutModel",
      "state": {}
     },
     "a0b6210ae770498eb6bcf0096350fcb9": {
      "model_module": "@jupyter-widgets/base",
      "model_module_version": "1.2.0",
      "model_name": "LayoutModel",
      "state": {}
     },
     "a0d05364633244c98711246ecf95ce8d": {
      "model_module": "@jupyter-widgets/controls",
      "model_module_version": "1.5.0",
      "model_name": "DescriptionStyleModel",
      "state": {
       "description_width": ""
      }
     },
     "a0d253f6ee02491a8cc260757f8ef62d": {
      "model_module": "@jupyter-widgets/controls",
      "model_module_version": "1.5.0",
      "model_name": "DescriptionStyleModel",
      "state": {
       "description_width": ""
      }
     },
     "a0d67db5312a4571afba078f4f7a5f8f": {
      "model_module": "@jupyter-widgets/controls",
      "model_module_version": "1.5.0",
      "model_name": "FloatProgressModel",
      "state": {
       "bar_style": "success",
       "description": "[3] 1/2(train): 100%",
       "layout": "IPY_MODEL_950dc800e36f4aa594120fed91e28816",
       "max": 3,
       "style": "IPY_MODEL_5d0c5c08aed14698a956d0d0ac9f10b9",
       "value": 3
      }
     },
     "a0d868d1ebb44772a8d69a968a15e8f0": {
      "model_module": "@jupyter-widgets/controls",
      "model_module_version": "1.5.0",
      "model_name": "ProgressStyleModel",
      "state": {
       "description_width": "initial"
      }
     },
     "a0efd965b19041099cb672a3aba216fd": {
      "model_module": "@jupyter-widgets/base",
      "model_module_version": "1.2.0",
      "model_name": "LayoutModel",
      "state": {}
     },
     "a10950d4ed5247a58a54b5d88b1faf5b": {
      "model_module": "@jupyter-widgets/base",
      "model_module_version": "1.2.0",
      "model_name": "LayoutModel",
      "state": {}
     },
     "a114c56613b44b07aaf7e86ed725367d": {
      "model_module": "@jupyter-widgets/base",
      "model_module_version": "1.2.0",
      "model_name": "LayoutModel",
      "state": {}
     },
     "a127b8f7cfab49399966b9571461a320": {
      "model_module": "@jupyter-widgets/controls",
      "model_module_version": "1.5.0",
      "model_name": "DescriptionStyleModel",
      "state": {
       "description_width": ""
      }
     },
     "a1383d2900544531a7f38b761b92244f": {
      "model_module": "@jupyter-widgets/controls",
      "model_module_version": "1.5.0",
      "model_name": "ProgressStyleModel",
      "state": {
       "description_width": "initial"
      }
     },
     "a13a16c9070140fb9075a8c24480ea14": {
      "model_module": "@jupyter-widgets/controls",
      "model_module_version": "1.5.0",
      "model_name": "DescriptionStyleModel",
      "state": {
       "description_width": ""
      }
     },
     "a13a203f5c2b41b98cfb0fa7344c7b65": {
      "model_module": "@jupyter-widgets/controls",
      "model_module_version": "1.5.0",
      "model_name": "HTMLModel",
      "state": {
       "layout": "IPY_MODEL_f5683bd9533f4b13bb35a587de67088e",
       "style": "IPY_MODEL_f0756f16e5794c45931ee5637388384e",
       "value": " 165/165 [2:48:17&lt;00:00, 61.20s/it]"
      }
     },
     "a186a862bbe749178bc355f0ec6d32da": {
      "model_module": "@jupyter-widgets/base",
      "model_module_version": "1.2.0",
      "model_name": "LayoutModel",
      "state": {}
     },
     "a1a52ab2e3214c0582adbd01e3ef0a35": {
      "model_module": "@jupyter-widgets/base",
      "model_module_version": "1.2.0",
      "model_name": "LayoutModel",
      "state": {}
     },
     "a1c1c75430784e9281b25061f8210807": {
      "model_module": "@jupyter-widgets/controls",
      "model_module_version": "1.5.0",
      "model_name": "HBoxModel",
      "state": {
       "children": [
        "IPY_MODEL_08440afcacfe4ce3b0154f7cf54f9eb7",
        "IPY_MODEL_80a3a961262945e495c702931da1c839"
       ],
       "layout": "IPY_MODEL_dab9b328734b4e8fa779e9461fca48fb"
      }
     },
     "a1cbb11b7fcf4756b29a1bd315b172b6": {
      "model_module": "@jupyter-widgets/controls",
      "model_module_version": "1.5.0",
      "model_name": "ProgressStyleModel",
      "state": {
       "description_width": "initial"
      }
     },
     "a1e610ed430e4ec4a9b0b58f64b680f1": {
      "model_module": "@jupyter-widgets/controls",
      "model_module_version": "1.5.0",
      "model_name": "HBoxModel",
      "state": {
       "children": [
        "IPY_MODEL_e895ef6f48e74c2b9895f788f40b30d7",
        "IPY_MODEL_b8d8ab3334c24aeab54bfcf4ea307950"
       ],
       "layout": "IPY_MODEL_a47eb4d06057476a8dee8d5f85cdbc4a"
      }
     },
     "a1f987edf3fd4eab9b28084213fcff6e": {
      "model_module": "@jupyter-widgets/base",
      "model_module_version": "1.2.0",
      "model_name": "LayoutModel",
      "state": {}
     },
     "a210b5ce0c5a44abb5f0e4714a7c6810": {
      "model_module": "@jupyter-widgets/controls",
      "model_module_version": "1.5.0",
      "model_name": "FloatProgressModel",
      "state": {
       "bar_style": "success",
       "description": "[3] 2/16(val  ): 100%",
       "layout": "IPY_MODEL_b9bc0a1cb6ce4384a8ea19f4477a831c",
       "max": 165,
       "style": "IPY_MODEL_6b22ccb6ead54700baff9f1dcebdfa2a",
       "value": 165
      }
     },
     "a2211fc054f34e509fb5f59bda0c0563": {
      "model_module": "@jupyter-widgets/controls",
      "model_module_version": "1.5.0",
      "model_name": "HBoxModel",
      "state": {
       "children": [
        "IPY_MODEL_96e6b17354c34b7f99b5ed9530427706",
        "IPY_MODEL_c1d8cf452c944e07ad57d535fb0f2485"
       ],
       "layout": "IPY_MODEL_99a29198bde948ca92f7f6055d6c0b4f"
      }
     },
     "a223c92652664fe2a0ab1f88742cf4f1": {
      "model_module": "@jupyter-widgets/base",
      "model_module_version": "1.2.0",
      "model_name": "LayoutModel",
      "state": {}
     },
     "a26c209a0cf0456bafc05fe2d2f199b6": {
      "model_module": "@jupyter-widgets/controls",
      "model_module_version": "1.5.0",
      "model_name": "ProgressStyleModel",
      "state": {
       "description_width": "initial"
      }
     },
     "a2964f07b45346e9be50234f0f25d5cd": {
      "model_module": "@jupyter-widgets/base",
      "model_module_version": "1.2.0",
      "model_name": "LayoutModel",
      "state": {}
     },
     "a2c6824682a240549e62b8b49d599f3c": {
      "model_module": "@jupyter-widgets/controls",
      "model_module_version": "1.5.0",
      "model_name": "HBoxModel",
      "state": {
       "children": [
        "IPY_MODEL_0f4f8c9402fb43dcb97c1f48d3cd6128",
        "IPY_MODEL_8d348bbe2be4471da2d4bb612e4debe4"
       ],
       "layout": "IPY_MODEL_426b6ea70e0b42d2aad2a98c9148cef6"
      }
     },
     "a2d133eb5df047ae8bbb1b7e90dbd00e": {
      "model_module": "@jupyter-widgets/base",
      "model_module_version": "1.2.0",
      "model_name": "LayoutModel",
      "state": {}
     },
     "a2deaf2a0cd245c9bcafd978e56dbb49": {
      "model_module": "@jupyter-widgets/controls",
      "model_module_version": "1.5.0",
      "model_name": "HTMLModel",
      "state": {
       "layout": "IPY_MODEL_8addcfeb73234849b1c231e1ef214385",
       "style": "IPY_MODEL_1a644d84552649be9bab27b02f56d407",
       "value": " 19/493 [00:56&lt;23:31,  2.98s/it]"
      }
     },
     "a2f68009a5f943a18ded13c2d95f07fa": {
      "model_module": "@jupyter-widgets/base",
      "model_module_version": "1.2.0",
      "model_name": "LayoutModel",
      "state": {}
     },
     "a303a24b10114ee6bd8d2e7c1f659e05": {
      "model_module": "@jupyter-widgets/base",
      "model_module_version": "1.2.0",
      "model_name": "LayoutModel",
      "state": {}
     },
     "a3157582fd8b405ab13befb6d6f6d50d": {
      "model_module": "@jupyter-widgets/base",
      "model_module_version": "1.2.0",
      "model_name": "LayoutModel",
      "state": {}
     },
     "a319de5f06ac419584594fc7bdf149da": {
      "model_module": "@jupyter-widgets/controls",
      "model_module_version": "1.5.0",
      "model_name": "HTMLModel",
      "state": {
       "layout": "IPY_MODEL_a3157582fd8b405ab13befb6d6f6d50d",
       "style": "IPY_MODEL_13616d86161248239e434b27f6d39a85",
       "value": " 1/1 [00:00&lt;00:00,  1.44it/s]"
      }
     },
     "a33e74032bb84f64a5d3a690b53f9333": {
      "model_module": "@jupyter-widgets/base",
      "model_module_version": "1.2.0",
      "model_name": "LayoutModel",
      "state": {}
     },
     "a345cdd61f174db2bcda4b37d4525024": {
      "model_module": "@jupyter-widgets/controls",
      "model_module_version": "1.5.0",
      "model_name": "DescriptionStyleModel",
      "state": {
       "description_width": ""
      }
     },
     "a357a1ef512b4696a36bcaeae986a009": {
      "model_module": "@jupyter-widgets/base",
      "model_module_version": "1.2.0",
      "model_name": "LayoutModel",
      "state": {}
     },
     "a363308af6904af1b90d5aeb929f25fc": {
      "model_module": "@jupyter-widgets/base",
      "model_module_version": "1.2.0",
      "model_name": "LayoutModel",
      "state": {}
     },
     "a3690d87bae04d159c48418bfebf082f": {
      "model_module": "@jupyter-widgets/controls",
      "model_module_version": "1.5.0",
      "model_name": "ProgressStyleModel",
      "state": {
       "description_width": "initial"
      }
     },
     "a38f78873c884be5ae38085cdf1ea1f0": {
      "model_module": "@jupyter-widgets/controls",
      "model_module_version": "1.5.0",
      "model_name": "DescriptionStyleModel",
      "state": {
       "description_width": ""
      }
     },
     "a3c42059fff5468896efcbbe852e2f42": {
      "model_module": "@jupyter-widgets/base",
      "model_module_version": "1.2.0",
      "model_name": "LayoutModel",
      "state": {}
     },
     "a3db152a033a454eb3a428d81084ddb4": {
      "model_module": "@jupyter-widgets/controls",
      "model_module_version": "1.5.0",
      "model_name": "FloatProgressModel",
      "state": {
       "bar_style": "success",
       "description": "[2] 14/16(train): 100%",
       "layout": "IPY_MODEL_538335aa2eb44c0d94fba2e9cf58a2b2",
       "max": 493,
       "style": "IPY_MODEL_8abe48bfae2d455e959e6d613478f7ce",
       "value": 493
      }
     },
     "a3e0183b233e424da18c90b0882c9c43": {
      "model_module": "@jupyter-widgets/controls",
      "model_module_version": "1.5.0",
      "model_name": "FloatProgressModel",
      "state": {
       "bar_style": "danger",
       "description": "[3] 1/15(train):   0%",
       "layout": "IPY_MODEL_cdef70a9398040279a67a4b706c854aa",
       "max": 493,
       "style": "IPY_MODEL_2fdb67fe4202491faf2612917a4aa579"
      }
     },
     "a3e414ae18704ee5966c8dd55a6d99e4": {
      "model_module": "@jupyter-widgets/controls",
      "model_module_version": "1.5.0",
      "model_name": "ProgressStyleModel",
      "state": {
       "description_width": "initial"
      }
     },
     "a3ead25236564023a62d61de5be14b72": {
      "model_module": "@jupyter-widgets/base",
      "model_module_version": "1.2.0",
      "model_name": "LayoutModel",
      "state": {}
     },
     "a445c45f93da4948b8c08c3d131ab7a8": {
      "model_module": "@jupyter-widgets/controls",
      "model_module_version": "1.5.0",
      "model_name": "ProgressStyleModel",
      "state": {
       "description_width": "initial"
      }
     },
     "a44e7b898ca249efad607794dbde6be9": {
      "model_module": "@jupyter-widgets/controls",
      "model_module_version": "1.5.0",
      "model_name": "HTMLModel",
      "state": {
       "layout": "IPY_MODEL_94fe25857056441692e702039d0ff48c",
       "style": "IPY_MODEL_a667fb897eea4ed2a50fa8a8a9f07edc",
       "value": " 3/3 [00:31&lt;00:00, 10.63s/it]"
      }
     },
     "a47391d25c934b7bb31535ef67a50510": {
      "model_module": "@jupyter-widgets/base",
      "model_module_version": "1.2.0",
      "model_name": "LayoutModel",
      "state": {}
     },
     "a47eb4d06057476a8dee8d5f85cdbc4a": {
      "model_module": "@jupyter-widgets/base",
      "model_module_version": "1.2.0",
      "model_name": "LayoutModel",
      "state": {}
     },
     "a4ab78c41afe41d3901f5d0beed891bd": {
      "model_module": "@jupyter-widgets/controls",
      "model_module_version": "1.5.0",
      "model_name": "FloatProgressModel",
      "state": {
       "bar_style": "success",
       "description": "[0] 1/16(val  ): 100%",
       "layout": "IPY_MODEL_9d647f47e6184d65b8d7e3a8b5a1836f",
       "max": 165,
       "style": "IPY_MODEL_ef22b7a91bba4a08ae3c9bd781177af9",
       "value": 165
      }
     },
     "a4b497d17b1649008d519f1be5bdaf8b": {
      "model_module": "@jupyter-widgets/controls",
      "model_module_version": "1.5.0",
      "model_name": "FloatProgressModel",
      "state": {
       "bar_style": "success",
       "description": "[2] 2/2(val  ): 100%",
       "layout": "IPY_MODEL_5bae2c71499b49ed85fdc52524b7a502",
       "max": 1,
       "style": "IPY_MODEL_90e395e8440340ad8d8877a517d33404",
       "value": 1
      }
     },
     "a4ba7f26187648048e7190fa9f8bb690": {
      "model_module": "@jupyter-widgets/controls",
      "model_module_version": "1.5.0",
      "model_name": "HTMLModel",
      "state": {
       "layout": "IPY_MODEL_47631cea8b5043ea89219e6373e8b5a5",
       "style": "IPY_MODEL_86a818abc4674ac2b73b1aa8887e1da5",
       "value": " 493/493 [20:22&lt;00:00,  2.48s/it]"
      }
     },
     "a4d0142a0abf4163a2bdfda12f3b598b": {
      "model_module": "@jupyter-widgets/controls",
      "model_module_version": "1.5.0",
      "model_name": "FloatProgressModel",
      "state": {
       "bar_style": "success",
       "description": "[3] 15/15(val  ): 100%",
       "layout": "IPY_MODEL_c494f41ca6384cf2ad66c6409bfd20b3",
       "max": 165,
       "style": "IPY_MODEL_3c4920b703494f148934600cf0b09ba1",
       "value": 165
      }
     },
     "a4eb3731b177428ab26953c38396ae51": {
      "model_module": "@jupyter-widgets/controls",
      "model_module_version": "1.5.0",
      "model_name": "FloatProgressModel",
      "state": {
       "bar_style": "success",
       "description": "[1] 1/2(val  ): 100%",
       "layout": "IPY_MODEL_4695a4df08b04d66a630860a41540e40",
       "max": 1,
       "style": "IPY_MODEL_e3a3168eb8ae4978a872714c194f0abc",
       "value": 1
      }
     },
     "a4fb43ff6f244acca099794ce7700343": {
      "model_module": "@jupyter-widgets/base",
      "model_module_version": "1.2.0",
      "model_name": "LayoutModel",
      "state": {}
     },
     "a50a65b8e0894bc7a85bee796ce9c299": {
      "model_module": "@jupyter-widgets/base",
      "model_module_version": "1.2.0",
      "model_name": "LayoutModel",
      "state": {}
     },
     "a514fceb0c5b409280121f5ee2c84be6": {
      "model_module": "@jupyter-widgets/base",
      "model_module_version": "1.2.0",
      "model_name": "LayoutModel",
      "state": {}
     },
     "a57cf337deb041239fac13d248a6692f": {
      "model_module": "@jupyter-widgets/base",
      "model_module_version": "1.2.0",
      "model_name": "LayoutModel",
      "state": {}
     },
     "a5aac586b8a64ddab14d5f1d9c9bf139": {
      "model_module": "@jupyter-widgets/controls",
      "model_module_version": "1.5.0",
      "model_name": "HTMLModel",
      "state": {
       "layout": "IPY_MODEL_c5e0657558684fa1ae140cb9aa7e9363",
       "style": "IPY_MODEL_5c0e00f475ed4da8a6b964780734da37",
       "value": " 493/493 [22:18&lt;00:00,  2.71s/it]"
      }
     },
     "a5c9a09355564f008f916f839e01fc41": {
      "model_module": "@jupyter-widgets/controls",
      "model_module_version": "1.5.0",
      "model_name": "HTMLModel",
      "state": {
       "layout": "IPY_MODEL_ec07d655093f44538c5a42973bd0855e",
       "style": "IPY_MODEL_c7dabd423fe14dbab098be5b9d57f264",
       "value": " 493/493 [1:33:36&lt;00:00, 11.39s/it]"
      }
     },
     "a5ca0c9d5a6d41ae8c6c2dc6236747e9": {
      "model_module": "@jupyter-widgets/controls",
      "model_module_version": "1.5.0",
      "model_name": "DescriptionStyleModel",
      "state": {
       "description_width": ""
      }
     },
     "a5d14a6891d4484c9a9a623a79de6cba": {
      "model_module": "@jupyter-widgets/controls",
      "model_module_version": "1.5.0",
      "model_name": "DescriptionStyleModel",
      "state": {
       "description_width": ""
      }
     },
     "a5e8bde7b26141d6a74e8f13506f914e": {
      "model_module": "@jupyter-widgets/base",
      "model_module_version": "1.2.0",
      "model_name": "LayoutModel",
      "state": {}
     },
     "a5f260e027e14f93bdc9ffa8b7fea7a6": {
      "model_module": "@jupyter-widgets/controls",
      "model_module_version": "1.5.0",
      "model_name": "HTMLModel",
      "state": {
       "layout": "IPY_MODEL_beea010a34634dd9b4809257afce1fc9",
       "style": "IPY_MODEL_4cdf249060ce4452a211003a767d01c3",
       "value": " 165/165 [01:31&lt;00:00,  1.79it/s]"
      }
     },
     "a5fa90b4d60d4640a2ff2773451c37e3": {
      "model_module": "@jupyter-widgets/controls",
      "model_module_version": "1.5.0",
      "model_name": "FloatProgressModel",
      "state": {
       "bar_style": "success",
       "description": "[0] 1/2(val  ): 100%",
       "layout": "IPY_MODEL_3550485c465c4f44b2e891ff93489834",
       "max": 1,
       "style": "IPY_MODEL_c54a9212f9aa4010b4ab84a548f8ce74",
       "value": 1
      }
     },
     "a604a7decfb54a14820fd0a083a01a07": {
      "model_module": "@jupyter-widgets/base",
      "model_module_version": "1.2.0",
      "model_name": "LayoutModel",
      "state": {}
     },
     "a61965fab1444f25ad8ffec1deef773e": {
      "model_module": "@jupyter-widgets/controls",
      "model_module_version": "1.5.0",
      "model_name": "HTMLModel",
      "state": {
       "layout": "IPY_MODEL_6c8d60b6e1a940f8aaf16a5580775fe5",
       "style": "IPY_MODEL_e4aa921d4244418b8839d752b6caaafe",
       "value": " 3/3 [00:06&lt;00:00,  2.19s/it]"
      }
     },
     "a632787a3f52450ba8423bb606a98f86": {
      "model_module": "@jupyter-widgets/controls",
      "model_module_version": "1.5.0",
      "model_name": "ProgressStyleModel",
      "state": {
       "description_width": "initial"
      }
     },
     "a63e4db04d3b417f82dac7768d1ce10c": {
      "model_module": "@jupyter-widgets/controls",
      "model_module_version": "1.5.0",
      "model_name": "DescriptionStyleModel",
      "state": {
       "description_width": ""
      }
     },
     "a64abdb3531c4b7d894d4da699d70d1e": {
      "model_module": "@jupyter-widgets/base",
      "model_module_version": "1.2.0",
      "model_name": "LayoutModel",
      "state": {}
     },
     "a657a15b064e44858de80085ef6f45ac": {
      "model_module": "@jupyter-widgets/base",
      "model_module_version": "1.2.0",
      "model_name": "LayoutModel",
      "state": {}
     },
     "a66362c4cfcf4221b00e80b790d17480": {
      "model_module": "@jupyter-widgets/base",
      "model_module_version": "1.2.0",
      "model_name": "LayoutModel",
      "state": {}
     },
     "a667fb897eea4ed2a50fa8a8a9f07edc": {
      "model_module": "@jupyter-widgets/controls",
      "model_module_version": "1.5.0",
      "model_name": "DescriptionStyleModel",
      "state": {
       "description_width": ""
      }
     },
     "a66e6580711e4c1da9435ff181fdcaba": {
      "model_module": "@jupyter-widgets/base",
      "model_module_version": "1.2.0",
      "model_name": "LayoutModel",
      "state": {}
     },
     "a67621ac7d194b9ea9a96c5f2dee4721": {
      "model_module": "@jupyter-widgets/base",
      "model_module_version": "1.2.0",
      "model_name": "LayoutModel",
      "state": {}
     },
     "a67691fcefff409fa77e12297011cd6d": {
      "model_module": "@jupyter-widgets/base",
      "model_module_version": "1.2.0",
      "model_name": "LayoutModel",
      "state": {}
     },
     "a68e46d43b5144f1b617403a05f1cdc2": {
      "model_module": "@jupyter-widgets/controls",
      "model_module_version": "1.5.0",
      "model_name": "DescriptionStyleModel",
      "state": {
       "description_width": ""
      }
     },
     "a6e31d37254b4953b063d5dec408b858": {
      "model_module": "@jupyter-widgets/base",
      "model_module_version": "1.2.0",
      "model_name": "LayoutModel",
      "state": {}
     },
     "a6f8fee142dc418588319edcefba1a05": {
      "model_module": "@jupyter-widgets/base",
      "model_module_version": "1.2.0",
      "model_name": "LayoutModel",
      "state": {}
     },
     "a6fb6d43f8774e3bbbd4c82f42e45568": {
      "model_module": "@jupyter-widgets/base",
      "model_module_version": "1.2.0",
      "model_name": "LayoutModel",
      "state": {}
     },
     "a70f30c963ef47f0bc285905d366ed8d": {
      "model_module": "@jupyter-widgets/controls",
      "model_module_version": "1.5.0",
      "model_name": "DescriptionStyleModel",
      "state": {
       "description_width": ""
      }
     },
     "a73d3c033a74423fb98e293c8c790f23": {
      "model_module": "@jupyter-widgets/base",
      "model_module_version": "1.2.0",
      "model_name": "LayoutModel",
      "state": {}
     },
     "a741572ed9f5473eb2f3041baa6604d9": {
      "model_module": "@jupyter-widgets/controls",
      "model_module_version": "1.5.0",
      "model_name": "FloatProgressModel",
      "state": {
       "bar_style": "success",
       "description": "[2] 2/16(train): 100%",
       "layout": "IPY_MODEL_b9161ae45b4d4c5688fe974991a8f7e9",
       "max": 493,
       "style": "IPY_MODEL_2789bc4eab4648f7a76113f5a12f9f33",
       "value": 493
      }
     },
     "a74cd05d66744638a15970295c42f6f0": {
      "model_module": "@jupyter-widgets/base",
      "model_module_version": "1.2.0",
      "model_name": "LayoutModel",
      "state": {}
     },
     "a75cb71c7a014847835951dd01a2a7c4": {
      "model_module": "@jupyter-widgets/base",
      "model_module_version": "1.2.0",
      "model_name": "LayoutModel",
      "state": {}
     },
     "a77ff7211c4b44ca92b129068c9050b4": {
      "model_module": "@jupyter-widgets/base",
      "model_module_version": "1.2.0",
      "model_name": "LayoutModel",
      "state": {}
     },
     "a781a4ffa3ff4112a23d9ac5f88b9acf": {
      "model_module": "@jupyter-widgets/controls",
      "model_module_version": "1.5.0",
      "model_name": "FloatProgressModel",
      "state": {
       "bar_style": "success",
       "description": "[1] 15/16(val  ): 100%",
       "layout": "IPY_MODEL_d2ee0f5b5f99432ea5c14e51585bd519",
       "max": 165,
       "style": "IPY_MODEL_52da6038b3344bf3826ec8ae1ddc2737",
       "value": 165
      }
     },
     "a79cba8762d642cfb43069207a45010c": {
      "model_module": "@jupyter-widgets/controls",
      "model_module_version": "1.5.0",
      "model_name": "HBoxModel",
      "state": {
       "children": [
        "IPY_MODEL_d9677d64f4074745b8f1cda91285d7da",
        "IPY_MODEL_82cace1779474e83bcfe4c29d82a8a19"
       ],
       "layout": "IPY_MODEL_74793939727846cd8710188bd6876e58"
      }
     },
     "a7c13cd1b50a4355aee7f6416af8bd5a": {
      "model_module": "@jupyter-widgets/controls",
      "model_module_version": "1.5.0",
      "model_name": "FloatProgressModel",
      "state": {
       "bar_style": "success",
       "description": "[1] 2/2(train): 100%",
       "layout": "IPY_MODEL_f54a6a3405cd4e628e7fb33d533c656f",
       "max": 3,
       "style": "IPY_MODEL_f2126b7dce4644fe9753517ba73d4140",
       "value": 3
      }
     },
     "a7cae6036e5b47a69f79ab42ff1c8d32": {
      "model_module": "@jupyter-widgets/base",
      "model_module_version": "1.2.0",
      "model_name": "LayoutModel",
      "state": {}
     },
     "a7ceeae7211e45c2938b25db074c87ba": {
      "model_module": "@jupyter-widgets/base",
      "model_module_version": "1.2.0",
      "model_name": "LayoutModel",
      "state": {}
     },
     "a7d767804f5143fd8d922dc4cecec781": {
      "model_module": "@jupyter-widgets/base",
      "model_module_version": "1.2.0",
      "model_name": "LayoutModel",
      "state": {}
     },
     "a820cf54ee9346c8a96be162827baf76": {
      "model_module": "@jupyter-widgets/controls",
      "model_module_version": "1.5.0",
      "model_name": "DescriptionStyleModel",
      "state": {
       "description_width": ""
      }
     },
     "a8320cc08c314cea90ccbdd18f8f5d04": {
      "model_module": "@jupyter-widgets/controls",
      "model_module_version": "1.5.0",
      "model_name": "ProgressStyleModel",
      "state": {
       "description_width": "initial"
      }
     },
     "a85656354c9d4cc0ad463fc64a380177": {
      "model_module": "@jupyter-widgets/base",
      "model_module_version": "1.2.0",
      "model_name": "LayoutModel",
      "state": {}
     },
     "a85817a303f94eb3bfed0475326474ce": {
      "model_module": "@jupyter-widgets/controls",
      "model_module_version": "1.5.0",
      "model_name": "ProgressStyleModel",
      "state": {
       "description_width": "initial"
      }
     },
     "a87a24fbfa7740e8bec66004f9192835": {
      "model_module": "@jupyter-widgets/controls",
      "model_module_version": "1.5.0",
      "model_name": "DescriptionStyleModel",
      "state": {
       "description_width": ""
      }
     },
     "a88c4ab01f1240308f73c60196d9a21a": {
      "model_module": "@jupyter-widgets/base",
      "model_module_version": "1.2.0",
      "model_name": "LayoutModel",
      "state": {}
     },
     "a8a3b1e3a3b5402aa59c800392e1ae6d": {
      "model_module": "@jupyter-widgets/controls",
      "model_module_version": "1.5.0",
      "model_name": "HTMLModel",
      "state": {
       "layout": "IPY_MODEL_538139514d584cc6affb3415e3737201",
       "style": "IPY_MODEL_eb522305b91d428ba612e30e78b66365",
       "value": " 1/1 [00:00&lt;00:00,  1.25it/s]"
      }
     },
     "a8ac0eb7f3a34e6ca9f4bc17ba0a9ef7": {
      "model_module": "@jupyter-widgets/controls",
      "model_module_version": "1.5.0",
      "model_name": "DescriptionStyleModel",
      "state": {
       "description_width": ""
      }
     },
     "a8c4a1eb2434495789fd9b8f3e1aa72b": {
      "model_module": "@jupyter-widgets/controls",
      "model_module_version": "1.5.0",
      "model_name": "HTMLModel",
      "state": {
       "layout": "IPY_MODEL_d2409914ccb54d92853fc522a6a9474e",
       "style": "IPY_MODEL_06ba428bf0e64888ba43a5a315e1d5f4",
       "value": " 1/1 [00:00&lt;00:00,  1.25it/s]"
      }
     },
     "a8e136b278a441e7bbfbc1ea54571534": {
      "model_module": "@jupyter-widgets/controls",
      "model_module_version": "1.5.0",
      "model_name": "DescriptionStyleModel",
      "state": {
       "description_width": ""
      }
     },
     "a8e941c32ca844a38babcc8d8676bf38": {
      "model_module": "@jupyter-widgets/controls",
      "model_module_version": "1.5.0",
      "model_name": "FloatProgressModel",
      "state": {
       "bar_style": "success",
       "description": "[1] 4/16(train): 100%",
       "layout": "IPY_MODEL_6539e5ff5a3b4ddaa0f75c2d3e29dc12",
       "max": 493,
       "style": "IPY_MODEL_b52f599c8fe64d388c7af1e39b26f11d",
       "value": 493
      }
     },
     "a8f74695247f486fa13dabc886469e2c": {
      "model_module": "@jupyter-widgets/controls",
      "model_module_version": "1.5.0",
      "model_name": "HBoxModel",
      "state": {
       "children": [
        "IPY_MODEL_3f040dfc21e64fc9a36368bc73d09169",
        "IPY_MODEL_2522252acbc04cd6be85c93d648eef54"
       ],
       "layout": "IPY_MODEL_5903d2b6c430442f931dfd40d2a2e496"
      }
     },
     "a91578117c1f46258630b26776ccf8d1": {
      "model_module": "@jupyter-widgets/base",
      "model_module_version": "1.2.0",
      "model_name": "LayoutModel",
      "state": {}
     },
     "a955631703f44bbf837ce30835ec498a": {
      "model_module": "@jupyter-widgets/controls",
      "model_module_version": "1.5.0",
      "model_name": "HBoxModel",
      "state": {
       "children": [
        "IPY_MODEL_b3c073d377a34c70b83ffe053d0c9093",
        "IPY_MODEL_1b3ff726cc0b459294d72714e64c4d11"
       ],
       "layout": "IPY_MODEL_199b280d1a794d1898b93e3e311ee1a0"
      }
     },
     "a9628001826c45fa81349a6df97b8c3f": {
      "model_module": "@jupyter-widgets/base",
      "model_module_version": "1.2.0",
      "model_name": "LayoutModel",
      "state": {}
     },
     "a986604cf8884dada1cdf9d2752304e1": {
      "model_module": "@jupyter-widgets/controls",
      "model_module_version": "1.5.0",
      "model_name": "ProgressStyleModel",
      "state": {
       "description_width": "initial"
      }
     },
     "a98a584a776a4b6c9e4cd2d4ee4c1aa6": {
      "model_module": "@jupyter-widgets/controls",
      "model_module_version": "1.5.0",
      "model_name": "ProgressStyleModel",
      "state": {
       "description_width": "initial"
      }
     },
     "a9c2fed8cef94800bc085a016b0e25ed": {
      "model_module": "@jupyter-widgets/controls",
      "model_module_version": "1.5.0",
      "model_name": "FloatProgressModel",
      "state": {
       "bar_style": "success",
       "description": "[2] 2/2(val  ): 100%",
       "layout": "IPY_MODEL_034483c7cccf46ec904c9d4623c2fca5",
       "max": 1,
       "style": "IPY_MODEL_c5ee82f003f244a7aee4e811e3b9a371",
       "value": 1
      }
     },
     "a9f6878a97a74c6a98ac800aee5591dd": {
      "model_module": "@jupyter-widgets/controls",
      "model_module_version": "1.5.0",
      "model_name": "DescriptionStyleModel",
      "state": {
       "description_width": ""
      }
     },
     "aa085558d85046e59f485724f23e6ddd": {
      "model_module": "@jupyter-widgets/controls",
      "model_module_version": "1.5.0",
      "model_name": "FloatProgressModel",
      "state": {
       "bar_style": "success",
       "description": "[1] 12/15(train): 100%",
       "layout": "IPY_MODEL_afe04bef26554fc59e65a10e95359d67",
       "max": 3,
       "style": "IPY_MODEL_e4c305ef47454cc88dfa1b9572384251",
       "value": 3
      }
     },
     "aa11c02b5ea9436095e315bf7d3af18e": {
      "model_module": "@jupyter-widgets/controls",
      "model_module_version": "1.5.0",
      "model_name": "FloatProgressModel",
      "state": {
       "bar_style": "danger",
       "description": "[1] 1/15(train):   0%",
       "layout": "IPY_MODEL_632413d7154a49599d422e5a663f411e",
       "max": 3,
       "style": "IPY_MODEL_4aceac01cc7f49c59638a6f2d43d6061"
      }
     },
     "aa428f77929143fdb65ac5fedeafbd3b": {
      "model_module": "@jupyter-widgets/base",
      "model_module_version": "1.2.0",
      "model_name": "LayoutModel",
      "state": {}
     },
     "aa4ad870587e4bf5be1917cd8d05d621": {
      "model_module": "@jupyter-widgets/base",
      "model_module_version": "1.2.0",
      "model_name": "LayoutModel",
      "state": {}
     },
     "aa52e1cc0b0a480480f0c12c1de3f89d": {
      "model_module": "@jupyter-widgets/controls",
      "model_module_version": "1.5.0",
      "model_name": "DescriptionStyleModel",
      "state": {
       "description_width": ""
      }
     },
     "aa79b1a187854a9580eb7a1299cd3710": {
      "model_module": "@jupyter-widgets/controls",
      "model_module_version": "1.5.0",
      "model_name": "DescriptionStyleModel",
      "state": {
       "description_width": ""
      }
     },
     "aa8f905b4eb448239df58cd00404d47f": {
      "model_module": "@jupyter-widgets/base",
      "model_module_version": "1.2.0",
      "model_name": "LayoutModel",
      "state": {}
     },
     "aab510427ccb447aa193204eb06dd382": {
      "model_module": "@jupyter-widgets/base",
      "model_module_version": "1.2.0",
      "model_name": "LayoutModel",
      "state": {}
     },
     "aade49c2565944988a31a59336ef2594": {
      "model_module": "@jupyter-widgets/controls",
      "model_module_version": "1.5.0",
      "model_name": "FloatProgressModel",
      "state": {
       "bar_style": "success",
       "description": "[3] 8/15(train): 100%",
       "layout": "IPY_MODEL_2021b247e9554d18b00b5ec20fe17a73",
       "max": 493,
       "style": "IPY_MODEL_7f91fc21b6c14d8da30634df472e177a",
       "value": 493
      }
     },
     "aadfccc1b80b49e59fd9a70a67fabf9c": {
      "model_module": "@jupyter-widgets/base",
      "model_module_version": "1.2.0",
      "model_name": "LayoutModel",
      "state": {}
     },
     "ab0705f3fe204b30b15b8885f3603835": {
      "model_module": "@jupyter-widgets/base",
      "model_module_version": "1.2.0",
      "model_name": "LayoutModel",
      "state": {}
     },
     "ab19c3d648e7461289ec1908ac1bc7e5": {
      "model_module": "@jupyter-widgets/base",
      "model_module_version": "1.2.0",
      "model_name": "LayoutModel",
      "state": {}
     },
     "ab2677f47f1b4c368a8de78cfec35145": {
      "model_module": "@jupyter-widgets/base",
      "model_module_version": "1.2.0",
      "model_name": "LayoutModel",
      "state": {}
     },
     "ab38d85a4d0e4cb697a94dcb257cbc7a": {
      "model_module": "@jupyter-widgets/base",
      "model_module_version": "1.2.0",
      "model_name": "LayoutModel",
      "state": {}
     },
     "ab3e967396d247348f5579df3af095cd": {
      "model_module": "@jupyter-widgets/controls",
      "model_module_version": "1.5.0",
      "model_name": "HBoxModel",
      "state": {
       "children": [
        "IPY_MODEL_5735891c4cc840719a1b5991ad0919e1",
        "IPY_MODEL_4000e3114f164c61ab907c2b7bbdbfd3"
       ],
       "layout": "IPY_MODEL_7b902e47eb5b4c20be075bdbf243c996"
      }
     },
     "ab6c58c1d85b426e9ca1f2272213ae0e": {
      "model_module": "@jupyter-widgets/base",
      "model_module_version": "1.2.0",
      "model_name": "LayoutModel",
      "state": {}
     },
     "ab6e92ae4f9d4f65a3d6452db8180a80": {
      "model_module": "@jupyter-widgets/controls",
      "model_module_version": "1.5.0",
      "model_name": "FloatProgressModel",
      "state": {
       "bar_style": "success",
       "description": "[3] 15/16(val  ): 100%",
       "layout": "IPY_MODEL_a186a862bbe749178bc355f0ec6d32da",
       "max": 165,
       "style": "IPY_MODEL_8469fa5ed4964f43846e8e167ff23510",
       "value": 165
      }
     },
     "ab74da4efdcc493581ba8dd9732f8989": {
      "model_module": "@jupyter-widgets/base",
      "model_module_version": "1.2.0",
      "model_name": "LayoutModel",
      "state": {}
     },
     "ab80d501b21c450697f33440f984877c": {
      "model_module": "@jupyter-widgets/controls",
      "model_module_version": "1.5.0",
      "model_name": "FloatProgressModel",
      "state": {
       "bar_style": "success",
       "description": "[2] 15/16(val  ): 100%",
       "layout": "IPY_MODEL_a7cae6036e5b47a69f79ab42ff1c8d32",
       "max": 165,
       "style": "IPY_MODEL_79bbd07e024a43159c3f9d3aeade2db0",
       "value": 165
      }
     },
     "ab812a072e304e638cf06d8f9df8dbe5": {
      "model_module": "@jupyter-widgets/controls",
      "model_module_version": "1.5.0",
      "model_name": "HTMLModel",
      "state": {
       "layout": "IPY_MODEL_8b3cfbd43e8843f6a63903101cf61840",
       "style": "IPY_MODEL_72beb9beb3284c9c81b98ba6df130894",
       "value": " 1/1 [00:01&lt;00:00,  1.15s/it]"
      }
     },
     "ab82bae6df3e474799effd7f8d3e5082": {
      "model_module": "@jupyter-widgets/base",
      "model_module_version": "1.2.0",
      "model_name": "LayoutModel",
      "state": {}
     },
     "abe0446f0185463983fd0805a9d5e743": {
      "model_module": "@jupyter-widgets/base",
      "model_module_version": "1.2.0",
      "model_name": "LayoutModel",
      "state": {}
     },
     "abeaaee1a0734ed4b5202673f8d0305d": {
      "model_module": "@jupyter-widgets/controls",
      "model_module_version": "1.5.0",
      "model_name": "DescriptionStyleModel",
      "state": {
       "description_width": ""
      }
     },
     "ac08d8a3a596427b97cf5099e7135ef3": {
      "model_module": "@jupyter-widgets/base",
      "model_module_version": "1.2.0",
      "model_name": "LayoutModel",
      "state": {}
     },
     "ac1e60112ea54e70bc228e5d3d1e7cd7": {
      "model_module": "@jupyter-widgets/controls",
      "model_module_version": "1.5.0",
      "model_name": "ProgressStyleModel",
      "state": {
       "description_width": "initial"
      }
     },
     "ac326dacb7cd453d90d86b0bb628112c": {
      "model_module": "@jupyter-widgets/controls",
      "model_module_version": "1.5.0",
      "model_name": "ProgressStyleModel",
      "state": {
       "description_width": "initial"
      }
     },
     "ac403ff2a8004dac8026cd58b79d5558": {
      "model_module": "@jupyter-widgets/controls",
      "model_module_version": "1.5.0",
      "model_name": "HBoxModel",
      "state": {
       "children": [
        "IPY_MODEL_5693fe3de8794373b4107b9a1274f283",
        "IPY_MODEL_f8e6c3d48c1143439a766bbcc7c6044f"
       ],
       "layout": "IPY_MODEL_75281d422f2a428c9f8e3b5a49f413bb"
      }
     },
     "ac535832af23478ca37e1f95b0282df2": {
      "model_module": "@jupyter-widgets/controls",
      "model_module_version": "1.5.0",
      "model_name": "DescriptionStyleModel",
      "state": {
       "description_width": ""
      }
     },
     "ac58d650ea374e12964e2d3dd0d8beca": {
      "model_module": "@jupyter-widgets/controls",
      "model_module_version": "1.5.0",
      "model_name": "ProgressStyleModel",
      "state": {
       "description_width": "initial"
      }
     },
     "ac685f3dcde94c348fffff8133bedfea": {
      "model_module": "@jupyter-widgets/controls",
      "model_module_version": "1.5.0",
      "model_name": "DescriptionStyleModel",
      "state": {
       "description_width": ""
      }
     },
     "ac86aef42b9d4c35b792759a81d69b6f": {
      "model_module": "@jupyter-widgets/controls",
      "model_module_version": "1.5.0",
      "model_name": "ProgressStyleModel",
      "state": {
       "description_width": "initial"
      }
     },
     "ac8cc7c1ddf54de890fc768e5d81c578": {
      "model_module": "@jupyter-widgets/controls",
      "model_module_version": "1.5.0",
      "model_name": "HTMLModel",
      "state": {
       "layout": "IPY_MODEL_c9b9653276fe4609a90a94522defc889",
       "style": "IPY_MODEL_c85ce9f6f2454208b0264ee7593ae679",
       "value": " 1/1 [00:00&lt;00:00,  1.11it/s]"
      }
     },
     "acb72e38f632440794a50f1929f431e9": {
      "model_module": "@jupyter-widgets/controls",
      "model_module_version": "1.5.0",
      "model_name": "HBoxModel",
      "state": {
       "children": [
        "IPY_MODEL_ab80d501b21c450697f33440f984877c",
        "IPY_MODEL_22f671f75eb3481990c4ded44b89d4ab"
       ],
       "layout": "IPY_MODEL_a2d133eb5df047ae8bbb1b7e90dbd00e"
      }
     },
     "acbafc2ab17f479fb7a6d87834246bbf": {
      "model_module": "@jupyter-widgets/base",
      "model_module_version": "1.2.0",
      "model_name": "LayoutModel",
      "state": {}
     },
     "acbef5f13fce4905be1462d32e11db02": {
      "model_module": "@jupyter-widgets/controls",
      "model_module_version": "1.5.0",
      "model_name": "HBoxModel",
      "state": {
       "children": [
        "IPY_MODEL_a210b5ce0c5a44abb5f0e4714a7c6810",
        "IPY_MODEL_3edbb14ba7ee4e1e9be1a435c7c14fca"
       ],
       "layout": "IPY_MODEL_a7ceeae7211e45c2938b25db074c87ba"
      }
     },
     "acd9d5afa21444fa99de0c3b562f4074": {
      "model_module": "@jupyter-widgets/controls",
      "model_module_version": "1.5.0",
      "model_name": "HBoxModel",
      "state": {
       "children": [
        "IPY_MODEL_4ec8a2b21d05439aa678d04f1e260e18",
        "IPY_MODEL_b7f44f9433f7493790fe757980cd8834"
       ],
       "layout": "IPY_MODEL_92f926df6d1c4b348b8c9c363995b94c"
      }
     },
     "ace1db1661744e8dbaa5107ab41cf2a8": {
      "model_module": "@jupyter-widgets/controls",
      "model_module_version": "1.5.0",
      "model_name": "HBoxModel",
      "state": {
       "children": [
        "IPY_MODEL_250be4ce58144dec892348d52f02d074",
        "IPY_MODEL_8c792a01de50437f8c3b71749fd201a0"
       ],
       "layout": "IPY_MODEL_8d5fb126f3a04e8ca05861f262d7790c"
      }
     },
     "ad09005d18474e5894c3dab7a8090076": {
      "model_module": "@jupyter-widgets/controls",
      "model_module_version": "1.5.0",
      "model_name": "HTMLModel",
      "state": {
       "layout": "IPY_MODEL_dcaaf058a7a641ca8aada1af9a9eee0d",
       "style": "IPY_MODEL_2b842f6742574074b1499591187259ba",
       "value": " 0/493 [01:20&lt;?, ?it/s]"
      }
     },
     "ad1868d20051463aaa75925535afdd1e": {
      "model_module": "@jupyter-widgets/base",
      "model_module_version": "1.2.0",
      "model_name": "LayoutModel",
      "state": {}
     },
     "ad1f7e0f9c004d2f8ca916dd5d09870b": {
      "model_module": "@jupyter-widgets/controls",
      "model_module_version": "1.5.0",
      "model_name": "ProgressStyleModel",
      "state": {
       "description_width": "initial"
      }
     },
     "ad221f21cb56415492e68b68c48a7516": {
      "model_module": "@jupyter-widgets/controls",
      "model_module_version": "1.5.0",
      "model_name": "HTMLModel",
      "state": {
       "layout": "IPY_MODEL_b2c2479d9f8d4510b3c0b3d9fa4fbbb0",
       "style": "IPY_MODEL_c40087ff115a44e580216d51f5bae315",
       "value": " 3/3 [00:07&lt;00:00,  2.51s/it]"
      }
     },
     "ad2c603f813c4f5e9eb3d1bc60835ba2": {
      "model_module": "@jupyter-widgets/base",
      "model_module_version": "1.2.0",
      "model_name": "LayoutModel",
      "state": {}
     },
     "ad2f9c83fd984e629a7481fc380f29a6": {
      "model_module": "@jupyter-widgets/base",
      "model_module_version": "1.2.0",
      "model_name": "LayoutModel",
      "state": {}
     },
     "ad3324e283614c7faae0a03d7ed2be9f": {
      "model_module": "@jupyter-widgets/base",
      "model_module_version": "1.2.0",
      "model_name": "LayoutModel",
      "state": {}
     },
     "ad336667eee3421780ee2896eb57f4ff": {
      "model_module": "@jupyter-widgets/base",
      "model_module_version": "1.2.0",
      "model_name": "LayoutModel",
      "state": {}
     },
     "ad350c7a0f8b4cf6b4371161f23e9dbb": {
      "model_module": "@jupyter-widgets/controls",
      "model_module_version": "1.5.0",
      "model_name": "ProgressStyleModel",
      "state": {
       "description_width": "initial"
      }
     },
     "ad40f61bf11b419f97e5a3e3b458dcb2": {
      "model_module": "@jupyter-widgets/controls",
      "model_module_version": "1.5.0",
      "model_name": "HTMLModel",
      "state": {
       "layout": "IPY_MODEL_e474f981ed784a2aacd69670d6466b24",
       "style": "IPY_MODEL_b52c2570ef0d493d9caeef791f2440ff",
       "value": " 165/165 [01:31&lt;00:00,  1.80it/s]"
      }
     },
     "ad6c49628e3c4eea8f11a37320caba96": {
      "model_module": "@jupyter-widgets/base",
      "model_module_version": "1.2.0",
      "model_name": "LayoutModel",
      "state": {}
     },
     "ad86bc4c61c14ee9a9343b3946aea35a": {
      "model_module": "@jupyter-widgets/controls",
      "model_module_version": "1.5.0",
      "model_name": "HTMLModel",
      "state": {
       "layout": "IPY_MODEL_d8c7111b2610489e8ad5768601dd5944",
       "style": "IPY_MODEL_99ae8c0c7d9642d680dc2bcabacd104d",
       "value": " 3/3 [00:05&lt;00:00,  1.87s/it]"
      }
     },
     "ad8d48dce4674eff87b4e6b8738be655": {
      "model_module": "@jupyter-widgets/base",
      "model_module_version": "1.2.0",
      "model_name": "LayoutModel",
      "state": {}
     },
     "adc0c16d0a9d486d91961572f559aad6": {
      "model_module": "@jupyter-widgets/controls",
      "model_module_version": "1.5.0",
      "model_name": "HBoxModel",
      "state": {
       "children": [
        "IPY_MODEL_ab6e92ae4f9d4f65a3d6452db8180a80",
        "IPY_MODEL_93490ad8e9664de6ba9d18d4dedf0eed"
       ],
       "layout": "IPY_MODEL_ee6b1751390c4d39bb26f46a415d8de2"
      }
     },
     "adcb010bc15c44c39c00e7512cd6129c": {
      "model_module": "@jupyter-widgets/controls",
      "model_module_version": "1.5.0",
      "model_name": "HBoxModel",
      "state": {
       "children": [
        "IPY_MODEL_4b29dcd7137c4390bd68d552f07292ad",
        "IPY_MODEL_7552f21f12b04e7c81eb95cb213f7c4f"
       ],
       "layout": "IPY_MODEL_93b1ce9ad8f34f9dad398ae19d95af63"
      }
     },
     "addf4e4167514f4e903c35ec5ac06694": {
      "model_module": "@jupyter-widgets/controls",
      "model_module_version": "1.5.0",
      "model_name": "ProgressStyleModel",
      "state": {
       "description_width": "initial"
      }
     },
     "ade18df653de4e78abdf2fb6ba666bb7": {
      "model_module": "@jupyter-widgets/controls",
      "model_module_version": "1.5.0",
      "model_name": "HBoxModel",
      "state": {
       "children": [
        "IPY_MODEL_6df446a7f2d540a5ae2ba992a7ec40c5",
        "IPY_MODEL_ee6fb553d00e48949353e253f559e9c3"
       ],
       "layout": "IPY_MODEL_ee95610167b34bd893d1d49171b468bd"
      }
     },
     "ae0a63b3f307420386e6eacca0f4f1b6": {
      "model_module": "@jupyter-widgets/base",
      "model_module_version": "1.2.0",
      "model_name": "LayoutModel",
      "state": {}
     },
     "ae7630bebe464d7db5f30270aecf9f8d": {
      "model_module": "@jupyter-widgets/controls",
      "model_module_version": "1.5.0",
      "model_name": "HBoxModel",
      "state": {
       "children": [
        "IPY_MODEL_d8f6a425cec74665baec978f541bae52",
        "IPY_MODEL_dbd59e41152943c592c6b4e484af3151"
       ],
       "layout": "IPY_MODEL_ab0705f3fe204b30b15b8885f3603835"
      }
     },
     "ae9fabe73ba24a26a54a99f8f080ea01": {
      "model_module": "@jupyter-widgets/controls",
      "model_module_version": "1.5.0",
      "model_name": "FloatProgressModel",
      "state": {
       "bar_style": "success",
       "description": "[0] 2/2(val  ): 100%",
       "layout": "IPY_MODEL_781c5e9bab064b55853ae9cbeffbff47",
       "max": 1,
       "style": "IPY_MODEL_d7859d50fb1b490ca8988673f2d14f4e",
       "value": 1
      }
     },
     "aea01d1a073040a79861b5b8c1bc8f58": {
      "model_module": "@jupyter-widgets/controls",
      "model_module_version": "1.5.0",
      "model_name": "DescriptionStyleModel",
      "state": {
       "description_width": ""
      }
     },
     "aea3b5a49b0f41a08468dbef61f4e689": {
      "model_module": "@jupyter-widgets/base",
      "model_module_version": "1.2.0",
      "model_name": "LayoutModel",
      "state": {}
     },
     "aebea14e66074e9a94544b022b8a717c": {
      "model_module": "@jupyter-widgets/controls",
      "model_module_version": "1.5.0",
      "model_name": "HTMLModel",
      "state": {
       "layout": "IPY_MODEL_12cb01313635475fadc3d794aea061b2",
       "style": "IPY_MODEL_d736fef93c484f10a39252f557a9cf06",
       "value": " 165/165 [01:31&lt;00:00,  1.81it/s]"
      }
     },
     "aec2f67121ae417399e0f0b3ca60b514": {
      "model_module": "@jupyter-widgets/controls",
      "model_module_version": "1.5.0",
      "model_name": "ProgressStyleModel",
      "state": {
       "description_width": "initial"
      }
     },
     "aecedebf8cd24a9f947e643b3bb37b62": {
      "model_module": "@jupyter-widgets/controls",
      "model_module_version": "1.5.0",
      "model_name": "ProgressStyleModel",
      "state": {
       "description_width": "initial"
      }
     },
     "aedddd306efa4e2a8aa7341042c6d0c3": {
      "model_module": "@jupyter-widgets/controls",
      "model_module_version": "1.5.0",
      "model_name": "FloatProgressModel",
      "state": {
       "bar_style": "success",
       "description": "[3] 5/16(val  ): 100%",
       "layout": "IPY_MODEL_f1196708372747edb7281cada3463842",
       "max": 165,
       "style": "IPY_MODEL_da10c1efa3dc48d5a46695957b29c4be",
       "value": 165
      }
     },
     "aef34e2316154bac86ae942e8d138ea4": {
      "model_module": "@jupyter-widgets/base",
      "model_module_version": "1.2.0",
      "model_name": "LayoutModel",
      "state": {}
     },
     "af5edcab20834d05b0d25f28ebca846f": {
      "model_module": "@jupyter-widgets/base",
      "model_module_version": "1.2.0",
      "model_name": "LayoutModel",
      "state": {}
     },
     "af78458405454744965127bcbe441d6f": {
      "model_module": "@jupyter-widgets/controls",
      "model_module_version": "1.5.0",
      "model_name": "HTMLModel",
      "state": {
       "layout": "IPY_MODEL_a07e2af6b8d24a9bb3a75aa39ec7a814",
       "style": "IPY_MODEL_be9e798d580a42b1add8a470df064694",
       "value": " 493/493 [23:52&lt;00:00,  2.91s/it]"
      }
     },
     "af7b923a53324030a4774f6348090257": {
      "model_module": "@jupyter-widgets/controls",
      "model_module_version": "1.5.0",
      "model_name": "FloatProgressModel",
      "state": {
       "bar_style": "success",
       "description": "[0] 4/15(train): 100%",
       "layout": "IPY_MODEL_80fdc8c7a7894951bc1c3597187fa578",
       "max": 3,
       "style": "IPY_MODEL_7908cf1fc28c4048969cae54024e7396",
       "value": 3
      }
     },
     "af7c207c7f284e77a3606d0ac7b44d88": {
      "model_module": "@jupyter-widgets/base",
      "model_module_version": "1.2.0",
      "model_name": "LayoutModel",
      "state": {}
     },
     "af81c7a1fd764b7287301d55665bda70": {
      "model_module": "@jupyter-widgets/base",
      "model_module_version": "1.2.0",
      "model_name": "LayoutModel",
      "state": {}
     },
     "afa1a052a3234c11b66969f2c91e3cad": {
      "model_module": "@jupyter-widgets/controls",
      "model_module_version": "1.5.0",
      "model_name": "HTMLModel",
      "state": {
       "layout": "IPY_MODEL_277b4dff6c8046dfa224c03e43d38b08",
       "style": "IPY_MODEL_ec9cfb152dfb4dd2a1c9d7d4f80abf8b",
       "value": " 0/493 [19:11&lt;?, ?it/s]"
      }
     },
     "afba84b2d96540fda7bac9e4e4b8b5f8": {
      "model_module": "@jupyter-widgets/base",
      "model_module_version": "1.2.0",
      "model_name": "LayoutModel",
      "state": {}
     },
     "afc0a81652a6494bb5b563b62bbd8a5a": {
      "model_module": "@jupyter-widgets/controls",
      "model_module_version": "1.5.0",
      "model_name": "DescriptionStyleModel",
      "state": {
       "description_width": ""
      }
     },
     "afc5b97a3e534305a0e19c334fde7882": {
      "model_module": "@jupyter-widgets/controls",
      "model_module_version": "1.5.0",
      "model_name": "HBoxModel",
      "state": {
       "children": [
        "IPY_MODEL_017d8aa365c847a7ba3352763550ab7b",
        "IPY_MODEL_53e9f65f8ade42768c49946a51e21ee9"
       ],
       "layout": "IPY_MODEL_dd66b039073147cfbe4a945cb75155da"
      }
     },
     "afcb6ade47f14ff5a1429e7532b1b55e": {
      "model_module": "@jupyter-widgets/base",
      "model_module_version": "1.2.0",
      "model_name": "LayoutModel",
      "state": {}
     },
     "afe04bef26554fc59e65a10e95359d67": {
      "model_module": "@jupyter-widgets/base",
      "model_module_version": "1.2.0",
      "model_name": "LayoutModel",
      "state": {}
     },
     "afe2d0c447d64f358404acb48794f304": {
      "model_module": "@jupyter-widgets/controls",
      "model_module_version": "1.5.0",
      "model_name": "HBoxModel",
      "state": {
       "children": [
        "IPY_MODEL_95da06a79c6540219b45c90ddd622280",
        "IPY_MODEL_b85e50ce7a7647b4b703e946a15c875b"
       ],
       "layout": "IPY_MODEL_9ff2a1b81aaf4553b9c6c475cf3b7ac5"
      }
     },
     "b01e2871c5044cf088913830913d20af": {
      "model_module": "@jupyter-widgets/controls",
      "model_module_version": "1.5.0",
      "model_name": "HBoxModel",
      "state": {
       "children": [
        "IPY_MODEL_4c4f03ecb7e9463b9b4646fa81668217",
        "IPY_MODEL_f60cb62a880741259ff61c4d3c2a82e5"
       ],
       "layout": "IPY_MODEL_97ca973b8d8c4d6fa2ee4e9bb02e6b22"
      }
     },
     "b02c4aab616845f59797a4b1cf7b6964": {
      "model_module": "@jupyter-widgets/base",
      "model_module_version": "1.2.0",
      "model_name": "LayoutModel",
      "state": {}
     },
     "b04583f8df344c5c9b98f7f6863bcfe6": {
      "model_module": "@jupyter-widgets/controls",
      "model_module_version": "1.5.0",
      "model_name": "HTMLModel",
      "state": {
       "layout": "IPY_MODEL_fb855910bc0c4e4a9bb6c8ae89c3d1dd",
       "style": "IPY_MODEL_ba0131d933274f85a961d032b7a1ef8a",
       "value": " 493/493 [3:32:52&lt;00:00, 25.91s/it]"
      }
     },
     "b065218d9b294c708075895ee8944d5d": {
      "model_module": "@jupyter-widgets/base",
      "model_module_version": "1.2.0",
      "model_name": "LayoutModel",
      "state": {}
     },
     "b09b8a0bdd4844d0870f179410d1ed37": {
      "model_module": "@jupyter-widgets/controls",
      "model_module_version": "1.5.0",
      "model_name": "ProgressStyleModel",
      "state": {
       "description_width": "initial"
      }
     },
     "b0a97eaeed8e4deaa060404688f367d5": {
      "model_module": "@jupyter-widgets/base",
      "model_module_version": "1.2.0",
      "model_name": "LayoutModel",
      "state": {}
     },
     "b0b533a280a64a679c1bbcd55f10aed5": {
      "model_module": "@jupyter-widgets/base",
      "model_module_version": "1.2.0",
      "model_name": "LayoutModel",
      "state": {}
     },
     "b0c52f84d8e04f3997214a53d63cc234": {
      "model_module": "@jupyter-widgets/controls",
      "model_module_version": "1.5.0",
      "model_name": "DescriptionStyleModel",
      "state": {
       "description_width": ""
      }
     },
     "b0f2882d8f3b4fe4acccb44ab770b074": {
      "model_module": "@jupyter-widgets/base",
      "model_module_version": "1.2.0",
      "model_name": "LayoutModel",
      "state": {}
     },
     "b0f8f40b6eb444f3b20f6c8adb952016": {
      "model_module": "@jupyter-widgets/controls",
      "model_module_version": "1.5.0",
      "model_name": "DescriptionStyleModel",
      "state": {
       "description_width": ""
      }
     },
     "b101a1c22c2944bba634d099cf619f3d": {
      "model_module": "@jupyter-widgets/base",
      "model_module_version": "1.2.0",
      "model_name": "LayoutModel",
      "state": {}
     },
     "b1065a3d6b9a47aaadd718baf6260045": {
      "model_module": "@jupyter-widgets/controls",
      "model_module_version": "1.5.0",
      "model_name": "DescriptionStyleModel",
      "state": {
       "description_width": ""
      }
     },
     "b10c37ea0bdc473ab68a99e103904f2d": {
      "model_module": "@jupyter-widgets/base",
      "model_module_version": "1.2.0",
      "model_name": "LayoutModel",
      "state": {}
     },
     "b11bc4f78e4c43ce811ba5c482c9ebe2": {
      "model_module": "@jupyter-widgets/base",
      "model_module_version": "1.2.0",
      "model_name": "LayoutModel",
      "state": {}
     },
     "b12648f270c349608b07455230141243": {
      "model_module": "@jupyter-widgets/base",
      "model_module_version": "1.2.0",
      "model_name": "LayoutModel",
      "state": {}
     },
     "b141d63883ce41bdbd5a26eeb92acc3b": {
      "model_module": "@jupyter-widgets/controls",
      "model_module_version": "1.5.0",
      "model_name": "DescriptionStyleModel",
      "state": {
       "description_width": ""
      }
     },
     "b1430724cc824a81a8e2d3ff32ea8a17": {
      "model_module": "@jupyter-widgets/base",
      "model_module_version": "1.2.0",
      "model_name": "LayoutModel",
      "state": {}
     },
     "b17cca6e6f224f72a7032e049563ac37": {
      "model_module": "@jupyter-widgets/base",
      "model_module_version": "1.2.0",
      "model_name": "LayoutModel",
      "state": {}
     },
     "b1aac02f51ce487783b677a7a928dee2": {
      "model_module": "@jupyter-widgets/controls",
      "model_module_version": "1.5.0",
      "model_name": "HBoxModel",
      "state": {
       "children": [
        "IPY_MODEL_4d89327fc2914aaebc49e0b7d6ceb397",
        "IPY_MODEL_3a471f1e66014da1b3fb8f3482c0c08b"
       ],
       "layout": "IPY_MODEL_5d5d10b6c5c64406850e19afd46bc87b"
      }
     },
     "b2330c763eb9444d98d1381259771fa8": {
      "model_module": "@jupyter-widgets/controls",
      "model_module_version": "1.5.0",
      "model_name": "HBoxModel",
      "state": {
       "children": [
        "IPY_MODEL_54aeb73a255c43808cc5f83dc2e5173f",
        "IPY_MODEL_a5c9a09355564f008f916f839e01fc41"
       ],
       "layout": "IPY_MODEL_1ae564c7eb8140ada2c6aa76fbd4c334"
      }
     },
     "b239b5c02fd4459ca6910181b7315db4": {
      "model_module": "@jupyter-widgets/controls",
      "model_module_version": "1.5.0",
      "model_name": "FloatProgressModel",
      "state": {
       "bar_style": "success",
       "description": "[3] 6/15(train): 100%",
       "layout": "IPY_MODEL_380f105c13f54bc1b9a9be71ba7bd0d4",
       "max": 493,
       "style": "IPY_MODEL_2b666f688dd94707a2fa7da592e867ba",
       "value": 493
      }
     },
     "b2400a4ca13c4df38e64fd9092277932": {
      "model_module": "@jupyter-widgets/controls",
      "model_module_version": "1.5.0",
      "model_name": "DescriptionStyleModel",
      "state": {
       "description_width": ""
      }
     },
     "b242c093f570400994a4325d122cad70": {
      "model_module": "@jupyter-widgets/controls",
      "model_module_version": "1.5.0",
      "model_name": "DescriptionStyleModel",
      "state": {
       "description_width": ""
      }
     },
     "b254aa13f758447299747a44e9099e53": {
      "model_module": "@jupyter-widgets/controls",
      "model_module_version": "1.5.0",
      "model_name": "HBoxModel",
      "state": {
       "children": [
        "IPY_MODEL_21e28111db7441f78ba193fd16c5137e",
        "IPY_MODEL_ad09005d18474e5894c3dab7a8090076"
       ],
       "layout": "IPY_MODEL_a0efd965b19041099cb672a3aba216fd"
      }
     },
     "b26f33c6886d4f529b915ec88a2443c4": {
      "model_module": "@jupyter-widgets/controls",
      "model_module_version": "1.5.0",
      "model_name": "HBoxModel",
      "state": {
       "children": [
        "IPY_MODEL_193c498d40084170b217b11cc3732f50",
        "IPY_MODEL_350e368e82ce409db990f9a895f20aa3"
       ],
       "layout": "IPY_MODEL_13910667edac4c28879dc32095d71a68"
      }
     },
     "b2a6507abc3547b4b5dbf8f351aa7e48": {
      "model_module": "@jupyter-widgets/controls",
      "model_module_version": "1.5.0",
      "model_name": "ProgressStyleModel",
      "state": {
       "description_width": "initial"
      }
     },
     "b2aa6c87743543508028516d61433e66": {
      "model_module": "@jupyter-widgets/base",
      "model_module_version": "1.2.0",
      "model_name": "LayoutModel",
      "state": {}
     },
     "b2adc74476874a2cadf2c0f5dd740d6c": {
      "model_module": "@jupyter-widgets/controls",
      "model_module_version": "1.5.0",
      "model_name": "HTMLModel",
      "state": {
       "layout": "IPY_MODEL_ebd4b8367ff04b62b96ea63d4c9fb5e1",
       "style": "IPY_MODEL_96380cc222754f998cab6c45d3cabda9",
       "value": " 3/3 [00:07&lt;00:00,  2.65s/it]"
      }
     },
     "b2b432fc40304ba0b3afe561aab48a2e": {
      "model_module": "@jupyter-widgets/base",
      "model_module_version": "1.2.0",
      "model_name": "LayoutModel",
      "state": {}
     },
     "b2c2479d9f8d4510b3c0b3d9fa4fbbb0": {
      "model_module": "@jupyter-widgets/base",
      "model_module_version": "1.2.0",
      "model_name": "LayoutModel",
      "state": {}
     },
     "b2dcfd56136f45fdab9186d051bcbdf4": {
      "model_module": "@jupyter-widgets/base",
      "model_module_version": "1.2.0",
      "model_name": "LayoutModel",
      "state": {}
     },
     "b2e7d122d8714641845e150a501fdac1": {
      "model_module": "@jupyter-widgets/base",
      "model_module_version": "1.2.0",
      "model_name": "LayoutModel",
      "state": {}
     },
     "b2f888210b0c4d1a8ad528fc50f38eb8": {
      "model_module": "@jupyter-widgets/controls",
      "model_module_version": "1.5.0",
      "model_name": "ProgressStyleModel",
      "state": {
       "description_width": "initial"
      }
     },
     "b32e8354d2ae49ca86ff8cab789d7f69": {
      "model_module": "@jupyter-widgets/controls",
      "model_module_version": "1.5.0",
      "model_name": "HTMLModel",
      "state": {
       "layout": "IPY_MODEL_09bf746d1f4b41b991c412bece70784a",
       "style": "IPY_MODEL_5c38fea0e5d44be08a482393b7471c13",
       "value": " 165/165 [39:28&lt;00:00, 14.36s/it]"
      }
     },
     "b346440a81334761990f52c09c406828": {
      "model_module": "@jupyter-widgets/base",
      "model_module_version": "1.2.0",
      "model_name": "LayoutModel",
      "state": {}
     },
     "b34a2aa90cf14076a2d40899017c8ba7": {
      "model_module": "@jupyter-widgets/controls",
      "model_module_version": "1.5.0",
      "model_name": "HTMLModel",
      "state": {
       "layout": "IPY_MODEL_3c5912b704834fbfa3e9e439438f6eb8",
       "style": "IPY_MODEL_37dc4276bcd94ad0868907fad55ca00f",
       "value": " 165/165 [01:20&lt;00:00,  2.06it/s]"
      }
     },
     "b3709e9813a94dca8c6563772880a81c": {
      "model_module": "@jupyter-widgets/base",
      "model_module_version": "1.2.0",
      "model_name": "LayoutModel",
      "state": {}
     },
     "b38605696b114980823fd34e0be177cf": {
      "model_module": "@jupyter-widgets/controls",
      "model_module_version": "1.5.0",
      "model_name": "FloatProgressModel",
      "state": {
       "bar_style": "success",
       "description": "[3] 2/15(train): 100%",
       "layout": "IPY_MODEL_1fc801e2ebff4f549bdf665aad7a45c6",
       "max": 493,
       "style": "IPY_MODEL_a632787a3f52450ba8423bb606a98f86",
       "value": 493
      }
     },
     "b3ac3658a5204ea1902f306956195174": {
      "model_module": "@jupyter-widgets/controls",
      "model_module_version": "1.5.0",
      "model_name": "FloatProgressModel",
      "state": {
       "bar_style": "success",
       "description": "[3] 1/2(train): 100%",
       "layout": "IPY_MODEL_c264feb18271481eaa1c5c5f14d79044",
       "max": 3,
       "style": "IPY_MODEL_9a89a3b101cd47ecbb75092a43d71822",
       "value": 3
      }
     },
     "b3bc3cac77ab4502be47d8b476145ab5": {
      "model_module": "@jupyter-widgets/base",
      "model_module_version": "1.2.0",
      "model_name": "LayoutModel",
      "state": {}
     },
     "b3c073d377a34c70b83ffe053d0c9093": {
      "model_module": "@jupyter-widgets/controls",
      "model_module_version": "1.5.0",
      "model_name": "FloatProgressModel",
      "state": {
       "bar_style": "success",
       "description": "[0] 2/2(train): 100%",
       "layout": "IPY_MODEL_4781330b103e4737918cdfd3d477f2f5",
       "max": 3,
       "style": "IPY_MODEL_bc30963476344c899a8ad2e3b299edb4",
       "value": 3
      }
     },
     "b3ca3e548ac242f2b2d93dda3552898d": {
      "model_module": "@jupyter-widgets/controls",
      "model_module_version": "1.5.0",
      "model_name": "DescriptionStyleModel",
      "state": {
       "description_width": ""
      }
     },
     "b3d1e8fe0d13405c900dfd9765a93ee0": {
      "model_module": "@jupyter-widgets/controls",
      "model_module_version": "1.5.0",
      "model_name": "FloatProgressModel",
      "state": {
       "bar_style": "success",
       "description": "[2] 7/15(train): 100%",
       "layout": "IPY_MODEL_4d345935543645fea0a5b9b9242906a1",
       "max": 493,
       "style": "IPY_MODEL_506de5c5476247818706466340ac423b",
       "value": 493
      }
     },
     "b3e3185c0de64296815ce5c2931ff5d9": {
      "model_module": "@jupyter-widgets/controls",
      "model_module_version": "1.5.0",
      "model_name": "ProgressStyleModel",
      "state": {
       "description_width": "initial"
      }
     },
     "b3f485db24aa42e7902105a67084ef4a": {
      "model_module": "@jupyter-widgets/controls",
      "model_module_version": "1.5.0",
      "model_name": "DescriptionStyleModel",
      "state": {
       "description_width": ""
      }
     },
     "b3fe5a1c157647ec853365c1f806c0af": {
      "model_module": "@jupyter-widgets/controls",
      "model_module_version": "1.5.0",
      "model_name": "HBoxModel",
      "state": {
       "children": [
        "IPY_MODEL_fc48f55830e641dfbd3d5a23809e4757",
        "IPY_MODEL_fb141eb047414fb88da941e57fa7d0a6"
       ],
       "layout": "IPY_MODEL_90549020a537477285aa4074b4a47096"
      }
     },
     "b40431961fd04519a7d21dc1926136f7": {
      "model_module": "@jupyter-widgets/base",
      "model_module_version": "1.2.0",
      "model_name": "LayoutModel",
      "state": {}
     },
     "b40e6d600e6f46c3ab230ef577a59d33": {
      "model_module": "@jupyter-widgets/controls",
      "model_module_version": "1.5.0",
      "model_name": "DescriptionStyleModel",
      "state": {
       "description_width": ""
      }
     },
     "b417fed245404d8b963b7f5f37186d91": {
      "model_module": "@jupyter-widgets/base",
      "model_module_version": "1.2.0",
      "model_name": "LayoutModel",
      "state": {}
     },
     "b44cf38172d349a99537284299ba05f8": {
      "model_module": "@jupyter-widgets/controls",
      "model_module_version": "1.5.0",
      "model_name": "HBoxModel",
      "state": {
       "children": [
        "IPY_MODEL_a781a4ffa3ff4112a23d9ac5f88b9acf",
        "IPY_MODEL_b7408ea2ea38445aa037951a56cdd6ee"
       ],
       "layout": "IPY_MODEL_22ed21d7da82494e8e1105764ea16971"
      }
     },
     "b44e2513714342f6adcfa18af91b9283": {
      "model_module": "@jupyter-widgets/base",
      "model_module_version": "1.2.0",
      "model_name": "LayoutModel",
      "state": {}
     },
     "b47feb7fcd684f478e4c527841675f6a": {
      "model_module": "@jupyter-widgets/base",
      "model_module_version": "1.2.0",
      "model_name": "LayoutModel",
      "state": {}
     },
     "b48d9ea41774449da38a078dad21dfe5": {
      "model_module": "@jupyter-widgets/controls",
      "model_module_version": "1.5.0",
      "model_name": "HTMLModel",
      "state": {
       "layout": "IPY_MODEL_aa428f77929143fdb65ac5fedeafbd3b",
       "style": "IPY_MODEL_5bc486f9af2c467e8d1de8d7222cebec",
       "value": " 3/3 [00:07&lt;00:00,  2.59s/it]"
      }
     },
     "b4aa2e0df4db4cfcb2bb58095bb96529": {
      "model_module": "@jupyter-widgets/base",
      "model_module_version": "1.2.0",
      "model_name": "LayoutModel",
      "state": {}
     },
     "b4c76e54efd64d549a6c227dfc437e25": {
      "model_module": "@jupyter-widgets/base",
      "model_module_version": "1.2.0",
      "model_name": "LayoutModel",
      "state": {}
     },
     "b4cab49cd04c435c845cd8f8dfef989d": {
      "model_module": "@jupyter-widgets/controls",
      "model_module_version": "1.5.0",
      "model_name": "DescriptionStyleModel",
      "state": {
       "description_width": ""
      }
     },
     "b4e1703dcc0d4dd7b5a634f149475721": {
      "model_module": "@jupyter-widgets/controls",
      "model_module_version": "1.5.0",
      "model_name": "FloatProgressModel",
      "state": {
       "bar_style": "success",
       "description": "[3] 15/16(train): 100%",
       "layout": "IPY_MODEL_f42fd852423a4335a9b2a729a1c23712",
       "max": 493,
       "style": "IPY_MODEL_4b6b59effc9f4121b73633c0b0f7fec1",
       "value": 493
      }
     },
     "b4ea25a158a04f6bbad0c2220f889325": {
      "model_module": "@jupyter-widgets/controls",
      "model_module_version": "1.5.0",
      "model_name": "HTMLModel",
      "state": {
       "layout": "IPY_MODEL_4c0a69a2e5e2445fa39655f62564ae93",
       "style": "IPY_MODEL_3ab596950ee3418ab80d774f499bc7b6",
       "value": " 493/493 [1:11:20&lt;00:00,  8.68s/it]"
      }
     },
     "b4ec73cd22e84dd8b68ba32facd0b6a1": {
      "model_module": "@jupyter-widgets/controls",
      "model_module_version": "1.5.0",
      "model_name": "HTMLModel",
      "state": {
       "layout": "IPY_MODEL_f84514697c24433d8f0cc9853ca147f5",
       "style": "IPY_MODEL_60c209f8ffb249f290aaa3f725acc911",
       "value": " 493/493 [23:48&lt;00:00,  2.90s/it]"
      }
     },
     "b50290bea3b64f2d81eca02d585a59a8": {
      "model_module": "@jupyter-widgets/controls",
      "model_module_version": "1.5.0",
      "model_name": "HBoxModel",
      "state": {
       "children": [
        "IPY_MODEL_0f439da41a0c4c91aedb75ad4fa6f2d4",
        "IPY_MODEL_16c811c992594adb9b98a699e1a445f9"
       ],
       "layout": "IPY_MODEL_024a549cab924f83b24ec434a2f038e6"
      }
     },
     "b507d8e52a3e488f821a9affdc4947ab": {
      "model_module": "@jupyter-widgets/base",
      "model_module_version": "1.2.0",
      "model_name": "LayoutModel",
      "state": {}
     },
     "b51f27ce48d7407195d22c256f94fff7": {
      "model_module": "@jupyter-widgets/controls",
      "model_module_version": "1.5.0",
      "model_name": "DescriptionStyleModel",
      "state": {
       "description_width": ""
      }
     },
     "b52c2570ef0d493d9caeef791f2440ff": {
      "model_module": "@jupyter-widgets/controls",
      "model_module_version": "1.5.0",
      "model_name": "DescriptionStyleModel",
      "state": {
       "description_width": ""
      }
     },
     "b52f599c8fe64d388c7af1e39b26f11d": {
      "model_module": "@jupyter-widgets/controls",
      "model_module_version": "1.5.0",
      "model_name": "ProgressStyleModel",
      "state": {
       "description_width": "initial"
      }
     },
     "b5410bf10dbf4356ac947f3b006875a1": {
      "model_module": "@jupyter-widgets/base",
      "model_module_version": "1.2.0",
      "model_name": "LayoutModel",
      "state": {}
     },
     "b54b557fd3574ac98efb7f4cee72b5f2": {
      "model_module": "@jupyter-widgets/base",
      "model_module_version": "1.2.0",
      "model_name": "LayoutModel",
      "state": {}
     },
     "b5591635ac0a4067a2d00a705224a86b": {
      "model_module": "@jupyter-widgets/controls",
      "model_module_version": "1.5.0",
      "model_name": "FloatProgressModel",
      "state": {
       "bar_style": "success",
       "description": "[1] 2/2(train): 100%",
       "layout": "IPY_MODEL_58d2f0d0518c4cfe8dcfca09a9ff5c79",
       "max": 3,
       "style": "IPY_MODEL_8cd352e5c89546f1a5015fb4d6200056",
       "value": 3
      }
     },
     "b57be79870844e2bb03df23e31ef4ab3": {
      "model_module": "@jupyter-widgets/base",
      "model_module_version": "1.2.0",
      "model_name": "LayoutModel",
      "state": {}
     },
     "b57f9b187e1646e8b65f2e5d33a620eb": {
      "model_module": "@jupyter-widgets/controls",
      "model_module_version": "1.5.0",
      "model_name": "DescriptionStyleModel",
      "state": {
       "description_width": ""
      }
     },
     "b585852a889e46bfbe9428bf7d1b6ec8": {
      "model_module": "@jupyter-widgets/controls",
      "model_module_version": "1.5.0",
      "model_name": "ProgressStyleModel",
      "state": {
       "description_width": "initial"
      }
     },
     "b5f97d134d55438fb2620810e32370b6": {
      "model_module": "@jupyter-widgets/base",
      "model_module_version": "1.2.0",
      "model_name": "LayoutModel",
      "state": {}
     },
     "b6093010c26842b286c9367b194a1e3f": {
      "model_module": "@jupyter-widgets/base",
      "model_module_version": "1.2.0",
      "model_name": "LayoutModel",
      "state": {}
     },
     "b6504788f91e40ac977e3b3bc7f13d8e": {
      "model_module": "@jupyter-widgets/controls",
      "model_module_version": "1.5.0",
      "model_name": "ProgressStyleModel",
      "state": {
       "description_width": "initial"
      }
     },
     "b659169bf0c047bb966c80a423c93de4": {
      "model_module": "@jupyter-widgets/base",
      "model_module_version": "1.2.0",
      "model_name": "LayoutModel",
      "state": {}
     },
     "b67e2f103c434c419852c56da0f2e726": {
      "model_module": "@jupyter-widgets/controls",
      "model_module_version": "1.5.0",
      "model_name": "ProgressStyleModel",
      "state": {
       "description_width": "initial"
      }
     },
     "b68b8f5fd1904bbe99f866b33e17feb0": {
      "model_module": "@jupyter-widgets/controls",
      "model_module_version": "1.5.0",
      "model_name": "ProgressStyleModel",
      "state": {
       "description_width": "initial"
      }
     },
     "b69855b63a6e4cfd997701476a350e7e": {
      "model_module": "@jupyter-widgets/controls",
      "model_module_version": "1.5.0",
      "model_name": "HBoxModel",
      "state": {
       "children": [
        "IPY_MODEL_c2514addbf94402680d7b1e89f690aa1",
        "IPY_MODEL_0adf61db192d4715bbce24dd2426b3c3"
       ],
       "layout": "IPY_MODEL_3142ddb87ea54683a061eaee97a87ebf"
      }
     },
     "b6af3197533344ffa99e01dbc37fa6ea": {
      "model_module": "@jupyter-widgets/controls",
      "model_module_version": "1.5.0",
      "model_name": "DescriptionStyleModel",
      "state": {
       "description_width": ""
      }
     },
     "b6b62626fd4943f8a1c75734d3a170b3": {
      "model_module": "@jupyter-widgets/controls",
      "model_module_version": "1.5.0",
      "model_name": "FloatProgressModel",
      "state": {
       "bar_style": "success",
       "description": "[1] 9/16(val  ): 100%",
       "layout": "IPY_MODEL_48b8cc61c50e4713a1d448b89574c3a1",
       "max": 165,
       "style": "IPY_MODEL_96db646338ca48da962caedadc30407b",
       "value": 165
      }
     },
     "b6bae7347ecd46fabede905ffb41e413": {
      "model_module": "@jupyter-widgets/base",
      "model_module_version": "1.2.0",
      "model_name": "LayoutModel",
      "state": {}
     },
     "b6dbfb8e2cfd4012a7dda7cc43517478": {
      "model_module": "@jupyter-widgets/base",
      "model_module_version": "1.2.0",
      "model_name": "LayoutModel",
      "state": {}
     },
     "b6e3d810a48a4e5685efe511e696380c": {
      "model_module": "@jupyter-widgets/controls",
      "model_module_version": "1.5.0",
      "model_name": "DescriptionStyleModel",
      "state": {
       "description_width": ""
      }
     },
     "b6ef6f6c755f4f41aebc0c2c4c93cf8d": {
      "model_module": "@jupyter-widgets/controls",
      "model_module_version": "1.5.0",
      "model_name": "HTMLModel",
      "state": {
       "layout": "IPY_MODEL_e15a40ecbe624bcf803e9f94e4951d78",
       "style": "IPY_MODEL_dbc0b7baaaef4618b343374ce44d6ad2",
       "value": " 1/1 [00:00&lt;00:00,  1.17it/s]"
      }
     },
     "b6f301e24f284e00b976340a517ef51a": {
      "model_module": "@jupyter-widgets/base",
      "model_module_version": "1.2.0",
      "model_name": "LayoutModel",
      "state": {}
     },
     "b6fdf80375e94516aa79338644eefafe": {
      "model_module": "@jupyter-widgets/controls",
      "model_module_version": "1.5.0",
      "model_name": "HTMLModel",
      "state": {
       "layout": "IPY_MODEL_85ac4f1db7b84382bd8e234db919a0c8",
       "style": "IPY_MODEL_d40a0a54cd0a47c283ff39356cbf010a",
       "value": " 1/1 [00:00&lt;00:00,  1.12it/s]"
      }
     },
     "b725d66a8be74fc0ae545fb43654c79f": {
      "model_module": "@jupyter-widgets/base",
      "model_module_version": "1.2.0",
      "model_name": "LayoutModel",
      "state": {}
     },
     "b7408ea2ea38445aa037951a56cdd6ee": {
      "model_module": "@jupyter-widgets/controls",
      "model_module_version": "1.5.0",
      "model_name": "HTMLModel",
      "state": {
       "layout": "IPY_MODEL_358d8142ba6e4382a3a783dc58a51165",
       "style": "IPY_MODEL_369afe0660c546a2bc62f974681f140f",
       "value": " 165/165 [01:03&lt;00:00,  2.60it/s]"
      }
     },
     "b7492429d187401d844602454666fa09": {
      "model_module": "@jupyter-widgets/base",
      "model_module_version": "1.2.0",
      "model_name": "LayoutModel",
      "state": {}
     },
     "b78a905ba7544e65844443083c858fd6": {
      "model_module": "@jupyter-widgets/controls",
      "model_module_version": "1.5.0",
      "model_name": "DescriptionStyleModel",
      "state": {
       "description_width": ""
      }
     },
     "b79bd2b310e24694867d02e7ebe73a05": {
      "model_module": "@jupyter-widgets/controls",
      "model_module_version": "1.5.0",
      "model_name": "HTMLModel",
      "state": {
       "layout": "IPY_MODEL_a33e74032bb84f64a5d3a690b53f9333",
       "style": "IPY_MODEL_e95c35a047d64d32a7bfc66d19e53f61",
       "value": " 3/3 [00:07&lt;00:00,  2.52s/it]"
      }
     },
     "b7e5b19e2a8f484dabd4c629f68e65c2": {
      "model_module": "@jupyter-widgets/controls",
      "model_module_version": "1.5.0",
      "model_name": "ProgressStyleModel",
      "state": {
       "description_width": "initial"
      }
     },
     "b7f44f9433f7493790fe757980cd8834": {
      "model_module": "@jupyter-widgets/controls",
      "model_module_version": "1.5.0",
      "model_name": "HTMLModel",
      "state": {
       "layout": "IPY_MODEL_22d6b86ea1c844a481429f831864e10a",
       "style": "IPY_MODEL_258b51a3cf1f4563abf704bcff60201d",
       "value": " 165/165 [01:21&lt;00:00,  2.03it/s]"
      }
     },
     "b811a9b77e6b45608ce6a58b24fa470f": {
      "model_module": "@jupyter-widgets/controls",
      "model_module_version": "1.5.0",
      "model_name": "HTMLModel",
      "state": {
       "layout": "IPY_MODEL_08a00bf825d14125ae3bf90b65c7c9a6",
       "style": "IPY_MODEL_74d75f1028774d398d80957f4f012437",
       "value": " 1/1 [00:00&lt;00:00,  1.40it/s]"
      }
     },
     "b838a02a724c42f5b17117d6701ee056": {
      "model_module": "@jupyter-widgets/controls",
      "model_module_version": "1.5.0",
      "model_name": "DescriptionStyleModel",
      "state": {
       "description_width": ""
      }
     },
     "b85e50ce7a7647b4b703e946a15c875b": {
      "model_module": "@jupyter-widgets/controls",
      "model_module_version": "1.5.0",
      "model_name": "HTMLModel",
      "state": {
       "layout": "IPY_MODEL_9c9ddd885fac4392bb3f1bd68cf8d355",
       "style": "IPY_MODEL_b78a905ba7544e65844443083c858fd6",
       "value": " 1/1 [00:00&lt;00:00,  1.71it/s]"
      }
     },
     "b88ff2bd45974adca1ca9057ae269d57": {
      "model_module": "@jupyter-widgets/controls",
      "model_module_version": "1.5.0",
      "model_name": "HBoxModel",
      "state": {
       "children": [
        "IPY_MODEL_d3cebf78b1db4212ad09d8aeb1bd855f",
        "IPY_MODEL_8cdd200ad22042488a02dbfa7b83d85d"
       ],
       "layout": "IPY_MODEL_58698ef3f32c49b8a8673c2475f207b4"
      }
     },
     "b894dd9d02c6439e8dfc2c770597f11a": {
      "model_module": "@jupyter-widgets/controls",
      "model_module_version": "1.5.0",
      "model_name": "HTMLModel",
      "state": {
       "layout": "IPY_MODEL_aadfccc1b80b49e59fd9a70a67fabf9c",
       "style": "IPY_MODEL_29a6e101144e46e2aab54118927c7ae5",
       "value": " 3/3 [00:07&lt;00:00,  2.58s/it]"
      }
     },
     "b8a4941cc427410bbaa575481e0f0894": {
      "model_module": "@jupyter-widgets/controls",
      "model_module_version": "1.5.0",
      "model_name": "HTMLModel",
      "state": {
       "layout": "IPY_MODEL_62432197a0c742cf8648dd0936077ed4",
       "style": "IPY_MODEL_8c6bd7f61c5049c6b5aac69352cdcbe7",
       "value": " 493/493 [23:52&lt;00:00,  2.91s/it]"
      }
     },
     "b8d31d937c074c21916fa6740bd40ced": {
      "model_module": "@jupyter-widgets/controls",
      "model_module_version": "1.5.0",
      "model_name": "DescriptionStyleModel",
      "state": {
       "description_width": ""
      }
     },
     "b8d74ab8f16c4d31a3a155d503ea2e7f": {
      "model_module": "@jupyter-widgets/base",
      "model_module_version": "1.2.0",
      "model_name": "LayoutModel",
      "state": {}
     },
     "b8d8ab3334c24aeab54bfcf4ea307950": {
      "model_module": "@jupyter-widgets/controls",
      "model_module_version": "1.5.0",
      "model_name": "HTMLModel",
      "state": {
       "layout": "IPY_MODEL_991acd68a2104c72aae15ed4c800364f",
       "style": "IPY_MODEL_3cd2d86f8f934946b4db4d34f82bea01",
       "value": " 1/1 [00:00&lt;00:00,  1.07it/s]"
      }
     },
     "b8d8d0820af7408590f80e9a7a20efea": {
      "model_module": "@jupyter-widgets/controls",
      "model_module_version": "1.5.0",
      "model_name": "FloatProgressModel",
      "state": {
       "bar_style": "danger",
       "description": "[0] 1/15(train):   4%",
       "layout": "IPY_MODEL_b0a97eaeed8e4deaa060404688f367d5",
       "max": 493,
       "style": "IPY_MODEL_bd3dc783e4104ed09a6c3f5138af20fc",
       "value": 19
      }
     },
     "b8faf74495a34f278c68704dcedb5030": {
      "model_module": "@jupyter-widgets/controls",
      "model_module_version": "1.5.0",
      "model_name": "HBoxModel",
      "state": {
       "children": [
        "IPY_MODEL_921a40bd2bbb4d5888366a7017172079",
        "IPY_MODEL_e72c803a0537435b9cb497cd17036539"
       ],
       "layout": "IPY_MODEL_72c958d1f8564d7cbc91894be7b914dc"
      }
     },
     "b9095ac234b740d8af5fb6d5d3c7069b": {
      "model_module": "@jupyter-widgets/base",
      "model_module_version": "1.2.0",
      "model_name": "LayoutModel",
      "state": {}
     },
     "b9161ae45b4d4c5688fe974991a8f7e9": {
      "model_module": "@jupyter-widgets/base",
      "model_module_version": "1.2.0",
      "model_name": "LayoutModel",
      "state": {}
     },
     "b9278a5c98d346e8b7efa5e5b3d57b8b": {
      "model_module": "@jupyter-widgets/base",
      "model_module_version": "1.2.0",
      "model_name": "LayoutModel",
      "state": {}
     },
     "b92ae16e22a543b5aabcbbc3de423f8a": {
      "model_module": "@jupyter-widgets/controls",
      "model_module_version": "1.5.0",
      "model_name": "DescriptionStyleModel",
      "state": {
       "description_width": ""
      }
     },
     "b9357d10cb9846e2841f32465c967e6e": {
      "model_module": "@jupyter-widgets/base",
      "model_module_version": "1.2.0",
      "model_name": "LayoutModel",
      "state": {}
     },
     "b9452c5e3e8d43cf9ff6e23acaf1af60": {
      "model_module": "@jupyter-widgets/controls",
      "model_module_version": "1.5.0",
      "model_name": "ProgressStyleModel",
      "state": {
       "description_width": "initial"
      }
     },
     "b95853034bba4c6cb4e12dbb3a68e910": {
      "model_module": "@jupyter-widgets/controls",
      "model_module_version": "1.5.0",
      "model_name": "ProgressStyleModel",
      "state": {
       "description_width": "initial"
      }
     },
     "b9a0fb048a02421989e6e3d55b37a44e": {
      "model_module": "@jupyter-widgets/controls",
      "model_module_version": "1.5.0",
      "model_name": "DescriptionStyleModel",
      "state": {
       "description_width": ""
      }
     },
     "b9b1868b83b14596ae3f93b7edc0d128": {
      "model_module": "@jupyter-widgets/controls",
      "model_module_version": "1.5.0",
      "model_name": "FloatProgressModel",
      "state": {
       "bar_style": "success",
       "description": "[0] 1/2(train): 100%",
       "layout": "IPY_MODEL_2077cdb8a4134093aeacf5495bf9ce41",
       "max": 3,
       "style": "IPY_MODEL_56612f780f0a431f896b80128eae696a",
       "value": 3
      }
     },
     "b9bc0a1cb6ce4384a8ea19f4477a831c": {
      "model_module": "@jupyter-widgets/base",
      "model_module_version": "1.2.0",
      "model_name": "LayoutModel",
      "state": {}
     },
     "b9c4a6e9b42f42298649f3b1308b8074": {
      "model_module": "@jupyter-widgets/controls",
      "model_module_version": "1.5.0",
      "model_name": "DescriptionStyleModel",
      "state": {
       "description_width": ""
      }
     },
     "b9d2d92f0cfe400baa9641018051702e": {
      "model_module": "@jupyter-widgets/controls",
      "model_module_version": "1.5.0",
      "model_name": "ProgressStyleModel",
      "state": {
       "description_width": "initial"
      }
     },
     "b9e4423a5b98401095cc3a283b65a7a8": {
      "model_module": "@jupyter-widgets/controls",
      "model_module_version": "1.5.0",
      "model_name": "HTMLModel",
      "state": {
       "layout": "IPY_MODEL_a1a52ab2e3214c0582adbd01e3ef0a35",
       "style": "IPY_MODEL_b6af3197533344ffa99e01dbc37fa6ea",
       "value": " 1/1 [00:00&lt;00:00,  1.44it/s]"
      }
     },
     "ba0131d933274f85a961d032b7a1ef8a": {
      "model_module": "@jupyter-widgets/controls",
      "model_module_version": "1.5.0",
      "model_name": "DescriptionStyleModel",
      "state": {
       "description_width": ""
      }
     },
     "ba129438315846038d61d564e22e7ac8": {
      "model_module": "@jupyter-widgets/controls",
      "model_module_version": "1.5.0",
      "model_name": "DescriptionStyleModel",
      "state": {
       "description_width": ""
      }
     },
     "ba2e225ef9a640f888a26586f8023e6f": {
      "model_module": "@jupyter-widgets/base",
      "model_module_version": "1.2.0",
      "model_name": "LayoutModel",
      "state": {}
     },
     "ba311c7c5b11456f8854637b5907db17": {
      "model_module": "@jupyter-widgets/controls",
      "model_module_version": "1.5.0",
      "model_name": "DescriptionStyleModel",
      "state": {
       "description_width": ""
      }
     },
     "ba70264dafa4427daaf1667c3253319e": {
      "model_module": "@jupyter-widgets/controls",
      "model_module_version": "1.5.0",
      "model_name": "HBoxModel",
      "state": {
       "children": [
        "IPY_MODEL_a4d0142a0abf4163a2bdfda12f3b598b",
        "IPY_MODEL_3bf95dcfcdab4a7690c9390310c90ac7"
       ],
       "layout": "IPY_MODEL_4fe282014a464cfab9ef48bff4514a7c"
      }
     },
     "ba9d1807e4c04aa7a4c523f75855e2b6": {
      "model_module": "@jupyter-widgets/controls",
      "model_module_version": "1.5.0",
      "model_name": "HBoxModel",
      "state": {
       "children": [
        "IPY_MODEL_33c460c2fc5243ecb7dfbc1b2fa3fce2",
        "IPY_MODEL_1a7237f168e142ab8e0de0859b072f2b"
       ],
       "layout": "IPY_MODEL_fd43353538e14083b8b49bee61fd6c83"
      }
     },
     "baa5848c984f4de985e07f1cc6e8179c": {
      "model_module": "@jupyter-widgets/base",
      "model_module_version": "1.2.0",
      "model_name": "LayoutModel",
      "state": {}
     },
     "badf5b6876f94e42b450527c89cff2df": {
      "model_module": "@jupyter-widgets/controls",
      "model_module_version": "1.5.0",
      "model_name": "HBoxModel",
      "state": {
       "children": [
        "IPY_MODEL_6856e91403a947aba353532cd91e1f9d",
        "IPY_MODEL_7c7f80cac0424c2b949a1980ef885dac"
       ],
       "layout": "IPY_MODEL_c7ddcffed91d44939ddb2a58bd4b3695"
      }
     },
     "baef2218c9074e658878479b33423d9c": {
      "model_module": "@jupyter-widgets/base",
      "model_module_version": "1.2.0",
      "model_name": "LayoutModel",
      "state": {}
     },
     "bb3489feb4394391b600fa1038b5493e": {
      "model_module": "@jupyter-widgets/controls",
      "model_module_version": "1.5.0",
      "model_name": "DescriptionStyleModel",
      "state": {
       "description_width": ""
      }
     },
     "bb520543b355413393c3e822b9f92174": {
      "model_module": "@jupyter-widgets/controls",
      "model_module_version": "1.5.0",
      "model_name": "HBoxModel",
      "state": {
       "children": [
        "IPY_MODEL_ae9fabe73ba24a26a54a99f8f080ea01",
        "IPY_MODEL_a071dd7fcb1f471f9367e3bb345cc3bd"
       ],
       "layout": "IPY_MODEL_00604eea1f754ea599ac4b7c3f35b148"
      }
     },
     "bb593bac70724b0999162977c20edf08": {
      "model_module": "@jupyter-widgets/controls",
      "model_module_version": "1.5.0",
      "model_name": "FloatProgressModel",
      "state": {
       "bar_style": "success",
       "description": "[0] 2/2(val  ): 100%",
       "layout": "IPY_MODEL_f5fb52d8f4644257ac5e985d4eeee791",
       "max": 1,
       "style": "IPY_MODEL_e3dfc242bace47cfae1ca6b7f804cb7f",
       "value": 1
      }
     },
     "bc30963476344c899a8ad2e3b299edb4": {
      "model_module": "@jupyter-widgets/controls",
      "model_module_version": "1.5.0",
      "model_name": "ProgressStyleModel",
      "state": {
       "description_width": "initial"
      }
     },
     "bc391f2e709642c9971df5b1daa714a2": {
      "model_module": "@jupyter-widgets/base",
      "model_module_version": "1.2.0",
      "model_name": "LayoutModel",
      "state": {}
     },
     "bc6c2c7bed9e46adbeaa93bff5d3186c": {
      "model_module": "@jupyter-widgets/base",
      "model_module_version": "1.2.0",
      "model_name": "LayoutModel",
      "state": {}
     },
     "bc89e55b5a4e48b493d1247c499c5855": {
      "model_module": "@jupyter-widgets/base",
      "model_module_version": "1.2.0",
      "model_name": "LayoutModel",
      "state": {}
     },
     "bcd10ee10cbf41dea6714cbed3792cdb": {
      "model_module": "@jupyter-widgets/base",
      "model_module_version": "1.2.0",
      "model_name": "LayoutModel",
      "state": {}
     },
     "bd23909b5ea440ea935011d8969f241a": {
      "model_module": "@jupyter-widgets/controls",
      "model_module_version": "1.5.0",
      "model_name": "ProgressStyleModel",
      "state": {
       "description_width": "initial"
      }
     },
     "bd3314d1ba94422b8491cedabcf5ebab": {
      "model_module": "@jupyter-widgets/controls",
      "model_module_version": "1.5.0",
      "model_name": "FloatProgressModel",
      "state": {
       "bar_style": "success",
       "description": "[1] 2/2(val  ): 100%",
       "layout": "IPY_MODEL_ab19c3d648e7461289ec1908ac1bc7e5",
       "max": 1,
       "style": "IPY_MODEL_4d0ebe3efeb34818a75b071bf7e2802d",
       "value": 1
      }
     },
     "bd36f27bd2f34f65bc021bd4ede6d54d": {
      "model_module": "@jupyter-widgets/base",
      "model_module_version": "1.2.0",
      "model_name": "LayoutModel",
      "state": {}
     },
     "bd3dc783e4104ed09a6c3f5138af20fc": {
      "model_module": "@jupyter-widgets/controls",
      "model_module_version": "1.5.0",
      "model_name": "ProgressStyleModel",
      "state": {
       "description_width": "initial"
      }
     },
     "bd4c4288def646c28952c9d48794d2f4": {
      "model_module": "@jupyter-widgets/base",
      "model_module_version": "1.2.0",
      "model_name": "LayoutModel",
      "state": {}
     },
     "bd729702f5cd43fea0033d2576355548": {
      "model_module": "@jupyter-widgets/controls",
      "model_module_version": "1.5.0",
      "model_name": "DescriptionStyleModel",
      "state": {
       "description_width": ""
      }
     },
     "bdc5808b2355466b8997b55ffda46b83": {
      "model_module": "@jupyter-widgets/controls",
      "model_module_version": "1.5.0",
      "model_name": "HBoxModel",
      "state": {
       "children": [
        "IPY_MODEL_2e7093c9f59f4577bd709f7c1b1be9c7",
        "IPY_MODEL_28b5207390404d6aae3f0ad6ce7555c1"
       ],
       "layout": "IPY_MODEL_57a4188298f74c139d4541e6000e1f99"
      }
     },
     "bdcaa3ef998b407c83f3c9cc562d87c7": {
      "model_module": "@jupyter-widgets/controls",
      "model_module_version": "1.5.0",
      "model_name": "HBoxModel",
      "state": {
       "children": [
        "IPY_MODEL_df1680df067f4d3c9ed7c07f095f3541",
        "IPY_MODEL_70778914157643e88c98f2fe9ecd5c93"
       ],
       "layout": "IPY_MODEL_c90118da17bb4b6b9ed92fc124a2b867"
      }
     },
     "bde385ccdae74284ac5d0f12ed060cc8": {
      "model_module": "@jupyter-widgets/base",
      "model_module_version": "1.2.0",
      "model_name": "LayoutModel",
      "state": {}
     },
     "bdec4d04cf8f438bbb2e69c6a566e488": {
      "model_module": "@jupyter-widgets/base",
      "model_module_version": "1.2.0",
      "model_name": "LayoutModel",
      "state": {}
     },
     "bdf41a83458b4087b3c8e800fab4fddc": {
      "model_module": "@jupyter-widgets/base",
      "model_module_version": "1.2.0",
      "model_name": "LayoutModel",
      "state": {}
     },
     "bdff4f9329864918912cfede9af44bde": {
      "model_module": "@jupyter-widgets/base",
      "model_module_version": "1.2.0",
      "model_name": "LayoutModel",
      "state": {}
     },
     "be23974bf4404e169cb86819c71c7e7b": {
      "model_module": "@jupyter-widgets/base",
      "model_module_version": "1.2.0",
      "model_name": "LayoutModel",
      "state": {}
     },
     "be3af3075d2a45f6add5ffd3e083ed2c": {
      "model_module": "@jupyter-widgets/controls",
      "model_module_version": "1.5.0",
      "model_name": "FloatProgressModel",
      "state": {
       "bar_style": "success",
       "description": "[2] 2/2(val  ): 100%",
       "layout": "IPY_MODEL_09c903f3733e414c9895e84c37a498c3",
       "max": 1,
       "style": "IPY_MODEL_45d51aef46e94d0f9d429346faaa1f44",
       "value": 1
      }
     },
     "be5f84380e5643fd8ea964e3f42b82fb": {
      "model_module": "@jupyter-widgets/controls",
      "model_module_version": "1.5.0",
      "model_name": "DescriptionStyleModel",
      "state": {
       "description_width": ""
      }
     },
     "be6e149fb2ee4720a94b808667d01ba4": {
      "model_module": "@jupyter-widgets/controls",
      "model_module_version": "1.5.0",
      "model_name": "DescriptionStyleModel",
      "state": {
       "description_width": ""
      }
     },
     "be7d466d72724cc881f6b43052329ee2": {
      "model_module": "@jupyter-widgets/base",
      "model_module_version": "1.2.0",
      "model_name": "LayoutModel",
      "state": {}
     },
     "be8255047fce40258122f79844c61f34": {
      "model_module": "@jupyter-widgets/controls",
      "model_module_version": "1.5.0",
      "model_name": "ProgressStyleModel",
      "state": {
       "description_width": "initial"
      }
     },
     "be837036f16c47e5bceba64948e2194e": {
      "model_module": "@jupyter-widgets/controls",
      "model_module_version": "1.5.0",
      "model_name": "DescriptionStyleModel",
      "state": {
       "description_width": ""
      }
     },
     "be9062eb3df04be1acc33837a245e041": {
      "model_module": "@jupyter-widgets/base",
      "model_module_version": "1.2.0",
      "model_name": "LayoutModel",
      "state": {}
     },
     "be9a98efed184dd0a77e7a8079c6cd1d": {
      "model_module": "@jupyter-widgets/controls",
      "model_module_version": "1.5.0",
      "model_name": "HBoxModel",
      "state": {
       "children": [
        "IPY_MODEL_dacd965ad8ea488bae2639106227a231",
        "IPY_MODEL_cd967238c5224154883bd5b3a7a503b1"
       ],
       "layout": "IPY_MODEL_c6b26d331e874130b5183c166679b633"
      }
     },
     "be9e798d580a42b1add8a470df064694": {
      "model_module": "@jupyter-widgets/controls",
      "model_module_version": "1.5.0",
      "model_name": "DescriptionStyleModel",
      "state": {
       "description_width": ""
      }
     },
     "becafd8f3f204c3497782a5d26280dd1": {
      "model_module": "@jupyter-widgets/controls",
      "model_module_version": "1.5.0",
      "model_name": "DescriptionStyleModel",
      "state": {
       "description_width": ""
      }
     },
     "becf2779f1b44d2d875aad71a84c27ce": {
      "model_module": "@jupyter-widgets/base",
      "model_module_version": "1.2.0",
      "model_name": "LayoutModel",
      "state": {}
     },
     "bee2e0f9fe864c28971f07aaf624e47f": {
      "model_module": "@jupyter-widgets/controls",
      "model_module_version": "1.5.0",
      "model_name": "FloatProgressModel",
      "state": {
       "bar_style": "success",
       "description": "[3] 12/15(train): 100%",
       "layout": "IPY_MODEL_66d34a88ec844216937e8e483f7eb0ae",
       "max": 493,
       "style": "IPY_MODEL_f987b7bf843d46959531c6b0f8d6f901",
       "value": 493
      }
     },
     "beea010a34634dd9b4809257afce1fc9": {
      "model_module": "@jupyter-widgets/base",
      "model_module_version": "1.2.0",
      "model_name": "LayoutModel",
      "state": {}
     },
     "bf1fe0464a984513ad35021bcfbcb0ac": {
      "model_module": "@jupyter-widgets/controls",
      "model_module_version": "1.5.0",
      "model_name": "HTMLModel",
      "state": {
       "layout": "IPY_MODEL_22ec1dabfb924599a6728ba86c3ca7bd",
       "style": "IPY_MODEL_414e6546daf7473eb99b9dcf65bad865",
       "value": " 493/493 [22:20&lt;00:00,  2.72s/it]"
      }
     },
     "bf97e81c293c4674bdc33be2b7c3acea": {
      "model_module": "@jupyter-widgets/controls",
      "model_module_version": "1.5.0",
      "model_name": "HTMLModel",
      "state": {
       "layout": "IPY_MODEL_1968a2a6b62448dea6a9328bda68315f",
       "style": "IPY_MODEL_2dc5e97037aa4bc5b4ad523944cf8d8d",
       "value": " 493/493 [23:53&lt;00:00,  2.91s/it]"
      }
     },
     "bfa59187fdf44a87bcb4ac8f3514c21c": {
      "model_module": "@jupyter-widgets/base",
      "model_module_version": "1.2.0",
      "model_name": "LayoutModel",
      "state": {}
     },
     "bfaaa1d807da4df1a2d68f68d17294dc": {
      "model_module": "@jupyter-widgets/controls",
      "model_module_version": "1.5.0",
      "model_name": "ProgressStyleModel",
      "state": {
       "description_width": "initial"
      }
     },
     "bfc9a5afa137456c96858e620fdecf21": {
      "model_module": "@jupyter-widgets/base",
      "model_module_version": "1.2.0",
      "model_name": "LayoutModel",
      "state": {}
     },
     "bfd9d64a270c4252aa17499a77f3763c": {
      "model_module": "@jupyter-widgets/controls",
      "model_module_version": "1.5.0",
      "model_name": "HBoxModel",
      "state": {
       "children": [
        "IPY_MODEL_6a175f83c06e4e6bbcd24761dedc7731",
        "IPY_MODEL_9427e7a766b546cdbb9bd2f18c36998d"
       ],
       "layout": "IPY_MODEL_1cd22d44ec054970953b0c6989f5607b"
      }
     },
     "bffc87302fd34b3e91ebf9d6bf7ccf77": {
      "model_module": "@jupyter-widgets/base",
      "model_module_version": "1.2.0",
      "model_name": "LayoutModel",
      "state": {}
     },
     "c026966da22e46a9a74c5afb684aa336": {
      "model_module": "@jupyter-widgets/base",
      "model_module_version": "1.2.0",
      "model_name": "LayoutModel",
      "state": {}
     },
     "c026b55bb1f54f3fba8332b7bb6535af": {
      "model_module": "@jupyter-widgets/controls",
      "model_module_version": "1.5.0",
      "model_name": "DescriptionStyleModel",
      "state": {
       "description_width": ""
      }
     },
     "c05add7c3b44400d986964a240f4a6a3": {
      "model_module": "@jupyter-widgets/controls",
      "model_module_version": "1.5.0",
      "model_name": "ProgressStyleModel",
      "state": {
       "description_width": "initial"
      }
     },
     "c082c86fcc994329b046cc9c606e03df": {
      "model_module": "@jupyter-widgets/base",
      "model_module_version": "1.2.0",
      "model_name": "LayoutModel",
      "state": {}
     },
     "c0a3178f9a5f44faadf968cb05daf69e": {
      "model_module": "@jupyter-widgets/controls",
      "model_module_version": "1.5.0",
      "model_name": "DescriptionStyleModel",
      "state": {
       "description_width": ""
      }
     },
     "c0aad0c20b3743038ef1ae72d9fb96a7": {
      "model_module": "@jupyter-widgets/controls",
      "model_module_version": "1.5.0",
      "model_name": "DescriptionStyleModel",
      "state": {
       "description_width": ""
      }
     },
     "c0b4094fbae141e38cd4fd41700c8625": {
      "model_module": "@jupyter-widgets/controls",
      "model_module_version": "1.5.0",
      "model_name": "ProgressStyleModel",
      "state": {
       "description_width": "initial"
      }
     },
     "c0c751c1b5944a4b8f7b60ff141495b4": {
      "model_module": "@jupyter-widgets/controls",
      "model_module_version": "1.5.0",
      "model_name": "FloatProgressModel",
      "state": {
       "bar_style": "success",
       "description": "[1] 1/2(train): 100%",
       "layout": "IPY_MODEL_9010e50799ed42fea2a7587e5d8f751c",
       "max": 3,
       "style": "IPY_MODEL_915c144612d149c88df07a6ceefdd55f",
       "value": 3
      }
     },
     "c0de38ccd8bb4a788e9c97cd72004c91": {
      "model_module": "@jupyter-widgets/controls",
      "model_module_version": "1.5.0",
      "model_name": "HTMLModel",
      "state": {
       "layout": "IPY_MODEL_03d30cfd138c458db716fc214974d935",
       "style": "IPY_MODEL_30f2a3b2a0a646bba5067c8f66b7f4d4",
       "value": " 165/165 [01:32&lt;00:00,  1.78it/s]"
      }
     },
     "c0deb37c5b3343d0bf155b65f6473d3b": {
      "model_module": "@jupyter-widgets/base",
      "model_module_version": "1.2.0",
      "model_name": "LayoutModel",
      "state": {}
     },
     "c10b4931223b47eab7aefdb5499d6d74": {
      "model_module": "@jupyter-widgets/base",
      "model_module_version": "1.2.0",
      "model_name": "LayoutModel",
      "state": {}
     },
     "c11c9c4c1f4c4812b4fbd2a1414ec648": {
      "model_module": "@jupyter-widgets/base",
      "model_module_version": "1.2.0",
      "model_name": "LayoutModel",
      "state": {}
     },
     "c1243ca4927b41b3b62c83a269e4ecea": {
      "model_module": "@jupyter-widgets/controls",
      "model_module_version": "1.5.0",
      "model_name": "HTMLModel",
      "state": {
       "layout": "IPY_MODEL_4699ec2503574d4181f4d83cd1da44cb",
       "style": "IPY_MODEL_f21f41f892a44b869aace2f61c1d8c05",
       "value": " 165/165 [01:04&lt;00:00,  2.57it/s]"
      }
     },
     "c129c89ddf7f40abb1e3d32a856cdf16": {
      "model_module": "@jupyter-widgets/base",
      "model_module_version": "1.2.0",
      "model_name": "LayoutModel",
      "state": {}
     },
     "c12e2ed4d53d4ace9948d3e98215b131": {
      "model_module": "@jupyter-widgets/base",
      "model_module_version": "1.2.0",
      "model_name": "LayoutModel",
      "state": {}
     },
     "c15d4dd755a544fba9c8e30b909c073f": {
      "model_module": "@jupyter-widgets/controls",
      "model_module_version": "1.5.0",
      "model_name": "FloatProgressModel",
      "state": {
       "bar_style": "success",
       "description": "[3] 2/2(train): 100%",
       "layout": "IPY_MODEL_265d6cc240a343cd8373e780f50fae15",
       "max": 3,
       "style": "IPY_MODEL_60654ead66a947c68070b6c67d3ee6f6",
       "value": 3
      }
     },
     "c17abd09528646449c184cae149dbf9d": {
      "model_module": "@jupyter-widgets/base",
      "model_module_version": "1.2.0",
      "model_name": "LayoutModel",
      "state": {}
     },
     "c1835018611b4f0d8259b5d904f22ecb": {
      "model_module": "@jupyter-widgets/controls",
      "model_module_version": "1.5.0",
      "model_name": "DescriptionStyleModel",
      "state": {
       "description_width": ""
      }
     },
     "c1b572d09720437fb383b7c211af4308": {
      "model_module": "@jupyter-widgets/base",
      "model_module_version": "1.2.0",
      "model_name": "LayoutModel",
      "state": {}
     },
     "c1bf8ece2e67407a8a9f35c1b4b794a6": {
      "model_module": "@jupyter-widgets/controls",
      "model_module_version": "1.5.0",
      "model_name": "HTMLModel",
      "state": {
       "layout": "IPY_MODEL_9e4a851aed63480f883dc1e4cddc5879",
       "style": "IPY_MODEL_929ee2789fd948b0bf09b0e292a94471",
       "value": " 3/3 [00:07&lt;00:00,  2.50s/it]"
      }
     },
     "c1c1bfe6a09744faa510794b663a345b": {
      "model_module": "@jupyter-widgets/controls",
      "model_module_version": "1.5.0",
      "model_name": "HTMLModel",
      "state": {
       "layout": "IPY_MODEL_dadee3d888054a6fbd7ffce3dc820e7b",
       "style": "IPY_MODEL_696564f6da6d47f08f8bf62182277303",
       "value": " 1/1 [00:00&lt;00:00,  1.23it/s]"
      }
     },
     "c1d8cf452c944e07ad57d535fb0f2485": {
      "model_module": "@jupyter-widgets/controls",
      "model_module_version": "1.5.0",
      "model_name": "HTMLModel",
      "state": {
       "layout": "IPY_MODEL_f9ba3d35ef83469fb8a29b64df764e7a",
       "style": "IPY_MODEL_0ec38c21ac0e468492112adc74e219c2",
       "value": " 3/3 [00:07&lt;00:00,  2.54s/it]"
      }
     },
     "c1e5088337fb4b49b3e920ea129ad998": {
      "model_module": "@jupyter-widgets/controls",
      "model_module_version": "1.5.0",
      "model_name": "DescriptionStyleModel",
      "state": {
       "description_width": ""
      }
     },
     "c20e03b9a58c42b7a8adb87414a349d3": {
      "model_module": "@jupyter-widgets/base",
      "model_module_version": "1.2.0",
      "model_name": "LayoutModel",
      "state": {}
     },
     "c215f8296d224f2ebb57a8d6a3bd202a": {
      "model_module": "@jupyter-widgets/controls",
      "model_module_version": "1.5.0",
      "model_name": "HBoxModel",
      "state": {
       "children": [
        "IPY_MODEL_97126dbb323e47908ce1a3de0a235400",
        "IPY_MODEL_308c8325a5b14eae9127ef95ffb914ab"
       ],
       "layout": "IPY_MODEL_20e8c16932774aadb38fc052ce0d4f08"
      }
     },
     "c23575775dd54caca4770fc64b403cb1": {
      "model_module": "@jupyter-widgets/controls",
      "model_module_version": "1.5.0",
      "model_name": "ProgressStyleModel",
      "state": {
       "description_width": "initial"
      }
     },
     "c24bfc69a9a64f11bbf8f80eb9119b31": {
      "model_module": "@jupyter-widgets/base",
      "model_module_version": "1.2.0",
      "model_name": "LayoutModel",
      "state": {}
     },
     "c2514addbf94402680d7b1e89f690aa1": {
      "model_module": "@jupyter-widgets/controls",
      "model_module_version": "1.5.0",
      "model_name": "FloatProgressModel",
      "state": {
       "bar_style": "success",
       "description": "[2] 4/15(train): 100%",
       "layout": "IPY_MODEL_c026966da22e46a9a74c5afb684aa336",
       "max": 493,
       "style": "IPY_MODEL_59c66c76232c465f868dabd373768858",
       "value": 493
      }
     },
     "c25388fa0b654d2ea9ceaf37b027081c": {
      "model_module": "@jupyter-widgets/controls",
      "model_module_version": "1.5.0",
      "model_name": "DescriptionStyleModel",
      "state": {
       "description_width": ""
      }
     },
     "c26089aea3ad4458886ad427a0031697": {
      "model_module": "@jupyter-widgets/controls",
      "model_module_version": "1.5.0",
      "model_name": "ProgressStyleModel",
      "state": {
       "description_width": "initial"
      }
     },
     "c264feb18271481eaa1c5c5f14d79044": {
      "model_module": "@jupyter-widgets/base",
      "model_module_version": "1.2.0",
      "model_name": "LayoutModel",
      "state": {}
     },
     "c2724e841f784a7aa2451fd65d459912": {
      "model_module": "@jupyter-widgets/controls",
      "model_module_version": "1.5.0",
      "model_name": "ProgressStyleModel",
      "state": {
       "description_width": "initial"
      }
     },
     "c29975025bce44fb9cf1a4d47b44f344": {
      "model_module": "@jupyter-widgets/controls",
      "model_module_version": "1.5.0",
      "model_name": "ProgressStyleModel",
      "state": {
       "description_width": "initial"
      }
     },
     "c2a4da05c1f2426aab9ba1ac0716d862": {
      "model_module": "@jupyter-widgets/controls",
      "model_module_version": "1.5.0",
      "model_name": "HBoxModel",
      "state": {
       "children": [
        "IPY_MODEL_46df59c5e8ff41d0b91791af8b5af208",
        "IPY_MODEL_0c4417b05fb84536b6fcfca5910e2866"
       ],
       "layout": "IPY_MODEL_22cae115e8d14d5890ed50da566d6f66"
      }
     },
     "c2c2352533424a948fc813ddeee91baa": {
      "model_module": "@jupyter-widgets/controls",
      "model_module_version": "1.5.0",
      "model_name": "HTMLModel",
      "state": {
       "layout": "IPY_MODEL_2844ab4fdef84c9d9f6ed51e08d51327",
       "style": "IPY_MODEL_7e42ae51f6b647dbab832ff4d86b04c2",
       "value": " 165/165 [00:55&lt;00:00,  2.97it/s]"
      }
     },
     "c2c7ae90e6a24978b5e571aebbfd768f": {
      "model_module": "@jupyter-widgets/controls",
      "model_module_version": "1.5.0",
      "model_name": "HBoxModel",
      "state": {
       "children": [
        "IPY_MODEL_529a1f93ec4b44f4b63b0ee46b27724f",
        "IPY_MODEL_66eec966296e46c89cade9831329aae6"
       ],
       "layout": "IPY_MODEL_65f3085fbaf74784af5141ca36c62fea"
      }
     },
     "c2e8a047669e484d9a6085be8ec3cfbb": {
      "model_module": "@jupyter-widgets/controls",
      "model_module_version": "1.5.0",
      "model_name": "ProgressStyleModel",
      "state": {
       "description_width": "initial"
      }
     },
     "c2eb22d2f673475a9030304b34ef9020": {
      "model_module": "@jupyter-widgets/base",
      "model_module_version": "1.2.0",
      "model_name": "LayoutModel",
      "state": {}
     },
     "c2fc05f38506485c881e5fa1e6847d7f": {
      "model_module": "@jupyter-widgets/controls",
      "model_module_version": "1.5.0",
      "model_name": "HTMLModel",
      "state": {
       "layout": "IPY_MODEL_bc391f2e709642c9971df5b1daa714a2",
       "style": "IPY_MODEL_fd0606a1d11b4fe689c50361ff119b5b",
       "value": " 1/1 [00:00&lt;00:00,  1.15it/s]"
      }
     },
     "c328f068e87b4391bab40076e5102cd5": {
      "model_module": "@jupyter-widgets/base",
      "model_module_version": "1.2.0",
      "model_name": "LayoutModel",
      "state": {}
     },
     "c353b597e90847f092414639fb43849e": {
      "model_module": "@jupyter-widgets/base",
      "model_module_version": "1.2.0",
      "model_name": "LayoutModel",
      "state": {}
     },
     "c3583fdab5e244ac96b8b093d7877816": {
      "model_module": "@jupyter-widgets/base",
      "model_module_version": "1.2.0",
      "model_name": "LayoutModel",
      "state": {}
     },
     "c35eb47f198a4ba590e09d6d38a8a068": {
      "model_module": "@jupyter-widgets/controls",
      "model_module_version": "1.5.0",
      "model_name": "HBoxModel",
      "state": {
       "children": [
        "IPY_MODEL_eaf0e5711a634064a5cd6379a1ac529c",
        "IPY_MODEL_e5ebe42b73a74bc49a3d9e0fb5d38815"
       ],
       "layout": "IPY_MODEL_1bca3e8f34a4494ba566369aed02686a"
      }
     },
     "c36070156b254775b0b3ed9d43d09e73": {
      "model_module": "@jupyter-widgets/controls",
      "model_module_version": "1.5.0",
      "model_name": "DescriptionStyleModel",
      "state": {
       "description_width": ""
      }
     },
     "c361f79434a2480fa2d9c99392cce301": {
      "model_module": "@jupyter-widgets/base",
      "model_module_version": "1.2.0",
      "model_name": "LayoutModel",
      "state": {}
     },
     "c3816f85ae6545ddb7230a93b074cc61": {
      "model_module": "@jupyter-widgets/base",
      "model_module_version": "1.2.0",
      "model_name": "LayoutModel",
      "state": {}
     },
     "c3a4a9da2db24741a47d3afdd4712302": {
      "model_module": "@jupyter-widgets/controls",
      "model_module_version": "1.5.0",
      "model_name": "FloatProgressModel",
      "state": {
       "bar_style": "success",
       "description": "[1] 5/15(val  ): 100%",
       "layout": "IPY_MODEL_728ad24eb4bc464bb826da70bbd86347",
       "max": 1,
       "style": "IPY_MODEL_0d57ee195519444098ae9d0532220846",
       "value": 1
      }
     },
     "c3af83208fe1435e98ab8a3814bc1951": {
      "model_module": "@jupyter-widgets/base",
      "model_module_version": "1.2.0",
      "model_name": "LayoutModel",
      "state": {}
     },
     "c3bfeb07c9a84ade931a3fdfcb386931": {
      "model_module": "@jupyter-widgets/base",
      "model_module_version": "1.2.0",
      "model_name": "LayoutModel",
      "state": {}
     },
     "c3e652918a7c4548be3a825a760bbf1a": {
      "model_module": "@jupyter-widgets/controls",
      "model_module_version": "1.5.0",
      "model_name": "HTMLModel",
      "state": {
       "layout": "IPY_MODEL_b9357d10cb9846e2841f32465c967e6e",
       "style": "IPY_MODEL_b3f485db24aa42e7902105a67084ef4a",
       "value": " 16/493 [00:45&lt;21:34,  2.71s/it]"
      }
     },
     "c40087ff115a44e580216d51f5bae315": {
      "model_module": "@jupyter-widgets/controls",
      "model_module_version": "1.5.0",
      "model_name": "DescriptionStyleModel",
      "state": {
       "description_width": ""
      }
     },
     "c47a5e4de945400ab031013d5b4f763d": {
      "model_module": "@jupyter-widgets/base",
      "model_module_version": "1.2.0",
      "model_name": "LayoutModel",
      "state": {}
     },
     "c48207c74a284eeaa3365d38464a7bde": {
      "model_module": "@jupyter-widgets/base",
      "model_module_version": "1.2.0",
      "model_name": "LayoutModel",
      "state": {}
     },
     "c494f41ca6384cf2ad66c6409bfd20b3": {
      "model_module": "@jupyter-widgets/base",
      "model_module_version": "1.2.0",
      "model_name": "LayoutModel",
      "state": {}
     },
     "c49534cb42294ccc8b4b16828b22b724": {
      "model_module": "@jupyter-widgets/base",
      "model_module_version": "1.2.0",
      "model_name": "LayoutModel",
      "state": {}
     },
     "c4ac04956fc8449eac1b8069132c5976": {
      "model_module": "@jupyter-widgets/controls",
      "model_module_version": "1.5.0",
      "model_name": "FloatProgressModel",
      "state": {
       "bar_style": "success",
       "description": "[2] 12/16(val  ): 100%",
       "layout": "IPY_MODEL_034c1288b9cc4c4a8391c5305920b04d",
       "max": 165,
       "style": "IPY_MODEL_497fd752976847e4bf5539a742e227bd",
       "value": 165
      }
     },
     "c4b107fe47d54de2a22f98e3cc45a096": {
      "model_module": "@jupyter-widgets/controls",
      "model_module_version": "1.5.0",
      "model_name": "HBoxModel",
      "state": {
       "children": [
        "IPY_MODEL_a0d67db5312a4571afba078f4f7a5f8f",
        "IPY_MODEL_d280cb6a9e544621a2afd5e5f809fa7a"
       ],
       "layout": "IPY_MODEL_306bc0c37d864153a208c92f5bdf4ff2"
      }
     },
     "c4bb226199be45e282a0480b3d94c3d1": {
      "model_module": "@jupyter-widgets/base",
      "model_module_version": "1.2.0",
      "model_name": "LayoutModel",
      "state": {}
     },
     "c4c7acecd4184bcb8aa0f2af71a0310f": {
      "model_module": "@jupyter-widgets/base",
      "model_module_version": "1.2.0",
      "model_name": "LayoutModel",
      "state": {}
     },
     "c4d9d63e74b442eebeca4eba6c5316c8": {
      "model_module": "@jupyter-widgets/base",
      "model_module_version": "1.2.0",
      "model_name": "LayoutModel",
      "state": {}
     },
     "c534ed2cd74148d0b8dc7ed65bf08c8a": {
      "model_module": "@jupyter-widgets/controls",
      "model_module_version": "1.5.0",
      "model_name": "FloatProgressModel",
      "state": {
       "bar_style": "success",
       "description": "[0] 1/2(val  ): 100%",
       "layout": "IPY_MODEL_8a20302a4e4c4e06838a006a8d1bb8b7",
       "max": 1,
       "style": "IPY_MODEL_247b9d38d210499ca5a5e0dc49267f45",
       "value": 1
      }
     },
     "c54140b576cc4de6b5eabb56de814bfa": {
      "model_module": "@jupyter-widgets/controls",
      "model_module_version": "1.5.0",
      "model_name": "HBoxModel",
      "state": {
       "children": [
        "IPY_MODEL_c0c751c1b5944a4b8f7b60ff141495b4",
        "IPY_MODEL_7286136f9bc847f187848af5bb52df0c"
       ],
       "layout": "IPY_MODEL_4441744c66b047af8ae166acbbd3b3f7"
      }
     },
     "c544aad96e4a4826b2fe4c727cde0209": {
      "model_module": "@jupyter-widgets/controls",
      "model_module_version": "1.5.0",
      "model_name": "DescriptionStyleModel",
      "state": {
       "description_width": ""
      }
     },
     "c54a9212f9aa4010b4ab84a548f8ce74": {
      "model_module": "@jupyter-widgets/controls",
      "model_module_version": "1.5.0",
      "model_name": "ProgressStyleModel",
      "state": {
       "description_width": "initial"
      }
     },
     "c564ac1d3de04278abd438070b4f70bf": {
      "model_module": "@jupyter-widgets/base",
      "model_module_version": "1.2.0",
      "model_name": "LayoutModel",
      "state": {}
     },
     "c57568d755864e779bdd5987ea3618ae": {
      "model_module": "@jupyter-widgets/base",
      "model_module_version": "1.2.0",
      "model_name": "LayoutModel",
      "state": {}
     },
     "c57d5896e73c41d8af7642a17a4ba82c": {
      "model_module": "@jupyter-widgets/controls",
      "model_module_version": "1.5.0",
      "model_name": "HTMLModel",
      "state": {
       "layout": "IPY_MODEL_64a5f9abf4d54e28989e3905d6e46e98",
       "style": "IPY_MODEL_09e88ede09f04082adcaa3c81aa4f2a1",
       "value": " 3/3 [00:06&lt;00:00,  2.29s/it]"
      }
     },
     "c5827ffd7a4144bd937df5990b12a018": {
      "model_module": "@jupyter-widgets/controls",
      "model_module_version": "1.5.0",
      "model_name": "HTMLModel",
      "state": {
       "layout": "IPY_MODEL_efbd309a14fa4cde90831d7c48cbf89e",
       "style": "IPY_MODEL_b9c4a6e9b42f42298649f3b1308b8074",
       "value": " 493/493 [22:16&lt;00:00,  2.71s/it]"
      }
     },
     "c592b6a177414c59bd013fd968424899": {
      "model_module": "@jupyter-widgets/base",
      "model_module_version": "1.2.0",
      "model_name": "LayoutModel",
      "state": {}
     },
     "c5a2ac705a90413791e5667daea2a329": {
      "model_module": "@jupyter-widgets/controls",
      "model_module_version": "1.5.0",
      "model_name": "FloatProgressModel",
      "state": {
       "bar_style": "success",
       "description": "[0] 1/2(val  ): 100%",
       "layout": "IPY_MODEL_44897a2cbfbd4592aea23355199b2639",
       "max": 1,
       "style": "IPY_MODEL_1e503479f2d740e2be1808d6b2f3a803",
       "value": 1
      }
     },
     "c5a70599740d437d8a8b400d39fc47dd": {
      "model_module": "@jupyter-widgets/controls",
      "model_module_version": "1.5.0",
      "model_name": "DescriptionStyleModel",
      "state": {
       "description_width": ""
      }
     },
     "c5b0e1cbd77f4ec59b1f7c116fa18873": {
      "model_module": "@jupyter-widgets/controls",
      "model_module_version": "1.5.0",
      "model_name": "DescriptionStyleModel",
      "state": {
       "description_width": ""
      }
     },
     "c5b523646a6b415b99d8c7260f41cd84": {
      "model_module": "@jupyter-widgets/controls",
      "model_module_version": "1.5.0",
      "model_name": "HBoxModel",
      "state": {
       "children": [
        "IPY_MODEL_f1f4d37275ba4c32b44ed93feb973a3c",
        "IPY_MODEL_56c07417fc44458bb3b4479221f7d8a0"
       ],
       "layout": "IPY_MODEL_975b6a8def8e41d78fef2dd2336b143a"
      }
     },
     "c5c58a195b7b418fae60e0bf2160545c": {
      "model_module": "@jupyter-widgets/base",
      "model_module_version": "1.2.0",
      "model_name": "LayoutModel",
      "state": {}
     },
     "c5c85a58ad2642178fe14643723d44b1": {
      "model_module": "@jupyter-widgets/base",
      "model_module_version": "1.2.0",
      "model_name": "LayoutModel",
      "state": {}
     },
     "c5d7ed2f17634cf580050343bb08077f": {
      "model_module": "@jupyter-widgets/controls",
      "model_module_version": "1.5.0",
      "model_name": "HBoxModel",
      "state": {
       "children": [
        "IPY_MODEL_04b351f36ba646d1a9b8d5206b787c70",
        "IPY_MODEL_04050f3926be4338816fb156e4b5331e"
       ],
       "layout": "IPY_MODEL_2757585afe184c99ac6f97349984d38a"
      }
     },
     "c5e0657558684fa1ae140cb9aa7e9363": {
      "model_module": "@jupyter-widgets/base",
      "model_module_version": "1.2.0",
      "model_name": "LayoutModel",
      "state": {}
     },
     "c5ee82f003f244a7aee4e811e3b9a371": {
      "model_module": "@jupyter-widgets/controls",
      "model_module_version": "1.5.0",
      "model_name": "ProgressStyleModel",
      "state": {
       "description_width": "initial"
      }
     },
     "c63c22422c954c289df9a262abc7ee93": {
      "model_module": "@jupyter-widgets/controls",
      "model_module_version": "1.5.0",
      "model_name": "ProgressStyleModel",
      "state": {
       "description_width": "initial"
      }
     },
     "c646cb0926b24a7b953b7b298e7a2e38": {
      "model_module": "@jupyter-widgets/base",
      "model_module_version": "1.2.0",
      "model_name": "LayoutModel",
      "state": {}
     },
     "c6956e59605f44d2ae42c1691fcec68e": {
      "model_module": "@jupyter-widgets/base",
      "model_module_version": "1.2.0",
      "model_name": "LayoutModel",
      "state": {}
     },
     "c6b26d331e874130b5183c166679b633": {
      "model_module": "@jupyter-widgets/base",
      "model_module_version": "1.2.0",
      "model_name": "LayoutModel",
      "state": {}
     },
     "c6ff502bc8094ad3af639dc1dff66dc9": {
      "model_module": "@jupyter-widgets/base",
      "model_module_version": "1.2.0",
      "model_name": "LayoutModel",
      "state": {}
     },
     "c70c6b27eab14f7e987e7855005dbbd9": {
      "model_module": "@jupyter-widgets/controls",
      "model_module_version": "1.5.0",
      "model_name": "HBoxModel",
      "state": {
       "children": [
        "IPY_MODEL_d2163cdd1d6c4baf9a2c71ffdc3b0598",
        "IPY_MODEL_ebdbe90bb9cd4f2d9fb8369cea5b4b86"
       ],
       "layout": "IPY_MODEL_327ee1aed8a042099ec4c6ac6b898c54"
      }
     },
     "c71b47e42c724738955caab0f2c83682": {
      "model_module": "@jupyter-widgets/controls",
      "model_module_version": "1.5.0",
      "model_name": "DescriptionStyleModel",
      "state": {
       "description_width": ""
      }
     },
     "c74f150adb244852969b0a92e0792066": {
      "model_module": "@jupyter-widgets/controls",
      "model_module_version": "1.5.0",
      "model_name": "HTMLModel",
      "state": {
       "layout": "IPY_MODEL_f8710ae55b0e4daea88e799c5124edcc",
       "style": "IPY_MODEL_4b38a536a9c04f248c9657467975b019",
       "value": " 3/3 [00:08&lt;00:00,  2.71s/it]"
      }
     },
     "c79307cfe03d47f0969a82d533fef3d9": {
      "model_module": "@jupyter-widgets/base",
      "model_module_version": "1.2.0",
      "model_name": "LayoutModel",
      "state": {}
     },
     "c7ae3e02c3cb4d56a3539c4c691d5000": {
      "model_module": "@jupyter-widgets/controls",
      "model_module_version": "1.5.0",
      "model_name": "HTMLModel",
      "state": {
       "layout": "IPY_MODEL_4edb3221e5c742748c95201890c223fd",
       "style": "IPY_MODEL_fed258aa91c84266acdaa546576ba105",
       "value": " 493/493 [10:57&lt;00:00,  1.33s/it]"
      }
     },
     "c7c4759b6a6e4bd591d26c27f2be67fa": {
      "model_module": "@jupyter-widgets/controls",
      "model_module_version": "1.5.0",
      "model_name": "HBoxModel",
      "state": {
       "children": [
        "IPY_MODEL_6348084682a54ead81ad84cb2b83de98",
        "IPY_MODEL_dc976c5e7d36478bbe4b21b7a286bc68"
       ],
       "layout": "IPY_MODEL_b659169bf0c047bb966c80a423c93de4"
      }
     },
     "c7d6e8598387447cb158b71326cdc94f": {
      "model_module": "@jupyter-widgets/controls",
      "model_module_version": "1.5.0",
      "model_name": "FloatProgressModel",
      "state": {
       "bar_style": "success",
       "description": "[3] 7/15(val  ): 100%",
       "layout": "IPY_MODEL_aef34e2316154bac86ae942e8d138ea4",
       "max": 165,
       "style": "IPY_MODEL_e478dec95aa643f2a9e864918f72d58b",
       "value": 165
      }
     },
     "c7dabd423fe14dbab098be5b9d57f264": {
      "model_module": "@jupyter-widgets/controls",
      "model_module_version": "1.5.0",
      "model_name": "DescriptionStyleModel",
      "state": {
       "description_width": ""
      }
     },
     "c7ddcffed91d44939ddb2a58bd4b3695": {
      "model_module": "@jupyter-widgets/base",
      "model_module_version": "1.2.0",
      "model_name": "LayoutModel",
      "state": {}
     },
     "c80a4afcf3664c1eb09d85858a85c90b": {
      "model_module": "@jupyter-widgets/controls",
      "model_module_version": "1.5.0",
      "model_name": "FloatProgressModel",
      "state": {
       "bar_style": "success",
       "description": "[2] 12/16(train): 100%",
       "layout": "IPY_MODEL_b44e2513714342f6adcfa18af91b9283",
       "max": 493,
       "style": "IPY_MODEL_94ebf9faaff64e36824e0922e70f3287",
       "value": 493
      }
     },
     "c841b423eda94a78a12391ba7ba1bdcc": {
      "model_module": "@jupyter-widgets/controls",
      "model_module_version": "1.5.0",
      "model_name": "DescriptionStyleModel",
      "state": {
       "description_width": ""
      }
     },
     "c85038286c624a3493dabebdc8b2fa92": {
      "model_module": "@jupyter-widgets/controls",
      "model_module_version": "1.5.0",
      "model_name": "DescriptionStyleModel",
      "state": {
       "description_width": ""
      }
     },
     "c85ce9f6f2454208b0264ee7593ae679": {
      "model_module": "@jupyter-widgets/controls",
      "model_module_version": "1.5.0",
      "model_name": "DescriptionStyleModel",
      "state": {
       "description_width": ""
      }
     },
     "c8994a16364f46688ed0c40b9a1ffc82": {
      "model_module": "@jupyter-widgets/controls",
      "model_module_version": "1.5.0",
      "model_name": "HBoxModel",
      "state": {
       "children": [
        "IPY_MODEL_d191753534184f978767cce7248c1504",
        "IPY_MODEL_6f0a8657681c4a0ca73bcf40556ff8bf"
       ],
       "layout": "IPY_MODEL_1fc4f7b617734e578ec3b764114ee6e6"
      }
     },
     "c89a59ab0c5f45da9b04b2f665c934f4": {
      "model_module": "@jupyter-widgets/controls",
      "model_module_version": "1.5.0",
      "model_name": "HTMLModel",
      "state": {
       "layout": "IPY_MODEL_ece542f3c03b4069a98619d28d40e00e",
       "style": "IPY_MODEL_ece3846242be4dd7b4838632b3ce4d1b",
       "value": " 1/1 [00:00&lt;00:00,  1.19it/s]"
      }
     },
     "c89acadff6354765a856647a504c4956": {
      "model_module": "@jupyter-widgets/controls",
      "model_module_version": "1.5.0",
      "model_name": "FloatProgressModel",
      "state": {
       "bar_style": "success",
       "description": "[2] 9/16(val  ): 100%",
       "layout": "IPY_MODEL_9e396be02f6f4394ae8cc2007e7461eb",
       "max": 165,
       "style": "IPY_MODEL_0d002cbd67cf4077ba77730c63df98d1",
       "value": 165
      }
     },
     "c89c968bec324558988282e7965a0f6c": {
      "model_module": "@jupyter-widgets/controls",
      "model_module_version": "1.5.0",
      "model_name": "DescriptionStyleModel",
      "state": {
       "description_width": ""
      }
     },
     "c8e10d8246eb47479ee93a9a18035aac": {
      "model_module": "@jupyter-widgets/base",
      "model_module_version": "1.2.0",
      "model_name": "LayoutModel",
      "state": {}
     },
     "c8f49deec6ca48bbb6aa9a88d086ddd0": {
      "model_module": "@jupyter-widgets/controls",
      "model_module_version": "1.5.0",
      "model_name": "HTMLModel",
      "state": {
       "layout": "IPY_MODEL_1198bdc9a80b44b1a1e4ca134c997fbe",
       "style": "IPY_MODEL_7741c15baeb8483099ba98e1c2e90e7d",
       "value": " 493/493 [21:39&lt;00:00,  2.64s/it]"
      }
     },
     "c90118da17bb4b6b9ed92fc124a2b867": {
      "model_module": "@jupyter-widgets/base",
      "model_module_version": "1.2.0",
      "model_name": "LayoutModel",
      "state": {}
     },
     "c90b1dd90d244612ba8aa64893a17d48": {
      "model_module": "@jupyter-widgets/base",
      "model_module_version": "1.2.0",
      "model_name": "LayoutModel",
      "state": {}
     },
     "c90da9b534234812a30f2bbd4e3426e9": {
      "model_module": "@jupyter-widgets/base",
      "model_module_version": "1.2.0",
      "model_name": "LayoutModel",
      "state": {}
     },
     "c91fa8b6426f4c0a9a824da46c1b7668": {
      "model_module": "@jupyter-widgets/base",
      "model_module_version": "1.2.0",
      "model_name": "LayoutModel",
      "state": {}
     },
     "c9229df96dbc4406a1781cb77fb46d0e": {
      "model_module": "@jupyter-widgets/controls",
      "model_module_version": "1.5.0",
      "model_name": "ProgressStyleModel",
      "state": {
       "description_width": "initial"
      }
     },
     "c93a5974216f45a698d5b7c8b2b59896": {
      "model_module": "@jupyter-widgets/base",
      "model_module_version": "1.2.0",
      "model_name": "LayoutModel",
      "state": {}
     },
     "c94a4100d3034f4fac3783f07896300e": {
      "model_module": "@jupyter-widgets/controls",
      "model_module_version": "1.5.0",
      "model_name": "ProgressStyleModel",
      "state": {
       "description_width": "initial"
      }
     },
     "c95c6df2fd704663bda17b0107480c29": {
      "model_module": "@jupyter-widgets/controls",
      "model_module_version": "1.5.0",
      "model_name": "HTMLModel",
      "state": {
       "layout": "IPY_MODEL_54cbfa28747743ab9f8abb22b016c5a8",
       "style": "IPY_MODEL_7ea85506907544e990d790e1ecbc69c2",
       "value": " 165/165 [01:20&lt;00:00,  2.04it/s]"
      }
     },
     "c974d349a1b147b9878945aa8d06cf0f": {
      "model_module": "@jupyter-widgets/controls",
      "model_module_version": "1.5.0",
      "model_name": "ProgressStyleModel",
      "state": {
       "description_width": "initial"
      }
     },
     "c98b88a6d1814f3aa7377da74f8dcb2c": {
      "model_module": "@jupyter-widgets/controls",
      "model_module_version": "1.5.0",
      "model_name": "ProgressStyleModel",
      "state": {
       "description_width": "initial"
      }
     },
     "c992274259a24128b1cd3300fafe6cc5": {
      "model_module": "@jupyter-widgets/controls",
      "model_module_version": "1.5.0",
      "model_name": "FloatProgressModel",
      "state": {
       "bar_style": "success",
       "description": "[3] 13/15(val  ): 100%",
       "layout": "IPY_MODEL_a50a65b8e0894bc7a85bee796ce9c299",
       "max": 165,
       "style": "IPY_MODEL_9c3367abfce94c63a73eb22b8927aa29",
       "value": 165
      }
     },
     "c99e4420783846f0be6e237c79a3eecc": {
      "model_module": "@jupyter-widgets/base",
      "model_module_version": "1.2.0",
      "model_name": "LayoutModel",
      "state": {}
     },
     "c9b9653276fe4609a90a94522defc889": {
      "model_module": "@jupyter-widgets/base",
      "model_module_version": "1.2.0",
      "model_name": "LayoutModel",
      "state": {}
     },
     "c9bcd8ccdf0049e297576a374ad8c5e0": {
      "model_module": "@jupyter-widgets/controls",
      "model_module_version": "1.5.0",
      "model_name": "HTMLModel",
      "state": {
       "layout": "IPY_MODEL_335d5494e25447d7b1fea87fb468b07d",
       "style": "IPY_MODEL_3ad39046f3354d95a4f1727e21116fd0",
       "value": " 1/1 [00:00&lt;00:00,  1.26it/s]"
      }
     },
     "c9c84b678d734fa1896a7ace1d4bcfa3": {
      "model_module": "@jupyter-widgets/controls",
      "model_module_version": "1.5.0",
      "model_name": "HBoxModel",
      "state": {
       "children": [
        "IPY_MODEL_a00ed3db9d804650967c1b73ba6965f8",
        "IPY_MODEL_4c6f0ed3a0ad4ec5bb6cf3f57c78b459"
       ],
       "layout": "IPY_MODEL_352f20239e674ed9ab78d88085b3d3e5"
      }
     },
     "c9d752082d334af992b381e7f28deef0": {
      "model_module": "@jupyter-widgets/controls",
      "model_module_version": "1.5.0",
      "model_name": "HTMLModel",
      "state": {
       "layout": "IPY_MODEL_31cd90b5655c4c4591c29cc51296520c",
       "style": "IPY_MODEL_a13a16c9070140fb9075a8c24480ea14",
       "value": " 493/493 [21:27&lt;00:00,  2.61s/it]"
      }
     },
     "c9dec5c2d3d54c1b87cd1092de43061e": {
      "model_module": "@jupyter-widgets/base",
      "model_module_version": "1.2.0",
      "model_name": "LayoutModel",
      "state": {}
     },
     "c9eac096e331465781ddb49a3467d70a": {
      "model_module": "@jupyter-widgets/controls",
      "model_module_version": "1.5.0",
      "model_name": "HBoxModel",
      "state": {
       "children": [
        "IPY_MODEL_4070e0baa6e64e6cb4340e6767e4bbfe",
        "IPY_MODEL_51e57f3e824940798224d541939db348"
       ],
       "layout": "IPY_MODEL_9b50a93a35c14245ac5c98b756e7cf67"
      }
     },
     "ca194275f2a14ef3be61a4d1bd2c7e62": {
      "model_module": "@jupyter-widgets/controls",
      "model_module_version": "1.5.0",
      "model_name": "ProgressStyleModel",
      "state": {
       "description_width": "initial"
      }
     },
     "ca41ac5007b14259ac81d60651651193": {
      "model_module": "@jupyter-widgets/base",
      "model_module_version": "1.2.0",
      "model_name": "LayoutModel",
      "state": {}
     },
     "ca463ef57819471299a27a623649e9c1": {
      "model_module": "@jupyter-widgets/controls",
      "model_module_version": "1.5.0",
      "model_name": "HTMLModel",
      "state": {
       "layout": "IPY_MODEL_ec78c1f3eea140db8171c9ef0291d18f",
       "style": "IPY_MODEL_a5ca0c9d5a6d41ae8c6c2dc6236747e9",
       "value": " 493/493 [23:51&lt;00:00,  2.90s/it]"
      }
     },
     "ca916c25eaab434bbb3a6938c6b12e48": {
      "model_module": "@jupyter-widgets/base",
      "model_module_version": "1.2.0",
      "model_name": "LayoutModel",
      "state": {}
     },
     "caa3a4bf2ce74a909ed94597ce3c0bff": {
      "model_module": "@jupyter-widgets/base",
      "model_module_version": "1.2.0",
      "model_name": "LayoutModel",
      "state": {}
     },
     "cb14b1ec772445f7a8492616180a78a0": {
      "model_module": "@jupyter-widgets/controls",
      "model_module_version": "1.5.0",
      "model_name": "HTMLModel",
      "state": {
       "layout": "IPY_MODEL_17b7abf4461c4257b56e9af6b284b9ae",
       "style": "IPY_MODEL_332bad7a4d3e482ba435ce78a6c40d16",
       "value": " 0/493 [05:23&lt;?, ?it/s]"
      }
     },
     "cb2d5fa2cee24352973d5508a7a14704": {
      "model_module": "@jupyter-widgets/base",
      "model_module_version": "1.2.0",
      "model_name": "LayoutModel",
      "state": {}
     },
     "cb3b6432a46a473eb79858375e8d4960": {
      "model_module": "@jupyter-widgets/controls",
      "model_module_version": "1.5.0",
      "model_name": "ProgressStyleModel",
      "state": {
       "description_width": "initial"
      }
     },
     "cb453e23423f4d08a14a7930bcdb5623": {
      "model_module": "@jupyter-widgets/base",
      "model_module_version": "1.2.0",
      "model_name": "LayoutModel",
      "state": {}
     },
     "cb508a9f80a34664af3c3fb24f0b7cd0": {
      "model_module": "@jupyter-widgets/controls",
      "model_module_version": "1.5.0",
      "model_name": "ProgressStyleModel",
      "state": {
       "description_width": "initial"
      }
     },
     "cb5bec33916047aa88903bda9716e764": {
      "model_module": "@jupyter-widgets/base",
      "model_module_version": "1.2.0",
      "model_name": "LayoutModel",
      "state": {}
     },
     "cb6507e9060245b194961d488b83d496": {
      "model_module": "@jupyter-widgets/controls",
      "model_module_version": "1.5.0",
      "model_name": "FloatProgressModel",
      "state": {
       "bar_style": "danger",
       "description": "[0] 1/15(train):   0%",
       "layout": "IPY_MODEL_97ec105eb5514c8fb17842db18c3eefe",
       "max": 493,
       "style": "IPY_MODEL_cb7a7105c76c453ab1f7757259d07204",
       "value": 1
      }
     },
     "cb7a7105c76c453ab1f7757259d07204": {
      "model_module": "@jupyter-widgets/controls",
      "model_module_version": "1.5.0",
      "model_name": "ProgressStyleModel",
      "state": {
       "description_width": "initial"
      }
     },
     "cb99d359421145bdbc6197c70c604c18": {
      "model_module": "@jupyter-widgets/controls",
      "model_module_version": "1.5.0",
      "model_name": "HTMLModel",
      "state": {
       "layout": "IPY_MODEL_10b8a5a74d1241ec917736c62de525ea",
       "style": "IPY_MODEL_18b92c80aa9c4fb2804ca3529c7ffa08",
       "value": " 165/165 [3:10:35&lt;00:00, 69.31s/it]"
      }
     },
     "cba7f49623b9480fad10d8b6f7a5aa7e": {
      "model_module": "@jupyter-widgets/controls",
      "model_module_version": "1.5.0",
      "model_name": "HTMLModel",
      "state": {
       "layout": "IPY_MODEL_436c91fc6ec7476286de1e435ab1234e",
       "style": "IPY_MODEL_6b648202e5814010a08b97e87fee35da",
       "value": " 1/1 [00:00&lt;00:00,  1.26it/s]"
      }
     },
     "cbe76496f749456ea2e675a9b80c89c3": {
      "model_module": "@jupyter-widgets/base",
      "model_module_version": "1.2.0",
      "model_name": "LayoutModel",
      "state": {}
     },
     "cbe77e7ce6cb43489aee8fcd81dbadb5": {
      "model_module": "@jupyter-widgets/controls",
      "model_module_version": "1.5.0",
      "model_name": "ProgressStyleModel",
      "state": {
       "description_width": "initial"
      }
     },
     "cc087c5636904c6ab2642f0cf6d93c46": {
      "model_module": "@jupyter-widgets/base",
      "model_module_version": "1.2.0",
      "model_name": "LayoutModel",
      "state": {}
     },
     "cc2440d6c3844268838c9b08db654e8a": {
      "model_module": "@jupyter-widgets/controls",
      "model_module_version": "1.5.0",
      "model_name": "FloatProgressModel",
      "state": {
       "bar_style": "success",
       "description": "[2] 9/16(train): 100%",
       "layout": "IPY_MODEL_2ca222e074fa41579bf91c7ea3cb16bc",
       "max": 493,
       "style": "IPY_MODEL_3e1695460b3a4390a2bfc0a29dddb118",
       "value": 493
      }
     },
     "cc246ce523344d48bf5e78d632fc288e": {
      "model_module": "@jupyter-widgets/base",
      "model_module_version": "1.2.0",
      "model_name": "LayoutModel",
      "state": {}
     },
     "cc2c74be79e24040ab3de8908fbae884": {
      "model_module": "@jupyter-widgets/controls",
      "model_module_version": "1.5.0",
      "model_name": "HBoxModel",
      "state": {
       "children": [
        "IPY_MODEL_a7c13cd1b50a4355aee7f6416af8bd5a",
        "IPY_MODEL_823aa42d9f4646d6b8aed606bef9ec40"
       ],
       "layout": "IPY_MODEL_2a65035c6aa84d4c8e7372755289f9fc"
      }
     },
     "cc2fc78e7c384366a30a331d6bcd44cb": {
      "model_module": "@jupyter-widgets/base",
      "model_module_version": "1.2.0",
      "model_name": "LayoutModel",
      "state": {}
     },
     "cc3c73d793d0419bbda74c605c976210": {
      "model_module": "@jupyter-widgets/controls",
      "model_module_version": "1.5.0",
      "model_name": "DescriptionStyleModel",
      "state": {
       "description_width": ""
      }
     },
     "cc4228f76da44dae862b3f2646f8fdf9": {
      "model_module": "@jupyter-widgets/controls",
      "model_module_version": "1.5.0",
      "model_name": "HBoxModel",
      "state": {
       "children": [
        "IPY_MODEL_629c56f4475846cca619b8b439ae3c9d",
        "IPY_MODEL_314272ef021b45d0b334db3b1136f4fe"
       ],
       "layout": "IPY_MODEL_ab2677f47f1b4c368a8de78cfec35145"
      }
     },
     "cc676b84a9214940a4f16bfdd9740de8": {
      "model_module": "@jupyter-widgets/base",
      "model_module_version": "1.2.0",
      "model_name": "LayoutModel",
      "state": {}
     },
     "cc72d68849c14756926e09ca8f08e983": {
      "model_module": "@jupyter-widgets/base",
      "model_module_version": "1.2.0",
      "model_name": "LayoutModel",
      "state": {}
     },
     "ccc1232ff42549a2b2717b1a8f74e7fe": {
      "model_module": "@jupyter-widgets/base",
      "model_module_version": "1.2.0",
      "model_name": "LayoutModel",
      "state": {}
     },
     "cccda850c3f84078a55ce5bdd9b9ed4d": {
      "model_module": "@jupyter-widgets/controls",
      "model_module_version": "1.5.0",
      "model_name": "HTMLModel",
      "state": {
       "layout": "IPY_MODEL_2e3157fe4f4442b798a0651d02b9eab4",
       "style": "IPY_MODEL_3c7c9a3bfa2e4a9eaa4a2750d70b1fa8",
       "value": " 493/493 [22:19&lt;00:00,  2.72s/it]"
      }
     },
     "ccd36714f9de414b870f63f49c4944a8": {
      "model_module": "@jupyter-widgets/base",
      "model_module_version": "1.2.0",
      "model_name": "LayoutModel",
      "state": {}
     },
     "cce42d4ce3074c459c091629ab7705e6": {
      "model_module": "@jupyter-widgets/controls",
      "model_module_version": "1.5.0",
      "model_name": "HTMLModel",
      "state": {
       "layout": "IPY_MODEL_de740930b6924a3980cfd8f4750a2445",
       "style": "IPY_MODEL_f72c1554481a4f119a41037528759ff9",
       "value": " 3/3 [00:06&lt;00:00,  2.01s/it]"
      }
     },
     "ccec28edc0f346dea8509e2fcfd8a6cf": {
      "model_module": "@jupyter-widgets/controls",
      "model_module_version": "1.5.0",
      "model_name": "FloatProgressModel",
      "state": {
       "bar_style": "success",
       "description": "[1] 6/15(val  ): 100%",
       "layout": "IPY_MODEL_59fe94488bf54b0e9e4d61fe7b7aa9a3",
       "max": 1,
       "style": "IPY_MODEL_608d017abb6e4c3e983abdaf38c23f73",
       "value": 1
      }
     },
     "ccf51fa964cd4e5e831c9d078863a9d7": {
      "model_module": "@jupyter-widgets/base",
      "model_module_version": "1.2.0",
      "model_name": "LayoutModel",
      "state": {}
     },
     "ccfa2f0260614d9e8150c216f0c80dd2": {
      "model_module": "@jupyter-widgets/controls",
      "model_module_version": "1.5.0",
      "model_name": "DescriptionStyleModel",
      "state": {
       "description_width": ""
      }
     },
     "cd08c6c7cd1e451dbb37907c4ee76903": {
      "model_module": "@jupyter-widgets/base",
      "model_module_version": "1.2.0",
      "model_name": "LayoutModel",
      "state": {}
     },
     "cd14fb4131ee4a3e8f16d2e8bbf9cfba": {
      "model_module": "@jupyter-widgets/controls",
      "model_module_version": "1.5.0",
      "model_name": "HBoxModel",
      "state": {
       "children": [
        "IPY_MODEL_d2f791b66a8c48b788c0d0cb5e55e6b9",
        "IPY_MODEL_d5a9d4a33ba24fde86d4be703357af0e"
       ],
       "layout": "IPY_MODEL_373875d3e29e454dbb2eec29ccfaf418"
      }
     },
     "cd1f8e561d3b4d98a7a8100f6a1e6d76": {
      "model_module": "@jupyter-widgets/controls",
      "model_module_version": "1.5.0",
      "model_name": "HBoxModel",
      "state": {
       "children": [
        "IPY_MODEL_591b72a949a249a58e5fd7ae901cafe6",
        "IPY_MODEL_ce0ac745e45e4723ace86c8ffe59ed62"
       ],
       "layout": "IPY_MODEL_77a1cd3f764841d194aaecb1a706ea6c"
      }
     },
     "cd2a7ae9fe444594ba0f6a56cf0aaeae": {
      "model_module": "@jupyter-widgets/base",
      "model_module_version": "1.2.0",
      "model_name": "LayoutModel",
      "state": {}
     },
     "cd37b18c90274a6cafc3134428c2190b": {
      "model_module": "@jupyter-widgets/base",
      "model_module_version": "1.2.0",
      "model_name": "LayoutModel",
      "state": {}
     },
     "cd42538397174249856b922b5228c00e": {
      "model_module": "@jupyter-widgets/controls",
      "model_module_version": "1.5.0",
      "model_name": "HTMLModel",
      "state": {
       "layout": "IPY_MODEL_5d6d117744c949b09007938382432970",
       "style": "IPY_MODEL_7e4a6b9b4a2548a9a3048a68149dce5c",
       "value": " 3/3 [00:06&lt;00:00,  2.07s/it]"
      }
     },
     "cd535465d7dc4f35a97125b9531e05cb": {
      "model_module": "@jupyter-widgets/base",
      "model_module_version": "1.2.0",
      "model_name": "LayoutModel",
      "state": {}
     },
     "cd967238c5224154883bd5b3a7a503b1": {
      "model_module": "@jupyter-widgets/controls",
      "model_module_version": "1.5.0",
      "model_name": "HTMLModel",
      "state": {
       "layout": "IPY_MODEL_39ae4280fab0452d8a71646d7e763a1b",
       "style": "IPY_MODEL_24beb6e4d36c4219885ec79e979c5e01",
       "value": " 165/165 [01:30&lt;00:00,  1.83it/s]"
      }
     },
     "cd99256d3c40467385f2be7e01fa183d": {
      "model_module": "@jupyter-widgets/base",
      "model_module_version": "1.2.0",
      "model_name": "LayoutModel",
      "state": {}
     },
     "cdb9d6f8f9d249ddb97063c20b4f0bf3": {
      "model_module": "@jupyter-widgets/base",
      "model_module_version": "1.2.0",
      "model_name": "LayoutModel",
      "state": {}
     },
     "cde06e2646504bb3a4a26bcd376199fa": {
      "model_module": "@jupyter-widgets/controls",
      "model_module_version": "1.5.0",
      "model_name": "DescriptionStyleModel",
      "state": {
       "description_width": ""
      }
     },
     "cdef70a9398040279a67a4b706c854aa": {
      "model_module": "@jupyter-widgets/base",
      "model_module_version": "1.2.0",
      "model_name": "LayoutModel",
      "state": {}
     },
     "cdf42064fb2245a58b75e1bab6a26578": {
      "model_module": "@jupyter-widgets/controls",
      "model_module_version": "1.5.0",
      "model_name": "HBoxModel",
      "state": {
       "children": [
        "IPY_MODEL_50969d3a7f23479f811a324268eb30ba",
        "IPY_MODEL_cb99d359421145bdbc6197c70c604c18"
       ],
       "layout": "IPY_MODEL_1db2f55dde444434986b254f2d8445b7"
      }
     },
     "ce0ac745e45e4723ace86c8ffe59ed62": {
      "model_module": "@jupyter-widgets/controls",
      "model_module_version": "1.5.0",
      "model_name": "HTMLModel",
      "state": {
       "layout": "IPY_MODEL_68a5b3304e4c449d8d2b4fc13ec5c557",
       "style": "IPY_MODEL_4e45916cfd7d4ff1a9de89132838009b",
       "value": " 493/493 [1:28:35&lt;00:00, 10.78s/it]"
      }
     },
     "ce2a28a7752e47f6bdf83ccb087cce88": {
      "model_module": "@jupyter-widgets/controls",
      "model_module_version": "1.5.0",
      "model_name": "DescriptionStyleModel",
      "state": {
       "description_width": ""
      }
     },
     "ce322c3792224e62aedf8b59c964ca67": {
      "model_module": "@jupyter-widgets/controls",
      "model_module_version": "1.5.0",
      "model_name": "FloatProgressModel",
      "state": {
       "bar_style": "success",
       "description": "[2] 7/15(val  ): 100%",
       "layout": "IPY_MODEL_db7642aebd364ee8bd91dbd6c82b839b",
       "max": 165,
       "style": "IPY_MODEL_6d7bdfecfb53471c8a9abdb57b5a8a59",
       "value": 165
      }
     },
     "ce4b71b8f9564e06b39875aaf2c699b8": {
      "model_module": "@jupyter-widgets/controls",
      "model_module_version": "1.5.0",
      "model_name": "FloatProgressModel",
      "state": {
       "bar_style": "success",
       "description": "[0] 1/2(train): 100%",
       "layout": "IPY_MODEL_d651efd398074bcba58538de57b3a3fd",
       "max": 3,
       "style": "IPY_MODEL_addf4e4167514f4e903c35ec5ac06694",
       "value": 3
      }
     },
     "ce64c22777cc442a9a6b4ae9c7456577": {
      "model_module": "@jupyter-widgets/base",
      "model_module_version": "1.2.0",
      "model_name": "LayoutModel",
      "state": {}
     },
     "ce6a8cde1b364c25930612bfc8ed8b3d": {
      "model_module": "@jupyter-widgets/controls",
      "model_module_version": "1.5.0",
      "model_name": "HTMLModel",
      "state": {
       "layout": "IPY_MODEL_14b0fb2a853a44e88c750e76a0cb219d",
       "style": "IPY_MODEL_d0588abf41e34950a5121107594d6d96",
       "value": " 3/3 [00:07&lt;00:00,  2.43s/it]"
      }
     },
     "ce78affc9cbc4a859bfa02783ffef4d7": {
      "model_module": "@jupyter-widgets/base",
      "model_module_version": "1.2.0",
      "model_name": "LayoutModel",
      "state": {}
     },
     "cee0eef4f400410ca5b9e39dce875bf1": {
      "model_module": "@jupyter-widgets/controls",
      "model_module_version": "1.5.0",
      "model_name": "HBoxModel",
      "state": {
       "children": [
        "IPY_MODEL_fb92c43187b84afdb061849710e29264",
        "IPY_MODEL_2e39dc3ece7346d1b078ce618c88d939"
       ],
       "layout": "IPY_MODEL_b7492429d187401d844602454666fa09"
      }
     },
     "cef91d139d0c4167a56c92d99142f023": {
      "model_module": "@jupyter-widgets/controls",
      "model_module_version": "1.5.0",
      "model_name": "DescriptionStyleModel",
      "state": {
       "description_width": ""
      }
     },
     "cefdd429bb0248db92ab6c5457475f98": {
      "model_module": "@jupyter-widgets/controls",
      "model_module_version": "1.5.0",
      "model_name": "HBoxModel",
      "state": {
       "children": [
        "IPY_MODEL_c7d6e8598387447cb158b71326cdc94f",
        "IPY_MODEL_3b27339d73fa4a629a455522f1f8e227"
       ],
       "layout": "IPY_MODEL_e2550f9473994ca5893a2a661ebcca0e"
      }
     },
     "cefe8671862b41a5a7ebf1fc1ee6a4b5": {
      "model_module": "@jupyter-widgets/controls",
      "model_module_version": "1.5.0",
      "model_name": "HBoxModel",
      "state": {
       "children": [
        "IPY_MODEL_91da504999da4097a5d44ce3ae2516e5",
        "IPY_MODEL_2ae3c851dadf4032897096253cf5eafe"
       ],
       "layout": "IPY_MODEL_a303a24b10114ee6bd8d2e7c1f659e05"
      }
     },
     "cf47788cc87d4c8a8200f5b8081ea430": {
      "model_module": "@jupyter-widgets/controls",
      "model_module_version": "1.5.0",
      "model_name": "HTMLModel",
      "state": {
       "layout": "IPY_MODEL_e1dd2c24dc6f445a8f18a238f07c14a0",
       "style": "IPY_MODEL_8bf12e7e06ba44f8beff100070d166d7",
       "value": " 1/1 [00:00&lt;00:00,  1.05it/s]"
      }
     },
     "cf76081a296f46d28daff34084f92da5": {
      "model_module": "@jupyter-widgets/base",
      "model_module_version": "1.2.0",
      "model_name": "LayoutModel",
      "state": {}
     },
     "cf7b0bcbca6e4025bd595c79d520928b": {
      "model_module": "@jupyter-widgets/base",
      "model_module_version": "1.2.0",
      "model_name": "LayoutModel",
      "state": {}
     },
     "cf95008113724256b43f30c159c80362": {
      "model_module": "@jupyter-widgets/base",
      "model_module_version": "1.2.0",
      "model_name": "LayoutModel",
      "state": {}
     },
     "cfa23a89a7564d23b70865eab43f86df": {
      "model_module": "@jupyter-widgets/controls",
      "model_module_version": "1.5.0",
      "model_name": "DescriptionStyleModel",
      "state": {
       "description_width": ""
      }
     },
     "cfacf8ed4f4249a0b7b56ca418defb9c": {
      "model_module": "@jupyter-widgets/base",
      "model_module_version": "1.2.0",
      "model_name": "LayoutModel",
      "state": {}
     },
     "cfbdb5b818cd469994ace7f5dfc04185": {
      "model_module": "@jupyter-widgets/controls",
      "model_module_version": "1.5.0",
      "model_name": "FloatProgressModel",
      "state": {
       "bar_style": "success",
       "description": "[2] 1/2(train): 100%",
       "layout": "IPY_MODEL_4b98215a62004ecf899c7460c85ab80e",
       "max": 3,
       "style": "IPY_MODEL_b9452c5e3e8d43cf9ff6e23acaf1af60",
       "value": 3
      }
     },
     "d0261e4d129b49a78e944cbdb6b3793e": {
      "model_module": "@jupyter-widgets/base",
      "model_module_version": "1.2.0",
      "model_name": "LayoutModel",
      "state": {}
     },
     "d02f0dbc877e434087a8d8895c3db90d": {
      "model_module": "@jupyter-widgets/controls",
      "model_module_version": "1.5.0",
      "model_name": "FloatProgressModel",
      "state": {
       "bar_style": "success",
       "description": "[1] 8/16(train): 100%",
       "layout": "IPY_MODEL_fa7eaad5336a405b9725f93d63fe4701",
       "max": 493,
       "style": "IPY_MODEL_e6e39b617c704ccbaa560b534388f845",
       "value": 493
      }
     },
     "d0588abf41e34950a5121107594d6d96": {
      "model_module": "@jupyter-widgets/controls",
      "model_module_version": "1.5.0",
      "model_name": "DescriptionStyleModel",
      "state": {
       "description_width": ""
      }
     },
     "d05922837cb6461a9588d5f42c5d56a7": {
      "model_module": "@jupyter-widgets/controls",
      "model_module_version": "1.5.0",
      "model_name": "HTMLModel",
      "state": {
       "layout": "IPY_MODEL_6ef01754dcab4f869d4ed4bd4c6a4a7f",
       "style": "IPY_MODEL_bb3489feb4394391b600fa1038b5493e",
       "value": " 3/3 [00:06&lt;00:00,  2.33s/it]"
      }
     },
     "d08685b544a54602bf55f6b33ccb5b49": {
      "model_module": "@jupyter-widgets/controls",
      "model_module_version": "1.5.0",
      "model_name": "FloatProgressModel",
      "state": {
       "bar_style": "success",
       "description": "[0] 10/15(train): 100%",
       "layout": "IPY_MODEL_3c15bf52e90a417f9bfa729476ec4fb9",
       "max": 3,
       "style": "IPY_MODEL_f5bdc7cb2e6543a996578ccb6b25b472",
       "value": 3
      }
     },
     "d08faf6880634d3fa80382ce435f8c1c": {
      "model_module": "@jupyter-widgets/controls",
      "model_module_version": "1.5.0",
      "model_name": "HTMLModel",
      "state": {
       "layout": "IPY_MODEL_97f5f2e4d12544f29487423ee04b3864",
       "style": "IPY_MODEL_26a88278e0104460a3fadc7e34c5a695",
       "value": " 1/1 [00:00&lt;00:00,  1.21it/s]"
      }
     },
     "d0ccf1781ffc4f35a0029fdc8c673391": {
      "model_module": "@jupyter-widgets/controls",
      "model_module_version": "1.5.0",
      "model_name": "ProgressStyleModel",
      "state": {
       "description_width": "initial"
      }
     },
     "d1188da0cebc448c8c11664cbfaf1fd0": {
      "model_module": "@jupyter-widgets/controls",
      "model_module_version": "1.5.0",
      "model_name": "FloatProgressModel",
      "state": {
       "bar_style": "success",
       "description": "[2] 1/15(train): 100%",
       "layout": "IPY_MODEL_9acde502f55042a994be78bfe75b4103",
       "max": 493,
       "style": "IPY_MODEL_94a5abf95d3f404e822153c56e1fdf79",
       "value": 493
      }
     },
     "d1356fb642854686800cf5d762fbf5bc": {
      "model_module": "@jupyter-widgets/controls",
      "model_module_version": "1.5.0",
      "model_name": "DescriptionStyleModel",
      "state": {
       "description_width": ""
      }
     },
     "d17bc9e6edf54805b7810eab2e096555": {
      "model_module": "@jupyter-widgets/controls",
      "model_module_version": "1.5.0",
      "model_name": "ProgressStyleModel",
      "state": {
       "description_width": "initial"
      }
     },
     "d191753534184f978767cce7248c1504": {
      "model_module": "@jupyter-widgets/controls",
      "model_module_version": "1.5.0",
      "model_name": "FloatProgressModel",
      "state": {
       "bar_style": "success",
       "description": "[1] 1/2(val  ): 100%",
       "layout": "IPY_MODEL_ab82bae6df3e474799effd7f8d3e5082",
       "max": 1,
       "style": "IPY_MODEL_7f5f49e0fa714e85a04a6a719dd3e4f2",
       "value": 1
      }
     },
     "d1990a28c28f4177b33bf0f24e7a5c76": {
      "model_module": "@jupyter-widgets/base",
      "model_module_version": "1.2.0",
      "model_name": "LayoutModel",
      "state": {}
     },
     "d1b06b7f8543487793b366f8d7793cc5": {
      "model_module": "@jupyter-widgets/controls",
      "model_module_version": "1.5.0",
      "model_name": "DescriptionStyleModel",
      "state": {
       "description_width": ""
      }
     },
     "d1e1411de9e74b52bf5383a66318066d": {
      "model_module": "@jupyter-widgets/base",
      "model_module_version": "1.2.0",
      "model_name": "LayoutModel",
      "state": {}
     },
     "d1e5f49be3da49c6ac57081fff4212b1": {
      "model_module": "@jupyter-widgets/controls",
      "model_module_version": "1.5.0",
      "model_name": "DescriptionStyleModel",
      "state": {
       "description_width": ""
      }
     },
     "d1eee96eb0b4402bb997645e770903c2": {
      "model_module": "@jupyter-widgets/base",
      "model_module_version": "1.2.0",
      "model_name": "LayoutModel",
      "state": {}
     },
     "d208005d6e6c440ab3aa95164d4073cf": {
      "model_module": "@jupyter-widgets/base",
      "model_module_version": "1.2.0",
      "model_name": "LayoutModel",
      "state": {}
     },
     "d20c63fff27148feb9f059de35a81876": {
      "model_module": "@jupyter-widgets/controls",
      "model_module_version": "1.5.0",
      "model_name": "DescriptionStyleModel",
      "state": {
       "description_width": ""
      }
     },
     "d2163cdd1d6c4baf9a2c71ffdc3b0598": {
      "model_module": "@jupyter-widgets/controls",
      "model_module_version": "1.5.0",
      "model_name": "FloatProgressModel",
      "state": {
       "bar_style": "success",
       "description": "[0] 9/15(val  ): 100%",
       "layout": "IPY_MODEL_75fbd9288aa6455bbf0cdef15ecfc02a",
       "max": 1,
       "style": "IPY_MODEL_556c84169c6f4e34be576b392cdf59dc",
       "value": 1
      }
     },
     "d228a4ff5f0c4afd81bacbf5c70268f5": {
      "model_module": "@jupyter-widgets/controls",
      "model_module_version": "1.5.0",
      "model_name": "FloatProgressModel",
      "state": {
       "bar_style": "success",
       "description": "[2] 5/15(train): 100%",
       "layout": "IPY_MODEL_0b82cd3c64db49a9a719fcf0b12c0c92",
       "max": 493,
       "style": "IPY_MODEL_e5ad78e55fd3412aad4bf085c776d9c8",
       "value": 493
      }
     },
     "d22c54c079bb44dc8b966c3316984c0c": {
      "model_module": "@jupyter-widgets/controls",
      "model_module_version": "1.5.0",
      "model_name": "HBoxModel",
      "state": {
       "children": [
        "IPY_MODEL_50496dc8cc86453d8d7fd3d44f170314",
        "IPY_MODEL_92ebe1b6bd9b435e9fcad1c44664f64e"
       ],
       "layout": "IPY_MODEL_f05a47c6c75d41d1a73be03962bd0d81"
      }
     },
     "d23562cf7f434f39a09d32c6702c134c": {
      "model_module": "@jupyter-widgets/controls",
      "model_module_version": "1.5.0",
      "model_name": "FloatProgressModel",
      "state": {
       "bar_style": "success",
       "description": "[1] 9/15(val  ): 100%",
       "layout": "IPY_MODEL_0d319e73e4a64ddaa3e66814ba137005",
       "max": 1,
       "style": "IPY_MODEL_3ef7284e34ea46bca179e563d9e1fccb",
       "value": 1
      }
     },
     "d23e926bfe86466391bf94dd9a57e4fa": {
      "model_module": "@jupyter-widgets/controls",
      "model_module_version": "1.5.0",
      "model_name": "ProgressStyleModel",
      "state": {
       "description_width": "initial"
      }
     },
     "d2409914ccb54d92853fc522a6a9474e": {
      "model_module": "@jupyter-widgets/base",
      "model_module_version": "1.2.0",
      "model_name": "LayoutModel",
      "state": {}
     },
     "d2504e099b6c4155b4a2470788cd374a": {
      "model_module": "@jupyter-widgets/controls",
      "model_module_version": "1.5.0",
      "model_name": "HTMLModel",
      "state": {
       "layout": "IPY_MODEL_94c00b4c288246bb852b2a2dc6948652",
       "style": "IPY_MODEL_a70f30c963ef47f0bc285905d366ed8d",
       "value": " 0/493 [01:51&lt;?, ?it/s]"
      }
     },
     "d25a47f1490f4e2092bed16b6bfe2369": {
      "model_module": "@jupyter-widgets/base",
      "model_module_version": "1.2.0",
      "model_name": "LayoutModel",
      "state": {}
     },
     "d270e549778a48e4b4d8f2cdc99a9050": {
      "model_module": "@jupyter-widgets/controls",
      "model_module_version": "1.5.0",
      "model_name": "ProgressStyleModel",
      "state": {
       "description_width": "initial"
      }
     },
     "d280cb6a9e544621a2afd5e5f809fa7a": {
      "model_module": "@jupyter-widgets/controls",
      "model_module_version": "1.5.0",
      "model_name": "HTMLModel",
      "state": {
       "layout": "IPY_MODEL_0359427fb5234a7eb93057131e2f28a9",
       "style": "IPY_MODEL_cfa23a89a7564d23b70865eab43f86df",
       "value": " 3/3 [00:07&lt;00:00,  2.59s/it]"
      }
     },
     "d28ff0eefb3045b09c086161973c549e": {
      "model_module": "@jupyter-widgets/controls",
      "model_module_version": "1.5.0",
      "model_name": "HTMLModel",
      "state": {
       "layout": "IPY_MODEL_02c44fa67b094d9b95736a92da051318",
       "style": "IPY_MODEL_9cf7c5ed1a134edea401aa6f4df94276",
       "value": " 1/1 [00:00&lt;00:00,  1.03it/s]"
      }
     },
     "d2ee0f5b5f99432ea5c14e51585bd519": {
      "model_module": "@jupyter-widgets/base",
      "model_module_version": "1.2.0",
      "model_name": "LayoutModel",
      "state": {}
     },
     "d2f791b66a8c48b788c0d0cb5e55e6b9": {
      "model_module": "@jupyter-widgets/controls",
      "model_module_version": "1.5.0",
      "model_name": "FloatProgressModel",
      "state": {
       "bar_style": "success",
       "description": "[2] 1/2(train): 100%",
       "layout": "IPY_MODEL_c564ac1d3de04278abd438070b4f70bf",
       "max": 3,
       "style": "IPY_MODEL_637bad66344f4b46a46a1c800b0ed412",
       "value": 3
      }
     },
     "d356064590524615a12fa42db3425ff1": {
      "model_module": "@jupyter-widgets/controls",
      "model_module_version": "1.5.0",
      "model_name": "HTMLModel",
      "state": {
       "layout": "IPY_MODEL_6707a3833df74212b62872927f2caf76",
       "style": "IPY_MODEL_d1e5f49be3da49c6ac57081fff4212b1",
       "value": " 493/493 [2:22:47&lt;00:00, 17.38s/it]"
      }
     },
     "d35ac25c355b4f3b80e3aac28502970c": {
      "model_module": "@jupyter-widgets/controls",
      "model_module_version": "1.5.0",
      "model_name": "HTMLModel",
      "state": {
       "layout": "IPY_MODEL_f0f638465bfa47c5a93d0ac0ff56bde2",
       "style": "IPY_MODEL_ba311c7c5b11456f8854637b5907db17",
       "value": " 3/3 [00:19&lt;00:00,  6.44s/it]"
      }
     },
     "d35e4ace46e347628d2df1ad07b6db26": {
      "model_module": "@jupyter-widgets/controls",
      "model_module_version": "1.5.0",
      "model_name": "FloatProgressModel",
      "state": {
       "bar_style": "success",
       "description": "[0] 2/2(train): 100%",
       "layout": "IPY_MODEL_b5f97d134d55438fb2620810e32370b6",
       "max": 3,
       "style": "IPY_MODEL_042f1cf1a53f45d2926a5b074bcdab38",
       "value": 3
      }
     },
     "d3bb9815f69644a2b8f28037fb3d112c": {
      "model_module": "@jupyter-widgets/controls",
      "model_module_version": "1.5.0",
      "model_name": "HBoxModel",
      "state": {
       "children": [
        "IPY_MODEL_875f2028ba854b98bdfd7eaf7aed29b7",
        "IPY_MODEL_b04583f8df344c5c9b98f7f6863bcfe6"
       ],
       "layout": "IPY_MODEL_8754b6dfcd624508b995ebbb664f3beb"
      }
     },
     "d3c0e01ad92148ab9ce865ac0c4f3919": {
      "model_module": "@jupyter-widgets/base",
      "model_module_version": "1.2.0",
      "model_name": "LayoutModel",
      "state": {}
     },
     "d3c5a22e4afc4b66999d98e2336285eb": {
      "model_module": "@jupyter-widgets/base",
      "model_module_version": "1.2.0",
      "model_name": "LayoutModel",
      "state": {}
     },
     "d3cebf78b1db4212ad09d8aeb1bd855f": {
      "model_module": "@jupyter-widgets/controls",
      "model_module_version": "1.5.0",
      "model_name": "FloatProgressModel",
      "state": {
       "bar_style": "success",
       "description": "[3] 4/15(train): 100%",
       "layout": "IPY_MODEL_ea5cf71d66f74d10b9676866c13ce7ee",
       "max": 493,
       "style": "IPY_MODEL_775d5b5223294228bcf92dc6e29c3c58",
       "value": 493
      }
     },
     "d4004c2cccf74f6488c9e39c288c92dc": {
      "model_module": "@jupyter-widgets/base",
      "model_module_version": "1.2.0",
      "model_name": "LayoutModel",
      "state": {}
     },
     "d40a0a54cd0a47c283ff39356cbf010a": {
      "model_module": "@jupyter-widgets/controls",
      "model_module_version": "1.5.0",
      "model_name": "DescriptionStyleModel",
      "state": {
       "description_width": ""
      }
     },
     "d435b362e50f45b18c8aaeaa868e033e": {
      "model_module": "@jupyter-widgets/controls",
      "model_module_version": "1.5.0",
      "model_name": "FloatProgressModel",
      "state": {
       "bar_style": "success",
       "description": "[1] 14/16(train): 100%",
       "layout": "IPY_MODEL_027e651c44b546479eb93dcb73174c32",
       "max": 493,
       "style": "IPY_MODEL_ecdfc262ca1c488c9ca0ab1385099558",
       "value": 493
      }
     },
     "d4562bf43e29472f9dfb9039b1b4cde8": {
      "model_module": "@jupyter-widgets/base",
      "model_module_version": "1.2.0",
      "model_name": "LayoutModel",
      "state": {}
     },
     "d462c7f3d82e42dbbccb0bd3c92546a5": {
      "model_module": "@jupyter-widgets/controls",
      "model_module_version": "1.5.0",
      "model_name": "HBoxModel",
      "state": {
       "children": [
        "IPY_MODEL_524ec05115d44ac6b9203bcf3f40618e",
        "IPY_MODEL_c7ae3e02c3cb4d56a3539c4c691d5000"
       ],
       "layout": "IPY_MODEL_4a20d704838c4db38ad2af81ee7796e7"
      }
     },
     "d4633651de074dd7b4c929c510f751d8": {
      "model_module": "@jupyter-widgets/base",
      "model_module_version": "1.2.0",
      "model_name": "LayoutModel",
      "state": {}
     },
     "d468d514611f470e8fc1b5693c1bf93c": {
      "model_module": "@jupyter-widgets/controls",
      "model_module_version": "1.5.0",
      "model_name": "FloatProgressModel",
      "state": {
       "bar_style": "success",
       "description": "[3] 12/15(val  ): 100%",
       "layout": "IPY_MODEL_d4d0c92bb71341788da1482ad56b1131",
       "max": 165,
       "style": "IPY_MODEL_47a36213d3214fc68b2ad4d22e2d7d9e",
       "value": 165
      }
     },
     "d46c98379c9b4057a0ca663d91de2428": {
      "model_module": "@jupyter-widgets/controls",
      "model_module_version": "1.5.0",
      "model_name": "HTMLModel",
      "state": {
       "layout": "IPY_MODEL_af7c207c7f284e77a3606d0ac7b44d88",
       "style": "IPY_MODEL_b0f8f40b6eb444f3b20f6c8adb952016",
       "value": " 3/3 [00:05&lt;00:00,  1.84s/it]"
      }
     },
     "d4726598926c4127baea3af67863d72c": {
      "model_module": "@jupyter-widgets/controls",
      "model_module_version": "1.5.0",
      "model_name": "HBoxModel",
      "state": {
       "children": [
        "IPY_MODEL_5cff2881a02f414c8675c271abc35503",
        "IPY_MODEL_ca463ef57819471299a27a623649e9c1"
       ],
       "layout": "IPY_MODEL_b54b557fd3574ac98efb7f4cee72b5f2"
      }
     },
     "d4888b3330614c869588bf0f07d132be": {
      "model_module": "@jupyter-widgets/base",
      "model_module_version": "1.2.0",
      "model_name": "LayoutModel",
      "state": {}
     },
     "d49bd50498e24103b19f6a85a481ff68": {
      "model_module": "@jupyter-widgets/controls",
      "model_module_version": "1.5.0",
      "model_name": "FloatProgressModel",
      "state": {
       "bar_style": "success",
       "description": "[0] 16/16(train): 100%",
       "layout": "IPY_MODEL_579479a4aaeb414da642cfabe3101c5d",
       "max": 493,
       "style": "IPY_MODEL_23873e4de0144d15aba42833e863f24d",
       "value": 493
      }
     },
     "d4bf68e5d9b34effb017d90a8b975309": {
      "model_module": "@jupyter-widgets/controls",
      "model_module_version": "1.5.0",
      "model_name": "HTMLModel",
      "state": {
       "layout": "IPY_MODEL_cc246ce523344d48bf5e78d632fc288e",
       "style": "IPY_MODEL_c1835018611b4f0d8259b5d904f22ecb",
       "value": " 493/493 [19:54&lt;00:00,  2.42s/it]"
      }
     },
     "d4d0c92bb71341788da1482ad56b1131": {
      "model_module": "@jupyter-widgets/base",
      "model_module_version": "1.2.0",
      "model_name": "LayoutModel",
      "state": {}
     },
     "d4e04af46455400b9abb2d43db97ff4f": {
      "model_module": "@jupyter-widgets/base",
      "model_module_version": "1.2.0",
      "model_name": "LayoutModel",
      "state": {}
     },
     "d4e37a7fe5b041a8bc4998208eb3ad83": {
      "model_module": "@jupyter-widgets/base",
      "model_module_version": "1.2.0",
      "model_name": "LayoutModel",
      "state": {}
     },
     "d4eb8b02828d4f91bcfc7bf7cf3e49ac": {
      "model_module": "@jupyter-widgets/controls",
      "model_module_version": "1.5.0",
      "model_name": "DescriptionStyleModel",
      "state": {
       "description_width": ""
      }
     },
     "d501d39a697f4a1386d95b1c84915732": {
      "model_module": "@jupyter-widgets/controls",
      "model_module_version": "1.5.0",
      "model_name": "DescriptionStyleModel",
      "state": {
       "description_width": ""
      }
     },
     "d51a8b36e8074bc195b1f31b13ece71c": {
      "model_module": "@jupyter-widgets/base",
      "model_module_version": "1.2.0",
      "model_name": "LayoutModel",
      "state": {}
     },
     "d55c5dd1ed65493f9fede39bcdad17b5": {
      "model_module": "@jupyter-widgets/controls",
      "model_module_version": "1.5.0",
      "model_name": "FloatProgressModel",
      "state": {
       "bar_style": "success",
       "description": "[2] 11/16(val  ): 100%",
       "layout": "IPY_MODEL_3bc9d64a392042a7ad8dc86e9bd30ff7",
       "max": 165,
       "style": "IPY_MODEL_50718c505e104a80bc3b311d9be5f4c4",
       "value": 165
      }
     },
     "d562b533d2c240f395c5a2ef59beb599": {
      "model_module": "@jupyter-widgets/controls",
      "model_module_version": "1.5.0",
      "model_name": "HBoxModel",
      "state": {
       "children": [
        "IPY_MODEL_bb593bac70724b0999162977c20edf08",
        "IPY_MODEL_49c9ff180b8747adbf404650fc69efd4"
       ],
       "layout": "IPY_MODEL_8e0d8cc5fba54affa64e3f9f459f8d5e"
      }
     },
     "d582ec91e7214d6bbf93d4c372db10a3": {
      "model_module": "@jupyter-widgets/controls",
      "model_module_version": "1.5.0",
      "model_name": "ProgressStyleModel",
      "state": {
       "description_width": "initial"
      }
     },
     "d5a9d4a33ba24fde86d4be703357af0e": {
      "model_module": "@jupyter-widgets/controls",
      "model_module_version": "1.5.0",
      "model_name": "HTMLModel",
      "state": {
       "layout": "IPY_MODEL_db258f8dc87048ddbd129c756152d91d",
       "style": "IPY_MODEL_196d1e35298d41039a015a6e666c746d",
       "value": " 3/3 [00:07&lt;00:00,  2.58s/it]"
      }
     },
     "d5b96d7136284af18c15dbeb7217f5fa": {
      "model_module": "@jupyter-widgets/base",
      "model_module_version": "1.2.0",
      "model_name": "LayoutModel",
      "state": {}
     },
     "d5c9ff85405d420eb155e36c16de4948": {
      "model_module": "@jupyter-widgets/controls",
      "model_module_version": "1.5.0",
      "model_name": "HTMLModel",
      "state": {
       "layout": "IPY_MODEL_29ae1ac42d514a81acc17e5af98fad8f",
       "style": "IPY_MODEL_73601ff127a14a1db77793bd47c2898a",
       "value": " 1/1 [00:00&lt;00:00,  1.26it/s]"
      }
     },
     "d5f85a60abe141838ff8cd2cfcd8c08a": {
      "model_module": "@jupyter-widgets/controls",
      "model_module_version": "1.5.0",
      "model_name": "HBoxModel",
      "state": {
       "children": [
        "IPY_MODEL_908db9efa0ee42cca845c9c9d98611d6",
        "IPY_MODEL_b2adc74476874a2cadf2c0f5dd740d6c"
       ],
       "layout": "IPY_MODEL_1dea214818034f108439314f1412e7e5"
      }
     },
     "d6086427663a41a59ffd77fabfc75eec": {
      "model_module": "@jupyter-widgets/base",
      "model_module_version": "1.2.0",
      "model_name": "LayoutModel",
      "state": {}
     },
     "d60f2a6b74354e8e893b0b29010caf66": {
      "model_module": "@jupyter-widgets/base",
      "model_module_version": "1.2.0",
      "model_name": "LayoutModel",
      "state": {}
     },
     "d630e5c8eb9544d7b6c2e6b56f15aede": {
      "model_module": "@jupyter-widgets/base",
      "model_module_version": "1.2.0",
      "model_name": "LayoutModel",
      "state": {}
     },
     "d63dcb7ec82642f790e086a5b9a1f929": {
      "model_module": "@jupyter-widgets/base",
      "model_module_version": "1.2.0",
      "model_name": "LayoutModel",
      "state": {}
     },
     "d6506425b2f34ab68a1f174984841fe2": {
      "model_module": "@jupyter-widgets/base",
      "model_module_version": "1.2.0",
      "model_name": "LayoutModel",
      "state": {}
     },
     "d651efd398074bcba58538de57b3a3fd": {
      "model_module": "@jupyter-widgets/base",
      "model_module_version": "1.2.0",
      "model_name": "LayoutModel",
      "state": {}
     },
     "d69ad366caff439faa7b74038cf8a5fa": {
      "model_module": "@jupyter-widgets/controls",
      "model_module_version": "1.5.0",
      "model_name": "FloatProgressModel",
      "state": {
       "bar_style": "success",
       "description": "[3] 5/15(val  ): 100%",
       "layout": "IPY_MODEL_6ab3c19a38ce4a6e893d808adbe2131b",
       "max": 165,
       "style": "IPY_MODEL_f634266dedf14a04b754d119780ee0b1",
       "value": 165
      }
     },
     "d6abd0645cc144f1824bca96e4e25877": {
      "model_module": "@jupyter-widgets/base",
      "model_module_version": "1.2.0",
      "model_name": "LayoutModel",
      "state": {}
     },
     "d6db0738029e4ab98316db0730157c8d": {
      "model_module": "@jupyter-widgets/controls",
      "model_module_version": "1.5.0",
      "model_name": "ProgressStyleModel",
      "state": {
       "description_width": "initial"
      }
     },
     "d6e1437dd7644a758738b6e994404198": {
      "model_module": "@jupyter-widgets/controls",
      "model_module_version": "1.5.0",
      "model_name": "FloatProgressModel",
      "state": {
       "bar_style": "success",
       "description": "[3] 6/15(val  ): 100%",
       "layout": "IPY_MODEL_37e6f9c05a734017ad4013a84ed7155e",
       "max": 165,
       "style": "IPY_MODEL_bd23909b5ea440ea935011d8969f241a",
       "value": 165
      }
     },
     "d6f643529fc1422484a383b0d59e7b68": {
      "model_module": "@jupyter-widgets/controls",
      "model_module_version": "1.5.0",
      "model_name": "DescriptionStyleModel",
      "state": {
       "description_width": ""
      }
     },
     "d701278f01c5431680f340938f299ef9": {
      "model_module": "@jupyter-widgets/controls",
      "model_module_version": "1.5.0",
      "model_name": "ProgressStyleModel",
      "state": {
       "description_width": "initial"
      }
     },
     "d7048de077994e269152d33a1b27bc58": {
      "model_module": "@jupyter-widgets/base",
      "model_module_version": "1.2.0",
      "model_name": "LayoutModel",
      "state": {}
     },
     "d7214cd5943941688c70c50e3f29a5e2": {
      "model_module": "@jupyter-widgets/controls",
      "model_module_version": "1.5.0",
      "model_name": "HTMLModel",
      "state": {
       "layout": "IPY_MODEL_880b9ffede58407883d6082409600c68",
       "style": "IPY_MODEL_d1356fb642854686800cf5d762fbf5bc",
       "value": " 3/3 [00:05&lt;00:00,  1.99s/it]"
      }
     },
     "d734187ff14b45218ace8f0923637d87": {
      "model_module": "@jupyter-widgets/controls",
      "model_module_version": "1.5.0",
      "model_name": "DescriptionStyleModel",
      "state": {
       "description_width": ""
      }
     },
     "d736fef93c484f10a39252f557a9cf06": {
      "model_module": "@jupyter-widgets/controls",
      "model_module_version": "1.5.0",
      "model_name": "DescriptionStyleModel",
      "state": {
       "description_width": ""
      }
     },
     "d73da38a695a4259b5e637d1278dd10b": {
      "model_module": "@jupyter-widgets/base",
      "model_module_version": "1.2.0",
      "model_name": "LayoutModel",
      "state": {}
     },
     "d7859d50fb1b490ca8988673f2d14f4e": {
      "model_module": "@jupyter-widgets/controls",
      "model_module_version": "1.5.0",
      "model_name": "ProgressStyleModel",
      "state": {
       "description_width": "initial"
      }
     },
     "d792216ed8c244819783c2aa5bb4ef3f": {
      "model_module": "@jupyter-widgets/base",
      "model_module_version": "1.2.0",
      "model_name": "LayoutModel",
      "state": {}
     },
     "d7beb0f6627e4d479e218b90eba706ef": {
      "model_module": "@jupyter-widgets/controls",
      "model_module_version": "1.5.0",
      "model_name": "FloatProgressModel",
      "state": {
       "bar_style": "success",
       "description": "[0] 1/16(train): 100%",
       "layout": "IPY_MODEL_083acc7891f546e69e54e549c205badc",
       "max": 493,
       "style": "IPY_MODEL_e622103aee134555859546b398d729cb",
       "value": 493
      }
     },
     "d7df22931e954c0080001afd237fd3b2": {
      "model_module": "@jupyter-widgets/base",
      "model_module_version": "1.2.0",
      "model_name": "LayoutModel",
      "state": {}
     },
     "d7e93a0fd4b444feb62ea2e8cdb20df6": {
      "model_module": "@jupyter-widgets/controls",
      "model_module_version": "1.5.0",
      "model_name": "HBoxModel",
      "state": {
       "children": [
        "IPY_MODEL_48011c965ec44698903ca9295ebd927a",
        "IPY_MODEL_7bb3a2e9d5cd40f889f4be17286211f6"
       ],
       "layout": "IPY_MODEL_79bd0cb1b5284755b2dafc627885df62"
      }
     },
     "d7f778d97a24437ea4348b1cf10aaabc": {
      "model_module": "@jupyter-widgets/controls",
      "model_module_version": "1.5.0",
      "model_name": "HTMLModel",
      "state": {
       "layout": "IPY_MODEL_ec508e58aa504831a8a5276d32ba4889",
       "style": "IPY_MODEL_8e92648b4c0d423cbd51c1883aa26e37",
       "value": " 3/3 [00:07&lt;00:00,  2.41s/it]"
      }
     },
     "d801d78e16eb4cfabee867c6aca9d487": {
      "model_module": "@jupyter-widgets/controls",
      "model_module_version": "1.5.0",
      "model_name": "HBoxModel",
      "state": {
       "children": [
        "IPY_MODEL_2f9445866943480f9b6890999a4f3fd3",
        "IPY_MODEL_803daa302e314f80b21719c43d130db0"
       ],
       "layout": "IPY_MODEL_318e06e7b2fa4e97aa6d7fb2e2d3185a"
      }
     },
     "d803b44dbda640d6926aea1a429e6695": {
      "model_module": "@jupyter-widgets/controls",
      "model_module_version": "1.5.0",
      "model_name": "ProgressStyleModel",
      "state": {
       "description_width": "initial"
      }
     },
     "d855406734ab4f18a2fa169ec524d5ca": {
      "model_module": "@jupyter-widgets/controls",
      "model_module_version": "1.5.0",
      "model_name": "FloatProgressModel",
      "state": {
       "bar_style": "success",
       "description": "[1] 8/15(train): 100%",
       "layout": "IPY_MODEL_483a0b5859ba4684a8efe4a3185cbc83",
       "max": 3,
       "style": "IPY_MODEL_e03b46902c71405684f5fca58d7593c6",
       "value": 3
      }
     },
     "d8808b953ece4d28b8e60498c89a69d1": {
      "model_module": "@jupyter-widgets/controls",
      "model_module_version": "1.5.0",
      "model_name": "ProgressStyleModel",
      "state": {
       "description_width": "initial"
      }
     },
     "d88a6f405f174778a21b16829300a1bf": {
      "model_module": "@jupyter-widgets/controls",
      "model_module_version": "1.5.0",
      "model_name": "FloatProgressModel",
      "state": {
       "bar_style": "success",
       "description": "[3] 2/2(val  ): 100%",
       "layout": "IPY_MODEL_599a35769c4741e9841b1a6eb2934ee1",
       "max": 1,
       "style": "IPY_MODEL_1004be4680ea47a78d97fdd510c570d2",
       "value": 1
      }
     },
     "d894faf29ee349f1a1eb251ab1d731e5": {
      "model_module": "@jupyter-widgets/base",
      "model_module_version": "1.2.0",
      "model_name": "LayoutModel",
      "state": {}
     },
     "d89537044b974e58a5ce23e85d0cb005": {
      "model_module": "@jupyter-widgets/base",
      "model_module_version": "1.2.0",
      "model_name": "LayoutModel",
      "state": {}
     },
     "d8a4dbd184574b0d99b417d51639d8da": {
      "model_module": "@jupyter-widgets/controls",
      "model_module_version": "1.5.0",
      "model_name": "HBoxModel",
      "state": {
       "children": [
        "IPY_MODEL_142dbd3a07854817a7d07aaaed6f1498",
        "IPY_MODEL_04156132a3a249e883cb6c6acdd61b6a"
       ],
       "layout": "IPY_MODEL_feb95ac4cbd2411eb26ad6a7fea102dd"
      }
     },
     "d8a9be09f5214aca91a97c7c34f70cfc": {
      "model_module": "@jupyter-widgets/controls",
      "model_module_version": "1.5.0",
      "model_name": "FloatProgressModel",
      "state": {
       "bar_style": "success",
       "description": "[0] 2/2(train): 100%",
       "layout": "IPY_MODEL_fd77cd7a638040bba48a2e09e540b110",
       "max": 3,
       "style": "IPY_MODEL_e6f6b779886c48d5a20ca567a46fbd48",
       "value": 3
      }
     },
     "d8b03b13a55f4d0d80cd7f0994334cff": {
      "model_module": "@jupyter-widgets/base",
      "model_module_version": "1.2.0",
      "model_name": "LayoutModel",
      "state": {}
     },
     "d8b55bfe972b46fbb009a6ad64c951e3": {
      "model_module": "@jupyter-widgets/controls",
      "model_module_version": "1.5.0",
      "model_name": "DescriptionStyleModel",
      "state": {
       "description_width": ""
      }
     },
     "d8c7111b2610489e8ad5768601dd5944": {
      "model_module": "@jupyter-widgets/base",
      "model_module_version": "1.2.0",
      "model_name": "LayoutModel",
      "state": {}
     },
     "d8e9432e0248475fa69d0ad6109a32bd": {
      "model_module": "@jupyter-widgets/base",
      "model_module_version": "1.2.0",
      "model_name": "LayoutModel",
      "state": {}
     },
     "d8f31951840244e1833ca68e4884a017": {
      "model_module": "@jupyter-widgets/controls",
      "model_module_version": "1.5.0",
      "model_name": "FloatProgressModel",
      "state": {
       "bar_style": "success",
       "description": "[2] 1/15(val  ): 100%",
       "layout": "IPY_MODEL_0d628d7b78204db090f39f95e58a31ef",
       "max": 165,
       "style": "IPY_MODEL_21e14318d4ba496cab5e6cb813feb8e1",
       "value": 165
      }
     },
     "d8f6a425cec74665baec978f541bae52": {
      "model_module": "@jupyter-widgets/controls",
      "model_module_version": "1.5.0",
      "model_name": "FloatProgressModel",
      "state": {
       "bar_style": "success",
       "description": "[2] 6/16(train): 100%",
       "layout": "IPY_MODEL_c12e2ed4d53d4ace9948d3e98215b131",
       "max": 493,
       "style": "IPY_MODEL_e700cbf4a63d4d48b802dedd99d8795d",
       "value": 493
      }
     },
     "d8fda21a764b4bb185fb7a2d7934fda1": {
      "model_module": "@jupyter-widgets/controls",
      "model_module_version": "1.5.0",
      "model_name": "HTMLModel",
      "state": {
       "layout": "IPY_MODEL_998cde10031149c1911e564fea0474fe",
       "style": "IPY_MODEL_208011aa2ac3462aa78e20b9dc5fca23",
       "value": " 0/493 [00:02&lt;?, ?it/s]"
      }
     },
     "d91d972e55e24344b477aba176c7574b": {
      "model_module": "@jupyter-widgets/controls",
      "model_module_version": "1.5.0",
      "model_name": "HBoxModel",
      "state": {
       "children": [
        "IPY_MODEL_7d80c5888f6f4159a4f9e8d56d25bb56",
        "IPY_MODEL_35a0b02eb451434a9d30d3796d0c31e3"
       ],
       "layout": "IPY_MODEL_376613436364489cb8013b5844ecbdf2"
      }
     },
     "d92a11575dbe49d79de9e5158fb19df8": {
      "model_module": "@jupyter-widgets/base",
      "model_module_version": "1.2.0",
      "model_name": "LayoutModel",
      "state": {}
     },
     "d95a414a4d0b4ce6be8b398ae66a59ea": {
      "model_module": "@jupyter-widgets/controls",
      "model_module_version": "1.5.0",
      "model_name": "DescriptionStyleModel",
      "state": {
       "description_width": ""
      }
     },
     "d965285c8b6c4cc6928ae44066522670": {
      "model_module": "@jupyter-widgets/controls",
      "model_module_version": "1.5.0",
      "model_name": "HBoxModel",
      "state": {
       "children": [
        "IPY_MODEL_4b6fe3f6b4f943a4bb4538b44c82ed36",
        "IPY_MODEL_3a0568e5a95741de8c1de6b0a7598f65"
       ],
       "layout": "IPY_MODEL_8e960ebb1dd54889b75a18f7a467ce03"
      }
     },
     "d9677d64f4074745b8f1cda91285d7da": {
      "model_module": "@jupyter-widgets/controls",
      "model_module_version": "1.5.0",
      "model_name": "FloatProgressModel",
      "state": {
       "bar_style": "success",
       "description": "[0] 12/15(val  ): 100%",
       "layout": "IPY_MODEL_208c87794b994c99b9afad0894716659",
       "max": 1,
       "style": "IPY_MODEL_3e09c8a45c224ea4b0e4b1bc9f050de0",
       "value": 1
      }
     },
     "d99802a8d7ed46259bea64d9b410740d": {
      "model_module": "@jupyter-widgets/controls",
      "model_module_version": "1.5.0",
      "model_name": "ProgressStyleModel",
      "state": {
       "description_width": "initial"
      }
     },
     "d9a082bb7d6347618707b7ded1db485b": {
      "model_module": "@jupyter-widgets/base",
      "model_module_version": "1.2.0",
      "model_name": "LayoutModel",
      "state": {}
     },
     "d9bf379c3e1549eab92a7e59e5e0bfd9": {
      "model_module": "@jupyter-widgets/controls",
      "model_module_version": "1.5.0",
      "model_name": "DescriptionStyleModel",
      "state": {
       "description_width": ""
      }
     },
     "d9cb447edc0a457a9e5f9997d3bab74c": {
      "model_module": "@jupyter-widgets/controls",
      "model_module_version": "1.5.0",
      "model_name": "HBoxModel",
      "state": {
       "children": [
        "IPY_MODEL_1cdc24cee8fd4dd9b8f78648fcf67b6e",
        "IPY_MODEL_57edffe14cff48138a52ebcd616d2a49"
       ],
       "layout": "IPY_MODEL_08766ac581df4c27bb269d379334200f"
      }
     },
     "d9ccf24150574b24b05899b3eb51d816": {
      "model_module": "@jupyter-widgets/controls",
      "model_module_version": "1.5.0",
      "model_name": "ProgressStyleModel",
      "state": {
       "description_width": "initial"
      }
     },
     "d9de50620d7648fbae887ac661b5da20": {
      "model_module": "@jupyter-widgets/controls",
      "model_module_version": "1.5.0",
      "model_name": "DescriptionStyleModel",
      "state": {
       "description_width": ""
      }
     },
     "d9e4de39017641ffa679bf7ae367b755": {
      "model_module": "@jupyter-widgets/controls",
      "model_module_version": "1.5.0",
      "model_name": "ProgressStyleModel",
      "state": {
       "description_width": "initial"
      }
     },
     "d9ef13ba054e477381edf7492b5464b0": {
      "model_module": "@jupyter-widgets/base",
      "model_module_version": "1.2.0",
      "model_name": "LayoutModel",
      "state": {}
     },
     "d9fa4d63a14e470d85934fa19537519e": {
      "model_module": "@jupyter-widgets/base",
      "model_module_version": "1.2.0",
      "model_name": "LayoutModel",
      "state": {}
     },
     "da10c1efa3dc48d5a46695957b29c4be": {
      "model_module": "@jupyter-widgets/controls",
      "model_module_version": "1.5.0",
      "model_name": "ProgressStyleModel",
      "state": {
       "description_width": "initial"
      }
     },
     "da20394ffb4f4afd9f13f502162ed5f8": {
      "model_module": "@jupyter-widgets/controls",
      "model_module_version": "1.5.0",
      "model_name": "HBoxModel",
      "state": {
       "children": [
        "IPY_MODEL_402deb822bbb49a498519315cd1500b6",
        "IPY_MODEL_346692ff18ef40b998ce5b208ab1bff3"
       ],
       "layout": "IPY_MODEL_58dbe3617f004e2bac8ba6f19f37bad8"
      }
     },
     "da21b85953e447cabe8ad5231a3a7fb6": {
      "model_module": "@jupyter-widgets/controls",
      "model_module_version": "1.5.0",
      "model_name": "ProgressStyleModel",
      "state": {
       "description_width": "initial"
      }
     },
     "da26b925557d416ba00355d718c69c38": {
      "model_module": "@jupyter-widgets/controls",
      "model_module_version": "1.5.0",
      "model_name": "HBoxModel",
      "state": {
       "children": [
        "IPY_MODEL_035c98afdae64aa49a55c3ab3c452081",
        "IPY_MODEL_36c1d25add2342349443ad5c92b3a707"
       ],
       "layout": "IPY_MODEL_401d07ca2db34920b6939e9d4ab2808a"
      }
     },
     "da673e89a8f641df9986349ce25db628": {
      "model_module": "@jupyter-widgets/base",
      "model_module_version": "1.2.0",
      "model_name": "LayoutModel",
      "state": {}
     },
     "da7cba5f90bd40aeb8b5545bd0154ed4": {
      "model_module": "@jupyter-widgets/controls",
      "model_module_version": "1.5.0",
      "model_name": "FloatProgressModel",
      "state": {
       "bar_style": "success",
       "description": "[1] 11/16(train): 100%",
       "layout": "IPY_MODEL_ad336667eee3421780ee2896eb57f4ff",
       "max": 493,
       "style": "IPY_MODEL_a26c209a0cf0456bafc05fe2d2f199b6",
       "value": 493
      }
     },
     "dab9b328734b4e8fa779e9461fca48fb": {
      "model_module": "@jupyter-widgets/base",
      "model_module_version": "1.2.0",
      "model_name": "LayoutModel",
      "state": {}
     },
     "dacd965ad8ea488bae2639106227a231": {
      "model_module": "@jupyter-widgets/controls",
      "model_module_version": "1.5.0",
      "model_name": "FloatProgressModel",
      "state": {
       "bar_style": "success",
       "description": "[2] 5/15(val  ): 100%",
       "layout": "IPY_MODEL_dda61553301f4e1481bd227265f4d23f",
       "max": 165,
       "style": "IPY_MODEL_c23575775dd54caca4770fc64b403cb1",
       "value": 165
      }
     },
     "dadee3d888054a6fbd7ffce3dc820e7b": {
      "model_module": "@jupyter-widgets/base",
      "model_module_version": "1.2.0",
      "model_name": "LayoutModel",
      "state": {}
     },
     "db0abf1f0e7f48618b4b7bfa77158762": {
      "model_module": "@jupyter-widgets/controls",
      "model_module_version": "1.5.0",
      "model_name": "HBoxModel",
      "state": {
       "children": [
        "IPY_MODEL_717403e30f744367854dcc6cea8d5195",
        "IPY_MODEL_35574439675a4d4e890220d8173536f0"
       ],
       "layout": "IPY_MODEL_568284c3eb9c4bfa88d247db43ab9d37"
      }
     },
     "db0c3271a6f745e9a270fa18e5a7981d": {
      "model_module": "@jupyter-widgets/controls",
      "model_module_version": "1.5.0",
      "model_name": "DescriptionStyleModel",
      "state": {
       "description_width": ""
      }
     },
     "db258f8dc87048ddbd129c756152d91d": {
      "model_module": "@jupyter-widgets/base",
      "model_module_version": "1.2.0",
      "model_name": "LayoutModel",
      "state": {}
     },
     "db262f8ce2fd46bdb3610d832908f3a7": {
      "model_module": "@jupyter-widgets/controls",
      "model_module_version": "1.5.0",
      "model_name": "HTMLModel",
      "state": {
       "layout": "IPY_MODEL_c328f068e87b4391bab40076e5102cd5",
       "style": "IPY_MODEL_f58e006f4247495490e1f7d8c430afbe",
       "value": " 493/493 [19:52&lt;00:00,  2.42s/it]"
      }
     },
     "db7642aebd364ee8bd91dbd6c82b839b": {
      "model_module": "@jupyter-widgets/base",
      "model_module_version": "1.2.0",
      "model_name": "LayoutModel",
      "state": {}
     },
     "dba791646dbd492ca969e62282153a61": {
      "model_module": "@jupyter-widgets/base",
      "model_module_version": "1.2.0",
      "model_name": "LayoutModel",
      "state": {}
     },
     "dbb0306977904ce9bb81d944ace4a4ab": {
      "model_module": "@jupyter-widgets/base",
      "model_module_version": "1.2.0",
      "model_name": "LayoutModel",
      "state": {}
     },
     "dbb16ecc0e3d42359e79d602d7f2a7cb": {
      "model_module": "@jupyter-widgets/base",
      "model_module_version": "1.2.0",
      "model_name": "LayoutModel",
      "state": {}
     },
     "dbc0b7baaaef4618b343374ce44d6ad2": {
      "model_module": "@jupyter-widgets/controls",
      "model_module_version": "1.5.0",
      "model_name": "DescriptionStyleModel",
      "state": {
       "description_width": ""
      }
     },
     "dbcb9ac5768c434790d1bec5423a31ef": {
      "model_module": "@jupyter-widgets/controls",
      "model_module_version": "1.5.0",
      "model_name": "HBoxModel",
      "state": {
       "children": [
        "IPY_MODEL_7cf134ff9b2940e980e3e1ba480bb7d2",
        "IPY_MODEL_86dc9624cdb447f786b1f1bc4ff0ed1f"
       ],
       "layout": "IPY_MODEL_2ed29a650b9e4e7da1ac1a37750b0227"
      }
     },
     "dbd59e41152943c592c6b4e484af3151": {
      "model_module": "@jupyter-widgets/controls",
      "model_module_version": "1.5.0",
      "model_name": "HTMLModel",
      "state": {
       "layout": "IPY_MODEL_f60c29ff8fce437c94902443c76c0765",
       "style": "IPY_MODEL_8f5ecb5672bb43fa988c9c903568ea0c",
       "value": " 493/493 [23:47&lt;00:00,  2.90s/it]"
      }
     },
     "dbe6d7554bb843098c5e897712e20434": {
      "model_module": "@jupyter-widgets/controls",
      "model_module_version": "1.5.0",
      "model_name": "HTMLModel",
      "state": {
       "layout": "IPY_MODEL_1a4a461b83da484fa90fd7ff7c019005",
       "style": "IPY_MODEL_e8a3d85ad3224fe985f906bb45cd009c",
       "value": " 165/165 [01:31&lt;00:00,  1.80it/s]"
      }
     },
     "dc11c0a5ba95434fa298eb48529212ce": {
      "model_module": "@jupyter-widgets/controls",
      "model_module_version": "1.5.0",
      "model_name": "HTMLModel",
      "state": {
       "layout": "IPY_MODEL_88c79b6e54c44e68899fddfa8cc486b6",
       "style": "IPY_MODEL_d501d39a697f4a1386d95b1c84915732",
       "value": " 493/493 [17:46&lt;00:00,  2.16s/it]"
      }
     },
     "dc2129be34254111b9a39623a8588ca0": {
      "model_module": "@jupyter-widgets/base",
      "model_module_version": "1.2.0",
      "model_name": "LayoutModel",
      "state": {}
     },
     "dc5223e6e9b04c26931fe3ab0051221d": {
      "model_module": "@jupyter-widgets/base",
      "model_module_version": "1.2.0",
      "model_name": "LayoutModel",
      "state": {}
     },
     "dc731b39d1fd48bf903ad51cbac67f2e": {
      "model_module": "@jupyter-widgets/controls",
      "model_module_version": "1.5.0",
      "model_name": "HTMLModel",
      "state": {
       "layout": "IPY_MODEL_4bdb4b4a731349dea5bf3be7d2d1e490",
       "style": "IPY_MODEL_89e2dfe111124f1487352f427c63b9da",
       "value": " 1/1 [00:00&lt;00:00,  1.52it/s]"
      }
     },
     "dc7edcd80fe144efb86e61c944c4c831": {
      "model_module": "@jupyter-widgets/base",
      "model_module_version": "1.2.0",
      "model_name": "LayoutModel",
      "state": {}
     },
     "dc976c5e7d36478bbe4b21b7a286bc68": {
      "model_module": "@jupyter-widgets/controls",
      "model_module_version": "1.5.0",
      "model_name": "HTMLModel",
      "state": {
       "layout": "IPY_MODEL_98ca9a7e2959402aa1178061cec667d4",
       "style": "IPY_MODEL_435e9d6e7e0a426280fb13e60dcf3c5e",
       "value": " 493/493 [23:52&lt;00:00,  2.90s/it]"
      }
     },
     "dcaaf058a7a641ca8aada1af9a9eee0d": {
      "model_module": "@jupyter-widgets/base",
      "model_module_version": "1.2.0",
      "model_name": "LayoutModel",
      "state": {}
     },
     "dcb1cc84faf647a69932d48b80a14f40": {
      "model_module": "@jupyter-widgets/controls",
      "model_module_version": "1.5.0",
      "model_name": "ProgressStyleModel",
      "state": {
       "description_width": "initial"
      }
     },
     "dcb5efab69084c6eba0134b5d35faba2": {
      "model_module": "@jupyter-widgets/controls",
      "model_module_version": "1.5.0",
      "model_name": "ProgressStyleModel",
      "state": {
       "description_width": "initial"
      }
     },
     "dcbdcbd713534f7ab6f6e368b5d02d25": {
      "model_module": "@jupyter-widgets/controls",
      "model_module_version": "1.5.0",
      "model_name": "ProgressStyleModel",
      "state": {
       "description_width": "initial"
      }
     },
     "dce4d6c25da341b4b62fa5437387a399": {
      "model_module": "@jupyter-widgets/controls",
      "model_module_version": "1.5.0",
      "model_name": "DescriptionStyleModel",
      "state": {
       "description_width": ""
      }
     },
     "dd0774e604724cb2817d0fd9326f4d80": {
      "model_module": "@jupyter-widgets/controls",
      "model_module_version": "1.5.0",
      "model_name": "ProgressStyleModel",
      "state": {
       "description_width": "initial"
      }
     },
     "dd2c3386dd9048f7beb67d2464f84b4f": {
      "model_module": "@jupyter-widgets/controls",
      "model_module_version": "1.5.0",
      "model_name": "FloatProgressModel",
      "state": {
       "bar_style": "success",
       "description": "[1] 3/16(val  ): 100%",
       "layout": "IPY_MODEL_12bf3d4a23784d5abdc6afcd6b219851",
       "max": 165,
       "style": "IPY_MODEL_11bf71a29f3347a4abbb35b0e6abe40c",
       "value": 165
      }
     },
     "dd2cf60fcd7f4eeaaac43b11436efe78": {
      "model_module": "@jupyter-widgets/controls",
      "model_module_version": "1.5.0",
      "model_name": "HBoxModel",
      "state": {
       "children": [
        "IPY_MODEL_ce4b71b8f9564e06b39875aaf2c699b8",
        "IPY_MODEL_ce6a8cde1b364c25930612bfc8ed8b3d"
       ],
       "layout": "IPY_MODEL_b10c37ea0bdc473ab68a99e103904f2d"
      }
     },
     "dd44f0d6a5cf475481efe2670b2a577a": {
      "model_module": "@jupyter-widgets/controls",
      "model_module_version": "1.5.0",
      "model_name": "HBoxModel",
      "state": {
       "children": [
        "IPY_MODEL_f52144fc93dc4ab8af2b2728c94fbd36",
        "IPY_MODEL_deb02aabc9e6407cbd1caf015262517c"
       ],
       "layout": "IPY_MODEL_6dc733ae72164902845ea8388b595640"
      }
     },
     "dd5c97c4a96b4e44a96e3f2f3f65ffcc": {
      "model_module": "@jupyter-widgets/base",
      "model_module_version": "1.2.0",
      "model_name": "LayoutModel",
      "state": {}
     },
     "dd66b039073147cfbe4a945cb75155da": {
      "model_module": "@jupyter-widgets/base",
      "model_module_version": "1.2.0",
      "model_name": "LayoutModel",
      "state": {}
     },
     "dd6d181ddb1048f183f1d88f1aad88fd": {
      "model_module": "@jupyter-widgets/controls",
      "model_module_version": "1.5.0",
      "model_name": "HTMLModel",
      "state": {
       "layout": "IPY_MODEL_3639104acbe9413890c305961d8ef2ba",
       "style": "IPY_MODEL_89cbb8f42a1b40178f46e091109e0d87",
       "value": " 493/493 [19:56&lt;00:00,  2.43s/it]"
      }
     },
     "dda61553301f4e1481bd227265f4d23f": {
      "model_module": "@jupyter-widgets/base",
      "model_module_version": "1.2.0",
      "model_name": "LayoutModel",
      "state": {}
     },
     "ddd7acbd8e1246abbf6c7adf1b421c62": {
      "model_module": "@jupyter-widgets/controls",
      "model_module_version": "1.5.0",
      "model_name": "HTMLModel",
      "state": {
       "layout": "IPY_MODEL_38e017e6f50d44f9851d624edb3bbf04",
       "style": "IPY_MODEL_c026b55bb1f54f3fba8332b7bb6535af",
       "value": " 493/493 [21:33&lt;00:00,  2.62s/it]"
      }
     },
     "ddd9397b0ef04c408b3c711355859acf": {
      "model_module": "@jupyter-widgets/base",
      "model_module_version": "1.2.0",
      "model_name": "LayoutModel",
      "state": {}
     },
     "de1e9a66659c465c8baefb06ca175126": {
      "model_module": "@jupyter-widgets/base",
      "model_module_version": "1.2.0",
      "model_name": "LayoutModel",
      "state": {}
     },
     "de647ab84adc48109dc0e2db6a377cdf": {
      "model_module": "@jupyter-widgets/base",
      "model_module_version": "1.2.0",
      "model_name": "LayoutModel",
      "state": {}
     },
     "de717636f4ac4331a7564b67dc5445ee": {
      "model_module": "@jupyter-widgets/controls",
      "model_module_version": "1.5.0",
      "model_name": "FloatProgressModel",
      "state": {
       "bar_style": "success",
       "description": "[1] 11/16(val  ): 100%",
       "layout": "IPY_MODEL_09122253fc5f4301a8b82b0848cd0f13",
       "max": 165,
       "style": "IPY_MODEL_0ed22efa8bc343b0afa319b3e56420a6",
       "value": 165
      }
     },
     "de740930b6924a3980cfd8f4750a2445": {
      "model_module": "@jupyter-widgets/base",
      "model_module_version": "1.2.0",
      "model_name": "LayoutModel",
      "state": {}
     },
     "de7dd45645334e51a1f7f679dd1bbc0d": {
      "model_module": "@jupyter-widgets/controls",
      "model_module_version": "1.5.0",
      "model_name": "HTMLModel",
      "state": {
       "layout": "IPY_MODEL_97cf873318044bc3a9d4598f2951c849",
       "style": "IPY_MODEL_4d3fe2e1916943d0bddddb78696271cb",
       "value": " 0/3 [00:01&lt;?, ?it/s]"
      }
     },
     "de85af03b2d544b8a676a51a7761d7cc": {
      "model_module": "@jupyter-widgets/controls",
      "model_module_version": "1.5.0",
      "model_name": "ProgressStyleModel",
      "state": {
       "description_width": "initial"
      }
     },
     "de96cd629a664e54b1b81cc806464f19": {
      "model_module": "@jupyter-widgets/controls",
      "model_module_version": "1.5.0",
      "model_name": "ProgressStyleModel",
      "state": {
       "description_width": "initial"
      }
     },
     "deb02aabc9e6407cbd1caf015262517c": {
      "model_module": "@jupyter-widgets/controls",
      "model_module_version": "1.5.0",
      "model_name": "HTMLModel",
      "state": {
       "layout": "IPY_MODEL_e4a263ab53ca433283a4744e7ad720bc",
       "style": "IPY_MODEL_1a205886f67f472b94bc2a21280ca074",
       "value": " 165/165 [19:01&lt;00:00,  6.92s/it]"
      }
     },
     "df1680df067f4d3c9ed7c07f095f3541": {
      "model_module": "@jupyter-widgets/controls",
      "model_module_version": "1.5.0",
      "model_name": "FloatProgressModel",
      "state": {
       "bar_style": "success",
       "description": "[0] 10/16(val  ): 100%",
       "layout": "IPY_MODEL_e93426e7e9e141f282c40e3fbfecb06f",
       "max": 165,
       "style": "IPY_MODEL_50e0315fa8064e4691317722f3added0",
       "value": 165
      }
     },
     "df3386547351411f91d5d14f291dbfe7": {
      "model_module": "@jupyter-widgets/controls",
      "model_module_version": "1.5.0",
      "model_name": "FloatProgressModel",
      "state": {
       "bar_style": "success",
       "description": "[3] 1/2(train): 100%",
       "layout": "IPY_MODEL_159fa54d6afc4a329b7ed94b492a712a",
       "max": 3,
       "style": "IPY_MODEL_3128dad8215e43c6b52763766646870f",
       "value": 3
      }
     },
     "df468f15eb6e429991d6bb4ccc8d926b": {
      "model_module": "@jupyter-widgets/controls",
      "model_module_version": "1.5.0",
      "model_name": "FloatProgressModel",
      "state": {
       "bar_style": "success",
       "description": "[1] 1/2(val  ): 100%",
       "layout": "IPY_MODEL_c5c58a195b7b418fae60e0bf2160545c",
       "max": 1,
       "style": "IPY_MODEL_aecedebf8cd24a9f947e643b3bb37b62",
       "value": 1
      }
     },
     "dfb81104b3ce4c2f8b7b756e4e5335f3": {
      "model_module": "@jupyter-widgets/controls",
      "model_module_version": "1.5.0",
      "model_name": "FloatProgressModel",
      "state": {
       "bar_style": "success",
       "description": "[0] 4/15(val  ): 100%",
       "layout": "IPY_MODEL_02c6349e153c4a1cb151eb513cd45d8e",
       "max": 1,
       "style": "IPY_MODEL_07159b8eb95441d8bb9654bcba4f1d2e",
       "value": 1
      }
     },
     "dfc4a3fab5e84441aef6a2d89267ed50": {
      "model_module": "@jupyter-widgets/base",
      "model_module_version": "1.2.0",
      "model_name": "LayoutModel",
      "state": {}
     },
     "e02638f180914e829140f354c0fbada2": {
      "model_module": "@jupyter-widgets/controls",
      "model_module_version": "1.5.0",
      "model_name": "HBoxModel",
      "state": {
       "children": [
        "IPY_MODEL_380ad89e9fcb4cafa40e1e8ccac32cf6",
        "IPY_MODEL_d05922837cb6461a9588d5f42c5d56a7"
       ],
       "layout": "IPY_MODEL_ef6205c05ad74e7c941a1b129300fb7a"
      }
     },
     "e03b46902c71405684f5fca58d7593c6": {
      "model_module": "@jupyter-widgets/controls",
      "model_module_version": "1.5.0",
      "model_name": "ProgressStyleModel",
      "state": {
       "description_width": "initial"
      }
     },
     "e04157707ff14dd8a25189f53f33c0ca": {
      "model_module": "@jupyter-widgets/controls",
      "model_module_version": "1.5.0",
      "model_name": "HTMLModel",
      "state": {
       "layout": "IPY_MODEL_27737c4ed18248818eb1f5de6e0e6b28",
       "style": "IPY_MODEL_72b531722e644beeb9d312af9703c002",
       "value": " 165/165 [01:35&lt;00:00,  1.74it/s]"
      }
     },
     "e05b128793ac4812b8d9bd313aa4f0f7": {
      "model_module": "@jupyter-widgets/controls",
      "model_module_version": "1.5.0",
      "model_name": "FloatProgressModel",
      "state": {
       "bar_style": "success",
       "description": "[1] 1/16(val  ): 100%",
       "layout": "IPY_MODEL_69cb66917886498d91f403f20681fae8",
       "max": 165,
       "style": "IPY_MODEL_17fa9b71331a4f11b04ea9c4934b7287",
       "value": 165
      }
     },
     "e070f709337f44c2b9cf45b1019746d1": {
      "model_module": "@jupyter-widgets/base",
      "model_module_version": "1.2.0",
      "model_name": "LayoutModel",
      "state": {}
     },
     "e0a797432e5944d08f9590887dd11ebe": {
      "model_module": "@jupyter-widgets/controls",
      "model_module_version": "1.5.0",
      "model_name": "HTMLModel",
      "state": {
       "layout": "IPY_MODEL_c3bfeb07c9a84ade931a3fdfcb386931",
       "style": "IPY_MODEL_3bd7f38f3196497696bf18c5ef65f7b3",
       "value": " 493/493 [22:17&lt;00:00,  2.71s/it]"
      }
     },
     "e0a8599719344d4bb87b4a1e2a1ce369": {
      "model_module": "@jupyter-widgets/base",
      "model_module_version": "1.2.0",
      "model_name": "LayoutModel",
      "state": {}
     },
     "e0f1b239f6324df5a22984434afed6b9": {
      "model_module": "@jupyter-widgets/base",
      "model_module_version": "1.2.0",
      "model_name": "LayoutModel",
      "state": {}
     },
     "e11011279a9c4507842caf19ff46c37a": {
      "model_module": "@jupyter-widgets/controls",
      "model_module_version": "1.5.0",
      "model_name": "ProgressStyleModel",
      "state": {
       "description_width": "initial"
      }
     },
     "e12bad5fce4d48cb84ea49d8ca3463b6": {
      "model_module": "@jupyter-widgets/base",
      "model_module_version": "1.2.0",
      "model_name": "LayoutModel",
      "state": {}
     },
     "e14f7f80abdd4dc4a826caf807ff6172": {
      "model_module": "@jupyter-widgets/controls",
      "model_module_version": "1.5.0",
      "model_name": "HBoxModel",
      "state": {
       "children": [
        "IPY_MODEL_702dd8bd36d94351a49d8522af644dd8",
        "IPY_MODEL_8572728350644e1e803d8b74832d5fa8"
       ],
       "layout": "IPY_MODEL_cc676b84a9214940a4f16bfdd9740de8"
      }
     },
     "e154d770388b44fa9f1863eb4543ba39": {
      "model_module": "@jupyter-widgets/controls",
      "model_module_version": "1.5.0",
      "model_name": "FloatProgressModel",
      "state": {
       "bar_style": "success",
       "description": "[3] 1/15(val  ): 100%",
       "layout": "IPY_MODEL_430c090d173f4f4b834cb80a2a44cc9d",
       "max": 165,
       "style": "IPY_MODEL_4ebe41b921834181b3dcb7564a15359a",
       "value": 165
      }
     },
     "e15a40ecbe624bcf803e9f94e4951d78": {
      "model_module": "@jupyter-widgets/base",
      "model_module_version": "1.2.0",
      "model_name": "LayoutModel",
      "state": {}
     },
     "e16818465c5a4c879c5cae7a55951009": {
      "model_module": "@jupyter-widgets/controls",
      "model_module_version": "1.5.0",
      "model_name": "HTMLModel",
      "state": {
       "layout": "IPY_MODEL_2acdc3f7b32e45f0939a3d5ecfc5bb32",
       "style": "IPY_MODEL_8135b0bb71e24148a6cd5fbfe19bb1ce",
       "value": " 165/165 [01:37&lt;00:00,  1.70it/s]"
      }
     },
     "e17925aae23b4c6a964a8a481e25fb06": {
      "model_module": "@jupyter-widgets/controls",
      "model_module_version": "1.5.0",
      "model_name": "FloatProgressModel",
      "state": {
       "bar_style": "success",
       "description": "[1] 7/16(train): 100%",
       "layout": "IPY_MODEL_9cfebbbb270d4a7ea50fddb7558917d3",
       "max": 493,
       "style": "IPY_MODEL_633e2aaf3c124f22bd6ebb54da69c73c",
       "value": 493
      }
     },
     "e17f5389fd0b4c9bb675eca9bae56dee": {
      "model_module": "@jupyter-widgets/controls",
      "model_module_version": "1.5.0",
      "model_name": "DescriptionStyleModel",
      "state": {
       "description_width": ""
      }
     },
     "e193d59db1884e919324d71527ec9c5f": {
      "model_module": "@jupyter-widgets/controls",
      "model_module_version": "1.5.0",
      "model_name": "HTMLModel",
      "state": {
       "layout": "IPY_MODEL_95c8b7a45f914782bf141f10f77aa503",
       "style": "IPY_MODEL_0e230b12577245b8a6936c519b336e6b",
       "value": " 165/165 [01:20&lt;00:00,  2.04it/s]"
      }
     },
     "e197f84d52d243aa8bf69aea773c340a": {
      "model_module": "@jupyter-widgets/controls",
      "model_module_version": "1.5.0",
      "model_name": "DescriptionStyleModel",
      "state": {
       "description_width": ""
      }
     },
     "e1b6291f71574db4939fb97ff3afae1c": {
      "model_module": "@jupyter-widgets/base",
      "model_module_version": "1.2.0",
      "model_name": "LayoutModel",
      "state": {}
     },
     "e1c78b1d280b443b93c05008b5a9e41f": {
      "model_module": "@jupyter-widgets/base",
      "model_module_version": "1.2.0",
      "model_name": "LayoutModel",
      "state": {}
     },
     "e1dd2c24dc6f445a8f18a238f07c14a0": {
      "model_module": "@jupyter-widgets/base",
      "model_module_version": "1.2.0",
      "model_name": "LayoutModel",
      "state": {}
     },
     "e1e5b39587b84525b1ac8131dd94f5db": {
      "model_module": "@jupyter-widgets/base",
      "model_module_version": "1.2.0",
      "model_name": "LayoutModel",
      "state": {}
     },
     "e20c490084564132bd94072da2a047a0": {
      "model_module": "@jupyter-widgets/base",
      "model_module_version": "1.2.0",
      "model_name": "LayoutModel",
      "state": {}
     },
     "e2217e4f3ccc4b57a1aeae67dedeb2af": {
      "model_module": "@jupyter-widgets/base",
      "model_module_version": "1.2.0",
      "model_name": "LayoutModel",
      "state": {}
     },
     "e2371f10209e4c4692d7170f0dca4229": {
      "model_module": "@jupyter-widgets/controls",
      "model_module_version": "1.5.0",
      "model_name": "ProgressStyleModel",
      "state": {
       "description_width": "initial"
      }
     },
     "e2550f9473994ca5893a2a661ebcca0e": {
      "model_module": "@jupyter-widgets/base",
      "model_module_version": "1.2.0",
      "model_name": "LayoutModel",
      "state": {}
     },
     "e26b372f64004ca597ef857713e2b4c5": {
      "model_module": "@jupyter-widgets/controls",
      "model_module_version": "1.5.0",
      "model_name": "HBoxModel",
      "state": {
       "children": [
        "IPY_MODEL_aade49c2565944988a31a59336ef2594",
        "IPY_MODEL_66bc7393a99949d88041c30d94530f07"
       ],
       "layout": "IPY_MODEL_7da6a5fce2034a53a9d110b7fb1241bd"
      }
     },
     "e290a8761cf0492393339c5f6e95ce45": {
      "model_module": "@jupyter-widgets/controls",
      "model_module_version": "1.5.0",
      "model_name": "HBoxModel",
      "state": {
       "children": [
        "IPY_MODEL_a4eb3731b177428ab26953c38396ae51",
        "IPY_MODEL_c9bcd8ccdf0049e297576a374ad8c5e0"
       ],
       "layout": "IPY_MODEL_93c3387774734beaaebb6608ba76a3cb"
      }
     },
     "e2b735bceeb0430788990507d92befaa": {
      "model_module": "@jupyter-widgets/controls",
      "model_module_version": "1.5.0",
      "model_name": "HBoxModel",
      "state": {
       "children": [
        "IPY_MODEL_72e3d68012774e2a9b6ab0a9f5337a94",
        "IPY_MODEL_063ba95cab4149c0a30d3331939fc6d0"
       ],
       "layout": "IPY_MODEL_a2964f07b45346e9be50234f0f25d5cd"
      }
     },
     "e2bd772e57d940d5b5303e6f8fc6db5f": {
      "model_module": "@jupyter-widgets/controls",
      "model_module_version": "1.5.0",
      "model_name": "HTMLModel",
      "state": {
       "layout": "IPY_MODEL_97cf8271de29406ea12ca16d73aa3531",
       "style": "IPY_MODEL_12d36cf231f3486a88c19de463b8d711",
       "value": " 3/3 [00:07&lt;00:00,  2.49s/it]"
      }
     },
     "e2c4d97d2b80464c9e102c09b97a651f": {
      "model_module": "@jupyter-widgets/base",
      "model_module_version": "1.2.0",
      "model_name": "LayoutModel",
      "state": {}
     },
     "e2c6549fe4184381ac4c9ed2b6176ea3": {
      "model_module": "@jupyter-widgets/base",
      "model_module_version": "1.2.0",
      "model_name": "LayoutModel",
      "state": {}
     },
     "e2cee0daca1f47b68df9910c85e2001c": {
      "model_module": "@jupyter-widgets/controls",
      "model_module_version": "1.5.0",
      "model_name": "ProgressStyleModel",
      "state": {
       "description_width": "initial"
      }
     },
     "e33f80e22c0247c489f2b08a64220714": {
      "model_module": "@jupyter-widgets/controls",
      "model_module_version": "1.5.0",
      "model_name": "HTMLModel",
      "state": {
       "layout": "IPY_MODEL_40b77b92c4a44d3ab9bb04143b2cea5d",
       "style": "IPY_MODEL_e9bfe0e582a444b0b151fcd0eb805784",
       "value": " 493/493 [23:41&lt;00:00,  2.88s/it]"
      }
     },
     "e342905037a2454794b5d61437e3e571": {
      "model_module": "@jupyter-widgets/base",
      "model_module_version": "1.2.0",
      "model_name": "LayoutModel",
      "state": {}
     },
     "e369453038724892a8fd239164e9cf4f": {
      "model_module": "@jupyter-widgets/base",
      "model_module_version": "1.2.0",
      "model_name": "LayoutModel",
      "state": {}
     },
     "e37f78a23af942488fd5ad9167234cbd": {
      "model_module": "@jupyter-widgets/controls",
      "model_module_version": "1.5.0",
      "model_name": "ProgressStyleModel",
      "state": {
       "description_width": "initial"
      }
     },
     "e385a031b6bf4469b1611c5ccf20ea8e": {
      "model_module": "@jupyter-widgets/controls",
      "model_module_version": "1.5.0",
      "model_name": "HBoxModel",
      "state": {
       "children": [
        "IPY_MODEL_35494beec05242b4a7fe310ec5f71982",
        "IPY_MODEL_3e7615f731c146c0bf541a0ba874dde9"
       ],
       "layout": "IPY_MODEL_cbe76496f749456ea2e675a9b80c89c3"
      }
     },
     "e3a2c62b0ae2447293132952f1b5acdd": {
      "model_module": "@jupyter-widgets/controls",
      "model_module_version": "1.5.0",
      "model_name": "HBoxModel",
      "state": {
       "children": [
        "IPY_MODEL_2a3970ab840d43bb8cb94c2dddfe0bf6",
        "IPY_MODEL_fbcefc84a4d847299a15fb3d086ef1f6"
       ],
       "layout": "IPY_MODEL_1f56be568f534afdb9d0c8c00ede8f92"
      }
     },
     "e3a3168eb8ae4978a872714c194f0abc": {
      "model_module": "@jupyter-widgets/controls",
      "model_module_version": "1.5.0",
      "model_name": "ProgressStyleModel",
      "state": {
       "description_width": "initial"
      }
     },
     "e3b55fff345641158f4fbbce5e883737": {
      "model_module": "@jupyter-widgets/controls",
      "model_module_version": "1.5.0",
      "model_name": "DescriptionStyleModel",
      "state": {
       "description_width": ""
      }
     },
     "e3dfc242bace47cfae1ca6b7f804cb7f": {
      "model_module": "@jupyter-widgets/controls",
      "model_module_version": "1.5.0",
      "model_name": "ProgressStyleModel",
      "state": {
       "description_width": "initial"
      }
     },
     "e3e889dadc8843659efa9576b0c06519": {
      "model_module": "@jupyter-widgets/controls",
      "model_module_version": "1.5.0",
      "model_name": "HBoxModel",
      "state": {
       "children": [
        "IPY_MODEL_8044ad4bae004651b999803964b901df",
        "IPY_MODEL_497fb6e46f5d4c9f85c0cc55c82aee18"
       ],
       "layout": "IPY_MODEL_18a66c58bdb84727aa61f9072c6b1687"
      }
     },
     "e400ef788e214ff6b31571e030f725ab": {
      "model_module": "@jupyter-widgets/base",
      "model_module_version": "1.2.0",
      "model_name": "LayoutModel",
      "state": {}
     },
     "e416e59930d343589126fc04cadc9f99": {
      "model_module": "@jupyter-widgets/controls",
      "model_module_version": "1.5.0",
      "model_name": "DescriptionStyleModel",
      "state": {
       "description_width": ""
      }
     },
     "e42cb8a8851848d9889953133c53a406": {
      "model_module": "@jupyter-widgets/controls",
      "model_module_version": "1.5.0",
      "model_name": "ProgressStyleModel",
      "state": {
       "description_width": "initial"
      }
     },
     "e430a5f311c04d3394abb6b846c2afba": {
      "model_module": "@jupyter-widgets/controls",
      "model_module_version": "1.5.0",
      "model_name": "DescriptionStyleModel",
      "state": {
       "description_width": ""
      }
     },
     "e43adb9e25c64a11931a1a993f9b809d": {
      "model_module": "@jupyter-widgets/controls",
      "model_module_version": "1.5.0",
      "model_name": "HTMLModel",
      "state": {
       "layout": "IPY_MODEL_2c7ce9ab1ee848a1b5de3c20b709d241",
       "style": "IPY_MODEL_2628676b8299423f9f3c341c0755440a",
       "value": " 165/165 [01:21&lt;00:00,  2.02it/s]"
      }
     },
     "e46615da56c644f290907606a000a08b": {
      "model_module": "@jupyter-widgets/controls",
      "model_module_version": "1.5.0",
      "model_name": "DescriptionStyleModel",
      "state": {
       "description_width": ""
      }
     },
     "e474f981ed784a2aacd69670d6466b24": {
      "model_module": "@jupyter-widgets/base",
      "model_module_version": "1.2.0",
      "model_name": "LayoutModel",
      "state": {}
     },
     "e478dec95aa643f2a9e864918f72d58b": {
      "model_module": "@jupyter-widgets/controls",
      "model_module_version": "1.5.0",
      "model_name": "ProgressStyleModel",
      "state": {
       "description_width": "initial"
      }
     },
     "e47bbdbec3f440ada4ca50a868021670": {
      "model_module": "@jupyter-widgets/controls",
      "model_module_version": "1.5.0",
      "model_name": "HBoxModel",
      "state": {
       "children": [
        "IPY_MODEL_1fdf49a56fdc4a89bf016fc6d273156c",
        "IPY_MODEL_cf47788cc87d4c8a8200f5b8081ea430"
       ],
       "layout": "IPY_MODEL_651064be43c5443cadee5cf122e2a940"
      }
     },
     "e4888a5bb66247c686a8946fe481be5e": {
      "model_module": "@jupyter-widgets/controls",
      "model_module_version": "1.5.0",
      "model_name": "HTMLModel",
      "state": {
       "layout": "IPY_MODEL_00b1802ddc974fbb8b186dd2f6edabaa",
       "style": "IPY_MODEL_fe9567f9f97245fca3dcc700d1068b3f",
       "value": " 3/3 [00:05&lt;00:00,  1.99s/it]"
      }
     },
     "e4a263ab53ca433283a4744e7ad720bc": {
      "model_module": "@jupyter-widgets/base",
      "model_module_version": "1.2.0",
      "model_name": "LayoutModel",
      "state": {}
     },
     "e4aa921d4244418b8839d752b6caaafe": {
      "model_module": "@jupyter-widgets/controls",
      "model_module_version": "1.5.0",
      "model_name": "DescriptionStyleModel",
      "state": {
       "description_width": ""
      }
     },
     "e4aaa71b4a914dabaf8b5b7c31177e5f": {
      "model_module": "@jupyter-widgets/base",
      "model_module_version": "1.2.0",
      "model_name": "LayoutModel",
      "state": {}
     },
     "e4af65c519004033b987261fb1a9125b": {
      "model_module": "@jupyter-widgets/controls",
      "model_module_version": "1.5.0",
      "model_name": "DescriptionStyleModel",
      "state": {
       "description_width": ""
      }
     },
     "e4c305ef47454cc88dfa1b9572384251": {
      "model_module": "@jupyter-widgets/controls",
      "model_module_version": "1.5.0",
      "model_name": "ProgressStyleModel",
      "state": {
       "description_width": "initial"
      }
     },
     "e4c8d514a7804489911ab43c8871552a": {
      "model_module": "@jupyter-widgets/base",
      "model_module_version": "1.2.0",
      "model_name": "LayoutModel",
      "state": {}
     },
     "e4e8d9753a1c429f9b6e885d48df64bb": {
      "model_module": "@jupyter-widgets/base",
      "model_module_version": "1.2.0",
      "model_name": "LayoutModel",
      "state": {}
     },
     "e4f8cdc0fd9140b8a4af32350c141ce9": {
      "model_module": "@jupyter-widgets/base",
      "model_module_version": "1.2.0",
      "model_name": "LayoutModel",
      "state": {}
     },
     "e512f670560846ee9f3484314c4c0f7c": {
      "model_module": "@jupyter-widgets/controls",
      "model_module_version": "1.5.0",
      "model_name": "HBoxModel",
      "state": {
       "children": [
        "IPY_MODEL_56dcb90da8f74007acba0f65c31e68b8",
        "IPY_MODEL_c3e652918a7c4548be3a825a760bbf1a"
       ],
       "layout": "IPY_MODEL_03a0027e68374410a70cd1bf99ff2093"
      }
     },
     "e52355bee8a14a65b94006dc000cc027": {
      "model_module": "@jupyter-widgets/controls",
      "model_module_version": "1.5.0",
      "model_name": "HBoxModel",
      "state": {
       "children": [
        "IPY_MODEL_4f5a8b680a084c50866816a7732ad4da",
        "IPY_MODEL_e8c20b949ca34d0c8ba352d52f73cde0"
       ],
       "layout": "IPY_MODEL_cc2fc78e7c384366a30a331d6bcd44cb"
      }
     },
     "e55a9af8ae6a4c1b83fc49569de7caa3": {
      "model_module": "@jupyter-widgets/controls",
      "model_module_version": "1.5.0",
      "model_name": "HTMLModel",
      "state": {
       "layout": "IPY_MODEL_49f9b6a5a7344f1d90ff70b1288419d7",
       "style": "IPY_MODEL_816d900f53b9442e9eab05c26c64bdb3",
       "value": " 493/493 [17:46&lt;00:00,  2.16s/it]"
      }
     },
     "e58df6fdc5924887b1d686caad13ec55": {
      "model_module": "@jupyter-widgets/controls",
      "model_module_version": "1.5.0",
      "model_name": "ProgressStyleModel",
      "state": {
       "description_width": "initial"
      }
     },
     "e59f77a837974802980a2cac0c8ebb9f": {
      "model_module": "@jupyter-widgets/controls",
      "model_module_version": "1.5.0",
      "model_name": "HTMLModel",
      "state": {
       "layout": "IPY_MODEL_d3c0e01ad92148ab9ce865ac0c4f3919",
       "style": "IPY_MODEL_b141d63883ce41bdbd5a26eeb92acc3b",
       "value": " 493/493 [22:16&lt;00:00,  2.71s/it]"
      }
     },
     "e5a7247072a0433c879ffc7c4fb3a094": {
      "model_module": "@jupyter-widgets/controls",
      "model_module_version": "1.5.0",
      "model_name": "DescriptionStyleModel",
      "state": {
       "description_width": ""
      }
     },
     "e5ad78e55fd3412aad4bf085c776d9c8": {
      "model_module": "@jupyter-widgets/controls",
      "model_module_version": "1.5.0",
      "model_name": "ProgressStyleModel",
      "state": {
       "description_width": "initial"
      }
     },
     "e5b50f54b56b4ed38b735bb9797473f4": {
      "model_module": "@jupyter-widgets/controls",
      "model_module_version": "1.5.0",
      "model_name": "HBoxModel",
      "state": {
       "children": [
        "IPY_MODEL_2de9b1b0c59e455ba38eec06b853ac27",
        "IPY_MODEL_5a93a6eb71d44c138479c01d6979d70d"
       ],
       "layout": "IPY_MODEL_95ac7db5685341c2861d97eaebc71698"
      }
     },
     "e5d2a6a4128f44abbd0cb967cd9cd9e9": {
      "model_module": "@jupyter-widgets/controls",
      "model_module_version": "1.5.0",
      "model_name": "HTMLModel",
      "state": {
       "layout": "IPY_MODEL_a64abdb3531c4b7d894d4da699d70d1e",
       "style": "IPY_MODEL_4c13a593a9fd4f63be3e2b20e5e8a0e1",
       "value": " 3/3 [00:07&lt;00:00,  2.50s/it]"
      }
     },
     "e5ebe42b73a74bc49a3d9e0fb5d38815": {
      "model_module": "@jupyter-widgets/controls",
      "model_module_version": "1.5.0",
      "model_name": "HTMLModel",
      "state": {
       "layout": "IPY_MODEL_ce78affc9cbc4a859bfa02783ffef4d7",
       "style": "IPY_MODEL_a38f78873c884be5ae38085cdf1ea1f0",
       "value": " 165/165 [21:45&lt;00:00,  7.91s/it]"
      }
     },
     "e6127391fd46405f8e5e8b2f421de5b7": {
      "model_module": "@jupyter-widgets/base",
      "model_module_version": "1.2.0",
      "model_name": "LayoutModel",
      "state": {}
     },
     "e6173c0cdf0f4bfbab60a668ccfbb38b": {
      "model_module": "@jupyter-widgets/controls",
      "model_module_version": "1.5.0",
      "model_name": "HBoxModel",
      "state": {
       "children": [
        "IPY_MODEL_efe75ea6ae084d589341dd6b46cf2e19",
        "IPY_MODEL_2b08db70ea19455a8327e289bedbbb09"
       ],
       "layout": "IPY_MODEL_7d4f3020792c4c1f9825435fc0a589f5"
      }
     },
     "e622103aee134555859546b398d729cb": {
      "model_module": "@jupyter-widgets/controls",
      "model_module_version": "1.5.0",
      "model_name": "ProgressStyleModel",
      "state": {
       "description_width": "initial"
      }
     },
     "e628cb4ea32b41eb86b451384dcf3206": {
      "model_module": "@jupyter-widgets/controls",
      "model_module_version": "1.5.0",
      "model_name": "HBoxModel",
      "state": {
       "children": [
        "IPY_MODEL_f4be4d0d50f94769811930075cc53dc6",
        "IPY_MODEL_70bef141524546139d5e90919dbc43f6"
       ],
       "layout": "IPY_MODEL_7c2dbee8d453460ca69a9461c61826c9"
      }
     },
     "e63e4082632744cf9d9dcd0e1c320c91": {
      "model_module": "@jupyter-widgets/base",
      "model_module_version": "1.2.0",
      "model_name": "LayoutModel",
      "state": {}
     },
     "e653b5fcae344008be2f997e30ad9fa5": {
      "model_module": "@jupyter-widgets/base",
      "model_module_version": "1.2.0",
      "model_name": "LayoutModel",
      "state": {}
     },
     "e65f5d7ba040474c99524494df30df7f": {
      "model_module": "@jupyter-widgets/controls",
      "model_module_version": "1.5.0",
      "model_name": "HTMLModel",
      "state": {
       "layout": "IPY_MODEL_25ff2966110243f9aec6378619fa2905",
       "style": "IPY_MODEL_0b9b8e99c0f943e0a29c2fda4b8319ab",
       "value": " 165/165 [01:32&lt;00:00,  1.78it/s]"
      }
     },
     "e6e1e2a6ce9246bea94488f4a0f130a7": {
      "model_module": "@jupyter-widgets/controls",
      "model_module_version": "1.5.0",
      "model_name": "FloatProgressModel",
      "state": {
       "bar_style": "danger",
       "description": "[0] 1/15(train):   2%",
       "layout": "IPY_MODEL_fad1f6b01c1743db92e5e139891b2854",
       "max": 493,
       "style": "IPY_MODEL_da21b85953e447cabe8ad5231a3a7fb6",
       "value": 10
      }
     },
     "e6e39b617c704ccbaa560b534388f845": {
      "model_module": "@jupyter-widgets/controls",
      "model_module_version": "1.5.0",
      "model_name": "ProgressStyleModel",
      "state": {
       "description_width": "initial"
      }
     },
     "e6e4b91296b4450fa864703c0fb9f704": {
      "model_module": "@jupyter-widgets/base",
      "model_module_version": "1.2.0",
      "model_name": "LayoutModel",
      "state": {}
     },
     "e6e95c3ecce84e1e93f74b590c4d4b11": {
      "model_module": "@jupyter-widgets/controls",
      "model_module_version": "1.5.0",
      "model_name": "FloatProgressModel",
      "state": {
       "bar_style": "danger",
       "description": "[0] 1/15(train):   0%",
       "layout": "IPY_MODEL_f9094418e76e4a5897bf681c57952390",
       "max": 493,
       "style": "IPY_MODEL_48b5ab7255bd4c1aa7177f9fe74053ab"
      }
     },
     "e6ead010139a4c05b306356a3a1c21c5": {
      "model_module": "@jupyter-widgets/controls",
      "model_module_version": "1.5.0",
      "model_name": "HBoxModel",
      "state": {
       "children": [
        "IPY_MODEL_8c79e620583b44fdb4eab1471d08ef37",
        "IPY_MODEL_f88dbdf03e424005972bb0affd6f0f90"
       ],
       "layout": "IPY_MODEL_c2eb22d2f673475a9030304b34ef9020"
      }
     },
     "e6f6b779886c48d5a20ca567a46fbd48": {
      "model_module": "@jupyter-widgets/controls",
      "model_module_version": "1.5.0",
      "model_name": "ProgressStyleModel",
      "state": {
       "description_width": "initial"
      }
     },
     "e6fc2f1e7f084886aee3e3192dade0cf": {
      "model_module": "@jupyter-widgets/controls",
      "model_module_version": "1.5.0",
      "model_name": "ProgressStyleModel",
      "state": {
       "description_width": "initial"
      }
     },
     "e700cbf4a63d4d48b802dedd99d8795d": {
      "model_module": "@jupyter-widgets/controls",
      "model_module_version": "1.5.0",
      "model_name": "ProgressStyleModel",
      "state": {
       "description_width": "initial"
      }
     },
     "e7161539a6714324981c2fb9070a5a8d": {
      "model_module": "@jupyter-widgets/base",
      "model_module_version": "1.2.0",
      "model_name": "LayoutModel",
      "state": {}
     },
     "e72afdce1d4c4c8ba89cc50c08ad2f31": {
      "model_module": "@jupyter-widgets/base",
      "model_module_version": "1.2.0",
      "model_name": "LayoutModel",
      "state": {}
     },
     "e72c803a0537435b9cb497cd17036539": {
      "model_module": "@jupyter-widgets/controls",
      "model_module_version": "1.5.0",
      "model_name": "HTMLModel",
      "state": {
       "layout": "IPY_MODEL_fa7d0cc3bc6440298f998d9e4de28514",
       "style": "IPY_MODEL_34951680ab904391bc9a12fc724ac305",
       "value": " 493/493 [23:51&lt;00:00,  2.90s/it]"
      }
     },
     "e756b6e5c9184ca6a12680aca6a2d460": {
      "model_module": "@jupyter-widgets/controls",
      "model_module_version": "1.5.0",
      "model_name": "ProgressStyleModel",
      "state": {
       "description_width": "initial"
      }
     },
     "e7af090800ba4aec8ca03e4b252c7965": {
      "model_module": "@jupyter-widgets/base",
      "model_module_version": "1.2.0",
      "model_name": "LayoutModel",
      "state": {}
     },
     "e7cd7656ffaf4f9aa511fb17883bc9af": {
      "model_module": "@jupyter-widgets/controls",
      "model_module_version": "1.5.0",
      "model_name": "FloatProgressModel",
      "state": {
       "bar_style": "success",
       "description": "[2] 10/16(train): 100%",
       "layout": "IPY_MODEL_1b21e584b1fc459fa224a9b3922fce5c",
       "max": 493,
       "style": "IPY_MODEL_f632f698f356470ea3f31b01ab3fdecf",
       "value": 493
      }
     },
     "e7cde669b7424bb0ad03e758ba4b24fd": {
      "model_module": "@jupyter-widgets/base",
      "model_module_version": "1.2.0",
      "model_name": "LayoutModel",
      "state": {}
     },
     "e7e766517c9a4391b729cf5a48ed2166": {
      "model_module": "@jupyter-widgets/base",
      "model_module_version": "1.2.0",
      "model_name": "LayoutModel",
      "state": {}
     },
     "e8146de4bda74232baf9b70071838fe9": {
      "model_module": "@jupyter-widgets/controls",
      "model_module_version": "1.5.0",
      "model_name": "DescriptionStyleModel",
      "state": {
       "description_width": ""
      }
     },
     "e81be179050541b68ce766a1ef17a1a6": {
      "model_module": "@jupyter-widgets/controls",
      "model_module_version": "1.5.0",
      "model_name": "DescriptionStyleModel",
      "state": {
       "description_width": ""
      }
     },
     "e8262b09652b4e4586d200546324b186": {
      "model_module": "@jupyter-widgets/controls",
      "model_module_version": "1.5.0",
      "model_name": "ProgressStyleModel",
      "state": {
       "description_width": "initial"
      }
     },
     "e85140c1056b47db83cb759bdbc7293e": {
      "model_module": "@jupyter-widgets/controls",
      "model_module_version": "1.5.0",
      "model_name": "ProgressStyleModel",
      "state": {
       "description_width": "initial"
      }
     },
     "e85a9bf481fa45239d8eab682cd5bf75": {
      "model_module": "@jupyter-widgets/controls",
      "model_module_version": "1.5.0",
      "model_name": "ProgressStyleModel",
      "state": {
       "description_width": "initial"
      }
     },
     "e85e5b7c1fcd40a6b559d8a4b9ef6218": {
      "model_module": "@jupyter-widgets/base",
      "model_module_version": "1.2.0",
      "model_name": "LayoutModel",
      "state": {}
     },
     "e87a8856c0a34437a64085bd8d68cf3e": {
      "model_module": "@jupyter-widgets/base",
      "model_module_version": "1.2.0",
      "model_name": "LayoutModel",
      "state": {}
     },
     "e8944c0b732041409977d095f6a6358e": {
      "model_module": "@jupyter-widgets/base",
      "model_module_version": "1.2.0",
      "model_name": "LayoutModel",
      "state": {}
     },
     "e895ef6f48e74c2b9895f788f40b30d7": {
      "model_module": "@jupyter-widgets/controls",
      "model_module_version": "1.5.0",
      "model_name": "FloatProgressModel",
      "state": {
       "bar_style": "success",
       "description": "[3] 1/2(val  ): 100%",
       "layout": "IPY_MODEL_f0e4e51b830e4e419dee0645470ca29f",
       "max": 1,
       "style": "IPY_MODEL_a3690d87bae04d159c48418bfebf082f",
       "value": 1
      }
     },
     "e8a3d85ad3224fe985f906bb45cd009c": {
      "model_module": "@jupyter-widgets/controls",
      "model_module_version": "1.5.0",
      "model_name": "DescriptionStyleModel",
      "state": {
       "description_width": ""
      }
     },
     "e8c20b949ca34d0c8ba352d52f73cde0": {
      "model_module": "@jupyter-widgets/controls",
      "model_module_version": "1.5.0",
      "model_name": "HTMLModel",
      "state": {
       "layout": "IPY_MODEL_06454f450f0345578a6bd788f51f336d",
       "style": "IPY_MODEL_e416e59930d343589126fc04cadc9f99",
       "value": " 3/3 [00:07&lt;00:00,  2.53s/it]"
      }
     },
     "e8c334f35a4b429b808f5ac9a7590b4d": {
      "model_module": "@jupyter-widgets/base",
      "model_module_version": "1.2.0",
      "model_name": "LayoutModel",
      "state": {}
     },
     "e8d648be91f54bdd89001b37c477baaa": {
      "model_module": "@jupyter-widgets/controls",
      "model_module_version": "1.5.0",
      "model_name": "HBoxModel",
      "state": {
       "children": [
        "IPY_MODEL_2b538c77e3e14ecbb4adfab0ceb90a1d",
        "IPY_MODEL_a8c4a1eb2434495789fd9b8f3e1aa72b"
       ],
       "layout": "IPY_MODEL_7906e6a35ed24ed1bdf8cf6c8120be16"
      }
     },
     "e8ed6b6e595a4837ae9516cd23f0d1fc": {
      "model_module": "@jupyter-widgets/controls",
      "model_module_version": "1.5.0",
      "model_name": "HBoxModel",
      "state": {
       "children": [
        "IPY_MODEL_ecffdcabb17349a2b2516e6d2904c30c",
        "IPY_MODEL_8c8b8c225cca4eb8abddc7a6915bfc20"
       ],
       "layout": "IPY_MODEL_cf95008113724256b43f30c159c80362"
      }
     },
     "e91a802c6c174145a7fb9a1b816b886e": {
      "model_module": "@jupyter-widgets/controls",
      "model_module_version": "1.5.0",
      "model_name": "HTMLModel",
      "state": {
       "layout": "IPY_MODEL_e85e5b7c1fcd40a6b559d8a4b9ef6218",
       "style": "IPY_MODEL_1a281764cc5546adac8414f434c0a771",
       "value": " 1/1 [00:00&lt;00:00,  1.17it/s]"
      }
     },
     "e93426e7e9e141f282c40e3fbfecb06f": {
      "model_module": "@jupyter-widgets/base",
      "model_module_version": "1.2.0",
      "model_name": "LayoutModel",
      "state": {}
     },
     "e95c35a047d64d32a7bfc66d19e53f61": {
      "model_module": "@jupyter-widgets/controls",
      "model_module_version": "1.5.0",
      "model_name": "DescriptionStyleModel",
      "state": {
       "description_width": ""
      }
     },
     "e9710f47a8294399b3fd2dc55e1e3c29": {
      "model_module": "@jupyter-widgets/base",
      "model_module_version": "1.2.0",
      "model_name": "LayoutModel",
      "state": {}
     },
     "e9967e825d524e68b37e58181f658fd1": {
      "model_module": "@jupyter-widgets/controls",
      "model_module_version": "1.5.0",
      "model_name": "HTMLModel",
      "state": {
       "layout": "IPY_MODEL_079bda7a54e644cd92bcc19102d96145",
       "style": "IPY_MODEL_978cacab0add4cc5bdd6a6d3cd7c6b26",
       "value": " 493/493 [17:46&lt;00:00,  2.16s/it]"
      }
     },
     "e9bfe0e582a444b0b151fcd0eb805784": {
      "model_module": "@jupyter-widgets/controls",
      "model_module_version": "1.5.0",
      "model_name": "DescriptionStyleModel",
      "state": {
       "description_width": ""
      }
     },
     "e9cd0edaee2a42599ae3941372a6b9fb": {
      "model_module": "@jupyter-widgets/controls",
      "model_module_version": "1.5.0",
      "model_name": "ProgressStyleModel",
      "state": {
       "description_width": "initial"
      }
     },
     "e9cfc23f175d49ba864de1bc8990cf7f": {
      "model_module": "@jupyter-widgets/controls",
      "model_module_version": "1.5.0",
      "model_name": "HTMLModel",
      "state": {
       "layout": "IPY_MODEL_be9062eb3df04be1acc33837a245e041",
       "style": "IPY_MODEL_d6f643529fc1422484a383b0d59e7b68",
       "value": " 1/1 [00:00&lt;00:00,  1.08it/s]"
      }
     },
     "e9daa449ac7542259aa87112d8ae31f6": {
      "model_module": "@jupyter-widgets/base",
      "model_module_version": "1.2.0",
      "model_name": "LayoutModel",
      "state": {}
     },
     "e9f0d55c04f4482892fc579c16181424": {
      "model_module": "@jupyter-widgets/controls",
      "model_module_version": "1.5.0",
      "model_name": "HTMLModel",
      "state": {
       "layout": "IPY_MODEL_29b8e50ed26142968707a00735ad9327",
       "style": "IPY_MODEL_90dc44d2b9534b8394107d15a198edde",
       "value": " 165/165 [00:47&lt;00:00,  3.48it/s]"
      }
     },
     "e9faa409e9a94f7289dbea0f61799494": {
      "model_module": "@jupyter-widgets/controls",
      "model_module_version": "1.5.0",
      "model_name": "HBoxModel",
      "state": {
       "children": [
        "IPY_MODEL_7ed0b9d53b7f47098b3c8ff1aff7bdd2",
        "IPY_MODEL_7f17e8d4da6249aa94e46c84b438237d"
       ],
       "layout": "IPY_MODEL_51f537cd816e4c499946f2e735a7d721"
      }
     },
     "ea0cb7b5b4e74242953f2bba9fb56a54": {
      "model_module": "@jupyter-widgets/controls",
      "model_module_version": "1.5.0",
      "model_name": "HBoxModel",
      "state": {
       "children": [
        "IPY_MODEL_d35e4ace46e347628d2df1ad07b6db26",
        "IPY_MODEL_52d626f3714f4f6ea9636193ec95fed2"
       ],
       "layout": "IPY_MODEL_c10b4931223b47eab7aefdb5499d6d74"
      }
     },
     "ea3dbd06638c4886bfd1e4d498de67e8": {
      "model_module": "@jupyter-widgets/controls",
      "model_module_version": "1.5.0",
      "model_name": "FloatProgressModel",
      "state": {
       "bar_style": "success",
       "description": "[3] 9/15(train): 100%",
       "layout": "IPY_MODEL_7c1a77bde09543318cba1df9695bf86b",
       "max": 493,
       "style": "IPY_MODEL_d582ec91e7214d6bbf93d4c372db10a3",
       "value": 493
      }
     },
     "ea546ff2091341a29e2550ec0cc308b4": {
      "model_module": "@jupyter-widgets/controls",
      "model_module_version": "1.5.0",
      "model_name": "DescriptionStyleModel",
      "state": {
       "description_width": ""
      }
     },
     "ea5cf71d66f74d10b9676866c13ce7ee": {
      "model_module": "@jupyter-widgets/base",
      "model_module_version": "1.2.0",
      "model_name": "LayoutModel",
      "state": {}
     },
     "ea8054acb3744c72bff21490e5eb4bca": {
      "model_module": "@jupyter-widgets/controls",
      "model_module_version": "1.5.0",
      "model_name": "DescriptionStyleModel",
      "state": {
       "description_width": ""
      }
     },
     "eaa22298d915469d8e511c26e732a13b": {
      "model_module": "@jupyter-widgets/base",
      "model_module_version": "1.2.0",
      "model_name": "LayoutModel",
      "state": {}
     },
     "eacfd082060b4f98961b9072e9ff75c4": {
      "model_module": "@jupyter-widgets/controls",
      "model_module_version": "1.5.0",
      "model_name": "FloatProgressModel",
      "state": {
       "bar_style": "success",
       "description": "[0] 2/15(train): 100%",
       "layout": "IPY_MODEL_014ab198f5a8476d8289dc5fbdda2246",
       "max": 3,
       "style": "IPY_MODEL_0c6b9a07ccbd45c9bedfbd3d79914f1d",
       "value": 3
      }
     },
     "ead6f71b0b05429e8ec8a21782e8fe8b": {
      "model_module": "@jupyter-widgets/controls",
      "model_module_version": "1.5.0",
      "model_name": "ProgressStyleModel",
      "state": {
       "description_width": "initial"
      }
     },
     "eadc3e4e57524152bffd1fbcf33f415e": {
      "model_module": "@jupyter-widgets/controls",
      "model_module_version": "1.5.0",
      "model_name": "ProgressStyleModel",
      "state": {
       "description_width": "initial"
      }
     },
     "eaf0e5711a634064a5cd6379a1ac529c": {
      "model_module": "@jupyter-widgets/controls",
      "model_module_version": "1.5.0",
      "model_name": "FloatProgressModel",
      "state": {
       "bar_style": "success",
       "description": "[2] 11/15(val  ): 100%",
       "layout": "IPY_MODEL_84d1109c39c247fe9f0c42ac0df49262",
       "max": 165,
       "style": "IPY_MODEL_68eadd8871fd49e9adf43111941c8410",
       "value": 165
      }
     },
     "eb269be3ccc142159130f43678672200": {
      "model_module": "@jupyter-widgets/controls",
      "model_module_version": "1.5.0",
      "model_name": "DescriptionStyleModel",
      "state": {
       "description_width": ""
      }
     },
     "eb27bb0c1ca84e58ad10867c1e203766": {
      "model_module": "@jupyter-widgets/controls",
      "model_module_version": "1.5.0",
      "model_name": "HTMLModel",
      "state": {
       "layout": "IPY_MODEL_b346440a81334761990f52c09c406828",
       "style": "IPY_MODEL_9337e0fb7c2147cbbb86af941561b4eb",
       "value": " 1/1 [00:00&lt;00:00,  1.09it/s]"
      }
     },
     "eb3a5b2b8c424fa8bd97eb92f384f172": {
      "model_module": "@jupyter-widgets/base",
      "model_module_version": "1.2.0",
      "model_name": "LayoutModel",
      "state": {}
     },
     "eb41829644ea4567a58beb31db6668c6": {
      "model_module": "@jupyter-widgets/controls",
      "model_module_version": "1.5.0",
      "model_name": "DescriptionStyleModel",
      "state": {
       "description_width": ""
      }
     },
     "eb456ba44e9d4e5398150738bf942486": {
      "model_module": "@jupyter-widgets/base",
      "model_module_version": "1.2.0",
      "model_name": "LayoutModel",
      "state": {}
     },
     "eb522305b91d428ba612e30e78b66365": {
      "model_module": "@jupyter-widgets/controls",
      "model_module_version": "1.5.0",
      "model_name": "DescriptionStyleModel",
      "state": {
       "description_width": ""
      }
     },
     "eb6c9c5679ca4067b1677b1c74144877": {
      "model_module": "@jupyter-widgets/controls",
      "model_module_version": "1.5.0",
      "model_name": "DescriptionStyleModel",
      "state": {
       "description_width": ""
      }
     },
     "ebbb92d5e55c465aaaf7a561f0c9ee52": {
      "model_module": "@jupyter-widgets/controls",
      "model_module_version": "1.5.0",
      "model_name": "ProgressStyleModel",
      "state": {
       "description_width": "initial"
      }
     },
     "ebd2f01470db4e97a90d28ec1e1f768f": {
      "model_module": "@jupyter-widgets/base",
      "model_module_version": "1.2.0",
      "model_name": "LayoutModel",
      "state": {}
     },
     "ebd4b8367ff04b62b96ea63d4c9fb5e1": {
      "model_module": "@jupyter-widgets/base",
      "model_module_version": "1.2.0",
      "model_name": "LayoutModel",
      "state": {}
     },
     "ebdbe90bb9cd4f2d9fb8369cea5b4b86": {
      "model_module": "@jupyter-widgets/controls",
      "model_module_version": "1.5.0",
      "model_name": "HTMLModel",
      "state": {
       "layout": "IPY_MODEL_3e5cc57385fe419b95a91ff8cf531823",
       "style": "IPY_MODEL_c5a70599740d437d8a8b400d39fc47dd",
       "value": " 1/1 [00:03&lt;00:00,  3.86s/it]"
      }
     },
     "ebfed5eac45542eca36caba43b10ab46": {
      "model_module": "@jupyter-widgets/base",
      "model_module_version": "1.2.0",
      "model_name": "LayoutModel",
      "state": {}
     },
     "ebff46233b6644b78a00b25b5c53b675": {
      "model_module": "@jupyter-widgets/base",
      "model_module_version": "1.2.0",
      "model_name": "LayoutModel",
      "state": {}
     },
     "ec0480c61bf346b1aed554175ef8cd90": {
      "model_module": "@jupyter-widgets/controls",
      "model_module_version": "1.5.0",
      "model_name": "HBoxModel",
      "state": {
       "children": [
        "IPY_MODEL_d7beb0f6627e4d479e218b90eba706ef",
        "IPY_MODEL_fcce48e8ac0a4d509ee8134b13b18175"
       ],
       "layout": "IPY_MODEL_44936e9c93b9402f9ba0ccd6bcccd20f"
      }
     },
     "ec07d655093f44538c5a42973bd0855e": {
      "model_module": "@jupyter-widgets/base",
      "model_module_version": "1.2.0",
      "model_name": "LayoutModel",
      "state": {}
     },
     "ec508e58aa504831a8a5276d32ba4889": {
      "model_module": "@jupyter-widgets/base",
      "model_module_version": "1.2.0",
      "model_name": "LayoutModel",
      "state": {}
     },
     "ec78c1f3eea140db8171c9ef0291d18f": {
      "model_module": "@jupyter-widgets/base",
      "model_module_version": "1.2.0",
      "model_name": "LayoutModel",
      "state": {}
     },
     "ec823aafba0e4ab28f7159b11d2e294b": {
      "model_module": "@jupyter-widgets/base",
      "model_module_version": "1.2.0",
      "model_name": "LayoutModel",
      "state": {}
     },
     "ec8f74cc63f84710bd41b3c5db9d5532": {
      "model_module": "@jupyter-widgets/controls",
      "model_module_version": "1.5.0",
      "model_name": "HTMLModel",
      "state": {
       "layout": "IPY_MODEL_71184de0149b42db9495f01fa6dcd2c6",
       "style": "IPY_MODEL_76320f05592a4ff2ac7a5d0ffe815809",
       "value": " 17/493 [00:46&lt;20:05,  2.53s/it]"
      }
     },
     "ec990dd3aa1d4991bf6e347a97894b98": {
      "model_module": "@jupyter-widgets/controls",
      "model_module_version": "1.5.0",
      "model_name": "HTMLModel",
      "state": {
       "layout": "IPY_MODEL_775d773547ee4decbf153e7559ecda57",
       "style": "IPY_MODEL_ef8b9e1198b1467d98088c27e7fad840",
       "value": " 3/3 [00:07&lt;00:00,  2.62s/it]"
      }
     },
     "ec9cfb152dfb4dd2a1c9d7d4f80abf8b": {
      "model_module": "@jupyter-widgets/controls",
      "model_module_version": "1.5.0",
      "model_name": "DescriptionStyleModel",
      "state": {
       "description_width": ""
      }
     },
     "eca400721d1f4bda892ce50d23515f1c": {
      "model_module": "@jupyter-widgets/base",
      "model_module_version": "1.2.0",
      "model_name": "LayoutModel",
      "state": {}
     },
     "ecbbb39f93c244a3ae550999ca7b4dc4": {
      "model_module": "@jupyter-widgets/controls",
      "model_module_version": "1.5.0",
      "model_name": "ProgressStyleModel",
      "state": {
       "description_width": "initial"
      }
     },
     "ecdfc262ca1c488c9ca0ab1385099558": {
      "model_module": "@jupyter-widgets/controls",
      "model_module_version": "1.5.0",
      "model_name": "ProgressStyleModel",
      "state": {
       "description_width": "initial"
      }
     },
     "ece3846242be4dd7b4838632b3ce4d1b": {
      "model_module": "@jupyter-widgets/controls",
      "model_module_version": "1.5.0",
      "model_name": "DescriptionStyleModel",
      "state": {
       "description_width": ""
      }
     },
     "ece542f3c03b4069a98619d28d40e00e": {
      "model_module": "@jupyter-widgets/base",
      "model_module_version": "1.2.0",
      "model_name": "LayoutModel",
      "state": {}
     },
     "ecffdcabb17349a2b2516e6d2904c30c": {
      "model_module": "@jupyter-widgets/controls",
      "model_module_version": "1.5.0",
      "model_name": "FloatProgressModel",
      "state": {
       "bar_style": "success",
       "description": "[1] 1/2(val  ): 100%",
       "layout": "IPY_MODEL_7675a530c7e245ebaa9897858c097ef9",
       "max": 1,
       "style": "IPY_MODEL_94d5fac8e557476c9d4d632ba296e2cb",
       "value": 1
      }
     },
     "ed224f2c1efa436dbddada03ec26373b": {
      "model_module": "@jupyter-widgets/controls",
      "model_module_version": "1.5.0",
      "model_name": "FloatProgressModel",
      "state": {
       "bar_style": "success",
       "description": "[1] 5/15(train): 100%",
       "layout": "IPY_MODEL_98d76924c6cd4411b691e2b522aea187",
       "max": 3,
       "style": "IPY_MODEL_46d67ed7e3ed49dc8997659b549e3edd",
       "value": 3
      }
     },
     "ed37b408867547c39b5e8e670b46a94d": {
      "model_module": "@jupyter-widgets/base",
      "model_module_version": "1.2.0",
      "model_name": "LayoutModel",
      "state": {}
     },
     "ed518b5bfda04c4e87ce65dc654a0c30": {
      "model_module": "@jupyter-widgets/controls",
      "model_module_version": "1.5.0",
      "model_name": "HBoxModel",
      "state": {
       "children": [
        "IPY_MODEL_4ae99e3792894cb28da0844dfd80055e",
        "IPY_MODEL_7af0b05778064d748ed59ed9a8887e98"
       ],
       "layout": "IPY_MODEL_0d52d14dc32f4901aa213ee162fcb3bb"
      }
     },
     "ed5263ae71464a08bb878a99e2cdaaec": {
      "model_module": "@jupyter-widgets/controls",
      "model_module_version": "1.5.0",
      "model_name": "ProgressStyleModel",
      "state": {
       "description_width": "initial"
      }
     },
     "ed53a7d39ee94d66b10ef9a42779d637": {
      "model_module": "@jupyter-widgets/controls",
      "model_module_version": "1.5.0",
      "model_name": "DescriptionStyleModel",
      "state": {
       "description_width": ""
      }
     },
     "ed9b22cd204943ffbad799584349118f": {
      "model_module": "@jupyter-widgets/base",
      "model_module_version": "1.2.0",
      "model_name": "LayoutModel",
      "state": {}
     },
     "edc6b45c2be240e9a8252ffc7da11011": {
      "model_module": "@jupyter-widgets/controls",
      "model_module_version": "1.5.0",
      "model_name": "ProgressStyleModel",
      "state": {
       "description_width": "initial"
      }
     },
     "ee40a0fbb7254e68871edbd9c671be40": {
      "model_module": "@jupyter-widgets/controls",
      "model_module_version": "1.5.0",
      "model_name": "ProgressStyleModel",
      "state": {
       "description_width": "initial"
      }
     },
     "ee692ff5ccb84546ae87e7eceddb8c46": {
      "model_module": "@jupyter-widgets/base",
      "model_module_version": "1.2.0",
      "model_name": "LayoutModel",
      "state": {}
     },
     "ee6b1751390c4d39bb26f46a415d8de2": {
      "model_module": "@jupyter-widgets/base",
      "model_module_version": "1.2.0",
      "model_name": "LayoutModel",
      "state": {}
     },
     "ee6fb553d00e48949353e253f559e9c3": {
      "model_module": "@jupyter-widgets/controls",
      "model_module_version": "1.5.0",
      "model_name": "HTMLModel",
      "state": {
       "layout": "IPY_MODEL_4bfd705aa11941daa9b02e798fd2e143",
       "style": "IPY_MODEL_99fc0b1509414c95acd7d3f3868ebd27",
       "value": " 3/3 [00:06&lt;00:00,  2.26s/it]"
      }
     },
     "ee81c56e29894622a6c6e6691e05792b": {
      "model_module": "@jupyter-widgets/controls",
      "model_module_version": "1.5.0",
      "model_name": "DescriptionStyleModel",
      "state": {
       "description_width": ""
      }
     },
     "ee95610167b34bd893d1d49171b468bd": {
      "model_module": "@jupyter-widgets/base",
      "model_module_version": "1.2.0",
      "model_name": "LayoutModel",
      "state": {}
     },
     "eebf6a0e3eab4828b5ae39073deb2be7": {
      "model_module": "@jupyter-widgets/controls",
      "model_module_version": "1.5.0",
      "model_name": "DescriptionStyleModel",
      "state": {
       "description_width": ""
      }
     },
     "eec974891bac4b2395fb345dbb7edbbd": {
      "model_module": "@jupyter-widgets/base",
      "model_module_version": "1.2.0",
      "model_name": "LayoutModel",
      "state": {}
     },
     "eef451a4d5654595923bb0a622d72cef": {
      "model_module": "@jupyter-widgets/controls",
      "model_module_version": "1.5.0",
      "model_name": "HBoxModel",
      "state": {
       "children": [
        "IPY_MODEL_0ab3cc57e252418cbef803cc478c3230",
        "IPY_MODEL_e2bd772e57d940d5b5303e6f8fc6db5f"
       ],
       "layout": "IPY_MODEL_a363308af6904af1b90d5aeb929f25fc"
      }
     },
     "ef16381b45524201ae16e3e478c33977": {
      "model_module": "@jupyter-widgets/controls",
      "model_module_version": "1.5.0",
      "model_name": "FloatProgressModel",
      "state": {
       "bar_style": "success",
       "description": "[1] 1/16(train): 100%",
       "layout": "IPY_MODEL_7342456371774830bba6d1111e6d1e03",
       "max": 493,
       "style": "IPY_MODEL_fa26f33def6143c78aa9711d0dbc1f7f",
       "value": 493
      }
     },
     "ef22b7a91bba4a08ae3c9bd781177af9": {
      "model_module": "@jupyter-widgets/controls",
      "model_module_version": "1.5.0",
      "model_name": "ProgressStyleModel",
      "state": {
       "description_width": "initial"
      }
     },
     "ef6205c05ad74e7c941a1b129300fb7a": {
      "model_module": "@jupyter-widgets/base",
      "model_module_version": "1.2.0",
      "model_name": "LayoutModel",
      "state": {}
     },
     "ef78faf2eb5340fe9a59c2e32a9b96cd": {
      "model_module": "@jupyter-widgets/base",
      "model_module_version": "1.2.0",
      "model_name": "LayoutModel",
      "state": {}
     },
     "ef7ed001f4f34cbfa2835f7f4359a6c2": {
      "model_module": "@jupyter-widgets/base",
      "model_module_version": "1.2.0",
      "model_name": "LayoutModel",
      "state": {}
     },
     "ef82460b54f64183b5ffb30c5286218f": {
      "model_module": "@jupyter-widgets/base",
      "model_module_version": "1.2.0",
      "model_name": "LayoutModel",
      "state": {}
     },
     "ef8b9e1198b1467d98088c27e7fad840": {
      "model_module": "@jupyter-widgets/controls",
      "model_module_version": "1.5.0",
      "model_name": "DescriptionStyleModel",
      "state": {
       "description_width": ""
      }
     },
     "ef8fefd84c0f49ee80535028346e41a9": {
      "model_module": "@jupyter-widgets/base",
      "model_module_version": "1.2.0",
      "model_name": "LayoutModel",
      "state": {}
     },
     "efbd309a14fa4cde90831d7c48cbf89e": {
      "model_module": "@jupyter-widgets/base",
      "model_module_version": "1.2.0",
      "model_name": "LayoutModel",
      "state": {}
     },
     "efc8c243134f46ffa1e89e14a0b83fa1": {
      "model_module": "@jupyter-widgets/controls",
      "model_module_version": "1.5.0",
      "model_name": "FloatProgressModel",
      "state": {
       "bar_style": "success",
       "description": "[0] 8/16(val  ): 100%",
       "layout": "IPY_MODEL_961d969799c14219b951c90f65c163a9",
       "max": 165,
       "style": "IPY_MODEL_1e1f02f299c84da2800354e80de102ce",
       "value": 165
      }
     },
     "efd8f3668483485c824f62f6cd423193": {
      "model_module": "@jupyter-widgets/base",
      "model_module_version": "1.2.0",
      "model_name": "LayoutModel",
      "state": {}
     },
     "efdbb47434a74f919c740b2f546f48c0": {
      "model_module": "@jupyter-widgets/controls",
      "model_module_version": "1.5.0",
      "model_name": "DescriptionStyleModel",
      "state": {
       "description_width": ""
      }
     },
     "efe75ea6ae084d589341dd6b46cf2e19": {
      "model_module": "@jupyter-widgets/controls",
      "model_module_version": "1.5.0",
      "model_name": "FloatProgressModel",
      "state": {
       "bar_style": "success",
       "description": "[0] 3/15(train): 100%",
       "layout": "IPY_MODEL_4afe130464d84eb3a61b7765eb3b510e",
       "max": 3,
       "style": "IPY_MODEL_308cba65bd9a45e6a608f74fcc5f7819",
       "value": 3
      }
     },
     "effbdef35d3a41d29700d1b2c96be6a0": {
      "model_module": "@jupyter-widgets/controls",
      "model_module_version": "1.5.0",
      "model_name": "FloatProgressModel",
      "state": {
       "bar_style": "success",
       "description": "[1] 1/2(train): 100%",
       "layout": "IPY_MODEL_4ac2c5c21ae6491cbfa6e637f171c54b",
       "max": 3,
       "style": "IPY_MODEL_dcb5efab69084c6eba0134b5d35faba2",
       "value": 3
      }
     },
     "f05a47c6c75d41d1a73be03962bd0d81": {
      "model_module": "@jupyter-widgets/base",
      "model_module_version": "1.2.0",
      "model_name": "LayoutModel",
      "state": {}
     },
     "f069d15226b647589ccff740f30a5acb": {
      "model_module": "@jupyter-widgets/controls",
      "model_module_version": "1.5.0",
      "model_name": "ProgressStyleModel",
      "state": {
       "description_width": "initial"
      }
     },
     "f0756f16e5794c45931ee5637388384e": {
      "model_module": "@jupyter-widgets/controls",
      "model_module_version": "1.5.0",
      "model_name": "DescriptionStyleModel",
      "state": {
       "description_width": ""
      }
     },
     "f0b75fa1bf95428fb1c18c71de7cf64f": {
      "model_module": "@jupyter-widgets/controls",
      "model_module_version": "1.5.0",
      "model_name": "ProgressStyleModel",
      "state": {
       "description_width": "initial"
      }
     },
     "f0c169d2dcd74ac9989e20312e2133fd": {
      "model_module": "@jupyter-widgets/base",
      "model_module_version": "1.2.0",
      "model_name": "LayoutModel",
      "state": {}
     },
     "f0ccb9f084934250b4f20c1696498e5b": {
      "model_module": "@jupyter-widgets/controls",
      "model_module_version": "1.5.0",
      "model_name": "HBoxModel",
      "state": {
       "children": [
        "IPY_MODEL_269a8736753c44eea04878b226a5568d",
        "IPY_MODEL_dc731b39d1fd48bf903ad51cbac67f2e"
       ],
       "layout": "IPY_MODEL_26c5fdf5771b40e0b410607a7922f7a7"
      }
     },
     "f0d574b9d6bf4b50ac8c304a102d319d": {
      "model_module": "@jupyter-widgets/controls",
      "model_module_version": "1.5.0",
      "model_name": "FloatProgressModel",
      "state": {
       "bar_style": "success",
       "description": "[1] 12/16(val  ): 100%",
       "layout": "IPY_MODEL_84151d9af71f4f8b82d67e48d4792e8c",
       "max": 165,
       "style": "IPY_MODEL_1f3fc874f6f24e97826bec657750e186",
       "value": 165
      }
     },
     "f0e111ee6c6d4ef8ba439fd3a7a70e1f": {
      "model_module": "@jupyter-widgets/base",
      "model_module_version": "1.2.0",
      "model_name": "LayoutModel",
      "state": {}
     },
     "f0e4c1e0d1c94e48b74fc54616467e96": {
      "model_module": "@jupyter-widgets/controls",
      "model_module_version": "1.5.0",
      "model_name": "FloatProgressModel",
      "state": {
       "bar_style": "success",
       "description": "[1] 2/2(train): 100%",
       "layout": "IPY_MODEL_0e642499333e4b719089af039fff5242",
       "max": 3,
       "style": "IPY_MODEL_62456bf5a2714fa08622f7ce93e52fd0",
       "value": 3
      }
     },
     "f0e4e51b830e4e419dee0645470ca29f": {
      "model_module": "@jupyter-widgets/base",
      "model_module_version": "1.2.0",
      "model_name": "LayoutModel",
      "state": {}
     },
     "f0e8b03d7b86455ca62edc0dff866711": {
      "model_module": "@jupyter-widgets/base",
      "model_module_version": "1.2.0",
      "model_name": "LayoutModel",
      "state": {}
     },
     "f0f638465bfa47c5a93d0ac0ff56bde2": {
      "model_module": "@jupyter-widgets/base",
      "model_module_version": "1.2.0",
      "model_name": "LayoutModel",
      "state": {}
     },
     "f0fd69fbaf2a4bd1acc1a59b1735f309": {
      "model_module": "@jupyter-widgets/base",
      "model_module_version": "1.2.0",
      "model_name": "LayoutModel",
      "state": {}
     },
     "f1040f898bfb43e6b35198ae8a2b13cc": {
      "model_module": "@jupyter-widgets/controls",
      "model_module_version": "1.5.0",
      "model_name": "HBoxModel",
      "state": {
       "children": [
        "IPY_MODEL_e17925aae23b4c6a964a8a481e25fb06",
        "IPY_MODEL_0e4299cefc004f85a7dcbee6195a061b"
       ],
       "layout": "IPY_MODEL_2d4e0e639c2a4701a4697c55e463a70d"
      }
     },
     "f1196708372747edb7281cada3463842": {
      "model_module": "@jupyter-widgets/base",
      "model_module_version": "1.2.0",
      "model_name": "LayoutModel",
      "state": {}
     },
     "f138f29465a145bdbe2624e36beaa246": {
      "model_module": "@jupyter-widgets/controls",
      "model_module_version": "1.5.0",
      "model_name": "HBoxModel",
      "state": {
       "children": [
        "IPY_MODEL_0b15023c4a364393a2f742901998acc7",
        "IPY_MODEL_b4ec73cd22e84dd8b68ba32facd0b6a1"
       ],
       "layout": "IPY_MODEL_8494d24558954394ba597bd1f0c6b226"
      }
     },
     "f13ba15ff9f34378bd7ffe9059546b91": {
      "model_module": "@jupyter-widgets/base",
      "model_module_version": "1.2.0",
      "model_name": "LayoutModel",
      "state": {}
     },
     "f15048fcff0f44f6b43c0ef03a3405b0": {
      "model_module": "@jupyter-widgets/base",
      "model_module_version": "1.2.0",
      "model_name": "LayoutModel",
      "state": {}
     },
     "f19c09db5c7f4f13a8bf84bb288ad9ac": {
      "model_module": "@jupyter-widgets/controls",
      "model_module_version": "1.5.0",
      "model_name": "HBoxModel",
      "state": {
       "children": [
        "IPY_MODEL_1ecd87b9782a427f9ac27153fc05b52c",
        "IPY_MODEL_7c0f0e95ef8e4c60a1adda90c0c5a924"
       ],
       "layout": "IPY_MODEL_653102f10a83421db8b5d733bc3ff021"
      }
     },
     "f1a82bbb84d44bb0901ff3e25f2a8e1c": {
      "model_module": "@jupyter-widgets/base",
      "model_module_version": "1.2.0",
      "model_name": "LayoutModel",
      "state": {}
     },
     "f1cec599c80148c09909ce307846ea1f": {
      "model_module": "@jupyter-widgets/controls",
      "model_module_version": "1.5.0",
      "model_name": "DescriptionStyleModel",
      "state": {
       "description_width": ""
      }
     },
     "f1f296b890e2419592e74ee69ecccb9e": {
      "model_module": "@jupyter-widgets/controls",
      "model_module_version": "1.5.0",
      "model_name": "FloatProgressModel",
      "state": {
       "bar_style": "success",
       "description": "[2] 14/16(val  ): 100%",
       "layout": "IPY_MODEL_a1f987edf3fd4eab9b28084213fcff6e",
       "max": 165,
       "style": "IPY_MODEL_9e107bf1fef74927b90e3f44c82b1f9b",
       "value": 165
      }
     },
     "f1f4d37275ba4c32b44ed93feb973a3c": {
      "model_module": "@jupyter-widgets/controls",
      "model_module_version": "1.5.0",
      "model_name": "FloatProgressModel",
      "state": {
       "bar_style": "success",
       "description": "[2] 7/16(val  ): 100%",
       "layout": "IPY_MODEL_806f28ada0914b28af34c82c8e01961f",
       "max": 165,
       "style": "IPY_MODEL_547a39eb6d1a491784c51fdf8b1cc64d",
       "value": 165
      }
     },
     "f1fe8a4f20b24e099ce5f0f22d1db317": {
      "model_module": "@jupyter-widgets/controls",
      "model_module_version": "1.5.0",
      "model_name": "HBoxModel",
      "state": {
       "children": [
        "IPY_MODEL_c992274259a24128b1cd3300fafe6cc5",
        "IPY_MODEL_b32e8354d2ae49ca86ff8cab789d7f69"
       ],
       "layout": "IPY_MODEL_b8d74ab8f16c4d31a3a155d503ea2e7f"
      }
     },
     "f2126b7dce4644fe9753517ba73d4140": {
      "model_module": "@jupyter-widgets/controls",
      "model_module_version": "1.5.0",
      "model_name": "ProgressStyleModel",
      "state": {
       "description_width": "initial"
      }
     },
     "f216a25426044b579356e1967395ec68": {
      "model_module": "@jupyter-widgets/base",
      "model_module_version": "1.2.0",
      "model_name": "LayoutModel",
      "state": {}
     },
     "f21b080c44fe48c9b7a0924b5be26558": {
      "model_module": "@jupyter-widgets/controls",
      "model_module_version": "1.5.0",
      "model_name": "HBoxModel",
      "state": {
       "children": [
        "IPY_MODEL_105e8c9b61694e0ca392c7b36e91d554",
        "IPY_MODEL_d2504e099b6c4155b4a2470788cd374a"
       ],
       "layout": "IPY_MODEL_b02c4aab616845f59797a4b1cf7b6964"
      }
     },
     "f21f41f892a44b869aace2f61c1d8c05": {
      "model_module": "@jupyter-widgets/controls",
      "model_module_version": "1.5.0",
      "model_name": "DescriptionStyleModel",
      "state": {
       "description_width": ""
      }
     },
     "f234f4ea564644a49bed8803eb69a87d": {
      "model_module": "@jupyter-widgets/controls",
      "model_module_version": "1.5.0",
      "model_name": "FloatProgressModel",
      "state": {
       "bar_style": "success",
       "description": "[0] 6/15(val  ): 100%",
       "layout": "IPY_MODEL_7a25c3672b4549b89ed82a91ebcd3147",
       "max": 1,
       "style": "IPY_MODEL_d99802a8d7ed46259bea64d9b410740d",
       "value": 1
      }
     },
     "f2657ff14f6644b59cac8b5843c2ca23": {
      "model_module": "@jupyter-widgets/controls",
      "model_module_version": "1.5.0",
      "model_name": "DescriptionStyleModel",
      "state": {
       "description_width": ""
      }
     },
     "f270330ee42246ada8f67898c991ab2d": {
      "model_module": "@jupyter-widgets/controls",
      "model_module_version": "1.5.0",
      "model_name": "HTMLModel",
      "state": {
       "layout": "IPY_MODEL_0aa61184a4a149039e87d1cf49af4627",
       "style": "IPY_MODEL_b40e6d600e6f46c3ab230ef577a59d33",
       "value": " 1/1 [00:01&lt;00:00,  1.11s/it]"
      }
     },
     "f28a4c7caeb64b3aa416e71bc60b0d65": {
      "model_module": "@jupyter-widgets/controls",
      "model_module_version": "1.5.0",
      "model_name": "DescriptionStyleModel",
      "state": {
       "description_width": ""
      }
     },
     "f2a2f7cbcda242d9a760fc6466a96db0": {
      "model_module": "@jupyter-widgets/controls",
      "model_module_version": "1.5.0",
      "model_name": "HBoxModel",
      "state": {
       "children": [
        "IPY_MODEL_7ee3fd19368c47b39e47c3bd7d0f3ddb",
        "IPY_MODEL_b34a2aa90cf14076a2d40899017c8ba7"
       ],
       "layout": "IPY_MODEL_a657a15b064e44858de80085ef6f45ac"
      }
     },
     "f2e0cac4dbe04932abe456f67c37ec45": {
      "model_module": "@jupyter-widgets/base",
      "model_module_version": "1.2.0",
      "model_name": "LayoutModel",
      "state": {}
     },
     "f2f8f1741690459eb40495a4d8380a2f": {
      "model_module": "@jupyter-widgets/controls",
      "model_module_version": "1.5.0",
      "model_name": "HBoxModel",
      "state": {
       "children": [
        "IPY_MODEL_4064763e0b8249a1b66d43a2b558f53e",
        "IPY_MODEL_c8f49deec6ca48bbb6aa9a88d086ddd0"
       ],
       "layout": "IPY_MODEL_3e012cbb822c4338a4b727f1a9f6bbfd"
      }
     },
     "f31087e7e917424697d7c1bfdd0623e2": {
      "model_module": "@jupyter-widgets/base",
      "model_module_version": "1.2.0",
      "model_name": "LayoutModel",
      "state": {}
     },
     "f3190752bfee415fa13b138bf2ea2f3d": {
      "model_module": "@jupyter-widgets/controls",
      "model_module_version": "1.5.0",
      "model_name": "HBoxModel",
      "state": {
       "children": [
        "IPY_MODEL_7bb417ff743842a4b5f4e9f58a2a6dfd",
        "IPY_MODEL_3befb2da1eda4569b981ab619034c5f2"
       ],
       "layout": "IPY_MODEL_6ae7e920009d492aa007df21c7407c08"
      }
     },
     "f3454cb6c96f4254ae3441b14563dad9": {
      "model_module": "@jupyter-widgets/controls",
      "model_module_version": "1.5.0",
      "model_name": "HBoxModel",
      "state": {
       "children": [
        "IPY_MODEL_516929a5413b4020a6918cc9bdc1e3a1",
        "IPY_MODEL_210d62501b344535bbe5ba6123c89c2e"
       ],
       "layout": "IPY_MODEL_83d3b71251f9400897cda9f3629c4af2"
      }
     },
     "f35e4e5ff0524c6eac970cbcb52d16c7": {
      "model_module": "@jupyter-widgets/controls",
      "model_module_version": "1.5.0",
      "model_name": "FloatProgressModel",
      "state": {
       "bar_style": "success",
       "description": "[2] 2/2(train): 100%",
       "layout": "IPY_MODEL_57877fe14c8c44b4a165b01e59f98a68",
       "max": 3,
       "style": "IPY_MODEL_cb3b6432a46a473eb79858375e8d4960",
       "value": 3
      }
     },
     "f393473a11fb4aa983a01ba4e3e0f089": {
      "model_module": "@jupyter-widgets/controls",
      "model_module_version": "1.5.0",
      "model_name": "DescriptionStyleModel",
      "state": {
       "description_width": ""
      }
     },
     "f3a158d1bf5f40e18aac4f1426c71697": {
      "model_module": "@jupyter-widgets/base",
      "model_module_version": "1.2.0",
      "model_name": "LayoutModel",
      "state": {}
     },
     "f3c6c34b8f9946009a6eafb9823b3094": {
      "model_module": "@jupyter-widgets/base",
      "model_module_version": "1.2.0",
      "model_name": "LayoutModel",
      "state": {}
     },
     "f3e4578af0014f209611ddb70f99d76f": {
      "model_module": "@jupyter-widgets/base",
      "model_module_version": "1.2.0",
      "model_name": "LayoutModel",
      "state": {}
     },
     "f3f43c55236345fc968582159cf229eb": {
      "model_module": "@jupyter-widgets/base",
      "model_module_version": "1.2.0",
      "model_name": "LayoutModel",
      "state": {}
     },
     "f3fa559fd08846989bb1291ab0deb204": {
      "model_module": "@jupyter-widgets/base",
      "model_module_version": "1.2.0",
      "model_name": "LayoutModel",
      "state": {}
     },
     "f4276ad99e2348f3853bb59fbcc9e3ab": {
      "model_module": "@jupyter-widgets/controls",
      "model_module_version": "1.5.0",
      "model_name": "DescriptionStyleModel",
      "state": {
       "description_width": ""
      }
     },
     "f42ef74b4ddc48e8be0fb2b05e8eba38": {
      "model_module": "@jupyter-widgets/controls",
      "model_module_version": "1.5.0",
      "model_name": "DescriptionStyleModel",
      "state": {
       "description_width": ""
      }
     },
     "f42fd852423a4335a9b2a729a1c23712": {
      "model_module": "@jupyter-widgets/base",
      "model_module_version": "1.2.0",
      "model_name": "LayoutModel",
      "state": {}
     },
     "f4492b4425e446a294d19b37dd89e964": {
      "model_module": "@jupyter-widgets/controls",
      "model_module_version": "1.5.0",
      "model_name": "ProgressStyleModel",
      "state": {
       "description_width": "initial"
      }
     },
     "f488781f74044dd0b287a25fc5fb8fa3": {
      "model_module": "@jupyter-widgets/controls",
      "model_module_version": "1.5.0",
      "model_name": "HTMLModel",
      "state": {
       "layout": "IPY_MODEL_a357a1ef512b4696a36bcaeae986a009",
       "style": "IPY_MODEL_5f1ddc6521dc43b0893b5d91da9a33e6",
       "value": " 1/1 [00:01&lt;00:00,  1.07s/it]"
      }
     },
     "f49a77f76cf04c2a8994fe2645cb13b4": {
      "model_module": "@jupyter-widgets/base",
      "model_module_version": "1.2.0",
      "model_name": "LayoutModel",
      "state": {}
     },
     "f4be4d0d50f94769811930075cc53dc6": {
      "model_module": "@jupyter-widgets/controls",
      "model_module_version": "1.5.0",
      "model_name": "FloatProgressModel",
      "state": {
       "description": "[0] 1/15(train):  13%",
       "layout": "IPY_MODEL_37c7fd4044cd49c6b027f073705623f0",
       "max": 493,
       "style": "IPY_MODEL_6998f6fa3ec14ad0ad64df7680f7bbd0",
       "value": 66
      }
     },
     "f4fa1e8eb8ca46bca643cc65db8f7e18": {
      "model_module": "@jupyter-widgets/controls",
      "model_module_version": "1.5.0",
      "model_name": "HTMLModel",
      "state": {
       "layout": "IPY_MODEL_9e07a0656e42402185db958875863c4a",
       "style": "IPY_MODEL_be837036f16c47e5bceba64948e2194e",
       "value": " 165/165 [01:32&lt;00:00,  1.78it/s]"
      }
     },
     "f52144fc93dc4ab8af2b2728c94fbd36": {
      "model_module": "@jupyter-widgets/controls",
      "model_module_version": "1.5.0",
      "model_name": "FloatProgressModel",
      "state": {
       "bar_style": "success",
       "description": "[3] 4/15(val  ): 100%",
       "layout": "IPY_MODEL_d894faf29ee349f1a1eb251ab1d731e5",
       "max": 165,
       "style": "IPY_MODEL_be8255047fce40258122f79844c61f34",
       "value": 165
      }
     },
     "f53242acd17b40bb956ac32d03036064": {
      "model_module": "@jupyter-widgets/controls",
      "model_module_version": "1.5.0",
      "model_name": "DescriptionStyleModel",
      "state": {
       "description_width": ""
      }
     },
     "f53c8d27f80e4ce9acd1b7b9f9a6ba6e": {
      "model_module": "@jupyter-widgets/controls",
      "model_module_version": "1.5.0",
      "model_name": "ProgressStyleModel",
      "state": {
       "description_width": "initial"
      }
     },
     "f54a6a3405cd4e628e7fb33d533c656f": {
      "model_module": "@jupyter-widgets/base",
      "model_module_version": "1.2.0",
      "model_name": "LayoutModel",
      "state": {}
     },
     "f5683bd9533f4b13bb35a587de67088e": {
      "model_module": "@jupyter-widgets/base",
      "model_module_version": "1.2.0",
      "model_name": "LayoutModel",
      "state": {}
     },
     "f58e006f4247495490e1f7d8c430afbe": {
      "model_module": "@jupyter-widgets/controls",
      "model_module_version": "1.5.0",
      "model_name": "DescriptionStyleModel",
      "state": {
       "description_width": ""
      }
     },
     "f5907ea2f9ee425db03908a425b92df0": {
      "model_module": "@jupyter-widgets/controls",
      "model_module_version": "1.5.0",
      "model_name": "HBoxModel",
      "state": {
       "children": [
        "IPY_MODEL_b5591635ac0a4067a2d00a705224a86b",
        "IPY_MODEL_d7f778d97a24437ea4348b1cf10aaabc"
       ],
       "layout": "IPY_MODEL_419d7929cf1d41c8a8c680b3137f1860"
      }
     },
     "f595011d47cb41319dda084dddf4b924": {
      "model_module": "@jupyter-widgets/controls",
      "model_module_version": "1.5.0",
      "model_name": "ProgressStyleModel",
      "state": {
       "description_width": "initial"
      }
     },
     "f59f1d1cae9e41b58f9038db174951ff": {
      "model_module": "@jupyter-widgets/controls",
      "model_module_version": "1.5.0",
      "model_name": "HTMLModel",
      "state": {
       "layout": "IPY_MODEL_aa8f905b4eb448239df58cd00404d47f",
       "style": "IPY_MODEL_b51f27ce48d7407195d22c256f94fff7",
       "value": " 3/3 [00:07&lt;00:00,  2.43s/it]"
      }
     },
     "f5b1d55a100b4b9aad3cf4118cd8bae0": {
      "model_module": "@jupyter-widgets/base",
      "model_module_version": "1.2.0",
      "model_name": "LayoutModel",
      "state": {}
     },
     "f5bdc7cb2e6543a996578ccb6b25b472": {
      "model_module": "@jupyter-widgets/controls",
      "model_module_version": "1.5.0",
      "model_name": "ProgressStyleModel",
      "state": {
       "description_width": "initial"
      }
     },
     "f5ccd227902b44cd892b5ff50dee651b": {
      "model_module": "@jupyter-widgets/base",
      "model_module_version": "1.2.0",
      "model_name": "LayoutModel",
      "state": {}
     },
     "f5dfdff28da046e0bb5d7eac09b345ee": {
      "model_module": "@jupyter-widgets/base",
      "model_module_version": "1.2.0",
      "model_name": "LayoutModel",
      "state": {}
     },
     "f5ee944ab8e84c3887f993b4993579ee": {
      "model_module": "@jupyter-widgets/controls",
      "model_module_version": "1.5.0",
      "model_name": "HBoxModel",
      "state": {
       "children": [
        "IPY_MODEL_042c3afc4c2e43d69c0cac5c95e450a7",
        "IPY_MODEL_c1c1bfe6a09744faa510794b663a345b"
       ],
       "layout": "IPY_MODEL_bdec4d04cf8f438bbb2e69c6a566e488"
      }
     },
     "f5f02b304a144161b0fffde639ceec5d": {
      "model_module": "@jupyter-widgets/base",
      "model_module_version": "1.2.0",
      "model_name": "LayoutModel",
      "state": {}
     },
     "f5fb52d8f4644257ac5e985d4eeee791": {
      "model_module": "@jupyter-widgets/base",
      "model_module_version": "1.2.0",
      "model_name": "LayoutModel",
      "state": {}
     },
     "f60c29ff8fce437c94902443c76c0765": {
      "model_module": "@jupyter-widgets/base",
      "model_module_version": "1.2.0",
      "model_name": "LayoutModel",
      "state": {}
     },
     "f60cb62a880741259ff61c4d3c2a82e5": {
      "model_module": "@jupyter-widgets/controls",
      "model_module_version": "1.5.0",
      "model_name": "HTMLModel",
      "state": {
       "layout": "IPY_MODEL_36ae4426f0854877849733f983e72300",
       "style": "IPY_MODEL_b0c52f84d8e04f3997214a53d63cc234",
       "value": " 493/493 [17:41&lt;00:00,  2.15s/it]"
      }
     },
     "f61a6178ab954965a17a691cb3adcfda": {
      "model_module": "@jupyter-widgets/controls",
      "model_module_version": "1.5.0",
      "model_name": "HTMLModel",
      "state": {
       "layout": "IPY_MODEL_4bf05dbb4f7a492dbac1a7eb8d908f2f",
       "style": "IPY_MODEL_06bc00f18d714361a5c5b45e304b4dc9",
       "value": " 165/165 [01:33&lt;00:00,  1.77it/s]"
      }
     },
     "f632f698f356470ea3f31b01ab3fdecf": {
      "model_module": "@jupyter-widgets/controls",
      "model_module_version": "1.5.0",
      "model_name": "ProgressStyleModel",
      "state": {
       "description_width": "initial"
      }
     },
     "f634266dedf14a04b754d119780ee0b1": {
      "model_module": "@jupyter-widgets/controls",
      "model_module_version": "1.5.0",
      "model_name": "ProgressStyleModel",
      "state": {
       "description_width": "initial"
      }
     },
     "f64da3cc9b404feb923ae9e842db9d16": {
      "model_module": "@jupyter-widgets/base",
      "model_module_version": "1.2.0",
      "model_name": "LayoutModel",
      "state": {}
     },
     "f6617614d72a4e07848fde8a6507ac4b": {
      "model_module": "@jupyter-widgets/controls",
      "model_module_version": "1.5.0",
      "model_name": "FloatProgressModel",
      "state": {
       "bar_style": "success",
       "description": "[2] 12/15(val  ): 100%",
       "layout": "IPY_MODEL_56a4f10ba044437f903668c6719de111",
       "max": 165,
       "style": "IPY_MODEL_6754cb61db244f6481f5e5857991e0c9",
       "value": 165
      }
     },
     "f681539ea2c442c58b2b9cac6cff15e7": {
      "model_module": "@jupyter-widgets/base",
      "model_module_version": "1.2.0",
      "model_name": "LayoutModel",
      "state": {}
     },
     "f68c4e466690404bbc349631681df9f4": {
      "model_module": "@jupyter-widgets/controls",
      "model_module_version": "1.5.0",
      "model_name": "ProgressStyleModel",
      "state": {
       "description_width": "initial"
      }
     },
     "f6a0e7707a0b48aa89d3a6cfb9538b13": {
      "model_module": "@jupyter-widgets/controls",
      "model_module_version": "1.5.0",
      "model_name": "HBoxModel",
      "state": {
       "children": [
        "IPY_MODEL_5e65f0b10b744a488b81b0c9b01546c4",
        "IPY_MODEL_6e12f5f4f1b34d23a11f967e7fdd7a12"
       ],
       "layout": "IPY_MODEL_7fed5b8a0aad4ec39b12928a7cc60fd9"
      }
     },
     "f6ec86695b894159b454ae3f57079614": {
      "model_module": "@jupyter-widgets/base",
      "model_module_version": "1.2.0",
      "model_name": "LayoutModel",
      "state": {}
     },
     "f7017a1cfc4f467bbeb8f739db5903d7": {
      "model_module": "@jupyter-widgets/base",
      "model_module_version": "1.2.0",
      "model_name": "LayoutModel",
      "state": {}
     },
     "f71ec644a8ac47bd951dd82d46f6e815": {
      "model_module": "@jupyter-widgets/base",
      "model_module_version": "1.2.0",
      "model_name": "LayoutModel",
      "state": {}
     },
     "f72c1554481a4f119a41037528759ff9": {
      "model_module": "@jupyter-widgets/controls",
      "model_module_version": "1.5.0",
      "model_name": "DescriptionStyleModel",
      "state": {
       "description_width": ""
      }
     },
     "f7a0250a4b36415187f0801c5137e25d": {
      "model_module": "@jupyter-widgets/controls",
      "model_module_version": "1.5.0",
      "model_name": "HBoxModel",
      "state": {
       "children": [
        "IPY_MODEL_ed224f2c1efa436dbddada03ec26373b",
        "IPY_MODEL_3f9c31631ecc42789866f93a973c7a73"
       ],
       "layout": "IPY_MODEL_9fd4c14381264f23bd1ac03aa5e25364"
      }
     },
     "f7e1b428a97244afb2d918052a38e5c3": {
      "model_module": "@jupyter-widgets/controls",
      "model_module_version": "1.5.0",
      "model_name": "HBoxModel",
      "state": {
       "children": [
        "IPY_MODEL_21dce1536a314fb5b7aebd74b5f4f3e8",
        "IPY_MODEL_ad221f21cb56415492e68b68c48a7516"
       ],
       "layout": "IPY_MODEL_04c49e1f6c3a4ab889b09b7cdcb44788"
      }
     },
     "f7e496863e9d4b4a922af2cd99b8418f": {
      "model_module": "@jupyter-widgets/controls",
      "model_module_version": "1.5.0",
      "model_name": "HTMLModel",
      "state": {
       "layout": "IPY_MODEL_e8c334f35a4b429b808f5ac9a7590b4d",
       "style": "IPY_MODEL_ea546ff2091341a29e2550ec0cc308b4",
       "value": " 1/1 [00:00&lt;00:00,  1.30it/s]"
      }
     },
     "f8254902313b4ce099058f32aa12a550": {
      "model_module": "@jupyter-widgets/controls",
      "model_module_version": "1.5.0",
      "model_name": "FloatProgressModel",
      "state": {
       "bar_style": "success",
       "description": "[3] 10/15(train): 100%",
       "layout": "IPY_MODEL_82a8f2e5d70d4117b004724ad5917d2c",
       "max": 493,
       "style": "IPY_MODEL_1441ea3dabcd42d6940f03b1ae6db3a8",
       "value": 493
      }
     },
     "f84514697c24433d8f0cc9853ca147f5": {
      "model_module": "@jupyter-widgets/base",
      "model_module_version": "1.2.0",
      "model_name": "LayoutModel",
      "state": {}
     },
     "f855e7ae965f494ea038139c06c64a82": {
      "model_module": "@jupyter-widgets/controls",
      "model_module_version": "1.5.0",
      "model_name": "DescriptionStyleModel",
      "state": {
       "description_width": ""
      }
     },
     "f8710ae55b0e4daea88e799c5124edcc": {
      "model_module": "@jupyter-widgets/base",
      "model_module_version": "1.2.0",
      "model_name": "LayoutModel",
      "state": {}
     },
     "f88dbdf03e424005972bb0affd6f0f90": {
      "model_module": "@jupyter-widgets/controls",
      "model_module_version": "1.5.0",
      "model_name": "HTMLModel",
      "state": {
       "layout": "IPY_MODEL_87966e9f17124e3baf9b4f851c862630",
       "style": "IPY_MODEL_743e634a353c47d29f35ab93bb3f1e30",
       "value": " 493/493 [21:30&lt;00:00,  2.62s/it]"
      }
     },
     "f896e764c61a4662886d3995407e4c52": {
      "model_module": "@jupyter-widgets/base",
      "model_module_version": "1.2.0",
      "model_name": "LayoutModel",
      "state": {}
     },
     "f8a51f3574e349729083650a9607a672": {
      "model_module": "@jupyter-widgets/controls",
      "model_module_version": "1.5.0",
      "model_name": "DescriptionStyleModel",
      "state": {
       "description_width": ""
      }
     },
     "f8dd3a1e81c040b2aa14ee3577cc07e0": {
      "model_module": "@jupyter-widgets/base",
      "model_module_version": "1.2.0",
      "model_name": "LayoutModel",
      "state": {}
     },
     "f8e2d5306d004f07a0e2d60fe83d294f": {
      "model_module": "@jupyter-widgets/controls",
      "model_module_version": "1.5.0",
      "model_name": "HTMLModel",
      "state": {
       "layout": "IPY_MODEL_d0261e4d129b49a78e944cbdb6b3793e",
       "style": "IPY_MODEL_c85038286c624a3493dabebdc8b2fa92",
       "value": " 493/493 [1:48:31&lt;00:00, 13.21s/it]"
      }
     },
     "f8e38dad61814c54b8d91cc1e85e435b": {
      "model_module": "@jupyter-widgets/controls",
      "model_module_version": "1.5.0",
      "model_name": "ProgressStyleModel",
      "state": {
       "description_width": "initial"
      }
     },
     "f8e6c3d48c1143439a766bbcc7c6044f": {
      "model_module": "@jupyter-widgets/controls",
      "model_module_version": "1.5.0",
      "model_name": "HTMLModel",
      "state": {
       "layout": "IPY_MODEL_727ca475a44d4377895296f44dcd169e",
       "style": "IPY_MODEL_3ba6f20a891e406daa9e9f86cb6f3887",
       "value": " 493/493 [21:34&lt;00:00,  2.63s/it]"
      }
     },
     "f8eee3e0c2ea4acb9c1c3d13311ce8fb": {
      "model_module": "@jupyter-widgets/base",
      "model_module_version": "1.2.0",
      "model_name": "LayoutModel",
      "state": {}
     },
     "f8fb01bb4ed84b78b79153e1fd1d471b": {
      "model_module": "@jupyter-widgets/controls",
      "model_module_version": "1.5.0",
      "model_name": "DescriptionStyleModel",
      "state": {
       "description_width": ""
      }
     },
     "f90758d4a6bd4827b0e01d77aad2f431": {
      "model_module": "@jupyter-widgets/controls",
      "model_module_version": "1.5.0",
      "model_name": "FloatProgressModel",
      "state": {
       "bar_style": "success",
       "description": "[1] 1/2(train): 100%",
       "layout": "IPY_MODEL_547ad9202ab041aca50d72bfb2d7e38b",
       "max": 3,
       "style": "IPY_MODEL_39e89b2b7df649ff874d021b9c50650e",
       "value": 3
      }
     },
     "f9094418e76e4a5897bf681c57952390": {
      "model_module": "@jupyter-widgets/base",
      "model_module_version": "1.2.0",
      "model_name": "LayoutModel",
      "state": {}
     },
     "f91119e8f4724762a778936a659245a4": {
      "model_module": "@jupyter-widgets/controls",
      "model_module_version": "1.5.0",
      "model_name": "FloatProgressModel",
      "state": {
       "bar_style": "success",
       "description": "[2] 2/2(val  ): 100%",
       "layout": "IPY_MODEL_e400ef788e214ff6b31571e030f725ab",
       "max": 1,
       "style": "IPY_MODEL_726141753e7c4a85ae15d530e0c03b7c",
       "value": 1
      }
     },
     "f94088b299374615a919fba95ed15878": {
      "model_module": "@jupyter-widgets/controls",
      "model_module_version": "1.5.0",
      "model_name": "HBoxModel",
      "state": {
       "children": [
        "IPY_MODEL_867c03fba8d14f129c743db572923a4b",
        "IPY_MODEL_0695f6c38cdc457c99fbc078c47ed8d6"
       ],
       "layout": "IPY_MODEL_7d92429548bd4a93af4ac90fc4459515"
      }
     },
     "f9432dbcbae940dc8b791cff30f92a2a": {
      "model_module": "@jupyter-widgets/controls",
      "model_module_version": "1.5.0",
      "model_name": "FloatProgressModel",
      "state": {
       "bar_style": "success",
       "description": "[0] 7/15(train): 100%",
       "layout": "IPY_MODEL_22c0e678e8784cbc915f930ea7fd557e",
       "max": 3,
       "style": "IPY_MODEL_c98b88a6d1814f3aa7377da74f8dcb2c",
       "value": 3
      }
     },
     "f94fcd1224d14bc78b43b6762672a355": {
      "model_module": "@jupyter-widgets/controls",
      "model_module_version": "1.5.0",
      "model_name": "FloatProgressModel",
      "state": {
       "bar_style": "success",
       "description": "[0] 2/2(val  ): 100%",
       "layout": "IPY_MODEL_b17cca6e6f224f72a7032e049563ac37",
       "max": 1,
       "style": "IPY_MODEL_97a259713f034151ac8046735129a109",
       "value": 1
      }
     },
     "f9511e08d9f24c3583ee6a3e41057031": {
      "model_module": "@jupyter-widgets/base",
      "model_module_version": "1.2.0",
      "model_name": "LayoutModel",
      "state": {}
     },
     "f969cdd06d7d4d12acd724736e4b7b4c": {
      "model_module": "@jupyter-widgets/controls",
      "model_module_version": "1.5.0",
      "model_name": "FloatProgressModel",
      "state": {
       "bar_style": "success",
       "description": "[2] 3/16(val  ): 100%",
       "layout": "IPY_MODEL_4395fad6f00d40ccab6df1893b65b3c2",
       "max": 165,
       "style": "IPY_MODEL_a445c45f93da4948b8c08c3d131ab7a8",
       "value": 165
      }
     },
     "f96d19f59c38456b95ab2803ce3bb929": {
      "model_module": "@jupyter-widgets/base",
      "model_module_version": "1.2.0",
      "model_name": "LayoutModel",
      "state": {}
     },
     "f987b7bf843d46959531c6b0f8d6f901": {
      "model_module": "@jupyter-widgets/controls",
      "model_module_version": "1.5.0",
      "model_name": "ProgressStyleModel",
      "state": {
       "description_width": "initial"
      }
     },
     "f99eb1086925481692856241aa9b88e4": {
      "model_module": "@jupyter-widgets/controls",
      "model_module_version": "1.5.0",
      "model_name": "HBoxModel",
      "state": {
       "children": [
        "IPY_MODEL_6a6132d95f2d444abfb1c4e199220167",
        "IPY_MODEL_490ed9ea9dc64756a6bb5c41c8b9cabf"
       ],
       "layout": "IPY_MODEL_74c5ad9a68cb441ea156ab51397cfa26"
      }
     },
     "f9ba3d35ef83469fb8a29b64df764e7a": {
      "model_module": "@jupyter-widgets/base",
      "model_module_version": "1.2.0",
      "model_name": "LayoutModel",
      "state": {}
     },
     "f9bc65b8bb12425b817de67da564550d": {
      "model_module": "@jupyter-widgets/base",
      "model_module_version": "1.2.0",
      "model_name": "LayoutModel",
      "state": {}
     },
     "f9c757e5a6ef4c9eaa371c539a448ef7": {
      "model_module": "@jupyter-widgets/controls",
      "model_module_version": "1.5.0",
      "model_name": "DescriptionStyleModel",
      "state": {
       "description_width": ""
      }
     },
     "f9d81ae74bfc49e0ad3bbd9e7e868072": {
      "model_module": "@jupyter-widgets/controls",
      "model_module_version": "1.5.0",
      "model_name": "DescriptionStyleModel",
      "state": {
       "description_width": ""
      }
     },
     "fa0d8cf5271946b090c5db8171d31307": {
      "model_module": "@jupyter-widgets/controls",
      "model_module_version": "1.5.0",
      "model_name": "HBoxModel",
      "state": {
       "children": [
        "IPY_MODEL_b239b5c02fd4459ca6910181b7315db4",
        "IPY_MODEL_820b4d5ac97c4951a310fc02c4a76e10"
       ],
       "layout": "IPY_MODEL_0d6828cb7b70488082fdbe7e72d1f712"
      }
     },
     "fa17c3c9f0e2448d9c6f0a380216e13d": {
      "model_module": "@jupyter-widgets/controls",
      "model_module_version": "1.5.0",
      "model_name": "HTMLModel",
      "state": {
       "layout": "IPY_MODEL_827e99ce25ef40a1a2cdbe2e120f35fd",
       "style": "IPY_MODEL_f8fb01bb4ed84b78b79153e1fd1d471b",
       "value": " 3/3 [00:07&lt;00:00,  2.40s/it]"
      }
     },
     "fa26f33def6143c78aa9711d0dbc1f7f": {
      "model_module": "@jupyter-widgets/controls",
      "model_module_version": "1.5.0",
      "model_name": "ProgressStyleModel",
      "state": {
       "description_width": "initial"
      }
     },
     "fa45013089e4490e87ff9b0024d8e37b": {
      "model_module": "@jupyter-widgets/controls",
      "model_module_version": "1.5.0",
      "model_name": "HBoxModel",
      "state": {
       "children": [
        "IPY_MODEL_f234f4ea564644a49bed8803eb69a87d",
        "IPY_MODEL_4b1c258f76c740158cff976b86ac49a0"
       ],
       "layout": "IPY_MODEL_68779e05e31449d3af33b859c88e7340"
      }
     },
     "fa645dea96544fc0a4faedc919811e8e": {
      "model_module": "@jupyter-widgets/controls",
      "model_module_version": "1.5.0",
      "model_name": "ProgressStyleModel",
      "state": {
       "description_width": "initial"
      }
     },
     "fa648194fcbf453db6ff955ab0e83d9c": {
      "model_module": "@jupyter-widgets/controls",
      "model_module_version": "1.5.0",
      "model_name": "ProgressStyleModel",
      "state": {
       "description_width": "initial"
      }
     },
     "fa6f1cebe47b4b25a5d5d52657639b31": {
      "model_module": "@jupyter-widgets/base",
      "model_module_version": "1.2.0",
      "model_name": "LayoutModel",
      "state": {}
     },
     "fa7d0cc3bc6440298f998d9e4de28514": {
      "model_module": "@jupyter-widgets/base",
      "model_module_version": "1.2.0",
      "model_name": "LayoutModel",
      "state": {}
     },
     "fa7eaad5336a405b9725f93d63fe4701": {
      "model_module": "@jupyter-widgets/base",
      "model_module_version": "1.2.0",
      "model_name": "LayoutModel",
      "state": {}
     },
     "fa8f292be485435fbe505ba623f76962": {
      "model_module": "@jupyter-widgets/base",
      "model_module_version": "1.2.0",
      "model_name": "LayoutModel",
      "state": {}
     },
     "fab732f1978048ad8310913c27a7d7b6": {
      "model_module": "@jupyter-widgets/controls",
      "model_module_version": "1.5.0",
      "model_name": "FloatProgressModel",
      "state": {
       "bar_style": "success",
       "description": "[0] 9/15(train): 100%",
       "layout": "IPY_MODEL_19215a9b21e44bb5a97906bf4838ea33",
       "max": 3,
       "style": "IPY_MODEL_e85140c1056b47db83cb759bdbc7293e",
       "value": 3
      }
     },
     "fad1f6b01c1743db92e5e139891b2854": {
      "model_module": "@jupyter-widgets/base",
      "model_module_version": "1.2.0",
      "model_name": "LayoutModel",
      "state": {}
     },
     "fb02c161e2414b4aa7c3ce211c327170": {
      "model_module": "@jupyter-widgets/base",
      "model_module_version": "1.2.0",
      "model_name": "LayoutModel",
      "state": {}
     },
     "fb107078a4d7455a9f677610151fe6a8": {
      "model_module": "@jupyter-widgets/controls",
      "model_module_version": "1.5.0",
      "model_name": "FloatProgressModel",
      "state": {
       "bar_style": "success",
       "description": "[0] 9/16(train): 100%",
       "layout": "IPY_MODEL_057efc46cfd64765aedd6d82a12a57cb",
       "max": 493,
       "style": "IPY_MODEL_0f72e8e4e5fd491db9ff2532d9e84409",
       "value": 493
      }
     },
     "fb141eb047414fb88da941e57fa7d0a6": {
      "model_module": "@jupyter-widgets/controls",
      "model_module_version": "1.5.0",
      "model_name": "HTMLModel",
      "state": {
       "layout": "IPY_MODEL_da673e89a8f641df9986349ce25db628",
       "style": "IPY_MODEL_72f7bd4d91bd4b7c8e0f375b20591be6",
       "value": " 493/493 [20:31&lt;00:00,  2.50s/it]"
      }
     },
     "fb347460bab54420b74d8ada07e41dbd": {
      "model_module": "@jupyter-widgets/base",
      "model_module_version": "1.2.0",
      "model_name": "LayoutModel",
      "state": {}
     },
     "fb3866fb6f754b8289ebb5e26a074665": {
      "model_module": "@jupyter-widgets/controls",
      "model_module_version": "1.5.0",
      "model_name": "FloatProgressModel",
      "state": {
       "bar_style": "success",
       "description": "[3] 1/2(val  ): 100%",
       "layout": "IPY_MODEL_bdf41a83458b4087b3c8e800fab4fddc",
       "max": 1,
       "style": "IPY_MODEL_72887f5534cc4c589bd4d71403d33e27",
       "value": 1
      }
     },
     "fb6834e7e2224f228aaada367284875f": {
      "model_module": "@jupyter-widgets/controls",
      "model_module_version": "1.5.0",
      "model_name": "HBoxModel",
      "state": {
       "children": [
        "IPY_MODEL_5cdaaf0a589d49fd9019f529d2905942",
        "IPY_MODEL_1e92dbac16de4a6ebc4b73419cd34b35"
       ],
       "layout": "IPY_MODEL_2985aa665dfc47238f08b0752984643b"
      }
     },
     "fb73603cf0ea462781e9dc01900f1dab": {
      "model_module": "@jupyter-widgets/base",
      "model_module_version": "1.2.0",
      "model_name": "LayoutModel",
      "state": {}
     },
     "fb855910bc0c4e4a9bb6c8ae89c3d1dd": {
      "model_module": "@jupyter-widgets/base",
      "model_module_version": "1.2.0",
      "model_name": "LayoutModel",
      "state": {}
     },
     "fb86eeec5aba4657af9d55e310b8ad16": {
      "model_module": "@jupyter-widgets/base",
      "model_module_version": "1.2.0",
      "model_name": "LayoutModel",
      "state": {}
     },
     "fb92c43187b84afdb061849710e29264": {
      "model_module": "@jupyter-widgets/controls",
      "model_module_version": "1.5.0",
      "model_name": "FloatProgressModel",
      "state": {
       "bar_style": "success",
       "description": "[0] 1/15(val  ): 100%",
       "layout": "IPY_MODEL_9230036a075e426699b967a7dc2f5291",
       "max": 1,
       "style": "IPY_MODEL_7d96568b23414ff399f6d62deb39fecc",
       "value": 1
      }
     },
     "fbcefc84a4d847299a15fb3d086ef1f6": {
      "model_module": "@jupyter-widgets/controls",
      "model_module_version": "1.5.0",
      "model_name": "HTMLModel",
      "state": {
       "layout": "IPY_MODEL_d7df22931e954c0080001afd237fd3b2",
       "style": "IPY_MODEL_2a8efcdee5fa4130bbe5b894a532d1c0",
       "value": " 493/493 [46:05&lt;00:00,  5.61s/it]"
      }
     },
     "fbf0a31d662e4890b1f8cbd0b60ba1d3": {
      "model_module": "@jupyter-widgets/controls",
      "model_module_version": "1.5.0",
      "model_name": "ProgressStyleModel",
      "state": {
       "description_width": "initial"
      }
     },
     "fc315f4a3e1140ebb7440fe2402b7d78": {
      "model_module": "@jupyter-widgets/controls",
      "model_module_version": "1.5.0",
      "model_name": "DescriptionStyleModel",
      "state": {
       "description_width": ""
      }
     },
     "fc48f55830e641dfbd3d5a23809e4757": {
      "model_module": "@jupyter-widgets/controls",
      "model_module_version": "1.5.0",
      "model_name": "FloatProgressModel",
      "state": {
       "bar_style": "success",
       "description": "[3] 11/16(train): 100%",
       "layout": "IPY_MODEL_dba791646dbd492ca969e62282153a61",
       "max": 493,
       "style": "IPY_MODEL_b3e3185c0de64296815ce5c2931ff5d9",
       "value": 493
      }
     },
     "fc829f64933a4cc09c7e90d04b27c83d": {
      "model_module": "@jupyter-widgets/controls",
      "model_module_version": "1.5.0",
      "model_name": "ProgressStyleModel",
      "state": {
       "description_width": "initial"
      }
     },
     "fca32a7adc8542948317161923296841": {
      "model_module": "@jupyter-widgets/controls",
      "model_module_version": "1.5.0",
      "model_name": "ProgressStyleModel",
      "state": {
       "description_width": "initial"
      }
     },
     "fcb3c736426149919726b78f2c4bba4c": {
      "model_module": "@jupyter-widgets/controls",
      "model_module_version": "1.5.0",
      "model_name": "HBoxModel",
      "state": {
       "children": [
        "IPY_MODEL_24ee4978b0c04c949cbe577cf42fe41a",
        "IPY_MODEL_42ba60ef484f44b08560b053d697e9d0"
       ],
       "layout": "IPY_MODEL_5415eb0fafab4afb82d50bf78bae6359"
      }
     },
     "fcce48e8ac0a4d509ee8134b13b18175": {
      "model_module": "@jupyter-widgets/controls",
      "model_module_version": "1.5.0",
      "model_name": "HTMLModel",
      "state": {
       "layout": "IPY_MODEL_8ea065a9fe1c4f2fb8c904d68f2f2b83",
       "style": "IPY_MODEL_2f3933fc79eb4e5190322248484b00be",
       "value": " 493/493 [3:58:12&lt;00:00, 28.99s/it]"
      }
     },
     "fd0606a1d11b4fe689c50361ff119b5b": {
      "model_module": "@jupyter-widgets/controls",
      "model_module_version": "1.5.0",
      "model_name": "DescriptionStyleModel",
      "state": {
       "description_width": ""
      }
     },
     "fd113c2751c846b18eff85b89b2a03e4": {
      "model_module": "@jupyter-widgets/base",
      "model_module_version": "1.2.0",
      "model_name": "LayoutModel",
      "state": {}
     },
     "fd30e3e24fcf4bdca1563a3fa3b34797": {
      "model_module": "@jupyter-widgets/base",
      "model_module_version": "1.2.0",
      "model_name": "LayoutModel",
      "state": {}
     },
     "fd36235eaa884cf2b70774d59c66588b": {
      "model_module": "@jupyter-widgets/base",
      "model_module_version": "1.2.0",
      "model_name": "LayoutModel",
      "state": {}
     },
     "fd39f1ffbfc54bec9358aa9119ce8d85": {
      "model_module": "@jupyter-widgets/base",
      "model_module_version": "1.2.0",
      "model_name": "LayoutModel",
      "state": {}
     },
     "fd43353538e14083b8b49bee61fd6c83": {
      "model_module": "@jupyter-widgets/base",
      "model_module_version": "1.2.0",
      "model_name": "LayoutModel",
      "state": {}
     },
     "fd53723ec314456aaa89f70e5173d98a": {
      "model_module": "@jupyter-widgets/controls",
      "model_module_version": "1.5.0",
      "model_name": "ProgressStyleModel",
      "state": {
       "description_width": "initial"
      }
     },
     "fd717bafc81f43e3b9a0b2bd7b96d746": {
      "model_module": "@jupyter-widgets/controls",
      "model_module_version": "1.5.0",
      "model_name": "DescriptionStyleModel",
      "state": {
       "description_width": ""
      }
     },
     "fd77cd7a638040bba48a2e09e540b110": {
      "model_module": "@jupyter-widgets/base",
      "model_module_version": "1.2.0",
      "model_name": "LayoutModel",
      "state": {}
     },
     "fd9886a720654e2d9ecd3ef67f3c4b2e": {
      "model_module": "@jupyter-widgets/controls",
      "model_module_version": "1.5.0",
      "model_name": "HBoxModel",
      "state": {
       "children": [
        "IPY_MODEL_c5a2ac705a90413791e5667daea2a329",
        "IPY_MODEL_75122238df1f4919b07ca1ac6b00bcf2"
       ],
       "layout": "IPY_MODEL_a3ead25236564023a62d61de5be14b72"
      }
     },
     "fd98e8067fa848a9981bbe1758765f92": {
      "model_module": "@jupyter-widgets/controls",
      "model_module_version": "1.5.0",
      "model_name": "ProgressStyleModel",
      "state": {
       "description_width": "initial"
      }
     },
     "fda9f131d18a4b448869700114d04320": {
      "model_module": "@jupyter-widgets/controls",
      "model_module_version": "1.5.0",
      "model_name": "ProgressStyleModel",
      "state": {
       "description_width": "initial"
      }
     },
     "fdedb09989ff456f84ba8d5731335732": {
      "model_module": "@jupyter-widgets/base",
      "model_module_version": "1.2.0",
      "model_name": "LayoutModel",
      "state": {}
     },
     "fe01ae06b5c046b598f4e388bb8b4865": {
      "model_module": "@jupyter-widgets/controls",
      "model_module_version": "1.5.0",
      "model_name": "HBoxModel",
      "state": {
       "children": [
        "IPY_MODEL_ea3dbd06638c4886bfd1e4d498de67e8",
        "IPY_MODEL_905ae71e15914037a4db0a5e1d388840"
       ],
       "layout": "IPY_MODEL_2804165df30246659ab164dcf24fabe8"
      }
     },
     "fe213dfbe7a844a2872a6c60438f92bf": {
      "model_module": "@jupyter-widgets/controls",
      "model_module_version": "1.5.0",
      "model_name": "DescriptionStyleModel",
      "state": {
       "description_width": ""
      }
     },
     "fe426ec50aa740f2a987efd4bb079f03": {
      "model_module": "@jupyter-widgets/controls",
      "model_module_version": "1.5.0",
      "model_name": "HBoxModel",
      "state": {
       "children": [
        "IPY_MODEL_746a82b38e004deb980c669dca45477d",
        "IPY_MODEL_32faff58242a4ae4b600aad2aeb3ab6c"
       ],
       "layout": "IPY_MODEL_ebd2f01470db4e97a90d28ec1e1f768f"
      }
     },
     "fe583c36c23745f98ee5efd86e296c5c": {
      "model_module": "@jupyter-widgets/controls",
      "model_module_version": "1.5.0",
      "model_name": "HTMLModel",
      "state": {
       "layout": "IPY_MODEL_baa5848c984f4de985e07f1cc6e8179c",
       "style": "IPY_MODEL_2db5e1acdeea4a46a9bb6d2695e9916f",
       "value": " 493/493 [23:52&lt;00:00,  2.91s/it]"
      }
     },
     "fe61468dd9f74ba8911006e23efa4e90": {
      "model_module": "@jupyter-widgets/controls",
      "model_module_version": "1.5.0",
      "model_name": "ProgressStyleModel",
      "state": {
       "description_width": "initial"
      }
     },
     "fe7eb0511f15479bac09f78779ceb784": {
      "model_module": "@jupyter-widgets/controls",
      "model_module_version": "1.5.0",
      "model_name": "DescriptionStyleModel",
      "state": {
       "description_width": ""
      }
     },
     "fe9567f9f97245fca3dcc700d1068b3f": {
      "model_module": "@jupyter-widgets/controls",
      "model_module_version": "1.5.0",
      "model_name": "DescriptionStyleModel",
      "state": {
       "description_width": ""
      }
     },
     "fea56a01038341b3b0d0442f2be82bd3": {
      "model_module": "@jupyter-widgets/base",
      "model_module_version": "1.2.0",
      "model_name": "LayoutModel",
      "state": {}
     },
     "feb95ac4cbd2411eb26ad6a7fea102dd": {
      "model_module": "@jupyter-widgets/base",
      "model_module_version": "1.2.0",
      "model_name": "LayoutModel",
      "state": {}
     },
     "fed258aa91c84266acdaa546576ba105": {
      "model_module": "@jupyter-widgets/controls",
      "model_module_version": "1.5.0",
      "model_name": "DescriptionStyleModel",
      "state": {
       "description_width": ""
      }
     },
     "fed8953d63614f1fa0ad4a351d98e4e1": {
      "model_module": "@jupyter-widgets/base",
      "model_module_version": "1.2.0",
      "model_name": "LayoutModel",
      "state": {}
     },
     "ff11c92d04bf4c3e96931e08f34d539f": {
      "model_module": "@jupyter-widgets/controls",
      "model_module_version": "1.5.0",
      "model_name": "FloatProgressModel",
      "state": {
       "bar_style": "success",
       "description": "100%",
       "layout": "IPY_MODEL_9b1351d31d3a4f64a020fe8480155717",
       "max": 165,
       "style": "IPY_MODEL_f4492b4425e446a294d19b37dd89e964",
       "value": 165
      }
     },
     "ff48131986004299b4358b5e8946eb3b": {
      "model_module": "@jupyter-widgets/controls",
      "model_module_version": "1.5.0",
      "model_name": "ProgressStyleModel",
      "state": {
       "description_width": "initial"
      }
     },
     "ff4d1e73758e47d2920c3a13175d58f3": {
      "model_module": "@jupyter-widgets/controls",
      "model_module_version": "1.5.0",
      "model_name": "ProgressStyleModel",
      "state": {
       "description_width": "initial"
      }
     },
     "ff7bdb8099ac49c5a67d5c24f0e4cb32": {
      "model_module": "@jupyter-widgets/base",
      "model_module_version": "1.2.0",
      "model_name": "LayoutModel",
      "state": {}
     },
     "ffa62d3e629640679e4df938392d1c09": {
      "model_module": "@jupyter-widgets/controls",
      "model_module_version": "1.5.0",
      "model_name": "HTMLModel",
      "state": {
       "layout": "IPY_MODEL_6cb27813a8cf40b0904c7de28b063e26",
       "style": "IPY_MODEL_2ea1799e77154b3db483af56850b4878",
       "value": " 165/165 [3:35:55&lt;00:00, 78.52s/it]"
      }
     },
     "ffaca9599fc14d8eb4699f47cc1621ba": {
      "model_module": "@jupyter-widgets/base",
      "model_module_version": "1.2.0",
      "model_name": "LayoutModel",
      "state": {}
     },
     "ffd5c308767046adbad50e237f0caa9f": {
      "model_module": "@jupyter-widgets/controls",
      "model_module_version": "1.5.0",
      "model_name": "HBoxModel",
      "state": {
       "children": [
        "IPY_MODEL_069c22dc89eb42d7899eaddd5d47c557",
        "IPY_MODEL_1d16467c35c54b56bf68188c3149ed14"
       ],
       "layout": "IPY_MODEL_9e6cf37c30064701a51bda6a0a33a436"
      }
     },
     "ffe1e4a2608440d2bc3e116cd7a1d63c": {
      "model_module": "@jupyter-widgets/controls",
      "model_module_version": "1.5.0",
      "model_name": "HTMLModel",
      "state": {
       "layout": "IPY_MODEL_f5dfdff28da046e0bb5d7eac09b345ee",
       "style": "IPY_MODEL_f42ef74b4ddc48e8be0fb2b05e8eba38",
       "value": " 165/165 [01:12&lt;00:00,  2.29it/s]"
      }
     }
    },
    "version_major": 2,
    "version_minor": 0
   }
  }
 },
 "nbformat": 4,
 "nbformat_minor": 4
}
