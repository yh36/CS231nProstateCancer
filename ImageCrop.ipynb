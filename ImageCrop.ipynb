{
 "cells": [
  {
   "cell_type": "markdown",
   "metadata": {},
   "source": [
    "# Please Create Your Own Copy"
   ]
  },
  {
   "cell_type": "raw",
   "metadata": {},
   "source": [
    "https://www.kaggle.com/iafoss/panda-16x128x128-tiles\n",
    "https://www.kaggle.com/iafoss/panda-concat-tile-pooling-starter-0-79-lb"
   ]
  },
  {
   "cell_type": "code",
   "execution_count": 1,
   "metadata": {},
   "outputs": [],
   "source": [
    "import pandas as pd\n",
    "import numpy as np\n",
    "\n",
    "# https://docs.python.org/3/library/os.path.html\n",
    "import os\n",
    "# https://scikit-image.org/docs/0.7.0/api/skimage.io.html\n",
    "import skimage.io\n",
    "# https://docs.opencv.org/2.4/modules/imgproc/doc/geometric_transformations.html#resize\n",
    "import cv2\n",
    "\n",
    "from PIL import Image\n",
    "\n",
    "import matplotlib.pyplot as plt\n",
    "\n",
    "# https://github.com/albumentations-team/albumentations\n",
    "#import albumentations"
   ]
  },
  {
   "cell_type": "code",
   "execution_count": 2,
   "metadata": {},
   "outputs": [],
   "source": [
    "CROP_EN = False\n",
    "CROP_SZ = 128\n",
    "CROP_NUM = 16\n",
    "\n",
    "# Paths\n",
    "BASE_PATH = '/project/data'\n",
    "\n",
    "image_dir = f'{BASE_PATH}/train_images'\n",
    "mask_dir = f'{BASE_PATH}/train_label_masks'\n",
    "\n",
    "cropped_dir = '/project/yi_data/train_crop_128'"
   ]
  },
  {
   "cell_type": "code",
   "execution_count": 3,
   "metadata": {},
   "outputs": [],
   "source": [
    "# Load train dataframes\n",
    "train_df = pd.read_csv('train_512.csv')"
   ]
  },
  {
   "cell_type": "code",
   "execution_count": 4,
   "metadata": {},
   "outputs": [],
   "source": [
    "def crop_transform(img_id):\n",
    "    # Load image and mask\n",
    "    img_path = os.path.join(image_dir, f'{img_id}.tiff')\n",
    "    img = skimage.io.MultiImage(img_path)[-1]\n",
    "    msk_path = os.path.join(mask_dir, f'{img_id}_mask.tiff')\n",
    "    msk = skimage.io.MultiImage(msk_path)\n",
    "    has_msk = False if len(msk) == 0 else True\n",
    "    \n",
    "    # Calculate padding of image spatial size\n",
    "    pad_h = (CROP_SZ - img.shape[0]%CROP_SZ) % CROP_SZ\n",
    "    pad_w = (CROP_SZ - img.shape[1]%CROP_SZ) % CROP_SZ\n",
    "    #print(f'Pad size {pad_h}, {pad_w}')\n",
    "    \n",
    "    # Pad white color to the image\n",
    "    img = np.pad(img, [(pad_h//2,pad_h-pad_h//2), (pad_w//2,pad_w-pad_w//2), (0,0)], constant_values=255)\n",
    "    #plt.imshow(img)\n",
    "    # Slice image to a list of desired patch size\n",
    "    img = img.reshape(img.shape[0]//CROP_SZ, CROP_SZ, img.shape[1]//CROP_SZ, CROP_SZ, 3)\n",
    "    img = img.transpose(0,2,1,3,4).reshape(-1,CROP_SZ,CROP_SZ,3)\n",
    "    \n",
    "    if has_msk:\n",
    "        msk = msk[-1]\n",
    "        # Pad black color to the mask\n",
    "        msk = np.pad(msk, [(pad_h//2,pad_h-pad_h//2), (pad_w//2,pad_w-pad_w//2), (0,0)], constant_values=0)\n",
    "        # Slice mask to a list of desired patch size\n",
    "        msk = msk.reshape(msk.shape[0]//CROP_SZ, CROP_SZ, msk.shape[1]//CROP_SZ, CROP_SZ, 3)\n",
    "        msk = msk.transpose(0,2,1,3,4).reshape(-1, CROP_SZ, CROP_SZ, 3)        \n",
    "        \n",
    "    if len(img) < CROP_NUM:\n",
    "        img = np.pad(img, [(0, CROP_NUM-len(img)),(0,0),(0,0),(0,0)], constant_values=255)\n",
    "        if has_msk:\n",
    "            msk = np.pad(msk, [(0, CROP_NUM-len(msk)),(0,0),(0,0),(0,0)], constant_values=0)\n",
    "            assert len(img)==len(msk)\n",
    "    # Sort patches according to the percentage of biopsy\n",
    "    img_idxs = np.argsort(img.reshape(img.shape[0],-1).sum(axis=-1))\n",
    "    #msk_idxs = np.argsort(msk.reshape(msk.shape[0],-1).sum(axis=-1))\n",
    "    #plt.imshow(msk[img_idxs[0]][:,:,0])\n",
    "    \n",
    "    res = []\n",
    "    for i in range(CROP_NUM):\n",
    "        res.append({'index': i, 'image': img[img_idxs[i]], 'mask': None})\n",
    "    return res"
   ]
  },
  {
   "cell_type": "code",
   "execution_count": 5,
   "metadata": {},
   "outputs": [],
   "source": [
    "if CROP_EN:\n",
    "    patch_color_mean = []\n",
    "    patch_color_square = []\n",
    "    for img_id in train_df.image_id:\n",
    "        result = crop_transform(img_id)\n",
    "        for res in result:\n",
    "            idx, img, msk = res['index'], res['image'], res['mask']\n",
    "            \"\"\"https://stackoverflow.com/questions/42406338/why-cv2-imwrite-changes-the-color-of-pics\"\"\"\n",
    "            cv2.imwrite(f'{cropped_dir}/{img_id}_{idx}.png', cv2.cvtColor(img, cv2.COLOR_RGB2BGR))\n",
    "            # Use same index from sorted image patches\n",
    "            if msk is not None:\n",
    "                cv2.imwrite(f'{cropped_dir}/{img_id}_mask_{idx}.png', cv2.cvtColor(msk, cv2.COLOR_RGB2BGR))\n",
    "            # Track the statistics for each patch\n",
    "            patch_color_mean.append((img/255.0).reshape(-1,3).mean(0))\n",
    "            patch_color_square.append(((img/255.0)**2).reshape(-1,3).mean(0))\n",
    "    #msk_path = os.path.join(cropped_dir, f'{img_id}_mask_0.png')\n",
    "    #msk = skimage.io.MultiImage(msk_path)[-1]\n",
    "    #plt.imshow(msk[:,:,0])"
   ]
  },
  {
   "cell_type": "code",
   "execution_count": null,
   "metadata": {},
   "outputs": [],
   "source": [
    "img_avg = np.array(patch_color_mean).mean(0)\n",
    "img_std = np.sqrt(np.array(patch_color_square).mean(0) - img_avg**2)\n",
    "print('Mean: ', img_avg)\n",
    "print('Std: ', img_std)"
   ]
  },
  {
   "cell_type": "code",
   "execution_count": 7,
   "metadata": {},
   "outputs": [
    {
     "data": {
      "text/plain": [
       "<matplotlib.image.AxesImage at 0x7f7996af6250>"
      ]
     },
     "execution_count": 7,
     "metadata": {},
     "output_type": "execute_result"
    },
    {
     "data": {
      "image/png": "[encoded data removed]",
      "text/plain": [
       "<Figure size 432x288 with 1 Axes>"
      ]
     },
     "metadata": {
      "needs_background": "light"
     },
     "output_type": "display_data"
    }
   ],
   "source": [
    "plt.imshow(msk[:,:,0])"
   ]
  },
  {
   "cell_type": "raw",
   "metadata": {},
   "source": [
    "img_path = os.path.join(image_dir, f'{train_df.image_id[0]}.tiff')\n",
    "img = skimage.io.MultiImage(img_path)[-1]\n",
    "plt.imshow(img)\n",
    "#print(img[800:810,400:450,0])\n",
    "msk_path = os.path.join(mask_dir, f'{train_df.image_id[0]}_mask.tiff')\n",
    "msk = skimage.io.MultiImage(msk_path)[-1]\n",
    "#print(msk[800:810,400:450,0])\n",
    "#plt.imshow(msk[:,:,0])"
   ]
  },
  {
   "cell_type": "raw",
   "metadata": {},
   "source": [
    "print(f'Original size {img.shape}')\n",
    "pad_h = (CROP_SZ - img.shape[0]%CROP_SZ) % CROP_SZ\n",
    "pad_w = (CROP_SZ - img.shape[1]%CROP_SZ) % CROP_SZ\n",
    "print(f'Pad size {pad_h}, {pad_w}')\n",
    "# Pad white color to the image\n",
    "img = np.pad(img, [(pad_h//2,pad_h//2), (pad_w//2,pad_w//2), (0,0)], constant_values=255)\n",
    "plt.imshow(img)\n",
    "# Pad black color to the mask\n",
    "#msk = np.pad(msk, )\n",
    "img = img.reshape(img.shape[0]//CROP_SZ, CROP_SZ, img.shape[1]//CROP_SZ, CROP_SZ, 3)\n",
    "img = img.transpose(0,2,1,3,4).reshape(-1,CROP_SZ,CROP_SZ,3)"
   ]
  },
  {
   "cell_type": "raw",
   "metadata": {},
   "source": [
    "print(img.shape)\n",
    "#print(type(img))\n",
    "idxs = np.argsort(img.reshape(img.shape[0],-1).sum(axis=-1))\n",
    "print(idxs)\n",
    "plt.imshow(img[idxs[0]])"
   ]
  },
  {
   "cell_type": "raw",
   "metadata": {},
   "source": [
    "msk = np.pad(msk, [(pad_h//2,pad_h//2), (pad_w//2,pad_w//2), (0,0)], constant_values=0)\n",
    "plt.imshow(msk[:,:,0])"
   ]
  },
  {
   "cell_type": "raw",
   "metadata": {},
   "source": [
    "print(msk.shape)\n",
    "msk = msk.reshape(msk.shape[0]//CROP_SZ, CROP_SZ, msk.shape[1]//CROP_SZ, CROP_SZ, 3)\n",
    "msk = msk.transpose(0,2,1,3,4).reshape(-1, CROP_SZ, CROP_SZ, 3)\n",
    "msk_idxs = np.argsort(msk.reshape(msk.shape[0],-1).sum(axis=1))"
   ]
  },
  {
   "cell_type": "code",
   "execution_count": 21,
   "metadata": {},
   "outputs": [
    {
     "name": "stdout",
     "output_type": "stream",
     "text": [
      "[41 42 21 22 23 24 25 35 38 29 30 31 44 43 37 28 17 18 15 51  2  3  4  5\n",
      " 50 16 36  9 10 11 12 49 48  8  6 45 19  0 47 34 27 53 32 52 14  1 13 26\n",
      " 39 20 40  7 46 33]\n"
     ]
    },
    {
     "data": {
      "text/plain": [
       "<matplotlib.image.AxesImage at 0x7f78f8b3f590>"
      ]
     },
     "execution_count": 21,
     "metadata": {},
     "output_type": "execute_result"
    },
    {
     "data": {
      "image/png": "[encoded data removed]",
      "text/plain": [
       "<Figure size 432x288 with 1 Axes>"
      ]
     },
     "metadata": {
      "needs_background": "light"
     },
     "output_type": "display_data"
    }
   ],
   "source": [
    "print(msk_idxs)\n",
    "plt.imshow(msk[msk_idxs[-1]][:,:,0])"
   ]
  },
  {
   "cell_type": "code",
   "execution_count": 23,
   "metadata": {},
   "outputs": [
    {
     "data": {
      "text/plain": [
       "True"
      ]
     },
     "execution_count": 23,
     "metadata": {},
     "output_type": "execute_result"
    }
   ],
   "source": [
    "cv2.imwrite(f'{cropped_dir}/{train_df.image_id[0]}_0.png', img[idxs[0]])\n",
    "cv2.imwrite(f'{cropped_dir}/{train_df.image_id[0]}_mask_0.png', msk[msk_idxs[-1]])"
   ]
  },
  {
   "cell_type": "raw",
   "metadata": {},
   "source": [
    "from platform import python_version\n",
    "\n",
    "print(python_version())"
   ]
  }
 ],
 "metadata": {
  "kernelspec": {
   "display_name": "Python 3",
   "language": "python",
   "name": "python3"
  },
  "language_info": {
   "codemirror_mode": {
    "name": "ipython",
    "version": 3
   },
   "file_extension": ".py",
   "mimetype": "text/x-python",
   "name": "python",
   "nbconvert_exporter": "python",
   "pygments_lexer": "ipython3",
   "version": "3.7.4"
  }
 },
 "nbformat": 4,
 "nbformat_minor": 4
}
